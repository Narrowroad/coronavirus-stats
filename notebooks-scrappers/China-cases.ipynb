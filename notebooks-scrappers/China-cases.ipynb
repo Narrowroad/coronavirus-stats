{
 "cells": [
  {
   "cell_type": "code",
   "execution_count": 1,
   "metadata": {},
   "outputs": [],
   "source": [
    "import pandas as pd\n",
    "import requests\n",
    "from bs4 import BeautifulSoup\n",
    "import re\n",
    "from datetime import datetime\n",
    "from selenium import webdriver\n",
    "from selenium.webdriver.chrome.options import Options  \n"
   ]
  },
  {
   "cell_type": "code",
   "execution_count": 2,
   "metadata": {},
   "outputs": [
    {
     "data": {
      "text/plain": [
       "datetime.datetime(2020, 4, 4, 11, 9, 8, 299139)"
      ]
     },
     "execution_count": 2,
     "metadata": {},
     "output_type": "execute_result"
    }
   ],
   "source": [
    "datetime.now()"
   ]
  },
  {
   "cell_type": "code",
   "execution_count": 3,
   "metadata": {},
   "outputs": [],
   "source": [
    "chrome_options = Options()  \n",
    "chrome_options.add_argument(\"--headless\")  \n",
    "chrome_options.add_argument(\"--no-sandbox\")\n",
    "\n",
    "driver = webdriver.Chrome('chromedriver', options=chrome_options)"
   ]
  },
  {
   "cell_type": "code",
   "execution_count": 4,
   "metadata": {},
   "outputs": [],
   "source": [
    "url = 'https://ncov.dxy.cn/ncovh5/view/pneumonia'\n",
    "driver.get(url)"
   ]
  },
  {
   "cell_type": "markdown",
   "metadata": {},
   "source": [
    "### Extract date"
   ]
  },
  {
   "cell_type": "code",
   "execution_count": 5,
   "metadata": {},
   "outputs": [],
   "source": [
    "content = driver.page_source\n",
    "soup =BeautifulSoup(content, 'lxml')\n"
   ]
  },
  {
   "cell_type": "code",
   "execution_count": 6,
   "metadata": {},
   "outputs": [
    {
     "data": {
      "text/plain": [
       "['try { window.getTimelineService1 = [{\"id\":24847,\"pubDate\":1585997695000,\"pubDateStr\":\"2分钟前\",\"title\":\"科威特新增62例新冠肺炎确诊病例 首次出现死亡病例\",\"summary\":\"科威特卫生部当地时间4日下午发布通告，确认境内新增62例新型冠状病毒肺炎确诊病例，首次出现1例死亡病例。通告显示，新增病例中37例为本地感染病例，其中包括33名印度公民和4名埃及公民；另有25名患者的感染途径仍在调查中。至此，科威特境内新冠肺炎累计确诊病例数量已达479例，其中93例已病愈出院，其余患者均在医院接受隔离和治疗，其中17名患者病情较为严重。（总台记者 李超）\",\"infoSource\":\"央视新闻app\",\"sourceUrl\":\"http://app.cctv.com/special/cportal/detail/arti/index.html?id=ArtirckFa6PvDpDg0LPJofUj200404&isfromapp=1\",\"provinceId\":\"\"},{\"id\":24848,\"pubDate\":1585997654000,\"pubDateStr\":\"2分钟前\",\"title\":\"保加利亚新增新冠肺炎确诊病例13例\\xa0累计498例\",\"summary\":\"当地时间4月4日，据索非亚通讯社消息，截止到记者发稿时，保加利亚新增新冠肺炎确诊病例13例，累计498例。为了更有效地控制新冠疫情在保加利亚的蔓延，保加利亚国民议会投票通过将紧急状态延续到5月13日。（总台记者 李冠男）\",\"infoSource\":\"央视新闻app\",\"sourceUrl\":\"http://app.cctv.com/special/cportal/detail/arti/index.html?id=Arti6gvYmuIGBjKHpEJcwlwK200404&isfromapp=1\",\"provinceId\":\"\"},{\"id\":24849,\"pubDate\":1585997623000,\"pubDateStr\":\"3分钟前\",\"title\":\"黎巴嫩新冠肺炎确诊总人数上升至520人\",\"summary\":\"黎巴嫩卫生部官网公布，截至当地时间4日中午新冠肺炎确诊总人数为520人，较前一日增加12人。根据黎卫生部公布，过去24小时内有4名患者被治愈，治愈总人数已达50人。死亡病例仍为17例不变，但确诊患者中危重病例增加至26例，疑似病例目前为509例，另外有1022人处于隔离状态。（总台记者 孙虎）\",\"infoSource\":\"央视新闻app\",\"sourceUrl\":\"http://app.cctv.com/special/cportal/detail/arti/index.html?id=ArtiXjwVlqJVVgPRNmS1K4Eg200404&isfromapp=1\",\"provinceId\":\"\"},{\"id\":24842,\"pubDate\":1585997002000,\"pubDateStr\":\"13分钟前\",\"title\":\"巴林新增16例新冠肺炎确诊病例 累计688例\",\"summary\":\"巴林卫生部当地时间4日下午发布通告，巴林境内累计已发现688例新型冠状病毒肺炎确诊病例，其中399名患者已经治愈出院，4名患者病重不治。\",\"infoSource\":\"央视新闻app\",\"sourceUrl\":\"http://app.cctv.com/special/cportal/detail/arti/index.html?id=ArtiP5rGrrGoAuxSzi7uJAd4200404&isfromapp=1\",\"provinceId\":\"\"},{\"id\":24843,\"pubDate\":1585996910000,\"pubDateStr\":\"15分钟前\",\"title\":\"俄罗斯驻华大使用中文悼念逝者：和中国人民一道默哀\",\"summary\":\"俄罗斯驻华大使用中文悼念逝者：“今天是清明节，俄罗斯人民和中国人民一道沉痛默哀，向英勇牺牲的医务人员致敬。相信病毒必败、生命必胜！”\",\"infoSource\":\"央视新闻app\",\"sourceUrl\":\"http://app.cctv.com/special/cportal/detail/arti/index.html?id=ArtidL1xUpePpqChh8cAuC6S200404&isfromapp=1\",\"provinceId\":\"\"},{\"id\":24838,\"pubDate\":1585995900000,\"pubDateStr\":\"32分钟前\",\"title\":\"\\u200b中国驻德国大使馆下半旗志哀 悼念抗击新冠肺炎疫情斗争牺牲烈士和逝世同胞\",\"summary\":\"当地时间4月4日，中国驻德国大使馆下半旗，向在抗击新冠疫情斗争中牺牲的烈士以及逝世的同胞们表示深切哀悼与缅怀。\",\"infoSource\":\"央视新闻app\",\"sourceUrl\":\"http://app.cctv.com/special/cportal/detail/arti/index.html?id=ArtiOi4cw5tTtX1ZkalOSxAq200404&isfromapp=1\",\"provinceId\":\"\"},{\"id\":24835,\"pubDate\":1585995815000,\"pubDateStr\":\"33分钟前\",\"title\":\"毛里求斯新增10例新冠肺炎确诊病例 累计确诊196例\",\"summary\":\"毛里求斯卫生部于当地时间4月4日发布消息称，毛里求斯新增10例确诊新冠肺炎病例。累计确诊数从原来的186例上升到196例，累计7例死亡，现存确诊189例。（总台记者 顾雪嘉）\",\"infoSource\":\"央视新闻app\",\"sourceUrl\":\"http://app.cctv.com/special/cportal/detail/arti/index.html?id=Artie2noa3LYkE1sQInkBW00200404&isfromapp=1\",\"provinceId\":\"\"},{\"id\":24833,\"pubDate\":1585995438000,\"pubDateStr\":\"39分钟前\",\"title\":\"孟加拉国新增9例新冠肺炎确诊病例 累计70例\",\"summary\":\"根据孟加拉国卫生部4月4日发布的数据，过去24小时内，该国又新增9例新冠肺炎确诊病例，至此累计确诊病例达到70例。这是自孟加拉国于3月8日首次报告确诊病例以来，单日新增病例最多的一天。\\\\n此外，过去24小时内，又有2名确诊患者死亡，造成死亡病例升至8例。目前该国治愈病例达到30例。（总台记者 李琳）\",\"infoSource\":\"央视新闻app\",\"sourceUrl\":\"http://app.cctv.com/special/cportal/detail/arti/index.html?id=ArtiJEMUNEJG2D056B7pUNEO200404&isfromapp=1\",\"provinceId\":\"\"},{\"id\":24818,\"pubDate\":1585993758000,\"pubDateStr\":\"1小时前\",\"title\":\"印尼新冠肺炎确诊患者新增106例 累计2092例\",\"summary\":\"4月4日，印尼卫生部宣布新增106例新冠肺炎确诊病例，全国累计确诊病例2092例，含191例死亡病例。（总台记者 贾建京）\",\"infoSource\":\"央视新闻app\",\"sourceUrl\":\"http://app.cctv.com/special/cportal/detail/arti/index.html?id=ArtiUDk3P3zbFrpsjkkOewkJ200404&isfromapp=1\",\"provinceId\":\"\"},{\"id\":24814,\"pubDate\":1585993440000,\"pubDateStr\":\"1小时前\",\"title\":\"伊朗新增新冠肺炎确诊病例2560例 累计确诊55743例\",\"summary\":\"根据伊朗卫生部最新消息，当地时间4号，伊朗新增新冠肺炎确诊病例2560例，新增死亡158例。截至当天中午，伊朗累计确诊新冠肺炎病例55743例，其中19736例康复，3452例死亡。(总台记者 李健南 倪紫慧)\",\"infoSource\":\"央视新闻app\",\"sourceUrl\":\"http://app.cctv.com/special/cportal/detail/arti/index.html?id=ArtiXAVlr8Bq2NhlO6lHciTF200404&isfromapp=1\",\"provinceId\":\"\"},{\"id\":24812,\"pubDate\":1585993260000,\"pubDateStr\":\"1小时前\",\"title\":\"西班牙新冠肺炎确诊病例达124736例 新增7026例\",\"summary\":\"当地时间4日，根据西班牙卫生部消息，全国新冠肺炎患者确诊病例达124736例。\",\"infoSource\":\"央视新闻app\",\"sourceUrl\":\"http://app.cctv.com/special/cportal/detail/arti/index.html?id=ArtisKOIJH7GwG0YwKguW83v200404&isfromapp=1\",\"provinceId\":\"\"},{\"id\":24807,\"pubDate\":1585992652000,\"pubDateStr\":\"1小时前\",\"title\":\"比利时新增新冠肺炎确诊病例1661例 累计18431例\",\"summary\":\"据比利时官方媒体当地时间4月4日上午报道，截至目前，该国累计确诊病例18431例，累计死亡1283例\",\"infoSource\":\"央视新闻app\",\"sourceUrl\":\"http://app.cctv.com/special/cportal/detail/arti/index.html?id=ArtiqSlRsS9J2KApm37TWEuG200404&isfromapp=1\",\"provinceId\":\"\"},{\"id\":24809,\"pubDate\":1585992476000,\"pubDateStr\":\"1小时前\",\"title\":\"摩洛哥新增53例新冠肺炎确诊病例 累计确诊844例\",\"summary\":\"摩洛哥卫生部4月4日8时证实，该国当天新增53例新冠肺炎确诊病例、2例死亡病例和2例治愈。目前摩洛哥累计确诊844例，死亡50例，治愈59例。\",\"infoSource\":\"央视新闻app\",\"sourceUrl\":\"http://app.cctv.com/special/cportal/detail/arti/index.html?id=ArtiYmgIOYfV18JkLvgTnKy3200404&isfromapp=1\",\"provinceId\":\"\"},{\"id\":24800,\"pubDate\":1585991220000,\"pubDateStr\":\"1小时前\",\"title\":\"德国新冠肺炎确诊病例达85778例 新增6082例\",\"summary\":\"据德国联邦疾控机构罗伯特·科赫研究所公布的数据，截至当地时间4月4日0点，德国已累计确诊新冠肺炎患者85778例，新增6082例，死亡1158例。（总台记者 李长皓）\",\"infoSource\":\"央视新闻app\",\"sourceUrl\":\"http://app.cctv.com/special/cportal/detail/arti/index.html?id=ArtiR91AUUWpFQOyv0oCjMtR200404&isfromapp=1\",\"provinceId\":\"\"},{\"id\":24794,\"pubDate\":1585991040000,\"pubDateStr\":\"1小时前\",\"title\":\"中国驻英国使馆为抗击新冠肺炎疫情斗争牺牲烈士和逝世同胞举行悼念活动\",\"summary\":\"4月4日，中国驻英国使馆为抗击新冠肺炎疫情斗争牺牲烈士和逝世同胞举行悼念活动。\",\"infoSource\":\"央视新闻app\",\"sourceUrl\":\"http://app.cctv.com/special/cportal/detail/arti/index.html?id=ArtiVbHdi2bSqOMpcETkeRiH200404&isfromapp=1\",\"provinceId\":\"\"},{\"id\":24795,\"pubDate\":1585991040000,\"pubDateStr\":\"1小时前\",\"title\":\"中国驻斯洛文尼亚大使馆下半旗志哀 沉痛悼念新冠疫情中牺牲的烈士与逝世同胞\",\"summary\":\"当地时间4月4日，中国驻斯洛文尼亚使馆降半旗，向在抗击新冠疫情战斗中牺牲的烈士志哀。\",\"infoSource\":\"央视新闻app\",\"sourceUrl\":\"http://app.cctv.com/special/cportal/detail/arti/index.html?id=ArtiNaNI9co9my5TQ8KgJmLf200404&isfromapp=1\",\"provinceId\":\"\"},{\"id\":24797,\"pubDate\":1585990984000,\"pubDateStr\":\"1小时前\",\"title\":\"匈牙利新增新冠肺炎确诊病例55例 累计确诊678例\",\"summary\":\"当地时间4月4日，匈牙利官方新冠疫情信息网站公布，境内新增新冠肺炎确诊病例55例，累计确诊678例。6名患有慢性病的感染者死亡，除1名死者54岁外，其余死者年龄均超过77岁，累计死亡病例增至32例。新增治愈病例15例，累计58例。首都布达佩斯疫情最为严重，有291名感染者。（总台记者 徐明）\",\"infoSource\":\"央视新闻app\",\"sourceUrl\":\"http://app.cctv.com/special/cportal/detail/arti/index.html?id=Arti85Js4dkK105PLZskbgNP200404&isfromapp=1\",\"provinceId\":\"\"},{\"id\":24798,\"pubDate\":1585990803000,\"pubDateStr\":\"1小时前\",\"title\":\"武汉确诊病例为无症状感染者转确诊\",\"summary\":\"4月3日0时-24时，武汉新增1例新冠肺炎。确诊病例为无症状感染者转确诊。患者居住在硚口区荣华街建国社区金玉华庭小区。\",\"infoSource\":\"人民日报海外版\",\"sourceUrl\":\"http://m.weibo.cn/3057540037/4490033220140214\",\"provinceId\":\"\"}]}catch(e){}',\n",
       " '截至北京时间 2020-04-04 11:01',\n",
       " '截至北京时间 2020-04-04 11:01',\n",
       " '黎巴嫩卫生部官网公布，截至当地时间4日中午新冠肺炎确诊总人数为520人，较前一日增加12人。根据黎卫生部公布，过去24小时内有4名患者被治愈，治愈总人数已达50人。死亡病例仍为17例不变，但确诊患者中危重病例增加至26例，疑似病例目前为509例，另外有1022人处于隔离状态。（总台记者 孙虎）',\n",
       " '根据伊朗卫生部最新消息，当地时间4号，伊朗新增新冠肺炎确诊病例2560例，新增死亡158例。截至当天中午，伊朗累计确诊新冠肺炎病例55743例，其中19736例康复，3452例死亡。(总台记者 李健南 倪紫慧)',\n",
       " '据比利时官方媒体当地时间4月4日上午报道，截至目前，该国累计确诊病例18431例，累计死亡1283例',\n",
       " '据德国联邦疾控机构罗伯特·科赫研究所公布的数据，截至当地时间4月4日0点，德国已累计确诊新冠肺炎患者85778例，新增6082例，死亡1158例。（总台记者 李长皓）']"
      ]
     },
     "execution_count": 6,
     "metadata": {},
     "output_type": "execute_result"
    }
   ],
   "source": [
    "data = soup.findAll(text=re.compile(\"截至.+\"))\n",
    "data"
   ]
  },
  {
   "cell_type": "code",
   "execution_count": 7,
   "metadata": {},
   "outputs": [
    {
     "data": {
      "text/plain": [
       "'2020-04-04 11:01'"
      ]
     },
     "execution_count": 7,
     "metadata": {},
     "output_type": "execute_result"
    }
   ],
   "source": [
    "for s in data:\n",
    "    m = re.search(\"截至.*(202\\d-\\d+-\\d+ \\d+:\\d+)\", s)\n",
    "    if m is not None:\n",
    "        data_date_time = m.group(1)\n",
    "data_date_time"
   ]
  },
  {
   "cell_type": "markdown",
   "metadata": {},
   "source": [
    "### Extract data (summary)"
   ]
  },
  {
   "cell_type": "code",
   "execution_count": 8,
   "metadata": {},
   "outputs": [
    {
     "data": {
      "text/plain": [
       "['try { window.getStatisticsService = {\"id\":1,\"createTime\":1579537899000,\"modifyTime\":1585998087000,\"infectSource\":\"该字段已替换为说明2\",\"passWay\":\"该字段已替换为说明3\",\"imgUrl\":\"https://img1.dxycdn.com/2020/0201/450/3394153392393266839-135.png\",\"dailyPic\":\"https://img1.dxycdn.com/2020/0211/763/3395998884005602079-135.png,https://img1.dxycdn.com/2020/0211/362/3395998896890788910-135.png,https://img1.dxycdn.com/2020/0211/365/3395998905480724211-135.png,https://img1.dxycdn.com/2020/0211/364/3395998916217859778-135.png,https://img1.dxycdn.com/2020/0211/922/3395998929103046444-135.png,https://img1.dxycdn.com/2020/0211/089/3395998939840182072-135.png\",\"dailyPics\":[\"https://img1.dxycdn.com/2020/0211/763/3395998884005602079-135.png\",\"https://img1.dxycdn.com/2020/0211/362/3395998896890788910-135.png\",\"https://img1.dxycdn.com/2020/0211/365/3395998905480724211-135.png\",\"https://img1.dxycdn.com/2020/0211/364/3395998916217859778-135.png\",\"https://img1.dxycdn.com/2020/0211/922/3395998929103046444-135.png\",\"https://img1.dxycdn.com/2020/0211/089/3395998939840182072-135.png\"],\"summary\":\"\",\"deleted\":false,\"countRemark\":\"\",\"currentConfirmedCount\":2565,\"confirmedCount\":82892,\"suspectedCount\":888,\"curedCount\":76992,\"deadCount\":3335,\"seriousCount\":1030,\"suspectedIncr\":18,\"currentConfirmedIncr\":-86,\"confirmedIncr\":137,\"curedIncr\":219,\"deadIncr\":4,\"seriousIncr\":3,\"virus\":\"该字段已替换为说明1\",\"remark1\":\"易感人群：人群普遍易感。老年人及有基础疾病者感染后病情较重，儿童及婴幼儿也有发病\",\"remark2\":\"潜伏期：一般为 3～7 天，最长不超过 14 天，潜伏期内可能存在传染性，其中无症状病例传染性非常罕见\",\"remark3\":\"宿主：野生动物，可能为中华菊头蝠\",\"remark4\":\"\",\"remark5\":\"\",\"note1\":\"病毒：SARS-CoV-2，其导致疾病命名 COVID-19\",\"note2\":\"传染源：新冠肺炎的患者。无症状感染者也可能成为传染源。\",\"note3\":\"传播途径：经呼吸道飞沫、接触传播是主要的传播途径。气溶胶传播和消化道等传播途径尚待明确。\",\"generalRemark\":\"1. 3 月 12 日国家卫健委确诊补订遗漏 12 例确诊病例（非 12 日新增），暂无具体省份信息。 2. 浙江省 12 例外省治愈暂无具体省份信息。\",\"abroadRemark\":\"\",\"marquee\":[{\"id\":1890,\"marqueeLabel\":\"默哀\",\"marqueeContent\":\"清明节全国共悼逝者\",\"marqueeLink\":\"https://dxy.me/GrrM4O\"},{\"id\":1891,\"marqueeLabel\":\"里程悲\",\"marqueeContent\":\"全球新冠病毒感染者超过百万\",\"marqueeLink\":\"https://dxy.me/EBzM7G\"},{\"id\":1892,\"marqueeLabel\":\"数字新冠\",\"marqueeContent\":\"4 月 3 日，世界因新冠而变\",\"marqueeLink\":\"https://dxy.me/1REDia\"}],\"quanguoTrendChart\":[{\"imgUrl\":\"https://img1.dxycdn.com/2020/0324/278/3403801351376518263-135.png\",\"title\":\"新增疑似/新增确诊\"},{\"imgUrl\":\"https://img1.dxycdn.com/2020/0324/812/3403847865872006755-135.png\",\"title\":\"境外输入\"},{\"imgUrl\":\"https://img1.dxycdn.com/2020/0324/547/3403847848692336947-135.png\",\"title\":\"现存确诊\"},{\"imgUrl\":\"https://img1.dxycdn.com/2020/0324/775/3403801407211095604-135.png\",\"title\":\"治愈\"},{\"imgUrl\":\"https://img1.dxycdn.com/2020/0324/250/3403801424390727199-135.png\",\"title\":\"死亡\"}],\"hbFeiHbTrendChart\":[{\"imgUrl\":\"https://img1.dxycdn.com/2020/0326/624/3404177508906904585-135.png\",\"title\":\"非湖北新增确诊\"},{\"imgUrl\":\"https://img1.dxycdn.com/2020/0326/777/3404177532529485065-135.png\",\"title\":\"湖北新增确诊\"},{\"imgUrl\":\"https://img1.dxycdn.com/2020/0326/376/3404177556151805921-135.png\",\"title\":\"湖北现存确诊\"},{\"imgUrl\":\"https://img1.dxycdn.com/2020/0326/527/3404177575478899995-135.png\",\"title\":\"非湖北现存确诊\"},{\"imgUrl\":\"https://img1.dxycdn.com/2020/0326/419/3404177596953996726-135.png\",\"title\":\"治愈/死亡\"}],\"foreignTrendChart\":[{\"imgUrl\":\"https://img1.dxycdn.com/2020/0320/702/3403079914982117944-135.png\",\"title\":\"国外新增确诊\"},{\"imgUrl\":\"https://img1.dxycdn.com/2020/0320/396/3403079925719536561-135.png\",\"title\":\"国外累计确诊\"},{\"imgUrl\":\"https://img1.dxycdn.com/2020/0320/139/3403079936457225524-135.png\",\"title\":\"国外死亡\"}],\"importantForeignTrendChart\":[{\"imgUrl\":\"https://img1.dxycdn.com/2020/0320/450/3403077453965772423-135.png\",\"title\":\"重点国家新增确诊\"},{\"imgUrl\":\"https://img1.dxycdn.com/2020/0320/276/3403077462555980566-135.png\",\"title\":\"日本新增确诊\"},{\"imgUrl\":\"https://img1.dxycdn.com/2020/0320/340/3403077473293125942-135.png\",\"title\":\"意大利新增确诊\"},{\"imgUrl\":\"https://img1.dxycdn.com/2020/0320/723/3403077481883334043-135.png\",\"title\":\"伊朗新增确诊\"},{\"imgUrl\":\"https://img1.dxycdn.com/2020/0320/266/3403077492620752785-135.png\",\"title\":\"美国新增确诊\"},{\"imgUrl\":\"https://img1.dxycdn.com/2020/0320/870/3403077503358171278-135.png\",\"title\":\"法国新增确诊\"},{\"imgUrl\":\"https://img1.dxycdn.com/2020/0320/053/3403077511947832997-135.png\",\"title\":\"德国新增确诊\"},{\"imgUrl\":\"https://img1.dxycdn.com/2020/0320/878/3403077520537768006-135.png\",\"title\":\"西班牙新增确诊\"},{\"imgUrl\":\"https://img1.dxycdn.com/2020/0320/443/3403077531275186665-135.png\",\"title\":\"韩国新增确诊\"}],\"foreignTrendChartGlobal\":[{\"imgUrl\":\"https://img1.dxycdn.com/2020/0319/740/3402859458605738923-135.png\",\"title\":\"Daily New Cases\"},{\"imgUrl\":\"https://img1.dxycdn.com/2020/0319/351/3402856772103846114-135.png\",\"title\":\"Total Confirmed Cases\"},{\"imgUrl\":\"https://img1.dxycdn.com/2020/0319/236/3402856782841001789-135.png\",\"title\":\"Total Deaths Cases\"}],\"importantForeignTrendChartGlobal\":[{\"imgUrl\":\"https://img1.dxycdn.com/2020/0319/122/3402856838675578578-135.png\",\"title\":\"Daily New Cases\"},{\"imgUrl\":\"https://img1.dxycdn.com/2020/0319/685/3402856849412997239-135.png\",\"title\":\"Japan\"},{\"imgUrl\":\"https://img1.dxycdn.com/2020/0319/477/3402856860150678804-135.png\",\"title\":\"Italy\"},{\"imgUrl\":\"https://img1.dxycdn.com/2020/0319/454/3402856873035581014-135.png\",\"title\":\"Iran\"},{\"imgUrl\":\"https://img1.dxycdn.com/2020/0319/022/3402856883772999714-135.png\",\"title\":\"U.S.A.\"},{\"imgUrl\":\"https://img1.dxycdn.com/2020/0319/529/3402856894510155506-135.png\",\"title\":\"France\"},{\"imgUrl\":\"https://img1.dxycdn.com/2020/0319/211/3402856905247574064-135.png\",\"title\":\"Germany\"},{\"imgUrl\":\"https://img1.dxycdn.com/2020/0319/054/3402856913837508985-135.png\",\"title\":\"Spain\"},{\"imgUrl\":\"https://img1.dxycdn.com/2020/0319/088/3402856928870157852-135.png\",\"title\":\"Republic of Korea\"}],\"foreignStatistics\":{\"currentConfirmedCount\":832224,\"confirmedCount\":1022719,\"suspectedCount\":4,\"curedCount\":133406,\"deadCount\":57089,\"suspectedIncr\":0,\"currentConfirmedIncr\":15483,\"confirmedIncr\":21985,\"curedIncr\":3308,\"deadIncr\":3194},\"globalStatistics\":{\"currentConfirmedCount\":834789,\"confirmedCount\":1105611,\"curedCount\":210398,\"deadCount\":60424,\"currentConfirmedIncr\":15397,\"confirmedIncr\":22122,\"curedIncr\":3527,\"deadIncr\":3198},\"globalOtherTrendChartData\":\"https://file1.dxycdn.com/2020/0404/193/3405835263204140186-135.json\"}}catch(e){}']"
      ]
     },
     "execution_count": 8,
     "metadata": {},
     "output_type": "execute_result"
    }
   ],
   "source": [
    "data = soup.findAll(text=re.compile('\\\"summary.+\\\"confirmedCount\\\":\\d'))\n",
    "\n",
    "data\n"
   ]
  },
  {
   "cell_type": "code",
   "execution_count": 9,
   "metadata": {},
   "outputs": [],
   "source": [
    "m = re.search('\\\"confirmedCount\\\":(\\d+)', data[0])\n",
    "summary_confirmed_count = int(m.group(1))\n",
    "\n",
    "\n",
    "m = re.search('\\\"curedCount\\\":(\\d+)', data[0])\n",
    "summary_cured_count = int(m.group(1))\n",
    "\n",
    "m = re.search('\\\"deadCount\\\":(\\d+)', data[0])\n",
    "summary_dead_count = int(m.group(1))\n"
   ]
  },
  {
   "cell_type": "code",
   "execution_count": 10,
   "metadata": {},
   "outputs": [
    {
     "data": {
      "text/html": [
       "<div>\n",
       "<style scoped>\n",
       "    .dataframe tbody tr th:only-of-type {\n",
       "        vertical-align: middle;\n",
       "    }\n",
       "\n",
       "    .dataframe tbody tr th {\n",
       "        vertical-align: top;\n",
       "    }\n",
       "\n",
       "    .dataframe thead th {\n",
       "        text-align: right;\n",
       "    }\n",
       "</style>\n",
       "<table border=\"1\" class=\"dataframe\">\n",
       "  <thead>\n",
       "    <tr style=\"text-align: right;\">\n",
       "      <th></th>\n",
       "      <th>datetime</th>\n",
       "      <th>confirmed</th>\n",
       "      <th>cured</th>\n",
       "      <th>dead</th>\n",
       "    </tr>\n",
       "  </thead>\n",
       "  <tbody>\n",
       "    <tr>\n",
       "      <th>0</th>\n",
       "      <td>2020-04-04 11:01</td>\n",
       "      <td>82892</td>\n",
       "      <td>76992</td>\n",
       "      <td>3335</td>\n",
       "    </tr>\n",
       "  </tbody>\n",
       "</table>\n",
       "</div>"
      ],
      "text/plain": [
       "           datetime  confirmed  cured  dead\n",
       "0  2020-04-04 11:01      82892  76992  3335"
      ]
     },
     "execution_count": 10,
     "metadata": {},
     "output_type": "execute_result"
    }
   ],
   "source": [
    "# make a dataframe\n",
    "df = pd.DataFrame({\n",
    "    'datetime': data_date_time,\n",
    "    'confirmed': summary_confirmed_count,\n",
    "    'cured': summary_cured_count,\n",
    "    'dead': summary_dead_count\n",
    "}, index=[0])\n",
    "df"
   ]
  },
  {
   "cell_type": "markdown",
   "metadata": {},
   "source": [
    "### Save to file"
   ]
  },
  {
   "cell_type": "code",
   "execution_count": 11,
   "metadata": {},
   "outputs": [],
   "source": [
    "from pathlib import Path\n",
    "csv_file = '../data/china-summary-cases.csv'\n",
    "\n",
    "if Path(csv_file).exists():\n",
    "    # read out the old data - then merge with new data and remove duplicates based on datetime\n",
    "    old_df = pd.read_csv(csv_file)\n",
    "    df = df.append(old_df)\n",
    "df.drop_duplicates(subset=['datetime'], inplace=True)"
   ]
  },
  {
   "cell_type": "code",
   "execution_count": 12,
   "metadata": {},
   "outputs": [],
   "source": [
    "df.sort_values(by=['datetime'], inplace=True)\n",
    "\n",
    "df.to_csv(csv_file, index=False)\n"
   ]
  },
  {
   "cell_type": "markdown",
   "metadata": {},
   "source": [
    "### Plot graph"
   ]
  },
  {
   "cell_type": "code",
   "execution_count": 13,
   "metadata": {},
   "outputs": [],
   "source": [
    "import seaborn as sns\n",
    "import matplotlib.pyplot as plt\n",
    "from pandas.plotting import register_matplotlib_converters\n",
    "register_matplotlib_converters()\n",
    "\n",
    "png_file = '../images/china-summary-cases.png'\n",
    "# convert to pd.datetime\n",
    "df['datetime_idx'] = pd.to_datetime(df['datetime'], format=\"%Y-%m-%d %H:%M\")\n",
    "\n",
    "df.set_index('datetime_idx', inplace=True)\n",
    "df.drop(['datetime'], axis=1, inplace=True)\n"
   ]
  },
  {
   "cell_type": "code",
   "execution_count": 14,
   "metadata": {},
   "outputs": [
    {
     "data": {
      "text/html": [
       "<div>\n",
       "<style scoped>\n",
       "    .dataframe tbody tr th:only-of-type {\n",
       "        vertical-align: middle;\n",
       "    }\n",
       "\n",
       "    .dataframe tbody tr th {\n",
       "        vertical-align: top;\n",
       "    }\n",
       "\n",
       "    .dataframe thead th {\n",
       "        text-align: right;\n",
       "    }\n",
       "</style>\n",
       "<table border=\"1\" class=\"dataframe\">\n",
       "  <thead>\n",
       "    <tr style=\"text-align: right;\">\n",
       "      <th></th>\n",
       "      <th>confirmed</th>\n",
       "      <th>cured</th>\n",
       "      <th>dead</th>\n",
       "    </tr>\n",
       "    <tr>\n",
       "      <th>datetime_idx</th>\n",
       "      <th></th>\n",
       "      <th></th>\n",
       "      <th></th>\n",
       "    </tr>\n",
       "  </thead>\n",
       "  <tbody>\n",
       "    <tr>\n",
       "      <th>2020-02-02 10:22:00</th>\n",
       "      <td>14483</td>\n",
       "      <td>379</td>\n",
       "      <td>304</td>\n",
       "    </tr>\n",
       "    <tr>\n",
       "      <th>2020-02-02 10:28:00</th>\n",
       "      <td>14483</td>\n",
       "      <td>380</td>\n",
       "      <td>304</td>\n",
       "    </tr>\n",
       "    <tr>\n",
       "      <th>2020-02-02 11:19:00</th>\n",
       "      <td>14489</td>\n",
       "      <td>385</td>\n",
       "      <td>304</td>\n",
       "    </tr>\n",
       "    <tr>\n",
       "      <th>2020-02-02 11:54:00</th>\n",
       "      <td>14489</td>\n",
       "      <td>397</td>\n",
       "      <td>304</td>\n",
       "    </tr>\n",
       "    <tr>\n",
       "      <th>2020-02-02 15:01:00</th>\n",
       "      <td>14490</td>\n",
       "      <td>430</td>\n",
       "      <td>304</td>\n",
       "    </tr>\n",
       "    <tr>\n",
       "      <th>...</th>\n",
       "      <td>...</td>\n",
       "      <td>...</td>\n",
       "      <td>...</td>\n",
       "    </tr>\n",
       "    <tr>\n",
       "      <th>2020-04-04 07:04:00</th>\n",
       "      <td>82875</td>\n",
       "      <td>76984</td>\n",
       "      <td>3335</td>\n",
       "    </tr>\n",
       "    <tr>\n",
       "      <th>2020-04-04 07:46:00</th>\n",
       "      <td>82875</td>\n",
       "      <td>76984</td>\n",
       "      <td>3335</td>\n",
       "    </tr>\n",
       "    <tr>\n",
       "      <th>2020-04-04 08:36:00</th>\n",
       "      <td>82875</td>\n",
       "      <td>76992</td>\n",
       "      <td>3335</td>\n",
       "    </tr>\n",
       "    <tr>\n",
       "      <th>2020-04-04 09:37:00</th>\n",
       "      <td>82892</td>\n",
       "      <td>76992</td>\n",
       "      <td>3335</td>\n",
       "    </tr>\n",
       "    <tr>\n",
       "      <th>2020-04-04 11:01:00</th>\n",
       "      <td>82892</td>\n",
       "      <td>76992</td>\n",
       "      <td>3335</td>\n",
       "    </tr>\n",
       "  </tbody>\n",
       "</table>\n",
       "<p>959 rows × 3 columns</p>\n",
       "</div>"
      ],
      "text/plain": [
       "                     confirmed  cured  dead\n",
       "datetime_idx                               \n",
       "2020-02-02 10:22:00      14483    379   304\n",
       "2020-02-02 10:28:00      14483    380   304\n",
       "2020-02-02 11:19:00      14489    385   304\n",
       "2020-02-02 11:54:00      14489    397   304\n",
       "2020-02-02 15:01:00      14490    430   304\n",
       "...                        ...    ...   ...\n",
       "2020-04-04 07:04:00      82875  76984  3335\n",
       "2020-04-04 07:46:00      82875  76984  3335\n",
       "2020-04-04 08:36:00      82875  76992  3335\n",
       "2020-04-04 09:37:00      82892  76992  3335\n",
       "2020-04-04 11:01:00      82892  76992  3335\n",
       "\n",
       "[959 rows x 3 columns]"
      ]
     },
     "execution_count": 14,
     "metadata": {},
     "output_type": "execute_result"
    }
   ],
   "source": [
    "df"
   ]
  },
  {
   "cell_type": "code",
   "execution_count": 15,
   "metadata": {
    "scrolled": true
   },
   "outputs": [
    {
     "data": {
      "image/png": "[encoded data removed]",
      "text/plain": [
       "<Figure size 1008x1008 with 3 Axes>"
      ]
     },
     "metadata": {},
     "output_type": "display_data"
    }
   ],
   "source": [
    "if df.shape[0]>1:\n",
    "    # line chart when having at least a few points\n",
    "    sns.set(rc={'figure.figsize':(14,14)})\n",
    "    sns.set(style=\"whitegrid\")\n",
    "\n",
    "    fig, axs = plt.subplots(nrows=3)\n",
    "\n",
    "    sns.lineplot(x=df.index, y = 'confirmed', data=df, ax= axs[0], estimator=None, color='orange')\n",
    "    sns.lineplot(x=df.index, y = 'cured', data=df, ax= axs[1], estimator=None, color='green')\n",
    "    sns.lineplot(x=df.index, y = 'dead', data=df, ax= axs[2], estimator=None, color='darkred')\n",
    "\n",
    "    for ax in axs:\n",
    "        ax.set_xlabel('')\n",
    "        ax.tick_params(axis='x', labelrotation=30)\n",
    "else:\n",
    "\n",
    "    ax = df.plot(kind='bar', stacked=True, figsize=(9,6))\n",
    "    fig = ax.get_figure()\n",
    "    ax.set_xlabel('')\n",
    "    for label in ax.get_xticklabels():\n",
    "        label.set_rotation(0) \n"
   ]
  },
  {
   "cell_type": "code",
   "execution_count": 16,
   "metadata": {},
   "outputs": [],
   "source": [
    "fig.savefig(png_file)"
   ]
  },
  {
   "cell_type": "code",
   "execution_count": null,
   "metadata": {},
   "outputs": [],
   "source": []
  },
  {
   "cell_type": "code",
   "execution_count": null,
   "metadata": {},
   "outputs": [],
   "source": []
  }
 ],
 "metadata": {
  "kernelspec": {
   "display_name": "Python 3",
   "language": "python",
   "name": "python3"
  },
  "language_info": {
   "codemirror_mode": {
    "name": "ipython",
    "version": 3
   },
   "file_extension": ".py",
   "mimetype": "text/x-python",
   "name": "python",
   "nbconvert_exporter": "python",
   "pygments_lexer": "ipython3",
   "version": "3.7.6"
  }
 },
 "nbformat": 4,
 "nbformat_minor": 2
}
