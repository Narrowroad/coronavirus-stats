{
 "cells": [
  {
   "cell_type": "code",
   "execution_count": 1,
   "metadata": {},
   "outputs": [],
   "source": [
    "import pandas as pd\n",
    "import requests\n",
    "from bs4 import BeautifulSoup\n",
    "import re\n",
    "from datetime import datetime\n",
    "from selenium import webdriver\n",
    "from selenium.webdriver.chrome.options import Options  \n"
   ]
  },
  {
   "cell_type": "code",
   "execution_count": 2,
   "metadata": {},
   "outputs": [
    {
     "data": {
      "text/plain": [
       "datetime.datetime(2020, 4, 4, 1, 9, 16, 738454)"
      ]
     },
     "execution_count": 2,
     "metadata": {},
     "output_type": "execute_result"
    }
   ],
   "source": [
    "datetime.now()"
   ]
  },
  {
   "cell_type": "code",
   "execution_count": 3,
   "metadata": {},
   "outputs": [],
   "source": [
    "chrome_options = Options()  \n",
    "chrome_options.add_argument(\"--headless\")  \n",
    "chrome_options.add_argument(\"--no-sandbox\")\n",
    "\n",
    "driver = webdriver.Chrome('chromedriver', options=chrome_options)"
   ]
  },
  {
   "cell_type": "code",
   "execution_count": 4,
   "metadata": {},
   "outputs": [],
   "source": [
    "url = 'https://ncov.dxy.cn/ncovh5/view/pneumonia'\n",
    "driver.get(url)"
   ]
  },
  {
   "cell_type": "markdown",
   "metadata": {},
   "source": [
    "### Extract date"
   ]
  },
  {
   "cell_type": "code",
   "execution_count": 5,
   "metadata": {},
   "outputs": [],
   "source": [
    "content = driver.page_source\n",
    "soup =BeautifulSoup(content, 'lxml')\n"
   ]
  },
  {
   "cell_type": "code",
   "execution_count": 6,
   "metadata": {},
   "outputs": [
    {
     "data": {
      "text/plain": [
       "['try { window.getTimelineService1 = [{\"id\":24576,\"pubDate\":1585961388000,\"pubDateStr\":\"11分钟前\",\"title\":\"4月3日江苏无新增新冠肺炎确诊病例\",\"summary\":\"4月3日0—24时，江苏省无新增境外输入新冠肺炎确诊病例。截至4月3日24时，累计报告境外输入确诊病例20例，出院1例，尚在院隔离治疗19例。4月3日0—24时，无新增本地新冠肺炎确诊病例。\",\"infoSource\":\"央视新闻app\",\"sourceUrl\":\"http://app.cctv.com/special/cportal/detail/arti/index.html?id=ArtiRLEGYI7LKDNphQSzZp5P200404&isfromapp=1\",\"provinceId\":\"\"},{\"id\":24559,\"pubDate\":1585960631000,\"pubDateStr\":\"24分钟前\",\"title\":\"2020年4月3日0时-24时，河南省无新增新冠肺炎确诊病例\",\"summary\":\"2020年4月3日0时-24时，河南省无新增新冠肺炎确诊病例。截至4月3日24时，全省累计报告本地新冠肺炎确诊病例1273例，累计死亡病例22例，累计出院病例1250例。\\\\n    \\\\n\\\\n  \",\"infoSource\":\"河南卫健委\",\"sourceUrl\":\"http://www.hnwsjsw.gov.cn/contents/858/49257.shtml\",\"provinceId\":\"\"},{\"id\":24558,\"pubDate\":1585960620000,\"pubDateStr\":\"24分钟前\",\"title\":\"北京昨日新增报告境外输入新冠肺炎确诊病例2例，出院4例 \",\"summary\":\"4月3日0时至24时，新增报告境外输入新冠肺炎确诊病例2例，其中英国1例、西班牙1例。无新增报告疑似病例和无症状感染者，治愈出院病例4例。\",\"infoSource\":\"北京卫健委\",\"sourceUrl\":\"http://wjw.beijing.gov.cn/xwzx_20031/xwfb/202004/t20200404_1787983.html\",\"provinceId\":\"\"},{\"id\":24556,\"pubDate\":1585960332000,\"pubDateStr\":\"29分钟前\",\"title\":\"湖北4月3日新增新冠肺炎确诊病例1例 为无症状感染者转确诊\",\"summary\":\"湖北省新增出院150例，其中：武汉市150例，其他16个市州均为0例。截至2020年4月3日24时，全省累计报告新冠肺炎确诊病例67803例。\",\"infoSource\":\"央视新闻app\",\"sourceUrl\":\"http://app.cctv.com/special/cportal/detail/arti/index.html?id=ArtiZmpNERNYgROJeLHxkhxo200404&isfromapp=1\",\"provinceId\":\"\"},{\"id\":24547,\"pubDate\":1585959593000,\"pubDateStr\":\"41分钟前\",\"title\":\"阿根廷新增新冠肺炎确诊病例88例\",\"summary\":\"当地时间4月3日，阿根廷卫生部公布该国新增新冠肺炎确诊病例88例，累计1353例。新增死亡病例5例，累计42例。\",\"infoSource\":\"央视新闻app\",\"sourceUrl\":\"http://app.cctv.com/special/cportal/detail/arti/index.html?id=ArtinErQJ648z559ZYATRV6K200404&isfromapp=1\",\"provinceId\":\"\"},{\"id\":24555,\"pubDate\":1585959569000,\"pubDateStr\":\"41分钟前\",\"title\":\"武汉新增确诊病例1例\",\"summary\":\"2020年4月3日0—24时，湖北新增新冠肺炎确诊病例1例，其中：武汉市1例，为无症状感染者转确诊。无境外输入病例。 \\\\n\",\"infoSource\":\"人民日报\",\"sourceUrl\":\"http://m.weibo.cn/2803301701/4489902215039722\",\"provinceId\":\"\"},{\"id\":24541,\"pubDate\":1585959558000,\"pubDateStr\":\"42分钟前\",\"title\":\"2020年4月3日0-24时，山东省无本地住院疑似病例、确诊病例\",\"summary\":\"2020年4月3日0-24时，山东省无本地住院疑似病例、确诊病例。累计报告确诊病例759例，死亡病例7例，治愈出院752例。2020年4月3日0-24时，山东省无新增境外输入疑似病例、确诊病例。\",\"infoSource\":\"山东卫健委\",\"sourceUrl\":\"http://wsjkw.shandong.gov.cn/ztzl/rdzt/qlzhfkgz/tzgg/202004/t20200404_3064697.html\",\"provinceId\":\"\"},{\"id\":24548,\"pubDate\":1585959465000,\"pubDateStr\":\"43分钟前\",\"title\":\"31省区市新增新冠肺炎19例\",\"summary\":\"4月3日0—24时，31个省（自治区、直辖市）和新疆生产建设兵团报告新增确诊病例19例，其中18例为境外输入病例，1例为本土病例（湖北1例）；新增死亡病例4例（湖北4例）；新增疑似病例11例，均为境外输入病例。\\u3000\\u3000\",\"infoSource\":\"央视新闻\",\"sourceUrl\":\"http://m.weibo.cn/2656274875/4489901778822037\",\"provinceId\":\"\"},{\"id\":24549,\"pubDate\":1585959420000,\"pubDateStr\":\"44分钟前\",\"title\":\"2020年4月3日0-24时，安徽省报告无新增确诊病例\",\"summary\":\"2020年4月3日0-24时，安徽省报告无新增确诊病例，无新增疑似病例。 截至4月3日24时，安徽省累计报告确诊病例990例，累计治愈出院病例984例，累计死亡病例6例，尚在医学观察308人，累计医学观察29057人。\\\\n\\\\t\\\\t\\\\t\\\\n\\\\t\\\\t\",\"infoSource\":\"安徽卫健委\",\"sourceUrl\":\"http://wjw.ah.gov.cn/news_details_56302.html\",\"provinceId\":\"\"},{\"id\":24536,\"pubDate\":1585958852000,\"pubDateStr\":\"53分钟前\",\"title\":\"苏里南出现首例死亡病例\",\"summary\":\"当地时间4月3日，苏里南卫生部宣布该国出现首例新冠肺炎死亡病例。\",\"infoSource\":\"央视新闻app\",\"sourceUrl\":\"http://app.cctv.com/special/cportal/detail/arti/index.html?id=ArtimPBjh6YMcbASJ1GSBYz1200404&isfromapp=1\",\"provinceId\":\"\"},{\"id\":24534,\"pubDate\":1585958400000,\"pubDateStr\":\"1小时前\",\"title\":\"2020年4月3日广西无新增确诊新型冠状病毒肺炎病例\",\"summary\":\"4月3日0至24时，我区无新增确诊、疑似病例，无新增死亡病例。全区累计报告确诊病例254例，治愈出院252例，死亡2例。本日无新增无症状感染者，现有无症状感染者3例，其中境外输入2例，湖北来桂人员1例。\",\"infoSource\":\"广西卫健委\",\"sourceUrl\":\"http://wsjkw.gxzf.gov.cn/zhuantiqu/ncov/ncovyqtb/2020/0404/70986.html\",\"provinceId\":\"\"},{\"id\":24537,\"pubDate\":1585958354000,\"pubDateStr\":\"1小时前\",\"title\":\"德国累计确诊新冠肺炎超9万例\",\"summary\":\"据德国《每日镜报》实时统计数据显示，截至北京时间4月4日7时20分左右，德国累计确诊新冠肺炎91159例，较前一天新增6370例；累计死亡1275例，较前一天新增166例；累计治愈23800人，较前一天新增2400人。\",\"infoSource\":\"人民日报海外版\",\"sourceUrl\":\"http://m.weibo.cn/3057540037/4489897119609315\",\"provinceId\":\"\"},{\"id\":24533,\"pubDate\":1585957860000,\"pubDateStr\":\"1小时前\",\"title\":\"2020年4月3日0时至24时辽宁省无新增新冠肺炎确诊病例，新增无症状感染者4例\",\"summary\":\"4月3日0时至24时，辽宁省无新增新冠肺炎确诊病例，新增无症状感染者4例（均为境外输入，其中来自韩国1例、澳大利亚1例、泰国1例、英国1例），新增治愈出院1例。全省累计报告境外输入确诊病例17例，治愈出院4例，在院治疗13例。\",\"infoSource\":\"辽宁卫健委\",\"sourceUrl\":\"http://wsjk.ln.gov.cn/wst_zdzt/xxgzbd/yqtb/202004/t20200404_3821179.html\",\"provinceId\":\"\"},{\"id\":24526,\"pubDate\":1585957707000,\"pubDateStr\":\"1小时前\",\"title\":\"肯尼亚新增1例新冠肺炎死亡病例 累计死亡4例\",\"summary\":\"肯尼亚卫生部于当地时间4月3日发表消息称，当日新增1例新冠肺炎死亡病例，患者为一名6岁同时患有其他疾病的男童，这也是目前肯尼亚死亡病例当中最年幼的一名。\",\"infoSource\":\"央视新闻app\",\"sourceUrl\":\"http://app.cctv.com/special/cportal/detail/arti/index.html?id=Arti76Bv3AirzrfwU4w7I3Ee200404&isfromapp=1\",\"provinceId\":\"\"},{\"id\":24527,\"pubDate\":1585957500000,\"pubDateStr\":\"1小时前\",\"title\":\"世卫组织总干事称已收到超100万病例报告\",\"summary\":\"美国新冠肺炎确诊病例累计超27万例据美国约翰斯·霍普金斯大学最新数据，截至美东时间3日16:32（北京时间4日4:32），美国新冠肺炎确诊病例为270473例，死亡6889例。\",\"infoSource\":\"央视新闻app\",\"sourceUrl\":\"http://app.cctv.com/special/cportal/detail/arti/index.html?id=ArtiC8YlvTH4sb6Tq0c14wFe200404&isfromapp=1\",\"provinceId\":\"\"},{\"id\":24519,\"pubDate\":1585957033000,\"pubDateStr\":\"1小时前\",\"title\":\"4月3日0-24时，吉林省无新增境外输入确诊病例\",\"summary\":\"4月3日0-24时，全省无新增境外输入确诊病例。截至4月3日24时，全省累计报告境外输入确诊病例5例，其中延边州2例，长春市1例，吉林市1例，梅河口市1例，均在院隔离治疗。\\\\n\",\"infoSource\":\"吉林卫健委\",\"sourceUrl\":\"http://www.jl.gov.cn/szfzt/jlzxd/yqtb/202004/t20200404_7024997.html\",\"provinceId\":\"\"},{\"id\":24518,\"pubDate\":1585956660000,\"pubDateStr\":\"1小时前\",\"title\":\"重庆4月4日通报：无新增新冠肺炎确诊病例\",\"summary\":\"4月3日0—24时，重庆市本地无新增新冠肺炎确诊病例报告。截至4月3日24时，重庆市本地无在院确诊病例，累计治愈出院病例570例，累计死亡病例6例，累计报告确诊病例576例。\",\"infoSource\":\"央视新闻app\",\"sourceUrl\":\"http://app.cctv.com/special/cportal/detail/arti/index.html?id=Arti6f7lBkc1hY7db1cEkE9k200404&isfromapp=1\",\"provinceId\":\"\"},{\"id\":24515,\"pubDate\":1585956558000,\"pubDateStr\":\"1小时前\",\"title\":\"2020年4月3日西藏自治区新型冠状病毒肺炎疫情情况\",\"summary\":\"\\\\n                        截止4月3日24时，我区现有新冠肺炎确诊病例0例，重症病例0例，死亡病例0例，疑似病例0例，无症状感染者0例，治愈出院病例1例，累计确诊新冠肺炎病例1例。连续65天无新增确诊或疑似病例。\\xa0\\xa0西藏自治区卫生健康委员会\\xa0\\xa0\\xa0\\xa0 2020年4月4日\\xa0\\xa0\\xa0\\xa0\\xa0\\xa0\\xa0\\xa0 \\xa0\\\\n\\\\n\\\\n\\\\n    \\\\n        \\\\n       \\\\n\\\\n\\\\n\\\\n            \\\\n            \\\\n                【关闭窗口】\\\\n                【打印本页】\\\\n            \\\\n            \\\\n                相关新闻\\\\n              \\\\n            \\\\n                \\\\n                       \\\\n                        \\\\n                         出征湖北 吴英杰齐扎拉为他们送行2020/02/17\\\\n                        \\\\n                  \\\\n                         2020年4月2日西藏自治区新型冠状病毒肺炎疫情情况2020/04/03\\\\n                        \\\\n                         2020年4月1日西藏自治区新型冠状病毒肺炎疫情情况2020/04/02\\\\n                        \\\\n                         2020年3月31日西藏自治区新型冠状病毒肺炎疫情情况2020/04/01\\\\n                        \\\\n                         官宣：新型冠状病毒无症状感染者是否有传染性？系列问答在这里！2020/04/01\\\\n                        \\\\n                       \\\\n                \\\\n            \\\\n        \\\\n    \",\"infoSource\":\"西藏卫健委\",\"sourceUrl\":\"http://wjw.xizang.gov.cn/xwzx/wsjkdt/202004/t20200404_136360.html\",\"provinceId\":\"\"}]}catch(e){}',\n",
       " '截至北京时间 2020-04-04 01:06',\n",
       " '截至北京时间 2020-04-04 01:06',\n",
       " '4月3日0—24时，江苏省无新增境外输入新冠肺炎确诊病例。截至4月3日24时，累计报告境外输入确诊病例20例，出院1例，尚在院隔离治疗19例。4月3日0—24时，无新增本地新冠肺炎确诊病例。',\n",
       " '2020年4月3日0时-24时，河南省无新增新冠肺炎确诊病例。截至4月3日24时，全省累计报告本地新冠肺炎确诊病例1273例，累计死亡病例22例，累计出院病例1250例。\\n    \\n\\n  ',\n",
       " '湖北省新增出院150例，其中：武汉市150例，其他16个市州均为0例。截至2020年4月3日24时，全省累计报告新冠肺炎确诊病例67803例。',\n",
       " '2020年4月3日0-24时，安徽省报告无新增确诊病例，无新增疑似病例。 截至4月3日24时，安徽省累计报告确诊病例990例，累计治愈出院病例984例，累计死亡病例6例，尚在医学观察308人，累计医学观察29057人。\\n\\t\\t\\t\\n\\t\\t',\n",
       " '据德国《每日镜报》实时统计数据显示，截至北京时间4月4日7时20分左右，德国累计确诊新冠肺炎91159例，较前一天新增6370例；累计死亡1275例，较前一天新增166例；累计治愈23800人，较前一天新增2400人。',\n",
       " '美国新冠肺炎确诊病例累计超27万例据美国约翰斯·霍普金斯大学最新数据，截至美东时间3日16:32（北京时间4日4:32），美国新冠肺炎确诊病例为270473例，死亡6889例。',\n",
       " '4月3日0-24时，全省无新增境外输入确诊病例。截至4月3日24时，全省累计报告境外输入确诊病例5例，其中延边州2例，长春市1例，吉林市1例，梅河口市1例，均在院隔离治疗。\\n',\n",
       " '4月3日0—24时，重庆市本地无新增新冠肺炎确诊病例报告。截至4月3日24时，重庆市本地无在院确诊病例，累计治愈出院病例570例，累计死亡病例6例，累计报告确诊病例576例。']"
      ]
     },
     "execution_count": 6,
     "metadata": {},
     "output_type": "execute_result"
    }
   ],
   "source": [
    "data = soup.findAll(text=re.compile(\"截至.+\"))\n",
    "data"
   ]
  },
  {
   "cell_type": "code",
   "execution_count": 7,
   "metadata": {},
   "outputs": [
    {
     "data": {
      "text/plain": [
       "'2020-04-04 01:06'"
      ]
     },
     "execution_count": 7,
     "metadata": {},
     "output_type": "execute_result"
    }
   ],
   "source": [
    "for s in data:\n",
    "    m = re.search(\"截至.*(202\\d-\\d+-\\d+ \\d+:\\d+)\", s)\n",
    "    if m is not None:\n",
    "        data_date_time = m.group(1)\n",
    "data_date_time"
   ]
  },
  {
   "cell_type": "markdown",
   "metadata": {},
   "source": [
    "### Extract data (summary)"
   ]
  },
  {
   "cell_type": "code",
   "execution_count": 8,
   "metadata": {},
   "outputs": [
    {
     "data": {
      "text/plain": [
       "['try { window.getStatisticsService = {\"id\":1,\"createTime\":1579537899000,\"modifyTime\":1585962368000,\"infectSource\":\"该字段已替换为说明2\",\"passWay\":\"该字段已替换为说明3\",\"imgUrl\":\"https://img1.dxycdn.com/2020/0201/450/3394153392393266839-135.png\",\"dailyPic\":\"https://img1.dxycdn.com/2020/0211/763/3395998884005602079-135.png,https://img1.dxycdn.com/2020/0211/362/3395998896890788910-135.png,https://img1.dxycdn.com/2020/0211/365/3395998905480724211-135.png,https://img1.dxycdn.com/2020/0211/364/3395998916217859778-135.png,https://img1.dxycdn.com/2020/0211/922/3395998929103046444-135.png,https://img1.dxycdn.com/2020/0211/089/3395998939840182072-135.png\",\"dailyPics\":[\"https://img1.dxycdn.com/2020/0211/763/3395998884005602079-135.png\",\"https://img1.dxycdn.com/2020/0211/362/3395998896890788910-135.png\",\"https://img1.dxycdn.com/2020/0211/365/3395998905480724211-135.png\",\"https://img1.dxycdn.com/2020/0211/364/3395998916217859778-135.png\",\"https://img1.dxycdn.com/2020/0211/922/3395998929103046444-135.png\",\"https://img1.dxycdn.com/2020/0211/089/3395998939840182072-135.png\"],\"summary\":\"\",\"deleted\":false,\"countRemark\":\"\",\"currentConfirmedCount\":2712,\"confirmedCount\":82866,\"suspectedCount\":870,\"curedCount\":76823,\"deadCount\":3331,\"seriousCount\":1027,\"virus\":\"该字段已替换为说明1\",\"remark1\":\"易感人群：人群普遍易感。老年人及有基础疾病者感染后病情较重，儿童及婴幼儿也有发病\",\"remark2\":\"潜伏期：一般为 3～7 天，最长不超过 14 天，潜伏期内可能存在传染性，其中无症状病例传染性非常罕见\",\"remark3\":\"宿主：野生动物，可能为中华菊头蝠\",\"remark4\":\"\",\"remark5\":\"\",\"note1\":\"病毒：SARS-CoV-2，其导致疾病命名 COVID-19\",\"note2\":\"传染源：新冠肺炎的患者。无症状感染者也可能成为传染源。\",\"note3\":\"传播途径：经呼吸道飞沫、接触传播是主要的传播途径。气溶胶传播和消化道等传播途径尚待明确。\",\"generalRemark\":\"1. 3 月 12 日国家卫健委确诊补订遗漏 12 例确诊病例（非 12 日新增），暂无具体省份信息。 2. 浙江省 12 例外省治愈暂无具体省份信息。\",\"abroadRemark\":\"\",\"marquee\":[{\"id\":1884,\"marqueeLabel\":\"默哀\",\"marqueeContent\":\"清明节全国共悼逝者\",\"marqueeLink\":\"https://dxy.me/GrrM4O\"},{\"id\":1885,\"marqueeLabel\":\"里程悲\",\"marqueeContent\":\"全球新冠病毒感染者超过百万\",\"marqueeLink\":\"https://dxy.me/EBzM7G\"},{\"id\":1886,\"marqueeLabel\":\"数字新冠\",\"marqueeContent\":\"4 月 3 日，世界因新冠而变\",\"marqueeLink\":\"https://dxy.me/1REDia\"}],\"quanguoTrendChart\":[{\"imgUrl\":\"https://img1.dxycdn.com/2020/0324/278/3403801351376518263-135.png\",\"title\":\"新增疑似/新增确诊\"},{\"imgUrl\":\"https://img1.dxycdn.com/2020/0324/812/3403847865872006755-135.png\",\"title\":\"境外输入\"},{\"imgUrl\":\"https://img1.dxycdn.com/2020/0324/547/3403847848692336947-135.png\",\"title\":\"现存确诊\"},{\"imgUrl\":\"https://img1.dxycdn.com/2020/0324/775/3403801407211095604-135.png\",\"title\":\"治愈\"},{\"imgUrl\":\"https://img1.dxycdn.com/2020/0324/250/3403801424390727199-135.png\",\"title\":\"死亡\"}],\"hbFeiHbTrendChart\":[{\"imgUrl\":\"https://img1.dxycdn.com/2020/0326/624/3404177508906904585-135.png\",\"title\":\"非湖北新增确诊\"},{\"imgUrl\":\"https://img1.dxycdn.com/2020/0326/777/3404177532529485065-135.png\",\"title\":\"湖北新增确诊\"},{\"imgUrl\":\"https://img1.dxycdn.com/2020/0326/376/3404177556151805921-135.png\",\"title\":\"湖北现存确诊\"},{\"imgUrl\":\"https://img1.dxycdn.com/2020/0326/527/3404177575478899995-135.png\",\"title\":\"非湖北现存确诊\"},{\"imgUrl\":\"https://img1.dxycdn.com/2020/0326/419/3404177596953996726-135.png\",\"title\":\"治愈/死亡\"}],\"foreignTrendChart\":[{\"imgUrl\":\"https://img1.dxycdn.com/2020/0320/702/3403079914982117944-135.png\",\"title\":\"国外新增确诊\"},{\"imgUrl\":\"https://img1.dxycdn.com/2020/0320/396/3403079925719536561-135.png\",\"title\":\"国外累计确诊\"},{\"imgUrl\":\"https://img1.dxycdn.com/2020/0320/139/3403079936457225524-135.png\",\"title\":\"国外死亡\"}],\"importantForeignTrendChart\":[{\"imgUrl\":\"https://img1.dxycdn.com/2020/0320/450/3403077453965772423-135.png\",\"title\":\"重点国家新增确诊\"},{\"imgUrl\":\"https://img1.dxycdn.com/2020/0320/276/3403077462555980566-135.png\",\"title\":\"日本新增确诊\"},{\"imgUrl\":\"https://img1.dxycdn.com/2020/0320/340/3403077473293125942-135.png\",\"title\":\"意大利新增确诊\"},{\"imgUrl\":\"https://img1.dxycdn.com/2020/0320/723/3403077481883334043-135.png\",\"title\":\"伊朗新增确诊\"},{\"imgUrl\":\"https://img1.dxycdn.com/2020/0320/266/3403077492620752785-135.png\",\"title\":\"美国新增确诊\"},{\"imgUrl\":\"https://img1.dxycdn.com/2020/0320/870/3403077503358171278-135.png\",\"title\":\"法国新增确诊\"},{\"imgUrl\":\"https://img1.dxycdn.com/2020/0320/053/3403077511947832997-135.png\",\"title\":\"德国新增确诊\"},{\"imgUrl\":\"https://img1.dxycdn.com/2020/0320/878/3403077520537768006-135.png\",\"title\":\"西班牙新增确诊\"},{\"imgUrl\":\"https://img1.dxycdn.com/2020/0320/443/3403077531275186665-135.png\",\"title\":\"韩国新增确诊\"}],\"foreignTrendChartGlobal\":[{\"imgUrl\":\"https://img1.dxycdn.com/2020/0319/740/3402859458605738923-135.png\",\"title\":\"Daily New Cases\"},{\"imgUrl\":\"https://img1.dxycdn.com/2020/0319/351/3402856772103846114-135.png\",\"title\":\"Total Confirmed Cases\"},{\"imgUrl\":\"https://img1.dxycdn.com/2020/0319/236/3402856782841001789-135.png\",\"title\":\"Total Deaths Cases\"}],\"importantForeignTrendChartGlobal\":[{\"imgUrl\":\"https://img1.dxycdn.com/2020/0319/122/3402856838675578578-135.png\",\"title\":\"Daily New Cases\"},{\"imgUrl\":\"https://img1.dxycdn.com/2020/0319/685/3402856849412997239-135.png\",\"title\":\"Japan\"},{\"imgUrl\":\"https://img1.dxycdn.com/2020/0319/477/3402856860150678804-135.png\",\"title\":\"Italy\"},{\"imgUrl\":\"https://img1.dxycdn.com/2020/0319/454/3402856873035581014-135.png\",\"title\":\"Iran\"},{\"imgUrl\":\"https://img1.dxycdn.com/2020/0319/022/3402856883772999714-135.png\",\"title\":\"U.S.A.\"},{\"imgUrl\":\"https://img1.dxycdn.com/2020/0319/529/3402856894510155506-135.png\",\"title\":\"France\"},{\"imgUrl\":\"https://img1.dxycdn.com/2020/0319/211/3402856905247574064-135.png\",\"title\":\"Germany\"},{\"imgUrl\":\"https://img1.dxycdn.com/2020/0319/054/3402856913837508985-135.png\",\"title\":\"Spain\"},{\"imgUrl\":\"https://img1.dxycdn.com/2020/0319/088/3402856928870157852-135.png\",\"title\":\"Republic of Korea\"}],\"foreignStatistics\":{\"currentConfirmedCount\":815149,\"confirmedCount\":998425,\"suspectedCount\":4,\"curedCount\":129729,\"deadCount\":53547},\"globalStatistics\":{\"currentConfirmedCount\":817861,\"confirmedCount\":1081291,\"curedCount\":206552,\"deadCount\":56878},\"globalOtherTrendChartData\":\"https://file1.dxycdn.com/2020/0403/885/3405649720616835912-135.json\"}}catch(e){}']"
      ]
     },
     "execution_count": 8,
     "metadata": {},
     "output_type": "execute_result"
    }
   ],
   "source": [
    "data = soup.findAll(text=re.compile('\\\"summary.+\\\"confirmedCount\\\":\\d'))\n",
    "\n",
    "data\n"
   ]
  },
  {
   "cell_type": "code",
   "execution_count": 9,
   "metadata": {},
   "outputs": [],
   "source": [
    "m = re.search('\\\"confirmedCount\\\":(\\d+)', data[0])\n",
    "summary_confirmed_count = int(m.group(1))\n",
    "\n",
    "\n",
    "m = re.search('\\\"curedCount\\\":(\\d+)', data[0])\n",
    "summary_cured_count = int(m.group(1))\n",
    "\n",
    "m = re.search('\\\"deadCount\\\":(\\d+)', data[0])\n",
    "summary_dead_count = int(m.group(1))\n"
   ]
  },
  {
   "cell_type": "code",
   "execution_count": 10,
   "metadata": {},
   "outputs": [
    {
     "data": {
      "text/html": [
       "<div>\n",
       "<style scoped>\n",
       "    .dataframe tbody tr th:only-of-type {\n",
       "        vertical-align: middle;\n",
       "    }\n",
       "\n",
       "    .dataframe tbody tr th {\n",
       "        vertical-align: top;\n",
       "    }\n",
       "\n",
       "    .dataframe thead th {\n",
       "        text-align: right;\n",
       "    }\n",
       "</style>\n",
       "<table border=\"1\" class=\"dataframe\">\n",
       "  <thead>\n",
       "    <tr style=\"text-align: right;\">\n",
       "      <th></th>\n",
       "      <th>datetime</th>\n",
       "      <th>confirmed</th>\n",
       "      <th>cured</th>\n",
       "      <th>dead</th>\n",
       "    </tr>\n",
       "  </thead>\n",
       "  <tbody>\n",
       "    <tr>\n",
       "      <th>0</th>\n",
       "      <td>2020-04-04 01:06</td>\n",
       "      <td>82866</td>\n",
       "      <td>76823</td>\n",
       "      <td>3331</td>\n",
       "    </tr>\n",
       "  </tbody>\n",
       "</table>\n",
       "</div>"
      ],
      "text/plain": [
       "           datetime  confirmed  cured  dead\n",
       "0  2020-04-04 01:06      82866  76823  3331"
      ]
     },
     "execution_count": 10,
     "metadata": {},
     "output_type": "execute_result"
    }
   ],
   "source": [
    "# make a dataframe\n",
    "df = pd.DataFrame({\n",
    "    'datetime': data_date_time,\n",
    "    'confirmed': summary_confirmed_count,\n",
    "    'cured': summary_cured_count,\n",
    "    'dead': summary_dead_count\n",
    "}, index=[0])\n",
    "df"
   ]
  },
  {
   "cell_type": "markdown",
   "metadata": {},
   "source": [
    "### Save to file"
   ]
  },
  {
   "cell_type": "code",
   "execution_count": 11,
   "metadata": {},
   "outputs": [],
   "source": [
    "from pathlib import Path\n",
    "csv_file = '../data/china-summary-cases.csv'\n",
    "\n",
    "if Path(csv_file).exists():\n",
    "    # read out the old data - then merge with new data and remove duplicates based on datetime\n",
    "    old_df = pd.read_csv(csv_file)\n",
    "    df = df.append(old_df)\n",
    "df.drop_duplicates(subset=['datetime'], inplace=True)"
   ]
  },
  {
   "cell_type": "code",
   "execution_count": 12,
   "metadata": {},
   "outputs": [],
   "source": [
    "df.sort_values(by=['datetime'], inplace=True)\n",
    "\n",
    "df.to_csv(csv_file, index=False)\n"
   ]
  },
  {
   "cell_type": "markdown",
   "metadata": {},
   "source": [
    "### Plot graph"
   ]
  },
  {
   "cell_type": "code",
   "execution_count": 13,
   "metadata": {},
   "outputs": [],
   "source": [
    "import seaborn as sns\n",
    "import matplotlib.pyplot as plt\n",
    "from pandas.plotting import register_matplotlib_converters\n",
    "register_matplotlib_converters()\n",
    "\n",
    "png_file = '../images/china-summary-cases.png'\n",
    "# convert to pd.datetime\n",
    "df['datetime_idx'] = pd.to_datetime(df['datetime'], format=\"%Y-%m-%d %H:%M\")\n",
    "\n",
    "df.set_index('datetime_idx', inplace=True)\n",
    "df.drop(['datetime'], axis=1, inplace=True)\n"
   ]
  },
  {
   "cell_type": "code",
   "execution_count": 14,
   "metadata": {},
   "outputs": [
    {
     "data": {
      "text/html": [
       "<div>\n",
       "<style scoped>\n",
       "    .dataframe tbody tr th:only-of-type {\n",
       "        vertical-align: middle;\n",
       "    }\n",
       "\n",
       "    .dataframe tbody tr th {\n",
       "        vertical-align: top;\n",
       "    }\n",
       "\n",
       "    .dataframe thead th {\n",
       "        text-align: right;\n",
       "    }\n",
       "</style>\n",
       "<table border=\"1\" class=\"dataframe\">\n",
       "  <thead>\n",
       "    <tr style=\"text-align: right;\">\n",
       "      <th></th>\n",
       "      <th>confirmed</th>\n",
       "      <th>cured</th>\n",
       "      <th>dead</th>\n",
       "    </tr>\n",
       "    <tr>\n",
       "      <th>datetime_idx</th>\n",
       "      <th></th>\n",
       "      <th></th>\n",
       "      <th></th>\n",
       "    </tr>\n",
       "  </thead>\n",
       "  <tbody>\n",
       "    <tr>\n",
       "      <th>2020-02-02 10:22:00</th>\n",
       "      <td>14483</td>\n",
       "      <td>379</td>\n",
       "      <td>304</td>\n",
       "    </tr>\n",
       "    <tr>\n",
       "      <th>2020-02-02 10:28:00</th>\n",
       "      <td>14483</td>\n",
       "      <td>380</td>\n",
       "      <td>304</td>\n",
       "    </tr>\n",
       "    <tr>\n",
       "      <th>2020-02-02 11:19:00</th>\n",
       "      <td>14489</td>\n",
       "      <td>385</td>\n",
       "      <td>304</td>\n",
       "    </tr>\n",
       "    <tr>\n",
       "      <th>2020-02-02 11:54:00</th>\n",
       "      <td>14489</td>\n",
       "      <td>397</td>\n",
       "      <td>304</td>\n",
       "    </tr>\n",
       "    <tr>\n",
       "      <th>2020-02-02 15:01:00</th>\n",
       "      <td>14490</td>\n",
       "      <td>430</td>\n",
       "      <td>304</td>\n",
       "    </tr>\n",
       "    <tr>\n",
       "      <th>...</th>\n",
       "      <td>...</td>\n",
       "      <td>...</td>\n",
       "      <td>...</td>\n",
       "    </tr>\n",
       "    <tr>\n",
       "      <th>2020-04-03 15:58:00</th>\n",
       "      <td>82857</td>\n",
       "      <td>76810</td>\n",
       "      <td>3331</td>\n",
       "    </tr>\n",
       "    <tr>\n",
       "      <th>2020-04-03 16:41:00</th>\n",
       "      <td>82857</td>\n",
       "      <td>76810</td>\n",
       "      <td>3331</td>\n",
       "    </tr>\n",
       "    <tr>\n",
       "      <th>2020-04-03 18:01:00</th>\n",
       "      <td>82859</td>\n",
       "      <td>76810</td>\n",
       "      <td>3331</td>\n",
       "    </tr>\n",
       "    <tr>\n",
       "      <th>2020-04-03 23:59:00</th>\n",
       "      <td>82859</td>\n",
       "      <td>76810</td>\n",
       "      <td>3331</td>\n",
       "    </tr>\n",
       "    <tr>\n",
       "      <th>2020-04-04 01:06:00</th>\n",
       "      <td>82866</td>\n",
       "      <td>76823</td>\n",
       "      <td>3331</td>\n",
       "    </tr>\n",
       "  </tbody>\n",
       "</table>\n",
       "<p>950 rows × 3 columns</p>\n",
       "</div>"
      ],
      "text/plain": [
       "                     confirmed  cured  dead\n",
       "datetime_idx                               \n",
       "2020-02-02 10:22:00      14483    379   304\n",
       "2020-02-02 10:28:00      14483    380   304\n",
       "2020-02-02 11:19:00      14489    385   304\n",
       "2020-02-02 11:54:00      14489    397   304\n",
       "2020-02-02 15:01:00      14490    430   304\n",
       "...                        ...    ...   ...\n",
       "2020-04-03 15:58:00      82857  76810  3331\n",
       "2020-04-03 16:41:00      82857  76810  3331\n",
       "2020-04-03 18:01:00      82859  76810  3331\n",
       "2020-04-03 23:59:00      82859  76810  3331\n",
       "2020-04-04 01:06:00      82866  76823  3331\n",
       "\n",
       "[950 rows x 3 columns]"
      ]
     },
     "execution_count": 14,
     "metadata": {},
     "output_type": "execute_result"
    }
   ],
   "source": [
    "df"
   ]
  },
  {
   "cell_type": "code",
   "execution_count": 15,
   "metadata": {
    "scrolled": true
   },
   "outputs": [
    {
     "data": {
      "image/png": "[encoded data removed]",
      "text/plain": [
       "<Figure size 1008x1008 with 3 Axes>"
      ]
     },
     "metadata": {},
     "output_type": "display_data"
    }
   ],
   "source": [
    "if df.shape[0]>1:\n",
    "    # line chart when having at least a few points\n",
    "    sns.set(rc={'figure.figsize':(14,14)})\n",
    "    sns.set(style=\"whitegrid\")\n",
    "\n",
    "    fig, axs = plt.subplots(nrows=3)\n",
    "\n",
    "    sns.lineplot(x=df.index, y = 'confirmed', data=df, ax= axs[0], estimator=None, color='orange')\n",
    "    sns.lineplot(x=df.index, y = 'cured', data=df, ax= axs[1], estimator=None, color='green')\n",
    "    sns.lineplot(x=df.index, y = 'dead', data=df, ax= axs[2], estimator=None, color='darkred')\n",
    "\n",
    "    for ax in axs:\n",
    "        ax.set_xlabel('')\n",
    "        ax.tick_params(axis='x', labelrotation=30)\n",
    "else:\n",
    "\n",
    "    ax = df.plot(kind='bar', stacked=True, figsize=(9,6))\n",
    "    fig = ax.get_figure()\n",
    "    ax.set_xlabel('')\n",
    "    for label in ax.get_xticklabels():\n",
    "        label.set_rotation(0) \n"
   ]
  },
  {
   "cell_type": "code",
   "execution_count": 16,
   "metadata": {},
   "outputs": [],
   "source": [
    "fig.savefig(png_file)"
   ]
  },
  {
   "cell_type": "code",
   "execution_count": null,
   "metadata": {},
   "outputs": [],
   "source": []
  },
  {
   "cell_type": "code",
   "execution_count": null,
   "metadata": {},
   "outputs": [],
   "source": []
  }
 ],
 "metadata": {
  "kernelspec": {
   "display_name": "Python 3",
   "language": "python",
   "name": "python3"
  },
  "language_info": {
   "codemirror_mode": {
    "name": "ipython",
    "version": 3
   },
   "file_extension": ".py",
   "mimetype": "text/x-python",
   "name": "python",
   "nbconvert_exporter": "python",
   "pygments_lexer": "ipython3",
   "version": "3.7.6"
  }
 },
 "nbformat": 4,
 "nbformat_minor": 2
}
