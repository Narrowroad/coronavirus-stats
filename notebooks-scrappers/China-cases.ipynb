{
 "cells": [
  {
   "cell_type": "code",
   "execution_count": 1,
   "metadata": {},
   "outputs": [],
   "source": [
    "import pandas as pd\n",
    "import requests\n",
    "from bs4 import BeautifulSoup\n",
    "import re\n",
    "from datetime import datetime\n",
    "from selenium import webdriver\n",
    "from selenium.webdriver.chrome.options import Options  \n"
   ]
  },
  {
   "cell_type": "code",
   "execution_count": 2,
   "metadata": {},
   "outputs": [
    {
     "data": {
      "text/plain": [
       "datetime.datetime(2020, 3, 27, 2, 7, 54, 951683)"
      ]
     },
     "execution_count": 2,
     "metadata": {},
     "output_type": "execute_result"
    }
   ],
   "source": [
    "datetime.now()"
   ]
  },
  {
   "cell_type": "code",
   "execution_count": 3,
   "metadata": {},
   "outputs": [],
   "source": [
    "chrome_options = Options()  \n",
    "chrome_options.add_argument(\"--headless\")  \n",
    "chrome_options.add_argument(\"--no-sandbox\")\n",
    "\n",
    "driver = webdriver.Chrome('chromedriver', options=chrome_options)"
   ]
  },
  {
   "cell_type": "code",
   "execution_count": 4,
   "metadata": {},
   "outputs": [],
   "source": [
    "url = 'https://ncov.dxy.cn/ncovh5/view/pneumonia'\n",
    "driver.get(url)"
   ]
  },
  {
   "cell_type": "markdown",
   "metadata": {},
   "source": [
    "### Extract date"
   ]
  },
  {
   "cell_type": "code",
   "execution_count": 5,
   "metadata": {},
   "outputs": [],
   "source": [
    "content = driver.page_source\n",
    "soup =BeautifulSoup(content, 'lxml')\n"
   ]
  },
  {
   "cell_type": "code",
   "execution_count": 6,
   "metadata": {},
   "outputs": [
    {
     "data": {
      "text/plain": [
       "['try { window.getTimelineService1 = [{\"id\":17149,\"pubDate\":1585273391000,\"pubDateStr\":\"6分钟前\",\"title\":\"重庆无本地及境外输入新冠肺炎新增确诊病例\",\"summary\":\"截至3月26日24时，重庆本地无在院确诊病例，累计治愈出院病例570例，累计死亡病例6例，累计报告确诊病例576例。\",\"infoSource\":\"央视新闻app\",\"sourceUrl\":\"http://app.cctv.com/special/cportal/detail/arti/index.html?id=ArtiIqBxq6MGleGPbPwc3ufH200327&isfromapp=1\",\"provinceId\":\"\"},{\"id\":17150,\"pubDate\":1585273308000,\"pubDateStr\":\"8分钟前\",\"title\":\"缅甸新增2例新冠肺炎确诊病例 累计确诊5例\",\"summary\":\"据缅甸卫生部3月27日凌晨消息，缅甸新增2例新冠肺炎确诊病例，截至目前共确诊5例。\",\"infoSource\":\"央视新闻app\",\"sourceUrl\":\"http://app.cctv.com/special/cportal/detail/arti/index.html?id=Arti8zqm4zn8QUj6S5KDych8200327&isfromapp=1\",\"provinceId\":\"\"},{\"id\":17143,\"pubDate\":1585272730000,\"pubDateStr\":\"18分钟前\",\"title\":\"韩国26日新增新冠肺炎确诊病例91例 累计确诊9332例\",\"summary\":\"韩国中央防疫对策本部27日通报，当地时间26日0时至27日0时，韩国新增新冠肺炎确诊病例91例，累计确诊病例升至9332例。新增死亡病例8例，累计死亡病例升至139例。\",\"infoSource\":\"央视新闻app\",\"sourceUrl\":\"http://app.cctv.com/special/cportal/detail/arti/index.html?id=ArtiPspfCEksBNCdSVnuFBN3200327&isfromapp=1\",\"provinceId\":\"\"},{\"id\":17133,\"pubDate\":1585272360000,\"pubDateStr\":\"24分钟前\",\"title\":\"洪都拉斯宣布首例新冠肺炎死亡病例 累计病例达68例\",\"summary\":\"中美洲国家洪都拉斯卫生部26日晚宣布，该国出现首例新冠肺炎死亡病例，患者是一名60岁的男性。当天（26日）洪都拉斯新增16例新冠肺炎确诊病例，累计达68例。\",\"infoSource\":\"央视新闻app\",\"sourceUrl\":\"http://app.cctv.com/special/cportal/detail/arti/index.html?id=ArtiaOtFRDMhBTOntcuLmx8R200327&isfromapp=1\",\"provinceId\":\"\"},{\"id\":17134,\"pubDate\":1585272323000,\"pubDateStr\":\"24分钟前\",\"title\":\"墨西哥新冠肺炎确诊病例增至585例\",\"summary\":\"当地时间3月26日，墨西哥卫生部宣布，截至当地时间3月26日晚上7点，墨西哥全国确诊585例新冠肺炎病例，较前一天新增了110例，单日增幅首次超过百例。另外还有2156例疑似病例，而此前已经排除的疑似病例累计2965例。\",\"infoSource\":\"央视新闻app\",\"sourceUrl\":\"http://app.cctv.com/special/cportal/detail/arti/index.html?id=Artic6i5i16LdU5AlUNGlDjG200327&isfromapp=1\",\"provinceId\":\"\"},{\"id\":17128,\"pubDate\":1585271941000,\"pubDateStr\":\"31分钟前\",\"title\":\"韩国新增91例新冠肺炎确诊病例# #韩国累计确诊9332例\",\"summary\":\"据韩联社27日消息，韩国中央防疫对策本部当天通报，当地时间26日0时至27日0时，韩国新增91例新冠肺炎确诊病例，累计确诊9332例，累计死亡139例。韩国新增91例新冠肺炎确诊病例 累计确诊9332例 \\\\n\",\"infoSource\":\"人民日报海外版\",\"sourceUrl\":\"http://m.weibo.cn/3057540037/4487018094159601\",\"provinceId\":\"\"},{\"id\":17124,\"pubDate\":1585271937000,\"pubDateStr\":\"31分钟前\",\"title\":\"上海无新增本地新冠肺炎确诊病例 新增境外输入17例  治愈出院1例\",\"summary\":\" 3月26日0—24时，通过口岸联防联控机制，报告17例境外输入性新冠肺炎确诊病例。截至3月26日24时，累计报告境外输入性确诊病例129例，现有23例境外输入性疑似病例正在排查中。\",\"infoSource\":\"上海卫健委\",\"sourceUrl\":\"http://wsjkw.sh.gov.cn/xwfb/20200327/42fa62a3fbf84a3d805b3ad2dc0c584b.html\",\"provinceId\":\"\"},{\"id\":17127,\"pubDate\":1585271908000,\"pubDateStr\":\"31分钟前\",\"title\":\"湖北无新增新冠肺炎确诊病例 无境外输入病例\",\"summary\":\"2020年3月26日0—24时，湖北新增新冠肺炎确诊病例0例，无境外输入病例。湖北新增病亡5例，其中：武汉市4例、荆门市1例，其他15个市州均为0例。湖北新增出院530例，其中：武汉市523例、孝感市3例、鄂州市2例、襄阳市和宜昌市各1例，其他12个市州均为0例。截至2020年3月26日24时，湖北累计报告新冠肺炎确诊病例67801例，其中：武汉市50006例、孝感市3518例、黄冈市2907例、\",\"infoSource\":\"央视新闻app\",\"sourceUrl\":\"http://app.cctv.com/special/cportal/detail/arti/index.html?id=ArtiwcDgBBWn0Vnvp3kJFy81200327&isfromapp=1\",\"provinceId\":\"\"},{\"id\":17122,\"pubDate\":1585271702000,\"pubDateStr\":\"35分钟前\",\"title\":\"浙江新增境外输入病例3例、境外输入关联本地病例1例\",\"summary\":\"#浙江新增1例本土病例#【#浙江新增1例境外输入关联本地确诊病例#】据浙江卫健委通报，3月26日0-24时，浙江新增境外输入新冠肺炎确诊病例3例（法国输入1例、西班牙输入1例、巴西输入1例）。无新增出院病例。截至3月26日24时，累计报告境外输入确诊病例29例，累计出院6例。3月26日0-24时，新增境外输入关联本地确诊病例1例（嘉兴市1例）。截至3月26日24时，累计报告本地确诊病例1218例，累计出院1216例,累计死亡1例，治愈出院率99.8%。截至3月26日24时，累计报告确诊病例1247例，累计出院1222例，累计死亡1例。无境外输入疑似病例。全省共追踪到密切接触者45350人，尚有2203人正在接受医学观察。\\\\n\",\"infoSource\":\"人民日报\",\"sourceUrl\":\"http://m.weibo.cn/2803301701/4487017092591250\",\"provinceId\":\"\"},{\"id\":17119,\"pubDate\":1585271267000,\"pubDateStr\":\"42分钟前\",\"title\":\"陕西新冠肺炎本土病例密切接触者清零 无新增境外输入病例\",\"summary\":\"2020年3月26日8时至27日8时，陕西无新增境外输入新冠肺炎确诊病例；陕西本地无新增确诊病例，本地新增疑似病例0例。截至27日0时，陕西本土病例密切接触者清零。\",\"infoSource\":\"央视新闻app\",\"sourceUrl\":\"http://app.cctv.com/special/cportal/detail/arti/index.html?id=ArtizxL7Jeg3QYMUl3SfokOw200327&isfromapp=1\",\"provinceId\":\"\"},{\"id\":17106,\"pubDate\":1585270609000,\"pubDateStr\":\"53分钟前\",\"title\":\"青海省无新型冠状病毒肺炎新增确诊病例\",\"summary\":\"\\xa02020年3月26日0-24时，当日青海省无新型冠状病毒肺炎新增确诊病例和疑似病例。\\\\n\\\\n\\\\t\\\\t\",\"infoSource\":\"青海卫健委\",\"sourceUrl\":\"https://wsjkw.qinghai.gov.cn/ztbd/yqjk/yqtb/2020/03/27/1585269984933.html\",\"provinceId\":\"\"},{\"id\":17103,\"pubDate\":1585270598000,\"pubDateStr\":\"53分钟前\",\"title\":\"天津市新增境外输入新型冠状病毒肺炎确诊病例5例\",\"summary\":\"2020年3月26日0－24时，天津市报告境外输入性新型冠状病毒肺炎确诊病例5例。截至3月26日24时，天津市累计报告境外输入性新型冠状病毒肺炎确诊病例16例。\\\\n\",\"infoSource\":\"天津卫健委\",\"sourceUrl\":\"http://wsjk.tj.gov.cn/art/2020/3/27/art_87_72778.html\",\"provinceId\":\"\"},{\"id\":17090,\"pubDate\":1585270153000,\"pubDateStr\":\"1小时前\",\"title\":\"[国家卫生健康委]新型冠状病毒肺炎疫情最新情况\",\"summary\":\"3月26日0—24时，31个省（自治区、直辖市）和新疆生产建设兵团报告新增确诊病例55例，其中境外输入病例54例，本土病例1例（浙江1例）；新增死亡病例5例（湖北5例）；新增疑似病例49例。当日新增治愈出院病例537例，解除医学观察的密切接触者837人，重症病例减少201例。截至3月26日24时，累计报告境外输入确诊病例595例。累计收到港澳台地区通报确诊病例738例：香港特别行政区453例（出院110例，死亡4例），澳门特别行政区33例（出院10例），台湾地区252例（出院29例，死亡2例）。\",\"infoSource\":\"河南卫健委\",\"sourceUrl\":\"http://www.hnwsjsw.gov.cn/contents/858/49126.shtml\",\"provinceId\":\"\"},{\"id\":17096,\"pubDate\":1585270049000,\"pubDateStr\":\"1小时前\",\"title\":\"福建省新增境外输入3例，累计境外输入35例\",\"summary\":\"3月26日0—24时，福建省报告新增境外输入新型冠状病毒肺炎确诊病例3例，其中：美国1例（福州市报告）；菲律宾1例、英国1例（泉州市报告）。\",\"infoSource\":\"央视新闻app\",\"sourceUrl\":\"http://app.cctv.com/special/cportal/detail/arti/index.html?id=Artie8YEUZvG4VB7EG4soBMr200327&isfromapp=1\",\"provinceId\":\"\"},{\"id\":17097,\"pubDate\":1585269997000,\"pubDateStr\":\"1小时前\",\"title\":\"四川27日最新通报：新增1例境外输入确诊新冠肺炎病例 目前9例确诊患者皆为境外输入\",\"summary\":\"3月26日0一24时，四川新增新冠肺炎确诊病例1例（境外输入），无新增治愈出院病例，无新增疑似病例，无新增死亡病例。\",\"infoSource\":\"央视新闻app\",\"sourceUrl\":\"http://app.cctv.com/special/cportal/detail/arti/index.html?id=ArtibLwtzYPPa23sBhUapGoz200327&isfromapp=1\",\"provinceId\":\"\"},{\"id\":17098,\"pubDate\":1585269981000,\"pubDateStr\":\"1小时前\",\"title\":\"江苏27日最新通报：新增新冠肺炎境外输入确诊病例1例 累计境外输入10例\",\"summary\":\"3月26日江苏无新增本地新冠肺炎确诊病例， 新增境外输入确诊病例1例3月26日0一24时，江苏新增境外输入新冠肺炎确诊病例1例，为常州市报告1例（巴西输入）。截至26日24时，累计报告境外输入确诊病例10例。\",\"infoSource\":\"央视新闻app\",\"sourceUrl\":\"http://app.cctv.com/special/cportal/detail/arti/index.html?id=ArtirbWN4Q4RR9pOepguweRv200327&isfromapp=1\",\"provinceId\":\"\"},{\"id\":17099,\"pubDate\":1585269966000,\"pubDateStr\":\"1小时前\",\"title\":\"安徽3月27日通报：无新增确诊病例  261人尚在医学观察\",\"summary\":\"2020年3月26日0-24时，安徽省报告无新增确诊病例，无新增疑似病例。截至3月26日24时，安徽省累计报告确诊病例990例，累计治愈出院病例984例，累计死亡病例6例，累计医学观察密切接触者28827人，尚在医学观察261人。\",\"infoSource\":\"央视新闻app\",\"sourceUrl\":\"http://app.cctv.com/special/cportal/detail/arti/index.html?id=ArtiSjiTgh7Bwlwidh82kuX0200327&isfromapp=1\",\"provinceId\":\"\"},{\"id\":17088,\"pubDate\":1585269804000,\"pubDateStr\":\"1小时前\",\"title\":\"江苏无新增本地新冠肺炎确诊病例， 新增境外输入确诊病例1例\",\"summary\":\"3月26日0-24时，江苏省新增境外输入新冠肺炎确诊病例1例，为常州市报告1例（巴西输入）。截至26日24时，累计报告境外输入确诊病例10例。该病例为中国籍。3月18日自圣保罗出发，途经迪拜，19日自北京入境， 20日凌晨飞抵上海浦东机场，后乘私家车回常州居住地。返家后，即由社区工作人员实施居家隔离观察。23日自感不适，由120救护车转运至医院隔离观察。25日影像学有改变，核酸检测复核结果呈阳性，26日被确认为确诊病例。3月26日0-24时，江苏省无新增本地新冠肺炎确诊病例。截至3月26日24时，累计报告本地确诊病例631例，累计出院病例631例。目前，追踪到密切接触者12763人，已解除医学观察12652人，尚有111人正在接受医学观察。专家提醒：当前疫情防控进入了新的阶段，要把加强涉外疫情防控作为重中之重，统筹做好疫情防控相关工作，切实做到精准防控，推动正常生产生活秩序全面恢复。为进一步防控境外疫情输入风险，自3月23日起，我省对所有入境人员采取集中医学观察14天措施。请境外来苏返苏人员自觉按照相关规定，如实履行健康申报、行程史填报等信息报告责任，并登录“苏康码”等平台进行健康申报。境外来苏返苏人员如有发热、咳嗽等症状，请尽快到定点发热门诊就诊，并主动告知前2周生活轨迹。每个人是自己健康的第一责任人。请公众继续保持防范意识，养成良好的卫生习惯，比如勤洗手、多通风，注意咳嗽礼仪等。全社会要共同参与爱国卫生运动，公众应增强科学防疫意识，养成健康生活方式。请不同人群按照《公众科学戴口罩指引》的防护建议和使用注意事项，在不同场所、不同情况下科学佩戴口罩。保护自己的同时，也有益于公众健康。\",\"infoSource\":\"江苏卫健委\",\"sourceUrl\":\"http://wjw.jiangsu.gov.cn/art/2020/3/27/art_7290_9025214.html\",\"provinceId\":\"\"},{\"id\":17110,\"pubDate\":1585269780000,\"pubDateStr\":\"1小时前\",\"title\":\"湖南省新型冠状病毒肺炎疫情信息发布\",\"summary\":\"2020年3月26日0-24时,湖南省报告新型冠状病毒肺炎新增确诊病例0例。截至3月26日24时,湖南省累计报告新型冠状病毒肺炎确诊病例1018例,死亡病例4例,出院病例1014例。\",\"infoSource\":\"湖南卫健委\",\"sourceUrl\":\"http://wjw.hunan.gov.cn/wjw/xxgk/gzdt/zyxw_1/202003/t20200327_11825120.html\",\"provinceId\":\"\"},{\"id\":17085,\"pubDate\":1585269380000,\"pubDateStr\":\"1小时前\",\"title\":\"湖南27日通报：无新增新冠肺炎确诊病例 188人接受医学观察\",\"summary\":\"2020年3月26日0-24时，湖南省报告新型冠状病毒肺炎新增确诊病例0例。截至3月26日24时，湖南省累计报告新型冠状病毒肺炎确诊病例1018例，死亡病例4例，出院病例1014例。\",\"infoSource\":\"央视新闻app\",\"sourceUrl\":\"http://app.cctv.com/special/cportal/detail/arti/index.html?id=ArtiOCfv3YpvXxnQVvZkrKqh200327&isfromapp=1\",\"provinceId\":\"\"},{\"id\":17086,\"pubDate\":1585269369000,\"pubDateStr\":\"1小时前\",\"title\":\"内蒙古27日最新通报：新增境外输入新冠肺炎确诊病例3例 疑似病例6例\",\"summary\":\"记者从内蒙古自治区卫生健康委员会获悉，截至2020年3月26日24时，内蒙古自治区已连续37日无新增本土新冠肺炎确诊病例、无新增本土新冠肺炎疑似病例。2020年3月26日7时至27日7时，内蒙古自治区报告新增境外输入新冠肺炎确诊病例3例、疑似病例6例。其中，新增3例境外输入新冠肺炎确诊病例分别乘坐CA856（伦敦-北京）、CA938（伦敦-北京）航班，于3月23日从首都国际机场分流到呼和浩特白塔国\",\"infoSource\":\"央视新闻app\",\"sourceUrl\":\"http://app.cctv.com/special/cportal/detail/arti/index.html?id=ArtifM3CiZowMnNw8VLGN1cO200327&isfromapp=1\",\"provinceId\":\"\"},{\"id\":17123,\"pubDate\":1585269000000,\"pubDateStr\":\"1小时前\",\"title\":\"贵州省无新增新型冠状病毒肺炎确诊病例\",\"summary\":\"2020年3月26日0—24时，贵州省无新增新型冠状病毒肺炎确诊病例报告，无新增疑似病例，无住院确诊病例。\",\"infoSource\":\"贵州卫健委\",\"sourceUrl\":\"http://www.gzhfpc.gov.cn/ztzl_500663/xxgzbdgrdfyyqfk/yqdt/202003/t20200327_55666453.html\",\"provinceId\":\"\"},{\"id\":17072,\"pubDate\":1585268880000,\"pubDateStr\":\"1小时前\",\"title\":\"北京27日最新通报：新增境外输入确诊病例4例 无新增报告本地病例\",\"summary\":\"3月26日12时至24时，北京新增报告境外输入新冠肺炎确诊病例3例，其中英国2例、法国1例。昨日共新增境外输入确诊病例4例，疑似病例3例。\",\"infoSource\":\"央视新闻app\",\"sourceUrl\":\"http://app.cctv.com/special/cportal/detail/arti/index.html?id=ArtiNhEeoTafGRjin9NMeRWo200327&isfromapp=1\",\"provinceId\":\"\"},{\"id\":17069,\"pubDate\":1585268827000,\"pubDateStr\":\"1小时前\",\"title\":\"截至3月26日24时河南省新型冠状病毒肺炎疫情最新情况\",\"summary\":\"2020年3月26日0-24时，河南省无新增新冠肺炎确诊病例。截至3月26日24时，全省累计报告本地新冠肺炎确诊病例1272例，累计死亡病例22例，累计出院病例1250例。\\\\n  \",\"infoSource\":\"河南卫健委\",\"sourceUrl\":\"http://www.hnwsjsw.gov.cn/contents/858/49123.shtml\",\"provinceId\":\"\"},{\"id\":17059,\"pubDate\":1585268686000,\"pubDateStr\":\"1小时前\",\"title\":\"国家卫健委：26日新增新冠肺炎1例本土病例 54例境外输入病例\",\"summary\":\"3月26日0—24时，31个省（自治区、直辖市）和新疆生产建设兵团报告新增确诊病例55例，其中境外输入病例54例，本土病例1例（浙江1例）；新增死亡病例5例（湖北5例）；新增疑似病例49例。\",\"infoSource\":\"央视新闻app\",\"sourceUrl\":\"http://app.cctv.com/special/cportal/detail/arti/index.html?id=ArtiaIHSwYEfvEIrSjLfTunz200327&isfromapp=1\",\"provinceId\":\"\"},{\"id\":17108,\"pubDate\":1585268580000,\"pubDateStr\":\"1小时前\",\"title\":\"2020年3月26日湖北省新冠肺炎疫情情况\",\"summary\":\"2020年3月26日0—24时，全省新增新冠肺炎确诊病例0例，无境外输入性病例。全省新增病亡5例。全省新增出院530例。截至2020年3月26日24时，全省累计报告新冠肺炎确诊病例67801例。\",\"infoSource\":\"湖北卫健委\",\"sourceUrl\":\"http://wjw.hubei.gov.cn/bmdt/ztzl/fkxxgzbdgrfyyq/xxfb/202003/t20200327_2194068.shtml\",\"provinceId\":\"\"},{\"id\":17060,\"pubDate\":1585268544000,\"pubDateStr\":\"1小时前\",\"title\":\"山东27日最新通报：无新增新冠肺炎确诊病例 累计报告境外输入确诊病例12例\",\"summary\":\"2020年3月26日12一24时，山东省无本地住院疑似病例、确诊病例。累计报告确诊病例759例，死亡病例7例，治愈出院752例。\",\"infoSource\":\"央视新闻app\",\"sourceUrl\":\"http://app.cctv.com/special/cportal/detail/arti/index.html?id=ArtiO4kFSDrekEy1YW0A3xDH200327&isfromapp=1\",\"provinceId\":\"\"},{\"id\":17061,\"pubDate\":1585268531000,\"pubDateStr\":\"1小时前\",\"title\":\"海南27日最新通报：无新增新冠肺炎确诊病例 尚有145人在接受医学观察\",\"summary\":\"3月26日0一24时，海南省报告新型冠状病毒肺炎新增确诊病例0例，新增重症病例0例，新增死亡病例0例，新增出院0例。\",\"infoSource\":\"央视新闻app\",\"sourceUrl\":\"http://app.cctv.com/special/cportal/detail/arti/index.html?id=Arti6egy5megNC9oOr7RAvnK200327&isfromapp=1\",\"provinceId\":\"\"},{\"id\":17070,\"pubDate\":1585268522000,\"pubDateStr\":\"1小时前\",\"title\":\"河南27最新通报：无新增本地新冠肺炎确诊病例\",\"summary\":\"2020年3月26日0一24时，河南无新增新冠肺炎确诊病例。截至3月26日24时，河南累计报告本地新冠肺炎确诊病例1272例，累计死亡病例22例，累计出院病例1250例。\",\"infoSource\":\"央视新闻app\",\"sourceUrl\":\"http://app.cctv.com/special/cportal/detail/arti/index.html?id=ArtiVEE0P1GbIz6JP9Q5DXMF200327&isfromapp=1\",\"provinceId\":\"\"},{\"id\":17071,\"pubDate\":1585268509000,\"pubDateStr\":\"1小时前\",\"title\":\"广西3月27日最新通报：无新增新冠肺炎确诊病例 现有2例境外输入确诊病例\",\"summary\":\"3月26日0时至24时，广西无新增确诊、疑似病例，无新增死亡病例。全区累计报告确诊病例254例，其中2例境外输入确诊病例现在定点医院隔离治疗，治愈出院250例，死亡2例。\",\"infoSource\":\"央视新闻app\",\"sourceUrl\":\"http://app.cctv.com/special/cportal/detail/arti/index.html?id=Artil6deBsfp7Ujh3yZ4JYJQ200327&isfromapp=1\",\"provinceId\":\"\"},{\"id\":17117,\"pubDate\":1585268247000,\"pubDateStr\":\"1小时前\",\"title\":\"截至3月27日7时内蒙古自治区新冠肺炎疫情最新情况\",\"summary\":\"截至2020年3月26日24时，内蒙古自治区已连续37日无新增本土新冠肺炎确诊病例、无新增本土新冠肺炎疑似病例。\",\"infoSource\":\"内蒙古卫健委\",\"sourceUrl\":\"http://wjw.nmg.gov.cn/doc/2020/03/27/297110.shtml\",\"provinceId\":\"\"},{\"id\":17050,\"pubDate\":1585268184000,\"pubDateStr\":\"1小时前\",\"title\":\"3月26日18时至21时 天津无新增报告本地新冠肺炎确诊病例 新增境外输入确诊病例1例\",\"summary\":\"3月26日18时至21时，天津无新增报告本地新冠肺炎确诊病例。新增报告1例境外输入确诊病例（中国籍），累计报告境外输入确诊病例16例（其中重型3例、普通型8例、轻型4例、分型待定1例；中国籍15例、法国籍1例）。\\\\n\",\"infoSource\":\"天津卫健委\",\"sourceUrl\":\"http://wsjk.tj.gov.cn/art/2020/3/27/art_87_72775.html\",\"provinceId\":\"\"},{\"id\":17048,\"pubDate\":1585268183000,\"pubDateStr\":\"1小时前\",\"title\":\"黑龙江省最新疫情通报\",\"summary\":\"2020年3月26日0-24时,黑龙江省无新增确诊病例，无新增疑似病例，无新增境外输入确诊病例。\\\\n省内当日发热门诊诊疗人数1106人，追踪到密切接触者16389人已全部解除医学观察。\\\\n截至3月26日24时,累计报告哈尔滨市境外输入确诊病例2例，追踪到境外密切接触者240人，已解除医学观察37人，尚有203人正在接受医学观察。\",\"infoSource\":\"黑龙江卫健委\",\"sourceUrl\":\"http://wsjkw.hlj.gov.cn/index.php/Home/Zwgk/show/newsid/8170/navid/42/stypeid/\",\"provinceId\":\"\"},{\"id\":17049,\"pubDate\":1585267980000,\"pubDateStr\":\"1小时前\",\"title\":\"截至3月26日24时新疆(含兵团)新型冠状病毒肺炎疫情最新情况\",\"summary\":\"2020年3月26日0-24时，新疆（含兵团）报告新型冠状病毒肺炎新增确诊病例0例。\\\\n截至3月26日24时，新疆（含兵团）累计报告新型冠状病毒肺炎确诊病例76例（新疆维吾尔自治区52例、新疆生产建设兵团24例），累计死亡病例3例，累计治愈出院病例73例。其中确诊病例中，乌鲁木齐市23例、伊犁州18例、昌吉州4例、吐鲁番市3例、巴州3例、阿克苏地区1例、兵团第四师10例、兵团第六师2例、兵团第七师1例、兵团第八师4例、兵团第九师4例、兵团第十二师3例。\\\\n截至3月26日24时，新疆（含兵团）现有确诊病例0例，尚有7人正在接受医学观察。\",\"infoSource\":\"新疆卫健委\",\"sourceUrl\":\"http://www.xjhfpc.gov.cn/info/2070/19843.htm\",\"provinceId\":\"\"},{\"id\":17034,\"pubDate\":1585267725000,\"pubDateStr\":\"1小时前\",\"title\":\"河北27日最新通报：无新增新冠肺炎确诊病例 累计治愈出院310例\",\"summary\":\"2020年3月26日0一24时，河北省无新增报告新型冠状病毒肺炎确诊病例，无新增死亡病例，无新增疑似病例。当日新增治愈出院病例0例，解除隔离医学观察的密切接触者0人。\",\"infoSource\":\"央视新闻app\",\"sourceUrl\":\"http://app.cctv.com/special/cportal/detail/arti/index.html?id=ArtixSeKDe1IBaSiCOA0KyFF200327&isfromapp=1\",\"provinceId\":\"\"},{\"id\":17035,\"pubDate\":1585267702000,\"pubDateStr\":\"1小时前\",\"title\":\"\\u200b津巴布韦新增2例新冠肺炎确诊病例 累计确诊5例\",\"summary\":\"当地时间27日凌晨，津巴布韦卫生部发布公告，宣布26日津巴布韦境内新增2例新冠肺炎确诊病例，截至目前该国累计确诊已达5例，其中死亡1例。\",\"infoSource\":\"央视新闻app\",\"sourceUrl\":\"http://app.cctv.com/special/cportal/detail/arti/index.html?id=Arti4YsQ3ktEshDdTWKno5k7200327&isfromapp=1\",\"provinceId\":\"\"},{\"id\":17037,\"pubDate\":1585267631000,\"pubDateStr\":\"1小时前\",\"title\":\"黑龙江26日无新增新冠肺炎确诊病例\",\"summary\":\"2020年3月26日0-24时,黑龙江省无新增确诊病例，无新增疑似病例，无新增境外输入确诊病例。省内当日发热门诊诊疗人数1106人，追踪到密切接触者16389人已全部解除医学观察。\",\"infoSource\":\"央视新闻app\",\"sourceUrl\":\"http://app.cctv.com/special/cportal/detail/arti/index.html?id=Artig83DsN7RjLWx5gTMIGec200327&isfromapp=1\",\"provinceId\":\"\"},{\"id\":17039,\"pubDate\":1585267496000,\"pubDateStr\":\"1小时前\",\"title\":\"辽宁26日新增1例境外输入确诊病例 在院治疗2例\",\"summary\":\"2020年3月26日0时至24时，辽宁省新增1例境外（美国）输入新型冠状病毒肺炎确诊病例，为大连市病例，属轻型病例。无新增出院病例。\",\"infoSource\":\"央视新闻app\",\"sourceUrl\":\"http://app.cctv.com/special/cportal/detail/arti/index.html?id=ArtisGzJCUEidGCew0JDWmrj200327&isfromapp=1\",\"provinceId\":\"\"},{\"id\":17045,\"pubDate\":1585267200000,\"pubDateStr\":\"1小时前\",\"title\":\"2020年3月26日广西新型冠状病毒肺炎疫情情况\",\"summary\":\"3月26日0至24时，我区无新增确诊、疑似病例，无新增死亡病例。全区累计报告确诊病例254例，其中2例境外输入确诊病例现在定点医院隔离治疗，治愈出院250例，死亡2例。 \",\"infoSource\":\"广西卫健委\",\"sourceUrl\":\"http://wsjkw.gxzf.gov.cn/zhuantiqu/ncov/ncovyqtb/2020/0327/70619.html\",\"provinceId\":\"\"},{\"id\":17129,\"pubDate\":1585227357000,\"pubDateStr\":\"12小时前\",\"title\":\"甘肃无新增境外输入新冠肺炎确诊病例   累计境外输入确诊病例45例\",\"summary\":\"3月25日20时至3月26日20时，伊朗包机来甘311人中，共计确诊37例，新增治愈出院2例，累计治愈出院34例，现有3例在省级定点医院隔离治疗。\",\"infoSource\":\"甘肃卫健委\",\"sourceUrl\":\"http://wsjk.gansu.gov.cn/single/11218/85006.html\",\"provinceId\":\"\"}]}catch(e){}',\n",
       " '截至北京时间 2020-03-27 02:04',\n",
       " '截至北京时间 2020-03-27 02:04',\n",
       " '截至3月26日24时，重庆本地无在院确诊病例，累计治愈出院病例570例，累计死亡病例6例，累计报告确诊病例576例。',\n",
       " '据缅甸卫生部3月27日凌晨消息，缅甸新增2例新冠肺炎确诊病例，截至目前共确诊5例。',\n",
       " '当地时间3月26日，墨西哥卫生部宣布，截至当地时间3月26日晚上7点，墨西哥全国确诊585例新冠肺炎病例，较前一天新增了110例，单日增幅首次超过百例。另外还有2156例疑似病例，而此前已经排除的疑似病例累计2965例。',\n",
       " ' 3月26日0—24时，通过口岸联防联控机制，报告17例境外输入性新冠肺炎确诊病例。截至3月26日24时，累计报告境外输入性确诊病例129例，现有23例境外输入性疑似病例正在排查中。',\n",
       " '2020年3月26日0—24时，湖北新增新冠肺炎确诊病例0例，无境外输入病例。湖北新增病亡5例，其中：武汉市4例、荆门市1例，其他15个市州均为0例。湖北新增出院530例，其中：武汉市523例、孝感市3例、鄂州市2例、襄阳市和宜昌市各1例，其他12个市州均为0例。截至2020年3月26日24时，湖北累计报告新冠肺炎确诊病例67801例，其中：武汉市50006例、孝感市3518例、黄冈市2907例、',\n",
       " '#浙江新增1例本土病例#【#浙江新增1例境外输入关联本地确诊病例#】据浙江卫健委通报，3月26日0-24时，浙江新增境外输入新冠肺炎确诊病例3例（法国输入1例、西班牙输入1例、巴西输入1例）。无新增出院病例。截至3月26日24时，累计报告境外输入确诊病例29例，累计出院6例。3月26日0-24时，新增境外输入关联本地确诊病例1例（嘉兴市1例）。截至3月26日24时，累计报告本地确诊病例1218例，累计出院1216例,累计死亡1例，治愈出院率99.8%。截至3月26日24时，累计报告确诊病例1247例，累计出院1222例，累计死亡1例。无境外输入疑似病例。全省共追踪到密切接触者45350人，尚有2203人正在接受医学观察。\\n',\n",
       " '2020年3月26日8时至27日8时，陕西无新增境外输入新冠肺炎确诊病例；陕西本地无新增确诊病例，本地新增疑似病例0例。截至27日0时，陕西本土病例密切接触者清零。',\n",
       " '2020年3月26日0－24时，天津市报告境外输入性新型冠状病毒肺炎确诊病例5例。截至3月26日24时，天津市累计报告境外输入性新型冠状病毒肺炎确诊病例16例。\\n',\n",
       " '3月26日0—24时，31个省（自治区、直辖市）和新疆生产建设兵团报告新增确诊病例55例，其中境外输入病例54例，本土病例1例（浙江1例）；新增死亡病例5例（湖北5例）；新增疑似病例49例。当日新增治愈出院病例537例，解除医学观察的密切接触者837人，重症病例减少201例。截至3月26日24时，累计报告境外输入确诊病例595例。累计收到港澳台地区通报确诊病例738例：香港特别行政区453例（出院110例，死亡4例），澳门特别行政区33例（出院10例），台湾地区252例（出院29例，死亡2例）。',\n",
       " '3月26日江苏无新增本地新冠肺炎确诊病例， 新增境外输入确诊病例1例3月26日0一24时，江苏新增境外输入新冠肺炎确诊病例1例，为常州市报告1例（巴西输入）。截至26日24时，累计报告境外输入确诊病例10例。',\n",
       " '2020年3月26日0-24时，安徽省报告无新增确诊病例，无新增疑似病例。截至3月26日24时，安徽省累计报告确诊病例990例，累计治愈出院病例984例，累计死亡病例6例，累计医学观察密切接触者28827人，尚在医学观察261人。',\n",
       " '3月26日0-24时，江苏省新增境外输入新冠肺炎确诊病例1例，为常州市报告1例（巴西输入）。截至26日24时，累计报告境外输入确诊病例10例。该病例为中国籍。3月18日自圣保罗出发，途经迪拜，19日自北京入境， 20日凌晨飞抵上海浦东机场，后乘私家车回常州居住地。返家后，即由社区工作人员实施居家隔离观察。23日自感不适，由120救护车转运至医院隔离观察。25日影像学有改变，核酸检测复核结果呈阳性，26日被确认为确诊病例。3月26日0-24时，江苏省无新增本地新冠肺炎确诊病例。截至3月26日24时，累计报告本地确诊病例631例，累计出院病例631例。目前，追踪到密切接触者12763人，已解除医学观察12652人，尚有111人正在接受医学观察。专家提醒：当前疫情防控进入了新的阶段，要把加强涉外疫情防控作为重中之重，统筹做好疫情防控相关工作，切实做到精准防控，推动正常生产生活秩序全面恢复。为进一步防控境外疫情输入风险，自3月23日起，我省对所有入境人员采取集中医学观察14天措施。请境外来苏返苏人员自觉按照相关规定，如实履行健康申报、行程史填报等信息报告责任，并登录“苏康码”等平台进行健康申报。境外来苏返苏人员如有发热、咳嗽等症状，请尽快到定点发热门诊就诊，并主动告知前2周生活轨迹。每个人是自己健康的第一责任人。请公众继续保持防范意识，养成良好的卫生习惯，比如勤洗手、多通风，注意咳嗽礼仪等。全社会要共同参与爱国卫生运动，公众应增强科学防疫意识，养成健康生活方式。请不同人群按照《公众科学戴口罩指引》的防护建议和使用注意事项，在不同场所、不同情况下科学佩戴口罩。保护自己的同时，也有益于公众健康。',\n",
       " '2020年3月26日0-24时,湖南省报告新型冠状病毒肺炎新增确诊病例0例。截至3月26日24时,湖南省累计报告新型冠状病毒肺炎确诊病例1018例,死亡病例4例,出院病例1014例。',\n",
       " '2020年3月26日0-24时，湖南省报告新型冠状病毒肺炎新增确诊病例0例。截至3月26日24时，湖南省累计报告新型冠状病毒肺炎确诊病例1018例，死亡病例4例，出院病例1014例。',\n",
       " '记者从内蒙古自治区卫生健康委员会获悉，截至2020年3月26日24时，内蒙古自治区已连续37日无新增本土新冠肺炎确诊病例、无新增本土新冠肺炎疑似病例。2020年3月26日7时至27日7时，内蒙古自治区报告新增境外输入新冠肺炎确诊病例3例、疑似病例6例。其中，新增3例境外输入新冠肺炎确诊病例分别乘坐CA856（伦敦-北京）、CA938（伦敦-北京）航班，于3月23日从首都国际机场分流到呼和浩特白塔国',\n",
       " '截至3月26日24时河南省新型冠状病毒肺炎疫情最新情况',\n",
       " '2020年3月26日0-24时，河南省无新增新冠肺炎确诊病例。截至3月26日24时，全省累计报告本地新冠肺炎确诊病例1272例，累计死亡病例22例，累计出院病例1250例。\\n  ',\n",
       " '2020年3月26日0—24时，全省新增新冠肺炎确诊病例0例，无境外输入性病例。全省新增病亡5例。全省新增出院530例。截至2020年3月26日24时，全省累计报告新冠肺炎确诊病例67801例。',\n",
       " '2020年3月26日0一24时，河南无新增新冠肺炎确诊病例。截至3月26日24时，河南累计报告本地新冠肺炎确诊病例1272例，累计死亡病例22例，累计出院病例1250例。',\n",
       " '截至3月27日7时内蒙古自治区新冠肺炎疫情最新情况',\n",
       " '截至2020年3月26日24时，内蒙古自治区已连续37日无新增本土新冠肺炎确诊病例、无新增本土新冠肺炎疑似病例。',\n",
       " '2020年3月26日0-24时,黑龙江省无新增确诊病例，无新增疑似病例，无新增境外输入确诊病例。\\n省内当日发热门诊诊疗人数1106人，追踪到密切接触者16389人已全部解除医学观察。\\n截至3月26日24时,累计报告哈尔滨市境外输入确诊病例2例，追踪到境外密切接触者240人，已解除医学观察37人，尚有203人正在接受医学观察。',\n",
       " '截至3月26日24时新疆(含兵团)新型冠状病毒肺炎疫情最新情况',\n",
       " '2020年3月26日0-24时，新疆（含兵团）报告新型冠状病毒肺炎新增确诊病例0例。\\n截至3月26日24时，新疆（含兵团）累计报告新型冠状病毒肺炎确诊病例76例（新疆维吾尔自治区52例、新疆生产建设兵团24例），累计死亡病例3例，累计治愈出院病例73例。其中确诊病例中，乌鲁木齐市23例、伊犁州18例、昌吉州4例、吐鲁番市3例、巴州3例、阿克苏地区1例、兵团第四师10例、兵团第六师2例、兵团第七师1例、兵团第八师4例、兵团第九师4例、兵团第十二师3例。\\n截至3月26日24时，新疆（含兵团）现有确诊病例0例，尚有7人正在接受医学观察。',\n",
       " '当地时间27日凌晨，津巴布韦卫生部发布公告，宣布26日津巴布韦境内新增2例新冠肺炎确诊病例，截至目前该国累计确诊已达5例，其中死亡1例。']"
      ]
     },
     "execution_count": 6,
     "metadata": {},
     "output_type": "execute_result"
    }
   ],
   "source": [
    "data = soup.findAll(text=re.compile(\"截至.+\"))\n",
    "data"
   ]
  },
  {
   "cell_type": "code",
   "execution_count": 7,
   "metadata": {},
   "outputs": [
    {
     "data": {
      "text/plain": [
       "'2020-03-27 02:04'"
      ]
     },
     "execution_count": 7,
     "metadata": {},
     "output_type": "execute_result"
    }
   ],
   "source": [
    "for s in data:\n",
    "    m = re.search(\"截至.*(202\\d-\\d+-\\d+ \\d+:\\d+)\", s)\n",
    "    if m is not None:\n",
    "        data_date_time = m.group(1)\n",
    "data_date_time"
   ]
  },
  {
   "cell_type": "markdown",
   "metadata": {},
   "source": [
    "### Extract data (summary)"
   ]
  },
  {
   "cell_type": "code",
   "execution_count": 8,
   "metadata": {},
   "outputs": [
    {
     "data": {
      "text/plain": [
       "['try { window.getStatisticsService = {\"id\":1,\"createTime\":1579537899000,\"modifyTime\":1585274643000,\"infectSource\":\"该字段已替换为说明2\",\"passWay\":\"该字段已替换为说明3\",\"imgUrl\":\"https://img1.dxycdn.com/2020/0201/450/3394153392393266839-135.png\",\"dailyPic\":\"https://img1.dxycdn.com/2020/0211/763/3395998884005602079-135.png,https://img1.dxycdn.com/2020/0211/362/3395998896890788910-135.png,https://img1.dxycdn.com/2020/0211/365/3395998905480724211-135.png,https://img1.dxycdn.com/2020/0211/364/3395998916217859778-135.png,https://img1.dxycdn.com/2020/0211/922/3395998929103046444-135.png,https://img1.dxycdn.com/2020/0211/089/3395998939840182072-135.png\",\"dailyPics\":[\"https://img1.dxycdn.com/2020/0211/763/3395998884005602079-135.png\",\"https://img1.dxycdn.com/2020/0211/362/3395998896890788910-135.png\",\"https://img1.dxycdn.com/2020/0211/365/3395998905480724211-135.png\",\"https://img1.dxycdn.com/2020/0211/364/3395998916217859778-135.png\",\"https://img1.dxycdn.com/2020/0211/922/3395998929103046444-135.png\",\"https://img1.dxycdn.com/2020/0211/089/3395998939840182072-135.png\"],\"summary\":\"\",\"deleted\":false,\"countRemark\":\"\",\"currentConfirmedCount\":4043,\"confirmedCount\":82078,\"suspectedCount\":595,\"curedCount\":74737,\"deadCount\":3298,\"seriousCount\":1034,\"suspectedIncr\":54,\"currentConfirmedIncr\":-428,\"confirmedIncr\":118,\"curedIncr\":541,\"deadIncr\":5,\"seriousIncr\":-201,\"virus\":\"该字段已替换为说明1\",\"remark1\":\"易感人群：人群普遍易感。老年人及有基础疾病者感染后病情较重，儿童及婴幼儿也有发病\",\"remark2\":\"潜伏期：一般为 3～7 天，最长不超过 14 天，潜伏期内可能存在传染性，其中无症状病例传染性非常罕见\",\"remark3\":\"宿主：野生动物，可能为中华菊头蝠\",\"remark4\":\"\",\"remark5\":\"\",\"note1\":\"病毒：SARS-CoV-2，其导致疾病命名 COVID-19\",\"note2\":\"传染源：新冠肺炎的患者。无症状感染者也可能成为传染源。\",\"note3\":\"传播途径：经呼吸道飞沫、接触传播是主要的传播途径。气溶胶传播和消化道等传播途径尚待明确。\",\"generalRemark\":\"1. 3 月 12 日国家卫健委确诊补订遗漏 12 例确诊病例（非 12 日新增），暂无具体省份信息。 2. 浙江省 12 例外省治愈暂无具体省份信息。\",\"abroadRemark\":\"\",\"marquee\":[{\"id\":1770,\"marqueeLabel\":\"全球疫情\",\"marqueeContent\":\"美国成为现存新冠感染最多的国家\",\"marqueeLink\":\"https://dxy.me/Sg1rjk\"},{\"id\":1771,\"marqueeLabel\":\"突发\",\"marqueeContent\":\"缩减航班，限制入境，中国开始关门\",\"marqueeLink\":\"https://dxy.me/yzpVFK\"},{\"id\":1772,\"marqueeLabel\":\"撒钱\",\"marqueeContent\":\"2 万亿美元，美国史上最大救助计划出炉\",\"marqueeLink\":\"https://dxy.me/1irnxU\"}],\"quanguoTrendChart\":[{\"imgUrl\":\"https://img1.dxycdn.com/2020/0324/278/3403801351376518263-135.png\",\"title\":\"新增疑似/新增确诊\"},{\"imgUrl\":\"https://img1.dxycdn.com/2020/0324/812/3403847865872006755-135.png\",\"title\":\"境外输入\"},{\"imgUrl\":\"https://img1.dxycdn.com/2020/0324/547/3403847848692336947-135.png\",\"title\":\"现存确诊\"},{\"imgUrl\":\"https://img1.dxycdn.com/2020/0324/775/3403801407211095604-135.png\",\"title\":\"治愈\"},{\"imgUrl\":\"https://img1.dxycdn.com/2020/0324/250/3403801424390727199-135.png\",\"title\":\"死亡\"}],\"hbFeiHbTrendChart\":[{\"imgUrl\":\"https://img1.dxycdn.com/2020/0326/624/3404177508906904585-135.png\",\"title\":\"非湖北新增确诊\"},{\"imgUrl\":\"https://img1.dxycdn.com/2020/0326/777/3404177532529485065-135.png\",\"title\":\"湖北新增确诊\"},{\"imgUrl\":\"https://img1.dxycdn.com/2020/0326/376/3404177556151805921-135.png\",\"title\":\"湖北现存确诊\"},{\"imgUrl\":\"https://img1.dxycdn.com/2020/0326/527/3404177575478899995-135.png\",\"title\":\"非湖北现存确诊\"},{\"imgUrl\":\"https://img1.dxycdn.com/2020/0326/419/3404177596953996726-135.png\",\"title\":\"治愈/死亡\"}],\"foreignTrendChart\":[{\"imgUrl\":\"https://img1.dxycdn.com/2020/0320/702/3403079914982117944-135.png\",\"title\":\"国外新增确诊\"},{\"imgUrl\":\"https://img1.dxycdn.com/2020/0320/396/3403079925719536561-135.png\",\"title\":\"国外累计确诊\"},{\"imgUrl\":\"https://img1.dxycdn.com/2020/0320/139/3403079936457225524-135.png\",\"title\":\"国外死亡\"}],\"importantForeignTrendChart\":[{\"imgUrl\":\"https://img1.dxycdn.com/2020/0320/450/3403077453965772423-135.png\",\"title\":\"重点国家新增确诊\"},{\"imgUrl\":\"https://img1.dxycdn.com/2020/0320/276/3403077462555980566-135.png\",\"title\":\"日本新增确诊\"},{\"imgUrl\":\"https://img1.dxycdn.com/2020/0320/340/3403077473293125942-135.png\",\"title\":\"意大利新增确诊\"},{\"imgUrl\":\"https://img1.dxycdn.com/2020/0320/723/3403077481883334043-135.png\",\"title\":\"伊朗新增确诊\"},{\"imgUrl\":\"https://img1.dxycdn.com/2020/0320/266/3403077492620752785-135.png\",\"title\":\"美国新增确诊\"},{\"imgUrl\":\"https://img1.dxycdn.com/2020/0320/870/3403077503358171278-135.png\",\"title\":\"法国新增确诊\"},{\"imgUrl\":\"https://img1.dxycdn.com/2020/0320/053/3403077511947832997-135.png\",\"title\":\"德国新增确诊\"},{\"imgUrl\":\"https://img1.dxycdn.com/2020/0320/878/3403077520537768006-135.png\",\"title\":\"西班牙新增确诊\"},{\"imgUrl\":\"https://img1.dxycdn.com/2020/0320/443/3403077531275186665-135.png\",\"title\":\"韩国新增确诊\"}],\"foreignTrendChartGlobal\":[{\"imgUrl\":\"https://img1.dxycdn.com/2020/0319/740/3402859458605738923-135.png\",\"title\":\"Daily New Cases\"},{\"imgUrl\":\"https://img1.dxycdn.com/2020/0319/351/3402856772103846114-135.png\",\"title\":\"Total Confirmed Cases\"},{\"imgUrl\":\"https://img1.dxycdn.com/2020/0319/236/3402856782841001789-135.png\",\"title\":\"Total Deaths Cases\"}],\"importantForeignTrendChartGlobal\":[{\"imgUrl\":\"https://img1.dxycdn.com/2020/0319/122/3402856838675578578-135.png\",\"title\":\"Daily New Cases\"},{\"imgUrl\":\"https://img1.dxycdn.com/2020/0319/685/3402856849412997239-135.png\",\"title\":\"Japan\"},{\"imgUrl\":\"https://img1.dxycdn.com/2020/0319/477/3402856860150678804-135.png\",\"title\":\"Italy\"},{\"imgUrl\":\"https://img1.dxycdn.com/2020/0319/454/3402856873035581014-135.png\",\"title\":\"Iran\"},{\"imgUrl\":\"https://img1.dxycdn.com/2020/0319/022/3402856883772999714-135.png\",\"title\":\"U.S.A.\"},{\"imgUrl\":\"https://img1.dxycdn.com/2020/0319/529/3402856894510155506-135.png\",\"title\":\"France\"},{\"imgUrl\":\"https://img1.dxycdn.com/2020/0319/211/3402856905247574064-135.png\",\"title\":\"Germany\"},{\"imgUrl\":\"https://img1.dxycdn.com/2020/0319/054/3402856913837508985-135.png\",\"title\":\"Spain\"},{\"imgUrl\":\"https://img1.dxycdn.com/2020/0319/088/3402856928870157852-135.png\",\"title\":\"Republic of Korea\"}],\"foreignStatistics\":{\"currentConfirmedCount\":376750,\"confirmedCount\":444272,\"suspectedCount\":4,\"curedCount\":47229,\"deadCount\":20293,\"suspectedIncr\":0,\"currentConfirmedIncr\":-160,\"confirmedIncr\":41,\"curedIncr\":197,\"deadIncr\":4},\"globalStatistics\":{\"currentConfirmedCount\":380793,\"confirmedCount\":526350,\"curedCount\":121966,\"deadCount\":23591,\"currentConfirmedIncr\":-588,\"confirmedIncr\":159,\"curedIncr\":738,\"deadIncr\":9},\"globalOtherTrendChartData\":\"https://file1.dxycdn.com/2020/0327/560/3404350922506450844-135.json\"}}catch(e){}']"
      ]
     },
     "execution_count": 8,
     "metadata": {},
     "output_type": "execute_result"
    }
   ],
   "source": [
    "data = soup.findAll(text=re.compile('\\\"summary.+\\\"confirmedCount\\\":\\d'))\n",
    "\n",
    "data\n"
   ]
  },
  {
   "cell_type": "code",
   "execution_count": 9,
   "metadata": {},
   "outputs": [],
   "source": [
    "m = re.search('\\\"confirmedCount\\\":(\\d+)', data[0])\n",
    "summary_confirmed_count = int(m.group(1))\n",
    "\n",
    "\n",
    "m = re.search('\\\"curedCount\\\":(\\d+)', data[0])\n",
    "summary_cured_count = int(m.group(1))\n",
    "\n",
    "m = re.search('\\\"deadCount\\\":(\\d+)', data[0])\n",
    "summary_dead_count = int(m.group(1))\n"
   ]
  },
  {
   "cell_type": "code",
   "execution_count": 10,
   "metadata": {},
   "outputs": [
    {
     "data": {
      "text/html": [
       "<div>\n",
       "<style scoped>\n",
       "    .dataframe tbody tr th:only-of-type {\n",
       "        vertical-align: middle;\n",
       "    }\n",
       "\n",
       "    .dataframe tbody tr th {\n",
       "        vertical-align: top;\n",
       "    }\n",
       "\n",
       "    .dataframe thead th {\n",
       "        text-align: right;\n",
       "    }\n",
       "</style>\n",
       "<table border=\"1\" class=\"dataframe\">\n",
       "  <thead>\n",
       "    <tr style=\"text-align: right;\">\n",
       "      <th></th>\n",
       "      <th>datetime</th>\n",
       "      <th>confirmed</th>\n",
       "      <th>cured</th>\n",
       "      <th>dead</th>\n",
       "    </tr>\n",
       "  </thead>\n",
       "  <tbody>\n",
       "    <tr>\n",
       "      <th>0</th>\n",
       "      <td>2020-03-27 02:04</td>\n",
       "      <td>82078</td>\n",
       "      <td>74737</td>\n",
       "      <td>3298</td>\n",
       "    </tr>\n",
       "  </tbody>\n",
       "</table>\n",
       "</div>"
      ],
      "text/plain": [
       "           datetime  confirmed  cured  dead\n",
       "0  2020-03-27 02:04      82078  74737  3298"
      ]
     },
     "execution_count": 10,
     "metadata": {},
     "output_type": "execute_result"
    }
   ],
   "source": [
    "# make a dataframe\n",
    "df = pd.DataFrame({\n",
    "    'datetime': data_date_time,\n",
    "    'confirmed': summary_confirmed_count,\n",
    "    'cured': summary_cured_count,\n",
    "    'dead': summary_dead_count\n",
    "}, index=[0])\n",
    "df"
   ]
  },
  {
   "cell_type": "markdown",
   "metadata": {},
   "source": [
    "### Save to file"
   ]
  },
  {
   "cell_type": "code",
   "execution_count": 11,
   "metadata": {},
   "outputs": [],
   "source": [
    "from pathlib import Path\n",
    "csv_file = '../data/china-summary-cases.csv'\n",
    "\n",
    "if Path(csv_file).exists():\n",
    "    # read out the old data - then merge with new data and remove duplicates based on datetime\n",
    "    old_df = pd.read_csv(csv_file)\n",
    "    df = df.append(old_df)\n",
    "df.drop_duplicates(subset=['datetime'], inplace=True)"
   ]
  },
  {
   "cell_type": "code",
   "execution_count": 12,
   "metadata": {},
   "outputs": [],
   "source": [
    "df.sort_values(by=['datetime'], inplace=True)\n",
    "\n",
    "df.to_csv(csv_file, index=False)\n"
   ]
  },
  {
   "cell_type": "markdown",
   "metadata": {},
   "source": [
    "### Plot graph"
   ]
  },
  {
   "cell_type": "code",
   "execution_count": 13,
   "metadata": {},
   "outputs": [],
   "source": [
    "import seaborn as sns\n",
    "import matplotlib.pyplot as plt\n",
    "from pandas.plotting import register_matplotlib_converters\n",
    "register_matplotlib_converters()\n",
    "\n",
    "png_file = '../images/china-summary-cases.png'\n",
    "# convert to pd.datetime\n",
    "df['datetime_idx'] = pd.to_datetime(df['datetime'], format=\"%Y-%m-%d %H:%M\")\n",
    "\n",
    "df.set_index('datetime_idx', inplace=True)\n",
    "df.drop(['datetime'], axis=1, inplace=True)\n"
   ]
  },
  {
   "cell_type": "code",
   "execution_count": 14,
   "metadata": {},
   "outputs": [
    {
     "data": {
      "text/html": [
       "<div>\n",
       "<style scoped>\n",
       "    .dataframe tbody tr th:only-of-type {\n",
       "        vertical-align: middle;\n",
       "    }\n",
       "\n",
       "    .dataframe tbody tr th {\n",
       "        vertical-align: top;\n",
       "    }\n",
       "\n",
       "    .dataframe thead th {\n",
       "        text-align: right;\n",
       "    }\n",
       "</style>\n",
       "<table border=\"1\" class=\"dataframe\">\n",
       "  <thead>\n",
       "    <tr style=\"text-align: right;\">\n",
       "      <th></th>\n",
       "      <th>confirmed</th>\n",
       "      <th>cured</th>\n",
       "      <th>dead</th>\n",
       "    </tr>\n",
       "    <tr>\n",
       "      <th>datetime_idx</th>\n",
       "      <th></th>\n",
       "      <th></th>\n",
       "      <th></th>\n",
       "    </tr>\n",
       "  </thead>\n",
       "  <tbody>\n",
       "    <tr>\n",
       "      <th>2020-02-02 10:22:00</th>\n",
       "      <td>14483</td>\n",
       "      <td>379</td>\n",
       "      <td>304</td>\n",
       "    </tr>\n",
       "    <tr>\n",
       "      <th>2020-02-02 10:28:00</th>\n",
       "      <td>14483</td>\n",
       "      <td>380</td>\n",
       "      <td>304</td>\n",
       "    </tr>\n",
       "    <tr>\n",
       "      <th>2020-02-02 11:19:00</th>\n",
       "      <td>14489</td>\n",
       "      <td>385</td>\n",
       "      <td>304</td>\n",
       "    </tr>\n",
       "    <tr>\n",
       "      <th>2020-02-02 11:54:00</th>\n",
       "      <td>14489</td>\n",
       "      <td>397</td>\n",
       "      <td>304</td>\n",
       "    </tr>\n",
       "    <tr>\n",
       "      <th>2020-02-02 15:01:00</th>\n",
       "      <td>14490</td>\n",
       "      <td>430</td>\n",
       "      <td>304</td>\n",
       "    </tr>\n",
       "    <tr>\n",
       "      <th>...</th>\n",
       "      <td>...</td>\n",
       "      <td>...</td>\n",
       "      <td>...</td>\n",
       "    </tr>\n",
       "    <tr>\n",
       "      <th>2020-03-26 17:03:00</th>\n",
       "      <td>82037</td>\n",
       "      <td>74204</td>\n",
       "      <td>3293</td>\n",
       "    </tr>\n",
       "    <tr>\n",
       "      <th>2020-03-26 17:17:00</th>\n",
       "      <td>82037</td>\n",
       "      <td>74204</td>\n",
       "      <td>3293</td>\n",
       "    </tr>\n",
       "    <tr>\n",
       "      <th>2020-03-27 00:08:00</th>\n",
       "      <td>82040</td>\n",
       "      <td>74204</td>\n",
       "      <td>3293</td>\n",
       "    </tr>\n",
       "    <tr>\n",
       "      <th>2020-03-27 01:06:00</th>\n",
       "      <td>82078</td>\n",
       "      <td>74737</td>\n",
       "      <td>3298</td>\n",
       "    </tr>\n",
       "    <tr>\n",
       "      <th>2020-03-27 02:04:00</th>\n",
       "      <td>82078</td>\n",
       "      <td>74737</td>\n",
       "      <td>3298</td>\n",
       "    </tr>\n",
       "  </tbody>\n",
       "</table>\n",
       "<p>818 rows × 3 columns</p>\n",
       "</div>"
      ],
      "text/plain": [
       "                     confirmed  cured  dead\n",
       "datetime_idx                               \n",
       "2020-02-02 10:22:00      14483    379   304\n",
       "2020-02-02 10:28:00      14483    380   304\n",
       "2020-02-02 11:19:00      14489    385   304\n",
       "2020-02-02 11:54:00      14489    397   304\n",
       "2020-02-02 15:01:00      14490    430   304\n",
       "...                        ...    ...   ...\n",
       "2020-03-26 17:03:00      82037  74204  3293\n",
       "2020-03-26 17:17:00      82037  74204  3293\n",
       "2020-03-27 00:08:00      82040  74204  3293\n",
       "2020-03-27 01:06:00      82078  74737  3298\n",
       "2020-03-27 02:04:00      82078  74737  3298\n",
       "\n",
       "[818 rows x 3 columns]"
      ]
     },
     "execution_count": 14,
     "metadata": {},
     "output_type": "execute_result"
    }
   ],
   "source": [
    "df"
   ]
  },
  {
   "cell_type": "code",
   "execution_count": 15,
   "metadata": {
    "scrolled": true
   },
   "outputs": [
    {
     "data": {
      "image/png": "[encoded data removed]",
      "text/plain": [
       "<Figure size 1008x1008 with 3 Axes>"
      ]
     },
     "metadata": {},
     "output_type": "display_data"
    }
   ],
   "source": [
    "if df.shape[0]>1:\n",
    "    # line chart when having at least a few points\n",
    "    sns.set(rc={'figure.figsize':(14,14)})\n",
    "    sns.set(style=\"whitegrid\")\n",
    "\n",
    "    fig, axs = plt.subplots(nrows=3)\n",
    "\n",
    "    sns.lineplot(x=df.index, y = 'confirmed', data=df, ax= axs[0], estimator=None, color='orange')\n",
    "    sns.lineplot(x=df.index, y = 'cured', data=df, ax= axs[1], estimator=None, color='green')\n",
    "    sns.lineplot(x=df.index, y = 'dead', data=df, ax= axs[2], estimator=None, color='darkred')\n",
    "\n",
    "    for ax in axs:\n",
    "        ax.set_xlabel('')\n",
    "        ax.tick_params(axis='x', labelrotation=30)\n",
    "else:\n",
    "\n",
    "    ax = df.plot(kind='bar', stacked=True, figsize=(9,6))\n",
    "    fig = ax.get_figure()\n",
    "    ax.set_xlabel('')\n",
    "    for label in ax.get_xticklabels():\n",
    "        label.set_rotation(0) \n"
   ]
  },
  {
   "cell_type": "code",
   "execution_count": 16,
   "metadata": {},
   "outputs": [],
   "source": [
    "fig.savefig(png_file)"
   ]
  },
  {
   "cell_type": "code",
   "execution_count": null,
   "metadata": {},
   "outputs": [],
   "source": []
  },
  {
   "cell_type": "code",
   "execution_count": null,
   "metadata": {},
   "outputs": [],
   "source": []
  }
 ],
 "metadata": {
  "kernelspec": {
   "display_name": "Python 3",
   "language": "python",
   "name": "python3"
  },
  "language_info": {
   "codemirror_mode": {
    "name": "ipython",
    "version": 3
   },
   "file_extension": ".py",
   "mimetype": "text/x-python",
   "name": "python",
   "nbconvert_exporter": "python",
   "pygments_lexer": "ipython3",
   "version": "3.7.6"
  }
 },
 "nbformat": 4,
 "nbformat_minor": 2
}
