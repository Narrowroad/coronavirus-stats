{
 "cells": [
  {
   "cell_type": "code",
   "execution_count": 1,
   "metadata": {},
   "outputs": [],
   "source": [
    "import pandas as pd\n",
    "import requests\n",
    "from bs4 import BeautifulSoup\n",
    "import re\n",
    "from datetime import datetime\n",
    "from selenium import webdriver\n",
    "from selenium.webdriver.chrome.options import Options  \n"
   ]
  },
  {
   "cell_type": "code",
   "execution_count": 2,
   "metadata": {},
   "outputs": [
    {
     "data": {
      "text/plain": [
       "datetime.datetime(2020, 3, 25, 11, 7, 42, 613195)"
      ]
     },
     "execution_count": 2,
     "metadata": {},
     "output_type": "execute_result"
    }
   ],
   "source": [
    "datetime.now()"
   ]
  },
  {
   "cell_type": "code",
   "execution_count": 3,
   "metadata": {},
   "outputs": [],
   "source": [
    "chrome_options = Options()  \n",
    "chrome_options.add_argument(\"--headless\")  \n",
    "chrome_options.add_argument(\"--no-sandbox\")\n",
    "\n",
    "driver = webdriver.Chrome('chromedriver', options=chrome_options)"
   ]
  },
  {
   "cell_type": "code",
   "execution_count": 4,
   "metadata": {},
   "outputs": [],
   "source": [
    "url = 'https://ncov.dxy.cn/ncovh5/view/pneumonia'\n",
    "driver.get(url)"
   ]
  },
  {
   "cell_type": "markdown",
   "metadata": {},
   "source": [
    "### Extract date"
   ]
  },
  {
   "cell_type": "code",
   "execution_count": 5,
   "metadata": {},
   "outputs": [],
   "source": [
    "content = driver.page_source\n",
    "soup =BeautifulSoup(content, 'lxml')\n"
   ]
  },
  {
   "cell_type": "code",
   "execution_count": 6,
   "metadata": {},
   "outputs": [
    {
     "data": {
      "text/plain": [
       "['try { window.getTimelineService1 = [{\"id\":15047,\"pubDate\":1585133161000,\"pubDateStr\":\"8分钟前\",\"title\":\"习近平：战胜这次疫情，给我们力量和信心的是中国人民\",\"summary\":\"24日晚，国家主席习近平与波兰总统杜达通电话。习近平强调，战胜这次疫情，给我们力量和信心的是中国人民。中国14亿人民同舟共济，众志成城，坚定信心，同疫情进行顽强斗争。\",\"infoSource\":\"央视新闻app\",\"sourceUrl\":\"http://app.cctv.com/special/cportal/detail/arti/index.html?id=Arti9jU0Z4NLydl0VdZqQsgE200325&isfromapp=1\",\"provinceId\":\"\",\"infoType\":2,\"dataInfoState\":0,\"dataInfoOperator\":\"\",\"dataInfoTime\":1585133430000},{\"id\":15049,\"pubDate\":1585133016000,\"pubDateStr\":\"11分钟前\",\"title\":\"巴基斯坦累计确诊新冠肺炎病例998例\",\"summary\":\"当地时间3月25日下午3点30分，巴基斯坦本地媒体报道新增26例新冠肺炎确诊病例，全国累计确诊998例，含7例死亡病例。\",\"infoSource\":\"央视新闻app\",\"sourceUrl\":\"http://app.cctv.com/special/cportal/detail/arti/index.html?id=ArtiiGq0cpsfnDoCyWALWt0X200325&isfromapp=1\",\"provinceId\":\"\",\"infoType\":1,\"dataInfoState\":0,\"dataInfoOperator\":\"\",\"dataInfoTime\":1585133430000},{\"id\":15045,\"pubDate\":1585133002000,\"pubDateStr\":\"11分钟前\",\"title\":\"钟南山建议保持防控措施防第二波\",\"summary\":\"今天，#钟南山向欧洲国家分享经验#表示，在发病早期病人具有更高的传染性，需格外注意输入的病毒感染者。此外，在全球疫情的背景下，为防止第二波高峰，他建议仍应保持现有的防控措施，同时严格外防输入。\",\"infoSource\":\"央视新闻\",\"sourceUrl\":\"http://m.weibo.cn/2656274875/4486435342218228\",\"provinceId\":\"\",\"infoType\":2,\"dataInfoState\":0,\"dataInfoOperator\":\"\",\"dataInfoTime\":1585133421000},{\"id\":15044,\"pubDate\":1585132839000,\"pubDateStr\":\"14分钟前\",\"title\":\"查尔斯王子核酸检测呈阳性\",\"summary\":\"据英国天空台报道，英国王储查尔斯王子新冠肺炎核酸检测呈阳性。\\\\n\",\"infoSource\":\"人民日报\",\"sourceUrl\":\"http://m.weibo.cn/2803301701/4486434658496912\",\"provinceId\":\"\",\"infoType\":2,\"dataInfoState\":0,\"dataInfoOperator\":\"\",\"dataInfoTime\":1585133421000},{\"id\":15040,\"pubDate\":1585132605000,\"pubDateStr\":\"18分钟前\",\"title\":\"黎巴嫩新冠肺炎确诊人数上升至333人\",\"summary\":\"黎巴嫩卫生部官网公布，截至25日中午，新冠肺炎确诊总人数为333人，较昨日增加29人，确诊患者中有7人情况危重。目前，治愈和死亡人数未发生变化，但疑似病例数字增加至327人。\",\"infoSource\":\"央视新闻app\",\"sourceUrl\":\"http://app.cctv.com/special/cportal/detail/arti/index.html?id=ArtiPRd4Zez9guEdca2MkunD200325&isfromapp=1\",\"provinceId\":\"\",\"infoType\":1,\"dataInfoState\":0,\"dataInfoOperator\":\"\",\"dataInfoTime\":1585132846000},{\"id\":15037,\"pubDate\":1585132443000,\"pubDateStr\":\"20分钟前\",\"title\":\"比利时新增668例新冠肺炎\",\"summary\":\"据比利时RTL电视台25日报道，比利时报告新增668例新冠肺炎病例，累计确诊4937例。\",\"infoSource\":\"人民日报海外版\",\"sourceUrl\":\"http://m.weibo.cn/3057540037/4486432997518621\",\"provinceId\":\"\",\"infoType\":1,\"dataInfoState\":0,\"dataInfoOperator\":\"\",\"dataInfoTime\":1585132823000},{\"id\":15031,\"pubDate\":1585132137000,\"pubDateStr\":\"25分钟前\",\"title\":\"中国援助巴基斯坦抗疫物资抵达卡拉奇机场\",\"summary\":\"当地时间2020年3月25日，据当地媒体报道，巴基斯坦国家灾难管理局发言人表示，第一架运送抗疫物资的飞机已经抵达卡拉奇机场。该发言人称，这批抗疫物资包括一百万只口罩，其中有N95口罩。信德省首席部长和国家灾难管理局官员到机场迎接。\",\"infoSource\":\"央视新闻app\",\"sourceUrl\":\"http://app.cctv.com/special/cportal/detail/arti/index.html?id=Arti341t7QGLJVkT9JrSKDOM200325&isfromapp=1\",\"provinceId\":\"\",\"infoType\":2,\"dataInfoState\":0,\"dataInfoOperator\":\"\",\"dataInfoTime\":1585132522000},{\"id\":15028,\"pubDate\":1585131900000,\"pubDateStr\":\"29分钟前\",\"title\":\"文莱新增5例新冠肺炎确诊病例 累计确诊109例\",\"summary\":\"当地时间25日，文莱政府宣布新增5例新冠肺炎确诊病例，累计确诊109例。文莱卫生部长伊桑说，5例新增病例当中，有2人曾到访印尼泗水，1人刚刚从英国伦敦回国，其余3人则属于其他接触性感染。另外，文莱政府宣布，从3月30日开始，全国所有教育机构进行居家网上教学。（总台记者 徐荃乐）\\\\n关注更多权威信息\\\\n戳链接↓↓↓\\\\nH5丨新冠肺炎疫情实时更新\\\\n（编辑 崔智琳）\",\"infoSource\":\"央视新闻app\",\"sourceUrl\":\"http://app.cctv.com/special/cportal/detail/arti/index.html?id=ArtiqP2Ctktuub5mAiq4FsvD200325&isfromapp=1\",\"provinceId\":\"\",\"infoType\":1,\"dataInfoState\":0,\"dataInfoOperator\":\"\",\"dataInfoTime\":1585132243000},{\"id\":15029,\"pubDate\":1585131864000,\"pubDateStr\":\"30分钟前\",\"title\":\"感染人数三天翻一倍 是什么让纽约成了美国疫情“震中“？\",\"summary\":\"美国约翰·霍普金斯大学发布的数据显示，截至东部时间24日15时，美国新冠肺炎确诊病例升至50206例。世界卫生组织同日表示，美国有可能成为新冠病毒大流行的新中心。\",\"infoSource\":\"央视新闻app\",\"sourceUrl\":\"http://app.cctv.com/special/cportal/detail/arti/index.html?id=ArtihniBUqAgKdX0DMWYp1pR200325&isfromapp=1\",\"provinceId\":\"\",\"infoType\":2,\"dataInfoState\":0,\"dataInfoOperator\":\"\",\"dataInfoTime\":1585132243000},{\"id\":15020,\"pubDate\":1585131239000,\"pubDateStr\":\"40分钟前\",\"title\":\"中国专家团队协助伊拉克建成巴格达医疗城核酸检测实验室\",\"summary\":\"由中国红十字会志愿专家团队协助建设的巴格达医疗城核酸检测实验室举行揭牌仪式，正式投入使用。\",\"infoSource\":\"央视新闻app\",\"sourceUrl\":\"http://app.cctv.com/special/cportal/detail/arti/index.html?id=ArtiPxdEozM2TlIJgfu0ysZo200325&isfromapp=1\",\"provinceId\":\"\",\"infoType\":2,\"dataInfoState\":0,\"dataInfoOperator\":\"\",\"dataInfoTime\":1585131655000},{\"id\":15021,\"pubDate\":1585131208000,\"pubDateStr\":\"41分钟前\",\"title\":\"钟南山院士出席中欧抗疫视频会：发病早期病人具有更高的传染性\",\"summary\":\"今天（25日）15时，钟南山院士等中国专家参加中欧抗疫视频会，与来自德国、意大利、英国、罗马尼亚等国的专家一起交流了新冠肺炎全球疫情下各国疫情的状态与应对的策略，分享诊疗方案及医护人员防护经验。\",\"infoSource\":\"央视新闻app\",\"sourceUrl\":\"http://app.cctv.com/special/cportal/detail/arti/index.html?id=ArtiPjYU3nS1Vjo1TMgGPimv200325&isfromapp=1\",\"provinceId\":\"\",\"infoType\":2,\"dataInfoState\":0,\"dataInfoOperator\":\"\",\"dataInfoTime\":1585131655000},{\"id\":15012,\"pubDate\":1585130782000,\"pubDateStr\":\"48分钟前\",\"title\":\"毛里求斯新增6例新冠肺炎确诊病例 累计确诊48例\",\"summary\":\"毛里求斯卫生部于当地时间3月25日发布消息称，毛里求斯新增6例新冠肺炎确诊病例，累计确诊48例，2例死亡，现有确诊46例。\",\"infoSource\":\"央视新闻app\",\"sourceUrl\":\"http://app.cctv.com/special/cportal/detail/arti/index.html?id=Arti6bIEDc8ZNKBVXZjeV4Dc200325&isfromapp=1\",\"provinceId\":\"\",\"infoType\":1,\"dataInfoState\":0,\"dataInfoOperator\":\"\",\"dataInfoTime\":1585131021000},{\"id\":15013,\"pubDate\":1585130641000,\"pubDateStr\":\"50分钟前\",\"title\":\"外交部：中方愿为外商在华采购医疗物资提供便利\",\"summary\":\"外交部发言人耿爽在今天（25日）的例行记者会上介绍，中国政府愿向外国在华商业采购医疗物资提供便利，中国企业复工复产、经济社会恢复发展将继续为国际社会合作应对疫情提供有力支撑。\",\"infoSource\":\"央视新闻app\",\"sourceUrl\":\"http://app.cctv.com/special/cportal/detail/arti/index.html?id=ArtiHIToDj2VA0vtlbVtkGm6200325&isfromapp=1\",\"provinceId\":\"\",\"infoType\":2,\"dataInfoState\":0,\"dataInfoOperator\":\"\",\"dataInfoTime\":1585131021000},{\"id\":15004,\"pubDate\":1585130146000,\"pubDateStr\":\"59分钟前\",\"title\":\" 3月25日重庆市新冠肺炎疫情防控工作新闻发布会疫情通报 \",\"summary\":\"   无新增境外输入新冠肺炎确诊病例市卫生健康委通报，3月24日0—24时，重庆市本地无新增新冠肺炎确诊病例，无新增境外输入新冠肺炎确诊病例。\\\\n        \",\"infoSource\":\"重庆卫健委\",\"sourceUrl\":\"http://wsjkw.cq.gov.cn/yqxxyqtb/20200325/261172.html\",\"provinceId\":\"\",\"infoType\":2,\"dataInfoState\":0,\"dataInfoOperator\":\"\",\"dataInfoTime\":1585130146000},{\"id\":15006,\"pubDate\":1585129980000,\"pubDateStr\":\"1小时前\",\"title\":\"以色列新冠肺炎确诊病例新增100例 累计2030例\",\"summary\":\"当地时间3月25日上午，以色列卫生部宣布，从24日晚11时到25日早11时，新冠肺炎确诊病例增加100例，累计2030例。\",\"infoSource\":\"央视新闻app\",\"sourceUrl\":\"http://app.cctv.com/special/cportal/detail/arti/index.html?id=ArtiiwfDhT6qKMHBmfO5HfPJ200325&isfromapp=1\",\"provinceId\":\"\",\"infoType\":1,\"dataInfoState\":0,\"dataInfoOperator\":\"\",\"dataInfoTime\":1585130450000},{\"id\":15007,\"pubDate\":1585129910000,\"pubDateStr\":\"1小时前\",\"title\":\"马来西亚新增172例新冠肺炎确诊病例 累计确诊1796例\",\"summary\":\"当地时间25日，马来西亚宣布新增172例新冠肺炎确诊病例，累计确诊1796例，累计死亡病例19例。\",\"infoSource\":\"央视新闻app\",\"sourceUrl\":\"http://app.cctv.com/special/cportal/detail/arti/index.html?id=Artiv2pdDt3aBFtX6160jjem200325&isfromapp=1\",\"provinceId\":\"\",\"infoType\":1,\"dataInfoState\":0,\"dataInfoOperator\":\"\",\"dataInfoTime\":1585130450000},{\"id\":14993,\"pubDate\":1585129836000,\"pubDateStr\":\"1小时前\",\"title\":\"印尼新增新冠肺炎确诊病例105例 累计确诊790例\",\"summary\":\"3月25日，印尼卫生部宣布，新增105例新冠肺炎确诊病例，全国累计确诊790例，含58例死亡病例。\",\"infoSource\":\"央视新闻app\",\"sourceUrl\":\"http://app.cctv.com/special/cportal/detail/arti/index.html?id=ArtiI3BZ7rhLhbGYiE6Rc77n200325&isfromapp=1\",\"provinceId\":\"\",\"infoType\":1,\"dataInfoState\":0,\"dataInfoOperator\":\"\",\"dataInfoTime\":1585130126000},{\"id\":14994,\"pubDate\":1585129808000,\"pubDateStr\":\"1小时前\",\"title\":\"24日北京新增5例境外输入病例均为留学生 涉及5个航班\",\"summary\":\"3月25日，在北京市新型冠状病毒肺炎疫情防控工作新闻发布会上，北京市疾控中心副主任庞星火说，3月24日北京市新增报告境外输入新冠肺炎病例5例。\",\"infoSource\":\"央视新闻app\",\"sourceUrl\":\"http://app.cctv.com/special/cportal/detail/arti/index.html?id=ArtiKAInkMGASDHIONlPbQhd200325&isfromapp=1\",\"provinceId\":\"\",\"infoType\":2,\"dataInfoState\":0,\"dataInfoOperator\":\"\",\"dataInfoTime\":1585130126000},{\"id\":14996,\"pubDate\":1585129549000,\"pubDateStr\":\"1小时前\",\"title\":\"泰国26日起实施紧急状态法 总理巴育将亲自坐镇指挥\",\"summary\":\"当地时间25日下午，泰国总理巴育发表电视讲话宣布，为了防控新冠肺炎疫情，泰国将于3月26日起在全国范围内正式实施紧急状态法，有效期至4月30日。\",\"infoSource\":\"央视新闻app\",\"sourceUrl\":\"http://app.cctv.com/special/cportal/detail/arti/index.html?id=Artix4oTyAMyay37NB1FM04e200325&isfromapp=1\",\"provinceId\":\"\",\"infoType\":2,\"dataInfoState\":0,\"dataInfoOperator\":\"\",\"dataInfoTime\":1585130126000},{\"id\":14986,\"pubDate\":1585129495000,\"pubDateStr\":\"1小时前\",\"title\":\"哈汉学家评价中国高水平医疗 抗疫新冠疫情不分国界\",\"summary\":\"24日，哈萨克斯坦汉学家哈菲佐娃在接受采访时表示，今天的中国经济发展和医疗发展都处于很高的水平。中国为应对疫情做出了最大努力。新冠肺炎不分国界，任何一个国家都不可能独善其身。我们应意识到，我们的命运相连，我们应相互支持帮助。\",\"infoSource\":\"央视新闻app\",\"sourceUrl\":\"http://app.cctv.com/special/cportal/detail/arti/index.html?id=Arti4VLKMvcabm4rY5eoX9kn200325&isfromapp=1\",\"provinceId\":\"\",\"infoType\":2,\"dataInfoState\":0,\"dataInfoOperator\":\"\",\"dataInfoTime\":1585129831000},{\"id\":14987,\"pubDate\":1585129459000,\"pubDateStr\":\"1小时前\",\"title\":\"以色列议长宣布辞职\",\"summary\":\"25日，以色列议会议长埃德尔斯坦宣布辞职。以蓝白党领导人甘茨为首的中左翼集团的61名议员提议投票，选举蓝白党的议员科恩取代埃德尔斯坦，目前还不知道何时投票。\",\"infoSource\":\"央视新闻app\",\"sourceUrl\":\"http://app.cctv.com/special/cportal/detail/arti/index.html?id=ArtioqJfH0nOmuEQ7Bghagna200325&isfromapp=1\",\"provinceId\":\"\",\"infoType\":2,\"dataInfoState\":0,\"dataInfoOperator\":\"\",\"dataInfoTime\":1585129831000},{\"id\":14988,\"pubDate\":1585129377000,\"pubDateStr\":\"1小时前\",\"title\":\"北京通报两例境外输入典型病例：集中隔离观察十分必要\",\"summary\":\"在今天（25日）北京市疫情防控第61场发布会上，北京市疾控中心副主任 庞星火通报了两起典型境外输入新冠肺炎案例。\",\"infoSource\":\"央视新闻app\",\"sourceUrl\":\"http://app.cctv.com/special/cportal/detail/arti/index.html?id=ArtiMG2kZFSUVrMLKNybsHvU200325&isfromapp=1\",\"provinceId\":\"\",\"infoType\":2,\"dataInfoState\":0,\"dataInfoOperator\":\"\",\"dataInfoTime\":1585129831000},{\"id\":14989,\"pubDate\":1585129339000,\"pubDateStr\":\"1小时前\",\"title\":\"25日伊朗新增新冠肺炎确诊病例2206例 累计确诊27017例\",\"summary\":\"伊朗卫生部官员25日表示，在过去的24小时里，伊朗新增新冠肺炎确诊病例2206例，新增死亡病例143例，截至当天中午，伊朗累计确诊27017例，其中死亡2077例，治愈9625例\",\"infoSource\":\"央视新闻app\",\"sourceUrl\":\"http://app.cctv.com/special/cportal/detail/arti/index.html?id=Arti1mNkg9CZ0gQr8jKRgNs9200325&isfromapp=1\",\"provinceId\":\"\",\"infoType\":1,\"dataInfoState\":0,\"dataInfoOperator\":\"\",\"dataInfoTime\":1585129831000},{\"id\":14990,\"pubDate\":1585129314000,\"pubDateStr\":\"1小时前\",\"title\":\"南非卫生部长：不提供新冠肺炎患者完整信息的实验室将面临刑事指控\",\"summary\":\"据南非当地媒体EWN报道，当地时间3月24日，南非卫生部长穆凯兹在新闻发布会上说，不提供新冠肺炎患者完整信息的临床医生和病理学家将面临刑事指控。\",\"infoSource\":\"央视新闻app\",\"sourceUrl\":\"http://app.cctv.com/special/cportal/detail/arti/index.html?id=ArtiACXPlBmZVERd5JBYU0FZ200325&isfromapp=1\",\"provinceId\":\"\",\"infoType\":2,\"dataInfoState\":0,\"dataInfoOperator\":\"\",\"dataInfoTime\":1585129831000},{\"id\":15005,\"pubDate\":1585129203000,\"pubDateStr\":\"1小时前\",\"title\":\"意大利扣押1840套呼吸器具\",\"summary\":\"      3月24日，意大利警方于热内亚港口扣押1840套呼吸器具，包括气阀及面罩等配件。运送物资的卡车已通过检查入港，在等候登船时被警方截获。\",\"infoSource\":\"人民日报海外版\",\"sourceUrl\":\"http://m.weibo.cn/3057540037/4486419407744593\",\"provinceId\":\"\",\"infoType\":2,\"dataInfoState\":0,\"dataInfoOperator\":\"\",\"dataInfoTime\":1585130183000},{\"id\":14981,\"pubDate\":1585129065000,\"pubDateStr\":\"1小时前\",\"title\":\"广州白云机场对入境旅客再增设“集中观察区”\",\"summary\":\"在今天（3月25日）举行的广州市政府新冠肺炎疫情防控新闻通气会上，广州白云机场相关负责人通报，从3月21日起，广东省实施“所有国家入境旅客”“免费核酸检测”“14天隔离观察”三个全覆盖，仅保留红色、黄色的旅客分类标签。\",\"infoSource\":\"央视新闻app\",\"sourceUrl\":\"http://app.cctv.com/special/cportal/detail/arti/index.html?id=ArtiDlkJUgjvDfrPhMGwwR36200325&isfromapp=1\",\"provinceId\":\"\",\"infoType\":2,\"dataInfoState\":0,\"dataInfoOperator\":\"\",\"dataInfoTime\":1585129563000},{\"id\":14976,\"pubDate\":1585128702000,\"pubDateStr\":\"1小时前\",\"title\":\"双战双胜！天津国家会展中心建设按下“复工键”\",\"summary\":\"天津国家会展中心是国家重点建设项目承接北京非首都功能疏解是优化国家会展业战略发展布局的重要平台国家会展中心施工团队自2月20日陆续复工复产今天，2800余名施工人员满员复工施工现场“火力全开”\\\\n\",\"infoSource\":\"央视新闻app\",\"sourceUrl\":\"http://app.cctv.com/special/cportal/detail/arti/index.html?id=ArtiMGF2wRoBZBQ7QHkZjKsv200325&isfromapp=1\",\"provinceId\":\"\",\"infoType\":2,\"dataInfoState\":0,\"dataInfoOperator\":\"\",\"dataInfoTime\":1585128958000},{\"id\":14970,\"pubDate\":1585128469000,\"pubDateStr\":\"1小时前\",\"title\":\"天津发布海上大风黄色预警 阵风9级\",\"summary\":\"天津海洋中心气象台于2020年03月25日15时40分发布海上大风黄色预警信号：预计明天白天渤海西部中部海面将有东北风7-8级，阵风9级，请有关单位和人员作好防范准备。\",\"infoSource\":\"央视新闻app\",\"sourceUrl\":\"http://app.cctv.com/special/cportal/detail/arti/index.html?id=ArtihQdyyN5km4fTgFc2mGWR200325&isfromapp=1\",\"provinceId\":\"\",\"infoType\":2,\"dataInfoState\":0,\"dataInfoOperator\":\"\",\"dataInfoTime\":1585128629000},{\"id\":14971,\"pubDate\":1585128428000,\"pubDateStr\":\"1小时前\",\"title\":\"受疫情影响 泰国国家银行预测今年GDP增长率为 -5.3%\",\"summary\":\"泰国国家银行宏观经济政策资深专家敦·那空他日前透露，由于受到新冠肺炎疫情的影响，预计2020年泰国GDP增长率为-5.3%，主要原因是疫情导致泰国出口业和旅游业遭受重创，国际游客减少了60%。疫情的蔓延对各国的经济贸易活动造成重大影响，泰国贸易伙伴国的经济增长也都不同程度放缓，甚至出现萎缩。\",\"infoSource\":\"央视新闻app\",\"sourceUrl\":\"http://app.cctv.com/special/cportal/detail/arti/index.html?id=Artic3iOzHenGHn6H1ZRu0ZG200325&isfromapp=1\",\"provinceId\":\"\",\"infoType\":2,\"dataInfoState\":0,\"dataInfoOperator\":\"\",\"dataInfoTime\":1585128629000},{\"id\":14962,\"pubDate\":1585128185000,\"pubDateStr\":\"1小时前\",\"title\":\"老挝新冠肺炎确诊病例增至3例\",\"summary\":\"老挝卫生部25日向媒体宣布，当日老挝新增1例新冠肺炎确诊病例，累计确诊病例达3例。\",\"infoSource\":\"央视新闻app\",\"sourceUrl\":\"http://app.cctv.com/special/cportal/detail/arti/index.html?id=ArtiIskvNEeQonLtBA1mki57200325&isfromapp=1\",\"provinceId\":\"\",\"infoType\":1,\"dataInfoState\":0,\"dataInfoOperator\":\"\",\"dataInfoTime\":1585128342000},{\"id\":14963,\"pubDate\":1585128142000,\"pubDateStr\":\"1小时前\",\"title\":\"乌克兰新增新冠肺炎死亡病例1例 累计确诊113例\",\"summary\":\"据乌通社当地时间25日报道，乌克兰捷尔诺波尔州防疫指挥部报告新增1例新冠肺炎死亡病例，死者为当地1名68岁男子。截至目前，乌克兰共报告新冠肺炎确诊病例113例，死亡病例4例，康复1例。\",\"infoSource\":\"央视新闻app\",\"sourceUrl\":\"http://app.cctv.com/special/cportal/detail/arti/index.html?id=ArtijuNPruiWPfyYkxmZInhG200325&isfromapp=1\",\"provinceId\":\"\",\"infoType\":1,\"dataInfoState\":0,\"dataInfoOperator\":\"\",\"dataInfoTime\":1585128342000},{\"id\":14958,\"pubDate\":1585127881000,\"pubDateStr\":\"1小时前\",\"title\":\"阿富汗累计确诊79例新冠肺炎病例 新增1例死亡\",\"summary\":\"当地时间24日，阿富汗公共卫生部证实，赫拉特省新增1例新冠肺炎死亡病例，系1名45岁的女性。这是阿富汗第2位因新冠肺炎死亡的患者，第1位出现在巴尔赫省。此外，根据阿公共卫生部消息，喀布尔一外国使馆的当地雇员已被确诊感染了新冠肺炎，加上日前北约方面公布的4位感染者，目前阿富汗累计新冠肺炎感染者人数为79人。\",\"infoSource\":\"央视新闻app\",\"sourceUrl\":\"http://app.cctv.com/special/cportal/detail/arti/index.html?id=Arti3qV0dgy5GtzaaMn0wuRV200325&isfromapp=1\",\"provinceId\":\"\",\"infoType\":1,\"dataInfoState\":0,\"dataInfoOperator\":\"\",\"dataInfoTime\":1585128056000},{\"id\":14967,\"pubDate\":1585127878000,\"pubDateStr\":\"1小时前\",\"title\":\"香港累计确诊超过400例\",\"summary\":\"香港特区政府卫生署25日通报，截至下午4时，全港新增24例新冠肺炎确诊病例。#香港累计确诊升至410例。\",\"infoSource\":\"人民日报\",\"sourceUrl\":\"http://m.weibo.cn/2803301701/4486413850913868\",\"provinceId\":\"\",\"infoType\":1,\"dataInfoState\":0,\"dataInfoOperator\":\"\",\"dataInfoTime\":1585128382000},{\"id\":14960,\"pubDate\":1585127698000,\"pubDateStr\":\"1小时前\",\"title\":\"伊朗方舱医院正式投入使用 德黑兰70%的医院床位用于收治患者\",\"summary\":\"据伊朗伊斯兰共和国通讯社报道，当地时间25日上午，由伊朗军队建设的、可提供2000个床位的方舱医院正式投入使用，该方舱医院位于伊朗首都德黑兰北部的德黑兰国际会展中心。\",\"infoSource\":\"央视新闻app\",\"sourceUrl\":\"http://app.cctv.com/special/cportal/detail/arti/index.html?id=ArtioY9KqI6VO9iGeRUZfkiQ200325&isfromapp=1\",\"provinceId\":\"\",\"infoType\":2,\"dataInfoState\":0,\"dataInfoOperator\":\"\",\"dataInfoTime\":1585128056000},{\"id\":14955,\"pubDate\":1585127481000,\"pubDateStr\":\"1小时前\",\"title\":\"英国考虑释放部分囚犯以缓解疫情带来的人员不足压力\",\"summary\":\"当地时间25日，英国政府计划从英格兰和威尔士的监狱中释放一些罪犯，以减轻新冠肺炎疫情蔓延所带来的巨大压力。英国司法大臣罗伯特·巴克兰表示，目前英国很多监狱已经达到囚犯羁押的上限，而新冠病毒的蔓延为监狱系统构成“急迫”的巨大风险。\",\"infoSource\":\"央视新闻app\",\"sourceUrl\":\"http://app.cctv.com/special/cportal/detail/arti/index.html?id=ArtiZBxAHPI5hIbs9Anl6DgZ200325&isfromapp=1\",\"provinceId\":\"\",\"infoType\":2,\"dataInfoState\":0,\"dataInfoOperator\":\"\",\"dataInfoTime\":1585127760000},{\"id\":14957,\"pubDate\":1585127356000,\"pubDateStr\":\"1小时前\",\"title\":\"捷克将中韩从疫情高危国家名单中删除 新增美国、加拿大等6国\",\"summary\":\"当地时间3月24日，捷克卫生部发言人加布里埃拉·斯捷潘涅娃（Gabriela Štěpanyová）表示，捷克卫生部已于3月23日更新了新冠肺炎疫情高危国家/地区名单，删除了中国和韩国，并新增加了美国、以色列、加拿大、马来西亚、澳大利亚和葡萄牙。\",\"infoSource\":\"央视新闻app\",\"sourceUrl\":\"http://app.cctv.com/special/cportal/detail/arti/index.html?id=ArtiZIkP36FxmlmMGz7rxgAi200325&isfromapp=1\",\"provinceId\":\"\",\"infoType\":2,\"dataInfoState\":0,\"dataInfoOperator\":\"\",\"dataInfoTime\":1585127760000},{\"id\":14951,\"pubDate\":1585127272000,\"pubDateStr\":\"1小时前\",\"title\":\"北京：四类人员暂时仍不能返京\",\"summary\":\"记者今天（25日）从北京市疫情防控第61场发布会上获悉，今天下午，第一批滞留湖北800余人将于今天下午到京这次滞留湖北的北京人员的返京工作大约利用半个月左右的时间完成，但如果有确诊病例、疑似病例、密切接触者或者有发热症状的人员，暂时仍无法返京。北京市人民政府副秘书长陈蓓特别提示所有返京人员，要积极配合相关部门，按照相关的流程落实做好工作。\",\"infoSource\":\"央视新闻app\",\"sourceUrl\":\"http://app.cctv.com/special/cportal/detail/arti/index.html?id=ArtiIn5gaMV0L9pb3Suewa45200325&isfromapp=1\",\"provinceId\":\"\",\"infoType\":2,\"dataInfoState\":0,\"dataInfoOperator\":\"\",\"dataInfoTime\":1585127433000},{\"id\":14952,\"pubDate\":1585127157000,\"pubDateStr\":\"1小时前\",\"title\":\"隐瞒出入境行程 北京警方对李某辉作出行政拘留处罚\",\"summary\":\"当前，境外疫情快速扩散蔓延，外防输入形势严峻、任务艰巨。北京市连续推出严格管控措施，但仍有个别人员故意隐瞒出入境行为，给首都疫情防控造成潜在风险。\",\"infoSource\":\"央视新闻app\",\"sourceUrl\":\"http://app.cctv.com/special/cportal/detail/arti/index.html?id=ArtiJmvcWYcZoAChBdnAFb3i200325&isfromapp=1\",\"provinceId\":\"\",\"infoType\":2,\"dataInfoState\":0,\"dataInfoOperator\":\"\",\"dataInfoTime\":1585127433000},{\"id\":14953,\"pubDate\":1585127041000,\"pubDateStr\":\"1小时前\",\"title\":\"英国议会将讨论是否于当地时间25日晚关闭\",\"summary\":\"英国议会将讨论是否于当地时间25日晚关闭，为期四周。据英国广播公司报道，3月25日，议会将继续就应对新冠肺炎紧急法案进行辩论，在该法案获得通过并获得王室同意后，议员们将投票讨论是否关闭议会直到4月21日。议会原本将于31日起因复活节假期关闭三周，为配合政府最新关于遏制新冠病毒蔓延的举措，议会今晚将讨论是否提前一周关闭。\",\"infoSource\":\"央视新闻app\",\"sourceUrl\":\"http://app.cctv.com/special/cportal/detail/arti/index.html?id=ArtiHNfEGhfkaOTnUMvvLq7X200325&isfromapp=1\",\"provinceId\":\"\",\"infoType\":2,\"dataInfoState\":0,\"dataInfoOperator\":\"\",\"dataInfoTime\":1585127433000},{\"id\":14949,\"pubDate\":1585126991000,\"pubDateStr\":\"1小时前\",\"title\":\"央视为坚守武汉医疗队员送新装\",\"summary\":\"疫情期间，安徽先后派出8批医疗队、1305人支援武汉。近日，医疗队陆续踏上返程之路，仍有一支180多人的队伍继续坚守武汉。春暖花开，跟@央视新闻 一起为他们送去问候。\",\"infoSource\":\"央视新闻\",\"sourceUrl\":\"http://m.weibo.cn/2656274875/4486410130231206\",\"provinceId\":\"\",\"infoType\":2,\"dataInfoState\":0,\"dataInfoOperator\":\"\",\"dataInfoTime\":1585127419000},{\"id\":14948,\"pubDate\":1585126805000,\"pubDateStr\":\"1小时前\",\"title\":\"法国新冠肺炎确诊病例突破两万例\",\"summary\":\"法国东部穆尔豪斯医院中心外建立了野战医院，这是法国主要的冠状病毒热点地区之一。野战医院将于本周开始运行。\",\"infoSource\":\"人民日报海外版\",\"sourceUrl\":\"http://m.weibo.cn/3057540037/4486409349968383\",\"provinceId\":\"\",\"infoType\":2,\"dataInfoState\":0,\"dataInfoOperator\":\"\",\"dataInfoTime\":1585127419000},{\"id\":15019,\"pubDate\":1585098000000,\"pubDateStr\":\"9小时前\",\"title\":\"内蒙古自治区新增境外新冠肺炎输入性病例8例\",\"summary\":\"\\\\n\\u3000\\u30002020年3月24日22时至25日9时，内蒙古自治区报告新增境外新冠肺炎输入性病例8例，均为疑似病例。\\\\n\",\"infoSource\":\"内蒙古卫健委\",\"sourceUrl\":\"http://wjw.nmg.gov.cn/doc/2020/03/25/297043.shtml\",\"provinceId\":\"\",\"infoType\":2,\"dataInfoState\":0,\"dataInfoOperator\":\"\",\"dataInfoTime\":1585131295000}]}catch(e){}',\n",
       " '截至北京时间 2020-03-25 10:50',\n",
       " '截至北京时间 2020-03-25 10:50',\n",
       " '黎巴嫩卫生部官网公布，截至25日中午，新冠肺炎确诊总人数为333人，较昨日增加29人，确诊患者中有7人情况危重。目前，治愈和死亡人数未发生变化，但疑似病例数字增加至327人。',\n",
       " '美国约翰·霍普金斯大学发布的数据显示，截至东部时间24日15时，美国新冠肺炎确诊病例升至50206例。世界卫生组织同日表示，美国有可能成为新冠病毒大流行的新中心。',\n",
       " '伊朗卫生部官员25日表示，在过去的24小时里，伊朗新增新冠肺炎确诊病例2206例，新增死亡病例143例，截至当天中午，伊朗累计确诊27017例，其中死亡2077例，治愈9625例',\n",
       " '据乌通社当地时间25日报道，乌克兰捷尔诺波尔州防疫指挥部报告新增1例新冠肺炎死亡病例，死者为当地1名68岁男子。截至目前，乌克兰共报告新冠肺炎确诊病例113例，死亡病例4例，康复1例。',\n",
       " '香港特区政府卫生署25日通报，截至下午4时，全港新增24例新冠肺炎确诊病例。#香港累计确诊升至410例。']"
      ]
     },
     "execution_count": 6,
     "metadata": {},
     "output_type": "execute_result"
    }
   ],
   "source": [
    "data = soup.findAll(text=re.compile(\"截至.+\"))\n",
    "data"
   ]
  },
  {
   "cell_type": "code",
   "execution_count": 7,
   "metadata": {},
   "outputs": [
    {
     "data": {
      "text/plain": [
       "'2020-03-25 10:50'"
      ]
     },
     "execution_count": 7,
     "metadata": {},
     "output_type": "execute_result"
    }
   ],
   "source": [
    "for s in data:\n",
    "    m = re.search(\"截至.*(202\\d-\\d+-\\d+ \\d+:\\d+)\", s)\n",
    "    if m is not None:\n",
    "        data_date_time = m.group(1)\n",
    "data_date_time"
   ]
  },
  {
   "cell_type": "markdown",
   "metadata": {},
   "source": [
    "### Extract data (summary)"
   ]
  },
  {
   "cell_type": "code",
   "execution_count": 8,
   "metadata": {},
   "outputs": [
    {
     "data": {
      "text/plain": [
       "['try { window.getStatisticsService = {\"id\":1,\"createTime\":1579537899000,\"modifyTime\":1585133426000,\"infectSource\":\"该字段已替换为说明2\",\"passWay\":\"该字段已替换为说明3\",\"imgUrl\":\"https://img1.dxycdn.com/2020/0201/450/3394153392393266839-135.png\",\"dailyPic\":\"https://img1.dxycdn.com/2020/0211/763/3395998884005602079-135.png,https://img1.dxycdn.com/2020/0211/362/3395998896890788910-135.png,https://img1.dxycdn.com/2020/0211/365/3395998905480724211-135.png,https://img1.dxycdn.com/2020/0211/364/3395998916217859778-135.png,https://img1.dxycdn.com/2020/0211/922/3395998929103046444-135.png,https://img1.dxycdn.com/2020/0211/089/3395998939840182072-135.png\",\"dailyPics\":[\"https://img1.dxycdn.com/2020/0211/763/3395998884005602079-135.png\",\"https://img1.dxycdn.com/2020/0211/362/3395998896890788910-135.png\",\"https://img1.dxycdn.com/2020/0211/365/3395998905480724211-135.png\",\"https://img1.dxycdn.com/2020/0211/364/3395998916217859778-135.png\",\"https://img1.dxycdn.com/2020/0211/922/3395998929103046444-135.png\",\"https://img1.dxycdn.com/2020/0211/089/3395998939840182072-135.png\"],\"summary\":\"\",\"deleted\":false,\"countRemark\":\"\",\"currentConfirmedCount\":4813,\"confirmedCount\":81896,\"suspectedCount\":474,\"curedCount\":73796,\"deadCount\":3287,\"seriousCount\":1399,\"suspectedIncr\":47,\"currentConfirmedIncr\":-352,\"confirmedIncr\":149,\"curedIncr\":497,\"deadIncr\":4,\"seriousIncr\":-174,\"virus\":\"该字段已替换为说明1\",\"remark1\":\"易感人群：人群普遍易感。老年人及有基础疾病者感染后病情较重，儿童及婴幼儿也有发病\",\"remark2\":\"潜伏期：一般为 3～7 天，最长不超过 14 天，潜伏期内可能存在传染性，其中无症状病例传染性非常罕见\",\"remark3\":\"宿主：野生动物，可能为中华菊头蝠\",\"remark4\":\"\",\"remark5\":\"\",\"note1\":\"病毒：SARS-CoV-2，其导致疾病命名 COVID-19\",\"note2\":\"传染源：新冠肺炎的患者。无症状感染者也可能成为传染源。\",\"note3\":\"传播途径：经呼吸道飞沫、接触传播是主要的传播途径。气溶胶传播和消化道等传播途径尚待明确。\",\"generalRemark\":\"1. 3 月 12 日国家卫健委确诊补订遗漏 12 例确诊病例（非 12 日新增），暂无具体省份信息。 2. 浙江省 12 例外省治愈暂无具体省份信息。\",\"abroadRemark\":\"\",\"marquee\":[{\"id\":1728,\"marqueeLabel\":\"拉动内需\",\"marqueeContent\":\"浙江等多地鼓励每周休息 2.5 天\",\"marqueeLink\":\"https://dxy.me/YIjDkN\"},{\"id\":1729,\"marqueeLabel\":\"武汉\",\"marqueeContent\":\"新增 1 例确诊是省人民医院医生\",\"marqueeLink\":\"https://dxy.me/yYvwND\"},{\"id\":1730,\"marqueeLabel\":\"最新消息\",\"marqueeContent\":\"英国查尔斯王子新冠病毒检测阳性\",\"marqueeLink\":\"https://dxy.me/1P0gqf\"}],\"quanguoTrendChart\":[{\"imgUrl\":\"https://img1.dxycdn.com/2020/0324/278/3403801351376518263-135.png\",\"title\":\"新增疑似/新增确诊\"},{\"imgUrl\":\"https://img1.dxycdn.com/2020/0324/812/3403847865872006755-135.png\",\"title\":\"境外输入\"},{\"imgUrl\":\"https://img1.dxycdn.com/2020/0324/547/3403847848692336947-135.png\",\"title\":\"现存确诊\"},{\"imgUrl\":\"https://img1.dxycdn.com/2020/0324/775/3403801407211095604-135.png\",\"title\":\"治愈\"},{\"imgUrl\":\"https://img1.dxycdn.com/2020/0324/250/3403801424390727199-135.png\",\"title\":\"死亡\"}],\"hbFeiHbTrendChart\":[{\"imgUrl\":\"https://img1.dxycdn.com/2020/0325/741/3403976603221840149-135.png\",\"title\":\"非湖北新增确诊\"},{\"imgUrl\":\"https://img1.dxycdn.com/2020/0325/960/3403975761408398645-135.png\",\"title\":\"湖北新增确诊\"},{\"imgUrl\":\"https://img1.dxycdn.com/2020/0325/018/3403975785030543028-135.png\",\"title\":\"湖北现存确诊\"},{\"imgUrl\":\"https://img1.dxycdn.com/2020/0325/656/3403975810800347601-135.png\",\"title\":\"非湖北现存确诊\"},{\"imgUrl\":\"https://img1.dxycdn.com/2020/0325/340/3403975838717812269-135.png\",\"title\":\"治愈/死亡\"}],\"foreignTrendChart\":[{\"imgUrl\":\"https://img1.dxycdn.com/2020/0320/702/3403079914982117944-135.png\",\"title\":\"国外新增确诊\"},{\"imgUrl\":\"https://img1.dxycdn.com/2020/0320/396/3403079925719536561-135.png\",\"title\":\"国外累计确诊\"},{\"imgUrl\":\"https://img1.dxycdn.com/2020/0320/139/3403079936457225524-135.png\",\"title\":\"国外死亡\"}],\"importantForeignTrendChart\":[{\"imgUrl\":\"https://img1.dxycdn.com/2020/0320/450/3403077453965772423-135.png\",\"title\":\"重点国家新增确诊\"},{\"imgUrl\":\"https://img1.dxycdn.com/2020/0320/276/3403077462555980566-135.png\",\"title\":\"日本新增确诊\"},{\"imgUrl\":\"https://img1.dxycdn.com/2020/0320/340/3403077473293125942-135.png\",\"title\":\"意大利新增确诊\"},{\"imgUrl\":\"https://img1.dxycdn.com/2020/0320/723/3403077481883334043-135.png\",\"title\":\"伊朗新增确诊\"},{\"imgUrl\":\"https://img1.dxycdn.com/2020/0320/266/3403077492620752785-135.png\",\"title\":\"美国新增确诊\"},{\"imgUrl\":\"https://img1.dxycdn.com/2020/0320/870/3403077503358171278-135.png\",\"title\":\"法国新增确诊\"},{\"imgUrl\":\"https://img1.dxycdn.com/2020/0320/053/3403077511947832997-135.png\",\"title\":\"德国新增确诊\"},{\"imgUrl\":\"https://img1.dxycdn.com/2020/0320/878/3403077520537768006-135.png\",\"title\":\"西班牙新增确诊\"},{\"imgUrl\":\"https://img1.dxycdn.com/2020/0320/443/3403077531275186665-135.png\",\"title\":\"韩国新增确诊\"}],\"foreignTrendChartGlobal\":[{\"imgUrl\":\"https://img1.dxycdn.com/2020/0319/740/3402859458605738923-135.png\",\"title\":\"Daily New Cases\"},{\"imgUrl\":\"https://img1.dxycdn.com/2020/0319/351/3402856772103846114-135.png\",\"title\":\"Total Confirmed Cases\"},{\"imgUrl\":\"https://img1.dxycdn.com/2020/0319/236/3402856782841001789-135.png\",\"title\":\"Total Deaths Cases\"}],\"importantForeignTrendChartGlobal\":[{\"imgUrl\":\"https://img1.dxycdn.com/2020/0319/122/3402856838675578578-135.png\",\"title\":\"Daily New Cases\"},{\"imgUrl\":\"https://img1.dxycdn.com/2020/0319/685/3402856849412997239-135.png\",\"title\":\"Japan\"},{\"imgUrl\":\"https://img1.dxycdn.com/2020/0319/477/3402856860150678804-135.png\",\"title\":\"Italy\"},{\"imgUrl\":\"https://img1.dxycdn.com/2020/0319/454/3402856873035581014-135.png\",\"title\":\"Iran\"},{\"imgUrl\":\"https://img1.dxycdn.com/2020/0319/022/3402856883772999714-135.png\",\"title\":\"U.S.A.\"},{\"imgUrl\":\"https://img1.dxycdn.com/2020/0319/529/3402856894510155506-135.png\",\"title\":\"France\"},{\"imgUrl\":\"https://img1.dxycdn.com/2020/0319/211/3402856905247574064-135.png\",\"title\":\"Germany\"},{\"imgUrl\":\"https://img1.dxycdn.com/2020/0319/054/3402856913837508985-135.png\",\"title\":\"Spain\"},{\"imgUrl\":\"https://img1.dxycdn.com/2020/0319/088/3402856928870157852-135.png\",\"title\":\"Republic of Korea\"}],\"foreignStatistics\":{\"currentConfirmedCount\":291273,\"confirmedCount\":342214,\"suspectedCount\":4,\"curedCount\":35245,\"deadCount\":15696,\"suspectedIncr\":0,\"currentConfirmedIncr\":4981,\"confirmedIncr\":6248,\"curedIncr\":1001,\"deadIncr\":266},\"globalStatistics\":{\"currentConfirmedCount\":296086,\"confirmedCount\":424110,\"curedCount\":109041,\"deadCount\":18983,\"currentConfirmedIncr\":4629,\"confirmedIncr\":6397,\"curedIncr\":1498,\"deadIncr\":270},\"globalOtherTrendChartData\":\"https://file1.dxycdn.com/2020/0325/690/3403979839479981647-135.json\"}}catch(e){}']"
      ]
     },
     "execution_count": 8,
     "metadata": {},
     "output_type": "execute_result"
    }
   ],
   "source": [
    "data = soup.findAll(text=re.compile('\\\"summary.+\\\"confirmedCount\\\":\\d'))\n",
    "\n",
    "data\n"
   ]
  },
  {
   "cell_type": "code",
   "execution_count": 9,
   "metadata": {},
   "outputs": [],
   "source": [
    "m = re.search('\\\"confirmedCount\\\":(\\d+)', data[0])\n",
    "summary_confirmed_count = int(m.group(1))\n",
    "\n",
    "\n",
    "m = re.search('\\\"curedCount\\\":(\\d+)', data[0])\n",
    "summary_cured_count = int(m.group(1))\n",
    "\n",
    "m = re.search('\\\"deadCount\\\":(\\d+)', data[0])\n",
    "summary_dead_count = int(m.group(1))\n"
   ]
  },
  {
   "cell_type": "code",
   "execution_count": 10,
   "metadata": {},
   "outputs": [
    {
     "data": {
      "text/html": [
       "<div>\n",
       "<style scoped>\n",
       "    .dataframe tbody tr th:only-of-type {\n",
       "        vertical-align: middle;\n",
       "    }\n",
       "\n",
       "    .dataframe tbody tr th {\n",
       "        vertical-align: top;\n",
       "    }\n",
       "\n",
       "    .dataframe thead th {\n",
       "        text-align: right;\n",
       "    }\n",
       "</style>\n",
       "<table border=\"1\" class=\"dataframe\">\n",
       "  <thead>\n",
       "    <tr style=\"text-align: right;\">\n",
       "      <th></th>\n",
       "      <th>datetime</th>\n",
       "      <th>confirmed</th>\n",
       "      <th>cured</th>\n",
       "      <th>dead</th>\n",
       "    </tr>\n",
       "  </thead>\n",
       "  <tbody>\n",
       "    <tr>\n",
       "      <th>0</th>\n",
       "      <td>2020-03-25 10:50</td>\n",
       "      <td>81896</td>\n",
       "      <td>73796</td>\n",
       "      <td>3287</td>\n",
       "    </tr>\n",
       "  </tbody>\n",
       "</table>\n",
       "</div>"
      ],
      "text/plain": [
       "           datetime  confirmed  cured  dead\n",
       "0  2020-03-25 10:50      81896  73796  3287"
      ]
     },
     "execution_count": 10,
     "metadata": {},
     "output_type": "execute_result"
    }
   ],
   "source": [
    "# make a dataframe\n",
    "df = pd.DataFrame({\n",
    "    'datetime': data_date_time,\n",
    "    'confirmed': summary_confirmed_count,\n",
    "    'cured': summary_cured_count,\n",
    "    'dead': summary_dead_count\n",
    "}, index=[0])\n",
    "df"
   ]
  },
  {
   "cell_type": "markdown",
   "metadata": {},
   "source": [
    "### Save to file"
   ]
  },
  {
   "cell_type": "code",
   "execution_count": 11,
   "metadata": {},
   "outputs": [],
   "source": [
    "from pathlib import Path\n",
    "csv_file = '../data/china-summary-cases.csv'\n",
    "\n",
    "if Path(csv_file).exists():\n",
    "    # read out the old data - then merge with new data and remove duplicates based on datetime\n",
    "    old_df = pd.read_csv(csv_file)\n",
    "    df = df.append(old_df)\n",
    "df.drop_duplicates(subset=['datetime'], inplace=True)"
   ]
  },
  {
   "cell_type": "code",
   "execution_count": 12,
   "metadata": {},
   "outputs": [],
   "source": [
    "df.sort_values(by=['datetime'], inplace=True)\n",
    "\n",
    "df.to_csv(csv_file, index=False)\n"
   ]
  },
  {
   "cell_type": "markdown",
   "metadata": {},
   "source": [
    "### Plot graph"
   ]
  },
  {
   "cell_type": "code",
   "execution_count": 13,
   "metadata": {},
   "outputs": [],
   "source": [
    "import seaborn as sns\n",
    "import matplotlib.pyplot as plt\n",
    "from pandas.plotting import register_matplotlib_converters\n",
    "register_matplotlib_converters()\n",
    "\n",
    "png_file = '../images/china-summary-cases.png'\n",
    "# convert to pd.datetime\n",
    "df['datetime_idx'] = pd.to_datetime(df['datetime'], format=\"%Y-%m-%d %H:%M\")\n",
    "\n",
    "df.set_index('datetime_idx', inplace=True)\n",
    "df.drop(['datetime'], axis=1, inplace=True)\n"
   ]
  },
  {
   "cell_type": "code",
   "execution_count": 14,
   "metadata": {},
   "outputs": [
    {
     "data": {
      "text/html": [
       "<div>\n",
       "<style scoped>\n",
       "    .dataframe tbody tr th:only-of-type {\n",
       "        vertical-align: middle;\n",
       "    }\n",
       "\n",
       "    .dataframe tbody tr th {\n",
       "        vertical-align: top;\n",
       "    }\n",
       "\n",
       "    .dataframe thead th {\n",
       "        text-align: right;\n",
       "    }\n",
       "</style>\n",
       "<table border=\"1\" class=\"dataframe\">\n",
       "  <thead>\n",
       "    <tr style=\"text-align: right;\">\n",
       "      <th></th>\n",
       "      <th>confirmed</th>\n",
       "      <th>cured</th>\n",
       "      <th>dead</th>\n",
       "    </tr>\n",
       "    <tr>\n",
       "      <th>datetime_idx</th>\n",
       "      <th></th>\n",
       "      <th></th>\n",
       "      <th></th>\n",
       "    </tr>\n",
       "  </thead>\n",
       "  <tbody>\n",
       "    <tr>\n",
       "      <th>2020-02-02 10:22:00</th>\n",
       "      <td>14483</td>\n",
       "      <td>379</td>\n",
       "      <td>304</td>\n",
       "    </tr>\n",
       "    <tr>\n",
       "      <th>2020-02-02 10:28:00</th>\n",
       "      <td>14483</td>\n",
       "      <td>380</td>\n",
       "      <td>304</td>\n",
       "    </tr>\n",
       "    <tr>\n",
       "      <th>2020-02-02 11:19:00</th>\n",
       "      <td>14489</td>\n",
       "      <td>385</td>\n",
       "      <td>304</td>\n",
       "    </tr>\n",
       "    <tr>\n",
       "      <th>2020-02-02 11:54:00</th>\n",
       "      <td>14489</td>\n",
       "      <td>397</td>\n",
       "      <td>304</td>\n",
       "    </tr>\n",
       "    <tr>\n",
       "      <th>2020-02-02 15:01:00</th>\n",
       "      <td>14490</td>\n",
       "      <td>430</td>\n",
       "      <td>304</td>\n",
       "    </tr>\n",
       "    <tr>\n",
       "      <th>...</th>\n",
       "      <td>...</td>\n",
       "      <td>...</td>\n",
       "      <td>...</td>\n",
       "    </tr>\n",
       "    <tr>\n",
       "      <th>2020-03-25 06:23:00</th>\n",
       "      <td>81847</td>\n",
       "      <td>73791</td>\n",
       "      <td>3287</td>\n",
       "    </tr>\n",
       "    <tr>\n",
       "      <th>2020-03-25 08:01:00</th>\n",
       "      <td>81872</td>\n",
       "      <td>73793</td>\n",
       "      <td>3287</td>\n",
       "    </tr>\n",
       "    <tr>\n",
       "      <th>2020-03-25 09:01:00</th>\n",
       "      <td>81872</td>\n",
       "      <td>73793</td>\n",
       "      <td>3287</td>\n",
       "    </tr>\n",
       "    <tr>\n",
       "      <th>2020-03-25 10:04:00</th>\n",
       "      <td>81896</td>\n",
       "      <td>73793</td>\n",
       "      <td>3287</td>\n",
       "    </tr>\n",
       "    <tr>\n",
       "      <th>2020-03-25 10:50:00</th>\n",
       "      <td>81896</td>\n",
       "      <td>73796</td>\n",
       "      <td>3287</td>\n",
       "    </tr>\n",
       "  </tbody>\n",
       "</table>\n",
       "<p>794 rows × 3 columns</p>\n",
       "</div>"
      ],
      "text/plain": [
       "                     confirmed  cured  dead\n",
       "datetime_idx                               \n",
       "2020-02-02 10:22:00      14483    379   304\n",
       "2020-02-02 10:28:00      14483    380   304\n",
       "2020-02-02 11:19:00      14489    385   304\n",
       "2020-02-02 11:54:00      14489    397   304\n",
       "2020-02-02 15:01:00      14490    430   304\n",
       "...                        ...    ...   ...\n",
       "2020-03-25 06:23:00      81847  73791  3287\n",
       "2020-03-25 08:01:00      81872  73793  3287\n",
       "2020-03-25 09:01:00      81872  73793  3287\n",
       "2020-03-25 10:04:00      81896  73793  3287\n",
       "2020-03-25 10:50:00      81896  73796  3287\n",
       "\n",
       "[794 rows x 3 columns]"
      ]
     },
     "execution_count": 14,
     "metadata": {},
     "output_type": "execute_result"
    }
   ],
   "source": [
    "df"
   ]
  },
  {
   "cell_type": "code",
   "execution_count": 15,
   "metadata": {
    "scrolled": true
   },
   "outputs": [
    {
     "data": {
      "image/png": "[encoded data removed]",
      "text/plain": [
       "<Figure size 1008x1008 with 3 Axes>"
      ]
     },
     "metadata": {},
     "output_type": "display_data"
    }
   ],
   "source": [
    "if df.shape[0]>1:\n",
    "    # line chart when having at least a few points\n",
    "    sns.set(rc={'figure.figsize':(14,14)})\n",
    "    sns.set(style=\"whitegrid\")\n",
    "\n",
    "    fig, axs = plt.subplots(nrows=3)\n",
    "\n",
    "    sns.lineplot(x=df.index, y = 'confirmed', data=df, ax= axs[0], estimator=None, color='orange')\n",
    "    sns.lineplot(x=df.index, y = 'cured', data=df, ax= axs[1], estimator=None, color='green')\n",
    "    sns.lineplot(x=df.index, y = 'dead', data=df, ax= axs[2], estimator=None, color='darkred')\n",
    "\n",
    "    for ax in axs:\n",
    "        ax.set_xlabel('')\n",
    "        ax.tick_params(axis='x', labelrotation=30)\n",
    "else:\n",
    "\n",
    "    ax = df.plot(kind='bar', stacked=True, figsize=(9,6))\n",
    "    fig = ax.get_figure()\n",
    "    ax.set_xlabel('')\n",
    "    for label in ax.get_xticklabels():\n",
    "        label.set_rotation(0) \n"
   ]
  },
  {
   "cell_type": "code",
   "execution_count": 16,
   "metadata": {},
   "outputs": [],
   "source": [
    "fig.savefig(png_file)"
   ]
  },
  {
   "cell_type": "code",
   "execution_count": null,
   "metadata": {},
   "outputs": [],
   "source": []
  },
  {
   "cell_type": "code",
   "execution_count": null,
   "metadata": {},
   "outputs": [],
   "source": []
  }
 ],
 "metadata": {
  "kernelspec": {
   "display_name": "Python 3",
   "language": "python",
   "name": "python3"
  },
  "language_info": {
   "codemirror_mode": {
    "name": "ipython",
    "version": 3
   },
   "file_extension": ".py",
   "mimetype": "text/x-python",
   "name": "python",
   "nbconvert_exporter": "python",
   "pygments_lexer": "ipython3",
   "version": "3.7.6"
  }
 },
 "nbformat": 4,
 "nbformat_minor": 2
}
