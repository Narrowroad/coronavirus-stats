{
 "cells": [
  {
   "cell_type": "code",
   "execution_count": 1,
   "metadata": {},
   "outputs": [],
   "source": [
    "import pandas as pd\n",
    "import requests\n",
    "from bs4 import BeautifulSoup\n",
    "import re\n",
    "from datetime import datetime\n",
    "from selenium import webdriver\n",
    "from selenium.webdriver.chrome.options import Options  \n"
   ]
  },
  {
   "cell_type": "code",
   "execution_count": 2,
   "metadata": {},
   "outputs": [
    {
     "data": {
      "text/plain": [
       "datetime.datetime(2020, 3, 30, 11, 8, 10, 535844)"
      ]
     },
     "execution_count": 2,
     "metadata": {},
     "output_type": "execute_result"
    }
   ],
   "source": [
    "datetime.now()"
   ]
  },
  {
   "cell_type": "code",
   "execution_count": 3,
   "metadata": {},
   "outputs": [],
   "source": [
    "chrome_options = Options()  \n",
    "chrome_options.add_argument(\"--headless\")  \n",
    "chrome_options.add_argument(\"--no-sandbox\")\n",
    "\n",
    "driver = webdriver.Chrome('chromedriver', options=chrome_options)"
   ]
  },
  {
   "cell_type": "code",
   "execution_count": 4,
   "metadata": {},
   "outputs": [],
   "source": [
    "url = 'https://ncov.dxy.cn/ncovh5/view/pneumonia'\n",
    "driver.get(url)"
   ]
  },
  {
   "cell_type": "markdown",
   "metadata": {},
   "source": [
    "### Extract date"
   ]
  },
  {
   "cell_type": "code",
   "execution_count": 5,
   "metadata": {},
   "outputs": [],
   "source": [
    "content = driver.page_source\n",
    "soup =BeautifulSoup(content, 'lxml')\n"
   ]
  },
  {
   "cell_type": "code",
   "execution_count": 6,
   "metadata": {},
   "outputs": [
    {
     "data": {
      "text/plain": [
       "['try { window.getTimelineService1 = [{\"id\":20095,\"pubDate\":1585565152000,\"pubDateStr\":\"18分钟前\",\"title\":\"阿曼新增12例新冠肺炎确诊病例 累计确诊179例\",\"summary\":\"据阿曼官方通讯社报道，当地时间3月30日，阿曼卫生部发表声明确认该国新增12例新冠肺炎确诊病例。截至目前，阿曼确诊新冠肺炎病例总数为179例，其中有29例已经治愈，暂无死亡病例。（总台记者 孙建）\",\"infoSource\":\"央视新闻app\",\"sourceUrl\":\"http://app.cctv.com/special/cportal/detail/arti/index.html?id=ArtiE308Od1uq8meh9BHiKq4200330&isfromapp=1\",\"provinceId\":\"\"},{\"id\":20096,\"pubDate\":1585565097000,\"pubDateStr\":\"19分钟前\",\"title\":\"赞比亚新冠肺炎确诊病例增至35例\",\"summary\":\"赞比亚卫生部通报，截至当地时间3月30日，赞比亚境内累计新冠肺炎确诊病例增至35例，比当地时间3月29日通报的29例累计新冠肺炎确诊病例又新增了6例。（总台记者 周琳）\",\"infoSource\":\"央视新闻app\",\"sourceUrl\":\"http://app.cctv.com/special/cportal/detail/arti/index.html?id=Artix9xCDxpuZPKIR4UClFPZ200330&isfromapp=1\",\"provinceId\":\"\"},{\"id\":20090,\"pubDate\":1585564910000,\"pubDateStr\":\"22分钟前\",\"title\":\"瑞士全境进入抗疫严控措施第三周 瑞士和列支敦士登确诊病例增至15475例\",\"summary\":\"截止到当地时间3月30日，根据瑞士联邦公共卫生部最新数据，瑞士和列支敦士登共确诊新冠肺炎感染病例15475例，累计死亡295例。本周，瑞士进入抗击新冠肺炎疫情严控措施的第三周，虽未颁布全国范围内“禁足令”，但瑞士联邦反复呼吁民众，特别是高危人群不要出门。当地时间30日下午，瑞士联邦公共卫生部、外交部、经济部等部门将召开联合新闻发布会。（总台记者 薛婧萌）\",\"infoSource\":\"央视新闻app\",\"sourceUrl\":\"http://app.cctv.com/special/cportal/detail/arti/index.html?id=ArtiJUw9P0S09VWUBTVp7fYY200330&isfromapp=1\",\"provinceId\":\"\"},{\"id\":20068,\"pubDate\":1585563291000,\"pubDateStr\":\"49分钟前\",\"title\":\"黎巴嫩新冠肺炎确诊病例升至446例\",\"summary\":\"黎巴嫩卫生部官网公布，截至30日中午，新冠肺炎确诊总人数为446人，较昨日增加8人。根据卫生部所公布的数字，近几天又有2名患者被治愈，治愈总人数已达32人，与此同时死亡病例上升至11例。确诊患者中目前有3人情况危重，疑似病例数字目前为430人，另外有1074人处于隔离状态。\",\"infoSource\":\"央视新闻app\",\"sourceUrl\":\"http://app.cctv.com/special/cportal/detail/arti/index.html?id=ArtiQLlmZVuShXZ6vhgR5OFS200330&isfromapp=1\",\"provinceId\":\"\"},{\"id\":20055,\"pubDate\":1585562269000,\"pubDateStr\":\"1小时前\",\"title\":\"摩洛哥新增16例新冠肺炎确诊病例 累计479例\",\"summary\":\"摩洛哥卫生部29日21时证实新增16例新冠肺炎确诊病例，累计病例达479例，其中26人死亡，13人治愈，另有1794人病毒检测呈阴性。\",\"infoSource\":\"央视新闻app\",\"sourceUrl\":\"http://app.cctv.com/special/cportal/detail/arti/index.html?id=Arti1zhbFA7X0bgo4yh4ecla200330&isfromapp=1\",\"provinceId\":\"\"},{\"id\":20051,\"pubDate\":1585562150000,\"pubDateStr\":\"1小时前\",\"title\":\"匈牙利新增新冠肺炎确诊病例39例\\xa0累计确诊447例\",\"summary\":\"当地时间3月30日，匈牙利官方新冠疫情信息网站公布，境内新增新冠肺炎确诊病例39例，累计确诊447例；新增2例死亡病例，死者年龄均超过90岁并患有其他疾病，累计死亡15例；累计康复34例。根据国籍区分，447例感染者中有433名匈牙利公民，10名伊朗公民，2名英国公民，1名哈萨克斯坦公民和1名越南公民。\",\"infoSource\":\"央视新闻app\",\"sourceUrl\":\"http://app.cctv.com/special/cportal/detail/arti/index.html?id=ArtibZJK2VjmUzNv1ITKv9lW200330&isfromapp=1\",\"provinceId\":\"\"},{\"id\":20050,\"pubDate\":1585562030000,\"pubDateStr\":\"1小时前\",\"title\":\"西班牙累计确诊85195例全球第三\",\"summary\":\"据西班牙卫生部30日公布的数据，西班牙较前日新增新冠肺炎确诊病例6398例，新增死亡病例812例，累计确诊病例达85195例，其中7340人死亡，16780人治愈出院。\",\"infoSource\":\"人民日报\",\"sourceUrl\":\"http://m.weibo.cn/2803301701/4488234815920570\",\"provinceId\":\"\"},{\"id\":20045,\"pubDate\":1585561832000,\"pubDateStr\":\"1小时前\",\"title\":\"文莱新增1例新冠肺炎确诊病例 累计确诊127例\",\"summary\":\"当地时间29日，文莱政府宣布新增1例新冠肺炎确诊病例，累计确诊新冠肺炎127例。文莱卫生部长伊桑说，截至29日下午5时，共有4人获准出院回家，累计治愈38例。当地维持1例死亡病例。\",\"infoSource\":\"央视新闻app\",\"sourceUrl\":\"http://app.cctv.com/special/cportal/detail/arti/index.html?id=ArtiRMad3JYkYjVQsdfyaTY1200330&isfromapp=1\",\"provinceId\":\"\"},{\"id\":20049,\"pubDate\":1585561237000,\"pubDateStr\":\"1小时前\",\"title\":\"伊朗累计确诊病例达41495例\",\"summary\":\"据外媒报道，伊朗卫生部30日通报，过去24小时，该国新增3186例新冠肺炎确诊病例，累计确诊41495例。 \",\"infoSource\":\"人民日报海外版\",\"sourceUrl\":\"http://m.weibo.cn/3057540037/4488231489943975\",\"provinceId\":\"\"},{\"id\":20034,\"pubDate\":1585560990000,\"pubDateStr\":\"1小时前\",\"title\":\"格鲁吉亚新冠肺炎累计确诊98例\",\"summary\":\"当地时间3月30日，格鲁吉亚政府疫情监测平台公布消息，格鲁吉亚境内累计确诊新冠肺炎病例98例，其中治愈18例。目前，共有4978人接受隔离，266人正在接受医学观察。因疫情发展，格政府已宣布国家紧急状态持续至4月21日。\",\"infoSource\":\"央视新闻app\",\"sourceUrl\":\"http://app.cctv.com/special/cportal/detail/arti/index.html?id=Artin4lISWBucY95d5e3JuRK200330&isfromapp=1\",\"provinceId\":\"\"},{\"id\":20025,\"pubDate\":1585560817000,\"pubDateStr\":\"1小时前\",\"title\":\"比利时新增新冠肺炎确诊病例1063例 累计确诊11899例\",\"summary\":\"当地时间30日上午，据比利时卫生部门官方通报，在过去24小时内，比利时新增新冠肺炎确诊病例1063例，累计确诊11899例。死亡病例新增82例，累计513例。目前住院治疗的病例达4524例，其中927例接受重症监护。此外，从3月15日到3月29日，已有1527名病患治愈出院。\",\"infoSource\":\"央视新闻app\",\"sourceUrl\":\"http://app.cctv.com/special/cportal/detail/arti/index.html?id=ArtilLJrYekUNcWHypgkGFBB200330&isfromapp=1\",\"provinceId\":\"\"},{\"id\":20017,\"pubDate\":1585559813000,\"pubDateStr\":\"1小时前\",\"title\":\"印尼新增新冠肺炎确诊病例129例 累计确诊1414例\",\"summary\":\"3月30日，印尼卫生部宣布新增129例新冠肺炎确诊病例，全国累计确诊1414例，含122例死亡病例。\",\"infoSource\":\"央视新闻app\",\"sourceUrl\":\"http://app.cctv.com/special/cportal/detail/arti/index.html?id=ArtimHVL0i3VbDoP702plBNZ200330&isfromapp=1\",\"provinceId\":\"\"},{\"id\":20018,\"pubDate\":1585559781000,\"pubDateStr\":\"1小时前\",\"title\":\"俄罗斯新增新冠肺炎确诊病例302例 累计确诊1836例\",\"summary\":\"据俄罗斯新冠病毒防疫官网消息，截至3月30日，俄罗斯境内共确诊新冠肺炎感染病例1836例，单日新增302例。累计治愈病例共66例，死亡9例。另据俄联邦消费者权益保护和公益监督局消息，该局目前对将近74万人展开了自我居家隔离控制。\",\"infoSource\":\"央视新闻app\",\"sourceUrl\":\"http://app.cctv.com/special/cportal/detail/arti/index.html?id=Arti7rxeQwSZvAjyyA7pp0GP200330&isfromapp=1\",\"provinceId\":\"\"},{\"id\":20010,\"pubDate\":1585559460000,\"pubDateStr\":\"1小时前\",\"title\":\"香港30日通报：新增41例新冠肺炎确诊病例 累计确诊682例\",\"summary\":\"今日（30日）下午，香港特区政府卫生署及医院管理局就新冠肺炎疫情的最新情况举行简报会。简报会指出，截至今日16时30分，香港新增41宗新冠肺炎确诊个案，确诊总数增至682宗。今日确诊病例中有34宗病例有外游记录，4宗本地个案未知感染源头，当中17人是留学海外学生。与此同时，过去24小时内，香港再多6名新冠肺炎患者出院。截至目前，香港已有123名确诊患及1名疑似患者出院。\",\"infoSource\":\"央视新闻app\",\"sourceUrl\":\"http://app.cctv.com/special/cportal/detail/arti/index.html?id=ArtigAzRqtM2wo8qXkpWVp6g200330&isfromapp=1\",\"provinceId\":\"\"},{\"id\":20003,\"pubDate\":1585559325000,\"pubDateStr\":\"1小时前\",\"title\":\"西班牙卫生部发言人确诊感染新冠肺炎\",\"summary\":\"西班牙卫生部30日宣布，卫生部官方发言人、卫生预警及应急协调中心主任费尔南多·西蒙确诊感染新冠病毒，西蒙在当地时间周日（29日）晚的新冠病毒检测中呈阳性，他将不会出席卫生预警及协调中心在30日举行的记者会。\",\"infoSource\":\"央视新闻app\",\"sourceUrl\":\"http://app.cctv.com/special/cportal/detail/arti/index.html?id=ArtiNkn3P0UC9Ekugtxv5RrN200330&isfromapp=1\",\"provinceId\":\"\"}]}catch(e){}',\n",
       " '截至北京时间 2020-03-30 10:55',\n",
       " '截至北京时间 2020-03-30 10:55',\n",
       " '据阿曼官方通讯社报道，当地时间3月30日，阿曼卫生部发表声明确认该国新增12例新冠肺炎确诊病例。截至目前，阿曼确诊新冠肺炎病例总数为179例，其中有29例已经治愈，暂无死亡病例。（总台记者 孙建）',\n",
       " '赞比亚卫生部通报，截至当地时间3月30日，赞比亚境内累计新冠肺炎确诊病例增至35例，比当地时间3月29日通报的29例累计新冠肺炎确诊病例又新增了6例。（总台记者 周琳）',\n",
       " '黎巴嫩卫生部官网公布，截至30日中午，新冠肺炎确诊总人数为446人，较昨日增加8人。根据卫生部所公布的数字，近几天又有2名患者被治愈，治愈总人数已达32人，与此同时死亡病例上升至11例。确诊患者中目前有3人情况危重，疑似病例数字目前为430人，另外有1074人处于隔离状态。',\n",
       " '当地时间29日，文莱政府宣布新增1例新冠肺炎确诊病例，累计确诊新冠肺炎127例。文莱卫生部长伊桑说，截至29日下午5时，共有4人获准出院回家，累计治愈38例。当地维持1例死亡病例。',\n",
       " '据俄罗斯新冠病毒防疫官网消息，截至3月30日，俄罗斯境内共确诊新冠肺炎感染病例1836例，单日新增302例。累计治愈病例共66例，死亡9例。另据俄联邦消费者权益保护和公益监督局消息，该局目前对将近74万人展开了自我居家隔离控制。',\n",
       " '今日（30日）下午，香港特区政府卫生署及医院管理局就新冠肺炎疫情的最新情况举行简报会。简报会指出，截至今日16时30分，香港新增41宗新冠肺炎确诊个案，确诊总数增至682宗。今日确诊病例中有34宗病例有外游记录，4宗本地个案未知感染源头，当中17人是留学海外学生。与此同时，过去24小时内，香港再多6名新冠肺炎患者出院。截至目前，香港已有123名确诊患及1名疑似患者出院。']"
      ]
     },
     "execution_count": 6,
     "metadata": {},
     "output_type": "execute_result"
    }
   ],
   "source": [
    "data = soup.findAll(text=re.compile(\"截至.+\"))\n",
    "data"
   ]
  },
  {
   "cell_type": "code",
   "execution_count": 7,
   "metadata": {},
   "outputs": [
    {
     "data": {
      "text/plain": [
       "'2020-03-30 10:55'"
      ]
     },
     "execution_count": 7,
     "metadata": {},
     "output_type": "execute_result"
    }
   ],
   "source": [
    "for s in data:\n",
    "    m = re.search(\"截至.*(202\\d-\\d+-\\d+ \\d+:\\d+)\", s)\n",
    "    if m is not None:\n",
    "        data_date_time = m.group(1)\n",
    "data_date_time"
   ]
  },
  {
   "cell_type": "markdown",
   "metadata": {},
   "source": [
    "### Extract data (summary)"
   ]
  },
  {
   "cell_type": "code",
   "execution_count": 8,
   "metadata": {},
   "outputs": [
    {
     "data": {
      "text/plain": [
       "['try { window.getStatisticsService = {\"id\":1,\"createTime\":1579537899000,\"modifyTime\":1585565733000,\"infectSource\":\"该字段已替换为说明2\",\"passWay\":\"该字段已替换为说明3\",\"imgUrl\":\"https://img1.dxycdn.com/2020/0201/450/3394153392393266839-135.png\",\"dailyPic\":\"https://img1.dxycdn.com/2020/0211/763/3395998884005602079-135.png,https://img1.dxycdn.com/2020/0211/362/3395998896890788910-135.png,https://img1.dxycdn.com/2020/0211/365/3395998905480724211-135.png,https://img1.dxycdn.com/2020/0211/364/3395998916217859778-135.png,https://img1.dxycdn.com/2020/0211/922/3395998929103046444-135.png,https://img1.dxycdn.com/2020/0211/089/3395998939840182072-135.png\",\"dailyPics\":[\"https://img1.dxycdn.com/2020/0211/763/3395998884005602079-135.png\",\"https://img1.dxycdn.com/2020/0211/362/3395998896890788910-135.png\",\"https://img1.dxycdn.com/2020/0211/365/3395998905480724211-135.png\",\"https://img1.dxycdn.com/2020/0211/364/3395998916217859778-135.png\",\"https://img1.dxycdn.com/2020/0211/922/3395998929103046444-135.png\",\"https://img1.dxycdn.com/2020/0211/089/3395998939840182072-135.png\"],\"summary\":\"\",\"deleted\":false,\"countRemark\":\"\",\"currentConfirmedCount\":3243,\"confirmedCount\":82505,\"suspectedCount\":723,\"curedCount\":75949,\"deadCount\":3313,\"seriousCount\":633,\"suspectedIncr\":30,\"currentConfirmedIncr\":-192,\"confirmedIncr\":164,\"curedIncr\":349,\"deadIncr\":7,\"seriousIncr\":-109,\"virus\":\"该字段已替换为说明1\",\"remark1\":\"易感人群：人群普遍易感。老年人及有基础疾病者感染后病情较重，儿童及婴幼儿也有发病\",\"remark2\":\"潜伏期：一般为 3～7 天，最长不超过 14 天，潜伏期内可能存在传染性，其中无症状病例传染性非常罕见\",\"remark3\":\"宿主：野生动物，可能为中华菊头蝠\",\"remark4\":\"\",\"remark5\":\"\",\"note1\":\"病毒：SARS-CoV-2，其导致疾病命名 COVID-19\",\"note2\":\"传染源：新冠肺炎的患者。无症状感染者也可能成为传染源。\",\"note3\":\"传播途径：经呼吸道飞沫、接触传播是主要的传播途径。气溶胶传播和消化道等传播途径尚待明确。\",\"generalRemark\":\"1. 3 月 12 日国家卫健委确诊补订遗漏 12 例确诊病例（非 12 日新增），暂无具体省份信息。 2. 浙江省 12 例外省治愈暂无具体省份信息。\",\"abroadRemark\":\"\",\"marquee\":[{\"id\":1815,\"marqueeLabel\":\"钟南山\",\"marqueeContent\":\"推断中国不会有太多无症状感染者\",\"marqueeLink\":\"https://dxy.me/XxNxkx\"},{\"id\":1816,\"marqueeLabel\":\"美国\",\"marqueeContent\":\"一样又不一样，纽约方舱即将开舱\",\"marqueeLink\":\"https://dxy.me/jU1G0D\"},{\"id\":1817,\"marqueeLabel\":\"数字新冠\",\"marqueeContent\":\"3 月 29 日，世界因新冠而变\",\"marqueeLink\":\"https://dxy.me/LHKFUL\"}],\"quanguoTrendChart\":[{\"imgUrl\":\"https://img1.dxycdn.com/2020/0324/278/3403801351376518263-135.png\",\"title\":\"新增疑似/新增确诊\"},{\"imgUrl\":\"https://img1.dxycdn.com/2020/0324/812/3403847865872006755-135.png\",\"title\":\"境外输入\"},{\"imgUrl\":\"https://img1.dxycdn.com/2020/0324/547/3403847848692336947-135.png\",\"title\":\"现存确诊\"},{\"imgUrl\":\"https://img1.dxycdn.com/2020/0324/775/3403801407211095604-135.png\",\"title\":\"治愈\"},{\"imgUrl\":\"https://img1.dxycdn.com/2020/0324/250/3403801424390727199-135.png\",\"title\":\"死亡\"}],\"hbFeiHbTrendChart\":[{\"imgUrl\":\"https://img1.dxycdn.com/2020/0326/624/3404177508906904585-135.png\",\"title\":\"非湖北新增确诊\"},{\"imgUrl\":\"https://img1.dxycdn.com/2020/0326/777/3404177532529485065-135.png\",\"title\":\"湖北新增确诊\"},{\"imgUrl\":\"https://img1.dxycdn.com/2020/0326/376/3404177556151805921-135.png\",\"title\":\"湖北现存确诊\"},{\"imgUrl\":\"https://img1.dxycdn.com/2020/0326/527/3404177575478899995-135.png\",\"title\":\"非湖北现存确诊\"},{\"imgUrl\":\"https://img1.dxycdn.com/2020/0326/419/3404177596953996726-135.png\",\"title\":\"治愈/死亡\"}],\"foreignTrendChart\":[{\"imgUrl\":\"https://img1.dxycdn.com/2020/0320/702/3403079914982117944-135.png\",\"title\":\"国外新增确诊\"},{\"imgUrl\":\"https://img1.dxycdn.com/2020/0320/396/3403079925719536561-135.png\",\"title\":\"国外累计确诊\"},{\"imgUrl\":\"https://img1.dxycdn.com/2020/0320/139/3403079936457225524-135.png\",\"title\":\"国外死亡\"}],\"importantForeignTrendChart\":[{\"imgUrl\":\"https://img1.dxycdn.com/2020/0320/450/3403077453965772423-135.png\",\"title\":\"重点国家新增确诊\"},{\"imgUrl\":\"https://img1.dxycdn.com/2020/0320/276/3403077462555980566-135.png\",\"title\":\"日本新增确诊\"},{\"imgUrl\":\"https://img1.dxycdn.com/2020/0320/340/3403077473293125942-135.png\",\"title\":\"意大利新增确诊\"},{\"imgUrl\":\"https://img1.dxycdn.com/2020/0320/723/3403077481883334043-135.png\",\"title\":\"伊朗新增确诊\"},{\"imgUrl\":\"https://img1.dxycdn.com/2020/0320/266/3403077492620752785-135.png\",\"title\":\"美国新增确诊\"},{\"imgUrl\":\"https://img1.dxycdn.com/2020/0320/870/3403077503358171278-135.png\",\"title\":\"法国新增确诊\"},{\"imgUrl\":\"https://img1.dxycdn.com/2020/0320/053/3403077511947832997-135.png\",\"title\":\"德国新增确诊\"},{\"imgUrl\":\"https://img1.dxycdn.com/2020/0320/878/3403077520537768006-135.png\",\"title\":\"西班牙新增确诊\"},{\"imgUrl\":\"https://img1.dxycdn.com/2020/0320/443/3403077531275186665-135.png\",\"title\":\"韩国新增确诊\"}],\"foreignTrendChartGlobal\":[{\"imgUrl\":\"https://img1.dxycdn.com/2020/0319/740/3402859458605738923-135.png\",\"title\":\"Daily New Cases\"},{\"imgUrl\":\"https://img1.dxycdn.com/2020/0319/351/3402856772103846114-135.png\",\"title\":\"Total Confirmed Cases\"},{\"imgUrl\":\"https://img1.dxycdn.com/2020/0319/236/3402856782841001789-135.png\",\"title\":\"Total Deaths Cases\"}],\"importantForeignTrendChartGlobal\":[{\"imgUrl\":\"https://img1.dxycdn.com/2020/0319/122/3402856838675578578-135.png\",\"title\":\"Daily New Cases\"},{\"imgUrl\":\"https://img1.dxycdn.com/2020/0319/685/3402856849412997239-135.png\",\"title\":\"Japan\"},{\"imgUrl\":\"https://img1.dxycdn.com/2020/0319/477/3402856860150678804-135.png\",\"title\":\"Italy\"},{\"imgUrl\":\"https://img1.dxycdn.com/2020/0319/454/3402856873035581014-135.png\",\"title\":\"Iran\"},{\"imgUrl\":\"https://img1.dxycdn.com/2020/0319/022/3402856883772999714-135.png\",\"title\":\"U.S.A.\"},{\"imgUrl\":\"https://img1.dxycdn.com/2020/0319/529/3402856894510155506-135.png\",\"title\":\"France\"},{\"imgUrl\":\"https://img1.dxycdn.com/2020/0319/211/3402856905247574064-135.png\",\"title\":\"Germany\"},{\"imgUrl\":\"https://img1.dxycdn.com/2020/0319/054/3402856913837508985-135.png\",\"title\":\"Spain\"},{\"imgUrl\":\"https://img1.dxycdn.com/2020/0319/088/3402856928870157852-135.png\",\"title\":\"Republic of Korea\"}],\"foreignStatistics\":{\"currentConfirmedCount\":537564,\"confirmedCount\":646053,\"suspectedCount\":4,\"curedCount\":77139,\"deadCount\":31350,\"suspectedIncr\":0,\"currentConfirmedIncr\":7928,\"confirmedIncr\":15479,\"curedIncr\":6447,\"deadIncr\":1104},\"globalStatistics\":{\"currentConfirmedCount\":540807,\"confirmedCount\":728558,\"curedCount\":153088,\"deadCount\":34663,\"currentConfirmedIncr\":7736,\"confirmedIncr\":15643,\"curedIncr\":6796,\"deadIncr\":1111},\"globalOtherTrendChartData\":\"https://file1.dxycdn.com/2020/0330/942/3404907558858335987-135.json\"}}catch(e){}']"
      ]
     },
     "execution_count": 8,
     "metadata": {},
     "output_type": "execute_result"
    }
   ],
   "source": [
    "data = soup.findAll(text=re.compile('\\\"summary.+\\\"confirmedCount\\\":\\d'))\n",
    "\n",
    "data\n"
   ]
  },
  {
   "cell_type": "code",
   "execution_count": 9,
   "metadata": {},
   "outputs": [],
   "source": [
    "m = re.search('\\\"confirmedCount\\\":(\\d+)', data[0])\n",
    "summary_confirmed_count = int(m.group(1))\n",
    "\n",
    "\n",
    "m = re.search('\\\"curedCount\\\":(\\d+)', data[0])\n",
    "summary_cured_count = int(m.group(1))\n",
    "\n",
    "m = re.search('\\\"deadCount\\\":(\\d+)', data[0])\n",
    "summary_dead_count = int(m.group(1))\n"
   ]
  },
  {
   "cell_type": "code",
   "execution_count": 10,
   "metadata": {},
   "outputs": [
    {
     "data": {
      "text/html": [
       "<div>\n",
       "<style scoped>\n",
       "    .dataframe tbody tr th:only-of-type {\n",
       "        vertical-align: middle;\n",
       "    }\n",
       "\n",
       "    .dataframe tbody tr th {\n",
       "        vertical-align: top;\n",
       "    }\n",
       "\n",
       "    .dataframe thead th {\n",
       "        text-align: right;\n",
       "    }\n",
       "</style>\n",
       "<table border=\"1\" class=\"dataframe\">\n",
       "  <thead>\n",
       "    <tr style=\"text-align: right;\">\n",
       "      <th></th>\n",
       "      <th>datetime</th>\n",
       "      <th>confirmed</th>\n",
       "      <th>cured</th>\n",
       "      <th>dead</th>\n",
       "    </tr>\n",
       "  </thead>\n",
       "  <tbody>\n",
       "    <tr>\n",
       "      <th>0</th>\n",
       "      <td>2020-03-30 10:55</td>\n",
       "      <td>82505</td>\n",
       "      <td>75949</td>\n",
       "      <td>3313</td>\n",
       "    </tr>\n",
       "  </tbody>\n",
       "</table>\n",
       "</div>"
      ],
      "text/plain": [
       "           datetime  confirmed  cured  dead\n",
       "0  2020-03-30 10:55      82505  75949  3313"
      ]
     },
     "execution_count": 10,
     "metadata": {},
     "output_type": "execute_result"
    }
   ],
   "source": [
    "# make a dataframe\n",
    "df = pd.DataFrame({\n",
    "    'datetime': data_date_time,\n",
    "    'confirmed': summary_confirmed_count,\n",
    "    'cured': summary_cured_count,\n",
    "    'dead': summary_dead_count\n",
    "}, index=[0])\n",
    "df"
   ]
  },
  {
   "cell_type": "markdown",
   "metadata": {},
   "source": [
    "### Save to file"
   ]
  },
  {
   "cell_type": "code",
   "execution_count": 11,
   "metadata": {},
   "outputs": [],
   "source": [
    "from pathlib import Path\n",
    "csv_file = '../data/china-summary-cases.csv'\n",
    "\n",
    "if Path(csv_file).exists():\n",
    "    # read out the old data - then merge with new data and remove duplicates based on datetime\n",
    "    old_df = pd.read_csv(csv_file)\n",
    "    df = df.append(old_df)\n",
    "df.drop_duplicates(subset=['datetime'], inplace=True)"
   ]
  },
  {
   "cell_type": "code",
   "execution_count": 12,
   "metadata": {},
   "outputs": [],
   "source": [
    "df.sort_values(by=['datetime'], inplace=True)\n",
    "\n",
    "df.to_csv(csv_file, index=False)\n"
   ]
  },
  {
   "cell_type": "markdown",
   "metadata": {},
   "source": [
    "### Plot graph"
   ]
  },
  {
   "cell_type": "code",
   "execution_count": 13,
   "metadata": {},
   "outputs": [],
   "source": [
    "import seaborn as sns\n",
    "import matplotlib.pyplot as plt\n",
    "from pandas.plotting import register_matplotlib_converters\n",
    "register_matplotlib_converters()\n",
    "\n",
    "png_file = '../images/china-summary-cases.png'\n",
    "# convert to pd.datetime\n",
    "df['datetime_idx'] = pd.to_datetime(df['datetime'], format=\"%Y-%m-%d %H:%M\")\n",
    "\n",
    "df.set_index('datetime_idx', inplace=True)\n",
    "df.drop(['datetime'], axis=1, inplace=True)\n"
   ]
  },
  {
   "cell_type": "code",
   "execution_count": 14,
   "metadata": {},
   "outputs": [
    {
     "data": {
      "text/html": [
       "<div>\n",
       "<style scoped>\n",
       "    .dataframe tbody tr th:only-of-type {\n",
       "        vertical-align: middle;\n",
       "    }\n",
       "\n",
       "    .dataframe tbody tr th {\n",
       "        vertical-align: top;\n",
       "    }\n",
       "\n",
       "    .dataframe thead th {\n",
       "        text-align: right;\n",
       "    }\n",
       "</style>\n",
       "<table border=\"1\" class=\"dataframe\">\n",
       "  <thead>\n",
       "    <tr style=\"text-align: right;\">\n",
       "      <th></th>\n",
       "      <th>confirmed</th>\n",
       "      <th>cured</th>\n",
       "      <th>dead</th>\n",
       "    </tr>\n",
       "    <tr>\n",
       "      <th>datetime_idx</th>\n",
       "      <th></th>\n",
       "      <th></th>\n",
       "      <th></th>\n",
       "    </tr>\n",
       "  </thead>\n",
       "  <tbody>\n",
       "    <tr>\n",
       "      <th>2020-02-02 10:22:00</th>\n",
       "      <td>14483</td>\n",
       "      <td>379</td>\n",
       "      <td>304</td>\n",
       "    </tr>\n",
       "    <tr>\n",
       "      <th>2020-02-02 10:28:00</th>\n",
       "      <td>14483</td>\n",
       "      <td>380</td>\n",
       "      <td>304</td>\n",
       "    </tr>\n",
       "    <tr>\n",
       "      <th>2020-02-02 11:19:00</th>\n",
       "      <td>14489</td>\n",
       "      <td>385</td>\n",
       "      <td>304</td>\n",
       "    </tr>\n",
       "    <tr>\n",
       "      <th>2020-02-02 11:54:00</th>\n",
       "      <td>14489</td>\n",
       "      <td>397</td>\n",
       "      <td>304</td>\n",
       "    </tr>\n",
       "    <tr>\n",
       "      <th>2020-02-02 15:01:00</th>\n",
       "      <td>14490</td>\n",
       "      <td>430</td>\n",
       "      <td>304</td>\n",
       "    </tr>\n",
       "    <tr>\n",
       "      <th>...</th>\n",
       "      <td>...</td>\n",
       "      <td>...</td>\n",
       "      <td>...</td>\n",
       "    </tr>\n",
       "    <tr>\n",
       "      <th>2020-03-30 07:05:00</th>\n",
       "      <td>82455</td>\n",
       "      <td>75944</td>\n",
       "      <td>3311</td>\n",
       "    </tr>\n",
       "    <tr>\n",
       "      <th>2020-03-30 07:10:00</th>\n",
       "      <td>82463</td>\n",
       "      <td>75944</td>\n",
       "      <td>3313</td>\n",
       "    </tr>\n",
       "    <tr>\n",
       "      <th>2020-03-30 08:50:00</th>\n",
       "      <td>82464</td>\n",
       "      <td>75944</td>\n",
       "      <td>3313</td>\n",
       "    </tr>\n",
       "    <tr>\n",
       "      <th>2020-03-30 09:58:00</th>\n",
       "      <td>82505</td>\n",
       "      <td>75949</td>\n",
       "      <td>3313</td>\n",
       "    </tr>\n",
       "    <tr>\n",
       "      <th>2020-03-30 10:55:00</th>\n",
       "      <td>82505</td>\n",
       "      <td>75949</td>\n",
       "      <td>3313</td>\n",
       "    </tr>\n",
       "  </tbody>\n",
       "</table>\n",
       "<p>879 rows × 3 columns</p>\n",
       "</div>"
      ],
      "text/plain": [
       "                     confirmed  cured  dead\n",
       "datetime_idx                               \n",
       "2020-02-02 10:22:00      14483    379   304\n",
       "2020-02-02 10:28:00      14483    380   304\n",
       "2020-02-02 11:19:00      14489    385   304\n",
       "2020-02-02 11:54:00      14489    397   304\n",
       "2020-02-02 15:01:00      14490    430   304\n",
       "...                        ...    ...   ...\n",
       "2020-03-30 07:05:00      82455  75944  3311\n",
       "2020-03-30 07:10:00      82463  75944  3313\n",
       "2020-03-30 08:50:00      82464  75944  3313\n",
       "2020-03-30 09:58:00      82505  75949  3313\n",
       "2020-03-30 10:55:00      82505  75949  3313\n",
       "\n",
       "[879 rows x 3 columns]"
      ]
     },
     "execution_count": 14,
     "metadata": {},
     "output_type": "execute_result"
    }
   ],
   "source": [
    "df"
   ]
  },
  {
   "cell_type": "code",
   "execution_count": 15,
   "metadata": {
    "scrolled": true
   },
   "outputs": [
    {
     "data": {
      "image/png": "[encoded data removed]",
      "text/plain": [
       "<Figure size 1008x1008 with 3 Axes>"
      ]
     },
     "metadata": {},
     "output_type": "display_data"
    }
   ],
   "source": [
    "if df.shape[0]>1:\n",
    "    # line chart when having at least a few points\n",
    "    sns.set(rc={'figure.figsize':(14,14)})\n",
    "    sns.set(style=\"whitegrid\")\n",
    "\n",
    "    fig, axs = plt.subplots(nrows=3)\n",
    "\n",
    "    sns.lineplot(x=df.index, y = 'confirmed', data=df, ax= axs[0], estimator=None, color='orange')\n",
    "    sns.lineplot(x=df.index, y = 'cured', data=df, ax= axs[1], estimator=None, color='green')\n",
    "    sns.lineplot(x=df.index, y = 'dead', data=df, ax= axs[2], estimator=None, color='darkred')\n",
    "\n",
    "    for ax in axs:\n",
    "        ax.set_xlabel('')\n",
    "        ax.tick_params(axis='x', labelrotation=30)\n",
    "else:\n",
    "\n",
    "    ax = df.plot(kind='bar', stacked=True, figsize=(9,6))\n",
    "    fig = ax.get_figure()\n",
    "    ax.set_xlabel('')\n",
    "    for label in ax.get_xticklabels():\n",
    "        label.set_rotation(0) \n"
   ]
  },
  {
   "cell_type": "code",
   "execution_count": 16,
   "metadata": {},
   "outputs": [],
   "source": [
    "fig.savefig(png_file)"
   ]
  },
  {
   "cell_type": "code",
   "execution_count": null,
   "metadata": {},
   "outputs": [],
   "source": []
  },
  {
   "cell_type": "code",
   "execution_count": null,
   "metadata": {},
   "outputs": [],
   "source": []
  }
 ],
 "metadata": {
  "kernelspec": {
   "display_name": "Python 3",
   "language": "python",
   "name": "python3"
  },
  "language_info": {
   "codemirror_mode": {
    "name": "ipython",
    "version": 3
   },
   "file_extension": ".py",
   "mimetype": "text/x-python",
   "name": "python",
   "nbconvert_exporter": "python",
   "pygments_lexer": "ipython3",
   "version": "3.7.6"
  }
 },
 "nbformat": 4,
 "nbformat_minor": 2
}
