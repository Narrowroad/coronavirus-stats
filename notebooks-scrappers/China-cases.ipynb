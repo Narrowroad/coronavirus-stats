{
 "cells": [
  {
   "cell_type": "code",
   "execution_count": 1,
   "metadata": {},
   "outputs": [],
   "source": [
    "import pandas as pd\n",
    "import requests\n",
    "from bs4 import BeautifulSoup\n",
    "import re\n",
    "from datetime import datetime\n",
    "from selenium import webdriver\n",
    "from selenium.webdriver.chrome.options import Options  \n"
   ]
  },
  {
   "cell_type": "code",
   "execution_count": 2,
   "metadata": {},
   "outputs": [
    {
     "data": {
      "text/plain": [
       "datetime.datetime(2020, 3, 29, 11, 8, 3, 774585)"
      ]
     },
     "execution_count": 2,
     "metadata": {},
     "output_type": "execute_result"
    }
   ],
   "source": [
    "datetime.now()"
   ]
  },
  {
   "cell_type": "code",
   "execution_count": 3,
   "metadata": {},
   "outputs": [],
   "source": [
    "chrome_options = Options()  \n",
    "chrome_options.add_argument(\"--headless\")  \n",
    "chrome_options.add_argument(\"--no-sandbox\")\n",
    "\n",
    "driver = webdriver.Chrome('chromedriver', options=chrome_options)"
   ]
  },
  {
   "cell_type": "code",
   "execution_count": 4,
   "metadata": {},
   "outputs": [],
   "source": [
    "url = 'https://ncov.dxy.cn/ncovh5/view/pneumonia'\n",
    "driver.get(url)"
   ]
  },
  {
   "cell_type": "markdown",
   "metadata": {},
   "source": [
    "### Extract date"
   ]
  },
  {
   "cell_type": "code",
   "execution_count": 5,
   "metadata": {},
   "outputs": [],
   "source": [
    "content = driver.page_source\n",
    "soup =BeautifulSoup(content, 'lxml')\n"
   ]
  },
  {
   "cell_type": "code",
   "execution_count": 6,
   "metadata": {},
   "outputs": [
    {
     "data": {
      "text/plain": [
       "['try { window.getTimelineService1 = [{\"id\":19340,\"pubDate\":1585478539000,\"pubDateStr\":\"10分钟前\",\"title\":\"梵蒂冈新增新冠肺炎确诊病例2例 累计确诊6例\",\"summary\":\"据梵蒂冈官方媒体梵蒂冈新闻（Vatican News)当地时间3月28日报道，该国新闻发言人宣布，在过去的几天内，梵蒂冈新报告2例新冠肺炎确诊病例，目前累计确诊6例。梵蒂冈已对有关区域进行消毒处理，至今对170人进行了取样筛查。\",\"infoSource\":\"央视新闻app\",\"sourceUrl\":\"http://app.cctv.com/special/cportal/detail/arti/index.html?id=Artiz5u0i24K0PROu1j3p2fv200329&isfromapp=1\",\"provinceId\":\"\"},{\"id\":19335,\"pubDate\":1585478086000,\"pubDateStr\":\"17分钟前\",\"title\":\"文莱新增6例新冠肺炎确诊病例 累计126例\",\"summary\":\"当地时间29日，文莱政府宣布新增6例新冠肺炎确诊病例，累计确诊126例。文莱卫生部长伊桑说，截至29日下午5时，共有9人获准出院回家，累计治愈病例34例。目前有2名患者的病情危重。\",\"infoSource\":\"央视新闻app\",\"sourceUrl\":\"http://app.cctv.com/special/cportal/detail/arti/index.html?id=ArtibMkbiQbfrqotfxvRi0Zf200329&isfromapp=1\",\"provinceId\":\"\"},{\"id\":19336,\"pubDate\":1585478054000,\"pubDateStr\":\"18分钟前\",\"title\":\"尼日利亚累计确诊新冠肺炎病例97例\",\"summary\":\"当地时间28日深夜，尼日利亚疾控中心发布消息，新增8例新冠肺炎确诊病例，累计确诊97例。28日稍早前尼日利亚疾控中心已统计新增8例，28日当天共增加16例确诊病例，目前1例死亡。\",\"infoSource\":\"央视新闻app\",\"sourceUrl\":\"http://app.cctv.com/special/cportal/detail/arti/index.html?id=ArtiD73gZATU4TROTA4dqe89200329&isfromapp=1\",\"provinceId\":\"\"},{\"id\":19328,\"pubDate\":1585477643000,\"pubDateStr\":\"25分钟前\",\"title\":\"北京市推出若干举措支持海外侨胞做好就地疫情防护\",\"summary\":\"当前，海外疫情快速扩散，波及一百多个国家和地区，在广大海外侨胞中普遍引起了焦虑情绪。对此情境，北京市推出了若干举措，助力海外同胞做好个人防护，共渡难关。\",\"infoSource\":\"央视新闻app\",\"sourceUrl\":\"http://app.cctv.com/special/cportal/detail/arti/index.html?id=Artit6oZmayyO64khPrWlppM200329&isfromapp=1\",\"provinceId\":\"\"},{\"id\":19319,\"pubDate\":1585476717000,\"pubDateStr\":\"40分钟前\",\"title\":\"澳门首度出现新冠肺炎重症病例\",\"summary\":\"澳门新型冠状病毒感染应变协调中心29日下午表示，此前确诊的第18例新冠肺炎患者当天出现呼吸困难，复查胸部CT明显恶化，符合新冠肺炎重症标准。这是澳门首度出现重症病例。\",\"infoSource\":\"央视新闻app\",\"sourceUrl\":\"http://app.cctv.com/special/cportal/detail/arti/index.html?id=ArtiK8AZQJLkHnndRGynUaw3200329&isfromapp=1\",\"provinceId\":\"\"},{\"id\":19318,\"pubDate\":1585476384000,\"pubDateStr\":\"45分钟前\",\"title\":\"黎巴嫩新冠肺炎确诊人数上升至438人\",\"summary\":\"黎巴嫩卫生部官网公布，截至29日中午，黎巴嫩新冠肺炎确诊总人数为438人，较昨日增加26人。根据卫生部所公布的数字，近几天又有3名患者被治愈，治愈总人数已达30人，与此同时死亡病例上升至10例。\",\"infoSource\":\"央视新闻app\",\"sourceUrl\":\"http://app.cctv.com/special/cportal/detail/arti/index.html?id=ArtiQwjt6iRncQJmUtIkUOOL200329&isfromapp=1\",\"provinceId\":\"\"},{\"id\":19315,\"pubDate\":1585476152000,\"pubDateStr\":\"49分钟前\",\"title\":\"两名国家女子冰球队员确诊新冠肺炎：自美国返京，均为轻症\",\"summary\":\"29日，中国冰球协会发布情况通报，两名国家女子冰球队队员确诊新冠肺炎，均为轻症。通报称，国家女子冰球集训队因国际冰联赛取消，新冠肺炎疫情在美国日趋严峻，3月13日归国抵京，入境检测体温正常，封闭隔离医学观察期结束时进行核酸检测，两名队员检测为阳性，随后被确诊感染新冠肺炎。\",\"infoSource\":\"人民日报\",\"sourceUrl\":\"http://m.weibo.cn/2803301701/4487874617732576\",\"provinceId\":\"\"},{\"id\":19312,\"pubDate\":1585475901000,\"pubDateStr\":\"54分钟前\",\"title\":\"摩尔多瓦新增32例新冠肺炎确诊病例 累计达231例\",\"summary\":\"据摩尔多瓦卫生劳动与社会保障部消息，摩尔多瓦新冠肺炎确诊病例累计达231例，较之前新增32例，其中2例为输入病例，30例为本地传染病例。\",\"infoSource\":\"央视新闻app\",\"sourceUrl\":\"http://app.cctv.com/special/cportal/detail/arti/index.html?id=ArtiC9OJUMYwg8RMjC3gT0xR200329&isfromapp=1\",\"provinceId\":\"\"},{\"id\":19303,\"pubDate\":1585475832000,\"pubDateStr\":\"55分钟前\",\"title\":\"伊拉克新增41例新冠肺炎确诊病例 累计确诊547例\",\"summary\":\"当地时间3月29日，伊拉克卫生部发布声明称，伊拉克境内新增新冠肺炎确诊病例41例，其中巴格达8例，卡尔巴拉11例，巴士拉8例，埃尔比勒8例，纳杰夫5例，苏莱曼尼亚1例。今日暂无新增死亡病例。目前，伊拉克新冠肺炎确诊病例累计547例，其中42例死亡，143例痊愈。\",\"infoSource\":\"央视新闻app\",\"sourceUrl\":\"http://app.cctv.com/special/cportal/detail/arti/index.html?id=ArtiuNPF8lbCckvvG5iNNLa6200329&isfromapp=1\",\"provinceId\":\"\"},{\"id\":19305,\"pubDate\":1585475628000,\"pubDateStr\":\"58分钟前\",\"title\":\"捷克新增新冠肺炎确诊病例47例 累计确诊2669例\",\"summary\":\"根据捷克卫生部数据，从当地时间3月28日20:30至3月29日10:30，境内新增新冠肺炎确诊病例47例，累计确诊2669例，其中包括11例康复病例；该时段内新增死亡病例2例，累计死亡13例。\",\"infoSource\":\"央视新闻app\",\"sourceUrl\":\"http://app.cctv.com/special/cportal/detail/arti/index.html?id=Arti7MM8RsvfnHfIlkrHx8Dj200329&isfromapp=1\",\"provinceId\":\"\"},{\"id\":19306,\"pubDate\":1585475605000,\"pubDateStr\":\"58分钟前\",\"title\":\"拉美确诊病例超1.3万 防控持续升级\",\"summary\":\"拉美地区新冠肺炎疫情方面，截至当地时间28日，拉美地区累计确诊病例超过1万3千例。为防止疫情大规模蔓延，多国进一步加强防控，一方面保障医疗诊断和治疗力量，同时也在加强入境管控等措施。\",\"infoSource\":\"央视新闻app\",\"sourceUrl\":\"http://app.cctv.com/special/cportal/detail/arti/index.html?id=ArtiS3lUkALySPJ7Ka374EGl200329&isfromapp=1\",\"provinceId\":\"\"},{\"id\":19298,\"pubDate\":1585475514000,\"pubDateStr\":\"1小时前\",\"title\":\"马来西亚新增新冠肺炎确诊病例150例 累计确诊2470例\",\"summary\":\"当地时间29日，马来西亚宣布新增150例新冠肺炎确诊病例，累计确诊2470例，新增死亡病例7例，累计死亡34例。\\xa0据马来西亚卫生总监努尔·希萨姆·阿卜杜拉介绍，29日，共有68人治愈出院，累计治愈病例388例。截至目前，共有73名患者被收治在特护病房，其中52人接受呼吸机辅助治疗。\",\"infoSource\":\"央视新闻app\",\"sourceUrl\":\"http://app.cctv.com/special/cportal/detail/arti/index.html?id=Artitt7LNqooNKHVuQ4tUAfN200329&isfromapp=1\",\"provinceId\":\"\"},{\"id\":19299,\"pubDate\":1585475421000,\"pubDateStr\":\"1小时前\",\"title\":\"比利时新增新冠肺炎确诊病例1702例 累计确诊10836例\",\"summary\":\"据比利时官方媒体当地时间3月29日上午报道，在过去24小时内，比利时境内新增新冠肺炎确诊病例1702例，新增死亡病例78例。截至目前，该国累计确诊病例10836例，累计死亡431例，867名病患正在接受重症监护。\",\"infoSource\":\"央视新闻app\",\"sourceUrl\":\"http://app.cctv.com/special/cportal/detail/arti/index.html?id=Arti13irMBpZGLyV3sgCwFia200329&isfromapp=1\",\"provinceId\":\"\"},{\"id\":19296,\"pubDate\":1585474920000,\"pubDateStr\":\"1小时前\",\"title\":\"西班牙新增新冠肺炎确诊病例6549例 累计确诊78797例\",\"summary\":\"据西班牙卫生部29日消息，过去24小时，该国新增新冠肺炎确诊病例6549例，累计确诊78797例；累计死亡6528例。据29日西班牙《国家报》消息，西班牙新冠肺炎患者死亡病例达历史最高，24小时内死亡838人。\",\"infoSource\":\"央视新闻app\",\"sourceUrl\":\"http://app.cctv.com/special/cportal/detail/arti/index.html?id=ArtiPPFqWV3WhIMAMzlwU4IM200329&isfromapp=1\",\"provinceId\":\"\"},{\"id\":19294,\"pubDate\":1585474767000,\"pubDateStr\":\"1小时前\",\"title\":\"乌克兰新增62例新冠肺炎确诊病例 累计确诊418例\",\"summary\":\"当地时间3月29日，据乌克兰公共卫生中心消息，乌克兰新冠肺炎确诊病例累计达418例，较昨日新增62例。其中9人死亡，5人痊愈。乌克兰政府宣布从3月25日至4月24日进入国家紧急情况，并已于27日关闭了边境。\",\"infoSource\":\"央视新闻app\",\"sourceUrl\":\"http://app.cctv.com/special/cportal/detail/arti/index.html?id=ArtimdT4lvGKlLepPeuA5wGE200329&isfromapp=1\",\"provinceId\":\"\"},{\"id\":19295,\"pubDate\":1585474651000,\"pubDateStr\":\"1小时前\",\"title\":\"中国抗疫医疗专家组抵达老挝\",\"summary\":\"3月29日下午，中国援助老挝抗击疫情医疗专家组一行12人乘飞机抵达老挝万象国际机场，同机抵达的还有中国政府援助老挝的抗疫物资，包括普通医用口罩、N95口罩、医用防护服等。专家组包括感染防控、重症监护、流行病、实验室检测等多个领域医护人员。\",\"infoSource\":\"央视新闻app\",\"sourceUrl\":\"http://app.cctv.com/special/cportal/detail/arti/index.html?id=Arti6NFghowRMOR7QcAHVse9200329&isfromapp=1\",\"provinceId\":\"\"},{\"id\":19292,\"pubDate\":1585474461000,\"pubDateStr\":\"1小时前\",\"title\":\"摩洛哥新增35例新冠肺炎确诊病例 新增1例死亡病例\",\"summary\":\"摩洛哥卫生部29日上午8时证实，该国新增35例新冠肺炎确诊病例和1例死亡病例。截至发布时间，摩洛哥共有新冠肺炎确诊患者437人，累计死亡26人，治愈12人。\",\"infoSource\":\"央视新闻app\",\"sourceUrl\":\"http://app.cctv.com/special/cportal/detail/arti/index.html?id=Artijuu7nbx4kiZ8sy8nw6c0200329&isfromapp=1\",\"provinceId\":\"\"},{\"id\":19293,\"pubDate\":1585474371000,\"pubDateStr\":\"1小时前\",\"title\":\"伊朗新增新冠肺炎确诊病例2901例 累计38309例\",\"summary\":\"根据伊朗卫生部最新消息，当地时间29日，伊朗新增新冠肺炎确诊病例2901例，新增死亡123例。截至当天中午，伊朗累计确诊新冠肺炎病例38309例，其中12391例康复，2640例死亡。\",\"infoSource\":\"央视新闻app\",\"sourceUrl\":\"http://app.cctv.com/special/cportal/detail/arti/index.html?id=Artic8caONVRANSfBRHFXL45200329&isfromapp=1\",\"provinceId\":\"\"},{\"id\":19285,\"pubDate\":1585473874000,\"pubDateStr\":\"1小时前\",\"title\":\"吉尔吉斯斯坦新增26例新冠肺炎确诊病例 累计确诊84例\",\"summary\":\"吉尔吉斯斯坦卫生部29日通报称，在过去的24小时中，新增新冠肺炎确诊病例26例，目前有关部门正在确认与患者有接触者。至此，吉全国累计确诊病例84例，3名患者病情严重。\",\"infoSource\":\"央视新闻app\",\"sourceUrl\":\"http://app.cctv.com/special/cportal/detail/arti/index.html?id=Artij5rhQi2B6wV32CCL3MQL200329&isfromapp=1\",\"provinceId\":\"\"},{\"id\":19286,\"pubDate\":1585473796000,\"pubDateStr\":\"1小时前\",\"title\":\"越南新冠肺炎确诊病例增至179例\",\"summary\":\"据越南卫生部3月29日最新消息，该国新增5例新冠肺炎确诊病例。截至目前，新冠肺炎确诊病例增至179例。据悉，新增的5例感染者有4例来自越南河内白梅医院。截至目前，越南已有16例新冠肺炎确诊病例与河内白梅医院相关。\",\"infoSource\":\"央视新闻app\",\"sourceUrl\":\"http://app.cctv.com/special/cportal/detail/arti/index.html?id=ArtiOIoXpVlNMrNwzKZQNASG200329&isfromapp=1\",\"provinceId\":\"\"},{\"id\":19287,\"pubDate\":1585473736000,\"pubDateStr\":\"1小时前\",\"title\":\"亚美尼亚新冠肺炎病例累计确诊424例\",\"summary\":\"当地时间3月29日，亚美尼亚疫情防控统一信息平台公布消息，亚美尼亚境内当日新增确诊新冠肺炎病例52例，累计确诊病例424例，累计治愈30例，死亡3例。为遏制疫情发展，自3月16日至4月14日，亚美尼亚为全国紧急状态。\",\"infoSource\":\"央视新闻app\",\"sourceUrl\":\"http://app.cctv.com/special/cportal/detail/arti/index.html?id=ArtiHJ8h6mOcfDGWR1KvvQ2v200329&isfromapp=1\",\"provinceId\":\"\"},{\"id\":19288,\"pubDate\":1585473677000,\"pubDateStr\":\"1小时前\",\"title\":\"格鲁吉亚累计确诊新冠肺炎病例90例\",\"summary\":\"当地时间3月29日，格鲁吉亚政府疫情监测平台公布消息，格鲁吉亚境内累计确诊新冠肺炎病例90例，其中治愈18例。目前，共有4717人接受隔离，268人处于医学观察。因疫情发展，格鲁吉亚政府已宣布国家紧急状态持续至4月21日。\",\"infoSource\":\"央视新闻app\",\"sourceUrl\":\"http://app.cctv.com/special/cportal/detail/arti/index.html?id=ArtivtferCyAHZEdINNCVrwB200329&isfromapp=1\",\"provinceId\":\"\"},{\"id\":19282,\"pubDate\":1585473349000,\"pubDateStr\":\"1小时前\",\"title\":\"菲律宾新增343例新冠肺炎确诊病例 累计确诊1418例\",\"summary\":\"3月29日下午，菲律宾卫生部发布公告称，截至29日下午4时，菲律宾当天共计新增343例新冠肺炎确诊病例，确诊病例累计达1418例。此外，新增死亡病例3例，累计死亡71例。同时，累计治愈人数达42人。\",\"infoSource\":\"央视新闻app\",\"sourceUrl\":\"http://app.cctv.com/special/cportal/detail/arti/index.html?id=ArtidysGepofGT4zOxsCnQEp200329&isfromapp=1\",\"provinceId\":\"\"},{\"id\":19283,\"pubDate\":1585473348000,\"pubDateStr\":\"1小时前\",\"title\":\"澳大利亚防护措施升级：不允许两人以上户外聚集\",\"summary\":\"澳大利亚总理莫里森29日宣布进一步升级隔离限制，以对抗日益严重的疫情。除购买生活用品和药物、就医、锻炼或外出工作外，不建议民众外出，同时还强调年龄在70岁以上的居民应该居家隔离，不要外出。公共场所聚集的人数限制由十人缩紧到两人。户外健身场所、公园等设施都将关闭。\",\"infoSource\":\"央视新闻app\",\"sourceUrl\":\"http://app.cctv.com/special/cportal/detail/arti/index.html?id=ArtiBZic1qwTbBOfMKrtSzY5200329&isfromapp=1\",\"provinceId\":\"\"},{\"id\":19279,\"pubDate\":1585473076000,\"pubDateStr\":\"1小时前\",\"title\":\"印尼新冠肺炎确诊病例新增130例 累计确诊1285例\",\"summary\":\"3月29日，印尼卫生部宣布新增130例新冠肺炎确诊病例，全国累计确诊病例1285例，含114例死亡病例。\",\"infoSource\":\"央视新闻app\",\"sourceUrl\":\"http://app.cctv.com/special/cportal/detail/arti/index.html?id=ArtimjsAM4355GcWZZPbVWzL200329&isfromapp=1\",\"provinceId\":\"\"}]}catch(e){}',\n",
       " '截至北京时间 2020-03-29 10:57',\n",
       " '截至北京时间 2020-03-29 10:57',\n",
       " '当地时间29日，文莱政府宣布新增6例新冠肺炎确诊病例，累计确诊126例。文莱卫生部长伊桑说，截至29日下午5时，共有9人获准出院回家，累计治愈病例34例。目前有2名患者的病情危重。',\n",
       " '黎巴嫩卫生部官网公布，截至29日中午，黎巴嫩新冠肺炎确诊总人数为438人，较昨日增加26人。根据卫生部所公布的数字，近几天又有3名患者被治愈，治愈总人数已达30人，与此同时死亡病例上升至10例。',\n",
       " '拉美地区新冠肺炎疫情方面，截至当地时间28日，拉美地区累计确诊病例超过1万3千例。为防止疫情大规模蔓延，多国进一步加强防控，一方面保障医疗诊断和治疗力量，同时也在加强入境管控等措施。',\n",
       " '当地时间29日，马来西亚宣布新增150例新冠肺炎确诊病例，累计确诊2470例，新增死亡病例7例，累计死亡34例。\\xa0据马来西亚卫生总监努尔·希萨姆·阿卜杜拉介绍，29日，共有68人治愈出院，累计治愈病例388例。截至目前，共有73名患者被收治在特护病房，其中52人接受呼吸机辅助治疗。',\n",
       " '据比利时官方媒体当地时间3月29日上午报道，在过去24小时内，比利时境内新增新冠肺炎确诊病例1702例，新增死亡病例78例。截至目前，该国累计确诊病例10836例，累计死亡431例，867名病患正在接受重症监护。',\n",
       " '摩洛哥卫生部29日上午8时证实，该国新增35例新冠肺炎确诊病例和1例死亡病例。截至发布时间，摩洛哥共有新冠肺炎确诊患者437人，累计死亡26人，治愈12人。',\n",
       " '根据伊朗卫生部最新消息，当地时间29日，伊朗新增新冠肺炎确诊病例2901例，新增死亡123例。截至当天中午，伊朗累计确诊新冠肺炎病例38309例，其中12391例康复，2640例死亡。',\n",
       " '据越南卫生部3月29日最新消息，该国新增5例新冠肺炎确诊病例。截至目前，新冠肺炎确诊病例增至179例。据悉，新增的5例感染者有4例来自越南河内白梅医院。截至目前，越南已有16例新冠肺炎确诊病例与河内白梅医院相关。',\n",
       " '3月29日下午，菲律宾卫生部发布公告称，截至29日下午4时，菲律宾当天共计新增343例新冠肺炎确诊病例，确诊病例累计达1418例。此外，新增死亡病例3例，累计死亡71例。同时，累计治愈人数达42人。']"
      ]
     },
     "execution_count": 6,
     "metadata": {},
     "output_type": "execute_result"
    }
   ],
   "source": [
    "data = soup.findAll(text=re.compile(\"截至.+\"))\n",
    "data"
   ]
  },
  {
   "cell_type": "code",
   "execution_count": 7,
   "metadata": {},
   "outputs": [
    {
     "data": {
      "text/plain": [
       "'2020-03-29 10:57'"
      ]
     },
     "execution_count": 7,
     "metadata": {},
     "output_type": "execute_result"
    }
   ],
   "source": [
    "for s in data:\n",
    "    m = re.search(\"截至.*(202\\d-\\d+-\\d+ \\d+:\\d+)\", s)\n",
    "    if m is not None:\n",
    "        data_date_time = m.group(1)\n",
    "data_date_time"
   ]
  },
  {
   "cell_type": "markdown",
   "metadata": {},
   "source": [
    "### Extract data (summary)"
   ]
  },
  {
   "cell_type": "code",
   "execution_count": 8,
   "metadata": {},
   "outputs": [
    {
     "data": {
      "text/plain": [
       "['try { window.getStatisticsService = {\"id\":1,\"createTime\":1579537899000,\"modifyTime\":1585479432000,\"infectSource\":\"该字段已替换为说明2\",\"passWay\":\"该字段已替换为说明3\",\"imgUrl\":\"https://img1.dxycdn.com/2020/0201/450/3394153392393266839-135.png\",\"dailyPic\":\"https://img1.dxycdn.com/2020/0211/763/3395998884005602079-135.png,https://img1.dxycdn.com/2020/0211/362/3395998896890788910-135.png,https://img1.dxycdn.com/2020/0211/365/3395998905480724211-135.png,https://img1.dxycdn.com/2020/0211/364/3395998916217859778-135.png,https://img1.dxycdn.com/2020/0211/922/3395998929103046444-135.png,https://img1.dxycdn.com/2020/0211/089/3395998939840182072-135.png\",\"dailyPics\":[\"https://img1.dxycdn.com/2020/0211/763/3395998884005602079-135.png\",\"https://img1.dxycdn.com/2020/0211/362/3395998896890788910-135.png\",\"https://img1.dxycdn.com/2020/0211/365/3395998905480724211-135.png\",\"https://img1.dxycdn.com/2020/0211/364/3395998916217859778-135.png\",\"https://img1.dxycdn.com/2020/0211/922/3395998929103046444-135.png\",\"https://img1.dxycdn.com/2020/0211/089/3395998939840182072-135.png\"],\"summary\":\"\",\"deleted\":false,\"countRemark\":\"\",\"currentConfirmedCount\":3513,\"confirmedCount\":82419,\"suspectedCount\":693,\"curedCount\":75600,\"deadCount\":3306,\"seriousCount\":742,\"suspectedIncr\":44,\"currentConfirmedIncr\":-277,\"confirmedIncr\":206,\"curedIncr\":478,\"deadIncr\":5,\"seriousIncr\":-179,\"virus\":\"该字段已替换为说明1\",\"remark1\":\"易感人群：人群普遍易感。老年人及有基础疾病者感染后病情较重，儿童及婴幼儿也有发病\",\"remark2\":\"潜伏期：一般为 3～7 天，最长不超过 14 天，潜伏期内可能存在传染性，其中无症状病例传染性非常罕见\",\"remark3\":\"宿主：野生动物，可能为中华菊头蝠\",\"remark4\":\"\",\"remark5\":\"\",\"note1\":\"病毒：SARS-CoV-2，其导致疾病命名 COVID-19\",\"note2\":\"传染源：新冠肺炎的患者。无症状感染者也可能成为传染源。\",\"note3\":\"传播途径：经呼吸道飞沫、接触传播是主要的传播途径。气溶胶传播和消化道等传播途径尚待明确。\",\"generalRemark\":\"1. 3 月 12 日国家卫健委确诊补订遗漏 12 例确诊病例（非 12 日新增），暂无具体省份信息。 2. 浙江省 12 例外省治愈暂无具体省份信息。\",\"abroadRemark\":\"\",\"marquee\":[{\"id\":1800,\"marqueeLabel\":\"武汉\",\"marqueeContent\":\"火车客运到站、市内轨道交通同日恢复\",\"marqueeLink\":\"https://dxy.me/sR3QrU\"},{\"id\":1801,\"marqueeLabel\":\"5分钟\",\"marqueeContent\":\"快速病毒检测技术在美上市应用\",\"marqueeLink\":\"https://dxy.me/qj4olR\"},{\"id\":1802,\"marqueeLabel\":\"数字新冠\",\"marqueeContent\":\"3 月 28 日，世界因新冠而变\",\"marqueeLink\":\"https://dxy.me/205erH\"}],\"quanguoTrendChart\":[{\"imgUrl\":\"https://img1.dxycdn.com/2020/0324/278/3403801351376518263-135.png\",\"title\":\"新增疑似/新增确诊\"},{\"imgUrl\":\"https://img1.dxycdn.com/2020/0324/812/3403847865872006755-135.png\",\"title\":\"境外输入\"},{\"imgUrl\":\"https://img1.dxycdn.com/2020/0324/547/3403847848692336947-135.png\",\"title\":\"现存确诊\"},{\"imgUrl\":\"https://img1.dxycdn.com/2020/0324/775/3403801407211095604-135.png\",\"title\":\"治愈\"},{\"imgUrl\":\"https://img1.dxycdn.com/2020/0324/250/3403801424390727199-135.png\",\"title\":\"死亡\"}],\"hbFeiHbTrendChart\":[{\"imgUrl\":\"https://img1.dxycdn.com/2020/0326/624/3404177508906904585-135.png\",\"title\":\"非湖北新增确诊\"},{\"imgUrl\":\"https://img1.dxycdn.com/2020/0326/777/3404177532529485065-135.png\",\"title\":\"湖北新增确诊\"},{\"imgUrl\":\"https://img1.dxycdn.com/2020/0326/376/3404177556151805921-135.png\",\"title\":\"湖北现存确诊\"},{\"imgUrl\":\"https://img1.dxycdn.com/2020/0326/527/3404177575478899995-135.png\",\"title\":\"非湖北现存确诊\"},{\"imgUrl\":\"https://img1.dxycdn.com/2020/0326/419/3404177596953996726-135.png\",\"title\":\"治愈/死亡\"}],\"foreignTrendChart\":[{\"imgUrl\":\"https://img1.dxycdn.com/2020/0320/702/3403079914982117944-135.png\",\"title\":\"国外新增确诊\"},{\"imgUrl\":\"https://img1.dxycdn.com/2020/0320/396/3403079925719536561-135.png\",\"title\":\"国外累计确诊\"},{\"imgUrl\":\"https://img1.dxycdn.com/2020/0320/139/3403079936457225524-135.png\",\"title\":\"国外死亡\"}],\"importantForeignTrendChart\":[{\"imgUrl\":\"https://img1.dxycdn.com/2020/0320/450/3403077453965772423-135.png\",\"title\":\"重点国家新增确诊\"},{\"imgUrl\":\"https://img1.dxycdn.com/2020/0320/276/3403077462555980566-135.png\",\"title\":\"日本新增确诊\"},{\"imgUrl\":\"https://img1.dxycdn.com/2020/0320/340/3403077473293125942-135.png\",\"title\":\"意大利新增确诊\"},{\"imgUrl\":\"https://img1.dxycdn.com/2020/0320/723/3403077481883334043-135.png\",\"title\":\"伊朗新增确诊\"},{\"imgUrl\":\"https://img1.dxycdn.com/2020/0320/266/3403077492620752785-135.png\",\"title\":\"美国新增确诊\"},{\"imgUrl\":\"https://img1.dxycdn.com/2020/0320/870/3403077503358171278-135.png\",\"title\":\"法国新增确诊\"},{\"imgUrl\":\"https://img1.dxycdn.com/2020/0320/053/3403077511947832997-135.png\",\"title\":\"德国新增确诊\"},{\"imgUrl\":\"https://img1.dxycdn.com/2020/0320/878/3403077520537768006-135.png\",\"title\":\"西班牙新增确诊\"},{\"imgUrl\":\"https://img1.dxycdn.com/2020/0320/443/3403077531275186665-135.png\",\"title\":\"韩国新增确诊\"}],\"foreignTrendChartGlobal\":[{\"imgUrl\":\"https://img1.dxycdn.com/2020/0319/740/3402859458605738923-135.png\",\"title\":\"Daily New Cases\"},{\"imgUrl\":\"https://img1.dxycdn.com/2020/0319/351/3402856772103846114-135.png\",\"title\":\"Total Confirmed Cases\"},{\"imgUrl\":\"https://img1.dxycdn.com/2020/0319/236/3402856782841001789-135.png\",\"title\":\"Total Deaths Cases\"}],\"importantForeignTrendChartGlobal\":[{\"imgUrl\":\"https://img1.dxycdn.com/2020/0319/122/3402856838675578578-135.png\",\"title\":\"Daily New Cases\"},{\"imgUrl\":\"https://img1.dxycdn.com/2020/0319/685/3402856849412997239-135.png\",\"title\":\"Japan\"},{\"imgUrl\":\"https://img1.dxycdn.com/2020/0319/477/3402856860150678804-135.png\",\"title\":\"Italy\"},{\"imgUrl\":\"https://img1.dxycdn.com/2020/0319/454/3402856873035581014-135.png\",\"title\":\"Iran\"},{\"imgUrl\":\"https://img1.dxycdn.com/2020/0319/022/3402856883772999714-135.png\",\"title\":\"U.S.A.\"},{\"imgUrl\":\"https://img1.dxycdn.com/2020/0319/529/3402856894510155506-135.png\",\"title\":\"France\"},{\"imgUrl\":\"https://img1.dxycdn.com/2020/0319/211/3402856905247574064-135.png\",\"title\":\"Germany\"},{\"imgUrl\":\"https://img1.dxycdn.com/2020/0319/054/3402856913837508985-135.png\",\"title\":\"Spain\"},{\"imgUrl\":\"https://img1.dxycdn.com/2020/0319/088/3402856928870157852-135.png\",\"title\":\"Republic of Korea\"}],\"foreignStatistics\":{\"currentConfirmedCount\":495500,\"confirmedCount\":592039,\"suspectedCount\":4,\"curedCount\":68298,\"deadCount\":28241,\"suspectedIncr\":0,\"currentConfirmedIncr\":18378,\"confirmedIncr\":24079,\"curedIncr\":4316,\"deadIncr\":1385},\"globalStatistics\":{\"currentConfirmedCount\":499013,\"confirmedCount\":674458,\"curedCount\":143898,\"deadCount\":31547,\"currentConfirmedIncr\":18101,\"confirmedIncr\":24285,\"curedIncr\":4794,\"deadIncr\":1390},\"globalOtherTrendChartData\":\"https://file1.dxycdn.com/2020/0329/837/3404721996943369118-135.json\"}}catch(e){}']"
      ]
     },
     "execution_count": 8,
     "metadata": {},
     "output_type": "execute_result"
    }
   ],
   "source": [
    "data = soup.findAll(text=re.compile('\\\"summary.+\\\"confirmedCount\\\":\\d'))\n",
    "\n",
    "data\n"
   ]
  },
  {
   "cell_type": "code",
   "execution_count": 9,
   "metadata": {},
   "outputs": [],
   "source": [
    "m = re.search('\\\"confirmedCount\\\":(\\d+)', data[0])\n",
    "summary_confirmed_count = int(m.group(1))\n",
    "\n",
    "\n",
    "m = re.search('\\\"curedCount\\\":(\\d+)', data[0])\n",
    "summary_cured_count = int(m.group(1))\n",
    "\n",
    "m = re.search('\\\"deadCount\\\":(\\d+)', data[0])\n",
    "summary_dead_count = int(m.group(1))\n"
   ]
  },
  {
   "cell_type": "code",
   "execution_count": 10,
   "metadata": {},
   "outputs": [
    {
     "data": {
      "text/html": [
       "<div>\n",
       "<style scoped>\n",
       "    .dataframe tbody tr th:only-of-type {\n",
       "        vertical-align: middle;\n",
       "    }\n",
       "\n",
       "    .dataframe tbody tr th {\n",
       "        vertical-align: top;\n",
       "    }\n",
       "\n",
       "    .dataframe thead th {\n",
       "        text-align: right;\n",
       "    }\n",
       "</style>\n",
       "<table border=\"1\" class=\"dataframe\">\n",
       "  <thead>\n",
       "    <tr style=\"text-align: right;\">\n",
       "      <th></th>\n",
       "      <th>datetime</th>\n",
       "      <th>confirmed</th>\n",
       "      <th>cured</th>\n",
       "      <th>dead</th>\n",
       "    </tr>\n",
       "  </thead>\n",
       "  <tbody>\n",
       "    <tr>\n",
       "      <th>0</th>\n",
       "      <td>2020-03-29 10:57</td>\n",
       "      <td>82419</td>\n",
       "      <td>75600</td>\n",
       "      <td>3306</td>\n",
       "    </tr>\n",
       "  </tbody>\n",
       "</table>\n",
       "</div>"
      ],
      "text/plain": [
       "           datetime  confirmed  cured  dead\n",
       "0  2020-03-29 10:57      82419  75600  3306"
      ]
     },
     "execution_count": 10,
     "metadata": {},
     "output_type": "execute_result"
    }
   ],
   "source": [
    "# make a dataframe\n",
    "df = pd.DataFrame({\n",
    "    'datetime': data_date_time,\n",
    "    'confirmed': summary_confirmed_count,\n",
    "    'cured': summary_cured_count,\n",
    "    'dead': summary_dead_count\n",
    "}, index=[0])\n",
    "df"
   ]
  },
  {
   "cell_type": "markdown",
   "metadata": {},
   "source": [
    "### Save to file"
   ]
  },
  {
   "cell_type": "code",
   "execution_count": 11,
   "metadata": {},
   "outputs": [],
   "source": [
    "from pathlib import Path\n",
    "csv_file = '../data/china-summary-cases.csv'\n",
    "\n",
    "if Path(csv_file).exists():\n",
    "    # read out the old data - then merge with new data and remove duplicates based on datetime\n",
    "    old_df = pd.read_csv(csv_file)\n",
    "    df = df.append(old_df)\n",
    "df.drop_duplicates(subset=['datetime'], inplace=True)"
   ]
  },
  {
   "cell_type": "code",
   "execution_count": 12,
   "metadata": {},
   "outputs": [],
   "source": [
    "df.sort_values(by=['datetime'], inplace=True)\n",
    "\n",
    "df.to_csv(csv_file, index=False)\n"
   ]
  },
  {
   "cell_type": "markdown",
   "metadata": {},
   "source": [
    "### Plot graph"
   ]
  },
  {
   "cell_type": "code",
   "execution_count": 13,
   "metadata": {},
   "outputs": [],
   "source": [
    "import seaborn as sns\n",
    "import matplotlib.pyplot as plt\n",
    "from pandas.plotting import register_matplotlib_converters\n",
    "register_matplotlib_converters()\n",
    "\n",
    "png_file = '../images/china-summary-cases.png'\n",
    "# convert to pd.datetime\n",
    "df['datetime_idx'] = pd.to_datetime(df['datetime'], format=\"%Y-%m-%d %H:%M\")\n",
    "\n",
    "df.set_index('datetime_idx', inplace=True)\n",
    "df.drop(['datetime'], axis=1, inplace=True)\n"
   ]
  },
  {
   "cell_type": "code",
   "execution_count": 14,
   "metadata": {},
   "outputs": [
    {
     "data": {
      "text/html": [
       "<div>\n",
       "<style scoped>\n",
       "    .dataframe tbody tr th:only-of-type {\n",
       "        vertical-align: middle;\n",
       "    }\n",
       "\n",
       "    .dataframe tbody tr th {\n",
       "        vertical-align: top;\n",
       "    }\n",
       "\n",
       "    .dataframe thead th {\n",
       "        text-align: right;\n",
       "    }\n",
       "</style>\n",
       "<table border=\"1\" class=\"dataframe\">\n",
       "  <thead>\n",
       "    <tr style=\"text-align: right;\">\n",
       "      <th></th>\n",
       "      <th>confirmed</th>\n",
       "      <th>cured</th>\n",
       "      <th>dead</th>\n",
       "    </tr>\n",
       "    <tr>\n",
       "      <th>datetime_idx</th>\n",
       "      <th></th>\n",
       "      <th></th>\n",
       "      <th></th>\n",
       "    </tr>\n",
       "  </thead>\n",
       "  <tbody>\n",
       "    <tr>\n",
       "      <th>2020-02-02 10:22:00</th>\n",
       "      <td>14483</td>\n",
       "      <td>379</td>\n",
       "      <td>304</td>\n",
       "    </tr>\n",
       "    <tr>\n",
       "      <th>2020-02-02 10:28:00</th>\n",
       "      <td>14483</td>\n",
       "      <td>380</td>\n",
       "      <td>304</td>\n",
       "    </tr>\n",
       "    <tr>\n",
       "      <th>2020-02-02 11:19:00</th>\n",
       "      <td>14489</td>\n",
       "      <td>385</td>\n",
       "      <td>304</td>\n",
       "    </tr>\n",
       "    <tr>\n",
       "      <th>2020-02-02 11:54:00</th>\n",
       "      <td>14489</td>\n",
       "      <td>397</td>\n",
       "      <td>304</td>\n",
       "    </tr>\n",
       "    <tr>\n",
       "      <th>2020-02-02 15:01:00</th>\n",
       "      <td>14490</td>\n",
       "      <td>430</td>\n",
       "      <td>304</td>\n",
       "    </tr>\n",
       "    <tr>\n",
       "      <th>...</th>\n",
       "      <td>...</td>\n",
       "      <td>...</td>\n",
       "      <td>...</td>\n",
       "    </tr>\n",
       "    <tr>\n",
       "      <th>2020-03-29 03:19:00</th>\n",
       "      <td>82341</td>\n",
       "      <td>75600</td>\n",
       "      <td>3306</td>\n",
       "    </tr>\n",
       "    <tr>\n",
       "      <th>2020-03-29 08:03:00</th>\n",
       "      <td>82360</td>\n",
       "      <td>75600</td>\n",
       "      <td>3306</td>\n",
       "    </tr>\n",
       "    <tr>\n",
       "      <th>2020-03-29 08:46:00</th>\n",
       "      <td>82360</td>\n",
       "      <td>75600</td>\n",
       "      <td>3306</td>\n",
       "    </tr>\n",
       "    <tr>\n",
       "      <th>2020-03-29 09:57:00</th>\n",
       "      <td>82419</td>\n",
       "      <td>75600</td>\n",
       "      <td>3306</td>\n",
       "    </tr>\n",
       "    <tr>\n",
       "      <th>2020-03-29 10:57:00</th>\n",
       "      <td>82419</td>\n",
       "      <td>75600</td>\n",
       "      <td>3306</td>\n",
       "    </tr>\n",
       "  </tbody>\n",
       "</table>\n",
       "<p>860 rows × 3 columns</p>\n",
       "</div>"
      ],
      "text/plain": [
       "                     confirmed  cured  dead\n",
       "datetime_idx                               \n",
       "2020-02-02 10:22:00      14483    379   304\n",
       "2020-02-02 10:28:00      14483    380   304\n",
       "2020-02-02 11:19:00      14489    385   304\n",
       "2020-02-02 11:54:00      14489    397   304\n",
       "2020-02-02 15:01:00      14490    430   304\n",
       "...                        ...    ...   ...\n",
       "2020-03-29 03:19:00      82341  75600  3306\n",
       "2020-03-29 08:03:00      82360  75600  3306\n",
       "2020-03-29 08:46:00      82360  75600  3306\n",
       "2020-03-29 09:57:00      82419  75600  3306\n",
       "2020-03-29 10:57:00      82419  75600  3306\n",
       "\n",
       "[860 rows x 3 columns]"
      ]
     },
     "execution_count": 14,
     "metadata": {},
     "output_type": "execute_result"
    }
   ],
   "source": [
    "df"
   ]
  },
  {
   "cell_type": "code",
   "execution_count": 15,
   "metadata": {
    "scrolled": true
   },
   "outputs": [
    {
     "data": {
      "image/png": "[encoded data removed]",
      "text/plain": [
       "<Figure size 1008x1008 with 3 Axes>"
      ]
     },
     "metadata": {},
     "output_type": "display_data"
    }
   ],
   "source": [
    "if df.shape[0]>1:\n",
    "    # line chart when having at least a few points\n",
    "    sns.set(rc={'figure.figsize':(14,14)})\n",
    "    sns.set(style=\"whitegrid\")\n",
    "\n",
    "    fig, axs = plt.subplots(nrows=3)\n",
    "\n",
    "    sns.lineplot(x=df.index, y = 'confirmed', data=df, ax= axs[0], estimator=None, color='orange')\n",
    "    sns.lineplot(x=df.index, y = 'cured', data=df, ax= axs[1], estimator=None, color='green')\n",
    "    sns.lineplot(x=df.index, y = 'dead', data=df, ax= axs[2], estimator=None, color='darkred')\n",
    "\n",
    "    for ax in axs:\n",
    "        ax.set_xlabel('')\n",
    "        ax.tick_params(axis='x', labelrotation=30)\n",
    "else:\n",
    "\n",
    "    ax = df.plot(kind='bar', stacked=True, figsize=(9,6))\n",
    "    fig = ax.get_figure()\n",
    "    ax.set_xlabel('')\n",
    "    for label in ax.get_xticklabels():\n",
    "        label.set_rotation(0) \n"
   ]
  },
  {
   "cell_type": "code",
   "execution_count": 16,
   "metadata": {},
   "outputs": [],
   "source": [
    "fig.savefig(png_file)"
   ]
  },
  {
   "cell_type": "code",
   "execution_count": null,
   "metadata": {},
   "outputs": [],
   "source": []
  },
  {
   "cell_type": "code",
   "execution_count": null,
   "metadata": {},
   "outputs": [],
   "source": []
  }
 ],
 "metadata": {
  "kernelspec": {
   "display_name": "Python 3",
   "language": "python",
   "name": "python3"
  },
  "language_info": {
   "codemirror_mode": {
    "name": "ipython",
    "version": 3
   },
   "file_extension": ".py",
   "mimetype": "text/x-python",
   "name": "python",
   "nbconvert_exporter": "python",
   "pygments_lexer": "ipython3",
   "version": "3.7.6"
  }
 },
 "nbformat": 4,
 "nbformat_minor": 2
}
