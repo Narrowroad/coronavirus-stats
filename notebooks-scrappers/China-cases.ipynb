{
 "cells": [
  {
   "cell_type": "code",
   "execution_count": 1,
   "metadata": {},
   "outputs": [],
   "source": [
    "import pandas as pd\n",
    "import requests\n",
    "from bs4 import BeautifulSoup\n",
    "import re\n",
    "from datetime import datetime\n",
    "from selenium import webdriver\n",
    "from selenium.webdriver.chrome.options import Options  \n"
   ]
  },
  {
   "cell_type": "code",
   "execution_count": 2,
   "metadata": {},
   "outputs": [
    {
     "data": {
      "text/plain": [
       "datetime.datetime(2020, 3, 30, 16, 8, 54, 646335)"
      ]
     },
     "execution_count": 2,
     "metadata": {},
     "output_type": "execute_result"
    }
   ],
   "source": [
    "datetime.now()"
   ]
  },
  {
   "cell_type": "code",
   "execution_count": 3,
   "metadata": {},
   "outputs": [],
   "source": [
    "chrome_options = Options()  \n",
    "chrome_options.add_argument(\"--headless\")  \n",
    "chrome_options.add_argument(\"--no-sandbox\")\n",
    "\n",
    "driver = webdriver.Chrome('chromedriver', options=chrome_options)"
   ]
  },
  {
   "cell_type": "code",
   "execution_count": 4,
   "metadata": {},
   "outputs": [],
   "source": [
    "url = 'https://ncov.dxy.cn/ncovh5/view/pneumonia'\n",
    "driver.get(url)"
   ]
  },
  {
   "cell_type": "markdown",
   "metadata": {},
   "source": [
    "### Extract date"
   ]
  },
  {
   "cell_type": "code",
   "execution_count": 5,
   "metadata": {},
   "outputs": [],
   "source": [
    "content = driver.page_source\n",
    "soup =BeautifulSoup(content, 'lxml')\n"
   ]
  },
  {
   "cell_type": "code",
   "execution_count": 6,
   "metadata": {},
   "outputs": [
    {
     "data": {
      "text/plain": [
       "['try { window.getTimelineService1 = [{\"id\":20419,\"pubDate\":1585584104000,\"pubDateStr\":\"6分钟前\",\"title\":\"毛里求斯新增21例新冠肺炎确诊病例 累计确诊131例\",\"summary\":\"毛里求斯卫生部于当地时间3月30日发布消息称，毛里求斯新增21例新冠肺炎确诊病例。累计确诊人数从原来的110例上升到131例，累计死亡3例，现存确诊128例。（总台记者 顾雪嘉）\",\"infoSource\":\"央视新闻app\",\"sourceUrl\":\"http://app.cctv.com/special/cportal/detail/arti/index.html?id=ArtiiLs6V0XR26ZYjwU2hxef200330&isfromapp=1\",\"provinceId\":\"\"},{\"id\":20421,\"pubDate\":1585583999000,\"pubDateStr\":\"8分钟前\",\"title\":\"美国纽约州新冠肺炎死亡人数破千\",\"summary\":\"据美国有线新闻网引用纽约州州长办公室官员消息称，当地时间3月30日，纽约州因新冠肺炎死亡人数已经突破1000人。此前纽约州官方3月30日中午公布的数据为965人。（央视记者 徐德智）\",\"infoSource\":\"央视新闻app\",\"sourceUrl\":\"http://app.cctv.com/special/cportal/detail/arti/index.html?id=Arti84Cw9FVpdld1wvJkzHL8200330&isfromapp=1\",\"provinceId\":\"\"},{\"id\":20415,\"pubDate\":1585583952000,\"pubDateStr\":\"9分钟前\",\"title\":\"意大利8358名医护人员感染冠肺炎 63名医生去世\",\"summary\":\"根据意大利天空电视台网站援引意大利国家高等卫生研究院30日发布的数据，意大利医护人员感染新冠肺炎的人数相比前一天上升595例，共计8358例。此外，根据意大利外科和牙科医生联合会当地时间30日下午的公告，该国自疫情爆发以来，因感染新冠肺炎而去世的医生达63人。（总台记者 邓宗宇）\",\"infoSource\":\"央视新闻app\",\"sourceUrl\":\"http://app.cctv.com/special/cportal/detail/arti/index.html?id=ArtiTVmQTTl6nygaQg88d7Dq200330&isfromapp=1\",\"provinceId\":\"\"},{\"id\":20402,\"pubDate\":1585582750000,\"pubDateStr\":\"29分钟前\",\"title\":\"阿塞拜疆新冠肺炎累计确诊病例升至273例\",\"summary\":\"据俄新社援引阿塞拜疆政府疫情防控指挥部3月30日消息，阿塞拜疆境内当日新增新冠肺炎确诊病例64例，累计确诊病例升至273例，其中26人治愈出院，4人死亡。为防止新冠肺炎疫情蔓延，阿塞拜疆政府宣布自3月24日起至4月20日全国进入隔离状态。（总台记者 宋瑶）\",\"infoSource\":\"央视新闻app\",\"sourceUrl\":\"http://app.cctv.com/special/cportal/detail/arti/index.html?id=ArtiXpDHjUj08vBqlDvpWSyL200330&isfromapp=1\",\"provinceId\":\"\"},{\"id\":20385,\"pubDate\":1585581270000,\"pubDateStr\":\"53分钟前\",\"title\":\"洪都拉斯新冠肺炎累计病例达139例 加强并延长全国强制隔离令14天\",\"summary\":\"洪都拉斯卫生部29日晚宣布，新增29例新冠肺炎病例，全国累计病例达139例，包括3名死亡病例。\",\"infoSource\":\"央视新闻app\",\"sourceUrl\":\"http://app.cctv.com/special/cportal/detail/arti/index.html?id=Arti1qVl3fpvt3e1Cjdp5gpK200330&isfromapp=1\",\"provinceId\":\"\"},{\"id\":20372,\"pubDate\":1585581163000,\"pubDateStr\":\"55分钟前\",\"title\":\"卢森堡30日最新通报：新增38例新冠肺炎确诊病例 累计确诊1988例\",\"summary\":\"当地时间3月30日下午，卢森堡卫生部门通报，过去24小时其境内新增新冠肺炎确诊病例38例，累计确诊1988例。其中死亡病例新增1例，累计22例。（总台记者 邹合义）\",\"infoSource\":\"央视新闻app\",\"sourceUrl\":\"http://app.cctv.com/special/cportal/detail/arti/index.html?id=ArtijHE8hdq8CYkKzVI2igcR200330&isfromapp=1\",\"provinceId\":\"\"},{\"id\":20374,\"pubDate\":1585581103000,\"pubDateStr\":\"56分钟前\",\"title\":\"葡萄牙新冠肺炎确诊病例达6408例\",\"summary\":\"截至当地时间3月30日，葡萄牙新增新冠肺炎确诊病例446例，累计确诊6408例，死亡140例。（总台记者 魏帆）\",\"infoSource\":\"央视新闻app\",\"sourceUrl\":\"http://app.cctv.com/special/cportal/detail/arti/index.html?id=ArtiOHHskXf2VomeVR3LQRRD200330&isfromapp=1\",\"provinceId\":\"\"},{\"id\":20375,\"pubDate\":1585580965000,\"pubDateStr\":\"58分钟前\",\"title\":\"吉布提30日最新通报：新增7例新冠肺炎确诊病例 累计25例\",\"summary\":\"当地时间3月30日，吉布提卫生部发布声明，在当天进行的144次检测中，发现7例新冠肺炎确诊病例，其中4例为之前确诊患者的接触病例，3例为新发现病例。截至目前，总共完成620次检测，累计确诊病例25例，仍有26人在检疫中心隔离监测。（总台记者 吴婷）\",\"infoSource\":\"央视新闻app\",\"sourceUrl\":\"http://app.cctv.com/special/cportal/detail/arti/index.html?id=ArtiO99Mc2XA2SsK6A0Im5i3200330&isfromapp=1\",\"provinceId\":\"\"},{\"id\":20354,\"pubDate\":1585580057000,\"pubDateStr\":\"1小时前\",\"title\":\" 2020年3月30日重庆市新冠肺炎疫情情况 \",\"summary\":\"本地疫情3月29日0—24时，重庆市本地无新增新冠肺炎确诊病例报告。截至3月29日24时，重庆市本地无在院确诊病例，累计治愈出院病例570例，累计死亡病例6例，累计报告确诊病例576例。二、境外输入疫情3月29日0—24时，重庆市无新增境外输入新冠肺炎确诊病例报告。截至3月29日24时，重庆市累计报告境外输入确诊病例3例，均在院治疗。\",\"infoSource\":\"重庆卫健委\",\"sourceUrl\":\"http://www.wsjkw.cq.gov.cn/yqxxyqtb/20200330/261451.html\",\"provinceId\":\"\"},{\"id\":20315,\"pubDate\":1585578596000,\"pubDateStr\":\"1小时前\",\"title\":\"瑞士30日最新通报：新增新冠肺炎确诊病例1201例 累计确诊15475例\",\"summary\":\"截止到当地时间3月30日上午8时，根据瑞士联邦卫生部最新数据，瑞士和列支敦士登共确诊新冠肺炎感染病例15475例，比前一天新增1201例，死亡人数升至295人。瑞士联邦卫生部表示，自2020年2月24日实验室确认第一例新冠肺炎病例以来，病例数一直在增加。迄今为止，累计检测了约116700人，其中约13%显示阳性。（总台记者 易歆）\",\"infoSource\":\"央视新闻app\",\"sourceUrl\":\"http://app.cctv.com/special/cportal/detail/arti/index.html?id=Arti8U4LU71CokqsShxlSDce200330&isfromapp=1\",\"provinceId\":\"\"},{\"id\":20316,\"pubDate\":1585578558000,\"pubDateStr\":\"1小时前\",\"title\":\"哈萨克斯坦30日最新通报：新冠肺炎病例累计确诊302例\",\"summary\":\"哈萨克斯坦新冠肺炎疫情防控指挥部30日通报称，截至当地时间18时50分，境内共有新冠肺炎确诊病例302例，其中8名患者状况堪忧，将近85%患者无症状或有轻微症状。另有21人康复出院。哈卫生部长比尔塔诺夫表示，数学推演结果显示，5月底前感染者应不超过3500人。（总台记者 王德禄）\",\"infoSource\":\"央视新闻app\",\"sourceUrl\":\"http://app.cctv.com/special/cportal/detail/arti/index.html?id=ArtibRnmwKaph81jL3Xi1WYC200330&isfromapp=1\",\"provinceId\":\"\"},{\"id\":20298,\"pubDate\":1585577772000,\"pubDateStr\":\"1小时前\",\"title\":\"甘肃30日通报：本地无新增新冠肺炎确诊病例\",\"summary\":\"3月29日20时至3月30日20时，伊朗包机来甘311人中，共计确诊37例，累计治愈出院35例，现有2例在省级定点医院隔离治疗。3月29日20时至3月30日20时，其他航班回国来甘人员无新增新冠肺炎确诊病例。累计确诊9例，累计治愈出院1例，现有4例在临夏州定点医院住院隔离治疗，4例在省级定点医院住院隔离治疗。累计追踪到密切接触者366人，已解除医学观察205人，其余161人正在接受医学观察。\",\"infoSource\":\"央视新闻app\",\"sourceUrl\":\"http://app.cctv.com/special/cportal/detail/arti/index.html?id=ArtihjkXWk4OdzmBm4lvENjY200330&isfromapp=1\",\"provinceId\":\"\"},{\"id\":20295,\"pubDate\":1585576940000,\"pubDateStr\":\"2小时前\",\"title\":\"缅甸30日最新通报：增加4例新冠肺炎确诊病例 累计14例\",\"summary\":\"3月30日晚，缅甸卫生部确认再增4例新冠肺炎确诊病例，累计14例。在新增的4例患者中，有3例为曾与八号病例接触过的法国游客，此前有法国旅居史，这三名患者现在正在仰光维巴基医院隔离观察，目前无症状。第4例新增病例为24日从泰国返回，并于27日从大其力飞往曼德勒，28日开始有呕吐咳嗽症状。同时，缅甸卫生部还排除了另外51例疑似病例。（总台记者 王悦舟）\",\"infoSource\":\"央视新闻app\",\"sourceUrl\":\"http://app.cctv.com/special/cportal/detail/arti/index.html?id=ArtigYXfrjkNWJyErMUQ8zgJ200330&isfromapp=1\",\"provinceId\":\"\"}]}catch(e){}',\n",
       " '截至北京时间 2020-03-30 15:56',\n",
       " '截至北京时间 2020-03-30 15:56',\n",
       " '截至当地时间3月30日，葡萄牙新增新冠肺炎确诊病例446例，累计确诊6408例，死亡140例。（总台记者 魏帆）',\n",
       " '当地时间3月30日，吉布提卫生部发布声明，在当天进行的144次检测中，发现7例新冠肺炎确诊病例，其中4例为之前确诊患者的接触病例，3例为新发现病例。截至目前，总共完成620次检测，累计确诊病例25例，仍有26人在检疫中心隔离监测。（总台记者 吴婷）',\n",
       " '本地疫情3月29日0—24时，重庆市本地无新增新冠肺炎确诊病例报告。截至3月29日24时，重庆市本地无在院确诊病例，累计治愈出院病例570例，累计死亡病例6例，累计报告确诊病例576例。二、境外输入疫情3月29日0—24时，重庆市无新增境外输入新冠肺炎确诊病例报告。截至3月29日24时，重庆市累计报告境外输入确诊病例3例，均在院治疗。',\n",
       " '哈萨克斯坦新冠肺炎疫情防控指挥部30日通报称，截至当地时间18时50分，境内共有新冠肺炎确诊病例302例，其中8名患者状况堪忧，将近85%患者无症状或有轻微症状。另有21人康复出院。哈卫生部长比尔塔诺夫表示，数学推演结果显示，5月底前感染者应不超过3500人。（总台记者 王德禄）']"
      ]
     },
     "execution_count": 6,
     "metadata": {},
     "output_type": "execute_result"
    }
   ],
   "source": [
    "data = soup.findAll(text=re.compile(\"截至.+\"))\n",
    "data"
   ]
  },
  {
   "cell_type": "code",
   "execution_count": 7,
   "metadata": {},
   "outputs": [
    {
     "data": {
      "text/plain": [
       "'2020-03-30 15:56'"
      ]
     },
     "execution_count": 7,
     "metadata": {},
     "output_type": "execute_result"
    }
   ],
   "source": [
    "for s in data:\n",
    "    m = re.search(\"截至.*(202\\d-\\d+-\\d+ \\d+:\\d+)\", s)\n",
    "    if m is not None:\n",
    "        data_date_time = m.group(1)\n",
    "data_date_time"
   ]
  },
  {
   "cell_type": "markdown",
   "metadata": {},
   "source": [
    "### Extract data (summary)"
   ]
  },
  {
   "cell_type": "code",
   "execution_count": 8,
   "metadata": {},
   "outputs": [
    {
     "data": {
      "text/plain": [
       "['try { window.getStatisticsService = {\"id\":1,\"createTime\":1579537899000,\"modifyTime\":1585583791000,\"infectSource\":\"该字段已替换为说明2\",\"passWay\":\"该字段已替换为说明3\",\"imgUrl\":\"https://img1.dxycdn.com/2020/0201/450/3394153392393266839-135.png\",\"dailyPic\":\"https://img1.dxycdn.com/2020/0211/763/3395998884005602079-135.png,https://img1.dxycdn.com/2020/0211/362/3395998896890788910-135.png,https://img1.dxycdn.com/2020/0211/365/3395998905480724211-135.png,https://img1.dxycdn.com/2020/0211/364/3395998916217859778-135.png,https://img1.dxycdn.com/2020/0211/922/3395998929103046444-135.png,https://img1.dxycdn.com/2020/0211/089/3395998939840182072-135.png\",\"dailyPics\":[\"https://img1.dxycdn.com/2020/0211/763/3395998884005602079-135.png\",\"https://img1.dxycdn.com/2020/0211/362/3395998896890788910-135.png\",\"https://img1.dxycdn.com/2020/0211/365/3395998905480724211-135.png\",\"https://img1.dxycdn.com/2020/0211/364/3395998916217859778-135.png\",\"https://img1.dxycdn.com/2020/0211/922/3395998929103046444-135.png\",\"https://img1.dxycdn.com/2020/0211/089/3395998939840182072-135.png\"],\"summary\":\"\",\"deleted\":false,\"countRemark\":\"\",\"currentConfirmedCount\":3236,\"confirmedCount\":82505,\"suspectedCount\":723,\"curedCount\":75956,\"deadCount\":3313,\"seriousCount\":633,\"suspectedIncr\":30,\"currentConfirmedIncr\":-199,\"confirmedIncr\":164,\"curedIncr\":356,\"deadIncr\":7,\"seriousIncr\":-109,\"virus\":\"该字段已替换为说明1\",\"remark1\":\"易感人群：人群普遍易感。老年人及有基础疾病者感染后病情较重，儿童及婴幼儿也有发病\",\"remark2\":\"潜伏期：一般为 3～7 天，最长不超过 14 天，潜伏期内可能存在传染性，其中无症状病例传染性非常罕见\",\"remark3\":\"宿主：野生动物，可能为中华菊头蝠\",\"remark4\":\"\",\"remark5\":\"\",\"note1\":\"病毒：SARS-CoV-2，其导致疾病命名 COVID-19\",\"note2\":\"传染源：新冠肺炎的患者。无症状感染者也可能成为传染源。\",\"note3\":\"传播途径：经呼吸道飞沫、接触传播是主要的传播途径。气溶胶传播和消化道等传播途径尚待明确。\",\"generalRemark\":\"1. 3 月 12 日国家卫健委确诊补订遗漏 12 例确诊病例（非 12 日新增），暂无具体省份信息。 2. 浙江省 12 例外省治愈暂无具体省份信息。\",\"abroadRemark\":\"\",\"marquee\":[{\"id\":1815,\"marqueeLabel\":\"钟南山\",\"marqueeContent\":\"推断中国不会有太多无症状感染者\",\"marqueeLink\":\"https://dxy.me/XxNxkx\"},{\"id\":1816,\"marqueeLabel\":\"美国\",\"marqueeContent\":\"一样又不一样，纽约方舱即将开舱\",\"marqueeLink\":\"https://dxy.me/jU1G0D\"},{\"id\":1817,\"marqueeLabel\":\"数字新冠\",\"marqueeContent\":\"3 月 29 日，世界因新冠而变\",\"marqueeLink\":\"https://dxy.me/LHKFUL\"}],\"quanguoTrendChart\":[{\"imgUrl\":\"https://img1.dxycdn.com/2020/0324/278/3403801351376518263-135.png\",\"title\":\"新增疑似/新增确诊\"},{\"imgUrl\":\"https://img1.dxycdn.com/2020/0324/812/3403847865872006755-135.png\",\"title\":\"境外输入\"},{\"imgUrl\":\"https://img1.dxycdn.com/2020/0324/547/3403847848692336947-135.png\",\"title\":\"现存确诊\"},{\"imgUrl\":\"https://img1.dxycdn.com/2020/0324/775/3403801407211095604-135.png\",\"title\":\"治愈\"},{\"imgUrl\":\"https://img1.dxycdn.com/2020/0324/250/3403801424390727199-135.png\",\"title\":\"死亡\"}],\"hbFeiHbTrendChart\":[{\"imgUrl\":\"https://img1.dxycdn.com/2020/0326/624/3404177508906904585-135.png\",\"title\":\"非湖北新增确诊\"},{\"imgUrl\":\"https://img1.dxycdn.com/2020/0326/777/3404177532529485065-135.png\",\"title\":\"湖北新增确诊\"},{\"imgUrl\":\"https://img1.dxycdn.com/2020/0326/376/3404177556151805921-135.png\",\"title\":\"湖北现存确诊\"},{\"imgUrl\":\"https://img1.dxycdn.com/2020/0326/527/3404177575478899995-135.png\",\"title\":\"非湖北现存确诊\"},{\"imgUrl\":\"https://img1.dxycdn.com/2020/0326/419/3404177596953996726-135.png\",\"title\":\"治愈/死亡\"}],\"foreignTrendChart\":[{\"imgUrl\":\"https://img1.dxycdn.com/2020/0320/702/3403079914982117944-135.png\",\"title\":\"国外新增确诊\"},{\"imgUrl\":\"https://img1.dxycdn.com/2020/0320/396/3403079925719536561-135.png\",\"title\":\"国外累计确诊\"},{\"imgUrl\":\"https://img1.dxycdn.com/2020/0320/139/3403079936457225524-135.png\",\"title\":\"国外死亡\"}],\"importantForeignTrendChart\":[{\"imgUrl\":\"https://img1.dxycdn.com/2020/0320/450/3403077453965772423-135.png\",\"title\":\"重点国家新增确诊\"},{\"imgUrl\":\"https://img1.dxycdn.com/2020/0320/276/3403077462555980566-135.png\",\"title\":\"日本新增确诊\"},{\"imgUrl\":\"https://img1.dxycdn.com/2020/0320/340/3403077473293125942-135.png\",\"title\":\"意大利新增确诊\"},{\"imgUrl\":\"https://img1.dxycdn.com/2020/0320/723/3403077481883334043-135.png\",\"title\":\"伊朗新增确诊\"},{\"imgUrl\":\"https://img1.dxycdn.com/2020/0320/266/3403077492620752785-135.png\",\"title\":\"美国新增确诊\"},{\"imgUrl\":\"https://img1.dxycdn.com/2020/0320/870/3403077503358171278-135.png\",\"title\":\"法国新增确诊\"},{\"imgUrl\":\"https://img1.dxycdn.com/2020/0320/053/3403077511947832997-135.png\",\"title\":\"德国新增确诊\"},{\"imgUrl\":\"https://img1.dxycdn.com/2020/0320/878/3403077520537768006-135.png\",\"title\":\"西班牙新增确诊\"},{\"imgUrl\":\"https://img1.dxycdn.com/2020/0320/443/3403077531275186665-135.png\",\"title\":\"韩国新增确诊\"}],\"foreignTrendChartGlobal\":[{\"imgUrl\":\"https://img1.dxycdn.com/2020/0319/740/3402859458605738923-135.png\",\"title\":\"Daily New Cases\"},{\"imgUrl\":\"https://img1.dxycdn.com/2020/0319/351/3402856772103846114-135.png\",\"title\":\"Total Confirmed Cases\"},{\"imgUrl\":\"https://img1.dxycdn.com/2020/0319/236/3402856782841001789-135.png\",\"title\":\"Total Deaths Cases\"}],\"importantForeignTrendChartGlobal\":[{\"imgUrl\":\"https://img1.dxycdn.com/2020/0319/122/3402856838675578578-135.png\",\"title\":\"Daily New Cases\"},{\"imgUrl\":\"https://img1.dxycdn.com/2020/0319/685/3402856849412997239-135.png\",\"title\":\"Japan\"},{\"imgUrl\":\"https://img1.dxycdn.com/2020/0319/477/3402856860150678804-135.png\",\"title\":\"Italy\"},{\"imgUrl\":\"https://img1.dxycdn.com/2020/0319/454/3402856873035581014-135.png\",\"title\":\"Iran\"},{\"imgUrl\":\"https://img1.dxycdn.com/2020/0319/022/3402856883772999714-135.png\",\"title\":\"U.S.A.\"},{\"imgUrl\":\"https://img1.dxycdn.com/2020/0319/529/3402856894510155506-135.png\",\"title\":\"France\"},{\"imgUrl\":\"https://img1.dxycdn.com/2020/0319/211/3402856905247574064-135.png\",\"title\":\"Germany\"},{\"imgUrl\":\"https://img1.dxycdn.com/2020/0319/054/3402856913837508985-135.png\",\"title\":\"Spain\"},{\"imgUrl\":\"https://img1.dxycdn.com/2020/0319/088/3402856928870157852-135.png\",\"title\":\"Republic of Korea\"}],\"foreignStatistics\":{\"currentConfirmedCount\":542867,\"confirmedCount\":651774,\"suspectedCount\":4,\"curedCount\":77252,\"deadCount\":31655,\"suspectedIncr\":0,\"currentConfirmedIncr\":13231,\"confirmedIncr\":21200,\"curedIncr\":6560,\"deadIncr\":1409},\"globalStatistics\":{\"currentConfirmedCount\":546103,\"confirmedCount\":734279,\"curedCount\":153208,\"deadCount\":34968,\"currentConfirmedIncr\":13032,\"confirmedIncr\":21364,\"curedIncr\":6916,\"deadIncr\":1416},\"globalOtherTrendChartData\":\"https://file1.dxycdn.com/2020/0330/942/3404907558858335987-135.json\"}}catch(e){}']"
      ]
     },
     "execution_count": 8,
     "metadata": {},
     "output_type": "execute_result"
    }
   ],
   "source": [
    "data = soup.findAll(text=re.compile('\\\"summary.+\\\"confirmedCount\\\":\\d'))\n",
    "\n",
    "data\n"
   ]
  },
  {
   "cell_type": "code",
   "execution_count": 9,
   "metadata": {},
   "outputs": [],
   "source": [
    "m = re.search('\\\"confirmedCount\\\":(\\d+)', data[0])\n",
    "summary_confirmed_count = int(m.group(1))\n",
    "\n",
    "\n",
    "m = re.search('\\\"curedCount\\\":(\\d+)', data[0])\n",
    "summary_cured_count = int(m.group(1))\n",
    "\n",
    "m = re.search('\\\"deadCount\\\":(\\d+)', data[0])\n",
    "summary_dead_count = int(m.group(1))\n"
   ]
  },
  {
   "cell_type": "code",
   "execution_count": 10,
   "metadata": {},
   "outputs": [
    {
     "data": {
      "text/html": [
       "<div>\n",
       "<style scoped>\n",
       "    .dataframe tbody tr th:only-of-type {\n",
       "        vertical-align: middle;\n",
       "    }\n",
       "\n",
       "    .dataframe tbody tr th {\n",
       "        vertical-align: top;\n",
       "    }\n",
       "\n",
       "    .dataframe thead th {\n",
       "        text-align: right;\n",
       "    }\n",
       "</style>\n",
       "<table border=\"1\" class=\"dataframe\">\n",
       "  <thead>\n",
       "    <tr style=\"text-align: right;\">\n",
       "      <th></th>\n",
       "      <th>datetime</th>\n",
       "      <th>confirmed</th>\n",
       "      <th>cured</th>\n",
       "      <th>dead</th>\n",
       "    </tr>\n",
       "  </thead>\n",
       "  <tbody>\n",
       "    <tr>\n",
       "      <th>0</th>\n",
       "      <td>2020-03-30 15:56</td>\n",
       "      <td>82505</td>\n",
       "      <td>75956</td>\n",
       "      <td>3313</td>\n",
       "    </tr>\n",
       "  </tbody>\n",
       "</table>\n",
       "</div>"
      ],
      "text/plain": [
       "           datetime  confirmed  cured  dead\n",
       "0  2020-03-30 15:56      82505  75956  3313"
      ]
     },
     "execution_count": 10,
     "metadata": {},
     "output_type": "execute_result"
    }
   ],
   "source": [
    "# make a dataframe\n",
    "df = pd.DataFrame({\n",
    "    'datetime': data_date_time,\n",
    "    'confirmed': summary_confirmed_count,\n",
    "    'cured': summary_cured_count,\n",
    "    'dead': summary_dead_count\n",
    "}, index=[0])\n",
    "df"
   ]
  },
  {
   "cell_type": "markdown",
   "metadata": {},
   "source": [
    "### Save to file"
   ]
  },
  {
   "cell_type": "code",
   "execution_count": 11,
   "metadata": {},
   "outputs": [],
   "source": [
    "from pathlib import Path\n",
    "csv_file = '../data/china-summary-cases.csv'\n",
    "\n",
    "if Path(csv_file).exists():\n",
    "    # read out the old data - then merge with new data and remove duplicates based on datetime\n",
    "    old_df = pd.read_csv(csv_file)\n",
    "    df = df.append(old_df)\n",
    "df.drop_duplicates(subset=['datetime'], inplace=True)"
   ]
  },
  {
   "cell_type": "code",
   "execution_count": 12,
   "metadata": {},
   "outputs": [],
   "source": [
    "df.sort_values(by=['datetime'], inplace=True)\n",
    "\n",
    "df.to_csv(csv_file, index=False)\n"
   ]
  },
  {
   "cell_type": "markdown",
   "metadata": {},
   "source": [
    "### Plot graph"
   ]
  },
  {
   "cell_type": "code",
   "execution_count": 13,
   "metadata": {},
   "outputs": [],
   "source": [
    "import seaborn as sns\n",
    "import matplotlib.pyplot as plt\n",
    "from pandas.plotting import register_matplotlib_converters\n",
    "register_matplotlib_converters()\n",
    "\n",
    "png_file = '../images/china-summary-cases.png'\n",
    "# convert to pd.datetime\n",
    "df['datetime_idx'] = pd.to_datetime(df['datetime'], format=\"%Y-%m-%d %H:%M\")\n",
    "\n",
    "df.set_index('datetime_idx', inplace=True)\n",
    "df.drop(['datetime'], axis=1, inplace=True)\n"
   ]
  },
  {
   "cell_type": "code",
   "execution_count": 14,
   "metadata": {},
   "outputs": [
    {
     "data": {
      "text/html": [
       "<div>\n",
       "<style scoped>\n",
       "    .dataframe tbody tr th:only-of-type {\n",
       "        vertical-align: middle;\n",
       "    }\n",
       "\n",
       "    .dataframe tbody tr th {\n",
       "        vertical-align: top;\n",
       "    }\n",
       "\n",
       "    .dataframe thead th {\n",
       "        text-align: right;\n",
       "    }\n",
       "</style>\n",
       "<table border=\"1\" class=\"dataframe\">\n",
       "  <thead>\n",
       "    <tr style=\"text-align: right;\">\n",
       "      <th></th>\n",
       "      <th>confirmed</th>\n",
       "      <th>cured</th>\n",
       "      <th>dead</th>\n",
       "    </tr>\n",
       "    <tr>\n",
       "      <th>datetime_idx</th>\n",
       "      <th></th>\n",
       "      <th></th>\n",
       "      <th></th>\n",
       "    </tr>\n",
       "  </thead>\n",
       "  <tbody>\n",
       "    <tr>\n",
       "      <th>2020-02-02 10:22:00</th>\n",
       "      <td>14483</td>\n",
       "      <td>379</td>\n",
       "      <td>304</td>\n",
       "    </tr>\n",
       "    <tr>\n",
       "      <th>2020-02-02 10:28:00</th>\n",
       "      <td>14483</td>\n",
       "      <td>380</td>\n",
       "      <td>304</td>\n",
       "    </tr>\n",
       "    <tr>\n",
       "      <th>2020-02-02 11:19:00</th>\n",
       "      <td>14489</td>\n",
       "      <td>385</td>\n",
       "      <td>304</td>\n",
       "    </tr>\n",
       "    <tr>\n",
       "      <th>2020-02-02 11:54:00</th>\n",
       "      <td>14489</td>\n",
       "      <td>397</td>\n",
       "      <td>304</td>\n",
       "    </tr>\n",
       "    <tr>\n",
       "      <th>2020-02-02 15:01:00</th>\n",
       "      <td>14490</td>\n",
       "      <td>430</td>\n",
       "      <td>304</td>\n",
       "    </tr>\n",
       "    <tr>\n",
       "      <th>...</th>\n",
       "      <td>...</td>\n",
       "      <td>...</td>\n",
       "      <td>...</td>\n",
       "    </tr>\n",
       "    <tr>\n",
       "      <th>2020-03-30 10:55:00</th>\n",
       "      <td>82505</td>\n",
       "      <td>75949</td>\n",
       "      <td>3313</td>\n",
       "    </tr>\n",
       "    <tr>\n",
       "      <th>2020-03-30 12:04:00</th>\n",
       "      <td>82505</td>\n",
       "      <td>75951</td>\n",
       "      <td>3313</td>\n",
       "    </tr>\n",
       "    <tr>\n",
       "      <th>2020-03-30 12:30:00</th>\n",
       "      <td>82505</td>\n",
       "      <td>75956</td>\n",
       "      <td>3313</td>\n",
       "    </tr>\n",
       "    <tr>\n",
       "      <th>2020-03-30 14:07:00</th>\n",
       "      <td>82505</td>\n",
       "      <td>75956</td>\n",
       "      <td>3313</td>\n",
       "    </tr>\n",
       "    <tr>\n",
       "      <th>2020-03-30 15:56:00</th>\n",
       "      <td>82505</td>\n",
       "      <td>75956</td>\n",
       "      <td>3313</td>\n",
       "    </tr>\n",
       "  </tbody>\n",
       "</table>\n",
       "<p>883 rows × 3 columns</p>\n",
       "</div>"
      ],
      "text/plain": [
       "                     confirmed  cured  dead\n",
       "datetime_idx                               \n",
       "2020-02-02 10:22:00      14483    379   304\n",
       "2020-02-02 10:28:00      14483    380   304\n",
       "2020-02-02 11:19:00      14489    385   304\n",
       "2020-02-02 11:54:00      14489    397   304\n",
       "2020-02-02 15:01:00      14490    430   304\n",
       "...                        ...    ...   ...\n",
       "2020-03-30 10:55:00      82505  75949  3313\n",
       "2020-03-30 12:04:00      82505  75951  3313\n",
       "2020-03-30 12:30:00      82505  75956  3313\n",
       "2020-03-30 14:07:00      82505  75956  3313\n",
       "2020-03-30 15:56:00      82505  75956  3313\n",
       "\n",
       "[883 rows x 3 columns]"
      ]
     },
     "execution_count": 14,
     "metadata": {},
     "output_type": "execute_result"
    }
   ],
   "source": [
    "df"
   ]
  },
  {
   "cell_type": "code",
   "execution_count": 15,
   "metadata": {
    "scrolled": true
   },
   "outputs": [
    {
     "data": {
      "image/png": "[encoded data removed]",
      "text/plain": [
       "<Figure size 1008x1008 with 3 Axes>"
      ]
     },
     "metadata": {},
     "output_type": "display_data"
    }
   ],
   "source": [
    "if df.shape[0]>1:\n",
    "    # line chart when having at least a few points\n",
    "    sns.set(rc={'figure.figsize':(14,14)})\n",
    "    sns.set(style=\"whitegrid\")\n",
    "\n",
    "    fig, axs = plt.subplots(nrows=3)\n",
    "\n",
    "    sns.lineplot(x=df.index, y = 'confirmed', data=df, ax= axs[0], estimator=None, color='orange')\n",
    "    sns.lineplot(x=df.index, y = 'cured', data=df, ax= axs[1], estimator=None, color='green')\n",
    "    sns.lineplot(x=df.index, y = 'dead', data=df, ax= axs[2], estimator=None, color='darkred')\n",
    "\n",
    "    for ax in axs:\n",
    "        ax.set_xlabel('')\n",
    "        ax.tick_params(axis='x', labelrotation=30)\n",
    "else:\n",
    "\n",
    "    ax = df.plot(kind='bar', stacked=True, figsize=(9,6))\n",
    "    fig = ax.get_figure()\n",
    "    ax.set_xlabel('')\n",
    "    for label in ax.get_xticklabels():\n",
    "        label.set_rotation(0) \n"
   ]
  },
  {
   "cell_type": "code",
   "execution_count": 16,
   "metadata": {},
   "outputs": [],
   "source": [
    "fig.savefig(png_file)"
   ]
  },
  {
   "cell_type": "code",
   "execution_count": null,
   "metadata": {},
   "outputs": [],
   "source": []
  },
  {
   "cell_type": "code",
   "execution_count": null,
   "metadata": {},
   "outputs": [],
   "source": []
  }
 ],
 "metadata": {
  "kernelspec": {
   "display_name": "Python 3",
   "language": "python",
   "name": "python3"
  },
  "language_info": {
   "codemirror_mode": {
    "name": "ipython",
    "version": 3
   },
   "file_extension": ".py",
   "mimetype": "text/x-python",
   "name": "python",
   "nbconvert_exporter": "python",
   "pygments_lexer": "ipython3",
   "version": "3.7.6"
  }
 },
 "nbformat": 4,
 "nbformat_minor": 2
}
