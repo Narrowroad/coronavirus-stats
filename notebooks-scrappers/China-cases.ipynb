{
 "cells": [
  {
   "cell_type": "code",
   "execution_count": 1,
   "metadata": {},
   "outputs": [],
   "source": [
    "import pandas as pd\n",
    "import requests\n",
    "from bs4 import BeautifulSoup\n",
    "import re\n",
    "from datetime import datetime\n",
    "from selenium import webdriver\n",
    "from selenium.webdriver.chrome.options import Options  \n"
   ]
  },
  {
   "cell_type": "code",
   "execution_count": 2,
   "metadata": {},
   "outputs": [
    {
     "data": {
      "text/plain": [
       "datetime.datetime(2020, 4, 4, 3, 8, 49, 769898)"
      ]
     },
     "execution_count": 2,
     "metadata": {},
     "output_type": "execute_result"
    }
   ],
   "source": [
    "datetime.now()"
   ]
  },
  {
   "cell_type": "code",
   "execution_count": 3,
   "metadata": {},
   "outputs": [],
   "source": [
    "chrome_options = Options()  \n",
    "chrome_options.add_argument(\"--headless\")  \n",
    "chrome_options.add_argument(\"--no-sandbox\")\n",
    "\n",
    "driver = webdriver.Chrome('chromedriver', options=chrome_options)"
   ]
  },
  {
   "cell_type": "code",
   "execution_count": 4,
   "metadata": {},
   "outputs": [],
   "source": [
    "url = 'https://ncov.dxy.cn/ncovh5/view/pneumonia'\n",
    "driver.get(url)"
   ]
  },
  {
   "cell_type": "markdown",
   "metadata": {},
   "source": [
    "### Extract date"
   ]
  },
  {
   "cell_type": "code",
   "execution_count": 5,
   "metadata": {},
   "outputs": [],
   "source": [
    "content = driver.page_source\n",
    "soup =BeautifulSoup(content, 'lxml')\n"
   ]
  },
  {
   "cell_type": "code",
   "execution_count": 6,
   "metadata": {},
   "outputs": [
    {
     "data": {
      "text/plain": [
       "['try { window.getTimelineService1 = [{\"id\":24646,\"pubDate\":1585969236000,\"pubDateStr\":\"7分钟前\",\"title\":\"中国驻马来西亚大使馆下半旗 深切悼念新冠肺炎疫情牺牲烈士和逝世同胞\",\"summary\":\"4月4日早，中国驻马来西亚大使馆下半旗，哀悼在抗击新冠肺炎疫情中牺牲烈士和逝世同胞。\",\"infoSource\":\"央视新闻app\",\"sourceUrl\":\"http://app.cctv.com/special/cportal/detail/arti/index.html?id=ArtiiZJKPb6zz8mBPjg9xCd2200404&isfromapp=1\",\"provinceId\":\"\"},{\"id\":24647,\"pubDate\":1585969149000,\"pubDateStr\":\"8分钟前\",\"title\":\"日本新冠肺炎确诊病例达3142例\",\"summary\":\"据日本放送协会消息，根据日本各地的地方自治团体和厚生劳动省通报的数据，截至当地时间4日上午11点，当天新增感染者13人，累计新冠肺炎确诊病例达到3142人。\",\"infoSource\":\"央视新闻app\",\"sourceUrl\":\"http://app.cctv.com/special/cportal/detail/arti/index.html?id=Arti64pKz9oloLB8XebBa5J5200404&isfromapp=1\",\"provinceId\":\"\"},{\"id\":24640,\"pubDate\":1585968392000,\"pubDateStr\":\"21分钟前\",\"title\":\"深切悼念新冠肺炎疫情牺牲烈士和逝世同胞 香港特别行政区下半旗志哀\",\"summary\":\"为表达全国各族人民对抗击新冠肺炎疫情斗争牺牲烈士和逝世同胞的深切哀悼， 4月4日举行全国性哀悼活动，香港特别行政区悬挂国旗及区旗的政府机构，以中央政府驻香港特区联络办公室、外交部驻香港特区特派员公署的办公所在地也下半旗志哀。\",\"infoSource\":\"央视新闻app\",\"sourceUrl\":\"http://app.cctv.com/special/cportal/detail/arti/index.html?id=Arti2kaULWbwLZEVCY9OXgkO200404&isfromapp=1\",\"provinceId\":\"\"},{\"id\":24642,\"pubDate\":1585968243000,\"pubDateStr\":\"23分钟前\",\"title\":\"天津4日通报：本地无新增新冠肺炎确诊病例 无新增境外输入确诊病例\",\"summary\":\"记者从天津市疾控中心获悉，4月3日18时至4日6时，天津无新增报告境外输入确诊病例。累计报告境外输入确诊病例44例。\",\"infoSource\":\"央视新闻app\",\"sourceUrl\":\"http://app.cctv.com/special/cportal/detail/arti/index.html?id=Arti7ZnvGVrNCBMY68Lo7jCE200404&isfromapp=1\",\"provinceId\":\"\"},{\"id\":24637,\"pubDate\":1585967389000,\"pubDateStr\":\"38分钟前\",\"title\":\"联合国大会通过新加坡等国提议：合作抗疫不应有歧视排外心理\",\"summary\":\"据新加坡《联合早报》报道，联合国大会2日批准了一项决议，呼吁各国在抗击新冠肺炎疫情时采取国际合作及多边主义。这是疫情暴发以来，联大发布的第一份案文。\",\"infoSource\":\"央视新闻app\",\"sourceUrl\":\"http://app.cctv.com/special/cportal/detail/arti/index.html?id=Arti21eGcBDDQTL3nfxGmaiJ200404&isfromapp=1\",\"provinceId\":\"\"},{\"id\":24629,\"pubDate\":1585966025000,\"pubDateStr\":\"1小时前\",\"title\":\"2020年4月4日天津市新型冠状病毒肺炎疫情情况\",\"summary\":\"2020年4月3日0－24时，天津市报告境外输入性新型冠状病毒肺炎确诊病例3例。截至4月3日24时，天津市累计报告境外输入性新型冠状病毒肺炎确诊病例44例，出院病例7例，现有在院37例（其中：重型3例，普通型23例，轻型10例，待分型1例）。\",\"infoSource\":\"天津卫健委\",\"sourceUrl\":\"http://wsjk.tj.gov.cn/art/2020/4/4/art_87_72993.html\",\"provinceId\":\"\"},{\"id\":24622,\"pubDate\":1585964983000,\"pubDateStr\":\"1小时前\",\"title\":\"墨西哥新增178例新冠肺炎确诊病例 累计1688例\",\"summary\":\"墨西哥当地时间4月3日，墨西哥卫生部宣布，截至墨西哥当地时间4月3日晚上7点，墨西哥全国确诊1688例新冠肺炎病例，较前一天新增了178例，为单日新增病例最高数量。\",\"infoSource\":\"央视新闻app\",\"sourceUrl\":\"http://app.cctv.com/special/cportal/detail/arti/index.html?id=ArtiMuXFGEp6sQBtDFa1J5V1200404&isfromapp=1\",\"provinceId\":\"\"},{\"id\":24624,\"pubDate\":1585964873000,\"pubDateStr\":\"1小时前\",\"title\":\"广东3日新增2例新冠肺炎境外输入确诊病例\",\"summary\":\"4月3日0—24时，广东省新增境外输入确诊病例2例，为深圳、佛山各报告1例（英国输入）。广东省累计报告境外输入病例162例。\",\"infoSource\":\"央视新闻app\",\"sourceUrl\":\"http://app.cctv.com/special/cportal/detail/arti/index.html?id=ArtiiicmBDnCCvBEMlTbr7CC200404&isfromapp=1\",\"provinceId\":\"\"},{\"id\":24611,\"pubDate\":1585964383000,\"pubDateStr\":\"1小时前\",\"title\":\"2020年4月3日青海省无新型冠状病毒肺炎新增确诊病例和疑似病例\",\"summary\":\"2020年4月3日0-24时，当日青海省无新型冠状病毒肺炎新增确诊病例和疑似病例，无无症状感染者报告。\\\\n\\\\t\\\\t\\\\n\\\\t\\\\t\",\"infoSource\":\"青海卫健委\",\"sourceUrl\":\"https://wsjkw.qinghai.gov.cn/ztbd/yqjk/yqtb/2020/04/04/1585963936820.html\",\"provinceId\":\"\"},{\"id\":24612,\"pubDate\":1585964100000,\"pubDateStr\":\"1小时前\",\"title\":\"陕西4日通报：新增1例境外输入新冠肺炎确诊病例 累计境外输入11例\",\"summary\":\"2020年4月3日8时至4日8时，陕西新增1例境外（美国）输入新冠肺炎确诊病例，治愈出院1例。新增密切接触者4人（外省协查）。截至2020年4月4日8时，陕西累计报告境外输入新冠肺炎确诊病例11例（治愈出院3例）。尚在接受医学观察无症状感染者2例，均为境外输入。\",\"infoSource\":\"央视新闻app\",\"sourceUrl\":\"http://app.cctv.com/special/cportal/detail/arti/index.html?id=Arti7JjaRwZyel2D5WE3r8IO200404&isfromapp=1\",\"provinceId\":\"\"},{\"id\":24613,\"pubDate\":1585964012000,\"pubDateStr\":\"1小时前\",\"title\":\"山东临沂首例境外输入新冠肺炎确诊患者治愈出院\",\"summary\":\"山东省卫健委4月4日最新通报显示：4月3日0—24时，境外输入新冠肺炎确诊病例新增治愈出院1例。\\xa0这一病例出现在临沂，是临沂市首例境外输入新冠肺炎确诊患者。患者马某某连续三次核酸检测阴性，符合出院标准，于4月3日下午治愈出院。马某某，男，62岁，沂水县人。\",\"infoSource\":\"央视新闻app\",\"sourceUrl\":\"http://app.cctv.com/special/cportal/detail/arti/index.html?id=Artipi2ixZefdWScmpscc7hh200404&isfromapp=1\",\"provinceId\":\"\"},{\"id\":24614,\"pubDate\":1585963981000,\"pubDateStr\":\"1小时前\",\"title\":\"江西省3日无新增新冠肺炎确诊病例报告\",\"summary\":\"2020年4月3日0—24时，江西省无本地新增新冠肺炎确诊病例报告，无本地新增疑似病例，无本地住院确诊病例。截至4月3日24时，全省累计报告本地确诊病例935例，累计出院病例934例，累计死亡病例1例。2020年4月3日0—24时，江西省无境外新增输入新冠肺炎确诊病例报告。\",\"infoSource\":\"央视新闻app\",\"sourceUrl\":\"http://app.cctv.com/special/cportal/detail/arti/index.html?id=ArtiK5cIKyLOMMQ0nuS1SOuL200404&isfromapp=1\",\"provinceId\":\"\"},{\"id\":24615,\"pubDate\":1585963955000,\"pubDateStr\":\"1小时前\",\"title\":\"韩国新增新冠肺炎确诊病例94例 累计确诊10156例\",\"summary\":\"韩国中央防疫对策本部4日通报，截至当天零时，韩国在24小时内新增新冠肺炎确诊病例94例，累计确诊10156例；新增死亡病例3例，累计死亡177人。另外，新增治愈病例304例，累计治愈病例6325例。\",\"infoSource\":\"央视新闻app\",\"sourceUrl\":\"http://app.cctv.com/special/cportal/detail/arti/index.html?id=Artinagu1v8pFnWTaB5Jpma1200404&isfromapp=1\",\"provinceId\":\"\"},{\"id\":24607,\"pubDate\":1585963838000,\"pubDateStr\":\"1小时前\",\"title\":\"陕西新增1例境外输入新冠肺炎  累计境外输入11例\",\"summary\":\"2020年4月3日8时至4日8时，陕西新增1例境外（美国）输入新冠肺炎确诊病例，治愈出院1例。新增密切接触者4人（外省协查）。截至2020年4月4日8时，陕西累计报告境外输入新冠肺炎确诊病例11例（治愈出院3例）。\\\\n           \",\"infoSource\":\"陕西卫健委\",\"sourceUrl\":\"http://sxwjw.shaanxi.gov.cn/art/2020/4/4/art_9_69421.html\",\"provinceId\":\"\"},{\"id\":24617,\"pubDate\":1585963758000,\"pubDateStr\":\"1小时前\",\"title\":\"美国新增1480例新冠肺炎死亡病例 系单日最大增幅\",\"summary\":\" 据法新社4日最新报道，美国约翰斯·霍普金斯大学公布的数据显示，美国在过去24小时内新增1480例新冠肺炎死亡病例，累计死亡7406例。报道称，这是美国新冠肺炎疫情发生以来，单日新增死亡病例最多的一天。疫情严峻：美国新增1480例新冠肺炎死亡病例 系单日最大增幅\\\\n\",\"infoSource\":\"人民日报海外版\",\"sourceUrl\":\"http://m.weibo.cn/3057540037/4489919785100831\",\"provinceId\":\"\"},{\"id\":24604,\"pubDate\":1585963409000,\"pubDateStr\":\"1小时前\",\"title\":\"福建4日通报：新增境外输入确诊病例1例 累计境外输入确诊病例54例\",\"summary\":\"4月3日0—24时，福建省报告新增境外输入确诊病例1例，为阿联酋输入（福州市报告）。当日报告新增境外输入疑似病例0例。当日报告新增境外输入无症状感染者1例，为菲律宾输入（泉州市报告），解除隔离4例。截至4月3日24时，福建省累计报告境外输入确诊病例54例（已治愈出院病例6例、目前住院病例48例，无死亡病例）；现有报告境外输入疑似病例2例；现有报告境外输入无症状感染者尚在接受集中隔离医学观察8例。4\",\"infoSource\":\"央视新闻app\",\"sourceUrl\":\"http://app.cctv.com/special/cportal/detail/arti/index.html?id=Artim4scUndH67eF0OTEIAYf200404&isfromapp=1\",\"provinceId\":\"\"},{\"id\":24605,\"pubDate\":1585963379000,\"pubDateStr\":\"1小时前\",\"title\":\"智利新增333例新冠肺炎确诊病例 累计3737例\",\"summary\":\"当地时间4月3日，智利卫生部公布，新增333例新冠肺炎确诊病例，全国累计确诊3737例，其中22例死亡。目前所有确诊病例中，近半数来自首都圣地亚哥大区。为了防止即将到来的圣周庆祝活动使疫情进一步恶化，智利政府宣布从4月9日18点至4月12日22点，任何人未经允许不得出入圣地亚哥。智利卫生部长指出，从一个月前智利确诊首例新冠肺炎病例至今，确诊病例数量没有超出预判，但仍然不能放松警惕。他同时呼吁医疗机\",\"infoSource\":\"央视新闻app\",\"sourceUrl\":\"http://app.cctv.com/special/cportal/detail/arti/index.html?id=ArtiuRJrSjUvDl1swGkRl6X2200404&isfromapp=1\",\"provinceId\":\"\"},{\"id\":24599,\"pubDate\":1585963051000,\"pubDateStr\":\"1小时前\",\"title\":\"上海4月3日无新增本地新冠肺炎确诊病例 新增境外输入3例\",\"summary\":\"4月3日0—24时，通过口岸联防联控机制，报告3例境外输入性新冠肺炎确诊病例。新增治愈出院5例。\",\"infoSource\":\"上海卫健委\",\"sourceUrl\":\"http://wsjkw.sh.gov.cn/xwfb/20200404/db593684fcf64f4a8a0532b56c70cba6.html\",\"provinceId\":\"\"},{\"id\":24603,\"pubDate\":1585963037000,\"pubDateStr\":\"1小时前\",\"title\":\"韩国新增94例新冠肺炎确诊病例\",\"summary\":\"据韩联社4日消息，韩国中央防疫对策本部当天通报，当地时间3日0时至4日0时，韩国新增94例新冠肺炎确诊病例，累计确诊10156例。 \\\\n\",\"infoSource\":\"人民日报海外版\",\"sourceUrl\":\"http://m.weibo.cn/3057540037/4489916760758164\",\"provinceId\":\"\"},{\"id\":24601,\"pubDate\":1585962965000,\"pubDateStr\":\"1小时前\",\"title\":\"海南4日最新通报：新增无症状感染者2例\",\"summary\":\"截至2020年4月3日0:00—24:00，海南省报告新冠肺炎新增确诊病例0例，新增无症状感染者2例。\",\"infoSource\":\"央视新闻app\",\"sourceUrl\":\"http://app.cctv.com/special/cportal/detail/arti/index.html?id=Artig8d7I5cz3clTMNUmF0V6200404&isfromapp=1\",\"provinceId\":\"\"},{\"id\":24602,\"pubDate\":1585962930000,\"pubDateStr\":\"1小时前\",\"title\":\"四川4月4日通报：新增2例境外输入确诊病例 新增治愈出院1例\",\"summary\":\"4月3日0—24时，四川省新冠肺炎新增2例确诊病例（均为境外输入），新增治愈出院病例1例，无新增疑似病例，无新增死亡病例。\",\"infoSource\":\"央视新闻app\",\"sourceUrl\":\"http://app.cctv.com/special/cportal/detail/arti/index.html?id=Artij4ZzjSt5jebIjffaLdUi200404&isfromapp=1\",\"provinceId\":\"\"},{\"id\":24594,\"pubDate\":1585962816000,\"pubDateStr\":\"1小时前\",\"title\":\"河北3日新增1例新冠肺炎境外输入无症状感染者 \",\"summary\":\"4月3日0—24时，河北省本地无新增报告新型冠状病毒肺炎确诊病例，无新增死亡病例，无新增疑似病例。\",\"infoSource\":\"央视新闻app\",\"sourceUrl\":\"http://app.cctv.com/special/cportal/detail/arti/index.html?id=Artiny1ANb4tvK4h7CQO1WEm200404&isfromapp=1\",\"provinceId\":\"\"},{\"id\":24619,\"pubDate\":1585962808000,\"pubDateStr\":\"1小时前\",\"title\":\"2020年4月4日广东省新冠肺炎疫情情况\",\"summary\":\"4月3日0-24时，全省新增境外输入确诊病例2例，为深圳、佛山各报告1例（英国输入）。全省累计报告境外输入病例162例，全省累计报告新冠肺炎确诊病例1516例，累计出院1378例，累计死亡8例。\\u3000\\u30004月3日新增出院10例。\",\"infoSource\":\"广东卫健委\",\"sourceUrl\":\"http://wsjkw.gd.gov.cn/xxgzbdfk/yqtb/content/post_2965492.html\",\"provinceId\":\"\"},{\"id\":24595,\"pubDate\":1585962764000,\"pubDateStr\":\"1小时前\",\"title\":\"缅怀！全国60名公安民警和35名辅警牺牲在疫情防控一线\",\"summary\":\"据公安部消息，截至4月2日，全国共有60名公安民警和35名辅警牺牲在抗击疫情和维护安全稳定第一线。新冠疫情发生以来，湖北和武汉广大公安民警、辅警日夜奋战在抗疫斗争最前沿、第一线，参与拉网式排查1300万人次，流行病学调查10万余例，协助转运“四类人员”8万余名，涌现出许多可歌可泣的英雄事迹，8名公安民警、辅警因公牺牲\",\"infoSource\":\"央视新闻app\",\"sourceUrl\":\"http://app.cctv.com/special/cportal/detail/arti/index.html?id=ArtiZEYsAsZt9rCnWF5Egn9Y200404&isfromapp=1\",\"provinceId\":\"\"},{\"id\":24596,\"pubDate\":1585962685000,\"pubDateStr\":\"1小时前\",\"title\":\"宁夏连续31天无新增确诊病例\",\"summary\":\"截至2020年4月3日24时，宁夏连续31天无新增确诊病例，无无症状感染者报告。宁夏全区累计报告确诊病例75例（含境外输入病例3例），已全部治愈出院。无疑似病例。\",\"infoSource\":\"央视新闻app\",\"sourceUrl\":\"http://app.cctv.com/special/cportal/detail/arti/index.html?id=ArtiEs0rzFU4IseXKLVuSCJd200404&isfromapp=1\",\"provinceId\":\"\"},{\"id\":24597,\"pubDate\":1585962651000,\"pubDateStr\":\"1小时前\",\"title\":\"河南3日无新增新冠肺炎确诊病例 目前3例在院隔离治疗\",\"summary\":\"2020年4月3日0—24时，河南省无新增新冠肺炎确诊病例。截至4月3日24时，河南省累计报告本地新冠肺炎确诊病例1273例，累计死亡病例22例，累计出院病例1250例。\",\"infoSource\":\"央视新闻app\",\"sourceUrl\":\"http://app.cctv.com/special/cportal/detail/arti/index.html?id=ArtivafezhG73ZozkRC1k7gC200404&isfromapp=1\",\"provinceId\":\"\"},{\"id\":24588,\"pubDate\":1585962429000,\"pubDateStr\":\"2小时前\",\"title\":\"哥新增106例新冠肺炎确诊病例 全国累计1267例 哥伦比亚外长感谢中国分享抗疫经验\",\"summary\":\"哥伦比亚卫生部当地时间3日宣布新增新冠肺炎确诊病例106例，累计病例1267例。死亡病例累计25例，约50%的确诊病例是在哥伦比亚首都波哥大。\",\"infoSource\":\"央视新闻app\",\"sourceUrl\":\"http://app.cctv.com/special/cportal/detail/arti/index.html?id=ArtiX7GCOPvGo8mix7ZGJJ9x200404&isfromapp=1\",\"provinceId\":\"\"},{\"id\":24584,\"pubDate\":1585962004000,\"pubDateStr\":\"2小时前\",\"title\":\"4月4日全国哀悼\",\"summary\":\"【中国驻日本大使馆降半旗悼念抗疫牺牲烈士和逝世同胞】当地时间4月4日8时，中国驻日本大使馆下半旗表达对抗击新冠肺炎疫情斗争牺牲烈士和逝世同胞的深切哀悼。 \\\\n\",\"infoSource\":\"人民日报海外版\",\"sourceUrl\":\"http://m.weibo.cn/3057540037/4489912428204218\",\"provinceId\":\"\"}]}catch(e){}',\n",
       " '截至北京时间 2020-04-04 02:31',\n",
       " '截至北京时间 2020-04-04 02:31',\n",
       " '据日本放送协会消息，根据日本各地的地方自治团体和厚生劳动省通报的数据，截至当地时间4日上午11点，当天新增感染者13人，累计新冠肺炎确诊病例达到3142人。',\n",
       " '2020年4月3日0－24时，天津市报告境外输入性新型冠状病毒肺炎确诊病例3例。截至4月3日24时，天津市累计报告境外输入性新型冠状病毒肺炎确诊病例44例，出院病例7例，现有在院37例（其中：重型3例，普通型23例，轻型10例，待分型1例）。',\n",
       " '墨西哥当地时间4月3日，墨西哥卫生部宣布，截至墨西哥当地时间4月3日晚上7点，墨西哥全国确诊1688例新冠肺炎病例，较前一天新增了178例，为单日新增病例最高数量。',\n",
       " '2020年4月3日8时至4日8时，陕西新增1例境外（美国）输入新冠肺炎确诊病例，治愈出院1例。新增密切接触者4人（外省协查）。截至2020年4月4日8时，陕西累计报告境外输入新冠肺炎确诊病例11例（治愈出院3例）。尚在接受医学观察无症状感染者2例，均为境外输入。',\n",
       " '2020年4月3日0—24时，江西省无本地新增新冠肺炎确诊病例报告，无本地新增疑似病例，无本地住院确诊病例。截至4月3日24时，全省累计报告本地确诊病例935例，累计出院病例934例，累计死亡病例1例。2020年4月3日0—24时，江西省无境外新增输入新冠肺炎确诊病例报告。',\n",
       " '韩国中央防疫对策本部4日通报，截至当天零时，韩国在24小时内新增新冠肺炎确诊病例94例，累计确诊10156例；新增死亡病例3例，累计死亡177人。另外，新增治愈病例304例，累计治愈病例6325例。',\n",
       " '2020年4月3日8时至4日8时，陕西新增1例境外（美国）输入新冠肺炎确诊病例，治愈出院1例。新增密切接触者4人（外省协查）。截至2020年4月4日8时，陕西累计报告境外输入新冠肺炎确诊病例11例（治愈出院3例）。\\n           ',\n",
       " '4月3日0—24时，福建省报告新增境外输入确诊病例1例，为阿联酋输入（福州市报告）。当日报告新增境外输入疑似病例0例。当日报告新增境外输入无症状感染者1例，为菲律宾输入（泉州市报告），解除隔离4例。截至4月3日24时，福建省累计报告境外输入确诊病例54例（已治愈出院病例6例、目前住院病例48例，无死亡病例）；现有报告境外输入疑似病例2例；现有报告境外输入无症状感染者尚在接受集中隔离医学观察8例。4',\n",
       " '截至2020年4月3日0:00—24:00，海南省报告新冠肺炎新增确诊病例0例，新增无症状感染者2例。',\n",
       " '据公安部消息，截至4月2日，全国共有60名公安民警和35名辅警牺牲在抗击疫情和维护安全稳定第一线。新冠疫情发生以来，湖北和武汉广大公安民警、辅警日夜奋战在抗疫斗争最前沿、第一线，参与拉网式排查1300万人次，流行病学调查10万余例，协助转运“四类人员”8万余名，涌现出许多可歌可泣的英雄事迹，8名公安民警、辅警因公牺牲',\n",
       " '截至2020年4月3日24时，宁夏连续31天无新增确诊病例，无无症状感染者报告。宁夏全区累计报告确诊病例75例（含境外输入病例3例），已全部治愈出院。无疑似病例。',\n",
       " '2020年4月3日0—24时，河南省无新增新冠肺炎确诊病例。截至4月3日24时，河南省累计报告本地新冠肺炎确诊病例1273例，累计死亡病例22例，累计出院病例1250例。']"
      ]
     },
     "execution_count": 6,
     "metadata": {},
     "output_type": "execute_result"
    }
   ],
   "source": [
    "data = soup.findAll(text=re.compile(\"截至.+\"))\n",
    "data"
   ]
  },
  {
   "cell_type": "code",
   "execution_count": 7,
   "metadata": {},
   "outputs": [
    {
     "data": {
      "text/plain": [
       "'2020-04-04 02:31'"
      ]
     },
     "execution_count": 7,
     "metadata": {},
     "output_type": "execute_result"
    }
   ],
   "source": [
    "for s in data:\n",
    "    m = re.search(\"截至.*(202\\d-\\d+-\\d+ \\d+:\\d+)\", s)\n",
    "    if m is not None:\n",
    "        data_date_time = m.group(1)\n",
    "data_date_time"
   ]
  },
  {
   "cell_type": "markdown",
   "metadata": {},
   "source": [
    "### Extract data (summary)"
   ]
  },
  {
   "cell_type": "code",
   "execution_count": 8,
   "metadata": {},
   "outputs": [
    {
     "data": {
      "text/plain": [
       "['try { window.getStatisticsService = {\"id\":1,\"createTime\":1579537899000,\"modifyTime\":1585967470000,\"infectSource\":\"该字段已替换为说明2\",\"passWay\":\"该字段已替换为说明3\",\"imgUrl\":\"https://img1.dxycdn.com/2020/0201/450/3394153392393266839-135.png\",\"dailyPic\":\"https://img1.dxycdn.com/2020/0211/763/3395998884005602079-135.png,https://img1.dxycdn.com/2020/0211/362/3395998896890788910-135.png,https://img1.dxycdn.com/2020/0211/365/3395998905480724211-135.png,https://img1.dxycdn.com/2020/0211/364/3395998916217859778-135.png,https://img1.dxycdn.com/2020/0211/922/3395998929103046444-135.png,https://img1.dxycdn.com/2020/0211/089/3395998939840182072-135.png\",\"dailyPics\":[\"https://img1.dxycdn.com/2020/0211/763/3395998884005602079-135.png\",\"https://img1.dxycdn.com/2020/0211/362/3395998896890788910-135.png\",\"https://img1.dxycdn.com/2020/0211/365/3395998905480724211-135.png\",\"https://img1.dxycdn.com/2020/0211/364/3395998916217859778-135.png\",\"https://img1.dxycdn.com/2020/0211/922/3395998929103046444-135.png\",\"https://img1.dxycdn.com/2020/0211/089/3395998939840182072-135.png\"],\"summary\":\"\",\"deleted\":false,\"countRemark\":\"\",\"currentConfirmedCount\":2556,\"confirmedCount\":82875,\"suspectedCount\":888,\"curedCount\":76984,\"deadCount\":3335,\"seriousCount\":1030,\"suspectedIncr\":18,\"currentConfirmedIncr\":-95,\"confirmedIncr\":120,\"curedIncr\":211,\"deadIncr\":4,\"seriousIncr\":3,\"virus\":\"该字段已替换为说明1\",\"remark1\":\"易感人群：人群普遍易感。老年人及有基础疾病者感染后病情较重，儿童及婴幼儿也有发病\",\"remark2\":\"潜伏期：一般为 3～7 天，最长不超过 14 天，潜伏期内可能存在传染性，其中无症状病例传染性非常罕见\",\"remark3\":\"宿主：野生动物，可能为中华菊头蝠\",\"remark4\":\"\",\"remark5\":\"\",\"note1\":\"病毒：SARS-CoV-2，其导致疾病命名 COVID-19\",\"note2\":\"传染源：新冠肺炎的患者。无症状感染者也可能成为传染源。\",\"note3\":\"传播途径：经呼吸道飞沫、接触传播是主要的传播途径。气溶胶传播和消化道等传播途径尚待明确。\",\"generalRemark\":\"1. 3 月 12 日国家卫健委确诊补订遗漏 12 例确诊病例（非 12 日新增），暂无具体省份信息。 2. 浙江省 12 例外省治愈暂无具体省份信息。\",\"abroadRemark\":\"\",\"marquee\":[{\"id\":1890,\"marqueeLabel\":\"默哀\",\"marqueeContent\":\"清明节全国共悼逝者\",\"marqueeLink\":\"https://dxy.me/GrrM4O\"},{\"id\":1891,\"marqueeLabel\":\"里程悲\",\"marqueeContent\":\"全球新冠病毒感染者超过百万\",\"marqueeLink\":\"https://dxy.me/EBzM7G\"},{\"id\":1892,\"marqueeLabel\":\"数字新冠\",\"marqueeContent\":\"4 月 3 日，世界因新冠而变\",\"marqueeLink\":\"https://dxy.me/1REDia\"}],\"quanguoTrendChart\":[{\"imgUrl\":\"https://img1.dxycdn.com/2020/0324/278/3403801351376518263-135.png\",\"title\":\"新增疑似/新增确诊\"},{\"imgUrl\":\"https://img1.dxycdn.com/2020/0324/812/3403847865872006755-135.png\",\"title\":\"境外输入\"},{\"imgUrl\":\"https://img1.dxycdn.com/2020/0324/547/3403847848692336947-135.png\",\"title\":\"现存确诊\"},{\"imgUrl\":\"https://img1.dxycdn.com/2020/0324/775/3403801407211095604-135.png\",\"title\":\"治愈\"},{\"imgUrl\":\"https://img1.dxycdn.com/2020/0324/250/3403801424390727199-135.png\",\"title\":\"死亡\"}],\"hbFeiHbTrendChart\":[{\"imgUrl\":\"https://img1.dxycdn.com/2020/0326/624/3404177508906904585-135.png\",\"title\":\"非湖北新增确诊\"},{\"imgUrl\":\"https://img1.dxycdn.com/2020/0326/777/3404177532529485065-135.png\",\"title\":\"湖北新增确诊\"},{\"imgUrl\":\"https://img1.dxycdn.com/2020/0326/376/3404177556151805921-135.png\",\"title\":\"湖北现存确诊\"},{\"imgUrl\":\"https://img1.dxycdn.com/2020/0326/527/3404177575478899995-135.png\",\"title\":\"非湖北现存确诊\"},{\"imgUrl\":\"https://img1.dxycdn.com/2020/0326/419/3404177596953996726-135.png\",\"title\":\"治愈/死亡\"}],\"foreignTrendChart\":[{\"imgUrl\":\"https://img1.dxycdn.com/2020/0320/702/3403079914982117944-135.png\",\"title\":\"国外新增确诊\"},{\"imgUrl\":\"https://img1.dxycdn.com/2020/0320/396/3403079925719536561-135.png\",\"title\":\"国外累计确诊\"},{\"imgUrl\":\"https://img1.dxycdn.com/2020/0320/139/3403079936457225524-135.png\",\"title\":\"国外死亡\"}],\"importantForeignTrendChart\":[{\"imgUrl\":\"https://img1.dxycdn.com/2020/0320/450/3403077453965772423-135.png\",\"title\":\"重点国家新增确诊\"},{\"imgUrl\":\"https://img1.dxycdn.com/2020/0320/276/3403077462555980566-135.png\",\"title\":\"日本新增确诊\"},{\"imgUrl\":\"https://img1.dxycdn.com/2020/0320/340/3403077473293125942-135.png\",\"title\":\"意大利新增确诊\"},{\"imgUrl\":\"https://img1.dxycdn.com/2020/0320/723/3403077481883334043-135.png\",\"title\":\"伊朗新增确诊\"},{\"imgUrl\":\"https://img1.dxycdn.com/2020/0320/266/3403077492620752785-135.png\",\"title\":\"美国新增确诊\"},{\"imgUrl\":\"https://img1.dxycdn.com/2020/0320/870/3403077503358171278-135.png\",\"title\":\"法国新增确诊\"},{\"imgUrl\":\"https://img1.dxycdn.com/2020/0320/053/3403077511947832997-135.png\",\"title\":\"德国新增确诊\"},{\"imgUrl\":\"https://img1.dxycdn.com/2020/0320/878/3403077520537768006-135.png\",\"title\":\"西班牙新增确诊\"},{\"imgUrl\":\"https://img1.dxycdn.com/2020/0320/443/3403077531275186665-135.png\",\"title\":\"韩国新增确诊\"}],\"foreignTrendChartGlobal\":[{\"imgUrl\":\"https://img1.dxycdn.com/2020/0319/740/3402859458605738923-135.png\",\"title\":\"Daily New Cases\"},{\"imgUrl\":\"https://img1.dxycdn.com/2020/0319/351/3402856772103846114-135.png\",\"title\":\"Total Confirmed Cases\"},{\"imgUrl\":\"https://img1.dxycdn.com/2020/0319/236/3402856782841001789-135.png\",\"title\":\"Total Deaths Cases\"}],\"importantForeignTrendChartGlobal\":[{\"imgUrl\":\"https://img1.dxycdn.com/2020/0319/122/3402856838675578578-135.png\",\"title\":\"Daily New Cases\"},{\"imgUrl\":\"https://img1.dxycdn.com/2020/0319/685/3402856849412997239-135.png\",\"title\":\"Japan\"},{\"imgUrl\":\"https://img1.dxycdn.com/2020/0319/477/3402856860150678804-135.png\",\"title\":\"Italy\"},{\"imgUrl\":\"https://img1.dxycdn.com/2020/0319/454/3402856873035581014-135.png\",\"title\":\"Iran\"},{\"imgUrl\":\"https://img1.dxycdn.com/2020/0319/022/3402856883772999714-135.png\",\"title\":\"U.S.A.\"},{\"imgUrl\":\"https://img1.dxycdn.com/2020/0319/529/3402856894510155506-135.png\",\"title\":\"France\"},{\"imgUrl\":\"https://img1.dxycdn.com/2020/0319/211/3402856905247574064-135.png\",\"title\":\"Germany\"},{\"imgUrl\":\"https://img1.dxycdn.com/2020/0319/054/3402856913837508985-135.png\",\"title\":\"Spain\"},{\"imgUrl\":\"https://img1.dxycdn.com/2020/0319/088/3402856928870157852-135.png\",\"title\":\"Republic of Korea\"}],\"foreignStatistics\":{\"currentConfirmedCount\":816741,\"confirmedCount\":1000734,\"suspectedCount\":4,\"curedCount\":130098,\"deadCount\":53895,\"suspectedIncr\":0,\"currentConfirmedIncr\":0,\"confirmedIncr\":0,\"curedIncr\":0,\"deadIncr\":0},\"globalStatistics\":{\"currentConfirmedCount\":819297,\"confirmedCount\":1083609,\"curedCount\":207082,\"deadCount\":57230,\"currentConfirmedIncr\":-95,\"confirmedIncr\":120,\"curedIncr\":211,\"deadIncr\":4},\"globalOtherTrendChartData\":\"https://file1.dxycdn.com/2020/0404/193/3405835263204140186-135.json\"}}catch(e){}']"
      ]
     },
     "execution_count": 8,
     "metadata": {},
     "output_type": "execute_result"
    }
   ],
   "source": [
    "data = soup.findAll(text=re.compile('\\\"summary.+\\\"confirmedCount\\\":\\d'))\n",
    "\n",
    "data\n"
   ]
  },
  {
   "cell_type": "code",
   "execution_count": 9,
   "metadata": {},
   "outputs": [],
   "source": [
    "m = re.search('\\\"confirmedCount\\\":(\\d+)', data[0])\n",
    "summary_confirmed_count = int(m.group(1))\n",
    "\n",
    "\n",
    "m = re.search('\\\"curedCount\\\":(\\d+)', data[0])\n",
    "summary_cured_count = int(m.group(1))\n",
    "\n",
    "m = re.search('\\\"deadCount\\\":(\\d+)', data[0])\n",
    "summary_dead_count = int(m.group(1))\n"
   ]
  },
  {
   "cell_type": "code",
   "execution_count": 10,
   "metadata": {},
   "outputs": [
    {
     "data": {
      "text/html": [
       "<div>\n",
       "<style scoped>\n",
       "    .dataframe tbody tr th:only-of-type {\n",
       "        vertical-align: middle;\n",
       "    }\n",
       "\n",
       "    .dataframe tbody tr th {\n",
       "        vertical-align: top;\n",
       "    }\n",
       "\n",
       "    .dataframe thead th {\n",
       "        text-align: right;\n",
       "    }\n",
       "</style>\n",
       "<table border=\"1\" class=\"dataframe\">\n",
       "  <thead>\n",
       "    <tr style=\"text-align: right;\">\n",
       "      <th></th>\n",
       "      <th>datetime</th>\n",
       "      <th>confirmed</th>\n",
       "      <th>cured</th>\n",
       "      <th>dead</th>\n",
       "    </tr>\n",
       "  </thead>\n",
       "  <tbody>\n",
       "    <tr>\n",
       "      <th>0</th>\n",
       "      <td>2020-04-04 02:31</td>\n",
       "      <td>82875</td>\n",
       "      <td>76984</td>\n",
       "      <td>3335</td>\n",
       "    </tr>\n",
       "  </tbody>\n",
       "</table>\n",
       "</div>"
      ],
      "text/plain": [
       "           datetime  confirmed  cured  dead\n",
       "0  2020-04-04 02:31      82875  76984  3335"
      ]
     },
     "execution_count": 10,
     "metadata": {},
     "output_type": "execute_result"
    }
   ],
   "source": [
    "# make a dataframe\n",
    "df = pd.DataFrame({\n",
    "    'datetime': data_date_time,\n",
    "    'confirmed': summary_confirmed_count,\n",
    "    'cured': summary_cured_count,\n",
    "    'dead': summary_dead_count\n",
    "}, index=[0])\n",
    "df"
   ]
  },
  {
   "cell_type": "markdown",
   "metadata": {},
   "source": [
    "### Save to file"
   ]
  },
  {
   "cell_type": "code",
   "execution_count": 11,
   "metadata": {},
   "outputs": [],
   "source": [
    "from pathlib import Path\n",
    "csv_file = '../data/china-summary-cases.csv'\n",
    "\n",
    "if Path(csv_file).exists():\n",
    "    # read out the old data - then merge with new data and remove duplicates based on datetime\n",
    "    old_df = pd.read_csv(csv_file)\n",
    "    df = df.append(old_df)\n",
    "df.drop_duplicates(subset=['datetime'], inplace=True)"
   ]
  },
  {
   "cell_type": "code",
   "execution_count": 12,
   "metadata": {},
   "outputs": [],
   "source": [
    "df.sort_values(by=['datetime'], inplace=True)\n",
    "\n",
    "df.to_csv(csv_file, index=False)\n"
   ]
  },
  {
   "cell_type": "markdown",
   "metadata": {},
   "source": [
    "### Plot graph"
   ]
  },
  {
   "cell_type": "code",
   "execution_count": 13,
   "metadata": {},
   "outputs": [],
   "source": [
    "import seaborn as sns\n",
    "import matplotlib.pyplot as plt\n",
    "from pandas.plotting import register_matplotlib_converters\n",
    "register_matplotlib_converters()\n",
    "\n",
    "png_file = '../images/china-summary-cases.png'\n",
    "# convert to pd.datetime\n",
    "df['datetime_idx'] = pd.to_datetime(df['datetime'], format=\"%Y-%m-%d %H:%M\")\n",
    "\n",
    "df.set_index('datetime_idx', inplace=True)\n",
    "df.drop(['datetime'], axis=1, inplace=True)\n"
   ]
  },
  {
   "cell_type": "code",
   "execution_count": 14,
   "metadata": {},
   "outputs": [
    {
     "data": {
      "text/html": [
       "<div>\n",
       "<style scoped>\n",
       "    .dataframe tbody tr th:only-of-type {\n",
       "        vertical-align: middle;\n",
       "    }\n",
       "\n",
       "    .dataframe tbody tr th {\n",
       "        vertical-align: top;\n",
       "    }\n",
       "\n",
       "    .dataframe thead th {\n",
       "        text-align: right;\n",
       "    }\n",
       "</style>\n",
       "<table border=\"1\" class=\"dataframe\">\n",
       "  <thead>\n",
       "    <tr style=\"text-align: right;\">\n",
       "      <th></th>\n",
       "      <th>confirmed</th>\n",
       "      <th>cured</th>\n",
       "      <th>dead</th>\n",
       "    </tr>\n",
       "    <tr>\n",
       "      <th>datetime_idx</th>\n",
       "      <th></th>\n",
       "      <th></th>\n",
       "      <th></th>\n",
       "    </tr>\n",
       "  </thead>\n",
       "  <tbody>\n",
       "    <tr>\n",
       "      <th>2020-02-02 10:22:00</th>\n",
       "      <td>14483</td>\n",
       "      <td>379</td>\n",
       "      <td>304</td>\n",
       "    </tr>\n",
       "    <tr>\n",
       "      <th>2020-02-02 10:28:00</th>\n",
       "      <td>14483</td>\n",
       "      <td>380</td>\n",
       "      <td>304</td>\n",
       "    </tr>\n",
       "    <tr>\n",
       "      <th>2020-02-02 11:19:00</th>\n",
       "      <td>14489</td>\n",
       "      <td>385</td>\n",
       "      <td>304</td>\n",
       "    </tr>\n",
       "    <tr>\n",
       "      <th>2020-02-02 11:54:00</th>\n",
       "      <td>14489</td>\n",
       "      <td>397</td>\n",
       "      <td>304</td>\n",
       "    </tr>\n",
       "    <tr>\n",
       "      <th>2020-02-02 15:01:00</th>\n",
       "      <td>14490</td>\n",
       "      <td>430</td>\n",
       "      <td>304</td>\n",
       "    </tr>\n",
       "    <tr>\n",
       "      <th>...</th>\n",
       "      <td>...</td>\n",
       "      <td>...</td>\n",
       "      <td>...</td>\n",
       "    </tr>\n",
       "    <tr>\n",
       "      <th>2020-04-03 18:01:00</th>\n",
       "      <td>82859</td>\n",
       "      <td>76810</td>\n",
       "      <td>3331</td>\n",
       "    </tr>\n",
       "    <tr>\n",
       "      <th>2020-04-03 23:59:00</th>\n",
       "      <td>82859</td>\n",
       "      <td>76810</td>\n",
       "      <td>3331</td>\n",
       "    </tr>\n",
       "    <tr>\n",
       "      <th>2020-04-04 01:06:00</th>\n",
       "      <td>82866</td>\n",
       "      <td>76823</td>\n",
       "      <td>3331</td>\n",
       "    </tr>\n",
       "    <tr>\n",
       "      <th>2020-04-04 02:05:00</th>\n",
       "      <td>82875</td>\n",
       "      <td>76985</td>\n",
       "      <td>3335</td>\n",
       "    </tr>\n",
       "    <tr>\n",
       "      <th>2020-04-04 02:31:00</th>\n",
       "      <td>82875</td>\n",
       "      <td>76984</td>\n",
       "      <td>3335</td>\n",
       "    </tr>\n",
       "  </tbody>\n",
       "</table>\n",
       "<p>952 rows × 3 columns</p>\n",
       "</div>"
      ],
      "text/plain": [
       "                     confirmed  cured  dead\n",
       "datetime_idx                               \n",
       "2020-02-02 10:22:00      14483    379   304\n",
       "2020-02-02 10:28:00      14483    380   304\n",
       "2020-02-02 11:19:00      14489    385   304\n",
       "2020-02-02 11:54:00      14489    397   304\n",
       "2020-02-02 15:01:00      14490    430   304\n",
       "...                        ...    ...   ...\n",
       "2020-04-03 18:01:00      82859  76810  3331\n",
       "2020-04-03 23:59:00      82859  76810  3331\n",
       "2020-04-04 01:06:00      82866  76823  3331\n",
       "2020-04-04 02:05:00      82875  76985  3335\n",
       "2020-04-04 02:31:00      82875  76984  3335\n",
       "\n",
       "[952 rows x 3 columns]"
      ]
     },
     "execution_count": 14,
     "metadata": {},
     "output_type": "execute_result"
    }
   ],
   "source": [
    "df"
   ]
  },
  {
   "cell_type": "code",
   "execution_count": 15,
   "metadata": {
    "scrolled": true
   },
   "outputs": [
    {
     "data": {
      "image/png": "[encoded data removed]",
      "text/plain": [
       "<Figure size 1008x1008 with 3 Axes>"
      ]
     },
     "metadata": {},
     "output_type": "display_data"
    }
   ],
   "source": [
    "if df.shape[0]>1:\n",
    "    # line chart when having at least a few points\n",
    "    sns.set(rc={'figure.figsize':(14,14)})\n",
    "    sns.set(style=\"whitegrid\")\n",
    "\n",
    "    fig, axs = plt.subplots(nrows=3)\n",
    "\n",
    "    sns.lineplot(x=df.index, y = 'confirmed', data=df, ax= axs[0], estimator=None, color='orange')\n",
    "    sns.lineplot(x=df.index, y = 'cured', data=df, ax= axs[1], estimator=None, color='green')\n",
    "    sns.lineplot(x=df.index, y = 'dead', data=df, ax= axs[2], estimator=None, color='darkred')\n",
    "\n",
    "    for ax in axs:\n",
    "        ax.set_xlabel('')\n",
    "        ax.tick_params(axis='x', labelrotation=30)\n",
    "else:\n",
    "\n",
    "    ax = df.plot(kind='bar', stacked=True, figsize=(9,6))\n",
    "    fig = ax.get_figure()\n",
    "    ax.set_xlabel('')\n",
    "    for label in ax.get_xticklabels():\n",
    "        label.set_rotation(0) \n"
   ]
  },
  {
   "cell_type": "code",
   "execution_count": 16,
   "metadata": {},
   "outputs": [],
   "source": [
    "fig.savefig(png_file)"
   ]
  },
  {
   "cell_type": "code",
   "execution_count": null,
   "metadata": {},
   "outputs": [],
   "source": []
  },
  {
   "cell_type": "code",
   "execution_count": null,
   "metadata": {},
   "outputs": [],
   "source": []
  }
 ],
 "metadata": {
  "kernelspec": {
   "display_name": "Python 3",
   "language": "python",
   "name": "python3"
  },
  "language_info": {
   "codemirror_mode": {
    "name": "ipython",
    "version": 3
   },
   "file_extension": ".py",
   "mimetype": "text/x-python",
   "name": "python",
   "nbconvert_exporter": "python",
   "pygments_lexer": "ipython3",
   "version": "3.7.6"
  }
 },
 "nbformat": 4,
 "nbformat_minor": 2
}
