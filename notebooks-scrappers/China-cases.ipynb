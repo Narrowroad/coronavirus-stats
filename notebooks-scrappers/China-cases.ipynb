{
 "cells": [
  {
   "cell_type": "code",
   "execution_count": 1,
   "metadata": {},
   "outputs": [],
   "source": [
    "import pandas as pd\n",
    "import requests\n",
    "from bs4 import BeautifulSoup\n",
    "import re\n",
    "from datetime import datetime\n",
    "from selenium import webdriver\n",
    "from selenium.webdriver.chrome.options import Options  \n"
   ]
  },
  {
   "cell_type": "code",
   "execution_count": 2,
   "metadata": {},
   "outputs": [
    {
     "data": {
      "text/plain": [
       "datetime.datetime(2020, 4, 2, 9, 9, 12, 836652)"
      ]
     },
     "execution_count": 2,
     "metadata": {},
     "output_type": "execute_result"
    }
   ],
   "source": [
    "datetime.now()"
   ]
  },
  {
   "cell_type": "code",
   "execution_count": 3,
   "metadata": {},
   "outputs": [],
   "source": [
    "chrome_options = Options()  \n",
    "chrome_options.add_argument(\"--headless\")  \n",
    "chrome_options.add_argument(\"--no-sandbox\")\n",
    "\n",
    "driver = webdriver.Chrome('chromedriver', options=chrome_options)"
   ]
  },
  {
   "cell_type": "code",
   "execution_count": 4,
   "metadata": {},
   "outputs": [],
   "source": [
    "url = 'https://ncov.dxy.cn/ncovh5/view/pneumonia'\n",
    "driver.get(url)"
   ]
  },
  {
   "cell_type": "markdown",
   "metadata": {},
   "source": [
    "### Extract date"
   ]
  },
  {
   "cell_type": "code",
   "execution_count": 5,
   "metadata": {},
   "outputs": [],
   "source": [
    "content = driver.page_source\n",
    "soup =BeautifulSoup(content, 'lxml')\n"
   ]
  },
  {
   "cell_type": "code",
   "execution_count": 6,
   "metadata": {},
   "outputs": [
    {
     "data": {
      "text/plain": [
       "['try { window.getTimelineService1 = [{\"id\":22878,\"pubDate\":1585818218000,\"pubDateStr\":\"4分钟前\",\"title\":\"严控新冠疫情 \\u200b塞浦路斯航空禁飞令继续延长14天\",\"summary\":\"当地时间4月2日，塞浦路斯运输部长亚尼斯·卡鲁索斯（Yiannis Karousos）在其社交媒体上发文表示表示，考虑到目前塞浦路斯国内及欧洲其他国家的新冠肺炎疫情仍较为严峻，决定将原计划于4月4日结束的航空禁飞令继续延长14天。\",\"infoSource\":\"央视新闻app\",\"sourceUrl\":\"http://app.cctv.com/special/cportal/detail/arti/index.html?id=ArtiJh5ziK4OHsUVVV4hRnzM200402&isfromapp=1\",\"provinceId\":\"\"},{\"id\":22873,\"pubDate\":1585817929000,\"pubDateStr\":\"9分钟前\",\"title\":\"北京实施分时预约 祭扫人员同比下降90%\",\"summary\":\"从3月21日开始，在严格落实疫情防控前提下，北京市各扫墓点有序开放祭扫活动，通过提前预约、分时入园、身份核验、人流疏导等措施，实现祭扫活动安全平稳有序。据北京市民政局二级巡视员李全喜介绍，从3月21日至4月1日，12天时间，北京全市各殡葬服务机构已累计接待43.3万祭扫群众，日均接待量为3.6万人，与去年同期相比祭扫人员下降了90%。\",\"infoSource\":\"央视新闻app\",\"sourceUrl\":\"http://app.cctv.com/special/cportal/detail/arti/index.html?id=ArtihN0hH8p7ExC4AO22wTWP200402&isfromapp=1\",\"provinceId\":\"\"},{\"id\":22864,\"pubDate\":1585817332000,\"pubDateStr\":\"19分钟前\",\"title\":\"泰国总理下令延缓入境政策\",\"summary\":\"当地时间4月2日下午12:30，泰国政府大楼召开新冠肺炎疫情管理中心例行发布会，管理中心发言人Taweesil Wissanuayothin博士透露，考虑到新增确诊病例及死亡人数的增加，泰国总理巴育已下令采取延缓泰国公民及外籍人士入境政策，以减缓境外输入病例的情况，泰国外交部将处理进一步事宜。\\\\n\",\"infoSource\":\"央视新闻app\",\"sourceUrl\":\"http://app.cctv.com/special/cportal/detail/arti/index.html?id=ArtikiJb3Jiwj7QMfT2sUszY200402&isfromapp=1\",\"provinceId\":\"\"},{\"id\":22866,\"pubDate\":1585817133000,\"pubDateStr\":\"22分钟前\",\"title\":\"\\u200b摩洛哥新增22例新冠肺炎确诊病例 累计676例\",\"summary\":\"摩洛哥卫生部4月2日上午8时证实，该国当天新增22例新冠肺炎确诊病例。截至发稿时，摩洛哥共确诊新冠肺炎病例676例，累计死亡39人，治愈29人。从疫情开始至今，摩洛哥共有2726人病毒测试呈阴性。\",\"infoSource\":\"央视新闻app\",\"sourceUrl\":\"http://app.cctv.com/special/cportal/detail/arti/index.html?id=Artil6zmaWlhx4FrgVzzIBhc200402&isfromapp=1\",\"provinceId\":\"\"},{\"id\":22867,\"pubDate\":1585817109000,\"pubDateStr\":\"22分钟前\",\"title\":\"香港新增37例新冠肺炎确诊病例 累计802例\",\"summary\":\"来自香港特区政府的最新消息，截至4月2日16点35分，香港新增37例新冠肺炎确诊病例，其中30例患者曾赴境外旅游，其中包括一名年仅2岁的儿童。至此，香港累计确诊病例增至802例。治愈患者达147例。\",\"infoSource\":\"央视新闻app\",\"sourceUrl\":\"http://app.cctv.com/special/cportal/detail/arti/index.html?id=ArtiHpFRojZ9AQlCOKO6WH0c200402&isfromapp=1\",\"provinceId\":\"\"},{\"id\":22858,\"pubDate\":1585816349000,\"pubDateStr\":\"35分钟前\",\"title\":\"希腊旅游胜地米克诺斯岛出现首例新冠肺炎确诊病例\",\"summary\":\"希腊当地时间4月2日，据希腊每日报消息，希腊旅游度假圣地米克诺斯岛出现首例新冠肺炎确诊病例。该确诊病例为一名69岁的女性，大约在10天前出现呼吸道不适症状，几天前因为症状加重就医，4月1日下午接受了新冠肺炎病毒测试，结果呈阳性。目前她已经入院进入隔离病房治疗。该名患者自述近期无境外旅游史，也未曾与出现新冠肺炎症状的人接触，目前她的病因尚不清楚。\",\"infoSource\":\"央视新闻app\",\"sourceUrl\":\"http://app.cctv.com/special/cportal/detail/arti/index.html?id=Artii923eyewX7jEgqId7QnH200402&isfromapp=1\",\"provinceId\":\"\"},{\"id\":22854,\"pubDate\":1585816091000,\"pubDateStr\":\"39分钟前\",\"title\":\"澳大利亚新增新冠肺炎确诊病例273例 累计5133例\",\"summary\":\"据澳大利亚联邦卫生部最新统计，截至当地时间2日下午15时，澳大利亚确诊新冠肺炎病例累计5133例。过去24小时，新增确诊病例273例；新增死亡病例3例，全国累计死亡病例23例。\",\"infoSource\":\"央视新闻app\",\"sourceUrl\":\"http://app.cctv.com/special/cportal/detail/arti/index.html?id=ArtiRis01fMxskbK4IuoReQV200402&isfromapp=1\",\"provinceId\":\"\"},{\"id\":22847,\"pubDate\":1585814906000,\"pubDateStr\":\"59分钟前\",\"title\":\"俄罗斯新增771例新冠肺炎确诊病例 累计确诊3548例\",\"summary\":\"据俄罗斯新冠病毒防疫官网消息，截至4月2日，俄罗斯境内共确诊新冠肺炎感染病例3548例，单日新增771例。累计治愈病例共235例，死亡30例\",\"infoSource\":\"央视新闻app\",\"sourceUrl\":\"http://app.cctv.com/special/cportal/detail/arti/index.html?id=ArtiGEEuPX29SbyrtOjVL4aP200402&isfromapp=1\",\"provinceId\":\"\"},{\"id\":22842,\"pubDate\":1585814501000,\"pubDateStr\":\"1小时前\",\"title\":\"[国家卫生健康委]截至4月1日24时新型冠状病毒肺炎疫情最新情况\",\"summary\":\"\\\\n  4月1日0—24时，31个省（自治区、直辖市）和新疆生产建设兵团报告新增确诊病例35例，均为境外输入病例；新增死亡病例6例（湖北6例）；新增疑似病例20例，均为境外输入病例。\\u3000\",\"infoSource\":\"河南卫健委\",\"sourceUrl\":\"http://www.hnwsjsw.gov.cn/contents/858/49221.shtml\",\"provinceId\":\"\"},{\"id\":22839,\"pubDate\":1585813676000,\"pubDateStr\":\"1小时前\",\"title\":\"好久不见丨董倩武汉新观察：重启的地铁\",\"summary\":\"3月28日，武汉市部分地铁线路恢复运营。熟悉的地铁报站声上一次出现在武汉，已经是两个月前了。吴亚是武汉市地铁车辆二部运转一车间班组长。她驾驶的二号线，是中国首条穿越长江的地铁，也是武汉市最繁忙的线路，日均客流量超过130万人次。1月23日，吴亚上白班时收到了地铁停运的通知。2个多月，武汉按下“暂停键”，如今自己热爱的工作开始恢复，吴亚的心情如何？重新坐上地铁的武汉市民又有何感想？戳视频↓↓↓看董倩\",\"infoSource\":\"央视新闻app\",\"sourceUrl\":\"http://app.cctv.com/special/cportal/detail/arti/index.html?id=ArtinvC4DPpv5cayqgxxUfeC200402&isfromapp=1\",\"provinceId\":\"\"},{\"id\":22829,\"pubDate\":1585813151000,\"pubDateStr\":\"1小时前\",\"title\":\"奥地利确诊病例破万 民众试行戴口罩购物\",\"summary\":\"截至4月1日，奥地利累计新冠肺炎确诊病例达到10482例；累计死亡病例146例。\\xa0\\\\n奥地利政府此前宣布强化防疫措施，要求民众1日起必须佩戴口罩购物。但因口罩备货需要时间，卫生部将强制实行此项规定的时间推后到6日。而1号当天，已配备口罩的超市开始“柔性”试行规定，在入口处向顾客免费发放口罩。\",\"infoSource\":\"央视新闻app\",\"sourceUrl\":\"http://app.cctv.com/special/cportal/detail/arti/index.html?id=ArtiJXnJnuma3nJ5lv6JqNwO200402&isfromapp=1\",\"provinceId\":\"\"},{\"id\":22820,\"pubDate\":1585812431000,\"pubDateStr\":\"1小时前\",\"title\":\"乌克兰新增新冠肺炎确诊病例10例 累计804例\",\"summary\":\"当地时间4月2日，乌克兰卫生部发布消息称，截止到当日上午10:00，乌克兰新冠肺炎确诊病例累计804例，较前一日晚新增10例。截至目前，乌克兰共报告新冠肺炎死亡20例，治愈13例。乌克兰已于3月25日宣布国家进入紧急情况，时间持续至4月24日。\",\"infoSource\":\"央视新闻app\",\"sourceUrl\":\"http://app.cctv.com/special/cportal/detail/arti/index.html?id=ArtiU2hJWgmgj0X18ibwB7YH200402&isfromapp=1\",\"provinceId\":\"\"},{\"id\":22822,\"pubDate\":1585812359000,\"pubDateStr\":\"1小时前\",\"title\":\"台湾新增10例新冠肺炎确诊病例 社区保安确诊感染源不明\",\"summary\":\"台湾流行疫情指挥中心2日公布，新增10例新冠肺炎确诊病例，分别为8例境外输入及2例本土感染。指挥中心介绍，本土病例分别为50多岁男性及40多岁女性。其中女性病例为一名社区保安，近期无旅游史，于3月17日出现喉咙痛、流鼻水、咳嗽等症状，26日发烧就医，30日因症状持续回诊，经诊断有肺炎情形收治住院采检，于今日确诊，目前感染源不明。另一例男性病例曾于3月20日与印尼境外输入病例接触，3月23日发病，曾\",\"infoSource\":\"央视新闻app\",\"sourceUrl\":\"http://app.cctv.com/special/cportal/detail/arti/index.html?id=ArtiWuC8KIfAXM79bRimHgvB200402&isfromapp=1\",\"provinceId\":\"\"},{\"id\":22797,\"pubDate\":1585811200000,\"pubDateStr\":\"2小时前\",\"title\":\"\\u200b以色列新增新冠肺炎确诊病例119例  累计6211例\",\"summary\":\"当地时间4月2日早晨，以色列卫生部公布的最新疫情通报显示，在过去的一夜之间（4月1日晚22时至4月2日早9时），该国新增新冠肺炎确诊病例119例，累计6211例；新增死亡4例，死亡累计30例；107人病情危重，其中83人已插管。\",\"infoSource\":\"央视新闻app\",\"sourceUrl\":\"http://app.cctv.com/special/cportal/detail/arti/index.html?id=ArtiOegsHkbIAehg25sfN6q8200402&isfromapp=1\",\"provinceId\":\"\"}]}catch(e){}',\n",
       " '截至北京时间 2020-04-02 08:52',\n",
       " '截至北京时间 2020-04-02 08:52',\n",
       " '摩洛哥卫生部4月2日上午8时证实，该国当天新增22例新冠肺炎确诊病例。截至发稿时，摩洛哥共确诊新冠肺炎病例676例，累计死亡39人，治愈29人。从疫情开始至今，摩洛哥共有2726人病毒测试呈阴性。',\n",
       " '来自香港特区政府的最新消息，截至4月2日16点35分，香港新增37例新冠肺炎确诊病例，其中30例患者曾赴境外旅游，其中包括一名年仅2岁的儿童。至此，香港累计确诊病例增至802例。治愈患者达147例。',\n",
       " '据澳大利亚联邦卫生部最新统计，截至当地时间2日下午15时，澳大利亚确诊新冠肺炎病例累计5133例。过去24小时，新增确诊病例273例；新增死亡病例3例，全国累计死亡病例23例。',\n",
       " '据俄罗斯新冠病毒防疫官网消息，截至4月2日，俄罗斯境内共确诊新冠肺炎感染病例3548例，单日新增771例。累计治愈病例共235例，死亡30例',\n",
       " '[国家卫生健康委]截至4月1日24时新型冠状病毒肺炎疫情最新情况',\n",
       " '截至4月1日，奥地利累计新冠肺炎确诊病例达到10482例；累计死亡病例146例。\\xa0\\n奥地利政府此前宣布强化防疫措施，要求民众1日起必须佩戴口罩购物。但因口罩备货需要时间，卫生部将强制实行此项规定的时间推后到6日。而1号当天，已配备口罩的超市开始“柔性”试行规定，在入口处向顾客免费发放口罩。',\n",
       " '当地时间4月2日，乌克兰卫生部发布消息称，截止到当日上午10:00，乌克兰新冠肺炎确诊病例累计804例，较前一日晚新增10例。截至目前，乌克兰共报告新冠肺炎死亡20例，治愈13例。乌克兰已于3月25日宣布国家进入紧急情况，时间持续至4月24日。']"
      ]
     },
     "execution_count": 6,
     "metadata": {},
     "output_type": "execute_result"
    }
   ],
   "source": [
    "data = soup.findAll(text=re.compile(\"截至.+\"))\n",
    "data"
   ]
  },
  {
   "cell_type": "code",
   "execution_count": 7,
   "metadata": {},
   "outputs": [
    {
     "data": {
      "text/plain": [
       "'2020-04-02 08:52'"
      ]
     },
     "execution_count": 7,
     "metadata": {},
     "output_type": "execute_result"
    }
   ],
   "source": [
    "for s in data:\n",
    "    m = re.search(\"截至.*(202\\d-\\d+-\\d+ \\d+:\\d+)\", s)\n",
    "    if m is not None:\n",
    "        data_date_time = m.group(1)\n",
    "data_date_time"
   ]
  },
  {
   "cell_type": "markdown",
   "metadata": {},
   "source": [
    "### Extract data (summary)"
   ]
  },
  {
   "cell_type": "code",
   "execution_count": 8,
   "metadata": {},
   "outputs": [
    {
     "data": {
      "text/plain": [
       "['try { window.getStatisticsService = {\"id\":1,\"createTime\":1579537899000,\"modifyTime\":1585817521000,\"infectSource\":\"该字段已替换为说明2\",\"passWay\":\"该字段已替换为说明3\",\"imgUrl\":\"https://img1.dxycdn.com/2020/0201/450/3394153392393266839-135.png\",\"dailyPic\":\"https://img1.dxycdn.com/2020/0211/763/3395998884005602079-135.png,https://img1.dxycdn.com/2020/0211/362/3395998896890788910-135.png,https://img1.dxycdn.com/2020/0211/365/3395998905480724211-135.png,https://img1.dxycdn.com/2020/0211/364/3395998916217859778-135.png,https://img1.dxycdn.com/2020/0211/922/3395998929103046444-135.png,https://img1.dxycdn.com/2020/0211/089/3395998939840182072-135.png\",\"dailyPics\":[\"https://img1.dxycdn.com/2020/0211/763/3395998884005602079-135.png\",\"https://img1.dxycdn.com/2020/0211/362/3395998896890788910-135.png\",\"https://img1.dxycdn.com/2020/0211/365/3395998905480724211-135.png\",\"https://img1.dxycdn.com/2020/0211/364/3395998916217859778-135.png\",\"https://img1.dxycdn.com/2020/0211/922/3395998929103046444-135.png\",\"https://img1.dxycdn.com/2020/0211/089/3395998939840182072-135.png\"],\"summary\":\"\",\"deleted\":false,\"countRemark\":\"\",\"currentConfirmedCount\":2834,\"confirmedCount\":82771,\"suspectedCount\":841,\"curedCount\":76610,\"deadCount\":3327,\"seriousCount\":1422,\"suspectedIncr\":35,\"currentConfirmedIncr\":-15,\"confirmedIncr\":190,\"curedIncr\":199,\"deadIncr\":6,\"seriousIncr\":55,\"virus\":\"该字段已替换为说明1\",\"remark1\":\"易感人群：人群普遍易感。老年人及有基础疾病者感染后病情较重，儿童及婴幼儿也有发病\",\"remark2\":\"潜伏期：一般为 3～7 天，最长不超过 14 天，潜伏期内可能存在传染性，其中无症状病例传染性非常罕见\",\"remark3\":\"宿主：野生动物，可能为中华菊头蝠\",\"remark4\":\"\",\"remark5\":\"\",\"note1\":\"病毒：SARS-CoV-2，其导致疾病命名 COVID-19\",\"note2\":\"传染源：新冠肺炎的患者。无症状感染者也可能成为传染源。\",\"note3\":\"传播途径：经呼吸道飞沫、接触传播是主要的传播途径。气溶胶传播和消化道等传播途径尚待明确。\",\"generalRemark\":\"1. 3 月 12 日国家卫健委确诊补订遗漏 12 例确诊病例（非 12 日新增），暂无具体省份信息。 2. 浙江省 12 例外省治愈暂无具体省份信息。\",\"abroadRemark\":\"\",\"marquee\":[{\"id\":1860,\"marqueeLabel\":\"口罩\",\"marqueeContent\":\"要不要戴口罩，西方逐渐向东方靠拢\",\"marqueeLink\":\"https://dxy.me/rJ1gPo\"},{\"id\":1861,\"marqueeLabel\":\"一视同仁\",\"marqueeContent\":\"青岛外籍人士插队检测被批评教育\",\"marqueeLink\":\"https://dxy.me/7I5ebE\"},{\"id\":1862,\"marqueeLabel\":\"数字新冠\",\"marqueeContent\":\"4 月 1 日，世界因新冠而变\",\"marqueeLink\":\"https://dxy.me/1cj1hw\"}],\"quanguoTrendChart\":[{\"imgUrl\":\"https://img1.dxycdn.com/2020/0324/278/3403801351376518263-135.png\",\"title\":\"新增疑似/新增确诊\"},{\"imgUrl\":\"https://img1.dxycdn.com/2020/0324/812/3403847865872006755-135.png\",\"title\":\"境外输入\"},{\"imgUrl\":\"https://img1.dxycdn.com/2020/0324/547/3403847848692336947-135.png\",\"title\":\"现存确诊\"},{\"imgUrl\":\"https://img1.dxycdn.com/2020/0324/775/3403801407211095604-135.png\",\"title\":\"治愈\"},{\"imgUrl\":\"https://img1.dxycdn.com/2020/0324/250/3403801424390727199-135.png\",\"title\":\"死亡\"}],\"hbFeiHbTrendChart\":[{\"imgUrl\":\"https://img1.dxycdn.com/2020/0326/624/3404177508906904585-135.png\",\"title\":\"非湖北新增确诊\"},{\"imgUrl\":\"https://img1.dxycdn.com/2020/0326/777/3404177532529485065-135.png\",\"title\":\"湖北新增确诊\"},{\"imgUrl\":\"https://img1.dxycdn.com/2020/0326/376/3404177556151805921-135.png\",\"title\":\"湖北现存确诊\"},{\"imgUrl\":\"https://img1.dxycdn.com/2020/0326/527/3404177575478899995-135.png\",\"title\":\"非湖北现存确诊\"},{\"imgUrl\":\"https://img1.dxycdn.com/2020/0326/419/3404177596953996726-135.png\",\"title\":\"治愈/死亡\"}],\"foreignTrendChart\":[{\"imgUrl\":\"https://img1.dxycdn.com/2020/0320/702/3403079914982117944-135.png\",\"title\":\"国外新增确诊\"},{\"imgUrl\":\"https://img1.dxycdn.com/2020/0320/396/3403079925719536561-135.png\",\"title\":\"国外累计确诊\"},{\"imgUrl\":\"https://img1.dxycdn.com/2020/0320/139/3403079936457225524-135.png\",\"title\":\"国外死亡\"}],\"importantForeignTrendChart\":[{\"imgUrl\":\"https://img1.dxycdn.com/2020/0320/450/3403077453965772423-135.png\",\"title\":\"重点国家新增确诊\"},{\"imgUrl\":\"https://img1.dxycdn.com/2020/0320/276/3403077462555980566-135.png\",\"title\":\"日本新增确诊\"},{\"imgUrl\":\"https://img1.dxycdn.com/2020/0320/340/3403077473293125942-135.png\",\"title\":\"意大利新增确诊\"},{\"imgUrl\":\"https://img1.dxycdn.com/2020/0320/723/3403077481883334043-135.png\",\"title\":\"伊朗新增确诊\"},{\"imgUrl\":\"https://img1.dxycdn.com/2020/0320/266/3403077492620752785-135.png\",\"title\":\"美国新增确诊\"},{\"imgUrl\":\"https://img1.dxycdn.com/2020/0320/870/3403077503358171278-135.png\",\"title\":\"法国新增确诊\"},{\"imgUrl\":\"https://img1.dxycdn.com/2020/0320/053/3403077511947832997-135.png\",\"title\":\"德国新增确诊\"},{\"imgUrl\":\"https://img1.dxycdn.com/2020/0320/878/3403077520537768006-135.png\",\"title\":\"西班牙新增确诊\"},{\"imgUrl\":\"https://img1.dxycdn.com/2020/0320/443/3403077531275186665-135.png\",\"title\":\"韩国新增确诊\"}],\"foreignTrendChartGlobal\":[{\"imgUrl\":\"https://img1.dxycdn.com/2020/0319/740/3402859458605738923-135.png\",\"title\":\"Daily New Cases\"},{\"imgUrl\":\"https://img1.dxycdn.com/2020/0319/351/3402856772103846114-135.png\",\"title\":\"Total Confirmed Cases\"},{\"imgUrl\":\"https://img1.dxycdn.com/2020/0319/236/3402856782841001789-135.png\",\"title\":\"Total Deaths Cases\"}],\"importantForeignTrendChartGlobal\":[{\"imgUrl\":\"https://img1.dxycdn.com/2020/0319/122/3402856838675578578-135.png\",\"title\":\"Daily New Cases\"},{\"imgUrl\":\"https://img1.dxycdn.com/2020/0319/685/3402856849412997239-135.png\",\"title\":\"Japan\"},{\"imgUrl\":\"https://img1.dxycdn.com/2020/0319/477/3402856860150678804-135.png\",\"title\":\"Italy\"},{\"imgUrl\":\"https://img1.dxycdn.com/2020/0319/454/3402856873035581014-135.png\",\"title\":\"Iran\"},{\"imgUrl\":\"https://img1.dxycdn.com/2020/0319/022/3402856883772999714-135.png\",\"title\":\"U.S.A.\"},{\"imgUrl\":\"https://img1.dxycdn.com/2020/0319/529/3402856894510155506-135.png\",\"title\":\"France\"},{\"imgUrl\":\"https://img1.dxycdn.com/2020/0319/211/3402856905247574064-135.png\",\"title\":\"Germany\"},{\"imgUrl\":\"https://img1.dxycdn.com/2020/0319/054/3402856913837508985-135.png\",\"title\":\"Spain\"},{\"imgUrl\":\"https://img1.dxycdn.com/2020/0319/088/3402856928870157852-135.png\",\"title\":\"Republic of Korea\"}],\"foreignStatistics\":{\"currentConfirmedCount\":694096,\"confirmedCount\":843655,\"suspectedCount\":4,\"curedCount\":106585,\"deadCount\":42974,\"suspectedIncr\":0,\"currentConfirmedIncr\":7147,\"confirmedIncr\":7763,\"curedIncr\":445,\"deadIncr\":171},\"globalStatistics\":{\"currentConfirmedCount\":696930,\"confirmedCount\":926426,\"curedCount\":183195,\"deadCount\":46301,\"currentConfirmedIncr\":7132,\"confirmedIncr\":7953,\"curedIncr\":644,\"deadIncr\":177},\"globalOtherTrendChartData\":\"https://file1.dxycdn.com/2020/0402/340/3405464173734751626-135.json\"}}catch(e){}']"
      ]
     },
     "execution_count": 8,
     "metadata": {},
     "output_type": "execute_result"
    }
   ],
   "source": [
    "data = soup.findAll(text=re.compile('\\\"summary.+\\\"confirmedCount\\\":\\d'))\n",
    "\n",
    "data\n"
   ]
  },
  {
   "cell_type": "code",
   "execution_count": 9,
   "metadata": {},
   "outputs": [],
   "source": [
    "m = re.search('\\\"confirmedCount\\\":(\\d+)', data[0])\n",
    "summary_confirmed_count = int(m.group(1))\n",
    "\n",
    "\n",
    "m = re.search('\\\"curedCount\\\":(\\d+)', data[0])\n",
    "summary_cured_count = int(m.group(1))\n",
    "\n",
    "m = re.search('\\\"deadCount\\\":(\\d+)', data[0])\n",
    "summary_dead_count = int(m.group(1))\n"
   ]
  },
  {
   "cell_type": "code",
   "execution_count": 10,
   "metadata": {},
   "outputs": [
    {
     "data": {
      "text/html": [
       "<div>\n",
       "<style scoped>\n",
       "    .dataframe tbody tr th:only-of-type {\n",
       "        vertical-align: middle;\n",
       "    }\n",
       "\n",
       "    .dataframe tbody tr th {\n",
       "        vertical-align: top;\n",
       "    }\n",
       "\n",
       "    .dataframe thead th {\n",
       "        text-align: right;\n",
       "    }\n",
       "</style>\n",
       "<table border=\"1\" class=\"dataframe\">\n",
       "  <thead>\n",
       "    <tr style=\"text-align: right;\">\n",
       "      <th></th>\n",
       "      <th>datetime</th>\n",
       "      <th>confirmed</th>\n",
       "      <th>cured</th>\n",
       "      <th>dead</th>\n",
       "    </tr>\n",
       "  </thead>\n",
       "  <tbody>\n",
       "    <tr>\n",
       "      <th>0</th>\n",
       "      <td>2020-04-02 08:52</td>\n",
       "      <td>82771</td>\n",
       "      <td>76610</td>\n",
       "      <td>3327</td>\n",
       "    </tr>\n",
       "  </tbody>\n",
       "</table>\n",
       "</div>"
      ],
      "text/plain": [
       "           datetime  confirmed  cured  dead\n",
       "0  2020-04-02 08:52      82771  76610  3327"
      ]
     },
     "execution_count": 10,
     "metadata": {},
     "output_type": "execute_result"
    }
   ],
   "source": [
    "# make a dataframe\n",
    "df = pd.DataFrame({\n",
    "    'datetime': data_date_time,\n",
    "    'confirmed': summary_confirmed_count,\n",
    "    'cured': summary_cured_count,\n",
    "    'dead': summary_dead_count\n",
    "}, index=[0])\n",
    "df"
   ]
  },
  {
   "cell_type": "markdown",
   "metadata": {},
   "source": [
    "### Save to file"
   ]
  },
  {
   "cell_type": "code",
   "execution_count": 11,
   "metadata": {},
   "outputs": [],
   "source": [
    "from pathlib import Path\n",
    "csv_file = '../data/china-summary-cases.csv'\n",
    "\n",
    "if Path(csv_file).exists():\n",
    "    # read out the old data - then merge with new data and remove duplicates based on datetime\n",
    "    old_df = pd.read_csv(csv_file)\n",
    "    df = df.append(old_df)\n",
    "df.drop_duplicates(subset=['datetime'], inplace=True)"
   ]
  },
  {
   "cell_type": "code",
   "execution_count": 12,
   "metadata": {},
   "outputs": [],
   "source": [
    "df.sort_values(by=['datetime'], inplace=True)\n",
    "\n",
    "df.to_csv(csv_file, index=False)\n"
   ]
  },
  {
   "cell_type": "markdown",
   "metadata": {},
   "source": [
    "### Plot graph"
   ]
  },
  {
   "cell_type": "code",
   "execution_count": 13,
   "metadata": {},
   "outputs": [],
   "source": [
    "import seaborn as sns\n",
    "import matplotlib.pyplot as plt\n",
    "from pandas.plotting import register_matplotlib_converters\n",
    "register_matplotlib_converters()\n",
    "\n",
    "png_file = '../images/china-summary-cases.png'\n",
    "# convert to pd.datetime\n",
    "df['datetime_idx'] = pd.to_datetime(df['datetime'], format=\"%Y-%m-%d %H:%M\")\n",
    "\n",
    "df.set_index('datetime_idx', inplace=True)\n",
    "df.drop(['datetime'], axis=1, inplace=True)\n"
   ]
  },
  {
   "cell_type": "code",
   "execution_count": 14,
   "metadata": {},
   "outputs": [
    {
     "data": {
      "text/html": [
       "<div>\n",
       "<style scoped>\n",
       "    .dataframe tbody tr th:only-of-type {\n",
       "        vertical-align: middle;\n",
       "    }\n",
       "\n",
       "    .dataframe tbody tr th {\n",
       "        vertical-align: top;\n",
       "    }\n",
       "\n",
       "    .dataframe thead th {\n",
       "        text-align: right;\n",
       "    }\n",
       "</style>\n",
       "<table border=\"1\" class=\"dataframe\">\n",
       "  <thead>\n",
       "    <tr style=\"text-align: right;\">\n",
       "      <th></th>\n",
       "      <th>confirmed</th>\n",
       "      <th>cured</th>\n",
       "      <th>dead</th>\n",
       "    </tr>\n",
       "    <tr>\n",
       "      <th>datetime_idx</th>\n",
       "      <th></th>\n",
       "      <th></th>\n",
       "      <th></th>\n",
       "    </tr>\n",
       "  </thead>\n",
       "  <tbody>\n",
       "    <tr>\n",
       "      <th>2020-02-02 10:22:00</th>\n",
       "      <td>14483</td>\n",
       "      <td>379</td>\n",
       "      <td>304</td>\n",
       "    </tr>\n",
       "    <tr>\n",
       "      <th>2020-02-02 10:28:00</th>\n",
       "      <td>14483</td>\n",
       "      <td>380</td>\n",
       "      <td>304</td>\n",
       "    </tr>\n",
       "    <tr>\n",
       "      <th>2020-02-02 11:19:00</th>\n",
       "      <td>14489</td>\n",
       "      <td>385</td>\n",
       "      <td>304</td>\n",
       "    </tr>\n",
       "    <tr>\n",
       "      <th>2020-02-02 11:54:00</th>\n",
       "      <td>14489</td>\n",
       "      <td>397</td>\n",
       "      <td>304</td>\n",
       "    </tr>\n",
       "    <tr>\n",
       "      <th>2020-02-02 15:01:00</th>\n",
       "      <td>14490</td>\n",
       "      <td>430</td>\n",
       "      <td>304</td>\n",
       "    </tr>\n",
       "    <tr>\n",
       "      <th>...</th>\n",
       "      <td>...</td>\n",
       "      <td>...</td>\n",
       "      <td>...</td>\n",
       "    </tr>\n",
       "    <tr>\n",
       "      <th>2020-04-02 04:51:00</th>\n",
       "      <td>82724</td>\n",
       "      <td>76459</td>\n",
       "      <td>3321</td>\n",
       "    </tr>\n",
       "    <tr>\n",
       "      <th>2020-04-02 06:02:00</th>\n",
       "      <td>82724</td>\n",
       "      <td>76459</td>\n",
       "      <td>3321</td>\n",
       "    </tr>\n",
       "    <tr>\n",
       "      <th>2020-04-02 06:54:00</th>\n",
       "      <td>82724</td>\n",
       "      <td>76459</td>\n",
       "      <td>3321</td>\n",
       "    </tr>\n",
       "    <tr>\n",
       "      <th>2020-04-02 07:33:00</th>\n",
       "      <td>82724</td>\n",
       "      <td>76610</td>\n",
       "      <td>3327</td>\n",
       "    </tr>\n",
       "    <tr>\n",
       "      <th>2020-04-02 08:52:00</th>\n",
       "      <td>82771</td>\n",
       "      <td>76610</td>\n",
       "      <td>3327</td>\n",
       "    </tr>\n",
       "  </tbody>\n",
       "</table>\n",
       "<p>923 rows × 3 columns</p>\n",
       "</div>"
      ],
      "text/plain": [
       "                     confirmed  cured  dead\n",
       "datetime_idx                               \n",
       "2020-02-02 10:22:00      14483    379   304\n",
       "2020-02-02 10:28:00      14483    380   304\n",
       "2020-02-02 11:19:00      14489    385   304\n",
       "2020-02-02 11:54:00      14489    397   304\n",
       "2020-02-02 15:01:00      14490    430   304\n",
       "...                        ...    ...   ...\n",
       "2020-04-02 04:51:00      82724  76459  3321\n",
       "2020-04-02 06:02:00      82724  76459  3321\n",
       "2020-04-02 06:54:00      82724  76459  3321\n",
       "2020-04-02 07:33:00      82724  76610  3327\n",
       "2020-04-02 08:52:00      82771  76610  3327\n",
       "\n",
       "[923 rows x 3 columns]"
      ]
     },
     "execution_count": 14,
     "metadata": {},
     "output_type": "execute_result"
    }
   ],
   "source": [
    "df"
   ]
  },
  {
   "cell_type": "code",
   "execution_count": 15,
   "metadata": {
    "scrolled": true
   },
   "outputs": [
    {
     "data": {
      "image/png": "[encoded data removed]",
      "text/plain": [
       "<Figure size 1008x1008 with 3 Axes>"
      ]
     },
     "metadata": {},
     "output_type": "display_data"
    }
   ],
   "source": [
    "if df.shape[0]>1:\n",
    "    # line chart when having at least a few points\n",
    "    sns.set(rc={'figure.figsize':(14,14)})\n",
    "    sns.set(style=\"whitegrid\")\n",
    "\n",
    "    fig, axs = plt.subplots(nrows=3)\n",
    "\n",
    "    sns.lineplot(x=df.index, y = 'confirmed', data=df, ax= axs[0], estimator=None, color='orange')\n",
    "    sns.lineplot(x=df.index, y = 'cured', data=df, ax= axs[1], estimator=None, color='green')\n",
    "    sns.lineplot(x=df.index, y = 'dead', data=df, ax= axs[2], estimator=None, color='darkred')\n",
    "\n",
    "    for ax in axs:\n",
    "        ax.set_xlabel('')\n",
    "        ax.tick_params(axis='x', labelrotation=30)\n",
    "else:\n",
    "\n",
    "    ax = df.plot(kind='bar', stacked=True, figsize=(9,6))\n",
    "    fig = ax.get_figure()\n",
    "    ax.set_xlabel('')\n",
    "    for label in ax.get_xticklabels():\n",
    "        label.set_rotation(0) \n"
   ]
  },
  {
   "cell_type": "code",
   "execution_count": 16,
   "metadata": {},
   "outputs": [],
   "source": [
    "fig.savefig(png_file)"
   ]
  },
  {
   "cell_type": "code",
   "execution_count": null,
   "metadata": {},
   "outputs": [],
   "source": []
  },
  {
   "cell_type": "code",
   "execution_count": null,
   "metadata": {},
   "outputs": [],
   "source": []
  }
 ],
 "metadata": {
  "kernelspec": {
   "display_name": "Python 3",
   "language": "python",
   "name": "python3"
  },
  "language_info": {
   "codemirror_mode": {
    "name": "ipython",
    "version": 3
   },
   "file_extension": ".py",
   "mimetype": "text/x-python",
   "name": "python",
   "nbconvert_exporter": "python",
   "pygments_lexer": "ipython3",
   "version": "3.7.6"
  }
 },
 "nbformat": 4,
 "nbformat_minor": 2
}
