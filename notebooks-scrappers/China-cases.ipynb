{
 "cells": [
  {
   "cell_type": "code",
   "execution_count": 1,
   "metadata": {},
   "outputs": [],
   "source": [
    "import pandas as pd\n",
    "import requests\n",
    "from bs4 import BeautifulSoup\n",
    "import re\n",
    "from datetime import datetime\n",
    "from selenium import webdriver\n",
    "from selenium.webdriver.chrome.options import Options  \n"
   ]
  },
  {
   "cell_type": "code",
   "execution_count": 2,
   "metadata": {},
   "outputs": [
    {
     "data": {
      "text/plain": [
       "datetime.datetime(2020, 3, 28, 3, 7, 50, 487209)"
      ]
     },
     "execution_count": 2,
     "metadata": {},
     "output_type": "execute_result"
    }
   ],
   "source": [
    "datetime.now()"
   ]
  },
  {
   "cell_type": "code",
   "execution_count": 3,
   "metadata": {},
   "outputs": [],
   "source": [
    "chrome_options = Options()  \n",
    "chrome_options.add_argument(\"--headless\")  \n",
    "chrome_options.add_argument(\"--no-sandbox\")\n",
    "\n",
    "driver = webdriver.Chrome('chromedriver', options=chrome_options)"
   ]
  },
  {
   "cell_type": "code",
   "execution_count": 4,
   "metadata": {},
   "outputs": [],
   "source": [
    "url = 'https://ncov.dxy.cn/ncovh5/view/pneumonia'\n",
    "driver.get(url)"
   ]
  },
  {
   "cell_type": "markdown",
   "metadata": {},
   "source": [
    "### Extract date"
   ]
  },
  {
   "cell_type": "code",
   "execution_count": 5,
   "metadata": {},
   "outputs": [],
   "source": [
    "content = driver.page_source\n",
    "soup =BeautifulSoup(content, 'lxml')\n"
   ]
  },
  {
   "cell_type": "code",
   "execution_count": 6,
   "metadata": {},
   "outputs": [
    {
     "data": {
      "text/plain": [
       "['try { window.getTimelineService1 = [{\"id\":18480,\"pubDate\":1585362291000,\"pubDateStr\":\"13分钟前\",\"title\":\"贵州28日通报：无新增新冠肺炎确诊病例 无住院确诊病例\",\"summary\":\"2020年3月27日0—24时，贵州省无新增新冠肺炎确诊病例报告，无新增疑似病例，无住院确诊病例。截至3月27日24时，贵州省累计报告确诊病例146例，累计出院病例144例，累计死亡病例2例。贵州省住院确诊病例为0例，疑似病例为0例。目前，累计追踪密切接触者2574人，已解除医学观察2502人，尚在接受医学观察3人。（来源：贵州省卫生健康委员会官网）\",\"infoSource\":\"央视新闻app\",\"sourceUrl\":\"http://app.cctv.com/special/cportal/detail/arti/index.html?id=ArtiAYIt6zcomVYL04gtsyH6200328&isfromapp=1\",\"provinceId\":\"\"},{\"id\":18478,\"pubDate\":1585362162000,\"pubDateStr\":\"15分钟前\",\"title\":\"阿根廷新冠肺炎确诊病例增至690例 政府下令全面关闭边境\",\"summary\":\"当地时间3月27日，阿根廷卫生部通报称，该国新增新冠肺炎确诊病例101例，累计确诊690例。新增死亡病例5例，累计死亡17例。目前，阿根廷首都布宜诺斯艾利斯是疫情最严重地区，集中了全国超过三成的确诊和死亡病例。\",\"infoSource\":\"央视新闻app\",\"sourceUrl\":\"http://app.cctv.com/special/cportal/detail/arti/index.html?id=ArtifNUIRpWfFbuYL6KVF0bp200328&isfromapp=1\",\"provinceId\":\"\"},{\"id\":18452,\"pubDate\":1585360136000,\"pubDateStr\":\"49分钟前\",\"title\":\"墨西哥新冠肺炎确诊病例达717例 死亡病例升至12例\",\"summary\":\"当地时间3月27日，墨西哥卫生部宣布，截止到当地时间27日晚上7时，墨西哥全国确诊717例新冠肺炎病例，较前一天新增了132例，单日新增确诊病例数量再次刷新，增幅较大。同时，墨西哥全国确诊死亡病例较前一天新增4例，总数已经上升到12例。\",\"infoSource\":\"央视新闻app\",\"sourceUrl\":\"http://app.cctv.com/special/cportal/detail/arti/index.html?id=ArtiOUl9wIx5phyToaVxMldD200328&isfromapp=1\",\"provinceId\":\"\"},{\"id\":18445,\"pubDate\":1585359882000,\"pubDateStr\":\"53分钟前\",\"title\":\"文莱出现首例新冠肺炎死亡病例\",\"summary\":\"当地时间28日，文莱宣布出现首例新冠肺炎死亡病例。截至当地时间27日早上，文莱累计确诊病例115例，治愈11例，死亡1例。\",\"infoSource\":\"央视新闻app\",\"sourceUrl\":\"http://app.cctv.com/special/cportal/detail/arti/index.html?id=Arti2EiqSpgNHidQrqhcGRHu200328&isfromapp=1\",\"provinceId\":\"\"},{\"id\":18447,\"pubDate\":1585359864000,\"pubDateStr\":\"53分钟前\",\"title\":\"澳大利亚新冠肺炎确诊病例增至3378例\",\"summary\":\"根据澳大利亚联邦卫生部28日最新统计，截至当地时间上午6:30，澳大利亚累计确诊新冠肺炎感染病例达3378例，包括13个死亡病例，较上一个统计节点新增212例。\",\"infoSource\":\"央视新闻app\",\"sourceUrl\":\"http://app.cctv.com/special/cportal/detail/arti/index.html?id=Arti5y8nCL7s4T2RaBKy9OJW200328&isfromapp=1\",\"provinceId\":\"\"},{\"id\":18432,\"pubDate\":1585359415000,\"pubDateStr\":\"1小时前\",\"title\":\"2020年3月28日天津市新型冠状病毒肺炎疫情情况\",\"summary\":\"\\\\n\\\\n    begin-->2020年3月27日0－24时，天津市报告境外输入性新型冠状病毒肺炎确诊病例4例。截至3月27日24时，天津市累计报告境外输入性新型冠状病毒肺炎确诊病例20例。（在院20例，其中重型3例、普通型10例、轻型6例、分型待定1例；中国籍19例、法国籍1例）境外输入性确诊病例中：英国输入病例8例、法国输入病例4例、美国输入病例6例、瑞士输入病例1例、加拿大输入病例1例。2020年3月27日0－24时，天津市本地无新增新型冠状病毒肺炎确诊病例。截至3月27日24时，天津市累计报告新型冠状病毒肺炎确诊病例136例，出院病例133例，死亡病例3例。现有在院治疗确诊病例0例。其中：确诊病例中，宝坻区60例、河东区15例、河北区12例、和平区6例、南开区6例、北辰区6例、河西区4例、宁河区4例、东丽区4例、西青区4例、滨海新区3例、红桥区2例、武清区2例、津南区2例、外地来津6例；出院病例中，宝坻区58例、河东区14例、河北区12例、和平区6例、南开区6例、北辰区6例、河西区4例、宁河区4例、东丽区4例、西青区4例、滨海新区3例、红桥区2例、武清区2例、津南区2例、外地来津6例。目前累计追踪到密切接触者3008人，已解除医学观察2637人，尚有371人正在接受医学观察。天津市卫生健康委员会\\u3000\\u3000\\u3000\\u3000\\u3000\\u3000\\u3000\\u3000\\u3000\\u3000\\u30002020年3月28日end-->\\\\n\",\"infoSource\":\"天津卫健委\",\"sourceUrl\":\"http://wsjk.tj.gov.cn/art/2020/3/28/art_87_72805.html\",\"provinceId\":\"\"},{\"id\":18431,\"pubDate\":1585359414000,\"pubDateStr\":\"1小时前\",\"title\":\"3月27日6时至18时 天津无新增报告本地新冠肺炎确诊病例 新增境外输入确诊病例1例\",\"summary\":\"3月27日6时至18时，天津无新增报告本地新冠肺炎确诊病例。新增报告1例境外输入确诊病例（中国籍），累计报告境外输入确诊病例20例（其中重型3例、普通型10例、轻型6例、分型待定1例；中国籍19例、法国籍1例）。3月27日6时至18时，我市无新增报告本地新冠肺炎确诊病例，累计报告本地新冠肺炎确诊病例136例，其中男性73例，女性63例；治愈出院133例，死亡3例。截至目前，全市现有疑似病例88例，累计排查密切接触者3008人，尚有371人正在接受医学观察。\",\"infoSource\":\"天津卫健委\",\"sourceUrl\":\"http://wsjk.tj.gov.cn/art/2020/3/28/art_87_72804.html\",\"provinceId\":\"\"},{\"id\":18433,\"pubDate\":1585358947000,\"pubDateStr\":\"1小时前\",\"title\":\"韩国新增146例确诊病例，累计确诊9478例\",\"summary\":\"据韩联社28日消息，韩国中央防疫对策本部当天通报，当地时间27日0时至28日0时，韩国新增146例新冠肺炎确诊病例，累计确诊9478例。\",\"infoSource\":\"人民日报海外版\",\"sourceUrl\":\"http://m.weibo.cn/3057540037/4487383023802782\",\"provinceId\":\"\"},{\"id\":18429,\"pubDate\":1585358840000,\"pubDateStr\":\"1小时前\",\"title\":\"新疆28日通报：无新增新冠肺炎确诊病例\",\"summary\":\"新疆维吾尔自治区卫生健康委最新通报，3月27日0时至24时，新疆维吾尔自治区（含新疆生产建设兵团）无新增新冠肺炎确诊病例，已连续39天无新增确诊病例。截至3月27日24时，新疆维吾尔自治区（含新疆生产建设兵团）累计报告新型冠状病毒肺炎确诊病例76例，累计治愈出院病例73例，死亡病例3例。目前尚有5人正在接受医学观察。\",\"infoSource\":\"央视新闻app\",\"sourceUrl\":\"http://app.cctv.com/special/cportal/detail/arti/index.html?id=ArtirW8e07UJMmUrR9iyuqjh200328&isfromapp=1\",\"provinceId\":\"\"},{\"id\":18425,\"pubDate\":1585358611000,\"pubDateStr\":\"1小时前\",\"title\":\"浙江27日新增4例境外输入新冠肺炎确诊病例 累计报告境外输入33例\",\"summary\":\"浙江省卫生健康委员会通报，3月27日0—24时，新增境外输入新冠肺炎确诊病例4例（意大利输入1例、科特迪瓦输入1例、法国输入1例、英国输入1例）。新增出院病例3例。截至3月27日24时，累计报告境外输入确诊病例33例，累计出院9例。3月27日0—24时，无新增本地确诊病例。截至3月27日24时，累计报告本地确诊病例1218例，累计出院1216例，累计死亡1例，治愈出院率99.8%。\",\"infoSource\":\"央视新闻app\",\"sourceUrl\":\"http://app.cctv.com/special/cportal/detail/arti/index.html?id=Arti1L9XI5remD0s6We5WNhG200328&isfromapp=1\",\"provinceId\":\"\"},{\"id\":18418,\"pubDate\":1585358406000,\"pubDateStr\":\"1小时前\",\"title\":\"智利新冠肺炎确诊病例新增304例 复活节岛出现首例\",\"summary\":\"当地时间3月27日，智利卫生部发布公告，该国26日新冠肺炎确诊病例新增304例，累计确诊1610例，死亡5例，治愈43例。\",\"infoSource\":\"央视新闻app\",\"sourceUrl\":\"http://app.cctv.com/special/cportal/detail/arti/index.html?id=ArtiOzHq9ftmBK3v7R6oCYrj200328&isfromapp=1\",\"provinceId\":\"\"},{\"id\":18411,\"pubDate\":1585357922000,\"pubDateStr\":\"1小时前\",\"title\":\"上海3月27日无新增本地新冠肺炎确诊病例 新增境外输入17例  治愈出院3例\",\"summary\":\"3月27日0—24时，通过口岸联防联控机制，报告17例境外输入性新冠肺炎确诊病例。截至3月27日24时，累计报告境外输入性确诊病例146例，现有16例境外输入性疑似病例正在排查中。3月27日0—24时，无新增本地新冠肺炎确诊病例。截至3月27日24时，累计报告本地确诊病例339例，现有本地疑似病例0例。                \",\"infoSource\":\"上海卫健委\",\"sourceUrl\":\"http://wsjkw.sh.gov.cn/xwfb/20200328/8572b3b4f7d440f99e1a4e4ecb3e2816.html\",\"provinceId\":\"\"},{\"id\":18415,\"pubDate\":1585357849000,\"pubDateStr\":\"1小时前\",\"title\":\"澳门28日新增1例新冠肺炎确诊病例 累计增至35例\",\"summary\":\"澳门新型冠状病毒感染应变协调中心28日表示，当天新增1例输入新冠肺炎病例，累计确诊病例增至35例。\",\"infoSource\":\"央视新闻app\",\"sourceUrl\":\"http://app.cctv.com/special/cportal/detail/arti/index.html?id=Arti7lKIXfKbzuYbVeYtbv2m200328&isfromapp=1\",\"provinceId\":\"\"}]}catch(e){}',\n",
       " '截至北京时间 2020-03-28 02:33',\n",
       " '截至北京时间 2020-03-28 02:33',\n",
       " '2020年3月27日0—24时，贵州省无新增新冠肺炎确诊病例报告，无新增疑似病例，无住院确诊病例。截至3月27日24时，贵州省累计报告确诊病例146例，累计出院病例144例，累计死亡病例2例。贵州省住院确诊病例为0例，疑似病例为0例。目前，累计追踪密切接触者2574人，已解除医学观察2502人，尚在接受医学观察3人。（来源：贵州省卫生健康委员会官网）',\n",
       " '当地时间28日，文莱宣布出现首例新冠肺炎死亡病例。截至当地时间27日早上，文莱累计确诊病例115例，治愈11例，死亡1例。',\n",
       " '根据澳大利亚联邦卫生部28日最新统计，截至当地时间上午6:30，澳大利亚累计确诊新冠肺炎感染病例达3378例，包括13个死亡病例，较上一个统计节点新增212例。',\n",
       " '\\n\\n    begin-->2020年3月27日0－24时，天津市报告境外输入性新型冠状病毒肺炎确诊病例4例。截至3月27日24时，天津市累计报告境外输入性新型冠状病毒肺炎确诊病例20例。（在院20例，其中重型3例、普通型10例、轻型6例、分型待定1例；中国籍19例、法国籍1例）境外输入性确诊病例中：英国输入病例8例、法国输入病例4例、美国输入病例6例、瑞士输入病例1例、加拿大输入病例1例。2020年3月27日0－24时，天津市本地无新增新型冠状病毒肺炎确诊病例。截至3月27日24时，天津市累计报告新型冠状病毒肺炎确诊病例136例，出院病例133例，死亡病例3例。现有在院治疗确诊病例0例。其中：确诊病例中，宝坻区60例、河东区15例、河北区12例、和平区6例、南开区6例、北辰区6例、河西区4例、宁河区4例、东丽区4例、西青区4例、滨海新区3例、红桥区2例、武清区2例、津南区2例、外地来津6例；出院病例中，宝坻区58例、河东区14例、河北区12例、和平区6例、南开区6例、北辰区6例、河西区4例、宁河区4例、东丽区4例、西青区4例、滨海新区3例、红桥区2例、武清区2例、津南区2例、外地来津6例。目前累计追踪到密切接触者3008人，已解除医学观察2637人，尚有371人正在接受医学观察。天津市卫生健康委员会\\u3000\\u3000\\u3000\\u3000\\u3000\\u3000\\u3000\\u3000\\u3000\\u3000\\u30002020年3月28日end-->\\n',\n",
       " '3月27日6时至18时，天津无新增报告本地新冠肺炎确诊病例。新增报告1例境外输入确诊病例（中国籍），累计报告境外输入确诊病例20例（其中重型3例、普通型10例、轻型6例、分型待定1例；中国籍19例、法国籍1例）。3月27日6时至18时，我市无新增报告本地新冠肺炎确诊病例，累计报告本地新冠肺炎确诊病例136例，其中男性73例，女性63例；治愈出院133例，死亡3例。截至目前，全市现有疑似病例88例，累计排查密切接触者3008人，尚有371人正在接受医学观察。',\n",
       " '新疆维吾尔自治区卫生健康委最新通报，3月27日0时至24时，新疆维吾尔自治区（含新疆生产建设兵团）无新增新冠肺炎确诊病例，已连续39天无新增确诊病例。截至3月27日24时，新疆维吾尔自治区（含新疆生产建设兵团）累计报告新型冠状病毒肺炎确诊病例76例，累计治愈出院病例73例，死亡病例3例。目前尚有5人正在接受医学观察。',\n",
       " '浙江省卫生健康委员会通报，3月27日0—24时，新增境外输入新冠肺炎确诊病例4例（意大利输入1例、科特迪瓦输入1例、法国输入1例、英国输入1例）。新增出院病例3例。截至3月27日24时，累计报告境外输入确诊病例33例，累计出院9例。3月27日0—24时，无新增本地确诊病例。截至3月27日24时，累计报告本地确诊病例1218例，累计出院1216例，累计死亡1例，治愈出院率99.8%。',\n",
       " '3月27日0—24时，通过口岸联防联控机制，报告17例境外输入性新冠肺炎确诊病例。截至3月27日24时，累计报告境外输入性确诊病例146例，现有16例境外输入性疑似病例正在排查中。3月27日0—24时，无新增本地新冠肺炎确诊病例。截至3月27日24时，累计报告本地确诊病例339例，现有本地疑似病例0例。                ']"
      ]
     },
     "execution_count": 6,
     "metadata": {},
     "output_type": "execute_result"
    }
   ],
   "source": [
    "data = soup.findAll(text=re.compile(\"截至.+\"))\n",
    "data"
   ]
  },
  {
   "cell_type": "code",
   "execution_count": 7,
   "metadata": {},
   "outputs": [
    {
     "data": {
      "text/plain": [
       "'2020-03-28 02:33'"
      ]
     },
     "execution_count": 7,
     "metadata": {},
     "output_type": "execute_result"
    }
   ],
   "source": [
    "for s in data:\n",
    "    m = re.search(\"截至.*(202\\d-\\d+-\\d+ \\d+:\\d+)\", s)\n",
    "    if m is not None:\n",
    "        data_date_time = m.group(1)\n",
    "data_date_time"
   ]
  },
  {
   "cell_type": "markdown",
   "metadata": {},
   "source": [
    "### Extract data (summary)"
   ]
  },
  {
   "cell_type": "code",
   "execution_count": 8,
   "metadata": {},
   "outputs": [
    {
     "data": {
      "text/plain": [
       "['try { window.getStatisticsService = {\"id\":1,\"createTime\":1579537899000,\"modifyTime\":1585362802000,\"infectSource\":\"该字段已替换为说明2\",\"passWay\":\"该字段已替换为说明3\",\"imgUrl\":\"https://img1.dxycdn.com/2020/0201/450/3394153392393266839-135.png\",\"dailyPic\":\"https://img1.dxycdn.com/2020/0211/763/3395998884005602079-135.png,https://img1.dxycdn.com/2020/0211/362/3395998896890788910-135.png,https://img1.dxycdn.com/2020/0211/365/3395998905480724211-135.png,https://img1.dxycdn.com/2020/0211/364/3395998916217859778-135.png,https://img1.dxycdn.com/2020/0211/922/3395998929103046444-135.png,https://img1.dxycdn.com/2020/0211/089/3395998939840182072-135.png\",\"dailyPics\":[\"https://img1.dxycdn.com/2020/0211/763/3395998884005602079-135.png\",\"https://img1.dxycdn.com/2020/0211/362/3395998896890788910-135.png\",\"https://img1.dxycdn.com/2020/0211/365/3395998905480724211-135.png\",\"https://img1.dxycdn.com/2020/0211/364/3395998916217859778-135.png\",\"https://img1.dxycdn.com/2020/0211/922/3395998929103046444-135.png\",\"https://img1.dxycdn.com/2020/0211/089/3395998939840182072-135.png\"],\"summary\":\"\",\"deleted\":false,\"countRemark\":\"\",\"currentConfirmedCount\":3790,\"confirmedCount\":82213,\"suspectedCount\":649,\"curedCount\":75122,\"deadCount\":3301,\"seriousCount\":921,\"suspectedIncr\":54,\"currentConfirmedIncr\":-253,\"confirmedIncr\":135,\"curedIncr\":385,\"deadIncr\":3,\"seriousIncr\":-113,\"virus\":\"该字段已替换为说明1\",\"remark1\":\"易感人群：人群普遍易感。老年人及有基础疾病者感染后病情较重，儿童及婴幼儿也有发病\",\"remark2\":\"潜伏期：一般为 3～7 天，最长不超过 14 天，潜伏期内可能存在传染性，其中无症状病例传染性非常罕见\",\"remark3\":\"宿主：野生动物，可能为中华菊头蝠\",\"remark4\":\"\",\"remark5\":\"\",\"note1\":\"病毒：SARS-CoV-2，其导致疾病命名 COVID-19\",\"note2\":\"传染源：新冠肺炎的患者。无症状感染者也可能成为传染源。\",\"note3\":\"传播途径：经呼吸道飞沫、接触传播是主要的传播途径。气溶胶传播和消化道等传播途径尚待明确。\",\"generalRemark\":\"1. 3 月 12 日国家卫健委确诊补订遗漏 12 例确诊病例（非 12 日新增），暂无具体省份信息。 2. 浙江省 12 例外省治愈暂无具体省份信息。\",\"abroadRemark\":\"\",\"marquee\":[{\"id\":1788,\"marqueeLabel\":\"警惕\",\"marqueeContent\":\"时隔 34 天，浙江再次出现新冠本土病例\",\"marqueeLink\":\"https://dxy.me/4lP37e\"},{\"id\":1789,\"marqueeLabel\":\"国策\",\"marqueeContent\":\"缩减航班，限制入境，中国开始关门\",\"marqueeLink\":\"https://dxy.me/yzpVFK\"},{\"id\":1790,\"marqueeLabel\":\"突发\",\"marqueeContent\":\"英国首相鲍里斯·约翰逊确诊新冠肺炎\",\"marqueeLink\":\"https://dxy.me/Tky6Eh\"}],\"quanguoTrendChart\":[{\"imgUrl\":\"https://img1.dxycdn.com/2020/0324/278/3403801351376518263-135.png\",\"title\":\"新增疑似/新增确诊\"},{\"imgUrl\":\"https://img1.dxycdn.com/2020/0324/812/3403847865872006755-135.png\",\"title\":\"境外输入\"},{\"imgUrl\":\"https://img1.dxycdn.com/2020/0324/547/3403847848692336947-135.png\",\"title\":\"现存确诊\"},{\"imgUrl\":\"https://img1.dxycdn.com/2020/0324/775/3403801407211095604-135.png\",\"title\":\"治愈\"},{\"imgUrl\":\"https://img1.dxycdn.com/2020/0324/250/3403801424390727199-135.png\",\"title\":\"死亡\"}],\"hbFeiHbTrendChart\":[{\"imgUrl\":\"https://img1.dxycdn.com/2020/0326/624/3404177508906904585-135.png\",\"title\":\"非湖北新增确诊\"},{\"imgUrl\":\"https://img1.dxycdn.com/2020/0326/777/3404177532529485065-135.png\",\"title\":\"湖北新增确诊\"},{\"imgUrl\":\"https://img1.dxycdn.com/2020/0326/376/3404177556151805921-135.png\",\"title\":\"湖北现存确诊\"},{\"imgUrl\":\"https://img1.dxycdn.com/2020/0326/527/3404177575478899995-135.png\",\"title\":\"非湖北现存确诊\"},{\"imgUrl\":\"https://img1.dxycdn.com/2020/0326/419/3404177596953996726-135.png\",\"title\":\"治愈/死亡\"}],\"foreignTrendChart\":[{\"imgUrl\":\"https://img1.dxycdn.com/2020/0320/702/3403079914982117944-135.png\",\"title\":\"国外新增确诊\"},{\"imgUrl\":\"https://img1.dxycdn.com/2020/0320/396/3403079925719536561-135.png\",\"title\":\"国外累计确诊\"},{\"imgUrl\":\"https://img1.dxycdn.com/2020/0320/139/3403079936457225524-135.png\",\"title\":\"国外死亡\"}],\"importantForeignTrendChart\":[{\"imgUrl\":\"https://img1.dxycdn.com/2020/0320/450/3403077453965772423-135.png\",\"title\":\"重点国家新增确诊\"},{\"imgUrl\":\"https://img1.dxycdn.com/2020/0320/276/3403077462555980566-135.png\",\"title\":\"日本新增确诊\"},{\"imgUrl\":\"https://img1.dxycdn.com/2020/0320/340/3403077473293125942-135.png\",\"title\":\"意大利新增确诊\"},{\"imgUrl\":\"https://img1.dxycdn.com/2020/0320/723/3403077481883334043-135.png\",\"title\":\"伊朗新增确诊\"},{\"imgUrl\":\"https://img1.dxycdn.com/2020/0320/266/3403077492620752785-135.png\",\"title\":\"美国新增确诊\"},{\"imgUrl\":\"https://img1.dxycdn.com/2020/0320/870/3403077503358171278-135.png\",\"title\":\"法国新增确诊\"},{\"imgUrl\":\"https://img1.dxycdn.com/2020/0320/053/3403077511947832997-135.png\",\"title\":\"德国新增确诊\"},{\"imgUrl\":\"https://img1.dxycdn.com/2020/0320/878/3403077520537768006-135.png\",\"title\":\"西班牙新增确诊\"},{\"imgUrl\":\"https://img1.dxycdn.com/2020/0320/443/3403077531275186665-135.png\",\"title\":\"韩国新增确诊\"}],\"foreignTrendChartGlobal\":[{\"imgUrl\":\"https://img1.dxycdn.com/2020/0319/740/3402859458605738923-135.png\",\"title\":\"Daily New Cases\"},{\"imgUrl\":\"https://img1.dxycdn.com/2020/0319/351/3402856772103846114-135.png\",\"title\":\"Total Confirmed Cases\"},{\"imgUrl\":\"https://img1.dxycdn.com/2020/0319/236/3402856782841001789-135.png\",\"title\":\"Total Deaths Cases\"}],\"importantForeignTrendChartGlobal\":[{\"imgUrl\":\"https://img1.dxycdn.com/2020/0319/122/3402856838675578578-135.png\",\"title\":\"Daily New Cases\"},{\"imgUrl\":\"https://img1.dxycdn.com/2020/0319/685/3402856849412997239-135.png\",\"title\":\"Japan\"},{\"imgUrl\":\"https://img1.dxycdn.com/2020/0319/477/3402856860150678804-135.png\",\"title\":\"Italy\"},{\"imgUrl\":\"https://img1.dxycdn.com/2020/0319/454/3402856873035581014-135.png\",\"title\":\"Iran\"},{\"imgUrl\":\"https://img1.dxycdn.com/2020/0319/022/3402856883772999714-135.png\",\"title\":\"U.S.A.\"},{\"imgUrl\":\"https://img1.dxycdn.com/2020/0319/529/3402856894510155506-135.png\",\"title\":\"France\"},{\"imgUrl\":\"https://img1.dxycdn.com/2020/0319/211/3402856905247574064-135.png\",\"title\":\"Germany\"},{\"imgUrl\":\"https://img1.dxycdn.com/2020/0319/054/3402856913837508985-135.png\",\"title\":\"Spain\"},{\"imgUrl\":\"https://img1.dxycdn.com/2020/0319/088/3402856928870157852-135.png\",\"title\":\"Republic of Korea\"}],\"foreignStatistics\":{\"currentConfirmedCount\":425186,\"confirmedCount\":498468,\"suspectedCount\":4,\"curedCount\":49865,\"deadCount\":23417,\"suspectedIncr\":0,\"currentConfirmedIncr\":0,\"confirmedIncr\":0,\"curedIncr\":0,\"deadIncr\":0},\"globalStatistics\":{\"currentConfirmedCount\":428976,\"confirmedCount\":580681,\"curedCount\":124987,\"deadCount\":26718,\"currentConfirmedIncr\":-253,\"confirmedIncr\":135,\"curedIncr\":385,\"deadIncr\":3},\"globalOtherTrendChartData\":\"https://file1.dxycdn.com/2020/0328/444/3404536465093935064-135.json\"}}catch(e){}']"
      ]
     },
     "execution_count": 8,
     "metadata": {},
     "output_type": "execute_result"
    }
   ],
   "source": [
    "data = soup.findAll(text=re.compile('\\\"summary.+\\\"confirmedCount\\\":\\d'))\n",
    "\n",
    "data\n"
   ]
  },
  {
   "cell_type": "code",
   "execution_count": 9,
   "metadata": {},
   "outputs": [],
   "source": [
    "m = re.search('\\\"confirmedCount\\\":(\\d+)', data[0])\n",
    "summary_confirmed_count = int(m.group(1))\n",
    "\n",
    "\n",
    "m = re.search('\\\"curedCount\\\":(\\d+)', data[0])\n",
    "summary_cured_count = int(m.group(1))\n",
    "\n",
    "m = re.search('\\\"deadCount\\\":(\\d+)', data[0])\n",
    "summary_dead_count = int(m.group(1))\n"
   ]
  },
  {
   "cell_type": "code",
   "execution_count": 10,
   "metadata": {},
   "outputs": [
    {
     "data": {
      "text/html": [
       "<div>\n",
       "<style scoped>\n",
       "    .dataframe tbody tr th:only-of-type {\n",
       "        vertical-align: middle;\n",
       "    }\n",
       "\n",
       "    .dataframe tbody tr th {\n",
       "        vertical-align: top;\n",
       "    }\n",
       "\n",
       "    .dataframe thead th {\n",
       "        text-align: right;\n",
       "    }\n",
       "</style>\n",
       "<table border=\"1\" class=\"dataframe\">\n",
       "  <thead>\n",
       "    <tr style=\"text-align: right;\">\n",
       "      <th></th>\n",
       "      <th>datetime</th>\n",
       "      <th>confirmed</th>\n",
       "      <th>cured</th>\n",
       "      <th>dead</th>\n",
       "    </tr>\n",
       "  </thead>\n",
       "  <tbody>\n",
       "    <tr>\n",
       "      <th>0</th>\n",
       "      <td>2020-03-28 02:33</td>\n",
       "      <td>82213</td>\n",
       "      <td>75122</td>\n",
       "      <td>3301</td>\n",
       "    </tr>\n",
       "  </tbody>\n",
       "</table>\n",
       "</div>"
      ],
      "text/plain": [
       "           datetime  confirmed  cured  dead\n",
       "0  2020-03-28 02:33      82213  75122  3301"
      ]
     },
     "execution_count": 10,
     "metadata": {},
     "output_type": "execute_result"
    }
   ],
   "source": [
    "# make a dataframe\n",
    "df = pd.DataFrame({\n",
    "    'datetime': data_date_time,\n",
    "    'confirmed': summary_confirmed_count,\n",
    "    'cured': summary_cured_count,\n",
    "    'dead': summary_dead_count\n",
    "}, index=[0])\n",
    "df"
   ]
  },
  {
   "cell_type": "markdown",
   "metadata": {},
   "source": [
    "### Save to file"
   ]
  },
  {
   "cell_type": "code",
   "execution_count": 11,
   "metadata": {},
   "outputs": [],
   "source": [
    "from pathlib import Path\n",
    "csv_file = '../data/china-summary-cases.csv'\n",
    "\n",
    "if Path(csv_file).exists():\n",
    "    # read out the old data - then merge with new data and remove duplicates based on datetime\n",
    "    old_df = pd.read_csv(csv_file)\n",
    "    df = df.append(old_df)\n",
    "df.drop_duplicates(subset=['datetime'], inplace=True)"
   ]
  },
  {
   "cell_type": "code",
   "execution_count": 12,
   "metadata": {},
   "outputs": [],
   "source": [
    "df.sort_values(by=['datetime'], inplace=True)\n",
    "\n",
    "df.to_csv(csv_file, index=False)\n"
   ]
  },
  {
   "cell_type": "markdown",
   "metadata": {},
   "source": [
    "### Plot graph"
   ]
  },
  {
   "cell_type": "code",
   "execution_count": 13,
   "metadata": {},
   "outputs": [],
   "source": [
    "import seaborn as sns\n",
    "import matplotlib.pyplot as plt\n",
    "from pandas.plotting import register_matplotlib_converters\n",
    "register_matplotlib_converters()\n",
    "\n",
    "png_file = '../images/china-summary-cases.png'\n",
    "# convert to pd.datetime\n",
    "df['datetime_idx'] = pd.to_datetime(df['datetime'], format=\"%Y-%m-%d %H:%M\")\n",
    "\n",
    "df.set_index('datetime_idx', inplace=True)\n",
    "df.drop(['datetime'], axis=1, inplace=True)\n"
   ]
  },
  {
   "cell_type": "code",
   "execution_count": 14,
   "metadata": {},
   "outputs": [
    {
     "data": {
      "text/html": [
       "<div>\n",
       "<style scoped>\n",
       "    .dataframe tbody tr th:only-of-type {\n",
       "        vertical-align: middle;\n",
       "    }\n",
       "\n",
       "    .dataframe tbody tr th {\n",
       "        vertical-align: top;\n",
       "    }\n",
       "\n",
       "    .dataframe thead th {\n",
       "        text-align: right;\n",
       "    }\n",
       "</style>\n",
       "<table border=\"1\" class=\"dataframe\">\n",
       "  <thead>\n",
       "    <tr style=\"text-align: right;\">\n",
       "      <th></th>\n",
       "      <th>confirmed</th>\n",
       "      <th>cured</th>\n",
       "      <th>dead</th>\n",
       "    </tr>\n",
       "    <tr>\n",
       "      <th>datetime_idx</th>\n",
       "      <th></th>\n",
       "      <th></th>\n",
       "      <th></th>\n",
       "    </tr>\n",
       "  </thead>\n",
       "  <tbody>\n",
       "    <tr>\n",
       "      <th>2020-02-02 10:22:00</th>\n",
       "      <td>14483</td>\n",
       "      <td>379</td>\n",
       "      <td>304</td>\n",
       "    </tr>\n",
       "    <tr>\n",
       "      <th>2020-02-02 10:28:00</th>\n",
       "      <td>14483</td>\n",
       "      <td>380</td>\n",
       "      <td>304</td>\n",
       "    </tr>\n",
       "    <tr>\n",
       "      <th>2020-02-02 11:19:00</th>\n",
       "      <td>14489</td>\n",
       "      <td>385</td>\n",
       "      <td>304</td>\n",
       "    </tr>\n",
       "    <tr>\n",
       "      <th>2020-02-02 11:54:00</th>\n",
       "      <td>14489</td>\n",
       "      <td>397</td>\n",
       "      <td>304</td>\n",
       "    </tr>\n",
       "    <tr>\n",
       "      <th>2020-02-02 15:01:00</th>\n",
       "      <td>14490</td>\n",
       "      <td>430</td>\n",
       "      <td>304</td>\n",
       "    </tr>\n",
       "    <tr>\n",
       "      <th>...</th>\n",
       "      <td>...</td>\n",
       "      <td>...</td>\n",
       "      <td>...</td>\n",
       "    </tr>\n",
       "    <tr>\n",
       "      <th>2020-03-27 22:31:00</th>\n",
       "      <td>82164</td>\n",
       "      <td>74743</td>\n",
       "      <td>3298</td>\n",
       "    </tr>\n",
       "    <tr>\n",
       "      <th>2020-03-27 23:11:00</th>\n",
       "      <td>82164</td>\n",
       "      <td>74743</td>\n",
       "      <td>3298</td>\n",
       "    </tr>\n",
       "    <tr>\n",
       "      <th>2020-03-28 01:05:00</th>\n",
       "      <td>82213</td>\n",
       "      <td>75122</td>\n",
       "      <td>3301</td>\n",
       "    </tr>\n",
       "    <tr>\n",
       "      <th>2020-03-28 01:34:00</th>\n",
       "      <td>82213</td>\n",
       "      <td>75122</td>\n",
       "      <td>3301</td>\n",
       "    </tr>\n",
       "    <tr>\n",
       "      <th>2020-03-28 02:33:00</th>\n",
       "      <td>82213</td>\n",
       "      <td>75122</td>\n",
       "      <td>3301</td>\n",
       "    </tr>\n",
       "  </tbody>\n",
       "</table>\n",
       "<p>838 rows × 3 columns</p>\n",
       "</div>"
      ],
      "text/plain": [
       "                     confirmed  cured  dead\n",
       "datetime_idx                               \n",
       "2020-02-02 10:22:00      14483    379   304\n",
       "2020-02-02 10:28:00      14483    380   304\n",
       "2020-02-02 11:19:00      14489    385   304\n",
       "2020-02-02 11:54:00      14489    397   304\n",
       "2020-02-02 15:01:00      14490    430   304\n",
       "...                        ...    ...   ...\n",
       "2020-03-27 22:31:00      82164  74743  3298\n",
       "2020-03-27 23:11:00      82164  74743  3298\n",
       "2020-03-28 01:05:00      82213  75122  3301\n",
       "2020-03-28 01:34:00      82213  75122  3301\n",
       "2020-03-28 02:33:00      82213  75122  3301\n",
       "\n",
       "[838 rows x 3 columns]"
      ]
     },
     "execution_count": 14,
     "metadata": {},
     "output_type": "execute_result"
    }
   ],
   "source": [
    "df"
   ]
  },
  {
   "cell_type": "code",
   "execution_count": 15,
   "metadata": {
    "scrolled": true
   },
   "outputs": [
    {
     "data": {
      "image/png": "[encoded data removed]",
      "text/plain": [
       "<Figure size 1008x1008 with 3 Axes>"
      ]
     },
     "metadata": {},
     "output_type": "display_data"
    }
   ],
   "source": [
    "if df.shape[0]>1:\n",
    "    # line chart when having at least a few points\n",
    "    sns.set(rc={'figure.figsize':(14,14)})\n",
    "    sns.set(style=\"whitegrid\")\n",
    "\n",
    "    fig, axs = plt.subplots(nrows=3)\n",
    "\n",
    "    sns.lineplot(x=df.index, y = 'confirmed', data=df, ax= axs[0], estimator=None, color='orange')\n",
    "    sns.lineplot(x=df.index, y = 'cured', data=df, ax= axs[1], estimator=None, color='green')\n",
    "    sns.lineplot(x=df.index, y = 'dead', data=df, ax= axs[2], estimator=None, color='darkred')\n",
    "\n",
    "    for ax in axs:\n",
    "        ax.set_xlabel('')\n",
    "        ax.tick_params(axis='x', labelrotation=30)\n",
    "else:\n",
    "\n",
    "    ax = df.plot(kind='bar', stacked=True, figsize=(9,6))\n",
    "    fig = ax.get_figure()\n",
    "    ax.set_xlabel('')\n",
    "    for label in ax.get_xticklabels():\n",
    "        label.set_rotation(0) \n"
   ]
  },
  {
   "cell_type": "code",
   "execution_count": 16,
   "metadata": {},
   "outputs": [],
   "source": [
    "fig.savefig(png_file)"
   ]
  },
  {
   "cell_type": "code",
   "execution_count": null,
   "metadata": {},
   "outputs": [],
   "source": []
  },
  {
   "cell_type": "code",
   "execution_count": null,
   "metadata": {},
   "outputs": [],
   "source": []
  }
 ],
 "metadata": {
  "kernelspec": {
   "display_name": "Python 3",
   "language": "python",
   "name": "python3"
  },
  "language_info": {
   "codemirror_mode": {
    "name": "ipython",
    "version": 3
   },
   "file_extension": ".py",
   "mimetype": "text/x-python",
   "name": "python",
   "nbconvert_exporter": "python",
   "pygments_lexer": "ipython3",
   "version": "3.7.6"
  }
 },
 "nbformat": 4,
 "nbformat_minor": 2
}
