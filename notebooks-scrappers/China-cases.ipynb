{
 "cells": [
  {
   "cell_type": "code",
   "execution_count": 1,
   "metadata": {},
   "outputs": [],
   "source": [
    "import pandas as pd\n",
    "import requests\n",
    "from bs4 import BeautifulSoup\n",
    "import re\n",
    "from datetime import datetime\n",
    "from selenium import webdriver\n",
    "from selenium.webdriver.chrome.options import Options  \n"
   ]
  },
  {
   "cell_type": "code",
   "execution_count": 2,
   "metadata": {},
   "outputs": [
    {
     "data": {
      "text/plain": [
       "datetime.datetime(2020, 4, 1, 7, 8, 0, 429936)"
      ]
     },
     "execution_count": 2,
     "metadata": {},
     "output_type": "execute_result"
    }
   ],
   "source": [
    "datetime.now()"
   ]
  },
  {
   "cell_type": "code",
   "execution_count": 3,
   "metadata": {},
   "outputs": [],
   "source": [
    "chrome_options = Options()  \n",
    "chrome_options.add_argument(\"--headless\")  \n",
    "chrome_options.add_argument(\"--no-sandbox\")\n",
    "\n",
    "driver = webdriver.Chrome('chromedriver', options=chrome_options)"
   ]
  },
  {
   "cell_type": "code",
   "execution_count": 4,
   "metadata": {},
   "outputs": [],
   "source": [
    "url = 'https://ncov.dxy.cn/ncovh5/view/pneumonia'\n",
    "driver.get(url)"
   ]
  },
  {
   "cell_type": "markdown",
   "metadata": {},
   "source": [
    "### Extract date"
   ]
  },
  {
   "cell_type": "code",
   "execution_count": 5,
   "metadata": {},
   "outputs": [],
   "source": [
    "content = driver.page_source\n",
    "soup =BeautifulSoup(content, 'lxml')\n"
   ]
  },
  {
   "cell_type": "code",
   "execution_count": 6,
   "metadata": {},
   "outputs": [
    {
     "data": {
      "text/plain": [
       "['try { window.getTimelineService1 = [{\"id\":21798,\"pubDate\":1585721122000,\"pubDateStr\":\"12分钟前\",\"title\":\"内蒙古3月31日新增境外输入新冠肺炎确诊病例4例\",\"summary\":\"截至2020年3月31日24时，内蒙古自治区已连续42日无新增本土新冠肺炎确诊病例、无新增本土新冠肺炎疑似病例。2020年3月31日7时至4月1日7时，内蒙古自治区报告新增境外输入新冠肺炎确诊病例4例、无新增疑似病例。截至2020年4月1日7时，内蒙古自治区累计报告境外输入新冠肺炎确诊病例36例、疑似病例24例。截至2020年3月31日24时，内蒙古自治区无症状感染者1例，现在隔离医学观察中。\",\"infoSource\":\"央视新闻app\",\"sourceUrl\":\"http://app.cctv.com/special/cportal/detail/arti/index.html?id=ArtiXuAqrgN4iZKhyiKpvSxF200401&isfromapp=1\",\"provinceId\":\"\"},{\"id\":21790,\"pubDate\":1585720094000,\"pubDateStr\":\"29分钟前\",\"title\":\"截至3月31日24时河南省新型冠状病毒肺炎疫情最新情况\",\"summary\":\"2020年3月31日0时-24时，河南省无新增新冠肺炎确诊病例。截至3月31日24时，全省累计报告本地新冠肺炎确诊病例1273例，累计死亡病例22例，累计出院病例1250例。截至3月31日24时，全省累计报告境外输入确诊病例3例，其中出院1例。目前在院隔离治疗3例（本地确诊病例1例、境外输入病例2例，均为轻症）。自1月21日起，河南省已累计追踪到密切接触者40019人。3月31日解除观察39人，目前有435人正在接受医学观察。尚在医学观察无症状感染者12例，其中本地报告2例，境外输入报告10例。\",\"infoSource\":\"河南卫健委\",\"sourceUrl\":\"http://www.hnwsjsw.gov.cn/contents/858/49196.shtml\",\"provinceId\":\"\"},{\"id\":21789,\"pubDate\":1585719420000,\"pubDateStr\":\"41分钟前\",\"title\":\"福建省新型冠状病毒肺炎疫情情况                \",\"summary\":\"3月31日0—24时，福建省报告新增境外输入确诊病例2例，其中：日本输入1例（福州市报告）；菲律宾输入1例（漳州市报告）。\\\\n当日报告新增境外输入疑似病例0例。\\\\n当日报告新增境外输入无症状感染者1例，为菲律宾输入（泉州市报告）。\\\\n截至3月31日24时，福建省累计报告境外输入确诊病例49例（已治愈出院病例2例、目前住院病例47例，无死亡病例）；现有报告境外输入疑似病例1例；现有境外输入无症状感染者尚在接受集中隔离医学观察14例。\",\"infoSource\":\"福建卫健委\",\"sourceUrl\":\"http://wjw.fujian.gov.cn/ztzl/gzbufk/yqtb/202004/t20200401_5226294.htm\",\"provinceId\":\"\"},{\"id\":21782,\"pubDate\":1585719166000,\"pubDateStr\":\"45分钟前\",\"title\":\"\\u200b黑龙江4月1日最新通报：无新增新冠肺炎确诊病例 现有无症状感染者19例\",\"summary\":\"2020年3月31日0-24时，黑龙江省无新增确诊病例，无新增疑似病例，无新增境外输入确诊病例。省内当日发热门诊诊疗人数964人。截至3月31日24时，累计报告境外输入确诊病例2例。黑龙江追踪到境外密切接触者358人，已解除医学观察107人，尚有251人正在接受医学观察。黑龙江现有无症状感染者19例，其中省内2例，境外输入17例。（总台央视记者 王跃军 张艺馨）\",\"infoSource\":\"央视新闻app\",\"sourceUrl\":\"http://app.cctv.com/special/cportal/detail/arti/index.html?id=ArtipfOgTQU7P4Vqj11AV16o200401&isfromapp=1\",\"provinceId\":\"\"},{\"id\":21779,\"pubDate\":1585718804000,\"pubDateStr\":\"51分钟前\",\"title\":\"湖北4月1日最新通报：新增1例境外输入新冠肺炎确诊病例 新增无症状感染者47例\",\"summary\":\"2020年3月31日0—24时，湖北新增新冠肺炎确诊病例1例，为武汉市境外输入病例（由无症状感染者转为确诊病例）。湖北新增病亡6例，其中：武汉市5例、荆门市1例，其他15个市州均为0例。湖北新增出院173例，其中：武汉市173例，其他16个市州均为0例。截至2020年3月31日24时，湖北累计报告新冠肺炎确诊病例67802例。\",\"infoSource\":\"央视新闻app\",\"sourceUrl\":\"http://app.cctv.com/special/cportal/detail/arti/index.html?id=ArtitkYtigEpeFoIuv4BvTrS200401&isfromapp=1\",\"provinceId\":\"\"},{\"id\":21777,\"pubDate\":1585718560000,\"pubDateStr\":\"55分钟前\",\"title\":\"最新疫情通报\",\"summary\":\"2020年3月31日0-24时,黑龙江省无新增确诊病例，无新增疑似病例，无新增境外输入确诊病例。省内当日发热门诊诊疗人数964人。\\\\n截至3月31日24时,累计报告境外输入确诊病例2例。全省追踪到境外密切接触者358人，已解除医学观察107人，尚有251人正在接受医学观察。\\\\n全省现有无症状感染者19例，其中省内2例，境外输入17例。\\\\t\\\\t\",\"infoSource\":\"黑龙江卫健委\",\"sourceUrl\":\"http://wsjkw.hlj.gov.cn/index.php/Home/Zwgk/show/newsid/8175/navid/42/stypeid/\",\"provinceId\":\"\"},{\"id\":21778,\"pubDate\":1585718416000,\"pubDateStr\":\"57分钟前\",\"title\":\"广东省3月31日新冠肺炎新增确诊病例11例 其中境外输入10例\",\"summary\":\"3月31日0-24时，广东省新增境外输入确诊病例10例，分别为广州报告9例（美国输入3例，尼日利亚输入2例，菲律宾、马来西亚、英国、安哥拉各输入1例）、佛山报告1例（美国输入）。广东省累计报告境外输入病例148例。新增本土确诊病例1例。31日新增无症状感染者1例，为深圳报告湖北输入。\",\"infoSource\":\"央视新闻app\",\"sourceUrl\":\"http://app.cctv.com/special/cportal/detail/arti/index.html?id=ArtiBquCPmqDYhvsrZXdmQou200401&isfromapp=1\",\"provinceId\":\"\"},{\"id\":21772,\"pubDate\":1585717659000,\"pubDateStr\":\"1小时前\",\"title\":\"乌兹别克斯坦新增5例新冠肺炎确诊病例 累计确诊172例\",\"summary\":\"4月1日，乌兹别克斯坦卫生部1日发布消息称，截至当地时间1日上午9时，乌兹别克斯坦新增5例新冠肺炎确诊病例，累计确诊172例，其中2人死亡，7人治愈。乌政府已要求所有民众非必要情况不得离开居住点，出门必须佩戴口罩，遵守防疫要求。但过去24小时，仅在乌首都塔什干已经发生400多起违规事件，警方已经按规定进行罚款和拘留。（总台记者 曹胜济）\",\"infoSource\":\"央视新闻app\",\"sourceUrl\":\"http://app.cctv.com/special/cportal/detail/arti/index.html?id=ArtiQnSkxXZAnQJLGt9MZp0B200401&isfromapp=1\",\"provinceId\":\"\"}]}catch(e){}',\n",
       " '截至北京时间 2020-04-01 06:40',\n",
       " '截至北京时间 2020-04-01 06:40',\n",
       " '截至2020年3月31日24时，内蒙古自治区已连续42日无新增本土新冠肺炎确诊病例、无新增本土新冠肺炎疑似病例。2020年3月31日7时至4月1日7时，内蒙古自治区报告新增境外输入新冠肺炎确诊病例4例、无新增疑似病例。截至2020年4月1日7时，内蒙古自治区累计报告境外输入新冠肺炎确诊病例36例、疑似病例24例。截至2020年3月31日24时，内蒙古自治区无症状感染者1例，现在隔离医学观察中。',\n",
       " '截至3月31日24时河南省新型冠状病毒肺炎疫情最新情况',\n",
       " '2020年3月31日0时-24时，河南省无新增新冠肺炎确诊病例。截至3月31日24时，全省累计报告本地新冠肺炎确诊病例1273例，累计死亡病例22例，累计出院病例1250例。截至3月31日24时，全省累计报告境外输入确诊病例3例，其中出院1例。目前在院隔离治疗3例（本地确诊病例1例、境外输入病例2例，均为轻症）。自1月21日起，河南省已累计追踪到密切接触者40019人。3月31日解除观察39人，目前有435人正在接受医学观察。尚在医学观察无症状感染者12例，其中本地报告2例，境外输入报告10例。',\n",
       " '3月31日0—24时，福建省报告新增境外输入确诊病例2例，其中：日本输入1例（福州市报告）；菲律宾输入1例（漳州市报告）。\\n当日报告新增境外输入疑似病例0例。\\n当日报告新增境外输入无症状感染者1例，为菲律宾输入（泉州市报告）。\\n截至3月31日24时，福建省累计报告境外输入确诊病例49例（已治愈出院病例2例、目前住院病例47例，无死亡病例）；现有报告境外输入疑似病例1例；现有境外输入无症状感染者尚在接受集中隔离医学观察14例。',\n",
       " '2020年3月31日0-24时，黑龙江省无新增确诊病例，无新增疑似病例，无新增境外输入确诊病例。省内当日发热门诊诊疗人数964人。截至3月31日24时，累计报告境外输入确诊病例2例。黑龙江追踪到境外密切接触者358人，已解除医学观察107人，尚有251人正在接受医学观察。黑龙江现有无症状感染者19例，其中省内2例，境外输入17例。（总台央视记者 王跃军 张艺馨）',\n",
       " '2020年3月31日0—24时，湖北新增新冠肺炎确诊病例1例，为武汉市境外输入病例（由无症状感染者转为确诊病例）。湖北新增病亡6例，其中：武汉市5例、荆门市1例，其他15个市州均为0例。湖北新增出院173例，其中：武汉市173例，其他16个市州均为0例。截至2020年3月31日24时，湖北累计报告新冠肺炎确诊病例67802例。',\n",
       " '2020年3月31日0-24时,黑龙江省无新增确诊病例，无新增疑似病例，无新增境外输入确诊病例。省内当日发热门诊诊疗人数964人。\\n截至3月31日24时,累计报告境外输入确诊病例2例。全省追踪到境外密切接触者358人，已解除医学观察107人，尚有251人正在接受医学观察。\\n全省现有无症状感染者19例，其中省内2例，境外输入17例。\\t\\t',\n",
       " '4月1日，乌兹别克斯坦卫生部1日发布消息称，截至当地时间1日上午9时，乌兹别克斯坦新增5例新冠肺炎确诊病例，累计确诊172例，其中2人死亡，7人治愈。乌政府已要求所有民众非必要情况不得离开居住点，出门必须佩戴口罩，遵守防疫要求。但过去24小时，仅在乌首都塔什干已经发生400多起违规事件，警方已经按规定进行罚款和拘留。（总台记者 曹胜济）']"
      ]
     },
     "execution_count": 6,
     "metadata": {},
     "output_type": "execute_result"
    }
   ],
   "source": [
    "data = soup.findAll(text=re.compile(\"截至.+\"))\n",
    "data"
   ]
  },
  {
   "cell_type": "code",
   "execution_count": 7,
   "metadata": {},
   "outputs": [
    {
     "data": {
      "text/plain": [
       "'2020-04-01 06:40'"
      ]
     },
     "execution_count": 7,
     "metadata": {},
     "output_type": "execute_result"
    }
   ],
   "source": [
    "for s in data:\n",
    "    m = re.search(\"截至.*(202\\d-\\d+-\\d+ \\d+:\\d+)\", s)\n",
    "    if m is not None:\n",
    "        data_date_time = m.group(1)\n",
    "data_date_time"
   ]
  },
  {
   "cell_type": "markdown",
   "metadata": {},
   "source": [
    "### Extract data (summary)"
   ]
  },
  {
   "cell_type": "code",
   "execution_count": 8,
   "metadata": {},
   "outputs": [
    {
     "data": {
      "text/plain": [
       "['try { window.getStatisticsService = {\"id\":1,\"createTime\":1579537899000,\"modifyTime\":1585723251000,\"infectSource\":\"该字段已替换为说明2\",\"passWay\":\"该字段已替换为说明3\",\"imgUrl\":\"https://img1.dxycdn.com/2020/0201/450/3394153392393266839-135.png\",\"dailyPic\":\"https://img1.dxycdn.com/2020/0211/763/3395998884005602079-135.png,https://img1.dxycdn.com/2020/0211/362/3395998896890788910-135.png,https://img1.dxycdn.com/2020/0211/365/3395998905480724211-135.png,https://img1.dxycdn.com/2020/0211/364/3395998916217859778-135.png,https://img1.dxycdn.com/2020/0211/922/3395998929103046444-135.png,https://img1.dxycdn.com/2020/0211/089/3395998939840182072-135.png\",\"dailyPics\":[\"https://img1.dxycdn.com/2020/0211/763/3395998884005602079-135.png\",\"https://img1.dxycdn.com/2020/0211/362/3395998896890788910-135.png\",\"https://img1.dxycdn.com/2020/0211/365/3395998905480724211-135.png\",\"https://img1.dxycdn.com/2020/0211/364/3395998916217859778-135.png\",\"https://img1.dxycdn.com/2020/0211/922/3395998929103046444-135.png\",\"https://img1.dxycdn.com/2020/0211/089/3395998939840182072-135.png\"],\"summary\":\"\",\"deleted\":false,\"countRemark\":\"\",\"currentConfirmedCount\":2895,\"confirmedCount\":82631,\"suspectedCount\":806,\"curedCount\":76415,\"deadCount\":3321,\"seriousCount\":466,\"suspectedIncr\":35,\"currentConfirmedIncr\":-111,\"confirmedIncr\":86,\"curedIncr\":190,\"deadIncr\":7,\"seriousIncr\":-62,\"virus\":\"该字段已替换为说明1\",\"remark1\":\"易感人群：人群普遍易感。老年人及有基础疾病者感染后病情较重，儿童及婴幼儿也有发病\",\"remark2\":\"潜伏期：一般为 3～7 天，最长不超过 14 天，潜伏期内可能存在传染性，其中无症状病例传染性非常罕见\",\"remark3\":\"宿主：野生动物，可能为中华菊头蝠\",\"remark4\":\"\",\"remark5\":\"\",\"note1\":\"病毒：SARS-CoV-2，其导致疾病命名 COVID-19\",\"note2\":\"传染源：新冠肺炎的患者。无症状感染者也可能成为传染源。\",\"note3\":\"传播途径：经呼吸道飞沫、接触传播是主要的传播途径。气溶胶传播和消化道等传播途径尚待明确。\",\"generalRemark\":\"1. 3 月 12 日国家卫健委确诊补订遗漏 12 例确诊病例（非 12 日新增），暂无具体省份信息。 2. 浙江省 12 例外省治愈暂无具体省份信息。\",\"abroadRemark\":\"\",\"marquee\":[{\"id\":1842,\"marqueeLabel\":\"悬而未决\",\"marqueeContent\":\"新冠病毒，这九个问题我们尚无答案\",\"marqueeLink\":\"https://dxy.me/ErQKok\"},{\"id\":1843,\"marqueeLabel\":\"透明公开\",\"marqueeContent\":\"4 月 1 日起公布无症状感染者情况\",\"marqueeLink\":\"https://dxy.me/TbYdJL\"},{\"id\":1844,\"marqueeLabel\":\"数字新冠\",\"marqueeContent\":\"3 月 31 日，世界因新冠而变\",\"marqueeLink\":\"https://dxy.me/alW4rS\"}],\"quanguoTrendChart\":[{\"imgUrl\":\"https://img1.dxycdn.com/2020/0324/278/3403801351376518263-135.png\",\"title\":\"新增疑似/新增确诊\"},{\"imgUrl\":\"https://img1.dxycdn.com/2020/0324/812/3403847865872006755-135.png\",\"title\":\"境外输入\"},{\"imgUrl\":\"https://img1.dxycdn.com/2020/0324/547/3403847848692336947-135.png\",\"title\":\"现存确诊\"},{\"imgUrl\":\"https://img1.dxycdn.com/2020/0324/775/3403801407211095604-135.png\",\"title\":\"治愈\"},{\"imgUrl\":\"https://img1.dxycdn.com/2020/0324/250/3403801424390727199-135.png\",\"title\":\"死亡\"}],\"hbFeiHbTrendChart\":[{\"imgUrl\":\"https://img1.dxycdn.com/2020/0326/624/3404177508906904585-135.png\",\"title\":\"非湖北新增确诊\"},{\"imgUrl\":\"https://img1.dxycdn.com/2020/0326/777/3404177532529485065-135.png\",\"title\":\"湖北新增确诊\"},{\"imgUrl\":\"https://img1.dxycdn.com/2020/0326/376/3404177556151805921-135.png\",\"title\":\"湖北现存确诊\"},{\"imgUrl\":\"https://img1.dxycdn.com/2020/0326/527/3404177575478899995-135.png\",\"title\":\"非湖北现存确诊\"},{\"imgUrl\":\"https://img1.dxycdn.com/2020/0326/419/3404177596953996726-135.png\",\"title\":\"治愈/死亡\"}],\"foreignTrendChart\":[{\"imgUrl\":\"https://img1.dxycdn.com/2020/0320/702/3403079914982117944-135.png\",\"title\":\"国外新增确诊\"},{\"imgUrl\":\"https://img1.dxycdn.com/2020/0320/396/3403079925719536561-135.png\",\"title\":\"国外累计确诊\"},{\"imgUrl\":\"https://img1.dxycdn.com/2020/0320/139/3403079936457225524-135.png\",\"title\":\"国外死亡\"}],\"importantForeignTrendChart\":[{\"imgUrl\":\"https://img1.dxycdn.com/2020/0320/450/3403077453965772423-135.png\",\"title\":\"重点国家新增确诊\"},{\"imgUrl\":\"https://img1.dxycdn.com/2020/0320/276/3403077462555980566-135.png\",\"title\":\"日本新增确诊\"},{\"imgUrl\":\"https://img1.dxycdn.com/2020/0320/340/3403077473293125942-135.png\",\"title\":\"意大利新增确诊\"},{\"imgUrl\":\"https://img1.dxycdn.com/2020/0320/723/3403077481883334043-135.png\",\"title\":\"伊朗新增确诊\"},{\"imgUrl\":\"https://img1.dxycdn.com/2020/0320/266/3403077492620752785-135.png\",\"title\":\"美国新增确诊\"},{\"imgUrl\":\"https://img1.dxycdn.com/2020/0320/870/3403077503358171278-135.png\",\"title\":\"法国新增确诊\"},{\"imgUrl\":\"https://img1.dxycdn.com/2020/0320/053/3403077511947832997-135.png\",\"title\":\"德国新增确诊\"},{\"imgUrl\":\"https://img1.dxycdn.com/2020/0320/878/3403077520537768006-135.png\",\"title\":\"西班牙新增确诊\"},{\"imgUrl\":\"https://img1.dxycdn.com/2020/0320/443/3403077531275186665-135.png\",\"title\":\"韩国新增确诊\"}],\"foreignTrendChartGlobal\":[{\"imgUrl\":\"https://img1.dxycdn.com/2020/0319/740/3402859458605738923-135.png\",\"title\":\"Daily New Cases\"},{\"imgUrl\":\"https://img1.dxycdn.com/2020/0319/351/3402856772103846114-135.png\",\"title\":\"Total Confirmed Cases\"},{\"imgUrl\":\"https://img1.dxycdn.com/2020/0319/236/3402856782841001789-135.png\",\"title\":\"Total Deaths Cases\"}],\"importantForeignTrendChartGlobal\":[{\"imgUrl\":\"https://img1.dxycdn.com/2020/0319/122/3402856838675578578-135.png\",\"title\":\"Daily New Cases\"},{\"imgUrl\":\"https://img1.dxycdn.com/2020/0319/685/3402856849412997239-135.png\",\"title\":\"Japan\"},{\"imgUrl\":\"https://img1.dxycdn.com/2020/0319/477/3402856860150678804-135.png\",\"title\":\"Italy\"},{\"imgUrl\":\"https://img1.dxycdn.com/2020/0319/454/3402856873035581014-135.png\",\"title\":\"Iran\"},{\"imgUrl\":\"https://img1.dxycdn.com/2020/0319/022/3402856883772999714-135.png\",\"title\":\"U.S.A.\"},{\"imgUrl\":\"https://img1.dxycdn.com/2020/0319/529/3402856894510155506-135.png\",\"title\":\"France\"},{\"imgUrl\":\"https://img1.dxycdn.com/2020/0319/211/3402856905247574064-135.png\",\"title\":\"Germany\"},{\"imgUrl\":\"https://img1.dxycdn.com/2020/0319/054/3402856913837508985-135.png\",\"title\":\"Spain\"},{\"imgUrl\":\"https://img1.dxycdn.com/2020/0319/088/3402856928870157852-135.png\",\"title\":\"Republic of Korea\"}],\"foreignStatistics\":{\"currentConfirmedCount\":634498,\"confirmedCount\":763878,\"suspectedCount\":4,\"curedCount\":90966,\"deadCount\":38414,\"suspectedIncr\":0,\"currentConfirmedIncr\":3019,\"confirmedIncr\":3532,\"curedIncr\":238,\"deadIncr\":275},\"globalStatistics\":{\"currentConfirmedCount\":637393,\"confirmedCount\":846509,\"curedCount\":167381,\"deadCount\":41735,\"currentConfirmedIncr\":2908,\"confirmedIncr\":3618,\"curedIncr\":428,\"deadIncr\":282},\"globalOtherTrendChartData\":\"https://file1.dxycdn.com/2020/0401/955/3405278646180191761-135.json\"}}catch(e){}']"
      ]
     },
     "execution_count": 8,
     "metadata": {},
     "output_type": "execute_result"
    }
   ],
   "source": [
    "data = soup.findAll(text=re.compile('\\\"summary.+\\\"confirmedCount\\\":\\d'))\n",
    "\n",
    "data\n"
   ]
  },
  {
   "cell_type": "code",
   "execution_count": 9,
   "metadata": {},
   "outputs": [],
   "source": [
    "m = re.search('\\\"confirmedCount\\\":(\\d+)', data[0])\n",
    "summary_confirmed_count = int(m.group(1))\n",
    "\n",
    "\n",
    "m = re.search('\\\"curedCount\\\":(\\d+)', data[0])\n",
    "summary_cured_count = int(m.group(1))\n",
    "\n",
    "m = re.search('\\\"deadCount\\\":(\\d+)', data[0])\n",
    "summary_dead_count = int(m.group(1))\n"
   ]
  },
  {
   "cell_type": "code",
   "execution_count": 10,
   "metadata": {},
   "outputs": [
    {
     "data": {
      "text/html": [
       "<div>\n",
       "<style scoped>\n",
       "    .dataframe tbody tr th:only-of-type {\n",
       "        vertical-align: middle;\n",
       "    }\n",
       "\n",
       "    .dataframe tbody tr th {\n",
       "        vertical-align: top;\n",
       "    }\n",
       "\n",
       "    .dataframe thead th {\n",
       "        text-align: right;\n",
       "    }\n",
       "</style>\n",
       "<table border=\"1\" class=\"dataframe\">\n",
       "  <thead>\n",
       "    <tr style=\"text-align: right;\">\n",
       "      <th></th>\n",
       "      <th>datetime</th>\n",
       "      <th>confirmed</th>\n",
       "      <th>cured</th>\n",
       "      <th>dead</th>\n",
       "    </tr>\n",
       "  </thead>\n",
       "  <tbody>\n",
       "    <tr>\n",
       "      <th>0</th>\n",
       "      <td>2020-04-01 06:40</td>\n",
       "      <td>82631</td>\n",
       "      <td>76415</td>\n",
       "      <td>3321</td>\n",
       "    </tr>\n",
       "  </tbody>\n",
       "</table>\n",
       "</div>"
      ],
      "text/plain": [
       "           datetime  confirmed  cured  dead\n",
       "0  2020-04-01 06:40      82631  76415  3321"
      ]
     },
     "execution_count": 10,
     "metadata": {},
     "output_type": "execute_result"
    }
   ],
   "source": [
    "# make a dataframe\n",
    "df = pd.DataFrame({\n",
    "    'datetime': data_date_time,\n",
    "    'confirmed': summary_confirmed_count,\n",
    "    'cured': summary_cured_count,\n",
    "    'dead': summary_dead_count\n",
    "}, index=[0])\n",
    "df"
   ]
  },
  {
   "cell_type": "markdown",
   "metadata": {},
   "source": [
    "### Save to file"
   ]
  },
  {
   "cell_type": "code",
   "execution_count": 11,
   "metadata": {},
   "outputs": [],
   "source": [
    "from pathlib import Path\n",
    "csv_file = '../data/china-summary-cases.csv'\n",
    "\n",
    "if Path(csv_file).exists():\n",
    "    # read out the old data - then merge with new data and remove duplicates based on datetime\n",
    "    old_df = pd.read_csv(csv_file)\n",
    "    df = df.append(old_df)\n",
    "df.drop_duplicates(subset=['datetime'], inplace=True)"
   ]
  },
  {
   "cell_type": "code",
   "execution_count": 12,
   "metadata": {},
   "outputs": [],
   "source": [
    "df.sort_values(by=['datetime'], inplace=True)\n",
    "\n",
    "df.to_csv(csv_file, index=False)\n"
   ]
  },
  {
   "cell_type": "markdown",
   "metadata": {},
   "source": [
    "### Plot graph"
   ]
  },
  {
   "cell_type": "code",
   "execution_count": 13,
   "metadata": {},
   "outputs": [],
   "source": [
    "import seaborn as sns\n",
    "import matplotlib.pyplot as plt\n",
    "from pandas.plotting import register_matplotlib_converters\n",
    "register_matplotlib_converters()\n",
    "\n",
    "png_file = '../images/china-summary-cases.png'\n",
    "# convert to pd.datetime\n",
    "df['datetime_idx'] = pd.to_datetime(df['datetime'], format=\"%Y-%m-%d %H:%M\")\n",
    "\n",
    "df.set_index('datetime_idx', inplace=True)\n",
    "df.drop(['datetime'], axis=1, inplace=True)\n"
   ]
  },
  {
   "cell_type": "code",
   "execution_count": 14,
   "metadata": {},
   "outputs": [
    {
     "data": {
      "text/html": [
       "<div>\n",
       "<style scoped>\n",
       "    .dataframe tbody tr th:only-of-type {\n",
       "        vertical-align: middle;\n",
       "    }\n",
       "\n",
       "    .dataframe tbody tr th {\n",
       "        vertical-align: top;\n",
       "    }\n",
       "\n",
       "    .dataframe thead th {\n",
       "        text-align: right;\n",
       "    }\n",
       "</style>\n",
       "<table border=\"1\" class=\"dataframe\">\n",
       "  <thead>\n",
       "    <tr style=\"text-align: right;\">\n",
       "      <th></th>\n",
       "      <th>confirmed</th>\n",
       "      <th>cured</th>\n",
       "      <th>dead</th>\n",
       "    </tr>\n",
       "    <tr>\n",
       "      <th>datetime_idx</th>\n",
       "      <th></th>\n",
       "      <th></th>\n",
       "      <th></th>\n",
       "    </tr>\n",
       "  </thead>\n",
       "  <tbody>\n",
       "    <tr>\n",
       "      <th>2020-02-02 10:22:00</th>\n",
       "      <td>14483</td>\n",
       "      <td>379</td>\n",
       "      <td>304</td>\n",
       "    </tr>\n",
       "    <tr>\n",
       "      <th>2020-02-02 10:28:00</th>\n",
       "      <td>14483</td>\n",
       "      <td>380</td>\n",
       "      <td>304</td>\n",
       "    </tr>\n",
       "    <tr>\n",
       "      <th>2020-02-02 11:19:00</th>\n",
       "      <td>14489</td>\n",
       "      <td>385</td>\n",
       "      <td>304</td>\n",
       "    </tr>\n",
       "    <tr>\n",
       "      <th>2020-02-02 11:54:00</th>\n",
       "      <td>14489</td>\n",
       "      <td>397</td>\n",
       "      <td>304</td>\n",
       "    </tr>\n",
       "    <tr>\n",
       "      <th>2020-02-02 15:01:00</th>\n",
       "      <td>14490</td>\n",
       "      <td>430</td>\n",
       "      <td>304</td>\n",
       "    </tr>\n",
       "    <tr>\n",
       "      <th>...</th>\n",
       "      <td>...</td>\n",
       "      <td>...</td>\n",
       "      <td>...</td>\n",
       "    </tr>\n",
       "    <tr>\n",
       "      <th>2020-04-01 02:06:00</th>\n",
       "      <td>82617</td>\n",
       "      <td>76239</td>\n",
       "      <td>3315</td>\n",
       "    </tr>\n",
       "    <tr>\n",
       "      <th>2020-04-01 02:20:00</th>\n",
       "      <td>82617</td>\n",
       "      <td>76239</td>\n",
       "      <td>3315</td>\n",
       "    </tr>\n",
       "    <tr>\n",
       "      <th>2020-04-01 04:42:00</th>\n",
       "      <td>82617</td>\n",
       "      <td>76239</td>\n",
       "      <td>3315</td>\n",
       "    </tr>\n",
       "    <tr>\n",
       "      <th>2020-04-01 05:55:00</th>\n",
       "      <td>82631</td>\n",
       "      <td>76415</td>\n",
       "      <td>3321</td>\n",
       "    </tr>\n",
       "    <tr>\n",
       "      <th>2020-04-01 06:40:00</th>\n",
       "      <td>82631</td>\n",
       "      <td>76415</td>\n",
       "      <td>3321</td>\n",
       "    </tr>\n",
       "  </tbody>\n",
       "</table>\n",
       "<p>902 rows × 3 columns</p>\n",
       "</div>"
      ],
      "text/plain": [
       "                     confirmed  cured  dead\n",
       "datetime_idx                               \n",
       "2020-02-02 10:22:00      14483    379   304\n",
       "2020-02-02 10:28:00      14483    380   304\n",
       "2020-02-02 11:19:00      14489    385   304\n",
       "2020-02-02 11:54:00      14489    397   304\n",
       "2020-02-02 15:01:00      14490    430   304\n",
       "...                        ...    ...   ...\n",
       "2020-04-01 02:06:00      82617  76239  3315\n",
       "2020-04-01 02:20:00      82617  76239  3315\n",
       "2020-04-01 04:42:00      82617  76239  3315\n",
       "2020-04-01 05:55:00      82631  76415  3321\n",
       "2020-04-01 06:40:00      82631  76415  3321\n",
       "\n",
       "[902 rows x 3 columns]"
      ]
     },
     "execution_count": 14,
     "metadata": {},
     "output_type": "execute_result"
    }
   ],
   "source": [
    "df"
   ]
  },
  {
   "cell_type": "code",
   "execution_count": 15,
   "metadata": {
    "scrolled": true
   },
   "outputs": [
    {
     "data": {
      "image/png": "[encoded data removed]",
      "text/plain": [
       "<Figure size 1008x1008 with 3 Axes>"
      ]
     },
     "metadata": {},
     "output_type": "display_data"
    }
   ],
   "source": [
    "if df.shape[0]>1:\n",
    "    # line chart when having at least a few points\n",
    "    sns.set(rc={'figure.figsize':(14,14)})\n",
    "    sns.set(style=\"whitegrid\")\n",
    "\n",
    "    fig, axs = plt.subplots(nrows=3)\n",
    "\n",
    "    sns.lineplot(x=df.index, y = 'confirmed', data=df, ax= axs[0], estimator=None, color='orange')\n",
    "    sns.lineplot(x=df.index, y = 'cured', data=df, ax= axs[1], estimator=None, color='green')\n",
    "    sns.lineplot(x=df.index, y = 'dead', data=df, ax= axs[2], estimator=None, color='darkred')\n",
    "\n",
    "    for ax in axs:\n",
    "        ax.set_xlabel('')\n",
    "        ax.tick_params(axis='x', labelrotation=30)\n",
    "else:\n",
    "\n",
    "    ax = df.plot(kind='bar', stacked=True, figsize=(9,6))\n",
    "    fig = ax.get_figure()\n",
    "    ax.set_xlabel('')\n",
    "    for label in ax.get_xticklabels():\n",
    "        label.set_rotation(0) \n"
   ]
  },
  {
   "cell_type": "code",
   "execution_count": 16,
   "metadata": {},
   "outputs": [],
   "source": [
    "fig.savefig(png_file)"
   ]
  },
  {
   "cell_type": "code",
   "execution_count": null,
   "metadata": {},
   "outputs": [],
   "source": []
  },
  {
   "cell_type": "code",
   "execution_count": null,
   "metadata": {},
   "outputs": [],
   "source": []
  }
 ],
 "metadata": {
  "kernelspec": {
   "display_name": "Python 3",
   "language": "python",
   "name": "python3"
  },
  "language_info": {
   "codemirror_mode": {
    "name": "ipython",
    "version": 3
   },
   "file_extension": ".py",
   "mimetype": "text/x-python",
   "name": "python",
   "nbconvert_exporter": "python",
   "pygments_lexer": "ipython3",
   "version": "3.7.6"
  }
 },
 "nbformat": 4,
 "nbformat_minor": 2
}
