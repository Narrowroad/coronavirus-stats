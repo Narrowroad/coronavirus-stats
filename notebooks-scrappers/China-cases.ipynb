{
 "cells": [
  {
   "cell_type": "code",
   "execution_count": 1,
   "metadata": {},
   "outputs": [],
   "source": [
    "import pandas as pd\n",
    "import requests\n",
    "from bs4 import BeautifulSoup\n",
    "import re\n",
    "from datetime import datetime\n",
    "from selenium import webdriver\n",
    "from selenium.webdriver.chrome.options import Options  \n"
   ]
  },
  {
   "cell_type": "code",
   "execution_count": 2,
   "metadata": {},
   "outputs": [
    {
     "data": {
      "text/plain": [
       "datetime.datetime(2020, 4, 5, 11, 8, 36, 46382)"
      ]
     },
     "execution_count": 2,
     "metadata": {},
     "output_type": "execute_result"
    }
   ],
   "source": [
    "datetime.now()"
   ]
  },
  {
   "cell_type": "code",
   "execution_count": 3,
   "metadata": {},
   "outputs": [],
   "source": [
    "chrome_options = Options()  \n",
    "chrome_options.add_argument(\"--headless\")  \n",
    "chrome_options.add_argument(\"--no-sandbox\")\n",
    "\n",
    "driver = webdriver.Chrome('chromedriver', options=chrome_options)"
   ]
  },
  {
   "cell_type": "code",
   "execution_count": 4,
   "metadata": {},
   "outputs": [],
   "source": [
    "url = 'https://ncov.dxy.cn/ncovh5/view/pneumonia'\n",
    "driver.get(url)"
   ]
  },
  {
   "cell_type": "markdown",
   "metadata": {},
   "source": [
    "### Extract date"
   ]
  },
  {
   "cell_type": "code",
   "execution_count": 5,
   "metadata": {},
   "outputs": [],
   "source": [
    "content = driver.page_source\n",
    "soup =BeautifulSoup(content, 'lxml')\n"
   ]
  },
  {
   "cell_type": "code",
   "execution_count": 6,
   "metadata": {},
   "outputs": [
    {
     "data": {
      "text/plain": [
       "['try { window.getTimelineService1 = [{\"id\":25400,\"pubDate\":1586084334000,\"pubDateStr\":\"8分钟前\",\"title\":\"纳米比亚新增2例新冠肺炎确诊病例 累计确诊16例\",\"summary\":\"当地时间4月5日，纳米比亚卫生部长尚古拉宣布，纳米比亚境内新增2例新冠肺炎确诊病例，截至目前该国累计共确诊16例，其中3例已康复。\",\"infoSource\":\"央视新闻app\",\"sourceUrl\":\"http://app.cctv.com/special/cportal/detail/arti/index.html?id=Artist8X1SzqPtd7248t48VY200405&isfromapp=1\",\"provinceId\":\"\"},{\"id\":25391,\"pubDate\":1586083555000,\"pubDateStr\":\"21分钟前\",\"title\":\"\\u200b塞内加尔新增3例新冠肺炎确诊病例 累计确诊222例\",\"summary\":\"当地时间5日，塞内加尔卫生部发布最新通告称，在92份检测样本中，新发现3例确诊病例，其中2名为接触病例，1名为社区传播感染病例。此外又有10名患者已经康复。截至目前，塞内加尔已有累计确诊病例222例，其中82例已被治愈，2例死亡。\",\"infoSource\":\"央视新闻app\",\"sourceUrl\":\"http://app.cctv.com/special/cportal/detail/arti/index.html?id=Arti9JiRHoBJQGICQvyBwrY1200405&isfromapp=1\",\"provinceId\":\"\"},{\"id\":25392,\"pubDate\":1586083553000,\"pubDateStr\":\"21分钟前\",\"title\":\"匈牙利新增新冠肺炎确诊病例55例\\xa0累计确诊733例\",\"summary\":\"当地时间4月5日，匈牙利官方新冠疫情信息网站公布，境内新增新冠肺炎确诊病例55例，累计确诊733例。2名80岁以上的感染者死亡，累计死亡病例增至34例，新增治愈病例8例，累计治愈66例。\",\"infoSource\":\"央视新闻app\",\"sourceUrl\":\"http://app.cctv.com/special/cportal/detail/arti/index.html?id=ArtioTKCNbzEuPwMjurpJKBd200405&isfromapp=1\",\"provinceId\":\"\"},{\"id\":25393,\"pubDate\":1586083509000,\"pubDateStr\":\"22分钟前\",\"title\":\"\\u200b俄罗斯新增658例新冠肺炎确诊病例 累计确诊5389例\",\"summary\":\"据俄罗斯新冠病毒防疫官网发布的信息，截至莫斯科时间4月5日13时30分，俄罗斯境内新增658例新冠肺炎感染病例，其中莫斯科新增536例。全俄共累计确诊5389例，其中莫斯科累计确诊3893，为全俄疫情最严重的地区。目前累计治愈病例355人，累计死亡45例。\",\"infoSource\":\"央视新闻app\",\"sourceUrl\":\"http://app.cctv.com/special/cportal/detail/arti/index.html?id=ArtiIVLtKvHluTwjQdmi5B90200405&isfromapp=1\",\"provinceId\":\"\"},{\"id\":25384,\"pubDate\":1586082774000,\"pubDateStr\":\"34分钟前\",\"title\":\"南苏丹确诊首例新冠肺炎患者 系非洲确诊第51国\",\"summary\":\"当地时间4月5日，南苏丹报告该国首例新冠肺炎确诊病例。这名患者是一位29岁的女性，当地时间2月28日从荷兰经埃塞俄比亚首都亚的斯亚贝巴转机来到南苏丹。\",\"infoSource\":\"央视新闻app\",\"sourceUrl\":\"http://app.cctv.com/special/cportal/detail/arti/index.html?id=ArtiMm1VbuAD2jzyVAuzyCSD200405&isfromapp=1\",\"provinceId\":\"\"},{\"id\":25378,\"pubDate\":1586082085000,\"pubDateStr\":\"46分钟前\",\"title\":\"埃塞俄比亚新增新冠肺炎确诊病例5例 累计43例\",\"summary\":\"当地时间4月5日，埃塞俄比亚卫生部发布声明，新增5例新冠肺炎确诊病例，包括3名埃塞俄比亚人、1名厄立特里亚人和1名利比亚人，4例为境外输入病例，1例为密切接触病例。目前埃塞俄比亚已完成测试1843次，累计确诊病例43人，重症1人，治愈4人，确诊后离境2人，现存病例37人，暂无死亡记录。\",\"infoSource\":\"央视新闻app\",\"sourceUrl\":\"http://app.cctv.com/special/cportal/detail/arti/index.html?id=ArtizZATaID4egnhQQ1xEE0a200405&isfromapp=1\",\"provinceId\":\"\"},{\"id\":25380,\"pubDate\":1586081976000,\"pubDateStr\":\"48分钟前\",\"title\":\"瑞士新增822例新冠肺炎确诊病例，累计21100例\",\"summary\":\"据瑞士卫生部最新数据，截至当地时间5日上午8时，该国新增822例新冠肺炎确诊病例，累计确诊21100例。新增死亡19例，累计死亡559例。\",\"infoSource\":\"人民日报海外版\",\"sourceUrl\":\"http://m.weibo.cn/3057540037/4490415628041412\",\"provinceId\":\"\"},{\"id\":25379,\"pubDate\":1586081864000,\"pubDateStr\":\"49分钟前\",\"title\":\"南苏丹确诊首例新冠肺炎病例\",\"summary\":\"据路透社报道，南苏丹副总统宣布，该国确诊首例新冠肺炎病例。这名29岁患者于2月28日自埃塞俄比亚抵达南苏丹，目前正在接受隔离治疗。\\\\n\",\"infoSource\":\"人民日报海外版\",\"sourceUrl\":\"http://m.weibo.cn/3057540037/4490415158114126\",\"provinceId\":\"\"},{\"id\":25372,\"pubDate\":1586081000000,\"pubDateStr\":\"1小时前\",\"title\":\"印尼政府要求所有公民外出佩戴口罩\",\"summary\":\"印尼政府要求所有公民遵照世界卫生组织的建议在离开居所外出时佩戴口罩。卫生部发言人尤里表示，人们每次外出都要戴口罩，因为新冠肺炎病毒正在各地肆虐。\",\"infoSource\":\"央视新闻app\",\"sourceUrl\":\"http://app.cctv.com/special/cportal/detail/arti/index.html?id=Artiv29OdT1io86KgF1Ak2xi200405&isfromapp=1\",\"provinceId\":\"\"},{\"id\":25373,\"pubDate\":1586080945000,\"pubDateStr\":\"1小时前\",\"title\":\"黎巴嫩新冠肺炎确诊总人数上升至527人\",\"summary\":\"黎巴嫩卫生部官网公布，截至当地时间5日中午新冠肺炎确诊总人数为527人，较前一日增加7人。卫生部公布，过去24小时内有4名患者被治愈，治愈总人数已达54人，死亡病例增加1例，总数为18例，确诊患者中危重病例维持26例不变，疑似病例数字目前为520例，另外有1079人处于隔离状态。\",\"infoSource\":\"央视新闻app\",\"sourceUrl\":\"http://app.cctv.com/special/cportal/detail/arti/index.html?id=Artieo853l7QIBf8zNln0Neq200405&isfromapp=1\",\"provinceId\":\"\"},{\"id\":25366,\"pubDate\":1586080492000,\"pubDateStr\":\"1小时前\",\"title\":\"科威特单日新增77例新冠肺炎确诊病例  累计556例\",\"summary\":\"当地时间5日，科威特卫生部宣布，该国新增77例新冠肺炎确诊病例，单日确诊数量创新高。目前，科威特累计确诊病例556例，治愈病例99例，死亡病例1例。\",\"infoSource\":\"央视新闻app\",\"sourceUrl\":\"http://app.cctv.com/special/cportal/detail/arti/index.html?id=Arti5EwQa8p3eithbfjJlIq2200405&isfromapp=1\",\"provinceId\":\"\"},{\"id\":25361,\"pubDate\":1586080077000,\"pubDateStr\":\"1小时前\",\"title\":\"比利时新增新冠肺炎确诊病例1260例 累计19961例\",\"summary\":\"据比利时官方媒体当地时间4月5日上午报道，在过去24小时内，比利时境内新增新冠肺炎确诊病例1260例，新增死亡病例164例。截至目前，比利时累计确诊病例19961例，累计死亡1447例，5735名患者在医院接受治疗，其中1261名病患正在接受重症监护。\",\"infoSource\":\"央视新闻app\",\"sourceUrl\":\"http://app.cctv.com/special/cportal/detail/arti/index.html?id=ArtiRTd83EgUg52LpEq8xAem200405&isfromapp=1\",\"provinceId\":\"\"},{\"id\":25358,\"pubDate\":1586079660000,\"pubDateStr\":\"1小时前\",\"title\":\"西班牙新增6023例新冠肺炎确诊病例 累计确诊130759例\",\"summary\":\"当地时间5日，据西班牙卫生部官网通报，过去24小时，该国新增6023例新冠肺炎确诊病例，累计确诊130759例；累计死亡12418例，24小时新增死亡674例。\",\"infoSource\":\"央视新闻app\",\"sourceUrl\":\"http://app.cctv.com/special/cportal/detail/arti/index.html?id=ArtiCDdjKlAv3DNzo7qpsSkh200405&isfromapp=1\",\"provinceId\":\"\"},{\"id\":25350,\"pubDate\":1586079277000,\"pubDateStr\":\"1小时前\",\"title\":\"马来西亚新增179例新冠肺炎确诊病例 累计确诊3662例\",\"summary\":\"当地时间5日，马来西亚宣布新增179例新冠肺炎确诊病例，累计确诊3662例。新增死亡病例4例，累计死亡61例。\\xa0马来西亚卫生总监努尔·希萨姆·阿卜杜拉介绍说，今日（5日）新增的179例中，有46例和吉隆坡大城堡宗教聚会有关。今日共有90人治愈出院，累计治愈病例1005例。\",\"infoSource\":\"央视新闻app\",\"sourceUrl\":\"http://app.cctv.com/special/cportal/detail/arti/index.html?id=Artih9YaJqOJr94LwEZ5RizK200405&isfromapp=1\",\"provinceId\":\"\"},{\"id\":25345,\"pubDate\":1586079045000,\"pubDateStr\":\"1小时前\",\"title\":\"科威特新增77例新冠肺炎确诊病例 累计556例\",\"summary\":\"科威特卫生部当地时间5日下午发布通告，确认境内新增77例新型冠状病毒肺炎确诊病例，并出现6例死亡病例。\",\"infoSource\":\"央视新闻app\",\"sourceUrl\":\"http://app.cctv.com/special/cportal/detail/arti/index.html?id=ArtixaOgrQC2ROIXaZ1G8H6n200405&isfromapp=1\",\"provinceId\":\"\"},{\"id\":25348,\"pubDate\":1586078751000,\"pubDateStr\":\"1小时前\",\"title\":\"日本新增新冠肺炎确诊病例244例 累计3743例\",\"summary\":\"据日本放送协会消息，根据日本各地的地方自治团体和厚生劳动省通报的数据，截至当地时间5日下午6点，当天新增感染者244人，累计新冠肺炎确诊病例达到3743人。\",\"infoSource\":\"央视新闻app\",\"sourceUrl\":\"http://app.cctv.com/special/cportal/detail/arti/index.html?id=ArtiYk6aSG1541943wxQVwkm200405&isfromapp=1\",\"provinceId\":\"\"},{\"id\":25342,\"pubDate\":1586078711000,\"pubDateStr\":\"1小时前\",\"title\":\"阿富汗新增新冠肺炎确诊病例38例  累计337例\",\"summary\":\"阿富汗公共卫生部当地时间5日晚发布消息，过去24小时当地新增38例新冠肺炎确诊病例，其中10例来自喀布尔省，10例来自发现阿首例感染者的赫拉特省。截至目前，包括4名确诊的北约驻阿军人在内，阿累计新冠肺炎确诊病例达337例。\",\"infoSource\":\"央视新闻app\",\"sourceUrl\":\"http://app.cctv.com/special/cportal/detail/arti/index.html?id=ArtiexpxLTE1J2hBlzp3eYoT200405&isfromapp=1\",\"provinceId\":\"\"},{\"id\":25344,\"pubDate\":1586078633000,\"pubDateStr\":\"1小时前\",\"title\":\"印尼新冠肺炎确诊病例新增181例 累计达2273例\",\"summary\":\"4月5日，印尼卫生部宣布新增181例新冠肺炎确诊病例，全国累计确诊病例2273人，含198例死亡病例。\",\"infoSource\":\"央视新闻app\",\"sourceUrl\":\"http://app.cctv.com/special/cportal/detail/arti/index.html?id=ArtirdqZCG9d27ktUwqiE7ly200405&isfromapp=1\",\"provinceId\":\"\"},{\"id\":25338,\"pubDate\":1586077872000,\"pubDateStr\":\"1小时前\",\"title\":\"白俄罗斯新增新冠肺炎确诊病例43例 累计394例\",\"summary\":\"当地时间4月5日，白俄罗斯卫生部发布消息称，截至本月4日，白俄罗斯累计确诊新冠肺炎病例394例，较2日发布数据新增43例。截至目前，白俄罗斯共报告新冠肺炎死亡5例，治愈41例。\",\"infoSource\":\"央视新闻app\",\"sourceUrl\":\"http://app.cctv.com/special/cportal/detail/arti/index.html?id=Arti8YA6nn9Ry36Vf2LBzrpQ200405&isfromapp=1\",\"provinceId\":\"\"},{\"id\":25334,\"pubDate\":1586077494000,\"pubDateStr\":\"2小时前\",\"title\":\"加纳新增9例新冠肺炎确诊病例 累计确诊214例\",\"summary\":\"当地时间4月5日，加纳卫生部发布消息称新增9例新冠肺炎确诊病例。目前加纳累计确诊214例，死亡5例，3例通过治疗完全康复，49例已恢复到无明显症状，现在居家隔离中，现存确诊病例206例均在接受隔离治疗。\",\"infoSource\":\"央视新闻app\",\"sourceUrl\":\"http://app.cctv.com/special/cportal/detail/arti/index.html?id=Artikx9QOuS1IG0Cmk4yxbly200405&isfromapp=1\",\"provinceId\":\"\"}]}catch(e){}',\n",
       " '截至北京时间 2020-04-05 10:53',\n",
       " '截至北京时间 2020-04-05 10:53',\n",
       " '当地时间4月5日，纳米比亚卫生部长尚古拉宣布，纳米比亚境内新增2例新冠肺炎确诊病例，截至目前该国累计共确诊16例，其中3例已康复。',\n",
       " '当地时间5日，塞内加尔卫生部发布最新通告称，在92份检测样本中，新发现3例确诊病例，其中2名为接触病例，1名为社区传播感染病例。此外又有10名患者已经康复。截至目前，塞内加尔已有累计确诊病例222例，其中82例已被治愈，2例死亡。',\n",
       " '据俄罗斯新冠病毒防疫官网发布的信息，截至莫斯科时间4月5日13时30分，俄罗斯境内新增658例新冠肺炎感染病例，其中莫斯科新增536例。全俄共累计确诊5389例，其中莫斯科累计确诊3893，为全俄疫情最严重的地区。目前累计治愈病例355人，累计死亡45例。',\n",
       " '据瑞士卫生部最新数据，截至当地时间5日上午8时，该国新增822例新冠肺炎确诊病例，累计确诊21100例。新增死亡19例，累计死亡559例。',\n",
       " '黎巴嫩卫生部官网公布，截至当地时间5日中午新冠肺炎确诊总人数为527人，较前一日增加7人。卫生部公布，过去24小时内有4名患者被治愈，治愈总人数已达54人，死亡病例增加1例，总数为18例，确诊患者中危重病例维持26例不变，疑似病例数字目前为520例，另外有1079人处于隔离状态。',\n",
       " '据比利时官方媒体当地时间4月5日上午报道，在过去24小时内，比利时境内新增新冠肺炎确诊病例1260例，新增死亡病例164例。截至目前，比利时累计确诊病例19961例，累计死亡1447例，5735名患者在医院接受治疗，其中1261名病患正在接受重症监护。',\n",
       " '据日本放送协会消息，根据日本各地的地方自治团体和厚生劳动省通报的数据，截至当地时间5日下午6点，当天新增感染者244人，累计新冠肺炎确诊病例达到3743人。',\n",
       " '阿富汗公共卫生部当地时间5日晚发布消息，过去24小时当地新增38例新冠肺炎确诊病例，其中10例来自喀布尔省，10例来自发现阿首例感染者的赫拉特省。截至目前，包括4名确诊的北约驻阿军人在内，阿累计新冠肺炎确诊病例达337例。',\n",
       " '当地时间4月5日，白俄罗斯卫生部发布消息称，截至本月4日，白俄罗斯累计确诊新冠肺炎病例394例，较2日发布数据新增43例。截至目前，白俄罗斯共报告新冠肺炎死亡5例，治愈41例。']"
      ]
     },
     "execution_count": 6,
     "metadata": {},
     "output_type": "execute_result"
    }
   ],
   "source": [
    "data = soup.findAll(text=re.compile(\"截至.+\"))\n",
    "data"
   ]
  },
  {
   "cell_type": "code",
   "execution_count": 7,
   "metadata": {},
   "outputs": [
    {
     "data": {
      "text/plain": [
       "'2020-04-05 10:53'"
      ]
     },
     "execution_count": 7,
     "metadata": {},
     "output_type": "execute_result"
    }
   ],
   "source": [
    "for s in data:\n",
    "    m = re.search(\"截至.*(202\\d-\\d+-\\d+ \\d+:\\d+)\", s)\n",
    "    if m is not None:\n",
    "        data_date_time = m.group(1)\n",
    "data_date_time"
   ]
  },
  {
   "cell_type": "markdown",
   "metadata": {},
   "source": [
    "### Extract data (summary)"
   ]
  },
  {
   "cell_type": "code",
   "execution_count": 8,
   "metadata": {},
   "outputs": [
    {
     "data": {
      "text/plain": [
       "['try { window.getStatisticsService = {\"id\":1,\"createTime\":1579537899000,\"modifyTime\":1586084016000,\"infectSource\":\"该字段已替换为说明2\",\"passWay\":\"该字段已替换为说明3\",\"imgUrl\":\"https://img1.dxycdn.com/2020/0201/450/3394153392393266839-135.png\",\"dailyPic\":\"https://img1.dxycdn.com/2020/0211/763/3395998884005602079-135.png,https://img1.dxycdn.com/2020/0211/362/3395998896890788910-135.png,https://img1.dxycdn.com/2020/0211/365/3395998905480724211-135.png,https://img1.dxycdn.com/2020/0211/364/3395998916217859778-135.png,https://img1.dxycdn.com/2020/0211/922/3395998929103046444-135.png,https://img1.dxycdn.com/2020/0211/089/3395998939840182072-135.png\",\"dailyPics\":[\"https://img1.dxycdn.com/2020/0211/763/3395998884005602079-135.png\",\"https://img1.dxycdn.com/2020/0211/362/3395998896890788910-135.png\",\"https://img1.dxycdn.com/2020/0211/365/3395998905480724211-135.png\",\"https://img1.dxycdn.com/2020/0211/364/3395998916217859778-135.png\",\"https://img1.dxycdn.com/2020/0211/922/3395998929103046444-135.png\",\"https://img1.dxycdn.com/2020/0211/089/3395998939840182072-135.png\"],\"summary\":\"\",\"deleted\":false,\"countRemark\":\"\",\"currentConfirmedCount\":2371,\"confirmedCount\":82966,\"suspectedCount\":913,\"curedCount\":77257,\"deadCount\":3338,\"seriousCount\":1024,\"suspectedIncr\":25,\"currentConfirmedIncr\":-185,\"confirmedIncr\":91,\"curedIncr\":273,\"deadIncr\":3,\"seriousIncr\":-6,\"virus\":\"该字段已替换为说明1\",\"remark1\":\"易感人群：人群普遍易感。老年人及有基础疾病者感染后病情较重，儿童及婴幼儿也有发病\",\"remark2\":\"潜伏期：一般为 3～7 天，最长不超过 14 天，潜伏期内可能存在传染性，其中无症状病例传染性非常罕见\",\"remark3\":\"宿主：野生动物，可能为中华菊头蝠\",\"remark4\":\"\",\"remark5\":\"\",\"note1\":\"病毒：SARS-CoV-2，其导致疾病命名 COVID-19\",\"note2\":\"传染源：新冠肺炎的患者。无症状感染者也可能成为传染源。\",\"note3\":\"传播途径：经呼吸道飞沫、接触传播是主要的传播途径。气溶胶传播和消化道等传播途径尚待明确。\",\"generalRemark\":\"1. 3 月 12 日国家卫健委确诊补订遗漏 12 例确诊病例（非 12 日新增），暂无具体省份信息。 2. 浙江省 12 例外省治愈暂无具体省份信息。\",\"abroadRemark\":\"\",\"marquee\":[{\"id\":1905,\"marqueeLabel\":\"警惕\",\"marqueeContent\":\"黑龙江通报 13 例俄罗斯输入病例\",\"marqueeLink\":\"https://dxy.me/t9ojGl\"},{\"id\":1906,\"marqueeLabel\":\"好消息\",\"marqueeContent\":\"武汉恢复办理婚姻登记\",\"marqueeLink\":\"https://dxy.me/VS9hNb\"},{\"id\":1907,\"marqueeLabel\":\"数字新冠\",\"marqueeContent\":\"4 月 4 日，世界因新冠而变\",\"marqueeLink\":\"https://dxy.me/tq4XXu\"}],\"quanguoTrendChart\":[{\"imgUrl\":\"https://img1.dxycdn.com/2020/0324/278/3403801351376518263-135.png\",\"title\":\"新增疑似/新增确诊\"},{\"imgUrl\":\"https://img1.dxycdn.com/2020/0324/812/3403847865872006755-135.png\",\"title\":\"境外输入\"},{\"imgUrl\":\"https://img1.dxycdn.com/2020/0324/547/3403847848692336947-135.png\",\"title\":\"现存确诊\"},{\"imgUrl\":\"https://img1.dxycdn.com/2020/0324/775/3403801407211095604-135.png\",\"title\":\"治愈\"},{\"imgUrl\":\"https://img1.dxycdn.com/2020/0324/250/3403801424390727199-135.png\",\"title\":\"死亡\"}],\"hbFeiHbTrendChart\":[{\"imgUrl\":\"https://img1.dxycdn.com/2020/0326/624/3404177508906904585-135.png\",\"title\":\"非湖北新增确诊\"},{\"imgUrl\":\"https://img1.dxycdn.com/2020/0326/777/3404177532529485065-135.png\",\"title\":\"湖北新增确诊\"},{\"imgUrl\":\"https://img1.dxycdn.com/2020/0326/376/3404177556151805921-135.png\",\"title\":\"湖北现存确诊\"},{\"imgUrl\":\"https://img1.dxycdn.com/2020/0326/527/3404177575478899995-135.png\",\"title\":\"非湖北现存确诊\"},{\"imgUrl\":\"https://img1.dxycdn.com/2020/0326/419/3404177596953996726-135.png\",\"title\":\"治愈/死亡\"}],\"foreignTrendChart\":[{\"imgUrl\":\"https://img1.dxycdn.com/2020/0320/702/3403079914982117944-135.png\",\"title\":\"国外新增确诊\"},{\"imgUrl\":\"https://img1.dxycdn.com/2020/0320/396/3403079925719536561-135.png\",\"title\":\"国外累计确诊\"},{\"imgUrl\":\"https://img1.dxycdn.com/2020/0320/139/3403079936457225524-135.png\",\"title\":\"国外死亡\"}],\"importantForeignTrendChart\":[{\"imgUrl\":\"https://img1.dxycdn.com/2020/0320/450/3403077453965772423-135.png\",\"title\":\"重点国家新增确诊\"},{\"imgUrl\":\"https://img1.dxycdn.com/2020/0320/276/3403077462555980566-135.png\",\"title\":\"日本新增确诊\"},{\"imgUrl\":\"https://img1.dxycdn.com/2020/0320/340/3403077473293125942-135.png\",\"title\":\"意大利新增确诊\"},{\"imgUrl\":\"https://img1.dxycdn.com/2020/0320/723/3403077481883334043-135.png\",\"title\":\"伊朗新增确诊\"},{\"imgUrl\":\"https://img1.dxycdn.com/2020/0320/266/3403077492620752785-135.png\",\"title\":\"美国新增确诊\"},{\"imgUrl\":\"https://img1.dxycdn.com/2020/0320/870/3403077503358171278-135.png\",\"title\":\"法国新增确诊\"},{\"imgUrl\":\"https://img1.dxycdn.com/2020/0320/053/3403077511947832997-135.png\",\"title\":\"德国新增确诊\"},{\"imgUrl\":\"https://img1.dxycdn.com/2020/0320/878/3403077520537768006-135.png\",\"title\":\"西班牙新增确诊\"},{\"imgUrl\":\"https://img1.dxycdn.com/2020/0320/443/3403077531275186665-135.png\",\"title\":\"韩国新增确诊\"}],\"foreignTrendChartGlobal\":[{\"imgUrl\":\"https://img1.dxycdn.com/2020/0319/740/3402859458605738923-135.png\",\"title\":\"Daily New Cases\"},{\"imgUrl\":\"https://img1.dxycdn.com/2020/0319/351/3402856772103846114-135.png\",\"title\":\"Total Confirmed Cases\"},{\"imgUrl\":\"https://img1.dxycdn.com/2020/0319/236/3402856782841001789-135.png\",\"title\":\"Total Deaths Cases\"}],\"importantForeignTrendChartGlobal\":[{\"imgUrl\":\"https://img1.dxycdn.com/2020/0319/122/3402856838675578578-135.png\",\"title\":\"Daily New Cases\"},{\"imgUrl\":\"https://img1.dxycdn.com/2020/0319/685/3402856849412997239-135.png\",\"title\":\"Japan\"},{\"imgUrl\":\"https://img1.dxycdn.com/2020/0319/477/3402856860150678804-135.png\",\"title\":\"Italy\"},{\"imgUrl\":\"https://img1.dxycdn.com/2020/0319/454/3402856873035581014-135.png\",\"title\":\"Iran\"},{\"imgUrl\":\"https://img1.dxycdn.com/2020/0319/022/3402856883772999714-135.png\",\"title\":\"U.S.A.\"},{\"imgUrl\":\"https://img1.dxycdn.com/2020/0319/529/3402856894510155506-135.png\",\"title\":\"France\"},{\"imgUrl\":\"https://img1.dxycdn.com/2020/0319/211/3402856905247574064-135.png\",\"title\":\"Germany\"},{\"imgUrl\":\"https://img1.dxycdn.com/2020/0319/054/3402856913837508985-135.png\",\"title\":\"Spain\"},{\"imgUrl\":\"https://img1.dxycdn.com/2020/0319/088/3402856928870157852-135.png\",\"title\":\"Republic of Korea\"}],\"foreignStatistics\":{\"currentConfirmedCount\":887479,\"confirmedCount\":1106037,\"suspectedCount\":4,\"curedCount\":156519,\"deadCount\":62039,\"suspectedIncr\":0,\"currentConfirmedIncr\":16719,\"confirmedIncr\":26338,\"curedIncr\":8216,\"deadIncr\":1403},\"globalStatistics\":{\"currentConfirmedCount\":889850,\"confirmedCount\":1189003,\"curedCount\":233776,\"deadCount\":65377,\"currentConfirmedIncr\":16534,\"confirmedIncr\":26429,\"curedIncr\":8489,\"deadIncr\":1406},\"globalOtherTrendChartData\":\"https://file1.dxycdn.com/2020/0405/406/3406020801496470802-135.json\"}}catch(e){}']"
      ]
     },
     "execution_count": 8,
     "metadata": {},
     "output_type": "execute_result"
    }
   ],
   "source": [
    "data = soup.findAll(text=re.compile('\\\"summary.+\\\"confirmedCount\\\":\\d'))\n",
    "\n",
    "data\n"
   ]
  },
  {
   "cell_type": "code",
   "execution_count": 9,
   "metadata": {},
   "outputs": [],
   "source": [
    "m = re.search('\\\"confirmedCount\\\":(\\d+)', data[0])\n",
    "summary_confirmed_count = int(m.group(1))\n",
    "\n",
    "\n",
    "m = re.search('\\\"curedCount\\\":(\\d+)', data[0])\n",
    "summary_cured_count = int(m.group(1))\n",
    "\n",
    "m = re.search('\\\"deadCount\\\":(\\d+)', data[0])\n",
    "summary_dead_count = int(m.group(1))\n"
   ]
  },
  {
   "cell_type": "code",
   "execution_count": 10,
   "metadata": {},
   "outputs": [
    {
     "data": {
      "text/html": [
       "<div>\n",
       "<style scoped>\n",
       "    .dataframe tbody tr th:only-of-type {\n",
       "        vertical-align: middle;\n",
       "    }\n",
       "\n",
       "    .dataframe tbody tr th {\n",
       "        vertical-align: top;\n",
       "    }\n",
       "\n",
       "    .dataframe thead th {\n",
       "        text-align: right;\n",
       "    }\n",
       "</style>\n",
       "<table border=\"1\" class=\"dataframe\">\n",
       "  <thead>\n",
       "    <tr style=\"text-align: right;\">\n",
       "      <th></th>\n",
       "      <th>datetime</th>\n",
       "      <th>confirmed</th>\n",
       "      <th>cured</th>\n",
       "      <th>dead</th>\n",
       "    </tr>\n",
       "  </thead>\n",
       "  <tbody>\n",
       "    <tr>\n",
       "      <th>0</th>\n",
       "      <td>2020-04-05 10:53</td>\n",
       "      <td>82966</td>\n",
       "      <td>77257</td>\n",
       "      <td>3338</td>\n",
       "    </tr>\n",
       "  </tbody>\n",
       "</table>\n",
       "</div>"
      ],
      "text/plain": [
       "           datetime  confirmed  cured  dead\n",
       "0  2020-04-05 10:53      82966  77257  3338"
      ]
     },
     "execution_count": 10,
     "metadata": {},
     "output_type": "execute_result"
    }
   ],
   "source": [
    "# make a dataframe\n",
    "df = pd.DataFrame({\n",
    "    'datetime': data_date_time,\n",
    "    'confirmed': summary_confirmed_count,\n",
    "    'cured': summary_cured_count,\n",
    "    'dead': summary_dead_count\n",
    "}, index=[0])\n",
    "df"
   ]
  },
  {
   "cell_type": "markdown",
   "metadata": {},
   "source": [
    "### Save to file"
   ]
  },
  {
   "cell_type": "code",
   "execution_count": 11,
   "metadata": {},
   "outputs": [],
   "source": [
    "from pathlib import Path\n",
    "csv_file = '../data/china-summary-cases.csv'\n",
    "\n",
    "if Path(csv_file).exists():\n",
    "    # read out the old data - then merge with new data and remove duplicates based on datetime\n",
    "    old_df = pd.read_csv(csv_file)\n",
    "    df = df.append(old_df)\n",
    "df.drop_duplicates(subset=['datetime'], inplace=True)"
   ]
  },
  {
   "cell_type": "code",
   "execution_count": 12,
   "metadata": {},
   "outputs": [],
   "source": [
    "df.sort_values(by=['datetime'], inplace=True)\n",
    "\n",
    "df.to_csv(csv_file, index=False)\n"
   ]
  },
  {
   "cell_type": "markdown",
   "metadata": {},
   "source": [
    "### Plot graph"
   ]
  },
  {
   "cell_type": "code",
   "execution_count": 13,
   "metadata": {},
   "outputs": [],
   "source": [
    "import seaborn as sns\n",
    "import matplotlib.pyplot as plt\n",
    "from pandas.plotting import register_matplotlib_converters\n",
    "register_matplotlib_converters()\n",
    "\n",
    "png_file = '../images/china-summary-cases.png'\n",
    "# convert to pd.datetime\n",
    "df['datetime_idx'] = pd.to_datetime(df['datetime'], format=\"%Y-%m-%d %H:%M\")\n",
    "\n",
    "df.set_index('datetime_idx', inplace=True)\n",
    "df.drop(['datetime'], axis=1, inplace=True)\n"
   ]
  },
  {
   "cell_type": "code",
   "execution_count": 14,
   "metadata": {},
   "outputs": [
    {
     "data": {
      "text/html": [
       "<div>\n",
       "<style scoped>\n",
       "    .dataframe tbody tr th:only-of-type {\n",
       "        vertical-align: middle;\n",
       "    }\n",
       "\n",
       "    .dataframe tbody tr th {\n",
       "        vertical-align: top;\n",
       "    }\n",
       "\n",
       "    .dataframe thead th {\n",
       "        text-align: right;\n",
       "    }\n",
       "</style>\n",
       "<table border=\"1\" class=\"dataframe\">\n",
       "  <thead>\n",
       "    <tr style=\"text-align: right;\">\n",
       "      <th></th>\n",
       "      <th>confirmed</th>\n",
       "      <th>cured</th>\n",
       "      <th>dead</th>\n",
       "    </tr>\n",
       "    <tr>\n",
       "      <th>datetime_idx</th>\n",
       "      <th></th>\n",
       "      <th></th>\n",
       "      <th></th>\n",
       "    </tr>\n",
       "  </thead>\n",
       "  <tbody>\n",
       "    <tr>\n",
       "      <th>2020-02-02 10:22:00</th>\n",
       "      <td>14483</td>\n",
       "      <td>379</td>\n",
       "      <td>304</td>\n",
       "    </tr>\n",
       "    <tr>\n",
       "      <th>2020-02-02 10:28:00</th>\n",
       "      <td>14483</td>\n",
       "      <td>380</td>\n",
       "      <td>304</td>\n",
       "    </tr>\n",
       "    <tr>\n",
       "      <th>2020-02-02 11:19:00</th>\n",
       "      <td>14489</td>\n",
       "      <td>385</td>\n",
       "      <td>304</td>\n",
       "    </tr>\n",
       "    <tr>\n",
       "      <th>2020-02-02 11:54:00</th>\n",
       "      <td>14489</td>\n",
       "      <td>397</td>\n",
       "      <td>304</td>\n",
       "    </tr>\n",
       "    <tr>\n",
       "      <th>2020-02-02 15:01:00</th>\n",
       "      <td>14490</td>\n",
       "      <td>430</td>\n",
       "      <td>304</td>\n",
       "    </tr>\n",
       "    <tr>\n",
       "      <th>...</th>\n",
       "      <td>...</td>\n",
       "      <td>...</td>\n",
       "      <td>...</td>\n",
       "    </tr>\n",
       "    <tr>\n",
       "      <th>2020-04-05 06:41:00</th>\n",
       "      <td>82930</td>\n",
       "      <td>77237</td>\n",
       "      <td>3338</td>\n",
       "    </tr>\n",
       "    <tr>\n",
       "      <th>2020-04-05 08:08:00</th>\n",
       "      <td>82930</td>\n",
       "      <td>77237</td>\n",
       "      <td>3338</td>\n",
       "    </tr>\n",
       "    <tr>\n",
       "      <th>2020-04-05 08:10:00</th>\n",
       "      <td>82930</td>\n",
       "      <td>77237</td>\n",
       "      <td>3338</td>\n",
       "    </tr>\n",
       "    <tr>\n",
       "      <th>2020-04-05 09:30:00</th>\n",
       "      <td>82958</td>\n",
       "      <td>77257</td>\n",
       "      <td>3338</td>\n",
       "    </tr>\n",
       "    <tr>\n",
       "      <th>2020-04-05 10:53:00</th>\n",
       "      <td>82966</td>\n",
       "      <td>77257</td>\n",
       "      <td>3338</td>\n",
       "    </tr>\n",
       "  </tbody>\n",
       "</table>\n",
       "<p>975 rows × 3 columns</p>\n",
       "</div>"
      ],
      "text/plain": [
       "                     confirmed  cured  dead\n",
       "datetime_idx                               \n",
       "2020-02-02 10:22:00      14483    379   304\n",
       "2020-02-02 10:28:00      14483    380   304\n",
       "2020-02-02 11:19:00      14489    385   304\n",
       "2020-02-02 11:54:00      14489    397   304\n",
       "2020-02-02 15:01:00      14490    430   304\n",
       "...                        ...    ...   ...\n",
       "2020-04-05 06:41:00      82930  77237  3338\n",
       "2020-04-05 08:08:00      82930  77237  3338\n",
       "2020-04-05 08:10:00      82930  77237  3338\n",
       "2020-04-05 09:30:00      82958  77257  3338\n",
       "2020-04-05 10:53:00      82966  77257  3338\n",
       "\n",
       "[975 rows x 3 columns]"
      ]
     },
     "execution_count": 14,
     "metadata": {},
     "output_type": "execute_result"
    }
   ],
   "source": [
    "df"
   ]
  },
  {
   "cell_type": "code",
   "execution_count": 15,
   "metadata": {
    "scrolled": true
   },
   "outputs": [
    {
     "data": {
      "image/png": "[encoded data removed]",
      "text/plain": [
       "<Figure size 1008x1008 with 3 Axes>"
      ]
     },
     "metadata": {},
     "output_type": "display_data"
    }
   ],
   "source": [
    "if df.shape[0]>1:\n",
    "    # line chart when having at least a few points\n",
    "    sns.set(rc={'figure.figsize':(14,14)})\n",
    "    sns.set(style=\"whitegrid\")\n",
    "\n",
    "    fig, axs = plt.subplots(nrows=3)\n",
    "\n",
    "    sns.lineplot(x=df.index, y = 'confirmed', data=df, ax= axs[0], estimator=None, color='orange')\n",
    "    sns.lineplot(x=df.index, y = 'cured', data=df, ax= axs[1], estimator=None, color='green')\n",
    "    sns.lineplot(x=df.index, y = 'dead', data=df, ax= axs[2], estimator=None, color='darkred')\n",
    "\n",
    "    for ax in axs:\n",
    "        ax.set_xlabel('')\n",
    "        ax.tick_params(axis='x', labelrotation=30)\n",
    "else:\n",
    "\n",
    "    ax = df.plot(kind='bar', stacked=True, figsize=(9,6))\n",
    "    fig = ax.get_figure()\n",
    "    ax.set_xlabel('')\n",
    "    for label in ax.get_xticklabels():\n",
    "        label.set_rotation(0) \n"
   ]
  },
  {
   "cell_type": "code",
   "execution_count": 16,
   "metadata": {},
   "outputs": [],
   "source": [
    "fig.savefig(png_file)"
   ]
  },
  {
   "cell_type": "code",
   "execution_count": null,
   "metadata": {},
   "outputs": [],
   "source": []
  },
  {
   "cell_type": "code",
   "execution_count": null,
   "metadata": {},
   "outputs": [],
   "source": []
  }
 ],
 "metadata": {
  "kernelspec": {
   "display_name": "Python 3",
   "language": "python",
   "name": "python3"
  },
  "language_info": {
   "codemirror_mode": {
    "name": "ipython",
    "version": 3
   },
   "file_extension": ".py",
   "mimetype": "text/x-python",
   "name": "python",
   "nbconvert_exporter": "python",
   "pygments_lexer": "ipython3",
   "version": "3.7.6"
  }
 },
 "nbformat": 4,
 "nbformat_minor": 2
}
