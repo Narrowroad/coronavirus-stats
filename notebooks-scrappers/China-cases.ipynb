{
 "cells": [
  {
   "cell_type": "code",
   "execution_count": 1,
   "metadata": {},
   "outputs": [],
   "source": [
    "import pandas as pd\n",
    "import requests\n",
    "from bs4 import BeautifulSoup\n",
    "import re\n",
    "from datetime import datetime\n",
    "from selenium import webdriver\n",
    "from selenium.webdriver.chrome.options import Options  \n"
   ]
  },
  {
   "cell_type": "code",
   "execution_count": 2,
   "metadata": {},
   "outputs": [
    {
     "data": {
      "text/plain": [
       "datetime.datetime(2020, 3, 26, 11, 9, 51, 444972)"
      ]
     },
     "execution_count": 2,
     "metadata": {},
     "output_type": "execute_result"
    }
   ],
   "source": [
    "datetime.now()"
   ]
  },
  {
   "cell_type": "code",
   "execution_count": 3,
   "metadata": {},
   "outputs": [],
   "source": [
    "chrome_options = Options()  \n",
    "chrome_options.add_argument(\"--headless\")  \n",
    "chrome_options.add_argument(\"--no-sandbox\")\n",
    "\n",
    "driver = webdriver.Chrome('chromedriver', options=chrome_options)"
   ]
  },
  {
   "cell_type": "code",
   "execution_count": 4,
   "metadata": {},
   "outputs": [],
   "source": [
    "url = 'https://ncov.dxy.cn/ncovh5/view/pneumonia'\n",
    "driver.get(url)"
   ]
  },
  {
   "cell_type": "markdown",
   "metadata": {},
   "source": [
    "### Extract date"
   ]
  },
  {
   "cell_type": "code",
   "execution_count": 5,
   "metadata": {},
   "outputs": [],
   "source": [
    "content = driver.page_source\n",
    "soup =BeautifulSoup(content, 'lxml')\n"
   ]
  },
  {
   "cell_type": "code",
   "execution_count": 6,
   "metadata": {},
   "outputs": [
    {
     "data": {
      "text/plain": [
       "['try { window.getTimelineService1 = [{\"id\":16253,\"pubDate\":1585220514000,\"pubDateStr\":\"7分钟前\",\"title\":\"塞内加尔新增6例新冠肺炎确诊病例 累计确诊105例\",\"summary\":\"当地时间26日，塞内加尔卫生部发布最新通告称，在130份检测样本中，新发现6例确诊病例，其中5例为输入病例，1例为接触传染性病例。截至目前，塞内加尔累计确诊病例105例，其中9例已被治愈。（总台记者 韩蓄）\",\"infoSource\":\"央视新闻app\",\"sourceUrl\":\"http://app.cctv.com/special/cportal/detail/arti/index.html?id=ArtiR9Gzlasp7Kt5CtgYqZlo200326&isfromapp=1\",\"provinceId\":\"\"},{\"id\":16245,\"pubDate\":1585220354000,\"pubDateStr\":\"10分钟前\",\"title\":\"比利时新增1298例确诊新冠肺炎病例 累计6235例\",\"summary\":\"据比利时官方媒体当地时间3月26日上午报道，在过去24小时内，比利时境内新增新冠肺炎确诊病例1298例，新增死亡病例42例。截至目前，该国累计确诊病例6235例，累计死亡220例，605名病患正在接受重症监护。（总台记者 马瑾瑾）\",\"infoSource\":\"央视新闻app\",\"sourceUrl\":\"http://app.cctv.com/special/cportal/detail/arti/index.html?id=ArtimsAYPuHU3wQVUNvgXKEe200326&isfromapp=1\",\"provinceId\":\"\"},{\"id\":16235,\"pubDate\":1585219394000,\"pubDateStr\":\"26分钟前\",\"title\":\"西班牙一日新增8578例新冠肺炎\",\"summary\":\"据西班牙卫生部26日公布的数据，西班牙较前日新增新冠肺炎确诊病例8578例，新增死亡病例655例，累计确诊病例达56188例，其中4089人死亡，7015人治愈出院。#西班牙延长国家紧急状态#至4月12日零时。（人民日报记者姜波） \\\\n\",\"infoSource\":\"人民日报\",\"sourceUrl\":\"http://m.weibo.cn/2803301701/4486797696059127\",\"provinceId\":\"\"},{\"id\":16219,\"pubDate\":1585219042000,\"pubDateStr\":\"31分钟前\",\"title\":\"西班牙新增8578例新冠肺炎,确诊病例累计56188例\",\"summary\":\"据西班牙卫生部官网26日通报，过去24小时，该国新增8578例新冠肺炎确诊病例，累计确诊56188例；新增死亡病例655例，累计死亡4089例。\",\"infoSource\":\"人民日报海外版\",\"sourceUrl\":\"http://m.weibo.cn/3057540037/4486796220050176\",\"provinceId\":\"\"},{\"id\":16216,\"pubDate\":1585218502000,\"pubDateStr\":\"40分钟前\",\"title\":\"索马里新增1例新冠肺炎确诊病例 累计确诊2例\",\"summary\":\"当地时间3月26日，索马里卫生部通过社交平台发布消息称，该国确诊了第2例新冠肺炎病例，该患者是一名索马里公民。\",\"infoSource\":\"央视新闻app\",\"sourceUrl\":\"http://app.cctv.com/special/cportal/detail/arti/index.html?id=Artix1nAHBOLsieiqBYer8E5200326&isfromapp=1\",\"provinceId\":\"\"},{\"id\":16212,\"pubDate\":1585218331000,\"pubDateStr\":\"43分钟前\",\"title\":\"阿曼新增10例新冠肺炎确诊病例 累计确诊109例\",\"summary\":\"据阿曼官方通讯社报道，当地时间3月26日，阿曼卫生部发表声明确认，该国新增10例新冠肺炎确诊病例，其中5例因与之前确诊的患者接触而感染，另外2例有英国旅行史，剩余3例感染源仍在调查中。同时，卫生部还公布6例治愈病例。截至目前，阿曼确诊新冠肺炎病例总数为109例，其中有23例已经治愈，暂无死亡病例。\",\"infoSource\":\"央视新闻app\",\"sourceUrl\":\"http://app.cctv.com/special/cportal/detail/arti/index.html?id=ArtinddynqsGE1GN64l8ijee200326&isfromapp=1\",\"provinceId\":\"\"},{\"id\":16209,\"pubDate\":1585217844000,\"pubDateStr\":\"51分钟前\",\"title\":\"比利时新增1298例新冠肺炎#确诊病例 累计6235例\",\"summary\":\"据荷兰BNO Newsroom报道，比利时卫生部26日通报，过去24小时，该国新增1298例新冠肺炎确诊病例，累计确诊6235例；新增死亡病例42例，累计220例。\\\\n\",\"infoSource\":\"人民日报海外版\",\"sourceUrl\":\"http://m.weibo.cn/3057540037/4486791195335588\",\"provinceId\":\"\"},{\"id\":16190,\"pubDate\":1585215898000,\"pubDateStr\":\"1小时前\",\"title\":\"伊朗新增2389例新冠肺炎\",\"summary\":\"据阿拉伯新闻网报道，伊朗卫生部26日通报，过去24小时，该国新增2389例新冠肺炎确诊病例，累计确诊29406例；新增死亡病例157例，累计2234例。\\\\n\",\"infoSource\":\"人民日报海外版\",\"sourceUrl\":\"http://m.weibo.cn/3057540037/4486783033606851\",\"provinceId\":\"\"},{\"id\":16173,\"pubDate\":1585215334000,\"pubDateStr\":\"1小时前\",\"title\":\"巴基斯坦新冠肺炎确诊病例总数过千 出现第8名死亡病例\",\"summary\":\"当地时间3月26日，据《黎明报》报道，巴基斯坦新冠肺炎病例总数过千，有8人死亡。从昨天开始，该国执行了更严格的封锁措施，限制公众出门和商业活动。昨日，新增的死亡病例是一名50岁妇女，巴基斯坦裔英国公民，大约两周前从英国返回，她所在的村庄及其密切接触者目前均被隔离并候检。\",\"infoSource\":\"央视新闻app\",\"sourceUrl\":\"http://app.cctv.com/special/cportal/detail/arti/index.html?id=ArtiQPmZfBEb4SDTBFgHvboE200326&isfromapp=1\",\"provinceId\":\"\"},{\"id\":16166,\"pubDate\":1585214765000,\"pubDateStr\":\"1小时前\",\"title\":\"马来西亚新增235例新冠肺炎确诊病例 累计确诊2031例\",\"summary\":\"当地时间26日，马来西亚宣布新增235例新冠肺炎确诊病例，累计确诊2031例，累计死亡病例23例。\\xa0据马来西亚卫生总监努尔·希萨姆·阿卜杜拉介绍，今日（26日）新增的235例病例中，有60例和吉隆坡大城堡宗教聚会有关。截至目前，共有45名患者被收治在特护病房，其中32人必须依赖呼吸机辅助治疗。另外，26日共有16人治愈出院，累计治愈病例215例。\",\"infoSource\":\"央视新闻app\",\"sourceUrl\":\"http://app.cctv.com/special/cportal/detail/arti/index.html?id=ArtiNbna8ShuR49RvmJ6LcrF200326&isfromapp=1\",\"provinceId\":\"\"},{\"id\":16160,\"pubDate\":1585214568000,\"pubDateStr\":\"1小时前\",\"title\":\"印尼新增新冠肺炎确诊病例103例 累计确诊893例\",\"summary\":\"3月26日，印尼卫生部宣布新增103例新冠肺炎确诊病例，全国累计确诊893例，含78例死亡病例。\",\"infoSource\":\"央视新闻app\",\"sourceUrl\":\"http://app.cctv.com/special/cportal/detail/arti/index.html?id=Artie8mHX1u27IMW8ZGa5hs9200326&isfromapp=1\",\"provinceId\":\"\"},{\"id\":16144,\"pubDate\":1585213670000,\"pubDateStr\":\"2小时前\",\"title\":\"亚美尼亚新冠肺炎累计确诊290例\",\"summary\":\"当地时间3月26日，亚美尼亚疫情防控统一信息平台公布消息，亚美尼亚境内当日新增确诊新冠肺炎病例25例，累计确诊病例290例，累计治愈18例，无死亡病例。为对抗疫情发展，亚美尼亚政府此前宣布，自3月16日至4月14日全国进入紧急状态。\",\"infoSource\":\"央视新闻app\",\"sourceUrl\":\"http://app.cctv.com/special/cportal/detail/arti/index.html?id=ArtiSExfuEZx67kO8tEVvYBG200326&isfromapp=1\",\"provinceId\":\"\"},{\"id\":16145,\"pubDate\":1585213655000,\"pubDateStr\":\"2小时前\",\"title\":\"香港新增43例新冠肺炎确诊病例 累计确诊453例\",\"summary\":\"香港特区政府的最新消息显示，截至3月26日16点40分，香港新增43例新冠肺炎确诊病例，其中29名患者均有境外旅行的记录。至此，香港累计确诊病例达453例。另有35人因涉嫌违反家居隔离规定，已被送往指定隔离机构，特区政府计划对他们进行相关检控。\",\"infoSource\":\"央视新闻app\",\"sourceUrl\":\"http://app.cctv.com/special/cportal/detail/arti/index.html?id=ArtiVVL0lCesGT1fwcALMnMl200326&isfromapp=1\",\"provinceId\":\"\"}]}catch(e){}',\n",
       " '截至北京时间 2020-03-26 10:59',\n",
       " '截至北京时间 2020-03-26 10:59',\n",
       " '当地时间26日，塞内加尔卫生部发布最新通告称，在130份检测样本中，新发现6例确诊病例，其中5例为输入病例，1例为接触传染性病例。截至目前，塞内加尔累计确诊病例105例，其中9例已被治愈。（总台记者 韩蓄）',\n",
       " '据比利时官方媒体当地时间3月26日上午报道，在过去24小时内，比利时境内新增新冠肺炎确诊病例1298例，新增死亡病例42例。截至目前，该国累计确诊病例6235例，累计死亡220例，605名病患正在接受重症监护。（总台记者 马瑾瑾）',\n",
       " '据阿曼官方通讯社报道，当地时间3月26日，阿曼卫生部发表声明确认，该国新增10例新冠肺炎确诊病例，其中5例因与之前确诊的患者接触而感染，另外2例有英国旅行史，剩余3例感染源仍在调查中。同时，卫生部还公布6例治愈病例。截至目前，阿曼确诊新冠肺炎病例总数为109例，其中有23例已经治愈，暂无死亡病例。',\n",
       " '当地时间26日，马来西亚宣布新增235例新冠肺炎确诊病例，累计确诊2031例，累计死亡病例23例。\\xa0据马来西亚卫生总监努尔·希萨姆·阿卜杜拉介绍，今日（26日）新增的235例病例中，有60例和吉隆坡大城堡宗教聚会有关。截至目前，共有45名患者被收治在特护病房，其中32人必须依赖呼吸机辅助治疗。另外，26日共有16人治愈出院，累计治愈病例215例。',\n",
       " '香港特区政府的最新消息显示，截至3月26日16点40分，香港新增43例新冠肺炎确诊病例，其中29名患者均有境外旅行的记录。至此，香港累计确诊病例达453例。另有35人因涉嫌违反家居隔离规定，已被送往指定隔离机构，特区政府计划对他们进行相关检控。']"
      ]
     },
     "execution_count": 6,
     "metadata": {},
     "output_type": "execute_result"
    }
   ],
   "source": [
    "data = soup.findAll(text=re.compile(\"截至.+\"))\n",
    "data"
   ]
  },
  {
   "cell_type": "code",
   "execution_count": 7,
   "metadata": {},
   "outputs": [
    {
     "data": {
      "text/plain": [
       "'2020-03-26 10:59'"
      ]
     },
     "execution_count": 7,
     "metadata": {},
     "output_type": "execute_result"
    }
   ],
   "source": [
    "for s in data:\n",
    "    m = re.search(\"截至.*(202\\d-\\d+-\\d+ \\d+:\\d+)\", s)\n",
    "    if m is not None:\n",
    "        data_date_time = m.group(1)\n",
    "data_date_time"
   ]
  },
  {
   "cell_type": "markdown",
   "metadata": {},
   "source": [
    "### Extract data (summary)"
   ]
  },
  {
   "cell_type": "code",
   "execution_count": 8,
   "metadata": {},
   "outputs": [
    {
     "data": {
      "text/plain": [
       "['try { window.getStatisticsService = {\"id\":1,\"createTime\":1579537899000,\"modifyTime\":1585220365000,\"infectSource\":\"该字段已替换为说明2\",\"passWay\":\"该字段已替换为说明3\",\"imgUrl\":\"https://img1.dxycdn.com/2020/0201/450/3394153392393266839-135.png\",\"dailyPic\":\"https://img1.dxycdn.com/2020/0211/763/3395998884005602079-135.png,https://img1.dxycdn.com/2020/0211/362/3395998896890788910-135.png,https://img1.dxycdn.com/2020/0211/365/3395998905480724211-135.png,https://img1.dxycdn.com/2020/0211/364/3395998916217859778-135.png,https://img1.dxycdn.com/2020/0211/922/3395998929103046444-135.png,https://img1.dxycdn.com/2020/0211/089/3395998939840182072-135.png\",\"dailyPics\":[\"https://img1.dxycdn.com/2020/0211/763/3395998884005602079-135.png\",\"https://img1.dxycdn.com/2020/0211/362/3395998896890788910-135.png\",\"https://img1.dxycdn.com/2020/0211/365/3395998905480724211-135.png\",\"https://img1.dxycdn.com/2020/0211/364/3395998916217859778-135.png\",\"https://img1.dxycdn.com/2020/0211/922/3395998929103046444-135.png\",\"https://img1.dxycdn.com/2020/0211/089/3395998939840182072-135.png\"],\"summary\":\"\",\"deleted\":false,\"countRemark\":\"\",\"currentConfirmedCount\":4537,\"confirmedCount\":82034,\"suspectedCount\":541,\"curedCount\":74204,\"deadCount\":3293,\"seriousCount\":1235,\"suspectedIncr\":67,\"currentConfirmedIncr\":-231,\"confirmedIncr\":188,\"curedIncr\":413,\"deadIncr\":6,\"seriousIncr\":-164,\"virus\":\"该字段已替换为说明1\",\"remark1\":\"易感人群：人群普遍易感。老年人及有基础疾病者感染后病情较重，儿童及婴幼儿也有发病\",\"remark2\":\"潜伏期：一般为 3～7 天，最长不超过 14 天，潜伏期内可能存在传染性，其中无症状病例传染性非常罕见\",\"remark3\":\"宿主：野生动物，可能为中华菊头蝠\",\"remark4\":\"\",\"remark5\":\"\",\"note1\":\"病毒：SARS-CoV-2，其导致疾病命名 COVID-19\",\"note2\":\"传染源：新冠肺炎的患者。无症状感染者也可能成为传染源。\",\"note3\":\"传播途径：经呼吸道飞沫、接触传播是主要的传播途径。气溶胶传播和消化道等传播途径尚待明确。\",\"generalRemark\":\"1. 3 月 12 日国家卫健委确诊补订遗漏 12 例确诊病例（非 12 日新增），暂无具体省份信息。 2. 浙江省 12 例外省治愈暂无具体省份信息。\",\"abroadRemark\":\"\",\"marquee\":[{\"id\":1746,\"marqueeLabel\":\"全球疫情\",\"marqueeContent\":\"美国成为现存新冠感染最多的国家\",\"marqueeLink\":\"https://dxy.me/Sg1rjk\"},{\"id\":1747,\"marqueeLabel\":\"恢复\",\"marqueeContent\":\"武汉 4 月 8 日将恢复商业航班\",\"marqueeLink\":\"https://dxy.me/PR2Eha\"},{\"id\":1748,\"marqueeLabel\":\"要闻\",\"marqueeContent\":\"英国查尔斯王子新冠病毒检测阳性\",\"marqueeLink\":\"https://dxy.me/1P0gqf\"}],\"quanguoTrendChart\":[{\"imgUrl\":\"https://img1.dxycdn.com/2020/0324/278/3403801351376518263-135.png\",\"title\":\"新增疑似/新增确诊\"},{\"imgUrl\":\"https://img1.dxycdn.com/2020/0324/812/3403847865872006755-135.png\",\"title\":\"境外输入\"},{\"imgUrl\":\"https://img1.dxycdn.com/2020/0324/547/3403847848692336947-135.png\",\"title\":\"现存确诊\"},{\"imgUrl\":\"https://img1.dxycdn.com/2020/0324/775/3403801407211095604-135.png\",\"title\":\"治愈\"},{\"imgUrl\":\"https://img1.dxycdn.com/2020/0324/250/3403801424390727199-135.png\",\"title\":\"死亡\"}],\"hbFeiHbTrendChart\":[{\"imgUrl\":\"https://img1.dxycdn.com/2020/0326/624/3404177508906904585-135.png\",\"title\":\"非湖北新增确诊\"},{\"imgUrl\":\"https://img1.dxycdn.com/2020/0326/777/3404177532529485065-135.png\",\"title\":\"湖北新增确诊\"},{\"imgUrl\":\"https://img1.dxycdn.com/2020/0326/376/3404177556151805921-135.png\",\"title\":\"湖北现存确诊\"},{\"imgUrl\":\"https://img1.dxycdn.com/2020/0326/527/3404177575478899995-135.png\",\"title\":\"非湖北现存确诊\"},{\"imgUrl\":\"https://img1.dxycdn.com/2020/0326/419/3404177596953996726-135.png\",\"title\":\"治愈/死亡\"}],\"foreignTrendChart\":[{\"imgUrl\":\"https://img1.dxycdn.com/2020/0320/702/3403079914982117944-135.png\",\"title\":\"国外新增确诊\"},{\"imgUrl\":\"https://img1.dxycdn.com/2020/0320/396/3403079925719536561-135.png\",\"title\":\"国外累计确诊\"},{\"imgUrl\":\"https://img1.dxycdn.com/2020/0320/139/3403079936457225524-135.png\",\"title\":\"国外死亡\"}],\"importantForeignTrendChart\":[{\"imgUrl\":\"https://img1.dxycdn.com/2020/0320/450/3403077453965772423-135.png\",\"title\":\"重点国家新增确诊\"},{\"imgUrl\":\"https://img1.dxycdn.com/2020/0320/276/3403077462555980566-135.png\",\"title\":\"日本新增确诊\"},{\"imgUrl\":\"https://img1.dxycdn.com/2020/0320/340/3403077473293125942-135.png\",\"title\":\"意大利新增确诊\"},{\"imgUrl\":\"https://img1.dxycdn.com/2020/0320/723/3403077481883334043-135.png\",\"title\":\"伊朗新增确诊\"},{\"imgUrl\":\"https://img1.dxycdn.com/2020/0320/266/3403077492620752785-135.png\",\"title\":\"美国新增确诊\"},{\"imgUrl\":\"https://img1.dxycdn.com/2020/0320/870/3403077503358171278-135.png\",\"title\":\"法国新增确诊\"},{\"imgUrl\":\"https://img1.dxycdn.com/2020/0320/053/3403077511947832997-135.png\",\"title\":\"德国新增确诊\"},{\"imgUrl\":\"https://img1.dxycdn.com/2020/0320/878/3403077520537768006-135.png\",\"title\":\"西班牙新增确诊\"},{\"imgUrl\":\"https://img1.dxycdn.com/2020/0320/443/3403077531275186665-135.png\",\"title\":\"韩国新增确诊\"}],\"foreignTrendChartGlobal\":[{\"imgUrl\":\"https://img1.dxycdn.com/2020/0319/740/3402859458605738923-135.png\",\"title\":\"Daily New Cases\"},{\"imgUrl\":\"https://img1.dxycdn.com/2020/0319/351/3402856772103846114-135.png\",\"title\":\"Total Confirmed Cases\"},{\"imgUrl\":\"https://img1.dxycdn.com/2020/0319/236/3402856782841001789-135.png\",\"title\":\"Total Deaths Cases\"}],\"importantForeignTrendChartGlobal\":[{\"imgUrl\":\"https://img1.dxycdn.com/2020/0319/122/3402856838675578578-135.png\",\"title\":\"Daily New Cases\"},{\"imgUrl\":\"https://img1.dxycdn.com/2020/0319/685/3402856849412997239-135.png\",\"title\":\"Japan\"},{\"imgUrl\":\"https://img1.dxycdn.com/2020/0319/477/3402856860150678804-135.png\",\"title\":\"Italy\"},{\"imgUrl\":\"https://img1.dxycdn.com/2020/0319/454/3402856873035581014-135.png\",\"title\":\"Iran\"},{\"imgUrl\":\"https://img1.dxycdn.com/2020/0319/022/3402856883772999714-135.png\",\"title\":\"U.S.A.\"},{\"imgUrl\":\"https://img1.dxycdn.com/2020/0319/529/3402856894510155506-135.png\",\"title\":\"France\"},{\"imgUrl\":\"https://img1.dxycdn.com/2020/0319/211/3402856905247574064-135.png\",\"title\":\"Germany\"},{\"imgUrl\":\"https://img1.dxycdn.com/2020/0319/054/3402856913837508985-135.png\",\"title\":\"Spain\"},{\"imgUrl\":\"https://img1.dxycdn.com/2020/0319/088/3402856928870157852-135.png\",\"title\":\"Republic of Korea\"}],\"foreignStatistics\":{\"currentConfirmedCount\":340300,\"confirmedCount\":399457,\"suspectedCount\":4,\"curedCount\":40568,\"deadCount\":18589,\"suspectedIncr\":0,\"currentConfirmedIncr\":16404,\"confirmedIncr\":18863,\"curedIncr\":1434,\"deadIncr\":1025},\"globalStatistics\":{\"currentConfirmedCount\":344837,\"confirmedCount\":481491,\"curedCount\":114772,\"deadCount\":21882,\"currentConfirmedIncr\":16173,\"confirmedIncr\":19051,\"curedIncr\":1847,\"deadIncr\":1031},\"globalOtherTrendChartData\":\"https://file1.dxycdn.com/2020/0326/962/3404165384214179896-135.json\"}}catch(e){}']"
      ]
     },
     "execution_count": 8,
     "metadata": {},
     "output_type": "execute_result"
    }
   ],
   "source": [
    "data = soup.findAll(text=re.compile('\\\"summary.+\\\"confirmedCount\\\":\\d'))\n",
    "\n",
    "data\n"
   ]
  },
  {
   "cell_type": "code",
   "execution_count": 9,
   "metadata": {},
   "outputs": [],
   "source": [
    "m = re.search('\\\"confirmedCount\\\":(\\d+)', data[0])\n",
    "summary_confirmed_count = int(m.group(1))\n",
    "\n",
    "\n",
    "m = re.search('\\\"curedCount\\\":(\\d+)', data[0])\n",
    "summary_cured_count = int(m.group(1))\n",
    "\n",
    "m = re.search('\\\"deadCount\\\":(\\d+)', data[0])\n",
    "summary_dead_count = int(m.group(1))\n"
   ]
  },
  {
   "cell_type": "code",
   "execution_count": 10,
   "metadata": {},
   "outputs": [
    {
     "data": {
      "text/html": [
       "<div>\n",
       "<style scoped>\n",
       "    .dataframe tbody tr th:only-of-type {\n",
       "        vertical-align: middle;\n",
       "    }\n",
       "\n",
       "    .dataframe tbody tr th {\n",
       "        vertical-align: top;\n",
       "    }\n",
       "\n",
       "    .dataframe thead th {\n",
       "        text-align: right;\n",
       "    }\n",
       "</style>\n",
       "<table border=\"1\" class=\"dataframe\">\n",
       "  <thead>\n",
       "    <tr style=\"text-align: right;\">\n",
       "      <th></th>\n",
       "      <th>datetime</th>\n",
       "      <th>confirmed</th>\n",
       "      <th>cured</th>\n",
       "      <th>dead</th>\n",
       "    </tr>\n",
       "  </thead>\n",
       "  <tbody>\n",
       "    <tr>\n",
       "      <th>0</th>\n",
       "      <td>2020-03-26 10:59</td>\n",
       "      <td>82034</td>\n",
       "      <td>74204</td>\n",
       "      <td>3293</td>\n",
       "    </tr>\n",
       "  </tbody>\n",
       "</table>\n",
       "</div>"
      ],
      "text/plain": [
       "           datetime  confirmed  cured  dead\n",
       "0  2020-03-26 10:59      82034  74204  3293"
      ]
     },
     "execution_count": 10,
     "metadata": {},
     "output_type": "execute_result"
    }
   ],
   "source": [
    "# make a dataframe\n",
    "df = pd.DataFrame({\n",
    "    'datetime': data_date_time,\n",
    "    'confirmed': summary_confirmed_count,\n",
    "    'cured': summary_cured_count,\n",
    "    'dead': summary_dead_count\n",
    "}, index=[0])\n",
    "df"
   ]
  },
  {
   "cell_type": "markdown",
   "metadata": {},
   "source": [
    "### Save to file"
   ]
  },
  {
   "cell_type": "code",
   "execution_count": 11,
   "metadata": {},
   "outputs": [],
   "source": [
    "from pathlib import Path\n",
    "csv_file = '../data/china-summary-cases.csv'\n",
    "\n",
    "if Path(csv_file).exists():\n",
    "    # read out the old data - then merge with new data and remove duplicates based on datetime\n",
    "    old_df = pd.read_csv(csv_file)\n",
    "    df = df.append(old_df)\n",
    "df.drop_duplicates(subset=['datetime'], inplace=True)"
   ]
  },
  {
   "cell_type": "code",
   "execution_count": 12,
   "metadata": {},
   "outputs": [],
   "source": [
    "df.sort_values(by=['datetime'], inplace=True)\n",
    "\n",
    "df.to_csv(csv_file, index=False)\n"
   ]
  },
  {
   "cell_type": "markdown",
   "metadata": {},
   "source": [
    "### Plot graph"
   ]
  },
  {
   "cell_type": "code",
   "execution_count": 13,
   "metadata": {},
   "outputs": [],
   "source": [
    "import seaborn as sns\n",
    "import matplotlib.pyplot as plt\n",
    "from pandas.plotting import register_matplotlib_converters\n",
    "register_matplotlib_converters()\n",
    "\n",
    "png_file = '../images/china-summary-cases.png'\n",
    "# convert to pd.datetime\n",
    "df['datetime_idx'] = pd.to_datetime(df['datetime'], format=\"%Y-%m-%d %H:%M\")\n",
    "\n",
    "df.set_index('datetime_idx', inplace=True)\n",
    "df.drop(['datetime'], axis=1, inplace=True)\n"
   ]
  },
  {
   "cell_type": "code",
   "execution_count": 14,
   "metadata": {},
   "outputs": [
    {
     "data": {
      "text/html": [
       "<div>\n",
       "<style scoped>\n",
       "    .dataframe tbody tr th:only-of-type {\n",
       "        vertical-align: middle;\n",
       "    }\n",
       "\n",
       "    .dataframe tbody tr th {\n",
       "        vertical-align: top;\n",
       "    }\n",
       "\n",
       "    .dataframe thead th {\n",
       "        text-align: right;\n",
       "    }\n",
       "</style>\n",
       "<table border=\"1\" class=\"dataframe\">\n",
       "  <thead>\n",
       "    <tr style=\"text-align: right;\">\n",
       "      <th></th>\n",
       "      <th>confirmed</th>\n",
       "      <th>cured</th>\n",
       "      <th>dead</th>\n",
       "    </tr>\n",
       "    <tr>\n",
       "      <th>datetime_idx</th>\n",
       "      <th></th>\n",
       "      <th></th>\n",
       "      <th></th>\n",
       "    </tr>\n",
       "  </thead>\n",
       "  <tbody>\n",
       "    <tr>\n",
       "      <th>2020-02-02 10:22:00</th>\n",
       "      <td>14483</td>\n",
       "      <td>379</td>\n",
       "      <td>304</td>\n",
       "    </tr>\n",
       "    <tr>\n",
       "      <th>2020-02-02 10:28:00</th>\n",
       "      <td>14483</td>\n",
       "      <td>380</td>\n",
       "      <td>304</td>\n",
       "    </tr>\n",
       "    <tr>\n",
       "      <th>2020-02-02 11:19:00</th>\n",
       "      <td>14489</td>\n",
       "      <td>385</td>\n",
       "      <td>304</td>\n",
       "    </tr>\n",
       "    <tr>\n",
       "      <th>2020-02-02 11:54:00</th>\n",
       "      <td>14489</td>\n",
       "      <td>397</td>\n",
       "      <td>304</td>\n",
       "    </tr>\n",
       "    <tr>\n",
       "      <th>2020-02-02 15:01:00</th>\n",
       "      <td>14490</td>\n",
       "      <td>430</td>\n",
       "      <td>304</td>\n",
       "    </tr>\n",
       "    <tr>\n",
       "      <th>...</th>\n",
       "      <td>...</td>\n",
       "      <td>...</td>\n",
       "      <td>...</td>\n",
       "    </tr>\n",
       "    <tr>\n",
       "      <th>2020-03-26 06:48:00</th>\n",
       "      <td>81968</td>\n",
       "      <td>74200</td>\n",
       "      <td>3293</td>\n",
       "    </tr>\n",
       "    <tr>\n",
       "      <th>2020-03-26 08:03:00</th>\n",
       "      <td>81988</td>\n",
       "      <td>74200</td>\n",
       "      <td>3293</td>\n",
       "    </tr>\n",
       "    <tr>\n",
       "      <th>2020-03-26 09:04:00</th>\n",
       "      <td>81988</td>\n",
       "      <td>74200</td>\n",
       "      <td>3293</td>\n",
       "    </tr>\n",
       "    <tr>\n",
       "      <th>2020-03-26 10:05:00</th>\n",
       "      <td>82034</td>\n",
       "      <td>74204</td>\n",
       "      <td>3293</td>\n",
       "    </tr>\n",
       "    <tr>\n",
       "      <th>2020-03-26 10:59:00</th>\n",
       "      <td>82034</td>\n",
       "      <td>74204</td>\n",
       "      <td>3293</td>\n",
       "    </tr>\n",
       "  </tbody>\n",
       "</table>\n",
       "<p>808 rows × 3 columns</p>\n",
       "</div>"
      ],
      "text/plain": [
       "                     confirmed  cured  dead\n",
       "datetime_idx                               \n",
       "2020-02-02 10:22:00      14483    379   304\n",
       "2020-02-02 10:28:00      14483    380   304\n",
       "2020-02-02 11:19:00      14489    385   304\n",
       "2020-02-02 11:54:00      14489    397   304\n",
       "2020-02-02 15:01:00      14490    430   304\n",
       "...                        ...    ...   ...\n",
       "2020-03-26 06:48:00      81968  74200  3293\n",
       "2020-03-26 08:03:00      81988  74200  3293\n",
       "2020-03-26 09:04:00      81988  74200  3293\n",
       "2020-03-26 10:05:00      82034  74204  3293\n",
       "2020-03-26 10:59:00      82034  74204  3293\n",
       "\n",
       "[808 rows x 3 columns]"
      ]
     },
     "execution_count": 14,
     "metadata": {},
     "output_type": "execute_result"
    }
   ],
   "source": [
    "df"
   ]
  },
  {
   "cell_type": "code",
   "execution_count": 15,
   "metadata": {
    "scrolled": true
   },
   "outputs": [
    {
     "data": {
      "image/png": "[encoded data removed]",
      "text/plain": [
       "<Figure size 1008x1008 with 3 Axes>"
      ]
     },
     "metadata": {},
     "output_type": "display_data"
    }
   ],
   "source": [
    "if df.shape[0]>1:\n",
    "    # line chart when having at least a few points\n",
    "    sns.set(rc={'figure.figsize':(14,14)})\n",
    "    sns.set(style=\"whitegrid\")\n",
    "\n",
    "    fig, axs = plt.subplots(nrows=3)\n",
    "\n",
    "    sns.lineplot(x=df.index, y = 'confirmed', data=df, ax= axs[0], estimator=None, color='orange')\n",
    "    sns.lineplot(x=df.index, y = 'cured', data=df, ax= axs[1], estimator=None, color='green')\n",
    "    sns.lineplot(x=df.index, y = 'dead', data=df, ax= axs[2], estimator=None, color='darkred')\n",
    "\n",
    "    for ax in axs:\n",
    "        ax.set_xlabel('')\n",
    "        ax.tick_params(axis='x', labelrotation=30)\n",
    "else:\n",
    "\n",
    "    ax = df.plot(kind='bar', stacked=True, figsize=(9,6))\n",
    "    fig = ax.get_figure()\n",
    "    ax.set_xlabel('')\n",
    "    for label in ax.get_xticklabels():\n",
    "        label.set_rotation(0) \n"
   ]
  },
  {
   "cell_type": "code",
   "execution_count": 16,
   "metadata": {},
   "outputs": [],
   "source": [
    "fig.savefig(png_file)"
   ]
  },
  {
   "cell_type": "code",
   "execution_count": null,
   "metadata": {},
   "outputs": [],
   "source": []
  },
  {
   "cell_type": "code",
   "execution_count": null,
   "metadata": {},
   "outputs": [],
   "source": []
  }
 ],
 "metadata": {
  "kernelspec": {
   "display_name": "Python 3",
   "language": "python",
   "name": "python3"
  },
  "language_info": {
   "codemirror_mode": {
    "name": "ipython",
    "version": 3
   },
   "file_extension": ".py",
   "mimetype": "text/x-python",
   "name": "python",
   "nbconvert_exporter": "python",
   "pygments_lexer": "ipython3",
   "version": "3.7.6"
  }
 },
 "nbformat": 4,
 "nbformat_minor": 2
}
