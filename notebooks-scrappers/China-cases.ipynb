{
 "cells": [
  {
   "cell_type": "code",
   "execution_count": 1,
   "metadata": {},
   "outputs": [],
   "source": [
    "import pandas as pd\n",
    "import requests\n",
    "from bs4 import BeautifulSoup\n",
    "import re\n",
    "from datetime import datetime\n",
    "from selenium import webdriver\n",
    "from selenium.webdriver.chrome.options import Options  \n"
   ]
  },
  {
   "cell_type": "code",
   "execution_count": 2,
   "metadata": {},
   "outputs": [
    {
     "data": {
      "text/plain": [
       "datetime.datetime(2020, 3, 29, 2, 8, 1, 568825)"
      ]
     },
     "execution_count": 2,
     "metadata": {},
     "output_type": "execute_result"
    }
   ],
   "source": [
    "datetime.now()"
   ]
  },
  {
   "cell_type": "code",
   "execution_count": 3,
   "metadata": {},
   "outputs": [],
   "source": [
    "chrome_options = Options()  \n",
    "chrome_options.add_argument(\"--headless\")  \n",
    "chrome_options.add_argument(\"--no-sandbox\")\n",
    "\n",
    "driver = webdriver.Chrome('chromedriver', options=chrome_options)"
   ]
  },
  {
   "cell_type": "code",
   "execution_count": 4,
   "metadata": {},
   "outputs": [],
   "source": [
    "url = 'https://ncov.dxy.cn/ncovh5/view/pneumonia'\n",
    "driver.get(url)"
   ]
  },
  {
   "cell_type": "markdown",
   "metadata": {},
   "source": [
    "### Extract date"
   ]
  },
  {
   "cell_type": "code",
   "execution_count": 5,
   "metadata": {},
   "outputs": [],
   "source": [
    "content = driver.page_source\n",
    "soup =BeautifulSoup(content, 'lxml')\n"
   ]
  },
  {
   "cell_type": "code",
   "execution_count": 6,
   "metadata": {},
   "outputs": [
    {
     "data": {
      "text/plain": [
       "['try { window.getTimelineService1 = [{\"id\":19097,\"pubDate\":1585446630000,\"pubDateStr\":\"6分钟前\",\"title\":\"吉林28日新增1例境外输入新冠肺炎确诊病例 累计境外输入5例\",\"summary\":\"3月28日0—24时，吉林省新增境外输入确诊病例1例（延边州1例）。截至3月28日24时，吉林省累计报告境外输入确诊病例5例，其中延边州2例，长春市1例，吉林市1例，梅河口市1例\",\"infoSource\":\"央视新闻app\",\"sourceUrl\":\"http://app.cctv.com/special/cportal/detail/arti/index.html?id=Arti9fieDCjBgOZ34cwSmINL200329&isfromapp=1\",\"provinceId\":\"\"},{\"id\":19091,\"pubDate\":1585445934000,\"pubDateStr\":\"18分钟前\",\"title\":\"3月28日18时至23时 天津无新增报告本地新冠肺炎确诊病例 新增境外输入确诊病例1例\",\"summary\":\"3月28日18时至23时，天津无新增报告本地新冠肺炎确诊病例。新增报告1例境外输入确诊病例（中国籍），累计报告境外输入确诊病例27例（其中重型3例、普通型15例、轻型7例、分型待定2例；中国籍23例、美国籍2例、法国籍1例、菲律宾籍1例）。\",\"infoSource\":\"天津卫健委\",\"sourceUrl\":\"http://wsjk.tj.gov.cn/art/2020/3/29/art_87_72824.html\",\"provinceId\":\"\"},{\"id\":19092,\"pubDate\":1585445744000,\"pubDateStr\":\"21分钟前\",\"title\":\"四川29日新增2例新冠肺炎确诊病例 均为境外输入\",\"summary\":\"3月28日0—24时，四川省新型冠状病毒肺炎新增2例确诊病例（均为境外输入），无新增治愈出院病例，无新增疑似病例，无新增死亡病例。\",\"infoSource\":\"央视新闻app\",\"sourceUrl\":\"http://app.cctv.com/special/cportal/detail/arti/index.html?id=ArtioQPT3JWhjArKDzfNjLpe200329&isfromapp=1\",\"provinceId\":\"\"},{\"id\":19093,\"pubDate\":1585445684000,\"pubDateStr\":\"22分钟前\",\"title\":\"新疆29日连续40天无新增确诊病例 医学观察人员全部清零\",\"summary\":\"新疆维吾尔自治区卫生健康委最新通报，3月28日0时至24时，新疆维吾尔自治区(含新疆生产建设兵团)无新增新冠肺炎确诊病例，已连续40天无新增确诊病例。\",\"infoSource\":\"央视新闻app\",\"sourceUrl\":\"http://app.cctv.com/special/cportal/detail/arti/index.html?id=Arti7ieoE3KhSBqJ4OPa8n1L200329&isfromapp=1\",\"provinceId\":\"\"},{\"id\":19086,\"pubDate\":1585445451000,\"pubDateStr\":\"26分钟前\",\"title\":\"浙江新增境外输入新冠肺炎确诊病例3例\",\"summary\":\"2020年3月29日浙江省新型冠状病毒肺炎疫情情况：3月28日0-24时，新增境外输入新冠肺炎确诊病例3例（意大利输入1例、荷兰输入1例、德国输入1例）。无新增出院病例。\",\"infoSource\":\"央视新闻app\",\"sourceUrl\":\"http://app.cctv.com/special/cportal/detail/arti/index.html?id=Artiyu2yX5rZc2sNg2Z3SMDj200329&isfromapp=1\",\"provinceId\":\"\"},{\"id\":19087,\"pubDate\":1585445409000,\"pubDateStr\":\"26分钟前\",\"title\":\"墨西哥新冠肺炎确诊病例达848例 新增131例\",\"summary\":\"当地时间3月28日，墨西哥卫生部宣布，截止到当地时间3月28日晚7时，墨西哥全国确诊848例新冠肺炎病例，较前一天新增了131例，增幅较大。\",\"infoSource\":\"央视新闻app\",\"sourceUrl\":\"http://app.cctv.com/special/cportal/detail/arti/index.html?id=Artilrsx81a9Cts5Ez3GplE2200329&isfromapp=1\",\"provinceId\":\"\"},{\"id\":19088,\"pubDate\":1585445270000,\"pubDateStr\":\"29分钟前\",\"title\":\"阿尔及利亚新增45例新冠肺炎确诊病例 3例死亡病例\",\"summary\":\"阿尔及利亚卫生部28日晚证实，该国在过去24小时新增45例新冠肺炎确诊病例、3例死亡病例。截至目前，阿尔及利亚新冠肺炎确诊病例已累计达454例，累计死亡29例。\",\"infoSource\":\"央视新闻app\",\"sourceUrl\":\"http://app.cctv.com/special/cportal/detail/arti/index.html?id=ArtimHKzf8IlGVnZW7FEahB8200329&isfromapp=1\",\"provinceId\":\"\"},{\"id\":19081,\"pubDate\":1585445146000,\"pubDateStr\":\"31分钟前\",\"title\":\"阿根廷新增新冠肺炎病例55例 全面隔离期间已有近万人被捕\",\"summary\":\"当地时间3月28日，阿根廷卫生部公布该国新增新冠肺炎确诊病例55例，累计达745例；新增死亡病例2例，累计达19例。，\",\"infoSource\":\"央视新闻app\",\"sourceUrl\":\"http://app.cctv.com/special/cportal/detail/arti/index.html?id=ArtiQY6NNjyHrV25SL5N0BSE200329&isfromapp=1\",\"provinceId\":\"\"},{\"id\":19079,\"pubDate\":1585445016000,\"pubDateStr\":\"33分钟前\",\"title\":\"韩国新增105例新冠肺炎确诊病例 累计确诊9583例\",\"summary\":\"#韩国累计确诊9583例#据韩联社29日消息，韩国中央防疫对策本部当天通报，当地时间28日0时至29日0时，韩国新增105例新冠肺炎确诊病例，累计确诊9583例。\",\"infoSource\":\"人民日报海外版\",\"sourceUrl\":\"http://m.weibo.cn/3057540037/4487744024045022\",\"provinceId\":\"\"},{\"id\":19084,\"pubDate\":1585444982000,\"pubDateStr\":\"33分钟前\",\"title\":\"武汉按下“重启键” 恢复铁路客运 汉口站首日客流近万人\",\"summary\":\"在武汉三大火车站之一的汉口火车站，当日到达旅客接近万人。昨天上午9点半，从湖北荆州始发的D9302次列车驶入汉口火车站，这是汉口站恢复客运到达业务以来，首趟抵达的客运列车。\",\"infoSource\":\"央视新闻app\",\"sourceUrl\":\"http://app.cctv.com/special/cportal/detail/arti/index.html?id=ArtiG41ELjfWwSaNd0e82P5l200329&isfromapp=1\",\"provinceId\":\"\"},{\"id\":19078,\"pubDate\":1585444599000,\"pubDateStr\":\"40分钟前\",\"title\":\"江西新增1例境外输入新冠肺炎确诊病例\",\"summary\":\"2020年3月28日0-24时，江西省无本地新增新型冠状病毒肺炎确诊病例报告，无本地新增疑似病例，无本地住院确诊病例。2020年3月28日0-24时，江西省新增境外输入新型冠状病毒肺炎确诊病例1例。\",\"infoSource\":\"央视新闻app\",\"sourceUrl\":\"http://app.cctv.com/special/cportal/detail/arti/index.html?id=Arti300Xt39iTCsXil2GchaD200329&isfromapp=1\",\"provinceId\":\"\"},{\"id\":19070,\"pubDate\":1585444380000,\"pubDateStr\":\"43分钟前\",\"title\":\"广东28日新增8例新冠肺炎境外输入确诊病例\",\"summary\":\"3月28日0—24时，广东省新增境外输入确诊病例8例，分别为广州报告6例（阿联酋输入3例，英国、马来西亚、爱尔兰各输入1例）、深圳报告1例（英国输入）、珠海报告1例（英国输入）。\",\"infoSource\":\"央视新闻app\",\"sourceUrl\":\"http://app.cctv.com/special/cportal/detail/arti/index.html?id=ArtiEI2hQn502iDQgPTleFJM200329&isfromapp=1\",\"provinceId\":\"\"},{\"id\":19071,\"pubDate\":1585444325000,\"pubDateStr\":\"44分钟前\",\"title\":\"澳大利亚新增2例新冠肺炎死亡病例\",\"summary\":\"澳大利亚29日新增2例新冠肺炎死亡病例。\",\"infoSource\":\"央视新闻app\",\"sourceUrl\":\"http://app.cctv.com/special/cportal/detail/arti/index.html?id=ArtiaINGSjMdGvSdxk31Pe87200329&isfromapp=1\",\"provinceId\":\"\"},{\"id\":19072,\"pubDate\":1585444260000,\"pubDateStr\":\"45分钟前\",\"title\":\"湖北全省无高风险市县 武汉低风险城区超半数\",\"summary\":\"3月28日，湖北省新冠肺炎防控指挥部发布更新市县疫情风险等级评估，湖北全省无高风险市县，武汉市城区整体维持中风险。\",\"infoSource\":\"央视新闻app\",\"sourceUrl\":\"http://app.cctv.com/special/cportal/detail/arti/index.html?id=Arti7duPfiKQsxbmY8tPmmQh200329&isfromapp=1\",\"provinceId\":\"\"},{\"id\":19064,\"pubDate\":1585444105000,\"pubDateStr\":\"48分钟前\",\"title\":\"加拿大外长推文感谢中国企业捐赠医用物资\",\"summary\":\"加拿大外长商鹏飞当地时间28日在社交媒体上发表推文，对中国银行向加拿大捐赠医用物资的行为表示感谢。推文说：“谢谢你们的这笔捐赠。在全球大流行的疫情面前，相互支持不仅是正确的事，也是聪明的事”。\",\"infoSource\":\"央视新闻app\",\"sourceUrl\":\"http://app.cctv.com/special/cportal/detail/arti/index.html?id=ArtiSYFbqDkWnSIl9TLJWSLv200329&isfromapp=1\",\"provinceId\":\"\"},{\"id\":19059,\"pubDate\":1585444066000,\"pubDateStr\":\"49分钟前\",\"title\":\"上海3月28日无新增本地新冠肺炎确诊病例 新增境外输入7例\",\"summary\":\"3月28日0—24时，通过口岸联防联控机制，报告7例境外输入性新冠肺炎确诊病例。\",\"infoSource\":\"上海卫健委\",\"sourceUrl\":\"http://wsjkw.sh.gov.cn/xwfb/20200329/3afa1467d885414bb00f73bb5a9fca34.html\",\"provinceId\":\"\"},{\"id\":19058,\"pubDate\":1585444056000,\"pubDateStr\":\"49分钟前\",\"title\":\"截至3月28日24时河南省新增新冠肺炎本地确诊病例1例\",\"summary\":\"2020年3月28日0-24时，河南省新增新冠肺炎本地确诊病例1例（漯河市1例）。截至3月28日24时，全省累计报告本地新冠肺炎确诊病例1273例，累计死亡病例22例，累计出院病例1250例。\\\\n    \\\\n\\\\n  \",\"infoSource\":\"河南卫健委\",\"sourceUrl\":\"http://www.hnwsjsw.gov.cn/contents/858/49155.shtml\",\"provinceId\":\"\"},{\"id\":19062,\"pubDate\":1585443717000,\"pubDateStr\":\"55分钟前\",\"title\":\"贵州28日新增1例境外输入新冠肺炎确诊病例\",\"summary\":\"3月28日0—24时，贵州省无新增本地新冠肺炎确诊病例，无新增疑似病例。新增境外输入确诊病例1例（美国输入）。\",\"infoSource\":\"央视新闻app\",\"sourceUrl\":\"http://app.cctv.com/special/cportal/detail/arti/index.html?id=Arti13Rq0Y6BoFwuUnG3cWPR200329&isfromapp=1\",\"provinceId\":\"\"},{\"id\":19049,\"pubDate\":1585443557000,\"pubDateStr\":\"57分钟前\",\"title\":\"四川新型冠状病毒肺炎新增2例确诊病例（均为境外输入）\",\"summary\":\"3月28日0-24时，我省新型冠状病毒肺炎新增2例确诊病例（均为境外输入），无新增治愈出院病例，无新增疑似病例，无新增死亡病例。\\\\n\\\\n\\\\n\\\\n\\\\n\",\"infoSource\":\"四川卫健委\",\"sourceUrl\":\"http://wsjkw.sc.gov.cn/scwsjkw/gzbd01/2020/3/29/f28e1209c6704df1915dbfb1bfb4fddf.shtml\",\"provinceId\":\"\"},{\"id\":19055,\"pubDate\":1585443477000,\"pubDateStr\":\"59分钟前\",\"title\":\"3月28日江苏无新增本地新冠肺炎确诊病例， 新增境外输入确诊病例3例\",\"summary\":\"3月28日江苏无新增本地新冠肺炎确诊病例， 新增境外输入确诊病例3例\",\"infoSource\":\"江苏卫健委\",\"sourceUrl\":\"http://wjw.jiangsu.gov.cn/art/2020/3/29/art_7290_9026744.html\",\"provinceId\":\"\"},{\"id\":19044,\"pubDate\":1585442903000,\"pubDateStr\":\"1小时前\",\"title\":\"福建28日新增1例境外输入新冠肺炎确诊病例 新增疑似病例1例\",\"summary\":\"3月28日0—24时，福建省报告新增境外输入新型冠状病毒肺炎确诊病例1例，为阿联酋输入（厦门市报告）。\",\"infoSource\":\"央视新闻app\",\"sourceUrl\":\"http://app.cctv.com/special/cportal/detail/arti/index.html?id=ArtioRElodVgGfMr1UTQhysj200329&isfromapp=1\",\"provinceId\":\"\"},{\"id\":19036,\"pubDate\":1585442808000,\"pubDateStr\":\"1小时前\",\"title\":\"[国家卫生健康委]截至3月28日24时新型冠状病毒肺炎疫情最新情况\",\"summary\":\"\\\\n  \\u3000\\xa03月28日0—24时，31个省（自治区、直辖市）和新疆生产建设兵团报告新增确诊病例45例，其中境外输入病例44例，本土病例1例（河南1例）；新增死亡病例5例（湖北5例）；新增疑似病例28例，其中境外输入病例27例，本土病例1例（甘肃1例）。\\u3000\\\\n\\\\n  \",\"infoSource\":\"河南卫健委\",\"sourceUrl\":\"http://www.hnwsjsw.gov.cn/contents/858/49156.shtml\",\"provinceId\":\"\"},{\"id\":19047,\"pubDate\":1585442712000,\"pubDateStr\":\"1小时前\",\"title\":\"江苏新增新冠肺炎境外输入确诊病例3例 累计境外输入病例13例\",\"summary\":\"3月28日江苏无新增本地新冠肺炎确诊病例， 新增境外输入确诊病例3例。\",\"infoSource\":\"央视新闻app\",\"sourceUrl\":\"http://app.cctv.com/special/cportal/detail/arti/index.html?id=Arti30tIRHlUqvA3gTdt7lnz200329&isfromapp=1\",\"provinceId\":\"\"},{\"id\":19035,\"pubDate\":1585441440000,\"pubDateStr\":\"1小时前\",\"title\":\"湖南省报告新型冠状病毒肺炎新增确诊病例0例\",\"summary\":\"2020年3月28日0-24时，湖南省报告新型冠状病毒肺炎新增确诊病例0例。截至3月28日24时，湖南省累计报告新型冠状病毒肺炎确诊病例1018例，死亡病例4例，出院病例1014例。\\\\n        \",\"infoSource\":\"湖南卫健委\",\"sourceUrl\":\"http://wjw.hunan.gov.cn/wjw/xxgk/gzdt/zyxw_1/202003/t20200329_11826827.html\",\"provinceId\":\"\"},{\"id\":19031,\"pubDate\":1585441380000,\"pubDateStr\":\"1小时前\",\"title\":\"3月28日全区新冠肺炎疫情情况\",\"summary\":\"\\\\n3月29日，宁夏应对新型冠状病毒肺炎疫情工作指挥部发布最新全区新冠肺炎疫情通报。\\\\n截至2020年3月28日24时，连续25天无新增确诊病例。全区累计报告确诊病例75例（含境外输入病例3例），已全部治愈出院。无疑似病例。\\\\n\",\"infoSource\":\"宁夏卫健委\",\"sourceUrl\":\"http://wsjkw.nx.gov.cn/info/1262/16569.htm\",\"provinceId\":\"\"},{\"id\":19029,\"pubDate\":1585441203000,\"pubDateStr\":\"1小时前\",\"title\":\"新加坡抗疫成功得到美国总统的指导\",\"summary\":\"     美国时间3月24日福克斯新闻主持的虚拟大会演讲中，被问及“有报道称新加坡可能迎来第二波疫情的说法，你如何看待时？”美国白宫冠状病毒反应协调员黛博拉·伯克斯称：新加坡看到隔壁中国疫情严重，就采纳了特朗普总统对疫情的指导原则，并且很早就开始执行，所以在新加坡只有很少人受感染。\\\\n\",\"infoSource\":\"人民日报海外版\",\"sourceUrl\":\"http://m.weibo.cn/3057540037/4487728035098763\",\"provinceId\":\"\"},{\"id\":19030,\"pubDate\":1585440960000,\"pubDateStr\":\"1小时前\",\"title\":\"                    福建省新型冠状病毒肺炎疫情情况                \",\"summary\":\"\\\\n\\\\n                    \\u3000\\u3000一、境外输入疫情\\\\n\\u3000\\u30003月28日0—24时，福建省报告新增境外输入新型冠状病毒肺炎确诊病例1例，为阿联酋输入（厦门市报告）。\\\\n\\xa0\\\\n\\u3000\\u3000当日报告新增境外输入新型冠状病毒肺炎疑似病例1例，为越南输入（泉州市报告）。\\\\n\\xa0\\\\n\\u3000\\u3000截至3月28日24时，福建省累计报告境外输入新型冠状病毒肺炎确诊病例42例（已治愈出院病例0例、目前住院病例42例，无死亡病例），现有报告境外输入新型冠状病毒肺炎疑似病例2例。\\\\n\\xa0\\\\n\\u3000\\u3000二、本地疫情\\\\n\\u3000\\u30003月28日0—24时，福建省报告新增本地新型冠状病毒肺炎确诊病例0例，报告新增本地新型冠状病毒肺炎疑似病例0例。\\\\n\\u3000\\u3000截至3月28日24时，福建省累计报告本地新型冠状病毒肺炎确诊病例296例（已治愈出院病例295例、目前住院病例0例、死亡病例1例），其中：福州市72例、厦门市35例、漳州市20例、泉州市47例、三明市14例、莆田市56例、南平市20例、龙岩市6例、宁德市26例。\\\\n\\u3000\\u3000现有报告本地新型冠状病毒肺炎疑似病例0例。\\\\n\\xa0\\\\n\\u3000\\u3000三、密切接触者\\\\n\\u3000\\u3000目前密切接触者已解除医学观察11108人，尚有1974人正在接受医学观察。\\\\n                \",\"infoSource\":\"福建卫健委\",\"sourceUrl\":\"http://wjw.fujian.gov.cn/ztzl/gzbufk/yqtb/202003/t20200329_5224630.htm\",\"provinceId\":\"\"},{\"id\":19022,\"pubDate\":1585440000000,\"pubDateStr\":\"1小时前\",\"title\":\"3月28日0至24时，广西无新增确诊、疑似病例，无新增死亡病例\",\"summary\":\"3月28日0至24时，我区无新增确诊、疑似病例，无新增死亡病例。全区累计报告确诊病例254例，其中2例境外输入确诊病例现在定点医院隔离治疗，治愈出院250例，死亡2例。\",\"infoSource\":\"广西卫健委\",\"sourceUrl\":\"http://wsjkw.gxzf.gov.cn/zhuantiqu/ncov/ncovyqtb/2020/0329/70633.html\",\"provinceId\":\"\"}]}catch(e){}',\n",
       " '截至北京时间 2020-03-29 01:58',\n",
       " '截至北京时间 2020-03-29 01:58',\n",
       " '3月28日0—24时，吉林省新增境外输入确诊病例1例（延边州1例）。截至3月28日24时，吉林省累计报告境外输入确诊病例5例，其中延边州2例，长春市1例，吉林市1例，梅河口市1例',\n",
       " '阿尔及利亚卫生部28日晚证实，该国在过去24小时新增45例新冠肺炎确诊病例、3例死亡病例。截至目前，阿尔及利亚新冠肺炎确诊病例已累计达454例，累计死亡29例。',\n",
       " '截至3月28日24时河南省新增新冠肺炎本地确诊病例1例',\n",
       " '2020年3月28日0-24时，河南省新增新冠肺炎本地确诊病例1例（漯河市1例）。截至3月28日24时，全省累计报告本地新冠肺炎确诊病例1273例，累计死亡病例22例，累计出院病例1250例。\\n    \\n\\n  ',\n",
       " '[国家卫生健康委]截至3月28日24时新型冠状病毒肺炎疫情最新情况',\n",
       " '2020年3月28日0-24时，湖南省报告新型冠状病毒肺炎新增确诊病例0例。截至3月28日24时，湖南省累计报告新型冠状病毒肺炎确诊病例1018例，死亡病例4例，出院病例1014例。\\n        ',\n",
       " '\\n3月29日，宁夏应对新型冠状病毒肺炎疫情工作指挥部发布最新全区新冠肺炎疫情通报。\\n截至2020年3月28日24时，连续25天无新增确诊病例。全区累计报告确诊病例75例（含境外输入病例3例），已全部治愈出院。无疑似病例。\\n',\n",
       " '\\n\\n                    \\u3000\\u3000一、境外输入疫情\\n\\u3000\\u30003月28日0—24时，福建省报告新增境外输入新型冠状病毒肺炎确诊病例1例，为阿联酋输入（厦门市报告）。\\n\\xa0\\n\\u3000\\u3000当日报告新增境外输入新型冠状病毒肺炎疑似病例1例，为越南输入（泉州市报告）。\\n\\xa0\\n\\u3000\\u3000截至3月28日24时，福建省累计报告境外输入新型冠状病毒肺炎确诊病例42例（已治愈出院病例0例、目前住院病例42例，无死亡病例），现有报告境外输入新型冠状病毒肺炎疑似病例2例。\\n\\xa0\\n\\u3000\\u3000二、本地疫情\\n\\u3000\\u30003月28日0—24时，福建省报告新增本地新型冠状病毒肺炎确诊病例0例，报告新增本地新型冠状病毒肺炎疑似病例0例。\\n\\u3000\\u3000截至3月28日24时，福建省累计报告本地新型冠状病毒肺炎确诊病例296例（已治愈出院病例295例、目前住院病例0例、死亡病例1例），其中：福州市72例、厦门市35例、漳州市20例、泉州市47例、三明市14例、莆田市56例、南平市20例、龙岩市6例、宁德市26例。\\n\\u3000\\u3000现有报告本地新型冠状病毒肺炎疑似病例0例。\\n\\xa0\\n\\u3000\\u3000三、密切接触者\\n\\u3000\\u3000目前密切接触者已解除医学观察11108人，尚有1974人正在接受医学观察。\\n                ']"
      ]
     },
     "execution_count": 6,
     "metadata": {},
     "output_type": "execute_result"
    }
   ],
   "source": [
    "data = soup.findAll(text=re.compile(\"截至.+\"))\n",
    "data"
   ]
  },
  {
   "cell_type": "code",
   "execution_count": 7,
   "metadata": {},
   "outputs": [
    {
     "data": {
      "text/plain": [
       "'2020-03-29 01:58'"
      ]
     },
     "execution_count": 7,
     "metadata": {},
     "output_type": "execute_result"
    }
   ],
   "source": [
    "for s in data:\n",
    "    m = re.search(\"截至.*(202\\d-\\d+-\\d+ \\d+:\\d+)\", s)\n",
    "    if m is not None:\n",
    "        data_date_time = m.group(1)\n",
    "data_date_time"
   ]
  },
  {
   "cell_type": "markdown",
   "metadata": {},
   "source": [
    "### Extract data (summary)"
   ]
  },
  {
   "cell_type": "code",
   "execution_count": 8,
   "metadata": {},
   "outputs": [
    {
     "data": {
      "text/plain": [
       "['try { window.getStatisticsService = {\"id\":1,\"createTime\":1579537899000,\"modifyTime\":1585447128000,\"infectSource\":\"该字段已替换为说明2\",\"passWay\":\"该字段已替换为说明3\",\"imgUrl\":\"https://img1.dxycdn.com/2020/0201/450/3394153392393266839-135.png\",\"dailyPic\":\"https://img1.dxycdn.com/2020/0211/763/3395998884005602079-135.png,https://img1.dxycdn.com/2020/0211/362/3395998896890788910-135.png,https://img1.dxycdn.com/2020/0211/365/3395998905480724211-135.png,https://img1.dxycdn.com/2020/0211/364/3395998916217859778-135.png,https://img1.dxycdn.com/2020/0211/922/3395998929103046444-135.png,https://img1.dxycdn.com/2020/0211/089/3395998939840182072-135.png\",\"dailyPics\":[\"https://img1.dxycdn.com/2020/0211/763/3395998884005602079-135.png\",\"https://img1.dxycdn.com/2020/0211/362/3395998896890788910-135.png\",\"https://img1.dxycdn.com/2020/0211/365/3395998905480724211-135.png\",\"https://img1.dxycdn.com/2020/0211/364/3395998916217859778-135.png\",\"https://img1.dxycdn.com/2020/0211/922/3395998929103046444-135.png\",\"https://img1.dxycdn.com/2020/0211/089/3395998939840182072-135.png\"],\"summary\":\"\",\"deleted\":false,\"countRemark\":\"\",\"currentConfirmedCount\":3435,\"confirmedCount\":82341,\"suspectedCount\":693,\"curedCount\":75600,\"deadCount\":3306,\"seriousCount\":742,\"suspectedIncr\":44,\"currentConfirmedIncr\":-355,\"confirmedIncr\":128,\"curedIncr\":478,\"deadIncr\":5,\"seriousIncr\":-179,\"virus\":\"该字段已替换为说明1\",\"remark1\":\"易感人群：人群普遍易感。老年人及有基础疾病者感染后病情较重，儿童及婴幼儿也有发病\",\"remark2\":\"潜伏期：一般为 3～7 天，最长不超过 14 天，潜伏期内可能存在传染性，其中无症状病例传染性非常罕见\",\"remark3\":\"宿主：野生动物，可能为中华菊头蝠\",\"remark4\":\"\",\"remark5\":\"\",\"note1\":\"病毒：SARS-CoV-2，其导致疾病命名 COVID-19\",\"note2\":\"传染源：新冠肺炎的患者。无症状感染者也可能成为传染源。\",\"note3\":\"传播途径：经呼吸道飞沫、接触传播是主要的传播途径。气溶胶传播和消化道等传播途径尚待明确。\",\"generalRemark\":\"1. 3 月 12 日国家卫健委确诊补订遗漏 12 例确诊病例（非 12 日新增），暂无具体省份信息。 2. 浙江省 12 例外省治愈暂无具体省份信息。\",\"abroadRemark\":\"\",\"marquee\":[{\"id\":1800,\"marqueeLabel\":\"武汉\",\"marqueeContent\":\"火车客运到站、市内轨道交通同日恢复\",\"marqueeLink\":\"https://dxy.me/sR3QrU\"},{\"id\":1801,\"marqueeLabel\":\"5分钟\",\"marqueeContent\":\"快速病毒检测技术在美上市应用\",\"marqueeLink\":\"https://dxy.me/qj4olR\"},{\"id\":1802,\"marqueeLabel\":\"数字新冠\",\"marqueeContent\":\"3 月 28 日，世界因新冠而变\",\"marqueeLink\":\"https://dxy.me/205erH\"}],\"quanguoTrendChart\":[{\"imgUrl\":\"https://img1.dxycdn.com/2020/0324/278/3403801351376518263-135.png\",\"title\":\"新增疑似/新增确诊\"},{\"imgUrl\":\"https://img1.dxycdn.com/2020/0324/812/3403847865872006755-135.png\",\"title\":\"境外输入\"},{\"imgUrl\":\"https://img1.dxycdn.com/2020/0324/547/3403847848692336947-135.png\",\"title\":\"现存确诊\"},{\"imgUrl\":\"https://img1.dxycdn.com/2020/0324/775/3403801407211095604-135.png\",\"title\":\"治愈\"},{\"imgUrl\":\"https://img1.dxycdn.com/2020/0324/250/3403801424390727199-135.png\",\"title\":\"死亡\"}],\"hbFeiHbTrendChart\":[{\"imgUrl\":\"https://img1.dxycdn.com/2020/0326/624/3404177508906904585-135.png\",\"title\":\"非湖北新增确诊\"},{\"imgUrl\":\"https://img1.dxycdn.com/2020/0326/777/3404177532529485065-135.png\",\"title\":\"湖北新增确诊\"},{\"imgUrl\":\"https://img1.dxycdn.com/2020/0326/376/3404177556151805921-135.png\",\"title\":\"湖北现存确诊\"},{\"imgUrl\":\"https://img1.dxycdn.com/2020/0326/527/3404177575478899995-135.png\",\"title\":\"非湖北现存确诊\"},{\"imgUrl\":\"https://img1.dxycdn.com/2020/0326/419/3404177596953996726-135.png\",\"title\":\"治愈/死亡\"}],\"foreignTrendChart\":[{\"imgUrl\":\"https://img1.dxycdn.com/2020/0320/702/3403079914982117944-135.png\",\"title\":\"国外新增确诊\"},{\"imgUrl\":\"https://img1.dxycdn.com/2020/0320/396/3403079925719536561-135.png\",\"title\":\"国外累计确诊\"},{\"imgUrl\":\"https://img1.dxycdn.com/2020/0320/139/3403079936457225524-135.png\",\"title\":\"国外死亡\"}],\"importantForeignTrendChart\":[{\"imgUrl\":\"https://img1.dxycdn.com/2020/0320/450/3403077453965772423-135.png\",\"title\":\"重点国家新增确诊\"},{\"imgUrl\":\"https://img1.dxycdn.com/2020/0320/276/3403077462555980566-135.png\",\"title\":\"日本新增确诊\"},{\"imgUrl\":\"https://img1.dxycdn.com/2020/0320/340/3403077473293125942-135.png\",\"title\":\"意大利新增确诊\"},{\"imgUrl\":\"https://img1.dxycdn.com/2020/0320/723/3403077481883334043-135.png\",\"title\":\"伊朗新增确诊\"},{\"imgUrl\":\"https://img1.dxycdn.com/2020/0320/266/3403077492620752785-135.png\",\"title\":\"美国新增确诊\"},{\"imgUrl\":\"https://img1.dxycdn.com/2020/0320/870/3403077503358171278-135.png\",\"title\":\"法国新增确诊\"},{\"imgUrl\":\"https://img1.dxycdn.com/2020/0320/053/3403077511947832997-135.png\",\"title\":\"德国新增确诊\"},{\"imgUrl\":\"https://img1.dxycdn.com/2020/0320/878/3403077520537768006-135.png\",\"title\":\"西班牙新增确诊\"},{\"imgUrl\":\"https://img1.dxycdn.com/2020/0320/443/3403077531275186665-135.png\",\"title\":\"韩国新增确诊\"}],\"foreignTrendChartGlobal\":[{\"imgUrl\":\"https://img1.dxycdn.com/2020/0319/740/3402859458605738923-135.png\",\"title\":\"Daily New Cases\"},{\"imgUrl\":\"https://img1.dxycdn.com/2020/0319/351/3402856772103846114-135.png\",\"title\":\"Total Confirmed Cases\"},{\"imgUrl\":\"https://img1.dxycdn.com/2020/0319/236/3402856782841001789-135.png\",\"title\":\"Total Deaths Cases\"}],\"importantForeignTrendChartGlobal\":[{\"imgUrl\":\"https://img1.dxycdn.com/2020/0319/122/3402856838675578578-135.png\",\"title\":\"Daily New Cases\"},{\"imgUrl\":\"https://img1.dxycdn.com/2020/0319/685/3402856849412997239-135.png\",\"title\":\"Japan\"},{\"imgUrl\":\"https://img1.dxycdn.com/2020/0319/477/3402856860150678804-135.png\",\"title\":\"Italy\"},{\"imgUrl\":\"https://img1.dxycdn.com/2020/0319/454/3402856873035581014-135.png\",\"title\":\"Iran\"},{\"imgUrl\":\"https://img1.dxycdn.com/2020/0319/022/3402856883772999714-135.png\",\"title\":\"U.S.A.\"},{\"imgUrl\":\"https://img1.dxycdn.com/2020/0319/529/3402856894510155506-135.png\",\"title\":\"France\"},{\"imgUrl\":\"https://img1.dxycdn.com/2020/0319/211/3402856905247574064-135.png\",\"title\":\"Germany\"},{\"imgUrl\":\"https://img1.dxycdn.com/2020/0319/054/3402856913837508985-135.png\",\"title\":\"Spain\"},{\"imgUrl\":\"https://img1.dxycdn.com/2020/0319/088/3402856928870157852-135.png\",\"title\":\"Republic of Korea\"}],\"foreignStatistics\":{\"currentConfirmedCount\":477122,\"confirmedCount\":567960,\"suspectedCount\":4,\"curedCount\":63982,\"deadCount\":26856,\"suspectedIncr\":0,\"currentConfirmedIncr\":0,\"confirmedIncr\":0,\"curedIncr\":0,\"deadIncr\":0},\"globalStatistics\":{\"currentConfirmedCount\":480557,\"confirmedCount\":650301,\"curedCount\":139582,\"deadCount\":30162,\"currentConfirmedIncr\":-355,\"confirmedIncr\":128,\"curedIncr\":478,\"deadIncr\":5},\"globalOtherTrendChartData\":\"https://file1.dxycdn.com/2020/0329/837/3404721996943369118-135.json\"}}catch(e){}']"
      ]
     },
     "execution_count": 8,
     "metadata": {},
     "output_type": "execute_result"
    }
   ],
   "source": [
    "data = soup.findAll(text=re.compile('\\\"summary.+\\\"confirmedCount\\\":\\d'))\n",
    "\n",
    "data\n"
   ]
  },
  {
   "cell_type": "code",
   "execution_count": 9,
   "metadata": {},
   "outputs": [],
   "source": [
    "m = re.search('\\\"confirmedCount\\\":(\\d+)', data[0])\n",
    "summary_confirmed_count = int(m.group(1))\n",
    "\n",
    "\n",
    "m = re.search('\\\"curedCount\\\":(\\d+)', data[0])\n",
    "summary_cured_count = int(m.group(1))\n",
    "\n",
    "m = re.search('\\\"deadCount\\\":(\\d+)', data[0])\n",
    "summary_dead_count = int(m.group(1))\n"
   ]
  },
  {
   "cell_type": "code",
   "execution_count": 10,
   "metadata": {},
   "outputs": [
    {
     "data": {
      "text/html": [
       "<div>\n",
       "<style scoped>\n",
       "    .dataframe tbody tr th:only-of-type {\n",
       "        vertical-align: middle;\n",
       "    }\n",
       "\n",
       "    .dataframe tbody tr th {\n",
       "        vertical-align: top;\n",
       "    }\n",
       "\n",
       "    .dataframe thead th {\n",
       "        text-align: right;\n",
       "    }\n",
       "</style>\n",
       "<table border=\"1\" class=\"dataframe\">\n",
       "  <thead>\n",
       "    <tr style=\"text-align: right;\">\n",
       "      <th></th>\n",
       "      <th>datetime</th>\n",
       "      <th>confirmed</th>\n",
       "      <th>cured</th>\n",
       "      <th>dead</th>\n",
       "    </tr>\n",
       "  </thead>\n",
       "  <tbody>\n",
       "    <tr>\n",
       "      <th>0</th>\n",
       "      <td>2020-03-29 01:58</td>\n",
       "      <td>82341</td>\n",
       "      <td>75600</td>\n",
       "      <td>3306</td>\n",
       "    </tr>\n",
       "  </tbody>\n",
       "</table>\n",
       "</div>"
      ],
      "text/plain": [
       "           datetime  confirmed  cured  dead\n",
       "0  2020-03-29 01:58      82341  75600  3306"
      ]
     },
     "execution_count": 10,
     "metadata": {},
     "output_type": "execute_result"
    }
   ],
   "source": [
    "# make a dataframe\n",
    "df = pd.DataFrame({\n",
    "    'datetime': data_date_time,\n",
    "    'confirmed': summary_confirmed_count,\n",
    "    'cured': summary_cured_count,\n",
    "    'dead': summary_dead_count\n",
    "}, index=[0])\n",
    "df"
   ]
  },
  {
   "cell_type": "markdown",
   "metadata": {},
   "source": [
    "### Save to file"
   ]
  },
  {
   "cell_type": "code",
   "execution_count": 11,
   "metadata": {},
   "outputs": [],
   "source": [
    "from pathlib import Path\n",
    "csv_file = '../data/china-summary-cases.csv'\n",
    "\n",
    "if Path(csv_file).exists():\n",
    "    # read out the old data - then merge with new data and remove duplicates based on datetime\n",
    "    old_df = pd.read_csv(csv_file)\n",
    "    df = df.append(old_df)\n",
    "df.drop_duplicates(subset=['datetime'], inplace=True)"
   ]
  },
  {
   "cell_type": "code",
   "execution_count": 12,
   "metadata": {},
   "outputs": [],
   "source": [
    "df.sort_values(by=['datetime'], inplace=True)\n",
    "\n",
    "df.to_csv(csv_file, index=False)\n"
   ]
  },
  {
   "cell_type": "markdown",
   "metadata": {},
   "source": [
    "### Plot graph"
   ]
  },
  {
   "cell_type": "code",
   "execution_count": 13,
   "metadata": {},
   "outputs": [],
   "source": [
    "import seaborn as sns\n",
    "import matplotlib.pyplot as plt\n",
    "from pandas.plotting import register_matplotlib_converters\n",
    "register_matplotlib_converters()\n",
    "\n",
    "png_file = '../images/china-summary-cases.png'\n",
    "# convert to pd.datetime\n",
    "df['datetime_idx'] = pd.to_datetime(df['datetime'], format=\"%Y-%m-%d %H:%M\")\n",
    "\n",
    "df.set_index('datetime_idx', inplace=True)\n",
    "df.drop(['datetime'], axis=1, inplace=True)\n"
   ]
  },
  {
   "cell_type": "code",
   "execution_count": 14,
   "metadata": {},
   "outputs": [
    {
     "data": {
      "text/html": [
       "<div>\n",
       "<style scoped>\n",
       "    .dataframe tbody tr th:only-of-type {\n",
       "        vertical-align: middle;\n",
       "    }\n",
       "\n",
       "    .dataframe tbody tr th {\n",
       "        vertical-align: top;\n",
       "    }\n",
       "\n",
       "    .dataframe thead th {\n",
       "        text-align: right;\n",
       "    }\n",
       "</style>\n",
       "<table border=\"1\" class=\"dataframe\">\n",
       "  <thead>\n",
       "    <tr style=\"text-align: right;\">\n",
       "      <th></th>\n",
       "      <th>confirmed</th>\n",
       "      <th>cured</th>\n",
       "      <th>dead</th>\n",
       "    </tr>\n",
       "    <tr>\n",
       "      <th>datetime_idx</th>\n",
       "      <th></th>\n",
       "      <th></th>\n",
       "      <th></th>\n",
       "    </tr>\n",
       "  </thead>\n",
       "  <tbody>\n",
       "    <tr>\n",
       "      <th>2020-02-02 10:22:00</th>\n",
       "      <td>14483</td>\n",
       "      <td>379</td>\n",
       "      <td>304</td>\n",
       "    </tr>\n",
       "    <tr>\n",
       "      <th>2020-02-02 10:28:00</th>\n",
       "      <td>14483</td>\n",
       "      <td>380</td>\n",
       "      <td>304</td>\n",
       "    </tr>\n",
       "    <tr>\n",
       "      <th>2020-02-02 11:19:00</th>\n",
       "      <td>14489</td>\n",
       "      <td>385</td>\n",
       "      <td>304</td>\n",
       "    </tr>\n",
       "    <tr>\n",
       "      <th>2020-02-02 11:54:00</th>\n",
       "      <td>14489</td>\n",
       "      <td>397</td>\n",
       "      <td>304</td>\n",
       "    </tr>\n",
       "    <tr>\n",
       "      <th>2020-02-02 15:01:00</th>\n",
       "      <td>14490</td>\n",
       "      <td>430</td>\n",
       "      <td>304</td>\n",
       "    </tr>\n",
       "    <tr>\n",
       "      <th>...</th>\n",
       "      <td>...</td>\n",
       "      <td>...</td>\n",
       "      <td>...</td>\n",
       "    </tr>\n",
       "    <tr>\n",
       "      <th>2020-03-28 15:57:00</th>\n",
       "      <td>82282</td>\n",
       "      <td>75124</td>\n",
       "      <td>3301</td>\n",
       "    </tr>\n",
       "    <tr>\n",
       "      <th>2020-03-28 17:00:00</th>\n",
       "      <td>82282</td>\n",
       "      <td>75124</td>\n",
       "      <td>3301</td>\n",
       "    </tr>\n",
       "    <tr>\n",
       "      <th>2020-03-28 23:10:00</th>\n",
       "      <td>82282</td>\n",
       "      <td>75124</td>\n",
       "      <td>3301</td>\n",
       "    </tr>\n",
       "    <tr>\n",
       "      <th>2020-03-29 00:55:00</th>\n",
       "      <td>82289</td>\n",
       "      <td>75124</td>\n",
       "      <td>3301</td>\n",
       "    </tr>\n",
       "    <tr>\n",
       "      <th>2020-03-29 01:58:00</th>\n",
       "      <td>82341</td>\n",
       "      <td>75600</td>\n",
       "      <td>3306</td>\n",
       "    </tr>\n",
       "  </tbody>\n",
       "</table>\n",
       "<p>854 rows × 3 columns</p>\n",
       "</div>"
      ],
      "text/plain": [
       "                     confirmed  cured  dead\n",
       "datetime_idx                               \n",
       "2020-02-02 10:22:00      14483    379   304\n",
       "2020-02-02 10:28:00      14483    380   304\n",
       "2020-02-02 11:19:00      14489    385   304\n",
       "2020-02-02 11:54:00      14489    397   304\n",
       "2020-02-02 15:01:00      14490    430   304\n",
       "...                        ...    ...   ...\n",
       "2020-03-28 15:57:00      82282  75124  3301\n",
       "2020-03-28 17:00:00      82282  75124  3301\n",
       "2020-03-28 23:10:00      82282  75124  3301\n",
       "2020-03-29 00:55:00      82289  75124  3301\n",
       "2020-03-29 01:58:00      82341  75600  3306\n",
       "\n",
       "[854 rows x 3 columns]"
      ]
     },
     "execution_count": 14,
     "metadata": {},
     "output_type": "execute_result"
    }
   ],
   "source": [
    "df"
   ]
  },
  {
   "cell_type": "code",
   "execution_count": 15,
   "metadata": {
    "scrolled": true
   },
   "outputs": [
    {
     "data": {
      "image/png": "[encoded data removed]",
      "text/plain": [
       "<Figure size 1008x1008 with 3 Axes>"
      ]
     },
     "metadata": {},
     "output_type": "display_data"
    }
   ],
   "source": [
    "if df.shape[0]>1:\n",
    "    # line chart when having at least a few points\n",
    "    sns.set(rc={'figure.figsize':(14,14)})\n",
    "    sns.set(style=\"whitegrid\")\n",
    "\n",
    "    fig, axs = plt.subplots(nrows=3)\n",
    "\n",
    "    sns.lineplot(x=df.index, y = 'confirmed', data=df, ax= axs[0], estimator=None, color='orange')\n",
    "    sns.lineplot(x=df.index, y = 'cured', data=df, ax= axs[1], estimator=None, color='green')\n",
    "    sns.lineplot(x=df.index, y = 'dead', data=df, ax= axs[2], estimator=None, color='darkred')\n",
    "\n",
    "    for ax in axs:\n",
    "        ax.set_xlabel('')\n",
    "        ax.tick_params(axis='x', labelrotation=30)\n",
    "else:\n",
    "\n",
    "    ax = df.plot(kind='bar', stacked=True, figsize=(9,6))\n",
    "    fig = ax.get_figure()\n",
    "    ax.set_xlabel('')\n",
    "    for label in ax.get_xticklabels():\n",
    "        label.set_rotation(0) \n"
   ]
  },
  {
   "cell_type": "code",
   "execution_count": 16,
   "metadata": {},
   "outputs": [],
   "source": [
    "fig.savefig(png_file)"
   ]
  },
  {
   "cell_type": "code",
   "execution_count": null,
   "metadata": {},
   "outputs": [],
   "source": []
  },
  {
   "cell_type": "code",
   "execution_count": null,
   "metadata": {},
   "outputs": [],
   "source": []
  }
 ],
 "metadata": {
  "kernelspec": {
   "display_name": "Python 3",
   "language": "python",
   "name": "python3"
  },
  "language_info": {
   "codemirror_mode": {
    "name": "ipython",
    "version": 3
   },
   "file_extension": ".py",
   "mimetype": "text/x-python",
   "name": "python",
   "nbconvert_exporter": "python",
   "pygments_lexer": "ipython3",
   "version": "3.7.6"
  }
 },
 "nbformat": 4,
 "nbformat_minor": 2
}
