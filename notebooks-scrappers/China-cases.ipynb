{
 "cells": [
  {
   "cell_type": "code",
   "execution_count": 1,
   "metadata": {},
   "outputs": [],
   "source": [
    "import pandas as pd\n",
    "import requests\n",
    "from bs4 import BeautifulSoup\n",
    "import re\n",
    "from datetime import datetime\n",
    "from selenium import webdriver\n",
    "from selenium.webdriver.chrome.options import Options  \n"
   ]
  },
  {
   "cell_type": "code",
   "execution_count": 2,
   "metadata": {},
   "outputs": [
    {
     "data": {
      "text/plain": [
       "datetime.datetime(2020, 4, 6, 10, 8, 50, 811024)"
      ]
     },
     "execution_count": 2,
     "metadata": {},
     "output_type": "execute_result"
    }
   ],
   "source": [
    "datetime.now()"
   ]
  },
  {
   "cell_type": "code",
   "execution_count": 3,
   "metadata": {},
   "outputs": [],
   "source": [
    "chrome_options = Options()  \n",
    "chrome_options.add_argument(\"--headless\")  \n",
    "chrome_options.add_argument(\"--no-sandbox\")\n",
    "\n",
    "driver = webdriver.Chrome('chromedriver', options=chrome_options)"
   ]
  },
  {
   "cell_type": "code",
   "execution_count": 4,
   "metadata": {},
   "outputs": [],
   "source": [
    "url = 'https://ncov.dxy.cn/ncovh5/view/pneumonia'\n",
    "driver.get(url)"
   ]
  },
  {
   "cell_type": "markdown",
   "metadata": {},
   "source": [
    "### Extract date"
   ]
  },
  {
   "cell_type": "code",
   "execution_count": 5,
   "metadata": {},
   "outputs": [],
   "source": [
    "content = driver.page_source\n",
    "soup =BeautifulSoup(content, 'lxml')\n"
   ]
  },
  {
   "cell_type": "code",
   "execution_count": 6,
   "metadata": {},
   "outputs": [
    {
     "data": {
      "text/plain": [
       "['try { window.getTimelineService1 = [{\"id\":26046,\"pubDate\":1586167049000,\"pubDateStr\":\"4分钟前\",\"title\":\"\\u200b伊朗新增新冠肺炎确诊病例2274例 累计确诊60500例\",\"summary\":\"根据伊朗卫生部最新消息，当地时间6号，伊朗新增新冠肺炎确诊病例2274例，新增死亡136例。截至当天中午，伊朗累计确诊新冠肺炎病例60500例，其中24236例康复，3739例死亡。\",\"infoSource\":\"央视新闻app\",\"sourceUrl\":\"http://app.cctv.com/special/cportal/detail/arti/index.html?id=Arti8hOJkn1n7hwctwZvWHVN200406&isfromapp=1\",\"provinceId\":\"\"},{\"id\":26048,\"pubDate\":1586166838000,\"pubDateStr\":\"8分钟前\",\"title\":\"马来西亚新增131例新冠肺炎确诊病例 累计确诊3793例\",\"summary\":\"当地时间6日，马来西亚宣布新增131例新冠肺炎确诊病例，累计确诊3793例。新增死亡病例1例，累计死亡62例。\\xa0马来西亚卫生总监努尔·希萨姆·阿卜杜拉介绍说，今日共有236人治愈出院，成为单日最高治愈出院纪录。累计治愈1241例。\",\"infoSource\":\"央视新闻app\",\"sourceUrl\":\"http://app.cctv.com/special/cportal/detail/arti/index.html?id=ArtiGGKtK4IughYOmRyRYTBj200406&isfromapp=1\",\"provinceId\":\"\"},{\"id\":26034,\"pubDate\":1586166296000,\"pubDateStr\":\"17分钟前\",\"title\":\"印度70万个快速检验试剂盒将投入使用\",\"summary\":\"来自印度亚洲新闻社的消息，印度卫生部所属的医学研究理事会将在4月8日前得到约70万个血液抗体快速检测试剂盒。\",\"infoSource\":\"央视新闻app\",\"sourceUrl\":\"http://app.cctv.com/special/cportal/detail/arti/index.html?id=ArtiiSqUtGp6hOYchsnJmJZz200406&isfromapp=1\",\"provinceId\":\"\"},{\"id\":26027,\"pubDate\":1586165762000,\"pubDateStr\":\"26分钟前\",\"title\":\"\\u200b安倍表示将于7日发布紧急事态宣言\",\"summary\":\"\\\\n日本首相安倍晋三于6日傍晚宣布，将于7日发布紧急事态宣言。对象地区为东京、千叶、埼玉、神奈川、大阪、兵库和福冈等七个都府县，时间为期一个月。\",\"infoSource\":\"央视新闻app\",\"sourceUrl\":\"http://app.cctv.com/special/cportal/detail/arti/index.html?id=ArtiDzUk5pZOSXPnTBZ9pFqf200406&isfromapp=1\",\"provinceId\":\"\"},{\"id\":26026,\"pubDate\":1586165722000,\"pubDateStr\":\"27分钟前\",\"title\":\"西班牙新增4273例新冠肺炎确诊病例\",\"summary\":\"据西班牙卫生部官网通报，过去24小时，该国新增4273例新冠肺炎确诊病例，累计确诊135032例；新增死亡637例，累计死亡13055例。\\\\n\",\"infoSource\":\"人民日报海外版\",\"sourceUrl\":\"http://m.weibo.cn/3057540037/4490766883899364\",\"provinceId\":\"\"},{\"id\":26028,\"pubDate\":1586165603000,\"pubDateStr\":\"29分钟前\",\"title\":\"援鄂医疗队专家：无症状感染者数量少且“有迹可循” 无需恐慌\",\"summary\":\"今天（6日）上午，北京协和医院援卾抗疫医疗队第一批队长刘正印接受记者采访时表示，目前看，无症状感染者是很少的一部分，而且都是有迹可循的，不必过度紧张。对于公众来说，还是要加强自身防护，勤洗手、戴口罩。\",\"infoSource\":\"央视新闻app\",\"sourceUrl\":\"http://app.cctv.com/special/cportal/detail/arti/index.html?id=Arti7fOSNTL40M4J5RmEWJra200406&isfromapp=1\",\"provinceId\":\"\"},{\"id\":26017,\"pubDate\":1586165137000,\"pubDateStr\":\"36分钟前\",\"title\":\"\\u200b科威特新增109例新冠肺炎确诊病例 累计665例\",\"summary\":\"当地时间6日，科威特累计确诊病例665例，累计治愈出院103例，死亡1例。\",\"infoSource\":\"央视新闻app\",\"sourceUrl\":\"http://app.cctv.com/special/cportal/detail/arti/index.html?id=ArtitPYjHEKYciC0MCm0IMKN200406&isfromapp=1\",\"provinceId\":\"\"},{\"id\":25998,\"pubDate\":1586164366000,\"pubDateStr\":\"49分钟前\",\"title\":\"印尼新增新冠肺炎确诊病例218例 累计2491例\",\"summary\":\"4月6日，印尼卫生部宣布新增218例新冠肺炎确诊病例，全国累计确诊病例2491人，含209例死亡病例。\",\"infoSource\":\"央视新闻app\",\"sourceUrl\":\"http://app.cctv.com/special/cportal/detail/arti/index.html?id=Artiu9fZDQmLFytn4LBisfQJ200406&isfromapp=1\",\"provinceId\":\"\"},{\"id\":25996,\"pubDate\":1586163979000,\"pubDateStr\":\"56分钟前\",\"title\":\"全球感染人数超125万例\",\"summary\":\"截至北京时间4月6日12时，#全球已有208个国家和地区出现确诊病例#，累计确诊1250292例，钻石公主号邮轮712例，累计死亡69057例。其中，美国累计感染人数已达337620例。\",\"infoSource\":\"人民日报海外版\",\"sourceUrl\":\"http://m.weibo.cn/3057540037/4490759573281690\",\"provinceId\":\"\"},{\"id\":25997,\"pubDate\":1586163900000,\"pubDateStr\":\"57分钟前\",\"title\":\"\\u200b孟加拉国新增35例新冠肺炎确诊病例 累计123例\",\"summary\":\"当地时间4月6日，孟加拉国流行病学、疾病控制与研究学院确认新增35例新冠肺炎确诊病例，其中30例男性，5例女性，死亡3例。截至目前，该国共确诊123例新冠肺炎确诊病例，死亡12例。\",\"infoSource\":\"央视新闻app\",\"sourceUrl\":\"http://app.cctv.com/special/cportal/detail/arti/index.html?id=ArticSyZPKtItkR2bIa0H0Lg200406&isfromapp=1\",\"provinceId\":\"\"},{\"id\":25986,\"pubDate\":1586163865000,\"pubDateStr\":\"57分钟前\",\"title\":\"西班牙雷普索尔公司前总裁因新冠肺炎去世\",\"summary\":\"当地时间6日，根据西班牙《阿贝赛报》消息，西班牙雷普索尔公司（REPSOL）前总裁阿尔丰索-科尔蒂纳因患新冠肺炎去世，享年76岁。雷普索尔公司成立于1987年9月，是西班牙最大的工业公司，其经营业务包括勘探与生产、炼制与销售、化工、天然气等四个方面。\",\"infoSource\":\"央视新闻app\",\"sourceUrl\":\"http://app.cctv.com/special/cportal/detail/arti/index.html?id=ArtiB8bJRHQmZRC0IGImrili200406&isfromapp=1\",\"provinceId\":\"\"},{\"id\":25988,\"pubDate\":1586163826000,\"pubDateStr\":\"58分钟前\",\"title\":\"匈牙利新增新冠肺炎确诊病例11例 累计确诊744例\",\"summary\":\"当地时间4月6日，匈牙利官方新冠疫情信息网站公布，境内新增新冠肺炎确诊病例11例，累计确诊744例；4名60岁以上的感染者死亡，累计死亡病例增至38例；新增治愈病例1例，累计治愈67例。\",\"infoSource\":\"央视新闻app\",\"sourceUrl\":\"http://app.cctv.com/special/cportal/detail/arti/index.html?id=ArtinHi7vOFWzfQVilJ8Dlgq200406&isfromapp=1\",\"provinceId\":\"\"},{\"id\":25991,\"pubDate\":1586163761000,\"pubDateStr\":\"59分钟前\",\"title\":\"菲律宾新增确诊病例414例 累计确诊3660例\",\"summary\":\"菲律宾卫生部发布消息称，截至4月6日下午4时，菲律宾新增新冠肺炎确诊病例414例，累计确诊3660例。新增死亡病例11例，累计死亡163例。新增治愈病例9例，累计治愈73例。\",\"infoSource\":\"央视新闻app\",\"sourceUrl\":\"http://app.cctv.com/special/cportal/detail/arti/index.html?id=Arti06QTmvyl348GoANAbh4n200406&isfromapp=1\",\"provinceId\":\"\"},{\"id\":25985,\"pubDate\":1586163659000,\"pubDateStr\":\"1小时前\",\"title\":\"全球感染人数超125万例\",\"summary\":\"截至北京时间4月6日12时，#全球已有208个国家和地区出现确诊病例#，累计确诊1250292例，钻石公主号邮轮712例，累计死亡69057例。其中，美国累计感染人数已达337620例。\",\"infoSource\":\"人民日报\",\"sourceUrl\":\"http://m.weibo.cn/2803301701/4490758230481241\",\"provinceId\":\"\"},{\"id\":25980,\"pubDate\":1586163484000,\"pubDateStr\":\"1小时前\",\"title\":\"[国家卫生健康委]截至4月5日24时新型冠状病毒肺炎疫情最新情况\",\"summary\":\"\\\\n  4月5日0—24时，31个省（自治区、直辖市）和新疆生产建设兵团报告新增确诊病例39例，其中38例为境外输入病例，1例为本土病例（广东1例）；新增死亡病例1例（湖北1例）；新增疑似病例10例，均为境外输入病例。\\u3000\\u3000当日新增治愈出院病例114例，解除医学观察的密切接触者2151人，重症病例减少30例。\\u3000\\u3000境外输入现有确诊病例693例（含重症病例22例），现有疑似病例88例。累计确诊病例951例，累计治愈出院病例258例，累计死亡病例0例。\\u3000\",\"infoSource\":\"河南卫健委\",\"sourceUrl\":\"http://www.hnwsjsw.gov.cn/contents/858/49264.shtml\",\"provinceId\":\"\"},{\"id\":25983,\"pubDate\":1586163300000,\"pubDateStr\":\"1小时前\",\"title\":\"世卫组织：全球新冠肺炎累计达到1136862例\",\"summary\":\"世卫组织实时统计数据显示，截至欧洲中部时间4月6日2时（北京时间4月6日8时），全球确诊新冠肺炎1136862例，死亡63025例，目前欧洲区域已有621407例，中国以外超过105万例。\",\"infoSource\":\"央视新闻app\",\"sourceUrl\":\"http://app.cctv.com/special/cportal/detail/arti/index.html?id=Arti9kUF3ov7QLB7eKOiYtFI200406&isfromapp=1\",\"provinceId\":\"\"},{\"id\":25984,\"pubDate\":1586163081000,\"pubDateStr\":\"1小时前\",\"title\":\"美疫情仍未控制 意法多国违规外出增多 全球防疫形势紧张\",\"summary\":\"当地时间5日，美国总统特朗普批准特拉华州和南达科他州进入“灾难状态”，这是美国联邦政府批准的第46和第47个进入“灾难状态”的地区。同一天，美国国家过敏症和传染病研究所主任安东尼·福奇表示，目前，美国新冠肺炎疫情仍未得到控制，但有望在一周左右进入平稳期。\\xa0\",\"infoSource\":\"央视新闻app\",\"sourceUrl\":\"http://app.cctv.com/special/cportal/detail/arti/index.html?id=Arti1ao1o7xoXFxUKQzPXecO200406&isfromapp=1\",\"provinceId\":\"\"},{\"id\":25973,\"pubDate\":1586162906000,\"pubDateStr\":\"1小时前\",\"title\":\"意大利小镇出台规定 外出必须戴口罩\",\"summary\":\"当地时间5日，意大利托斯卡纳大区小镇克雷斯皮纳·洛伦扎纳出台规定，外出必须佩戴口罩，否则将处以400-3000欧元罚款。此外，允许不戴口罩进入店内的商家也将被强制停业1-5天。小镇市长达多纳在当地刚刚给所有居民发放了防护物资之后，就签署了戴口罩的特别条例。\",\"infoSource\":\"央视新闻app\",\"sourceUrl\":\"http://app.cctv.com/special/cportal/detail/arti/index.html?id=ArtiYSSpKi3aputDfUAYBNSZ200406&isfromapp=1\",\"provinceId\":\"\"},{\"id\":25971,\"pubDate\":1586162803000,\"pubDateStr\":\"1小时前\",\"title\":\"无证据证明杨柳絮中存新冠病毒\",\"summary\":\"6日，北京市人民政府新闻办公室召开新冠肺炎疫情防控工作新闻发布会。会上，北京同仁医院鼻科副主任王成硕介绍称，北京每年4月至5月上旬，杨柳飞絮飘扬，“根据现有研究，没有证据证明杨柳絮中存在新冠肺炎病毒。\\\\n\",\"infoSource\":\"人民日报\",\"sourceUrl\":\"http://m.weibo.cn/2803301701/4490754640383331\",\"provinceId\":\"\"},{\"id\":25974,\"pubDate\":1586162802000,\"pubDateStr\":\"1小时前\",\"title\":\"热评两岸丨两岸渐行渐远已是现实，但和平发展大势不变\",\"summary\":\"新冠肺炎疫情肆虐全球，美国政坛元老基辛格认为，病毒大流行将永远改变世界秩序。\",\"infoSource\":\"央视新闻app\",\"sourceUrl\":\"http://app.cctv.com/special/cportal/detail/arti/index.html?id=ArtiX9Ib2oex5rPtU40NHFwG200406&isfromapp=1\",\"provinceId\":\"\"},{\"id\":25970,\"pubDate\":1586162759000,\"pubDateStr\":\"1小时前\",\"title\":\"日本爱心人士曾向中国捐10万口罩\",\"summary\":\"中国驻日本大使孔铉佑：中国疫情最艰难时，日本熊本县的马场先生，四处筹措10万只口罩，在寒冬跨越一千多公里来到东京，把口罩交给我们，说互相帮忙应当应分。\",\"infoSource\":\"央视新闻\",\"sourceUrl\":\"http://m.weibo.cn/2656274875/4490754456483047\",\"provinceId\":\"\"},{\"id\":25975,\"pubDate\":1586162687000,\"pubDateStr\":\"1小时前\",\"title\":\"沈阳铁路18趟旅客列车恢复开行\",\"summary\":\"随着疫情防控形势持续向好，为方便广大旅客出行，中国铁路沈阳局集团公司优化调整列车开行方案，18趟旅客列车恢复开行。\",\"infoSource\":\"央视新闻app\",\"sourceUrl\":\"http://app.cctv.com/special/cportal/detail/arti/index.html?id=ArtiHT1aEyZIxvmA3Xhe2b6z200406&isfromapp=1\",\"provinceId\":\"\"},{\"id\":25964,\"pubDate\":1586162160000,\"pubDateStr\":\"1小时前\",\"title\":\"摩洛哥6日新增92例新冠肺炎确诊病例 新增死亡1例\",\"summary\":\"摩洛哥卫生部4月6日8时证实，该国当天新增92例新冠肺炎确诊病例和1例死亡病例。目前摩洛哥累计确诊1113例，死亡71例，治愈76例。\",\"infoSource\":\"央视新闻app\",\"sourceUrl\":\"http://app.cctv.com/special/cportal/detail/arti/index.html?id=Artiv8c3qLVyivHj7HEwyTwi200406&isfromapp=1\",\"provinceId\":\"\"},{\"id\":25955,\"pubDate\":1586162029000,\"pubDateStr\":\"1小时前\",\"title\":\"老挝新增1例新冠肺炎确诊病例 累计确诊12例\",\"summary\":\"老挝卫生部6日公布，截至当地时间14时30分，老挝当日新增1例新冠肺炎确诊病例，累计确诊12例。\",\"infoSource\":\"央视新闻app\",\"sourceUrl\":\"http://app.cctv.com/special/cportal/detail/arti/index.html?id=ArtiNxn8KpSGRB8NG8Vnkrgq200406&isfromapp=1\",\"provinceId\":\"\"},{\"id\":25951,\"pubDate\":1586161717000,\"pubDateStr\":\"1小时前\",\"title\":\"白俄罗斯累计确诊新冠肺炎病例700例\",\"summary\":\"当地时间4月6日，白俄罗斯卫生部发布消息称，截至目前，白俄罗斯累计确诊 新冠肺炎病例700例，其中治愈53例，尚有634人在医院接受治疗，死亡13例。自2月28日报告首例新冠肺炎确诊病例以来，白俄罗斯采取了一系列措施加强防控，但并未因疫情发展关闭国境，只是要求来自有疫情国家的入境人员进行 14天自我隔离。\",\"infoSource\":\"央视新闻app\",\"sourceUrl\":\"http://app.cctv.com/special/cportal/detail/arti/index.html?id=Artic2nNcP8nvO9LAmOoJ6qF200406&isfromapp=1\",\"provinceId\":\"\"},{\"id\":25943,\"pubDate\":1586161254000,\"pubDateStr\":\"1小时前\",\"title\":\"     境外输入确诊病例相关情况 \",\"summary\":\"4月5日，我市新增报告境外输入新冠肺炎确诊病例1例。\",\"infoSource\":\"北京卫健委\",\"sourceUrl\":\"http://wjw.beijing.gov.cn/xwzx_20031/xwfb/202004/t20200406_1790563.html\",\"provinceId\":\"\"},{\"id\":25945,\"pubDate\":1586161229000,\"pubDateStr\":\"1小时前\",\"title\":\"非洲新冠肺炎确诊病例超9000例 仅余3国尚未出现确诊病例\",\"summary\":\"非洲疾控中心6日发布的最新数据显示，截至非洲东部时间9时，共有51个国家报告新冠肺炎确诊病例9198例，其中414例死亡，813例康复。非洲大陆仅有科摩罗、莱索托以及圣多美和普林西比3国尚未出现确诊病例。包括南非、埃及、阿尔及利亚、摩洛哥等国家确诊病例超过千例。非洲疾控中心发布的图示显示，目前共有39个国家出现了本地传播病例，另外12个国家的确诊病例为境外输入。\",\"infoSource\":\"央视新闻app\",\"sourceUrl\":\"http://app.cctv.com/special/cportal/detail/arti/index.html?id=ArtieRBCr0BvpEWursbHV4Rs200406&isfromapp=1\",\"provinceId\":\"\"},{\"id\":25940,\"pubDate\":1586161048000,\"pubDateStr\":\"1小时前\",\"title\":\"\\u200b亚美尼亚新冠肺炎累计确诊833例\",\"summary\":\"当地时4月6日，亚美尼亚疫情防控统一信息平台公布消息，亚美尼亚境内当日新增确诊新冠肺炎病例11例，累计确诊病例833例，累计治愈62例，死亡8例。为防止疫情升级，自3月16日亚美尼亚全国进入紧急状态。除铁路交通和出租车外，包括地铁在内的公共交通停运。\",\"infoSource\":\"央视新闻app\",\"sourceUrl\":\"http://app.cctv.com/special/cportal/detail/arti/index.html?id=ArtikT01NZUUs9YbEDuKefbC200406&isfromapp=1\",\"provinceId\":\"\"},{\"id\":25933,\"pubDate\":1586160739000,\"pubDateStr\":\"1小时前\",\"title\":\"\\u200b格鲁吉亚新冠肺炎确诊病例累计188例\",\"summary\":\"当地时间4月6日上午，格鲁吉亚政府疫情监测平台公布消息，格鲁吉亚境内累计确诊新冠肺炎病例188例，其中治愈36例。目前，共有5056人接受隔离，386人处于医学观察。因疫情发展，格政府已宣布国家紧急状态持续至4月21日。\",\"infoSource\":\"央视新闻app\",\"sourceUrl\":\"http://app.cctv.com/special/cportal/detail/arti/index.html?id=Arti5L1MMzSkpZaVsL7WR1qe200406&isfromapp=1\",\"provinceId\":\"\"},{\"id\":25934,\"pubDate\":1586160549000,\"pubDateStr\":\"1小时前\",\"title\":\"以色列新冠肺炎确诊病例新增181例 累计8611例\",\"summary\":\"当地时间4月6日上午，以色列卫生部公布的最新疫情通报显示，在过去的12个小时（5日晚22时至6日早10时），该国新冠肺炎确诊病例增加了181例，累计8611例；新增死亡2例，死亡累计51例；141例病情危重，其中107例使用呼吸机，585例康复。\",\"infoSource\":\"央视新闻app\",\"sourceUrl\":\"http://app.cctv.com/special/cportal/detail/arti/index.html?id=ArtiosW2037qWFZ03QrZ3iMy200406&isfromapp=1\",\"provinceId\":\"\"},{\"id\":25926,\"pubDate\":1586160393000,\"pubDateStr\":\"1小时前\",\"title\":\"惊心动魄！两名游客被困深山悬崖 消防13小时生死营救\",\"summary\":\"4月4日晚20时20分，四川省洪雅县瓦屋山镇派出所接到报警，2名外来游客被困山中，寻求帮助。接到报警后，当地派出所立即联系眉山市消防救援支队瓦屋山山岳救援队联合开展救援，一场历时13小时的夜间生死营救迅速展开。\",\"infoSource\":\"央视新闻app\",\"sourceUrl\":\"http://app.cctv.com/special/cportal/detail/arti/index.html?id=ArtiXCUk2mDC9BAwFoJdM466200406&isfromapp=1\",\"provinceId\":\"\"}]}catch(e){}',\n",
       " '截至北京时间 2020-04-06 09:58',\n",
       " '截至北京时间 2020-04-06 09:58',\n",
       " '根据伊朗卫生部最新消息，当地时间6号，伊朗新增新冠肺炎确诊病例2274例，新增死亡136例。截至当天中午，伊朗累计确诊新冠肺炎病例60500例，其中24236例康复，3739例死亡。',\n",
       " '截至北京时间4月6日12时，#全球已有208个国家和地区出现确诊病例#，累计确诊1250292例，钻石公主号邮轮712例，累计死亡69057例。其中，美国累计感染人数已达337620例。',\n",
       " '当地时间4月6日，孟加拉国流行病学、疾病控制与研究学院确认新增35例新冠肺炎确诊病例，其中30例男性，5例女性，死亡3例。截至目前，该国共确诊123例新冠肺炎确诊病例，死亡12例。',\n",
       " '菲律宾卫生部发布消息称，截至4月6日下午4时，菲律宾新增新冠肺炎确诊病例414例，累计确诊3660例。新增死亡病例11例，累计死亡163例。新增治愈病例9例，累计治愈73例。',\n",
       " '截至北京时间4月6日12时，#全球已有208个国家和地区出现确诊病例#，累计确诊1250292例，钻石公主号邮轮712例，累计死亡69057例。其中，美国累计感染人数已达337620例。',\n",
       " '[国家卫生健康委]截至4月5日24时新型冠状病毒肺炎疫情最新情况',\n",
       " '世卫组织实时统计数据显示，截至欧洲中部时间4月6日2时（北京时间4月6日8时），全球确诊新冠肺炎1136862例，死亡63025例，目前欧洲区域已有621407例，中国以外超过105万例。',\n",
       " '老挝卫生部6日公布，截至当地时间14时30分，老挝当日新增1例新冠肺炎确诊病例，累计确诊12例。',\n",
       " '当地时间4月6日，白俄罗斯卫生部发布消息称，截至目前，白俄罗斯累计确诊 新冠肺炎病例700例，其中治愈53例，尚有634人在医院接受治疗，死亡13例。自2月28日报告首例新冠肺炎确诊病例以来，白俄罗斯采取了一系列措施加强防控，但并未因疫情发展关闭国境，只是要求来自有疫情国家的入境人员进行 14天自我隔离。',\n",
       " '非洲疾控中心6日发布的最新数据显示，截至非洲东部时间9时，共有51个国家报告新冠肺炎确诊病例9198例，其中414例死亡，813例康复。非洲大陆仅有科摩罗、莱索托以及圣多美和普林西比3国尚未出现确诊病例。包括南非、埃及、阿尔及利亚、摩洛哥等国家确诊病例超过千例。非洲疾控中心发布的图示显示，目前共有39个国家出现了本地传播病例，另外12个国家的确诊病例为境外输入。']"
      ]
     },
     "execution_count": 6,
     "metadata": {},
     "output_type": "execute_result"
    }
   ],
   "source": [
    "data = soup.findAll(text=re.compile(\"截至.+\"))\n",
    "data"
   ]
  },
  {
   "cell_type": "code",
   "execution_count": 7,
   "metadata": {},
   "outputs": [
    {
     "data": {
      "text/plain": [
       "'2020-04-06 09:58'"
      ]
     },
     "execution_count": 7,
     "metadata": {},
     "output_type": "execute_result"
    }
   ],
   "source": [
    "for s in data:\n",
    "    m = re.search(\"截至.*(202\\d-\\d+-\\d+ \\d+:\\d+)\", s)\n",
    "    if m is not None:\n",
    "        data_date_time = m.group(1)\n",
    "data_date_time"
   ]
  },
  {
   "cell_type": "markdown",
   "metadata": {},
   "source": [
    "### Extract data (summary)"
   ]
  },
  {
   "cell_type": "code",
   "execution_count": 8,
   "metadata": {},
   "outputs": [
    {
     "data": {
      "text/plain": [
       "['try { window.getStatisticsService = {\"id\":1,\"createTime\":1579537899000,\"modifyTime\":1586167100000,\"infectSource\":\"该字段已替换为说明2\",\"passWay\":\"该字段已替换为说明3\",\"imgUrl\":\"https://img1.dxycdn.com/2020/0201/450/3394153392393266839-135.png\",\"dailyPic\":\"https://img1.dxycdn.com/2020/0211/763/3395998884005602079-135.png,https://img1.dxycdn.com/2020/0211/362/3395998896890788910-135.png,https://img1.dxycdn.com/2020/0211/365/3395998905480724211-135.png,https://img1.dxycdn.com/2020/0211/364/3395998916217859778-135.png,https://img1.dxycdn.com/2020/0211/922/3395998929103046444-135.png,https://img1.dxycdn.com/2020/0211/089/3395998939840182072-135.png\",\"dailyPics\":[\"https://img1.dxycdn.com/2020/0211/763/3395998884005602079-135.png\",\"https://img1.dxycdn.com/2020/0211/362/3395998896890788910-135.png\",\"https://img1.dxycdn.com/2020/0211/365/3395998905480724211-135.png\",\"https://img1.dxycdn.com/2020/0211/364/3395998916217859778-135.png\",\"https://img1.dxycdn.com/2020/0211/922/3395998929103046444-135.png\",\"https://img1.dxycdn.com/2020/0211/089/3395998939840182072-135.png\"],\"summary\":\"\",\"deleted\":false,\"countRemark\":\"\",\"currentConfirmedCount\":2332,\"confirmedCount\":83039,\"suspectedCount\":951,\"curedCount\":77367,\"deadCount\":3340,\"seriousCount\":1047,\"suspectedIncr\":38,\"currentConfirmedIncr\":-49,\"confirmedIncr\":109,\"curedIncr\":157,\"deadIncr\":1,\"seriousIncr\":78,\"virus\":\"该字段已替换为说明1\",\"remark1\":\"易感人群：人群普遍易感。老年人及有基础疾病者感染后病情较重，儿童及婴幼儿也有发病\",\"remark2\":\"潜伏期：一般为 3～7 天，最长不超过 14 天，潜伏期内可能存在传染性，其中无症状病例传染性非常罕见\",\"remark3\":\"宿主：野生动物，可能为中华菊头蝠\",\"remark4\":\"\",\"remark5\":\"\",\"note1\":\"病毒：SARS-CoV-2，其导致疾病命名 COVID-19\",\"note2\":\"传染源：新冠肺炎的患者。无症状感染者也可能成为传染源。\",\"note3\":\"传播途径：经呼吸道飞沫、接触传播是主要的传播途径。气溶胶传播和消化道等传播途径尚待明确。\",\"generalRemark\":\"1. 3 月 12 日国家卫健委确诊补订遗漏 12 例确诊病例（非 12 日新增），暂无具体省份信息。 2. 浙江省 12 例外省治愈暂无具体省份信息。\",\"abroadRemark\":\"\",\"marquee\":[{\"id\":1923,\"marqueeLabel\":\"观察\",\"marqueeContent\":\"美国抗击新冠疫情中的 5 个教训\",\"marqueeLink\":\"https://dxy.me/VyCNTO\"},{\"id\":1924,\"marqueeLabel\":\"突发\",\"marqueeContent\":\"英国首相鲍里斯持续发热开始住院\",\"marqueeLink\":\"https://dxy.me/ygEfC0\"},{\"id\":1925,\"marqueeLabel\":\"数字新冠\",\"marqueeContent\":\"4 月 5 日，世界因新冠而变\",\"marqueeLink\":\"https://dxy.me/RdBVPg\"}],\"quanguoTrendChart\":[{\"imgUrl\":\"https://img1.dxycdn.com/2020/0324/278/3403801351376518263-135.png\",\"title\":\"新增疑似/新增确诊\"},{\"imgUrl\":\"https://img1.dxycdn.com/2020/0324/812/3403847865872006755-135.png\",\"title\":\"境外输入\"},{\"imgUrl\":\"https://img1.dxycdn.com/2020/0324/547/3403847848692336947-135.png\",\"title\":\"现存确诊\"},{\"imgUrl\":\"https://img1.dxycdn.com/2020/0324/775/3403801407211095604-135.png\",\"title\":\"治愈\"},{\"imgUrl\":\"https://img1.dxycdn.com/2020/0324/250/3403801424390727199-135.png\",\"title\":\"死亡\"}],\"hbFeiHbTrendChart\":[{\"imgUrl\":\"https://img1.dxycdn.com/2020/0326/624/3404177508906904585-135.png\",\"title\":\"非湖北新增确诊\"},{\"imgUrl\":\"https://img1.dxycdn.com/2020/0326/777/3404177532529485065-135.png\",\"title\":\"湖北新增确诊\"},{\"imgUrl\":\"https://img1.dxycdn.com/2020/0326/376/3404177556151805921-135.png\",\"title\":\"湖北现存确诊\"},{\"imgUrl\":\"https://img1.dxycdn.com/2020/0326/527/3404177575478899995-135.png\",\"title\":\"非湖北现存确诊\"},{\"imgUrl\":\"https://img1.dxycdn.com/2020/0326/419/3404177596953996726-135.png\",\"title\":\"治愈/死亡\"}],\"foreignTrendChart\":[{\"imgUrl\":\"https://img1.dxycdn.com/2020/0320/702/3403079914982117944-135.png\",\"title\":\"国外新增确诊\"},{\"imgUrl\":\"https://img1.dxycdn.com/2020/0320/396/3403079925719536561-135.png\",\"title\":\"国外累计确诊\"},{\"imgUrl\":\"https://img1.dxycdn.com/2020/0320/139/3403079936457225524-135.png\",\"title\":\"国外死亡\"}],\"importantForeignTrendChart\":[{\"imgUrl\":\"https://img1.dxycdn.com/2020/0320/450/3403077453965772423-135.png\",\"title\":\"重点国家新增确诊\"},{\"imgUrl\":\"https://img1.dxycdn.com/2020/0320/276/3403077462555980566-135.png\",\"title\":\"日本新增确诊\"},{\"imgUrl\":\"https://img1.dxycdn.com/2020/0320/340/3403077473293125942-135.png\",\"title\":\"意大利新增确诊\"},{\"imgUrl\":\"https://img1.dxycdn.com/2020/0320/723/3403077481883334043-135.png\",\"title\":\"伊朗新增确诊\"},{\"imgUrl\":\"https://img1.dxycdn.com/2020/0320/266/3403077492620752785-135.png\",\"title\":\"美国新增确诊\"},{\"imgUrl\":\"https://img1.dxycdn.com/2020/0320/870/3403077503358171278-135.png\",\"title\":\"法国新增确诊\"},{\"imgUrl\":\"https://img1.dxycdn.com/2020/0320/053/3403077511947832997-135.png\",\"title\":\"德国新增确诊\"},{\"imgUrl\":\"https://img1.dxycdn.com/2020/0320/878/3403077520537768006-135.png\",\"title\":\"西班牙新增确诊\"},{\"imgUrl\":\"https://img1.dxycdn.com/2020/0320/443/3403077531275186665-135.png\",\"title\":\"韩国新增确诊\"}],\"foreignTrendChartGlobal\":[{\"imgUrl\":\"https://img1.dxycdn.com/2020/0319/740/3402859458605738923-135.png\",\"title\":\"Daily New Cases\"},{\"imgUrl\":\"https://img1.dxycdn.com/2020/0319/351/3402856772103846114-135.png\",\"title\":\"Total Confirmed Cases\"},{\"imgUrl\":\"https://img1.dxycdn.com/2020/0319/236/3402856782841001789-135.png\",\"title\":\"Total Deaths Cases\"}],\"importantForeignTrendChartGlobal\":[{\"imgUrl\":\"https://img1.dxycdn.com/2020/0319/122/3402856838675578578-135.png\",\"title\":\"Daily New Cases\"},{\"imgUrl\":\"https://img1.dxycdn.com/2020/0319/685/3402856849412997239-135.png\",\"title\":\"Japan\"},{\"imgUrl\":\"https://img1.dxycdn.com/2020/0319/477/3402856860150678804-135.png\",\"title\":\"Italy\"},{\"imgUrl\":\"https://img1.dxycdn.com/2020/0319/454/3402856873035581014-135.png\",\"title\":\"Iran\"},{\"imgUrl\":\"https://img1.dxycdn.com/2020/0319/022/3402856883772999714-135.png\",\"title\":\"U.S.A.\"},{\"imgUrl\":\"https://img1.dxycdn.com/2020/0319/529/3402856894510155506-135.png\",\"title\":\"France\"},{\"imgUrl\":\"https://img1.dxycdn.com/2020/0319/211/3402856905247574064-135.png\",\"title\":\"Germany\"},{\"imgUrl\":\"https://img1.dxycdn.com/2020/0319/054/3402856913837508985-135.png\",\"title\":\"Spain\"},{\"imgUrl\":\"https://img1.dxycdn.com/2020/0319/088/3402856928870157852-135.png\",\"title\":\"Republic of Korea\"}],\"foreignStatistics\":{\"currentConfirmedCount\":939713,\"confirmedCount\":1172491,\"suspectedCount\":4,\"curedCount\":165302,\"deadCount\":67476,\"suspectedIncr\":0,\"currentConfirmedIncr\":10963,\"confirmedIncr\":17400,\"curedIncr\":4211,\"deadIncr\":2226},\"globalStatistics\":{\"currentConfirmedCount\":942045,\"confirmedCount\":1255530,\"curedCount\":242669,\"deadCount\":70816,\"currentConfirmedIncr\":10914,\"confirmedIncr\":17509,\"curedIncr\":4368,\"deadIncr\":2227},\"globalOtherTrendChartData\":\"https://file1.dxycdn.com/2020/0406/343/3406206350525868957-135.json\"}}catch(e){}']"
      ]
     },
     "execution_count": 8,
     "metadata": {},
     "output_type": "execute_result"
    }
   ],
   "source": [
    "data = soup.findAll(text=re.compile('\\\"summary.+\\\"confirmedCount\\\":\\d'))\n",
    "\n",
    "data\n"
   ]
  },
  {
   "cell_type": "code",
   "execution_count": 9,
   "metadata": {},
   "outputs": [],
   "source": [
    "m = re.search('\\\"confirmedCount\\\":(\\d+)', data[0])\n",
    "summary_confirmed_count = int(m.group(1))\n",
    "\n",
    "\n",
    "m = re.search('\\\"curedCount\\\":(\\d+)', data[0])\n",
    "summary_cured_count = int(m.group(1))\n",
    "\n",
    "m = re.search('\\\"deadCount\\\":(\\d+)', data[0])\n",
    "summary_dead_count = int(m.group(1))\n"
   ]
  },
  {
   "cell_type": "code",
   "execution_count": 10,
   "metadata": {},
   "outputs": [
    {
     "data": {
      "text/html": [
       "<div>\n",
       "<style scoped>\n",
       "    .dataframe tbody tr th:only-of-type {\n",
       "        vertical-align: middle;\n",
       "    }\n",
       "\n",
       "    .dataframe tbody tr th {\n",
       "        vertical-align: top;\n",
       "    }\n",
       "\n",
       "    .dataframe thead th {\n",
       "        text-align: right;\n",
       "    }\n",
       "</style>\n",
       "<table border=\"1\" class=\"dataframe\">\n",
       "  <thead>\n",
       "    <tr style=\"text-align: right;\">\n",
       "      <th></th>\n",
       "      <th>datetime</th>\n",
       "      <th>confirmed</th>\n",
       "      <th>cured</th>\n",
       "      <th>dead</th>\n",
       "    </tr>\n",
       "  </thead>\n",
       "  <tbody>\n",
       "    <tr>\n",
       "      <th>0</th>\n",
       "      <td>2020-04-06 09:58</td>\n",
       "      <td>83039</td>\n",
       "      <td>77367</td>\n",
       "      <td>3340</td>\n",
       "    </tr>\n",
       "  </tbody>\n",
       "</table>\n",
       "</div>"
      ],
      "text/plain": [
       "           datetime  confirmed  cured  dead\n",
       "0  2020-04-06 09:58      83039  77367  3340"
      ]
     },
     "execution_count": 10,
     "metadata": {},
     "output_type": "execute_result"
    }
   ],
   "source": [
    "# make a dataframe\n",
    "df = pd.DataFrame({\n",
    "    'datetime': data_date_time,\n",
    "    'confirmed': summary_confirmed_count,\n",
    "    'cured': summary_cured_count,\n",
    "    'dead': summary_dead_count\n",
    "}, index=[0])\n",
    "df"
   ]
  },
  {
   "cell_type": "markdown",
   "metadata": {},
   "source": [
    "### Save to file"
   ]
  },
  {
   "cell_type": "code",
   "execution_count": 11,
   "metadata": {},
   "outputs": [],
   "source": [
    "from pathlib import Path\n",
    "csv_file = '../data/china-summary-cases.csv'\n",
    "\n",
    "if Path(csv_file).exists():\n",
    "    # read out the old data - then merge with new data and remove duplicates based on datetime\n",
    "    old_df = pd.read_csv(csv_file)\n",
    "    df = df.append(old_df)\n",
    "df.drop_duplicates(subset=['datetime'], inplace=True)"
   ]
  },
  {
   "cell_type": "code",
   "execution_count": 12,
   "metadata": {},
   "outputs": [],
   "source": [
    "df.sort_values(by=['datetime'], inplace=True)\n",
    "\n",
    "df.to_csv(csv_file, index=False)\n"
   ]
  },
  {
   "cell_type": "markdown",
   "metadata": {},
   "source": [
    "### Plot graph"
   ]
  },
  {
   "cell_type": "code",
   "execution_count": 13,
   "metadata": {},
   "outputs": [],
   "source": [
    "import seaborn as sns\n",
    "import matplotlib.pyplot as plt\n",
    "from pandas.plotting import register_matplotlib_converters\n",
    "register_matplotlib_converters()\n",
    "\n",
    "png_file = '../images/china-summary-cases.png'\n",
    "# convert to pd.datetime\n",
    "df['datetime_idx'] = pd.to_datetime(df['datetime'], format=\"%Y-%m-%d %H:%M\")\n",
    "\n",
    "df.set_index('datetime_idx', inplace=True)\n",
    "df.drop(['datetime'], axis=1, inplace=True)\n"
   ]
  },
  {
   "cell_type": "code",
   "execution_count": 14,
   "metadata": {},
   "outputs": [
    {
     "data": {
      "text/html": [
       "<div>\n",
       "<style scoped>\n",
       "    .dataframe tbody tr th:only-of-type {\n",
       "        vertical-align: middle;\n",
       "    }\n",
       "\n",
       "    .dataframe tbody tr th {\n",
       "        vertical-align: top;\n",
       "    }\n",
       "\n",
       "    .dataframe thead th {\n",
       "        text-align: right;\n",
       "    }\n",
       "</style>\n",
       "<table border=\"1\" class=\"dataframe\">\n",
       "  <thead>\n",
       "    <tr style=\"text-align: right;\">\n",
       "      <th></th>\n",
       "      <th>confirmed</th>\n",
       "      <th>cured</th>\n",
       "      <th>dead</th>\n",
       "    </tr>\n",
       "    <tr>\n",
       "      <th>datetime_idx</th>\n",
       "      <th></th>\n",
       "      <th></th>\n",
       "      <th></th>\n",
       "    </tr>\n",
       "  </thead>\n",
       "  <tbody>\n",
       "    <tr>\n",
       "      <th>2020-02-02 10:22:00</th>\n",
       "      <td>14483</td>\n",
       "      <td>379</td>\n",
       "      <td>304</td>\n",
       "    </tr>\n",
       "    <tr>\n",
       "      <th>2020-02-02 10:28:00</th>\n",
       "      <td>14483</td>\n",
       "      <td>380</td>\n",
       "      <td>304</td>\n",
       "    </tr>\n",
       "    <tr>\n",
       "      <th>2020-02-02 11:19:00</th>\n",
       "      <td>14489</td>\n",
       "      <td>385</td>\n",
       "      <td>304</td>\n",
       "    </tr>\n",
       "    <tr>\n",
       "      <th>2020-02-02 11:54:00</th>\n",
       "      <td>14489</td>\n",
       "      <td>397</td>\n",
       "      <td>304</td>\n",
       "    </tr>\n",
       "    <tr>\n",
       "      <th>2020-02-02 15:01:00</th>\n",
       "      <td>14490</td>\n",
       "      <td>430</td>\n",
       "      <td>304</td>\n",
       "    </tr>\n",
       "    <tr>\n",
       "      <th>...</th>\n",
       "      <td>...</td>\n",
       "      <td>...</td>\n",
       "      <td>...</td>\n",
       "    </tr>\n",
       "    <tr>\n",
       "      <th>2020-04-06 05:50:00</th>\n",
       "      <td>83005</td>\n",
       "      <td>77354</td>\n",
       "      <td>3340</td>\n",
       "    </tr>\n",
       "    <tr>\n",
       "      <th>2020-04-06 06:59:00</th>\n",
       "      <td>83015</td>\n",
       "      <td>77357</td>\n",
       "      <td>3340</td>\n",
       "    </tr>\n",
       "    <tr>\n",
       "      <th>2020-04-06 07:49:00</th>\n",
       "      <td>83015</td>\n",
       "      <td>77357</td>\n",
       "      <td>3340</td>\n",
       "    </tr>\n",
       "    <tr>\n",
       "      <th>2020-04-06 09:04:00</th>\n",
       "      <td>83015</td>\n",
       "      <td>77357</td>\n",
       "      <td>3340</td>\n",
       "    </tr>\n",
       "    <tr>\n",
       "      <th>2020-04-06 09:58:00</th>\n",
       "      <td>83039</td>\n",
       "      <td>77367</td>\n",
       "      <td>3340</td>\n",
       "    </tr>\n",
       "  </tbody>\n",
       "</table>\n",
       "<p>989 rows × 3 columns</p>\n",
       "</div>"
      ],
      "text/plain": [
       "                     confirmed  cured  dead\n",
       "datetime_idx                               \n",
       "2020-02-02 10:22:00      14483    379   304\n",
       "2020-02-02 10:28:00      14483    380   304\n",
       "2020-02-02 11:19:00      14489    385   304\n",
       "2020-02-02 11:54:00      14489    397   304\n",
       "2020-02-02 15:01:00      14490    430   304\n",
       "...                        ...    ...   ...\n",
       "2020-04-06 05:50:00      83005  77354  3340\n",
       "2020-04-06 06:59:00      83015  77357  3340\n",
       "2020-04-06 07:49:00      83015  77357  3340\n",
       "2020-04-06 09:04:00      83015  77357  3340\n",
       "2020-04-06 09:58:00      83039  77367  3340\n",
       "\n",
       "[989 rows x 3 columns]"
      ]
     },
     "execution_count": 14,
     "metadata": {},
     "output_type": "execute_result"
    }
   ],
   "source": [
    "df"
   ]
  },
  {
   "cell_type": "code",
   "execution_count": 15,
   "metadata": {
    "scrolled": true
   },
   "outputs": [
    {
     "data": {
      "image/png": "[encoded data removed]",
      "text/plain": [
       "<Figure size 1008x1008 with 3 Axes>"
      ]
     },
     "metadata": {},
     "output_type": "display_data"
    }
   ],
   "source": [
    "if df.shape[0]>1:\n",
    "    # line chart when having at least a few points\n",
    "    sns.set(rc={'figure.figsize':(14,14)})\n",
    "    sns.set(style=\"whitegrid\")\n",
    "\n",
    "    fig, axs = plt.subplots(nrows=3)\n",
    "\n",
    "    sns.lineplot(x=df.index, y = 'confirmed', data=df, ax= axs[0], estimator=None, color='orange')\n",
    "    sns.lineplot(x=df.index, y = 'cured', data=df, ax= axs[1], estimator=None, color='green')\n",
    "    sns.lineplot(x=df.index, y = 'dead', data=df, ax= axs[2], estimator=None, color='darkred')\n",
    "\n",
    "    for ax in axs:\n",
    "        ax.set_xlabel('')\n",
    "        ax.tick_params(axis='x', labelrotation=30)\n",
    "else:\n",
    "\n",
    "    ax = df.plot(kind='bar', stacked=True, figsize=(9,6))\n",
    "    fig = ax.get_figure()\n",
    "    ax.set_xlabel('')\n",
    "    for label in ax.get_xticklabels():\n",
    "        label.set_rotation(0) \n"
   ]
  },
  {
   "cell_type": "code",
   "execution_count": 16,
   "metadata": {},
   "outputs": [],
   "source": [
    "fig.savefig(png_file)"
   ]
  },
  {
   "cell_type": "code",
   "execution_count": null,
   "metadata": {},
   "outputs": [],
   "source": []
  },
  {
   "cell_type": "code",
   "execution_count": null,
   "metadata": {},
   "outputs": [],
   "source": []
  }
 ],
 "metadata": {
  "kernelspec": {
   "display_name": "Python 3",
   "language": "python",
   "name": "python3"
  },
  "language_info": {
   "codemirror_mode": {
    "name": "ipython",
    "version": 3
   },
   "file_extension": ".py",
   "mimetype": "text/x-python",
   "name": "python",
   "nbconvert_exporter": "python",
   "pygments_lexer": "ipython3",
   "version": "3.7.6"
  }
 },
 "nbformat": 4,
 "nbformat_minor": 2
}
