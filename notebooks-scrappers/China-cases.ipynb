{
 "cells": [
  {
   "cell_type": "code",
   "execution_count": 1,
   "metadata": {},
   "outputs": [],
   "source": [
    "import pandas as pd\n",
    "import requests\n",
    "from bs4 import BeautifulSoup\n",
    "import re\n",
    "from datetime import datetime\n",
    "from selenium import webdriver\n",
    "from selenium.webdriver.chrome.options import Options  \n"
   ]
  },
  {
   "cell_type": "code",
   "execution_count": 2,
   "metadata": {},
   "outputs": [
    {
     "data": {
      "text/plain": [
       "datetime.datetime(2020, 4, 2, 11, 9, 4, 387118)"
      ]
     },
     "execution_count": 2,
     "metadata": {},
     "output_type": "execute_result"
    }
   ],
   "source": [
    "datetime.now()"
   ]
  },
  {
   "cell_type": "code",
   "execution_count": 3,
   "metadata": {},
   "outputs": [],
   "source": [
    "chrome_options = Options()  \n",
    "chrome_options.add_argument(\"--headless\")  \n",
    "chrome_options.add_argument(\"--no-sandbox\")\n",
    "\n",
    "driver = webdriver.Chrome('chromedriver', options=chrome_options)"
   ]
  },
  {
   "cell_type": "code",
   "execution_count": 4,
   "metadata": {},
   "outputs": [],
   "source": [
    "url = 'https://ncov.dxy.cn/ncovh5/view/pneumonia'\n",
    "driver.get(url)"
   ]
  },
  {
   "cell_type": "markdown",
   "metadata": {},
   "source": [
    "### Extract date"
   ]
  },
  {
   "cell_type": "code",
   "execution_count": 5,
   "metadata": {},
   "outputs": [],
   "source": [
    "content = driver.page_source\n",
    "soup =BeautifulSoup(content, 'lxml')\n"
   ]
  },
  {
   "cell_type": "code",
   "execution_count": 6,
   "metadata": {},
   "outputs": [
    {
     "data": {
      "text/plain": [
       "['try { window.getTimelineService1 = [{\"id\":22986,\"pubDate\":1585824979000,\"pubDateStr\":\"8分钟前\",\"title\":\"\\u200b塞内加尔新增5例新冠肺炎确诊病例 累计确诊195例\",\"summary\":\"当地时间2日，塞内加尔卫生部发布最新通告称，在127份检测样本中，新增5例确诊病例，其中2名为输入病例，3名为接触病例。此外又有10名患者已经康复。\",\"infoSource\":\"央视新闻app\",\"sourceUrl\":\"http://app.cctv.com/special/cportal/detail/arti/index.html?id=ArtiJeKMqDvRfKE2uM8PZYVF200402&isfromapp=1\",\"provinceId\":\"\"},{\"id\":22978,\"pubDate\":1585824747000,\"pubDateStr\":\"11分钟前\",\"title\":\"\\u200b赞比亚新增新冠肺炎确诊病例3例 首次出现1例死亡病例\",\"summary\":\"当地时间4月2日，赞比亚卫生部通报，截至当地时间4月2日，赞比亚境内新增3例新冠肺炎确诊病例，累计至39例。此外，赞比亚首次出现了1例新冠肺炎死亡病例。\",\"infoSource\":\"央视新闻app\",\"sourceUrl\":\"http://app.cctv.com/special/cportal/detail/arti/index.html?id=Arti6hSoMhG4OHRBayssgnof200402&isfromapp=1\",\"provinceId\":\"\"},{\"id\":22976,\"pubDate\":1585824402000,\"pubDateStr\":\"17分钟前\",\"title\":\"\\u200b巴林新增66例新冠肺炎确诊病例 累计635例\",\"summary\":\"巴林卫生部当地时间2日下午发布通告，确定境内新增66例新型冠状病毒肺炎确诊病例。至此巴林境内累计已发现635例新型冠状病毒肺炎确诊病例，其中341名患者已经痊愈出院，4名患者病重不治。\",\"infoSource\":\"央视新闻app\",\"sourceUrl\":\"http://app.cctv.com/special/cportal/detail/arti/index.html?id=ArtiGt1s9yG5zdFmze4hrbsr200402&isfromapp=1\",\"provinceId\":\"\"},{\"id\":22941,\"pubDate\":1585822534000,\"pubDateStr\":\"48分钟前\",\"title\":\"G20贸易部长应对新冠肺炎特别会议发表声明\",\"summary\":\"近日，G20举行贸易部长应对新冠肺炎特别会议，会议发表了《G20贸易部长应对新冠肺炎特别会议声明》。\",\"infoSource\":\"央视新闻app\",\"sourceUrl\":\"http://app.cctv.com/special/cportal/detail/arti/index.html?id=Arti1JqeibwSc2VhRpvHQlEC200402&isfromapp=1\",\"provinceId\":\"\"},{\"id\":22934,\"pubDate\":1585821879000,\"pubDateStr\":\"59分钟前\",\"title\":\"\\u200b阿曼卫生大臣：本国新冠肺炎治愈病例累计达57例\",\"summary\":\"据阿曼官方通讯社报道，当地时间4月2日，阿曼卫生大臣艾哈迈德·本·穆罕默德·赛义迪向外界表示，阿曼新增16例新冠肺炎治愈病例，由此该国治愈病例累计达到57例，治愈率为26.2%。\\\\n当天早些时候，阿曼卫生部曾公布该国新增21例新冠肺炎确诊病例和7例治愈病例。截至目前，阿曼确诊新冠肺炎病例总数为231例，其中已经治愈57例，死亡1例。\",\"infoSource\":\"央视新闻app\",\"sourceUrl\":\"http://app.cctv.com/special/cportal/detail/arti/index.html?id=Artic0tDaGvjUYS4HJV3hPqe200402&isfromapp=1\",\"provinceId\":\"\"},{\"id\":22935,\"pubDate\":1585821877000,\"pubDateStr\":\"59分钟前\",\"title\":\"亚美尼亚新增新冠肺炎确诊病例92例 累计确诊663例\",\"summary\":\"当地时间4月2日11点，亚美尼亚疫情防控统一信息平台公布消息，亚美尼亚境内当日新增确诊新冠肺炎病例92例，累计确诊病例663例，累计治愈33例，死亡4例。为防止疫情升级，自3月16日至4月14日，亚美尼亚进入全国紧急状态。除铁路交通和出租车外，包括地铁在内的公共交通停运。(总台记者 宋一平）\\\\n关注更多权威信息戳链接↓↓↓\\\\nH5丨新冠肺炎疫情实时更新\",\"infoSource\":\"央视新闻app\",\"sourceUrl\":\"http://app.cctv.com/special/cportal/detail/arti/index.html?id=Artigfwn9FKEX8bp3B9uANJP200402&isfromapp=1\",\"provinceId\":\"\"},{\"id\":22929,\"pubDate\":1585821693000,\"pubDateStr\":\"1小时前\",\"title\":\"印尼新增新冠肺炎确诊病例113例 累计1790例\",\"summary\":\"4月2日，印尼卫生部宣布，新增113例新冠肺炎确诊病例，全国累计确诊病例1790人，含170例死亡病例。\",\"infoSource\":\"央视新闻app\",\"sourceUrl\":\"http://app.cctv.com/special/cportal/detail/arti/index.html?id=Artidmh3ubjHDEsSV9xZ0JnA200402&isfromapp=1\",\"provinceId\":\"\"},{\"id\":22925,\"pubDate\":1585821426000,\"pubDateStr\":\"1小时前\",\"title\":\"比利时新增新冠肺炎确诊病例1384例 累计确诊15348例\",\"summary\":\"据比利时官方媒体当地时间4月2日上午报道，在过去24小时内，比利时境内新增新冠肺炎确诊病例1384例，新增死亡病例183例。截至目前，该国累计确诊病例15348例，累计死亡1011例，1114名病患正在接受重症监护。\\xa0\",\"infoSource\":\"央视新闻app\",\"sourceUrl\":\"http://app.cctv.com/special/cportal/detail/arti/index.html?id=Artiz6cimVOPCLcup48fvMkT200402&isfromapp=1\",\"provinceId\":\"\"},{\"id\":22927,\"pubDate\":1585821169000,\"pubDateStr\":\"1小时前\",\"title\":\"美国各州战“疫”进行时：关闭游乐场、颁布居家隔离令……\",\"summary\":\"4月1日，美国疫情严重的纽约等多地采取关闭游乐场、颁布居家隔离令等更加严格的措施，阻止疫情进一步蔓延。\",\"infoSource\":\"央视新闻app\",\"sourceUrl\":\"http://app.cctv.com/special/cportal/detail/arti/index.html?id=ArtiaxBBFkHozOw98R6LXCpD200402&isfromapp=1\",\"provinceId\":\"\"},{\"id\":22916,\"pubDate\":1585821035000,\"pubDateStr\":\"1小时前\",\"title\":\"黎巴嫩新增新冠肺炎确诊病例15例 累计494例\",\"summary\":\"黎巴嫩卫生部官网公布，截至2日中午，新冠肺炎确诊总人数为494人，较昨日增加15人。根据卫生部所公布的数字，近几天又有6名患者被治愈，治愈总人数已达43人，目前死亡病例上升至16例。\",\"infoSource\":\"央视新闻app\",\"sourceUrl\":\"http://app.cctv.com/special/cportal/detail/arti/index.html?id=ArtiKt4Xi9stm2Seeeo9CoVV200402&isfromapp=1\",\"provinceId\":\"\"},{\"id\":22917,\"pubDate\":1585820949000,\"pubDateStr\":\"1小时前\",\"title\":\"\\u200b伊朗新增新冠肺炎确诊病例2875例 累计50468例\",\"summary\":\"根据伊朗卫生部最新消息，当地时间2日，伊朗新增新冠肺炎确诊病例2875例，新增死亡124例。截至当天中午，伊朗累计确诊新冠肺炎病例50468例，其中16711例康复，3160例死亡。(总台记者 李健南 倪紫慧)\",\"infoSource\":\"央视新闻app\",\"sourceUrl\":\"http://app.cctv.com/special/cportal/detail/arti/index.html?id=ArtiOzPOmfZOV7WlE0nt5Lwp200402&isfromapp=1\",\"provinceId\":\"\"},{\"id\":22914,\"pubDate\":1585820760000,\"pubDateStr\":\"1小时前\",\"title\":\"西班牙新增新冠肺炎确诊病例8102例 累计110238例\",\"summary\":\"当地时间2日据西班牙卫生部官网通报，过去24小时，该国新增 8102例新冠肺炎确诊病例，累计确诊110238例；累计死亡10003例，24小时新增死亡950例。\",\"infoSource\":\"央视新闻app\",\"sourceUrl\":\"http://app.cctv.com/special/cportal/detail/arti/index.html?id=ArtilWIwPrzBDVuzDoCJXATq200402&isfromapp=1\",\"provinceId\":\"\"},{\"id\":22902,\"pubDate\":1585819463000,\"pubDateStr\":\"1小时前\",\"title\":\"文莱新增2例新冠肺炎确诊病例 累计确诊133例\",\"summary\":\"当地时间2日，文莱政府宣布新增2例新冠肺炎确诊病例，累计确诊133例。文莱卫生部长伊桑说，截至2日下午5时，共有4人获准出院回家，累计治愈病例56例。当地死亡病例则维持1例。\",\"infoSource\":\"央视新闻app\",\"sourceUrl\":\"http://app.cctv.com/special/cportal/detail/arti/index.html?id=Arti7XG73o3vYrJF7QFjfBq5200402&isfromapp=1\",\"provinceId\":\"\"},{\"id\":22903,\"pubDate\":1585819411000,\"pubDateStr\":\"1小时前\",\"title\":\"马来西亚新增208例新冠肺炎确诊病例 累计3116例\",\"summary\":\"当地时间2日，马来西亚宣布新增208例新冠肺炎确诊病例，累计确诊3116例；新增死亡病例5例，累计死亡50例。\\xa0马来西亚卫生总监努尔·希萨姆·阿卜杜拉介绍说，今日（2日）共有122人治愈出院，累计治愈病例767例。截至目前，共有105名患者被收治在特护病房，其中54人必须依赖呼吸机辅助治疗。\",\"infoSource\":\"央视新闻app\",\"sourceUrl\":\"http://app.cctv.com/special/cportal/detail/arti/index.html?id=ArtilWJYVBvE1Mf0sIZxcUZg200402&isfromapp=1\",\"provinceId\":\"\"},{\"id\":22895,\"pubDate\":1585819006000,\"pubDateStr\":\"1小时前\",\"title\":\"马来西亚宣布对所有入境者实施14天隔离医学观察\",\"summary\":\"当地时间2日下午，马来西亚宣布所有入境者都将被带往隔离中心进行为期14天的隔离医学观察。马来西亚国防部高级部长伊斯迈沙比里说，上述措施适用于马来西亚的所有陆海空入境口岸。\",\"infoSource\":\"央视新闻app\",\"sourceUrl\":\"http://app.cctv.com/special/cportal/detail/arti/index.html?id=ArtiTPFyuO3NPGn9sfxwWJHE200402&isfromapp=1\",\"provinceId\":\"\"},{\"id\":22893,\"pubDate\":1585818778000,\"pubDateStr\":\"1小时前\",\"title\":\"保加利亚新增新冠肺炎确诊病例37例\\xa0累计确诊449例\",\"summary\":\"当地时间4月2日，据索非亚新闻社消息，截止到当地时间11时30分，在过去的24小时内，保加利亚新增新冠肺炎确诊病例37例，累计确诊449例。此前一天（当地时间4月1日），为了控制新冠疫情在保加利亚的蔓延，保加利亚政府决定将全国紧急状态延长至5月31日。此前，保加利亚政府在3月13日宣布进入紧急状态，以控制新冠肺炎疫情在该国的扩散。\",\"infoSource\":\"央视新闻app\",\"sourceUrl\":\"http://app.cctv.com/special/cportal/detail/arti/index.html?id=Artie6k7ErBOFdYAbDT4hHru200402&isfromapp=1\",\"provinceId\":\"\"},{\"id\":22884,\"pubDate\":1585818456000,\"pubDateStr\":\"1小时前\",\"title\":\"菲律宾新增322例新冠肺炎确诊病例 累计2633例\",\"summary\":\"菲律宾卫生部发布公告称，截至2日下午4点，菲律宾当天共计新增322例新冠肺炎确诊病例，确诊病例累计达2633例。\",\"infoSource\":\"央视新闻app\",\"sourceUrl\":\"http://app.cctv.com/special/cportal/detail/arti/index.html?id=ArtiEGIkMR8b5pgtBumP0J6X200402&isfromapp=1\",\"provinceId\":\"\"}]}catch(e){}',\n",
       " '截至北京时间 2020-04-02 10:59',\n",
       " '截至北京时间 2020-04-02 10:59',\n",
       " '当地时间4月2日，赞比亚卫生部通报，截至当地时间4月2日，赞比亚境内新增3例新冠肺炎确诊病例，累计至39例。此外，赞比亚首次出现了1例新冠肺炎死亡病例。',\n",
       " '据阿曼官方通讯社报道，当地时间4月2日，阿曼卫生大臣艾哈迈德·本·穆罕默德·赛义迪向外界表示，阿曼新增16例新冠肺炎治愈病例，由此该国治愈病例累计达到57例，治愈率为26.2%。\\n当天早些时候，阿曼卫生部曾公布该国新增21例新冠肺炎确诊病例和7例治愈病例。截至目前，阿曼确诊新冠肺炎病例总数为231例，其中已经治愈57例，死亡1例。',\n",
       " '据比利时官方媒体当地时间4月2日上午报道，在过去24小时内，比利时境内新增新冠肺炎确诊病例1384例，新增死亡病例183例。截至目前，该国累计确诊病例15348例，累计死亡1011例，1114名病患正在接受重症监护。\\xa0',\n",
       " '黎巴嫩卫生部官网公布，截至2日中午，新冠肺炎确诊总人数为494人，较昨日增加15人。根据卫生部所公布的数字，近几天又有6名患者被治愈，治愈总人数已达43人，目前死亡病例上升至16例。',\n",
       " '根据伊朗卫生部最新消息，当地时间2日，伊朗新增新冠肺炎确诊病例2875例，新增死亡124例。截至当天中午，伊朗累计确诊新冠肺炎病例50468例，其中16711例康复，3160例死亡。(总台记者 李健南 倪紫慧)',\n",
       " '当地时间2日，文莱政府宣布新增2例新冠肺炎确诊病例，累计确诊133例。文莱卫生部长伊桑说，截至2日下午5时，共有4人获准出院回家，累计治愈病例56例。当地死亡病例则维持1例。',\n",
       " '当地时间2日，马来西亚宣布新增208例新冠肺炎确诊病例，累计确诊3116例；新增死亡病例5例，累计死亡50例。\\xa0马来西亚卫生总监努尔·希萨姆·阿卜杜拉介绍说，今日（2日）共有122人治愈出院，累计治愈病例767例。截至目前，共有105名患者被收治在特护病房，其中54人必须依赖呼吸机辅助治疗。',\n",
       " '菲律宾卫生部发布公告称，截至2日下午4点，菲律宾当天共计新增322例新冠肺炎确诊病例，确诊病例累计达2633例。']"
      ]
     },
     "execution_count": 6,
     "metadata": {},
     "output_type": "execute_result"
    }
   ],
   "source": [
    "data = soup.findAll(text=re.compile(\"截至.+\"))\n",
    "data"
   ]
  },
  {
   "cell_type": "code",
   "execution_count": 7,
   "metadata": {},
   "outputs": [
    {
     "data": {
      "text/plain": [
       "'2020-04-02 10:59'"
      ]
     },
     "execution_count": 7,
     "metadata": {},
     "output_type": "execute_result"
    }
   ],
   "source": [
    "for s in data:\n",
    "    m = re.search(\"截至.*(202\\d-\\d+-\\d+ \\d+:\\d+)\", s)\n",
    "    if m is not None:\n",
    "        data_date_time = m.group(1)\n",
    "data_date_time"
   ]
  },
  {
   "cell_type": "markdown",
   "metadata": {},
   "source": [
    "### Extract data (summary)"
   ]
  },
  {
   "cell_type": "code",
   "execution_count": 8,
   "metadata": {},
   "outputs": [
    {
     "data": {
      "text/plain": [
       "['try { window.getStatisticsService = {\"id\":1,\"createTime\":1579537899000,\"modifyTime\":1585825193000,\"infectSource\":\"该字段已替换为说明2\",\"passWay\":\"该字段已替换为说明3\",\"imgUrl\":\"https://img1.dxycdn.com/2020/0201/450/3394153392393266839-135.png\",\"dailyPic\":\"https://img1.dxycdn.com/2020/0211/763/3395998884005602079-135.png,https://img1.dxycdn.com/2020/0211/362/3395998896890788910-135.png,https://img1.dxycdn.com/2020/0211/365/3395998905480724211-135.png,https://img1.dxycdn.com/2020/0211/364/3395998916217859778-135.png,https://img1.dxycdn.com/2020/0211/922/3395998929103046444-135.png,https://img1.dxycdn.com/2020/0211/089/3395998939840182072-135.png\",\"dailyPics\":[\"https://img1.dxycdn.com/2020/0211/763/3395998884005602079-135.png\",\"https://img1.dxycdn.com/2020/0211/362/3395998896890788910-135.png\",\"https://img1.dxycdn.com/2020/0211/365/3395998905480724211-135.png\",\"https://img1.dxycdn.com/2020/0211/364/3395998916217859778-135.png\",\"https://img1.dxycdn.com/2020/0211/922/3395998929103046444-135.png\",\"https://img1.dxycdn.com/2020/0211/089/3395998939840182072-135.png\"],\"summary\":\"\",\"deleted\":false,\"countRemark\":\"\",\"currentConfirmedCount\":2834,\"confirmedCount\":82771,\"suspectedCount\":841,\"curedCount\":76610,\"deadCount\":3327,\"seriousCount\":1422,\"suspectedIncr\":35,\"currentConfirmedIncr\":-15,\"confirmedIncr\":190,\"curedIncr\":199,\"deadIncr\":6,\"seriousIncr\":55,\"virus\":\"该字段已替换为说明1\",\"remark1\":\"易感人群：人群普遍易感。老年人及有基础疾病者感染后病情较重，儿童及婴幼儿也有发病\",\"remark2\":\"潜伏期：一般为 3～7 天，最长不超过 14 天，潜伏期内可能存在传染性，其中无症状病例传染性非常罕见\",\"remark3\":\"宿主：野生动物，可能为中华菊头蝠\",\"remark4\":\"\",\"remark5\":\"\",\"note1\":\"病毒：SARS-CoV-2，其导致疾病命名 COVID-19\",\"note2\":\"传染源：新冠肺炎的患者。无症状感染者也可能成为传染源。\",\"note3\":\"传播途径：经呼吸道飞沫、接触传播是主要的传播途径。气溶胶传播和消化道等传播途径尚待明确。\",\"generalRemark\":\"1. 3 月 12 日国家卫健委确诊补订遗漏 12 例确诊病例（非 12 日新增），暂无具体省份信息。 2. 浙江省 12 例外省治愈暂无具体省份信息。\",\"abroadRemark\":\"\",\"marquee\":[{\"id\":1860,\"marqueeLabel\":\"口罩\",\"marqueeContent\":\"要不要戴口罩，西方逐渐向东方靠拢\",\"marqueeLink\":\"https://dxy.me/rJ1gPo\"},{\"id\":1861,\"marqueeLabel\":\"一视同仁\",\"marqueeContent\":\"青岛外籍人士插队检测被批评教育\",\"marqueeLink\":\"https://dxy.me/7I5ebE\"},{\"id\":1862,\"marqueeLabel\":\"数字新冠\",\"marqueeContent\":\"4 月 1 日，世界因新冠而变\",\"marqueeLink\":\"https://dxy.me/1cj1hw\"}],\"quanguoTrendChart\":[{\"imgUrl\":\"https://img1.dxycdn.com/2020/0324/278/3403801351376518263-135.png\",\"title\":\"新增疑似/新增确诊\"},{\"imgUrl\":\"https://img1.dxycdn.com/2020/0324/812/3403847865872006755-135.png\",\"title\":\"境外输入\"},{\"imgUrl\":\"https://img1.dxycdn.com/2020/0324/547/3403847848692336947-135.png\",\"title\":\"现存确诊\"},{\"imgUrl\":\"https://img1.dxycdn.com/2020/0324/775/3403801407211095604-135.png\",\"title\":\"治愈\"},{\"imgUrl\":\"https://img1.dxycdn.com/2020/0324/250/3403801424390727199-135.png\",\"title\":\"死亡\"}],\"hbFeiHbTrendChart\":[{\"imgUrl\":\"https://img1.dxycdn.com/2020/0326/624/3404177508906904585-135.png\",\"title\":\"非湖北新增确诊\"},{\"imgUrl\":\"https://img1.dxycdn.com/2020/0326/777/3404177532529485065-135.png\",\"title\":\"湖北新增确诊\"},{\"imgUrl\":\"https://img1.dxycdn.com/2020/0326/376/3404177556151805921-135.png\",\"title\":\"湖北现存确诊\"},{\"imgUrl\":\"https://img1.dxycdn.com/2020/0326/527/3404177575478899995-135.png\",\"title\":\"非湖北现存确诊\"},{\"imgUrl\":\"https://img1.dxycdn.com/2020/0326/419/3404177596953996726-135.png\",\"title\":\"治愈/死亡\"}],\"foreignTrendChart\":[{\"imgUrl\":\"https://img1.dxycdn.com/2020/0320/702/3403079914982117944-135.png\",\"title\":\"国外新增确诊\"},{\"imgUrl\":\"https://img1.dxycdn.com/2020/0320/396/3403079925719536561-135.png\",\"title\":\"国外累计确诊\"},{\"imgUrl\":\"https://img1.dxycdn.com/2020/0320/139/3403079936457225524-135.png\",\"title\":\"国外死亡\"}],\"importantForeignTrendChart\":[{\"imgUrl\":\"https://img1.dxycdn.com/2020/0320/450/3403077453965772423-135.png\",\"title\":\"重点国家新增确诊\"},{\"imgUrl\":\"https://img1.dxycdn.com/2020/0320/276/3403077462555980566-135.png\",\"title\":\"日本新增确诊\"},{\"imgUrl\":\"https://img1.dxycdn.com/2020/0320/340/3403077473293125942-135.png\",\"title\":\"意大利新增确诊\"},{\"imgUrl\":\"https://img1.dxycdn.com/2020/0320/723/3403077481883334043-135.png\",\"title\":\"伊朗新增确诊\"},{\"imgUrl\":\"https://img1.dxycdn.com/2020/0320/266/3403077492620752785-135.png\",\"title\":\"美国新增确诊\"},{\"imgUrl\":\"https://img1.dxycdn.com/2020/0320/870/3403077503358171278-135.png\",\"title\":\"法国新增确诊\"},{\"imgUrl\":\"https://img1.dxycdn.com/2020/0320/053/3403077511947832997-135.png\",\"title\":\"德国新增确诊\"},{\"imgUrl\":\"https://img1.dxycdn.com/2020/0320/878/3403077520537768006-135.png\",\"title\":\"西班牙新增确诊\"},{\"imgUrl\":\"https://img1.dxycdn.com/2020/0320/443/3403077531275186665-135.png\",\"title\":\"韩国新增确诊\"}],\"foreignTrendChartGlobal\":[{\"imgUrl\":\"https://img1.dxycdn.com/2020/0319/740/3402859458605738923-135.png\",\"title\":\"Daily New Cases\"},{\"imgUrl\":\"https://img1.dxycdn.com/2020/0319/351/3402856772103846114-135.png\",\"title\":\"Total Confirmed Cases\"},{\"imgUrl\":\"https://img1.dxycdn.com/2020/0319/236/3402856782841001789-135.png\",\"title\":\"Total Deaths Cases\"}],\"importantForeignTrendChartGlobal\":[{\"imgUrl\":\"https://img1.dxycdn.com/2020/0319/122/3402856838675578578-135.png\",\"title\":\"Daily New Cases\"},{\"imgUrl\":\"https://img1.dxycdn.com/2020/0319/685/3402856849412997239-135.png\",\"title\":\"Japan\"},{\"imgUrl\":\"https://img1.dxycdn.com/2020/0319/477/3402856860150678804-135.png\",\"title\":\"Italy\"},{\"imgUrl\":\"https://img1.dxycdn.com/2020/0319/454/3402856873035581014-135.png\",\"title\":\"Iran\"},{\"imgUrl\":\"https://img1.dxycdn.com/2020/0319/022/3402856883772999714-135.png\",\"title\":\"U.S.A.\"},{\"imgUrl\":\"https://img1.dxycdn.com/2020/0319/529/3402856894510155506-135.png\",\"title\":\"France\"},{\"imgUrl\":\"https://img1.dxycdn.com/2020/0319/211/3402856905247574064-135.png\",\"title\":\"Germany\"},{\"imgUrl\":\"https://img1.dxycdn.com/2020/0319/054/3402856913837508985-135.png\",\"title\":\"Spain\"},{\"imgUrl\":\"https://img1.dxycdn.com/2020/0319/088/3402856928870157852-135.png\",\"title\":\"Republic of Korea\"}],\"foreignStatistics\":{\"currentConfirmedCount\":707319,\"confirmedCount\":860219,\"suspectedCount\":4,\"curedCount\":108254,\"deadCount\":44646,\"suspectedIncr\":0,\"currentConfirmedIncr\":20370,\"confirmedIncr\":24327,\"curedIncr\":2114,\"deadIncr\":1843},\"globalStatistics\":{\"currentConfirmedCount\":710153,\"confirmedCount\":942990,\"curedCount\":184864,\"deadCount\":47973,\"currentConfirmedIncr\":20355,\"confirmedIncr\":24517,\"curedIncr\":2313,\"deadIncr\":1849},\"globalOtherTrendChartData\":\"https://file1.dxycdn.com/2020/0402/340/3405464173734751626-135.json\"}}catch(e){}']"
      ]
     },
     "execution_count": 8,
     "metadata": {},
     "output_type": "execute_result"
    }
   ],
   "source": [
    "data = soup.findAll(text=re.compile('\\\"summary.+\\\"confirmedCount\\\":\\d'))\n",
    "\n",
    "data\n"
   ]
  },
  {
   "cell_type": "code",
   "execution_count": 9,
   "metadata": {},
   "outputs": [],
   "source": [
    "m = re.search('\\\"confirmedCount\\\":(\\d+)', data[0])\n",
    "summary_confirmed_count = int(m.group(1))\n",
    "\n",
    "\n",
    "m = re.search('\\\"curedCount\\\":(\\d+)', data[0])\n",
    "summary_cured_count = int(m.group(1))\n",
    "\n",
    "m = re.search('\\\"deadCount\\\":(\\d+)', data[0])\n",
    "summary_dead_count = int(m.group(1))\n"
   ]
  },
  {
   "cell_type": "code",
   "execution_count": 10,
   "metadata": {},
   "outputs": [
    {
     "data": {
      "text/html": [
       "<div>\n",
       "<style scoped>\n",
       "    .dataframe tbody tr th:only-of-type {\n",
       "        vertical-align: middle;\n",
       "    }\n",
       "\n",
       "    .dataframe tbody tr th {\n",
       "        vertical-align: top;\n",
       "    }\n",
       "\n",
       "    .dataframe thead th {\n",
       "        text-align: right;\n",
       "    }\n",
       "</style>\n",
       "<table border=\"1\" class=\"dataframe\">\n",
       "  <thead>\n",
       "    <tr style=\"text-align: right;\">\n",
       "      <th></th>\n",
       "      <th>datetime</th>\n",
       "      <th>confirmed</th>\n",
       "      <th>cured</th>\n",
       "      <th>dead</th>\n",
       "    </tr>\n",
       "  </thead>\n",
       "  <tbody>\n",
       "    <tr>\n",
       "      <th>0</th>\n",
       "      <td>2020-04-02 10:59</td>\n",
       "      <td>82771</td>\n",
       "      <td>76610</td>\n",
       "      <td>3327</td>\n",
       "    </tr>\n",
       "  </tbody>\n",
       "</table>\n",
       "</div>"
      ],
      "text/plain": [
       "           datetime  confirmed  cured  dead\n",
       "0  2020-04-02 10:59      82771  76610  3327"
      ]
     },
     "execution_count": 10,
     "metadata": {},
     "output_type": "execute_result"
    }
   ],
   "source": [
    "# make a dataframe\n",
    "df = pd.DataFrame({\n",
    "    'datetime': data_date_time,\n",
    "    'confirmed': summary_confirmed_count,\n",
    "    'cured': summary_cured_count,\n",
    "    'dead': summary_dead_count\n",
    "}, index=[0])\n",
    "df"
   ]
  },
  {
   "cell_type": "markdown",
   "metadata": {},
   "source": [
    "### Save to file"
   ]
  },
  {
   "cell_type": "code",
   "execution_count": 11,
   "metadata": {},
   "outputs": [],
   "source": [
    "from pathlib import Path\n",
    "csv_file = '../data/china-summary-cases.csv'\n",
    "\n",
    "if Path(csv_file).exists():\n",
    "    # read out the old data - then merge with new data and remove duplicates based on datetime\n",
    "    old_df = pd.read_csv(csv_file)\n",
    "    df = df.append(old_df)\n",
    "df.drop_duplicates(subset=['datetime'], inplace=True)"
   ]
  },
  {
   "cell_type": "code",
   "execution_count": 12,
   "metadata": {},
   "outputs": [],
   "source": [
    "df.sort_values(by=['datetime'], inplace=True)\n",
    "\n",
    "df.to_csv(csv_file, index=False)\n"
   ]
  },
  {
   "cell_type": "markdown",
   "metadata": {},
   "source": [
    "### Plot graph"
   ]
  },
  {
   "cell_type": "code",
   "execution_count": 13,
   "metadata": {},
   "outputs": [],
   "source": [
    "import seaborn as sns\n",
    "import matplotlib.pyplot as plt\n",
    "from pandas.plotting import register_matplotlib_converters\n",
    "register_matplotlib_converters()\n",
    "\n",
    "png_file = '../images/china-summary-cases.png'\n",
    "# convert to pd.datetime\n",
    "df['datetime_idx'] = pd.to_datetime(df['datetime'], format=\"%Y-%m-%d %H:%M\")\n",
    "\n",
    "df.set_index('datetime_idx', inplace=True)\n",
    "df.drop(['datetime'], axis=1, inplace=True)\n"
   ]
  },
  {
   "cell_type": "code",
   "execution_count": 14,
   "metadata": {},
   "outputs": [
    {
     "data": {
      "text/html": [
       "<div>\n",
       "<style scoped>\n",
       "    .dataframe tbody tr th:only-of-type {\n",
       "        vertical-align: middle;\n",
       "    }\n",
       "\n",
       "    .dataframe tbody tr th {\n",
       "        vertical-align: top;\n",
       "    }\n",
       "\n",
       "    .dataframe thead th {\n",
       "        text-align: right;\n",
       "    }\n",
       "</style>\n",
       "<table border=\"1\" class=\"dataframe\">\n",
       "  <thead>\n",
       "    <tr style=\"text-align: right;\">\n",
       "      <th></th>\n",
       "      <th>confirmed</th>\n",
       "      <th>cured</th>\n",
       "      <th>dead</th>\n",
       "    </tr>\n",
       "    <tr>\n",
       "      <th>datetime_idx</th>\n",
       "      <th></th>\n",
       "      <th></th>\n",
       "      <th></th>\n",
       "    </tr>\n",
       "  </thead>\n",
       "  <tbody>\n",
       "    <tr>\n",
       "      <th>2020-02-02 10:22:00</th>\n",
       "      <td>14483</td>\n",
       "      <td>379</td>\n",
       "      <td>304</td>\n",
       "    </tr>\n",
       "    <tr>\n",
       "      <th>2020-02-02 10:28:00</th>\n",
       "      <td>14483</td>\n",
       "      <td>380</td>\n",
       "      <td>304</td>\n",
       "    </tr>\n",
       "    <tr>\n",
       "      <th>2020-02-02 11:19:00</th>\n",
       "      <td>14489</td>\n",
       "      <td>385</td>\n",
       "      <td>304</td>\n",
       "    </tr>\n",
       "    <tr>\n",
       "      <th>2020-02-02 11:54:00</th>\n",
       "      <td>14489</td>\n",
       "      <td>397</td>\n",
       "      <td>304</td>\n",
       "    </tr>\n",
       "    <tr>\n",
       "      <th>2020-02-02 15:01:00</th>\n",
       "      <td>14490</td>\n",
       "      <td>430</td>\n",
       "      <td>304</td>\n",
       "    </tr>\n",
       "    <tr>\n",
       "      <th>...</th>\n",
       "      <td>...</td>\n",
       "      <td>...</td>\n",
       "      <td>...</td>\n",
       "    </tr>\n",
       "    <tr>\n",
       "      <th>2020-04-02 06:54:00</th>\n",
       "      <td>82724</td>\n",
       "      <td>76459</td>\n",
       "      <td>3321</td>\n",
       "    </tr>\n",
       "    <tr>\n",
       "      <th>2020-04-02 07:33:00</th>\n",
       "      <td>82724</td>\n",
       "      <td>76610</td>\n",
       "      <td>3327</td>\n",
       "    </tr>\n",
       "    <tr>\n",
       "      <th>2020-04-02 08:52:00</th>\n",
       "      <td>82771</td>\n",
       "      <td>76610</td>\n",
       "      <td>3327</td>\n",
       "    </tr>\n",
       "    <tr>\n",
       "      <th>2020-04-02 09:55:00</th>\n",
       "      <td>82771</td>\n",
       "      <td>76610</td>\n",
       "      <td>3327</td>\n",
       "    </tr>\n",
       "    <tr>\n",
       "      <th>2020-04-02 10:59:00</th>\n",
       "      <td>82771</td>\n",
       "      <td>76610</td>\n",
       "      <td>3327</td>\n",
       "    </tr>\n",
       "  </tbody>\n",
       "</table>\n",
       "<p>925 rows × 3 columns</p>\n",
       "</div>"
      ],
      "text/plain": [
       "                     confirmed  cured  dead\n",
       "datetime_idx                               \n",
       "2020-02-02 10:22:00      14483    379   304\n",
       "2020-02-02 10:28:00      14483    380   304\n",
       "2020-02-02 11:19:00      14489    385   304\n",
       "2020-02-02 11:54:00      14489    397   304\n",
       "2020-02-02 15:01:00      14490    430   304\n",
       "...                        ...    ...   ...\n",
       "2020-04-02 06:54:00      82724  76459  3321\n",
       "2020-04-02 07:33:00      82724  76610  3327\n",
       "2020-04-02 08:52:00      82771  76610  3327\n",
       "2020-04-02 09:55:00      82771  76610  3327\n",
       "2020-04-02 10:59:00      82771  76610  3327\n",
       "\n",
       "[925 rows x 3 columns]"
      ]
     },
     "execution_count": 14,
     "metadata": {},
     "output_type": "execute_result"
    }
   ],
   "source": [
    "df"
   ]
  },
  {
   "cell_type": "code",
   "execution_count": 15,
   "metadata": {
    "scrolled": true
   },
   "outputs": [
    {
     "data": {
      "image/png": "[encoded data removed]",
      "text/plain": [
       "<Figure size 1008x1008 with 3 Axes>"
      ]
     },
     "metadata": {},
     "output_type": "display_data"
    }
   ],
   "source": [
    "if df.shape[0]>1:\n",
    "    # line chart when having at least a few points\n",
    "    sns.set(rc={'figure.figsize':(14,14)})\n",
    "    sns.set(style=\"whitegrid\")\n",
    "\n",
    "    fig, axs = plt.subplots(nrows=3)\n",
    "\n",
    "    sns.lineplot(x=df.index, y = 'confirmed', data=df, ax= axs[0], estimator=None, color='orange')\n",
    "    sns.lineplot(x=df.index, y = 'cured', data=df, ax= axs[1], estimator=None, color='green')\n",
    "    sns.lineplot(x=df.index, y = 'dead', data=df, ax= axs[2], estimator=None, color='darkred')\n",
    "\n",
    "    for ax in axs:\n",
    "        ax.set_xlabel('')\n",
    "        ax.tick_params(axis='x', labelrotation=30)\n",
    "else:\n",
    "\n",
    "    ax = df.plot(kind='bar', stacked=True, figsize=(9,6))\n",
    "    fig = ax.get_figure()\n",
    "    ax.set_xlabel('')\n",
    "    for label in ax.get_xticklabels():\n",
    "        label.set_rotation(0) \n"
   ]
  },
  {
   "cell_type": "code",
   "execution_count": 16,
   "metadata": {},
   "outputs": [],
   "source": [
    "fig.savefig(png_file)"
   ]
  },
  {
   "cell_type": "code",
   "execution_count": null,
   "metadata": {},
   "outputs": [],
   "source": []
  },
  {
   "cell_type": "code",
   "execution_count": null,
   "metadata": {},
   "outputs": [],
   "source": []
  }
 ],
 "metadata": {
  "kernelspec": {
   "display_name": "Python 3",
   "language": "python",
   "name": "python3"
  },
  "language_info": {
   "codemirror_mode": {
    "name": "ipython",
    "version": 3
   },
   "file_extension": ".py",
   "mimetype": "text/x-python",
   "name": "python",
   "nbconvert_exporter": "python",
   "pygments_lexer": "ipython3",
   "version": "3.7.6"
  }
 },
 "nbformat": 4,
 "nbformat_minor": 2
}
