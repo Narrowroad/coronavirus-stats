{
 "cells": [
  {
   "cell_type": "code",
   "execution_count": 1,
   "metadata": {},
   "outputs": [],
   "source": [
    "import pandas as pd\n",
    "import requests\n",
    "from bs4 import BeautifulSoup\n",
    "import re\n",
    "from datetime import datetime\n",
    "from selenium import webdriver\n",
    "from selenium.webdriver.chrome.options import Options  \n"
   ]
  },
  {
   "cell_type": "code",
   "execution_count": 2,
   "metadata": {},
   "outputs": [
    {
     "data": {
      "text/plain": [
       "datetime.datetime(2020, 3, 25, 12, 8, 26, 152414)"
      ]
     },
     "execution_count": 2,
     "metadata": {},
     "output_type": "execute_result"
    }
   ],
   "source": [
    "datetime.now()"
   ]
  },
  {
   "cell_type": "code",
   "execution_count": 3,
   "metadata": {},
   "outputs": [],
   "source": [
    "chrome_options = Options()  \n",
    "chrome_options.add_argument(\"--headless\")  \n",
    "chrome_options.add_argument(\"--no-sandbox\")\n",
    "\n",
    "driver = webdriver.Chrome('chromedriver', options=chrome_options)"
   ]
  },
  {
   "cell_type": "code",
   "execution_count": 4,
   "metadata": {},
   "outputs": [],
   "source": [
    "url = 'https://ncov.dxy.cn/ncovh5/view/pneumonia'\n",
    "driver.get(url)"
   ]
  },
  {
   "cell_type": "markdown",
   "metadata": {},
   "source": [
    "### Extract date"
   ]
  },
  {
   "cell_type": "code",
   "execution_count": 5,
   "metadata": {},
   "outputs": [],
   "source": [
    "content = driver.page_source\n",
    "soup =BeautifulSoup(content, 'lxml')\n"
   ]
  },
  {
   "cell_type": "code",
   "execution_count": 6,
   "metadata": {},
   "outputs": [
    {
     "data": {
      "text/plain": [
       "['try { window.getTimelineService1 = [{\"id\":15097,\"pubDate\":1585136291000,\"pubDateStr\":\"12分钟前\",\"title\":\"日本新增66例新冠肺炎确诊病例 累计1277例\",\"summary\":\"据日本放送协会消息，根据日本各地的地方自治团体和厚生劳动省通报的数据，截至当地时间25日晚8点，当天新增66例新冠肺炎确诊病例，累计新冠肺炎确诊病例达到1277例（包括包机归国的14人确诊病例）。\",\"infoSource\":\"央视新闻app\",\"sourceUrl\":\"http://app.cctv.com/special/cportal/detail/arti/index.html?id=Arti1zST2UhLNAP75LJmKQKR200325&isfromapp=1\",\"provinceId\":\"\",\"infoType\":2,\"dataInfoState\":0,\"dataInfoOperator\":\"\",\"dataInfoTime\":1585136743000},{\"id\":15099,\"pubDate\":1585136113000,\"pubDateStr\":\"15分钟前\",\"title\":\"英国是新加坡新冠肺炎输入病例最大来源国\",\"summary\":\"3月25日，新加坡媒体报道称，目前新加坡558例确诊新冠肺炎病例中有329例是输入病例，其中120人来自英国（115人是新加坡公民、永久居民或长期准证持有人）。目前，英国是新加坡输入病例最大来源国，且每天依旧有超过1200名新加坡居民从英国返回新加坡。\",\"infoSource\":\"央视新闻app\",\"sourceUrl\":\"http://app.cctv.com/special/cportal/detail/arti/index.html?id=Artiv7B8jWtwqsx0RRgbMDNi200325&isfromapp=1\",\"provinceId\":\"\",\"infoType\":2,\"dataInfoState\":0,\"dataInfoOperator\":\"\",\"dataInfoTime\":1585136743000},{\"id\":15092,\"pubDate\":1585135927000,\"pubDateStr\":\"18分钟前\",\"title\":\"沙特出台更严格措施防控疫情 三座主要城市全面封闭\",\"summary\":\"沙特政府当地时间25日下午发布通告，称将在境内采取更严格措施防控新型冠状病毒肺炎疫情。\",\"infoSource\":\"央视新闻app\",\"sourceUrl\":\"http://app.cctv.com/special/cportal/detail/arti/index.html?id=ArtiIYRdatxUcKCS5x6vAckz200325&isfromapp=1\",\"provinceId\":\"\",\"infoType\":2,\"dataInfoState\":0,\"dataInfoOperator\":\"\",\"dataInfoTime\":1585136157000},{\"id\":15087,\"pubDate\":1585135783000,\"pubDateStr\":\"21分钟前\",\"title\":\"25日零时起 禁止所有来自海外国家或地区的非香港居民入境\",\"summary\":\"为应对香港日益增加的海外输入新冠肺炎疫情风险，日前，香港特区政府宣布包括升级入境限制在内的多项新措施。其中一项为25日凌晨零时起，禁止所有来自海外国家或地区的非香港居民入境。\",\"infoSource\":\"央视新闻app\",\"sourceUrl\":\"http://app.cctv.com/special/cportal/detail/arti/index.html?id=ArtiwQ9rirXciqK7H2pWlSlE200325&isfromapp=1\",\"provinceId\":\"\",\"infoType\":2,\"dataInfoState\":0,\"dataInfoOperator\":\"\",\"dataInfoTime\":1585135841000},{\"id\":15055,\"pubDate\":1585133340000,\"pubDateStr\":\"1小时前\",\"title\":\"西班牙新冠肺炎患者数量达47610例\",\"summary\":\"西班牙新冠肺炎患者数量达47610例\",\"infoSource\":\"央视新闻app\",\"sourceUrl\":\"http://app.cctv.com/special/cportal/detail/arti/index.html?id=ArtitUloVhRXueraEI8MlbBe200325&isfromapp=1\",\"provinceId\":\"\",\"infoType\":2,\"dataInfoState\":0,\"dataInfoOperator\":\"\",\"dataInfoTime\":1585133737000},{\"id\":15047,\"pubDate\":1585133161000,\"pubDateStr\":\"1小时前\",\"title\":\"习近平：战胜这次疫情，给我们力量和信心的是中国人民\",\"summary\":\"24日晚，国家主席习近平与波兰总统杜达通电话。习近平强调，战胜这次疫情，给我们力量和信心的是中国人民。中国14亿人民同舟共济，众志成城，坚定信心，同疫情进行顽强斗争。\",\"infoSource\":\"央视新闻app\",\"sourceUrl\":\"http://app.cctv.com/special/cportal/detail/arti/index.html?id=Arti9jU0Z4NLydl0VdZqQsgE200325&isfromapp=1\",\"provinceId\":\"\",\"infoType\":2,\"dataInfoState\":0,\"dataInfoOperator\":\"\",\"dataInfoTime\":1585133430000},{\"id\":15049,\"pubDate\":1585133016000,\"pubDateStr\":\"1小时前\",\"title\":\"巴基斯坦累计确诊新冠肺炎病例998例\",\"summary\":\"当地时间3月25日下午3点30分，巴基斯坦本地媒体报道新增26例新冠肺炎确诊病例，全国累计确诊998例，含7例死亡病例。\",\"infoSource\":\"央视新闻app\",\"sourceUrl\":\"http://app.cctv.com/special/cportal/detail/arti/index.html?id=ArtiiGq0cpsfnDoCyWALWt0X200325&isfromapp=1\",\"provinceId\":\"\",\"infoType\":1,\"dataInfoState\":0,\"dataInfoOperator\":\"\",\"dataInfoTime\":1585133430000},{\"id\":15045,\"pubDate\":1585133002000,\"pubDateStr\":\"1小时前\",\"title\":\"钟南山建议保持防控措施防第二波\",\"summary\":\"今天，#钟南山向欧洲国家分享经验#表示，在发病早期病人具有更高的传染性，需格外注意输入的病毒感染者。此外，在全球疫情的背景下，为防止第二波高峰，他建议仍应保持现有的防控措施，同时严格外防输入。\",\"infoSource\":\"央视新闻\",\"sourceUrl\":\"http://m.weibo.cn/2656274875/4486435342218228\",\"provinceId\":\"\",\"infoType\":2,\"dataInfoState\":0,\"dataInfoOperator\":\"\",\"dataInfoTime\":1585133421000},{\"id\":15044,\"pubDate\":1585132839000,\"pubDateStr\":\"1小时前\",\"title\":\"查尔斯王子核酸检测呈阳性\",\"summary\":\"据英国天空台报道，英国王储查尔斯王子新冠肺炎核酸检测呈阳性。\\\\n\",\"infoSource\":\"人民日报\",\"sourceUrl\":\"http://m.weibo.cn/2803301701/4486434658496912\",\"provinceId\":\"\",\"infoType\":2,\"dataInfoState\":0,\"dataInfoOperator\":\"\",\"dataInfoTime\":1585133421000},{\"id\":15040,\"pubDate\":1585132605000,\"pubDateStr\":\"1小时前\",\"title\":\"黎巴嫩新冠肺炎确诊人数上升至333人\",\"summary\":\"黎巴嫩卫生部官网公布，截至25日中午，新冠肺炎确诊总人数为333人，较昨日增加29人，确诊患者中有7人情况危重。目前，治愈和死亡人数未发生变化，但疑似病例数字增加至327人。\",\"infoSource\":\"央视新闻app\",\"sourceUrl\":\"http://app.cctv.com/special/cportal/detail/arti/index.html?id=ArtiPRd4Zez9guEdca2MkunD200325&isfromapp=1\",\"provinceId\":\"\",\"infoType\":1,\"dataInfoState\":0,\"dataInfoOperator\":\"\",\"dataInfoTime\":1585132846000},{\"id\":15037,\"pubDate\":1585132443000,\"pubDateStr\":\"1小时前\",\"title\":\"比利时新增668例新冠肺炎\",\"summary\":\"据比利时RTL电视台25日报道，比利时报告新增668例新冠肺炎病例，累计确诊4937例。\",\"infoSource\":\"人民日报海外版\",\"sourceUrl\":\"http://m.weibo.cn/3057540037/4486432997518621\",\"provinceId\":\"\",\"infoType\":1,\"dataInfoState\":0,\"dataInfoOperator\":\"\",\"dataInfoTime\":1585132823000},{\"id\":15031,\"pubDate\":1585132137000,\"pubDateStr\":\"1小时前\",\"title\":\"中国援助巴基斯坦抗疫物资抵达卡拉奇机场\",\"summary\":\"当地时间2020年3月25日，据当地媒体报道，巴基斯坦国家灾难管理局发言人表示，第一架运送抗疫物资的飞机已经抵达卡拉奇机场。该发言人称，这批抗疫物资包括一百万只口罩，其中有N95口罩。信德省首席部长和国家灾难管理局官员到机场迎接。\",\"infoSource\":\"央视新闻app\",\"sourceUrl\":\"http://app.cctv.com/special/cportal/detail/arti/index.html?id=Arti341t7QGLJVkT9JrSKDOM200325&isfromapp=1\",\"provinceId\":\"\",\"infoType\":2,\"dataInfoState\":0,\"dataInfoOperator\":\"\",\"dataInfoTime\":1585132522000},{\"id\":15028,\"pubDate\":1585131900000,\"pubDateStr\":\"1小时前\",\"title\":\"文莱新增5例新冠肺炎确诊病例 累计确诊109例\",\"summary\":\"当地时间25日，文莱政府宣布新增5例新冠肺炎确诊病例，累计确诊109例。文莱卫生部长伊桑说，5例新增病例当中，有2人曾到访印尼泗水，1人刚刚从英国伦敦回国，其余3人则属于其他接触性感染。另外，文莱政府宣布，从3月30日开始，全国所有教育机构进行居家网上教学。（总台记者 徐荃乐）\\\\n关注更多权威信息\\\\n戳链接↓↓↓\\\\nH5丨新冠肺炎疫情实时更新\\\\n（编辑 崔智琳）\",\"infoSource\":\"央视新闻app\",\"sourceUrl\":\"http://app.cctv.com/special/cportal/detail/arti/index.html?id=ArtiqP2Ctktuub5mAiq4FsvD200325&isfromapp=1\",\"provinceId\":\"\",\"infoType\":1,\"dataInfoState\":0,\"dataInfoOperator\":\"\",\"dataInfoTime\":1585132243000},{\"id\":15029,\"pubDate\":1585131864000,\"pubDateStr\":\"1小时前\",\"title\":\"感染人数三天翻一倍 是什么让纽约成了美国疫情“震中“？\",\"summary\":\"美国约翰·霍普金斯大学发布的数据显示，截至东部时间24日15时，美国新冠肺炎确诊病例升至50206例。世界卫生组织同日表示，美国有可能成为新冠病毒大流行的新中心。\",\"infoSource\":\"央视新闻app\",\"sourceUrl\":\"http://app.cctv.com/special/cportal/detail/arti/index.html?id=ArtihniBUqAgKdX0DMWYp1pR200325&isfromapp=1\",\"provinceId\":\"\",\"infoType\":2,\"dataInfoState\":0,\"dataInfoOperator\":\"\",\"dataInfoTime\":1585132243000},{\"id\":15020,\"pubDate\":1585131239000,\"pubDateStr\":\"1小时前\",\"title\":\"中国专家团队协助伊拉克建成巴格达医疗城核酸检测实验室\",\"summary\":\"由中国红十字会志愿专家团队协助建设的巴格达医疗城核酸检测实验室举行揭牌仪式，正式投入使用。\",\"infoSource\":\"央视新闻app\",\"sourceUrl\":\"http://app.cctv.com/special/cportal/detail/arti/index.html?id=ArtiPxdEozM2TlIJgfu0ysZo200325&isfromapp=1\",\"provinceId\":\"\",\"infoType\":2,\"dataInfoState\":0,\"dataInfoOperator\":\"\",\"dataInfoTime\":1585131655000},{\"id\":15021,\"pubDate\":1585131208000,\"pubDateStr\":\"1小时前\",\"title\":\"钟南山院士出席中欧抗疫视频会：发病早期病人具有更高的传染性\",\"summary\":\"今天（25日）15时，钟南山院士等中国专家参加中欧抗疫视频会，与来自德国、意大利、英国、罗马尼亚等国的专家一起交流了新冠肺炎全球疫情下各国疫情的状态与应对的策略，分享诊疗方案及医护人员防护经验。\",\"infoSource\":\"央视新闻app\",\"sourceUrl\":\"http://app.cctv.com/special/cportal/detail/arti/index.html?id=ArtiPjYU3nS1Vjo1TMgGPimv200325&isfromapp=1\",\"provinceId\":\"\",\"infoType\":2,\"dataInfoState\":0,\"dataInfoOperator\":\"\",\"dataInfoTime\":1585131655000},{\"id\":15012,\"pubDate\":1585130782000,\"pubDateStr\":\"1小时前\",\"title\":\"毛里求斯新增6例新冠肺炎确诊病例 累计确诊48例\",\"summary\":\"毛里求斯卫生部于当地时间3月25日发布消息称，毛里求斯新增6例新冠肺炎确诊病例，累计确诊48例，2例死亡，现有确诊46例。\",\"infoSource\":\"央视新闻app\",\"sourceUrl\":\"http://app.cctv.com/special/cportal/detail/arti/index.html?id=Arti6bIEDc8ZNKBVXZjeV4Dc200325&isfromapp=1\",\"provinceId\":\"\",\"infoType\":1,\"dataInfoState\":0,\"dataInfoOperator\":\"\",\"dataInfoTime\":1585131021000},{\"id\":15013,\"pubDate\":1585130641000,\"pubDateStr\":\"1小时前\",\"title\":\"外交部：中方愿为外商在华采购医疗物资提供便利\",\"summary\":\"外交部发言人耿爽在今天（25日）的例行记者会上介绍，中国政府愿向外国在华商业采购医疗物资提供便利，中国企业复工复产、经济社会恢复发展将继续为国际社会合作应对疫情提供有力支撑。\",\"infoSource\":\"央视新闻app\",\"sourceUrl\":\"http://app.cctv.com/special/cportal/detail/arti/index.html?id=ArtiHIToDj2VA0vtlbVtkGm6200325&isfromapp=1\",\"provinceId\":\"\",\"infoType\":2,\"dataInfoState\":0,\"dataInfoOperator\":\"\",\"dataInfoTime\":1585131021000},{\"id\":15019,\"pubDate\":1585098000000,\"pubDateStr\":\"10小时前\",\"title\":\"内蒙古自治区新增境外新冠肺炎输入性病例8例\",\"summary\":\"\\\\n\\u3000\\u30002020年3月24日22时至25日9时，内蒙古自治区报告新增境外新冠肺炎输入性病例8例，均为疑似病例。\\\\n\",\"infoSource\":\"内蒙古卫健委\",\"sourceUrl\":\"http://wjw.nmg.gov.cn/doc/2020/03/25/297043.shtml\",\"provinceId\":\"\",\"infoType\":2,\"dataInfoState\":0,\"dataInfoOperator\":\"\",\"dataInfoTime\":1585131295000}]}catch(e){}',\n",
       " '截至北京时间 2020-03-25 11:43',\n",
       " '截至北京时间 2020-03-25 11:43',\n",
       " '据日本放送协会消息，根据日本各地的地方自治团体和厚生劳动省通报的数据，截至当地时间25日晚8点，当天新增66例新冠肺炎确诊病例，累计新冠肺炎确诊病例达到1277例（包括包机归国的14人确诊病例）。',\n",
       " '黎巴嫩卫生部官网公布，截至25日中午，新冠肺炎确诊总人数为333人，较昨日增加29人，确诊患者中有7人情况危重。目前，治愈和死亡人数未发生变化，但疑似病例数字增加至327人。',\n",
       " '美国约翰·霍普金斯大学发布的数据显示，截至东部时间24日15时，美国新冠肺炎确诊病例升至50206例。世界卫生组织同日表示，美国有可能成为新冠病毒大流行的新中心。']"
      ]
     },
     "execution_count": 6,
     "metadata": {},
     "output_type": "execute_result"
    }
   ],
   "source": [
    "data = soup.findAll(text=re.compile(\"截至.+\"))\n",
    "data"
   ]
  },
  {
   "cell_type": "code",
   "execution_count": 7,
   "metadata": {},
   "outputs": [
    {
     "data": {
      "text/plain": [
       "'2020-03-25 11:43'"
      ]
     },
     "execution_count": 7,
     "metadata": {},
     "output_type": "execute_result"
    }
   ],
   "source": [
    "for s in data:\n",
    "    m = re.search(\"截至.*(202\\d-\\d+-\\d+ \\d+:\\d+)\", s)\n",
    "    if m is not None:\n",
    "        data_date_time = m.group(1)\n",
    "data_date_time"
   ]
  },
  {
   "cell_type": "markdown",
   "metadata": {},
   "source": [
    "### Extract data (summary)"
   ]
  },
  {
   "cell_type": "code",
   "execution_count": 8,
   "metadata": {},
   "outputs": [
    {
     "data": {
      "text/plain": [
       "['try { window.getStatisticsService = {\"id\":1,\"createTime\":1579537899000,\"modifyTime\":1585136630000,\"infectSource\":\"该字段已替换为说明2\",\"passWay\":\"该字段已替换为说明3\",\"imgUrl\":\"https://img1.dxycdn.com/2020/0201/450/3394153392393266839-135.png\",\"dailyPic\":\"https://img1.dxycdn.com/2020/0211/763/3395998884005602079-135.png,https://img1.dxycdn.com/2020/0211/362/3395998896890788910-135.png,https://img1.dxycdn.com/2020/0211/365/3395998905480724211-135.png,https://img1.dxycdn.com/2020/0211/364/3395998916217859778-135.png,https://img1.dxycdn.com/2020/0211/922/3395998929103046444-135.png,https://img1.dxycdn.com/2020/0211/089/3395998939840182072-135.png\",\"dailyPics\":[\"https://img1.dxycdn.com/2020/0211/763/3395998884005602079-135.png\",\"https://img1.dxycdn.com/2020/0211/362/3395998896890788910-135.png\",\"https://img1.dxycdn.com/2020/0211/365/3395998905480724211-135.png\",\"https://img1.dxycdn.com/2020/0211/364/3395998916217859778-135.png\",\"https://img1.dxycdn.com/2020/0211/922/3395998929103046444-135.png\",\"https://img1.dxycdn.com/2020/0211/089/3395998939840182072-135.png\"],\"summary\":\"\",\"deleted\":false,\"countRemark\":\"\",\"currentConfirmedCount\":4813,\"confirmedCount\":81896,\"suspectedCount\":474,\"curedCount\":73796,\"deadCount\":3287,\"seriousCount\":1399,\"suspectedIncr\":47,\"currentConfirmedIncr\":-352,\"confirmedIncr\":149,\"curedIncr\":497,\"deadIncr\":4,\"seriousIncr\":-174,\"virus\":\"该字段已替换为说明1\",\"remark1\":\"易感人群：人群普遍易感。老年人及有基础疾病者感染后病情较重，儿童及婴幼儿也有发病\",\"remark2\":\"潜伏期：一般为 3～7 天，最长不超过 14 天，潜伏期内可能存在传染性，其中无症状病例传染性非常罕见\",\"remark3\":\"宿主：野生动物，可能为中华菊头蝠\",\"remark4\":\"\",\"remark5\":\"\",\"note1\":\"病毒：SARS-CoV-2，其导致疾病命名 COVID-19\",\"note2\":\"传染源：新冠肺炎的患者。无症状感染者也可能成为传染源。\",\"note3\":\"传播途径：经呼吸道飞沫、接触传播是主要的传播途径。气溶胶传播和消化道等传播途径尚待明确。\",\"generalRemark\":\"1. 3 月 12 日国家卫健委确诊补订遗漏 12 例确诊病例（非 12 日新增），暂无具体省份信息。 2. 浙江省 12 例外省治愈暂无具体省份信息。\",\"abroadRemark\":\"\",\"marquee\":[{\"id\":1728,\"marqueeLabel\":\"拉动内需\",\"marqueeContent\":\"浙江等多地鼓励每周休息 2.5 天\",\"marqueeLink\":\"https://dxy.me/YIjDkN\"},{\"id\":1729,\"marqueeLabel\":\"武汉\",\"marqueeContent\":\"新增 1 例确诊是省人民医院医生\",\"marqueeLink\":\"https://dxy.me/yYvwND\"},{\"id\":1730,\"marqueeLabel\":\"最新消息\",\"marqueeContent\":\"英国查尔斯王子新冠病毒检测阳性\",\"marqueeLink\":\"https://dxy.me/1P0gqf\"}],\"quanguoTrendChart\":[{\"imgUrl\":\"https://img1.dxycdn.com/2020/0324/278/3403801351376518263-135.png\",\"title\":\"新增疑似/新增确诊\"},{\"imgUrl\":\"https://img1.dxycdn.com/2020/0324/812/3403847865872006755-135.png\",\"title\":\"境外输入\"},{\"imgUrl\":\"https://img1.dxycdn.com/2020/0324/547/3403847848692336947-135.png\",\"title\":\"现存确诊\"},{\"imgUrl\":\"https://img1.dxycdn.com/2020/0324/775/3403801407211095604-135.png\",\"title\":\"治愈\"},{\"imgUrl\":\"https://img1.dxycdn.com/2020/0324/250/3403801424390727199-135.png\",\"title\":\"死亡\"}],\"hbFeiHbTrendChart\":[{\"imgUrl\":\"https://img1.dxycdn.com/2020/0325/741/3403976603221840149-135.png\",\"title\":\"非湖北新增确诊\"},{\"imgUrl\":\"https://img1.dxycdn.com/2020/0325/960/3403975761408398645-135.png\",\"title\":\"湖北新增确诊\"},{\"imgUrl\":\"https://img1.dxycdn.com/2020/0325/018/3403975785030543028-135.png\",\"title\":\"湖北现存确诊\"},{\"imgUrl\":\"https://img1.dxycdn.com/2020/0325/656/3403975810800347601-135.png\",\"title\":\"非湖北现存确诊\"},{\"imgUrl\":\"https://img1.dxycdn.com/2020/0325/340/3403975838717812269-135.png\",\"title\":\"治愈/死亡\"}],\"foreignTrendChart\":[{\"imgUrl\":\"https://img1.dxycdn.com/2020/0320/702/3403079914982117944-135.png\",\"title\":\"国外新增确诊\"},{\"imgUrl\":\"https://img1.dxycdn.com/2020/0320/396/3403079925719536561-135.png\",\"title\":\"国外累计确诊\"},{\"imgUrl\":\"https://img1.dxycdn.com/2020/0320/139/3403079936457225524-135.png\",\"title\":\"国外死亡\"}],\"importantForeignTrendChart\":[{\"imgUrl\":\"https://img1.dxycdn.com/2020/0320/450/3403077453965772423-135.png\",\"title\":\"重点国家新增确诊\"},{\"imgUrl\":\"https://img1.dxycdn.com/2020/0320/276/3403077462555980566-135.png\",\"title\":\"日本新增确诊\"},{\"imgUrl\":\"https://img1.dxycdn.com/2020/0320/340/3403077473293125942-135.png\",\"title\":\"意大利新增确诊\"},{\"imgUrl\":\"https://img1.dxycdn.com/2020/0320/723/3403077481883334043-135.png\",\"title\":\"伊朗新增确诊\"},{\"imgUrl\":\"https://img1.dxycdn.com/2020/0320/266/3403077492620752785-135.png\",\"title\":\"美国新增确诊\"},{\"imgUrl\":\"https://img1.dxycdn.com/2020/0320/870/3403077503358171278-135.png\",\"title\":\"法国新增确诊\"},{\"imgUrl\":\"https://img1.dxycdn.com/2020/0320/053/3403077511947832997-135.png\",\"title\":\"德国新增确诊\"},{\"imgUrl\":\"https://img1.dxycdn.com/2020/0320/878/3403077520537768006-135.png\",\"title\":\"西班牙新增确诊\"},{\"imgUrl\":\"https://img1.dxycdn.com/2020/0320/443/3403077531275186665-135.png\",\"title\":\"韩国新增确诊\"}],\"foreignTrendChartGlobal\":[{\"imgUrl\":\"https://img1.dxycdn.com/2020/0319/740/3402859458605738923-135.png\",\"title\":\"Daily New Cases\"},{\"imgUrl\":\"https://img1.dxycdn.com/2020/0319/351/3402856772103846114-135.png\",\"title\":\"Total Confirmed Cases\"},{\"imgUrl\":\"https://img1.dxycdn.com/2020/0319/236/3402856782841001789-135.png\",\"title\":\"Total Deaths Cases\"}],\"importantForeignTrendChartGlobal\":[{\"imgUrl\":\"https://img1.dxycdn.com/2020/0319/122/3402856838675578578-135.png\",\"title\":\"Daily New Cases\"},{\"imgUrl\":\"https://img1.dxycdn.com/2020/0319/685/3402856849412997239-135.png\",\"title\":\"Japan\"},{\"imgUrl\":\"https://img1.dxycdn.com/2020/0319/477/3402856860150678804-135.png\",\"title\":\"Italy\"},{\"imgUrl\":\"https://img1.dxycdn.com/2020/0319/454/3402856873035581014-135.png\",\"title\":\"Iran\"},{\"imgUrl\":\"https://img1.dxycdn.com/2020/0319/022/3402856883772999714-135.png\",\"title\":\"U.S.A.\"},{\"imgUrl\":\"https://img1.dxycdn.com/2020/0319/529/3402856894510155506-135.png\",\"title\":\"France\"},{\"imgUrl\":\"https://img1.dxycdn.com/2020/0319/211/3402856905247574064-135.png\",\"title\":\"Germany\"},{\"imgUrl\":\"https://img1.dxycdn.com/2020/0319/054/3402856913837508985-135.png\",\"title\":\"Spain\"},{\"imgUrl\":\"https://img1.dxycdn.com/2020/0319/088/3402856928870157852-135.png\",\"title\":\"Republic of Korea\"}],\"foreignStatistics\":{\"currentConfirmedCount\":291251,\"confirmedCount\":342248,\"suspectedCount\":4,\"curedCount\":35245,\"deadCount\":15752,\"suspectedIncr\":0,\"currentConfirmedIncr\":4959,\"confirmedIncr\":6282,\"curedIncr\":1001,\"deadIncr\":322},\"globalStatistics\":{\"currentConfirmedCount\":296064,\"confirmedCount\":424144,\"curedCount\":109041,\"deadCount\":19039,\"currentConfirmedIncr\":4607,\"confirmedIncr\":6431,\"curedIncr\":1498,\"deadIncr\":326},\"globalOtherTrendChartData\":\"https://file1.dxycdn.com/2020/0325/690/3403979839479981647-135.json\"}}catch(e){}']"
      ]
     },
     "execution_count": 8,
     "metadata": {},
     "output_type": "execute_result"
    }
   ],
   "source": [
    "data = soup.findAll(text=re.compile('\\\"summary.+\\\"confirmedCount\\\":\\d'))\n",
    "\n",
    "data\n"
   ]
  },
  {
   "cell_type": "code",
   "execution_count": 9,
   "metadata": {},
   "outputs": [],
   "source": [
    "m = re.search('\\\"confirmedCount\\\":(\\d+)', data[0])\n",
    "summary_confirmed_count = int(m.group(1))\n",
    "\n",
    "\n",
    "m = re.search('\\\"curedCount\\\":(\\d+)', data[0])\n",
    "summary_cured_count = int(m.group(1))\n",
    "\n",
    "m = re.search('\\\"deadCount\\\":(\\d+)', data[0])\n",
    "summary_dead_count = int(m.group(1))\n"
   ]
  },
  {
   "cell_type": "code",
   "execution_count": 10,
   "metadata": {},
   "outputs": [
    {
     "data": {
      "text/html": [
       "<div>\n",
       "<style scoped>\n",
       "    .dataframe tbody tr th:only-of-type {\n",
       "        vertical-align: middle;\n",
       "    }\n",
       "\n",
       "    .dataframe tbody tr th {\n",
       "        vertical-align: top;\n",
       "    }\n",
       "\n",
       "    .dataframe thead th {\n",
       "        text-align: right;\n",
       "    }\n",
       "</style>\n",
       "<table border=\"1\" class=\"dataframe\">\n",
       "  <thead>\n",
       "    <tr style=\"text-align: right;\">\n",
       "      <th></th>\n",
       "      <th>datetime</th>\n",
       "      <th>confirmed</th>\n",
       "      <th>cured</th>\n",
       "      <th>dead</th>\n",
       "    </tr>\n",
       "  </thead>\n",
       "  <tbody>\n",
       "    <tr>\n",
       "      <th>0</th>\n",
       "      <td>2020-03-25 11:43</td>\n",
       "      <td>81896</td>\n",
       "      <td>73796</td>\n",
       "      <td>3287</td>\n",
       "    </tr>\n",
       "  </tbody>\n",
       "</table>\n",
       "</div>"
      ],
      "text/plain": [
       "           datetime  confirmed  cured  dead\n",
       "0  2020-03-25 11:43      81896  73796  3287"
      ]
     },
     "execution_count": 10,
     "metadata": {},
     "output_type": "execute_result"
    }
   ],
   "source": [
    "# make a dataframe\n",
    "df = pd.DataFrame({\n",
    "    'datetime': data_date_time,\n",
    "    'confirmed': summary_confirmed_count,\n",
    "    'cured': summary_cured_count,\n",
    "    'dead': summary_dead_count\n",
    "}, index=[0])\n",
    "df"
   ]
  },
  {
   "cell_type": "markdown",
   "metadata": {},
   "source": [
    "### Save to file"
   ]
  },
  {
   "cell_type": "code",
   "execution_count": 11,
   "metadata": {},
   "outputs": [],
   "source": [
    "from pathlib import Path\n",
    "csv_file = '../data/china-summary-cases.csv'\n",
    "\n",
    "if Path(csv_file).exists():\n",
    "    # read out the old data - then merge with new data and remove duplicates based on datetime\n",
    "    old_df = pd.read_csv(csv_file)\n",
    "    df = df.append(old_df)\n",
    "df.drop_duplicates(subset=['datetime'], inplace=True)"
   ]
  },
  {
   "cell_type": "code",
   "execution_count": 12,
   "metadata": {},
   "outputs": [],
   "source": [
    "df.sort_values(by=['datetime'], inplace=True)\n",
    "\n",
    "df.to_csv(csv_file, index=False)\n"
   ]
  },
  {
   "cell_type": "markdown",
   "metadata": {},
   "source": [
    "### Plot graph"
   ]
  },
  {
   "cell_type": "code",
   "execution_count": 13,
   "metadata": {},
   "outputs": [],
   "source": [
    "import seaborn as sns\n",
    "import matplotlib.pyplot as plt\n",
    "from pandas.plotting import register_matplotlib_converters\n",
    "register_matplotlib_converters()\n",
    "\n",
    "png_file = '../images/china-summary-cases.png'\n",
    "# convert to pd.datetime\n",
    "df['datetime_idx'] = pd.to_datetime(df['datetime'], format=\"%Y-%m-%d %H:%M\")\n",
    "\n",
    "df.set_index('datetime_idx', inplace=True)\n",
    "df.drop(['datetime'], axis=1, inplace=True)\n"
   ]
  },
  {
   "cell_type": "code",
   "execution_count": 14,
   "metadata": {},
   "outputs": [
    {
     "data": {
      "text/html": [
       "<div>\n",
       "<style scoped>\n",
       "    .dataframe tbody tr th:only-of-type {\n",
       "        vertical-align: middle;\n",
       "    }\n",
       "\n",
       "    .dataframe tbody tr th {\n",
       "        vertical-align: top;\n",
       "    }\n",
       "\n",
       "    .dataframe thead th {\n",
       "        text-align: right;\n",
       "    }\n",
       "</style>\n",
       "<table border=\"1\" class=\"dataframe\">\n",
       "  <thead>\n",
       "    <tr style=\"text-align: right;\">\n",
       "      <th></th>\n",
       "      <th>confirmed</th>\n",
       "      <th>cured</th>\n",
       "      <th>dead</th>\n",
       "    </tr>\n",
       "    <tr>\n",
       "      <th>datetime_idx</th>\n",
       "      <th></th>\n",
       "      <th></th>\n",
       "      <th></th>\n",
       "    </tr>\n",
       "  </thead>\n",
       "  <tbody>\n",
       "    <tr>\n",
       "      <th>2020-02-02 10:22:00</th>\n",
       "      <td>14483</td>\n",
       "      <td>379</td>\n",
       "      <td>304</td>\n",
       "    </tr>\n",
       "    <tr>\n",
       "      <th>2020-02-02 10:28:00</th>\n",
       "      <td>14483</td>\n",
       "      <td>380</td>\n",
       "      <td>304</td>\n",
       "    </tr>\n",
       "    <tr>\n",
       "      <th>2020-02-02 11:19:00</th>\n",
       "      <td>14489</td>\n",
       "      <td>385</td>\n",
       "      <td>304</td>\n",
       "    </tr>\n",
       "    <tr>\n",
       "      <th>2020-02-02 11:54:00</th>\n",
       "      <td>14489</td>\n",
       "      <td>397</td>\n",
       "      <td>304</td>\n",
       "    </tr>\n",
       "    <tr>\n",
       "      <th>2020-02-02 15:01:00</th>\n",
       "      <td>14490</td>\n",
       "      <td>430</td>\n",
       "      <td>304</td>\n",
       "    </tr>\n",
       "    <tr>\n",
       "      <th>...</th>\n",
       "      <td>...</td>\n",
       "      <td>...</td>\n",
       "      <td>...</td>\n",
       "    </tr>\n",
       "    <tr>\n",
       "      <th>2020-03-25 08:01:00</th>\n",
       "      <td>81872</td>\n",
       "      <td>73793</td>\n",
       "      <td>3287</td>\n",
       "    </tr>\n",
       "    <tr>\n",
       "      <th>2020-03-25 09:01:00</th>\n",
       "      <td>81872</td>\n",
       "      <td>73793</td>\n",
       "      <td>3287</td>\n",
       "    </tr>\n",
       "    <tr>\n",
       "      <th>2020-03-25 10:04:00</th>\n",
       "      <td>81896</td>\n",
       "      <td>73793</td>\n",
       "      <td>3287</td>\n",
       "    </tr>\n",
       "    <tr>\n",
       "      <th>2020-03-25 10:50:00</th>\n",
       "      <td>81896</td>\n",
       "      <td>73796</td>\n",
       "      <td>3287</td>\n",
       "    </tr>\n",
       "    <tr>\n",
       "      <th>2020-03-25 11:43:00</th>\n",
       "      <td>81896</td>\n",
       "      <td>73796</td>\n",
       "      <td>3287</td>\n",
       "    </tr>\n",
       "  </tbody>\n",
       "</table>\n",
       "<p>795 rows × 3 columns</p>\n",
       "</div>"
      ],
      "text/plain": [
       "                     confirmed  cured  dead\n",
       "datetime_idx                               \n",
       "2020-02-02 10:22:00      14483    379   304\n",
       "2020-02-02 10:28:00      14483    380   304\n",
       "2020-02-02 11:19:00      14489    385   304\n",
       "2020-02-02 11:54:00      14489    397   304\n",
       "2020-02-02 15:01:00      14490    430   304\n",
       "...                        ...    ...   ...\n",
       "2020-03-25 08:01:00      81872  73793  3287\n",
       "2020-03-25 09:01:00      81872  73793  3287\n",
       "2020-03-25 10:04:00      81896  73793  3287\n",
       "2020-03-25 10:50:00      81896  73796  3287\n",
       "2020-03-25 11:43:00      81896  73796  3287\n",
       "\n",
       "[795 rows x 3 columns]"
      ]
     },
     "execution_count": 14,
     "metadata": {},
     "output_type": "execute_result"
    }
   ],
   "source": [
    "df"
   ]
  },
  {
   "cell_type": "code",
   "execution_count": 15,
   "metadata": {
    "scrolled": true
   },
   "outputs": [
    {
     "data": {
      "image/png": "[encoded data removed]",
      "text/plain": [
       "<Figure size 1008x1008 with 3 Axes>"
      ]
     },
     "metadata": {},
     "output_type": "display_data"
    }
   ],
   "source": [
    "if df.shape[0]>1:\n",
    "    # line chart when having at least a few points\n",
    "    sns.set(rc={'figure.figsize':(14,14)})\n",
    "    sns.set(style=\"whitegrid\")\n",
    "\n",
    "    fig, axs = plt.subplots(nrows=3)\n",
    "\n",
    "    sns.lineplot(x=df.index, y = 'confirmed', data=df, ax= axs[0], estimator=None, color='orange')\n",
    "    sns.lineplot(x=df.index, y = 'cured', data=df, ax= axs[1], estimator=None, color='green')\n",
    "    sns.lineplot(x=df.index, y = 'dead', data=df, ax= axs[2], estimator=None, color='darkred')\n",
    "\n",
    "    for ax in axs:\n",
    "        ax.set_xlabel('')\n",
    "        ax.tick_params(axis='x', labelrotation=30)\n",
    "else:\n",
    "\n",
    "    ax = df.plot(kind='bar', stacked=True, figsize=(9,6))\n",
    "    fig = ax.get_figure()\n",
    "    ax.set_xlabel('')\n",
    "    for label in ax.get_xticklabels():\n",
    "        label.set_rotation(0) \n"
   ]
  },
  {
   "cell_type": "code",
   "execution_count": 16,
   "metadata": {},
   "outputs": [],
   "source": [
    "fig.savefig(png_file)"
   ]
  },
  {
   "cell_type": "code",
   "execution_count": null,
   "metadata": {},
   "outputs": [],
   "source": []
  },
  {
   "cell_type": "code",
   "execution_count": null,
   "metadata": {},
   "outputs": [],
   "source": []
  }
 ],
 "metadata": {
  "kernelspec": {
   "display_name": "Python 3",
   "language": "python",
   "name": "python3"
  },
  "language_info": {
   "codemirror_mode": {
    "name": "ipython",
    "version": 3
   },
   "file_extension": ".py",
   "mimetype": "text/x-python",
   "name": "python",
   "nbconvert_exporter": "python",
   "pygments_lexer": "ipython3",
   "version": "3.7.6"
  }
 },
 "nbformat": 4,
 "nbformat_minor": 2
}
