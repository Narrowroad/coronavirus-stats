{
 "cells": [
  {
   "cell_type": "code",
   "execution_count": 1,
   "metadata": {},
   "outputs": [],
   "source": [
    "import pandas as pd\n",
    "import requests\n",
    "from bs4 import BeautifulSoup\n",
    "import re\n",
    "from datetime import datetime\n",
    "from selenium import webdriver\n",
    "from selenium.webdriver.chrome.options import Options  \n"
   ]
  },
  {
   "cell_type": "code",
   "execution_count": 2,
   "metadata": {},
   "outputs": [
    {
     "data": {
      "text/plain": [
       "datetime.datetime(2020, 3, 26, 12, 8, 45, 528791)"
      ]
     },
     "execution_count": 2,
     "metadata": {},
     "output_type": "execute_result"
    }
   ],
   "source": [
    "datetime.now()"
   ]
  },
  {
   "cell_type": "code",
   "execution_count": 3,
   "metadata": {},
   "outputs": [],
   "source": [
    "chrome_options = Options()  \n",
    "chrome_options.add_argument(\"--headless\")  \n",
    "chrome_options.add_argument(\"--no-sandbox\")\n",
    "\n",
    "driver = webdriver.Chrome('chromedriver', options=chrome_options)"
   ]
  },
  {
   "cell_type": "code",
   "execution_count": 4,
   "metadata": {},
   "outputs": [],
   "source": [
    "url = 'https://ncov.dxy.cn/ncovh5/view/pneumonia'\n",
    "driver.get(url)"
   ]
  },
  {
   "cell_type": "markdown",
   "metadata": {},
   "source": [
    "### Extract date"
   ]
  },
  {
   "cell_type": "code",
   "execution_count": 5,
   "metadata": {},
   "outputs": [],
   "source": [
    "content = driver.page_source\n",
    "soup =BeautifulSoup(content, 'lxml')\n"
   ]
  },
  {
   "cell_type": "code",
   "execution_count": 6,
   "metadata": {},
   "outputs": [
    {
     "data": {
      "text/plain": [
       "['try { window.getTimelineService1 = [{\"id\":16306,\"pubDate\":1585223187000,\"pubDateStr\":\"14分钟前\",\"title\":\"马达加斯加新增4例新冠肺炎确诊病例 累计确诊23例\",\"summary\":\"3月26日中午，马达加斯加新增4例新冠肺炎确诊病例，其中包括一名72岁的意大利人。目前，马达加斯加共有确诊病例23人。（总台记者 史跃）\",\"infoSource\":\"央视新闻app\",\"sourceUrl\":\"http://app.cctv.com/special/cportal/detail/arti/index.html?id=ArtiLBgDFH17Xskhci0GCGdG200326&isfromapp=1\",\"provinceId\":\"\"},{\"id\":16308,\"pubDate\":1585222977000,\"pubDateStr\":\"18分钟前\",\"title\":\"巴林新增38例新冠肺炎确诊病例 累计确诊457例\",\"summary\":\"巴林卫生部当地时间26日下午发布通告，确定境内新增38例新冠肺炎确诊病例，至此巴林境内累计发现457例新冠肺炎确诊病例，其中204名患者已经痊愈出院，4名患者病重不治。249名仍在医院接受治疗的患者中1人病情较重，其余患者情况较为稳定。\",\"infoSource\":\"央视新闻app\",\"sourceUrl\":\"http://app.cctv.com/special/cportal/detail/arti/index.html?id=ArtinlSFnXbrm9GQgvv527uf200326&isfromapp=1\",\"provinceId\":\"\"},{\"id\":16300,\"pubDate\":1585222818000,\"pubDateStr\":\"20分钟前\",\"title\":\"美国新冠肺炎死亡人数破千 累计确诊69197例\",\"summary\":\"根据美国约翰斯·霍普金斯大学截至美国东部时间7点33分的实时数据，美国新冠肺炎死亡人数达1046人，确诊人数69197人。\",\"infoSource\":\"央视新闻app\",\"sourceUrl\":\"http://app.cctv.com/special/cportal/detail/arti/index.html?id=ArtigDyf54qlZF6GZSdV7tqf200326&isfromapp=1\",\"provinceId\":\"\"},{\"id\":16299,\"pubDate\":1585222437000,\"pubDateStr\":\"27分钟前\",\"title\":\"德国新冠肺炎确诊超过38000例\",\"summary\":\"根据德国16个联邦州卫生部门发布的数据，截至当地时间26日12时，德国确诊38124例新冠病毒感染者，累计死亡207例。（总台记者 余鹏）\",\"infoSource\":\"央视新闻app\",\"sourceUrl\":\"http://app.cctv.com/special/cportal/detail/arti/index.html?id=Arti0DeG0sBqrp2G4xtAlwde200326&isfromapp=1\",\"provinceId\":\"\"},{\"id\":16294,\"pubDate\":1585222380000,\"pubDateStr\":\"28分钟前\",\"title\":\"快讯！欧洲新冠肺炎确诊病例已超25万例\",\"summary\":\"据法新社26日报道，欧洲新冠肺炎确诊病例已超25万例。\",\"infoSource\":\"人民日报海外版\",\"sourceUrl\":\"http://m.weibo.cn/3057540037/4486810220707459\",\"provinceId\":\"\"},{\"id\":16292,\"pubDate\":1585222179000,\"pubDateStr\":\"31分钟前\",\"title\":\"布基纳法索新增32例新冠肺炎确诊病例 累计确诊146例\",\"summary\":\"根据布基纳法索卫生部于当地时间3月24日晚发布的数据，24日布基纳法索新增32例新冠肺炎确诊病例，累计确诊病例从23日的114例上升到146例（97名男性，49名女性），其中7例死亡，10例康复，现存确诊129例。（总台记者 何北平）\",\"infoSource\":\"央视新闻app\",\"sourceUrl\":\"http://app.cctv.com/special/cportal/detail/arti/index.html?id=ArtikbdKWi99mtHfUDoFZlg1200326&isfromapp=1\",\"provinceId\":\"\"},{\"id\":16279,\"pubDate\":1585221624000,\"pubDateStr\":\"40分钟前\",\"title\":\"印度财长：“不会有人挨饿” 将补贴1.7万亿卢比救助穷人\",\"summary\":\"印度财政部长西塔拉曼（Nirmala Sitharaman）26日宣布了一项经济救助计划，以减轻新冠病毒和抗议措施对民众产生的影响。\\\\n西塔拉曼表示：“政府正在努力，使外来民工等受影响最严重的人得到帮助。”“该救助计划将补贴1.7万亿卢比（约合1700亿人民币），通过发放现金和食品补贴的形式帮助穷人和农民工。\",\"infoSource\":\"央视新闻app\",\"sourceUrl\":\"http://app.cctv.com/special/cportal/detail/arti/index.html?id=ArtiC1bpvEyPEAL8zZ6AWQ46200326&isfromapp=1\",\"provinceId\":\"\"},{\"id\":16280,\"pubDate\":1585221436000,\"pubDateStr\":\"44分钟前\",\"title\":\"黎巴嫩新冠肺炎确诊人数上升至368人\",\"summary\":\"黎巴嫩卫生部官网公布，截至26日中午，新冠肺炎确诊总人数为368人，较昨日增加35人。根据卫生部公布的数字，黎巴嫩治愈人数已达20人，死亡病例增加至6例。确诊患者中目前仍有3人情况危重，疑似病例目前有360人，另外有900多人处于隔离状态。（总台记者 孙虎）\",\"infoSource\":\"央视新闻app\",\"sourceUrl\":\"http://app.cctv.com/special/cportal/detail/arti/index.html?id=Arti7mtbJZ8z8vRU4JftpQmR200326&isfromapp=1\",\"provinceId\":\"\"},{\"id\":16281,\"pubDate\":1585221354000,\"pubDateStr\":\"45分钟前\",\"title\":\"法国首趟医疗专列开始转运新冠肺炎重症患者\",\"summary\":\"当地时间26日上午，据法国媒体报道，法国首趟医疗专列已驶出大东部大区首府斯特拉斯堡火车站，将把20名当地的新冠肺炎重症患者转运至西部的卢瓦河大区接受治疗。\",\"infoSource\":\"央视新闻app\",\"sourceUrl\":\"http://app.cctv.com/special/cportal/detail/arti/index.html?id=Arti4GdzG50d4cTkZMO83FMg200326&isfromapp=1\",\"provinceId\":\"\"},{\"id\":16275,\"pubDate\":1585221260000,\"pubDateStr\":\"46分钟前\",\"title\":\"新加坡官员减薪三个月应对疫情\",\"summary\":\"3月26日，新加坡副总理兼财政部长王瑞杰在发布针对新冠肺炎疫情的追加预算案时表示，所有在新加坡政府担任政治职务者将减薪三个月。为了表示团结，部长和副部长的减薪幅度将更高。与此同时，总统、国会议长和副议长也都接受三个月的减薪。\",\"infoSource\":\"央视新闻app\",\"sourceUrl\":\"http://app.cctv.com/special/cportal/detail/arti/index.html?id=ArtiI3TfHWWmuDF1Iqzu98Vj200326&isfromapp=1\",\"provinceId\":\"\"},{\"id\":16276,\"pubDate\":1585221252000,\"pubDateStr\":\"47分钟前\",\"title\":\"中央应对新冠肺炎疫情工作领导小组：防控境外疫情经陆路水路输入风险\",\"summary\":\"会议指出，要认真贯彻习近平总书记重要讲话和中央政治局常委会会议精神，按照中央应对疫情工作领导小组部署，全面科学研判国内外疫情变化，充分认识疫情形势的复杂严峻性，决不可掉以轻心，坚持外防输入、内防反弹防控策略，完善应急和常态化防控结合的措施与机制，做好疫情境内防控和跨境输入输出防范，在科学精准防控同时积极有序推动复工复产。\",\"infoSource\":\"央视新闻app\",\"sourceUrl\":\"http://app.cctv.com/special/cportal/detail/arti/index.html?id=ArtiYptt5YOhuuXrR9E5AOKZ200326&isfromapp=1\",\"provinceId\":\"\"},{\"id\":16277,\"pubDate\":1585221200000,\"pubDateStr\":\"47分钟前\",\"title\":\"文莱新增5例新冠肺炎确诊病例 累计确诊114例\",\"summary\":\"当地时间26日，文莱政府宣布新增5例新冠肺炎确诊病例，累计确诊114例。文莱卫生部长伊桑说，26日共有3人获准出院回家，累计治愈病例5例。\",\"infoSource\":\"央视新闻app\",\"sourceUrl\":\"http://app.cctv.com/special/cportal/detail/arti/index.html?id=Arti3euSn3PChArkLK4HlA64200326&isfromapp=1\",\"provinceId\":\"\"},{\"id\":16267,\"pubDate\":1585220963000,\"pubDateStr\":\"51分钟前\",\"title\":\"印度首都一社区医生感染新冠肺炎 800余名接触者被隔离\",\"summary\":\"据《印度斯坦时报》报道，印度德里首都辖区卫生部官员表示，由于德里东北部地区某社区诊所的一名医生新冠病毒检测结果呈阳性，目前已对800余名接触者展开了为期14天的隔离。目前德里新冠肺炎确诊人数升至36人。（总台记者 李琳）\\\\n\",\"infoSource\":\"央视新闻app\",\"sourceUrl\":\"http://app.cctv.com/special/cportal/detail/arti/index.html?id=Artidy5P0T1MIUr0bAwncqlM200326&isfromapp=1\",\"provinceId\":\"\"},{\"id\":16255,\"pubDate\":1585220698000,\"pubDateStr\":\"56分钟前\",\"title\":\"最新数据：中国以外新冠肺炎384434例，美国69171例\",\"summary\":\"截至北京时间3月26日12时，除中国外，197个国家和地区累计确诊383722例新冠肺炎，“钻石公主”号邮轮712例。\",\"infoSource\":\"人民日报\",\"sourceUrl\":\"http://m.weibo.cn/2803301701/4486803166255405\",\"provinceId\":\"\"},{\"id\":16253,\"pubDate\":1585220514000,\"pubDateStr\":\"59分钟前\",\"title\":\"塞内加尔新增6例新冠肺炎确诊病例 累计确诊105例\",\"summary\":\"当地时间26日，塞内加尔卫生部发布最新通告称，在130份检测样本中，新发现6例确诊病例，其中5例为输入病例，1例为接触传染性病例。截至目前，塞内加尔累计确诊病例105例，其中9例已被治愈。（总台记者 韩蓄）\",\"infoSource\":\"央视新闻app\",\"sourceUrl\":\"http://app.cctv.com/special/cportal/detail/arti/index.html?id=ArtiR9Gzlasp7Kt5CtgYqZlo200326&isfromapp=1\",\"provinceId\":\"\"},{\"id\":16262,\"pubDate\":1585220454000,\"pubDateStr\":\"1小时前\",\"title\":\"美军确诊人数上升引发疫情扩散担忧\",\"summary\":\"美国国防部25日宣布，美国现役军人新冠肺炎确诊病例升至227例。\",\"infoSource\":\"央视新闻app\",\"sourceUrl\":\"http://app.cctv.com/special/cportal/detail/arti/index.html?id=ArtiXr6HdAQt4pPP4NsCIFpE200326&isfromapp=1\",\"provinceId\":\"\"},{\"id\":16245,\"pubDate\":1585220354000,\"pubDateStr\":\"1小时前\",\"title\":\"比利时新增1298例确诊新冠肺炎病例 累计6235例\",\"summary\":\"据比利时官方媒体当地时间3月26日上午报道，在过去24小时内，比利时境内新增新冠肺炎确诊病例1298例，新增死亡病例42例。截至目前，该国累计确诊病例6235例，累计死亡220例，605名病患正在接受重症监护。（总台记者 马瑾瑾）\",\"infoSource\":\"央视新闻app\",\"sourceUrl\":\"http://app.cctv.com/special/cportal/detail/arti/index.html?id=ArtimsAYPuHU3wQVUNvgXKEe200326&isfromapp=1\",\"provinceId\":\"\"},{\"id\":16246,\"pubDate\":1585220190000,\"pubDateStr\":\"1小时前\",\"title\":\"匈牙利新增新冠肺炎确诊病例35例 累计确诊261例\",\"summary\":\"当地时间3月26日，匈牙利官方新冠疫情信息网站公布，境内新增新冠肺炎确诊病例35例，累计确诊261例，其中包括10例死亡病例；新增7例康复病例，累计康复28例。261例感染者中有247名匈牙利公民，10名伊朗公民，2名英国公民，1名哈萨克斯坦公民和1名越南公民。\",\"infoSource\":\"央视新闻app\",\"sourceUrl\":\"http://app.cctv.com/special/cportal/detail/arti/index.html?id=ArtiFt7jttsoQTnF5tkVUQHV200326&isfromapp=1\",\"provinceId\":\"\"},{\"id\":16254,\"pubDate\":1585220106000,\"pubDateStr\":\"1小时前\",\"title\":\"全球新冠肺炎累计确诊480446例, 累计死亡21571例\",\"summary\":\"美国约翰·霍普金斯大学发布的实时统计数据显示，截至北京时间3月26日下午18点46分，全球累计确诊480446例，累计死亡21571例，累计确诊国家和地区数175个。\",\"infoSource\":\"人民日报海外版\",\"sourceUrl\":\"http://m.weibo.cn/3057540037/4486800686835825\",\"provinceId\":\"\"},{\"id\":16235,\"pubDate\":1585219394000,\"pubDateStr\":\"1小时前\",\"title\":\"西班牙一日新增8578例新冠肺炎\",\"summary\":\"据西班牙卫生部26日公布的数据，西班牙较前日新增新冠肺炎确诊病例8578例，新增死亡病例655例，累计确诊病例达56188例，其中4089人死亡，7015人治愈出院。#西班牙延长国家紧急状态#至4月12日零时。（人民日报记者姜波） \\\\n\",\"infoSource\":\"人民日报\",\"sourceUrl\":\"http://m.weibo.cn/2803301701/4486797696059127\",\"provinceId\":\"\"},{\"id\":16219,\"pubDate\":1585219042000,\"pubDateStr\":\"1小时前\",\"title\":\"西班牙新增8578例新冠肺炎,确诊病例累计56188例\",\"summary\":\"据西班牙卫生部官网26日通报，过去24小时，该国新增8578例新冠肺炎确诊病例，累计确诊56188例；新增死亡病例655例，累计死亡4089例。\",\"infoSource\":\"人民日报海外版\",\"sourceUrl\":\"http://m.weibo.cn/3057540037/4486796220050176\",\"provinceId\":\"\"},{\"id\":16216,\"pubDate\":1585218502000,\"pubDateStr\":\"1小时前\",\"title\":\"索马里新增1例新冠肺炎确诊病例 累计确诊2例\",\"summary\":\"当地时间3月26日，索马里卫生部通过社交平台发布消息称，该国确诊了第2例新冠肺炎病例，该患者是一名索马里公民。\",\"infoSource\":\"央视新闻app\",\"sourceUrl\":\"http://app.cctv.com/special/cportal/detail/arti/index.html?id=Artix1nAHBOLsieiqBYer8E5200326&isfromapp=1\",\"provinceId\":\"\"},{\"id\":16212,\"pubDate\":1585218331000,\"pubDateStr\":\"1小时前\",\"title\":\"阿曼新增10例新冠肺炎确诊病例 累计确诊109例\",\"summary\":\"据阿曼官方通讯社报道，当地时间3月26日，阿曼卫生部发表声明确认，该国新增10例新冠肺炎确诊病例，其中5例因与之前确诊的患者接触而感染，另外2例有英国旅行史，剩余3例感染源仍在调查中。同时，卫生部还公布6例治愈病例。截至目前，阿曼确诊新冠肺炎病例总数为109例，其中有23例已经治愈，暂无死亡病例。\",\"infoSource\":\"央视新闻app\",\"sourceUrl\":\"http://app.cctv.com/special/cportal/detail/arti/index.html?id=ArtinddynqsGE1GN64l8ijee200326&isfromapp=1\",\"provinceId\":\"\"},{\"id\":16209,\"pubDate\":1585217844000,\"pubDateStr\":\"1小时前\",\"title\":\"比利时新增1298例新冠肺炎#确诊病例 累计6235例\",\"summary\":\"据荷兰BNO Newsroom报道，比利时卫生部26日通报，过去24小时，该国新增1298例新冠肺炎确诊病例，累计确诊6235例；新增死亡病例42例，累计220例。\\\\n\",\"infoSource\":\"人民日报海外版\",\"sourceUrl\":\"http://m.weibo.cn/3057540037/4486791195335588\",\"provinceId\":\"\"}]}catch(e){}',\n",
       " '截至北京时间 2020-03-26 11:55',\n",
       " '截至北京时间 2020-03-26 11:55',\n",
       " '根据美国约翰斯·霍普金斯大学截至美国东部时间7点33分的实时数据，美国新冠肺炎死亡人数达1046人，确诊人数69197人。',\n",
       " '根据德国16个联邦州卫生部门发布的数据，截至当地时间26日12时，德国确诊38124例新冠病毒感染者，累计死亡207例。（总台记者 余鹏）',\n",
       " '黎巴嫩卫生部官网公布，截至26日中午，新冠肺炎确诊总人数为368人，较昨日增加35人。根据卫生部公布的数字，黎巴嫩治愈人数已达20人，死亡病例增加至6例。确诊患者中目前仍有3人情况危重，疑似病例目前有360人，另外有900多人处于隔离状态。（总台记者 孙虎）',\n",
       " '截至北京时间3月26日12时，除中国外，197个国家和地区累计确诊383722例新冠肺炎，“钻石公主”号邮轮712例。',\n",
       " '当地时间26日，塞内加尔卫生部发布最新通告称，在130份检测样本中，新发现6例确诊病例，其中5例为输入病例，1例为接触传染性病例。截至目前，塞内加尔累计确诊病例105例，其中9例已被治愈。（总台记者 韩蓄）',\n",
       " '据比利时官方媒体当地时间3月26日上午报道，在过去24小时内，比利时境内新增新冠肺炎确诊病例1298例，新增死亡病例42例。截至目前，该国累计确诊病例6235例，累计死亡220例，605名病患正在接受重症监护。（总台记者 马瑾瑾）',\n",
       " '美国约翰·霍普金斯大学发布的实时统计数据显示，截至北京时间3月26日下午18点46分，全球累计确诊480446例，累计死亡21571例，累计确诊国家和地区数175个。',\n",
       " '据阿曼官方通讯社报道，当地时间3月26日，阿曼卫生部发表声明确认，该国新增10例新冠肺炎确诊病例，其中5例因与之前确诊的患者接触而感染，另外2例有英国旅行史，剩余3例感染源仍在调查中。同时，卫生部还公布6例治愈病例。截至目前，阿曼确诊新冠肺炎病例总数为109例，其中有23例已经治愈，暂无死亡病例。']"
      ]
     },
     "execution_count": 6,
     "metadata": {},
     "output_type": "execute_result"
    }
   ],
   "source": [
    "data = soup.findAll(text=re.compile(\"截至.+\"))\n",
    "data"
   ]
  },
  {
   "cell_type": "code",
   "execution_count": 7,
   "metadata": {},
   "outputs": [
    {
     "data": {
      "text/plain": [
       "'2020-03-26 11:55'"
      ]
     },
     "execution_count": 7,
     "metadata": {},
     "output_type": "execute_result"
    }
   ],
   "source": [
    "for s in data:\n",
    "    m = re.search(\"截至.*(202\\d-\\d+-\\d+ \\d+:\\d+)\", s)\n",
    "    if m is not None:\n",
    "        data_date_time = m.group(1)\n",
    "data_date_time"
   ]
  },
  {
   "cell_type": "markdown",
   "metadata": {},
   "source": [
    "### Extract data (summary)"
   ]
  },
  {
   "cell_type": "code",
   "execution_count": 8,
   "metadata": {},
   "outputs": [
    {
     "data": {
      "text/plain": [
       "['try { window.getStatisticsService = {\"id\":1,\"createTime\":1579537899000,\"modifyTime\":1585223704000,\"infectSource\":\"该字段已替换为说明2\",\"passWay\":\"该字段已替换为说明3\",\"imgUrl\":\"https://img1.dxycdn.com/2020/0201/450/3394153392393266839-135.png\",\"dailyPic\":\"https://img1.dxycdn.com/2020/0211/763/3395998884005602079-135.png,https://img1.dxycdn.com/2020/0211/362/3395998896890788910-135.png,https://img1.dxycdn.com/2020/0211/365/3395998905480724211-135.png,https://img1.dxycdn.com/2020/0211/364/3395998916217859778-135.png,https://img1.dxycdn.com/2020/0211/922/3395998929103046444-135.png,https://img1.dxycdn.com/2020/0211/089/3395998939840182072-135.png\",\"dailyPics\":[\"https://img1.dxycdn.com/2020/0211/763/3395998884005602079-135.png\",\"https://img1.dxycdn.com/2020/0211/362/3395998896890788910-135.png\",\"https://img1.dxycdn.com/2020/0211/365/3395998905480724211-135.png\",\"https://img1.dxycdn.com/2020/0211/364/3395998916217859778-135.png\",\"https://img1.dxycdn.com/2020/0211/922/3395998929103046444-135.png\",\"https://img1.dxycdn.com/2020/0211/089/3395998939840182072-135.png\"],\"summary\":\"\",\"deleted\":false,\"countRemark\":\"\",\"currentConfirmedCount\":4537,\"confirmedCount\":82034,\"suspectedCount\":541,\"curedCount\":74204,\"deadCount\":3293,\"seriousCount\":1235,\"suspectedIncr\":67,\"currentConfirmedIncr\":-231,\"confirmedIncr\":188,\"curedIncr\":413,\"deadIncr\":6,\"seriousIncr\":-164,\"virus\":\"该字段已替换为说明1\",\"remark1\":\"易感人群：人群普遍易感。老年人及有基础疾病者感染后病情较重，儿童及婴幼儿也有发病\",\"remark2\":\"潜伏期：一般为 3～7 天，最长不超过 14 天，潜伏期内可能存在传染性，其中无症状病例传染性非常罕见\",\"remark3\":\"宿主：野生动物，可能为中华菊头蝠\",\"remark4\":\"\",\"remark5\":\"\",\"note1\":\"病毒：SARS-CoV-2，其导致疾病命名 COVID-19\",\"note2\":\"传染源：新冠肺炎的患者。无症状感染者也可能成为传染源。\",\"note3\":\"传播途径：经呼吸道飞沫、接触传播是主要的传播途径。气溶胶传播和消化道等传播途径尚待明确。\",\"generalRemark\":\"1. 3 月 12 日国家卫健委确诊补订遗漏 12 例确诊病例（非 12 日新增），暂无具体省份信息。 2. 浙江省 12 例外省治愈暂无具体省份信息。\",\"abroadRemark\":\"\",\"marquee\":[{\"id\":1746,\"marqueeLabel\":\"全球疫情\",\"marqueeContent\":\"美国成为现存新冠感染最多的国家\",\"marqueeLink\":\"https://dxy.me/Sg1rjk\"},{\"id\":1747,\"marqueeLabel\":\"恢复\",\"marqueeContent\":\"武汉 4 月 8 日将恢复商业航班\",\"marqueeLink\":\"https://dxy.me/PR2Eha\"},{\"id\":1748,\"marqueeLabel\":\"要闻\",\"marqueeContent\":\"英国查尔斯王子新冠病毒检测阳性\",\"marqueeLink\":\"https://dxy.me/1P0gqf\"}],\"quanguoTrendChart\":[{\"imgUrl\":\"https://img1.dxycdn.com/2020/0324/278/3403801351376518263-135.png\",\"title\":\"新增疑似/新增确诊\"},{\"imgUrl\":\"https://img1.dxycdn.com/2020/0324/812/3403847865872006755-135.png\",\"title\":\"境外输入\"},{\"imgUrl\":\"https://img1.dxycdn.com/2020/0324/547/3403847848692336947-135.png\",\"title\":\"现存确诊\"},{\"imgUrl\":\"https://img1.dxycdn.com/2020/0324/775/3403801407211095604-135.png\",\"title\":\"治愈\"},{\"imgUrl\":\"https://img1.dxycdn.com/2020/0324/250/3403801424390727199-135.png\",\"title\":\"死亡\"}],\"hbFeiHbTrendChart\":[{\"imgUrl\":\"https://img1.dxycdn.com/2020/0326/624/3404177508906904585-135.png\",\"title\":\"非湖北新增确诊\"},{\"imgUrl\":\"https://img1.dxycdn.com/2020/0326/777/3404177532529485065-135.png\",\"title\":\"湖北新增确诊\"},{\"imgUrl\":\"https://img1.dxycdn.com/2020/0326/376/3404177556151805921-135.png\",\"title\":\"湖北现存确诊\"},{\"imgUrl\":\"https://img1.dxycdn.com/2020/0326/527/3404177575478899995-135.png\",\"title\":\"非湖北现存确诊\"},{\"imgUrl\":\"https://img1.dxycdn.com/2020/0326/419/3404177596953996726-135.png\",\"title\":\"治愈/死亡\"}],\"foreignTrendChart\":[{\"imgUrl\":\"https://img1.dxycdn.com/2020/0320/702/3403079914982117944-135.png\",\"title\":\"国外新增确诊\"},{\"imgUrl\":\"https://img1.dxycdn.com/2020/0320/396/3403079925719536561-135.png\",\"title\":\"国外累计确诊\"},{\"imgUrl\":\"https://img1.dxycdn.com/2020/0320/139/3403079936457225524-135.png\",\"title\":\"国外死亡\"}],\"importantForeignTrendChart\":[{\"imgUrl\":\"https://img1.dxycdn.com/2020/0320/450/3403077453965772423-135.png\",\"title\":\"重点国家新增确诊\"},{\"imgUrl\":\"https://img1.dxycdn.com/2020/0320/276/3403077462555980566-135.png\",\"title\":\"日本新增确诊\"},{\"imgUrl\":\"https://img1.dxycdn.com/2020/0320/340/3403077473293125942-135.png\",\"title\":\"意大利新增确诊\"},{\"imgUrl\":\"https://img1.dxycdn.com/2020/0320/723/3403077481883334043-135.png\",\"title\":\"伊朗新增确诊\"},{\"imgUrl\":\"https://img1.dxycdn.com/2020/0320/266/3403077492620752785-135.png\",\"title\":\"美国新增确诊\"},{\"imgUrl\":\"https://img1.dxycdn.com/2020/0320/870/3403077503358171278-135.png\",\"title\":\"法国新增确诊\"},{\"imgUrl\":\"https://img1.dxycdn.com/2020/0320/053/3403077511947832997-135.png\",\"title\":\"德国新增确诊\"},{\"imgUrl\":\"https://img1.dxycdn.com/2020/0320/878/3403077520537768006-135.png\",\"title\":\"西班牙新增确诊\"},{\"imgUrl\":\"https://img1.dxycdn.com/2020/0320/443/3403077531275186665-135.png\",\"title\":\"韩国新增确诊\"}],\"foreignTrendChartGlobal\":[{\"imgUrl\":\"https://img1.dxycdn.com/2020/0319/740/3402859458605738923-135.png\",\"title\":\"Daily New Cases\"},{\"imgUrl\":\"https://img1.dxycdn.com/2020/0319/351/3402856772103846114-135.png\",\"title\":\"Total Confirmed Cases\"},{\"imgUrl\":\"https://img1.dxycdn.com/2020/0319/236/3402856782841001789-135.png\",\"title\":\"Total Deaths Cases\"}],\"importantForeignTrendChartGlobal\":[{\"imgUrl\":\"https://img1.dxycdn.com/2020/0319/122/3402856838675578578-135.png\",\"title\":\"Daily New Cases\"},{\"imgUrl\":\"https://img1.dxycdn.com/2020/0319/685/3402856849412997239-135.png\",\"title\":\"Japan\"},{\"imgUrl\":\"https://img1.dxycdn.com/2020/0319/477/3402856860150678804-135.png\",\"title\":\"Italy\"},{\"imgUrl\":\"https://img1.dxycdn.com/2020/0319/454/3402856873035581014-135.png\",\"title\":\"Iran\"},{\"imgUrl\":\"https://img1.dxycdn.com/2020/0319/022/3402856883772999714-135.png\",\"title\":\"U.S.A.\"},{\"imgUrl\":\"https://img1.dxycdn.com/2020/0319/529/3402856894510155506-135.png\",\"title\":\"France\"},{\"imgUrl\":\"https://img1.dxycdn.com/2020/0319/211/3402856905247574064-135.png\",\"title\":\"Germany\"},{\"imgUrl\":\"https://img1.dxycdn.com/2020/0319/054/3402856913837508985-135.png\",\"title\":\"Spain\"},{\"imgUrl\":\"https://img1.dxycdn.com/2020/0319/088/3402856928870157852-135.png\",\"title\":\"Republic of Korea\"}],\"foreignStatistics\":{\"currentConfirmedCount\":341196,\"confirmedCount\":400391,\"suspectedCount\":4,\"curedCount\":40600,\"deadCount\":18595,\"suspectedIncr\":0,\"currentConfirmedIncr\":17300,\"confirmedIncr\":19797,\"curedIncr\":1466,\"deadIncr\":1031},\"globalStatistics\":{\"currentConfirmedCount\":345733,\"confirmedCount\":482425,\"curedCount\":114804,\"deadCount\":21888,\"currentConfirmedIncr\":17069,\"confirmedIncr\":19985,\"curedIncr\":1879,\"deadIncr\":1037},\"globalOtherTrendChartData\":\"https://file1.dxycdn.com/2020/0326/962/3404165384214179896-135.json\"}}catch(e){}']"
      ]
     },
     "execution_count": 8,
     "metadata": {},
     "output_type": "execute_result"
    }
   ],
   "source": [
    "data = soup.findAll(text=re.compile('\\\"summary.+\\\"confirmedCount\\\":\\d'))\n",
    "\n",
    "data\n"
   ]
  },
  {
   "cell_type": "code",
   "execution_count": 9,
   "metadata": {},
   "outputs": [],
   "source": [
    "m = re.search('\\\"confirmedCount\\\":(\\d+)', data[0])\n",
    "summary_confirmed_count = int(m.group(1))\n",
    "\n",
    "\n",
    "m = re.search('\\\"curedCount\\\":(\\d+)', data[0])\n",
    "summary_cured_count = int(m.group(1))\n",
    "\n",
    "m = re.search('\\\"deadCount\\\":(\\d+)', data[0])\n",
    "summary_dead_count = int(m.group(1))\n"
   ]
  },
  {
   "cell_type": "code",
   "execution_count": 10,
   "metadata": {},
   "outputs": [
    {
     "data": {
      "text/html": [
       "<div>\n",
       "<style scoped>\n",
       "    .dataframe tbody tr th:only-of-type {\n",
       "        vertical-align: middle;\n",
       "    }\n",
       "\n",
       "    .dataframe tbody tr th {\n",
       "        vertical-align: top;\n",
       "    }\n",
       "\n",
       "    .dataframe thead th {\n",
       "        text-align: right;\n",
       "    }\n",
       "</style>\n",
       "<table border=\"1\" class=\"dataframe\">\n",
       "  <thead>\n",
       "    <tr style=\"text-align: right;\">\n",
       "      <th></th>\n",
       "      <th>datetime</th>\n",
       "      <th>confirmed</th>\n",
       "      <th>cured</th>\n",
       "      <th>dead</th>\n",
       "    </tr>\n",
       "  </thead>\n",
       "  <tbody>\n",
       "    <tr>\n",
       "      <th>0</th>\n",
       "      <td>2020-03-26 11:55</td>\n",
       "      <td>82034</td>\n",
       "      <td>74204</td>\n",
       "      <td>3293</td>\n",
       "    </tr>\n",
       "  </tbody>\n",
       "</table>\n",
       "</div>"
      ],
      "text/plain": [
       "           datetime  confirmed  cured  dead\n",
       "0  2020-03-26 11:55      82034  74204  3293"
      ]
     },
     "execution_count": 10,
     "metadata": {},
     "output_type": "execute_result"
    }
   ],
   "source": [
    "# make a dataframe\n",
    "df = pd.DataFrame({\n",
    "    'datetime': data_date_time,\n",
    "    'confirmed': summary_confirmed_count,\n",
    "    'cured': summary_cured_count,\n",
    "    'dead': summary_dead_count\n",
    "}, index=[0])\n",
    "df"
   ]
  },
  {
   "cell_type": "markdown",
   "metadata": {},
   "source": [
    "### Save to file"
   ]
  },
  {
   "cell_type": "code",
   "execution_count": 11,
   "metadata": {},
   "outputs": [],
   "source": [
    "from pathlib import Path\n",
    "csv_file = '../data/china-summary-cases.csv'\n",
    "\n",
    "if Path(csv_file).exists():\n",
    "    # read out the old data - then merge with new data and remove duplicates based on datetime\n",
    "    old_df = pd.read_csv(csv_file)\n",
    "    df = df.append(old_df)\n",
    "df.drop_duplicates(subset=['datetime'], inplace=True)"
   ]
  },
  {
   "cell_type": "code",
   "execution_count": 12,
   "metadata": {},
   "outputs": [],
   "source": [
    "df.sort_values(by=['datetime'], inplace=True)\n",
    "\n",
    "df.to_csv(csv_file, index=False)\n"
   ]
  },
  {
   "cell_type": "markdown",
   "metadata": {},
   "source": [
    "### Plot graph"
   ]
  },
  {
   "cell_type": "code",
   "execution_count": 13,
   "metadata": {},
   "outputs": [],
   "source": [
    "import seaborn as sns\n",
    "import matplotlib.pyplot as plt\n",
    "from pandas.plotting import register_matplotlib_converters\n",
    "register_matplotlib_converters()\n",
    "\n",
    "png_file = '../images/china-summary-cases.png'\n",
    "# convert to pd.datetime\n",
    "df['datetime_idx'] = pd.to_datetime(df['datetime'], format=\"%Y-%m-%d %H:%M\")\n",
    "\n",
    "df.set_index('datetime_idx', inplace=True)\n",
    "df.drop(['datetime'], axis=1, inplace=True)\n"
   ]
  },
  {
   "cell_type": "code",
   "execution_count": 14,
   "metadata": {},
   "outputs": [
    {
     "data": {
      "text/html": [
       "<div>\n",
       "<style scoped>\n",
       "    .dataframe tbody tr th:only-of-type {\n",
       "        vertical-align: middle;\n",
       "    }\n",
       "\n",
       "    .dataframe tbody tr th {\n",
       "        vertical-align: top;\n",
       "    }\n",
       "\n",
       "    .dataframe thead th {\n",
       "        text-align: right;\n",
       "    }\n",
       "</style>\n",
       "<table border=\"1\" class=\"dataframe\">\n",
       "  <thead>\n",
       "    <tr style=\"text-align: right;\">\n",
       "      <th></th>\n",
       "      <th>confirmed</th>\n",
       "      <th>cured</th>\n",
       "      <th>dead</th>\n",
       "    </tr>\n",
       "    <tr>\n",
       "      <th>datetime_idx</th>\n",
       "      <th></th>\n",
       "      <th></th>\n",
       "      <th></th>\n",
       "    </tr>\n",
       "  </thead>\n",
       "  <tbody>\n",
       "    <tr>\n",
       "      <th>2020-02-02 10:22:00</th>\n",
       "      <td>14483</td>\n",
       "      <td>379</td>\n",
       "      <td>304</td>\n",
       "    </tr>\n",
       "    <tr>\n",
       "      <th>2020-02-02 10:28:00</th>\n",
       "      <td>14483</td>\n",
       "      <td>380</td>\n",
       "      <td>304</td>\n",
       "    </tr>\n",
       "    <tr>\n",
       "      <th>2020-02-02 11:19:00</th>\n",
       "      <td>14489</td>\n",
       "      <td>385</td>\n",
       "      <td>304</td>\n",
       "    </tr>\n",
       "    <tr>\n",
       "      <th>2020-02-02 11:54:00</th>\n",
       "      <td>14489</td>\n",
       "      <td>397</td>\n",
       "      <td>304</td>\n",
       "    </tr>\n",
       "    <tr>\n",
       "      <th>2020-02-02 15:01:00</th>\n",
       "      <td>14490</td>\n",
       "      <td>430</td>\n",
       "      <td>304</td>\n",
       "    </tr>\n",
       "    <tr>\n",
       "      <th>...</th>\n",
       "      <td>...</td>\n",
       "      <td>...</td>\n",
       "      <td>...</td>\n",
       "    </tr>\n",
       "    <tr>\n",
       "      <th>2020-03-26 08:03:00</th>\n",
       "      <td>81988</td>\n",
       "      <td>74200</td>\n",
       "      <td>3293</td>\n",
       "    </tr>\n",
       "    <tr>\n",
       "      <th>2020-03-26 09:04:00</th>\n",
       "      <td>81988</td>\n",
       "      <td>74200</td>\n",
       "      <td>3293</td>\n",
       "    </tr>\n",
       "    <tr>\n",
       "      <th>2020-03-26 10:05:00</th>\n",
       "      <td>82034</td>\n",
       "      <td>74204</td>\n",
       "      <td>3293</td>\n",
       "    </tr>\n",
       "    <tr>\n",
       "      <th>2020-03-26 10:59:00</th>\n",
       "      <td>82034</td>\n",
       "      <td>74204</td>\n",
       "      <td>3293</td>\n",
       "    </tr>\n",
       "    <tr>\n",
       "      <th>2020-03-26 11:55:00</th>\n",
       "      <td>82034</td>\n",
       "      <td>74204</td>\n",
       "      <td>3293</td>\n",
       "    </tr>\n",
       "  </tbody>\n",
       "</table>\n",
       "<p>809 rows × 3 columns</p>\n",
       "</div>"
      ],
      "text/plain": [
       "                     confirmed  cured  dead\n",
       "datetime_idx                               \n",
       "2020-02-02 10:22:00      14483    379   304\n",
       "2020-02-02 10:28:00      14483    380   304\n",
       "2020-02-02 11:19:00      14489    385   304\n",
       "2020-02-02 11:54:00      14489    397   304\n",
       "2020-02-02 15:01:00      14490    430   304\n",
       "...                        ...    ...   ...\n",
       "2020-03-26 08:03:00      81988  74200  3293\n",
       "2020-03-26 09:04:00      81988  74200  3293\n",
       "2020-03-26 10:05:00      82034  74204  3293\n",
       "2020-03-26 10:59:00      82034  74204  3293\n",
       "2020-03-26 11:55:00      82034  74204  3293\n",
       "\n",
       "[809 rows x 3 columns]"
      ]
     },
     "execution_count": 14,
     "metadata": {},
     "output_type": "execute_result"
    }
   ],
   "source": [
    "df"
   ]
  },
  {
   "cell_type": "code",
   "execution_count": 15,
   "metadata": {
    "scrolled": true
   },
   "outputs": [
    {
     "data": {
      "image/png": "[encoded data removed]",
      "text/plain": [
       "<Figure size 1008x1008 with 3 Axes>"
      ]
     },
     "metadata": {},
     "output_type": "display_data"
    }
   ],
   "source": [
    "if df.shape[0]>1:\n",
    "    # line chart when having at least a few points\n",
    "    sns.set(rc={'figure.figsize':(14,14)})\n",
    "    sns.set(style=\"whitegrid\")\n",
    "\n",
    "    fig, axs = plt.subplots(nrows=3)\n",
    "\n",
    "    sns.lineplot(x=df.index, y = 'confirmed', data=df, ax= axs[0], estimator=None, color='orange')\n",
    "    sns.lineplot(x=df.index, y = 'cured', data=df, ax= axs[1], estimator=None, color='green')\n",
    "    sns.lineplot(x=df.index, y = 'dead', data=df, ax= axs[2], estimator=None, color='darkred')\n",
    "\n",
    "    for ax in axs:\n",
    "        ax.set_xlabel('')\n",
    "        ax.tick_params(axis='x', labelrotation=30)\n",
    "else:\n",
    "\n",
    "    ax = df.plot(kind='bar', stacked=True, figsize=(9,6))\n",
    "    fig = ax.get_figure()\n",
    "    ax.set_xlabel('')\n",
    "    for label in ax.get_xticklabels():\n",
    "        label.set_rotation(0) \n"
   ]
  },
  {
   "cell_type": "code",
   "execution_count": 16,
   "metadata": {},
   "outputs": [],
   "source": [
    "fig.savefig(png_file)"
   ]
  },
  {
   "cell_type": "code",
   "execution_count": null,
   "metadata": {},
   "outputs": [],
   "source": []
  },
  {
   "cell_type": "code",
   "execution_count": null,
   "metadata": {},
   "outputs": [],
   "source": []
  }
 ],
 "metadata": {
  "kernelspec": {
   "display_name": "Python 3",
   "language": "python",
   "name": "python3"
  },
  "language_info": {
   "codemirror_mode": {
    "name": "ipython",
    "version": 3
   },
   "file_extension": ".py",
   "mimetype": "text/x-python",
   "name": "python",
   "nbconvert_exporter": "python",
   "pygments_lexer": "ipython3",
   "version": "3.7.6"
  }
 },
 "nbformat": 4,
 "nbformat_minor": 2
}
