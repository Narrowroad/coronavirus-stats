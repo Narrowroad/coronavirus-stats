{
 "cells": [
  {
   "cell_type": "code",
   "execution_count": 1,
   "metadata": {},
   "outputs": [],
   "source": [
    "import pandas as pd\n",
    "import requests\n",
    "from bs4 import BeautifulSoup\n",
    "import re\n",
    "from datetime import datetime\n",
    "from selenium import webdriver\n",
    "from selenium.webdriver.chrome.options import Options  \n"
   ]
  },
  {
   "cell_type": "code",
   "execution_count": 2,
   "metadata": {},
   "outputs": [
    {
     "data": {
      "text/plain": [
       "datetime.datetime(2020, 4, 6, 11, 8, 20, 501372)"
      ]
     },
     "execution_count": 2,
     "metadata": {},
     "output_type": "execute_result"
    }
   ],
   "source": [
    "datetime.now()"
   ]
  },
  {
   "cell_type": "code",
   "execution_count": 3,
   "metadata": {},
   "outputs": [],
   "source": [
    "chrome_options = Options()  \n",
    "chrome_options.add_argument(\"--headless\")  \n",
    "chrome_options.add_argument(\"--no-sandbox\")\n",
    "\n",
    "driver = webdriver.Chrome('chromedriver', options=chrome_options)"
   ]
  },
  {
   "cell_type": "code",
   "execution_count": 4,
   "metadata": {},
   "outputs": [],
   "source": [
    "url = 'https://ncov.dxy.cn/ncovh5/view/pneumonia'\n",
    "driver.get(url)"
   ]
  },
  {
   "cell_type": "markdown",
   "metadata": {},
   "source": [
    "### Extract date"
   ]
  },
  {
   "cell_type": "code",
   "execution_count": 5,
   "metadata": {},
   "outputs": [],
   "source": [
    "content = driver.page_source\n",
    "soup =BeautifulSoup(content, 'lxml')\n"
   ]
  },
  {
   "cell_type": "code",
   "execution_count": 6,
   "metadata": {},
   "outputs": [
    {
     "data": {
      "text/plain": [
       "['try { window.getTimelineService1 = [{\"id\":26094,\"pubDate\":1586169916000,\"pubDateStr\":\"7分钟前\",\"title\":\"黎巴嫩新冠肺炎确诊总人数上升至541人\",\"summary\":\"黎巴嫩卫生部官网公布，截至6日中午，新冠肺炎确诊总人数为541人，较昨日增加14人。卫生部公布，过去24小时内有1名患者被治愈，治愈总人数已达55人，死亡病例增加1例，总数为19例，确诊患者中危重病例27例，疑似病例目前为534人，另外有1111人处于隔离状态。\",\"infoSource\":\"央视新闻app\",\"sourceUrl\":\"http://app.cctv.com/special/cportal/detail/arti/index.html?id=Arti3Jd2f3GJHt2rDywWudD3200406&isfromapp=1\",\"provinceId\":\"\"},{\"id\":26089,\"pubDate\":1586169341000,\"pubDateStr\":\"16分钟前\",\"title\":\"王辰院士提醒不要以为抗疫已经胜利\",\"summary\":\"中国工程院院士、中国医学科学院院长王辰：我国目前疫情防控效果明显，但对新冠病毒的认识还远远不够，对其传播规律也缺乏想象力，所以还不是歇口气的时候，还要对疫情是否反复保持足够警惕。\",\"infoSource\":\"人民日报\",\"sourceUrl\":\"http://m.weibo.cn/2803301701/4490782067263971\",\"provinceId\":\"\"},{\"id\":26076,\"pubDate\":1586168964000,\"pubDateStr\":\"23分钟前\",\"title\":\"引导线上踏青文明祭扫 清明节期间北京各大博物馆推出22项主题活动\",\"summary\":\"清明节期间，北京地区博物馆坚持闭馆不闭展，在紧抓疫情防控工作的同时，利用已有资源运用新媒体传播技术，以“忆满京城 情思华夏”为主题开展线上传统节日文化活动。据不完全统计，共推出清明节线上主题文化活动22项，开展线上教育与公益活动46次。\",\"infoSource\":\"央视新闻app\",\"sourceUrl\":\"http://app.cctv.com/special/cportal/detail/arti/index.html?id=ArtiZKdfDIBJMq7oLD4kDYBU200406&isfromapp=1\",\"provinceId\":\"\"},{\"id\":26077,\"pubDate\":1586168948000,\"pubDateStr\":\"23分钟前\",\"title\":\"驻日美军宣布关东地区美军基地进入公共卫生紧急状态\",\"summary\":\"鉴于日本东京地区新冠肺炎疫情扩大，驻日美军司令部6日宣布，关东地区的美军基地和设施进入公共卫生紧急状态，时间持续至5月5日。\",\"infoSource\":\"央视新闻app\",\"sourceUrl\":\"http://app.cctv.com/special/cportal/detail/arti/index.html?id=ArtiMpnG3f2M2CsDBnu944EJ200406&isfromapp=1\",\"provinceId\":\"\"},{\"id\":26079,\"pubDate\":1586168647000,\"pubDateStr\":\"28分钟前\",\"title\":\"云南19个陆路口岸 14个通道暂停客运功能 仅保留货运通行功能\",\"summary\":\"为有效应对疫情跨境输入风险，云南已对19个陆路口岸、14个通道暂停客运功能，仅保留货运通行功能，其余通道暂时关闭。\",\"infoSource\":\"央视新闻app\",\"sourceUrl\":\"http://app.cctv.com/special/cportal/detail/arti/index.html?id=Arti7qQeu8vgzH97evFvXtrx200406&isfromapp=1\",\"provinceId\":\"\"},{\"id\":26069,\"pubDate\":1586168520000,\"pubDateStr\":\"30分钟前\",\"title\":\"上海援鄂医疗队471人今日平安返沪\",\"summary\":\"4月6日下午，上海援鄂医疗队471人平安返回上海。医疗队员分成两批，从武汉搭乘当日下午两架东航包机航班返沪。\",\"infoSource\":\"央视新闻app\",\"sourceUrl\":\"http://app.cctv.com/special/cportal/detail/arti/index.html?id=ArtiPRycQtJtlYxYkMGm1e9I200406&isfromapp=1\",\"provinceId\":\"\"},{\"id\":26070,\"pubDate\":1586168460000,\"pubDateStr\":\"31分钟前\",\"title\":\"世卫组织：全球新冠肺炎累计超过117万例\",\"summary\":\"世卫组织实时统计数据显示，截至欧洲中部时间4月6日2时（北京时间4月6日8时），全球确诊新冠肺炎1174866例，死亡64541例，目前欧洲区域已有621407例，中国以外超过109万例。\",\"infoSource\":\"央视新闻app\",\"sourceUrl\":\"http://app.cctv.com/special/cportal/detail/arti/index.html?id=ArtidXsLJhQMOOATETJBi1np200406&isfromapp=1\",\"provinceId\":\"\"},{\"id\":26072,\"pubDate\":1586168369000,\"pubDateStr\":\"33分钟前\",\"title\":\"菲律宾总统捐工资 助力本国疫情防控\",\"summary\":\"\\\\n4月6日，菲律宾总统府发言人帕内洛称，总统杜特尔特将捐出一个月工资给政府紧急资金，以助力该国的新冠肺炎疫情防控工作。帕内洛表示，政府的大部分内阁成员，将会捐出从4月到12月全部工资的75%以协助菲律宾疫情防控。\",\"infoSource\":\"央视新闻app\",\"sourceUrl\":\"http://app.cctv.com/special/cportal/detail/arti/index.html?id=Arti9gyFIJs81bwyRew2HlFv200406&isfromapp=1\",\"provinceId\":\"\"},{\"id\":26064,\"pubDate\":1586168043000,\"pubDateStr\":\"38分钟前\",\"title\":\"日本国内新冠肺炎感染者人数超4000\",\"summary\":\"据日本放送协会消息，根据日本各地的地方自治团体和厚生劳动省通报的数据，截至当地时间6日晚上七点，当天新增感染者143人，累计新冠肺炎确诊病例达到4000人。\",\"infoSource\":\"央视新闻app\",\"sourceUrl\":\"http://app.cctv.com/special/cportal/detail/arti/index.html?id=ArtigMLdj0zVfkyp8psJg8wu200406&isfromapp=1\",\"provinceId\":\"\"},{\"id\":26055,\"pubDate\":1586167652000,\"pubDateStr\":\"45分钟前\",\"title\":\"英国百货连锁公司Debenhams濒临破产\",\"summary\":\"据英国天空电视台Skynews报道，受新冠肺炎疫情影响，英国著名百货连锁公司德本汉姆（Debenhams）已接受行政托管，正面临破产。该百货集团有242年历史，在英国有142家连锁店，公司破产将影响约22000名员工。\",\"infoSource\":\"央视新闻app\",\"sourceUrl\":\"http://app.cctv.com/special/cportal/detail/arti/index.html?id=ArtiIXxUpIRHIuHmKLWKQ9un200406&isfromapp=1\",\"provinceId\":\"\"},{\"id\":26058,\"pubDate\":1586167222000,\"pubDateStr\":\"52分钟前\",\"title\":\"伊朗累计确诊新冠肺炎病例超6万\",\"summary\":\"据伊朗国际电视台报道，伊朗卫生部4月6日通报，过去24小时，该国新增2274例新冠肺炎确诊病例，累计确诊60500例；新增死亡病例136例，累计死亡3739例。 \\\\n\",\"infoSource\":\"人民日报海外版\",\"sourceUrl\":\"http://m.weibo.cn/3057540037/4490773175455018\",\"provinceId\":\"\"},{\"id\":26046,\"pubDate\":1586167049000,\"pubDateStr\":\"55分钟前\",\"title\":\"\\u200b伊朗新增新冠肺炎确诊病例2274例 累计确诊60500例\",\"summary\":\"根据伊朗卫生部最新消息，当地时间6号，伊朗新增新冠肺炎确诊病例2274例，新增死亡136例。截至当天中午，伊朗累计确诊新冠肺炎病例60500例，其中24236例康复，3739例死亡。\",\"infoSource\":\"央视新闻app\",\"sourceUrl\":\"http://app.cctv.com/special/cportal/detail/arti/index.html?id=Arti8hOJkn1n7hwctwZvWHVN200406&isfromapp=1\",\"provinceId\":\"\"},{\"id\":26048,\"pubDate\":1586166838000,\"pubDateStr\":\"58分钟前\",\"title\":\"马来西亚新增131例新冠肺炎确诊病例 累计确诊3793例\",\"summary\":\"当地时间6日，马来西亚宣布新增131例新冠肺炎确诊病例，累计确诊3793例。新增死亡病例1例，累计死亡62例。\\xa0马来西亚卫生总监努尔·希萨姆·阿卜杜拉介绍说，今日共有236人治愈出院，成为单日最高治愈出院纪录。累计治愈1241例。\",\"infoSource\":\"央视新闻app\",\"sourceUrl\":\"http://app.cctv.com/special/cportal/detail/arti/index.html?id=ArtiGGKtK4IughYOmRyRYTBj200406&isfromapp=1\",\"provinceId\":\"\"},{\"id\":26034,\"pubDate\":1586166296000,\"pubDateStr\":\"1小时前\",\"title\":\"印度70万个快速检验试剂盒将投入使用\",\"summary\":\"来自印度亚洲新闻社的消息，印度卫生部所属的医学研究理事会将在4月8日前得到约70万个血液抗体快速检测试剂盒。\",\"infoSource\":\"央视新闻app\",\"sourceUrl\":\"http://app.cctv.com/special/cportal/detail/arti/index.html?id=ArtiiSqUtGp6hOYchsnJmJZz200406&isfromapp=1\",\"provinceId\":\"\"},{\"id\":26027,\"pubDate\":1586165762000,\"pubDateStr\":\"1小时前\",\"title\":\"\\u200b安倍表示将于7日发布紧急事态宣言\",\"summary\":\"\\\\n日本首相安倍晋三于6日傍晚宣布，将于7日发布紧急事态宣言。对象地区为东京、千叶、埼玉、神奈川、大阪、兵库和福冈等七个都府县，时间为期一个月。\",\"infoSource\":\"央视新闻app\",\"sourceUrl\":\"http://app.cctv.com/special/cportal/detail/arti/index.html?id=ArtiDzUk5pZOSXPnTBZ9pFqf200406&isfromapp=1\",\"provinceId\":\"\"},{\"id\":26026,\"pubDate\":1586165722000,\"pubDateStr\":\"1小时前\",\"title\":\"西班牙新增4273例新冠肺炎确诊病例\",\"summary\":\"据西班牙卫生部官网通报，过去24小时，该国新增4273例新冠肺炎确诊病例，累计确诊135032例；新增死亡637例，累计死亡13055例。\\\\n\",\"infoSource\":\"人民日报海外版\",\"sourceUrl\":\"http://m.weibo.cn/3057540037/4490766883899364\",\"provinceId\":\"\"},{\"id\":26028,\"pubDate\":1586165603000,\"pubDateStr\":\"1小时前\",\"title\":\"援鄂医疗队专家：无症状感染者数量少且“有迹可循” 无需恐慌\",\"summary\":\"今天（6日）上午，北京协和医院援卾抗疫医疗队第一批队长刘正印接受记者采访时表示，目前看，无症状感染者是很少的一部分，而且都是有迹可循的，不必过度紧张。对于公众来说，还是要加强自身防护，勤洗手、戴口罩。\",\"infoSource\":\"央视新闻app\",\"sourceUrl\":\"http://app.cctv.com/special/cportal/detail/arti/index.html?id=Arti7fOSNTL40M4J5RmEWJra200406&isfromapp=1\",\"provinceId\":\"\"},{\"id\":26017,\"pubDate\":1586165137000,\"pubDateStr\":\"1小时前\",\"title\":\"\\u200b科威特新增109例新冠肺炎确诊病例 累计665例\",\"summary\":\"当地时间6日，科威特累计确诊病例665例，累计治愈出院103例，死亡1例。\",\"infoSource\":\"央视新闻app\",\"sourceUrl\":\"http://app.cctv.com/special/cportal/detail/arti/index.html?id=ArtitPYjHEKYciC0MCm0IMKN200406&isfromapp=1\",\"provinceId\":\"\"},{\"id\":25998,\"pubDate\":1586164366000,\"pubDateStr\":\"1小时前\",\"title\":\"印尼新增新冠肺炎确诊病例218例 累计2491例\",\"summary\":\"4月6日，印尼卫生部宣布新增218例新冠肺炎确诊病例，全国累计确诊病例2491人，含209例死亡病例。\",\"infoSource\":\"央视新闻app\",\"sourceUrl\":\"http://app.cctv.com/special/cportal/detail/arti/index.html?id=Artiu9fZDQmLFytn4LBisfQJ200406&isfromapp=1\",\"provinceId\":\"\"},{\"id\":25996,\"pubDate\":1586163979000,\"pubDateStr\":\"1小时前\",\"title\":\"全球感染人数超125万例\",\"summary\":\"截至北京时间4月6日12时，#全球已有208个国家和地区出现确诊病例#，累计确诊1250292例，钻石公主号邮轮712例，累计死亡69057例。其中，美国累计感染人数已达337620例。\",\"infoSource\":\"人民日报海外版\",\"sourceUrl\":\"http://m.weibo.cn/3057540037/4490759573281690\",\"provinceId\":\"\"},{\"id\":25997,\"pubDate\":1586163900000,\"pubDateStr\":\"1小时前\",\"title\":\"\\u200b孟加拉国新增35例新冠肺炎确诊病例 累计123例\",\"summary\":\"当地时间4月6日，孟加拉国流行病学、疾病控制与研究学院确认新增35例新冠肺炎确诊病例，其中30例男性，5例女性，死亡3例。截至目前，该国共确诊123例新冠肺炎确诊病例，死亡12例。\",\"infoSource\":\"央视新闻app\",\"sourceUrl\":\"http://app.cctv.com/special/cportal/detail/arti/index.html?id=ArticSyZPKtItkR2bIa0H0Lg200406&isfromapp=1\",\"provinceId\":\"\"},{\"id\":25991,\"pubDate\":1586163761000,\"pubDateStr\":\"1小时前\",\"title\":\"菲律宾新增确诊病例414例 累计确诊3660例\",\"summary\":\"菲律宾卫生部发布消息称，截至4月6日下午4时，菲律宾新增新冠肺炎确诊病例414例，累计确诊3660例。新增死亡病例11例，累计死亡163例。新增治愈病例9例，累计治愈73例。\",\"infoSource\":\"央视新闻app\",\"sourceUrl\":\"http://app.cctv.com/special/cportal/detail/arti/index.html?id=Arti06QTmvyl348GoANAbh4n200406&isfromapp=1\",\"provinceId\":\"\"}]}catch(e){}',\n",
       " '截至北京时间 2020-04-06 10:55',\n",
       " '截至北京时间 2020-04-06 10:55',\n",
       " '黎巴嫩卫生部官网公布，截至6日中午，新冠肺炎确诊总人数为541人，较昨日增加14人。卫生部公布，过去24小时内有1名患者被治愈，治愈总人数已达55人，死亡病例增加1例，总数为19例，确诊患者中危重病例27例，疑似病例目前为534人，另外有1111人处于隔离状态。',\n",
       " '世卫组织实时统计数据显示，截至欧洲中部时间4月6日2时（北京时间4月6日8时），全球确诊新冠肺炎1174866例，死亡64541例，目前欧洲区域已有621407例，中国以外超过109万例。',\n",
       " '据日本放送协会消息，根据日本各地的地方自治团体和厚生劳动省通报的数据，截至当地时间6日晚上七点，当天新增感染者143人，累计新冠肺炎确诊病例达到4000人。',\n",
       " '根据伊朗卫生部最新消息，当地时间6号，伊朗新增新冠肺炎确诊病例2274例，新增死亡136例。截至当天中午，伊朗累计确诊新冠肺炎病例60500例，其中24236例康复，3739例死亡。',\n",
       " '截至北京时间4月6日12时，#全球已有208个国家和地区出现确诊病例#，累计确诊1250292例，钻石公主号邮轮712例，累计死亡69057例。其中，美国累计感染人数已达337620例。',\n",
       " '当地时间4月6日，孟加拉国流行病学、疾病控制与研究学院确认新增35例新冠肺炎确诊病例，其中30例男性，5例女性，死亡3例。截至目前，该国共确诊123例新冠肺炎确诊病例，死亡12例。',\n",
       " '菲律宾卫生部发布消息称，截至4月6日下午4时，菲律宾新增新冠肺炎确诊病例414例，累计确诊3660例。新增死亡病例11例，累计死亡163例。新增治愈病例9例，累计治愈73例。']"
      ]
     },
     "execution_count": 6,
     "metadata": {},
     "output_type": "execute_result"
    }
   ],
   "source": [
    "data = soup.findAll(text=re.compile(\"截至.+\"))\n",
    "data"
   ]
  },
  {
   "cell_type": "code",
   "execution_count": 7,
   "metadata": {},
   "outputs": [
    {
     "data": {
      "text/plain": [
       "'2020-04-06 10:55'"
      ]
     },
     "execution_count": 7,
     "metadata": {},
     "output_type": "execute_result"
    }
   ],
   "source": [
    "for s in data:\n",
    "    m = re.search(\"截至.*(202\\d-\\d+-\\d+ \\d+:\\d+)\", s)\n",
    "    if m is not None:\n",
    "        data_date_time = m.group(1)\n",
    "data_date_time"
   ]
  },
  {
   "cell_type": "markdown",
   "metadata": {},
   "source": [
    "### Extract data (summary)"
   ]
  },
  {
   "cell_type": "code",
   "execution_count": 8,
   "metadata": {},
   "outputs": [
    {
     "data": {
      "text/plain": [
       "['try { window.getStatisticsService = {\"id\":1,\"createTime\":1579537899000,\"modifyTime\":1586170512000,\"infectSource\":\"该字段已替换为说明2\",\"passWay\":\"该字段已替换为说明3\",\"imgUrl\":\"https://img1.dxycdn.com/2020/0201/450/3394153392393266839-135.png\",\"dailyPic\":\"https://img1.dxycdn.com/2020/0211/763/3395998884005602079-135.png,https://img1.dxycdn.com/2020/0211/362/3395998896890788910-135.png,https://img1.dxycdn.com/2020/0211/365/3395998905480724211-135.png,https://img1.dxycdn.com/2020/0211/364/3395998916217859778-135.png,https://img1.dxycdn.com/2020/0211/922/3395998929103046444-135.png,https://img1.dxycdn.com/2020/0211/089/3395998939840182072-135.png\",\"dailyPics\":[\"https://img1.dxycdn.com/2020/0211/763/3395998884005602079-135.png\",\"https://img1.dxycdn.com/2020/0211/362/3395998896890788910-135.png\",\"https://img1.dxycdn.com/2020/0211/365/3395998905480724211-135.png\",\"https://img1.dxycdn.com/2020/0211/364/3395998916217859778-135.png\",\"https://img1.dxycdn.com/2020/0211/922/3395998929103046444-135.png\",\"https://img1.dxycdn.com/2020/0211/089/3395998939840182072-135.png\"],\"summary\":\"\",\"deleted\":false,\"countRemark\":\"\",\"currentConfirmedCount\":2332,\"confirmedCount\":83039,\"suspectedCount\":951,\"curedCount\":77367,\"deadCount\":3340,\"seriousCount\":1047,\"suspectedIncr\":38,\"currentConfirmedIncr\":-49,\"confirmedIncr\":109,\"curedIncr\":157,\"deadIncr\":1,\"seriousIncr\":78,\"virus\":\"该字段已替换为说明1\",\"remark1\":\"易感人群：人群普遍易感。老年人及有基础疾病者感染后病情较重，儿童及婴幼儿也有发病\",\"remark2\":\"潜伏期：一般为 3～7 天，最长不超过 14 天，潜伏期内可能存在传染性，其中无症状病例传染性非常罕见\",\"remark3\":\"宿主：野生动物，可能为中华菊头蝠\",\"remark4\":\"\",\"remark5\":\"\",\"note1\":\"病毒：SARS-CoV-2，其导致疾病命名 COVID-19\",\"note2\":\"传染源：新冠肺炎的患者。无症状感染者也可能成为传染源。\",\"note3\":\"传播途径：经呼吸道飞沫、接触传播是主要的传播途径。气溶胶传播和消化道等传播途径尚待明确。\",\"generalRemark\":\"1. 3 月 12 日国家卫健委确诊补订遗漏 12 例确诊病例（非 12 日新增），暂无具体省份信息。 2. 浙江省 12 例外省治愈暂无具体省份信息。\",\"abroadRemark\":\"\",\"marquee\":[{\"id\":1923,\"marqueeLabel\":\"观察\",\"marqueeContent\":\"美国抗击新冠疫情中的 5 个教训\",\"marqueeLink\":\"https://dxy.me/VyCNTO\"},{\"id\":1924,\"marqueeLabel\":\"突发\",\"marqueeContent\":\"英国首相鲍里斯持续发热开始住院\",\"marqueeLink\":\"https://dxy.me/ygEfC0\"},{\"id\":1925,\"marqueeLabel\":\"数字新冠\",\"marqueeContent\":\"4 月 5 日，世界因新冠而变\",\"marqueeLink\":\"https://dxy.me/RdBVPg\"}],\"quanguoTrendChart\":[{\"imgUrl\":\"https://img1.dxycdn.com/2020/0324/278/3403801351376518263-135.png\",\"title\":\"新增疑似/新增确诊\"},{\"imgUrl\":\"https://img1.dxycdn.com/2020/0324/812/3403847865872006755-135.png\",\"title\":\"境外输入\"},{\"imgUrl\":\"https://img1.dxycdn.com/2020/0324/547/3403847848692336947-135.png\",\"title\":\"现存确诊\"},{\"imgUrl\":\"https://img1.dxycdn.com/2020/0324/775/3403801407211095604-135.png\",\"title\":\"治愈\"},{\"imgUrl\":\"https://img1.dxycdn.com/2020/0324/250/3403801424390727199-135.png\",\"title\":\"死亡\"}],\"hbFeiHbTrendChart\":[{\"imgUrl\":\"https://img1.dxycdn.com/2020/0326/624/3404177508906904585-135.png\",\"title\":\"非湖北新增确诊\"},{\"imgUrl\":\"https://img1.dxycdn.com/2020/0326/777/3404177532529485065-135.png\",\"title\":\"湖北新增确诊\"},{\"imgUrl\":\"https://img1.dxycdn.com/2020/0326/376/3404177556151805921-135.png\",\"title\":\"湖北现存确诊\"},{\"imgUrl\":\"https://img1.dxycdn.com/2020/0326/527/3404177575478899995-135.png\",\"title\":\"非湖北现存确诊\"},{\"imgUrl\":\"https://img1.dxycdn.com/2020/0326/419/3404177596953996726-135.png\",\"title\":\"治愈/死亡\"}],\"foreignTrendChart\":[{\"imgUrl\":\"https://img1.dxycdn.com/2020/0320/702/3403079914982117944-135.png\",\"title\":\"国外新增确诊\"},{\"imgUrl\":\"https://img1.dxycdn.com/2020/0320/396/3403079925719536561-135.png\",\"title\":\"国外累计确诊\"},{\"imgUrl\":\"https://img1.dxycdn.com/2020/0320/139/3403079936457225524-135.png\",\"title\":\"国外死亡\"}],\"importantForeignTrendChart\":[{\"imgUrl\":\"https://img1.dxycdn.com/2020/0320/450/3403077453965772423-135.png\",\"title\":\"重点国家新增确诊\"},{\"imgUrl\":\"https://img1.dxycdn.com/2020/0320/276/3403077462555980566-135.png\",\"title\":\"日本新增确诊\"},{\"imgUrl\":\"https://img1.dxycdn.com/2020/0320/340/3403077473293125942-135.png\",\"title\":\"意大利新增确诊\"},{\"imgUrl\":\"https://img1.dxycdn.com/2020/0320/723/3403077481883334043-135.png\",\"title\":\"伊朗新增确诊\"},{\"imgUrl\":\"https://img1.dxycdn.com/2020/0320/266/3403077492620752785-135.png\",\"title\":\"美国新增确诊\"},{\"imgUrl\":\"https://img1.dxycdn.com/2020/0320/870/3403077503358171278-135.png\",\"title\":\"法国新增确诊\"},{\"imgUrl\":\"https://img1.dxycdn.com/2020/0320/053/3403077511947832997-135.png\",\"title\":\"德国新增确诊\"},{\"imgUrl\":\"https://img1.dxycdn.com/2020/0320/878/3403077520537768006-135.png\",\"title\":\"西班牙新增确诊\"},{\"imgUrl\":\"https://img1.dxycdn.com/2020/0320/443/3403077531275186665-135.png\",\"title\":\"韩国新增确诊\"}],\"foreignTrendChartGlobal\":[{\"imgUrl\":\"https://img1.dxycdn.com/2020/0319/740/3402859458605738923-135.png\",\"title\":\"Daily New Cases\"},{\"imgUrl\":\"https://img1.dxycdn.com/2020/0319/351/3402856772103846114-135.png\",\"title\":\"Total Confirmed Cases\"},{\"imgUrl\":\"https://img1.dxycdn.com/2020/0319/236/3402856782841001789-135.png\",\"title\":\"Total Deaths Cases\"}],\"importantForeignTrendChartGlobal\":[{\"imgUrl\":\"https://img1.dxycdn.com/2020/0319/122/3402856838675578578-135.png\",\"title\":\"Daily New Cases\"},{\"imgUrl\":\"https://img1.dxycdn.com/2020/0319/685/3402856849412997239-135.png\",\"title\":\"Japan\"},{\"imgUrl\":\"https://img1.dxycdn.com/2020/0319/477/3402856860150678804-135.png\",\"title\":\"Italy\"},{\"imgUrl\":\"https://img1.dxycdn.com/2020/0319/454/3402856873035581014-135.png\",\"title\":\"Iran\"},{\"imgUrl\":\"https://img1.dxycdn.com/2020/0319/022/3402856883772999714-135.png\",\"title\":\"U.S.A.\"},{\"imgUrl\":\"https://img1.dxycdn.com/2020/0319/529/3402856894510155506-135.png\",\"title\":\"France\"},{\"imgUrl\":\"https://img1.dxycdn.com/2020/0319/211/3402856905247574064-135.png\",\"title\":\"Germany\"},{\"imgUrl\":\"https://img1.dxycdn.com/2020/0319/054/3402856913837508985-135.png\",\"title\":\"Spain\"},{\"imgUrl\":\"https://img1.dxycdn.com/2020/0319/088/3402856928870157852-135.png\",\"title\":\"Republic of Korea\"}],\"foreignStatistics\":{\"currentConfirmedCount\":939952,\"confirmedCount\":1172762,\"suspectedCount\":4,\"curedCount\":165313,\"deadCount\":67497,\"suspectedIncr\":0,\"currentConfirmedIncr\":11202,\"confirmedIncr\":17671,\"curedIncr\":4222,\"deadIncr\":2247},\"globalStatistics\":{\"currentConfirmedCount\":942284,\"confirmedCount\":1255801,\"curedCount\":242680,\"deadCount\":70837,\"currentConfirmedIncr\":11153,\"confirmedIncr\":17780,\"curedIncr\":4379,\"deadIncr\":2248},\"globalOtherTrendChartData\":\"https://file1.dxycdn.com/2020/0406/343/3406206350525868957-135.json\"}}catch(e){}']"
      ]
     },
     "execution_count": 8,
     "metadata": {},
     "output_type": "execute_result"
    }
   ],
   "source": [
    "data = soup.findAll(text=re.compile('\\\"summary.+\\\"confirmedCount\\\":\\d'))\n",
    "\n",
    "data\n"
   ]
  },
  {
   "cell_type": "code",
   "execution_count": 9,
   "metadata": {},
   "outputs": [],
   "source": [
    "m = re.search('\\\"confirmedCount\\\":(\\d+)', data[0])\n",
    "summary_confirmed_count = int(m.group(1))\n",
    "\n",
    "\n",
    "m = re.search('\\\"curedCount\\\":(\\d+)', data[0])\n",
    "summary_cured_count = int(m.group(1))\n",
    "\n",
    "m = re.search('\\\"deadCount\\\":(\\d+)', data[0])\n",
    "summary_dead_count = int(m.group(1))\n"
   ]
  },
  {
   "cell_type": "code",
   "execution_count": 10,
   "metadata": {},
   "outputs": [
    {
     "data": {
      "text/html": [
       "<div>\n",
       "<style scoped>\n",
       "    .dataframe tbody tr th:only-of-type {\n",
       "        vertical-align: middle;\n",
       "    }\n",
       "\n",
       "    .dataframe tbody tr th {\n",
       "        vertical-align: top;\n",
       "    }\n",
       "\n",
       "    .dataframe thead th {\n",
       "        text-align: right;\n",
       "    }\n",
       "</style>\n",
       "<table border=\"1\" class=\"dataframe\">\n",
       "  <thead>\n",
       "    <tr style=\"text-align: right;\">\n",
       "      <th></th>\n",
       "      <th>datetime</th>\n",
       "      <th>confirmed</th>\n",
       "      <th>cured</th>\n",
       "      <th>dead</th>\n",
       "    </tr>\n",
       "  </thead>\n",
       "  <tbody>\n",
       "    <tr>\n",
       "      <th>0</th>\n",
       "      <td>2020-04-06 10:55</td>\n",
       "      <td>83039</td>\n",
       "      <td>77367</td>\n",
       "      <td>3340</td>\n",
       "    </tr>\n",
       "  </tbody>\n",
       "</table>\n",
       "</div>"
      ],
      "text/plain": [
       "           datetime  confirmed  cured  dead\n",
       "0  2020-04-06 10:55      83039  77367  3340"
      ]
     },
     "execution_count": 10,
     "metadata": {},
     "output_type": "execute_result"
    }
   ],
   "source": [
    "# make a dataframe\n",
    "df = pd.DataFrame({\n",
    "    'datetime': data_date_time,\n",
    "    'confirmed': summary_confirmed_count,\n",
    "    'cured': summary_cured_count,\n",
    "    'dead': summary_dead_count\n",
    "}, index=[0])\n",
    "df"
   ]
  },
  {
   "cell_type": "markdown",
   "metadata": {},
   "source": [
    "### Save to file"
   ]
  },
  {
   "cell_type": "code",
   "execution_count": 11,
   "metadata": {},
   "outputs": [],
   "source": [
    "from pathlib import Path\n",
    "csv_file = '../data/china-summary-cases.csv'\n",
    "\n",
    "if Path(csv_file).exists():\n",
    "    # read out the old data - then merge with new data and remove duplicates based on datetime\n",
    "    old_df = pd.read_csv(csv_file)\n",
    "    df = df.append(old_df)\n",
    "df.drop_duplicates(subset=['datetime'], inplace=True)"
   ]
  },
  {
   "cell_type": "code",
   "execution_count": 12,
   "metadata": {},
   "outputs": [],
   "source": [
    "df.sort_values(by=['datetime'], inplace=True)\n",
    "\n",
    "df.to_csv(csv_file, index=False)\n"
   ]
  },
  {
   "cell_type": "markdown",
   "metadata": {},
   "source": [
    "### Plot graph"
   ]
  },
  {
   "cell_type": "code",
   "execution_count": 13,
   "metadata": {},
   "outputs": [],
   "source": [
    "import seaborn as sns\n",
    "import matplotlib.pyplot as plt\n",
    "from pandas.plotting import register_matplotlib_converters\n",
    "register_matplotlib_converters()\n",
    "\n",
    "png_file = '../images/china-summary-cases.png'\n",
    "# convert to pd.datetime\n",
    "df['datetime_idx'] = pd.to_datetime(df['datetime'], format=\"%Y-%m-%d %H:%M\")\n",
    "\n",
    "df.set_index('datetime_idx', inplace=True)\n",
    "df.drop(['datetime'], axis=1, inplace=True)\n"
   ]
  },
  {
   "cell_type": "code",
   "execution_count": 14,
   "metadata": {},
   "outputs": [
    {
     "data": {
      "text/html": [
       "<div>\n",
       "<style scoped>\n",
       "    .dataframe tbody tr th:only-of-type {\n",
       "        vertical-align: middle;\n",
       "    }\n",
       "\n",
       "    .dataframe tbody tr th {\n",
       "        vertical-align: top;\n",
       "    }\n",
       "\n",
       "    .dataframe thead th {\n",
       "        text-align: right;\n",
       "    }\n",
       "</style>\n",
       "<table border=\"1\" class=\"dataframe\">\n",
       "  <thead>\n",
       "    <tr style=\"text-align: right;\">\n",
       "      <th></th>\n",
       "      <th>confirmed</th>\n",
       "      <th>cured</th>\n",
       "      <th>dead</th>\n",
       "    </tr>\n",
       "    <tr>\n",
       "      <th>datetime_idx</th>\n",
       "      <th></th>\n",
       "      <th></th>\n",
       "      <th></th>\n",
       "    </tr>\n",
       "  </thead>\n",
       "  <tbody>\n",
       "    <tr>\n",
       "      <th>2020-02-02 10:22:00</th>\n",
       "      <td>14483</td>\n",
       "      <td>379</td>\n",
       "      <td>304</td>\n",
       "    </tr>\n",
       "    <tr>\n",
       "      <th>2020-02-02 10:28:00</th>\n",
       "      <td>14483</td>\n",
       "      <td>380</td>\n",
       "      <td>304</td>\n",
       "    </tr>\n",
       "    <tr>\n",
       "      <th>2020-02-02 11:19:00</th>\n",
       "      <td>14489</td>\n",
       "      <td>385</td>\n",
       "      <td>304</td>\n",
       "    </tr>\n",
       "    <tr>\n",
       "      <th>2020-02-02 11:54:00</th>\n",
       "      <td>14489</td>\n",
       "      <td>397</td>\n",
       "      <td>304</td>\n",
       "    </tr>\n",
       "    <tr>\n",
       "      <th>2020-02-02 15:01:00</th>\n",
       "      <td>14490</td>\n",
       "      <td>430</td>\n",
       "      <td>304</td>\n",
       "    </tr>\n",
       "    <tr>\n",
       "      <th>...</th>\n",
       "      <td>...</td>\n",
       "      <td>...</td>\n",
       "      <td>...</td>\n",
       "    </tr>\n",
       "    <tr>\n",
       "      <th>2020-04-06 06:59:00</th>\n",
       "      <td>83015</td>\n",
       "      <td>77357</td>\n",
       "      <td>3340</td>\n",
       "    </tr>\n",
       "    <tr>\n",
       "      <th>2020-04-06 07:49:00</th>\n",
       "      <td>83015</td>\n",
       "      <td>77357</td>\n",
       "      <td>3340</td>\n",
       "    </tr>\n",
       "    <tr>\n",
       "      <th>2020-04-06 09:04:00</th>\n",
       "      <td>83015</td>\n",
       "      <td>77357</td>\n",
       "      <td>3340</td>\n",
       "    </tr>\n",
       "    <tr>\n",
       "      <th>2020-04-06 09:58:00</th>\n",
       "      <td>83039</td>\n",
       "      <td>77367</td>\n",
       "      <td>3340</td>\n",
       "    </tr>\n",
       "    <tr>\n",
       "      <th>2020-04-06 10:55:00</th>\n",
       "      <td>83039</td>\n",
       "      <td>77367</td>\n",
       "      <td>3340</td>\n",
       "    </tr>\n",
       "  </tbody>\n",
       "</table>\n",
       "<p>990 rows × 3 columns</p>\n",
       "</div>"
      ],
      "text/plain": [
       "                     confirmed  cured  dead\n",
       "datetime_idx                               \n",
       "2020-02-02 10:22:00      14483    379   304\n",
       "2020-02-02 10:28:00      14483    380   304\n",
       "2020-02-02 11:19:00      14489    385   304\n",
       "2020-02-02 11:54:00      14489    397   304\n",
       "2020-02-02 15:01:00      14490    430   304\n",
       "...                        ...    ...   ...\n",
       "2020-04-06 06:59:00      83015  77357  3340\n",
       "2020-04-06 07:49:00      83015  77357  3340\n",
       "2020-04-06 09:04:00      83015  77357  3340\n",
       "2020-04-06 09:58:00      83039  77367  3340\n",
       "2020-04-06 10:55:00      83039  77367  3340\n",
       "\n",
       "[990 rows x 3 columns]"
      ]
     },
     "execution_count": 14,
     "metadata": {},
     "output_type": "execute_result"
    }
   ],
   "source": [
    "df"
   ]
  },
  {
   "cell_type": "code",
   "execution_count": 15,
   "metadata": {
    "scrolled": true
   },
   "outputs": [
    {
     "data": {
      "image/png": "[encoded data removed]",
      "text/plain": [
       "<Figure size 1008x1008 with 3 Axes>"
      ]
     },
     "metadata": {},
     "output_type": "display_data"
    }
   ],
   "source": [
    "if df.shape[0]>1:\n",
    "    # line chart when having at least a few points\n",
    "    sns.set(rc={'figure.figsize':(14,14)})\n",
    "    sns.set(style=\"whitegrid\")\n",
    "\n",
    "    fig, axs = plt.subplots(nrows=3)\n",
    "\n",
    "    sns.lineplot(x=df.index, y = 'confirmed', data=df, ax= axs[0], estimator=None, color='orange')\n",
    "    sns.lineplot(x=df.index, y = 'cured', data=df, ax= axs[1], estimator=None, color='green')\n",
    "    sns.lineplot(x=df.index, y = 'dead', data=df, ax= axs[2], estimator=None, color='darkred')\n",
    "\n",
    "    for ax in axs:\n",
    "        ax.set_xlabel('')\n",
    "        ax.tick_params(axis='x', labelrotation=30)\n",
    "else:\n",
    "\n",
    "    ax = df.plot(kind='bar', stacked=True, figsize=(9,6))\n",
    "    fig = ax.get_figure()\n",
    "    ax.set_xlabel('')\n",
    "    for label in ax.get_xticklabels():\n",
    "        label.set_rotation(0) \n"
   ]
  },
  {
   "cell_type": "code",
   "execution_count": 16,
   "metadata": {},
   "outputs": [],
   "source": [
    "fig.savefig(png_file)"
   ]
  },
  {
   "cell_type": "code",
   "execution_count": null,
   "metadata": {},
   "outputs": [],
   "source": []
  },
  {
   "cell_type": "code",
   "execution_count": null,
   "metadata": {},
   "outputs": [],
   "source": []
  }
 ],
 "metadata": {
  "kernelspec": {
   "display_name": "Python 3",
   "language": "python",
   "name": "python3"
  },
  "language_info": {
   "codemirror_mode": {
    "name": "ipython",
    "version": 3
   },
   "file_extension": ".py",
   "mimetype": "text/x-python",
   "name": "python",
   "nbconvert_exporter": "python",
   "pygments_lexer": "ipython3",
   "version": "3.7.6"
  }
 },
 "nbformat": 4,
 "nbformat_minor": 2
}
