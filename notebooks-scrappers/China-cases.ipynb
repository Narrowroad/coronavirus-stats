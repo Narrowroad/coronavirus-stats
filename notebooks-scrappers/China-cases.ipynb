{
 "cells": [
  {
   "cell_type": "code",
   "execution_count": 1,
   "metadata": {},
   "outputs": [],
   "source": [
    "import pandas as pd\n",
    "import requests\n",
    "from bs4 import BeautifulSoup\n",
    "import re\n",
    "from datetime import datetime\n",
    "from selenium import webdriver\n",
    "from selenium.webdriver.chrome.options import Options  \n"
   ]
  },
  {
   "cell_type": "code",
   "execution_count": 2,
   "metadata": {},
   "outputs": [
    {
     "data": {
      "text/plain": [
       "datetime.datetime(2020, 3, 31, 12, 8, 57, 622956)"
      ]
     },
     "execution_count": 2,
     "metadata": {},
     "output_type": "execute_result"
    }
   ],
   "source": [
    "datetime.now()"
   ]
  },
  {
   "cell_type": "code",
   "execution_count": 3,
   "metadata": {},
   "outputs": [],
   "source": [
    "chrome_options = Options()  \n",
    "chrome_options.add_argument(\"--headless\")  \n",
    "chrome_options.add_argument(\"--no-sandbox\")\n",
    "\n",
    "driver = webdriver.Chrome('chromedriver', options=chrome_options)"
   ]
  },
  {
   "cell_type": "code",
   "execution_count": 4,
   "metadata": {},
   "outputs": [],
   "source": [
    "url = 'https://ncov.dxy.cn/ncovh5/view/pneumonia'\n",
    "driver.get(url)"
   ]
  },
  {
   "cell_type": "markdown",
   "metadata": {},
   "source": [
    "### Extract date"
   ]
  },
  {
   "cell_type": "code",
   "execution_count": 5,
   "metadata": {},
   "outputs": [],
   "source": [
    "content = driver.page_source\n",
    "soup =BeautifulSoup(content, 'lxml')\n"
   ]
  },
  {
   "cell_type": "code",
   "execution_count": 6,
   "metadata": {},
   "outputs": [
    {
     "data": {
      "text/plain": [
       "['try { window.getTimelineService1 = [{\"id\":21150,\"pubDate\":1585655391000,\"pubDateStr\":\"11分钟前\",\"title\":\"外交部：高度重视和关心海外中国留学人员 滞留埃塞的200多名留学生已安全回国\",\"summary\":\"外交部发言人：党中央始终高度重视和关心海外中国留学人员，为保护他们的生命安全和身体健康采取了一系列重大举措，各有关部门按照党中央决策部署，积极采取行动。他们都是祖国的孩子，是建设中国未来的重要力量。\",\"infoSource\":\"央视新闻app\",\"sourceUrl\":\"http://app.cctv.com/special/cportal/detail/arti/index.html?id=Arti5UUHS7t8dM7jcISufKZX200331&isfromapp=1\",\"provinceId\":\"\"},{\"id\":21138,\"pubDate\":1585654614000,\"pubDateStr\":\"24分钟前\",\"title\":\"日本暂停发往153个国家和地区国际邮寄业务\",\"summary\":\"由于全球范围新冠肺炎疫情扩大，航班大幅减少，日本邮政将从4月2日零点开始，部分或者完全暂停发往153个国家和地区的国际邮寄业务，对象包括印度、印度尼西亚等亚洲各国，以及意大利、西班牙等欧洲各国。另外，美国、英国和法国暂时不包括在其中。\",\"infoSource\":\"央视新闻app\",\"sourceUrl\":\"http://app.cctv.com/special/cportal/detail/arti/index.html?id=ArtiIMiNHLBiPq6Xy4Re3plh200331&isfromapp=1\",\"provinceId\":\"\"},{\"id\":21139,\"pubDate\":1585654542000,\"pubDateStr\":\"25分钟前\",\"title\":\"\\u200b斯里兰卡新增新冠肺炎确诊病例10例 累计确诊132例\",\"summary\":\"当地时间3月31日下午，斯里兰卡卫生部表示，该国新冠肺炎确诊病例升至132例。与前一天公布的数据相比，新增10例。此外，斯卫生部还表示，截至目前，斯共有2例死亡病例，另有16例痊愈。\",\"infoSource\":\"央视新闻app\",\"sourceUrl\":\"http://app.cctv.com/special/cportal/detail/arti/index.html?id=Artisv5iROH8V1cKbBylsBia200331&isfromapp=1\",\"provinceId\":\"\"},{\"id\":21135,\"pubDate\":1585654244000,\"pubDateStr\":\"30分钟前\",\"title\":\"\\u200b摩洛哥新增18例新冠肺炎确诊病例 累计确诊574例\",\"summary\":\"摩洛哥卫生部31日上午8时更新了当天新冠疫情数据。摩洛哥当天再增18例新冠肺炎确诊病例，累计达574例，其中死亡33人，治愈15人。截至目前，摩洛哥已经对2801名疑似病例进行了病毒检测，其中2227人为阴性。\",\"infoSource\":\"央视新闻app\",\"sourceUrl\":\"http://app.cctv.com/special/cportal/detail/arti/index.html?id=ArtiViqrrtY21oIf7FJwjxLv200331&isfromapp=1\",\"provinceId\":\"\"},{\"id\":21133,\"pubDate\":1585654167000,\"pubDateStr\":\"31分钟前\",\"title\":\"中国援助波兰防疫物资抵达\",\"summary\":\"当地时间31日，由中国政府向波兰援助的防疫物资顺利运抵华沙肖邦国际机场。机上载有10000份新冠病毒检测试剂、20000只N-95口罩、5000套防护服、5000副医疗护目镜、10000副一次性医用手套及10000双鞋套。中国驻波兰大使刘光源表示，抗击疫情，我们与波兰人民坚定站在一起。\",\"infoSource\":\"央视新闻\",\"sourceUrl\":\"http://m.weibo.cn/2656274875/4488621266408242\",\"provinceId\":\"\"},{\"id\":21130,\"pubDate\":1585653844000,\"pubDateStr\":\"36分钟前\",\"title\":\"\\u200b巴林新增52例新冠肺炎确诊病例 累计确诊567例\",\"summary\":\"巴林卫生部当地时间31日下午发布通告，确定境内新增52例新型冠状病毒肺炎确诊病例，其中4例为输入病例，52例为本地感染病例。至此巴林境内累计已发现567例新型冠状病毒肺炎确诊病例，其中295名患者已痊愈出院，4名患者病重不治。\",\"infoSource\":\"央视新闻app\",\"sourceUrl\":\"http://app.cctv.com/special/cportal/detail/arti/index.html?id=ArtiSlYxRzIHWBgvVZjnkKaH200331&isfromapp=1\",\"provinceId\":\"\"},{\"id\":21125,\"pubDate\":1585653480000,\"pubDateStr\":\"43分钟前\",\"title\":\"日本新确认感染者137人 累计感染者2124人\",\"summary\":\"根据日本各地方政府和厚生劳动省的统计，截至东京时间31日下午5时30分，日本全国新确认的感染者共137人，累计感染者达到2124人。在日本国内确认的感染者有59人死亡。\",\"infoSource\":\"央视新闻app\",\"sourceUrl\":\"http://app.cctv.com/special/cportal/detail/arti/index.html?id=ArtiPV1PBk2ap1NZt3IwreHN200331&isfromapp=1\",\"provinceId\":\"\"},{\"id\":21126,\"pubDate\":1585653465000,\"pubDateStr\":\"43分钟前\",\"title\":\"德国耶拿或将成为首个出台民众戴口罩条令的城市\",\"summary\":\"根据德国东部城市耶拿当地时间31日公布的消息，当地政府准备用一周的时间逐步引入在超市及公共交通等人员流动频繁场所配戴口罩的义务，以遏制新冠肺炎疫情的迅速蔓延。由此，耶拿将成为第一个要求民众戴口罩的德国城市。\",\"infoSource\":\"央视新闻app\",\"sourceUrl\":\"http://app.cctv.com/special/cportal/detail/arti/index.html?id=ArtiMkW3whgZM4bkGpS5mZNt200331&isfromapp=1\",\"provinceId\":\"\"},{\"id\":21110,\"pubDate\":1585653402000,\"pubDateStr\":\"44分钟前\",\"title\":\"文莱新增2例新冠肺炎确诊病例 累计确诊129例\",\"summary\":\"当地时间31日，文莱政府宣布新增2例新冠肺炎确诊病例，累计确诊129例。文莱卫生部长伊桑说，截至31日下午5时，共有7人获准出院回家，累计治愈病例45例。当地死亡病例维持1例。\",\"infoSource\":\"央视新闻app\",\"sourceUrl\":\"http://app.cctv.com/special/cportal/detail/arti/index.html?id=Artih6PjISWbqWLzTOnJ0G5W200331&isfromapp=1\",\"provinceId\":\"\"},{\"id\":21112,\"pubDate\":1585653359000,\"pubDateStr\":\"45分钟前\",\"title\":\"\\u200b马尔代夫累计新冠肺炎确诊病例18例\",\"summary\":\"据马尔代夫健康保护署数据，截至当地时间3月31日下午，马尔代夫境内新冠肺炎确诊病例升至18例。其中3例为马尔代夫公民，15例为外国公民。所有累计病例中有13例已痊愈。\",\"infoSource\":\"央视新闻app\",\"sourceUrl\":\"http://app.cctv.com/special/cportal/detail/arti/index.html?id=ArtihBQMhrKhss7Uh7Qpqnzj200331&isfromapp=1\",\"provinceId\":\"\"},{\"id\":21115,\"pubDate\":1585653297000,\"pubDateStr\":\"46分钟前\",\"title\":\"\\u200b塞内加尔新增13例新冠肺炎确诊病例 累计确诊175例\",\"summary\":\"当地时间31日，塞内加尔卫生部发布最新通告称，在97份检测样本中，新发现13例确诊病例，其中1名为输入型病例，12名为接触型病例。此外又有12名患者已经康复。截至目前，塞内加尔已有累计确诊病例175例，其中40例已被治愈。\",\"infoSource\":\"央视新闻app\",\"sourceUrl\":\"http://app.cctv.com/special/cportal/detail/arti/index.html?id=Arti7w1qX6M53Jj86WAItFgI200331&isfromapp=1\",\"provinceId\":\"\"},{\"id\":21108,\"pubDate\":1585652971000,\"pubDateStr\":\"51分钟前\",\"title\":\"孟加拉国新增2例新冠肺炎确诊病例 累计确诊51例\",\"summary\":\"当地时间3月31日，孟加拉国流行病学、疾病控制与研究学院确认新增2例新冠肺炎确诊病例，新增治愈6例。截至目前，该国共确诊51例新冠肺炎确诊病例，已治愈25例，死亡5例。\",\"infoSource\":\"央视新闻app\",\"sourceUrl\":\"http://app.cctv.com/special/cportal/detail/arti/index.html?id=ArtiZ6wyAAm2nhamEmAsc9xf200331&isfromapp=1\",\"provinceId\":\"\"},{\"id\":21084,\"pubDate\":1585651274000,\"pubDateStr\":\"1小时前\",\"title\":\"吉尔吉斯斯坦新冠肺炎确诊病例累计107例\",\"summary\":\"31日，吉尔吉斯斯坦卫生部发布消息称，过去24小时内吉新增13例新冠肺炎确诊病例，分别来自6个地区。截至目前，吉尔吉斯斯坦累计确诊达107例，其中包括11名儿童，31名老年人。确诊病例中有3人情况比较严重，其他患者身体状况良好。\",\"infoSource\":\"央视新闻app\",\"sourceUrl\":\"http://app.cctv.com/special/cportal/detail/arti/index.html?id=ArtiF41iJBoFsFsgTfrgZ7Ns200331&isfromapp=1\",\"provinceId\":\"\"},{\"id\":21077,\"pubDate\":1585651065000,\"pubDateStr\":\"1小时前\",\"title\":\"\\u200b瑞士新增新冠肺炎确诊病例701例 累计确诊16176例\",\"summary\":\"截至当地时间31日上午8时，根据瑞士联邦公共卫生部最新数据，瑞士和列支敦士登共确诊新冠肺炎感染病例16176例，24小时新增701例，累计死亡373例。\",\"infoSource\":\"央视新闻app\",\"sourceUrl\":\"http://app.cctv.com/special/cportal/detail/arti/index.html?id=ArtiSID3CPa4LN2wcw7TglEu200331&isfromapp=1\",\"provinceId\":\"\"},{\"id\":21078,\"pubDate\":1585650996000,\"pubDateStr\":\"1小时前\",\"title\":\"印尼新增新冠肺炎确诊病例114例 累计1528例\",\"summary\":\"3月31日，印尼卫生部宣布新增114例新冠肺炎确诊病例，全国累计确诊病例1528人，含136例死亡病例。\",\"infoSource\":\"央视新闻app\",\"sourceUrl\":\"http://app.cctv.com/special/cportal/detail/arti/index.html?id=ArtiBd82GvxkddMtk5OgsC3x200331&isfromapp=1\",\"provinceId\":\"\"},{\"id\":21065,\"pubDate\":1585650472000,\"pubDateStr\":\"1小时前\",\"title\":\"马来西亚对所有归国公民实施14天强制隔离医学观察\",\"summary\":\"当地时间31日，马来西亚宣布将对所有回国的马来西亚公民，实施为期14天的强制隔离医学观察。马来西亚国防部高级部长伊斯迈沙比里说，有关举措是因为目前新冠肺炎疫情在全球有加速蔓延的趋势，马来西亚境外感染病例在持续增加。\",\"infoSource\":\"央视新闻app\",\"sourceUrl\":\"http://app.cctv.com/special/cportal/detail/arti/index.html?id=ArtikaImwMFjlvSPvEdS01jg200331&isfromapp=1\",\"provinceId\":\"\"}]}catch(e){}',\n",
       " '截至北京时间 2020-03-31 12:08',\n",
       " '截至北京时间 2020-03-31 12:08',\n",
       " '当地时间3月31日下午，斯里兰卡卫生部表示，该国新冠肺炎确诊病例升至132例。与前一天公布的数据相比，新增10例。此外，斯卫生部还表示，截至目前，斯共有2例死亡病例，另有16例痊愈。',\n",
       " '摩洛哥卫生部31日上午8时更新了当天新冠疫情数据。摩洛哥当天再增18例新冠肺炎确诊病例，累计达574例，其中死亡33人，治愈15人。截至目前，摩洛哥已经对2801名疑似病例进行了病毒检测，其中2227人为阴性。',\n",
       " '根据日本各地方政府和厚生劳动省的统计，截至东京时间31日下午5时30分，日本全国新确认的感染者共137人，累计感染者达到2124人。在日本国内确认的感染者有59人死亡。',\n",
       " '当地时间31日，文莱政府宣布新增2例新冠肺炎确诊病例，累计确诊129例。文莱卫生部长伊桑说，截至31日下午5时，共有7人获准出院回家，累计治愈病例45例。当地死亡病例维持1例。',\n",
       " '据马尔代夫健康保护署数据，截至当地时间3月31日下午，马尔代夫境内新冠肺炎确诊病例升至18例。其中3例为马尔代夫公民，15例为外国公民。所有累计病例中有13例已痊愈。',\n",
       " '当地时间31日，塞内加尔卫生部发布最新通告称，在97份检测样本中，新发现13例确诊病例，其中1名为输入型病例，12名为接触型病例。此外又有12名患者已经康复。截至目前，塞内加尔已有累计确诊病例175例，其中40例已被治愈。',\n",
       " '当地时间3月31日，孟加拉国流行病学、疾病控制与研究学院确认新增2例新冠肺炎确诊病例，新增治愈6例。截至目前，该国共确诊51例新冠肺炎确诊病例，已治愈25例，死亡5例。',\n",
       " '31日，吉尔吉斯斯坦卫生部发布消息称，过去24小时内吉新增13例新冠肺炎确诊病例，分别来自6个地区。截至目前，吉尔吉斯斯坦累计确诊达107例，其中包括11名儿童，31名老年人。确诊病例中有3人情况比较严重，其他患者身体状况良好。',\n",
       " '截至当地时间31日上午8时，根据瑞士联邦公共卫生部最新数据，瑞士和列支敦士登共确诊新冠肺炎感染病例16176例，24小时新增701例，累计死亡373例。']"
      ]
     },
     "execution_count": 6,
     "metadata": {},
     "output_type": "execute_result"
    }
   ],
   "source": [
    "data = soup.findAll(text=re.compile(\"截至.+\"))\n",
    "data"
   ]
  },
  {
   "cell_type": "code",
   "execution_count": 7,
   "metadata": {},
   "outputs": [
    {
     "data": {
      "text/plain": [
       "'2020-03-31 12:08'"
      ]
     },
     "execution_count": 7,
     "metadata": {},
     "output_type": "execute_result"
    }
   ],
   "source": [
    "for s in data:\n",
    "    m = re.search(\"截至.*(202\\d-\\d+-\\d+ \\d+:\\d+)\", s)\n",
    "    if m is not None:\n",
    "        data_date_time = m.group(1)\n",
    "data_date_time"
   ]
  },
  {
   "cell_type": "markdown",
   "metadata": {},
   "source": [
    "### Extract data (summary)"
   ]
  },
  {
   "cell_type": "code",
   "execution_count": 8,
   "metadata": {},
   "outputs": [
    {
     "data": {
      "text/plain": [
       "['try { window.getStatisticsService = {\"id\":1,\"createTime\":1579537899000,\"modifyTime\":1585656485000,\"infectSource\":\"该字段已替换为说明2\",\"passWay\":\"该字段已替换为说明3\",\"imgUrl\":\"https://img1.dxycdn.com/2020/0201/450/3394153392393266839-135.png\",\"dailyPic\":\"https://img1.dxycdn.com/2020/0211/763/3395998884005602079-135.png,https://img1.dxycdn.com/2020/0211/362/3395998896890788910-135.png,https://img1.dxycdn.com/2020/0211/365/3395998905480724211-135.png,https://img1.dxycdn.com/2020/0211/364/3395998916217859778-135.png,https://img1.dxycdn.com/2020/0211/922/3395998929103046444-135.png,https://img1.dxycdn.com/2020/0211/089/3395998939840182072-135.png\",\"dailyPics\":[\"https://img1.dxycdn.com/2020/0211/763/3395998884005602079-135.png\",\"https://img1.dxycdn.com/2020/0211/362/3395998896890788910-135.png\",\"https://img1.dxycdn.com/2020/0211/365/3395998905480724211-135.png\",\"https://img1.dxycdn.com/2020/0211/364/3395998916217859778-135.png\",\"https://img1.dxycdn.com/2020/0211/922/3395998929103046444-135.png\",\"https://img1.dxycdn.com/2020/0211/089/3395998939840182072-135.png\"],\"summary\":\"\",\"deleted\":false,\"countRemark\":\"\",\"currentConfirmedCount\":3048,\"confirmedCount\":82599,\"suspectedCount\":771,\"curedCount\":76237,\"deadCount\":3314,\"seriousCount\":528,\"suspectedIncr\":30,\"currentConfirmedIncr\":-227,\"confirmedIncr\":135,\"curedIncr\":355,\"deadIncr\":7,\"seriousIncr\":-109,\"virus\":\"该字段已替换为说明1\",\"remark1\":\"易感人群：人群普遍易感。老年人及有基础疾病者感染后病情较重，儿童及婴幼儿也有发病\",\"remark2\":\"潜伏期：一般为 3～7 天，最长不超过 14 天，潜伏期内可能存在传染性，其中无症状病例传染性非常罕见\",\"remark3\":\"宿主：野生动物，可能为中华菊头蝠\",\"remark4\":\"\",\"remark5\":\"\",\"note1\":\"病毒：SARS-CoV-2，其导致疾病命名 COVID-19\",\"note2\":\"传染源：新冠肺炎的患者。无症状感染者也可能成为传染源。\",\"note3\":\"传播途径：经呼吸道飞沫、接触传播是主要的传播途径。气溶胶传播和消化道等传播途径尚待明确。\",\"generalRemark\":\"1. 3 月 12 日国家卫健委确诊补订遗漏 12 例确诊病例（非 12 日新增），暂无具体省份信息。 2. 浙江省 12 例外省治愈暂无具体省份信息。\",\"abroadRemark\":\"\",\"marquee\":[{\"id\":1833,\"marqueeLabel\":\"世卫组织\",\"marqueeContent\":\"意大利、西班牙疫情或趋向稳定\",\"marqueeLink\":\"https://dxy.me/LrGCau\"},{\"id\":1834,\"marqueeLabel\":\"透明公开\",\"marqueeContent\":\"4 月 1 日起公布无症状感染者情况\",\"marqueeLink\":\"https://dxy.me/TbYdJL\"},{\"id\":1835,\"marqueeLabel\":\"数字新冠\",\"marqueeContent\":\"3 月 30 日，世界因新冠而变\",\"marqueeLink\":\"https://dxy.me/MdEyHY\"}],\"quanguoTrendChart\":[{\"imgUrl\":\"https://img1.dxycdn.com/2020/0324/278/3403801351376518263-135.png\",\"title\":\"新增疑似/新增确诊\"},{\"imgUrl\":\"https://img1.dxycdn.com/2020/0324/812/3403847865872006755-135.png\",\"title\":\"境外输入\"},{\"imgUrl\":\"https://img1.dxycdn.com/2020/0324/547/3403847848692336947-135.png\",\"title\":\"现存确诊\"},{\"imgUrl\":\"https://img1.dxycdn.com/2020/0324/775/3403801407211095604-135.png\",\"title\":\"治愈\"},{\"imgUrl\":\"https://img1.dxycdn.com/2020/0324/250/3403801424390727199-135.png\",\"title\":\"死亡\"}],\"hbFeiHbTrendChart\":[{\"imgUrl\":\"https://img1.dxycdn.com/2020/0326/624/3404177508906904585-135.png\",\"title\":\"非湖北新增确诊\"},{\"imgUrl\":\"https://img1.dxycdn.com/2020/0326/777/3404177532529485065-135.png\",\"title\":\"湖北新增确诊\"},{\"imgUrl\":\"https://img1.dxycdn.com/2020/0326/376/3404177556151805921-135.png\",\"title\":\"湖北现存确诊\"},{\"imgUrl\":\"https://img1.dxycdn.com/2020/0326/527/3404177575478899995-135.png\",\"title\":\"非湖北现存确诊\"},{\"imgUrl\":\"https://img1.dxycdn.com/2020/0326/419/3404177596953996726-135.png\",\"title\":\"治愈/死亡\"}],\"foreignTrendChart\":[{\"imgUrl\":\"https://img1.dxycdn.com/2020/0320/702/3403079914982117944-135.png\",\"title\":\"国外新增确诊\"},{\"imgUrl\":\"https://img1.dxycdn.com/2020/0320/396/3403079925719536561-135.png\",\"title\":\"国外累计确诊\"},{\"imgUrl\":\"https://img1.dxycdn.com/2020/0320/139/3403079936457225524-135.png\",\"title\":\"国外死亡\"}],\"importantForeignTrendChart\":[{\"imgUrl\":\"https://img1.dxycdn.com/2020/0320/450/3403077453965772423-135.png\",\"title\":\"重点国家新增确诊\"},{\"imgUrl\":\"https://img1.dxycdn.com/2020/0320/276/3403077462555980566-135.png\",\"title\":\"日本新增确诊\"},{\"imgUrl\":\"https://img1.dxycdn.com/2020/0320/340/3403077473293125942-135.png\",\"title\":\"意大利新增确诊\"},{\"imgUrl\":\"https://img1.dxycdn.com/2020/0320/723/3403077481883334043-135.png\",\"title\":\"伊朗新增确诊\"},{\"imgUrl\":\"https://img1.dxycdn.com/2020/0320/266/3403077492620752785-135.png\",\"title\":\"美国新增确诊\"},{\"imgUrl\":\"https://img1.dxycdn.com/2020/0320/870/3403077503358171278-135.png\",\"title\":\"法国新增确诊\"},{\"imgUrl\":\"https://img1.dxycdn.com/2020/0320/053/3403077511947832997-135.png\",\"title\":\"德国新增确诊\"},{\"imgUrl\":\"https://img1.dxycdn.com/2020/0320/878/3403077520537768006-135.png\",\"title\":\"西班牙新增确诊\"},{\"imgUrl\":\"https://img1.dxycdn.com/2020/0320/443/3403077531275186665-135.png\",\"title\":\"韩国新增确诊\"}],\"foreignTrendChartGlobal\":[{\"imgUrl\":\"https://img1.dxycdn.com/2020/0319/740/3402859458605738923-135.png\",\"title\":\"Daily New Cases\"},{\"imgUrl\":\"https://img1.dxycdn.com/2020/0319/351/3402856772103846114-135.png\",\"title\":\"Total Confirmed Cases\"},{\"imgUrl\":\"https://img1.dxycdn.com/2020/0319/236/3402856782841001789-135.png\",\"title\":\"Total Deaths Cases\"}],\"importantForeignTrendChartGlobal\":[{\"imgUrl\":\"https://img1.dxycdn.com/2020/0319/122/3402856838675578578-135.png\",\"title\":\"Daily New Cases\"},{\"imgUrl\":\"https://img1.dxycdn.com/2020/0319/685/3402856849412997239-135.png\",\"title\":\"Japan\"},{\"imgUrl\":\"https://img1.dxycdn.com/2020/0319/477/3402856860150678804-135.png\",\"title\":\"Italy\"},{\"imgUrl\":\"https://img1.dxycdn.com/2020/0319/454/3402856873035581014-135.png\",\"title\":\"Iran\"},{\"imgUrl\":\"https://img1.dxycdn.com/2020/0319/022/3402856883772999714-135.png\",\"title\":\"U.S.A.\"},{\"imgUrl\":\"https://img1.dxycdn.com/2020/0319/529/3402856894510155506-135.png\",\"title\":\"France\"},{\"imgUrl\":\"https://img1.dxycdn.com/2020/0319/211/3402856905247574064-135.png\",\"title\":\"Germany\"},{\"imgUrl\":\"https://img1.dxycdn.com/2020/0319/054/3402856913837508985-135.png\",\"title\":\"Spain\"},{\"imgUrl\":\"https://img1.dxycdn.com/2020/0319/088/3402856928870157852-135.png\",\"title\":\"Republic of Korea\"}],\"foreignStatistics\":{\"currentConfirmedCount\":591298,\"confirmedCount\":710739,\"suspectedCount\":4,\"curedCount\":84209,\"deadCount\":35232,\"suspectedIncr\":0,\"currentConfirmedIncr\":22642,\"confirmedIncr\":28342,\"curedIncr\":3947,\"deadIncr\":1753},\"globalStatistics\":{\"currentConfirmedCount\":594346,\"confirmedCount\":793338,\"curedCount\":160446,\"deadCount\":38546,\"currentConfirmedIncr\":22415,\"confirmedIncr\":28477,\"curedIncr\":4302,\"deadIncr\":1760},\"globalOtherTrendChartData\":\"https://file1.dxycdn.com/2020/0331/217/3405093116477911455-135.json\"}}catch(e){}']"
      ]
     },
     "execution_count": 8,
     "metadata": {},
     "output_type": "execute_result"
    }
   ],
   "source": [
    "data = soup.findAll(text=re.compile('\\\"summary.+\\\"confirmedCount\\\":\\d'))\n",
    "\n",
    "data\n"
   ]
  },
  {
   "cell_type": "code",
   "execution_count": 9,
   "metadata": {},
   "outputs": [],
   "source": [
    "m = re.search('\\\"confirmedCount\\\":(\\d+)', data[0])\n",
    "summary_confirmed_count = int(m.group(1))\n",
    "\n",
    "\n",
    "m = re.search('\\\"curedCount\\\":(\\d+)', data[0])\n",
    "summary_cured_count = int(m.group(1))\n",
    "\n",
    "m = re.search('\\\"deadCount\\\":(\\d+)', data[0])\n",
    "summary_dead_count = int(m.group(1))\n"
   ]
  },
  {
   "cell_type": "code",
   "execution_count": 10,
   "metadata": {},
   "outputs": [
    {
     "data": {
      "text/html": [
       "<div>\n",
       "<style scoped>\n",
       "    .dataframe tbody tr th:only-of-type {\n",
       "        vertical-align: middle;\n",
       "    }\n",
       "\n",
       "    .dataframe tbody tr th {\n",
       "        vertical-align: top;\n",
       "    }\n",
       "\n",
       "    .dataframe thead th {\n",
       "        text-align: right;\n",
       "    }\n",
       "</style>\n",
       "<table border=\"1\" class=\"dataframe\">\n",
       "  <thead>\n",
       "    <tr style=\"text-align: right;\">\n",
       "      <th></th>\n",
       "      <th>datetime</th>\n",
       "      <th>confirmed</th>\n",
       "      <th>cured</th>\n",
       "      <th>dead</th>\n",
       "    </tr>\n",
       "  </thead>\n",
       "  <tbody>\n",
       "    <tr>\n",
       "      <th>0</th>\n",
       "      <td>2020-03-31 12:08</td>\n",
       "      <td>82599</td>\n",
       "      <td>76237</td>\n",
       "      <td>3314</td>\n",
       "    </tr>\n",
       "  </tbody>\n",
       "</table>\n",
       "</div>"
      ],
      "text/plain": [
       "           datetime  confirmed  cured  dead\n",
       "0  2020-03-31 12:08      82599  76237  3314"
      ]
     },
     "execution_count": 10,
     "metadata": {},
     "output_type": "execute_result"
    }
   ],
   "source": [
    "# make a dataframe\n",
    "df = pd.DataFrame({\n",
    "    'datetime': data_date_time,\n",
    "    'confirmed': summary_confirmed_count,\n",
    "    'cured': summary_cured_count,\n",
    "    'dead': summary_dead_count\n",
    "}, index=[0])\n",
    "df"
   ]
  },
  {
   "cell_type": "markdown",
   "metadata": {},
   "source": [
    "### Save to file"
   ]
  },
  {
   "cell_type": "code",
   "execution_count": 11,
   "metadata": {},
   "outputs": [],
   "source": [
    "from pathlib import Path\n",
    "csv_file = '../data/china-summary-cases.csv'\n",
    "\n",
    "if Path(csv_file).exists():\n",
    "    # read out the old data - then merge with new data and remove duplicates based on datetime\n",
    "    old_df = pd.read_csv(csv_file)\n",
    "    df = df.append(old_df)\n",
    "df.drop_duplicates(subset=['datetime'], inplace=True)"
   ]
  },
  {
   "cell_type": "code",
   "execution_count": 12,
   "metadata": {},
   "outputs": [],
   "source": [
    "df.sort_values(by=['datetime'], inplace=True)\n",
    "\n",
    "df.to_csv(csv_file, index=False)\n"
   ]
  },
  {
   "cell_type": "markdown",
   "metadata": {},
   "source": [
    "### Plot graph"
   ]
  },
  {
   "cell_type": "code",
   "execution_count": 13,
   "metadata": {},
   "outputs": [],
   "source": [
    "import seaborn as sns\n",
    "import matplotlib.pyplot as plt\n",
    "from pandas.plotting import register_matplotlib_converters\n",
    "register_matplotlib_converters()\n",
    "\n",
    "png_file = '../images/china-summary-cases.png'\n",
    "# convert to pd.datetime\n",
    "df['datetime_idx'] = pd.to_datetime(df['datetime'], format=\"%Y-%m-%d %H:%M\")\n",
    "\n",
    "df.set_index('datetime_idx', inplace=True)\n",
    "df.drop(['datetime'], axis=1, inplace=True)\n"
   ]
  },
  {
   "cell_type": "code",
   "execution_count": 14,
   "metadata": {},
   "outputs": [
    {
     "data": {
      "text/html": [
       "<div>\n",
       "<style scoped>\n",
       "    .dataframe tbody tr th:only-of-type {\n",
       "        vertical-align: middle;\n",
       "    }\n",
       "\n",
       "    .dataframe tbody tr th {\n",
       "        vertical-align: top;\n",
       "    }\n",
       "\n",
       "    .dataframe thead th {\n",
       "        text-align: right;\n",
       "    }\n",
       "</style>\n",
       "<table border=\"1\" class=\"dataframe\">\n",
       "  <thead>\n",
       "    <tr style=\"text-align: right;\">\n",
       "      <th></th>\n",
       "      <th>confirmed</th>\n",
       "      <th>cured</th>\n",
       "      <th>dead</th>\n",
       "    </tr>\n",
       "    <tr>\n",
       "      <th>datetime_idx</th>\n",
       "      <th></th>\n",
       "      <th></th>\n",
       "      <th></th>\n",
       "    </tr>\n",
       "  </thead>\n",
       "  <tbody>\n",
       "    <tr>\n",
       "      <th>2020-02-02 10:22:00</th>\n",
       "      <td>14483</td>\n",
       "      <td>379</td>\n",
       "      <td>304</td>\n",
       "    </tr>\n",
       "    <tr>\n",
       "      <th>2020-02-02 10:28:00</th>\n",
       "      <td>14483</td>\n",
       "      <td>380</td>\n",
       "      <td>304</td>\n",
       "    </tr>\n",
       "    <tr>\n",
       "      <th>2020-02-02 11:19:00</th>\n",
       "      <td>14489</td>\n",
       "      <td>385</td>\n",
       "      <td>304</td>\n",
       "    </tr>\n",
       "    <tr>\n",
       "      <th>2020-02-02 11:54:00</th>\n",
       "      <td>14489</td>\n",
       "      <td>397</td>\n",
       "      <td>304</td>\n",
       "    </tr>\n",
       "    <tr>\n",
       "      <th>2020-02-02 15:01:00</th>\n",
       "      <td>14490</td>\n",
       "      <td>430</td>\n",
       "      <td>304</td>\n",
       "    </tr>\n",
       "    <tr>\n",
       "      <th>...</th>\n",
       "      <td>...</td>\n",
       "      <td>...</td>\n",
       "      <td>...</td>\n",
       "    </tr>\n",
       "    <tr>\n",
       "      <th>2020-03-31 01:42:00</th>\n",
       "      <td>82547</td>\n",
       "      <td>76225</td>\n",
       "      <td>3314</td>\n",
       "    </tr>\n",
       "    <tr>\n",
       "      <th>2020-03-31 09:08:00</th>\n",
       "      <td>82595</td>\n",
       "      <td>76234</td>\n",
       "      <td>3314</td>\n",
       "    </tr>\n",
       "    <tr>\n",
       "      <th>2020-03-31 09:55:00</th>\n",
       "      <td>82599</td>\n",
       "      <td>76237</td>\n",
       "      <td>3314</td>\n",
       "    </tr>\n",
       "    <tr>\n",
       "      <th>2020-03-31 10:57:00</th>\n",
       "      <td>82599</td>\n",
       "      <td>76237</td>\n",
       "      <td>3314</td>\n",
       "    </tr>\n",
       "    <tr>\n",
       "      <th>2020-03-31 12:08:00</th>\n",
       "      <td>82599</td>\n",
       "      <td>76237</td>\n",
       "      <td>3314</td>\n",
       "    </tr>\n",
       "  </tbody>\n",
       "</table>\n",
       "<p>890 rows × 3 columns</p>\n",
       "</div>"
      ],
      "text/plain": [
       "                     confirmed  cured  dead\n",
       "datetime_idx                               \n",
       "2020-02-02 10:22:00      14483    379   304\n",
       "2020-02-02 10:28:00      14483    380   304\n",
       "2020-02-02 11:19:00      14489    385   304\n",
       "2020-02-02 11:54:00      14489    397   304\n",
       "2020-02-02 15:01:00      14490    430   304\n",
       "...                        ...    ...   ...\n",
       "2020-03-31 01:42:00      82547  76225  3314\n",
       "2020-03-31 09:08:00      82595  76234  3314\n",
       "2020-03-31 09:55:00      82599  76237  3314\n",
       "2020-03-31 10:57:00      82599  76237  3314\n",
       "2020-03-31 12:08:00      82599  76237  3314\n",
       "\n",
       "[890 rows x 3 columns]"
      ]
     },
     "execution_count": 14,
     "metadata": {},
     "output_type": "execute_result"
    }
   ],
   "source": [
    "df"
   ]
  },
  {
   "cell_type": "code",
   "execution_count": 15,
   "metadata": {
    "scrolled": true
   },
   "outputs": [
    {
     "data": {
      "image/png": "[encoded data removed]",
      "text/plain": [
       "<Figure size 1008x1008 with 3 Axes>"
      ]
     },
     "metadata": {},
     "output_type": "display_data"
    }
   ],
   "source": [
    "if df.shape[0]>1:\n",
    "    # line chart when having at least a few points\n",
    "    sns.set(rc={'figure.figsize':(14,14)})\n",
    "    sns.set(style=\"whitegrid\")\n",
    "\n",
    "    fig, axs = plt.subplots(nrows=3)\n",
    "\n",
    "    sns.lineplot(x=df.index, y = 'confirmed', data=df, ax= axs[0], estimator=None, color='orange')\n",
    "    sns.lineplot(x=df.index, y = 'cured', data=df, ax= axs[1], estimator=None, color='green')\n",
    "    sns.lineplot(x=df.index, y = 'dead', data=df, ax= axs[2], estimator=None, color='darkred')\n",
    "\n",
    "    for ax in axs:\n",
    "        ax.set_xlabel('')\n",
    "        ax.tick_params(axis='x', labelrotation=30)\n",
    "else:\n",
    "\n",
    "    ax = df.plot(kind='bar', stacked=True, figsize=(9,6))\n",
    "    fig = ax.get_figure()\n",
    "    ax.set_xlabel('')\n",
    "    for label in ax.get_xticklabels():\n",
    "        label.set_rotation(0) \n"
   ]
  },
  {
   "cell_type": "code",
   "execution_count": 16,
   "metadata": {},
   "outputs": [],
   "source": [
    "fig.savefig(png_file)"
   ]
  },
  {
   "cell_type": "code",
   "execution_count": null,
   "metadata": {},
   "outputs": [],
   "source": []
  },
  {
   "cell_type": "code",
   "execution_count": null,
   "metadata": {},
   "outputs": [],
   "source": []
  }
 ],
 "metadata": {
  "kernelspec": {
   "display_name": "Python 3",
   "language": "python",
   "name": "python3"
  },
  "language_info": {
   "codemirror_mode": {
    "name": "ipython",
    "version": 3
   },
   "file_extension": ".py",
   "mimetype": "text/x-python",
   "name": "python",
   "nbconvert_exporter": "python",
   "pygments_lexer": "ipython3",
   "version": "3.7.6"
  }
 },
 "nbformat": 4,
 "nbformat_minor": 2
}
