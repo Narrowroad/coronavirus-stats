{
 "cells": [
  {
   "cell_type": "code",
   "execution_count": 1,
   "metadata": {},
   "outputs": [],
   "source": [
    "import pandas as pd\n",
    "import requests\n",
    "from bs4 import BeautifulSoup\n",
    "import re\n",
    "from datetime import datetime\n",
    "from selenium import webdriver\n",
    "from selenium.webdriver.chrome.options import Options  \n"
   ]
  },
  {
   "cell_type": "code",
   "execution_count": 2,
   "metadata": {},
   "outputs": [
    {
     "data": {
      "text/plain": [
       "datetime.datetime(2020, 4, 1, 9, 8, 16, 809551)"
      ]
     },
     "execution_count": 2,
     "metadata": {},
     "output_type": "execute_result"
    }
   ],
   "source": [
    "datetime.now()"
   ]
  },
  {
   "cell_type": "code",
   "execution_count": 3,
   "metadata": {},
   "outputs": [],
   "source": [
    "chrome_options = Options()  \n",
    "chrome_options.add_argument(\"--headless\")  \n",
    "chrome_options.add_argument(\"--no-sandbox\")\n",
    "\n",
    "driver = webdriver.Chrome('chromedriver', options=chrome_options)"
   ]
  },
  {
   "cell_type": "code",
   "execution_count": 4,
   "metadata": {},
   "outputs": [],
   "source": [
    "url = 'https://ncov.dxy.cn/ncovh5/view/pneumonia'\n",
    "driver.get(url)"
   ]
  },
  {
   "cell_type": "markdown",
   "metadata": {},
   "source": [
    "### Extract date"
   ]
  },
  {
   "cell_type": "code",
   "execution_count": 5,
   "metadata": {},
   "outputs": [],
   "source": [
    "content = driver.page_source\n",
    "soup =BeautifulSoup(content, 'lxml')\n"
   ]
  },
  {
   "cell_type": "code",
   "execution_count": 6,
   "metadata": {},
   "outputs": [
    {
     "data": {
      "text/plain": [
       "['try { window.getTimelineService1 = [{\"id\":21913,\"pubDate\":1585730963000,\"pubDateStr\":\"5分钟前\",\"title\":\"\\u200b尼日尔新增7例新冠肺炎确诊病例 累计确诊34例\",\"summary\":\"当地时间3月31日，尼日尔卫生部发布公告，宣布尼日尔境内3月31日新增7例新冠肺炎确诊病例，截至目前该国累计共确诊34例，其中死亡3例。（总台记者 何绪）\",\"infoSource\":\"央视新闻app\",\"sourceUrl\":\"http://app.cctv.com/special/cportal/detail/arti/index.html?id=ArtiNljorxXLr85dC3Vtkt08200401&isfromapp=1\",\"provinceId\":\"\"},{\"id\":21914,\"pubDate\":1585730937000,\"pubDateStr\":\"5分钟前\",\"title\":\"埃塞俄比亚新增新冠肺炎确诊病例4例 累计确诊29例\",\"summary\":\"当地时间3月31日晚及4月1日上午，埃塞俄比亚卫生部连续发布声明，相继确诊4例新冠肺炎确诊病例，4人均为埃塞俄比亚人。目前累计确诊病例29人，2人治愈，2人确诊后离境，境内现存病例25例，其中2人病情较重。（总台记者 吴婷）\",\"infoSource\":\"央视新闻app\",\"sourceUrl\":\"http://app.cctv.com/special/cportal/detail/arti/index.html?id=ArtiySI95E1go1qbIgOfWkwM200401&isfromapp=1\",\"provinceId\":\"\"},{\"id\":21904,\"pubDate\":1585730336000,\"pubDateStr\":\"15分钟前\",\"title\":\"菲律宾新增227例新冠肺炎确诊病例 累计2311例\",\"summary\":\"菲律宾卫生部发布公告称，截至1日下午4点，菲律宾当天共计新增227例新冠肺炎确诊病例，确诊病例累计达2311例。\",\"infoSource\":\"央视新闻app\",\"sourceUrl\":\"http://app.cctv.com/special/cportal/detail/arti/index.html?id=Arti54xtjgZqZbBnmb6LLM27200401&isfromapp=1\",\"provinceId\":\"\"},{\"id\":21906,\"pubDate\":1585730122000,\"pubDateStr\":\"19分钟前\",\"title\":\"喀麦隆新增40例新冠肺炎确诊病例 累计确诊233例\",\"summary\":\"喀麦隆昨晚与今早分别新增30例和10例新冠肺炎确诊病例，累计新增40例确诊病例。\",\"infoSource\":\"央视新闻app\",\"sourceUrl\":\"http://app.cctv.com/special/cportal/detail/arti/index.html?id=ArtidTcpgPDKGDUEq74ExHlL200401&isfromapp=1\",\"provinceId\":\"\"},{\"id\":21898,\"pubDate\":1585730015000,\"pubDateStr\":\"21分钟前\",\"title\":\"澳大利亚新增新冠肺炎确诊病例303例 累计4860例\",\"summary\":\"根据澳大利亚联邦卫生部4月1日最新统计，截至当地时间15时，澳大利亚新冠肺炎感染病例累计4860例，包括20个死亡病例，过去的24小时新增303例。新南威尔士州确诊2182例，维多利亚州确诊968例，昆士兰州确诊781例，西澳州确诊392例，南澳州确诊367例，北领地确诊18例，首都领地确诊84例，塔斯马尼亚州确诊68例。\",\"infoSource\":\"央视新闻app\",\"sourceUrl\":\"http://app.cctv.com/special/cportal/detail/arti/index.html?id=Arti0nEuRpvtrq11BM7BbZ2K200401&isfromapp=1\",\"provinceId\":\"\"},{\"id\":21901,\"pubDate\":1585729835000,\"pubDateStr\":\"24分钟前\",\"title\":\"俄罗斯新增440例新冠肺炎确诊病例 累计确诊2777例\",\"summary\":\"俄罗斯新冠肺炎疫情防控指挥部4月1日宣布，在过去的24小时，俄罗斯新增440例新冠肺炎确诊病例，全国累计确诊2777例。新增的440例确诊病例分布在俄罗斯的35个地区，其中莫斯科市的新增确诊病例数最多，为267例。根据俄官方公布的数据，在过去的一天中，共有69例新冠肺炎确诊病例治愈出院，累计达到190例，另有7人不幸离世，死亡病例达到24例。\",\"infoSource\":\"央视新闻app\",\"sourceUrl\":\"http://app.cctv.com/special/cportal/detail/arti/index.html?id=ArtibHPYSKjo35s1fX75Xqe7200401&isfromapp=1\",\"provinceId\":\"\"},{\"id\":21864,\"pubDate\":1585727700000,\"pubDateStr\":\"59分钟前\",\"title\":\"以色列新增新冠肺炎确诊病例233例 累计确诊5591例\",\"summary\":\"当地时间4月1日上午，以色列卫生部公布的最新疫情通报显示，在过去的12小时（3月31日晚22时至4月1日早10时），该国新冠肺炎确诊病例增加了233例，累计5591例；新增死亡1例，死亡累计21例；97人病情危重，其中76人已插管；226人康复。有数据显示，新冠肺炎疫情爆发以来，以色列每10万人中平均有53人被感染，绝大多数被感染者是在超正统犹太教城镇和社区，政府正在考虑对这些城镇实行全面封锁。\\xa0\",\"infoSource\":\"央视新闻app\",\"sourceUrl\":\"http://app.cctv.com/special/cportal/detail/arti/index.html?id=ArtiW6N81FOQ7o5i0S6oRF1R200401&isfromapp=1\",\"provinceId\":\"\"},{\"id\":21859,\"pubDate\":1585727209000,\"pubDateStr\":\"1小时前\",\"title\":\"摩洛哥4月1日新增21例新冠肺炎确诊病例\",\"summary\":\"摩洛哥卫生部4月1日早8时证实，该国当天增加新冠肺炎确诊病例21例。截至发稿时，摩洛哥共确诊新冠肺炎病例638例，累计死亡36人。从疫情开始至今，摩洛哥共有2561人病毒测试呈阴性，另有24人被治愈。（总台记者\\xa0 单既明）\",\"infoSource\":\"央视新闻app\",\"sourceUrl\":\"http://app.cctv.com/special/cportal/detail/arti/index.html?id=ArtiKqS5DUvL5yTtp7aVymBN200401&isfromapp=1\",\"provinceId\":\"\"},{\"id\":21854,\"pubDate\":1585726873000,\"pubDateStr\":\"1小时前\",\"title\":\"\\u200b乌克兰新增24例新冠肺炎确诊病例 首都基辅确诊人数最多\",\"summary\":\"据乌克兰卫生部消息，截至到当地时间4月1日10时，乌克兰新冠肺炎确诊病例累计达669例，较此前新增24例。其中17人死亡，10人治愈。乌克兰首都基辅确诊人数最多，截至目前共134人。基辅市市长克里琴科提出，对于违反隔离规定人员将处以罚款，第一次罚款17000格里夫纳（约人民币4400元），第二次罚款34000格里夫纳（约人民币8700元），第三次将被追究刑事责任。（总台记者 朱静）\",\"infoSource\":\"央视新闻app\",\"sourceUrl\":\"http://app.cctv.com/special/cportal/detail/arti/index.html?id=ArtitujefX7k7P4w6A4QzDSJ200401&isfromapp=1\",\"provinceId\":\"\"},{\"id\":21855,\"pubDate\":1585726614000,\"pubDateStr\":\"1小时前\",\"title\":\"安徽4月1日最新通报：无新增新冠肺炎确诊病例 现有无症状感染者7例\",\"summary\":\"2020年3月31日0-24时，安徽省报告无新增确诊病例，无新增疑似病例。截至3月31日24时，安徽省累计报告确诊病例990例，累计治愈出院病例984例，累计死亡病例6例，尚在医学观察345人，累计医学观察28981人。2020年3月31日0-24时，安徽省报告新增无症状感染者0例，转为确诊0例，解除隔离0例。尚在医学观察无症状感染者7例，\",\"infoSource\":\"央视新闻app\",\"sourceUrl\":\"http://app.cctv.com/special/cportal/detail/arti/index.html?id=ArtiSFXMRMXQVEZhOtUS2HeL200401&isfromapp=1\",\"provinceId\":\"\"},{\"id\":21852,\"pubDate\":1585726475000,\"pubDateStr\":\"1小时前\",\"title\":\"孟加拉国新增3例新冠肺炎确诊病例 累计确诊54例\",\"summary\":\"当地时间4月1日，孟加拉国卫生部长确认该国新增3例新冠肺炎确诊病例，死亡1例。截至目前，孟加拉国共确诊54例新冠肺炎确诊病例， 已治愈25例，死亡6例。（总台记者 孔佳佳）\",\"infoSource\":\"央视新闻app\",\"sourceUrl\":\"http://app.cctv.com/special/cportal/detail/arti/index.html?id=ArtiUmZXeTS3TczXNW6iR7AZ200401&isfromapp=1\",\"provinceId\":\"\"},{\"id\":21838,\"pubDate\":1585725405000,\"pubDateStr\":\"1小时前\",\"title\":\"\\u200b阿曼新增18例新冠肺炎确诊病例 累计210例\",\"summary\":\"据阿曼官方通讯社报道，当地时间4月1日，阿曼卫生部确认该国新增18例新冠肺炎确诊病例。截至目前，阿曼确诊新冠肺炎病例总数达到210例，其中已经治愈34例，死亡1例。阿曼卫生部呼吁所有公民和外籍居民加强预防，尽量待在家中，避免非必要的外出；一旦出现相应症状，须尽快到医院进行检查，并采取必要的医疗措施；不要听信和散播谣言，应从官方渠道获取准确信息。（总台记者 孙建）\",\"infoSource\":\"央视新闻app\",\"sourceUrl\":\"http://app.cctv.com/special/cportal/detail/arti/index.html?id=ArtiBR3pJ4OA4kQFAziAHFZf200401&isfromapp=1\",\"provinceId\":\"\"}]}catch(e){}',\n",
       " '截至北京时间 2020-04-01 08:59',\n",
       " '截至北京时间 2020-04-01 08:59',\n",
       " '当地时间3月31日，尼日尔卫生部发布公告，宣布尼日尔境内3月31日新增7例新冠肺炎确诊病例，截至目前该国累计共确诊34例，其中死亡3例。（总台记者 何绪）',\n",
       " '菲律宾卫生部发布公告称，截至1日下午4点，菲律宾当天共计新增227例新冠肺炎确诊病例，确诊病例累计达2311例。',\n",
       " '根据澳大利亚联邦卫生部4月1日最新统计，截至当地时间15时，澳大利亚新冠肺炎感染病例累计4860例，包括20个死亡病例，过去的24小时新增303例。新南威尔士州确诊2182例，维多利亚州确诊968例，昆士兰州确诊781例，西澳州确诊392例，南澳州确诊367例，北领地确诊18例，首都领地确诊84例，塔斯马尼亚州确诊68例。',\n",
       " '摩洛哥卫生部4月1日早8时证实，该国当天增加新冠肺炎确诊病例21例。截至发稿时，摩洛哥共确诊新冠肺炎病例638例，累计死亡36人。从疫情开始至今，摩洛哥共有2561人病毒测试呈阴性，另有24人被治愈。（总台记者\\xa0 单既明）',\n",
       " '据乌克兰卫生部消息，截至到当地时间4月1日10时，乌克兰新冠肺炎确诊病例累计达669例，较此前新增24例。其中17人死亡，10人治愈。乌克兰首都基辅确诊人数最多，截至目前共134人。基辅市市长克里琴科提出，对于违反隔离规定人员将处以罚款，第一次罚款17000格里夫纳（约人民币4400元），第二次罚款34000格里夫纳（约人民币8700元），第三次将被追究刑事责任。（总台记者 朱静）',\n",
       " '2020年3月31日0-24时，安徽省报告无新增确诊病例，无新增疑似病例。截至3月31日24时，安徽省累计报告确诊病例990例，累计治愈出院病例984例，累计死亡病例6例，尚在医学观察345人，累计医学观察28981人。2020年3月31日0-24时，安徽省报告新增无症状感染者0例，转为确诊0例，解除隔离0例。尚在医学观察无症状感染者7例，',\n",
       " '当地时间4月1日，孟加拉国卫生部长确认该国新增3例新冠肺炎确诊病例，死亡1例。截至目前，孟加拉国共确诊54例新冠肺炎确诊病例， 已治愈25例，死亡6例。（总台记者 孔佳佳）',\n",
       " '据阿曼官方通讯社报道，当地时间4月1日，阿曼卫生部确认该国新增18例新冠肺炎确诊病例。截至目前，阿曼确诊新冠肺炎病例总数达到210例，其中已经治愈34例，死亡1例。阿曼卫生部呼吁所有公民和外籍居民加强预防，尽量待在家中，避免非必要的外出；一旦出现相应症状，须尽快到医院进行检查，并采取必要的医疗措施；不要听信和散播谣言，应从官方渠道获取准确信息。（总台记者 孙建）']"
      ]
     },
     "execution_count": 6,
     "metadata": {},
     "output_type": "execute_result"
    }
   ],
   "source": [
    "data = soup.findAll(text=re.compile(\"截至.+\"))\n",
    "data"
   ]
  },
  {
   "cell_type": "code",
   "execution_count": 7,
   "metadata": {},
   "outputs": [
    {
     "data": {
      "text/plain": [
       "'2020-04-01 08:59'"
      ]
     },
     "execution_count": 7,
     "metadata": {},
     "output_type": "execute_result"
    }
   ],
   "source": [
    "for s in data:\n",
    "    m = re.search(\"截至.*(202\\d-\\d+-\\d+ \\d+:\\d+)\", s)\n",
    "    if m is not None:\n",
    "        data_date_time = m.group(1)\n",
    "data_date_time"
   ]
  },
  {
   "cell_type": "markdown",
   "metadata": {},
   "source": [
    "### Extract data (summary)"
   ]
  },
  {
   "cell_type": "code",
   "execution_count": 8,
   "metadata": {},
   "outputs": [
    {
     "data": {
      "text/plain": [
       "['try { window.getStatisticsService = {\"id\":1,\"createTime\":1579537899000,\"modifyTime\":1585731586000,\"infectSource\":\"该字段已替换为说明2\",\"passWay\":\"该字段已替换为说明3\",\"imgUrl\":\"https://img1.dxycdn.com/2020/0201/450/3394153392393266839-135.png\",\"dailyPic\":\"https://img1.dxycdn.com/2020/0211/763/3395998884005602079-135.png,https://img1.dxycdn.com/2020/0211/362/3395998896890788910-135.png,https://img1.dxycdn.com/2020/0211/365/3395998905480724211-135.png,https://img1.dxycdn.com/2020/0211/364/3395998916217859778-135.png,https://img1.dxycdn.com/2020/0211/922/3395998929103046444-135.png,https://img1.dxycdn.com/2020/0211/089/3395998939840182072-135.png\",\"dailyPics\":[\"https://img1.dxycdn.com/2020/0211/763/3395998884005602079-135.png\",\"https://img1.dxycdn.com/2020/0211/362/3395998896890788910-135.png\",\"https://img1.dxycdn.com/2020/0211/365/3395998905480724211-135.png\",\"https://img1.dxycdn.com/2020/0211/364/3395998916217859778-135.png\",\"https://img1.dxycdn.com/2020/0211/922/3395998929103046444-135.png\",\"https://img1.dxycdn.com/2020/0211/089/3395998939840182072-135.png\"],\"summary\":\"\",\"deleted\":false,\"countRemark\":\"\",\"currentConfirmedCount\":2895,\"confirmedCount\":82631,\"suspectedCount\":806,\"curedCount\":76415,\"deadCount\":3321,\"seriousCount\":466,\"suspectedIncr\":35,\"currentConfirmedIncr\":-111,\"confirmedIncr\":86,\"curedIncr\":190,\"deadIncr\":7,\"seriousIncr\":-62,\"virus\":\"该字段已替换为说明1\",\"remark1\":\"易感人群：人群普遍易感。老年人及有基础疾病者感染后病情较重，儿童及婴幼儿也有发病\",\"remark2\":\"潜伏期：一般为 3～7 天，最长不超过 14 天，潜伏期内可能存在传染性，其中无症状病例传染性非常罕见\",\"remark3\":\"宿主：野生动物，可能为中华菊头蝠\",\"remark4\":\"\",\"remark5\":\"\",\"note1\":\"病毒：SARS-CoV-2，其导致疾病命名 COVID-19\",\"note2\":\"传染源：新冠肺炎的患者。无症状感染者也可能成为传染源。\",\"note3\":\"传播途径：经呼吸道飞沫、接触传播是主要的传播途径。气溶胶传播和消化道等传播途径尚待明确。\",\"generalRemark\":\"1. 3 月 12 日国家卫健委确诊补订遗漏 12 例确诊病例（非 12 日新增），暂无具体省份信息。 2. 浙江省 12 例外省治愈暂无具体省份信息。\",\"abroadRemark\":\"\",\"marquee\":[{\"id\":1842,\"marqueeLabel\":\"悬而未决\",\"marqueeContent\":\"新冠病毒，这九个问题我们尚无答案\",\"marqueeLink\":\"https://dxy.me/ErQKok\"},{\"id\":1843,\"marqueeLabel\":\"透明公开\",\"marqueeContent\":\"4 月 1 日起公布无症状感染者情况\",\"marqueeLink\":\"https://dxy.me/TbYdJL\"},{\"id\":1844,\"marqueeLabel\":\"数字新冠\",\"marqueeContent\":\"3 月 31 日，世界因新冠而变\",\"marqueeLink\":\"https://dxy.me/alW4rS\"}],\"quanguoTrendChart\":[{\"imgUrl\":\"https://img1.dxycdn.com/2020/0324/278/3403801351376518263-135.png\",\"title\":\"新增疑似/新增确诊\"},{\"imgUrl\":\"https://img1.dxycdn.com/2020/0324/812/3403847865872006755-135.png\",\"title\":\"境外输入\"},{\"imgUrl\":\"https://img1.dxycdn.com/2020/0324/547/3403847848692336947-135.png\",\"title\":\"现存确诊\"},{\"imgUrl\":\"https://img1.dxycdn.com/2020/0324/775/3403801407211095604-135.png\",\"title\":\"治愈\"},{\"imgUrl\":\"https://img1.dxycdn.com/2020/0324/250/3403801424390727199-135.png\",\"title\":\"死亡\"}],\"hbFeiHbTrendChart\":[{\"imgUrl\":\"https://img1.dxycdn.com/2020/0326/624/3404177508906904585-135.png\",\"title\":\"非湖北新增确诊\"},{\"imgUrl\":\"https://img1.dxycdn.com/2020/0326/777/3404177532529485065-135.png\",\"title\":\"湖北新增确诊\"},{\"imgUrl\":\"https://img1.dxycdn.com/2020/0326/376/3404177556151805921-135.png\",\"title\":\"湖北现存确诊\"},{\"imgUrl\":\"https://img1.dxycdn.com/2020/0326/527/3404177575478899995-135.png\",\"title\":\"非湖北现存确诊\"},{\"imgUrl\":\"https://img1.dxycdn.com/2020/0326/419/3404177596953996726-135.png\",\"title\":\"治愈/死亡\"}],\"foreignTrendChart\":[{\"imgUrl\":\"https://img1.dxycdn.com/2020/0320/702/3403079914982117944-135.png\",\"title\":\"国外新增确诊\"},{\"imgUrl\":\"https://img1.dxycdn.com/2020/0320/396/3403079925719536561-135.png\",\"title\":\"国外累计确诊\"},{\"imgUrl\":\"https://img1.dxycdn.com/2020/0320/139/3403079936457225524-135.png\",\"title\":\"国外死亡\"}],\"importantForeignTrendChart\":[{\"imgUrl\":\"https://img1.dxycdn.com/2020/0320/450/3403077453965772423-135.png\",\"title\":\"重点国家新增确诊\"},{\"imgUrl\":\"https://img1.dxycdn.com/2020/0320/276/3403077462555980566-135.png\",\"title\":\"日本新增确诊\"},{\"imgUrl\":\"https://img1.dxycdn.com/2020/0320/340/3403077473293125942-135.png\",\"title\":\"意大利新增确诊\"},{\"imgUrl\":\"https://img1.dxycdn.com/2020/0320/723/3403077481883334043-135.png\",\"title\":\"伊朗新增确诊\"},{\"imgUrl\":\"https://img1.dxycdn.com/2020/0320/266/3403077492620752785-135.png\",\"title\":\"美国新增确诊\"},{\"imgUrl\":\"https://img1.dxycdn.com/2020/0320/870/3403077503358171278-135.png\",\"title\":\"法国新增确诊\"},{\"imgUrl\":\"https://img1.dxycdn.com/2020/0320/053/3403077511947832997-135.png\",\"title\":\"德国新增确诊\"},{\"imgUrl\":\"https://img1.dxycdn.com/2020/0320/878/3403077520537768006-135.png\",\"title\":\"西班牙新增确诊\"},{\"imgUrl\":\"https://img1.dxycdn.com/2020/0320/443/3403077531275186665-135.png\",\"title\":\"韩国新增确诊\"}],\"foreignTrendChartGlobal\":[{\"imgUrl\":\"https://img1.dxycdn.com/2020/0319/740/3402859458605738923-135.png\",\"title\":\"Daily New Cases\"},{\"imgUrl\":\"https://img1.dxycdn.com/2020/0319/351/3402856772103846114-135.png\",\"title\":\"Total Confirmed Cases\"},{\"imgUrl\":\"https://img1.dxycdn.com/2020/0319/236/3402856782841001789-135.png\",\"title\":\"Total Deaths Cases\"}],\"importantForeignTrendChartGlobal\":[{\"imgUrl\":\"https://img1.dxycdn.com/2020/0319/122/3402856838675578578-135.png\",\"title\":\"Daily New Cases\"},{\"imgUrl\":\"https://img1.dxycdn.com/2020/0319/685/3402856849412997239-135.png\",\"title\":\"Japan\"},{\"imgUrl\":\"https://img1.dxycdn.com/2020/0319/477/3402856860150678804-135.png\",\"title\":\"Italy\"},{\"imgUrl\":\"https://img1.dxycdn.com/2020/0319/454/3402856873035581014-135.png\",\"title\":\"Iran\"},{\"imgUrl\":\"https://img1.dxycdn.com/2020/0319/022/3402856883772999714-135.png\",\"title\":\"U.S.A.\"},{\"imgUrl\":\"https://img1.dxycdn.com/2020/0319/529/3402856894510155506-135.png\",\"title\":\"France\"},{\"imgUrl\":\"https://img1.dxycdn.com/2020/0319/211/3402856905247574064-135.png\",\"title\":\"Germany\"},{\"imgUrl\":\"https://img1.dxycdn.com/2020/0319/054/3402856913837508985-135.png\",\"title\":\"Spain\"},{\"imgUrl\":\"https://img1.dxycdn.com/2020/0319/088/3402856928870157852-135.png\",\"title\":\"Republic of Korea\"}],\"foreignStatistics\":{\"currentConfirmedCount\":641122,\"confirmedCount\":770752,\"suspectedCount\":4,\"curedCount\":91047,\"deadCount\":38583,\"suspectedIncr\":0,\"currentConfirmedIncr\":9643,\"confirmedIncr\":10406,\"curedIncr\":319,\"deadIncr\":444},\"globalStatistics\":{\"currentConfirmedCount\":644017,\"confirmedCount\":853383,\"curedCount\":167462,\"deadCount\":41904,\"currentConfirmedIncr\":9532,\"confirmedIncr\":10492,\"curedIncr\":509,\"deadIncr\":451},\"globalOtherTrendChartData\":\"https://file1.dxycdn.com/2020/0401/955/3405278646180191761-135.json\"}}catch(e){}']"
      ]
     },
     "execution_count": 8,
     "metadata": {},
     "output_type": "execute_result"
    }
   ],
   "source": [
    "data = soup.findAll(text=re.compile('\\\"summary.+\\\"confirmedCount\\\":\\d'))\n",
    "\n",
    "data\n"
   ]
  },
  {
   "cell_type": "code",
   "execution_count": 9,
   "metadata": {},
   "outputs": [],
   "source": [
    "m = re.search('\\\"confirmedCount\\\":(\\d+)', data[0])\n",
    "summary_confirmed_count = int(m.group(1))\n",
    "\n",
    "\n",
    "m = re.search('\\\"curedCount\\\":(\\d+)', data[0])\n",
    "summary_cured_count = int(m.group(1))\n",
    "\n",
    "m = re.search('\\\"deadCount\\\":(\\d+)', data[0])\n",
    "summary_dead_count = int(m.group(1))\n"
   ]
  },
  {
   "cell_type": "code",
   "execution_count": 10,
   "metadata": {},
   "outputs": [
    {
     "data": {
      "text/html": [
       "<div>\n",
       "<style scoped>\n",
       "    .dataframe tbody tr th:only-of-type {\n",
       "        vertical-align: middle;\n",
       "    }\n",
       "\n",
       "    .dataframe tbody tr th {\n",
       "        vertical-align: top;\n",
       "    }\n",
       "\n",
       "    .dataframe thead th {\n",
       "        text-align: right;\n",
       "    }\n",
       "</style>\n",
       "<table border=\"1\" class=\"dataframe\">\n",
       "  <thead>\n",
       "    <tr style=\"text-align: right;\">\n",
       "      <th></th>\n",
       "      <th>datetime</th>\n",
       "      <th>confirmed</th>\n",
       "      <th>cured</th>\n",
       "      <th>dead</th>\n",
       "    </tr>\n",
       "  </thead>\n",
       "  <tbody>\n",
       "    <tr>\n",
       "      <th>0</th>\n",
       "      <td>2020-04-01 08:59</td>\n",
       "      <td>82631</td>\n",
       "      <td>76415</td>\n",
       "      <td>3321</td>\n",
       "    </tr>\n",
       "  </tbody>\n",
       "</table>\n",
       "</div>"
      ],
      "text/plain": [
       "           datetime  confirmed  cured  dead\n",
       "0  2020-04-01 08:59      82631  76415  3321"
      ]
     },
     "execution_count": 10,
     "metadata": {},
     "output_type": "execute_result"
    }
   ],
   "source": [
    "# make a dataframe\n",
    "df = pd.DataFrame({\n",
    "    'datetime': data_date_time,\n",
    "    'confirmed': summary_confirmed_count,\n",
    "    'cured': summary_cured_count,\n",
    "    'dead': summary_dead_count\n",
    "}, index=[0])\n",
    "df"
   ]
  },
  {
   "cell_type": "markdown",
   "metadata": {},
   "source": [
    "### Save to file"
   ]
  },
  {
   "cell_type": "code",
   "execution_count": 11,
   "metadata": {},
   "outputs": [],
   "source": [
    "from pathlib import Path\n",
    "csv_file = '../data/china-summary-cases.csv'\n",
    "\n",
    "if Path(csv_file).exists():\n",
    "    # read out the old data - then merge with new data and remove duplicates based on datetime\n",
    "    old_df = pd.read_csv(csv_file)\n",
    "    df = df.append(old_df)\n",
    "df.drop_duplicates(subset=['datetime'], inplace=True)"
   ]
  },
  {
   "cell_type": "code",
   "execution_count": 12,
   "metadata": {},
   "outputs": [],
   "source": [
    "df.sort_values(by=['datetime'], inplace=True)\n",
    "\n",
    "df.to_csv(csv_file, index=False)\n"
   ]
  },
  {
   "cell_type": "markdown",
   "metadata": {},
   "source": [
    "### Plot graph"
   ]
  },
  {
   "cell_type": "code",
   "execution_count": 13,
   "metadata": {},
   "outputs": [],
   "source": [
    "import seaborn as sns\n",
    "import matplotlib.pyplot as plt\n",
    "from pandas.plotting import register_matplotlib_converters\n",
    "register_matplotlib_converters()\n",
    "\n",
    "png_file = '../images/china-summary-cases.png'\n",
    "# convert to pd.datetime\n",
    "df['datetime_idx'] = pd.to_datetime(df['datetime'], format=\"%Y-%m-%d %H:%M\")\n",
    "\n",
    "df.set_index('datetime_idx', inplace=True)\n",
    "df.drop(['datetime'], axis=1, inplace=True)\n"
   ]
  },
  {
   "cell_type": "code",
   "execution_count": 14,
   "metadata": {},
   "outputs": [
    {
     "data": {
      "text/html": [
       "<div>\n",
       "<style scoped>\n",
       "    .dataframe tbody tr th:only-of-type {\n",
       "        vertical-align: middle;\n",
       "    }\n",
       "\n",
       "    .dataframe tbody tr th {\n",
       "        vertical-align: top;\n",
       "    }\n",
       "\n",
       "    .dataframe thead th {\n",
       "        text-align: right;\n",
       "    }\n",
       "</style>\n",
       "<table border=\"1\" class=\"dataframe\">\n",
       "  <thead>\n",
       "    <tr style=\"text-align: right;\">\n",
       "      <th></th>\n",
       "      <th>confirmed</th>\n",
       "      <th>cured</th>\n",
       "      <th>dead</th>\n",
       "    </tr>\n",
       "    <tr>\n",
       "      <th>datetime_idx</th>\n",
       "      <th></th>\n",
       "      <th></th>\n",
       "      <th></th>\n",
       "    </tr>\n",
       "  </thead>\n",
       "  <tbody>\n",
       "    <tr>\n",
       "      <th>2020-02-02 10:22:00</th>\n",
       "      <td>14483</td>\n",
       "      <td>379</td>\n",
       "      <td>304</td>\n",
       "    </tr>\n",
       "    <tr>\n",
       "      <th>2020-02-02 10:28:00</th>\n",
       "      <td>14483</td>\n",
       "      <td>380</td>\n",
       "      <td>304</td>\n",
       "    </tr>\n",
       "    <tr>\n",
       "      <th>2020-02-02 11:19:00</th>\n",
       "      <td>14489</td>\n",
       "      <td>385</td>\n",
       "      <td>304</td>\n",
       "    </tr>\n",
       "    <tr>\n",
       "      <th>2020-02-02 11:54:00</th>\n",
       "      <td>14489</td>\n",
       "      <td>397</td>\n",
       "      <td>304</td>\n",
       "    </tr>\n",
       "    <tr>\n",
       "      <th>2020-02-02 15:01:00</th>\n",
       "      <td>14490</td>\n",
       "      <td>430</td>\n",
       "      <td>304</td>\n",
       "    </tr>\n",
       "    <tr>\n",
       "      <th>...</th>\n",
       "      <td>...</td>\n",
       "      <td>...</td>\n",
       "      <td>...</td>\n",
       "    </tr>\n",
       "    <tr>\n",
       "      <th>2020-04-01 04:42:00</th>\n",
       "      <td>82617</td>\n",
       "      <td>76239</td>\n",
       "      <td>3315</td>\n",
       "    </tr>\n",
       "    <tr>\n",
       "      <th>2020-04-01 05:55:00</th>\n",
       "      <td>82631</td>\n",
       "      <td>76415</td>\n",
       "      <td>3321</td>\n",
       "    </tr>\n",
       "    <tr>\n",
       "      <th>2020-04-01 06:40:00</th>\n",
       "      <td>82631</td>\n",
       "      <td>76415</td>\n",
       "      <td>3321</td>\n",
       "    </tr>\n",
       "    <tr>\n",
       "      <th>2020-04-01 07:56:00</th>\n",
       "      <td>82631</td>\n",
       "      <td>76415</td>\n",
       "      <td>3321</td>\n",
       "    </tr>\n",
       "    <tr>\n",
       "      <th>2020-04-01 08:59:00</th>\n",
       "      <td>82631</td>\n",
       "      <td>76415</td>\n",
       "      <td>3321</td>\n",
       "    </tr>\n",
       "  </tbody>\n",
       "</table>\n",
       "<p>904 rows × 3 columns</p>\n",
       "</div>"
      ],
      "text/plain": [
       "                     confirmed  cured  dead\n",
       "datetime_idx                               \n",
       "2020-02-02 10:22:00      14483    379   304\n",
       "2020-02-02 10:28:00      14483    380   304\n",
       "2020-02-02 11:19:00      14489    385   304\n",
       "2020-02-02 11:54:00      14489    397   304\n",
       "2020-02-02 15:01:00      14490    430   304\n",
       "...                        ...    ...   ...\n",
       "2020-04-01 04:42:00      82617  76239  3315\n",
       "2020-04-01 05:55:00      82631  76415  3321\n",
       "2020-04-01 06:40:00      82631  76415  3321\n",
       "2020-04-01 07:56:00      82631  76415  3321\n",
       "2020-04-01 08:59:00      82631  76415  3321\n",
       "\n",
       "[904 rows x 3 columns]"
      ]
     },
     "execution_count": 14,
     "metadata": {},
     "output_type": "execute_result"
    }
   ],
   "source": [
    "df"
   ]
  },
  {
   "cell_type": "code",
   "execution_count": 15,
   "metadata": {
    "scrolled": true
   },
   "outputs": [
    {
     "data": {
      "image/png": "[encoded data removed]",
      "text/plain": [
       "<Figure size 1008x1008 with 3 Axes>"
      ]
     },
     "metadata": {},
     "output_type": "display_data"
    }
   ],
   "source": [
    "if df.shape[0]>1:\n",
    "    # line chart when having at least a few points\n",
    "    sns.set(rc={'figure.figsize':(14,14)})\n",
    "    sns.set(style=\"whitegrid\")\n",
    "\n",
    "    fig, axs = plt.subplots(nrows=3)\n",
    "\n",
    "    sns.lineplot(x=df.index, y = 'confirmed', data=df, ax= axs[0], estimator=None, color='orange')\n",
    "    sns.lineplot(x=df.index, y = 'cured', data=df, ax= axs[1], estimator=None, color='green')\n",
    "    sns.lineplot(x=df.index, y = 'dead', data=df, ax= axs[2], estimator=None, color='darkred')\n",
    "\n",
    "    for ax in axs:\n",
    "        ax.set_xlabel('')\n",
    "        ax.tick_params(axis='x', labelrotation=30)\n",
    "else:\n",
    "\n",
    "    ax = df.plot(kind='bar', stacked=True, figsize=(9,6))\n",
    "    fig = ax.get_figure()\n",
    "    ax.set_xlabel('')\n",
    "    for label in ax.get_xticklabels():\n",
    "        label.set_rotation(0) \n"
   ]
  },
  {
   "cell_type": "code",
   "execution_count": 16,
   "metadata": {},
   "outputs": [],
   "source": [
    "fig.savefig(png_file)"
   ]
  },
  {
   "cell_type": "code",
   "execution_count": null,
   "metadata": {},
   "outputs": [],
   "source": []
  },
  {
   "cell_type": "code",
   "execution_count": null,
   "metadata": {},
   "outputs": [],
   "source": []
  }
 ],
 "metadata": {
  "kernelspec": {
   "display_name": "Python 3",
   "language": "python",
   "name": "python3"
  },
  "language_info": {
   "codemirror_mode": {
    "name": "ipython",
    "version": 3
   },
   "file_extension": ".py",
   "mimetype": "text/x-python",
   "name": "python",
   "nbconvert_exporter": "python",
   "pygments_lexer": "ipython3",
   "version": "3.7.6"
  }
 },
 "nbformat": 4,
 "nbformat_minor": 2
}
