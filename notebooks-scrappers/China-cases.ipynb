{
 "cells": [
  {
   "cell_type": "code",
   "execution_count": 1,
   "metadata": {},
   "outputs": [],
   "source": [
    "import pandas as pd\n",
    "import requests\n",
    "from bs4 import BeautifulSoup\n",
    "import re\n",
    "from datetime import datetime\n",
    "from selenium import webdriver\n",
    "from selenium.webdriver.chrome.options import Options  \n"
   ]
  },
  {
   "cell_type": "code",
   "execution_count": 2,
   "metadata": {},
   "outputs": [
    {
     "data": {
      "text/plain": [
       "datetime.datetime(2020, 3, 26, 17, 7, 55, 649426)"
      ]
     },
     "execution_count": 2,
     "metadata": {},
     "output_type": "execute_result"
    }
   ],
   "source": [
    "datetime.now()"
   ]
  },
  {
   "cell_type": "code",
   "execution_count": 3,
   "metadata": {},
   "outputs": [],
   "source": [
    "chrome_options = Options()  \n",
    "chrome_options.add_argument(\"--headless\")  \n",
    "chrome_options.add_argument(\"--no-sandbox\")\n",
    "\n",
    "driver = webdriver.Chrome('chromedriver', options=chrome_options)"
   ]
  },
  {
   "cell_type": "code",
   "execution_count": 4,
   "metadata": {},
   "outputs": [],
   "source": [
    "url = 'https://ncov.dxy.cn/ncovh5/view/pneumonia'\n",
    "driver.get(url)"
   ]
  },
  {
   "cell_type": "markdown",
   "metadata": {},
   "source": [
    "### Extract date"
   ]
  },
  {
   "cell_type": "code",
   "execution_count": 5,
   "metadata": {},
   "outputs": [],
   "source": [
    "content = driver.page_source\n",
    "soup =BeautifulSoup(content, 'lxml')\n"
   ]
  },
  {
   "cell_type": "code",
   "execution_count": 6,
   "metadata": {},
   "outputs": [
    {
     "data": {
      "text/plain": [
       "['try { window.getTimelineService1 = [{\"id\":16656,\"pubDate\":1585241061000,\"pubDateStr\":\"7分钟前\",\"title\":\"斯里兰卡新冠肺炎累计确诊病例升至106例\",\"summary\":\"当地时间3月26日，斯里兰卡官方表示该国新冠肺炎累计确诊病例升至106例。其中6例已经治愈。另有237人目前正在医院内接受医学观察。斯里兰卡于20日晚起在实施禁止外出的临时措施，该措施原定于至23日早晨失效，但斯政府在部分地区多次延长该措施时效。（总台记者 高瞻）\",\"infoSource\":\"央视新闻app\",\"sourceUrl\":\"http://app.cctv.com/special/cportal/detail/arti/index.html?id=ArtirkiszrL2azz8kRwqr6zM200327&isfromapp=1\",\"provinceId\":\"\"},{\"id\":16658,\"pubDate\":1585240878000,\"pubDateStr\":\"10分钟前\",\"title\":\"印度新冠肺炎确诊病例累计升至694例\",\"summary\":\"印度卫生部官网26日晚间最新数据显示，目前印度新冠肺炎累计确诊病例升至694例，其中治愈44例，死亡16例。（总台记者 李琳）\",\"infoSource\":\"央视新闻app\",\"sourceUrl\":\"http://app.cctv.com/special/cportal/detail/arti/index.html?id=ArtiYZAFxVEyj2SijPxQGfNB200327&isfromapp=1\",\"provinceId\":\"\"},{\"id\":16636,\"pubDate\":1585239918000,\"pubDateStr\":\"26分钟前\",\"title\":\"天津26日18时至21时新增境外输入确诊病例1例\",\"summary\":\"3月26日18时至21时，天津无新增报告本地新冠肺炎确诊病例。新增报告1例境外输入确诊病例（中国籍），累计报告境外输入确诊病例16例（其中重型3例、普通型8例、轻型4例、分型待定1例；中国籍15例、法国籍1例）。\",\"infoSource\":\"央视新闻app\",\"sourceUrl\":\"http://app.cctv.com/special/cportal/detail/arti/index.html?id=Arti9lG8ulSHaqznE9xTZ9jw200327&isfromapp=1\",\"provinceId\":\"\"},{\"id\":16625,\"pubDate\":1585239701000,\"pubDateStr\":\"30分钟前\",\"title\":\"意大利医务人员感染新冠肺炎人数已达6205人\",\"summary\":\"据意大利安莎社26日报道，意大利高等卫生研究院最新统计数据显示，已有6205名医务人员感染新冠病毒，约占全国总确诊病例的9%。同时因新冠肺炎死亡的医生已达39人。\",\"infoSource\":\"央视新闻app\",\"sourceUrl\":\"http://app.cctv.com/special/cportal/detail/arti/index.html?id=Arti5Un9AKm91HiY3x3UDFOG200326&isfromapp=1\",\"provinceId\":\"\"},{\"id\":16626,\"pubDate\":1585239684000,\"pubDateStr\":\"30分钟前\",\"title\":\"莫桑比克新增2例新冠肺炎确诊病例 累计7例\",\"summary\":\"3月26日下午，莫桑比克卫生部部长公布了两例新增新冠肺炎确诊病例。截至目前，莫桑比克共有7例确诊病例，其中6例都是输入病例，另外一例为国内传播的病例。 （总台记者 史跃）\",\"infoSource\":\"央视新闻app\",\"sourceUrl\":\"http://app.cctv.com/special/cportal/detail/arti/index.html?id=Arti5yrAp82ljWNjFRJlopEY200326&isfromapp=1\",\"provinceId\":\"\"},{\"id\":16627,\"pubDate\":1585239640000,\"pubDateStr\":\"31分钟前\",\"title\":\"加拿大新冠肺炎感染病例增至3579个\",\"summary\":\"加拿大安大略省当地时间26日宣布，该省再次出现病例大幅增加的情况，新增170例。目前累计已达858例，死亡病例13例。截至发稿，加拿大新冠肺炎确诊病例共计3579例，死亡36例。（总台记者 张森）\",\"infoSource\":\"央视新闻app\",\"sourceUrl\":\"http://app.cctv.com/special/cportal/detail/arti/index.html?id=Arti3fwdDwjMoC4QgkSJ84jX200327&isfromapp=1\",\"provinceId\":\"\"},{\"id\":16629,\"pubDate\":1585239608000,\"pubDateStr\":\"31分钟前\",\"title\":\"\\u200b希腊新增71例新冠肺炎确诊病例 累计确诊892例\",\"summary\":\"希腊卫生部3月26日发布信息，希腊新增71例新冠肺炎确诊病例，自疫情出现以来，希腊累计确诊感染者达892例。在过去的24小时内，希腊又出现了4例确诊感染者死亡的情况，累计死亡达到26例。（总台记者 王玉国）\",\"infoSource\":\"央视新闻app\",\"sourceUrl\":\"http://app.cctv.com/special/cportal/detail/arti/index.html?id=Arti0KyLyMcZXNsAiBu0gOnd200327&isfromapp=1\",\"provinceId\":\"\"},{\"id\":16595,\"pubDate\":1585238359000,\"pubDateStr\":\"52分钟前\",\"title\":\"南非新增新冠肺炎确诊病例218例 累计确诊927例\",\"summary\":\"3月26日南非卫生部确认南非当天新增218例患者，累计确诊病例927例。各省份人数如下：豪登省：409西开普省：229夸祖鲁-纳塔尔省：134自由州省：49北开普省：5普马兰加省：9林波波省：6东开普省：5北开普省：2未知：79（总台记者 周涛）\",\"infoSource\":\"央视新闻app\",\"sourceUrl\":\"http://app.cctv.com/special/cportal/detail/arti/index.html?id=ArtihKMRQMaEUUO0RWu6kk2h200326&isfromapp=1\",\"provinceId\":\"\"},{\"id\":16584,\"pubDate\":1585237440000,\"pubDateStr\":\"1小时前\",\"title\":\"重庆：对所有入境来渝人员一律实施14天集中隔离医学观察\",\"summary\":\"据重庆市新冠肺炎疫情防控工作领导小组综合办公室最新消息: 随着境外疫情蔓延带来的输入性风险持续增加，为进一步做好防控境外疫情输入工作，经研究决定，自26日起，对所有入境来渝的人员，一律实施为期14天的集中隔离医学观察(对入境的外交人员和从事重要经贸、科研、技术合作的人员，另有规定的按规定执行)。各区县、市级有关部门要严格落实联防联控责任，严防境外疫情输入。（总台央视记者 唐巍 法绮）\\xa0 \\xa0\",\"infoSource\":\"央视新闻app\",\"sourceUrl\":\"http://app.cctv.com/special/cportal/detail/arti/index.html?id=ArtinWP1Ni4gOHhJYKlFYFJc200326&isfromapp=1\",\"provinceId\":\"\"},{\"id\":16550,\"pubDate\":1585235470000,\"pubDateStr\":\"1小时前\",\"title\":\"全国进入隔离状态 阿塞拜疆新冠肺炎确诊病例升至122例\",\"summary\":\"据俄新社援引阿塞拜疆政府疫情防控指挥部3月26日消息，阿塞拜疆境内当日新增确诊新冠肺炎病例29例，累计确诊病例升至122例，其中15人治愈出院，3人死亡。为防止新冠肺炎疫情蔓延，阿塞拜疆政府宣布自3月24日起至4月20日全国进入隔离状态，实行包括禁止65周岁以上老年人外出、暂停跨区和跨市客运、关闭大型购物中心等管控措施。（总台记者 宋瑶）\",\"infoSource\":\"央视新闻app\",\"sourceUrl\":\"http://app.cctv.com/special/cportal/detail/arti/index.html?id=ArtiARdkS3j1Vg2GllZ36DG4200326&isfromapp=1\",\"provinceId\":\"\"},{\"id\":16551,\"pubDate\":1585235460000,\"pubDateStr\":\"1小时前\",\"title\":\"外交部：28日起暂停持有效中国签证 居留许可的外国人入境\",\"summary\":\"外交部、国家移民管理局发布公告：自2020年3月28日0时起，暂停持有效中国签证、居留许可的外国人入境。\",\"infoSource\":\"央视新闻app\",\"sourceUrl\":\"http://app.cctv.com/special/cportal/detail/arti/index.html?id=Arti815nK1oFb67pULKA6WeR200326&isfromapp=1\",\"provinceId\":\"\"},{\"id\":16558,\"pubDate\":1585235380000,\"pubDateStr\":\"1小时前\",\"title\":\"意大利超6千医务人员感染新冠肺炎\",\"summary\":\"据意大利安莎社26日报道，意大利高等卫生研究院最新统计数据显示，意大利已有6205名医务人员感染新冠病毒，约占全国总确诊病例的9%；因新冠肺炎死亡的医生达37人。（总台记者殷欣） \",\"infoSource\":\"央视新闻\",\"sourceUrl\":\"http://m.weibo.cn/2656274875/4486864746776341\",\"provinceId\":\"\"},{\"id\":16552,\"pubDate\":1585235353000,\"pubDateStr\":\"1小时前\",\"title\":\"毛里求斯新增29例新冠肺炎确诊病例 累计确诊81例\",\"summary\":\"毛里求斯卫生部于当地时间3月26日下午发布消息称，毛里求斯新增29例确诊新冠肺炎病例，累计确诊数从原来的52例上升到81例，累计2例死亡，现存确诊79例。（总台记者 顾雪嘉）\",\"infoSource\":\"央视新闻app\",\"sourceUrl\":\"http://app.cctv.com/special/cportal/detail/arti/index.html?id=ArtiehitaDxSAgLlKnpJOXwG200326&isfromapp=1\",\"provinceId\":\"\"},{\"id\":16543,\"pubDate\":1585234975000,\"pubDateStr\":\"1小时前\",\"title\":\"赞比亚累计新冠肺炎确诊病例增至16例\",\"summary\":\"当地时间3月26日，赞比亚卫生部召开了新闻发布会， 赞比亚卫生部长奇塔卢·奇卢菲亚在会上通报了截至当地时间3月26日，赞比亚境内新冠肺炎确诊病例比当地时间3月25日又新增4例，累计增至16例。\",\"infoSource\":\"央视新闻app\",\"sourceUrl\":\"http://app.cctv.com/special/cportal/detail/arti/index.html?id=ArtizQLkrgzwP2WybkWP4A43200326&isfromapp=1\",\"provinceId\":\"\"}]}catch(e){}',\n",
       " '截至北京时间 2020-03-26 17:03',\n",
       " '截至北京时间 2020-03-26 17:03',\n",
       " '3月26日下午，莫桑比克卫生部部长公布了两例新增新冠肺炎确诊病例。截至目前，莫桑比克共有7例确诊病例，其中6例都是输入病例，另外一例为国内传播的病例。 （总台记者 史跃）',\n",
       " '加拿大安大略省当地时间26日宣布，该省再次出现病例大幅增加的情况，新增170例。目前累计已达858例，死亡病例13例。截至发稿，加拿大新冠肺炎确诊病例共计3579例，死亡36例。（总台记者 张森）',\n",
       " '当地时间3月26日，赞比亚卫生部召开了新闻发布会， 赞比亚卫生部长奇塔卢·奇卢菲亚在会上通报了截至当地时间3月26日，赞比亚境内新冠肺炎确诊病例比当地时间3月25日又新增4例，累计增至16例。']"
      ]
     },
     "execution_count": 6,
     "metadata": {},
     "output_type": "execute_result"
    }
   ],
   "source": [
    "data = soup.findAll(text=re.compile(\"截至.+\"))\n",
    "data"
   ]
  },
  {
   "cell_type": "code",
   "execution_count": 7,
   "metadata": {},
   "outputs": [
    {
     "data": {
      "text/plain": [
       "'2020-03-26 17:03'"
      ]
     },
     "execution_count": 7,
     "metadata": {},
     "output_type": "execute_result"
    }
   ],
   "source": [
    "for s in data:\n",
    "    m = re.search(\"截至.*(202\\d-\\d+-\\d+ \\d+:\\d+)\", s)\n",
    "    if m is not None:\n",
    "        data_date_time = m.group(1)\n",
    "data_date_time"
   ]
  },
  {
   "cell_type": "markdown",
   "metadata": {},
   "source": [
    "### Extract data (summary)"
   ]
  },
  {
   "cell_type": "code",
   "execution_count": 8,
   "metadata": {},
   "outputs": [
    {
     "data": {
      "text/plain": [
       "['try { window.getStatisticsService = {\"id\":1,\"createTime\":1579537899000,\"modifyTime\":1585242185000,\"infectSource\":\"该字段已替换为说明2\",\"passWay\":\"该字段已替换为说明3\",\"imgUrl\":\"https://img1.dxycdn.com/2020/0201/450/3394153392393266839-135.png\",\"dailyPic\":\"https://img1.dxycdn.com/2020/0211/763/3395998884005602079-135.png,https://img1.dxycdn.com/2020/0211/362/3395998896890788910-135.png,https://img1.dxycdn.com/2020/0211/365/3395998905480724211-135.png,https://img1.dxycdn.com/2020/0211/364/3395998916217859778-135.png,https://img1.dxycdn.com/2020/0211/922/3395998929103046444-135.png,https://img1.dxycdn.com/2020/0211/089/3395998939840182072-135.png\",\"dailyPics\":[\"https://img1.dxycdn.com/2020/0211/763/3395998884005602079-135.png\",\"https://img1.dxycdn.com/2020/0211/362/3395998896890788910-135.png\",\"https://img1.dxycdn.com/2020/0211/365/3395998905480724211-135.png\",\"https://img1.dxycdn.com/2020/0211/364/3395998916217859778-135.png\",\"https://img1.dxycdn.com/2020/0211/922/3395998929103046444-135.png\",\"https://img1.dxycdn.com/2020/0211/089/3395998939840182072-135.png\"],\"summary\":\"\",\"deleted\":false,\"countRemark\":\"\",\"currentConfirmedCount\":4540,\"confirmedCount\":82037,\"suspectedCount\":541,\"curedCount\":74204,\"deadCount\":3293,\"seriousCount\":1235,\"suspectedIncr\":67,\"currentConfirmedIncr\":-228,\"confirmedIncr\":191,\"curedIncr\":413,\"deadIncr\":6,\"seriousIncr\":-164,\"virus\":\"该字段已替换为说明1\",\"remark1\":\"易感人群：人群普遍易感。老年人及有基础疾病者感染后病情较重，儿童及婴幼儿也有发病\",\"remark2\":\"潜伏期：一般为 3～7 天，最长不超过 14 天，潜伏期内可能存在传染性，其中无症状病例传染性非常罕见\",\"remark3\":\"宿主：野生动物，可能为中华菊头蝠\",\"remark4\":\"\",\"remark5\":\"\",\"note1\":\"病毒：SARS-CoV-2，其导致疾病命名 COVID-19\",\"note2\":\"传染源：新冠肺炎的患者。无症状感染者也可能成为传染源。\",\"note3\":\"传播途径：经呼吸道飞沫、接触传播是主要的传播途径。气溶胶传播和消化道等传播途径尚待明确。\",\"generalRemark\":\"1. 3 月 12 日国家卫健委确诊补订遗漏 12 例确诊病例（非 12 日新增），暂无具体省份信息。 2. 浙江省 12 例外省治愈暂无具体省份信息。\",\"abroadRemark\":\"\",\"marquee\":[{\"id\":1761,\"marqueeLabel\":\"全球疫情\",\"marqueeContent\":\"美国成为现存新冠感染最多的国家\",\"marqueeLink\":\"https://dxy.me/Sg1rjk\"},{\"id\":1762,\"marqueeLabel\":\"突发\",\"marqueeContent\":\"缩减航班，限制入境，中国开始关门\",\"marqueeLink\":\"https://dxy.me/yzpVFK\"},{\"id\":1763,\"marqueeLabel\":\"撒钱\",\"marqueeContent\":\"2 万亿美元，美国史上最大救助计划出炉\",\"marqueeLink\":\"https://dxy.me/1irnxU\"}],\"quanguoTrendChart\":[{\"imgUrl\":\"https://img1.dxycdn.com/2020/0324/278/3403801351376518263-135.png\",\"title\":\"新增疑似/新增确诊\"},{\"imgUrl\":\"https://img1.dxycdn.com/2020/0324/812/3403847865872006755-135.png\",\"title\":\"境外输入\"},{\"imgUrl\":\"https://img1.dxycdn.com/2020/0324/547/3403847848692336947-135.png\",\"title\":\"现存确诊\"},{\"imgUrl\":\"https://img1.dxycdn.com/2020/0324/775/3403801407211095604-135.png\",\"title\":\"治愈\"},{\"imgUrl\":\"https://img1.dxycdn.com/2020/0324/250/3403801424390727199-135.png\",\"title\":\"死亡\"}],\"hbFeiHbTrendChart\":[{\"imgUrl\":\"https://img1.dxycdn.com/2020/0326/624/3404177508906904585-135.png\",\"title\":\"非湖北新增确诊\"},{\"imgUrl\":\"https://img1.dxycdn.com/2020/0326/777/3404177532529485065-135.png\",\"title\":\"湖北新增确诊\"},{\"imgUrl\":\"https://img1.dxycdn.com/2020/0326/376/3404177556151805921-135.png\",\"title\":\"湖北现存确诊\"},{\"imgUrl\":\"https://img1.dxycdn.com/2020/0326/527/3404177575478899995-135.png\",\"title\":\"非湖北现存确诊\"},{\"imgUrl\":\"https://img1.dxycdn.com/2020/0326/419/3404177596953996726-135.png\",\"title\":\"治愈/死亡\"}],\"foreignTrendChart\":[{\"imgUrl\":\"https://img1.dxycdn.com/2020/0320/702/3403079914982117944-135.png\",\"title\":\"国外新增确诊\"},{\"imgUrl\":\"https://img1.dxycdn.com/2020/0320/396/3403079925719536561-135.png\",\"title\":\"国外累计确诊\"},{\"imgUrl\":\"https://img1.dxycdn.com/2020/0320/139/3403079936457225524-135.png\",\"title\":\"国外死亡\"}],\"importantForeignTrendChart\":[{\"imgUrl\":\"https://img1.dxycdn.com/2020/0320/450/3403077453965772423-135.png\",\"title\":\"重点国家新增确诊\"},{\"imgUrl\":\"https://img1.dxycdn.com/2020/0320/276/3403077462555980566-135.png\",\"title\":\"日本新增确诊\"},{\"imgUrl\":\"https://img1.dxycdn.com/2020/0320/340/3403077473293125942-135.png\",\"title\":\"意大利新增确诊\"},{\"imgUrl\":\"https://img1.dxycdn.com/2020/0320/723/3403077481883334043-135.png\",\"title\":\"伊朗新增确诊\"},{\"imgUrl\":\"https://img1.dxycdn.com/2020/0320/266/3403077492620752785-135.png\",\"title\":\"美国新增确诊\"},{\"imgUrl\":\"https://img1.dxycdn.com/2020/0320/870/3403077503358171278-135.png\",\"title\":\"法国新增确诊\"},{\"imgUrl\":\"https://img1.dxycdn.com/2020/0320/053/3403077511947832997-135.png\",\"title\":\"德国新增确诊\"},{\"imgUrl\":\"https://img1.dxycdn.com/2020/0320/878/3403077520537768006-135.png\",\"title\":\"西班牙新增确诊\"},{\"imgUrl\":\"https://img1.dxycdn.com/2020/0320/443/3403077531275186665-135.png\",\"title\":\"韩国新增确诊\"}],\"foreignTrendChartGlobal\":[{\"imgUrl\":\"https://img1.dxycdn.com/2020/0319/740/3402859458605738923-135.png\",\"title\":\"Daily New Cases\"},{\"imgUrl\":\"https://img1.dxycdn.com/2020/0319/351/3402856772103846114-135.png\",\"title\":\"Total Confirmed Cases\"},{\"imgUrl\":\"https://img1.dxycdn.com/2020/0319/236/3402856782841001789-135.png\",\"title\":\"Total Deaths Cases\"}],\"importantForeignTrendChartGlobal\":[{\"imgUrl\":\"https://img1.dxycdn.com/2020/0319/122/3402856838675578578-135.png\",\"title\":\"Daily New Cases\"},{\"imgUrl\":\"https://img1.dxycdn.com/2020/0319/685/3402856849412997239-135.png\",\"title\":\"Japan\"},{\"imgUrl\":\"https://img1.dxycdn.com/2020/0319/477/3402856860150678804-135.png\",\"title\":\"Italy\"},{\"imgUrl\":\"https://img1.dxycdn.com/2020/0319/454/3402856873035581014-135.png\",\"title\":\"Iran\"},{\"imgUrl\":\"https://img1.dxycdn.com/2020/0319/022/3402856883772999714-135.png\",\"title\":\"U.S.A.\"},{\"imgUrl\":\"https://img1.dxycdn.com/2020/0319/529/3402856894510155506-135.png\",\"title\":\"France\"},{\"imgUrl\":\"https://img1.dxycdn.com/2020/0319/211/3402856905247574064-135.png\",\"title\":\"Germany\"},{\"imgUrl\":\"https://img1.dxycdn.com/2020/0319/054/3402856913837508985-135.png\",\"title\":\"Spain\"},{\"imgUrl\":\"https://img1.dxycdn.com/2020/0319/088/3402856928870157852-135.png\",\"title\":\"Republic of Korea\"}],\"foreignStatistics\":{\"currentConfirmedCount\":343260,\"confirmedCount\":402635,\"suspectedCount\":4,\"curedCount\":40679,\"deadCount\":18696,\"suspectedIncr\":0,\"currentConfirmedIncr\":19364,\"confirmedIncr\":22041,\"curedIncr\":1545,\"deadIncr\":1132},\"globalStatistics\":{\"currentConfirmedCount\":347800,\"confirmedCount\":484672,\"curedCount\":114883,\"deadCount\":21989,\"currentConfirmedIncr\":19136,\"confirmedIncr\":22232,\"curedIncr\":1958,\"deadIncr\":1138},\"globalOtherTrendChartData\":\"https://file1.dxycdn.com/2020/0326/962/3404165384214179896-135.json\"}}catch(e){}']"
      ]
     },
     "execution_count": 8,
     "metadata": {},
     "output_type": "execute_result"
    }
   ],
   "source": [
    "data = soup.findAll(text=re.compile('\\\"summary.+\\\"confirmedCount\\\":\\d'))\n",
    "\n",
    "data\n"
   ]
  },
  {
   "cell_type": "code",
   "execution_count": 9,
   "metadata": {},
   "outputs": [],
   "source": [
    "m = re.search('\\\"confirmedCount\\\":(\\d+)', data[0])\n",
    "summary_confirmed_count = int(m.group(1))\n",
    "\n",
    "\n",
    "m = re.search('\\\"curedCount\\\":(\\d+)', data[0])\n",
    "summary_cured_count = int(m.group(1))\n",
    "\n",
    "m = re.search('\\\"deadCount\\\":(\\d+)', data[0])\n",
    "summary_dead_count = int(m.group(1))\n"
   ]
  },
  {
   "cell_type": "code",
   "execution_count": 10,
   "metadata": {},
   "outputs": [
    {
     "data": {
      "text/html": [
       "<div>\n",
       "<style scoped>\n",
       "    .dataframe tbody tr th:only-of-type {\n",
       "        vertical-align: middle;\n",
       "    }\n",
       "\n",
       "    .dataframe tbody tr th {\n",
       "        vertical-align: top;\n",
       "    }\n",
       "\n",
       "    .dataframe thead th {\n",
       "        text-align: right;\n",
       "    }\n",
       "</style>\n",
       "<table border=\"1\" class=\"dataframe\">\n",
       "  <thead>\n",
       "    <tr style=\"text-align: right;\">\n",
       "      <th></th>\n",
       "      <th>datetime</th>\n",
       "      <th>confirmed</th>\n",
       "      <th>cured</th>\n",
       "      <th>dead</th>\n",
       "    </tr>\n",
       "  </thead>\n",
       "  <tbody>\n",
       "    <tr>\n",
       "      <th>0</th>\n",
       "      <td>2020-03-26 17:03</td>\n",
       "      <td>82037</td>\n",
       "      <td>74204</td>\n",
       "      <td>3293</td>\n",
       "    </tr>\n",
       "  </tbody>\n",
       "</table>\n",
       "</div>"
      ],
      "text/plain": [
       "           datetime  confirmed  cured  dead\n",
       "0  2020-03-26 17:03      82037  74204  3293"
      ]
     },
     "execution_count": 10,
     "metadata": {},
     "output_type": "execute_result"
    }
   ],
   "source": [
    "# make a dataframe\n",
    "df = pd.DataFrame({\n",
    "    'datetime': data_date_time,\n",
    "    'confirmed': summary_confirmed_count,\n",
    "    'cured': summary_cured_count,\n",
    "    'dead': summary_dead_count\n",
    "}, index=[0])\n",
    "df"
   ]
  },
  {
   "cell_type": "markdown",
   "metadata": {},
   "source": [
    "### Save to file"
   ]
  },
  {
   "cell_type": "code",
   "execution_count": 11,
   "metadata": {},
   "outputs": [],
   "source": [
    "from pathlib import Path\n",
    "csv_file = '../data/china-summary-cases.csv'\n",
    "\n",
    "if Path(csv_file).exists():\n",
    "    # read out the old data - then merge with new data and remove duplicates based on datetime\n",
    "    old_df = pd.read_csv(csv_file)\n",
    "    df = df.append(old_df)\n",
    "df.drop_duplicates(subset=['datetime'], inplace=True)"
   ]
  },
  {
   "cell_type": "code",
   "execution_count": 12,
   "metadata": {},
   "outputs": [],
   "source": [
    "df.sort_values(by=['datetime'], inplace=True)\n",
    "\n",
    "df.to_csv(csv_file, index=False)\n"
   ]
  },
  {
   "cell_type": "markdown",
   "metadata": {},
   "source": [
    "### Plot graph"
   ]
  },
  {
   "cell_type": "code",
   "execution_count": 13,
   "metadata": {},
   "outputs": [],
   "source": [
    "import seaborn as sns\n",
    "import matplotlib.pyplot as plt\n",
    "from pandas.plotting import register_matplotlib_converters\n",
    "register_matplotlib_converters()\n",
    "\n",
    "png_file = '../images/china-summary-cases.png'\n",
    "# convert to pd.datetime\n",
    "df['datetime_idx'] = pd.to_datetime(df['datetime'], format=\"%Y-%m-%d %H:%M\")\n",
    "\n",
    "df.set_index('datetime_idx', inplace=True)\n",
    "df.drop(['datetime'], axis=1, inplace=True)\n"
   ]
  },
  {
   "cell_type": "code",
   "execution_count": 14,
   "metadata": {},
   "outputs": [
    {
     "data": {
      "text/html": [
       "<div>\n",
       "<style scoped>\n",
       "    .dataframe tbody tr th:only-of-type {\n",
       "        vertical-align: middle;\n",
       "    }\n",
       "\n",
       "    .dataframe tbody tr th {\n",
       "        vertical-align: top;\n",
       "    }\n",
       "\n",
       "    .dataframe thead th {\n",
       "        text-align: right;\n",
       "    }\n",
       "</style>\n",
       "<table border=\"1\" class=\"dataframe\">\n",
       "  <thead>\n",
       "    <tr style=\"text-align: right;\">\n",
       "      <th></th>\n",
       "      <th>confirmed</th>\n",
       "      <th>cured</th>\n",
       "      <th>dead</th>\n",
       "    </tr>\n",
       "    <tr>\n",
       "      <th>datetime_idx</th>\n",
       "      <th></th>\n",
       "      <th></th>\n",
       "      <th></th>\n",
       "    </tr>\n",
       "  </thead>\n",
       "  <tbody>\n",
       "    <tr>\n",
       "      <th>2020-02-02 10:22:00</th>\n",
       "      <td>14483</td>\n",
       "      <td>379</td>\n",
       "      <td>304</td>\n",
       "    </tr>\n",
       "    <tr>\n",
       "      <th>2020-02-02 10:28:00</th>\n",
       "      <td>14483</td>\n",
       "      <td>380</td>\n",
       "      <td>304</td>\n",
       "    </tr>\n",
       "    <tr>\n",
       "      <th>2020-02-02 11:19:00</th>\n",
       "      <td>14489</td>\n",
       "      <td>385</td>\n",
       "      <td>304</td>\n",
       "    </tr>\n",
       "    <tr>\n",
       "      <th>2020-02-02 11:54:00</th>\n",
       "      <td>14489</td>\n",
       "      <td>397</td>\n",
       "      <td>304</td>\n",
       "    </tr>\n",
       "    <tr>\n",
       "      <th>2020-02-02 15:01:00</th>\n",
       "      <td>14490</td>\n",
       "      <td>430</td>\n",
       "      <td>304</td>\n",
       "    </tr>\n",
       "    <tr>\n",
       "      <th>...</th>\n",
       "      <td>...</td>\n",
       "      <td>...</td>\n",
       "      <td>...</td>\n",
       "    </tr>\n",
       "    <tr>\n",
       "      <th>2020-03-26 12:21:00</th>\n",
       "      <td>82034</td>\n",
       "      <td>74204</td>\n",
       "      <td>3293</td>\n",
       "    </tr>\n",
       "    <tr>\n",
       "      <th>2020-03-26 14:06:00</th>\n",
       "      <td>82034</td>\n",
       "      <td>74204</td>\n",
       "      <td>3293</td>\n",
       "    </tr>\n",
       "    <tr>\n",
       "      <th>2020-03-26 15:03:00</th>\n",
       "      <td>82034</td>\n",
       "      <td>74204</td>\n",
       "      <td>3293</td>\n",
       "    </tr>\n",
       "    <tr>\n",
       "      <th>2020-03-26 16:04:00</th>\n",
       "      <td>82034</td>\n",
       "      <td>74204</td>\n",
       "      <td>3293</td>\n",
       "    </tr>\n",
       "    <tr>\n",
       "      <th>2020-03-26 17:03:00</th>\n",
       "      <td>82037</td>\n",
       "      <td>74204</td>\n",
       "      <td>3293</td>\n",
       "    </tr>\n",
       "  </tbody>\n",
       "</table>\n",
       "<p>814 rows × 3 columns</p>\n",
       "</div>"
      ],
      "text/plain": [
       "                     confirmed  cured  dead\n",
       "datetime_idx                               \n",
       "2020-02-02 10:22:00      14483    379   304\n",
       "2020-02-02 10:28:00      14483    380   304\n",
       "2020-02-02 11:19:00      14489    385   304\n",
       "2020-02-02 11:54:00      14489    397   304\n",
       "2020-02-02 15:01:00      14490    430   304\n",
       "...                        ...    ...   ...\n",
       "2020-03-26 12:21:00      82034  74204  3293\n",
       "2020-03-26 14:06:00      82034  74204  3293\n",
       "2020-03-26 15:03:00      82034  74204  3293\n",
       "2020-03-26 16:04:00      82034  74204  3293\n",
       "2020-03-26 17:03:00      82037  74204  3293\n",
       "\n",
       "[814 rows x 3 columns]"
      ]
     },
     "execution_count": 14,
     "metadata": {},
     "output_type": "execute_result"
    }
   ],
   "source": [
    "df"
   ]
  },
  {
   "cell_type": "code",
   "execution_count": 15,
   "metadata": {
    "scrolled": true
   },
   "outputs": [
    {
     "data": {
      "image/png": "[encoded data removed]",
      "text/plain": [
       "<Figure size 1008x1008 with 3 Axes>"
      ]
     },
     "metadata": {},
     "output_type": "display_data"
    }
   ],
   "source": [
    "if df.shape[0]>1:\n",
    "    # line chart when having at least a few points\n",
    "    sns.set(rc={'figure.figsize':(14,14)})\n",
    "    sns.set(style=\"whitegrid\")\n",
    "\n",
    "    fig, axs = plt.subplots(nrows=3)\n",
    "\n",
    "    sns.lineplot(x=df.index, y = 'confirmed', data=df, ax= axs[0], estimator=None, color='orange')\n",
    "    sns.lineplot(x=df.index, y = 'cured', data=df, ax= axs[1], estimator=None, color='green')\n",
    "    sns.lineplot(x=df.index, y = 'dead', data=df, ax= axs[2], estimator=None, color='darkred')\n",
    "\n",
    "    for ax in axs:\n",
    "        ax.set_xlabel('')\n",
    "        ax.tick_params(axis='x', labelrotation=30)\n",
    "else:\n",
    "\n",
    "    ax = df.plot(kind='bar', stacked=True, figsize=(9,6))\n",
    "    fig = ax.get_figure()\n",
    "    ax.set_xlabel('')\n",
    "    for label in ax.get_xticklabels():\n",
    "        label.set_rotation(0) \n"
   ]
  },
  {
   "cell_type": "code",
   "execution_count": 16,
   "metadata": {},
   "outputs": [],
   "source": [
    "fig.savefig(png_file)"
   ]
  },
  {
   "cell_type": "code",
   "execution_count": null,
   "metadata": {},
   "outputs": [],
   "source": []
  },
  {
   "cell_type": "code",
   "execution_count": null,
   "metadata": {},
   "outputs": [],
   "source": []
  }
 ],
 "metadata": {
  "kernelspec": {
   "display_name": "Python 3",
   "language": "python",
   "name": "python3"
  },
  "language_info": {
   "codemirror_mode": {
    "name": "ipython",
    "version": 3
   },
   "file_extension": ".py",
   "mimetype": "text/x-python",
   "name": "python",
   "nbconvert_exporter": "python",
   "pygments_lexer": "ipython3",
   "version": "3.7.6"
  }
 },
 "nbformat": 4,
 "nbformat_minor": 2
}
