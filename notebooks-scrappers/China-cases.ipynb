{
 "cells": [
  {
   "cell_type": "code",
   "execution_count": 1,
   "metadata": {},
   "outputs": [],
   "source": [
    "import pandas as pd\n",
    "import requests\n",
    "from bs4 import BeautifulSoup\n",
    "import re\n",
    "from datetime import datetime\n",
    "from selenium import webdriver\n",
    "from selenium.webdriver.chrome.options import Options  \n"
   ]
  },
  {
   "cell_type": "code",
   "execution_count": 2,
   "metadata": {},
   "outputs": [
    {
     "data": {
      "text/plain": [
       "datetime.datetime(2020, 3, 28, 1, 8, 9, 344576)"
      ]
     },
     "execution_count": 2,
     "metadata": {},
     "output_type": "execute_result"
    }
   ],
   "source": [
    "datetime.now()"
   ]
  },
  {
   "cell_type": "code",
   "execution_count": 3,
   "metadata": {},
   "outputs": [],
   "source": [
    "chrome_options = Options()  \n",
    "chrome_options.add_argument(\"--headless\")  \n",
    "chrome_options.add_argument(\"--no-sandbox\")\n",
    "\n",
    "driver = webdriver.Chrome('chromedriver', options=chrome_options)"
   ]
  },
  {
   "cell_type": "code",
   "execution_count": 4,
   "metadata": {},
   "outputs": [],
   "source": [
    "url = 'https://ncov.dxy.cn/ncovh5/view/pneumonia'\n",
    "driver.get(url)"
   ]
  },
  {
   "cell_type": "markdown",
   "metadata": {},
   "source": [
    "### Extract date"
   ]
  },
  {
   "cell_type": "code",
   "execution_count": 5,
   "metadata": {},
   "outputs": [],
   "source": [
    "content = driver.page_source\n",
    "soup =BeautifulSoup(content, 'lxml')\n"
   ]
  },
  {
   "cell_type": "code",
   "execution_count": 6,
   "metadata": {},
   "outputs": [
    {
     "data": {
      "text/plain": [
       "['try { window.getTimelineService1 = [{\"id\":18399,\"pubDate\":1585357405000,\"pubDateStr\":\"2分钟前\",\"title\":\" 2020年3月27日江西省新型冠状病毒肺炎疫情情况            \",\"summary\":\"2020年3月27日0-24时，江西省无本地新增新型冠状病毒肺炎确诊病例报告，无本地新增疑似病例，无本地住院确诊病例。全省累计报告本地确诊病例935例，累计出院病例934例，累计死亡病例1例。\\\\n2020年3月27日0-24时，江西省无境外新增输入新型冠状病毒肺炎确诊病例报告。全省累计报告境外输入确诊病例1例。\",\"infoSource\":\"江西卫健委\",\"sourceUrl\":\"http://hc.jiangxi.gov.cn/doc/2020/03/28/141878.shtml\",\"provinceId\":\"\"},{\"id\":18387,\"pubDate\":1585356267000,\"pubDateStr\":\"21分钟前\",\"title\":\"新西兰新增83例新冠肺炎病例 累计451例\",\"summary\":\"3月28日，新西兰卫生部门确认过去24小时新增83例新冠肺炎病例，其中确诊78例，疑似5例。83个病患中，有8人住院，其中2人在重症监护病房接受治疗。截至目前，新西兰新冠肺炎病例累计451例，有50人治愈。（总台记者 林清辉）\",\"infoSource\":\"央视新闻app\",\"sourceUrl\":\"http://app.cctv.com/special/cportal/detail/arti/index.html?id=ArtiO9UF2RpM7WMroTCPCY23200328&isfromapp=1\",\"provinceId\":\"\"},{\"id\":18379,\"pubDate\":1585356168000,\"pubDateStr\":\"23分钟前\",\"title\":\"山东28日通报：无新增新冠肺炎确诊病例 累计治愈出院752例\",\"summary\":\"3月27日12—24时，山东省无本地住院疑似病例、确诊病例。累计报告确诊病例759例，死亡病例7例，治愈出院752例。3月27日12—24时，山东省无新增境外输入疑似病例、确诊病例。累计报告境外输入确诊病例13例，均在定点医院隔离治疗。目前共追踪到密切接触者19939人，尚有2123人正在接受医学观察。（总台央视记者\\xa0 李秉禅）\",\"infoSource\":\"央视新闻app\",\"sourceUrl\":\"http://app.cctv.com/special/cportal/detail/arti/index.html?id=Arti1bD5cLI44VKh8PdRxgLo200328&isfromapp=1\",\"provinceId\":\"\"},{\"id\":18369,\"pubDate\":1585355802000,\"pubDateStr\":\"29分钟前\",\"title\":\"陕西28日通报：无新增境外输入新冠肺炎确诊病例 累计境外输入8例\",\"summary\":\"2020年3月27日8时至28日8时，陕西无新增境外输入新冠肺炎确诊病例。新增疑似病例0例。新增密切接触者22人，其中境外输入病例密切接触者3人、外省协查19人。截至2020年3月28日8时，陕西累计报告境外输入新冠肺炎确诊病例8例。全省现有疑似病例0例。当前隔离721人。（总台央视记者 闫星光）\",\"infoSource\":\"央视新闻app\",\"sourceUrl\":\"http://app.cctv.com/special/cportal/detail/arti/index.html?id=ArtiYFUrxN2nEnLXddR1D4fL200328&isfromapp=1\",\"provinceId\":\"\"},{\"id\":18370,\"pubDate\":1585355745000,\"pubDateStr\":\"30分钟前\",\"title\":\"河南28日通报：无新增本地新冠肺炎确诊病例\",\"summary\":\"2020年3月27日0—24时，河南省无新增新冠肺炎确诊病例。新增出院病例1例（境外输入）。截至3月27日24时，全省累计报告本地新冠肺炎确诊病例1272例，累计死亡病例22例，累计出院病例1250例。\",\"infoSource\":\"央视新闻app\",\"sourceUrl\":\"http://app.cctv.com/special/cportal/detail/arti/index.html?id=Arti3fRrOe6ImOIZWGok2KQj200328&isfromapp=1\",\"provinceId\":\"\"},{\"id\":18374,\"pubDate\":1585355640000,\"pubDateStr\":\"32分钟前\",\"title\":\"3月28日安徽省报告新冠肺炎疫情情况\",\"summary\":\"2020年3月27日0-24时，安徽省报告无新增确诊病例，无新增疑似病例。\\\\n截至3月27日24时，安徽省累计报告确诊病例990例，累计治愈出院病例984例，累计死亡病例6例，累计医学观察密切接触者28863人，尚在医学观察283人。\\\\n\\\\n\\\\t\\\\t\\\\t\\\\n\\\\t\\\\t\",\"infoSource\":\"安徽卫健委\",\"sourceUrl\":\"http://wjw.ah.gov.cn/news_details_56179.html\",\"provinceId\":\"\"},{\"id\":18365,\"pubDate\":1585355625000,\"pubDateStr\":\"32分钟前\",\"title\":\"北京28日通报：新增3例新冠肺炎境外输入确诊 无新增报告本地病例\",\"summary\":\"3月27日12时至24时，北京新增报告境外输入新冠肺炎确诊病例 3例，均为美国输入病例。治愈出院1例。昨日共新增境外输入确诊病例3例。截至3月27日24时，累计报告境外输入确诊病例156例，治愈出院病例15例。\",\"infoSource\":\"央视新闻app\",\"sourceUrl\":\"http://app.cctv.com/special/cportal/detail/arti/index.html?id=ArtiYEnB9ySww1tP6jgtCLng200328&isfromapp=1\",\"provinceId\":\"\"},{\"id\":18366,\"pubDate\":1585355346000,\"pubDateStr\":\"37分钟前\",\"title\":\"湖北武汉公交运力恢复至全网运力的30%\",\"summary\":\"25日起，武汉市内的117条公交线路恢复了运行，包括从武昌站、汉口站、武汉站始发的42条线路，以及中心城区的75条区域公交线路。昨天（27日）上午，总台央视记者来到了武汉火车站公交枢纽站进行了采访。27日上午，记者在武汉火车站公交枢纽站看到，车站内安排了志愿者，引导乘客们排队有序乘车。乘客需先获得健康码绿码，并佩戴口罩，测量体温，然后在扫码进行实名登记后，才能乘车。每辆公交车还配备了一名安全员，安\",\"infoSource\":\"央视新闻app\",\"sourceUrl\":\"http://app.cctv.com/special/cportal/detail/arti/index.html?id=ArtiUoywA8Aclr0uiHUGN6Zw200328&isfromapp=1\",\"provinceId\":\"\"},{\"id\":18343,\"pubDate\":1585354496000,\"pubDateStr\":\"51分钟前\",\"title\":\"湖北28日通报：无新增新冠肺炎确诊病例 新增治愈出院367例\",\"summary\":\"2020年3月27日0—24时，湖北省新增新冠肺炎确诊病例0例，无境外输入性病例。湖北省新增病亡3例，截至2020年3月27日24时，湖北省累计报告新冠肺炎确诊病例67801例.\",\"infoSource\":\"央视新闻app\",\"sourceUrl\":\"http://app.cctv.com/special/cportal/detail/arti/index.html?id=ArtiNVAJRaSRUzEKCBLUi6Tt200328&isfromapp=1\",\"provinceId\":\"\"},{\"id\":18344,\"pubDate\":1585354461000,\"pubDateStr\":\"51分钟前\",\"title\":\"海南28日通报：无新增新冠肺炎确诊病例 尚有142人在接受医学观察\",\"summary\":\"3月27日0—24时，海南省报告新型冠状病毒肺炎新增确诊病例0例，新增重症病例0例，新增死亡病例0例，新增出院0例。截至3月27日24时，海南省累计报告新型冠状病毒肺炎确诊病例168例，重症病例0例，死亡病例6例，出院病例162例。\",\"infoSource\":\"央视新闻app\",\"sourceUrl\":\"http://app.cctv.com/special/cportal/detail/arti/index.html?id=Arti1fvh8heQmgDa7iO6NGGL200328&isfromapp=1\",\"provinceId\":\"\"},{\"id\":18345,\"pubDate\":1585354416000,\"pubDateStr\":\"52分钟前\",\"title\":\"内蒙古新增境外输入新冠肺炎确诊病例2例 新增疑似病例2例\",\"summary\":\"截至3月27日24时，内蒙古自治区已连续38日无新增本土新冠肺炎确诊病例、无新增本土新冠肺炎疑似病例。3月27日7时至28日7时，内蒙古自治区报告新增境外输入新冠肺炎确诊病例2例、疑似病例2例。\",\"infoSource\":\"央视新闻app\",\"sourceUrl\":\"http://app.cctv.com/special/cportal/detail/arti/index.html?id=ArtiLHKVeKCwuMQYz1PmyqJe200328&isfromapp=1\",\"provinceId\":\"\"},{\"id\":18336,\"pubDate\":1585354148000,\"pubDateStr\":\"56分钟前\",\"title\":\"黑龙江3月28日通报：无新增新冠肺炎确诊病例\",\"summary\":\"2020年3月27日0—24时，黑龙江省无新增确诊病例，无新增疑似病例，无新增境外输入确诊病例。省内当日发热门诊诊疗人数947人。截至3月27日24时，累计报告哈尔滨市境外输入确诊病例2例。全省追踪到境外密切接触者271人，已解除医学观察40人，尚有231人正在接受医学观察。（总台央视记者 王跃军 张艺馨）\",\"infoSource\":\"央视新闻app\",\"sourceUrl\":\"http://app.cctv.com/special/cportal/detail/arti/index.html?id=ArtimPvWboyKyJLoPfBFPBla200328&isfromapp=1\",\"provinceId\":\"\"},{\"id\":18337,\"pubDate\":1585354118000,\"pubDateStr\":\"57分钟前\",\"title\":\"辽宁28日通报：新增3例境外输入确诊病例\",\"summary\":\"2020年3月27日0时至24时，辽宁省新增3例境外输入新型冠状病毒肺炎确诊病例。1例为沈阳市病例（来自日本），属重型病例；1例为大连市病例（来自英国），属普通型病例；1例为辽阳市病例（来自阿联酋），属普通型病例。无新增治愈出院病例。辽宁省累计报告确诊病例131例，出院124例，死亡2例，在院治疗5例（均为境外输入病例，3名在省集中救治中心沈阳中心治疗、2名在省集中救治中心大连中心治疗）。辽宁省1\",\"infoSource\":\"央视新闻app\",\"sourceUrl\":\"http://app.cctv.com/special/cportal/detail/arti/index.html?id=ArtibAdmatDsjhSP3DX4agQF200328&isfromapp=1\",\"provinceId\":\"\"},{\"id\":18335,\"pubDate\":1585353600000,\"pubDateStr\":\"1小时前\",\"title\":\"2020年3月27日0时至24时辽宁新型冠状病毒肺炎疫情情况\",\"summary\":\"2020年3月27日0时至24时，辽宁省新增3例境外输入新型冠状病毒肺炎确诊病例。1例为沈阳市病例（来自日本），属重型病例；1例为大连市病例（来自英国），属普通型病例；1例为辽阳市病例（来自阿联酋），属普通型病例。无新增治愈出院病例。\\\\n全省累计报告确诊病例131例，出院124例，死亡2例，在院治疗5例（均为境外输入病例，3名在省集中救治中心沈阳中心治疗、2名在省集中救治中心大连中心治疗）。\",\"infoSource\":\"辽宁卫健委\",\"sourceUrl\":\"http://wsjk.ln.gov.cn/wst_zdzt/xxgzbd/yqtb/202003/t20200328_3783647.html\",\"provinceId\":\"\"},{\"id\":18326,\"pubDate\":1585353525000,\"pubDateStr\":\"1小时前\",\"title\":\"河北28日最新通报：无新增新冠肺炎确诊病例 累计治愈出院310例\",\"summary\":\"2020年3月27日0—24时，河北省无新增报告新型冠状病毒肺炎确诊病例，无新增死亡病例，无新增疑似病例。当日新增治愈出院病例0例，解除隔离医学观察的密切接触者0人。截至3月27日24时，河北省现有确诊病例3例（含境外输入病例1例），累计治愈出院病例310例，累计死亡病例6例，累计报告确诊病例319例，现有疑似病例0例。累计追踪到密切接触者10934人，尚在隔离医学观察的密切接触者1人。\",\"infoSource\":\"央视新闻app\",\"sourceUrl\":\"http://app.cctv.com/special/cportal/detail/arti/index.html?id=ArtiEoXb6wNhm7Wkwp6bfCqx200328&isfromapp=1\",\"provinceId\":\"\"},{\"id\":18297,\"pubDate\":1585351062000,\"pubDateStr\":\"1小时前\",\"title\":\"截至3月27日24时新型冠状病毒肺炎疫情最新情况\",\"summary\":\"3月27日0—24时，31个省（自治区、直辖市）和新疆生产建设兵团报告新增确诊病例54例，均为境外输入病例；新增死亡病例3例（湖北3例）；新增疑似病例29例。当日新增治愈出院病例383例，解除医学观察的密切接触者758人，重症病例减少113例。\",\"infoSource\":\"中国卫健委\",\"sourceUrl\":\"http://www.nhc.gov.cn/xcs/yqtb/202003/bf66696029ba420098164607240074f8.shtml\",\"provinceId\":\"\"},{\"id\":18376,\"pubDate\":1585269420000,\"pubDateStr\":\"1天前\",\"title\":\"福建省新型冠状病毒肺炎疫情情况                \",\"summary\":\"3月27日0—24时，福建省报告新增境外输入新型冠状病毒肺炎确诊病例6例，其中：美国2例、布基纳法索1例（福州市报告）；英国3例（厦门市报告2例、泉州市报告1例）。\\\\n当日报告新增境外输入新型冠状病毒肺炎疑似病例0例。\",\"infoSource\":\"福建卫健委\",\"sourceUrl\":\"http://wjw.fujian.gov.cn/ztzl/gzbufk/yqtb/202003/t20200328_5224506.htm\",\"provinceId\":\"\"}]}catch(e){}',\n",
       " '截至北京时间 2020-03-28 01:05',\n",
       " '截至北京时间 2020-03-28 01:05',\n",
       " '3月28日，新西兰卫生部门确认过去24小时新增83例新冠肺炎病例，其中确诊78例，疑似5例。83个病患中，有8人住院，其中2人在重症监护病房接受治疗。截至目前，新西兰新冠肺炎病例累计451例，有50人治愈。（总台记者 林清辉）',\n",
       " '2020年3月27日8时至28日8时，陕西无新增境外输入新冠肺炎确诊病例。新增疑似病例0例。新增密切接触者22人，其中境外输入病例密切接触者3人、外省协查19人。截至2020年3月28日8时，陕西累计报告境外输入新冠肺炎确诊病例8例。全省现有疑似病例0例。当前隔离721人。（总台央视记者 闫星光）',\n",
       " '2020年3月27日0—24时，河南省无新增新冠肺炎确诊病例。新增出院病例1例（境外输入）。截至3月27日24时，全省累计报告本地新冠肺炎确诊病例1272例，累计死亡病例22例，累计出院病例1250例。',\n",
       " '2020年3月27日0-24时，安徽省报告无新增确诊病例，无新增疑似病例。\\n截至3月27日24时，安徽省累计报告确诊病例990例，累计治愈出院病例984例，累计死亡病例6例，累计医学观察密切接触者28863人，尚在医学观察283人。\\n\\n\\t\\t\\t\\n\\t\\t',\n",
       " '3月27日12时至24时，北京新增报告境外输入新冠肺炎确诊病例 3例，均为美国输入病例。治愈出院1例。昨日共新增境外输入确诊病例3例。截至3月27日24时，累计报告境外输入确诊病例156例，治愈出院病例15例。',\n",
       " '2020年3月27日0—24时，湖北省新增新冠肺炎确诊病例0例，无境外输入性病例。湖北省新增病亡3例，截至2020年3月27日24时，湖北省累计报告新冠肺炎确诊病例67801例.',\n",
       " '3月27日0—24时，海南省报告新型冠状病毒肺炎新增确诊病例0例，新增重症病例0例，新增死亡病例0例，新增出院0例。截至3月27日24时，海南省累计报告新型冠状病毒肺炎确诊病例168例，重症病例0例，死亡病例6例，出院病例162例。',\n",
       " '截至3月27日24时，内蒙古自治区已连续38日无新增本土新冠肺炎确诊病例、无新增本土新冠肺炎疑似病例。3月27日7时至28日7时，内蒙古自治区报告新增境外输入新冠肺炎确诊病例2例、疑似病例2例。',\n",
       " '2020年3月27日0—24时，黑龙江省无新增确诊病例，无新增疑似病例，无新增境外输入确诊病例。省内当日发热门诊诊疗人数947人。截至3月27日24时，累计报告哈尔滨市境外输入确诊病例2例。全省追踪到境外密切接触者271人，已解除医学观察40人，尚有231人正在接受医学观察。（总台央视记者 王跃军 张艺馨）',\n",
       " '2020年3月27日0—24时，河北省无新增报告新型冠状病毒肺炎确诊病例，无新增死亡病例，无新增疑似病例。当日新增治愈出院病例0例，解除隔离医学观察的密切接触者0人。截至3月27日24时，河北省现有确诊病例3例（含境外输入病例1例），累计治愈出院病例310例，累计死亡病例6例，累计报告确诊病例319例，现有疑似病例0例。累计追踪到密切接触者10934人，尚在隔离医学观察的密切接触者1人。',\n",
       " '截至3月27日24时新型冠状病毒肺炎疫情最新情况']"
      ]
     },
     "execution_count": 6,
     "metadata": {},
     "output_type": "execute_result"
    }
   ],
   "source": [
    "data = soup.findAll(text=re.compile(\"截至.+\"))\n",
    "data"
   ]
  },
  {
   "cell_type": "code",
   "execution_count": 7,
   "metadata": {},
   "outputs": [
    {
     "data": {
      "text/plain": [
       "'2020-03-28 01:05'"
      ]
     },
     "execution_count": 7,
     "metadata": {},
     "output_type": "execute_result"
    }
   ],
   "source": [
    "for s in data:\n",
    "    m = re.search(\"截至.*(202\\d-\\d+-\\d+ \\d+:\\d+)\", s)\n",
    "    if m is not None:\n",
    "        data_date_time = m.group(1)\n",
    "data_date_time"
   ]
  },
  {
   "cell_type": "markdown",
   "metadata": {},
   "source": [
    "### Extract data (summary)"
   ]
  },
  {
   "cell_type": "code",
   "execution_count": 8,
   "metadata": {},
   "outputs": [
    {
     "data": {
      "text/plain": [
       "['try { window.getStatisticsService = {\"id\":1,\"createTime\":1579537899000,\"modifyTime\":1585357544000,\"infectSource\":\"该字段已替换为说明2\",\"passWay\":\"该字段已替换为说明3\",\"imgUrl\":\"https://img1.dxycdn.com/2020/0201/450/3394153392393266839-135.png\",\"dailyPic\":\"https://img1.dxycdn.com/2020/0211/763/3395998884005602079-135.png,https://img1.dxycdn.com/2020/0211/362/3395998896890788910-135.png,https://img1.dxycdn.com/2020/0211/365/3395998905480724211-135.png,https://img1.dxycdn.com/2020/0211/364/3395998916217859778-135.png,https://img1.dxycdn.com/2020/0211/922/3395998929103046444-135.png,https://img1.dxycdn.com/2020/0211/089/3395998939840182072-135.png\",\"dailyPics\":[\"https://img1.dxycdn.com/2020/0211/763/3395998884005602079-135.png\",\"https://img1.dxycdn.com/2020/0211/362/3395998896890788910-135.png\",\"https://img1.dxycdn.com/2020/0211/365/3395998905480724211-135.png\",\"https://img1.dxycdn.com/2020/0211/364/3395998916217859778-135.png\",\"https://img1.dxycdn.com/2020/0211/922/3395998929103046444-135.png\",\"https://img1.dxycdn.com/2020/0211/089/3395998939840182072-135.png\"],\"summary\":\"\",\"deleted\":false,\"countRemark\":\"\",\"currentConfirmedCount\":3790,\"confirmedCount\":82213,\"suspectedCount\":649,\"curedCount\":75122,\"deadCount\":3301,\"seriousCount\":921,\"suspectedIncr\":54,\"currentConfirmedIncr\":-253,\"confirmedIncr\":135,\"curedIncr\":385,\"deadIncr\":3,\"seriousIncr\":-113,\"virus\":\"该字段已替换为说明1\",\"remark1\":\"易感人群：人群普遍易感。老年人及有基础疾病者感染后病情较重，儿童及婴幼儿也有发病\",\"remark2\":\"潜伏期：一般为 3～7 天，最长不超过 14 天，潜伏期内可能存在传染性，其中无症状病例传染性非常罕见\",\"remark3\":\"宿主：野生动物，可能为中华菊头蝠\",\"remark4\":\"\",\"remark5\":\"\",\"note1\":\"病毒：SARS-CoV-2，其导致疾病命名 COVID-19\",\"note2\":\"传染源：新冠肺炎的患者。无症状感染者也可能成为传染源。\",\"note3\":\"传播途径：经呼吸道飞沫、接触传播是主要的传播途径。气溶胶传播和消化道等传播途径尚待明确。\",\"generalRemark\":\"1. 3 月 12 日国家卫健委确诊补订遗漏 12 例确诊病例（非 12 日新增），暂无具体省份信息。 2. 浙江省 12 例外省治愈暂无具体省份信息。\",\"abroadRemark\":\"\",\"marquee\":[{\"id\":1788,\"marqueeLabel\":\"警惕\",\"marqueeContent\":\"时隔 34 天，浙江再次出现新冠本土病例\",\"marqueeLink\":\"https://dxy.me/4lP37e\"},{\"id\":1789,\"marqueeLabel\":\"国策\",\"marqueeContent\":\"缩减航班，限制入境，中国开始关门\",\"marqueeLink\":\"https://dxy.me/yzpVFK\"},{\"id\":1790,\"marqueeLabel\":\"突发\",\"marqueeContent\":\"英国首相鲍里斯·约翰逊确诊新冠肺炎\",\"marqueeLink\":\"https://dxy.me/Tky6Eh\"}],\"quanguoTrendChart\":[{\"imgUrl\":\"https://img1.dxycdn.com/2020/0324/278/3403801351376518263-135.png\",\"title\":\"新增疑似/新增确诊\"},{\"imgUrl\":\"https://img1.dxycdn.com/2020/0324/812/3403847865872006755-135.png\",\"title\":\"境外输入\"},{\"imgUrl\":\"https://img1.dxycdn.com/2020/0324/547/3403847848692336947-135.png\",\"title\":\"现存确诊\"},{\"imgUrl\":\"https://img1.dxycdn.com/2020/0324/775/3403801407211095604-135.png\",\"title\":\"治愈\"},{\"imgUrl\":\"https://img1.dxycdn.com/2020/0324/250/3403801424390727199-135.png\",\"title\":\"死亡\"}],\"hbFeiHbTrendChart\":[{\"imgUrl\":\"https://img1.dxycdn.com/2020/0326/624/3404177508906904585-135.png\",\"title\":\"非湖北新增确诊\"},{\"imgUrl\":\"https://img1.dxycdn.com/2020/0326/777/3404177532529485065-135.png\",\"title\":\"湖北新增确诊\"},{\"imgUrl\":\"https://img1.dxycdn.com/2020/0326/376/3404177556151805921-135.png\",\"title\":\"湖北现存确诊\"},{\"imgUrl\":\"https://img1.dxycdn.com/2020/0326/527/3404177575478899995-135.png\",\"title\":\"非湖北现存确诊\"},{\"imgUrl\":\"https://img1.dxycdn.com/2020/0326/419/3404177596953996726-135.png\",\"title\":\"治愈/死亡\"}],\"foreignTrendChart\":[{\"imgUrl\":\"https://img1.dxycdn.com/2020/0320/702/3403079914982117944-135.png\",\"title\":\"国外新增确诊\"},{\"imgUrl\":\"https://img1.dxycdn.com/2020/0320/396/3403079925719536561-135.png\",\"title\":\"国外累计确诊\"},{\"imgUrl\":\"https://img1.dxycdn.com/2020/0320/139/3403079936457225524-135.png\",\"title\":\"国外死亡\"}],\"importantForeignTrendChart\":[{\"imgUrl\":\"https://img1.dxycdn.com/2020/0320/450/3403077453965772423-135.png\",\"title\":\"重点国家新增确诊\"},{\"imgUrl\":\"https://img1.dxycdn.com/2020/0320/276/3403077462555980566-135.png\",\"title\":\"日本新增确诊\"},{\"imgUrl\":\"https://img1.dxycdn.com/2020/0320/340/3403077473293125942-135.png\",\"title\":\"意大利新增确诊\"},{\"imgUrl\":\"https://img1.dxycdn.com/2020/0320/723/3403077481883334043-135.png\",\"title\":\"伊朗新增确诊\"},{\"imgUrl\":\"https://img1.dxycdn.com/2020/0320/266/3403077492620752785-135.png\",\"title\":\"美国新增确诊\"},{\"imgUrl\":\"https://img1.dxycdn.com/2020/0320/870/3403077503358171278-135.png\",\"title\":\"法国新增确诊\"},{\"imgUrl\":\"https://img1.dxycdn.com/2020/0320/053/3403077511947832997-135.png\",\"title\":\"德国新增确诊\"},{\"imgUrl\":\"https://img1.dxycdn.com/2020/0320/878/3403077520537768006-135.png\",\"title\":\"西班牙新增确诊\"},{\"imgUrl\":\"https://img1.dxycdn.com/2020/0320/443/3403077531275186665-135.png\",\"title\":\"韩国新增确诊\"}],\"foreignTrendChartGlobal\":[{\"imgUrl\":\"https://img1.dxycdn.com/2020/0319/740/3402859458605738923-135.png\",\"title\":\"Daily New Cases\"},{\"imgUrl\":\"https://img1.dxycdn.com/2020/0319/351/3402856772103846114-135.png\",\"title\":\"Total Confirmed Cases\"},{\"imgUrl\":\"https://img1.dxycdn.com/2020/0319/236/3402856782841001789-135.png\",\"title\":\"Total Deaths Cases\"}],\"importantForeignTrendChartGlobal\":[{\"imgUrl\":\"https://img1.dxycdn.com/2020/0319/122/3402856838675578578-135.png\",\"title\":\"Daily New Cases\"},{\"imgUrl\":\"https://img1.dxycdn.com/2020/0319/685/3402856849412997239-135.png\",\"title\":\"Japan\"},{\"imgUrl\":\"https://img1.dxycdn.com/2020/0319/477/3402856860150678804-135.png\",\"title\":\"Italy\"},{\"imgUrl\":\"https://img1.dxycdn.com/2020/0319/454/3402856873035581014-135.png\",\"title\":\"Iran\"},{\"imgUrl\":\"https://img1.dxycdn.com/2020/0319/022/3402856883772999714-135.png\",\"title\":\"U.S.A.\"},{\"imgUrl\":\"https://img1.dxycdn.com/2020/0319/529/3402856894510155506-135.png\",\"title\":\"France\"},{\"imgUrl\":\"https://img1.dxycdn.com/2020/0319/211/3402856905247574064-135.png\",\"title\":\"Germany\"},{\"imgUrl\":\"https://img1.dxycdn.com/2020/0319/054/3402856913837508985-135.png\",\"title\":\"Spain\"},{\"imgUrl\":\"https://img1.dxycdn.com/2020/0319/088/3402856928870157852-135.png\",\"title\":\"Republic of Korea\"}],\"foreignStatistics\":{\"currentConfirmedCount\":424879,\"confirmedCount\":498153,\"suspectedCount\":4,\"curedCount\":49865,\"deadCount\":23409},\"globalStatistics\":{\"currentConfirmedCount\":428669,\"confirmedCount\":580366,\"curedCount\":124987,\"deadCount\":26710},\"globalOtherTrendChartData\":\"https://file1.dxycdn.com/2020/0327/560/3404350922506450844-135.json\"}}catch(e){}']"
      ]
     },
     "execution_count": 8,
     "metadata": {},
     "output_type": "execute_result"
    }
   ],
   "source": [
    "data = soup.findAll(text=re.compile('\\\"summary.+\\\"confirmedCount\\\":\\d'))\n",
    "\n",
    "data\n"
   ]
  },
  {
   "cell_type": "code",
   "execution_count": 9,
   "metadata": {},
   "outputs": [],
   "source": [
    "m = re.search('\\\"confirmedCount\\\":(\\d+)', data[0])\n",
    "summary_confirmed_count = int(m.group(1))\n",
    "\n",
    "\n",
    "m = re.search('\\\"curedCount\\\":(\\d+)', data[0])\n",
    "summary_cured_count = int(m.group(1))\n",
    "\n",
    "m = re.search('\\\"deadCount\\\":(\\d+)', data[0])\n",
    "summary_dead_count = int(m.group(1))\n"
   ]
  },
  {
   "cell_type": "code",
   "execution_count": 10,
   "metadata": {},
   "outputs": [
    {
     "data": {
      "text/html": [
       "<div>\n",
       "<style scoped>\n",
       "    .dataframe tbody tr th:only-of-type {\n",
       "        vertical-align: middle;\n",
       "    }\n",
       "\n",
       "    .dataframe tbody tr th {\n",
       "        vertical-align: top;\n",
       "    }\n",
       "\n",
       "    .dataframe thead th {\n",
       "        text-align: right;\n",
       "    }\n",
       "</style>\n",
       "<table border=\"1\" class=\"dataframe\">\n",
       "  <thead>\n",
       "    <tr style=\"text-align: right;\">\n",
       "      <th></th>\n",
       "      <th>datetime</th>\n",
       "      <th>confirmed</th>\n",
       "      <th>cured</th>\n",
       "      <th>dead</th>\n",
       "    </tr>\n",
       "  </thead>\n",
       "  <tbody>\n",
       "    <tr>\n",
       "      <th>0</th>\n",
       "      <td>2020-03-28 01:05</td>\n",
       "      <td>82213</td>\n",
       "      <td>75122</td>\n",
       "      <td>3301</td>\n",
       "    </tr>\n",
       "  </tbody>\n",
       "</table>\n",
       "</div>"
      ],
      "text/plain": [
       "           datetime  confirmed  cured  dead\n",
       "0  2020-03-28 01:05      82213  75122  3301"
      ]
     },
     "execution_count": 10,
     "metadata": {},
     "output_type": "execute_result"
    }
   ],
   "source": [
    "# make a dataframe\n",
    "df = pd.DataFrame({\n",
    "    'datetime': data_date_time,\n",
    "    'confirmed': summary_confirmed_count,\n",
    "    'cured': summary_cured_count,\n",
    "    'dead': summary_dead_count\n",
    "}, index=[0])\n",
    "df"
   ]
  },
  {
   "cell_type": "markdown",
   "metadata": {},
   "source": [
    "### Save to file"
   ]
  },
  {
   "cell_type": "code",
   "execution_count": 11,
   "metadata": {},
   "outputs": [],
   "source": [
    "from pathlib import Path\n",
    "csv_file = '../data/china-summary-cases.csv'\n",
    "\n",
    "if Path(csv_file).exists():\n",
    "    # read out the old data - then merge with new data and remove duplicates based on datetime\n",
    "    old_df = pd.read_csv(csv_file)\n",
    "    df = df.append(old_df)\n",
    "df.drop_duplicates(subset=['datetime'], inplace=True)"
   ]
  },
  {
   "cell_type": "code",
   "execution_count": 12,
   "metadata": {},
   "outputs": [],
   "source": [
    "df.sort_values(by=['datetime'], inplace=True)\n",
    "\n",
    "df.to_csv(csv_file, index=False)\n"
   ]
  },
  {
   "cell_type": "markdown",
   "metadata": {},
   "source": [
    "### Plot graph"
   ]
  },
  {
   "cell_type": "code",
   "execution_count": 13,
   "metadata": {},
   "outputs": [],
   "source": [
    "import seaborn as sns\n",
    "import matplotlib.pyplot as plt\n",
    "from pandas.plotting import register_matplotlib_converters\n",
    "register_matplotlib_converters()\n",
    "\n",
    "png_file = '../images/china-summary-cases.png'\n",
    "# convert to pd.datetime\n",
    "df['datetime_idx'] = pd.to_datetime(df['datetime'], format=\"%Y-%m-%d %H:%M\")\n",
    "\n",
    "df.set_index('datetime_idx', inplace=True)\n",
    "df.drop(['datetime'], axis=1, inplace=True)\n"
   ]
  },
  {
   "cell_type": "code",
   "execution_count": 14,
   "metadata": {},
   "outputs": [
    {
     "data": {
      "text/html": [
       "<div>\n",
       "<style scoped>\n",
       "    .dataframe tbody tr th:only-of-type {\n",
       "        vertical-align: middle;\n",
       "    }\n",
       "\n",
       "    .dataframe tbody tr th {\n",
       "        vertical-align: top;\n",
       "    }\n",
       "\n",
       "    .dataframe thead th {\n",
       "        text-align: right;\n",
       "    }\n",
       "</style>\n",
       "<table border=\"1\" class=\"dataframe\">\n",
       "  <thead>\n",
       "    <tr style=\"text-align: right;\">\n",
       "      <th></th>\n",
       "      <th>confirmed</th>\n",
       "      <th>cured</th>\n",
       "      <th>dead</th>\n",
       "    </tr>\n",
       "    <tr>\n",
       "      <th>datetime_idx</th>\n",
       "      <th></th>\n",
       "      <th></th>\n",
       "      <th></th>\n",
       "    </tr>\n",
       "  </thead>\n",
       "  <tbody>\n",
       "    <tr>\n",
       "      <th>2020-02-02 10:22:00</th>\n",
       "      <td>14483</td>\n",
       "      <td>379</td>\n",
       "      <td>304</td>\n",
       "    </tr>\n",
       "    <tr>\n",
       "      <th>2020-02-02 10:28:00</th>\n",
       "      <td>14483</td>\n",
       "      <td>380</td>\n",
       "      <td>304</td>\n",
       "    </tr>\n",
       "    <tr>\n",
       "      <th>2020-02-02 11:19:00</th>\n",
       "      <td>14489</td>\n",
       "      <td>385</td>\n",
       "      <td>304</td>\n",
       "    </tr>\n",
       "    <tr>\n",
       "      <th>2020-02-02 11:54:00</th>\n",
       "      <td>14489</td>\n",
       "      <td>397</td>\n",
       "      <td>304</td>\n",
       "    </tr>\n",
       "    <tr>\n",
       "      <th>2020-02-02 15:01:00</th>\n",
       "      <td>14490</td>\n",
       "      <td>430</td>\n",
       "      <td>304</td>\n",
       "    </tr>\n",
       "    <tr>\n",
       "      <th>...</th>\n",
       "      <td>...</td>\n",
       "      <td>...</td>\n",
       "      <td>...</td>\n",
       "    </tr>\n",
       "    <tr>\n",
       "      <th>2020-03-27 15:52:00</th>\n",
       "      <td>82164</td>\n",
       "      <td>74743</td>\n",
       "      <td>3298</td>\n",
       "    </tr>\n",
       "    <tr>\n",
       "      <th>2020-03-27 17:04:00</th>\n",
       "      <td>82164</td>\n",
       "      <td>74743</td>\n",
       "      <td>3298</td>\n",
       "    </tr>\n",
       "    <tr>\n",
       "      <th>2020-03-27 22:31:00</th>\n",
       "      <td>82164</td>\n",
       "      <td>74743</td>\n",
       "      <td>3298</td>\n",
       "    </tr>\n",
       "    <tr>\n",
       "      <th>2020-03-27 23:11:00</th>\n",
       "      <td>82164</td>\n",
       "      <td>74743</td>\n",
       "      <td>3298</td>\n",
       "    </tr>\n",
       "    <tr>\n",
       "      <th>2020-03-28 01:05:00</th>\n",
       "      <td>82213</td>\n",
       "      <td>75122</td>\n",
       "      <td>3301</td>\n",
       "    </tr>\n",
       "  </tbody>\n",
       "</table>\n",
       "<p>836 rows × 3 columns</p>\n",
       "</div>"
      ],
      "text/plain": [
       "                     confirmed  cured  dead\n",
       "datetime_idx                               \n",
       "2020-02-02 10:22:00      14483    379   304\n",
       "2020-02-02 10:28:00      14483    380   304\n",
       "2020-02-02 11:19:00      14489    385   304\n",
       "2020-02-02 11:54:00      14489    397   304\n",
       "2020-02-02 15:01:00      14490    430   304\n",
       "...                        ...    ...   ...\n",
       "2020-03-27 15:52:00      82164  74743  3298\n",
       "2020-03-27 17:04:00      82164  74743  3298\n",
       "2020-03-27 22:31:00      82164  74743  3298\n",
       "2020-03-27 23:11:00      82164  74743  3298\n",
       "2020-03-28 01:05:00      82213  75122  3301\n",
       "\n",
       "[836 rows x 3 columns]"
      ]
     },
     "execution_count": 14,
     "metadata": {},
     "output_type": "execute_result"
    }
   ],
   "source": [
    "df"
   ]
  },
  {
   "cell_type": "code",
   "execution_count": 15,
   "metadata": {
    "scrolled": true
   },
   "outputs": [
    {
     "data": {
      "image/png": "[encoded data removed]",
      "text/plain": [
       "<Figure size 1008x1008 with 3 Axes>"
      ]
     },
     "metadata": {},
     "output_type": "display_data"
    }
   ],
   "source": [
    "if df.shape[0]>1:\n",
    "    # line chart when having at least a few points\n",
    "    sns.set(rc={'figure.figsize':(14,14)})\n",
    "    sns.set(style=\"whitegrid\")\n",
    "\n",
    "    fig, axs = plt.subplots(nrows=3)\n",
    "\n",
    "    sns.lineplot(x=df.index, y = 'confirmed', data=df, ax= axs[0], estimator=None, color='orange')\n",
    "    sns.lineplot(x=df.index, y = 'cured', data=df, ax= axs[1], estimator=None, color='green')\n",
    "    sns.lineplot(x=df.index, y = 'dead', data=df, ax= axs[2], estimator=None, color='darkred')\n",
    "\n",
    "    for ax in axs:\n",
    "        ax.set_xlabel('')\n",
    "        ax.tick_params(axis='x', labelrotation=30)\n",
    "else:\n",
    "\n",
    "    ax = df.plot(kind='bar', stacked=True, figsize=(9,6))\n",
    "    fig = ax.get_figure()\n",
    "    ax.set_xlabel('')\n",
    "    for label in ax.get_xticklabels():\n",
    "        label.set_rotation(0) \n"
   ]
  },
  {
   "cell_type": "code",
   "execution_count": 16,
   "metadata": {},
   "outputs": [],
   "source": [
    "fig.savefig(png_file)"
   ]
  },
  {
   "cell_type": "code",
   "execution_count": null,
   "metadata": {},
   "outputs": [],
   "source": []
  },
  {
   "cell_type": "code",
   "execution_count": null,
   "metadata": {},
   "outputs": [],
   "source": []
  }
 ],
 "metadata": {
  "kernelspec": {
   "display_name": "Python 3",
   "language": "python",
   "name": "python3"
  },
  "language_info": {
   "codemirror_mode": {
    "name": "ipython",
    "version": 3
   },
   "file_extension": ".py",
   "mimetype": "text/x-python",
   "name": "python",
   "nbconvert_exporter": "python",
   "pygments_lexer": "ipython3",
   "version": "3.7.6"
  }
 },
 "nbformat": 4,
 "nbformat_minor": 2
}
