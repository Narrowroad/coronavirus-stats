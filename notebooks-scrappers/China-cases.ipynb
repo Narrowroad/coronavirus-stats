{
 "cells": [
  {
   "cell_type": "code",
   "execution_count": 1,
   "metadata": {},
   "outputs": [],
   "source": [
    "import pandas as pd\n",
    "import requests\n",
    "from bs4 import BeautifulSoup\n",
    "import re\n",
    "from datetime import datetime\n",
    "from selenium import webdriver\n",
    "from selenium.webdriver.chrome.options import Options  \n"
   ]
  },
  {
   "cell_type": "code",
   "execution_count": 2,
   "metadata": {},
   "outputs": [
    {
     "data": {
      "text/plain": [
       "datetime.datetime(2020, 3, 31, 1, 8, 26, 975613)"
      ]
     },
     "execution_count": 2,
     "metadata": {},
     "output_type": "execute_result"
    }
   ],
   "source": [
    "datetime.now()"
   ]
  },
  {
   "cell_type": "code",
   "execution_count": 3,
   "metadata": {},
   "outputs": [],
   "source": [
    "chrome_options = Options()  \n",
    "chrome_options.add_argument(\"--headless\")  \n",
    "chrome_options.add_argument(\"--no-sandbox\")\n",
    "\n",
    "driver = webdriver.Chrome('chromedriver', options=chrome_options)"
   ]
  },
  {
   "cell_type": "code",
   "execution_count": 4,
   "metadata": {},
   "outputs": [],
   "source": [
    "url = 'https://ncov.dxy.cn/ncovh5/view/pneumonia'\n",
    "driver.get(url)"
   ]
  },
  {
   "cell_type": "markdown",
   "metadata": {},
   "source": [
    "### Extract date"
   ]
  },
  {
   "cell_type": "code",
   "execution_count": 5,
   "metadata": {},
   "outputs": [],
   "source": [
    "content = driver.page_source\n",
    "soup =BeautifulSoup(content, 'lxml')\n"
   ]
  },
  {
   "cell_type": "code",
   "execution_count": 6,
   "metadata": {},
   "outputs": [
    {
     "data": {
      "text/plain": [
       "['try { window.getTimelineService1 = [{\"id\":20717,\"pubDate\":1585616252000,\"pubDateStr\":\"10分钟前\",\"title\":\"江苏31日最新通报：江苏省新增境外输入新冠肺炎确诊病例1例\",\"summary\":\"3月30日0-24时，江苏省新增境外输入新冠肺炎确诊病例1例，为通过口岸联防联控机制报告（英国输入）。截至3月30日24时，累计报告境外输入确诊病例15例。\",\"infoSource\":\"央视新闻app\",\"sourceUrl\":\"http://app.cctv.com/special/cportal/detail/arti/index.html?id=ArtiGnilzYd4JVl5utukH6yH200331&isfromapp=1\",\"provinceId\":\"\"},{\"id\":20711,\"pubDate\":1585616142000,\"pubDateStr\":\"12分钟前\",\"title\":\"宁夏31日最新通报：连续27天无新增确诊病例\",\"summary\":\"3月31日，宁夏应对新型冠状病毒肺炎疫情工作指挥部发布最新全区新冠肺炎疫情通报。截至2020年3月30日24时，宁夏连续27天无新增确诊病例。\",\"infoSource\":\"央视新闻app\",\"sourceUrl\":\"http://app.cctv.com/special/cportal/detail/arti/index.html?id=ArtidzEDkSMl0rKmNQ4HMAP2200331&isfromapp=1\",\"provinceId\":\"\"},{\"id\":20708,\"pubDate\":1585615440000,\"pubDateStr\":\"24分钟前\",\"title\":\"福建30日新增3例境外输入新冠肺炎确诊病例 累计境外输入47例\",\"summary\":\"3月30日0—24时，福建省报告新增境外输入新型冠状病毒肺炎确诊病例3例，其中：美国1例（福州市报告）；菲律宾2例（厦门市报告）。\",\"infoSource\":\"央视新闻app\",\"sourceUrl\":\"http://app.cctv.com/special/cportal/detail/arti/index.html?id=ArtiMbLTEP1iIJsC5ztLUHoa200331&isfromapp=1\",\"provinceId\":\"\"},{\"id\":20709,\"pubDate\":1585615351000,\"pubDateStr\":\"25分钟前\",\"title\":\"四川31日通报：无新增新冠肺炎确诊病例 \",\"summary\":\"3月30日0-24时，四川省新型冠状病毒肺炎无新增确诊病例，无新增治愈出院病例，无新增疑似病例，无新增死亡病例。\",\"infoSource\":\"央视新闻app\",\"sourceUrl\":\"http://app.cctv.com/special/cportal/detail/arti/index.html?id=ArtiE5zCISLcGTzB6CnG2oZ4200331&isfromapp=1\",\"provinceId\":\"\"},{\"id\":20695,\"pubDate\":1585615138000,\"pubDateStr\":\"29分钟前\",\"title\":\" 3月30日0-24时，四川新型冠状病毒肺炎无新增确诊病例\",\"summary\":\" 3月30日0-24时，四川新型冠状病毒肺炎无新增确诊病例，无新增治愈出院病例，无新增疑似病例，无新增死亡病例。\",\"infoSource\":\"四川卫健委\",\"sourceUrl\":\"http://wsjkw.sc.gov.cn/scwsjkw/gzbd01/2020/3/31/5ca89076c002410ea36e7235b79eff52.shtml\",\"provinceId\":\"\"},{\"id\":20694,\"pubDate\":1585615120000,\"pubDateStr\":\"29分钟前\",\"title\":\" 北京昨日新增报告境外输入病例3例，无新增报告本地病例 \",\"summary\":\"3月30日12时至24时，新增报告境外输入新冠肺炎确诊病例3例，其中塞尔维亚2例、西班牙1例。治愈出院1例。\",\"infoSource\":\"北京卫健委\",\"sourceUrl\":\"http://wjw.beijing.gov.cn/xwzx_20031/xwfb/202003/t20200331_1750025.html\",\"provinceId\":\"\"},{\"id\":20690,\"pubDate\":1585614898000,\"pubDateStr\":\"33分钟前\",\"title\":\"河南30日无新增新冠肺炎确诊病例\",\"summary\":\"2020年3月30日0时-24时，河南省无新增新冠肺炎确诊病例。截至3月30日24时，河南省累计报告本地新冠肺炎确诊病例1273例，累计死亡病例22例，累计出院病例1250例。\",\"infoSource\":\"央视新闻app\",\"sourceUrl\":\"http://app.cctv.com/special/cportal/detail/arti/index.html?id=Arti01pmaXzZY9NifOw8cdWQ200331&isfromapp=1\",\"provinceId\":\"\"},{\"id\":20691,\"pubDate\":1585614871000,\"pubDateStr\":\"33分钟前\",\"title\":\"\\u200b湖南31日最新通报：无新增新冠肺炎确诊病例 161人接受医学观察\",\"summary\":\"2020年3月30日0-24时，湖南省报告新型冠状病毒肺炎新增确诊病例0例。截至3月30日24时，湖南省累计报告新型冠状病毒肺炎确诊病例1018例，死亡病例4例，出院病例1014例。\",\"infoSource\":\"央视新闻app\",\"sourceUrl\":\"http://app.cctv.com/special/cportal/detail/arti/index.html?id=ArtiB28vScFZ6gklvUBPhh5n200331&isfromapp=1\",\"provinceId\":\"\"},{\"id\":20692,\"pubDate\":1585614649000,\"pubDateStr\":\"37分钟前\",\"title\":\"\\u200b云南31日最新通报：无新增本地确诊病例 新增境外输入确诊病例1例\",\"summary\":\"据云南省卫生健康委通报，3月30日0时至24时，云南省无新增本地确诊病例，新增境外输入确诊病例1例（中国公民，英国输入）。\",\"infoSource\":\"央视新闻app\",\"sourceUrl\":\"http://app.cctv.com/special/cportal/detail/arti/index.html?id=ArtioFh6zStXfrOv6EXOJETR200331&isfromapp=1\",\"provinceId\":\"\"},{\"id\":20693,\"pubDate\":1585614600000,\"pubDateStr\":\"38分钟前\",\"title\":\"湖北30日无新增新冠肺炎确诊病例 新增出院271例\",\"summary\":\"2020年3月30日0—24时，湖北省新增新冠肺炎确诊病例0例，无境外输入性病例。新增病亡1例，其中：武汉市1例，其他16个市州均为0例。\",\"infoSource\":\"央视新闻app\",\"sourceUrl\":\"http://app.cctv.com/special/cportal/detail/arti/index.html?id=ArtiKnwT83K6QPCmqF0h04mH200331&isfromapp=1\",\"provinceId\":\"\"},{\"id\":20689,\"pubDate\":1585614307000,\"pubDateStr\":\"42分钟前\",\"title\":\"北京30日新增报告境外输入病例3例  无新增报告本地病例\",\"summary\":\"3月30日12时至24时，北京新增报告境外输入新冠肺炎确诊病例3例，其中塞尔维亚2例、西班牙1例。治愈出院1例。\",\"infoSource\":\"央视新闻app\",\"sourceUrl\":\"http://app.cctv.com/special/cportal/detail/arti/index.html?id=Arti7fEnDBfvPFi02GGanXCL200331&isfromapp=1\",\"provinceId\":\"\"},{\"id\":20685,\"pubDate\":1585614256000,\"pubDateStr\":\"43分钟前\",\"title\":\"海南31日通报：无新增新冠肺炎确诊病例\",\"summary\":\"3月30日0-24时，海南省报告新型冠状病毒肺炎新增确诊病例0例，新增重症病例0例，新增死亡病例0例，新增出院0例。\",\"infoSource\":\"央视新闻app\",\"sourceUrl\":\"http://app.cctv.com/special/cportal/detail/arti/index.html?id=ArtiAIzj7jplNivOKLHms04P200331&isfromapp=1\",\"provinceId\":\"\"},{\"id\":20686,\"pubDate\":1585614238000,\"pubDateStr\":\"44分钟前\",\"title\":\"山东3月31日通报：新增境外输入确诊病例1例 累计治愈出院752例\",\"summary\":\"2020年3月30日12-24时，山东省无本地住院疑似病例、确诊病例。累计报告确诊病例759例，死亡病例7例，治愈出院752例。\",\"infoSource\":\"央视新闻app\",\"sourceUrl\":\"http://app.cctv.com/special/cportal/detail/arti/index.html?id=ArtiGSpQINnOic9OZ0Pl6Iw6200331&isfromapp=1\",\"provinceId\":\"\"},{\"id\":20678,\"pubDate\":1585613609000,\"pubDateStr\":\"54分钟前\",\"title\":\"辽宁30日最新通报：新增3例境外输入确诊病例 在院治疗13例\",\"summary\":\"2020年3月30日0时至24时，辽宁新增3例境外输入新型冠状病毒肺炎确诊病例。2例为沈阳市病例（来自美国1例、英国1例），均属普通型病例；1例为鞍山市病例（来自美国），属普通型病例。无新增治愈出院病例。\",\"infoSource\":\"央视新闻app\",\"sourceUrl\":\"http://app.cctv.com/special/cportal/detail/arti/index.html?id=ArtiiQGJ8946oBzyRKe9zzuL200331&isfromapp=1\",\"provinceId\":\"\"},{\"id\":20680,\"pubDate\":1585613516000,\"pubDateStr\":\"56分钟前\",\"title\":\"广西31日最新通报：无新增确诊、疑似病例\",\"summary\":\"3月30日0至24时，广西无新增确诊、疑似病例，无新增死亡病例。\",\"infoSource\":\"央视新闻app\",\"sourceUrl\":\"http://app.cctv.com/special/cportal/detail/arti/index.html?id=Artiho4TOHLPvk7Mz0uNmd8b200331&isfromapp=1\",\"provinceId\":\"\"},{\"id\":20681,\"pubDate\":1585613391000,\"pubDateStr\":\"58分钟前\",\"title\":\"突尼斯新冠肺炎确诊病例累计升至362例\",\"summary\":\"据突尼斯媒体当地时间3月30日晚报道，突尼斯卫生部当天（30日）晚确认，突尼斯当天新增50例新冠肺炎确诊病例。累计确诊病例362例，累计死亡10例。\",\"infoSource\":\"央视新闻app\",\"sourceUrl\":\"http://app.cctv.com/special/cportal/detail/arti/index.html?id=ArtiutVP9aq0b7EVICak2RyB200331&isfromapp=1\",\"provinceId\":\"\"},{\"id\":20677,\"pubDate\":1585613226000,\"pubDateStr\":\"1小时前\",\"title\":\"摩洛哥新冠肺炎确诊病例总数上升至556例\",\"summary\":\"摩洛哥卫生部当地时间30日晚8时确认，摩洛哥新增新冠肺炎确诊病例22例，新增治愈出院1例。摩洛哥新冠肺炎确诊病例累计556例，累计治愈出院14例，累计死亡病例33例。\",\"infoSource\":\"央视新闻app\",\"sourceUrl\":\"http://app.cctv.com/special/cportal/detail/arti/index.html?id=Arti1nH1WXD51NYdgqJSW3Kh200331&isfromapp=1\",\"provinceId\":\"\"},{\"id\":20673,\"pubDate\":1585613044000,\"pubDateStr\":\"1小时前\",\"title\":\"2020年3月30日0-24时,黑龙江省无新增确诊病例\",\"summary\":\"2020年3月30日0-24时,黑龙江省无新增确诊病例，无新增疑似病例，无新增境外输入确诊病例。省内当日发热门诊诊疗人数903人。\",\"infoSource\":\"黑龙江卫健委\",\"sourceUrl\":\"http://wsjkw.hlj.gov.cn/index.php/Home/Zwgk/show/newsid/8174/navid/42/stypeid/\",\"provinceId\":\"\"},{\"id\":20675,\"pubDate\":1585612800000,\"pubDateStr\":\"1小时前\",\"title\":\"2020年3月30日广西无新增确诊、疑似病例，无新增死亡病例\",\"summary\":\"\\\\n      3月30日0至24时，我区无新增确诊、疑似病例，无新增死亡病例。全区累计报告确诊病例254例，其中2例境外输入确诊病例现在定点医院隔离治疗，治愈出院250例，死亡2例。\",\"infoSource\":\"广西卫健委\",\"sourceUrl\":\"http://wsjkw.gxzf.gov.cn/zhuantiqu/ncov/ncovyqtb/2020/0331/70816.html\",\"provinceId\":\"\"},{\"id\":20669,\"pubDate\":1585612691000,\"pubDateStr\":\"1小时前\",\"title\":\"上海31日最新通报：无新增本地新冠肺炎确诊病例 新增境外输入11例\",\"summary\":\"3月30日0—24时，通过口岸联防联控机制，报告11例境外输入性新冠肺炎确诊病例。新增治愈出院4例，其中西班牙输入性病例2例，伊朗输入性病例1例，意大利输入性病例1例。\",\"infoSource\":\"央视新闻app\",\"sourceUrl\":\"http://app.cctv.com/special/cportal/detail/arti/index.html?id=Artic5OCgz8vqsmUMprwo4RI200331&isfromapp=1\",\"provinceId\":\"\"},{\"id\":20672,\"pubDate\":1585612513000,\"pubDateStr\":\"1小时前\",\"title\":\"内蒙古31日最新通报：新增境外输入新冠肺炎确诊病例10例 新增疑似病例2例\",\"summary\":\"截至2020年3月30日24时，内蒙古自治区已连续41日无新增本土新冠肺炎确诊病例、无新增本土新冠肺炎疑似病例。\",\"infoSource\":\"央视新闻app\",\"sourceUrl\":\"http://app.cctv.com/special/cportal/detail/arti/index.html?id=ArtiDbxhZFIpEPdO8YUWT6JG200331&isfromapp=1\",\"provinceId\":\"\"},{\"id\":20674,\"pubDate\":1585612200000,\"pubDateStr\":\"1小时前\",\"title\":\"2020年3月30日0时至24时辽宁省新增3例境外输入新型冠状病毒肺炎确诊病例\",\"summary\":\"2020年3月30日0时至24时，辽宁省新增3例境外输入新型冠状病毒肺炎确诊病例。2例为沈阳市病例（来自美国1例、英国1例），均属普通型病例；1例为鞍山市病例（来自美国），属普通型病例。无新增治愈出院病例。\\\\n\\\\n                   \\\\n    \\\\n                \\\\n                  \\\\n                    \\\\n                     \\\\n                  \\\\n                \\\\n      \\\\n        \",\"infoSource\":\"辽宁卫健委\",\"sourceUrl\":\"http://wsjk.ln.gov.cn/wst_zdzt/xxgzbd/yqtb/202003/t20200331_3802035.html\",\"provinceId\":\"\"},{\"id\":20664,\"pubDate\":1585611933000,\"pubDateStr\":\"1小时前\",\"title\":\"严防境外输入！目前有34个国际道路运输口岸开放货运\",\"summary\":\"在昨天（30日）的联防联控机制新闻发布会上，交通运输部相关负责人介绍，到目前为止，我国有65个开通国际道路运输的口岸，其中34个到现在为止保持开放状态，其他的因为季节原因或受疫情影响已经全部关闭。\",\"infoSource\":\"央视新闻app\",\"sourceUrl\":\"http://app.cctv.com/special/cportal/detail/arti/index.html?id=ArtiamdlCW19SNluTojPuKmk200331&isfromapp=1\",\"provinceId\":\"\"},{\"id\":20656,\"pubDate\":1585611146000,\"pubDateStr\":\"1小时前\",\"title\":\"3月30日0-24时，吉林省无新增境外输入确诊病例\",\"summary\":\"\\\\n\\u3000\\u30003月30日0-24时，全省无新增境外输入确诊病例。\",\"infoSource\":\"吉林卫健委\",\"sourceUrl\":\"http://www.jl.gov.cn/szfzt/jlzxd/yqtb/202003/t20200331_7009754.html\",\"provinceId\":\"\"},{\"id\":20657,\"pubDate\":1585611146000,\"pubDateStr\":\"1小时前\",\"title\":\"本地疫情3月30日0—24时，重庆市本地无新增新冠肺炎确诊病例报告\",\"summary\":\"截至3月30日24时，重庆市本地无在院确诊病例，累计治愈出院病例570例，累计死亡病例6例，累计报告确诊病例576例。\",\"infoSource\":\"重庆卫健委\",\"sourceUrl\":\"http://www.wsjkw.cq.gov.cn/yqxxyqtb/20200331/261554.html\",\"provinceId\":\"\"},{\"id\":20652,\"pubDate\":1585610541000,\"pubDateStr\":\"1小时前\",\"title\":\"巴西新冠肺炎确诊病例达4579例 日检测量将大幅提高\",\"summary\":\"截至当地时间3月30日18时，巴西全国共确诊新冠肺炎病例4579例，比昨日新增323例，死亡病例159例，死亡率为3.5%。\",\"infoSource\":\"央视新闻app\",\"sourceUrl\":\"http://app.cctv.com/special/cportal/detail/arti/index.html?id=ArtiZ3kruRjYNCUulvJ5yFQZ200331&isfromapp=1\",\"provinceId\":\"\"}]}catch(e){}',\n",
       " '截至北京时间 2020-03-31 01:05',\n",
       " '截至北京时间 2020-03-31 01:05',\n",
       " '3月30日0-24时，江苏省新增境外输入新冠肺炎确诊病例1例，为通过口岸联防联控机制报告（英国输入）。截至3月30日24时，累计报告境外输入确诊病例15例。',\n",
       " '3月31日，宁夏应对新型冠状病毒肺炎疫情工作指挥部发布最新全区新冠肺炎疫情通报。截至2020年3月30日24时，宁夏连续27天无新增确诊病例。',\n",
       " '2020年3月30日0时-24时，河南省无新增新冠肺炎确诊病例。截至3月30日24时，河南省累计报告本地新冠肺炎确诊病例1273例，累计死亡病例22例，累计出院病例1250例。',\n",
       " '2020年3月30日0-24时，湖南省报告新型冠状病毒肺炎新增确诊病例0例。截至3月30日24时，湖南省累计报告新型冠状病毒肺炎确诊病例1018例，死亡病例4例，出院病例1014例。',\n",
       " '截至2020年3月30日24时，内蒙古自治区已连续41日无新增本土新冠肺炎确诊病例、无新增本土新冠肺炎疑似病例。',\n",
       " '截至3月30日24时，重庆市本地无在院确诊病例，累计治愈出院病例570例，累计死亡病例6例，累计报告确诊病例576例。',\n",
       " '截至当地时间3月30日18时，巴西全国共确诊新冠肺炎病例4579例，比昨日新增323例，死亡病例159例，死亡率为3.5%。']"
      ]
     },
     "execution_count": 6,
     "metadata": {},
     "output_type": "execute_result"
    }
   ],
   "source": [
    "data = soup.findAll(text=re.compile(\"截至.+\"))\n",
    "data"
   ]
  },
  {
   "cell_type": "code",
   "execution_count": 7,
   "metadata": {},
   "outputs": [
    {
     "data": {
      "text/plain": [
       "'2020-03-31 01:05'"
      ]
     },
     "execution_count": 7,
     "metadata": {},
     "output_type": "execute_result"
    }
   ],
   "source": [
    "for s in data:\n",
    "    m = re.search(\"截至.*(202\\d-\\d+-\\d+ \\d+:\\d+)\", s)\n",
    "    if m is not None:\n",
    "        data_date_time = m.group(1)\n",
    "data_date_time"
   ]
  },
  {
   "cell_type": "markdown",
   "metadata": {},
   "source": [
    "### Extract data (summary)"
   ]
  },
  {
   "cell_type": "code",
   "execution_count": 8,
   "metadata": {},
   "outputs": [
    {
     "data": {
      "text/plain": [
       "['try { window.getStatisticsService = {\"id\":1,\"createTime\":1579537899000,\"modifyTime\":1585616755000,\"infectSource\":\"该字段已替换为说明2\",\"passWay\":\"该字段已替换为说明3\",\"imgUrl\":\"https://img1.dxycdn.com/2020/0201/450/3394153392393266839-135.png\",\"dailyPic\":\"https://img1.dxycdn.com/2020/0211/763/3395998884005602079-135.png,https://img1.dxycdn.com/2020/0211/362/3395998896890788910-135.png,https://img1.dxycdn.com/2020/0211/365/3395998905480724211-135.png,https://img1.dxycdn.com/2020/0211/364/3395998916217859778-135.png,https://img1.dxycdn.com/2020/0211/922/3395998929103046444-135.png,https://img1.dxycdn.com/2020/0211/089/3395998939840182072-135.png\",\"dailyPics\":[\"https://img1.dxycdn.com/2020/0211/763/3395998884005602079-135.png\",\"https://img1.dxycdn.com/2020/0211/362/3395998896890788910-135.png\",\"https://img1.dxycdn.com/2020/0211/365/3395998905480724211-135.png\",\"https://img1.dxycdn.com/2020/0211/364/3395998916217859778-135.png\",\"https://img1.dxycdn.com/2020/0211/922/3395998929103046444-135.png\",\"https://img1.dxycdn.com/2020/0211/089/3395998939840182072-135.png\"],\"summary\":\"\",\"deleted\":false,\"countRemark\":\"\",\"currentConfirmedCount\":3006,\"confirmedCount\":82545,\"suspectedCount\":771,\"curedCount\":76225,\"deadCount\":3314,\"seriousCount\":528,\"suspectedIncr\":30,\"currentConfirmedIncr\":-194,\"confirmedIncr\":156,\"curedIncr\":343,\"deadIncr\":7,\"seriousIncr\":-109,\"virus\":\"该字段已替换为说明1\",\"remark1\":\"易感人群：人群普遍易感。老年人及有基础疾病者感染后病情较重，儿童及婴幼儿也有发病\",\"remark2\":\"潜伏期：一般为 3～7 天，最长不超过 14 天，潜伏期内可能存在传染性，其中无症状病例传染性非常罕见\",\"remark3\":\"宿主：野生动物，可能为中华菊头蝠\",\"remark4\":\"\",\"remark5\":\"\",\"note1\":\"病毒：SARS-CoV-2，其导致疾病命名 COVID-19\",\"note2\":\"传染源：新冠肺炎的患者。无症状感染者也可能成为传染源。\",\"note3\":\"传播途径：经呼吸道飞沫、接触传播是主要的传播途径。气溶胶传播和消化道等传播途径尚待明确。\",\"generalRemark\":\"1. 3 月 12 日国家卫健委确诊补订遗漏 12 例确诊病例（非 12 日新增），暂无具体省份信息。 2. 浙江省 12 例外省治愈暂无具体省份信息。\",\"abroadRemark\":\"\",\"marquee\":[{\"id\":1824,\"marqueeLabel\":\"世卫组织\",\"marqueeContent\":\"意大利、西班牙疫情或趋向稳定\",\"marqueeLink\":\"https://dxy.me/LrGCau\"},{\"id\":1825,\"marqueeLabel\":\"美国\",\"marqueeContent\":\"一样又不一样，纽约方舱即将开舱\",\"marqueeLink\":\"https://dxy.me/jU1G0D\"},{\"id\":1826,\"marqueeLabel\":\"数字新冠\",\"marqueeContent\":\"3 月 30 日，世界因新冠而变\",\"marqueeLink\":\"https://dxy.me/MdEyHY\"}],\"quanguoTrendChart\":[{\"imgUrl\":\"https://img1.dxycdn.com/2020/0324/278/3403801351376518263-135.png\",\"title\":\"新增疑似/新增确诊\"},{\"imgUrl\":\"https://img1.dxycdn.com/2020/0324/812/3403847865872006755-135.png\",\"title\":\"境外输入\"},{\"imgUrl\":\"https://img1.dxycdn.com/2020/0324/547/3403847848692336947-135.png\",\"title\":\"现存确诊\"},{\"imgUrl\":\"https://img1.dxycdn.com/2020/0324/775/3403801407211095604-135.png\",\"title\":\"治愈\"},{\"imgUrl\":\"https://img1.dxycdn.com/2020/0324/250/3403801424390727199-135.png\",\"title\":\"死亡\"}],\"hbFeiHbTrendChart\":[{\"imgUrl\":\"https://img1.dxycdn.com/2020/0326/624/3404177508906904585-135.png\",\"title\":\"非湖北新增确诊\"},{\"imgUrl\":\"https://img1.dxycdn.com/2020/0326/777/3404177532529485065-135.png\",\"title\":\"湖北新增确诊\"},{\"imgUrl\":\"https://img1.dxycdn.com/2020/0326/376/3404177556151805921-135.png\",\"title\":\"湖北现存确诊\"},{\"imgUrl\":\"https://img1.dxycdn.com/2020/0326/527/3404177575478899995-135.png\",\"title\":\"非湖北现存确诊\"},{\"imgUrl\":\"https://img1.dxycdn.com/2020/0326/419/3404177596953996726-135.png\",\"title\":\"治愈/死亡\"}],\"foreignTrendChart\":[{\"imgUrl\":\"https://img1.dxycdn.com/2020/0320/702/3403079914982117944-135.png\",\"title\":\"国外新增确诊\"},{\"imgUrl\":\"https://img1.dxycdn.com/2020/0320/396/3403079925719536561-135.png\",\"title\":\"国外累计确诊\"},{\"imgUrl\":\"https://img1.dxycdn.com/2020/0320/139/3403079936457225524-135.png\",\"title\":\"国外死亡\"}],\"importantForeignTrendChart\":[{\"imgUrl\":\"https://img1.dxycdn.com/2020/0320/450/3403077453965772423-135.png\",\"title\":\"重点国家新增确诊\"},{\"imgUrl\":\"https://img1.dxycdn.com/2020/0320/276/3403077462555980566-135.png\",\"title\":\"日本新增确诊\"},{\"imgUrl\":\"https://img1.dxycdn.com/2020/0320/340/3403077473293125942-135.png\",\"title\":\"意大利新增确诊\"},{\"imgUrl\":\"https://img1.dxycdn.com/2020/0320/723/3403077481883334043-135.png\",\"title\":\"伊朗新增确诊\"},{\"imgUrl\":\"https://img1.dxycdn.com/2020/0320/266/3403077492620752785-135.png\",\"title\":\"美国新增确诊\"},{\"imgUrl\":\"https://img1.dxycdn.com/2020/0320/870/3403077503358171278-135.png\",\"title\":\"法国新增确诊\"},{\"imgUrl\":\"https://img1.dxycdn.com/2020/0320/053/3403077511947832997-135.png\",\"title\":\"德国新增确诊\"},{\"imgUrl\":\"https://img1.dxycdn.com/2020/0320/878/3403077520537768006-135.png\",\"title\":\"西班牙新增确诊\"},{\"imgUrl\":\"https://img1.dxycdn.com/2020/0320/443/3403077531275186665-135.png\",\"title\":\"韩国新增确诊\"}],\"foreignTrendChartGlobal\":[{\"imgUrl\":\"https://img1.dxycdn.com/2020/0319/740/3402859458605738923-135.png\",\"title\":\"Daily New Cases\"},{\"imgUrl\":\"https://img1.dxycdn.com/2020/0319/351/3402856772103846114-135.png\",\"title\":\"Total Confirmed Cases\"},{\"imgUrl\":\"https://img1.dxycdn.com/2020/0319/236/3402856782841001789-135.png\",\"title\":\"Total Deaths Cases\"}],\"importantForeignTrendChartGlobal\":[{\"imgUrl\":\"https://img1.dxycdn.com/2020/0319/122/3402856838675578578-135.png\",\"title\":\"Daily New Cases\"},{\"imgUrl\":\"https://img1.dxycdn.com/2020/0319/685/3402856849412997239-135.png\",\"title\":\"Japan\"},{\"imgUrl\":\"https://img1.dxycdn.com/2020/0319/477/3402856860150678804-135.png\",\"title\":\"Italy\"},{\"imgUrl\":\"https://img1.dxycdn.com/2020/0319/454/3402856873035581014-135.png\",\"title\":\"Iran\"},{\"imgUrl\":\"https://img1.dxycdn.com/2020/0319/022/3402856883772999714-135.png\",\"title\":\"U.S.A.\"},{\"imgUrl\":\"https://img1.dxycdn.com/2020/0319/529/3402856894510155506-135.png\",\"title\":\"France\"},{\"imgUrl\":\"https://img1.dxycdn.com/2020/0319/211/3402856905247574064-135.png\",\"title\":\"Germany\"},{\"imgUrl\":\"https://img1.dxycdn.com/2020/0319/054/3402856913837508985-135.png\",\"title\":\"Spain\"},{\"imgUrl\":\"https://img1.dxycdn.com/2020/0319/088/3402856928870157852-135.png\",\"title\":\"Republic of Korea\"}],\"foreignStatistics\":{\"currentConfirmedCount\":568656,\"confirmedCount\":682397,\"suspectedCount\":4,\"curedCount\":80262,\"deadCount\":33479},\"globalStatistics\":{\"currentConfirmedCount\":571662,\"confirmedCount\":764942,\"curedCount\":156487,\"deadCount\":36793},\"globalOtherTrendChartData\":\"https://file1.dxycdn.com/2020/0330/942/3404907558858335987-135.json\"}}catch(e){}']"
      ]
     },
     "execution_count": 8,
     "metadata": {},
     "output_type": "execute_result"
    }
   ],
   "source": [
    "data = soup.findAll(text=re.compile('\\\"summary.+\\\"confirmedCount\\\":\\d'))\n",
    "\n",
    "data\n"
   ]
  },
  {
   "cell_type": "code",
   "execution_count": 9,
   "metadata": {},
   "outputs": [],
   "source": [
    "m = re.search('\\\"confirmedCount\\\":(\\d+)', data[0])\n",
    "summary_confirmed_count = int(m.group(1))\n",
    "\n",
    "\n",
    "m = re.search('\\\"curedCount\\\":(\\d+)', data[0])\n",
    "summary_cured_count = int(m.group(1))\n",
    "\n",
    "m = re.search('\\\"deadCount\\\":(\\d+)', data[0])\n",
    "summary_dead_count = int(m.group(1))\n"
   ]
  },
  {
   "cell_type": "code",
   "execution_count": 10,
   "metadata": {},
   "outputs": [
    {
     "data": {
      "text/html": [
       "<div>\n",
       "<style scoped>\n",
       "    .dataframe tbody tr th:only-of-type {\n",
       "        vertical-align: middle;\n",
       "    }\n",
       "\n",
       "    .dataframe tbody tr th {\n",
       "        vertical-align: top;\n",
       "    }\n",
       "\n",
       "    .dataframe thead th {\n",
       "        text-align: right;\n",
       "    }\n",
       "</style>\n",
       "<table border=\"1\" class=\"dataframe\">\n",
       "  <thead>\n",
       "    <tr style=\"text-align: right;\">\n",
       "      <th></th>\n",
       "      <th>datetime</th>\n",
       "      <th>confirmed</th>\n",
       "      <th>cured</th>\n",
       "      <th>dead</th>\n",
       "    </tr>\n",
       "  </thead>\n",
       "  <tbody>\n",
       "    <tr>\n",
       "      <th>0</th>\n",
       "      <td>2020-03-31 01:05</td>\n",
       "      <td>82545</td>\n",
       "      <td>76225</td>\n",
       "      <td>3314</td>\n",
       "    </tr>\n",
       "  </tbody>\n",
       "</table>\n",
       "</div>"
      ],
      "text/plain": [
       "           datetime  confirmed  cured  dead\n",
       "0  2020-03-31 01:05      82545  76225  3314"
      ]
     },
     "execution_count": 10,
     "metadata": {},
     "output_type": "execute_result"
    }
   ],
   "source": [
    "# make a dataframe\n",
    "df = pd.DataFrame({\n",
    "    'datetime': data_date_time,\n",
    "    'confirmed': summary_confirmed_count,\n",
    "    'cured': summary_cured_count,\n",
    "    'dead': summary_dead_count\n",
    "}, index=[0])\n",
    "df"
   ]
  },
  {
   "cell_type": "markdown",
   "metadata": {},
   "source": [
    "### Save to file"
   ]
  },
  {
   "cell_type": "code",
   "execution_count": 11,
   "metadata": {},
   "outputs": [],
   "source": [
    "from pathlib import Path\n",
    "csv_file = '../data/china-summary-cases.csv'\n",
    "\n",
    "if Path(csv_file).exists():\n",
    "    # read out the old data - then merge with new data and remove duplicates based on datetime\n",
    "    old_df = pd.read_csv(csv_file)\n",
    "    df = df.append(old_df)\n",
    "df.drop_duplicates(subset=['datetime'], inplace=True)"
   ]
  },
  {
   "cell_type": "code",
   "execution_count": 12,
   "metadata": {},
   "outputs": [],
   "source": [
    "df.sort_values(by=['datetime'], inplace=True)\n",
    "\n",
    "df.to_csv(csv_file, index=False)\n"
   ]
  },
  {
   "cell_type": "markdown",
   "metadata": {},
   "source": [
    "### Plot graph"
   ]
  },
  {
   "cell_type": "code",
   "execution_count": 13,
   "metadata": {},
   "outputs": [],
   "source": [
    "import seaborn as sns\n",
    "import matplotlib.pyplot as plt\n",
    "from pandas.plotting import register_matplotlib_converters\n",
    "register_matplotlib_converters()\n",
    "\n",
    "png_file = '../images/china-summary-cases.png'\n",
    "# convert to pd.datetime\n",
    "df['datetime_idx'] = pd.to_datetime(df['datetime'], format=\"%Y-%m-%d %H:%M\")\n",
    "\n",
    "df.set_index('datetime_idx', inplace=True)\n",
    "df.drop(['datetime'], axis=1, inplace=True)\n"
   ]
  },
  {
   "cell_type": "code",
   "execution_count": 14,
   "metadata": {},
   "outputs": [
    {
     "data": {
      "text/html": [
       "<div>\n",
       "<style scoped>\n",
       "    .dataframe tbody tr th:only-of-type {\n",
       "        vertical-align: middle;\n",
       "    }\n",
       "\n",
       "    .dataframe tbody tr th {\n",
       "        vertical-align: top;\n",
       "    }\n",
       "\n",
       "    .dataframe thead th {\n",
       "        text-align: right;\n",
       "    }\n",
       "</style>\n",
       "<table border=\"1\" class=\"dataframe\">\n",
       "  <thead>\n",
       "    <tr style=\"text-align: right;\">\n",
       "      <th></th>\n",
       "      <th>confirmed</th>\n",
       "      <th>cured</th>\n",
       "      <th>dead</th>\n",
       "    </tr>\n",
       "    <tr>\n",
       "      <th>datetime_idx</th>\n",
       "      <th></th>\n",
       "      <th></th>\n",
       "      <th></th>\n",
       "    </tr>\n",
       "  </thead>\n",
       "  <tbody>\n",
       "    <tr>\n",
       "      <th>2020-02-02 10:22:00</th>\n",
       "      <td>14483</td>\n",
       "      <td>379</td>\n",
       "      <td>304</td>\n",
       "    </tr>\n",
       "    <tr>\n",
       "      <th>2020-02-02 10:28:00</th>\n",
       "      <td>14483</td>\n",
       "      <td>380</td>\n",
       "      <td>304</td>\n",
       "    </tr>\n",
       "    <tr>\n",
       "      <th>2020-02-02 11:19:00</th>\n",
       "      <td>14489</td>\n",
       "      <td>385</td>\n",
       "      <td>304</td>\n",
       "    </tr>\n",
       "    <tr>\n",
       "      <th>2020-02-02 11:54:00</th>\n",
       "      <td>14489</td>\n",
       "      <td>397</td>\n",
       "      <td>304</td>\n",
       "    </tr>\n",
       "    <tr>\n",
       "      <th>2020-02-02 15:01:00</th>\n",
       "      <td>14490</td>\n",
       "      <td>430</td>\n",
       "      <td>304</td>\n",
       "    </tr>\n",
       "    <tr>\n",
       "      <th>...</th>\n",
       "      <td>...</td>\n",
       "      <td>...</td>\n",
       "      <td>...</td>\n",
       "    </tr>\n",
       "    <tr>\n",
       "      <th>2020-03-30 12:30:00</th>\n",
       "      <td>82505</td>\n",
       "      <td>75956</td>\n",
       "      <td>3313</td>\n",
       "    </tr>\n",
       "    <tr>\n",
       "      <th>2020-03-30 14:07:00</th>\n",
       "      <td>82505</td>\n",
       "      <td>75956</td>\n",
       "      <td>3313</td>\n",
       "    </tr>\n",
       "    <tr>\n",
       "      <th>2020-03-30 15:56:00</th>\n",
       "      <td>82505</td>\n",
       "      <td>75956</td>\n",
       "      <td>3313</td>\n",
       "    </tr>\n",
       "    <tr>\n",
       "      <th>2020-03-30 17:02:00</th>\n",
       "      <td>82505</td>\n",
       "      <td>75956</td>\n",
       "      <td>3313</td>\n",
       "    </tr>\n",
       "    <tr>\n",
       "      <th>2020-03-31 01:05:00</th>\n",
       "      <td>82545</td>\n",
       "      <td>76225</td>\n",
       "      <td>3314</td>\n",
       "    </tr>\n",
       "  </tbody>\n",
       "</table>\n",
       "<p>885 rows × 3 columns</p>\n",
       "</div>"
      ],
      "text/plain": [
       "                     confirmed  cured  dead\n",
       "datetime_idx                               \n",
       "2020-02-02 10:22:00      14483    379   304\n",
       "2020-02-02 10:28:00      14483    380   304\n",
       "2020-02-02 11:19:00      14489    385   304\n",
       "2020-02-02 11:54:00      14489    397   304\n",
       "2020-02-02 15:01:00      14490    430   304\n",
       "...                        ...    ...   ...\n",
       "2020-03-30 12:30:00      82505  75956  3313\n",
       "2020-03-30 14:07:00      82505  75956  3313\n",
       "2020-03-30 15:56:00      82505  75956  3313\n",
       "2020-03-30 17:02:00      82505  75956  3313\n",
       "2020-03-31 01:05:00      82545  76225  3314\n",
       "\n",
       "[885 rows x 3 columns]"
      ]
     },
     "execution_count": 14,
     "metadata": {},
     "output_type": "execute_result"
    }
   ],
   "source": [
    "df"
   ]
  },
  {
   "cell_type": "code",
   "execution_count": 15,
   "metadata": {
    "scrolled": true
   },
   "outputs": [
    {
     "data": {
      "image/png": "[encoded data removed]",
      "text/plain": [
       "<Figure size 1008x1008 with 3 Axes>"
      ]
     },
     "metadata": {},
     "output_type": "display_data"
    }
   ],
   "source": [
    "if df.shape[0]>1:\n",
    "    # line chart when having at least a few points\n",
    "    sns.set(rc={'figure.figsize':(14,14)})\n",
    "    sns.set(style=\"whitegrid\")\n",
    "\n",
    "    fig, axs = plt.subplots(nrows=3)\n",
    "\n",
    "    sns.lineplot(x=df.index, y = 'confirmed', data=df, ax= axs[0], estimator=None, color='orange')\n",
    "    sns.lineplot(x=df.index, y = 'cured', data=df, ax= axs[1], estimator=None, color='green')\n",
    "    sns.lineplot(x=df.index, y = 'dead', data=df, ax= axs[2], estimator=None, color='darkred')\n",
    "\n",
    "    for ax in axs:\n",
    "        ax.set_xlabel('')\n",
    "        ax.tick_params(axis='x', labelrotation=30)\n",
    "else:\n",
    "\n",
    "    ax = df.plot(kind='bar', stacked=True, figsize=(9,6))\n",
    "    fig = ax.get_figure()\n",
    "    ax.set_xlabel('')\n",
    "    for label in ax.get_xticklabels():\n",
    "        label.set_rotation(0) \n"
   ]
  },
  {
   "cell_type": "code",
   "execution_count": 16,
   "metadata": {},
   "outputs": [],
   "source": [
    "fig.savefig(png_file)"
   ]
  },
  {
   "cell_type": "code",
   "execution_count": null,
   "metadata": {},
   "outputs": [],
   "source": []
  },
  {
   "cell_type": "code",
   "execution_count": null,
   "metadata": {},
   "outputs": [],
   "source": []
  }
 ],
 "metadata": {
  "kernelspec": {
   "display_name": "Python 3",
   "language": "python",
   "name": "python3"
  },
  "language_info": {
   "codemirror_mode": {
    "name": "ipython",
    "version": 3
   },
   "file_extension": ".py",
   "mimetype": "text/x-python",
   "name": "python",
   "nbconvert_exporter": "python",
   "pygments_lexer": "ipython3",
   "version": "3.7.6"
  }
 },
 "nbformat": 4,
 "nbformat_minor": 2
}
