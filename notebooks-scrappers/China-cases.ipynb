{
 "cells": [
  {
   "cell_type": "code",
   "execution_count": 1,
   "metadata": {},
   "outputs": [],
   "source": [
    "import pandas as pd\n",
    "import requests\n",
    "from bs4 import BeautifulSoup\n",
    "import re\n",
    "from datetime import datetime\n",
    "from selenium import webdriver\n",
    "from selenium.webdriver.chrome.options import Options  \n"
   ]
  },
  {
   "cell_type": "code",
   "execution_count": 2,
   "metadata": {},
   "outputs": [
    {
     "data": {
      "text/plain": [
       "datetime.datetime(2020, 4, 6, 16, 8, 42, 589945)"
      ]
     },
     "execution_count": 2,
     "metadata": {},
     "output_type": "execute_result"
    }
   ],
   "source": [
    "datetime.now()"
   ]
  },
  {
   "cell_type": "code",
   "execution_count": 3,
   "metadata": {},
   "outputs": [],
   "source": [
    "chrome_options = Options()  \n",
    "chrome_options.add_argument(\"--headless\")  \n",
    "chrome_options.add_argument(\"--no-sandbox\")\n",
    "\n",
    "driver = webdriver.Chrome('chromedriver', options=chrome_options)"
   ]
  },
  {
   "cell_type": "code",
   "execution_count": 4,
   "metadata": {},
   "outputs": [],
   "source": [
    "url = 'https://ncov.dxy.cn/ncovh5/view/pneumonia'\n",
    "driver.get(url)"
   ]
  },
  {
   "cell_type": "markdown",
   "metadata": {},
   "source": [
    "### Extract date"
   ]
  },
  {
   "cell_type": "code",
   "execution_count": 5,
   "metadata": {},
   "outputs": [],
   "source": [
    "content = driver.page_source\n",
    "soup =BeautifulSoup(content, 'lxml')\n"
   ]
  },
  {
   "cell_type": "code",
   "execution_count": 6,
   "metadata": {},
   "outputs": [
    {
     "data": {
      "text/plain": [
       "['try { window.getTimelineService1 = [{\"id\":26356,\"pubDate\":1586188094000,\"pubDateStr\":\"16分钟前\",\"title\":\"英国新增新冠肺炎确诊病例3802例 累计51608例\",\"summary\":\"当地时间4月6日，英国卫生和社会保障部公布最新数据，过去24小时，英国新增新冠肺炎确诊患者3802例，累计患者达到51608例。此外，过去24小时，英国新增新冠肺炎死亡患者439例，目前累计死亡总数为5373例。截至6日9点，过去一天接受新冠病毒检测人数为13069人。\",\"infoSource\":\"央视新闻app\",\"sourceUrl\":\"http://app.cctv.com/special/cportal/detail/arti/index.html?id=ArtiAfWUpM6UO2pz3FipIUHq200406&isfromapp=1\",\"provinceId\":\"\"},{\"id\":26345,\"pubDate\":1586187449000,\"pubDateStr\":\"27分钟前\",\"title\":\"新加坡新增66例新冠肺炎确诊病例 累计1375例\",\"summary\":\"4月6日，新加坡卫生部宣布，当天（6日）新增66例新冠肺炎确诊病例，其中65例是社区感染病例。卫生部称，一家学前教育机构和一所外籍劳工宿舍区确认发生群体感染事件。外籍劳工目前是新加坡新冠肺炎社区感染人数最多的群体，部分劳工宿舍已经被设立为隔离区。截至当天，新加坡累计确诊新冠肺炎病例1375例，累计治愈344例，死亡6例。\",\"infoSource\":\"央视新闻app\",\"sourceUrl\":\"http://app.cctv.com/special/cportal/detail/arti/index.html?id=ArtiRUxCnGvII17P6ok1Wl8n200406&isfromapp=1\",\"provinceId\":\"\"},{\"id\":26338,\"pubDate\":1586186764000,\"pubDateStr\":\"38分钟前\",\"title\":\"利比里亚新增1例新冠肺炎确诊病例 累计确诊14例\",\"summary\":\"据利比里亚公共卫生研究院统计， 4月6日， 利比里亚新增1例新冠肺炎确诊病例，累计14例，累计治愈3例，累计死亡3例。\\xa0\",\"infoSource\":\"央视新闻app\",\"sourceUrl\":\"http://app.cctv.com/special/cportal/detail/arti/index.html?id=ArtiRejAHIAnJMc93QLUv6oz200406&isfromapp=1\",\"provinceId\":\"\"},{\"id\":26333,\"pubDate\":1586186532000,\"pubDateStr\":\"42分钟前\",\"title\":\"\\u200b巴基斯坦新增新冠肺炎确诊病例502例 累计确诊3658例\",\"summary\":\"截至当地时间6日19:48，巴基斯坦当地媒体报新增病例502新冠肺炎确诊病例，全国累计确诊3658例，52例死亡病例，257人康复。 \",\"infoSource\":\"央视新闻app\",\"sourceUrl\":\"http://app.cctv.com/special/cportal/detail/arti/index.html?id=Arti0JwgINTu62B6MrlhCOxS200406&isfromapp=1\",\"provinceId\":\"\"},{\"id\":26316,\"pubDate\":1586185423000,\"pubDateStr\":\"1小时前\",\"title\":\"山东批援鄂医疗队员张静静经全力抢救无效不幸逝世\",\"summary\":\"记者从山东大学齐鲁医院了解到，山东省第一批援鄂医疗队员、山东大学齐鲁医院呼吸与危重症医学科主管护师张静静，在按规定集中隔离医学观察期满，即将返家休息时，突发心脏骤停，经医院组织全院专家力量、动用全部可能手段全力救治无效，于2020年4月6日18时58分逝世。\",\"infoSource\":\"央视新闻app\",\"sourceUrl\":\"http://app.cctv.com/special/cportal/detail/arti/index.html?id=ArtioWCdQ72vx53sbd6djszJ200406&isfromapp=1\",\"provinceId\":\"\"},{\"id\":26312,\"pubDate\":1586184940000,\"pubDateStr\":\"1小时前\",\"title\":\"埃塞俄比亚新增新冠肺炎确诊病例1例 累计44例\",\"summary\":\"当地时间4月6日，埃塞俄比亚卫生部发布声明，新增1例新冠肺炎确诊病例，该患者是为一名65岁的埃塞俄比亚女性，居住于埃塞俄比亚奥罗米亚州杜卡姆市，近期无境外旅行史、无已知密切接触记录。目前埃塞俄比亚已完成测试2007次，累计确诊病例44人，重症1人，治愈4人，死亡2人，确诊后离境2人，现存病例36人。\",\"infoSource\":\"央视新闻app\",\"sourceUrl\":\"http://app.cctv.com/special/cportal/detail/arti/index.html?id=ArtiqhcWmy99MhLgV4HuS36B200406&isfromapp=1\",\"provinceId\":\"\"},{\"id\":26313,\"pubDate\":1586184864000,\"pubDateStr\":\"1小时前\",\"title\":\"\\u200b毛里求斯新增17例新冠肺炎确诊病例 累计确诊244例\",\"summary\":\"毛里求斯卫生部于当地时间4月6日发布消息称，毛里求斯新增17例确诊新冠肺炎病例，4例康复病例。累计确诊数从原来的227例上升到244例，累计7例死亡，4例康复，现存确诊233例。\",\"infoSource\":\"央视新闻app\",\"sourceUrl\":\"http://app.cctv.com/special/cportal/detail/arti/index.html?id=ArtiCvlGnINFsJxEHltNhemH200406&isfromapp=1\",\"provinceId\":\"\"},{\"id\":26302,\"pubDate\":1586184450000,\"pubDateStr\":\"1小时前\",\"title\":\"\\u200b马拉维新增1例新冠肺炎确诊病例 累计确诊5例\",\"summary\":\"4月6日，马拉维卫生部部长通报了1例新冠肺炎确诊病例。该病例成为了马拉维的第5例确诊病例。与第4例确诊病例一样，这个确诊病例也出现在布兰太尔市，同样也是从英国返回到马拉维的。\",\"infoSource\":\"央视新闻app\",\"sourceUrl\":\"http://app.cctv.com/special/cportal/detail/arti/index.html?id=ArtiRRIo0T0Q3efuHieXieZ8200406&isfromapp=1\",\"provinceId\":\"\"},{\"id\":26303,\"pubDate\":1586184237000,\"pubDateStr\":\"1小时前\",\"title\":\"吉布提新冠肺炎确诊病例累计达90例\",\"summary\":\"当地时间4月6日，吉布提卫生部发布公告，在当天的513次检测中，确诊31例新冠肺炎病例，目前吉布提累计确诊病例达90例，治愈9例。\",\"infoSource\":\"央视新闻app\",\"sourceUrl\":\"http://app.cctv.com/special/cportal/detail/arti/index.html?id=Arti1JJrlcNA9nStCKZ9Eewa200406&isfromapp=1\",\"provinceId\":\"\"},{\"id\":26294,\"pubDate\":1586183851000,\"pubDateStr\":\"1小时前\",\"title\":\"英国伦敦10名公交系统工作者确诊新冠肺炎后死亡\",\"summary\":\"当地时间6日中午，伦敦市长萨迪克·汗（Sadiq Khan）通过视频表示，过去几天英国伦敦共计10名公交系统工作者确诊新冠肺炎后死亡，其中8名为公交车工作人员，1名为地铁工作人员，另1名为伦敦交通局工作人员。他紧急呼吁伦敦人除非必须出行，否则停止使用公共交通，把出行份额让给NHS（英国国家医疗服务体系）医务人员及其他关键岗位的工作人员。\",\"infoSource\":\"央视新闻app\",\"sourceUrl\":\"http://app.cctv.com/special/cportal/detail/arti/index.html?id=Arti1q8nPzmDCP92oTyoe5Xg200406&isfromapp=1\",\"provinceId\":\"\"},{\"id\":26291,\"pubDate\":1586183330000,\"pubDateStr\":\"1小时前\",\"title\":\"缅甸新增1例新冠肺炎确诊病例 累计确诊22例\",\"summary\":\"据缅甸卫生部4月6日晚消息，缅甸新增1例新冠肺炎确诊病例，累计确诊22例。该病例为一名51岁的缅甸女子，已被送至维巴基医院，健康状况良好。同日，缅甸卫生部门还确认来自瑞士的七号病例化验结果转阴，至此缅甸已出现两例确诊患者转阴。同时，缅甸的新冠肺炎确诊病例大多为输入病例。\",\"infoSource\":\"央视新闻app\",\"sourceUrl\":\"http://app.cctv.com/special/cportal/detail/arti/index.html?id=ArtiwaeS84gLN68hVnyPHD2j200406&isfromapp=1\",\"provinceId\":\"\"},{\"id\":26279,\"pubDate\":1586182686000,\"pubDateStr\":\"1小时前\",\"title\":\"圣多美和普林西比首次报告新冠肺炎确诊病例4例\",\"summary\":\"圣多美和普林西比总理热苏斯4月6宣布，该国送往加蓬进行检测的样本中确诊4例新冠肺炎病例，这是该国首次报告出现确诊病例。热苏斯表示，政府将召开特别部长会议，研究出台更加严格的防疫措施，并暂停往返圣多美与普林西比两岛间航班。目前非洲只有莱索托和科摩罗两国尚未报告新冠肺炎确诊病例。\",\"infoSource\":\"央视新闻app\",\"sourceUrl\":\"http://app.cctv.com/special/cportal/detail/arti/index.html?id=ArtiIBZIhxof1ak5raSguobs200406&isfromapp=1\",\"provinceId\":\"\"},{\"id\":26270,\"pubDate\":1586182299000,\"pubDateStr\":\"1小时前\",\"title\":\"坦桑尼亚新增2例新冠肺炎确诊病例 累计确诊24例\",\"summary\":\"4月6日，坦桑尼亚卫生部通报了2例新增新冠肺炎确诊病例。两例新增病例均为坦桑尼亚籍男性。两例确诊病例目前均在所在城市的定点医院观察，身体状况良好。目前，坦桑尼亚累计确诊病例24例，其中包括1个死亡病例和3个康复病例。\",\"infoSource\":\"央视新闻app\",\"sourceUrl\":\"http://app.cctv.com/special/cportal/detail/arti/index.html?id=ArtinVGLDO3H0hPc8ouy3VJm200406&isfromapp=1\",\"provinceId\":\"\"},{\"id\":26272,\"pubDate\":1586182089000,\"pubDateStr\":\"1小时前\",\"title\":\"西班牙19400名医护人员感染新冠病毒\",\"summary\":\"西班牙卫生部应急与预警协调中心副主任玛利亚·何塞·谢拉在6日举行的新闻发布会上表示，目前西班牙共有19400名医护人员感染新冠病毒，其中20%已痊愈。\",\"infoSource\":\"央视新闻app\",\"sourceUrl\":\"http://app.cctv.com/special/cportal/detail/arti/index.html?id=ArtiVEOZIxfMxqKsHV5aywSA200406&isfromapp=1\",\"provinceId\":\"\"},{\"id\":26273,\"pubDate\":1586182038000,\"pubDateStr\":\"1小时前\",\"title\":\"\\u200b葡萄牙新增新冠肺炎确诊病例452例 累计确诊11730例\",\"summary\":\"根据葡萄牙卫生局4月6日公布的数据，截至当天12时，葡萄牙累计新冠肺炎确诊病例11730例，24小时增加452例。死亡311例，增加16例。住院接受治疗1099例，其中危重症270例。目前还有疑似病例91794例。治愈出院140例。\",\"infoSource\":\"央视新闻app\",\"sourceUrl\":\"http://app.cctv.com/special/cportal/detail/arti/index.html?id=ArtiXar48YuilZv3nJKQWuN0200406&isfromapp=1\",\"provinceId\":\"\"},{\"id\":26266,\"pubDate\":1586181861000,\"pubDateStr\":\"2小时前\",\"title\":\"\\u200b德国要求所有抵德旅客进行14天自我隔离\",\"summary\":\"德国内政部长泽霍费尔6日宣布，自4月10日起，所有抵达德国的旅客都必须进行14天的自我隔离。由于德国此前已经禁止非欧盟居民入境，该措施将主要影响德国和欧盟居民。不过，居住在德国边境地区的医疗卫生部门的工作人员及短期入境的商务旅客和技术人员不受这一限制。\",\"infoSource\":\"央视新闻app\",\"sourceUrl\":\"http://app.cctv.com/special/cportal/detail/arti/index.html?id=ArtiOQAgvVLiTj9t8FWoDsAI200406&isfromapp=1\",\"provinceId\":\"\"}]}catch(e){}',\n",
       " '截至北京时间 2020-04-06 15:47',\n",
       " '截至北京时间 2020-04-06 15:47',\n",
       " '当地时间4月6日，英国卫生和社会保障部公布最新数据，过去24小时，英国新增新冠肺炎确诊患者3802例，累计患者达到51608例。此外，过去24小时，英国新增新冠肺炎死亡患者439例，目前累计死亡总数为5373例。截至6日9点，过去一天接受新冠病毒检测人数为13069人。',\n",
       " '4月6日，新加坡卫生部宣布，当天（6日）新增66例新冠肺炎确诊病例，其中65例是社区感染病例。卫生部称，一家学前教育机构和一所外籍劳工宿舍区确认发生群体感染事件。外籍劳工目前是新加坡新冠肺炎社区感染人数最多的群体，部分劳工宿舍已经被设立为隔离区。截至当天，新加坡累计确诊新冠肺炎病例1375例，累计治愈344例，死亡6例。',\n",
       " '截至当地时间6日19:48，巴基斯坦当地媒体报新增病例502新冠肺炎确诊病例，全国累计确诊3658例，52例死亡病例，257人康复。 ',\n",
       " '根据葡萄牙卫生局4月6日公布的数据，截至当天12时，葡萄牙累计新冠肺炎确诊病例11730例，24小时增加452例。死亡311例，增加16例。住院接受治疗1099例，其中危重症270例。目前还有疑似病例91794例。治愈出院140例。']"
      ]
     },
     "execution_count": 6,
     "metadata": {},
     "output_type": "execute_result"
    }
   ],
   "source": [
    "data = soup.findAll(text=re.compile(\"截至.+\"))\n",
    "data"
   ]
  },
  {
   "cell_type": "code",
   "execution_count": 7,
   "metadata": {},
   "outputs": [
    {
     "data": {
      "text/plain": [
       "'2020-04-06 15:47'"
      ]
     },
     "execution_count": 7,
     "metadata": {},
     "output_type": "execute_result"
    }
   ],
   "source": [
    "for s in data:\n",
    "    m = re.search(\"截至.*(202\\d-\\d+-\\d+ \\d+:\\d+)\", s)\n",
    "    if m is not None:\n",
    "        data_date_time = m.group(1)\n",
    "data_date_time"
   ]
  },
  {
   "cell_type": "markdown",
   "metadata": {},
   "source": [
    "### Extract data (summary)"
   ]
  },
  {
   "cell_type": "code",
   "execution_count": 8,
   "metadata": {},
   "outputs": [
    {
     "data": {
      "text/plain": [
       "['try { window.getStatisticsService = {\"id\":1,\"createTime\":1579537899000,\"modifyTime\":1586188049000,\"infectSource\":\"该字段已替换为说明2\",\"passWay\":\"该字段已替换为说明3\",\"imgUrl\":\"https://img1.dxycdn.com/2020/0201/450/3394153392393266839-135.png\",\"dailyPic\":\"https://img1.dxycdn.com/2020/0211/763/3395998884005602079-135.png,https://img1.dxycdn.com/2020/0211/362/3395998896890788910-135.png,https://img1.dxycdn.com/2020/0211/365/3395998905480724211-135.png,https://img1.dxycdn.com/2020/0211/364/3395998916217859778-135.png,https://img1.dxycdn.com/2020/0211/922/3395998929103046444-135.png,https://img1.dxycdn.com/2020/0211/089/3395998939840182072-135.png\",\"dailyPics\":[\"https://img1.dxycdn.com/2020/0211/763/3395998884005602079-135.png\",\"https://img1.dxycdn.com/2020/0211/362/3395998896890788910-135.png\",\"https://img1.dxycdn.com/2020/0211/365/3395998905480724211-135.png\",\"https://img1.dxycdn.com/2020/0211/364/3395998916217859778-135.png\",\"https://img1.dxycdn.com/2020/0211/922/3395998929103046444-135.png\",\"https://img1.dxycdn.com/2020/0211/089/3395998939840182072-135.png\"],\"summary\":\"\",\"deleted\":false,\"countRemark\":\"\",\"currentConfirmedCount\":2332,\"confirmedCount\":83039,\"suspectedCount\":951,\"curedCount\":77367,\"deadCount\":3340,\"seriousCount\":1047,\"suspectedIncr\":38,\"currentConfirmedIncr\":-49,\"confirmedIncr\":109,\"curedIncr\":157,\"deadIncr\":1,\"seriousIncr\":78,\"virus\":\"该字段已替换为说明1\",\"remark1\":\"易感人群：人群普遍易感。老年人及有基础疾病者感染后病情较重，儿童及婴幼儿也有发病\",\"remark2\":\"潜伏期：一般为 3～7 天，最长不超过 14 天，潜伏期内可能存在传染性，其中无症状病例传染性非常罕见\",\"remark3\":\"宿主：野生动物，可能为中华菊头蝠\",\"remark4\":\"\",\"remark5\":\"\",\"note1\":\"病毒：SARS-CoV-2，其导致疾病命名 COVID-19\",\"note2\":\"传染源：新冠肺炎的患者。无症状感染者也可能成为传染源。\",\"note3\":\"传播途径：经呼吸道飞沫、接触传播是主要的传播途径。气溶胶传播和消化道等传播途径尚待明确。\",\"generalRemark\":\"1. 3 月 12 日国家卫健委确诊补订遗漏 12 例确诊病例（非 12 日新增），暂无具体省份信息。 2. 浙江省 12 例外省治愈暂无具体省份信息。\",\"abroadRemark\":\"\",\"marquee\":[{\"id\":1923,\"marqueeLabel\":\"观察\",\"marqueeContent\":\"美国抗击新冠疫情中的 5 个教训\",\"marqueeLink\":\"https://dxy.me/VyCNTO\"},{\"id\":1924,\"marqueeLabel\":\"突发\",\"marqueeContent\":\"英国首相鲍里斯持续发热开始住院\",\"marqueeLink\":\"https://dxy.me/ygEfC0\"},{\"id\":1925,\"marqueeLabel\":\"数字新冠\",\"marqueeContent\":\"4 月 5 日，世界因新冠而变\",\"marqueeLink\":\"https://dxy.me/RdBVPg\"}],\"quanguoTrendChart\":[{\"imgUrl\":\"https://img1.dxycdn.com/2020/0324/278/3403801351376518263-135.png\",\"title\":\"新增疑似/新增确诊\"},{\"imgUrl\":\"https://img1.dxycdn.com/2020/0324/812/3403847865872006755-135.png\",\"title\":\"境外输入\"},{\"imgUrl\":\"https://img1.dxycdn.com/2020/0324/547/3403847848692336947-135.png\",\"title\":\"现存确诊\"},{\"imgUrl\":\"https://img1.dxycdn.com/2020/0324/775/3403801407211095604-135.png\",\"title\":\"治愈\"},{\"imgUrl\":\"https://img1.dxycdn.com/2020/0324/250/3403801424390727199-135.png\",\"title\":\"死亡\"}],\"hbFeiHbTrendChart\":[{\"imgUrl\":\"https://img1.dxycdn.com/2020/0326/624/3404177508906904585-135.png\",\"title\":\"非湖北新增确诊\"},{\"imgUrl\":\"https://img1.dxycdn.com/2020/0326/777/3404177532529485065-135.png\",\"title\":\"湖北新增确诊\"},{\"imgUrl\":\"https://img1.dxycdn.com/2020/0326/376/3404177556151805921-135.png\",\"title\":\"湖北现存确诊\"},{\"imgUrl\":\"https://img1.dxycdn.com/2020/0326/527/3404177575478899995-135.png\",\"title\":\"非湖北现存确诊\"},{\"imgUrl\":\"https://img1.dxycdn.com/2020/0326/419/3404177596953996726-135.png\",\"title\":\"治愈/死亡\"}],\"foreignTrendChart\":[{\"imgUrl\":\"https://img1.dxycdn.com/2020/0320/702/3403079914982117944-135.png\",\"title\":\"国外新增确诊\"},{\"imgUrl\":\"https://img1.dxycdn.com/2020/0320/396/3403079925719536561-135.png\",\"title\":\"国外累计确诊\"},{\"imgUrl\":\"https://img1.dxycdn.com/2020/0320/139/3403079936457225524-135.png\",\"title\":\"国外死亡\"}],\"importantForeignTrendChart\":[{\"imgUrl\":\"https://img1.dxycdn.com/2020/0320/450/3403077453965772423-135.png\",\"title\":\"重点国家新增确诊\"},{\"imgUrl\":\"https://img1.dxycdn.com/2020/0320/276/3403077462555980566-135.png\",\"title\":\"日本新增确诊\"},{\"imgUrl\":\"https://img1.dxycdn.com/2020/0320/340/3403077473293125942-135.png\",\"title\":\"意大利新增确诊\"},{\"imgUrl\":\"https://img1.dxycdn.com/2020/0320/723/3403077481883334043-135.png\",\"title\":\"伊朗新增确诊\"},{\"imgUrl\":\"https://img1.dxycdn.com/2020/0320/266/3403077492620752785-135.png\",\"title\":\"美国新增确诊\"},{\"imgUrl\":\"https://img1.dxycdn.com/2020/0320/870/3403077503358171278-135.png\",\"title\":\"法国新增确诊\"},{\"imgUrl\":\"https://img1.dxycdn.com/2020/0320/053/3403077511947832997-135.png\",\"title\":\"德国新增确诊\"},{\"imgUrl\":\"https://img1.dxycdn.com/2020/0320/878/3403077520537768006-135.png\",\"title\":\"西班牙新增确诊\"},{\"imgUrl\":\"https://img1.dxycdn.com/2020/0320/443/3403077531275186665-135.png\",\"title\":\"韩国新增确诊\"}],\"foreignTrendChartGlobal\":[{\"imgUrl\":\"https://img1.dxycdn.com/2020/0319/740/3402859458605738923-135.png\",\"title\":\"Daily New Cases\"},{\"imgUrl\":\"https://img1.dxycdn.com/2020/0319/351/3402856772103846114-135.png\",\"title\":\"Total Confirmed Cases\"},{\"imgUrl\":\"https://img1.dxycdn.com/2020/0319/236/3402856782841001789-135.png\",\"title\":\"Total Deaths Cases\"}],\"importantForeignTrendChartGlobal\":[{\"imgUrl\":\"https://img1.dxycdn.com/2020/0319/122/3402856838675578578-135.png\",\"title\":\"Daily New Cases\"},{\"imgUrl\":\"https://img1.dxycdn.com/2020/0319/685/3402856849412997239-135.png\",\"title\":\"Japan\"},{\"imgUrl\":\"https://img1.dxycdn.com/2020/0319/477/3402856860150678804-135.png\",\"title\":\"Italy\"},{\"imgUrl\":\"https://img1.dxycdn.com/2020/0319/454/3402856873035581014-135.png\",\"title\":\"Iran\"},{\"imgUrl\":\"https://img1.dxycdn.com/2020/0319/022/3402856883772999714-135.png\",\"title\":\"U.S.A.\"},{\"imgUrl\":\"https://img1.dxycdn.com/2020/0319/529/3402856894510155506-135.png\",\"title\":\"France\"},{\"imgUrl\":\"https://img1.dxycdn.com/2020/0319/211/3402856905247574064-135.png\",\"title\":\"Germany\"},{\"imgUrl\":\"https://img1.dxycdn.com/2020/0319/054/3402856913837508985-135.png\",\"title\":\"Spain\"},{\"imgUrl\":\"https://img1.dxycdn.com/2020/0319/088/3402856928870157852-135.png\",\"title\":\"Republic of Korea\"}],\"foreignStatistics\":{\"currentConfirmedCount\":942728,\"confirmedCount\":1176216,\"suspectedCount\":4,\"curedCount\":165727,\"deadCount\":67761,\"suspectedIncr\":0,\"currentConfirmedIncr\":13978,\"confirmedIncr\":21125,\"curedIncr\":4636,\"deadIncr\":2511},\"globalStatistics\":{\"currentConfirmedCount\":945060,\"confirmedCount\":1259255,\"curedCount\":243094,\"deadCount\":71101,\"currentConfirmedIncr\":13929,\"confirmedIncr\":21234,\"curedIncr\":4793,\"deadIncr\":2512},\"globalOtherTrendChartData\":\"https://file1.dxycdn.com/2020/0406/343/3406206350525868957-135.json\"}}catch(e){}']"
      ]
     },
     "execution_count": 8,
     "metadata": {},
     "output_type": "execute_result"
    }
   ],
   "source": [
    "data = soup.findAll(text=re.compile('\\\"summary.+\\\"confirmedCount\\\":\\d'))\n",
    "\n",
    "data\n"
   ]
  },
  {
   "cell_type": "code",
   "execution_count": 9,
   "metadata": {},
   "outputs": [],
   "source": [
    "m = re.search('\\\"confirmedCount\\\":(\\d+)', data[0])\n",
    "summary_confirmed_count = int(m.group(1))\n",
    "\n",
    "\n",
    "m = re.search('\\\"curedCount\\\":(\\d+)', data[0])\n",
    "summary_cured_count = int(m.group(1))\n",
    "\n",
    "m = re.search('\\\"deadCount\\\":(\\d+)', data[0])\n",
    "summary_dead_count = int(m.group(1))\n"
   ]
  },
  {
   "cell_type": "code",
   "execution_count": 10,
   "metadata": {},
   "outputs": [
    {
     "data": {
      "text/html": [
       "<div>\n",
       "<style scoped>\n",
       "    .dataframe tbody tr th:only-of-type {\n",
       "        vertical-align: middle;\n",
       "    }\n",
       "\n",
       "    .dataframe tbody tr th {\n",
       "        vertical-align: top;\n",
       "    }\n",
       "\n",
       "    .dataframe thead th {\n",
       "        text-align: right;\n",
       "    }\n",
       "</style>\n",
       "<table border=\"1\" class=\"dataframe\">\n",
       "  <thead>\n",
       "    <tr style=\"text-align: right;\">\n",
       "      <th></th>\n",
       "      <th>datetime</th>\n",
       "      <th>confirmed</th>\n",
       "      <th>cured</th>\n",
       "      <th>dead</th>\n",
       "    </tr>\n",
       "  </thead>\n",
       "  <tbody>\n",
       "    <tr>\n",
       "      <th>0</th>\n",
       "      <td>2020-04-06 15:47</td>\n",
       "      <td>83039</td>\n",
       "      <td>77367</td>\n",
       "      <td>3340</td>\n",
       "    </tr>\n",
       "  </tbody>\n",
       "</table>\n",
       "</div>"
      ],
      "text/plain": [
       "           datetime  confirmed  cured  dead\n",
       "0  2020-04-06 15:47      83039  77367  3340"
      ]
     },
     "execution_count": 10,
     "metadata": {},
     "output_type": "execute_result"
    }
   ],
   "source": [
    "# make a dataframe\n",
    "df = pd.DataFrame({\n",
    "    'datetime': data_date_time,\n",
    "    'confirmed': summary_confirmed_count,\n",
    "    'cured': summary_cured_count,\n",
    "    'dead': summary_dead_count\n",
    "}, index=[0])\n",
    "df"
   ]
  },
  {
   "cell_type": "markdown",
   "metadata": {},
   "source": [
    "### Save to file"
   ]
  },
  {
   "cell_type": "code",
   "execution_count": 11,
   "metadata": {},
   "outputs": [],
   "source": [
    "from pathlib import Path\n",
    "csv_file = '../data/china-summary-cases.csv'\n",
    "\n",
    "if Path(csv_file).exists():\n",
    "    # read out the old data - then merge with new data and remove duplicates based on datetime\n",
    "    old_df = pd.read_csv(csv_file)\n",
    "    df = df.append(old_df)\n",
    "df.drop_duplicates(subset=['datetime'], inplace=True)"
   ]
  },
  {
   "cell_type": "code",
   "execution_count": 12,
   "metadata": {},
   "outputs": [],
   "source": [
    "df.sort_values(by=['datetime'], inplace=True)\n",
    "\n",
    "df.to_csv(csv_file, index=False)\n"
   ]
  },
  {
   "cell_type": "markdown",
   "metadata": {},
   "source": [
    "### Plot graph"
   ]
  },
  {
   "cell_type": "code",
   "execution_count": 13,
   "metadata": {},
   "outputs": [],
   "source": [
    "import seaborn as sns\n",
    "import matplotlib.pyplot as plt\n",
    "from pandas.plotting import register_matplotlib_converters\n",
    "register_matplotlib_converters()\n",
    "\n",
    "png_file = '../images/china-summary-cases.png'\n",
    "# convert to pd.datetime\n",
    "df['datetime_idx'] = pd.to_datetime(df['datetime'], format=\"%Y-%m-%d %H:%M\")\n",
    "\n",
    "df.set_index('datetime_idx', inplace=True)\n",
    "df.drop(['datetime'], axis=1, inplace=True)\n"
   ]
  },
  {
   "cell_type": "code",
   "execution_count": 14,
   "metadata": {},
   "outputs": [
    {
     "data": {
      "text/html": [
       "<div>\n",
       "<style scoped>\n",
       "    .dataframe tbody tr th:only-of-type {\n",
       "        vertical-align: middle;\n",
       "    }\n",
       "\n",
       "    .dataframe tbody tr th {\n",
       "        vertical-align: top;\n",
       "    }\n",
       "\n",
       "    .dataframe thead th {\n",
       "        text-align: right;\n",
       "    }\n",
       "</style>\n",
       "<table border=\"1\" class=\"dataframe\">\n",
       "  <thead>\n",
       "    <tr style=\"text-align: right;\">\n",
       "      <th></th>\n",
       "      <th>confirmed</th>\n",
       "      <th>cured</th>\n",
       "      <th>dead</th>\n",
       "    </tr>\n",
       "    <tr>\n",
       "      <th>datetime_idx</th>\n",
       "      <th></th>\n",
       "      <th></th>\n",
       "      <th></th>\n",
       "    </tr>\n",
       "  </thead>\n",
       "  <tbody>\n",
       "    <tr>\n",
       "      <th>2020-02-02 10:22:00</th>\n",
       "      <td>14483</td>\n",
       "      <td>379</td>\n",
       "      <td>304</td>\n",
       "    </tr>\n",
       "    <tr>\n",
       "      <th>2020-02-02 10:28:00</th>\n",
       "      <td>14483</td>\n",
       "      <td>380</td>\n",
       "      <td>304</td>\n",
       "    </tr>\n",
       "    <tr>\n",
       "      <th>2020-02-02 11:19:00</th>\n",
       "      <td>14489</td>\n",
       "      <td>385</td>\n",
       "      <td>304</td>\n",
       "    </tr>\n",
       "    <tr>\n",
       "      <th>2020-02-02 11:54:00</th>\n",
       "      <td>14489</td>\n",
       "      <td>397</td>\n",
       "      <td>304</td>\n",
       "    </tr>\n",
       "    <tr>\n",
       "      <th>2020-02-02 15:01:00</th>\n",
       "      <td>14490</td>\n",
       "      <td>430</td>\n",
       "      <td>304</td>\n",
       "    </tr>\n",
       "    <tr>\n",
       "      <th>...</th>\n",
       "      <td>...</td>\n",
       "      <td>...</td>\n",
       "      <td>...</td>\n",
       "    </tr>\n",
       "    <tr>\n",
       "      <th>2020-04-06 10:55:00</th>\n",
       "      <td>83039</td>\n",
       "      <td>77367</td>\n",
       "      <td>3340</td>\n",
       "    </tr>\n",
       "    <tr>\n",
       "      <th>2020-04-06 12:02:00</th>\n",
       "      <td>83039</td>\n",
       "      <td>77367</td>\n",
       "      <td>3340</td>\n",
       "    </tr>\n",
       "    <tr>\n",
       "      <th>2020-04-06 12:57:00</th>\n",
       "      <td>83039</td>\n",
       "      <td>77367</td>\n",
       "      <td>3340</td>\n",
       "    </tr>\n",
       "    <tr>\n",
       "      <th>2020-04-06 14:38:00</th>\n",
       "      <td>83039</td>\n",
       "      <td>77367</td>\n",
       "      <td>3340</td>\n",
       "    </tr>\n",
       "    <tr>\n",
       "      <th>2020-04-06 15:47:00</th>\n",
       "      <td>83039</td>\n",
       "      <td>77367</td>\n",
       "      <td>3340</td>\n",
       "    </tr>\n",
       "  </tbody>\n",
       "</table>\n",
       "<p>994 rows × 3 columns</p>\n",
       "</div>"
      ],
      "text/plain": [
       "                     confirmed  cured  dead\n",
       "datetime_idx                               \n",
       "2020-02-02 10:22:00      14483    379   304\n",
       "2020-02-02 10:28:00      14483    380   304\n",
       "2020-02-02 11:19:00      14489    385   304\n",
       "2020-02-02 11:54:00      14489    397   304\n",
       "2020-02-02 15:01:00      14490    430   304\n",
       "...                        ...    ...   ...\n",
       "2020-04-06 10:55:00      83039  77367  3340\n",
       "2020-04-06 12:02:00      83039  77367  3340\n",
       "2020-04-06 12:57:00      83039  77367  3340\n",
       "2020-04-06 14:38:00      83039  77367  3340\n",
       "2020-04-06 15:47:00      83039  77367  3340\n",
       "\n",
       "[994 rows x 3 columns]"
      ]
     },
     "execution_count": 14,
     "metadata": {},
     "output_type": "execute_result"
    }
   ],
   "source": [
    "df"
   ]
  },
  {
   "cell_type": "code",
   "execution_count": 15,
   "metadata": {
    "scrolled": true
   },
   "outputs": [
    {
     "data": {
      "image/png": "[encoded data removed]",
      "text/plain": [
       "<Figure size 1008x1008 with 3 Axes>"
      ]
     },
     "metadata": {},
     "output_type": "display_data"
    }
   ],
   "source": [
    "if df.shape[0]>1:\n",
    "    # line chart when having at least a few points\n",
    "    sns.set(rc={'figure.figsize':(14,14)})\n",
    "    sns.set(style=\"whitegrid\")\n",
    "\n",
    "    fig, axs = plt.subplots(nrows=3)\n",
    "\n",
    "    sns.lineplot(x=df.index, y = 'confirmed', data=df, ax= axs[0], estimator=None, color='orange')\n",
    "    sns.lineplot(x=df.index, y = 'cured', data=df, ax= axs[1], estimator=None, color='green')\n",
    "    sns.lineplot(x=df.index, y = 'dead', data=df, ax= axs[2], estimator=None, color='darkred')\n",
    "\n",
    "    for ax in axs:\n",
    "        ax.set_xlabel('')\n",
    "        ax.tick_params(axis='x', labelrotation=30)\n",
    "else:\n",
    "\n",
    "    ax = df.plot(kind='bar', stacked=True, figsize=(9,6))\n",
    "    fig = ax.get_figure()\n",
    "    ax.set_xlabel('')\n",
    "    for label in ax.get_xticklabels():\n",
    "        label.set_rotation(0) \n"
   ]
  },
  {
   "cell_type": "code",
   "execution_count": 16,
   "metadata": {},
   "outputs": [],
   "source": [
    "fig.savefig(png_file)"
   ]
  },
  {
   "cell_type": "code",
   "execution_count": null,
   "metadata": {},
   "outputs": [],
   "source": []
  },
  {
   "cell_type": "code",
   "execution_count": null,
   "metadata": {},
   "outputs": [],
   "source": []
  }
 ],
 "metadata": {
  "kernelspec": {
   "display_name": "Python 3",
   "language": "python",
   "name": "python3"
  },
  "language_info": {
   "codemirror_mode": {
    "name": "ipython",
    "version": 3
   },
   "file_extension": ".py",
   "mimetype": "text/x-python",
   "name": "python",
   "nbconvert_exporter": "python",
   "pygments_lexer": "ipython3",
   "version": "3.7.6"
  }
 },
 "nbformat": 4,
 "nbformat_minor": 2
}
