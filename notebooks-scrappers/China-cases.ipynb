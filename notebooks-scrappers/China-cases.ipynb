{
 "cells": [
  {
   "cell_type": "code",
   "execution_count": 1,
   "metadata": {},
   "outputs": [],
   "source": [
    "import pandas as pd\n",
    "import requests\n",
    "from bs4 import BeautifulSoup\n",
    "import re\n",
    "from datetime import datetime\n",
    "from selenium import webdriver\n",
    "from selenium.webdriver.chrome.options import Options  \n"
   ]
  },
  {
   "cell_type": "code",
   "execution_count": 2,
   "metadata": {},
   "outputs": [
    {
     "data": {
      "text/plain": [
       "datetime.datetime(2020, 3, 28, 10, 8, 3, 664140)"
      ]
     },
     "execution_count": 2,
     "metadata": {},
     "output_type": "execute_result"
    }
   ],
   "source": [
    "datetime.now()"
   ]
  },
  {
   "cell_type": "code",
   "execution_count": 3,
   "metadata": {},
   "outputs": [],
   "source": [
    "chrome_options = Options()  \n",
    "chrome_options.add_argument(\"--headless\")  \n",
    "chrome_options.add_argument(\"--no-sandbox\")\n",
    "\n",
    "driver = webdriver.Chrome('chromedriver', options=chrome_options)"
   ]
  },
  {
   "cell_type": "code",
   "execution_count": 4,
   "metadata": {},
   "outputs": [],
   "source": [
    "url = 'https://ncov.dxy.cn/ncovh5/view/pneumonia'\n",
    "driver.get(url)"
   ]
  },
  {
   "cell_type": "markdown",
   "metadata": {},
   "source": [
    "### Extract date"
   ]
  },
  {
   "cell_type": "code",
   "execution_count": 5,
   "metadata": {},
   "outputs": [],
   "source": [
    "content = driver.page_source\n",
    "soup =BeautifulSoup(content, 'lxml')\n"
   ]
  },
  {
   "cell_type": "code",
   "execution_count": 6,
   "metadata": {},
   "outputs": [
    {
     "data": {
      "text/plain": [
       "['try { window.getTimelineService1 = [{\"id\":18673,\"pubDate\":1585388483000,\"pubDateStr\":\"6分钟前\",\"title\":\"伊朗新增新冠肺炎确诊病例3076例 累计确诊35408例\",\"summary\":\"根据伊朗卫生部最新消息，当地时间28日，伊朗新增新冠肺炎确诊病例3076例，新增死亡139例。截至当天中午，伊朗累计确诊新冠肺炎病例35408例，其中11679例康复，2517例死亡。（总台记者 李健南 倪紫慧）\",\"infoSource\":\"央视新闻app\",\"sourceUrl\":\"http://app.cctv.com/special/cportal/detail/arti/index.html?id=ArtiTZGOgb04yKwKLvoRXcDv200328&isfromapp=1\",\"provinceId\":\"\"},{\"id\":18671,\"pubDate\":1585388068000,\"pubDateStr\":\"13分钟前\",\"title\":\"菲律宾新增272例新冠肺炎确诊病例 累计确诊1075例\",\"summary\":\"3月28日下午，菲律宾卫生部发布公告称，截至28日下午4时，菲律宾当天共计新增272例新冠肺炎确诊病例，累计确诊病例1075例。此外，新增死亡病例14例，累计死亡68例。同时，累计治愈人数达35人。（总台记者 陶家乐）\",\"infoSource\":\"央视新闻app\",\"sourceUrl\":\"http://app.cctv.com/special/cportal/detail/arti/index.html?id=ArtiOUTWcWwChfjRS0RTN19O200328&isfromapp=1\",\"provinceId\":\"\"},{\"id\":18665,\"pubDate\":1585387502000,\"pubDateStr\":\"23分钟前\",\"title\":\"科威特新增10例新冠肺炎确诊病例\",\"summary\":\"科威特卫生部当地时间28日下午发布通告，确认境内新增10例新冠肺炎确诊病例。通告显示，新增病例中8例为输入病例\",\"infoSource\":\"央视新闻app\",\"sourceUrl\":\"http://app.cctv.com/special/cportal/detail/arti/index.html?id=Artiv3ehS6bjVcCPKovxLa5t200328&isfromapp=1\",\"provinceId\":\"\"},{\"id\":18666,\"pubDate\":1585387414000,\"pubDateStr\":\"24分钟前\",\"title\":\"俄罗斯新增228例新冠肺炎确诊病例 累计确诊1264例\",\"summary\":\"俄罗斯新冠肺炎疫情防控指挥部28日宣布，在过去的24小时，俄罗斯新增228例新冠肺炎确诊病例，全国累计确诊1264例。新增的228例确诊病例分布在26个地区，其中莫斯科市的疫情最为严重，新增确诊病例114例。另据官方数据，在所有确诊病例当中，已有49人治愈出院，4人死亡。（总台记者 王斌 李俊翔）\",\"infoSource\":\"央视新闻app\",\"sourceUrl\":\"http://app.cctv.com/special/cportal/detail/arti/index.html?id=ArtibuiwRTARfsXM6uParSTk200328&isfromapp=1\",\"provinceId\":\"\"},{\"id\":18659,\"pubDate\":1585387332000,\"pubDateStr\":\"26分钟前\",\"title\":\"马来西亚新增159例新冠肺炎确诊病例 累计确诊2320例\",\"summary\":\"当地时间28日，马来西亚宣布新增159例新冠肺炎确诊病例，累计确诊2320例，累计死亡27例。\\xa0据马来西亚卫生总监努尔·希萨姆·阿卜杜拉介绍，28日共有61人治愈出院，累计治愈320例。截至目前，共有73名患者被收治在特护病房，其中54人接受呼吸机辅助治疗。（总台记者 徐荃乐）\",\"infoSource\":\"央视新闻app\",\"sourceUrl\":\"http://app.cctv.com/special/cportal/detail/arti/index.html?id=ArtiEirGGuZVtOPCdd5CdYHf200328&isfromapp=1\",\"provinceId\":\"\"},{\"id\":18652,\"pubDate\":1585386407000,\"pubDateStr\":\"41分钟前\",\"title\":\"印尼新冠肺炎患者又增109例\",\"summary\":\"3月28日，印尼卫生部宣布新增109例新冠肺炎确诊病例，全国累计确诊病例1155人，包含102例死亡病例。（总台记者 贾建京）\",\"infoSource\":\"央视新闻app\",\"sourceUrl\":\"http://app.cctv.com/special/cportal/detail/arti/index.html?id=Arti76qWMN6pfvzCTVVFPeEW200328&isfromapp=1\",\"provinceId\":\"\"},{\"id\":18651,\"pubDate\":1585386010000,\"pubDateStr\":\"48分钟前\",\"title\":\"德国新增确诊6294例# #德国累计确诊48582例\",\"summary\":\"德国疾控机构罗伯特·科赫研究所（RKI）的最新数据显示，德国新冠肺炎确诊病例升至48582例，与前一日（27日）相比，新增确诊病例6294例；累计死亡病例升至325例，与前日相比，新增死亡病例72例。 \\\\n\",\"infoSource\":\"人民日报海外版\",\"sourceUrl\":\"http://m.weibo.cn/3057540037/4487496534803339\",\"provinceId\":\"\"},{\"id\":18650,\"pubDate\":1585386009000,\"pubDateStr\":\"48分钟前\",\"title\":\"日本新冠肺炎病例单日新增首次过百\",\"summary\":\"据日本广播协会（NHK）电视台统计，截至28日10时30分（北京时间9时30分），日本新冠肺炎确诊病例较前一日增加123例，这是疫情发生以来日本单日新增首次过百。目前日本新冠肺炎累计病例数达1525例，其中死亡52例。\",\"infoSource\":\"人民日报海外版\",\"sourceUrl\":\"http://m.weibo.cn/3057540037/4487496530307956\",\"provinceId\":\"\"},{\"id\":18642,\"pubDate\":1585385280000,\"pubDateStr\":\"1小时前\",\"title\":\"香港28日通报：新增42例新冠肺炎确诊病例 其中37名有境外旅行记录\",\"summary\":\"据香港特区政府最新消息，截至3月28日16时40分，香港新增42例新冠肺炎确诊病例，其中有37名患者均有境外旅行的记录，包括22名留学生。另有5名患者均和此前确诊的在香港兰桂坊地区酒吧工作的患者相关联。至此，香港累计确诊病例达561宗。（总台记者 张怡）\",\"infoSource\":\"央视新闻app\",\"sourceUrl\":\"http://app.cctv.com/special/cportal/detail/arti/index.html?id=ArtitiImS9XYg3wzF5CbdX2O200328&isfromapp=1\",\"provinceId\":\"\"},{\"id\":18637,\"pubDate\":1585385204000,\"pubDateStr\":\"1小时前\",\"title\":\"以色列新冠肺炎确诊病例新增425例 累计3460例\",\"summary\":\"当地时间3月28日上午，以色列卫生部公布的数据显示，过去24小时（27日上午10时到28日上午10时），新冠肺炎确诊病例新增425例，累计确诊3460例；2人死亡，至今已有12人死于新冠肺炎。这些病例中，50人处于危重状态。\",\"infoSource\":\"央视新闻app\",\"sourceUrl\":\"http://app.cctv.com/special/cportal/detail/arti/index.html?id=Artimenv8QH3T8Hlkusajqre200328&isfromapp=1\",\"provinceId\":\"\"},{\"id\":18638,\"pubDate\":1585385157000,\"pubDateStr\":\"1小时前\",\"title\":\"格鲁吉亚累计确诊新冠肺炎病例85例 治愈14例\",\"summary\":\"当地时间3月28日，格鲁吉亚政府疫情监测平台公布消息，格鲁吉亚境内累计确诊新冠肺炎病例85例，其中治愈14例。目前，共有4534人接受隔离，276人处于医学观察。因疫情发展，格鲁吉亚政府已宣布国家紧急状态持续至4月21日。（总台记者 宋瑶）\",\"infoSource\":\"央视新闻app\",\"sourceUrl\":\"http://app.cctv.com/special/cportal/detail/arti/index.html?id=ArtiNW5BqgUAdVCsDSMdp6ep200328&isfromapp=1\",\"provinceId\":\"\"},{\"id\":18630,\"pubDate\":1585384386000,\"pubDateStr\":\"1小时前\",\"title\":\"亚美尼亚新增新冠肺炎确诊病例43例 累计确诊372例\",\"summary\":\"当地时间3月28日，亚美尼亚疫情防控统一信息平台公布消息，亚美尼亚境内当日新增新冠肺炎确诊病例43例，累计确诊病例372例，累计治愈28例，死亡1例。为对抗疫情发展，自3月16日至4月14日，亚美尼亚为全国紧急状态。（总台记者 宋瑶）\",\"infoSource\":\"央视新闻app\",\"sourceUrl\":\"http://app.cctv.com/special/cportal/detail/arti/index.html?id=ArtivSoZrRRbufAFSsf8sCWX200328&isfromapp=1\",\"provinceId\":\"\"},{\"id\":18631,\"pubDate\":1585384342000,\"pubDateStr\":\"1小时前\",\"title\":\"48小时新增10万例！全球新冠肺炎病例累计超50万例\",\"summary\":\"世卫组织最新报告数据显示，截至欧洲中部时间3月27日10时（北京时间3月27日17时），全球确诊新冠肺炎病例509164例。这距离3月25日世卫组织报告全球新冠肺炎确诊病例累计超40万例，仅过去2天！目前，全球除中国外，还有美国、意大利、西班牙、德国、伊朗、法国、英国、瑞士（列支敦士登）等国累计确诊病例超过1万；\",\"infoSource\":\"央视新闻app\",\"sourceUrl\":\"http://app.cctv.com/special/cportal/detail/arti/index.html?id=Arti2luAxUtOanUt6lFw2jf0200328&isfromapp=1\",\"provinceId\":\"\"}]}catch(e){}',\n",
       " '截至北京时间 2020-03-28 10:05',\n",
       " '截至北京时间 2020-03-28 10:05',\n",
       " '根据伊朗卫生部最新消息，当地时间28日，伊朗新增新冠肺炎确诊病例3076例，新增死亡139例。截至当天中午，伊朗累计确诊新冠肺炎病例35408例，其中11679例康复，2517例死亡。（总台记者 李健南 倪紫慧）',\n",
       " '3月28日下午，菲律宾卫生部发布公告称，截至28日下午4时，菲律宾当天共计新增272例新冠肺炎确诊病例，累计确诊病例1075例。此外，新增死亡病例14例，累计死亡68例。同时，累计治愈人数达35人。（总台记者 陶家乐）',\n",
       " '当地时间28日，马来西亚宣布新增159例新冠肺炎确诊病例，累计确诊2320例，累计死亡27例。\\xa0据马来西亚卫生总监努尔·希萨姆·阿卜杜拉介绍，28日共有61人治愈出院，累计治愈320例。截至目前，共有73名患者被收治在特护病房，其中54人接受呼吸机辅助治疗。（总台记者 徐荃乐）',\n",
       " '据日本广播协会（NHK）电视台统计，截至28日10时30分（北京时间9时30分），日本新冠肺炎确诊病例较前一日增加123例，这是疫情发生以来日本单日新增首次过百。目前日本新冠肺炎累计病例数达1525例，其中死亡52例。',\n",
       " '据香港特区政府最新消息，截至3月28日16时40分，香港新增42例新冠肺炎确诊病例，其中有37名患者均有境外旅行的记录，包括22名留学生。另有5名患者均和此前确诊的在香港兰桂坊地区酒吧工作的患者相关联。至此，香港累计确诊病例达561宗。（总台记者 张怡）',\n",
       " '世卫组织最新报告数据显示，截至欧洲中部时间3月27日10时（北京时间3月27日17时），全球确诊新冠肺炎病例509164例。这距离3月25日世卫组织报告全球新冠肺炎确诊病例累计超40万例，仅过去2天！目前，全球除中国外，还有美国、意大利、西班牙、德国、伊朗、法国、英国、瑞士（列支敦士登）等国累计确诊病例超过1万；']"
      ]
     },
     "execution_count": 6,
     "metadata": {},
     "output_type": "execute_result"
    }
   ],
   "source": [
    "data = soup.findAll(text=re.compile(\"截至.+\"))\n",
    "data"
   ]
  },
  {
   "cell_type": "code",
   "execution_count": 7,
   "metadata": {},
   "outputs": [
    {
     "data": {
      "text/plain": [
       "'2020-03-28 10:05'"
      ]
     },
     "execution_count": 7,
     "metadata": {},
     "output_type": "execute_result"
    }
   ],
   "source": [
    "for s in data:\n",
    "    m = re.search(\"截至.*(202\\d-\\d+-\\d+ \\d+:\\d+)\", s)\n",
    "    if m is not None:\n",
    "        data_date_time = m.group(1)\n",
    "data_date_time"
   ]
  },
  {
   "cell_type": "markdown",
   "metadata": {},
   "source": [
    "### Extract data (summary)"
   ]
  },
  {
   "cell_type": "code",
   "execution_count": 8,
   "metadata": {},
   "outputs": [
    {
     "data": {
      "text/plain": [
       "['try { window.getStatisticsService = {\"id\":1,\"createTime\":1579537899000,\"modifyTime\":1585389910000,\"infectSource\":\"该字段已替换为说明2\",\"passWay\":\"该字段已替换为说明3\",\"imgUrl\":\"https://img1.dxycdn.com/2020/0201/450/3394153392393266839-135.png\",\"dailyPic\":\"https://img1.dxycdn.com/2020/0211/763/3395998884005602079-135.png,https://img1.dxycdn.com/2020/0211/362/3395998896890788910-135.png,https://img1.dxycdn.com/2020/0211/365/3395998905480724211-135.png,https://img1.dxycdn.com/2020/0211/364/3395998916217859778-135.png,https://img1.dxycdn.com/2020/0211/922/3395998929103046444-135.png,https://img1.dxycdn.com/2020/0211/089/3395998939840182072-135.png\",\"dailyPics\":[\"https://img1.dxycdn.com/2020/0211/763/3395998884005602079-135.png\",\"https://img1.dxycdn.com/2020/0211/362/3395998896890788910-135.png\",\"https://img1.dxycdn.com/2020/0211/365/3395998905480724211-135.png\",\"https://img1.dxycdn.com/2020/0211/364/3395998916217859778-135.png\",\"https://img1.dxycdn.com/2020/0211/922/3395998929103046444-135.png\",\"https://img1.dxycdn.com/2020/0211/089/3395998939840182072-135.png\"],\"summary\":\"\",\"deleted\":false,\"countRemark\":\"\",\"currentConfirmedCount\":3855,\"confirmedCount\":82279,\"suspectedCount\":649,\"curedCount\":75123,\"deadCount\":3301,\"seriousCount\":921,\"suspectedIncr\":54,\"currentConfirmedIncr\":-188,\"confirmedIncr\":201,\"curedIncr\":386,\"deadIncr\":3,\"seriousIncr\":-113,\"virus\":\"该字段已替换为说明1\",\"remark1\":\"易感人群：人群普遍易感。老年人及有基础疾病者感染后病情较重，儿童及婴幼儿也有发病\",\"remark2\":\"潜伏期：一般为 3～7 天，最长不超过 14 天，潜伏期内可能存在传染性，其中无症状病例传染性非常罕见\",\"remark3\":\"宿主：野生动物，可能为中华菊头蝠\",\"remark4\":\"\",\"remark5\":\"\",\"note1\":\"病毒：SARS-CoV-2，其导致疾病命名 COVID-19\",\"note2\":\"传染源：新冠肺炎的患者。无症状感染者也可能成为传染源。\",\"note3\":\"传播途径：经呼吸道飞沫、接触传播是主要的传播途径。气溶胶传播和消化道等传播途径尚待明确。\",\"generalRemark\":\"1. 3 月 12 日国家卫健委确诊补订遗漏 12 例确诊病例（非 12 日新增），暂无具体省份信息。 2. 浙江省 12 例外省治愈暂无具体省份信息。\",\"abroadRemark\":\"\",\"marquee\":[{\"id\":1788,\"marqueeLabel\":\"警惕\",\"marqueeContent\":\"时隔 34 天，浙江再次出现新冠本土病例\",\"marqueeLink\":\"https://dxy.me/4lP37e\"},{\"id\":1789,\"marqueeLabel\":\"国策\",\"marqueeContent\":\"缩减航班，限制入境，中国开始关门\",\"marqueeLink\":\"https://dxy.me/yzpVFK\"},{\"id\":1790,\"marqueeLabel\":\"突发\",\"marqueeContent\":\"英国首相鲍里斯·约翰逊确诊新冠肺炎\",\"marqueeLink\":\"https://dxy.me/Tky6Eh\"}],\"quanguoTrendChart\":[{\"imgUrl\":\"https://img1.dxycdn.com/2020/0324/278/3403801351376518263-135.png\",\"title\":\"新增疑似/新增确诊\"},{\"imgUrl\":\"https://img1.dxycdn.com/2020/0324/812/3403847865872006755-135.png\",\"title\":\"境外输入\"},{\"imgUrl\":\"https://img1.dxycdn.com/2020/0324/547/3403847848692336947-135.png\",\"title\":\"现存确诊\"},{\"imgUrl\":\"https://img1.dxycdn.com/2020/0324/775/3403801407211095604-135.png\",\"title\":\"治愈\"},{\"imgUrl\":\"https://img1.dxycdn.com/2020/0324/250/3403801424390727199-135.png\",\"title\":\"死亡\"}],\"hbFeiHbTrendChart\":[{\"imgUrl\":\"https://img1.dxycdn.com/2020/0326/624/3404177508906904585-135.png\",\"title\":\"非湖北新增确诊\"},{\"imgUrl\":\"https://img1.dxycdn.com/2020/0326/777/3404177532529485065-135.png\",\"title\":\"湖北新增确诊\"},{\"imgUrl\":\"https://img1.dxycdn.com/2020/0326/376/3404177556151805921-135.png\",\"title\":\"湖北现存确诊\"},{\"imgUrl\":\"https://img1.dxycdn.com/2020/0326/527/3404177575478899995-135.png\",\"title\":\"非湖北现存确诊\"},{\"imgUrl\":\"https://img1.dxycdn.com/2020/0326/419/3404177596953996726-135.png\",\"title\":\"治愈/死亡\"}],\"foreignTrendChart\":[{\"imgUrl\":\"https://img1.dxycdn.com/2020/0320/702/3403079914982117944-135.png\",\"title\":\"国外新增确诊\"},{\"imgUrl\":\"https://img1.dxycdn.com/2020/0320/396/3403079925719536561-135.png\",\"title\":\"国外累计确诊\"},{\"imgUrl\":\"https://img1.dxycdn.com/2020/0320/139/3403079936457225524-135.png\",\"title\":\"国外死亡\"}],\"importantForeignTrendChart\":[{\"imgUrl\":\"https://img1.dxycdn.com/2020/0320/450/3403077453965772423-135.png\",\"title\":\"重点国家新增确诊\"},{\"imgUrl\":\"https://img1.dxycdn.com/2020/0320/276/3403077462555980566-135.png\",\"title\":\"日本新增确诊\"},{\"imgUrl\":\"https://img1.dxycdn.com/2020/0320/340/3403077473293125942-135.png\",\"title\":\"意大利新增确诊\"},{\"imgUrl\":\"https://img1.dxycdn.com/2020/0320/723/3403077481883334043-135.png\",\"title\":\"伊朗新增确诊\"},{\"imgUrl\":\"https://img1.dxycdn.com/2020/0320/266/3403077492620752785-135.png\",\"title\":\"美国新增确诊\"},{\"imgUrl\":\"https://img1.dxycdn.com/2020/0320/870/3403077503358171278-135.png\",\"title\":\"法国新增确诊\"},{\"imgUrl\":\"https://img1.dxycdn.com/2020/0320/053/3403077511947832997-135.png\",\"title\":\"德国新增确诊\"},{\"imgUrl\":\"https://img1.dxycdn.com/2020/0320/878/3403077520537768006-135.png\",\"title\":\"西班牙新增确诊\"},{\"imgUrl\":\"https://img1.dxycdn.com/2020/0320/443/3403077531275186665-135.png\",\"title\":\"韩国新增确诊\"}],\"foreignTrendChartGlobal\":[{\"imgUrl\":\"https://img1.dxycdn.com/2020/0319/740/3402859458605738923-135.png\",\"title\":\"Daily New Cases\"},{\"imgUrl\":\"https://img1.dxycdn.com/2020/0319/351/3402856772103846114-135.png\",\"title\":\"Total Confirmed Cases\"},{\"imgUrl\":\"https://img1.dxycdn.com/2020/0319/236/3402856782841001789-135.png\",\"title\":\"Total Deaths Cases\"}],\"importantForeignTrendChartGlobal\":[{\"imgUrl\":\"https://img1.dxycdn.com/2020/0319/122/3402856838675578578-135.png\",\"title\":\"Daily New Cases\"},{\"imgUrl\":\"https://img1.dxycdn.com/2020/0319/685/3402856849412997239-135.png\",\"title\":\"Japan\"},{\"imgUrl\":\"https://img1.dxycdn.com/2020/0319/477/3402856860150678804-135.png\",\"title\":\"Italy\"},{\"imgUrl\":\"https://img1.dxycdn.com/2020/0319/454/3402856873035581014-135.png\",\"title\":\"Iran\"},{\"imgUrl\":\"https://img1.dxycdn.com/2020/0319/022/3402856883772999714-135.png\",\"title\":\"U.S.A.\"},{\"imgUrl\":\"https://img1.dxycdn.com/2020/0319/529/3402856894510155506-135.png\",\"title\":\"France\"},{\"imgUrl\":\"https://img1.dxycdn.com/2020/0319/211/3402856905247574064-135.png\",\"title\":\"Germany\"},{\"imgUrl\":\"https://img1.dxycdn.com/2020/0319/054/3402856913837508985-135.png\",\"title\":\"Spain\"},{\"imgUrl\":\"https://img1.dxycdn.com/2020/0319/088/3402856928870157852-135.png\",\"title\":\"Republic of Korea\"}],\"foreignStatistics\":{\"currentConfirmedCount\":434126,\"confirmedCount\":516965,\"suspectedCount\":4,\"curedCount\":58699,\"deadCount\":24140,\"suspectedIncr\":0,\"currentConfirmedIncr\":8940,\"confirmedIncr\":18497,\"curedIncr\":8834,\"deadIncr\":723},\"globalStatistics\":{\"currentConfirmedCount\":437981,\"confirmedCount\":599244,\"curedCount\":133822,\"deadCount\":27441,\"currentConfirmedIncr\":8752,\"confirmedIncr\":18698,\"curedIncr\":9220,\"deadIncr\":726},\"globalOtherTrendChartData\":\"https://file1.dxycdn.com/2020/0328/444/3404536465093935064-135.json\"}}catch(e){}']"
      ]
     },
     "execution_count": 8,
     "metadata": {},
     "output_type": "execute_result"
    }
   ],
   "source": [
    "data = soup.findAll(text=re.compile('\\\"summary.+\\\"confirmedCount\\\":\\d'))\n",
    "\n",
    "data\n"
   ]
  },
  {
   "cell_type": "code",
   "execution_count": 9,
   "metadata": {},
   "outputs": [],
   "source": [
    "m = re.search('\\\"confirmedCount\\\":(\\d+)', data[0])\n",
    "summary_confirmed_count = int(m.group(1))\n",
    "\n",
    "\n",
    "m = re.search('\\\"curedCount\\\":(\\d+)', data[0])\n",
    "summary_cured_count = int(m.group(1))\n",
    "\n",
    "m = re.search('\\\"deadCount\\\":(\\d+)', data[0])\n",
    "summary_dead_count = int(m.group(1))\n"
   ]
  },
  {
   "cell_type": "code",
   "execution_count": 10,
   "metadata": {},
   "outputs": [
    {
     "data": {
      "text/html": [
       "<div>\n",
       "<style scoped>\n",
       "    .dataframe tbody tr th:only-of-type {\n",
       "        vertical-align: middle;\n",
       "    }\n",
       "\n",
       "    .dataframe tbody tr th {\n",
       "        vertical-align: top;\n",
       "    }\n",
       "\n",
       "    .dataframe thead th {\n",
       "        text-align: right;\n",
       "    }\n",
       "</style>\n",
       "<table border=\"1\" class=\"dataframe\">\n",
       "  <thead>\n",
       "    <tr style=\"text-align: right;\">\n",
       "      <th></th>\n",
       "      <th>datetime</th>\n",
       "      <th>confirmed</th>\n",
       "      <th>cured</th>\n",
       "      <th>dead</th>\n",
       "    </tr>\n",
       "  </thead>\n",
       "  <tbody>\n",
       "    <tr>\n",
       "      <th>0</th>\n",
       "      <td>2020-03-28 10:05</td>\n",
       "      <td>82279</td>\n",
       "      <td>75123</td>\n",
       "      <td>3301</td>\n",
       "    </tr>\n",
       "  </tbody>\n",
       "</table>\n",
       "</div>"
      ],
      "text/plain": [
       "           datetime  confirmed  cured  dead\n",
       "0  2020-03-28 10:05      82279  75123  3301"
      ]
     },
     "execution_count": 10,
     "metadata": {},
     "output_type": "execute_result"
    }
   ],
   "source": [
    "# make a dataframe\n",
    "df = pd.DataFrame({\n",
    "    'datetime': data_date_time,\n",
    "    'confirmed': summary_confirmed_count,\n",
    "    'cured': summary_cured_count,\n",
    "    'dead': summary_dead_count\n",
    "}, index=[0])\n",
    "df"
   ]
  },
  {
   "cell_type": "markdown",
   "metadata": {},
   "source": [
    "### Save to file"
   ]
  },
  {
   "cell_type": "code",
   "execution_count": 11,
   "metadata": {},
   "outputs": [],
   "source": [
    "from pathlib import Path\n",
    "csv_file = '../data/china-summary-cases.csv'\n",
    "\n",
    "if Path(csv_file).exists():\n",
    "    # read out the old data - then merge with new data and remove duplicates based on datetime\n",
    "    old_df = pd.read_csv(csv_file)\n",
    "    df = df.append(old_df)\n",
    "df.drop_duplicates(subset=['datetime'], inplace=True)"
   ]
  },
  {
   "cell_type": "code",
   "execution_count": 12,
   "metadata": {},
   "outputs": [],
   "source": [
    "df.sort_values(by=['datetime'], inplace=True)\n",
    "\n",
    "df.to_csv(csv_file, index=False)\n"
   ]
  },
  {
   "cell_type": "markdown",
   "metadata": {},
   "source": [
    "### Plot graph"
   ]
  },
  {
   "cell_type": "code",
   "execution_count": 13,
   "metadata": {},
   "outputs": [],
   "source": [
    "import seaborn as sns\n",
    "import matplotlib.pyplot as plt\n",
    "from pandas.plotting import register_matplotlib_converters\n",
    "register_matplotlib_converters()\n",
    "\n",
    "png_file = '../images/china-summary-cases.png'\n",
    "# convert to pd.datetime\n",
    "df['datetime_idx'] = pd.to_datetime(df['datetime'], format=\"%Y-%m-%d %H:%M\")\n",
    "\n",
    "df.set_index('datetime_idx', inplace=True)\n",
    "df.drop(['datetime'], axis=1, inplace=True)\n"
   ]
  },
  {
   "cell_type": "code",
   "execution_count": 14,
   "metadata": {},
   "outputs": [
    {
     "data": {
      "text/html": [
       "<div>\n",
       "<style scoped>\n",
       "    .dataframe tbody tr th:only-of-type {\n",
       "        vertical-align: middle;\n",
       "    }\n",
       "\n",
       "    .dataframe tbody tr th {\n",
       "        vertical-align: top;\n",
       "    }\n",
       "\n",
       "    .dataframe thead th {\n",
       "        text-align: right;\n",
       "    }\n",
       "</style>\n",
       "<table border=\"1\" class=\"dataframe\">\n",
       "  <thead>\n",
       "    <tr style=\"text-align: right;\">\n",
       "      <th></th>\n",
       "      <th>confirmed</th>\n",
       "      <th>cured</th>\n",
       "      <th>dead</th>\n",
       "    </tr>\n",
       "    <tr>\n",
       "      <th>datetime_idx</th>\n",
       "      <th></th>\n",
       "      <th></th>\n",
       "      <th></th>\n",
       "    </tr>\n",
       "  </thead>\n",
       "  <tbody>\n",
       "    <tr>\n",
       "      <th>2020-02-02 10:22:00</th>\n",
       "      <td>14483</td>\n",
       "      <td>379</td>\n",
       "      <td>304</td>\n",
       "    </tr>\n",
       "    <tr>\n",
       "      <th>2020-02-02 10:28:00</th>\n",
       "      <td>14483</td>\n",
       "      <td>380</td>\n",
       "      <td>304</td>\n",
       "    </tr>\n",
       "    <tr>\n",
       "      <th>2020-02-02 11:19:00</th>\n",
       "      <td>14489</td>\n",
       "      <td>385</td>\n",
       "      <td>304</td>\n",
       "    </tr>\n",
       "    <tr>\n",
       "      <th>2020-02-02 11:54:00</th>\n",
       "      <td>14489</td>\n",
       "      <td>397</td>\n",
       "      <td>304</td>\n",
       "    </tr>\n",
       "    <tr>\n",
       "      <th>2020-02-02 15:01:00</th>\n",
       "      <td>14490</td>\n",
       "      <td>430</td>\n",
       "      <td>304</td>\n",
       "    </tr>\n",
       "    <tr>\n",
       "      <th>...</th>\n",
       "      <td>...</td>\n",
       "      <td>...</td>\n",
       "      <td>...</td>\n",
       "    </tr>\n",
       "    <tr>\n",
       "      <th>2020-03-28 05:53:00</th>\n",
       "      <td>82214</td>\n",
       "      <td>75123</td>\n",
       "      <td>3301</td>\n",
       "    </tr>\n",
       "    <tr>\n",
       "      <th>2020-03-28 07:07:00</th>\n",
       "      <td>82231</td>\n",
       "      <td>75123</td>\n",
       "      <td>3301</td>\n",
       "    </tr>\n",
       "    <tr>\n",
       "      <th>2020-03-28 07:31:00</th>\n",
       "      <td>82231</td>\n",
       "      <td>75123</td>\n",
       "      <td>3301</td>\n",
       "    </tr>\n",
       "    <tr>\n",
       "      <th>2020-03-28 09:04:00</th>\n",
       "      <td>82279</td>\n",
       "      <td>75123</td>\n",
       "      <td>3301</td>\n",
       "    </tr>\n",
       "    <tr>\n",
       "      <th>2020-03-28 10:05:00</th>\n",
       "      <td>82279</td>\n",
       "      <td>75123</td>\n",
       "      <td>3301</td>\n",
       "    </tr>\n",
       "  </tbody>\n",
       "</table>\n",
       "<p>845 rows × 3 columns</p>\n",
       "</div>"
      ],
      "text/plain": [
       "                     confirmed  cured  dead\n",
       "datetime_idx                               \n",
       "2020-02-02 10:22:00      14483    379   304\n",
       "2020-02-02 10:28:00      14483    380   304\n",
       "2020-02-02 11:19:00      14489    385   304\n",
       "2020-02-02 11:54:00      14489    397   304\n",
       "2020-02-02 15:01:00      14490    430   304\n",
       "...                        ...    ...   ...\n",
       "2020-03-28 05:53:00      82214  75123  3301\n",
       "2020-03-28 07:07:00      82231  75123  3301\n",
       "2020-03-28 07:31:00      82231  75123  3301\n",
       "2020-03-28 09:04:00      82279  75123  3301\n",
       "2020-03-28 10:05:00      82279  75123  3301\n",
       "\n",
       "[845 rows x 3 columns]"
      ]
     },
     "execution_count": 14,
     "metadata": {},
     "output_type": "execute_result"
    }
   ],
   "source": [
    "df"
   ]
  },
  {
   "cell_type": "code",
   "execution_count": 15,
   "metadata": {
    "scrolled": true
   },
   "outputs": [
    {
     "data": {
      "image/png": "[encoded data removed]",
      "text/plain": [
       "<Figure size 1008x1008 with 3 Axes>"
      ]
     },
     "metadata": {},
     "output_type": "display_data"
    }
   ],
   "source": [
    "if df.shape[0]>1:\n",
    "    # line chart when having at least a few points\n",
    "    sns.set(rc={'figure.figsize':(14,14)})\n",
    "    sns.set(style=\"whitegrid\")\n",
    "\n",
    "    fig, axs = plt.subplots(nrows=3)\n",
    "\n",
    "    sns.lineplot(x=df.index, y = 'confirmed', data=df, ax= axs[0], estimator=None, color='orange')\n",
    "    sns.lineplot(x=df.index, y = 'cured', data=df, ax= axs[1], estimator=None, color='green')\n",
    "    sns.lineplot(x=df.index, y = 'dead', data=df, ax= axs[2], estimator=None, color='darkred')\n",
    "\n",
    "    for ax in axs:\n",
    "        ax.set_xlabel('')\n",
    "        ax.tick_params(axis='x', labelrotation=30)\n",
    "else:\n",
    "\n",
    "    ax = df.plot(kind='bar', stacked=True, figsize=(9,6))\n",
    "    fig = ax.get_figure()\n",
    "    ax.set_xlabel('')\n",
    "    for label in ax.get_xticklabels():\n",
    "        label.set_rotation(0) \n"
   ]
  },
  {
   "cell_type": "code",
   "execution_count": 16,
   "metadata": {},
   "outputs": [],
   "source": [
    "fig.savefig(png_file)"
   ]
  },
  {
   "cell_type": "code",
   "execution_count": null,
   "metadata": {},
   "outputs": [],
   "source": []
  },
  {
   "cell_type": "code",
   "execution_count": null,
   "metadata": {},
   "outputs": [],
   "source": []
  }
 ],
 "metadata": {
  "kernelspec": {
   "display_name": "Python 3",
   "language": "python",
   "name": "python3"
  },
  "language_info": {
   "codemirror_mode": {
    "name": "ipython",
    "version": 3
   },
   "file_extension": ".py",
   "mimetype": "text/x-python",
   "name": "python",
   "nbconvert_exporter": "python",
   "pygments_lexer": "ipython3",
   "version": "3.7.6"
  }
 },
 "nbformat": 4,
 "nbformat_minor": 2
}
