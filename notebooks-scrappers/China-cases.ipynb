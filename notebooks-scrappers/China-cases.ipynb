{
 "cells": [
  {
   "cell_type": "code",
   "execution_count": 1,
   "metadata": {},
   "outputs": [],
   "source": [
    "import pandas as pd\n",
    "import requests\n",
    "from bs4 import BeautifulSoup\n",
    "import re\n",
    "from datetime import datetime\n",
    "from selenium import webdriver\n",
    "from selenium.webdriver.chrome.options import Options  \n"
   ]
  },
  {
   "cell_type": "code",
   "execution_count": 2,
   "metadata": {},
   "outputs": [
    {
     "data": {
      "text/plain": [
       "datetime.datetime(2020, 3, 31, 2, 8, 32, 95865)"
      ]
     },
     "execution_count": 2,
     "metadata": {},
     "output_type": "execute_result"
    }
   ],
   "source": [
    "datetime.now()"
   ]
  },
  {
   "cell_type": "code",
   "execution_count": 3,
   "metadata": {},
   "outputs": [],
   "source": [
    "chrome_options = Options()  \n",
    "chrome_options.add_argument(\"--headless\")  \n",
    "chrome_options.add_argument(\"--no-sandbox\")\n",
    "\n",
    "driver = webdriver.Chrome('chromedriver', options=chrome_options)"
   ]
  },
  {
   "cell_type": "code",
   "execution_count": 4,
   "metadata": {},
   "outputs": [],
   "source": [
    "url = 'https://ncov.dxy.cn/ncovh5/view/pneumonia'\n",
    "driver.get(url)"
   ]
  },
  {
   "cell_type": "markdown",
   "metadata": {},
   "source": [
    "### Extract date"
   ]
  },
  {
   "cell_type": "code",
   "execution_count": 5,
   "metadata": {},
   "outputs": [],
   "source": [
    "content = driver.page_source\n",
    "soup =BeautifulSoup(content, 'lxml')\n"
   ]
  },
  {
   "cell_type": "code",
   "execution_count": 6,
   "metadata": {},
   "outputs": [
    {
     "data": {
      "text/plain": [
       "['try { window.getTimelineService1 = [{\"id\":20750,\"pubDate\":1585619312000,\"pubDateStr\":\"11分钟前\",\"title\":\"天津31日最新通报：无新增报告本地新冠肺炎确诊病例  无新增境外输入确诊病例\",\"summary\":\"3月30日18时至31日6时，天津无新增报告境外输入确诊病例。累计报告境外输入确诊病例38例（在院38例，其中重型3例、普通型22例、轻型8例、分型待定5例；中国籍34例、美国籍2例、法国籍1例、菲律宾籍1例）。\",\"infoSource\":\"央视新闻app\",\"sourceUrl\":\"http://app.cctv.com/special/cportal/detail/arti/index.html?id=ArtijzEWc65WW8jguT5xeTLb200331&isfromapp=1\",\"provinceId\":\"\"},{\"id\":20757,\"pubDate\":1585618803000,\"pubDateStr\":\"20分钟前\",\"title\":\"法国新增4376例新冠肺炎\",\"summary\":\"3月30日法国卫生部宣布，法国新冠肺炎患者较昨日新增4376例，累计确诊共44550例，其中入院20946例，重症5056例，新增死亡418 例，累计死亡3024例。\",\"infoSource\":\"人民日报海外版\",\"sourceUrl\":\"http://m.weibo.cn/3057540037/4488472938868925\",\"provinceId\":\"\"},{\"id\":20747,\"pubDate\":1585618781000,\"pubDateStr\":\"20分钟前\",\"title\":\"陕西31日通报：无新增境外输入新冠肺炎确诊病例\",\"summary\":\"2020年3月30日8时至31日8时，陕西无新增境外输入新冠肺炎确诊病例。新增疑似病例0例。新增密切接触者30人，其中境外输入病例密切接触者8人，外省协查22人。\",\"infoSource\":\"央视新闻app\",\"sourceUrl\":\"http://app.cctv.com/special/cportal/detail/arti/index.html?id=Arti9DC7aECNPDuqkIBjAq1o200331&isfromapp=1\",\"provinceId\":\"\"},{\"id\":20740,\"pubDate\":1585618681000,\"pubDateStr\":\"22分钟前\",\"title\":\"广东31日最新通报：新增境外输入确诊病例6例\",\"summary\":\"3月30日0-24时，广东省新增境外输入确诊病例6例，分别为广州报告4例（英国、美国各输入2例）；深圳、佛山各报告1例（英国输入）。\",\"infoSource\":\"央视新闻app\",\"sourceUrl\":\"http://app.cctv.com/special/cportal/detail/arti/index.html?id=ArtioSVdDqGdhmlcmuxmAmXM200331&isfromapp=1\",\"provinceId\":\"\"},{\"id\":20735,\"pubDate\":1585618542000,\"pubDateStr\":\"24分钟前\",\"title\":\"2020年3月30日河北省无新增报告新型冠状病毒肺炎确诊病例\",\"summary\":\"3月30日0—24时，河北省无新增报告新型冠状病毒肺炎确诊病例，无新增死亡病例，无新增疑似病例。\\u3000\\u3000当日新增治愈出院病例0例，解除隔离医学观察的密切接触者0人。\",\"infoSource\":\"河北卫健委\",\"sourceUrl\":\"http://wsjkw.hebei.gov.cn/content/content_3714/403241.jhtml\",\"provinceId\":\"\"},{\"id\":20743,\"pubDate\":1585618444000,\"pubDateStr\":\"26分钟前\",\"title\":\"山东通报1例新增境外输入确诊病例详情\",\"summary\":\"2020年3月30日12时-24时，山东省济南市本地无新增新型冠状病毒肺炎确诊病例及疑似病例。新增境外输入新型冠状病毒肺炎确诊病例1例。\",\"infoSource\":\"央视新闻app\",\"sourceUrl\":\"http://app.cctv.com/special/cportal/detail/arti/index.html?id=ArtiAM1mBQass5byO47wHNuT200331&isfromapp=1\",\"provinceId\":\"\"},{\"id\":20736,\"pubDate\":1585618352000,\"pubDateStr\":\"27分钟前\",\"title\":\"中国抗疫医疗专家组抵达委内瑞拉 委内瑞拉新冠肺炎累计确诊135例\",\"summary\":\"当地时间3月30日凌晨，由国家卫生健康委员会组建、来自江苏省的8人抗疫专家组抵达委内瑞拉首都加拉加斯。委内瑞拉外长、卫生部长、经济和财政部长以及中国驻委内瑞拉大使到机场迎接。\",\"infoSource\":\"央视新闻app\",\"sourceUrl\":\"http://app.cctv.com/special/cportal/detail/arti/index.html?id=Arti84kdj2qOLeqYk6b4xF3H200331&isfromapp=1\",\"provinceId\":\"\"},{\"id\":20737,\"pubDate\":1585618135000,\"pubDateStr\":\"31分钟前\",\"title\":\"阿根廷新增新冠肺炎确诊病例146例 累计966例 政府呼吁大企业勿轻易辞退员工\",\"summary\":\"当地时间3月30日，阿根廷卫生部公布该国新增新冠肺炎确诊病例146例，累计达966例；新增死亡病例4例，累计达24例。阿根廷卫生部长冈萨雷斯表示，当天新增病例较此前有较为明显增加是因为政府加大了测试试剂和检测机构的数量，在政府预期之内。\",\"infoSource\":\"央视新闻app\",\"sourceUrl\":\"http://app.cctv.com/special/cportal/detail/arti/index.html?id=ArtikQwCTd63BdTdcMXU7QWE200331&isfromapp=1\",\"provinceId\":\"\"},{\"id\":20734,\"pubDate\":1585617769000,\"pubDateStr\":\"37分钟前\",\"title\":\"\\u200b墨西哥新冠肺炎确诊病例累计1094例 死亡28例\",\"summary\":\"\\\\n墨西哥卫生部宣布，截止到墨西哥当地时间3月30日晚上7点，全国确诊1094例新冠肺炎病例，较前一天新增了101例。另外还有2752例疑似病例，而此前已经排除的疑似病例已经累计到5635例。同时，墨西哥全国确诊死亡病例较前一天新增8例，总数已经上升到28例。\",\"infoSource\":\"央视新闻app\",\"sourceUrl\":\"http://app.cctv.com/special/cportal/detail/arti/index.html?id=ArtimQXWiqWCPWQbq65ru3F2200331&isfromapp=1\",\"provinceId\":\"\"},{\"id\":20728,\"pubDate\":1585617658000,\"pubDateStr\":\"39分钟前\",\"title\":\"韩国新冠肺炎累计确诊病例升至9786例\",\"summary\":\"韩国中央防疫对策本部31日通报，30日0时至31日0时，韩国新增新冠肺炎确诊病例125例，累计确诊病例升至9786例。\",\"infoSource\":\"央视新闻app\",\"sourceUrl\":\"http://app.cctv.com/special/cportal/detail/arti/index.html?id=Artir4Mb2T8tIOgf9MjZOfhn200331&isfromapp=1\",\"provinceId\":\"\"},{\"id\":20729,\"pubDate\":1585617640000,\"pubDateStr\":\"39分钟前\",\"title\":\"河北30日无新增确诊病例 现有确诊病例5例\",\"summary\":\"3月30日0-24时，河北省无新增报告新型冠状病毒肺炎确诊病例，无新增死亡病例，无新增疑似病例。当日新增治愈出院病例0例，解除隔离医学观察的密切接触者0人。\",\"infoSource\":\"央视新闻app\",\"sourceUrl\":\"http://app.cctv.com/special/cportal/detail/arti/index.html?id=ArtieW1fnSY24mzVCebmhJn4200331&isfromapp=1\",\"provinceId\":\"\"},{\"id\":20721,\"pubDate\":1585617231000,\"pubDateStr\":\"46分钟前\",\"title\":\"上海3月30日无新增本地新冠肺炎确诊病例，新增境外输入11例\",\"summary\":\"  3月30日0—24时，通过口岸联防联控机制，报告11例境外输入性新冠肺炎确诊病例。新增治愈出院4例，其中西班牙输入性病例2例，伊朗输入性病例1例，意大利输入性病例1例。\",\"infoSource\":\"上海卫健委\",\"sourceUrl\":\"http://wsjkw.sh.gov.cn/xwfb/20200331/fdadaad432924946b4b6d2d1edef80da.html\",\"provinceId\":\"\"},{\"id\":20725,\"pubDate\":1585616895000,\"pubDateStr\":\"52分钟前\",\"title\":\"中国赴意大利抗疫医疗专家组开展院感防控等方面培训\",\"summary\":\"当地时间30日，中国赴意大利抗疫医疗专家组对托斯卡纳地区卫生机构和医护人员开展院感防控、心理疏导和护理等方面专项培训。\\\\n△中国医疗专家组在卡雷吉大学综合医院开展院感防控培训\\\\n为充分利用时间，专家组当天兵分两路，一队前往佛罗伦萨卡雷吉大学综合医院，通过现场交流和同步直播方式向托斯卡纳地区卫生机构负责人和一线医护人员进行院感防控和心理疏导等方面培训。另一队前往佛罗伦萨新圣母医院，向临床医务人员传授新冠\",\"infoSource\":\"央视新闻app\",\"sourceUrl\":\"http://app.cctv.com/special/cportal/detail/arti/index.html?id=ArtikFTkboCZ8MUkkT9uICgA200331&isfromapp=1\",\"provinceId\":\"\"},{\"id\":20714,\"pubDate\":1585616749000,\"pubDateStr\":\"54分钟前\",\"title\":\"2020年3月30日青海省无新型冠状病毒肺炎新增确诊病例\",\"summary\":\"2020年3月30日0-24时，当日青海省无新型冠状病毒肺炎新增确诊病例和疑似病例。截至3月30日24时，青海省累计报告新型冠状病毒肺炎确诊病例18例（其中西宁市15例，海北州3例），已全部治愈出院。\\\\n\\\\n\\\\t\\\\t\\\\n\\\\t\\\\t\",\"infoSource\":\"青海卫健委\",\"sourceUrl\":\"https://wsjkw.qinghai.gov.cn/ztbd/yqjk/yqtb/2020/03/31/1585615920696.html\",\"provinceId\":\"\"},{\"id\":20713,\"pubDate\":1585616737000,\"pubDateStr\":\"54分钟前\",\"title\":\" 2020年3月30日江西省无本地新增新型冠状病毒肺炎确诊病例   \",\"summary\":\"2020年3月30日0-24时，江西省无本地新增新型冠状病毒肺炎确诊病例报告，无本地新增疑似病例，无本地住院确诊病例。截至3月30日24时，全省累计报告本地确诊病例935例，累计出院病例934例，累计死亡病例1例。\",\"infoSource\":\"江西卫健委\",\"sourceUrl\":\"http://hc.jiangxi.gov.cn/doc/2020/03/31/142013.shtml\",\"provinceId\":\"\"},{\"id\":20719,\"pubDate\":1585616720000,\"pubDateStr\":\"55分钟前\",\"title\":\"安徽31日最新通报：无新增确诊病例  315人尚在医学观察\",\"summary\":\"2020年3月30日0-24时，安徽省报告无新增确诊病例，无新增疑似病例。截至3月30日24时，安徽省累计报告确诊病例990例，累计治愈出院病例984例，累计死亡病例6例，累计医学观察密切接触者28931人，尚在医学观察315人。\",\"infoSource\":\"央视新闻app\",\"sourceUrl\":\"http://app.cctv.com/special/cportal/detail/arti/index.html?id=ArtiB1nZ9DxAoxJxTJpOZprO200331&isfromapp=1\",\"provinceId\":\"\"},{\"id\":20717,\"pubDate\":1585616252000,\"pubDateStr\":\"1小时前\",\"title\":\"江苏31日最新通报：江苏省新增境外输入新冠肺炎确诊病例1例\",\"summary\":\"3月30日0-24时，江苏省新增境外输入新冠肺炎确诊病例1例，为通过口岸联防联控机制报告（英国输入）。截至3月30日24时，累计报告境外输入确诊病例15例。\",\"infoSource\":\"央视新闻app\",\"sourceUrl\":\"http://app.cctv.com/special/cportal/detail/arti/index.html?id=ArtiGnilzYd4JVl5utukH6yH200331&isfromapp=1\",\"provinceId\":\"\"},{\"id\":20711,\"pubDate\":1585616142000,\"pubDateStr\":\"1小时前\",\"title\":\"宁夏31日最新通报：连续27天无新增确诊病例\",\"summary\":\"3月31日，宁夏应对新型冠状病毒肺炎疫情工作指挥部发布最新全区新冠肺炎疫情通报。截至2020年3月30日24时，宁夏连续27天无新增确诊病例。\",\"infoSource\":\"央视新闻app\",\"sourceUrl\":\"http://app.cctv.com/special/cportal/detail/arti/index.html?id=ArtidzEDkSMl0rKmNQ4HMAP2200331&isfromapp=1\",\"provinceId\":\"\"},{\"id\":20707,\"pubDate\":1585615918000,\"pubDateStr\":\"1小时前\",\"title\":\"3月30日24时新型冠状病毒肺炎疫情最新情况\",\"summary\":\" 3月30日0—24时，31个省（自治区、直辖市）和新疆生产建设兵团报告新增确诊病例48例，均为境外输入病例；新增死亡病例1例（湖北1例）；新增疑似病例44例，均为境外输入病例。\",\"infoSource\":\"河南卫健委\",\"sourceUrl\":\"http://www.hnwsjsw.gov.cn/contents/858/49183.shtml\",\"provinceId\":\"\"},{\"id\":20704,\"pubDate\":1585615907000,\"pubDateStr\":\"1小时前\",\"title\":\"截至3月30日24时河南省无新增新冠肺炎确诊病例\",\"summary\":\"2020年3月30日0时-24时，河南省无新增新冠肺炎确诊病例。截至3月30日24时，全省累计报告本地新冠肺炎确诊病例1273例，累计死亡病例22例，累计出院病例1250例。\\\\n  \",\"infoSource\":\"河南卫健委\",\"sourceUrl\":\"http://www.hnwsjsw.gov.cn/contents/858/49181.shtml\",\"provinceId\":\"\"},{\"id\":20705,\"pubDate\":1585615907000,\"pubDateStr\":\"1小时前\",\"title\":\"陕西无新增境外输入新冠肺炎 累计境外输入8例\",\"summary\":\"2020年3月30日8时至31日8时，陕西无新增境外输入新冠肺炎确诊病例。新增疑似病例0例。新增密切接触者30人，其中境外输入病例密切接触者8人、外省协查22人。\",\"infoSource\":\"陕西卫健委\",\"sourceUrl\":\"http://sxwjw.shaanxi.gov.cn/art/2020/3/31/art_9_69336.html\",\"provinceId\":\"\"},{\"id\":20700,\"pubDate\":1585615577000,\"pubDateStr\":\"1小时前\",\"title\":\"3月30日江苏无新增本地新冠肺炎确诊病例， 新增境外输入确诊病例1例\",\"summary\":\"3月30日江苏无新增本地新冠肺炎确诊病例， 新增境外输入确诊病例1例\",\"infoSource\":\"江苏卫健委\",\"sourceUrl\":\"http://wjw.jiangsu.gov.cn/art/2020/3/31/art_7290_9028255.html\",\"provinceId\":\"\"},{\"id\":20722,\"pubDate\":1585615502000,\"pubDateStr\":\"1小时前\",\"title\":\"2020年3月31日广东省新增境外输入确诊病例6例\",\"summary\":\"3月30日0-24时，全省新增境外输入确诊病例6例，分别为广州报告4例（英国、美国各输入2例）；深圳、佛山各报告1例（英国输入）。全省累计报告境外输入病例138例。\\u3000\\u3000\",\"infoSource\":\"广东卫健委\",\"sourceUrl\":\"http://wsjkw.gd.gov.cn/xxgzbdfk/yqtb/content/post_2961725.html\",\"provinceId\":\"\"},{\"id\":20699,\"pubDate\":1585615440000,\"pubDateStr\":\"1小时前\",\"title\":\"3月31日安徽省无新增确诊病例\",\"summary\":\"2020年3月30日0-24时，安徽省报告无新增确诊病例，无新增疑似病例。 截至3月30日24时，安徽省累计报告确诊病例990例，累计治愈出院病例984例，累计死亡病例6例，累计医学观察密切接触者28931人，尚在医学观察315人。\\\\n\\\\n\\\\t\\\\t\\\\t\\\\n\\\\t\\\\t\",\"infoSource\":\"安徽卫健委\",\"sourceUrl\":\"http://wjw.ah.gov.cn/news_details_56220.html\",\"provinceId\":\"\"},{\"id\":20708,\"pubDate\":1585615440000,\"pubDateStr\":\"1小时前\",\"title\":\"福建30日新增3例境外输入新冠肺炎确诊病例 累计境外输入47例\",\"summary\":\"3月30日0—24时，福建省报告新增境外输入新型冠状病毒肺炎确诊病例3例，其中：美国1例（福州市报告）；菲律宾2例（厦门市报告）。\",\"infoSource\":\"央视新闻app\",\"sourceUrl\":\"http://app.cctv.com/special/cportal/detail/arti/index.html?id=ArtiMbLTEP1iIJsC5ztLUHoa200331&isfromapp=1\",\"provinceId\":\"\"},{\"id\":20709,\"pubDate\":1585615351000,\"pubDateStr\":\"1小时前\",\"title\":\"四川31日通报：无新增新冠肺炎确诊病例 \",\"summary\":\"3月30日0-24时，四川省新型冠状病毒肺炎无新增确诊病例，无新增治愈出院病例，无新增疑似病例，无新增死亡病例。\",\"infoSource\":\"央视新闻app\",\"sourceUrl\":\"http://app.cctv.com/special/cportal/detail/arti/index.html?id=ArtiE5zCISLcGTzB6CnG2oZ4200331&isfromapp=1\",\"provinceId\":\"\"},{\"id\":20695,\"pubDate\":1585615138000,\"pubDateStr\":\"1小时前\",\"title\":\" 3月30日0-24时，四川新型冠状病毒肺炎无新增确诊病例\",\"summary\":\" 3月30日0-24时，四川新型冠状病毒肺炎无新增确诊病例，无新增治愈出院病例，无新增疑似病例，无新增死亡病例。\",\"infoSource\":\"四川卫健委\",\"sourceUrl\":\"http://wsjkw.sc.gov.cn/scwsjkw/gzbd01/2020/3/31/5ca89076c002410ea36e7235b79eff52.shtml\",\"provinceId\":\"\"},{\"id\":20694,\"pubDate\":1585615120000,\"pubDateStr\":\"1小时前\",\"title\":\" 北京昨日新增报告境外输入病例3例，无新增报告本地病例 \",\"summary\":\"3月30日12时至24时，新增报告境外输入新冠肺炎确诊病例3例，其中塞尔维亚2例、西班牙1例。治愈出院1例。\",\"infoSource\":\"北京卫健委\",\"sourceUrl\":\"http://wjw.beijing.gov.cn/xwzx_20031/xwfb/202003/t20200331_1750025.html\",\"provinceId\":\"\"},{\"id\":20690,\"pubDate\":1585614898000,\"pubDateStr\":\"1小时前\",\"title\":\"河南30日无新增新冠肺炎确诊病例\",\"summary\":\"2020年3月30日0时-24时，河南省无新增新冠肺炎确诊病例。截至3月30日24时，河南省累计报告本地新冠肺炎确诊病例1273例，累计死亡病例22例，累计出院病例1250例。\",\"infoSource\":\"央视新闻app\",\"sourceUrl\":\"http://app.cctv.com/special/cportal/detail/arti/index.html?id=Arti01pmaXzZY9NifOw8cdWQ200331&isfromapp=1\",\"provinceId\":\"\"},{\"id\":20691,\"pubDate\":1585614871000,\"pubDateStr\":\"1小时前\",\"title\":\"\\u200b湖南31日最新通报：无新增新冠肺炎确诊病例 161人接受医学观察\",\"summary\":\"2020年3月30日0-24时，湖南省报告新型冠状病毒肺炎新增确诊病例0例。截至3月30日24时，湖南省累计报告新型冠状病毒肺炎确诊病例1018例，死亡病例4例，出院病例1014例。\",\"infoSource\":\"央视新闻app\",\"sourceUrl\":\"http://app.cctv.com/special/cportal/detail/arti/index.html?id=ArtiB28vScFZ6gklvUBPhh5n200331&isfromapp=1\",\"provinceId\":\"\"},{\"id\":20692,\"pubDate\":1585614649000,\"pubDateStr\":\"1小时前\",\"title\":\"\\u200b云南31日最新通报：无新增本地确诊病例 新增境外输入确诊病例1例\",\"summary\":\"据云南省卫生健康委通报，3月30日0时至24时，云南省无新增本地确诊病例，新增境外输入确诊病例1例（中国公民，英国输入）。\",\"infoSource\":\"央视新闻app\",\"sourceUrl\":\"http://app.cctv.com/special/cportal/detail/arti/index.html?id=ArtioFh6zStXfrOv6EXOJETR200331&isfromapp=1\",\"provinceId\":\"\"},{\"id\":20715,\"pubDate\":1585614604000,\"pubDateStr\":\"1小时前\",\"title\":\"3月30日贵州省无新增新型冠状病毒肺炎确诊病例\",\"summary\":\"2020年3月30日0—24时，贵州省无新增新型冠状病毒肺炎确诊病例报告，无新增疑似病例。\\\\n            \\\\n        \",\"infoSource\":\"贵州卫健委\",\"sourceUrl\":\"http://www.gzhfpc.gov.cn/ztzl_500663/xxgzbdgrdfyyqfk/yqdt/202003/t20200331_55717335.html\",\"provinceId\":\"\"},{\"id\":20693,\"pubDate\":1585614600000,\"pubDateStr\":\"1小时前\",\"title\":\"湖北30日无新增新冠肺炎确诊病例 新增出院271例\",\"summary\":\"2020年3月30日0—24时，湖北省新增新冠肺炎确诊病例0例，无境外输入性病例。新增病亡1例，其中：武汉市1例，其他16个市州均为0例。\",\"infoSource\":\"央视新闻app\",\"sourceUrl\":\"http://app.cctv.com/special/cportal/detail/arti/index.html?id=ArtiKnwT83K6QPCmqF0h04mH200331&isfromapp=1\",\"provinceId\":\"\"},{\"id\":20689,\"pubDate\":1585614307000,\"pubDateStr\":\"1小时前\",\"title\":\"北京30日新增报告境外输入病例3例  无新增报告本地病例\",\"summary\":\"3月30日12时至24时，北京新增报告境外输入新冠肺炎确诊病例3例，其中塞尔维亚2例、西班牙1例。治愈出院1例。\",\"infoSource\":\"央视新闻app\",\"sourceUrl\":\"http://app.cctv.com/special/cportal/detail/arti/index.html?id=Arti7fEnDBfvPFi02GGanXCL200331&isfromapp=1\",\"provinceId\":\"\"},{\"id\":20685,\"pubDate\":1585614256000,\"pubDateStr\":\"1小时前\",\"title\":\"海南31日通报：无新增新冠肺炎确诊病例\",\"summary\":\"3月30日0-24时，海南省报告新型冠状病毒肺炎新增确诊病例0例，新增重症病例0例，新增死亡病例0例，新增出院0例。\",\"infoSource\":\"央视新闻app\",\"sourceUrl\":\"http://app.cctv.com/special/cportal/detail/arti/index.html?id=ArtiAIzj7jplNivOKLHms04P200331&isfromapp=1\",\"provinceId\":\"\"},{\"id\":20686,\"pubDate\":1585614238000,\"pubDateStr\":\"1小时前\",\"title\":\"山东3月31日通报：新增境外输入确诊病例1例 累计治愈出院752例\",\"summary\":\"2020年3月30日12-24时，山东省无本地住院疑似病例、确诊病例。累计报告确诊病例759例，死亡病例7例，治愈出院752例。\",\"infoSource\":\"央视新闻app\",\"sourceUrl\":\"http://app.cctv.com/special/cportal/detail/arti/index.html?id=ArtiGSpQINnOic9OZ0Pl6Iw6200331&isfromapp=1\",\"provinceId\":\"\"},{\"id\":20683,\"pubDate\":1585614164000,\"pubDateStr\":\"1小时前\",\"title\":\" 2020年3月30日12-24时，山东省无本地住院疑似病例、确诊病例\",\"summary\":\"2020年3月30日12-24时，山东省无本地住院疑似病例、确诊病例。累计报告确诊病例759例，死亡病例7例，治愈出院752例。\\\\n   \\\\n        \\\\n            \\\\n            \\\\n            \\\\n\\\\t\\\\t\\\\t\\\\t\\\\n\\\\t\\\\t\\\\t\\\\t\\\\t\\\\n\\\\t\\\\t\\\\t\\\\t\\\\t\\\\t \\\\n\\\\n\\\\t\\\\t\\\\t\\\\t\\\\t\\\\t\\\\n\\\\t\\\\t\\\\t\\\\t\\\\t\\\\n\\\\t\\\\t\\\\t\\\\n          \",\"infoSource\":\"山东卫健委\",\"sourceUrl\":\"http://wsjkw.shandong.gov.cn/ztzl/rdzt/qlzhfkgz/tzgg/202003/t20200331_3060843.html\",\"provinceId\":\"\"},{\"id\":20684,\"pubDate\":1585614164000,\"pubDateStr\":\"1小时前\",\"title\":\"3月30日0—24时，31个省（自治区、直辖市）和新疆生产建设兵团报告新增确诊病例48例，均为境外输入病例\",\"summary\":\"3月30日0—24时，31个省（自治区、直辖市）和新疆生产建设兵团报告新增确诊病例48例，均为境外输入病例；新增死亡病例1例（湖北1例）；新增疑似病例44例，均为境外输入病例。\",\"infoSource\":\"中国卫健委\",\"sourceUrl\":\"http://www.nhc.gov.cn/xcs/yqtb/202003/ec2689b0e716468fbfff7cf890c74bb7.shtml\",\"provinceId\":\"\"},{\"id\":20701,\"pubDate\":1585614120000,\"pubDateStr\":\"1小时前\",\"title\":\"\\u30003月30日0—24时，福建省报告新增境外输入新型冠状病毒肺炎确诊病例3例\",\"summary\":\"3月30日0—24时，福建省报告新增境外输入新型冠状病毒肺炎确诊病例3例\",\"infoSource\":\"福建卫健委\",\"sourceUrl\":\"http://wjw.fujian.gov.cn/ztzl/gzbufk/yqtb/202003/t20200331_5225446.htm\",\"provinceId\":\"\"},{\"id\":20702,\"pubDate\":1585613940000,\"pubDateStr\":\"1小时前\",\"title\":\"2020年3月30日0-24时,湖南省报告新型冠状病毒肺炎新增确诊病例0例\",\"summary\":\"\\u20022020年3月30日0-24时,湖南省报告新型冠状病毒肺炎新增确诊病例0例。截至3月30日24时,湖南省累计报告新型冠状病毒肺炎确诊病例1018例,死亡病例4例,出院病例1014例。\\u2002\\u2002\",\"infoSource\":\"湖南卫健委\",\"sourceUrl\":\"http://wjw.hunan.gov.cn/wjw/xxgk/gzdt/zyxw_1/202003/t20200331_11867420.html\",\"provinceId\":\"\"},{\"id\":20703,\"pubDate\":1585613820000,\"pubDateStr\":\"1小时前\",\"title\":\"2020年3月30日湖北省新增新冠肺炎确诊病例0例\",\"summary\":\"2020年3月30日0—24时，全省新增新冠肺炎确诊病例0例，无境外输入性病例。\\\\n                        \",\"infoSource\":\"湖北卫健委\",\"sourceUrl\":\"http://wjw.hubei.gov.cn/bmdt/ztzl/fkxxgzbdgrfyyq/xxfb/202003/t20200331_2197221.shtml\",\"provinceId\":\"\"},{\"id\":20678,\"pubDate\":1585613609000,\"pubDateStr\":\"1小时前\",\"title\":\"辽宁30日最新通报：新增3例境外输入确诊病例 在院治疗13例\",\"summary\":\"2020年3月30日0时至24时，辽宁新增3例境外输入新型冠状病毒肺炎确诊病例。2例为沈阳市病例（来自美国1例、英国1例），均属普通型病例；1例为鞍山市病例（来自美国），属普通型病例。无新增治愈出院病例。\",\"infoSource\":\"央视新闻app\",\"sourceUrl\":\"http://app.cctv.com/special/cportal/detail/arti/index.html?id=ArtiiQGJ8946oBzyRKe9zzuL200331&isfromapp=1\",\"provinceId\":\"\"},{\"id\":20680,\"pubDate\":1585613516000,\"pubDateStr\":\"1小时前\",\"title\":\"广西31日最新通报：无新增确诊、疑似病例\",\"summary\":\"3月30日0至24时，广西无新增确诊、疑似病例，无新增死亡病例。\",\"infoSource\":\"央视新闻app\",\"sourceUrl\":\"http://app.cctv.com/special/cportal/detail/arti/index.html?id=Artiho4TOHLPvk7Mz0uNmd8b200331&isfromapp=1\",\"provinceId\":\"\"},{\"id\":20681,\"pubDate\":1585613391000,\"pubDateStr\":\"1小时前\",\"title\":\"突尼斯新冠肺炎确诊病例累计升至362例\",\"summary\":\"据突尼斯媒体当地时间3月30日晚报道，突尼斯卫生部当天（30日）晚确认，突尼斯当天新增50例新冠肺炎确诊病例。累计确诊病例362例，累计死亡10例。\",\"infoSource\":\"央视新闻app\",\"sourceUrl\":\"http://app.cctv.com/special/cportal/detail/arti/index.html?id=ArtiutVP9aq0b7EVICak2RyB200331&isfromapp=1\",\"provinceId\":\"\"},{\"id\":20677,\"pubDate\":1585613226000,\"pubDateStr\":\"1小时前\",\"title\":\"摩洛哥新冠肺炎确诊病例总数上升至556例\",\"summary\":\"摩洛哥卫生部当地时间30日晚8时确认，摩洛哥新增新冠肺炎确诊病例22例，新增治愈出院1例。摩洛哥新冠肺炎确诊病例累计556例，累计治愈出院14例，累计死亡病例33例。\",\"infoSource\":\"央视新闻app\",\"sourceUrl\":\"http://app.cctv.com/special/cportal/detail/arti/index.html?id=Arti1nH1WXD51NYdgqJSW3Kh200331&isfromapp=1\",\"provinceId\":\"\"},{\"id\":20706,\"pubDate\":1585528500000,\"pubDateStr\":\"1天前\",\"title\":\"3月30日宁夏连续27天无新增确诊病例\",\"summary\":\"截至2020年3月30日24时，连续27天无新增确诊病例。全区累计报告确诊病例75例（含境外输入病例3例），已全部治愈出院。无疑似病例。\\\\n\",\"infoSource\":\"宁夏卫健委\",\"sourceUrl\":\"http://wsjkw.nx.gov.cn/info/1262/16611.htm\",\"provinceId\":\"\"}]}catch(e){}',\n",
       " '截至北京时间 2020-03-31 01:42',\n",
       " '截至北京时间 2020-03-31 01:42',\n",
       " '2020年3月30日0-24时，当日青海省无新型冠状病毒肺炎新增确诊病例和疑似病例。截至3月30日24时，青海省累计报告新型冠状病毒肺炎确诊病例18例（其中西宁市15例，海北州3例），已全部治愈出院。\\n\\n\\t\\t\\n\\t\\t',\n",
       " '2020年3月30日0-24时，江西省无本地新增新型冠状病毒肺炎确诊病例报告，无本地新增疑似病例，无本地住院确诊病例。截至3月30日24时，全省累计报告本地确诊病例935例，累计出院病例934例，累计死亡病例1例。',\n",
       " '2020年3月30日0-24时，安徽省报告无新增确诊病例，无新增疑似病例。截至3月30日24时，安徽省累计报告确诊病例990例，累计治愈出院病例984例，累计死亡病例6例，累计医学观察密切接触者28931人，尚在医学观察315人。',\n",
       " '3月30日0-24时，江苏省新增境外输入新冠肺炎确诊病例1例，为通过口岸联防联控机制报告（英国输入）。截至3月30日24时，累计报告境外输入确诊病例15例。',\n",
       " '3月31日，宁夏应对新型冠状病毒肺炎疫情工作指挥部发布最新全区新冠肺炎疫情通报。截至2020年3月30日24时，宁夏连续27天无新增确诊病例。',\n",
       " '截至3月30日24时河南省无新增新冠肺炎确诊病例',\n",
       " '2020年3月30日0时-24时，河南省无新增新冠肺炎确诊病例。截至3月30日24时，全省累计报告本地新冠肺炎确诊病例1273例，累计死亡病例22例，累计出院病例1250例。\\n  ',\n",
       " '2020年3月30日0-24时，安徽省报告无新增确诊病例，无新增疑似病例。 截至3月30日24时，安徽省累计报告确诊病例990例，累计治愈出院病例984例，累计死亡病例6例，累计医学观察密切接触者28931人，尚在医学观察315人。\\n\\n\\t\\t\\t\\n\\t\\t',\n",
       " '2020年3月30日0时-24时，河南省无新增新冠肺炎确诊病例。截至3月30日24时，河南省累计报告本地新冠肺炎确诊病例1273例，累计死亡病例22例，累计出院病例1250例。',\n",
       " '2020年3月30日0-24时，湖南省报告新型冠状病毒肺炎新增确诊病例0例。截至3月30日24时，湖南省累计报告新型冠状病毒肺炎确诊病例1018例，死亡病例4例，出院病例1014例。',\n",
       " '\\u20022020年3月30日0-24时,湖南省报告新型冠状病毒肺炎新增确诊病例0例。截至3月30日24时,湖南省累计报告新型冠状病毒肺炎确诊病例1018例,死亡病例4例,出院病例1014例。\\u2002\\u2002',\n",
       " '截至2020年3月30日24时，连续27天无新增确诊病例。全区累计报告确诊病例75例（含境外输入病例3例），已全部治愈出院。无疑似病例。\\n']"
      ]
     },
     "execution_count": 6,
     "metadata": {},
     "output_type": "execute_result"
    }
   ],
   "source": [
    "data = soup.findAll(text=re.compile(\"截至.+\"))\n",
    "data"
   ]
  },
  {
   "cell_type": "code",
   "execution_count": 7,
   "metadata": {},
   "outputs": [
    {
     "data": {
      "text/plain": [
       "'2020-03-31 01:42'"
      ]
     },
     "execution_count": 7,
     "metadata": {},
     "output_type": "execute_result"
    }
   ],
   "source": [
    "for s in data:\n",
    "    m = re.search(\"截至.*(202\\d-\\d+-\\d+ \\d+:\\d+)\", s)\n",
    "    if m is not None:\n",
    "        data_date_time = m.group(1)\n",
    "data_date_time"
   ]
  },
  {
   "cell_type": "markdown",
   "metadata": {},
   "source": [
    "### Extract data (summary)"
   ]
  },
  {
   "cell_type": "code",
   "execution_count": 8,
   "metadata": {},
   "outputs": [
    {
     "data": {
      "text/plain": [
       "['try { window.getStatisticsService = {\"id\":1,\"createTime\":1579537899000,\"modifyTime\":1585618939000,\"infectSource\":\"该字段已替换为说明2\",\"passWay\":\"该字段已替换为说明3\",\"imgUrl\":\"https://img1.dxycdn.com/2020/0201/450/3394153392393266839-135.png\",\"dailyPic\":\"https://img1.dxycdn.com/2020/0211/763/3395998884005602079-135.png,https://img1.dxycdn.com/2020/0211/362/3395998896890788910-135.png,https://img1.dxycdn.com/2020/0211/365/3395998905480724211-135.png,https://img1.dxycdn.com/2020/0211/364/3395998916217859778-135.png,https://img1.dxycdn.com/2020/0211/922/3395998929103046444-135.png,https://img1.dxycdn.com/2020/0211/089/3395998939840182072-135.png\",\"dailyPics\":[\"https://img1.dxycdn.com/2020/0211/763/3395998884005602079-135.png\",\"https://img1.dxycdn.com/2020/0211/362/3395998896890788910-135.png\",\"https://img1.dxycdn.com/2020/0211/365/3395998905480724211-135.png\",\"https://img1.dxycdn.com/2020/0211/364/3395998916217859778-135.png\",\"https://img1.dxycdn.com/2020/0211/922/3395998929103046444-135.png\",\"https://img1.dxycdn.com/2020/0211/089/3395998939840182072-135.png\"],\"summary\":\"\",\"deleted\":false,\"countRemark\":\"\",\"currentConfirmedCount\":3008,\"confirmedCount\":82547,\"suspectedCount\":771,\"curedCount\":76225,\"deadCount\":3314,\"seriousCount\":528,\"suspectedIncr\":30,\"currentConfirmedIncr\":-267,\"confirmedIncr\":83,\"curedIncr\":343,\"deadIncr\":7,\"seriousIncr\":-109,\"virus\":\"该字段已替换为说明1\",\"remark1\":\"易感人群：人群普遍易感。老年人及有基础疾病者感染后病情较重，儿童及婴幼儿也有发病\",\"remark2\":\"潜伏期：一般为 3～7 天，最长不超过 14 天，潜伏期内可能存在传染性，其中无症状病例传染性非常罕见\",\"remark3\":\"宿主：野生动物，可能为中华菊头蝠\",\"remark4\":\"\",\"remark5\":\"\",\"note1\":\"病毒：SARS-CoV-2，其导致疾病命名 COVID-19\",\"note2\":\"传染源：新冠肺炎的患者。无症状感染者也可能成为传染源。\",\"note3\":\"传播途径：经呼吸道飞沫、接触传播是主要的传播途径。气溶胶传播和消化道等传播途径尚待明确。\",\"generalRemark\":\"1. 3 月 12 日国家卫健委确诊补订遗漏 12 例确诊病例（非 12 日新增），暂无具体省份信息。 2. 浙江省 12 例外省治愈暂无具体省份信息。\",\"abroadRemark\":\"\",\"marquee\":[{\"id\":1827,\"marqueeLabel\":\"世卫组织\",\"marqueeContent\":\"意大利、西班牙疫情或趋向稳定\",\"marqueeLink\":\"https://dxy.me/LrGCau\"},{\"id\":1828,\"marqueeLabel\":\"美国\",\"marqueeContent\":\"一样又不一样，纽约方舱即将开舱\",\"marqueeLink\":\"https://dxy.me/jU1G0D\"},{\"id\":1829,\"marqueeLabel\":\"数字新冠\",\"marqueeContent\":\"3 月 30 日，世界因新冠而变\",\"marqueeLink\":\"https://dxy.me/MdEyHY\"}],\"quanguoTrendChart\":[{\"imgUrl\":\"https://img1.dxycdn.com/2020/0324/278/3403801351376518263-135.png\",\"title\":\"新增疑似/新增确诊\"},{\"imgUrl\":\"https://img1.dxycdn.com/2020/0324/812/3403847865872006755-135.png\",\"title\":\"境外输入\"},{\"imgUrl\":\"https://img1.dxycdn.com/2020/0324/547/3403847848692336947-135.png\",\"title\":\"现存确诊\"},{\"imgUrl\":\"https://img1.dxycdn.com/2020/0324/775/3403801407211095604-135.png\",\"title\":\"治愈\"},{\"imgUrl\":\"https://img1.dxycdn.com/2020/0324/250/3403801424390727199-135.png\",\"title\":\"死亡\"}],\"hbFeiHbTrendChart\":[{\"imgUrl\":\"https://img1.dxycdn.com/2020/0326/624/3404177508906904585-135.png\",\"title\":\"非湖北新增确诊\"},{\"imgUrl\":\"https://img1.dxycdn.com/2020/0326/777/3404177532529485065-135.png\",\"title\":\"湖北新增确诊\"},{\"imgUrl\":\"https://img1.dxycdn.com/2020/0326/376/3404177556151805921-135.png\",\"title\":\"湖北现存确诊\"},{\"imgUrl\":\"https://img1.dxycdn.com/2020/0326/527/3404177575478899995-135.png\",\"title\":\"非湖北现存确诊\"},{\"imgUrl\":\"https://img1.dxycdn.com/2020/0326/419/3404177596953996726-135.png\",\"title\":\"治愈/死亡\"}],\"foreignTrendChart\":[{\"imgUrl\":\"https://img1.dxycdn.com/2020/0320/702/3403079914982117944-135.png\",\"title\":\"国外新增确诊\"},{\"imgUrl\":\"https://img1.dxycdn.com/2020/0320/396/3403079925719536561-135.png\",\"title\":\"国外累计确诊\"},{\"imgUrl\":\"https://img1.dxycdn.com/2020/0320/139/3403079936457225524-135.png\",\"title\":\"国外死亡\"}],\"importantForeignTrendChart\":[{\"imgUrl\":\"https://img1.dxycdn.com/2020/0320/450/3403077453965772423-135.png\",\"title\":\"重点国家新增确诊\"},{\"imgUrl\":\"https://img1.dxycdn.com/2020/0320/276/3403077462555980566-135.png\",\"title\":\"日本新增确诊\"},{\"imgUrl\":\"https://img1.dxycdn.com/2020/0320/340/3403077473293125942-135.png\",\"title\":\"意大利新增确诊\"},{\"imgUrl\":\"https://img1.dxycdn.com/2020/0320/723/3403077481883334043-135.png\",\"title\":\"伊朗新增确诊\"},{\"imgUrl\":\"https://img1.dxycdn.com/2020/0320/266/3403077492620752785-135.png\",\"title\":\"美国新增确诊\"},{\"imgUrl\":\"https://img1.dxycdn.com/2020/0320/870/3403077503358171278-135.png\",\"title\":\"法国新增确诊\"},{\"imgUrl\":\"https://img1.dxycdn.com/2020/0320/053/3403077511947832997-135.png\",\"title\":\"德国新增确诊\"},{\"imgUrl\":\"https://img1.dxycdn.com/2020/0320/878/3403077520537768006-135.png\",\"title\":\"西班牙新增确诊\"},{\"imgUrl\":\"https://img1.dxycdn.com/2020/0320/443/3403077531275186665-135.png\",\"title\":\"韩国新增确诊\"}],\"foreignTrendChartGlobal\":[{\"imgUrl\":\"https://img1.dxycdn.com/2020/0319/740/3402859458605738923-135.png\",\"title\":\"Daily New Cases\"},{\"imgUrl\":\"https://img1.dxycdn.com/2020/0319/351/3402856772103846114-135.png\",\"title\":\"Total Confirmed Cases\"},{\"imgUrl\":\"https://img1.dxycdn.com/2020/0319/236/3402856782841001789-135.png\",\"title\":\"Total Deaths Cases\"}],\"importantForeignTrendChartGlobal\":[{\"imgUrl\":\"https://img1.dxycdn.com/2020/0319/122/3402856838675578578-135.png\",\"title\":\"Daily New Cases\"},{\"imgUrl\":\"https://img1.dxycdn.com/2020/0319/685/3402856849412997239-135.png\",\"title\":\"Japan\"},{\"imgUrl\":\"https://img1.dxycdn.com/2020/0319/477/3402856860150678804-135.png\",\"title\":\"Italy\"},{\"imgUrl\":\"https://img1.dxycdn.com/2020/0319/454/3402856873035581014-135.png\",\"title\":\"Iran\"},{\"imgUrl\":\"https://img1.dxycdn.com/2020/0319/022/3402856883772999714-135.png\",\"title\":\"U.S.A.\"},{\"imgUrl\":\"https://img1.dxycdn.com/2020/0319/529/3402856894510155506-135.png\",\"title\":\"France\"},{\"imgUrl\":\"https://img1.dxycdn.com/2020/0319/211/3402856905247574064-135.png\",\"title\":\"Germany\"},{\"imgUrl\":\"https://img1.dxycdn.com/2020/0319/054/3402856913837508985-135.png\",\"title\":\"Spain\"},{\"imgUrl\":\"https://img1.dxycdn.com/2020/0319/088/3402856928870157852-135.png\",\"title\":\"Republic of Korea\"}],\"foreignStatistics\":{\"currentConfirmedCount\":568656,\"confirmedCount\":682397,\"suspectedCount\":4,\"curedCount\":80262,\"deadCount\":33479,\"suspectedIncr\":0,\"currentConfirmedIncr\":0,\"confirmedIncr\":0,\"curedIncr\":0,\"deadIncr\":0},\"globalStatistics\":{\"currentConfirmedCount\":571664,\"confirmedCount\":764944,\"curedCount\":156487,\"deadCount\":36793,\"currentConfirmedIncr\":-267,\"confirmedIncr\":83,\"curedIncr\":343,\"deadIncr\":7},\"globalOtherTrendChartData\":\"https://file1.dxycdn.com/2020/0331/217/3405093116477911455-135.json\"}}catch(e){}']"
      ]
     },
     "execution_count": 8,
     "metadata": {},
     "output_type": "execute_result"
    }
   ],
   "source": [
    "data = soup.findAll(text=re.compile('\\\"summary.+\\\"confirmedCount\\\":\\d'))\n",
    "\n",
    "data\n"
   ]
  },
  {
   "cell_type": "code",
   "execution_count": 9,
   "metadata": {},
   "outputs": [],
   "source": [
    "m = re.search('\\\"confirmedCount\\\":(\\d+)', data[0])\n",
    "summary_confirmed_count = int(m.group(1))\n",
    "\n",
    "\n",
    "m = re.search('\\\"curedCount\\\":(\\d+)', data[0])\n",
    "summary_cured_count = int(m.group(1))\n",
    "\n",
    "m = re.search('\\\"deadCount\\\":(\\d+)', data[0])\n",
    "summary_dead_count = int(m.group(1))\n"
   ]
  },
  {
   "cell_type": "code",
   "execution_count": 10,
   "metadata": {},
   "outputs": [
    {
     "data": {
      "text/html": [
       "<div>\n",
       "<style scoped>\n",
       "    .dataframe tbody tr th:only-of-type {\n",
       "        vertical-align: middle;\n",
       "    }\n",
       "\n",
       "    .dataframe tbody tr th {\n",
       "        vertical-align: top;\n",
       "    }\n",
       "\n",
       "    .dataframe thead th {\n",
       "        text-align: right;\n",
       "    }\n",
       "</style>\n",
       "<table border=\"1\" class=\"dataframe\">\n",
       "  <thead>\n",
       "    <tr style=\"text-align: right;\">\n",
       "      <th></th>\n",
       "      <th>datetime</th>\n",
       "      <th>confirmed</th>\n",
       "      <th>cured</th>\n",
       "      <th>dead</th>\n",
       "    </tr>\n",
       "  </thead>\n",
       "  <tbody>\n",
       "    <tr>\n",
       "      <th>0</th>\n",
       "      <td>2020-03-31 01:42</td>\n",
       "      <td>82547</td>\n",
       "      <td>76225</td>\n",
       "      <td>3314</td>\n",
       "    </tr>\n",
       "  </tbody>\n",
       "</table>\n",
       "</div>"
      ],
      "text/plain": [
       "           datetime  confirmed  cured  dead\n",
       "0  2020-03-31 01:42      82547  76225  3314"
      ]
     },
     "execution_count": 10,
     "metadata": {},
     "output_type": "execute_result"
    }
   ],
   "source": [
    "# make a dataframe\n",
    "df = pd.DataFrame({\n",
    "    'datetime': data_date_time,\n",
    "    'confirmed': summary_confirmed_count,\n",
    "    'cured': summary_cured_count,\n",
    "    'dead': summary_dead_count\n",
    "}, index=[0])\n",
    "df"
   ]
  },
  {
   "cell_type": "markdown",
   "metadata": {},
   "source": [
    "### Save to file"
   ]
  },
  {
   "cell_type": "code",
   "execution_count": 11,
   "metadata": {},
   "outputs": [],
   "source": [
    "from pathlib import Path\n",
    "csv_file = '../data/china-summary-cases.csv'\n",
    "\n",
    "if Path(csv_file).exists():\n",
    "    # read out the old data - then merge with new data and remove duplicates based on datetime\n",
    "    old_df = pd.read_csv(csv_file)\n",
    "    df = df.append(old_df)\n",
    "df.drop_duplicates(subset=['datetime'], inplace=True)"
   ]
  },
  {
   "cell_type": "code",
   "execution_count": 12,
   "metadata": {},
   "outputs": [],
   "source": [
    "df.sort_values(by=['datetime'], inplace=True)\n",
    "\n",
    "df.to_csv(csv_file, index=False)\n"
   ]
  },
  {
   "cell_type": "markdown",
   "metadata": {},
   "source": [
    "### Plot graph"
   ]
  },
  {
   "cell_type": "code",
   "execution_count": 13,
   "metadata": {},
   "outputs": [],
   "source": [
    "import seaborn as sns\n",
    "import matplotlib.pyplot as plt\n",
    "from pandas.plotting import register_matplotlib_converters\n",
    "register_matplotlib_converters()\n",
    "\n",
    "png_file = '../images/china-summary-cases.png'\n",
    "# convert to pd.datetime\n",
    "df['datetime_idx'] = pd.to_datetime(df['datetime'], format=\"%Y-%m-%d %H:%M\")\n",
    "\n",
    "df.set_index('datetime_idx', inplace=True)\n",
    "df.drop(['datetime'], axis=1, inplace=True)\n"
   ]
  },
  {
   "cell_type": "code",
   "execution_count": 14,
   "metadata": {},
   "outputs": [
    {
     "data": {
      "text/html": [
       "<div>\n",
       "<style scoped>\n",
       "    .dataframe tbody tr th:only-of-type {\n",
       "        vertical-align: middle;\n",
       "    }\n",
       "\n",
       "    .dataframe tbody tr th {\n",
       "        vertical-align: top;\n",
       "    }\n",
       "\n",
       "    .dataframe thead th {\n",
       "        text-align: right;\n",
       "    }\n",
       "</style>\n",
       "<table border=\"1\" class=\"dataframe\">\n",
       "  <thead>\n",
       "    <tr style=\"text-align: right;\">\n",
       "      <th></th>\n",
       "      <th>confirmed</th>\n",
       "      <th>cured</th>\n",
       "      <th>dead</th>\n",
       "    </tr>\n",
       "    <tr>\n",
       "      <th>datetime_idx</th>\n",
       "      <th></th>\n",
       "      <th></th>\n",
       "      <th></th>\n",
       "    </tr>\n",
       "  </thead>\n",
       "  <tbody>\n",
       "    <tr>\n",
       "      <th>2020-02-02 10:22:00</th>\n",
       "      <td>14483</td>\n",
       "      <td>379</td>\n",
       "      <td>304</td>\n",
       "    </tr>\n",
       "    <tr>\n",
       "      <th>2020-02-02 10:28:00</th>\n",
       "      <td>14483</td>\n",
       "      <td>380</td>\n",
       "      <td>304</td>\n",
       "    </tr>\n",
       "    <tr>\n",
       "      <th>2020-02-02 11:19:00</th>\n",
       "      <td>14489</td>\n",
       "      <td>385</td>\n",
       "      <td>304</td>\n",
       "    </tr>\n",
       "    <tr>\n",
       "      <th>2020-02-02 11:54:00</th>\n",
       "      <td>14489</td>\n",
       "      <td>397</td>\n",
       "      <td>304</td>\n",
       "    </tr>\n",
       "    <tr>\n",
       "      <th>2020-02-02 15:01:00</th>\n",
       "      <td>14490</td>\n",
       "      <td>430</td>\n",
       "      <td>304</td>\n",
       "    </tr>\n",
       "    <tr>\n",
       "      <th>...</th>\n",
       "      <td>...</td>\n",
       "      <td>...</td>\n",
       "      <td>...</td>\n",
       "    </tr>\n",
       "    <tr>\n",
       "      <th>2020-03-30 14:07:00</th>\n",
       "      <td>82505</td>\n",
       "      <td>75956</td>\n",
       "      <td>3313</td>\n",
       "    </tr>\n",
       "    <tr>\n",
       "      <th>2020-03-30 15:56:00</th>\n",
       "      <td>82505</td>\n",
       "      <td>75956</td>\n",
       "      <td>3313</td>\n",
       "    </tr>\n",
       "    <tr>\n",
       "      <th>2020-03-30 17:02:00</th>\n",
       "      <td>82505</td>\n",
       "      <td>75956</td>\n",
       "      <td>3313</td>\n",
       "    </tr>\n",
       "    <tr>\n",
       "      <th>2020-03-31 01:05:00</th>\n",
       "      <td>82545</td>\n",
       "      <td>76225</td>\n",
       "      <td>3314</td>\n",
       "    </tr>\n",
       "    <tr>\n",
       "      <th>2020-03-31 01:42:00</th>\n",
       "      <td>82547</td>\n",
       "      <td>76225</td>\n",
       "      <td>3314</td>\n",
       "    </tr>\n",
       "  </tbody>\n",
       "</table>\n",
       "<p>886 rows × 3 columns</p>\n",
       "</div>"
      ],
      "text/plain": [
       "                     confirmed  cured  dead\n",
       "datetime_idx                               \n",
       "2020-02-02 10:22:00      14483    379   304\n",
       "2020-02-02 10:28:00      14483    380   304\n",
       "2020-02-02 11:19:00      14489    385   304\n",
       "2020-02-02 11:54:00      14489    397   304\n",
       "2020-02-02 15:01:00      14490    430   304\n",
       "...                        ...    ...   ...\n",
       "2020-03-30 14:07:00      82505  75956  3313\n",
       "2020-03-30 15:56:00      82505  75956  3313\n",
       "2020-03-30 17:02:00      82505  75956  3313\n",
       "2020-03-31 01:05:00      82545  76225  3314\n",
       "2020-03-31 01:42:00      82547  76225  3314\n",
       "\n",
       "[886 rows x 3 columns]"
      ]
     },
     "execution_count": 14,
     "metadata": {},
     "output_type": "execute_result"
    }
   ],
   "source": [
    "df"
   ]
  },
  {
   "cell_type": "code",
   "execution_count": 15,
   "metadata": {
    "scrolled": true
   },
   "outputs": [
    {
     "data": {
      "image/png": "[encoded data removed]",
      "text/plain": [
       "<Figure size 1008x1008 with 3 Axes>"
      ]
     },
     "metadata": {},
     "output_type": "display_data"
    }
   ],
   "source": [
    "if df.shape[0]>1:\n",
    "    # line chart when having at least a few points\n",
    "    sns.set(rc={'figure.figsize':(14,14)})\n",
    "    sns.set(style=\"whitegrid\")\n",
    "\n",
    "    fig, axs = plt.subplots(nrows=3)\n",
    "\n",
    "    sns.lineplot(x=df.index, y = 'confirmed', data=df, ax= axs[0], estimator=None, color='orange')\n",
    "    sns.lineplot(x=df.index, y = 'cured', data=df, ax= axs[1], estimator=None, color='green')\n",
    "    sns.lineplot(x=df.index, y = 'dead', data=df, ax= axs[2], estimator=None, color='darkred')\n",
    "\n",
    "    for ax in axs:\n",
    "        ax.set_xlabel('')\n",
    "        ax.tick_params(axis='x', labelrotation=30)\n",
    "else:\n",
    "\n",
    "    ax = df.plot(kind='bar', stacked=True, figsize=(9,6))\n",
    "    fig = ax.get_figure()\n",
    "    ax.set_xlabel('')\n",
    "    for label in ax.get_xticklabels():\n",
    "        label.set_rotation(0) \n"
   ]
  },
  {
   "cell_type": "code",
   "execution_count": 16,
   "metadata": {},
   "outputs": [],
   "source": [
    "fig.savefig(png_file)"
   ]
  },
  {
   "cell_type": "code",
   "execution_count": null,
   "metadata": {},
   "outputs": [],
   "source": []
  },
  {
   "cell_type": "code",
   "execution_count": null,
   "metadata": {},
   "outputs": [],
   "source": []
  }
 ],
 "metadata": {
  "kernelspec": {
   "display_name": "Python 3",
   "language": "python",
   "name": "python3"
  },
  "language_info": {
   "codemirror_mode": {
    "name": "ipython",
    "version": 3
   },
   "file_extension": ".py",
   "mimetype": "text/x-python",
   "name": "python",
   "nbconvert_exporter": "python",
   "pygments_lexer": "ipython3",
   "version": "3.7.6"
  }
 },
 "nbformat": 4,
 "nbformat_minor": 2
}
