{
 "cells": [
  {
   "cell_type": "code",
   "execution_count": 1,
   "metadata": {},
   "outputs": [],
   "source": [
    "import pandas as pd\n",
    "import requests\n",
    "from bs4 import BeautifulSoup\n",
    "import re\n",
    "from datetime import datetime\n",
    "from selenium import webdriver\n",
    "from selenium.webdriver.chrome.options import Options  \n"
   ]
  },
  {
   "cell_type": "code",
   "execution_count": 2,
   "metadata": {},
   "outputs": [
    {
     "data": {
      "text/plain": [
       "datetime.datetime(2020, 4, 6, 8, 8, 47, 775315)"
      ]
     },
     "execution_count": 2,
     "metadata": {},
     "output_type": "execute_result"
    }
   ],
   "source": [
    "datetime.now()"
   ]
  },
  {
   "cell_type": "code",
   "execution_count": 3,
   "metadata": {},
   "outputs": [],
   "source": [
    "chrome_options = Options()  \n",
    "chrome_options.add_argument(\"--headless\")  \n",
    "chrome_options.add_argument(\"--no-sandbox\")\n",
    "\n",
    "driver = webdriver.Chrome('chromedriver', options=chrome_options)"
   ]
  },
  {
   "cell_type": "code",
   "execution_count": 4,
   "metadata": {},
   "outputs": [],
   "source": [
    "url = 'https://ncov.dxy.cn/ncovh5/view/pneumonia'\n",
    "driver.get(url)"
   ]
  },
  {
   "cell_type": "markdown",
   "metadata": {},
   "source": [
    "### Extract date"
   ]
  },
  {
   "cell_type": "code",
   "execution_count": 5,
   "metadata": {},
   "outputs": [],
   "source": [
    "content = driver.page_source\n",
    "soup =BeautifulSoup(content, 'lxml')\n"
   ]
  },
  {
   "cell_type": "code",
   "execution_count": 6,
   "metadata": {},
   "outputs": [
    {
     "data": {
      "text/plain": [
       "['try { window.getTimelineService1 = [{\"id\":25921,\"pubDate\":1586159784000,\"pubDateStr\":\"9分钟前\",\"title\":\"海关检疫部门已发现391例确诊病例\",\"summary\":\"5日，国家移民管理局边防检查管理司司长刘海涛表示，境外输入病例持续增加，目前已经超过950例。已排查出自疫情重点国家地区的人员，或者在有疫情严重国家地区旅行史、居留史的人员20余万人次。截至目前，海关检疫部门从中发现确诊病例391人，占海外输入病例的四成多。 人民日报的微博视频\\\\n\",\"infoSource\":\"人民日报\",\"sourceUrl\":\"http://m.weibo.cn/2803301701/4490741977779077\",\"provinceId\":\"\"},{\"id\":25915,\"pubDate\":1586159150000,\"pubDateStr\":\"19分钟前\",\"title\":\"俄罗斯新增954例新冠肺炎确诊病例 累计确诊6343例\",\"summary\":\"据俄罗斯新冠病毒防疫官网发布的信息，截至莫斯科时间4月6日10时30分，俄罗斯境内新增954例新冠肺炎感染病例，其中莫斯科新增591例。全俄共累计确诊6343例，其中莫斯科累计确诊4484例，为全俄疫情最严重的地区。目前累计治愈病例406例，累计死亡47例。\",\"infoSource\":\"央视新闻app\",\"sourceUrl\":\"http://app.cctv.com/special/cportal/detail/arti/index.html?id=ArtirDJ3YEQwD9OPUXT5lWQk200406&isfromapp=1\",\"provinceId\":\"\"},{\"id\":25916,\"pubDate\":1586159017000,\"pubDateStr\":\"22分钟前\",\"title\":\"山东最后一支医疗队撤离 华西挥别齐鲁\",\"summary\":\"今日（4月6日），山东大学齐鲁医院第五批支援湖北医疗队完成医疗救治任务，撤离武汉。这也是最后一批撤离的山东医疗队队员。昨天，同一院区的四川医疗队为他们举行了一个欢送仪式。\",\"infoSource\":\"央视新闻app\",\"sourceUrl\":\"http://app.cctv.com/special/cportal/detail/arti/index.html?id=ArtirI1afFCmFdOWvBrLCNRz200406&isfromapp=1\",\"provinceId\":\"\"},{\"id\":25917,\"pubDate\":1586158937000,\"pubDateStr\":\"23分钟前\",\"title\":\"\\u200b英国首相鲍里斯·约翰逊将继续领导政府\",\"summary\":\"据路透社6日报道，英国住房部长罗伯特·詹里克（Robert Jenrick）周一表示，英国首相鲍里斯·约翰逊将继续领导政府。“他一直在非常努力地工作、领导着政府，他一直掌握着各种最新的信息，这将继续下去。\",\"infoSource\":\"央视新闻app\",\"sourceUrl\":\"http://app.cctv.com/special/cportal/detail/arti/index.html?id=ArtipwbvzlVrqUfFukN1yBYd200406&isfromapp=1\",\"provinceId\":\"\"},{\"id\":25911,\"pubDate\":1586158874000,\"pubDateStr\":\"24分钟前\",\"title\":\"美国西班牙意大利累计确诊总和超59万\",\"summary\":\"美国西班牙意大利累计确诊总和超59万\\\\n\",\"infoSource\":\"央视新闻\",\"sourceUrl\":\"http://m.weibo.cn/2656274875/4490738160993444\",\"provinceId\":\"\"},{\"id\":25919,\"pubDate\":1586158768000,\"pubDateStr\":\"26分钟前\",\"title\":\"俄罗斯新增954例新冠肺炎确诊病例 累计达6343例\",\"summary\":\"据路透社最新消息，过去24小时，俄罗斯新增954例新冠肺炎确诊病例，累计达6343例。 \\\\n\",\"infoSource\":\"人民日报海外版\",\"sourceUrl\":\"http://m.weibo.cn/3057540037/4490737716403807\",\"provinceId\":\"\"},{\"id\":25906,\"pubDate\":1586158440000,\"pubDateStr\":\"31分钟前\",\"title\":\"韩国首次将拒绝隔离的外国人驱逐出境\",\"summary\":\"韩国法务部6日表示，拒绝在韩国接受定点隔离的一位30多岁中国台湾女性前一天被送回台湾。这是韩国境内爆发新冠肺炎疫情后，首次出现外国人因不遵守韩国政府防疫措施而被驱逐出境的情况。\",\"infoSource\":\"央视新闻app\",\"sourceUrl\":\"http://app.cctv.com/special/cportal/detail/arti/index.html?id=Artia5NNsEdco9s2VjaY89gk200406&isfromapp=1\",\"provinceId\":\"\"},{\"id\":25907,\"pubDate\":1586158357000,\"pubDateStr\":\"33分钟前\",\"title\":\"民航局：已安排11架次临时航班 接回1827名中国公民\",\"summary\":\"今日（4月6日），国务院联防联控机制在北京召开新闻发布会，介绍依法防控境外疫情输入最新情况。中国民用航空局飞行标准司副司长韩光祖介绍，3月4日至4月3日，民航共安排11架次临时航班协助在伊朗、意大利和英国的1827名中国公民回国。\",\"infoSource\":\"央视新闻app\",\"sourceUrl\":\"http://app.cctv.com/special/cportal/detail/arti/index.html?id=Arti5Q4EG8XxG0DeJETSIRJB200406&isfromapp=1\",\"provinceId\":\"\"},{\"id\":25898,\"pubDate\":1586158203000,\"pubDateStr\":\"35分钟前\",\"title\":\"韩国51例治愈患者“复阳” 原因待查\",\"summary\":\"韩国卫生部门6日通报，截至当天，该国共有51名新冠肺炎确诊患者，在治愈出院并解除隔离后病毒复检呈阳性。\",\"infoSource\":\"央视新闻app\",\"sourceUrl\":\"http://app.cctv.com/special/cportal/detail/arti/index.html?id=ArtiW4SPrEXRnz16MvqvVsLW200406&isfromapp=1\",\"provinceId\":\"\"},{\"id\":25904,\"pubDate\":1586158203000,\"pubDateStr\":\"35分钟前\",\"title\":\"韩国51名新冠肺炎患者康复后检测呈阳性\",\"summary\":\"据韩联社最新消息，韩国卫生部周一（6日）表示，来自大邱和庆尚北道的51名新冠肺炎患者在康复解除隔离后的检测中再次呈阳性。\",\"infoSource\":\"人民日报海外版\",\"sourceUrl\":\"http://m.weibo.cn/3057540037/4490735346840794\",\"provinceId\":\"\"},{\"id\":25900,\"pubDate\":1586158097000,\"pubDateStr\":\"37分钟前\",\"title\":\"上海对3月31日前来沪且尚在集中隔离的入境人员进行新冠病毒检测\",\"summary\":\"记者从上海市新冠疫情防控工作领导小组办公室获悉，上海将对3月31日零时前入境来沪且未接受过新冠病毒核酸采样检测、尚处在集中隔离健康观察期间的人员，自4月7日起可实施核酸检测。\",\"infoSource\":\"央视新闻app\",\"sourceUrl\":\"http://app.cctv.com/special/cportal/detail/arti/index.html?id=ArtiWZwcEp1ueWupBfysrWKW200406&isfromapp=1\",\"provinceId\":\"\"},{\"id\":25892,\"pubDate\":1586157574000,\"pubDateStr\":\"46分钟前\",\"title\":\"乌克兰新增新冠肺炎确诊病例68例 累计1319例\",\"summary\":\"当地时间4月6日，乌克兰卫生部发布消息称，截止到当日上午9:00，乌克兰累计确诊新冠肺炎确诊病例1319例，较前一日晚新增68例。截至目前，乌克兰共报告新冠肺炎死亡38例，治愈28例。因疫情发展，乌克兰已于3月25日宣布国家进入紧急情况，时间持续至4月24日 。3日，乌克兰总理什梅加尔宣布，从本月6日起，乌克兰将采取一系列防范新冠肺炎疫情传播的补充限制性措施，直至4月24日。（总台记者 王晓雪）\\\\n\",\"infoSource\":\"央视新闻app\",\"sourceUrl\":\"http://app.cctv.com/special/cportal/detail/arti/index.html?id=ArtiCWoIVTQ44yAwNMxjhKof200406&isfromapp=1\",\"provinceId\":\"\"},{\"id\":25893,\"pubDate\":1586157442000,\"pubDateStr\":\"48分钟前\",\"title\":\"与我国接壤国家疫情输入风险攀升\",\"summary\":\"6日，国家卫健委新闻发言人米锋表示，4月5日#湖北外本土重症病例降至9例#，湖北除武汉外重症病例降至3例。\\\\n\",\"infoSource\":\"人民日报\",\"sourceUrl\":\"http://m.weibo.cn/2803301701/4490732154566785\",\"provinceId\":\"\"},{\"id\":25884,\"pubDate\":1586157139000,\"pubDateStr\":\"53分钟前\",\"title\":\"澳大利亚新南威尔士州政府宣布 疫情期间短租住宿不得接单\",\"summary\":\"为遏制新冠疫情，澳大利亚新南威尔士州政府4月5日表示，民宿等类似短租住宿业务，在疫情期间不得营业。\",\"infoSource\":\"央视新闻app\",\"sourceUrl\":\"http://app.cctv.com/special/cportal/detail/arti/index.html?id=ArtiNH4zSBQU8UHiCxvRuPJN200406&isfromapp=1\",\"provinceId\":\"\"},{\"id\":25885,\"pubDate\":1586157078000,\"pubDateStr\":\"54分钟前\",\"title\":\"刚果（金）新增7例新冠肺炎确诊病例 累计161例\",\"summary\":\"当地时间4月6日早晨，世界卫生组织驻刚果（金）办事处在社交媒体上宣布，该国5日新增7例新冠肺炎确诊病例，全部位于首都金沙萨。截至6日早晨，该国累计确诊161例，死亡18例。\",\"infoSource\":\"央视新闻app\",\"sourceUrl\":\"http://app.cctv.com/special/cportal/detail/arti/index.html?id=ArtiDn3zuT2WW8Q5ZkRuko3D200406&isfromapp=1\",\"provinceId\":\"\"},{\"id\":25875,\"pubDate\":1586157026000,\"pubDateStr\":\"55分钟前\",\"title\":\"\\u200b沙特新增新冠肺炎确诊病例61例 累计2463例\",\"summary\":\"沙特卫生部公布的数字显示，截至当地时间6日上午9点50分，沙特境内新增新型冠状病毒肺炎确诊病例61例，确诊病例总计已达2463例，其中34名患者病重不治去世，488名患者已痊愈出院。\",\"infoSource\":\"央视新闻app\",\"sourceUrl\":\"http://app.cctv.com/special/cportal/detail/arti/index.html?id=ArtilLrlDApc9dbqomtLh8kT200406&isfromapp=1\",\"provinceId\":\"\"},{\"id\":25870,\"pubDate\":1586156861000,\"pubDateStr\":\"58分钟前\",\"title\":\"法国新增2927例新冠肺炎确诊病例 法国累计确诊93780例\",\"summary\":\"据美国约翰斯·霍普金斯大学实时统计数据显示，截至北京时间4月6日15时左右，法国新冠肺炎确诊病例增至93780例，与北京时间5日同一时间数据相比，新增2927例；死亡病例共计8093例，较前一天新增269例。\\\\n\",\"infoSource\":\"人民日报海外版\",\"sourceUrl\":\"http://m.weibo.cn/3057540037/4490729717866594\",\"provinceId\":\"\"},{\"id\":25863,\"pubDate\":1586156436000,\"pubDateStr\":\"1小时前\",\"title\":\"国务院联防联控机制举行新闻发布会\",\"summary\":\"今天，国务院联防联控机制在北京召开新闻发布会，介绍依法防控境外疫情输入最新情况，请海关总署、国家移民管理局、中国民用航空局相关司局负责人等回答媒体提问。\",\"infoSource\":\"央视新闻\",\"sourceUrl\":\"http://m.weibo.cn/2656274875/4490727935682621\",\"provinceId\":\"\"},{\"id\":25860,\"pubDate\":1586156184000,\"pubDateStr\":\"1小时前\",\"title\":\"\\u200b孟加拉国新增29例新冠肺炎确诊病例 累计117例\",\"summary\":\"当地时间4月6日，孟加拉国卫生部长确认该国新增29例新冠肺炎确诊病例，新增死亡4例。截至目前，该国共确诊117例新冠肺炎确诊病例，死亡13例。\",\"infoSource\":\"央视新闻app\",\"sourceUrl\":\"http://app.cctv.com/special/cportal/detail/arti/index.html?id=ArticSyZPKtItkR2bIa0H0Lg200406&isfromapp=1\",\"provinceId\":\"\"},{\"id\":25861,\"pubDate\":1586156165000,\"pubDateStr\":\"1小时前\",\"title\":\"吉尔吉斯斯坦新增69例新冠肺炎确诊病例 累计确诊216例\",\"summary\":\"吉尔吉斯斯坦卫生部6日通报称，截至当地时间10时，境内累计新冠肺炎确诊病例216例，较前一天增加69例。治愈16例，死亡4例。患者主要集中在奥什州和贾拉拉巴德州，两地均确诊80例。\\xa0\",\"infoSource\":\"央视新闻app\",\"sourceUrl\":\"http://app.cctv.com/special/cportal/detail/arti/index.html?id=ArtivymiLwn7ePJocboq3JLn200406&isfromapp=1\",\"provinceId\":\"\"},{\"id\":25850,\"pubDate\":1586154965000,\"pubDateStr\":\"1小时前\",\"title\":\"\\u200b阿曼新增33例新冠肺炎确诊病例 累计确诊331例\",\"summary\":\"据阿曼官方通讯社报道，当地时间4月6日，阿曼卫生部确认该国新增33例新冠肺炎确诊病例。截至目前，阿曼确诊新冠肺炎病例总数达到331例，其中已经治愈61例，死亡2例。\",\"infoSource\":\"央视新闻app\",\"sourceUrl\":\"http://app.cctv.com/special/cportal/detail/arti/index.html?id=ArtizfWU6UxXwh0hKaPN2icu200406&isfromapp=1\",\"provinceId\":\"\"},{\"id\":25843,\"pubDate\":1586153874000,\"pubDateStr\":\"1小时前\",\"title\":\"乌兹别克斯坦新冠肺炎确诊病例增至390例 超10万人处于隔离状态\",\"summary\":\"乌兹别克斯坦卫生部6日通报称，截至当日10时，国内累计新冠肺炎确诊病例达390例，治愈30例，死亡2例，超过10万人处于医学隔离和居家隔离状态。\",\"infoSource\":\"央视新闻app\",\"sourceUrl\":\"http://app.cctv.com/special/cportal/detail/arti/index.html?id=ArtiUNZ7P0qQTCg9kXxTQvWT200406&isfromapp=1\",\"provinceId\":\"\"},{\"id\":25844,\"pubDate\":1586153727000,\"pubDateStr\":\"1小时前\",\"title\":\"\\u200b德国新增新冠肺炎确诊病例3677例 累计95391例\",\"summary\":\"根据德国疾控机构罗伯特·科赫研究所截至当地时间4月6日零时的统计，德国境内共确诊新冠肺炎确诊病例95391例，较前一日新增3677例。累计死亡病例增至1434例。\",\"infoSource\":\"央视新闻app\",\"sourceUrl\":\"http://app.cctv.com/special/cportal/detail/arti/index.html?id=ArtipgbJyANxRUWJq5ad3bGC200406&isfromapp=1\",\"provinceId\":\"\"}]}catch(e){}',\n",
       " '截至北京时间 2020-04-06 07:49',\n",
       " '截至北京时间 2020-04-06 07:49',\n",
       " '5日，国家移民管理局边防检查管理司司长刘海涛表示，境外输入病例持续增加，目前已经超过950例。已排查出自疫情重点国家地区的人员，或者在有疫情严重国家地区旅行史、居留史的人员20余万人次。截至目前，海关检疫部门从中发现确诊病例391人，占海外输入病例的四成多。 人民日报的微博视频\\n',\n",
       " '据俄罗斯新冠病毒防疫官网发布的信息，截至莫斯科时间4月6日10时30分，俄罗斯境内新增954例新冠肺炎感染病例，其中莫斯科新增591例。全俄共累计确诊6343例，其中莫斯科累计确诊4484例，为全俄疫情最严重的地区。目前累计治愈病例406例，累计死亡47例。',\n",
       " '韩国卫生部门6日通报，截至当天，该国共有51名新冠肺炎确诊患者，在治愈出院并解除隔离后病毒复检呈阳性。',\n",
       " '当地时间4月6日，乌克兰卫生部发布消息称，截止到当日上午9:00，乌克兰累计确诊新冠肺炎确诊病例1319例，较前一日晚新增68例。截至目前，乌克兰共报告新冠肺炎死亡38例，治愈28例。因疫情发展，乌克兰已于3月25日宣布国家进入紧急情况，时间持续至4月24日 。3日，乌克兰总理什梅加尔宣布，从本月6日起，乌克兰将采取一系列防范新冠肺炎疫情传播的补充限制性措施，直至4月24日。（总台记者 王晓雪）\\n',\n",
       " '当地时间4月6日早晨，世界卫生组织驻刚果（金）办事处在社交媒体上宣布，该国5日新增7例新冠肺炎确诊病例，全部位于首都金沙萨。截至6日早晨，该国累计确诊161例，死亡18例。',\n",
       " '沙特卫生部公布的数字显示，截至当地时间6日上午9点50分，沙特境内新增新型冠状病毒肺炎确诊病例61例，确诊病例总计已达2463例，其中34名患者病重不治去世，488名患者已痊愈出院。',\n",
       " '据美国约翰斯·霍普金斯大学实时统计数据显示，截至北京时间4月6日15时左右，法国新冠肺炎确诊病例增至93780例，与北京时间5日同一时间数据相比，新增2927例；死亡病例共计8093例，较前一天新增269例。\\n',\n",
       " '当地时间4月6日，孟加拉国卫生部长确认该国新增29例新冠肺炎确诊病例，新增死亡4例。截至目前，该国共确诊117例新冠肺炎确诊病例，死亡13例。',\n",
       " '吉尔吉斯斯坦卫生部6日通报称，截至当地时间10时，境内累计新冠肺炎确诊病例216例，较前一天增加69例。治愈16例，死亡4例。患者主要集中在奥什州和贾拉拉巴德州，两地均确诊80例。\\xa0',\n",
       " '据阿曼官方通讯社报道，当地时间4月6日，阿曼卫生部确认该国新增33例新冠肺炎确诊病例。截至目前，阿曼确诊新冠肺炎病例总数达到331例，其中已经治愈61例，死亡2例。',\n",
       " '乌兹别克斯坦卫生部6日通报称，截至当日10时，国内累计新冠肺炎确诊病例达390例，治愈30例，死亡2例，超过10万人处于医学隔离和居家隔离状态。',\n",
       " '根据德国疾控机构罗伯特·科赫研究所截至当地时间4月6日零时的统计，德国境内共确诊新冠肺炎确诊病例95391例，较前一日新增3677例。累计死亡病例增至1434例。']"
      ]
     },
     "execution_count": 6,
     "metadata": {},
     "output_type": "execute_result"
    }
   ],
   "source": [
    "data = soup.findAll(text=re.compile(\"截至.+\"))\n",
    "data"
   ]
  },
  {
   "cell_type": "code",
   "execution_count": 7,
   "metadata": {},
   "outputs": [
    {
     "data": {
      "text/plain": [
       "'2020-04-06 07:49'"
      ]
     },
     "execution_count": 7,
     "metadata": {},
     "output_type": "execute_result"
    }
   ],
   "source": [
    "for s in data:\n",
    "    m = re.search(\"截至.*(202\\d-\\d+-\\d+ \\d+:\\d+)\", s)\n",
    "    if m is not None:\n",
    "        data_date_time = m.group(1)\n",
    "data_date_time"
   ]
  },
  {
   "cell_type": "markdown",
   "metadata": {},
   "source": [
    "### Extract data (summary)"
   ]
  },
  {
   "cell_type": "code",
   "execution_count": 8,
   "metadata": {},
   "outputs": [
    {
     "data": {
      "text/plain": [
       "['try { window.getStatisticsService = {\"id\":1,\"createTime\":1579537899000,\"modifyTime\":1586159340000,\"infectSource\":\"该字段已替换为说明2\",\"passWay\":\"该字段已替换为说明3\",\"imgUrl\":\"https://img1.dxycdn.com/2020/0201/450/3394153392393266839-135.png\",\"dailyPic\":\"https://img1.dxycdn.com/2020/0211/763/3395998884005602079-135.png,https://img1.dxycdn.com/2020/0211/362/3395998896890788910-135.png,https://img1.dxycdn.com/2020/0211/365/3395998905480724211-135.png,https://img1.dxycdn.com/2020/0211/364/3395998916217859778-135.png,https://img1.dxycdn.com/2020/0211/922/3395998929103046444-135.png,https://img1.dxycdn.com/2020/0211/089/3395998939840182072-135.png\",\"dailyPics\":[\"https://img1.dxycdn.com/2020/0211/763/3395998884005602079-135.png\",\"https://img1.dxycdn.com/2020/0211/362/3395998896890788910-135.png\",\"https://img1.dxycdn.com/2020/0211/365/3395998905480724211-135.png\",\"https://img1.dxycdn.com/2020/0211/364/3395998916217859778-135.png\",\"https://img1.dxycdn.com/2020/0211/922/3395998929103046444-135.png\",\"https://img1.dxycdn.com/2020/0211/089/3395998939840182072-135.png\"],\"summary\":\"\",\"deleted\":false,\"countRemark\":\"\",\"currentConfirmedCount\":2318,\"confirmedCount\":83015,\"suspectedCount\":951,\"curedCount\":77357,\"deadCount\":3340,\"seriousCount\":1047,\"suspectedIncr\":38,\"currentConfirmedIncr\":-63,\"confirmedIncr\":85,\"curedIncr\":147,\"deadIncr\":1,\"seriousIncr\":78,\"virus\":\"该字段已替换为说明1\",\"remark1\":\"易感人群：人群普遍易感。老年人及有基础疾病者感染后病情较重，儿童及婴幼儿也有发病\",\"remark2\":\"潜伏期：一般为 3～7 天，最长不超过 14 天，潜伏期内可能存在传染性，其中无症状病例传染性非常罕见\",\"remark3\":\"宿主：野生动物，可能为中华菊头蝠\",\"remark4\":\"\",\"remark5\":\"\",\"note1\":\"病毒：SARS-CoV-2，其导致疾病命名 COVID-19\",\"note2\":\"传染源：新冠肺炎的患者。无症状感染者也可能成为传染源。\",\"note3\":\"传播途径：经呼吸道飞沫、接触传播是主要的传播途径。气溶胶传播和消化道等传播途径尚待明确。\",\"generalRemark\":\"1. 3 月 12 日国家卫健委确诊补订遗漏 12 例确诊病例（非 12 日新增），暂无具体省份信息。 2. 浙江省 12 例外省治愈暂无具体省份信息。\",\"abroadRemark\":\"\",\"marquee\":[{\"id\":1923,\"marqueeLabel\":\"观察\",\"marqueeContent\":\"美国抗击新冠疫情中的 5 个教训\",\"marqueeLink\":\"https://dxy.me/VyCNTO\"},{\"id\":1924,\"marqueeLabel\":\"突发\",\"marqueeContent\":\"英国首相鲍里斯持续发热开始住院\",\"marqueeLink\":\"https://dxy.me/ygEfC0\"},{\"id\":1925,\"marqueeLabel\":\"数字新冠\",\"marqueeContent\":\"4 月 5 日，世界因新冠而变\",\"marqueeLink\":\"https://dxy.me/RdBVPg\"}],\"quanguoTrendChart\":[{\"imgUrl\":\"https://img1.dxycdn.com/2020/0324/278/3403801351376518263-135.png\",\"title\":\"新增疑似/新增确诊\"},{\"imgUrl\":\"https://img1.dxycdn.com/2020/0324/812/3403847865872006755-135.png\",\"title\":\"境外输入\"},{\"imgUrl\":\"https://img1.dxycdn.com/2020/0324/547/3403847848692336947-135.png\",\"title\":\"现存确诊\"},{\"imgUrl\":\"https://img1.dxycdn.com/2020/0324/775/3403801407211095604-135.png\",\"title\":\"治愈\"},{\"imgUrl\":\"https://img1.dxycdn.com/2020/0324/250/3403801424390727199-135.png\",\"title\":\"死亡\"}],\"hbFeiHbTrendChart\":[{\"imgUrl\":\"https://img1.dxycdn.com/2020/0326/624/3404177508906904585-135.png\",\"title\":\"非湖北新增确诊\"},{\"imgUrl\":\"https://img1.dxycdn.com/2020/0326/777/3404177532529485065-135.png\",\"title\":\"湖北新增确诊\"},{\"imgUrl\":\"https://img1.dxycdn.com/2020/0326/376/3404177556151805921-135.png\",\"title\":\"湖北现存确诊\"},{\"imgUrl\":\"https://img1.dxycdn.com/2020/0326/527/3404177575478899995-135.png\",\"title\":\"非湖北现存确诊\"},{\"imgUrl\":\"https://img1.dxycdn.com/2020/0326/419/3404177596953996726-135.png\",\"title\":\"治愈/死亡\"}],\"foreignTrendChart\":[{\"imgUrl\":\"https://img1.dxycdn.com/2020/0320/702/3403079914982117944-135.png\",\"title\":\"国外新增确诊\"},{\"imgUrl\":\"https://img1.dxycdn.com/2020/0320/396/3403079925719536561-135.png\",\"title\":\"国外累计确诊\"},{\"imgUrl\":\"https://img1.dxycdn.com/2020/0320/139/3403079936457225524-135.png\",\"title\":\"国外死亡\"}],\"importantForeignTrendChart\":[{\"imgUrl\":\"https://img1.dxycdn.com/2020/0320/450/3403077453965772423-135.png\",\"title\":\"重点国家新增确诊\"},{\"imgUrl\":\"https://img1.dxycdn.com/2020/0320/276/3403077462555980566-135.png\",\"title\":\"日本新增确诊\"},{\"imgUrl\":\"https://img1.dxycdn.com/2020/0320/340/3403077473293125942-135.png\",\"title\":\"意大利新增确诊\"},{\"imgUrl\":\"https://img1.dxycdn.com/2020/0320/723/3403077481883334043-135.png\",\"title\":\"伊朗新增确诊\"},{\"imgUrl\":\"https://img1.dxycdn.com/2020/0320/266/3403077492620752785-135.png\",\"title\":\"美国新增确诊\"},{\"imgUrl\":\"https://img1.dxycdn.com/2020/0320/870/3403077503358171278-135.png\",\"title\":\"法国新增确诊\"},{\"imgUrl\":\"https://img1.dxycdn.com/2020/0320/053/3403077511947832997-135.png\",\"title\":\"德国新增确诊\"},{\"imgUrl\":\"https://img1.dxycdn.com/2020/0320/878/3403077520537768006-135.png\",\"title\":\"西班牙新增确诊\"},{\"imgUrl\":\"https://img1.dxycdn.com/2020/0320/443/3403077531275186665-135.png\",\"title\":\"韩国新增确诊\"}],\"foreignTrendChartGlobal\":[{\"imgUrl\":\"https://img1.dxycdn.com/2020/0319/740/3402859458605738923-135.png\",\"title\":\"Daily New Cases\"},{\"imgUrl\":\"https://img1.dxycdn.com/2020/0319/351/3402856772103846114-135.png\",\"title\":\"Total Confirmed Cases\"},{\"imgUrl\":\"https://img1.dxycdn.com/2020/0319/236/3402856782841001789-135.png\",\"title\":\"Total Deaths Cases\"}],\"importantForeignTrendChartGlobal\":[{\"imgUrl\":\"https://img1.dxycdn.com/2020/0319/122/3402856838675578578-135.png\",\"title\":\"Daily New Cases\"},{\"imgUrl\":\"https://img1.dxycdn.com/2020/0319/685/3402856849412997239-135.png\",\"title\":\"Japan\"},{\"imgUrl\":\"https://img1.dxycdn.com/2020/0319/477/3402856860150678804-135.png\",\"title\":\"Italy\"},{\"imgUrl\":\"https://img1.dxycdn.com/2020/0319/454/3402856873035581014-135.png\",\"title\":\"Iran\"},{\"imgUrl\":\"https://img1.dxycdn.com/2020/0319/022/3402856883772999714-135.png\",\"title\":\"U.S.A.\"},{\"imgUrl\":\"https://img1.dxycdn.com/2020/0319/529/3402856894510155506-135.png\",\"title\":\"France\"},{\"imgUrl\":\"https://img1.dxycdn.com/2020/0319/211/3402856905247574064-135.png\",\"title\":\"Germany\"},{\"imgUrl\":\"https://img1.dxycdn.com/2020/0319/054/3402856913837508985-135.png\",\"title\":\"Spain\"},{\"imgUrl\":\"https://img1.dxycdn.com/2020/0319/088/3402856928870157852-135.png\",\"title\":\"Republic of Korea\"}],\"foreignStatistics\":{\"currentConfirmedCount\":935124,\"confirmedCount\":1164502,\"suspectedCount\":4,\"curedCount\":162713,\"deadCount\":66665,\"suspectedIncr\":0,\"currentConfirmedIncr\":6374,\"confirmedIncr\":9411,\"curedIncr\":1622,\"deadIncr\":1415},\"globalStatistics\":{\"currentConfirmedCount\":937442,\"confirmedCount\":1247517,\"curedCount\":240070,\"deadCount\":70005,\"currentConfirmedIncr\":6311,\"confirmedIncr\":9496,\"curedIncr\":1769,\"deadIncr\":1416},\"globalOtherTrendChartData\":\"https://file1.dxycdn.com/2020/0406/343/3406206350525868957-135.json\"}}catch(e){}']"
      ]
     },
     "execution_count": 8,
     "metadata": {},
     "output_type": "execute_result"
    }
   ],
   "source": [
    "data = soup.findAll(text=re.compile('\\\"summary.+\\\"confirmedCount\\\":\\d'))\n",
    "\n",
    "data\n"
   ]
  },
  {
   "cell_type": "code",
   "execution_count": 9,
   "metadata": {},
   "outputs": [],
   "source": [
    "m = re.search('\\\"confirmedCount\\\":(\\d+)', data[0])\n",
    "summary_confirmed_count = int(m.group(1))\n",
    "\n",
    "\n",
    "m = re.search('\\\"curedCount\\\":(\\d+)', data[0])\n",
    "summary_cured_count = int(m.group(1))\n",
    "\n",
    "m = re.search('\\\"deadCount\\\":(\\d+)', data[0])\n",
    "summary_dead_count = int(m.group(1))\n"
   ]
  },
  {
   "cell_type": "code",
   "execution_count": 10,
   "metadata": {},
   "outputs": [
    {
     "data": {
      "text/html": [
       "<div>\n",
       "<style scoped>\n",
       "    .dataframe tbody tr th:only-of-type {\n",
       "        vertical-align: middle;\n",
       "    }\n",
       "\n",
       "    .dataframe tbody tr th {\n",
       "        vertical-align: top;\n",
       "    }\n",
       "\n",
       "    .dataframe thead th {\n",
       "        text-align: right;\n",
       "    }\n",
       "</style>\n",
       "<table border=\"1\" class=\"dataframe\">\n",
       "  <thead>\n",
       "    <tr style=\"text-align: right;\">\n",
       "      <th></th>\n",
       "      <th>datetime</th>\n",
       "      <th>confirmed</th>\n",
       "      <th>cured</th>\n",
       "      <th>dead</th>\n",
       "    </tr>\n",
       "  </thead>\n",
       "  <tbody>\n",
       "    <tr>\n",
       "      <th>0</th>\n",
       "      <td>2020-04-06 07:49</td>\n",
       "      <td>83015</td>\n",
       "      <td>77357</td>\n",
       "      <td>3340</td>\n",
       "    </tr>\n",
       "  </tbody>\n",
       "</table>\n",
       "</div>"
      ],
      "text/plain": [
       "           datetime  confirmed  cured  dead\n",
       "0  2020-04-06 07:49      83015  77357  3340"
      ]
     },
     "execution_count": 10,
     "metadata": {},
     "output_type": "execute_result"
    }
   ],
   "source": [
    "# make a dataframe\n",
    "df = pd.DataFrame({\n",
    "    'datetime': data_date_time,\n",
    "    'confirmed': summary_confirmed_count,\n",
    "    'cured': summary_cured_count,\n",
    "    'dead': summary_dead_count\n",
    "}, index=[0])\n",
    "df"
   ]
  },
  {
   "cell_type": "markdown",
   "metadata": {},
   "source": [
    "### Save to file"
   ]
  },
  {
   "cell_type": "code",
   "execution_count": 11,
   "metadata": {},
   "outputs": [],
   "source": [
    "from pathlib import Path\n",
    "csv_file = '../data/china-summary-cases.csv'\n",
    "\n",
    "if Path(csv_file).exists():\n",
    "    # read out the old data - then merge with new data and remove duplicates based on datetime\n",
    "    old_df = pd.read_csv(csv_file)\n",
    "    df = df.append(old_df)\n",
    "df.drop_duplicates(subset=['datetime'], inplace=True)"
   ]
  },
  {
   "cell_type": "code",
   "execution_count": 12,
   "metadata": {},
   "outputs": [],
   "source": [
    "df.sort_values(by=['datetime'], inplace=True)\n",
    "\n",
    "df.to_csv(csv_file, index=False)\n"
   ]
  },
  {
   "cell_type": "markdown",
   "metadata": {},
   "source": [
    "### Plot graph"
   ]
  },
  {
   "cell_type": "code",
   "execution_count": 13,
   "metadata": {},
   "outputs": [],
   "source": [
    "import seaborn as sns\n",
    "import matplotlib.pyplot as plt\n",
    "from pandas.plotting import register_matplotlib_converters\n",
    "register_matplotlib_converters()\n",
    "\n",
    "png_file = '../images/china-summary-cases.png'\n",
    "# convert to pd.datetime\n",
    "df['datetime_idx'] = pd.to_datetime(df['datetime'], format=\"%Y-%m-%d %H:%M\")\n",
    "\n",
    "df.set_index('datetime_idx', inplace=True)\n",
    "df.drop(['datetime'], axis=1, inplace=True)\n"
   ]
  },
  {
   "cell_type": "code",
   "execution_count": 14,
   "metadata": {},
   "outputs": [
    {
     "data": {
      "text/html": [
       "<div>\n",
       "<style scoped>\n",
       "    .dataframe tbody tr th:only-of-type {\n",
       "        vertical-align: middle;\n",
       "    }\n",
       "\n",
       "    .dataframe tbody tr th {\n",
       "        vertical-align: top;\n",
       "    }\n",
       "\n",
       "    .dataframe thead th {\n",
       "        text-align: right;\n",
       "    }\n",
       "</style>\n",
       "<table border=\"1\" class=\"dataframe\">\n",
       "  <thead>\n",
       "    <tr style=\"text-align: right;\">\n",
       "      <th></th>\n",
       "      <th>confirmed</th>\n",
       "      <th>cured</th>\n",
       "      <th>dead</th>\n",
       "    </tr>\n",
       "    <tr>\n",
       "      <th>datetime_idx</th>\n",
       "      <th></th>\n",
       "      <th></th>\n",
       "      <th></th>\n",
       "    </tr>\n",
       "  </thead>\n",
       "  <tbody>\n",
       "    <tr>\n",
       "      <th>2020-02-02 10:22:00</th>\n",
       "      <td>14483</td>\n",
       "      <td>379</td>\n",
       "      <td>304</td>\n",
       "    </tr>\n",
       "    <tr>\n",
       "      <th>2020-02-02 10:28:00</th>\n",
       "      <td>14483</td>\n",
       "      <td>380</td>\n",
       "      <td>304</td>\n",
       "    </tr>\n",
       "    <tr>\n",
       "      <th>2020-02-02 11:19:00</th>\n",
       "      <td>14489</td>\n",
       "      <td>385</td>\n",
       "      <td>304</td>\n",
       "    </tr>\n",
       "    <tr>\n",
       "      <th>2020-02-02 11:54:00</th>\n",
       "      <td>14489</td>\n",
       "      <td>397</td>\n",
       "      <td>304</td>\n",
       "    </tr>\n",
       "    <tr>\n",
       "      <th>2020-02-02 15:01:00</th>\n",
       "      <td>14490</td>\n",
       "      <td>430</td>\n",
       "      <td>304</td>\n",
       "    </tr>\n",
       "    <tr>\n",
       "      <th>...</th>\n",
       "      <td>...</td>\n",
       "      <td>...</td>\n",
       "      <td>...</td>\n",
       "    </tr>\n",
       "    <tr>\n",
       "      <th>2020-04-06 02:56:00</th>\n",
       "      <td>83005</td>\n",
       "      <td>77348</td>\n",
       "      <td>3340</td>\n",
       "    </tr>\n",
       "    <tr>\n",
       "      <th>2020-04-06 04:55:00</th>\n",
       "      <td>83005</td>\n",
       "      <td>77348</td>\n",
       "      <td>3340</td>\n",
       "    </tr>\n",
       "    <tr>\n",
       "      <th>2020-04-06 05:50:00</th>\n",
       "      <td>83005</td>\n",
       "      <td>77354</td>\n",
       "      <td>3340</td>\n",
       "    </tr>\n",
       "    <tr>\n",
       "      <th>2020-04-06 06:59:00</th>\n",
       "      <td>83015</td>\n",
       "      <td>77357</td>\n",
       "      <td>3340</td>\n",
       "    </tr>\n",
       "    <tr>\n",
       "      <th>2020-04-06 07:49:00</th>\n",
       "      <td>83015</td>\n",
       "      <td>77357</td>\n",
       "      <td>3340</td>\n",
       "    </tr>\n",
       "  </tbody>\n",
       "</table>\n",
       "<p>987 rows × 3 columns</p>\n",
       "</div>"
      ],
      "text/plain": [
       "                     confirmed  cured  dead\n",
       "datetime_idx                               \n",
       "2020-02-02 10:22:00      14483    379   304\n",
       "2020-02-02 10:28:00      14483    380   304\n",
       "2020-02-02 11:19:00      14489    385   304\n",
       "2020-02-02 11:54:00      14489    397   304\n",
       "2020-02-02 15:01:00      14490    430   304\n",
       "...                        ...    ...   ...\n",
       "2020-04-06 02:56:00      83005  77348  3340\n",
       "2020-04-06 04:55:00      83005  77348  3340\n",
       "2020-04-06 05:50:00      83005  77354  3340\n",
       "2020-04-06 06:59:00      83015  77357  3340\n",
       "2020-04-06 07:49:00      83015  77357  3340\n",
       "\n",
       "[987 rows x 3 columns]"
      ]
     },
     "execution_count": 14,
     "metadata": {},
     "output_type": "execute_result"
    }
   ],
   "source": [
    "df"
   ]
  },
  {
   "cell_type": "code",
   "execution_count": 15,
   "metadata": {
    "scrolled": true
   },
   "outputs": [
    {
     "data": {
      "image/png": "[encoded data removed]",
      "text/plain": [
       "<Figure size 1008x1008 with 3 Axes>"
      ]
     },
     "metadata": {},
     "output_type": "display_data"
    }
   ],
   "source": [
    "if df.shape[0]>1:\n",
    "    # line chart when having at least a few points\n",
    "    sns.set(rc={'figure.figsize':(14,14)})\n",
    "    sns.set(style=\"whitegrid\")\n",
    "\n",
    "    fig, axs = plt.subplots(nrows=3)\n",
    "\n",
    "    sns.lineplot(x=df.index, y = 'confirmed', data=df, ax= axs[0], estimator=None, color='orange')\n",
    "    sns.lineplot(x=df.index, y = 'cured', data=df, ax= axs[1], estimator=None, color='green')\n",
    "    sns.lineplot(x=df.index, y = 'dead', data=df, ax= axs[2], estimator=None, color='darkred')\n",
    "\n",
    "    for ax in axs:\n",
    "        ax.set_xlabel('')\n",
    "        ax.tick_params(axis='x', labelrotation=30)\n",
    "else:\n",
    "\n",
    "    ax = df.plot(kind='bar', stacked=True, figsize=(9,6))\n",
    "    fig = ax.get_figure()\n",
    "    ax.set_xlabel('')\n",
    "    for label in ax.get_xticklabels():\n",
    "        label.set_rotation(0) \n"
   ]
  },
  {
   "cell_type": "code",
   "execution_count": 16,
   "metadata": {},
   "outputs": [],
   "source": [
    "fig.savefig(png_file)"
   ]
  },
  {
   "cell_type": "code",
   "execution_count": null,
   "metadata": {},
   "outputs": [],
   "source": []
  },
  {
   "cell_type": "code",
   "execution_count": null,
   "metadata": {},
   "outputs": [],
   "source": []
  }
 ],
 "metadata": {
  "kernelspec": {
   "display_name": "Python 3",
   "language": "python",
   "name": "python3"
  },
  "language_info": {
   "codemirror_mode": {
    "name": "ipython",
    "version": 3
   },
   "file_extension": ".py",
   "mimetype": "text/x-python",
   "name": "python",
   "nbconvert_exporter": "python",
   "pygments_lexer": "ipython3",
   "version": "3.7.6"
  }
 },
 "nbformat": 4,
 "nbformat_minor": 2
}
