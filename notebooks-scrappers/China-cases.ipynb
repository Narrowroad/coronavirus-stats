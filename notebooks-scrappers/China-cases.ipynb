{
 "cells": [
  {
   "cell_type": "code",
   "execution_count": 1,
   "metadata": {},
   "outputs": [],
   "source": [
    "import pandas as pd\n",
    "import requests\n",
    "from bs4 import BeautifulSoup\n",
    "import re\n",
    "from datetime import datetime\n",
    "from selenium import webdriver\n",
    "from selenium.webdriver.chrome.options import Options  \n"
   ]
  },
  {
   "cell_type": "code",
   "execution_count": 2,
   "metadata": {},
   "outputs": [
    {
     "data": {
      "text/plain": [
       "datetime.datetime(2020, 4, 4, 9, 10, 49, 113542)"
      ]
     },
     "execution_count": 2,
     "metadata": {},
     "output_type": "execute_result"
    }
   ],
   "source": [
    "datetime.now()"
   ]
  },
  {
   "cell_type": "code",
   "execution_count": 3,
   "metadata": {},
   "outputs": [],
   "source": [
    "chrome_options = Options()  \n",
    "chrome_options.add_argument(\"--headless\")  \n",
    "chrome_options.add_argument(\"--no-sandbox\")\n",
    "\n",
    "driver = webdriver.Chrome('chromedriver', options=chrome_options)"
   ]
  },
  {
   "cell_type": "code",
   "execution_count": 4,
   "metadata": {},
   "outputs": [],
   "source": [
    "url = 'https://ncov.dxy.cn/ncovh5/view/pneumonia'\n",
    "driver.get(url)"
   ]
  },
  {
   "cell_type": "markdown",
   "metadata": {},
   "source": [
    "### Extract date"
   ]
  },
  {
   "cell_type": "code",
   "execution_count": 5,
   "metadata": {},
   "outputs": [],
   "source": [
    "content = driver.page_source\n",
    "soup =BeautifulSoup(content, 'lxml')\n"
   ]
  },
  {
   "cell_type": "code",
   "execution_count": 6,
   "metadata": {},
   "outputs": [
    {
     "data": {
      "text/plain": [
       "['try { window.getTimelineService1 = [{\"id\":24771,\"pubDate\":1585988967000,\"pubDateStr\":\"7分钟前\",\"title\":\"俄罗斯新增582例新冠肺炎确诊病例 累计确诊4731例\",\"summary\":\"据俄罗斯新冠病毒防疫官网发布的信息，截至莫斯科时间4月4日11时15分，俄罗斯境内新增582例新冠肺炎感染病例，其中莫斯科新增434例。全俄共累计确诊4731例，莫斯科累计确诊3357例。累计治愈病例333人，累计死亡43例。另据俄联邦消费者权益保护和公益监督局消息，全俄目前已进行了近64万次病毒核酸检测，全境有20余万人在进行医学隔离观察。\",\"infoSource\":\"央视新闻app\",\"sourceUrl\":\"http://app.cctv.com/special/cportal/detail/arti/index.html?id=Arti43qGfge99zGkX4ZttFzR200404&isfromapp=1\",\"provinceId\":\"\"},{\"id\":24763,\"pubDate\":1585988134000,\"pubDateStr\":\"21分钟前\",\"title\":\"菲律宾新增76例新冠肺炎确诊病例  累计3094例\",\"summary\":\"4月4日下午，菲律宾卫生部发布公告称，截至4日下午4点，菲律宾当天共计新增76例新冠肺炎确诊病例，确诊病例累计3094例。此外，新增死亡病例8例，累计144例。 同时，累计治愈人数为57人。（总台记者 陶家乐）\",\"infoSource\":\"央视新闻app\",\"sourceUrl\":\"http://app.cctv.com/special/cportal/detail/arti/index.html?id=ArtiVwWnSwatE2nG4mZcyCGb200404&isfromapp=1\",\"provinceId\":\"\"},{\"id\":24766,\"pubDate\":1585988055000,\"pubDateStr\":\"22分钟前\",\"title\":\"格鲁吉亚新冠肺炎累计确诊病例达156例\",\"summary\":\"当地时间4月4日上午，格鲁吉亚政府疫情监测平台公布消息，格鲁吉亚境内累计确诊新冠肺炎病例156例，其中治愈28例。目前，共有5526人接受隔离，344人处于医学观察。因疫情发展，格政府已宣布国家紧急状态持续至4月21日。（总台记者 宋一平）\",\"infoSource\":\"央视新闻app\",\"sourceUrl\":\"http://app.cctv.com/special/cportal/detail/arti/index.html?id=Arti22wcHKEhgSZdt8l7RSiM200404&isfromapp=1\",\"provinceId\":\"\"},{\"id\":24754,\"pubDate\":1585988004000,\"pubDateStr\":\"23分钟前\",\"title\":\"上海有8例确诊病例今日出院，共计356例治愈出院\",\"summary\":\"市卫生健康委今日（4日）通报：8例新型冠状病毒肺炎病例，经定点医疗机构医护人员精心诊治和护理，专家组评估，认为符合国家卫生健康委最新的新型冠状病毒肺炎确诊病例解除隔离和出院标准，于今日出院。\",\"infoSource\":\"上海卫健委\",\"sourceUrl\":\"http://wsjkw.sh.gov.cn/xwfb/20200404/f59467b9826c424fad63fe9c2fff1c9e.html\",\"provinceId\":\"\"},{\"id\":24746,\"pubDate\":1585987593000,\"pubDateStr\":\"30分钟前\",\"title\":\"以色列新冠肺炎确诊病例新增161例 累计7589例\",\"summary\":\"当地时间4月4日上午，以色列卫生部公布的最新疫情通报显示，在过去的12个小时（3日晚22时—4日早10时），该国新冠肺炎确诊病例增加了161例，累计7589例；新增死亡2例，死亡累计42例；115人病情危重，其中98人使用呼吸机；427人康复；目前有2874名医护人员被隔离。卫生部干事长西曼·托夫表示，预计以色列最终将有“数千人死亡”，而另一名卫生部官员表示，5000人将会使用呼吸机。\",\"infoSource\":\"央视新闻app\",\"sourceUrl\":\"http://app.cctv.com/special/cportal/detail/arti/index.html?id=ArtimWSFgLYcj5XAqt0vhcQp200404&isfromapp=1\",\"provinceId\":\"\"},{\"id\":24730,\"pubDate\":1585985466000,\"pubDateStr\":\"1小时前\",\"title\":\"澳大利亚新增198例新冠肺炎确诊病例 累计确诊5548例\",\"summary\":\"截至当地时间4月4日下午3时，澳大利亚在过去24小时内，新增新冠肺炎确诊病例198例，全国累计确诊5548例，死亡30例。4日新增死亡病例2例，分别为维多利亚州一名70多岁女性与堪培拉一名80多岁男性。（总台记者 费菲）\",\"infoSource\":\"央视新闻app\",\"sourceUrl\":\"http://app.cctv.com/special/cportal/detail/arti/index.html?id=ArtiSH6j8MnR9Suq1FBBqoRf200404&isfromapp=1\",\"provinceId\":\"\"},{\"id\":24731,\"pubDate\":1585985438000,\"pubDateStr\":\"1小时前\",\"title\":\"日本东京都首次单日新冠肺炎确诊病例超过百人\",\"summary\":\"据NHK从东京都政府消息人士处获悉，4月4日东京都确诊新冠肺炎感染者超过110人，是疫情发生以来首次单日确诊超过百人。东京都政府强烈呼吁这个周末民众不要进行不必要的外出。（总台记者 王梦）\",\"infoSource\":\"央视新闻app\",\"sourceUrl\":\"http://app.cctv.com/special/cportal/detail/arti/index.html?id=ArtiZWKraZGpz8C7LNzKntWI200404&isfromapp=1\",\"provinceId\":\"\"},{\"id\":24725,\"pubDate\":1585985075000,\"pubDateStr\":\"1小时前\",\"title\":\"意大利因新冠肺炎去世医生达77人 医护感染累计11252人\",\"summary\":\"据意大利外科和牙科医生联合会统计，截至当地时间4日上午，该国因感染新冠肺炎去世的医生达77人。已有11252名医护人员感染新冠肺炎，占总确诊病例的10%。\",\"infoSource\":\"央视新闻app\",\"sourceUrl\":\"http://app.cctv.com/special/cportal/detail/arti/index.html?id=Arti2bZyQF0QB1ATHY8FqriE200404&isfromapp=1\",\"provinceId\":\"\"},{\"id\":24729,\"pubDate\":1585984920000,\"pubDateStr\":\"1小时前\",\"title\":\"乌克兰新增新冠肺炎确诊病例24例 累计1096例\",\"summary\":\"当地时间4月4日，乌克兰卫生部发布消息称，截止到当日上午10时，乌克兰新冠肺炎确诊病例累计1096例，较前一日晚新增24例，单日内新增154例。截至目前，乌克兰共报告新冠肺炎死亡28例，治愈23例。因疫情发展，乌克兰已于3月25日宣布国家进入紧急情况，时间持续至4月24日 。3日，乌克兰总理什梅加尔宣布，从本月6日起，乌克兰将采取一系列防范新冠肺炎疫情传播的补充限制性措施，直至4月24日。\",\"infoSource\":\"央视新闻app\",\"sourceUrl\":\"http://app.cctv.com/special/cportal/detail/arti/index.html?id=Artith5PTiHW2WextbGQr5Gm200404&isfromapp=1\",\"provinceId\":\"\"},{\"id\":24724,\"pubDate\":1585984830000,\"pubDateStr\":\"1小时前\",\"title\":\"法国新冠肺炎确诊病例列全球第五\",\"summary\":\"据美国约翰斯·霍普金斯大学实时统计数据显示，截至北京时间4日15时左右，法国新冠肺炎确诊病例增至83029例，位列全球第五，死亡病例6520例。路透社早前报道称，法国卫生部3日曾在报告中称，确诊数字出现跳跃性增长是因为纳入了此前没有计算在内的疗养院数据。\",\"infoSource\":\"人民日报海外版\",\"sourceUrl\":\"http://m.weibo.cn/3057540037/4490008167579130\",\"provinceId\":\"\"},{\"id\":24721,\"pubDate\":1585984300000,\"pubDateStr\":\"1小时前\",\"title\":\"武汉公布3日新增1例本土病例情况：多次前往小区门口取快递 回家后未消毒\",\"summary\":\"2020年4月3日0时—24时，全市新增确诊病例1例。新增出院病例150例，新增死亡病例4例。确诊病例为无症状感染者转确诊。\",\"infoSource\":\"央视新闻app\",\"sourceUrl\":\"http://app.cctv.com/special/cportal/detail/arti/index.html?id=Artiw18azKpJ4xvF5yQz3NOk200404&isfromapp=1\",\"provinceId\":\"\"},{\"id\":24718,\"pubDate\":1585984136000,\"pubDateStr\":\"1小时前\",\"title\":\"中国驻阿联酋大使馆、驻迪拜总领馆下半旗 深切悼念新冠肺炎疫情牺牲烈士和逝世同胞\",\"summary\":\"当地时间4月4日，中国驻阿联酋大使馆、驻迪拜总领馆下半旗，向抗击新冠肺炎疫情斗争牺牲的烈士和逝世同胞表示深切哀悼。\",\"infoSource\":\"央视新闻app\",\"sourceUrl\":\"http://app.cctv.com/special/cportal/detail/arti/index.html?id=ArtiBJNxBHpf8Ww4wGv2IflU200404&isfromapp=1\",\"provinceId\":\"\"}]}catch(e){}',\n",
       " '截至北京时间 2020-04-04 08:36',\n",
       " '截至北京时间 2020-04-04 08:36',\n",
       " '据俄罗斯新冠病毒防疫官网发布的信息，截至莫斯科时间4月4日11时15分，俄罗斯境内新增582例新冠肺炎感染病例，其中莫斯科新增434例。全俄共累计确诊4731例，莫斯科累计确诊3357例。累计治愈病例333人，累计死亡43例。另据俄联邦消费者权益保护和公益监督局消息，全俄目前已进行了近64万次病毒核酸检测，全境有20余万人在进行医学隔离观察。',\n",
       " '4月4日下午，菲律宾卫生部发布公告称，截至4日下午4点，菲律宾当天共计新增76例新冠肺炎确诊病例，确诊病例累计3094例。此外，新增死亡病例8例，累计144例。 同时，累计治愈人数为57人。（总台记者 陶家乐）',\n",
       " '截至当地时间4月4日下午3时，澳大利亚在过去24小时内，新增新冠肺炎确诊病例198例，全国累计确诊5548例，死亡30例。4日新增死亡病例2例，分别为维多利亚州一名70多岁女性与堪培拉一名80多岁男性。（总台记者 费菲）',\n",
       " '据意大利外科和牙科医生联合会统计，截至当地时间4日上午，该国因感染新冠肺炎去世的医生达77人。已有11252名医护人员感染新冠肺炎，占总确诊病例的10%。',\n",
       " '当地时间4月4日，乌克兰卫生部发布消息称，截止到当日上午10时，乌克兰新冠肺炎确诊病例累计1096例，较前一日晚新增24例，单日内新增154例。截至目前，乌克兰共报告新冠肺炎死亡28例，治愈23例。因疫情发展，乌克兰已于3月25日宣布国家进入紧急情况，时间持续至4月24日 。3日，乌克兰总理什梅加尔宣布，从本月6日起，乌克兰将采取一系列防范新冠肺炎疫情传播的补充限制性措施，直至4月24日。',\n",
       " '据美国约翰斯·霍普金斯大学实时统计数据显示，截至北京时间4日15时左右，法国新冠肺炎确诊病例增至83029例，位列全球第五，死亡病例6520例。路透社早前报道称，法国卫生部3日曾在报告中称，确诊数字出现跳跃性增长是因为纳入了此前没有计算在内的疗养院数据。']"
      ]
     },
     "execution_count": 6,
     "metadata": {},
     "output_type": "execute_result"
    }
   ],
   "source": [
    "data = soup.findAll(text=re.compile(\"截至.+\"))\n",
    "data"
   ]
  },
  {
   "cell_type": "code",
   "execution_count": 7,
   "metadata": {},
   "outputs": [
    {
     "data": {
      "text/plain": [
       "'2020-04-04 08:36'"
      ]
     },
     "execution_count": 7,
     "metadata": {},
     "output_type": "execute_result"
    }
   ],
   "source": [
    "for s in data:\n",
    "    m = re.search(\"截至.*(202\\d-\\d+-\\d+ \\d+:\\d+)\", s)\n",
    "    if m is not None:\n",
    "        data_date_time = m.group(1)\n",
    "data_date_time"
   ]
  },
  {
   "cell_type": "markdown",
   "metadata": {},
   "source": [
    "### Extract data (summary)"
   ]
  },
  {
   "cell_type": "code",
   "execution_count": 8,
   "metadata": {},
   "outputs": [
    {
     "data": {
      "text/plain": [
       "['try { window.getStatisticsService = {\"id\":1,\"createTime\":1579537899000,\"modifyTime\":1585989410000,\"infectSource\":\"该字段已替换为说明2\",\"passWay\":\"该字段已替换为说明3\",\"imgUrl\":\"https://img1.dxycdn.com/2020/0201/450/3394153392393266839-135.png\",\"dailyPic\":\"https://img1.dxycdn.com/2020/0211/763/3395998884005602079-135.png,https://img1.dxycdn.com/2020/0211/362/3395998896890788910-135.png,https://img1.dxycdn.com/2020/0211/365/3395998905480724211-135.png,https://img1.dxycdn.com/2020/0211/364/3395998916217859778-135.png,https://img1.dxycdn.com/2020/0211/922/3395998929103046444-135.png,https://img1.dxycdn.com/2020/0211/089/3395998939840182072-135.png\",\"dailyPics\":[\"https://img1.dxycdn.com/2020/0211/763/3395998884005602079-135.png\",\"https://img1.dxycdn.com/2020/0211/362/3395998896890788910-135.png\",\"https://img1.dxycdn.com/2020/0211/365/3395998905480724211-135.png\",\"https://img1.dxycdn.com/2020/0211/364/3395998916217859778-135.png\",\"https://img1.dxycdn.com/2020/0211/922/3395998929103046444-135.png\",\"https://img1.dxycdn.com/2020/0211/089/3395998939840182072-135.png\"],\"summary\":\"\",\"deleted\":false,\"countRemark\":\"\",\"currentConfirmedCount\":2548,\"confirmedCount\":82875,\"suspectedCount\":888,\"curedCount\":76992,\"deadCount\":3335,\"seriousCount\":1030,\"suspectedIncr\":18,\"currentConfirmedIncr\":-103,\"confirmedIncr\":120,\"curedIncr\":219,\"deadIncr\":4,\"seriousIncr\":3,\"virus\":\"该字段已替换为说明1\",\"remark1\":\"易感人群：人群普遍易感。老年人及有基础疾病者感染后病情较重，儿童及婴幼儿也有发病\",\"remark2\":\"潜伏期：一般为 3～7 天，最长不超过 14 天，潜伏期内可能存在传染性，其中无症状病例传染性非常罕见\",\"remark3\":\"宿主：野生动物，可能为中华菊头蝠\",\"remark4\":\"\",\"remark5\":\"\",\"note1\":\"病毒：SARS-CoV-2，其导致疾病命名 COVID-19\",\"note2\":\"传染源：新冠肺炎的患者。无症状感染者也可能成为传染源。\",\"note3\":\"传播途径：经呼吸道飞沫、接触传播是主要的传播途径。气溶胶传播和消化道等传播途径尚待明确。\",\"generalRemark\":\"1. 3 月 12 日国家卫健委确诊补订遗漏 12 例确诊病例（非 12 日新增），暂无具体省份信息。 2. 浙江省 12 例外省治愈暂无具体省份信息。\",\"abroadRemark\":\"\",\"marquee\":[{\"id\":1890,\"marqueeLabel\":\"默哀\",\"marqueeContent\":\"清明节全国共悼逝者\",\"marqueeLink\":\"https://dxy.me/GrrM4O\"},{\"id\":1891,\"marqueeLabel\":\"里程悲\",\"marqueeContent\":\"全球新冠病毒感染者超过百万\",\"marqueeLink\":\"https://dxy.me/EBzM7G\"},{\"id\":1892,\"marqueeLabel\":\"数字新冠\",\"marqueeContent\":\"4 月 3 日，世界因新冠而变\",\"marqueeLink\":\"https://dxy.me/1REDia\"}],\"quanguoTrendChart\":[{\"imgUrl\":\"https://img1.dxycdn.com/2020/0324/278/3403801351376518263-135.png\",\"title\":\"新增疑似/新增确诊\"},{\"imgUrl\":\"https://img1.dxycdn.com/2020/0324/812/3403847865872006755-135.png\",\"title\":\"境外输入\"},{\"imgUrl\":\"https://img1.dxycdn.com/2020/0324/547/3403847848692336947-135.png\",\"title\":\"现存确诊\"},{\"imgUrl\":\"https://img1.dxycdn.com/2020/0324/775/3403801407211095604-135.png\",\"title\":\"治愈\"},{\"imgUrl\":\"https://img1.dxycdn.com/2020/0324/250/3403801424390727199-135.png\",\"title\":\"死亡\"}],\"hbFeiHbTrendChart\":[{\"imgUrl\":\"https://img1.dxycdn.com/2020/0326/624/3404177508906904585-135.png\",\"title\":\"非湖北新增确诊\"},{\"imgUrl\":\"https://img1.dxycdn.com/2020/0326/777/3404177532529485065-135.png\",\"title\":\"湖北新增确诊\"},{\"imgUrl\":\"https://img1.dxycdn.com/2020/0326/376/3404177556151805921-135.png\",\"title\":\"湖北现存确诊\"},{\"imgUrl\":\"https://img1.dxycdn.com/2020/0326/527/3404177575478899995-135.png\",\"title\":\"非湖北现存确诊\"},{\"imgUrl\":\"https://img1.dxycdn.com/2020/0326/419/3404177596953996726-135.png\",\"title\":\"治愈/死亡\"}],\"foreignTrendChart\":[{\"imgUrl\":\"https://img1.dxycdn.com/2020/0320/702/3403079914982117944-135.png\",\"title\":\"国外新增确诊\"},{\"imgUrl\":\"https://img1.dxycdn.com/2020/0320/396/3403079925719536561-135.png\",\"title\":\"国外累计确诊\"},{\"imgUrl\":\"https://img1.dxycdn.com/2020/0320/139/3403079936457225524-135.png\",\"title\":\"国外死亡\"}],\"importantForeignTrendChart\":[{\"imgUrl\":\"https://img1.dxycdn.com/2020/0320/450/3403077453965772423-135.png\",\"title\":\"重点国家新增确诊\"},{\"imgUrl\":\"https://img1.dxycdn.com/2020/0320/276/3403077462555980566-135.png\",\"title\":\"日本新增确诊\"},{\"imgUrl\":\"https://img1.dxycdn.com/2020/0320/340/3403077473293125942-135.png\",\"title\":\"意大利新增确诊\"},{\"imgUrl\":\"https://img1.dxycdn.com/2020/0320/723/3403077481883334043-135.png\",\"title\":\"伊朗新增确诊\"},{\"imgUrl\":\"https://img1.dxycdn.com/2020/0320/266/3403077492620752785-135.png\",\"title\":\"美国新增确诊\"},{\"imgUrl\":\"https://img1.dxycdn.com/2020/0320/870/3403077503358171278-135.png\",\"title\":\"法国新增确诊\"},{\"imgUrl\":\"https://img1.dxycdn.com/2020/0320/053/3403077511947832997-135.png\",\"title\":\"德国新增确诊\"},{\"imgUrl\":\"https://img1.dxycdn.com/2020/0320/878/3403077520537768006-135.png\",\"title\":\"西班牙新增确诊\"},{\"imgUrl\":\"https://img1.dxycdn.com/2020/0320/443/3403077531275186665-135.png\",\"title\":\"韩国新增确诊\"}],\"foreignTrendChartGlobal\":[{\"imgUrl\":\"https://img1.dxycdn.com/2020/0319/740/3402859458605738923-135.png\",\"title\":\"Daily New Cases\"},{\"imgUrl\":\"https://img1.dxycdn.com/2020/0319/351/3402856772103846114-135.png\",\"title\":\"Total Confirmed Cases\"},{\"imgUrl\":\"https://img1.dxycdn.com/2020/0319/236/3402856782841001789-135.png\",\"title\":\"Total Deaths Cases\"}],\"importantForeignTrendChartGlobal\":[{\"imgUrl\":\"https://img1.dxycdn.com/2020/0319/122/3402856838675578578-135.png\",\"title\":\"Daily New Cases\"},{\"imgUrl\":\"https://img1.dxycdn.com/2020/0319/685/3402856849412997239-135.png\",\"title\":\"Japan\"},{\"imgUrl\":\"https://img1.dxycdn.com/2020/0319/477/3402856860150678804-135.png\",\"title\":\"Italy\"},{\"imgUrl\":\"https://img1.dxycdn.com/2020/0319/454/3402856873035581014-135.png\",\"title\":\"Iran\"},{\"imgUrl\":\"https://img1.dxycdn.com/2020/0319/022/3402856883772999714-135.png\",\"title\":\"U.S.A.\"},{\"imgUrl\":\"https://img1.dxycdn.com/2020/0319/529/3402856894510155506-135.png\",\"title\":\"France\"},{\"imgUrl\":\"https://img1.dxycdn.com/2020/0319/211/3402856905247574064-135.png\",\"title\":\"Germany\"},{\"imgUrl\":\"https://img1.dxycdn.com/2020/0319/054/3402856913837508985-135.png\",\"title\":\"Spain\"},{\"imgUrl\":\"https://img1.dxycdn.com/2020/0319/088/3402856928870157852-135.png\",\"title\":\"Republic of Korea\"}],\"foreignStatistics\":{\"currentConfirmedCount\":823523,\"confirmedCount\":1010932,\"suspectedCount\":4,\"curedCount\":131454,\"deadCount\":55955,\"suspectedIncr\":0,\"currentConfirmedIncr\":6782,\"confirmedIncr\":10198,\"curedIncr\":1356,\"deadIncr\":2060},\"globalStatistics\":{\"currentConfirmedCount\":826071,\"confirmedCount\":1093807,\"curedCount\":208446,\"deadCount\":59290,\"currentConfirmedIncr\":6679,\"confirmedIncr\":10318,\"curedIncr\":1575,\"deadIncr\":2064},\"globalOtherTrendChartData\":\"https://file1.dxycdn.com/2020/0404/193/3405835263204140186-135.json\"}}catch(e){}']"
      ]
     },
     "execution_count": 8,
     "metadata": {},
     "output_type": "execute_result"
    }
   ],
   "source": [
    "data = soup.findAll(text=re.compile('\\\"summary.+\\\"confirmedCount\\\":\\d'))\n",
    "\n",
    "data\n"
   ]
  },
  {
   "cell_type": "code",
   "execution_count": 9,
   "metadata": {},
   "outputs": [],
   "source": [
    "m = re.search('\\\"confirmedCount\\\":(\\d+)', data[0])\n",
    "summary_confirmed_count = int(m.group(1))\n",
    "\n",
    "\n",
    "m = re.search('\\\"curedCount\\\":(\\d+)', data[0])\n",
    "summary_cured_count = int(m.group(1))\n",
    "\n",
    "m = re.search('\\\"deadCount\\\":(\\d+)', data[0])\n",
    "summary_dead_count = int(m.group(1))\n"
   ]
  },
  {
   "cell_type": "code",
   "execution_count": 10,
   "metadata": {},
   "outputs": [
    {
     "data": {
      "text/html": [
       "<div>\n",
       "<style scoped>\n",
       "    .dataframe tbody tr th:only-of-type {\n",
       "        vertical-align: middle;\n",
       "    }\n",
       "\n",
       "    .dataframe tbody tr th {\n",
       "        vertical-align: top;\n",
       "    }\n",
       "\n",
       "    .dataframe thead th {\n",
       "        text-align: right;\n",
       "    }\n",
       "</style>\n",
       "<table border=\"1\" class=\"dataframe\">\n",
       "  <thead>\n",
       "    <tr style=\"text-align: right;\">\n",
       "      <th></th>\n",
       "      <th>datetime</th>\n",
       "      <th>confirmed</th>\n",
       "      <th>cured</th>\n",
       "      <th>dead</th>\n",
       "    </tr>\n",
       "  </thead>\n",
       "  <tbody>\n",
       "    <tr>\n",
       "      <th>0</th>\n",
       "      <td>2020-04-04 08:36</td>\n",
       "      <td>82875</td>\n",
       "      <td>76992</td>\n",
       "      <td>3335</td>\n",
       "    </tr>\n",
       "  </tbody>\n",
       "</table>\n",
       "</div>"
      ],
      "text/plain": [
       "           datetime  confirmed  cured  dead\n",
       "0  2020-04-04 08:36      82875  76992  3335"
      ]
     },
     "execution_count": 10,
     "metadata": {},
     "output_type": "execute_result"
    }
   ],
   "source": [
    "# make a dataframe\n",
    "df = pd.DataFrame({\n",
    "    'datetime': data_date_time,\n",
    "    'confirmed': summary_confirmed_count,\n",
    "    'cured': summary_cured_count,\n",
    "    'dead': summary_dead_count\n",
    "}, index=[0])\n",
    "df"
   ]
  },
  {
   "cell_type": "markdown",
   "metadata": {},
   "source": [
    "### Save to file"
   ]
  },
  {
   "cell_type": "code",
   "execution_count": 11,
   "metadata": {},
   "outputs": [],
   "source": [
    "from pathlib import Path\n",
    "csv_file = '../data/china-summary-cases.csv'\n",
    "\n",
    "if Path(csv_file).exists():\n",
    "    # read out the old data - then merge with new data and remove duplicates based on datetime\n",
    "    old_df = pd.read_csv(csv_file)\n",
    "    df = df.append(old_df)\n",
    "df.drop_duplicates(subset=['datetime'], inplace=True)"
   ]
  },
  {
   "cell_type": "code",
   "execution_count": 12,
   "metadata": {},
   "outputs": [],
   "source": [
    "df.sort_values(by=['datetime'], inplace=True)\n",
    "\n",
    "df.to_csv(csv_file, index=False)\n"
   ]
  },
  {
   "cell_type": "markdown",
   "metadata": {},
   "source": [
    "### Plot graph"
   ]
  },
  {
   "cell_type": "code",
   "execution_count": 13,
   "metadata": {},
   "outputs": [],
   "source": [
    "import seaborn as sns\n",
    "import matplotlib.pyplot as plt\n",
    "from pandas.plotting import register_matplotlib_converters\n",
    "register_matplotlib_converters()\n",
    "\n",
    "png_file = '../images/china-summary-cases.png'\n",
    "# convert to pd.datetime\n",
    "df['datetime_idx'] = pd.to_datetime(df['datetime'], format=\"%Y-%m-%d %H:%M\")\n",
    "\n",
    "df.set_index('datetime_idx', inplace=True)\n",
    "df.drop(['datetime'], axis=1, inplace=True)\n"
   ]
  },
  {
   "cell_type": "code",
   "execution_count": 14,
   "metadata": {},
   "outputs": [
    {
     "data": {
      "text/html": [
       "<div>\n",
       "<style scoped>\n",
       "    .dataframe tbody tr th:only-of-type {\n",
       "        vertical-align: middle;\n",
       "    }\n",
       "\n",
       "    .dataframe tbody tr th {\n",
       "        vertical-align: top;\n",
       "    }\n",
       "\n",
       "    .dataframe thead th {\n",
       "        text-align: right;\n",
       "    }\n",
       "</style>\n",
       "<table border=\"1\" class=\"dataframe\">\n",
       "  <thead>\n",
       "    <tr style=\"text-align: right;\">\n",
       "      <th></th>\n",
       "      <th>confirmed</th>\n",
       "      <th>cured</th>\n",
       "      <th>dead</th>\n",
       "    </tr>\n",
       "    <tr>\n",
       "      <th>datetime_idx</th>\n",
       "      <th></th>\n",
       "      <th></th>\n",
       "      <th></th>\n",
       "    </tr>\n",
       "  </thead>\n",
       "  <tbody>\n",
       "    <tr>\n",
       "      <th>2020-02-02 10:22:00</th>\n",
       "      <td>14483</td>\n",
       "      <td>379</td>\n",
       "      <td>304</td>\n",
       "    </tr>\n",
       "    <tr>\n",
       "      <th>2020-02-02 10:28:00</th>\n",
       "      <td>14483</td>\n",
       "      <td>380</td>\n",
       "      <td>304</td>\n",
       "    </tr>\n",
       "    <tr>\n",
       "      <th>2020-02-02 11:19:00</th>\n",
       "      <td>14489</td>\n",
       "      <td>385</td>\n",
       "      <td>304</td>\n",
       "    </tr>\n",
       "    <tr>\n",
       "      <th>2020-02-02 11:54:00</th>\n",
       "      <td>14489</td>\n",
       "      <td>397</td>\n",
       "      <td>304</td>\n",
       "    </tr>\n",
       "    <tr>\n",
       "      <th>2020-02-02 15:01:00</th>\n",
       "      <td>14490</td>\n",
       "      <td>430</td>\n",
       "      <td>304</td>\n",
       "    </tr>\n",
       "    <tr>\n",
       "      <th>...</th>\n",
       "      <td>...</td>\n",
       "      <td>...</td>\n",
       "      <td>...</td>\n",
       "    </tr>\n",
       "    <tr>\n",
       "      <th>2020-04-04 03:35:00</th>\n",
       "      <td>82875</td>\n",
       "      <td>76984</td>\n",
       "      <td>3335</td>\n",
       "    </tr>\n",
       "    <tr>\n",
       "      <th>2020-04-04 05:06:00</th>\n",
       "      <td>82875</td>\n",
       "      <td>76984</td>\n",
       "      <td>3335</td>\n",
       "    </tr>\n",
       "    <tr>\n",
       "      <th>2020-04-04 07:04:00</th>\n",
       "      <td>82875</td>\n",
       "      <td>76984</td>\n",
       "      <td>3335</td>\n",
       "    </tr>\n",
       "    <tr>\n",
       "      <th>2020-04-04 07:46:00</th>\n",
       "      <td>82875</td>\n",
       "      <td>76984</td>\n",
       "      <td>3335</td>\n",
       "    </tr>\n",
       "    <tr>\n",
       "      <th>2020-04-04 08:36:00</th>\n",
       "      <td>82875</td>\n",
       "      <td>76992</td>\n",
       "      <td>3335</td>\n",
       "    </tr>\n",
       "  </tbody>\n",
       "</table>\n",
       "<p>957 rows × 3 columns</p>\n",
       "</div>"
      ],
      "text/plain": [
       "                     confirmed  cured  dead\n",
       "datetime_idx                               \n",
       "2020-02-02 10:22:00      14483    379   304\n",
       "2020-02-02 10:28:00      14483    380   304\n",
       "2020-02-02 11:19:00      14489    385   304\n",
       "2020-02-02 11:54:00      14489    397   304\n",
       "2020-02-02 15:01:00      14490    430   304\n",
       "...                        ...    ...   ...\n",
       "2020-04-04 03:35:00      82875  76984  3335\n",
       "2020-04-04 05:06:00      82875  76984  3335\n",
       "2020-04-04 07:04:00      82875  76984  3335\n",
       "2020-04-04 07:46:00      82875  76984  3335\n",
       "2020-04-04 08:36:00      82875  76992  3335\n",
       "\n",
       "[957 rows x 3 columns]"
      ]
     },
     "execution_count": 14,
     "metadata": {},
     "output_type": "execute_result"
    }
   ],
   "source": [
    "df"
   ]
  },
  {
   "cell_type": "code",
   "execution_count": 15,
   "metadata": {
    "scrolled": true
   },
   "outputs": [
    {
     "data": {
      "image/png": "[encoded data removed]",
      "text/plain": [
       "<Figure size 1008x1008 with 3 Axes>"
      ]
     },
     "metadata": {},
     "output_type": "display_data"
    }
   ],
   "source": [
    "if df.shape[0]>1:\n",
    "    # line chart when having at least a few points\n",
    "    sns.set(rc={'figure.figsize':(14,14)})\n",
    "    sns.set(style=\"whitegrid\")\n",
    "\n",
    "    fig, axs = plt.subplots(nrows=3)\n",
    "\n",
    "    sns.lineplot(x=df.index, y = 'confirmed', data=df, ax= axs[0], estimator=None, color='orange')\n",
    "    sns.lineplot(x=df.index, y = 'cured', data=df, ax= axs[1], estimator=None, color='green')\n",
    "    sns.lineplot(x=df.index, y = 'dead', data=df, ax= axs[2], estimator=None, color='darkred')\n",
    "\n",
    "    for ax in axs:\n",
    "        ax.set_xlabel('')\n",
    "        ax.tick_params(axis='x', labelrotation=30)\n",
    "else:\n",
    "\n",
    "    ax = df.plot(kind='bar', stacked=True, figsize=(9,6))\n",
    "    fig = ax.get_figure()\n",
    "    ax.set_xlabel('')\n",
    "    for label in ax.get_xticklabels():\n",
    "        label.set_rotation(0) \n"
   ]
  },
  {
   "cell_type": "code",
   "execution_count": 16,
   "metadata": {},
   "outputs": [],
   "source": [
    "fig.savefig(png_file)"
   ]
  },
  {
   "cell_type": "code",
   "execution_count": null,
   "metadata": {},
   "outputs": [],
   "source": []
  },
  {
   "cell_type": "code",
   "execution_count": null,
   "metadata": {},
   "outputs": [],
   "source": []
  }
 ],
 "metadata": {
  "kernelspec": {
   "display_name": "Python 3",
   "language": "python",
   "name": "python3"
  },
  "language_info": {
   "codemirror_mode": {
    "name": "ipython",
    "version": 3
   },
   "file_extension": ".py",
   "mimetype": "text/x-python",
   "name": "python",
   "nbconvert_exporter": "python",
   "pygments_lexer": "ipython3",
   "version": "3.7.6"
  }
 },
 "nbformat": 4,
 "nbformat_minor": 2
}
