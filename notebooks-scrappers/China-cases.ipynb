{
 "cells": [
  {
   "cell_type": "code",
   "execution_count": 1,
   "metadata": {},
   "outputs": [],
   "source": [
    "import pandas as pd\n",
    "import requests\n",
    "from bs4 import BeautifulSoup\n",
    "import re\n",
    "from datetime import datetime\n",
    "from selenium import webdriver\n",
    "from selenium.webdriver.chrome.options import Options  \n"
   ]
  },
  {
   "cell_type": "code",
   "execution_count": 2,
   "metadata": {},
   "outputs": [
    {
     "data": {
      "text/plain": [
       "datetime.datetime(2020, 3, 26, 13, 7, 57, 24668)"
      ]
     },
     "execution_count": 2,
     "metadata": {},
     "output_type": "execute_result"
    }
   ],
   "source": [
    "datetime.now()"
   ]
  },
  {
   "cell_type": "code",
   "execution_count": 3,
   "metadata": {},
   "outputs": [],
   "source": [
    "chrome_options = Options()  \n",
    "chrome_options.add_argument(\"--headless\")  \n",
    "chrome_options.add_argument(\"--no-sandbox\")\n",
    "\n",
    "driver = webdriver.Chrome('chromedriver', options=chrome_options)"
   ]
  },
  {
   "cell_type": "code",
   "execution_count": 4,
   "metadata": {},
   "outputs": [],
   "source": [
    "url = 'https://ncov.dxy.cn/ncovh5/view/pneumonia'\n",
    "driver.get(url)"
   ]
  },
  {
   "cell_type": "markdown",
   "metadata": {},
   "source": [
    "### Extract date"
   ]
  },
  {
   "cell_type": "code",
   "execution_count": 5,
   "metadata": {},
   "outputs": [],
   "source": [
    "content = driver.page_source\n",
    "soup =BeautifulSoup(content, 'lxml')\n"
   ]
  },
  {
   "cell_type": "code",
   "execution_count": 6,
   "metadata": {},
   "outputs": [
    {
     "data": {
      "text/plain": [
       "['try { window.getTimelineService1 = [{\"id\":16376,\"pubDate\":1585226928000,\"pubDateStr\":\"9分钟前\",\"title\":\"伊拉克新冠肺炎累计确诊382例 再次延长宵禁期限\",\"summary\":\"当地时间3月26日，伊拉克卫生部发布声明称，境内新增新型冠状病毒确诊病例36例，其中巴格达10例，巴士拉9例，卡尔巴拉7例，纳杰夫5例，瓦西特2例，苏莱曼尼亚1例，基尔库克1例，济加尔1例。新增死亡病例7例，其中巴格达3例，卡尔巴拉2例，穆萨纳1例，巴比伦1例。目前，伊拉克新冠病毒确诊病例累计达382例，其中死亡36例，治愈107例。\",\"infoSource\":\"央视新闻app\",\"sourceUrl\":\"http://app.cctv.com/special/cportal/detail/arti/index.html?id=ArtiCbhOlr9LF5WJJMGRwuEJ200326&isfromapp=1\",\"provinceId\":\"\"},{\"id\":16363,\"pubDate\":1585225936000,\"pubDateStr\":\"26分钟前\",\"title\":\"德国新冠肺炎累计确诊病例39502例,累计死亡222例\",\"summary\":\"据德国《柏林晨报》26日发布的实时疫情数据，德国新冠肺炎累计确诊病例达39502例，累计死亡病例222例。\\\\n\",\"infoSource\":\"人民日报海外版\",\"sourceUrl\":\"http://m.weibo.cn/3057540037/4486825135310516\",\"provinceId\":\"\"},{\"id\":16362,\"pubDate\":1585225768000,\"pubDateStr\":\"29分钟前\",\"title\":\"瑞士新增949例新冠肺炎病例，累计10714例\",\"summary\":\"据瑞士卫生部官网最新数据，过去24小时，该国新增949例新冠肺炎确诊病例，累计确诊10714例，新增新冠肺炎死亡病例58例，累计死亡161例。瑞士也成为继中国、意大利、伊朗、西班牙、德国、美国和法国之后，全球第8个确诊人数破万的国家。\",\"infoSource\":\"人民日报海外版\",\"sourceUrl\":\"http://m.weibo.cn/3057540037/4486824430468037\",\"provinceId\":\"\"},{\"id\":16336,\"pubDate\":1585224662000,\"pubDateStr\":\"47分钟前\",\"title\":\"加纳新增64例新冠肺炎确诊病例 累计确诊132例\",\"summary\":\"当地时间3月26日上午，加纳卫生部发布消息称，新增64例新冠肺炎确诊病例，目前加纳国内累计确诊病例从原来的68例上升到132例。累计死亡3例。现存确诊129例，均在接受隔离治疗。加纳卫生部正在追踪观察970名密切接触者，其中204人已完成14天的隔离。\",\"infoSource\":\"央视新闻app\",\"sourceUrl\":\"http://app.cctv.com/special/cportal/detail/arti/index.html?id=ArtiZPYv2bQepl7FellmojE7200326&isfromapp=1\",\"provinceId\":\"\"},{\"id\":16331,\"pubDate\":1585224174000,\"pubDateStr\":\"55分钟前\",\"title\":\"西班牙马德里一滑冰场被用作停尸间 存放离世患者遗体\",\"summary\":\"截至当地时间3月26日，西班牙新冠确诊病例已经达到56188例，死亡病例4089例，首都马德里的医疗系统承受着巨大压力。\\\\n位于马德里会展中心方舱医院附近的一家滑冰场已经暂时被用作停尸间，存放因新冠肺炎离世患者的遗体。（总台记者 魏帆）\",\"infoSource\":\"央视新闻app\",\"sourceUrl\":\"http://app.cctv.com/special/cportal/detail/arti/index.html?id=Arti01xdnAQEYsNqqvPvOhbh200326&isfromapp=1\",\"provinceId\":\"\"},{\"id\":16306,\"pubDate\":1585223187000,\"pubDateStr\":\"1小时前\",\"title\":\"马达加斯加新增4例新冠肺炎确诊病例 累计确诊23例\",\"summary\":\"3月26日中午，马达加斯加新增4例新冠肺炎确诊病例，其中包括一名72岁的意大利人。目前，马达加斯加共有确诊病例23人。（总台记者 史跃）\",\"infoSource\":\"央视新闻app\",\"sourceUrl\":\"http://app.cctv.com/special/cportal/detail/arti/index.html?id=ArtiLBgDFH17Xskhci0GCGdG200326&isfromapp=1\",\"provinceId\":\"\"},{\"id\":16308,\"pubDate\":1585222977000,\"pubDateStr\":\"1小时前\",\"title\":\"巴林新增38例新冠肺炎确诊病例 累计确诊457例\",\"summary\":\"巴林卫生部当地时间26日下午发布通告，确定境内新增38例新冠肺炎确诊病例，至此巴林境内累计发现457例新冠肺炎确诊病例，其中204名患者已经痊愈出院，4名患者病重不治。249名仍在医院接受治疗的患者中1人病情较重，其余患者情况较为稳定。\",\"infoSource\":\"央视新闻app\",\"sourceUrl\":\"http://app.cctv.com/special/cportal/detail/arti/index.html?id=ArtinlSFnXbrm9GQgvv527uf200326&isfromapp=1\",\"provinceId\":\"\"},{\"id\":16300,\"pubDate\":1585222818000,\"pubDateStr\":\"1小时前\",\"title\":\"美国新冠肺炎死亡人数破千 累计确诊69197例\",\"summary\":\"根据美国约翰斯·霍普金斯大学截至美国东部时间7点33分的实时数据，美国新冠肺炎死亡人数达1046人，确诊人数69197人。\",\"infoSource\":\"央视新闻app\",\"sourceUrl\":\"http://app.cctv.com/special/cportal/detail/arti/index.html?id=ArtigDyf54qlZF6GZSdV7tqf200326&isfromapp=1\",\"provinceId\":\"\"},{\"id\":16299,\"pubDate\":1585222437000,\"pubDateStr\":\"1小时前\",\"title\":\"德国新冠肺炎确诊超过38000例\",\"summary\":\"根据德国16个联邦州卫生部门发布的数据，截至当地时间26日12时，德国确诊38124例新冠病毒感染者，累计死亡207例。（总台记者 余鹏）\",\"infoSource\":\"央视新闻app\",\"sourceUrl\":\"http://app.cctv.com/special/cportal/detail/arti/index.html?id=Arti0DeG0sBqrp2G4xtAlwde200326&isfromapp=1\",\"provinceId\":\"\"},{\"id\":16294,\"pubDate\":1585222380000,\"pubDateStr\":\"1小时前\",\"title\":\"快讯！欧洲新冠肺炎确诊病例已超25万例\",\"summary\":\"据法新社26日报道，欧洲新冠肺炎确诊病例已超25万例。\",\"infoSource\":\"人民日报海外版\",\"sourceUrl\":\"http://m.weibo.cn/3057540037/4486810220707459\",\"provinceId\":\"\"},{\"id\":16292,\"pubDate\":1585222179000,\"pubDateStr\":\"1小时前\",\"title\":\"布基纳法索新增32例新冠肺炎确诊病例 累计确诊146例\",\"summary\":\"根据布基纳法索卫生部于当地时间3月24日晚发布的数据，24日布基纳法索新增32例新冠肺炎确诊病例，累计确诊病例从23日的114例上升到146例（97名男性，49名女性），其中7例死亡，10例康复，现存确诊129例。（总台记者 何北平）\",\"infoSource\":\"央视新闻app\",\"sourceUrl\":\"http://app.cctv.com/special/cportal/detail/arti/index.html?id=ArtikbdKWi99mtHfUDoFZlg1200326&isfromapp=1\",\"provinceId\":\"\"},{\"id\":16279,\"pubDate\":1585221624000,\"pubDateStr\":\"1小时前\",\"title\":\"印度财长：“不会有人挨饿” 将补贴1.7万亿卢比救助穷人\",\"summary\":\"印度财政部长西塔拉曼（Nirmala Sitharaman）26日宣布了一项经济救助计划，以减轻新冠病毒和抗议措施对民众产生的影响。\\\\n西塔拉曼表示：“政府正在努力，使外来民工等受影响最严重的人得到帮助。”“该救助计划将补贴1.7万亿卢比（约合1700亿人民币），通过发放现金和食品补贴的形式帮助穷人和农民工。\",\"infoSource\":\"央视新闻app\",\"sourceUrl\":\"http://app.cctv.com/special/cportal/detail/arti/index.html?id=ArtiC1bpvEyPEAL8zZ6AWQ46200326&isfromapp=1\",\"provinceId\":\"\"},{\"id\":16280,\"pubDate\":1585221436000,\"pubDateStr\":\"1小时前\",\"title\":\"黎巴嫩新冠肺炎确诊人数上升至368人\",\"summary\":\"黎巴嫩卫生部官网公布，截至26日中午，新冠肺炎确诊总人数为368人，较昨日增加35人。根据卫生部公布的数字，黎巴嫩治愈人数已达20人，死亡病例增加至6例。确诊患者中目前仍有3人情况危重，疑似病例目前有360人，另外有900多人处于隔离状态。（总台记者 孙虎）\",\"infoSource\":\"央视新闻app\",\"sourceUrl\":\"http://app.cctv.com/special/cportal/detail/arti/index.html?id=Arti7mtbJZ8z8vRU4JftpQmR200326&isfromapp=1\",\"provinceId\":\"\"},{\"id\":16281,\"pubDate\":1585221354000,\"pubDateStr\":\"1小时前\",\"title\":\"法国首趟医疗专列开始转运新冠肺炎重症患者\",\"summary\":\"当地时间26日上午，据法国媒体报道，法国首趟医疗专列已驶出大东部大区首府斯特拉斯堡火车站，将把20名当地的新冠肺炎重症患者转运至西部的卢瓦河大区接受治疗。\",\"infoSource\":\"央视新闻app\",\"sourceUrl\":\"http://app.cctv.com/special/cportal/detail/arti/index.html?id=Arti4GdzG50d4cTkZMO83FMg200326&isfromapp=1\",\"provinceId\":\"\"},{\"id\":16275,\"pubDate\":1585221260000,\"pubDateStr\":\"1小时前\",\"title\":\"新加坡官员减薪三个月应对疫情\",\"summary\":\"3月26日，新加坡副总理兼财政部长王瑞杰在发布针对新冠肺炎疫情的追加预算案时表示，所有在新加坡政府担任政治职务者将减薪三个月。为了表示团结，部长和副部长的减薪幅度将更高。与此同时，总统、国会议长和副议长也都接受三个月的减薪。\",\"infoSource\":\"央视新闻app\",\"sourceUrl\":\"http://app.cctv.com/special/cportal/detail/arti/index.html?id=ArtiI3TfHWWmuDF1Iqzu98Vj200326&isfromapp=1\",\"provinceId\":\"\"},{\"id\":16276,\"pubDate\":1585221252000,\"pubDateStr\":\"1小时前\",\"title\":\"中央应对新冠肺炎疫情工作领导小组：防控境外疫情经陆路水路输入风险\",\"summary\":\"会议指出，要认真贯彻习近平总书记重要讲话和中央政治局常委会会议精神，按照中央应对疫情工作领导小组部署，全面科学研判国内外疫情变化，充分认识疫情形势的复杂严峻性，决不可掉以轻心，坚持外防输入、内防反弹防控策略，完善应急和常态化防控结合的措施与机制，做好疫情境内防控和跨境输入输出防范，在科学精准防控同时积极有序推动复工复产。\",\"infoSource\":\"央视新闻app\",\"sourceUrl\":\"http://app.cctv.com/special/cportal/detail/arti/index.html?id=ArtiYptt5YOhuuXrR9E5AOKZ200326&isfromapp=1\",\"provinceId\":\"\"},{\"id\":16277,\"pubDate\":1585221200000,\"pubDateStr\":\"1小时前\",\"title\":\"文莱新增5例新冠肺炎确诊病例 累计确诊114例\",\"summary\":\"当地时间26日，文莱政府宣布新增5例新冠肺炎确诊病例，累计确诊114例。文莱卫生部长伊桑说，26日共有3人获准出院回家，累计治愈病例5例。\",\"infoSource\":\"央视新闻app\",\"sourceUrl\":\"http://app.cctv.com/special/cportal/detail/arti/index.html?id=Arti3euSn3PChArkLK4HlA64200326&isfromapp=1\",\"provinceId\":\"\"},{\"id\":16267,\"pubDate\":1585220963000,\"pubDateStr\":\"1小时前\",\"title\":\"印度首都一社区医生感染新冠肺炎 800余名接触者被隔离\",\"summary\":\"据《印度斯坦时报》报道，印度德里首都辖区卫生部官员表示，由于德里东北部地区某社区诊所的一名医生新冠病毒检测结果呈阳性，目前已对800余名接触者展开了为期14天的隔离。目前德里新冠肺炎确诊人数升至36人。（总台记者 李琳）\\\\n\",\"infoSource\":\"央视新闻app\",\"sourceUrl\":\"http://app.cctv.com/special/cportal/detail/arti/index.html?id=Artidy5P0T1MIUr0bAwncqlM200326&isfromapp=1\",\"provinceId\":\"\"},{\"id\":16255,\"pubDate\":1585220698000,\"pubDateStr\":\"1小时前\",\"title\":\"最新数据：中国以外新冠肺炎384434例，美国69171例\",\"summary\":\"截至北京时间3月26日12时，除中国外，197个国家和地区累计确诊383722例新冠肺炎，“钻石公主”号邮轮712例。\",\"infoSource\":\"人民日报\",\"sourceUrl\":\"http://m.weibo.cn/2803301701/4486803166255405\",\"provinceId\":\"\"},{\"id\":16262,\"pubDate\":1585220454000,\"pubDateStr\":\"1小时前\",\"title\":\"美军确诊人数上升引发疫情扩散担忧\",\"summary\":\"美国国防部25日宣布，美国现役军人新冠肺炎确诊病例升至227例。\",\"infoSource\":\"央视新闻app\",\"sourceUrl\":\"http://app.cctv.com/special/cportal/detail/arti/index.html?id=ArtiXr6HdAQt4pPP4NsCIFpE200326&isfromapp=1\",\"provinceId\":\"\"},{\"id\":16254,\"pubDate\":1585220106000,\"pubDateStr\":\"2小时前\",\"title\":\"全球新冠肺炎累计确诊480446例, 累计死亡21571例\",\"summary\":\"美国约翰·霍普金斯大学发布的实时统计数据显示，截至北京时间3月26日下午18点46分，全球累计确诊480446例，累计死亡21571例，累计确诊国家和地区数175个。\",\"infoSource\":\"人民日报海外版\",\"sourceUrl\":\"http://m.weibo.cn/3057540037/4486800686835825\",\"provinceId\":\"\"}]}catch(e){}',\n",
       " '截至北京时间 2020-03-26 12:21',\n",
       " '截至北京时间 2020-03-26 12:21',\n",
       " '截至当地时间3月26日，西班牙新冠确诊病例已经达到56188例，死亡病例4089例，首都马德里的医疗系统承受着巨大压力。\\n位于马德里会展中心方舱医院附近的一家滑冰场已经暂时被用作停尸间，存放因新冠肺炎离世患者的遗体。（总台记者 魏帆）',\n",
       " '根据美国约翰斯·霍普金斯大学截至美国东部时间7点33分的实时数据，美国新冠肺炎死亡人数达1046人，确诊人数69197人。',\n",
       " '根据德国16个联邦州卫生部门发布的数据，截至当地时间26日12时，德国确诊38124例新冠病毒感染者，累计死亡207例。（总台记者 余鹏）',\n",
       " '黎巴嫩卫生部官网公布，截至26日中午，新冠肺炎确诊总人数为368人，较昨日增加35人。根据卫生部公布的数字，黎巴嫩治愈人数已达20人，死亡病例增加至6例。确诊患者中目前仍有3人情况危重，疑似病例目前有360人，另外有900多人处于隔离状态。（总台记者 孙虎）',\n",
       " '截至北京时间3月26日12时，除中国外，197个国家和地区累计确诊383722例新冠肺炎，“钻石公主”号邮轮712例。',\n",
       " '美国约翰·霍普金斯大学发布的实时统计数据显示，截至北京时间3月26日下午18点46分，全球累计确诊480446例，累计死亡21571例，累计确诊国家和地区数175个。']"
      ]
     },
     "execution_count": 6,
     "metadata": {},
     "output_type": "execute_result"
    }
   ],
   "source": [
    "data = soup.findAll(text=re.compile(\"截至.+\"))\n",
    "data"
   ]
  },
  {
   "cell_type": "code",
   "execution_count": 7,
   "metadata": {},
   "outputs": [
    {
     "data": {
      "text/plain": [
       "'2020-03-26 12:21'"
      ]
     },
     "execution_count": 7,
     "metadata": {},
     "output_type": "execute_result"
    }
   ],
   "source": [
    "for s in data:\n",
    "    m = re.search(\"截至.*(202\\d-\\d+-\\d+ \\d+:\\d+)\", s)\n",
    "    if m is not None:\n",
    "        data_date_time = m.group(1)\n",
    "data_date_time"
   ]
  },
  {
   "cell_type": "markdown",
   "metadata": {},
   "source": [
    "### Extract data (summary)"
   ]
  },
  {
   "cell_type": "code",
   "execution_count": 8,
   "metadata": {},
   "outputs": [
    {
     "data": {
      "text/plain": [
       "['try { window.getStatisticsService = {\"id\":1,\"createTime\":1579537899000,\"modifyTime\":1585225316000,\"infectSource\":\"该字段已替换为说明2\",\"passWay\":\"该字段已替换为说明3\",\"imgUrl\":\"https://img1.dxycdn.com/2020/0201/450/3394153392393266839-135.png\",\"dailyPic\":\"https://img1.dxycdn.com/2020/0211/763/3395998884005602079-135.png,https://img1.dxycdn.com/2020/0211/362/3395998896890788910-135.png,https://img1.dxycdn.com/2020/0211/365/3395998905480724211-135.png,https://img1.dxycdn.com/2020/0211/364/3395998916217859778-135.png,https://img1.dxycdn.com/2020/0211/922/3395998929103046444-135.png,https://img1.dxycdn.com/2020/0211/089/3395998939840182072-135.png\",\"dailyPics\":[\"https://img1.dxycdn.com/2020/0211/763/3395998884005602079-135.png\",\"https://img1.dxycdn.com/2020/0211/362/3395998896890788910-135.png\",\"https://img1.dxycdn.com/2020/0211/365/3395998905480724211-135.png\",\"https://img1.dxycdn.com/2020/0211/364/3395998916217859778-135.png\",\"https://img1.dxycdn.com/2020/0211/922/3395998929103046444-135.png\",\"https://img1.dxycdn.com/2020/0211/089/3395998939840182072-135.png\"],\"summary\":\"\",\"deleted\":false,\"countRemark\":\"\",\"currentConfirmedCount\":4537,\"confirmedCount\":82034,\"suspectedCount\":541,\"curedCount\":74204,\"deadCount\":3293,\"seriousCount\":1235,\"suspectedIncr\":67,\"currentConfirmedIncr\":-231,\"confirmedIncr\":188,\"curedIncr\":413,\"deadIncr\":6,\"seriousIncr\":-164,\"virus\":\"该字段已替换为说明1\",\"remark1\":\"易感人群：人群普遍易感。老年人及有基础疾病者感染后病情较重，儿童及婴幼儿也有发病\",\"remark2\":\"潜伏期：一般为 3～7 天，最长不超过 14 天，潜伏期内可能存在传染性，其中无症状病例传染性非常罕见\",\"remark3\":\"宿主：野生动物，可能为中华菊头蝠\",\"remark4\":\"\",\"remark5\":\"\",\"note1\":\"病毒：SARS-CoV-2，其导致疾病命名 COVID-19\",\"note2\":\"传染源：新冠肺炎的患者。无症状感染者也可能成为传染源。\",\"note3\":\"传播途径：经呼吸道飞沫、接触传播是主要的传播途径。气溶胶传播和消化道等传播途径尚待明确。\",\"generalRemark\":\"1. 3 月 12 日国家卫健委确诊补订遗漏 12 例确诊病例（非 12 日新增），暂无具体省份信息。 2. 浙江省 12 例外省治愈暂无具体省份信息。\",\"abroadRemark\":\"\",\"marquee\":[{\"id\":1746,\"marqueeLabel\":\"全球疫情\",\"marqueeContent\":\"美国成为现存新冠感染最多的国家\",\"marqueeLink\":\"https://dxy.me/Sg1rjk\"},{\"id\":1747,\"marqueeLabel\":\"恢复\",\"marqueeContent\":\"武汉 4 月 8 日将恢复商业航班\",\"marqueeLink\":\"https://dxy.me/PR2Eha\"},{\"id\":1748,\"marqueeLabel\":\"要闻\",\"marqueeContent\":\"英国查尔斯王子新冠病毒检测阳性\",\"marqueeLink\":\"https://dxy.me/1P0gqf\"}],\"quanguoTrendChart\":[{\"imgUrl\":\"https://img1.dxycdn.com/2020/0324/278/3403801351376518263-135.png\",\"title\":\"新增疑似/新增确诊\"},{\"imgUrl\":\"https://img1.dxycdn.com/2020/0324/812/3403847865872006755-135.png\",\"title\":\"境外输入\"},{\"imgUrl\":\"https://img1.dxycdn.com/2020/0324/547/3403847848692336947-135.png\",\"title\":\"现存确诊\"},{\"imgUrl\":\"https://img1.dxycdn.com/2020/0324/775/3403801407211095604-135.png\",\"title\":\"治愈\"},{\"imgUrl\":\"https://img1.dxycdn.com/2020/0324/250/3403801424390727199-135.png\",\"title\":\"死亡\"}],\"hbFeiHbTrendChart\":[{\"imgUrl\":\"https://img1.dxycdn.com/2020/0326/624/3404177508906904585-135.png\",\"title\":\"非湖北新增确诊\"},{\"imgUrl\":\"https://img1.dxycdn.com/2020/0326/777/3404177532529485065-135.png\",\"title\":\"湖北新增确诊\"},{\"imgUrl\":\"https://img1.dxycdn.com/2020/0326/376/3404177556151805921-135.png\",\"title\":\"湖北现存确诊\"},{\"imgUrl\":\"https://img1.dxycdn.com/2020/0326/527/3404177575478899995-135.png\",\"title\":\"非湖北现存确诊\"},{\"imgUrl\":\"https://img1.dxycdn.com/2020/0326/419/3404177596953996726-135.png\",\"title\":\"治愈/死亡\"}],\"foreignTrendChart\":[{\"imgUrl\":\"https://img1.dxycdn.com/2020/0320/702/3403079914982117944-135.png\",\"title\":\"国外新增确诊\"},{\"imgUrl\":\"https://img1.dxycdn.com/2020/0320/396/3403079925719536561-135.png\",\"title\":\"国外累计确诊\"},{\"imgUrl\":\"https://img1.dxycdn.com/2020/0320/139/3403079936457225524-135.png\",\"title\":\"国外死亡\"}],\"importantForeignTrendChart\":[{\"imgUrl\":\"https://img1.dxycdn.com/2020/0320/450/3403077453965772423-135.png\",\"title\":\"重点国家新增确诊\"},{\"imgUrl\":\"https://img1.dxycdn.com/2020/0320/276/3403077462555980566-135.png\",\"title\":\"日本新增确诊\"},{\"imgUrl\":\"https://img1.dxycdn.com/2020/0320/340/3403077473293125942-135.png\",\"title\":\"意大利新增确诊\"},{\"imgUrl\":\"https://img1.dxycdn.com/2020/0320/723/3403077481883334043-135.png\",\"title\":\"伊朗新增确诊\"},{\"imgUrl\":\"https://img1.dxycdn.com/2020/0320/266/3403077492620752785-135.png\",\"title\":\"美国新增确诊\"},{\"imgUrl\":\"https://img1.dxycdn.com/2020/0320/870/3403077503358171278-135.png\",\"title\":\"法国新增确诊\"},{\"imgUrl\":\"https://img1.dxycdn.com/2020/0320/053/3403077511947832997-135.png\",\"title\":\"德国新增确诊\"},{\"imgUrl\":\"https://img1.dxycdn.com/2020/0320/878/3403077520537768006-135.png\",\"title\":\"西班牙新增确诊\"},{\"imgUrl\":\"https://img1.dxycdn.com/2020/0320/443/3403077531275186665-135.png\",\"title\":\"韩国新增确诊\"}],\"foreignTrendChartGlobal\":[{\"imgUrl\":\"https://img1.dxycdn.com/2020/0319/740/3402859458605738923-135.png\",\"title\":\"Daily New Cases\"},{\"imgUrl\":\"https://img1.dxycdn.com/2020/0319/351/3402856772103846114-135.png\",\"title\":\"Total Confirmed Cases\"},{\"imgUrl\":\"https://img1.dxycdn.com/2020/0319/236/3402856782841001789-135.png\",\"title\":\"Total Deaths Cases\"}],\"importantForeignTrendChartGlobal\":[{\"imgUrl\":\"https://img1.dxycdn.com/2020/0319/122/3402856838675578578-135.png\",\"title\":\"Daily New Cases\"},{\"imgUrl\":\"https://img1.dxycdn.com/2020/0319/685/3402856849412997239-135.png\",\"title\":\"Japan\"},{\"imgUrl\":\"https://img1.dxycdn.com/2020/0319/477/3402856860150678804-135.png\",\"title\":\"Italy\"},{\"imgUrl\":\"https://img1.dxycdn.com/2020/0319/454/3402856873035581014-135.png\",\"title\":\"Iran\"},{\"imgUrl\":\"https://img1.dxycdn.com/2020/0319/022/3402856883772999714-135.png\",\"title\":\"U.S.A.\"},{\"imgUrl\":\"https://img1.dxycdn.com/2020/0319/529/3402856894510155506-135.png\",\"title\":\"France\"},{\"imgUrl\":\"https://img1.dxycdn.com/2020/0319/211/3402856905247574064-135.png\",\"title\":\"Germany\"},{\"imgUrl\":\"https://img1.dxycdn.com/2020/0319/054/3402856913837508985-135.png\",\"title\":\"Spain\"},{\"imgUrl\":\"https://img1.dxycdn.com/2020/0319/088/3402856928870157852-135.png\",\"title\":\"Republic of Korea\"}],\"foreignStatistics\":{\"currentConfirmedCount\":341212,\"confirmedCount\":400456,\"suspectedCount\":4,\"curedCount\":40649,\"deadCount\":18595,\"suspectedIncr\":0,\"currentConfirmedIncr\":17316,\"confirmedIncr\":19862,\"curedIncr\":1515,\"deadIncr\":1031},\"globalStatistics\":{\"currentConfirmedCount\":345749,\"confirmedCount\":482490,\"curedCount\":114853,\"deadCount\":21888,\"currentConfirmedIncr\":17085,\"confirmedIncr\":20050,\"curedIncr\":1928,\"deadIncr\":1037},\"globalOtherTrendChartData\":\"https://file1.dxycdn.com/2020/0326/962/3404165384214179896-135.json\"}}catch(e){}']"
      ]
     },
     "execution_count": 8,
     "metadata": {},
     "output_type": "execute_result"
    }
   ],
   "source": [
    "data = soup.findAll(text=re.compile('\\\"summary.+\\\"confirmedCount\\\":\\d'))\n",
    "\n",
    "data\n"
   ]
  },
  {
   "cell_type": "code",
   "execution_count": 9,
   "metadata": {},
   "outputs": [],
   "source": [
    "m = re.search('\\\"confirmedCount\\\":(\\d+)', data[0])\n",
    "summary_confirmed_count = int(m.group(1))\n",
    "\n",
    "\n",
    "m = re.search('\\\"curedCount\\\":(\\d+)', data[0])\n",
    "summary_cured_count = int(m.group(1))\n",
    "\n",
    "m = re.search('\\\"deadCount\\\":(\\d+)', data[0])\n",
    "summary_dead_count = int(m.group(1))\n"
   ]
  },
  {
   "cell_type": "code",
   "execution_count": 10,
   "metadata": {},
   "outputs": [
    {
     "data": {
      "text/html": [
       "<div>\n",
       "<style scoped>\n",
       "    .dataframe tbody tr th:only-of-type {\n",
       "        vertical-align: middle;\n",
       "    }\n",
       "\n",
       "    .dataframe tbody tr th {\n",
       "        vertical-align: top;\n",
       "    }\n",
       "\n",
       "    .dataframe thead th {\n",
       "        text-align: right;\n",
       "    }\n",
       "</style>\n",
       "<table border=\"1\" class=\"dataframe\">\n",
       "  <thead>\n",
       "    <tr style=\"text-align: right;\">\n",
       "      <th></th>\n",
       "      <th>datetime</th>\n",
       "      <th>confirmed</th>\n",
       "      <th>cured</th>\n",
       "      <th>dead</th>\n",
       "    </tr>\n",
       "  </thead>\n",
       "  <tbody>\n",
       "    <tr>\n",
       "      <th>0</th>\n",
       "      <td>2020-03-26 12:21</td>\n",
       "      <td>82034</td>\n",
       "      <td>74204</td>\n",
       "      <td>3293</td>\n",
       "    </tr>\n",
       "  </tbody>\n",
       "</table>\n",
       "</div>"
      ],
      "text/plain": [
       "           datetime  confirmed  cured  dead\n",
       "0  2020-03-26 12:21      82034  74204  3293"
      ]
     },
     "execution_count": 10,
     "metadata": {},
     "output_type": "execute_result"
    }
   ],
   "source": [
    "# make a dataframe\n",
    "df = pd.DataFrame({\n",
    "    'datetime': data_date_time,\n",
    "    'confirmed': summary_confirmed_count,\n",
    "    'cured': summary_cured_count,\n",
    "    'dead': summary_dead_count\n",
    "}, index=[0])\n",
    "df"
   ]
  },
  {
   "cell_type": "markdown",
   "metadata": {},
   "source": [
    "### Save to file"
   ]
  },
  {
   "cell_type": "code",
   "execution_count": 11,
   "metadata": {},
   "outputs": [],
   "source": [
    "from pathlib import Path\n",
    "csv_file = '../data/china-summary-cases.csv'\n",
    "\n",
    "if Path(csv_file).exists():\n",
    "    # read out the old data - then merge with new data and remove duplicates based on datetime\n",
    "    old_df = pd.read_csv(csv_file)\n",
    "    df = df.append(old_df)\n",
    "df.drop_duplicates(subset=['datetime'], inplace=True)"
   ]
  },
  {
   "cell_type": "code",
   "execution_count": 12,
   "metadata": {},
   "outputs": [],
   "source": [
    "df.sort_values(by=['datetime'], inplace=True)\n",
    "\n",
    "df.to_csv(csv_file, index=False)\n"
   ]
  },
  {
   "cell_type": "markdown",
   "metadata": {},
   "source": [
    "### Plot graph"
   ]
  },
  {
   "cell_type": "code",
   "execution_count": 13,
   "metadata": {},
   "outputs": [],
   "source": [
    "import seaborn as sns\n",
    "import matplotlib.pyplot as plt\n",
    "from pandas.plotting import register_matplotlib_converters\n",
    "register_matplotlib_converters()\n",
    "\n",
    "png_file = '../images/china-summary-cases.png'\n",
    "# convert to pd.datetime\n",
    "df['datetime_idx'] = pd.to_datetime(df['datetime'], format=\"%Y-%m-%d %H:%M\")\n",
    "\n",
    "df.set_index('datetime_idx', inplace=True)\n",
    "df.drop(['datetime'], axis=1, inplace=True)\n"
   ]
  },
  {
   "cell_type": "code",
   "execution_count": 14,
   "metadata": {},
   "outputs": [
    {
     "data": {
      "text/html": [
       "<div>\n",
       "<style scoped>\n",
       "    .dataframe tbody tr th:only-of-type {\n",
       "        vertical-align: middle;\n",
       "    }\n",
       "\n",
       "    .dataframe tbody tr th {\n",
       "        vertical-align: top;\n",
       "    }\n",
       "\n",
       "    .dataframe thead th {\n",
       "        text-align: right;\n",
       "    }\n",
       "</style>\n",
       "<table border=\"1\" class=\"dataframe\">\n",
       "  <thead>\n",
       "    <tr style=\"text-align: right;\">\n",
       "      <th></th>\n",
       "      <th>confirmed</th>\n",
       "      <th>cured</th>\n",
       "      <th>dead</th>\n",
       "    </tr>\n",
       "    <tr>\n",
       "      <th>datetime_idx</th>\n",
       "      <th></th>\n",
       "      <th></th>\n",
       "      <th></th>\n",
       "    </tr>\n",
       "  </thead>\n",
       "  <tbody>\n",
       "    <tr>\n",
       "      <th>2020-02-02 10:22:00</th>\n",
       "      <td>14483</td>\n",
       "      <td>379</td>\n",
       "      <td>304</td>\n",
       "    </tr>\n",
       "    <tr>\n",
       "      <th>2020-02-02 10:28:00</th>\n",
       "      <td>14483</td>\n",
       "      <td>380</td>\n",
       "      <td>304</td>\n",
       "    </tr>\n",
       "    <tr>\n",
       "      <th>2020-02-02 11:19:00</th>\n",
       "      <td>14489</td>\n",
       "      <td>385</td>\n",
       "      <td>304</td>\n",
       "    </tr>\n",
       "    <tr>\n",
       "      <th>2020-02-02 11:54:00</th>\n",
       "      <td>14489</td>\n",
       "      <td>397</td>\n",
       "      <td>304</td>\n",
       "    </tr>\n",
       "    <tr>\n",
       "      <th>2020-02-02 15:01:00</th>\n",
       "      <td>14490</td>\n",
       "      <td>430</td>\n",
       "      <td>304</td>\n",
       "    </tr>\n",
       "    <tr>\n",
       "      <th>...</th>\n",
       "      <td>...</td>\n",
       "      <td>...</td>\n",
       "      <td>...</td>\n",
       "    </tr>\n",
       "    <tr>\n",
       "      <th>2020-03-26 09:04:00</th>\n",
       "      <td>81988</td>\n",
       "      <td>74200</td>\n",
       "      <td>3293</td>\n",
       "    </tr>\n",
       "    <tr>\n",
       "      <th>2020-03-26 10:05:00</th>\n",
       "      <td>82034</td>\n",
       "      <td>74204</td>\n",
       "      <td>3293</td>\n",
       "    </tr>\n",
       "    <tr>\n",
       "      <th>2020-03-26 10:59:00</th>\n",
       "      <td>82034</td>\n",
       "      <td>74204</td>\n",
       "      <td>3293</td>\n",
       "    </tr>\n",
       "    <tr>\n",
       "      <th>2020-03-26 11:55:00</th>\n",
       "      <td>82034</td>\n",
       "      <td>74204</td>\n",
       "      <td>3293</td>\n",
       "    </tr>\n",
       "    <tr>\n",
       "      <th>2020-03-26 12:21:00</th>\n",
       "      <td>82034</td>\n",
       "      <td>74204</td>\n",
       "      <td>3293</td>\n",
       "    </tr>\n",
       "  </tbody>\n",
       "</table>\n",
       "<p>810 rows × 3 columns</p>\n",
       "</div>"
      ],
      "text/plain": [
       "                     confirmed  cured  dead\n",
       "datetime_idx                               \n",
       "2020-02-02 10:22:00      14483    379   304\n",
       "2020-02-02 10:28:00      14483    380   304\n",
       "2020-02-02 11:19:00      14489    385   304\n",
       "2020-02-02 11:54:00      14489    397   304\n",
       "2020-02-02 15:01:00      14490    430   304\n",
       "...                        ...    ...   ...\n",
       "2020-03-26 09:04:00      81988  74200  3293\n",
       "2020-03-26 10:05:00      82034  74204  3293\n",
       "2020-03-26 10:59:00      82034  74204  3293\n",
       "2020-03-26 11:55:00      82034  74204  3293\n",
       "2020-03-26 12:21:00      82034  74204  3293\n",
       "\n",
       "[810 rows x 3 columns]"
      ]
     },
     "execution_count": 14,
     "metadata": {},
     "output_type": "execute_result"
    }
   ],
   "source": [
    "df"
   ]
  },
  {
   "cell_type": "code",
   "execution_count": 15,
   "metadata": {
    "scrolled": true
   },
   "outputs": [
    {
     "data": {
      "image/png": "[encoded data removed]",
      "text/plain": [
       "<Figure size 1008x1008 with 3 Axes>"
      ]
     },
     "metadata": {},
     "output_type": "display_data"
    }
   ],
   "source": [
    "if df.shape[0]>1:\n",
    "    # line chart when having at least a few points\n",
    "    sns.set(rc={'figure.figsize':(14,14)})\n",
    "    sns.set(style=\"whitegrid\")\n",
    "\n",
    "    fig, axs = plt.subplots(nrows=3)\n",
    "\n",
    "    sns.lineplot(x=df.index, y = 'confirmed', data=df, ax= axs[0], estimator=None, color='orange')\n",
    "    sns.lineplot(x=df.index, y = 'cured', data=df, ax= axs[1], estimator=None, color='green')\n",
    "    sns.lineplot(x=df.index, y = 'dead', data=df, ax= axs[2], estimator=None, color='darkred')\n",
    "\n",
    "    for ax in axs:\n",
    "        ax.set_xlabel('')\n",
    "        ax.tick_params(axis='x', labelrotation=30)\n",
    "else:\n",
    "\n",
    "    ax = df.plot(kind='bar', stacked=True, figsize=(9,6))\n",
    "    fig = ax.get_figure()\n",
    "    ax.set_xlabel('')\n",
    "    for label in ax.get_xticklabels():\n",
    "        label.set_rotation(0) \n"
   ]
  },
  {
   "cell_type": "code",
   "execution_count": 16,
   "metadata": {},
   "outputs": [],
   "source": [
    "fig.savefig(png_file)"
   ]
  },
  {
   "cell_type": "code",
   "execution_count": null,
   "metadata": {},
   "outputs": [],
   "source": []
  },
  {
   "cell_type": "code",
   "execution_count": null,
   "metadata": {},
   "outputs": [],
   "source": []
  }
 ],
 "metadata": {
  "kernelspec": {
   "display_name": "Python 3",
   "language": "python",
   "name": "python3"
  },
  "language_info": {
   "codemirror_mode": {
    "name": "ipython",
    "version": 3
   },
   "file_extension": ".py",
   "mimetype": "text/x-python",
   "name": "python",
   "nbconvert_exporter": "python",
   "pygments_lexer": "ipython3",
   "version": "3.7.6"
  }
 },
 "nbformat": 4,
 "nbformat_minor": 2
}
