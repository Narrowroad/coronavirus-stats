{
 "cells": [
  {
   "cell_type": "code",
   "execution_count": 1,
   "metadata": {},
   "outputs": [],
   "source": [
    "import pandas as pd\n",
    "import requests\n",
    "from bs4 import BeautifulSoup\n",
    "import re\n",
    "from datetime import datetime\n",
    "from selenium import webdriver\n",
    "from selenium.webdriver.chrome.options import Options  \n"
   ]
  },
  {
   "cell_type": "code",
   "execution_count": 2,
   "metadata": {},
   "outputs": [
    {
     "data": {
      "text/plain": [
       "datetime.datetime(2020, 4, 2, 7, 10, 15, 839871)"
      ]
     },
     "execution_count": 2,
     "metadata": {},
     "output_type": "execute_result"
    }
   ],
   "source": [
    "datetime.now()"
   ]
  },
  {
   "cell_type": "code",
   "execution_count": 3,
   "metadata": {},
   "outputs": [],
   "source": [
    "chrome_options = Options()  \n",
    "chrome_options.add_argument(\"--headless\")  \n",
    "chrome_options.add_argument(\"--no-sandbox\")\n",
    "\n",
    "driver = webdriver.Chrome('chromedriver', options=chrome_options)"
   ]
  },
  {
   "cell_type": "code",
   "execution_count": 4,
   "metadata": {},
   "outputs": [],
   "source": [
    "url = 'https://ncov.dxy.cn/ncovh5/view/pneumonia'\n",
    "driver.get(url)"
   ]
  },
  {
   "cell_type": "markdown",
   "metadata": {},
   "source": [
    "### Extract date"
   ]
  },
  {
   "cell_type": "code",
   "execution_count": 5,
   "metadata": {},
   "outputs": [],
   "source": [
    "content = driver.page_source\n",
    "soup =BeautifulSoup(content, 'lxml')\n"
   ]
  },
  {
   "cell_type": "code",
   "execution_count": 6,
   "metadata": {},
   "outputs": [
    {
     "data": {
      "text/plain": [
       "['try { window.getTimelineService1 = [{\"id\":22788,\"pubDate\":1585810307000,\"pubDateStr\":\"8分钟前\",\"title\":\"\\u200b格鲁吉亚新冠肺炎累计确诊130例 国家紧急状态持续至4月21日\",\"summary\":\"当地时间4月2日上午，格鲁吉亚政府疫情监测平台公布消息，格鲁吉亚境内累计确诊新冠肺炎病例130例，其中治愈26例。目前，共有5437人接受隔离，260人处于医学观察。因疫情发展，格政府已宣布国家紧急状态持续至4月21日。\",\"infoSource\":\"央视新闻app\",\"sourceUrl\":\"http://app.cctv.com/special/cportal/detail/arti/index.html?id=ArtiMDli5UShrmr4MOgbjwuc200402&isfromapp=1\",\"provinceId\":\"\"},{\"id\":22789,\"pubDate\":1585810279000,\"pubDateStr\":\"9分钟前\",\"title\":\"吉尔吉斯斯坦新增5例新冠肺炎确诊病例 累计确诊116例\",\"summary\":\"2日，吉尔吉斯斯坦卫生部发布消息称，截至当地时间11时，过去24小时内吉新增5例新冠肺炎确诊病例，累计确诊116例。此外，乌内务部2日宣布，1日当天全国共拘留上千名违反宵禁命令的居民，乌政府再次呼吁，无特殊需求，所有人都要待在家中，外出的公民必须有政府发放的通行证。\",\"infoSource\":\"央视新闻app\",\"sourceUrl\":\"http://app.cctv.com/special/cportal/detail/arti/index.html?id=ArtiuSepmrGSgLnAKWnWjPwu200402&isfromapp=1\",\"provinceId\":\"\"},{\"id\":22782,\"pubDate\":1585810074000,\"pubDateStr\":\"12分钟前\",\"title\":\"韩国出现首位因感染新冠病毒死亡的医务工作者\",\"summary\":\"2日，韩国一名感染新冠病毒的医生不治身亡，成为韩国首位感染新冠病毒死亡的医务工作者。据了解，这位现年59岁的医生在门诊时与确诊患者接触而在3月19日确诊感染了新冠病毒，之后在庆北大学医院住院接受治疗；4月1日因心肌梗塞而接受了心脏支架手术，但在2日还是由于心肌梗塞而死亡。\",\"infoSource\":\"央视新闻app\",\"sourceUrl\":\"http://app.cctv.com/special/cportal/detail/arti/index.html?id=Artijnlm0ueoHqfyIn0QwX8I200402&isfromapp=1\",\"provinceId\":\"\"},{\"id\":22780,\"pubDate\":1585809295000,\"pubDateStr\":\"25分钟前\",\"title\":\"湖南首例境外输入确诊病例详情披露  系一男性英国留学生\",\"summary\":\"记者从湖南郴州新冠肺炎疫情应急处置指挥部获悉，2020年4月1日0-24时，郴州市报告新冠肺炎新增确诊病例1例，为境外输入。目前患者正在定点医院隔离治疗，病情稳定。\",\"infoSource\":\"央视新闻app\",\"sourceUrl\":\"http://app.cctv.com/special/cportal/detail/arti/index.html?id=ArtiS3kQBPhXwPS5BQ2NFm1m200402&isfromapp=1\",\"provinceId\":\"\"},{\"id\":22781,\"pubDate\":1585809218000,\"pubDateStr\":\"26分钟前\",\"title\":\"孟加拉国新增2例新冠肺炎确诊病例 累计确诊56例\",\"summary\":\"当地时间4月2日，孟加拉国确认新增2例新冠肺炎确诊病例，均为男性。其中一名年龄在30-40岁之间，另外一名年龄在70-80岁之间。截至目前，该国共确诊56例新冠肺炎确诊病例， 治愈25例，死亡6例。\",\"infoSource\":\"央视新闻app\",\"sourceUrl\":\"http://app.cctv.com/special/cportal/detail/arti/index.html?id=ArtioEJJoPsg3WlFrNpQbdFr200402&isfromapp=1\",\"provinceId\":\"\"},{\"id\":22778,\"pubDate\":1585808924000,\"pubDateStr\":\"31分钟前\",\"title\":\"日本新增新冠肺炎感染者31人 累计达到2526人\",\"summary\":\"据日本放送协会消息，根据日本各地的地方自治团体和厚生劳动省通报的数据，截至当地时间2日下午3点，当天新增感染者31人，累计新冠肺炎确诊病例达到2526人。当天新增2例死亡病例，目前日本国内感染新冠肺炎患者的死亡人数为71人。\",\"infoSource\":\"央视新闻app\",\"sourceUrl\":\"http://app.cctv.com/special/cportal/detail/arti/index.html?id=Arti7TT3Uv15hHtzk8lAlRlx200402&isfromapp=1\",\"provinceId\":\"\"},{\"id\":22768,\"pubDate\":1585808526000,\"pubDateStr\":\"38分钟前\",\"title\":\"“居家令”实行第二天 记者探访美国民众生活\",\"summary\":\"为应对新冠肺炎疫情持续蔓延的严峻形势，美国首都华盛顿及相邻的弗吉尼亚、马里兰州从3月31日开始实施强制“居家令”，民众除超市、医疗、锻炼等基本生活需求外，均不得外出活动，违者将被处以最高5000美元罚款，甚至面临牢狱之灾。在“居家令”颁布后首日，总台央视记者前往所在生活社区进行探访，了解美国当地民众在戴口罩、手套等防护措施方面是否加强，采访美国民众对新冠肺炎疫情给生活带来影响的看法等。\",\"infoSource\":\"央视新闻app\",\"sourceUrl\":\"http://app.cctv.com/special/cportal/detail/arti/index.html?id=ArtifSxAKuhl9PRzmBrfArdQ200402&isfromapp=1\",\"provinceId\":\"\"},{\"id\":22767,\"pubDate\":1585808229000,\"pubDateStr\":\"43分钟前\",\"title\":\"\\u200b印度新冠肺炎确诊病例累计达1968例 死亡病例达50例\",\"summary\":\"近日印度新冠肺炎确诊病例呈快速上升趋势。据印度卫生部官方网站公布的最新数据，截至当地时间2日上午9点（北京时间2日11点30分），印度境内累计确诊病例已达1968例，其中死亡50例，治愈出院150例。据统计数据显示，过去24小时印度境内出现死亡病例12例，创疫情暴发以来单日死亡病例新高。\",\"infoSource\":\"央视新闻app\",\"sourceUrl\":\"http://app.cctv.com/special/cportal/detail/arti/index.html?id=Arti93PQ271phZrlsronFpUC200402&isfromapp=1\",\"provinceId\":\"\"},{\"id\":22766,\"pubDate\":1585807661000,\"pubDateStr\":\"52分钟前\",\"title\":\"胡钦勇的战“疫”：我更加理解了人生的价值\",\"summary\":\"在抗击新冠肺炎疫情的战斗中，湖北省政协委员、武汉大学人民医院院长助理兼汉南区人民医院院长胡钦勇临危受命，担任武汉体育中心方舱医院执行院长。从2月12日开舱到3月8日休舱，胡钦勇统筹带队的武汉体育中心方舱医院累计收治患者1056人。\",\"infoSource\":\"央视新闻app\",\"sourceUrl\":\"http://app.cctv.com/special/cportal/detail/arti/index.html?id=ArtiyTar7tmtBdw8nqQSlktu200402&isfromapp=1\",\"provinceId\":\"\"},{\"id\":22763,\"pubDate\":1585807337000,\"pubDateStr\":\"58分钟前\",\"title\":\"不如实申报健康情况 多人被海关行政立案并列入失信黑名单\",\"summary\":\"昨天（4月1日），海关总署对外通报近期查获的三起不如实填报健康申明卡的妨害国境卫生检疫行政违法案件。海关表示，不如实申报不仅面临行政处罚，甚至将移送司法机关追究刑事责任。\",\"infoSource\":\"央视新闻app\",\"sourceUrl\":\"http://app.cctv.com/special/cportal/detail/arti/index.html?id=Arti8n96RcF8BqktGqKf3jHk200402&isfromapp=1\",\"provinceId\":\"\"},{\"id\":22761,\"pubDate\":1585806977000,\"pubDateStr\":\"1小时前\",\"title\":\"泰国新增104例新冠肺炎确诊病例  累计确诊1875例\",\"summary\":\"4月2日，泰国卫生部在疫情例行发布会上透露，泰国新增104例新冠肺炎确诊病例，截止到目前，泰国累计确诊病例1875例，其中15例死亡，治愈505例，留院治疗1355例。\",\"infoSource\":\"央视新闻app\",\"sourceUrl\":\"http://app.cctv.com/special/cportal/detail/arti/index.html?id=ArtiBXyGXIyqM0ErvVb31IWs200402&isfromapp=1\",\"provinceId\":\"\"},{\"id\":22757,\"pubDate\":1585806388000,\"pubDateStr\":\"1小时前\",\"title\":\"医用口罩、防护服......中国政府援助俄罗斯抗疫物资离京赴俄\",\"summary\":\"\\\\n北京时间1日晚间，中国政府援助俄罗斯的抗疫物资离开北京前往俄罗斯莫斯科。为帮助俄罗斯政府应对新冠肺炎疫情，中国政府同意向俄罗斯政府援助抗疫物资，并负责将物资运至中国北京首都国际机场。运输物资的俄方安124客机北京时间23时01分起飞离开首都机场前往俄罗斯。预计当地时间2日货机将抵达莫斯科。\",\"infoSource\":\"央视新闻app\",\"sourceUrl\":\"http://app.cctv.com/special/cportal/detail/arti/index.html?id=ArtibyLCWowmt84jd7if3Tak200402&isfromapp=1\",\"provinceId\":\"\"},{\"id\":22755,\"pubDate\":1585806253000,\"pubDateStr\":\"1小时前\",\"title\":\"巴基斯坦总理称赞中国在抗击疫情中为巴方提供的帮助\",\"summary\":\"巴基斯坦总理伊姆兰·汗4月1日表示，中国刚一控制住国内的新冠肺炎疫情，就优先向巴基斯坦提供了医疗援助。他对中国向巴基斯坦及时提供医疗援助和医疗物资、帮助巴基斯坦控制疫情的做法表示赞赏和感谢。\",\"infoSource\":\"央视新闻app\",\"sourceUrl\":\"http://app.cctv.com/special/cportal/detail/arti/index.html?id=ArtiYJrc7UuGPQ4xJ95GUqKc200402&isfromapp=1\",\"provinceId\":\"\"},{\"id\":22748,\"pubDate\":1585805580000,\"pubDateStr\":\"1小时前\",\"title\":\"热评｜总书记浙江之行，就是一堂生动的新发展理念课\",\"summary\":\"疫情防控形势持续向好，经济社会秩序加快恢复。如何统筹推进新冠肺炎疫情防控和经济社会发展工作？理念很重要，理念就是指挥棒、红绿灯。\",\"infoSource\":\"央视新闻app\",\"sourceUrl\":\"http://app.cctv.com/special/cportal/detail/arti/index.html?id=ArtiQiMxIGmPPwzE2lV3LqDs200402&isfromapp=1\",\"provinceId\":\"\"},{\"id\":22749,\"pubDate\":1585805539000,\"pubDateStr\":\"1小时前\",\"title\":\"马来西亚“行动限制令”进入第二阶段 首都吉隆坡犯罪率减半\",\"summary\":\"当地时间4月1日，马来西亚为遏制新冠肺炎而实施的“行动限制令”进入第三周。首都吉隆坡街道上除了警方设置的检察过往车辆的路障外，还有警察定期巡查，这大大降低了当地偷盗和抢劫等刑事犯罪。\",\"infoSource\":\"央视新闻app\",\"sourceUrl\":\"http://app.cctv.com/special/cportal/detail/arti/index.html?id=ArtihSG9jQeWz77KiDNQHGad200402&isfromapp=1\",\"provinceId\":\"\"},{\"id\":22747,\"pubDate\":1585805232000,\"pubDateStr\":\"1小时前\",\"title\":\"乌兹别克斯坦新增确诊病例9例 累计181例\",\"summary\":\"乌兹别克斯坦卫生部发布消息称，截至当地时间2日上午10时，过去24小时内乌新增新冠肺炎确诊病例9例，累计确诊病例达181例，其中新增治愈4例，累计治愈12例，死亡2例。\",\"infoSource\":\"央视新闻app\",\"sourceUrl\":\"http://app.cctv.com/special/cportal/detail/arti/index.html?id=ArtiInQiy36T7zjbmLelJKfh200402&isfromapp=1\",\"provinceId\":\"\"},{\"id\":22741,\"pubDate\":1585804682000,\"pubDateStr\":\"1小时前\",\"title\":\"独家采访无症状感染者 曾有密接 毫无感觉\",\"summary\":\"3月17日，晓先生经过社区安排前往定点医院检查，当日下午确认核酸检测阳性，并于3月18日被收治入金银潭医院。\",\"infoSource\":\"央视新闻app\",\"sourceUrl\":\"http://app.cctv.com/special/cportal/detail/arti/index.html?id=Arti3TLIPm7chYGD1iX61kus200402&isfromapp=1\",\"provinceId\":\"\"},{\"id\":22743,\"pubDate\":1585804679000,\"pubDateStr\":\"1小时前\",\"title\":\"美国意大利西班牙累计确诊总和超42万\",\"summary\":\"美国意大利西班牙累计确诊总和超42万\",\"infoSource\":\"央视新闻\",\"sourceUrl\":\"http://m.weibo.cn/2656274875/4489252559682736\",\"provinceId\":\"\"},{\"id\":22739,\"pubDate\":1585804107000,\"pubDateStr\":\"1小时前\",\"title\":\"疫情中的西班牙民众\",\"summary\":\"截至当地时间4月1日，西班牙新冠肺炎累计确诊病例超过10万例，死亡病例达到9053例，成为全球疫情最严重的几个国家之一。西班牙中央政府正式宣布全国范围内“封城”后，加泰罗尼亚省首府巴塞罗那的街头不见往日喧嚣，加泰罗尼亚广场拉上了警戒线，市中心的店铺全部关闭，兰布拉大道上也空空荡荡。\",\"infoSource\":\"央视新闻app\",\"sourceUrl\":\"http://app.cctv.com/special/cportal/detail/arti/index.html?id=ArtipdMlSZfMoJIGN4wGC7Xy200402&isfromapp=1\",\"provinceId\":\"\"}]}catch(e){}',\n",
       " '截至北京时间 2020-04-02 06:54',\n",
       " '截至北京时间 2020-04-02 06:54',\n",
       " '2日，吉尔吉斯斯坦卫生部发布消息称，截至当地时间11时，过去24小时内吉新增5例新冠肺炎确诊病例，累计确诊116例。此外，乌内务部2日宣布，1日当天全国共拘留上千名违反宵禁命令的居民，乌政府再次呼吁，无特殊需求，所有人都要待在家中，外出的公民必须有政府发放的通行证。',\n",
       " '当地时间4月2日，孟加拉国确认新增2例新冠肺炎确诊病例，均为男性。其中一名年龄在30-40岁之间，另外一名年龄在70-80岁之间。截至目前，该国共确诊56例新冠肺炎确诊病例， 治愈25例，死亡6例。',\n",
       " '据日本放送协会消息，根据日本各地的地方自治团体和厚生劳动省通报的数据，截至当地时间2日下午3点，当天新增感染者31人，累计新冠肺炎确诊病例达到2526人。当天新增2例死亡病例，目前日本国内感染新冠肺炎患者的死亡人数为71人。',\n",
       " '近日印度新冠肺炎确诊病例呈快速上升趋势。据印度卫生部官方网站公布的最新数据，截至当地时间2日上午9点（北京时间2日11点30分），印度境内累计确诊病例已达1968例，其中死亡50例，治愈出院150例。据统计数据显示，过去24小时印度境内出现死亡病例12例，创疫情暴发以来单日死亡病例新高。',\n",
       " '乌兹别克斯坦卫生部发布消息称，截至当地时间2日上午10时，过去24小时内乌新增新冠肺炎确诊病例9例，累计确诊病例达181例，其中新增治愈4例，累计治愈12例，死亡2例。',\n",
       " '截至当地时间4月1日，西班牙新冠肺炎累计确诊病例超过10万例，死亡病例达到9053例，成为全球疫情最严重的几个国家之一。西班牙中央政府正式宣布全国范围内“封城”后，加泰罗尼亚省首府巴塞罗那的街头不见往日喧嚣，加泰罗尼亚广场拉上了警戒线，市中心的店铺全部关闭，兰布拉大道上也空空荡荡。']"
      ]
     },
     "execution_count": 6,
     "metadata": {},
     "output_type": "execute_result"
    }
   ],
   "source": [
    "data = soup.findAll(text=re.compile(\"截至.+\"))\n",
    "data"
   ]
  },
  {
   "cell_type": "code",
   "execution_count": 7,
   "metadata": {},
   "outputs": [
    {
     "data": {
      "text/plain": [
       "'2020-04-02 06:54'"
      ]
     },
     "execution_count": 7,
     "metadata": {},
     "output_type": "execute_result"
    }
   ],
   "source": [
    "for s in data:\n",
    "    m = re.search(\"截至.*(202\\d-\\d+-\\d+ \\d+:\\d+)\", s)\n",
    "    if m is not None:\n",
    "        data_date_time = m.group(1)\n",
    "data_date_time"
   ]
  },
  {
   "cell_type": "markdown",
   "metadata": {},
   "source": [
    "### Extract data (summary)"
   ]
  },
  {
   "cell_type": "code",
   "execution_count": 8,
   "metadata": {},
   "outputs": [
    {
     "data": {
      "text/plain": [
       "['try { window.getStatisticsService = {\"id\":1,\"createTime\":1579537899000,\"modifyTime\":1585810470000,\"infectSource\":\"该字段已替换为说明2\",\"passWay\":\"该字段已替换为说明3\",\"imgUrl\":\"https://img1.dxycdn.com/2020/0201/450/3394153392393266839-135.png\",\"dailyPic\":\"https://img1.dxycdn.com/2020/0211/763/3395998884005602079-135.png,https://img1.dxycdn.com/2020/0211/362/3395998896890788910-135.png,https://img1.dxycdn.com/2020/0211/365/3395998905480724211-135.png,https://img1.dxycdn.com/2020/0211/364/3395998916217859778-135.png,https://img1.dxycdn.com/2020/0211/922/3395998929103046444-135.png,https://img1.dxycdn.com/2020/0211/089/3395998939840182072-135.png\",\"dailyPics\":[\"https://img1.dxycdn.com/2020/0211/763/3395998884005602079-135.png\",\"https://img1.dxycdn.com/2020/0211/362/3395998896890788910-135.png\",\"https://img1.dxycdn.com/2020/0211/365/3395998905480724211-135.png\",\"https://img1.dxycdn.com/2020/0211/364/3395998916217859778-135.png\",\"https://img1.dxycdn.com/2020/0211/922/3395998929103046444-135.png\",\"https://img1.dxycdn.com/2020/0211/089/3395998939840182072-135.png\"],\"summary\":\"\",\"deleted\":false,\"countRemark\":\"\",\"currentConfirmedCount\":2944,\"confirmedCount\":82724,\"suspectedCount\":806,\"curedCount\":76459,\"deadCount\":3321,\"seriousCount\":1367,\"virus\":\"该字段已替换为说明1\",\"remark1\":\"易感人群：人群普遍易感。老年人及有基础疾病者感染后病情较重，儿童及婴幼儿也有发病\",\"remark2\":\"潜伏期：一般为 3～7 天，最长不超过 14 天，潜伏期内可能存在传染性，其中无症状病例传染性非常罕见\",\"remark3\":\"宿主：野生动物，可能为中华菊头蝠\",\"remark4\":\"\",\"remark5\":\"\",\"note1\":\"病毒：SARS-CoV-2，其导致疾病命名 COVID-19\",\"note2\":\"传染源：新冠肺炎的患者。无症状感染者也可能成为传染源。\",\"note3\":\"传播途径：经呼吸道飞沫、接触传播是主要的传播途径。气溶胶传播和消化道等传播途径尚待明确。\",\"generalRemark\":\"1. 3 月 12 日国家卫健委确诊补订遗漏 12 例确诊病例（非 12 日新增），暂无具体省份信息。 2. 浙江省 12 例外省治愈暂无具体省份信息。\",\"abroadRemark\":\"\",\"marquee\":[{\"id\":1854,\"marqueeLabel\":\"口罩\",\"marqueeContent\":\"要不要戴口罩，西方逐渐向东方靠拢\",\"marqueeLink\":\"https://dxy.me/rJ1gPo\"},{\"id\":1855,\"marqueeLabel\":\"回家\",\"marqueeContent\":\"中国驻英大使馆包机接小留学生回国\",\"marqueeLink\":\"https://dxy.me/Zc6NQy\"},{\"id\":1856,\"marqueeLabel\":\"数字新冠\",\"marqueeContent\":\"4 月 1 日，世界因新冠而变\",\"marqueeLink\":\"https://dxy.me/1cj1hw\"}],\"quanguoTrendChart\":[{\"imgUrl\":\"https://img1.dxycdn.com/2020/0324/278/3403801351376518263-135.png\",\"title\":\"新增疑似/新增确诊\"},{\"imgUrl\":\"https://img1.dxycdn.com/2020/0324/812/3403847865872006755-135.png\",\"title\":\"境外输入\"},{\"imgUrl\":\"https://img1.dxycdn.com/2020/0324/547/3403847848692336947-135.png\",\"title\":\"现存确诊\"},{\"imgUrl\":\"https://img1.dxycdn.com/2020/0324/775/3403801407211095604-135.png\",\"title\":\"治愈\"},{\"imgUrl\":\"https://img1.dxycdn.com/2020/0324/250/3403801424390727199-135.png\",\"title\":\"死亡\"}],\"hbFeiHbTrendChart\":[{\"imgUrl\":\"https://img1.dxycdn.com/2020/0326/624/3404177508906904585-135.png\",\"title\":\"非湖北新增确诊\"},{\"imgUrl\":\"https://img1.dxycdn.com/2020/0326/777/3404177532529485065-135.png\",\"title\":\"湖北新增确诊\"},{\"imgUrl\":\"https://img1.dxycdn.com/2020/0326/376/3404177556151805921-135.png\",\"title\":\"湖北现存确诊\"},{\"imgUrl\":\"https://img1.dxycdn.com/2020/0326/527/3404177575478899995-135.png\",\"title\":\"非湖北现存确诊\"},{\"imgUrl\":\"https://img1.dxycdn.com/2020/0326/419/3404177596953996726-135.png\",\"title\":\"治愈/死亡\"}],\"foreignTrendChart\":[{\"imgUrl\":\"https://img1.dxycdn.com/2020/0320/702/3403079914982117944-135.png\",\"title\":\"国外新增确诊\"},{\"imgUrl\":\"https://img1.dxycdn.com/2020/0320/396/3403079925719536561-135.png\",\"title\":\"国外累计确诊\"},{\"imgUrl\":\"https://img1.dxycdn.com/2020/0320/139/3403079936457225524-135.png\",\"title\":\"国外死亡\"}],\"importantForeignTrendChart\":[{\"imgUrl\":\"https://img1.dxycdn.com/2020/0320/450/3403077453965772423-135.png\",\"title\":\"重点国家新增确诊\"},{\"imgUrl\":\"https://img1.dxycdn.com/2020/0320/276/3403077462555980566-135.png\",\"title\":\"日本新增确诊\"},{\"imgUrl\":\"https://img1.dxycdn.com/2020/0320/340/3403077473293125942-135.png\",\"title\":\"意大利新增确诊\"},{\"imgUrl\":\"https://img1.dxycdn.com/2020/0320/723/3403077481883334043-135.png\",\"title\":\"伊朗新增确诊\"},{\"imgUrl\":\"https://img1.dxycdn.com/2020/0320/266/3403077492620752785-135.png\",\"title\":\"美国新增确诊\"},{\"imgUrl\":\"https://img1.dxycdn.com/2020/0320/870/3403077503358171278-135.png\",\"title\":\"法国新增确诊\"},{\"imgUrl\":\"https://img1.dxycdn.com/2020/0320/053/3403077511947832997-135.png\",\"title\":\"德国新增确诊\"},{\"imgUrl\":\"https://img1.dxycdn.com/2020/0320/878/3403077520537768006-135.png\",\"title\":\"西班牙新增确诊\"},{\"imgUrl\":\"https://img1.dxycdn.com/2020/0320/443/3403077531275186665-135.png\",\"title\":\"韩国新增确诊\"}],\"foreignTrendChartGlobal\":[{\"imgUrl\":\"https://img1.dxycdn.com/2020/0319/740/3402859458605738923-135.png\",\"title\":\"Daily New Cases\"},{\"imgUrl\":\"https://img1.dxycdn.com/2020/0319/351/3402856772103846114-135.png\",\"title\":\"Total Confirmed Cases\"},{\"imgUrl\":\"https://img1.dxycdn.com/2020/0319/236/3402856782841001789-135.png\",\"title\":\"Total Deaths Cases\"}],\"importantForeignTrendChartGlobal\":[{\"imgUrl\":\"https://img1.dxycdn.com/2020/0319/122/3402856838675578578-135.png\",\"title\":\"Daily New Cases\"},{\"imgUrl\":\"https://img1.dxycdn.com/2020/0319/685/3402856849412997239-135.png\",\"title\":\"Japan\"},{\"imgUrl\":\"https://img1.dxycdn.com/2020/0319/477/3402856860150678804-135.png\",\"title\":\"Italy\"},{\"imgUrl\":\"https://img1.dxycdn.com/2020/0319/454/3402856873035581014-135.png\",\"title\":\"Iran\"},{\"imgUrl\":\"https://img1.dxycdn.com/2020/0319/022/3402856883772999714-135.png\",\"title\":\"U.S.A.\"},{\"imgUrl\":\"https://img1.dxycdn.com/2020/0319/529/3402856894510155506-135.png\",\"title\":\"France\"},{\"imgUrl\":\"https://img1.dxycdn.com/2020/0319/211/3402856905247574064-135.png\",\"title\":\"Germany\"},{\"imgUrl\":\"https://img1.dxycdn.com/2020/0319/054/3402856913837508985-135.png\",\"title\":\"Spain\"},{\"imgUrl\":\"https://img1.dxycdn.com/2020/0319/088/3402856928870157852-135.png\",\"title\":\"Republic of Korea\"}],\"foreignStatistics\":{\"currentConfirmedCount\":693022,\"confirmedCount\":842517,\"suspectedCount\":4,\"curedCount\":106533,\"deadCount\":42962,\"suspectedIncr\":0,\"currentConfirmedIncr\":6073,\"confirmedIncr\":6625,\"curedIncr\":393,\"deadIncr\":159},\"globalStatistics\":{\"currentConfirmedCount\":695966,\"confirmedCount\":925241,\"curedCount\":182992,\"deadCount\":46283},\"globalOtherTrendChartData\":\"https://file1.dxycdn.com/2020/0402/340/3405464173734751626-135.json\"}}catch(e){}']"
      ]
     },
     "execution_count": 8,
     "metadata": {},
     "output_type": "execute_result"
    }
   ],
   "source": [
    "data = soup.findAll(text=re.compile('\\\"summary.+\\\"confirmedCount\\\":\\d'))\n",
    "\n",
    "data\n"
   ]
  },
  {
   "cell_type": "code",
   "execution_count": 9,
   "metadata": {},
   "outputs": [],
   "source": [
    "m = re.search('\\\"confirmedCount\\\":(\\d+)', data[0])\n",
    "summary_confirmed_count = int(m.group(1))\n",
    "\n",
    "\n",
    "m = re.search('\\\"curedCount\\\":(\\d+)', data[0])\n",
    "summary_cured_count = int(m.group(1))\n",
    "\n",
    "m = re.search('\\\"deadCount\\\":(\\d+)', data[0])\n",
    "summary_dead_count = int(m.group(1))\n"
   ]
  },
  {
   "cell_type": "code",
   "execution_count": 10,
   "metadata": {},
   "outputs": [
    {
     "data": {
      "text/html": [
       "<div>\n",
       "<style scoped>\n",
       "    .dataframe tbody tr th:only-of-type {\n",
       "        vertical-align: middle;\n",
       "    }\n",
       "\n",
       "    .dataframe tbody tr th {\n",
       "        vertical-align: top;\n",
       "    }\n",
       "\n",
       "    .dataframe thead th {\n",
       "        text-align: right;\n",
       "    }\n",
       "</style>\n",
       "<table border=\"1\" class=\"dataframe\">\n",
       "  <thead>\n",
       "    <tr style=\"text-align: right;\">\n",
       "      <th></th>\n",
       "      <th>datetime</th>\n",
       "      <th>confirmed</th>\n",
       "      <th>cured</th>\n",
       "      <th>dead</th>\n",
       "    </tr>\n",
       "  </thead>\n",
       "  <tbody>\n",
       "    <tr>\n",
       "      <th>0</th>\n",
       "      <td>2020-04-02 06:54</td>\n",
       "      <td>82724</td>\n",
       "      <td>76459</td>\n",
       "      <td>3321</td>\n",
       "    </tr>\n",
       "  </tbody>\n",
       "</table>\n",
       "</div>"
      ],
      "text/plain": [
       "           datetime  confirmed  cured  dead\n",
       "0  2020-04-02 06:54      82724  76459  3321"
      ]
     },
     "execution_count": 10,
     "metadata": {},
     "output_type": "execute_result"
    }
   ],
   "source": [
    "# make a dataframe\n",
    "df = pd.DataFrame({\n",
    "    'datetime': data_date_time,\n",
    "    'confirmed': summary_confirmed_count,\n",
    "    'cured': summary_cured_count,\n",
    "    'dead': summary_dead_count\n",
    "}, index=[0])\n",
    "df"
   ]
  },
  {
   "cell_type": "markdown",
   "metadata": {},
   "source": [
    "### Save to file"
   ]
  },
  {
   "cell_type": "code",
   "execution_count": 11,
   "metadata": {},
   "outputs": [],
   "source": [
    "from pathlib import Path\n",
    "csv_file = '../data/china-summary-cases.csv'\n",
    "\n",
    "if Path(csv_file).exists():\n",
    "    # read out the old data - then merge with new data and remove duplicates based on datetime\n",
    "    old_df = pd.read_csv(csv_file)\n",
    "    df = df.append(old_df)\n",
    "df.drop_duplicates(subset=['datetime'], inplace=True)"
   ]
  },
  {
   "cell_type": "code",
   "execution_count": 12,
   "metadata": {},
   "outputs": [],
   "source": [
    "df.sort_values(by=['datetime'], inplace=True)\n",
    "\n",
    "df.to_csv(csv_file, index=False)\n"
   ]
  },
  {
   "cell_type": "markdown",
   "metadata": {},
   "source": [
    "### Plot graph"
   ]
  },
  {
   "cell_type": "code",
   "execution_count": 13,
   "metadata": {},
   "outputs": [],
   "source": [
    "import seaborn as sns\n",
    "import matplotlib.pyplot as plt\n",
    "from pandas.plotting import register_matplotlib_converters\n",
    "register_matplotlib_converters()\n",
    "\n",
    "png_file = '../images/china-summary-cases.png'\n",
    "# convert to pd.datetime\n",
    "df['datetime_idx'] = pd.to_datetime(df['datetime'], format=\"%Y-%m-%d %H:%M\")\n",
    "\n",
    "df.set_index('datetime_idx', inplace=True)\n",
    "df.drop(['datetime'], axis=1, inplace=True)\n"
   ]
  },
  {
   "cell_type": "code",
   "execution_count": 14,
   "metadata": {},
   "outputs": [
    {
     "data": {
      "text/html": [
       "<div>\n",
       "<style scoped>\n",
       "    .dataframe tbody tr th:only-of-type {\n",
       "        vertical-align: middle;\n",
       "    }\n",
       "\n",
       "    .dataframe tbody tr th {\n",
       "        vertical-align: top;\n",
       "    }\n",
       "\n",
       "    .dataframe thead th {\n",
       "        text-align: right;\n",
       "    }\n",
       "</style>\n",
       "<table border=\"1\" class=\"dataframe\">\n",
       "  <thead>\n",
       "    <tr style=\"text-align: right;\">\n",
       "      <th></th>\n",
       "      <th>confirmed</th>\n",
       "      <th>cured</th>\n",
       "      <th>dead</th>\n",
       "    </tr>\n",
       "    <tr>\n",
       "      <th>datetime_idx</th>\n",
       "      <th></th>\n",
       "      <th></th>\n",
       "      <th></th>\n",
       "    </tr>\n",
       "  </thead>\n",
       "  <tbody>\n",
       "    <tr>\n",
       "      <th>2020-02-02 10:22:00</th>\n",
       "      <td>14483</td>\n",
       "      <td>379</td>\n",
       "      <td>304</td>\n",
       "    </tr>\n",
       "    <tr>\n",
       "      <th>2020-02-02 10:28:00</th>\n",
       "      <td>14483</td>\n",
       "      <td>380</td>\n",
       "      <td>304</td>\n",
       "    </tr>\n",
       "    <tr>\n",
       "      <th>2020-02-02 11:19:00</th>\n",
       "      <td>14489</td>\n",
       "      <td>385</td>\n",
       "      <td>304</td>\n",
       "    </tr>\n",
       "    <tr>\n",
       "      <th>2020-02-02 11:54:00</th>\n",
       "      <td>14489</td>\n",
       "      <td>397</td>\n",
       "      <td>304</td>\n",
       "    </tr>\n",
       "    <tr>\n",
       "      <th>2020-02-02 15:01:00</th>\n",
       "      <td>14490</td>\n",
       "      <td>430</td>\n",
       "      <td>304</td>\n",
       "    </tr>\n",
       "    <tr>\n",
       "      <th>...</th>\n",
       "      <td>...</td>\n",
       "      <td>...</td>\n",
       "      <td>...</td>\n",
       "    </tr>\n",
       "    <tr>\n",
       "      <th>2020-04-02 02:22:00</th>\n",
       "      <td>82724</td>\n",
       "      <td>76459</td>\n",
       "      <td>3321</td>\n",
       "    </tr>\n",
       "    <tr>\n",
       "      <th>2020-04-02 03:48:00</th>\n",
       "      <td>82724</td>\n",
       "      <td>76459</td>\n",
       "      <td>3321</td>\n",
       "    </tr>\n",
       "    <tr>\n",
       "      <th>2020-04-02 04:51:00</th>\n",
       "      <td>82724</td>\n",
       "      <td>76459</td>\n",
       "      <td>3321</td>\n",
       "    </tr>\n",
       "    <tr>\n",
       "      <th>2020-04-02 06:02:00</th>\n",
       "      <td>82724</td>\n",
       "      <td>76459</td>\n",
       "      <td>3321</td>\n",
       "    </tr>\n",
       "    <tr>\n",
       "      <th>2020-04-02 06:54:00</th>\n",
       "      <td>82724</td>\n",
       "      <td>76459</td>\n",
       "      <td>3321</td>\n",
       "    </tr>\n",
       "  </tbody>\n",
       "</table>\n",
       "<p>921 rows × 3 columns</p>\n",
       "</div>"
      ],
      "text/plain": [
       "                     confirmed  cured  dead\n",
       "datetime_idx                               \n",
       "2020-02-02 10:22:00      14483    379   304\n",
       "2020-02-02 10:28:00      14483    380   304\n",
       "2020-02-02 11:19:00      14489    385   304\n",
       "2020-02-02 11:54:00      14489    397   304\n",
       "2020-02-02 15:01:00      14490    430   304\n",
       "...                        ...    ...   ...\n",
       "2020-04-02 02:22:00      82724  76459  3321\n",
       "2020-04-02 03:48:00      82724  76459  3321\n",
       "2020-04-02 04:51:00      82724  76459  3321\n",
       "2020-04-02 06:02:00      82724  76459  3321\n",
       "2020-04-02 06:54:00      82724  76459  3321\n",
       "\n",
       "[921 rows x 3 columns]"
      ]
     },
     "execution_count": 14,
     "metadata": {},
     "output_type": "execute_result"
    }
   ],
   "source": [
    "df"
   ]
  },
  {
   "cell_type": "code",
   "execution_count": 15,
   "metadata": {
    "scrolled": true
   },
   "outputs": [
    {
     "data": {
      "image/png": "[encoded data removed]",
      "text/plain": [
       "<Figure size 1008x1008 with 3 Axes>"
      ]
     },
     "metadata": {},
     "output_type": "display_data"
    }
   ],
   "source": [
    "if df.shape[0]>1:\n",
    "    # line chart when having at least a few points\n",
    "    sns.set(rc={'figure.figsize':(14,14)})\n",
    "    sns.set(style=\"whitegrid\")\n",
    "\n",
    "    fig, axs = plt.subplots(nrows=3)\n",
    "\n",
    "    sns.lineplot(x=df.index, y = 'confirmed', data=df, ax= axs[0], estimator=None, color='orange')\n",
    "    sns.lineplot(x=df.index, y = 'cured', data=df, ax= axs[1], estimator=None, color='green')\n",
    "    sns.lineplot(x=df.index, y = 'dead', data=df, ax= axs[2], estimator=None, color='darkred')\n",
    "\n",
    "    for ax in axs:\n",
    "        ax.set_xlabel('')\n",
    "        ax.tick_params(axis='x', labelrotation=30)\n",
    "else:\n",
    "\n",
    "    ax = df.plot(kind='bar', stacked=True, figsize=(9,6))\n",
    "    fig = ax.get_figure()\n",
    "    ax.set_xlabel('')\n",
    "    for label in ax.get_xticklabels():\n",
    "        label.set_rotation(0) \n"
   ]
  },
  {
   "cell_type": "code",
   "execution_count": 16,
   "metadata": {},
   "outputs": [],
   "source": [
    "fig.savefig(png_file)"
   ]
  },
  {
   "cell_type": "code",
   "execution_count": null,
   "metadata": {},
   "outputs": [],
   "source": []
  },
  {
   "cell_type": "code",
   "execution_count": null,
   "metadata": {},
   "outputs": [],
   "source": []
  }
 ],
 "metadata": {
  "kernelspec": {
   "display_name": "Python 3",
   "language": "python",
   "name": "python3"
  },
  "language_info": {
   "codemirror_mode": {
    "name": "ipython",
    "version": 3
   },
   "file_extension": ".py",
   "mimetype": "text/x-python",
   "name": "python",
   "nbconvert_exporter": "python",
   "pygments_lexer": "ipython3",
   "version": "3.7.6"
  }
 },
 "nbformat": 4,
 "nbformat_minor": 2
}
