{
 "cells": [
  {
   "cell_type": "code",
   "execution_count": 1,
   "metadata": {},
   "outputs": [],
   "source": [
    "import pandas as pd\n",
    "import requests\n",
    "from bs4 import BeautifulSoup\n",
    "import re\n",
    "from datetime import datetime\n",
    "from selenium import webdriver\n",
    "from selenium.webdriver.chrome.options import Options  \n"
   ]
  },
  {
   "cell_type": "code",
   "execution_count": 2,
   "metadata": {},
   "outputs": [
    {
     "data": {
      "text/plain": [
       "datetime.datetime(2020, 3, 29, 14, 8, 17, 864037)"
      ]
     },
     "execution_count": 2,
     "metadata": {},
     "output_type": "execute_result"
    }
   ],
   "source": [
    "datetime.now()"
   ]
  },
  {
   "cell_type": "code",
   "execution_count": 3,
   "metadata": {},
   "outputs": [],
   "source": [
    "chrome_options = Options()  \n",
    "chrome_options.add_argument(\"--headless\")  \n",
    "chrome_options.add_argument(\"--no-sandbox\")\n",
    "\n",
    "driver = webdriver.Chrome('chromedriver', options=chrome_options)"
   ]
  },
  {
   "cell_type": "code",
   "execution_count": 4,
   "metadata": {},
   "outputs": [],
   "source": [
    "url = 'https://ncov.dxy.cn/ncovh5/view/pneumonia'\n",
    "driver.get(url)"
   ]
  },
  {
   "cell_type": "markdown",
   "metadata": {},
   "source": [
    "### Extract date"
   ]
  },
  {
   "cell_type": "code",
   "execution_count": 5,
   "metadata": {},
   "outputs": [],
   "source": [
    "content = driver.page_source\n",
    "soup =BeautifulSoup(content, 'lxml')\n"
   ]
  },
  {
   "cell_type": "code",
   "execution_count": 6,
   "metadata": {},
   "outputs": [
    {
     "data": {
      "text/plain": [
       "['try { window.getTimelineService1 = [{\"id\":19428,\"pubDate\":1585488811000,\"pubDateStr\":\"30分钟前\",\"title\":\"甘肃29日最新通报：新增湖北输入新冠肺炎确诊病例1例 新增境外输入新冠肺炎确诊病例1例\",\"summary\":\"3月28日20时至3月29日20时，伊朗包机来甘311人中，共计确诊37例，累计治愈出院35例，现有2例在省级定点医院隔离治疗。3月28日20时至3月29日20时，其他航班回国来甘人员中，新增1例从英国入境上海来兰新冠肺炎确诊病例。累计确诊9例，累计治愈出院1例，现有4例在临夏州定点医院住院隔离治疗，4例在省级定点医院住院隔离治疗。累计追踪到密切接触者361人，已解除医学观察186人，其余175人\",\"infoSource\":\"央视新闻app\",\"sourceUrl\":\"http://app.cctv.com/special/cportal/detail/arti/index.html?id=ArtiXNyE1uvp512pta0d51Td200329&isfromapp=1\",\"provinceId\":\"\"},{\"id\":19421,\"pubDate\":1585488300000,\"pubDateStr\":\"39分钟前\",\"title\":\"美国医学专家接受ABC专访：新冠病毒起源于武汉华南海鲜市场是错误观点\",\"summary\":\"近日，杜兰大学医学院教授罗伯特·加里接受了美国广播公司（ABC）的专访。加里在专访中表示，武汉海鲜市场不是新冠病毒源头。加里在采访中表示，尽管许多人认为该病毒起源于中国武汉的一个海鲜市场，但这是一个错误观点。加里说： “我们的分析以及其他一些分析都指向了比那更早的起源。武汉那里肯定有一些病例，但绝不是该病毒的源头。”\",\"infoSource\":\"央视新闻app\",\"sourceUrl\":\"http://app.cctv.com/special/cportal/detail/arti/index.html?id=Artikp8iglLASPhiZZ4vMwMO200329&isfromapp=1\",\"provinceId\":\"\"},{\"id\":19415,\"pubDate\":1585488120000,\"pubDateStr\":\"42分钟前\",\"title\":\"哈萨克斯坦新增20例新冠肺炎确诊病例 累计确诊271例\",\"summary\":\"当地时间29日，哈萨克斯坦新冠肺炎疫情信息综合发布平台消息，截至当地时间18时，哈萨克斯坦新增20例新冠肺炎确诊病例，累计确诊271例。截至目前，哈萨克斯坦已经有有3个直辖市和11个州发现确诊病例。\",\"infoSource\":\"央视新闻app\",\"sourceUrl\":\"http://app.cctv.com/special/cportal/detail/arti/index.html?id=ArtiAjH63Ztonak6ELikZQ22200329&isfromapp=1\",\"provinceId\":\"\"},{\"id\":19416,\"pubDate\":1585488120000,\"pubDateStr\":\"42分钟前\",\"title\":\"英国新增新冠肺炎确诊病例2433例 累计19522例\",\"summary\":\"根据英国卫生与社会保健部消息，截至当地时间3月29日9点，英国新冠肺炎确诊病例达19522例，单日新增2510例。截至当地时间3月28日下午5点，死亡病例1228例，单日新增209例。\",\"infoSource\":\"央视新闻app\",\"sourceUrl\":\"http://app.cctv.com/special/cportal/detail/arti/index.html?id=Arti2xDgoIPzq9D7lwUfQrCd200329&isfromapp=1\",\"provinceId\":\"\"},{\"id\":19407,\"pubDate\":1585486622000,\"pubDateStr\":\"1小时前\",\"title\":\"泰国国会主席川·立派：中国抗疫成功经验值得各国学习\",\"summary\":\"当地时间28日，泰国国会主席兼众议院院长川·立派（Chuan Likphai）接受中央广播电视总台记者专访。泰国国会主席兼众议院院长\\xa0川·立派：根据我们一直观察到的情况，我认为中国在抗击疫情的思路方法所取得的成效 ，是值得很多国家效仿的。\",\"infoSource\":\"央视新闻app\",\"sourceUrl\":\"http://app.cctv.com/special/cportal/detail/arti/index.html?id=ArticIs4fQqhtwuITyuej263200329&isfromapp=1\",\"provinceId\":\"\"},{\"id\":19406,\"pubDate\":1585486200000,\"pubDateStr\":\"1小时前\",\"title\":\"沙特新增96例新冠肺炎确诊病例 累计确诊1299例\",\"summary\":\"沙特卫生部发言人当地时间29日下午向外界透露，沙特境内过去24小时新增96例新冠肺炎确诊病例。新增病例中28名患者为境外输入病例，在进入沙特境内后已被集中隔离，其余均为本地感染病例。至此沙特境内共计发现新冠肺炎确诊病例1299例，其中8名患者病重不治离世，66名患者已治愈出院。\",\"infoSource\":\"央视新闻app\",\"sourceUrl\":\"http://app.cctv.com/special/cportal/detail/arti/index.html?id=ArtiLeCzOlCCYxB5HMepwj7K200329&isfromapp=1\",\"provinceId\":\"\"},{\"id\":19399,\"pubDate\":1585485426000,\"pubDateStr\":\"1小时前\",\"title\":\"荷兰新增1104例新冠肺炎确诊病例，累计确诊10866例\",\"summary\":\"当地时间3月29日下午，据荷兰卫生部门最新通报，在过去24小时内，荷兰境内新增新冠肺炎确诊病例1104例，新增死亡病例132例。截至目前，荷兰境内累计确诊已过万，达10866例，累计死亡771例。\",\"infoSource\":\"央视新闻app\",\"sourceUrl\":\"http://app.cctv.com/special/cportal/detail/arti/index.html?id=ArtiI1T2XOQL5duNfJQjJ0nu200329&isfromapp=1\",\"provinceId\":\"\"},{\"id\":19402,\"pubDate\":1585485168000,\"pubDateStr\":\"1小时前\",\"title\":\"斯洛伐克新增新冠肺炎确诊病例22例 累计确诊314例\",\"summary\":\"当地时间3月29日，斯洛伐克公共卫生局通报称，当地时间28日该国境内新增新冠肺炎确诊病例22例，累计确诊314例，其中包括2例康复病例，无死亡病例。\",\"infoSource\":\"央视新闻app\",\"sourceUrl\":\"http://app.cctv.com/special/cportal/detail/arti/index.html?id=ArtiW3MzlMkOFhJsA0OWJuXp200329&isfromapp=1\",\"provinceId\":\"\"},{\"id\":19394,\"pubDate\":1585485082000,\"pubDateStr\":\"1小时前\",\"title\":\"新加坡新增42例新冠肺炎确诊病例\",\"summary\":\"当地时间3月29日，新加坡卫生部宣布，该国当天（29日）新增42例新冠肺炎确诊病例，其中24例为输入病例，18例为社区感染病例，总感染人数上升至844例。\",\"infoSource\":\"央视新闻app\",\"sourceUrl\":\"http://app.cctv.com/special/cportal/detail/arti/index.html?id=ArtiOBHDEdF4d3I93Lx4PqHw200329&isfromapp=1\",\"provinceId\":\"\"},{\"id\":19391,\"pubDate\":1585484606000,\"pubDateStr\":\"1小时前\",\"title\":\"\\u200b安道尔新冠肺炎确诊病例增至334例 死亡病例6例\",\"summary\":\"当地时间29日，据安道尔卫生部长贝纳泽的最新通报，安道尔境内累计新冠肺炎确诊病例已增至334例。\",\"infoSource\":\"央视新闻app\",\"sourceUrl\":\"http://app.cctv.com/special/cportal/detail/arti/index.html?id=ArtiEr5QepvVCuNEc6I6Njy4200329&isfromapp=1\",\"provinceId\":\"\"},{\"id\":19388,\"pubDate\":1585484403000,\"pubDateStr\":\"1小时前\",\"title\":\"国家卫健委：现有确诊病例降至3000例以下，新一轮传播扩散的可能性依然较大\",\"summary\":\"3月28日，现有确诊病例降至3000例以下，本土疫情传播已基本阻断。累计报告境外输入确诊病例693例，来自42个国家，其中数量较多的7个国家占总数的83.4%。当前，要继续防范本土病例零星散发和境外输入病例传播的双重风险。\\\\n\",\"infoSource\":\"人民日报海外网\",\"sourceUrl\":\"http://m.weibo.cn/3057540037/4487909224607403\",\"provinceId\":\"\"},{\"id\":19386,\"pubDate\":1585484342000,\"pubDateStr\":\"1小时前\",\"title\":\"赞比亚新冠肺炎确诊病例增至29例\",\"summary\":\"当地时间3月29日，赞比亚卫生部长奇塔卢·奇卢菲亚在会上通报，截至当地时间3月29日，赞比亚境内新冠肺炎确诊病例增至29例\",\"infoSource\":\"央视新闻app\",\"sourceUrl\":\"http://app.cctv.com/special/cportal/detail/arti/index.html?id=ArtiFn9kO2XzUbjA6X24FQL6200329&isfromapp=1\",\"provinceId\":\"\"},{\"id\":19382,\"pubDate\":1585484018000,\"pubDateStr\":\"1小时前\",\"title\":\"世卫组织：全球累计确诊超过57万例\",\"summary\":\"世界卫生组织28日公布的数据显示，全球新冠肺炎确诊病例已超过57万例，中国以外确诊病例超过49万例。世卫组织的统计数据显示，全球新冠肺炎确诊病例已达到575444例，24小时内新增62743例；累计死亡病例26654例。\",\"infoSource\":\"央视新闻app\",\"sourceUrl\":\"http://app.cctv.com/special/cportal/detail/arti/index.html?id=ArtihDw8wnzOYa5HbdlkYfgv200329&isfromapp=1\",\"provinceId\":\"\"}]}catch(e){}',\n",
       " '截至北京时间 2020-03-29 14:06',\n",
       " '截至北京时间 2020-03-29 14:06',\n",
       " '当地时间29日，哈萨克斯坦新冠肺炎疫情信息综合发布平台消息，截至当地时间18时，哈萨克斯坦新增20例新冠肺炎确诊病例，累计确诊271例。截至目前，哈萨克斯坦已经有有3个直辖市和11个州发现确诊病例。',\n",
       " '根据英国卫生与社会保健部消息，截至当地时间3月29日9点，英国新冠肺炎确诊病例达19522例，单日新增2510例。截至当地时间3月28日下午5点，死亡病例1228例，单日新增209例。',\n",
       " '当地时间3月29日下午，据荷兰卫生部门最新通报，在过去24小时内，荷兰境内新增新冠肺炎确诊病例1104例，新增死亡病例132例。截至目前，荷兰境内累计确诊已过万，达10866例，累计死亡771例。',\n",
       " '当地时间3月29日，赞比亚卫生部长奇塔卢·奇卢菲亚在会上通报，截至当地时间3月29日，赞比亚境内新冠肺炎确诊病例增至29例']"
      ]
     },
     "execution_count": 6,
     "metadata": {},
     "output_type": "execute_result"
    }
   ],
   "source": [
    "data = soup.findAll(text=re.compile(\"截至.+\"))\n",
    "data"
   ]
  },
  {
   "cell_type": "code",
   "execution_count": 7,
   "metadata": {},
   "outputs": [
    {
     "data": {
      "text/plain": [
       "'2020-03-29 14:06'"
      ]
     },
     "execution_count": 7,
     "metadata": {},
     "output_type": "execute_result"
    }
   ],
   "source": [
    "for s in data:\n",
    "    m = re.search(\"截至.*(202\\d-\\d+-\\d+ \\d+:\\d+)\", s)\n",
    "    if m is not None:\n",
    "        data_date_time = m.group(1)\n",
    "data_date_time"
   ]
  },
  {
   "cell_type": "markdown",
   "metadata": {},
   "source": [
    "### Extract data (summary)"
   ]
  },
  {
   "cell_type": "code",
   "execution_count": 8,
   "metadata": {},
   "outputs": [
    {
     "data": {
      "text/plain": [
       "['try { window.getStatisticsService = {\"id\":1,\"createTime\":1579537899000,\"modifyTime\":1585490791000,\"infectSource\":\"该字段已替换为说明2\",\"passWay\":\"该字段已替换为说明3\",\"imgUrl\":\"https://img1.dxycdn.com/2020/0201/450/3394153392393266839-135.png\",\"dailyPic\":\"https://img1.dxycdn.com/2020/0211/763/3395998884005602079-135.png,https://img1.dxycdn.com/2020/0211/362/3395998896890788910-135.png,https://img1.dxycdn.com/2020/0211/365/3395998905480724211-135.png,https://img1.dxycdn.com/2020/0211/364/3395998916217859778-135.png,https://img1.dxycdn.com/2020/0211/922/3395998929103046444-135.png,https://img1.dxycdn.com/2020/0211/089/3395998939840182072-135.png\",\"dailyPics\":[\"https://img1.dxycdn.com/2020/0211/763/3395998884005602079-135.png\",\"https://img1.dxycdn.com/2020/0211/362/3395998896890788910-135.png\",\"https://img1.dxycdn.com/2020/0211/365/3395998905480724211-135.png\",\"https://img1.dxycdn.com/2020/0211/364/3395998916217859778-135.png\",\"https://img1.dxycdn.com/2020/0211/922/3395998929103046444-135.png\",\"https://img1.dxycdn.com/2020/0211/089/3395998939840182072-135.png\"],\"summary\":\"\",\"deleted\":false,\"countRemark\":\"\",\"currentConfirmedCount\":3508,\"confirmedCount\":82420,\"suspectedCount\":693,\"curedCount\":75606,\"deadCount\":3306,\"seriousCount\":742,\"suspectedIncr\":44,\"currentConfirmedIncr\":-282,\"confirmedIncr\":207,\"curedIncr\":484,\"deadIncr\":5,\"seriousIncr\":-179,\"virus\":\"该字段已替换为说明1\",\"remark1\":\"易感人群：人群普遍易感。老年人及有基础疾病者感染后病情较重，儿童及婴幼儿也有发病\",\"remark2\":\"潜伏期：一般为 3～7 天，最长不超过 14 天，潜伏期内可能存在传染性，其中无症状病例传染性非常罕见\",\"remark3\":\"宿主：野生动物，可能为中华菊头蝠\",\"remark4\":\"\",\"remark5\":\"\",\"note1\":\"病毒：SARS-CoV-2，其导致疾病命名 COVID-19\",\"note2\":\"传染源：新冠肺炎的患者。无症状感染者也可能成为传染源。\",\"note3\":\"传播途径：经呼吸道飞沫、接触传播是主要的传播途径。气溶胶传播和消化道等传播途径尚待明确。\",\"generalRemark\":\"1. 3 月 12 日国家卫健委确诊补订遗漏 12 例确诊病例（非 12 日新增），暂无具体省份信息。 2. 浙江省 12 例外省治愈暂无具体省份信息。\",\"abroadRemark\":\"\",\"marquee\":[{\"id\":1800,\"marqueeLabel\":\"武汉\",\"marqueeContent\":\"火车客运到站、市内轨道交通同日恢复\",\"marqueeLink\":\"https://dxy.me/sR3QrU\"},{\"id\":1801,\"marqueeLabel\":\"5分钟\",\"marqueeContent\":\"快速病毒检测技术在美上市应用\",\"marqueeLink\":\"https://dxy.me/qj4olR\"},{\"id\":1802,\"marqueeLabel\":\"数字新冠\",\"marqueeContent\":\"3 月 28 日，世界因新冠而变\",\"marqueeLink\":\"https://dxy.me/205erH\"}],\"quanguoTrendChart\":[{\"imgUrl\":\"https://img1.dxycdn.com/2020/0324/278/3403801351376518263-135.png\",\"title\":\"新增疑似/新增确诊\"},{\"imgUrl\":\"https://img1.dxycdn.com/2020/0324/812/3403847865872006755-135.png\",\"title\":\"境外输入\"},{\"imgUrl\":\"https://img1.dxycdn.com/2020/0324/547/3403847848692336947-135.png\",\"title\":\"现存确诊\"},{\"imgUrl\":\"https://img1.dxycdn.com/2020/0324/775/3403801407211095604-135.png\",\"title\":\"治愈\"},{\"imgUrl\":\"https://img1.dxycdn.com/2020/0324/250/3403801424390727199-135.png\",\"title\":\"死亡\"}],\"hbFeiHbTrendChart\":[{\"imgUrl\":\"https://img1.dxycdn.com/2020/0326/624/3404177508906904585-135.png\",\"title\":\"非湖北新增确诊\"},{\"imgUrl\":\"https://img1.dxycdn.com/2020/0326/777/3404177532529485065-135.png\",\"title\":\"湖北新增确诊\"},{\"imgUrl\":\"https://img1.dxycdn.com/2020/0326/376/3404177556151805921-135.png\",\"title\":\"湖北现存确诊\"},{\"imgUrl\":\"https://img1.dxycdn.com/2020/0326/527/3404177575478899995-135.png\",\"title\":\"非湖北现存确诊\"},{\"imgUrl\":\"https://img1.dxycdn.com/2020/0326/419/3404177596953996726-135.png\",\"title\":\"治愈/死亡\"}],\"foreignTrendChart\":[{\"imgUrl\":\"https://img1.dxycdn.com/2020/0320/702/3403079914982117944-135.png\",\"title\":\"国外新增确诊\"},{\"imgUrl\":\"https://img1.dxycdn.com/2020/0320/396/3403079925719536561-135.png\",\"title\":\"国外累计确诊\"},{\"imgUrl\":\"https://img1.dxycdn.com/2020/0320/139/3403079936457225524-135.png\",\"title\":\"国外死亡\"}],\"importantForeignTrendChart\":[{\"imgUrl\":\"https://img1.dxycdn.com/2020/0320/450/3403077453965772423-135.png\",\"title\":\"重点国家新增确诊\"},{\"imgUrl\":\"https://img1.dxycdn.com/2020/0320/276/3403077462555980566-135.png\",\"title\":\"日本新增确诊\"},{\"imgUrl\":\"https://img1.dxycdn.com/2020/0320/340/3403077473293125942-135.png\",\"title\":\"意大利新增确诊\"},{\"imgUrl\":\"https://img1.dxycdn.com/2020/0320/723/3403077481883334043-135.png\",\"title\":\"伊朗新增确诊\"},{\"imgUrl\":\"https://img1.dxycdn.com/2020/0320/266/3403077492620752785-135.png\",\"title\":\"美国新增确诊\"},{\"imgUrl\":\"https://img1.dxycdn.com/2020/0320/870/3403077503358171278-135.png\",\"title\":\"法国新增确诊\"},{\"imgUrl\":\"https://img1.dxycdn.com/2020/0320/053/3403077511947832997-135.png\",\"title\":\"德国新增确诊\"},{\"imgUrl\":\"https://img1.dxycdn.com/2020/0320/878/3403077520537768006-135.png\",\"title\":\"西班牙新增确诊\"},{\"imgUrl\":\"https://img1.dxycdn.com/2020/0320/443/3403077531275186665-135.png\",\"title\":\"韩国新增确诊\"}],\"foreignTrendChartGlobal\":[{\"imgUrl\":\"https://img1.dxycdn.com/2020/0319/740/3402859458605738923-135.png\",\"title\":\"Daily New Cases\"},{\"imgUrl\":\"https://img1.dxycdn.com/2020/0319/351/3402856772103846114-135.png\",\"title\":\"Total Confirmed Cases\"},{\"imgUrl\":\"https://img1.dxycdn.com/2020/0319/236/3402856782841001789-135.png\",\"title\":\"Total Deaths Cases\"}],\"importantForeignTrendChartGlobal\":[{\"imgUrl\":\"https://img1.dxycdn.com/2020/0319/122/3402856838675578578-135.png\",\"title\":\"Daily New Cases\"},{\"imgUrl\":\"https://img1.dxycdn.com/2020/0319/685/3402856849412997239-135.png\",\"title\":\"Japan\"},{\"imgUrl\":\"https://img1.dxycdn.com/2020/0319/477/3402856860150678804-135.png\",\"title\":\"Italy\"},{\"imgUrl\":\"https://img1.dxycdn.com/2020/0319/454/3402856873035581014-135.png\",\"title\":\"Iran\"},{\"imgUrl\":\"https://img1.dxycdn.com/2020/0319/022/3402856883772999714-135.png\",\"title\":\"U.S.A.\"},{\"imgUrl\":\"https://img1.dxycdn.com/2020/0319/529/3402856894510155506-135.png\",\"title\":\"France\"},{\"imgUrl\":\"https://img1.dxycdn.com/2020/0319/211/3402856905247574064-135.png\",\"title\":\"Germany\"},{\"imgUrl\":\"https://img1.dxycdn.com/2020/0319/054/3402856913837508985-135.png\",\"title\":\"Spain\"},{\"imgUrl\":\"https://img1.dxycdn.com/2020/0319/088/3402856928870157852-135.png\",\"title\":\"Republic of Korea\"}],\"foreignStatistics\":{\"currentConfirmedCount\":501664,\"confirmedCount\":598647,\"suspectedCount\":4,\"curedCount\":68328,\"deadCount\":28655,\"suspectedIncr\":0,\"currentConfirmedIncr\":24542,\"confirmedIncr\":30687,\"curedIncr\":4346,\"deadIncr\":1799},\"globalStatistics\":{\"currentConfirmedCount\":505172,\"confirmedCount\":681067,\"curedCount\":143934,\"deadCount\":31961,\"currentConfirmedIncr\":24260,\"confirmedIncr\":30894,\"curedIncr\":4830,\"deadIncr\":1804},\"globalOtherTrendChartData\":\"https://file1.dxycdn.com/2020/0329/837/3404721996943369118-135.json\"}}catch(e){}']"
      ]
     },
     "execution_count": 8,
     "metadata": {},
     "output_type": "execute_result"
    }
   ],
   "source": [
    "data = soup.findAll(text=re.compile('\\\"summary.+\\\"confirmedCount\\\":\\d'))\n",
    "\n",
    "data\n"
   ]
  },
  {
   "cell_type": "code",
   "execution_count": 9,
   "metadata": {},
   "outputs": [],
   "source": [
    "m = re.search('\\\"confirmedCount\\\":(\\d+)', data[0])\n",
    "summary_confirmed_count = int(m.group(1))\n",
    "\n",
    "\n",
    "m = re.search('\\\"curedCount\\\":(\\d+)', data[0])\n",
    "summary_cured_count = int(m.group(1))\n",
    "\n",
    "m = re.search('\\\"deadCount\\\":(\\d+)', data[0])\n",
    "summary_dead_count = int(m.group(1))\n"
   ]
  },
  {
   "cell_type": "code",
   "execution_count": 10,
   "metadata": {},
   "outputs": [
    {
     "data": {
      "text/html": [
       "<div>\n",
       "<style scoped>\n",
       "    .dataframe tbody tr th:only-of-type {\n",
       "        vertical-align: middle;\n",
       "    }\n",
       "\n",
       "    .dataframe tbody tr th {\n",
       "        vertical-align: top;\n",
       "    }\n",
       "\n",
       "    .dataframe thead th {\n",
       "        text-align: right;\n",
       "    }\n",
       "</style>\n",
       "<table border=\"1\" class=\"dataframe\">\n",
       "  <thead>\n",
       "    <tr style=\"text-align: right;\">\n",
       "      <th></th>\n",
       "      <th>datetime</th>\n",
       "      <th>confirmed</th>\n",
       "      <th>cured</th>\n",
       "      <th>dead</th>\n",
       "    </tr>\n",
       "  </thead>\n",
       "  <tbody>\n",
       "    <tr>\n",
       "      <th>0</th>\n",
       "      <td>2020-03-29 14:06</td>\n",
       "      <td>82420</td>\n",
       "      <td>75606</td>\n",
       "      <td>3306</td>\n",
       "    </tr>\n",
       "  </tbody>\n",
       "</table>\n",
       "</div>"
      ],
      "text/plain": [
       "           datetime  confirmed  cured  dead\n",
       "0  2020-03-29 14:06      82420  75606  3306"
      ]
     },
     "execution_count": 10,
     "metadata": {},
     "output_type": "execute_result"
    }
   ],
   "source": [
    "# make a dataframe\n",
    "df = pd.DataFrame({\n",
    "    'datetime': data_date_time,\n",
    "    'confirmed': summary_confirmed_count,\n",
    "    'cured': summary_cured_count,\n",
    "    'dead': summary_dead_count\n",
    "}, index=[0])\n",
    "df"
   ]
  },
  {
   "cell_type": "markdown",
   "metadata": {},
   "source": [
    "### Save to file"
   ]
  },
  {
   "cell_type": "code",
   "execution_count": 11,
   "metadata": {},
   "outputs": [],
   "source": [
    "from pathlib import Path\n",
    "csv_file = '../data/china-summary-cases.csv'\n",
    "\n",
    "if Path(csv_file).exists():\n",
    "    # read out the old data - then merge with new data and remove duplicates based on datetime\n",
    "    old_df = pd.read_csv(csv_file)\n",
    "    df = df.append(old_df)\n",
    "df.drop_duplicates(subset=['datetime'], inplace=True)"
   ]
  },
  {
   "cell_type": "code",
   "execution_count": 12,
   "metadata": {},
   "outputs": [],
   "source": [
    "df.sort_values(by=['datetime'], inplace=True)\n",
    "\n",
    "df.to_csv(csv_file, index=False)\n"
   ]
  },
  {
   "cell_type": "markdown",
   "metadata": {},
   "source": [
    "### Plot graph"
   ]
  },
  {
   "cell_type": "code",
   "execution_count": 13,
   "metadata": {},
   "outputs": [],
   "source": [
    "import seaborn as sns\n",
    "import matplotlib.pyplot as plt\n",
    "from pandas.plotting import register_matplotlib_converters\n",
    "register_matplotlib_converters()\n",
    "\n",
    "png_file = '../images/china-summary-cases.png'\n",
    "# convert to pd.datetime\n",
    "df['datetime_idx'] = pd.to_datetime(df['datetime'], format=\"%Y-%m-%d %H:%M\")\n",
    "\n",
    "df.set_index('datetime_idx', inplace=True)\n",
    "df.drop(['datetime'], axis=1, inplace=True)\n"
   ]
  },
  {
   "cell_type": "code",
   "execution_count": 14,
   "metadata": {},
   "outputs": [
    {
     "data": {
      "text/html": [
       "<div>\n",
       "<style scoped>\n",
       "    .dataframe tbody tr th:only-of-type {\n",
       "        vertical-align: middle;\n",
       "    }\n",
       "\n",
       "    .dataframe tbody tr th {\n",
       "        vertical-align: top;\n",
       "    }\n",
       "\n",
       "    .dataframe thead th {\n",
       "        text-align: right;\n",
       "    }\n",
       "</style>\n",
       "<table border=\"1\" class=\"dataframe\">\n",
       "  <thead>\n",
       "    <tr style=\"text-align: right;\">\n",
       "      <th></th>\n",
       "      <th>confirmed</th>\n",
       "      <th>cured</th>\n",
       "      <th>dead</th>\n",
       "    </tr>\n",
       "    <tr>\n",
       "      <th>datetime_idx</th>\n",
       "      <th></th>\n",
       "      <th></th>\n",
       "      <th></th>\n",
       "    </tr>\n",
       "  </thead>\n",
       "  <tbody>\n",
       "    <tr>\n",
       "      <th>2020-02-02 10:22:00</th>\n",
       "      <td>14483</td>\n",
       "      <td>379</td>\n",
       "      <td>304</td>\n",
       "    </tr>\n",
       "    <tr>\n",
       "      <th>2020-02-02 10:28:00</th>\n",
       "      <td>14483</td>\n",
       "      <td>380</td>\n",
       "      <td>304</td>\n",
       "    </tr>\n",
       "    <tr>\n",
       "      <th>2020-02-02 11:19:00</th>\n",
       "      <td>14489</td>\n",
       "      <td>385</td>\n",
       "      <td>304</td>\n",
       "    </tr>\n",
       "    <tr>\n",
       "      <th>2020-02-02 11:54:00</th>\n",
       "      <td>14489</td>\n",
       "      <td>397</td>\n",
       "      <td>304</td>\n",
       "    </tr>\n",
       "    <tr>\n",
       "      <th>2020-02-02 15:01:00</th>\n",
       "      <td>14490</td>\n",
       "      <td>430</td>\n",
       "      <td>304</td>\n",
       "    </tr>\n",
       "    <tr>\n",
       "      <th>...</th>\n",
       "      <td>...</td>\n",
       "      <td>...</td>\n",
       "      <td>...</td>\n",
       "    </tr>\n",
       "    <tr>\n",
       "      <th>2020-03-29 09:57:00</th>\n",
       "      <td>82419</td>\n",
       "      <td>75600</td>\n",
       "      <td>3306</td>\n",
       "    </tr>\n",
       "    <tr>\n",
       "      <th>2020-03-29 10:57:00</th>\n",
       "      <td>82419</td>\n",
       "      <td>75600</td>\n",
       "      <td>3306</td>\n",
       "    </tr>\n",
       "    <tr>\n",
       "      <th>2020-03-29 12:03:00</th>\n",
       "      <td>82419</td>\n",
       "      <td>75600</td>\n",
       "      <td>3306</td>\n",
       "    </tr>\n",
       "    <tr>\n",
       "      <th>2020-03-29 13:04:00</th>\n",
       "      <td>82419</td>\n",
       "      <td>75600</td>\n",
       "      <td>3306</td>\n",
       "    </tr>\n",
       "    <tr>\n",
       "      <th>2020-03-29 14:06:00</th>\n",
       "      <td>82420</td>\n",
       "      <td>75606</td>\n",
       "      <td>3306</td>\n",
       "    </tr>\n",
       "  </tbody>\n",
       "</table>\n",
       "<p>863 rows × 3 columns</p>\n",
       "</div>"
      ],
      "text/plain": [
       "                     confirmed  cured  dead\n",
       "datetime_idx                               \n",
       "2020-02-02 10:22:00      14483    379   304\n",
       "2020-02-02 10:28:00      14483    380   304\n",
       "2020-02-02 11:19:00      14489    385   304\n",
       "2020-02-02 11:54:00      14489    397   304\n",
       "2020-02-02 15:01:00      14490    430   304\n",
       "...                        ...    ...   ...\n",
       "2020-03-29 09:57:00      82419  75600  3306\n",
       "2020-03-29 10:57:00      82419  75600  3306\n",
       "2020-03-29 12:03:00      82419  75600  3306\n",
       "2020-03-29 13:04:00      82419  75600  3306\n",
       "2020-03-29 14:06:00      82420  75606  3306\n",
       "\n",
       "[863 rows x 3 columns]"
      ]
     },
     "execution_count": 14,
     "metadata": {},
     "output_type": "execute_result"
    }
   ],
   "source": [
    "df"
   ]
  },
  {
   "cell_type": "code",
   "execution_count": 15,
   "metadata": {
    "scrolled": true
   },
   "outputs": [
    {
     "data": {
      "image/png": "[encoded data removed]",
      "text/plain": [
       "<Figure size 1008x1008 with 3 Axes>"
      ]
     },
     "metadata": {},
     "output_type": "display_data"
    }
   ],
   "source": [
    "if df.shape[0]>1:\n",
    "    # line chart when having at least a few points\n",
    "    sns.set(rc={'figure.figsize':(14,14)})\n",
    "    sns.set(style=\"whitegrid\")\n",
    "\n",
    "    fig, axs = plt.subplots(nrows=3)\n",
    "\n",
    "    sns.lineplot(x=df.index, y = 'confirmed', data=df, ax= axs[0], estimator=None, color='orange')\n",
    "    sns.lineplot(x=df.index, y = 'cured', data=df, ax= axs[1], estimator=None, color='green')\n",
    "    sns.lineplot(x=df.index, y = 'dead', data=df, ax= axs[2], estimator=None, color='darkred')\n",
    "\n",
    "    for ax in axs:\n",
    "        ax.set_xlabel('')\n",
    "        ax.tick_params(axis='x', labelrotation=30)\n",
    "else:\n",
    "\n",
    "    ax = df.plot(kind='bar', stacked=True, figsize=(9,6))\n",
    "    fig = ax.get_figure()\n",
    "    ax.set_xlabel('')\n",
    "    for label in ax.get_xticklabels():\n",
    "        label.set_rotation(0) \n"
   ]
  },
  {
   "cell_type": "code",
   "execution_count": 16,
   "metadata": {},
   "outputs": [],
   "source": [
    "fig.savefig(png_file)"
   ]
  },
  {
   "cell_type": "code",
   "execution_count": null,
   "metadata": {},
   "outputs": [],
   "source": []
  },
  {
   "cell_type": "code",
   "execution_count": null,
   "metadata": {},
   "outputs": [],
   "source": []
  }
 ],
 "metadata": {
  "kernelspec": {
   "display_name": "Python 3",
   "language": "python",
   "name": "python3"
  },
  "language_info": {
   "codemirror_mode": {
    "name": "ipython",
    "version": 3
   },
   "file_extension": ".py",
   "mimetype": "text/x-python",
   "name": "python",
   "nbconvert_exporter": "python",
   "pygments_lexer": "ipython3",
   "version": "3.7.6"
  }
 },
 "nbformat": 4,
 "nbformat_minor": 2
}
