{
 "cells": [
  {
   "cell_type": "code",
   "execution_count": 1,
   "metadata": {},
   "outputs": [],
   "source": [
    "import requests\n",
    "import re\n",
    "import io\n",
    "from bs4 import BeautifulSoup\n",
    "from urllib.parse import urljoin\n",
    "from datetime import datetime\n",
    "# from PyPDF2 import PdfFileReader\n",
    "from pdfminer.high_level import extract_text\n",
    "import logging\n",
    "import sys\n",
    "import pandas as pd\n",
    "\n",
    "\n",
    "logger = logging.getLogger() \n",
    "logger.handlers = [logging.StreamHandler()]\n",
    "logger.setLevel(logging.INFO)\n"
   ]
  },
  {
   "cell_type": "code",
   "execution_count": 2,
   "metadata": {},
   "outputs": [],
   "source": [
    "csv_file = '../data/who-global-cases.csv'\n",
    "png_file = '../images/who-global-cases.png'"
   ]
  },
  {
   "cell_type": "code",
   "execution_count": 3,
   "metadata": {},
   "outputs": [
    {
     "data": {
      "text/plain": [
       "datetime.datetime(2020, 3, 29, 19, 8, 15, 902546)"
      ]
     },
     "execution_count": 3,
     "metadata": {},
     "output_type": "execute_result"
    }
   ],
   "source": [
    "# display the last execute time\n",
    "datetime.now()"
   ]
  },
  {
   "cell_type": "markdown",
   "metadata": {},
   "source": [
    "### Scraping"
   ]
  },
  {
   "cell_type": "code",
   "execution_count": 4,
   "metadata": {},
   "outputs": [],
   "source": [
    "def analyze_report(url):\n",
    "    '''\n",
    "    Analyze a situation report url\n",
    "    '''\n",
    "    response = requests.get(url)\n",
    "    # approach using Py2PDF\n",
    "    #     f_obj = io.BytesIO(response.content)\n",
    "    #     pdf = PdfFileReader(f_obj)\n",
    "    #     page_zero = pdf.getPage(0)  \n",
    "    #     text  = page_zero.extractText()\n",
    "\n",
    "    # using pdfminer\n",
    "    filename=re.sub(\"[\\:\\s\\.]\", \"\", str(datetime.now()))\n",
    "    open(filename, \"wb\").write(response.content)\n",
    "    text = extract_text(filename)\n",
    "    \n",
    "    try:\n",
    "        # use regular expression to extract date\n",
    "        p_date = re.compile(\"Data as reported by .+ (\\d+ \\w+ 202\\d)\")\n",
    "        m_date = p_date.search(text)\n",
    "        print(m_date)\n",
    "        report_date_str = m_date.group(1).replace(\"\\n\",\"\")\n",
    "        print(report_date_str, m_date.group(1))\n",
    "        report_date = datetime.strptime(report_date_str, '%d %B %Y').strftime('%Y-%m-%d')\n",
    "        print(report_date)\n",
    "        # use regular expression to extract global cases\n",
    "        p_global = re.compile(\"Globally ([\\s\\n0-9]+)\", re.DOTALL)\n",
    "        m_global = p_global.search(text)\n",
    "        global_cases_str = re.sub(r'[\\n\\s]', '', m_global.group(1))\n",
    "\n",
    "        global_cases = int(global_cases_str)\n",
    "\n",
    "        return {\"date\":report_date, \"global_cases\": global_cases, \"report_url\": url}\n",
    "    except AttributeError as e:\n",
    "        logger.warning(f'Unable to extract from \"{url}\" : {e}\\n.')\n",
    "        raise e\n",
    "\n"
   ]
  },
  {
   "cell_type": "code",
   "execution_count": 5,
   "metadata": {},
   "outputs": [],
   "source": [
    "def get_reports_urls(home_url):\n",
    "    '''\n",
    "    Extract situation reports URL from WHO's page\n",
    "    '''\n",
    "    # unable to analyse these reports\n",
    "    skipped_urls = [\n",
    "        'https://www.who.int/docs/default-source/coronaviruse/situation-reports/20200126-sitrep-6-2019--ncov.pdf',\n",
    "        'https://www.who.int/docs/default-source/coronaviruse/situation-reports/20200125-sitrep-5-2019-ncov.pdf',\n",
    "        'https://www.who.int/docs/default-source/coronaviruse/situation-reports/20200124-sitrep-4-2019-ncov.pdf',\n",
    "        'https://www.who.int/docs/default-source/coronaviruse/situation-reports/20200123-sitrep-3-2019-ncov.pdf',\n",
    "        'https://www.who.int/docs/default-source/coronaviruse/situation-reports/20200122-sitrep-2-2019-ncov.pdf',\n",
    "        'https://www.who.int/docs/default-source/coronaviruse/situation-reports/20200121-sitrep-1-2019-ncov.pdf'\n",
    "    ]  \n",
    "    \n",
    "    urls = []\n",
    "    response = requests.get(home_url)\n",
    "    soup = BeautifulSoup(response.content, 'lxml')\n",
    "    tags = soup.find_all('a')\n",
    "    for tag in tags:\n",
    "        if len(tag.contents)>0:\n",
    "            content = str(tag.contents[0])\n",
    "            if \"Situation report - \" in content:\n",
    "                url = urljoin(home_url ,  tag.get('href')).split('?')[0]\n",
    "                \n",
    "                if url not in skipped_urls:\n",
    "                    urls.append(url)\n",
    "\n",
    "    return urls\n"
   ]
  },
  {
   "cell_type": "code",
   "execution_count": null,
   "metadata": {},
   "outputs": [],
   "source": []
  },
  {
   "cell_type": "code",
   "execution_count": 6,
   "metadata": {},
   "outputs": [],
   "source": [
    "def get_WHO_stats():\n",
    "    reports_home_url = 'https://www.who.int/emergencies/diseases/novel-coronavirus-2019/situation-reports/'\n",
    "    reports_urls = get_reports_urls(reports_home_url)\n",
    "    df = pd.read_csv(csv_file)\n",
    "    for url in reports_urls:\n",
    "        if df['report_url'].str.contains(url).any():\n",
    "            print('already processed ', url, ' in previous runs')\n",
    "            continue\n",
    "        stats = analyze_report(url)\n",
    "        df = df.append(stats, ignore_index = True)\n",
    "    return df"
   ]
  },
  {
   "cell_type": "code",
   "execution_count": 7,
   "metadata": {},
   "outputs": [
    {
     "name": "stdout",
     "output_type": "stream",
     "text": [
      "['https://www.who.int/docs/default-source/coronaviruse/situation-reports/20200329-sitrep-69-covid-19.pdf', 'https://www.who.int/docs/default-source/coronaviruse/situation-reports/20200328-sitrep-68-covid-19.pdf', 'https://www.who.int/docs/default-source/coronaviruse/situation-reports/20200327-sitrep-67-covid-19.pdf', 'https://www.who.int/docs/default-source/coronaviruse/situation-reports/20200326-sitrep-66-covid-19.pdf', 'https://www.who.int/docs/default-source/coronaviruse/situation-reports/20200325-sitrep-65-covid-19.pdf', 'https://www.who.int/docs/default-source/coronaviruse/situation-reports/20200324-sitrep-64-covid-19.pdf', 'https://www.who.int/docs/default-source/coronaviruse/situation-reports/20200323-sitrep-63-covid-19.pdf', 'https://www.who.int/docs/default-source/coronaviruse/situation-reports/20200322-sitrep-62-covid-19.pdf', 'https://www.who.int/docs/default-source/coronaviruse/situation-reports/20200321-sitrep-61-covid-19.pdf', 'https://www.who.int/docs/default-source/coronaviruse/situation-reports/20200320-sitrep-60-covid-19.pdf', 'https://www.who.int/docs/default-source/coronaviruse/situation-reports/20200319-sitrep-59-covid-19.pdf', 'https://www.who.int/docs/default-source/coronaviruse/situation-reports/20200318-sitrep-58-covid-19.pdf', 'https://www.who.int/docs/default-source/coronaviruse/situation-reports/20200317-sitrep-57-covid-19.pdf', 'https://www.who.int/docs/default-source/coronaviruse/situation-reports/20200316-sitrep-56-covid-19.pdf', 'https://www.who.int/docs/default-source/coronaviruse/situation-reports/20200315-sitrep-55-covid-19.pdf', 'https://www.who.int/docs/default-source/coronaviruse/situation-reports/20200314-sitrep-54-covid-19.pdf', 'https://www.who.int/docs/default-source/coronaviruse/situation-reports/20200313-sitrep-53-covid-19.pdf', 'https://www.who.int/docs/default-source/coronaviruse/situation-reports/20200312-sitrep-52-covid-19.pdf', 'https://www.who.int/docs/default-source/coronaviruse/situation-reports/20200311-sitrep-51-covid-19.pdf', 'https://www.who.int/docs/default-source/coronaviruse/situation-reports/20200310-sitrep-50-covid-19.pdf', 'https://www.who.int/docs/default-source/coronaviruse/situation-reports/20200309-sitrep-49-covid-19.pdf', 'https://www.who.int/docs/default-source/coronaviruse/situation-reports/20200308-sitrep-48-covid-19.pdf', 'https://www.who.int/docs/default-source/coronaviruse/situation-reports/20200307-sitrep-47-covid-19.pdf', 'https://www.who.int/docs/default-source/coronaviruse/situation-reports/20200306-sitrep-46-covid-19.pdf', 'https://www.who.int/docs/default-source/coronaviruse/situation-reports/20200305-sitrep-45-covid-19.pdf', 'https://www.who.int/docs/default-source/coronaviruse/situation-reports/20200304-sitrep-44-covid-19.pdf', 'https://www.who.int/docs/default-source/coronaviruse/situation-reports/20200303-sitrep-43-covid-19.pdf', 'https://www.who.int/docs/default-source/coronaviruse/situation-reports/20200302-sitrep-42-covid-19.pdf', 'https://www.who.int/docs/default-source/coronaviruse/situation-reports/20200301-sitrep-41-covid-19.pdf', 'https://www.who.int/docs/default-source/coronaviruse/situation-reports/20200229-sitrep-40-covid-19.pdf', 'https://www.who.int/docs/default-source/coronaviruse/situation-reports/20200228-sitrep-39-covid-19.pdf', 'https://www.who.int/docs/default-source/coronaviruse/situation-reports/20200227-sitrep-38-covid-19.pdf', 'https://www.who.int/docs/default-source/coronaviruse/situation-reports/20200226-sitrep-37-covid-19.pdf', 'https://www.who.int/docs/default-source/coronaviruse/situation-reports/20200225-sitrep-36-covid-19.pdf', 'https://www.who.int/docs/default-source/coronaviruse/situation-reports/20200224-sitrep-35-covid-19.pdf', 'https://www.who.int/docs/default-source/coronaviruse/situation-reports/20200223-sitrep-34-covid-19.pdf', 'https://www.who.int/docs/default-source/coronaviruse/situation-reports/20200222-sitrep-33-covid-19.pdf', 'https://www.who.int/docs/default-source/coronaviruse/situation-reports/20200221-sitrep-32-covid-19.pdf', 'https://www.who.int/docs/default-source/coronaviruse/situation-reports/20200220-sitrep-31-covid-19.pdf', 'https://www.who.int/docs/default-source/coronaviruse/situation-reports/20200219-sitrep-30-covid-19.pdf', 'https://www.who.int/docs/default-source/coronaviruse/situation-reports/20200218-sitrep-29-covid-19.pdf', 'https://www.who.int/docs/default-source/coronaviruse/situation-reports/20200217-sitrep-28-covid-19.pdf', 'https://www.who.int/docs/default-source/coronaviruse/situation-reports/20200216-sitrep-27-covid-19.pdf', 'https://www.who.int/docs/default-source/coronaviruse/situation-reports/20200215-sitrep-26-covid-19.pdf', 'https://www.who.int/docs/default-source/coronaviruse/situation-reports/20200214-sitrep-25-covid-19.pdf', 'https://www.who.int/docs/default-source/coronaviruse/situation-reports/20200213-sitrep-24-covid-19.pdf', 'https://www.who.int/docs/default-source/coronaviruse/situation-reports/20200212-sitrep-23-ncov.pdf', 'https://www.who.int/docs/default-source/coronaviruse/situation-reports/20200211-sitrep-22-ncov.pdf', 'https://www.who.int/docs/default-source/coronaviruse/situation-reports/20200210-sitrep-21-ncov.pdf', 'https://www.who.int/docs/default-source/coronaviruse/situation-reports/20200209-sitrep-20-ncov.pdf', 'https://www.who.int/docs/default-source/coronaviruse/situation-reports/20200208-sitrep-19-ncov.pdf', 'https://www.who.int/docs/default-source/coronaviruse/situation-reports/20200207-sitrep-18-ncov.pdf', 'https://www.who.int/docs/default-source/coronaviruse/situation-reports/20200206-sitrep-17-ncov.pdf', 'https://www.who.int/docs/default-source/coronaviruse/situation-reports/20200205-sitrep-16-ncov.pdf', 'https://www.who.int/docs/default-source/coronaviruse/situation-reports/20200204-sitrep-15-ncov.pdf', 'https://www.who.int/docs/default-source/coronaviruse/situation-reports/20200203-sitrep-14-ncov.pdf', 'https://www.who.int/docs/default-source/coronaviruse/situation-reports/20200202-sitrep-13-ncov-v3.pdf', 'https://www.who.int/docs/default-source/coronaviruse/situation-reports/20200201-sitrep-12-ncov.pdf', 'https://www.who.int/docs/default-source/coronaviruse/situation-reports/20200131-sitrep-11-ncov.pdf', 'https://www.who.int/docs/default-source/coronaviruse/situation-reports/20200130-sitrep-10-ncov.pdf', 'https://www.who.int/docs/default-source/coronaviruse/situation-reports/20200129-sitrep-9-ncov-v2.pdf', 'https://www.who.int/docs/default-source/coronaviruse/situation-reports/20200128-sitrep-8-ncov-cleared.pdf', 'https://www.who.int/docs/default-source/coronaviruse/situation-reports/20200127-sitrep-7-2019--ncov.pdf']\n",
      "0     https://www.who.int/docs/default-source/corona...\n",
      "1     https://www.who.int/docs/default-source/corona...\n",
      "2     https://www.who.int/docs/default-source/corona...\n",
      "3     https://www.who.int/docs/default-source/corona...\n",
      "4     https://www.who.int/docs/default-source/corona...\n",
      "                            ...                        \n",
      "60    https://www.who.int/docs/default-source/corona...\n",
      "61    https://www.who.int/docs/default-source/corona...\n",
      "62    https://www.who.int/docs/default-source/corona...\n",
      "63    https://www.who.int/docs/default-source/corona...\n",
      "64    https://www.who.int/docs/default-source/corona...\n",
      "Name: report_url, Length: 65, dtype: object\n"
     ]
    }
   ],
   "source": [
    "reports_urls = get_reports_urls('https://www.who.int/emergencies/diseases/novel-coronavirus-2019/situation-reports')\n",
    "df = pd.read_csv(csv_file)\n",
    "print(reports_urls)\n",
    "print(df['report_url'])"
   ]
  },
  {
   "cell_type": "code",
   "execution_count": 8,
   "metadata": {},
   "outputs": [
    {
     "name": "stderr",
     "output_type": "stream",
     "text": [
      "xref found: pos=b'1173403'\n",
      "read_xref_from: start=1173403, token=/b'xref'\n",
      "xref objects: {}\n",
      "trailer: {'Size': 3695, 'Root': <PDFObjRef:1>, 'Info': <PDFObjRef:98>, 'ID': [b'\\xd7Q\\x0f\\xe8\\x0c\\xae\\xedB\\x9b\\x90\\x9c\\x9b\\x9b\\x1b\\xc5@', b'\\xd7Q\\x0f\\xe8\\x0c\\xae\\xedB\\x9b\\x90\\x9c\\x9b\\x9b\\x1b\\xc5@'], 'Prev': 1099340, 'XRefStm': 1092234}\n",
      "read_xref_from: start=1092234, token=3694\n",
      "xref stream: objid=(0, 3694), fields=1,4,2\n",
      "trailer: {'Type': /'XRef', 'Size': 3694, 'W': [1, 4, 2], 'Root': <PDFObjRef:1>, 'Info': <PDFObjRef:98>, 'ID': [b'\\xd7Q\\x0f\\xe8\\x0c\\xae\\xedB\\x9b\\x90\\x9c\\x9b\\x9b\\x1b\\xc5@', b'\\xd7Q\\x0f\\xe8\\x0c\\xae\\xedB\\x9b\\x90\\x9c\\x9b\\x9b\\x1b\\xc5@'], 'Filter': /'FlateDecode', 'Length': 6900}\n",
      "read_xref_from: start=1099340, token=/b'xref'\n",
      "xref objects: {1: (None, 17, 0), 2: (None, 170, 0), 3: (None, 290, 0), 4: (None, 741, 0), 5: (None, 6715, 0), 6: (None, 6877, 0), 7: (None, 7103, 0), 8: (None, 7156, 0), 9: (None, 7209, 0), 10: (None, 7380, 0), 11: (None, 7622, 0), 12: (None, 7796, 0), 13: (None, 8033, 0), 14: (None, 8204, 0), 15: (None, 8440, 0), 16: (None, 8875, 0), 17: (None, 9167, 0), 18: (None, 9337, 0), 19: (None, 9569, 0), 20: (None, 9701, 0), 21: (None, 9731, 0), 22: (None, 9891, 0), 23: (None, 9965, 0), 24: (None, 10216, 0), 25: (None, 10344, 0), 26: (None, 10374, 0), 27: (None, 10530, 0), 28: (None, 10604, 0), 29: (None, 10838, 0), 30: (None, 11041, 0), 31: (None, 11243, 0), 32: (None, 11377, 0), 33: (None, 11407, 0), 34: (None, 11569, 0), 35: (None, 11643, 0), 36: (None, 11885, 0), 37: (None, 12184, 0), 38: (None, 12483, 0), 39: (None, 12783, 0), 40: (None, 12960, 0), 41: (None, 13207, 0), 42: (None, 145003, 0), 43: (None, 158617, 0), 44: (None, 167141, 0), 45: (None, 167444, 0), 46: (None, 183629, 0), 47: (None, 183768, 0), 48: (None, 183798, 0), 49: (None, 183965, 0), 50: (None, 184039, 0), 51: (None, 184286, 0), 52: (None, 184568, 0), 53: (None, 202587, 0), 54: (None, 202869, 0), 55: (None, 219958, 0), 56: (None, 220250, 0), 57: (None, 237010, 0), 58: (None, 237350, 0), 59: (None, 250562, 0), 60: (None, 250813, 0), 61: (None, 251162, 0), 62: (None, 253938, 0), 63: (None, 318086, 0), 64: (None, 318514, 0), 65: (None, 325432, 0), 66: (None, 325559, 0), 67: (None, 325589, 0), 68: (None, 325744, 0), 69: (None, 325818, 0), 70: (None, 326064, 0), 71: (None, 326281, 0), 72: (None, 326478, 0), 73: (None, 326707, 0), 74: (None, 327006, 0), 75: (None, 327214, 0), 76: (None, 327421, 0), 77: (None, 327592, 0), 78: (None, 327783, 0), 79: (None, 327973, 0), 80: (None, 328154, 0), 81: (None, 328401, 0), 82: (None, 328639, 0), 83: (None, 328929, 0), 84: (None, 329217, 0), 85: (None, 329581, 0), 86: (None, 334688, 0), 87: (None, 334881, 0), 88: (None, 335097, 0), 89: (None, 335313, 0), 90: (None, 335528, 0), 91: (None, 335779, 0), 92: (None, 336015, 0), 93: (None, 336332, 0), 94: (None, 338378, 0), 95: (None, 338558, 0), 96: (None, 338809, 0), 97: (None, 339098, 0), 98: (None, 339386, 0), 125: (None, 345956, 0), 130: (None, 346007, 0), 3416: (None, 385112, 0), 3454: (None, 385164, 0), 3476: (None, 385216, 0), 3536: (None, 385268, 0), 3598: (None, 385322, 0), 3603: (None, 385380, 0), 3608: (None, 385438, 0), 3614: (None, 385496, 0), 3619: (None, 385554, 0), 3624: (None, 385612, 0), 3631: (None, 385670, 0), 3648: (None, 390586, 0), 3667: (None, 390641, 0), 3668: (None, 390944, 0), 3669: (None, 458519, 0), 3670: (None, 458593, 0), 3671: (None, 458652, 0), 3672: (None, 459179, 0), 3673: (None, 653162, 0), 3674: (None, 653894, 0), 3675: (None, 654479, 0), 3676: (None, 654508, 0), 3677: (None, 654537, 0), 3678: (None, 654838, 0), 3679: (None, 740101, 0), 3680: (None, 740437, 0), 3681: (None, 740746, 0), 3682: (None, 741049, 0), 3683: (None, 754204, 0), 3684: (None, 754249, 0), 3685: (None, 754554, 0), 3686: (None, 932085, 0), 3687: (None, 932646, 0), 3688: (None, 933063, 0), 3689: (None, 933092, 0), 3690: (None, 974439, 0), 3691: (None, 974676, 0), 3692: (None, 1089021, 0), 3693: (None, 1092187, 0), 3694: (None, 1092234, 0)}\n",
      "trailer: {'Size': 3695, 'Root': <PDFObjRef:1>, 'Info': <PDFObjRef:98>, 'ID': [b'\\xd7Q\\x0f\\xe8\\x0c\\xae\\xedB\\x9b\\x90\\x9c\\x9b\\x9b\\x1b\\xc5@', b'\\xd7Q\\x0f\\xe8\\x0c\\xae\\xedB\\x9b\\x90\\x9c\\x9b\\x9b\\x1b\\xc5@']}\n",
      "trailer: {'Size': 3695, 'Root': <PDFObjRef:1>, 'Info': <PDFObjRef:98>, 'ID': [b'\\xd7Q\\x0f\\xe8\\x0c\\xae\\xedB\\x9b\\x90\\x9c\\x9b\\x9b\\x1b\\xc5@', b'\\xd7Q\\x0f\\xe8\\x0c\\xae\\xedB\\x9b\\x90\\x9c\\x9b\\x9b\\x1b\\xc5@']}\n",
      "Pages: Kids=[<PDFObjRef:3>, <PDFObjRef:44>, <PDFObjRef:51>, <PDFObjRef:53>, <PDFObjRef:55>, <PDFObjRef:57>, <PDFObjRef:60>, <PDFObjRef:63>, <PDFObjRef:84>, <PDFObjRef:92>]\n",
      "Page: {'Type': /'Page', 'Parent': <PDFObjRef:2>, 'Resources': {'Font': {'F1': <PDFObjRef:5>, 'F2': <PDFObjRef:9>, 'F3': <PDFObjRef:11>, 'F4': <PDFObjRef:13>, 'F5': <PDFObjRef:17>, 'F6': <PDFObjRef:19>, 'F7': <PDFObjRef:24>, 'F8': <PDFObjRef:31>, 'F9': <PDFObjRef:39>}, 'ExtGState': {'GS7': <PDFObjRef:7>, 'GS8': <PDFObjRef:8>}, 'XObject': {'Image15': <PDFObjRef:15>, 'Image41': <PDFObjRef:41>, 'Image42': <PDFObjRef:42>}, 'ProcSet': [/'PDF', /'Text', /'ImageB', /'ImageC', /'ImageI']}, 'Annots': [<PDFObjRef:29>, <PDFObjRef:30>, <PDFObjRef:36>, <PDFObjRef:37>, <PDFObjRef:38>], 'MediaBox': [0, 0, 595.56, 842.04], 'Contents': <PDFObjRef:4>, 'Group': {'Type': /'Group', 'S': /'Transparency', 'CS': /'DeviceRGB'}, 'Tabs': /'S', 'StructParents': 0}\n",
      "Processing page: <PDFPage: Resources={'Font': {'F1': <PDFObjRef:5>, 'F2': <PDFObjRef:9>, 'F3': <PDFObjRef:11>, 'F4': <PDFObjRef:13>, 'F5': <PDFObjRef:17>, 'F6': <PDFObjRef:19>, 'F7': <PDFObjRef:24>, 'F8': <PDFObjRef:31>, 'F9': <PDFObjRef:39>}, 'ExtGState': {'GS7': <PDFObjRef:7>, 'GS8': <PDFObjRef:8>}, 'XObject': {'Image15': <PDFObjRef:15>, 'Image41': <PDFObjRef:41>, 'Image42': <PDFObjRef:42>}, 'ProcSet': [/'PDF', /'Text', /'ImageB', /'ImageC', /'ImageI']}, MediaBox=[0, 0, 595.56, 842.04]>\n",
      "render_contents: resources={'Font': {'F1': <PDFObjRef:5>, 'F2': <PDFObjRef:9>, 'F3': <PDFObjRef:11>, 'F4': <PDFObjRef:13>, 'F5': <PDFObjRef:17>, 'F6': <PDFObjRef:19>, 'F7': <PDFObjRef:24>, 'F8': <PDFObjRef:31>, 'F9': <PDFObjRef:39>}, 'ExtGState': {'GS7': <PDFObjRef:7>, 'GS8': <PDFObjRef:8>}, 'XObject': {'Image15': <PDFObjRef:15>, 'Image41': <PDFObjRef:41>, 'Image42': <PDFObjRef:42>}, 'ProcSet': [/'PDF', /'Text', /'ImageB', /'ImageC', /'ImageI']}, streams=[<PDFStream(4): raw=5901, {'Filter': /'FlateDecode', 'Length': 5899}>], ctm=(1, 0, 0, 1, 0, 0)\n",
      "get_font: create: objid=5, spec={'Type': /'Font', 'Subtype': /'TrueType', 'Name': /'F1', 'BaseFont': /'ArialMT', 'Encoding': /'WinAnsiEncoding', 'FontDescriptor': <PDFObjRef:6>, 'FirstChar': 32, 'LastChar': 45, 'Widths': <PDFObjRef:3670>}\n",
      "get_font: create: objid=9, spec={'Type': /'Font', 'Subtype': /'TrueType', 'Name': /'F2', 'BaseFont': /'BCDEEE+Calibri', 'Encoding': /'WinAnsiEncoding', 'FontDescriptor': <PDFObjRef:10>, 'FirstChar': 32, 'LastChar': 233, 'Widths': <PDFObjRef:3674>}\n",
      "get_font: create: objid=11, spec={'Type': /'Font', 'Subtype': /'TrueType', 'Name': /'F3', 'BaseFont': /'TimesNewRomanPSMT', 'Encoding': /'WinAnsiEncoding', 'FontDescriptor': <PDFObjRef:12>, 'FirstChar': 32, 'LastChar': 32, 'Widths': <PDFObjRef:3675>}\n",
      "get_font: create: objid=13, spec={'Type': /'Font', 'Subtype': /'TrueType', 'Name': /'F4', 'BaseFont': /'Arial-ItalicMT', 'Encoding': /'WinAnsiEncoding', 'FontDescriptor': <PDFObjRef:14>, 'FirstChar': 32, 'LastChar': 32, 'Widths': <PDFObjRef:3676>}\n",
      "get_font: create: objid=17, spec={'Type': /'Font', 'Subtype': /'TrueType', 'Name': /'F5', 'BaseFont': /'Arial-BoldMT', 'Encoding': /'WinAnsiEncoding', 'FontDescriptor': <PDFObjRef:18>, 'FirstChar': 32, 'LastChar': 121, 'Widths': <PDFObjRef:3680>}\n",
      "get_font: create: objid=19, spec={'Type': /'Font', 'Subtype': /'Type0', 'BaseFont': /'Arial-BoldMT', 'Encoding': /'Identity-H', 'DescendantFonts': <PDFObjRef:20>, 'ToUnicode': <PDFObjRef:3677>}\n",
      "get_font: create: objid=None, spec={'BaseFont': /'Arial-BoldMT', 'Subtype': /'CIDFontType2', 'Type': /'Font', 'CIDToGIDMap': /'Identity', 'DW': 1000, 'CIDSystemInfo': <PDFObjRef:22>, 'FontDescriptor': <PDFObjRef:23>, 'W': <PDFObjRef:3679>, 'Encoding': /'Identity-H', 'ToUnicode': <PDFStream(3677): raw=226, {'Filter': /'FlateDecode', 'Length': 224}>}\n",
      "get_font: create: objid=24, spec={'Type': /'Font', 'Subtype': /'Type0', 'BaseFont': /'SymbolMT', 'Encoding': /'Identity-H', 'DescendantFonts': <PDFObjRef:25>, 'ToUnicode': <PDFObjRef:3681>}\n",
      "get_font: create: objid=None, spec={'BaseFont': /'SymbolMT', 'Subtype': /'CIDFontType2', 'Type': /'Font', 'CIDToGIDMap': /'Identity', 'DW': 1000, 'CIDSystemInfo': <PDFObjRef:27>, 'FontDescriptor': <PDFObjRef:28>, 'W': <PDFObjRef:3683>, 'Encoding': /'Identity-H', 'ToUnicode': <PDFStream(3681): raw=228, {'Filter': /'FlateDecode', 'Length': 226}>}\n",
      "get_font: create: objid=31, spec={'Type': /'Font', 'Subtype': /'Type0', 'BaseFont': /'BCDFEE+Calibri', 'Encoding': /'Identity-H', 'DescendantFonts': <PDFObjRef:32>, 'ToUnicode': <PDFObjRef:3671>}\n",
      "get_font: create: objid=None, spec={'BaseFont': /'BCDFEE+Calibri', 'Subtype': /'CIDFontType2', 'Type': /'Font', 'CIDToGIDMap': /'Identity', 'DW': 1000, 'CIDSystemInfo': <PDFObjRef:34>, 'FontDescriptor': <PDFObjRef:35>, 'W': <PDFObjRef:3673>, 'Encoding': /'Identity-H', 'ToUnicode': <PDFStream(3671): raw=452, {'Filter': /'FlateDecode', 'Length': 450}>}\n",
      "get_font: create: objid=39, spec={'Type': /'Font', 'Subtype': /'TrueType', 'Name': /'F9', 'BaseFont': /'BCDGEE+Calibri-Bold', 'Encoding': /'WinAnsiEncoding', 'FontDescriptor': <PDFObjRef:40>, 'FirstChar': 32, 'LastChar': 167, 'Widths': <PDFObjRef:3687>}\n",
      "Processing xobj: <PDFStream(15): raw=243, {'Type': /'XObject', 'Subtype': /'Image', 'Width': 1566, 'Height': 48, 'ColorSpace': /'DeviceRGB', 'BitsPerComponent': 8, 'Interpolate': False, 'SMask': <PDFObjRef:16>, 'Filter': /'FlateDecode', 'Length': 241}>\n",
      "Processing xobj: <PDFStream(41): raw=131616, {'Type': /'XObject', 'Subtype': /'Image', 'Width': 1410, 'Height': 793, 'ColorSpace': /'DeviceRGB', 'BitsPerComponent': 8, 'Filter': /'DCTDecode', 'Interpolate': True, 'Length': 131614}>\n",
      "Processing xobj: <PDFStream(42): raw=13421, {'Type': /'XObject', 'Subtype': /'Image', 'Width': 276, 'Height': 84, 'ColorSpace': /'DeviceRGB', 'BitsPerComponent': 8, 'Interpolate': False, 'SMask': <PDFObjRef:43>, 'Filter': /'FlateDecode', 'Length': 13419}>\n",
      "Page: {'Type': /'Page', 'Parent': <PDFObjRef:2>, 'Resources': {'Font': {'F5': <PDFObjRef:17>, 'F9': <PDFObjRef:39>, 'F10': <PDFObjRef:46>, 'F2': <PDFObjRef:9>}, 'ExtGState': {'GS7': <PDFObjRef:7>, 'GS8': <PDFObjRef:8>}, 'ProcSet': [/'PDF', /'Text', /'ImageB', /'ImageC', /'ImageI']}, 'MediaBox': [0, 0, 595.56, 842.04], 'Contents': <PDFObjRef:45>, 'Group': {'Type': /'Group', 'S': /'Transparency', 'CS': /'DeviceRGB'}, 'Tabs': /'S', 'StructParents': 6}\n",
      "Processing page: <PDFPage: Resources={'Font': {'F5': <PDFObjRef:17>, 'F9': <PDFObjRef:39>, 'F10': <PDFObjRef:46>, 'F2': <PDFObjRef:9>}, 'ExtGState': {'GS7': <PDFObjRef:7>, 'GS8': <PDFObjRef:8>}, 'ProcSet': [/'PDF', /'Text', /'ImageB', /'ImageC', /'ImageI']}, MediaBox=[0, 0, 595.56, 842.04]>\n",
      "render_contents: resources={'Font': {'F5': <PDFObjRef:17>, 'F9': <PDFObjRef:39>, 'F10': <PDFObjRef:46>, 'F2': <PDFObjRef:9>}, 'ExtGState': {'GS7': <PDFObjRef:7>, 'GS8': <PDFObjRef:8>}, 'ProcSet': [/'PDF', /'Text', /'ImageB', /'ImageC', /'ImageI']}, streams=[<PDFStream(45): raw=16110, {'Filter': /'FlateDecode', 'Length': 16108}>], ctm=(1, 0, 0, 1, 0, 0)\n",
      "get_font: create: objid=46, spec={'Type': /'Font', 'Subtype': /'Type0', 'BaseFont': /'BCDHEE+Calibri-Bold', 'Encoding': /'Identity-H', 'DescendantFonts': <PDFObjRef:47>, 'ToUnicode': <PDFObjRef:3684>}\n",
      "get_font: create: objid=None, spec={'BaseFont': /'BCDHEE+Calibri-Bold', 'Subtype': /'CIDFontType2', 'Type': /'Font', 'CIDToGIDMap': /'Identity', 'DW': 1000, 'CIDSystemInfo': <PDFObjRef:49>, 'FontDescriptor': <PDFObjRef:50>, 'W': <PDFObjRef:3686>, 'Encoding': /'Identity-H', 'ToUnicode': <PDFStream(3684): raw=230, {'Filter': /'FlateDecode', 'Length': 228}>}\n",
      "Page: {'Type': /'Page', 'Parent': <PDFObjRef:2>, 'Resources': {'Font': {'F2': <PDFObjRef:9>, 'F9': <PDFObjRef:39>}, 'ExtGState': {'GS7': <PDFObjRef:7>, 'GS8': <PDFObjRef:8>}, 'ProcSet': [/'PDF', /'Text', /'ImageB', /'ImageC', /'ImageI']}, 'MediaBox': [0, 0, 595.56, 842.04], 'Contents': <PDFObjRef:52>, 'Group': {'Type': /'Group', 'S': /'Transparency', 'CS': /'DeviceRGB'}, 'Tabs': /'S', 'StructParents': 7}\n",
      "Processing page: <PDFPage: Resources={'Font': {'F2': <PDFObjRef:9>, 'F9': <PDFObjRef:39>}, 'ExtGState': {'GS7': <PDFObjRef:7>, 'GS8': <PDFObjRef:8>}, 'ProcSet': [/'PDF', /'Text', /'ImageB', /'ImageC', /'ImageI']}, MediaBox=[0, 0, 595.56, 842.04]>\n",
      "render_contents: resources={'Font': {'F2': <PDFObjRef:9>, 'F9': <PDFObjRef:39>}, 'ExtGState': {'GS7': <PDFObjRef:7>, 'GS8': <PDFObjRef:8>}, 'ProcSet': [/'PDF', /'Text', /'ImageB', /'ImageC', /'ImageI']}, streams=[<PDFStream(52): raw=17944, {'Filter': /'FlateDecode', 'Length': 17942}>], ctm=(1, 0, 0, 1, 0, 0)\n",
      "Page: {'Type': /'Page', 'Parent': <PDFObjRef:2>, 'Resources': {'Font': {'F2': <PDFObjRef:9>, 'F9': <PDFObjRef:39>}, 'ExtGState': {'GS7': <PDFObjRef:7>, 'GS8': <PDFObjRef:8>}, 'ProcSet': [/'PDF', /'Text', /'ImageB', /'ImageC', /'ImageI']}, 'MediaBox': [0, 0, 595.56, 842.04], 'Contents': <PDFObjRef:54>, 'Group': {'Type': /'Group', 'S': /'Transparency', 'CS': /'DeviceRGB'}, 'Tabs': /'S', 'StructParents': 8}\n",
      "Processing page: <PDFPage: Resources={'Font': {'F2': <PDFObjRef:9>, 'F9': <PDFObjRef:39>}, 'ExtGState': {'GS7': <PDFObjRef:7>, 'GS8': <PDFObjRef:8>}, 'ProcSet': [/'PDF', /'Text', /'ImageB', /'ImageC', /'ImageI']}, MediaBox=[0, 0, 595.56, 842.04]>\n",
      "render_contents: resources={'Font': {'F2': <PDFObjRef:9>, 'F9': <PDFObjRef:39>}, 'ExtGState': {'GS7': <PDFObjRef:7>, 'GS8': <PDFObjRef:8>}, 'ProcSet': [/'PDF', /'Text', /'ImageB', /'ImageC', /'ImageI']}, streams=[<PDFStream(54): raw=17014, {'Filter': /'FlateDecode', 'Length': 17012}>], ctm=(1, 0, 0, 1, 0, 0)\n",
      "Page: {'Type': /'Page', 'Parent': <PDFObjRef:2>, 'Resources': {'Font': {'F2': <PDFObjRef:9>, 'F9': <PDFObjRef:39>, 'F8': <PDFObjRef:31>}, 'ExtGState': {'GS7': <PDFObjRef:7>, 'GS8': <PDFObjRef:8>}, 'ProcSet': [/'PDF', /'Text', /'ImageB', /'ImageC', /'ImageI']}, 'MediaBox': [0, 0, 595.56, 842.04], 'Contents': <PDFObjRef:56>, 'Group': {'Type': /'Group', 'S': /'Transparency', 'CS': /'DeviceRGB'}, 'Tabs': /'S', 'StructParents': 9}\n",
      "Processing page: <PDFPage: Resources={'Font': {'F2': <PDFObjRef:9>, 'F9': <PDFObjRef:39>, 'F8': <PDFObjRef:31>}, 'ExtGState': {'GS7': <PDFObjRef:7>, 'GS8': <PDFObjRef:8>}, 'ProcSet': [/'PDF', /'Text', /'ImageB', /'ImageC', /'ImageI']}, MediaBox=[0, 0, 595.56, 842.04]>\n",
      "render_contents: resources={'Font': {'F2': <PDFObjRef:9>, 'F9': <PDFObjRef:39>, 'F8': <PDFObjRef:31>}, 'ExtGState': {'GS7': <PDFObjRef:7>, 'GS8': <PDFObjRef:8>}, 'ProcSet': [/'PDF', /'Text', /'ImageB', /'ImageC', /'ImageI']}, streams=[<PDFStream(56): raw=16685, {'Filter': /'FlateDecode', 'Length': 16683}>], ctm=(1, 0, 0, 1, 0, 0)\n",
      "Page: {'Type': /'Page', 'Parent': <PDFObjRef:2>, 'Resources': {'Font': {'F2': <PDFObjRef:9>, 'F9': <PDFObjRef:39>, 'F1': <PDFObjRef:5>, 'F10': <PDFObjRef:46>, 'F5': <PDFObjRef:17>, 'F8': <PDFObjRef:31>}, 'ExtGState': {'GS7': <PDFObjRef:7>, 'GS8': <PDFObjRef:8>}, 'ProcSet': [/'PDF', /'Text', /'ImageB', /'ImageC', /'ImageI']}, 'Annots': [<PDFObjRef:59>], 'MediaBox': [0, 0, 595.56, 842.04], 'Contents': <PDFObjRef:58>, 'Group': {'Type': /'Group', 'S': /'Transparency', 'CS': /'DeviceRGB'}, 'Tabs': /'S', 'StructParents': 10}\n",
      "Processing page: <PDFPage: Resources={'Font': {'F2': <PDFObjRef:9>, 'F9': <PDFObjRef:39>, 'F1': <PDFObjRef:5>, 'F10': <PDFObjRef:46>, 'F5': <PDFObjRef:17>, 'F8': <PDFObjRef:31>}, 'ExtGState': {'GS7': <PDFObjRef:7>, 'GS8': <PDFObjRef:8>}, 'ProcSet': [/'PDF', /'Text', /'ImageB', /'ImageC', /'ImageI']}, MediaBox=[0, 0, 595.56, 842.04]>\n",
      "render_contents: resources={'Font': {'F2': <PDFObjRef:9>, 'F9': <PDFObjRef:39>, 'F1': <PDFObjRef:5>, 'F10': <PDFObjRef:46>, 'F5': <PDFObjRef:17>, 'F8': <PDFObjRef:31>}, 'ExtGState': {'GS7': <PDFObjRef:7>, 'GS8': <PDFObjRef:8>}, 'ProcSet': [/'PDF', /'Text', /'ImageB', /'ImageC', /'ImageI']}, streams=[<PDFStream(58): raw=13137, {'Filter': /'FlateDecode', 'Length': 13135}>], ctm=(1, 0, 0, 1, 0, 0)\n",
      "Page: {'Type': /'Page', 'Parent': <PDFObjRef:2>, 'Resources': {'Font': {'F9': <PDFObjRef:39>, 'F2': <PDFObjRef:9>, 'F1': <PDFObjRef:5>, 'F5': <PDFObjRef:17>, 'F8': <PDFObjRef:31>, 'F7': <PDFObjRef:24>}, 'ExtGState': {'GS7': <PDFObjRef:7>, 'GS8': <PDFObjRef:8>}, 'XObject': {'Image62': <PDFObjRef:62>}, 'ProcSet': [/'PDF', /'Text', /'ImageB', /'ImageC', /'ImageI']}, 'MediaBox': [0, 0, 595.56, 842.04], 'Contents': <PDFObjRef:61>, 'Group': {'Type': /'Group', 'S': /'Transparency', 'CS': /'DeviceRGB'}, 'Tabs': /'S', 'StructParents': 12}\n",
      "Processing page: <PDFPage: Resources={'Font': {'F9': <PDFObjRef:39>, 'F2': <PDFObjRef:9>, 'F1': <PDFObjRef:5>, 'F5': <PDFObjRef:17>, 'F8': <PDFObjRef:31>, 'F7': <PDFObjRef:24>}, 'ExtGState': {'GS7': <PDFObjRef:7>, 'GS8': <PDFObjRef:8>}, 'XObject': {'Image62': <PDFObjRef:62>}, 'ProcSet': [/'PDF', /'Text', /'ImageB', /'ImageC', /'ImageI']}, MediaBox=[0, 0, 595.56, 842.04]>\n",
      "render_contents: resources={'Font': {'F9': <PDFObjRef:39>, 'F2': <PDFObjRef:9>, 'F1': <PDFObjRef:5>, 'F5': <PDFObjRef:17>, 'F8': <PDFObjRef:31>, 'F7': <PDFObjRef:24>}, 'ExtGState': {'GS7': <PDFObjRef:7>, 'GS8': <PDFObjRef:8>}, 'XObject': {'Image62': <PDFObjRef:62>}, 'ProcSet': [/'PDF', /'Text', /'ImageB', /'ImageC', /'ImageI']}, streams=[<PDFStream(61): raw=2702, {'Filter': /'FlateDecode', 'Length': 2700}>], ctm=(1, 0, 0, 1, 0, 0)\n",
      "Processing xobj: <PDFStream(62): raw=63966, {'Type': /'XObject', 'Subtype': /'Image', 'Width': 1450, 'Height': 882, 'ColorSpace': /'DeviceRGB', 'BitsPerComponent': 8, 'Interpolate': False, 'Filter': /'FlateDecode', 'Length': 63964}>\n",
      "Page: {'Type': /'Page', 'Parent': <PDFObjRef:2>, 'Resources': {'Font': {'F5': <PDFObjRef:17>, 'F11': <PDFObjRef:65>, 'F1': <PDFObjRef:5>, 'F2': <PDFObjRef:9>, 'F12': <PDFObjRef:79>, 'F8': <PDFObjRef:31>, 'F9': <PDFObjRef:39>}, 'ExtGState': {'GS7': <PDFObjRef:7>, 'GS8': <PDFObjRef:8>}, 'ProcSet': [/'PDF', /'Text', /'ImageB', /'ImageC', /'ImageI']}, 'Annots': [<PDFObjRef:70>, <PDFObjRef:71>, <PDFObjRef:72>, <PDFObjRef:73>, <PDFObjRef:74>, <PDFObjRef:75>, <PDFObjRef:76>, <PDFObjRef:77>, <PDFObjRef:78>, <PDFObjRef:81>, <PDFObjRef:82>, <PDFObjRef:83>], 'MediaBox': [0, 0, 595.56, 842.04], 'Contents': <PDFObjRef:64>, 'Group': {'Type': /'Group', 'S': /'Transparency', 'CS': /'DeviceRGB'}, 'Tabs': /'S', 'StructParents': 13}\n",
      "Processing page: <PDFPage: Resources={'Font': {'F5': <PDFObjRef:17>, 'F11': <PDFObjRef:65>, 'F1': <PDFObjRef:5>, 'F2': <PDFObjRef:9>, 'F12': <PDFObjRef:79>, 'F8': <PDFObjRef:31>, 'F9': <PDFObjRef:39>}, 'ExtGState': {'GS7': <PDFObjRef:7>, 'GS8': <PDFObjRef:8>}, 'ProcSet': [/'PDF', /'Text', /'ImageB', /'ImageC', /'ImageI']}, MediaBox=[0, 0, 595.56, 842.04]>\n",
      "render_contents: resources={'Font': {'F5': <PDFObjRef:17>, 'F11': <PDFObjRef:65>, 'F1': <PDFObjRef:5>, 'F2': <PDFObjRef:9>, 'F12': <PDFObjRef:79>, 'F8': <PDFObjRef:31>, 'F9': <PDFObjRef:39>}, 'ExtGState': {'GS7': <PDFObjRef:7>, 'GS8': <PDFObjRef:8>}, 'ProcSet': [/'PDF', /'Text', /'ImageB', /'ImageC', /'ImageI']}, streams=[<PDFStream(64): raw=6844, {'Filter': /'FlateDecode', 'Length': 6842}>], ctm=(1, 0, 0, 1, 0, 0)\n",
      "get_font: create: objid=65, spec={'Type': /'Font', 'Subtype': /'Type0', 'BaseFont': /'ArialMT', 'Encoding': /'Identity-H', 'DescendantFonts': <PDFObjRef:66>, 'ToUnicode': <PDFObjRef:3667>}\n",
      "get_font: create: objid=None, spec={'BaseFont': /'ArialMT', 'Subtype': /'CIDFontType2', 'Type': /'Font', 'CIDToGIDMap': /'Identity', 'DW': 1000, 'CIDSystemInfo': <PDFObjRef:68>, 'FontDescriptor': <PDFObjRef:69>, 'W': <PDFObjRef:3669>, 'Encoding': /'Identity-H', 'ToUnicode': <PDFStream(3667): raw=228, {'Filter': /'FlateDecode', 'Length': 226}>}\n",
      "get_font: create: objid=79, spec={'Type': /'Font', 'Subtype': /'TrueType', 'Name': /'F12', 'BaseFont': /'BCDIEE+CourierNewPSMT', 'Encoding': /'WinAnsiEncoding', 'FontDescriptor': <PDFObjRef:80>, 'FirstChar': 111, 'LastChar': 111, 'Widths': <PDFObjRef:3688>}\n",
      "Page: {'Type': /'Page', 'Parent': <PDFObjRef:2>, 'Resources': {'Font': {'F5': <PDFObjRef:17>, 'F2': <PDFObjRef:9>, 'F9': <PDFObjRef:39>, 'F1': <PDFObjRef:5>, 'F7': <PDFObjRef:24>}, 'ExtGState': {'GS7': <PDFObjRef:7>, 'GS8': <PDFObjRef:8>}, 'ProcSet': [/'PDF', /'Text', /'ImageB', /'ImageC', /'ImageI']}, 'Annots': [<PDFObjRef:86>, <PDFObjRef:87>, <PDFObjRef:88>, <PDFObjRef:89>, <PDFObjRef:90>, <PDFObjRef:91>], 'MediaBox': [0, 0, 595.56, 842.04], 'Contents': <PDFObjRef:85>, 'Group': {'Type': /'Group', 'S': /'Transparency', 'CS': /'DeviceRGB'}, 'Tabs': /'S', 'StructParents': 26}\n",
      "Processing page: <PDFPage: Resources={'Font': {'F5': <PDFObjRef:17>, 'F2': <PDFObjRef:9>, 'F9': <PDFObjRef:39>, 'F1': <PDFObjRef:5>, 'F7': <PDFObjRef:24>}, 'ExtGState': {'GS7': <PDFObjRef:7>, 'GS8': <PDFObjRef:8>}, 'ProcSet': [/'PDF', /'Text', /'ImageB', /'ImageC', /'ImageI']}, MediaBox=[0, 0, 595.56, 842.04]>\n",
      "render_contents: resources={'Font': {'F5': <PDFObjRef:17>, 'F2': <PDFObjRef:9>, 'F9': <PDFObjRef:39>, 'F1': <PDFObjRef:5>, 'F7': <PDFObjRef:24>}, 'ExtGState': {'GS7': <PDFObjRef:7>, 'GS8': <PDFObjRef:8>}, 'ProcSet': [/'PDF', /'Text', /'ImageB', /'ImageC', /'ImageI']}, streams=[<PDFStream(85): raw=5033, {'Filter': /'FlateDecode', 'Length': 5031}>], ctm=(1, 0, 0, 1, 0, 0)\n",
      "Page: {'Type': /'Page', 'Parent': <PDFObjRef:2>, 'Resources': {'Font': {'F2': <PDFObjRef:9>, 'F1': <PDFObjRef:5>, 'F13': <PDFObjRef:94>}, 'ExtGState': {'GS7': <PDFObjRef:7>, 'GS8': <PDFObjRef:8>}, 'ProcSet': [/'PDF', /'Text', /'ImageB', /'ImageC', /'ImageI']}, 'Annots': [<PDFObjRef:96>, <PDFObjRef:97>], 'MediaBox': [0, 0, 595.56, 842.04], 'Contents': <PDFObjRef:93>, 'Group': {'Type': /'Group', 'S': /'Transparency', 'CS': /'DeviceRGB'}, 'Tabs': /'S', 'StructParents': 33}\n",
      "Processing page: <PDFPage: Resources={'Font': {'F2': <PDFObjRef:9>, 'F1': <PDFObjRef:5>, 'F13': <PDFObjRef:94>}, 'ExtGState': {'GS7': <PDFObjRef:7>, 'GS8': <PDFObjRef:8>}, 'ProcSet': [/'PDF', /'Text', /'ImageB', /'ImageC', /'ImageI']}, MediaBox=[0, 0, 595.56, 842.04]>\n",
      "render_contents: resources={'Font': {'F2': <PDFObjRef:9>, 'F1': <PDFObjRef:5>, 'F13': <PDFObjRef:94>}, 'ExtGState': {'GS7': <PDFObjRef:7>, 'GS8': <PDFObjRef:8>}, 'ProcSet': [/'PDF', /'Text', /'ImageB', /'ImageC', /'ImageI']}, streams=[<PDFStream(93): raw=1972, {'Filter': /'FlateDecode', 'Length': 1970}>], ctm=(1, 0, 0, 1, 0, 0)\n",
      "get_font: create: objid=94, spec={'Type': /'Font', 'Subtype': /'TrueType', 'Name': /'F13', 'BaseFont': /'BCDJEE+Calibri-Italic', 'Encoding': /'WinAnsiEncoding', 'FontDescriptor': <PDFObjRef:95>, 'FirstChar': 32, 'LastChar': 119, 'Widths': <PDFObjRef:3690>}\n"
     ]
    },
    {
     "name": "stdout",
     "output_type": "stream",
     "text": [
      "<re.Match object; span=(74, 141), match='Data as reported by national authorities by 10:00>\n",
      "29 March 2020 29 March 2020\n",
      "2020-03-29\n",
      "already processed  https://www.who.int/docs/default-source/coronaviruse/situation-reports/20200328-sitrep-68-covid-19.pdf  in previous runs\n",
      "already processed  https://www.who.int/docs/default-source/coronaviruse/situation-reports/20200327-sitrep-67-covid-19.pdf  in previous runs\n",
      "already processed  https://www.who.int/docs/default-source/coronaviruse/situation-reports/20200326-sitrep-66-covid-19.pdf  in previous runs\n",
      "already processed  https://www.who.int/docs/default-source/coronaviruse/situation-reports/20200325-sitrep-65-covid-19.pdf  in previous runs\n",
      "already processed  https://www.who.int/docs/default-source/coronaviruse/situation-reports/20200324-sitrep-64-covid-19.pdf  in previous runs\n",
      "already processed  https://www.who.int/docs/default-source/coronaviruse/situation-reports/20200323-sitrep-63-covid-19.pdf  in previous runs\n",
      "already processed  https://www.who.int/docs/default-source/coronaviruse/situation-reports/20200322-sitrep-62-covid-19.pdf  in previous runs\n",
      "already processed  https://www.who.int/docs/default-source/coronaviruse/situation-reports/20200321-sitrep-61-covid-19.pdf  in previous runs\n",
      "already processed  https://www.who.int/docs/default-source/coronaviruse/situation-reports/20200320-sitrep-60-covid-19.pdf  in previous runs\n",
      "already processed  https://www.who.int/docs/default-source/coronaviruse/situation-reports/20200319-sitrep-59-covid-19.pdf  in previous runs\n",
      "already processed  https://www.who.int/docs/default-source/coronaviruse/situation-reports/20200318-sitrep-58-covid-19.pdf  in previous runs\n",
      "already processed  https://www.who.int/docs/default-source/coronaviruse/situation-reports/20200317-sitrep-57-covid-19.pdf  in previous runs\n",
      "already processed  https://www.who.int/docs/default-source/coronaviruse/situation-reports/20200316-sitrep-56-covid-19.pdf  in previous runs\n",
      "already processed  https://www.who.int/docs/default-source/coronaviruse/situation-reports/20200315-sitrep-55-covid-19.pdf  in previous runs\n",
      "already processed  https://www.who.int/docs/default-source/coronaviruse/situation-reports/20200314-sitrep-54-covid-19.pdf  in previous runs\n",
      "already processed  https://www.who.int/docs/default-source/coronaviruse/situation-reports/20200313-sitrep-53-covid-19.pdf  in previous runs\n",
      "already processed  https://www.who.int/docs/default-source/coronaviruse/situation-reports/20200312-sitrep-52-covid-19.pdf  in previous runs\n",
      "already processed  https://www.who.int/docs/default-source/coronaviruse/situation-reports/20200311-sitrep-51-covid-19.pdf  in previous runs\n",
      "already processed  https://www.who.int/docs/default-source/coronaviruse/situation-reports/20200310-sitrep-50-covid-19.pdf  in previous runs\n",
      "already processed  https://www.who.int/docs/default-source/coronaviruse/situation-reports/20200309-sitrep-49-covid-19.pdf  in previous runs\n",
      "already processed  https://www.who.int/docs/default-source/coronaviruse/situation-reports/20200308-sitrep-48-covid-19.pdf  in previous runs\n",
      "already processed  https://www.who.int/docs/default-source/coronaviruse/situation-reports/20200307-sitrep-47-covid-19.pdf  in previous runs\n",
      "already processed  https://www.who.int/docs/default-source/coronaviruse/situation-reports/20200306-sitrep-46-covid-19.pdf  in previous runs\n",
      "already processed  https://www.who.int/docs/default-source/coronaviruse/situation-reports/20200305-sitrep-45-covid-19.pdf  in previous runs\n",
      "already processed  https://www.who.int/docs/default-source/coronaviruse/situation-reports/20200304-sitrep-44-covid-19.pdf  in previous runs\n",
      "already processed  https://www.who.int/docs/default-source/coronaviruse/situation-reports/20200303-sitrep-43-covid-19.pdf  in previous runs\n",
      "already processed  https://www.who.int/docs/default-source/coronaviruse/situation-reports/20200302-sitrep-42-covid-19.pdf  in previous runs\n",
      "already processed  https://www.who.int/docs/default-source/coronaviruse/situation-reports/20200301-sitrep-41-covid-19.pdf  in previous runs\n",
      "already processed  https://www.who.int/docs/default-source/coronaviruse/situation-reports/20200229-sitrep-40-covid-19.pdf  in previous runs\n",
      "already processed  https://www.who.int/docs/default-source/coronaviruse/situation-reports/20200228-sitrep-39-covid-19.pdf  in previous runs\n",
      "already processed  https://www.who.int/docs/default-source/coronaviruse/situation-reports/20200227-sitrep-38-covid-19.pdf  in previous runs\n",
      "already processed  https://www.who.int/docs/default-source/coronaviruse/situation-reports/20200226-sitrep-37-covid-19.pdf  in previous runs\n",
      "already processed  https://www.who.int/docs/default-source/coronaviruse/situation-reports/20200225-sitrep-36-covid-19.pdf  in previous runs\n",
      "already processed  https://www.who.int/docs/default-source/coronaviruse/situation-reports/20200224-sitrep-35-covid-19.pdf  in previous runs\n",
      "already processed  https://www.who.int/docs/default-source/coronaviruse/situation-reports/20200223-sitrep-34-covid-19.pdf  in previous runs\n",
      "already processed  https://www.who.int/docs/default-source/coronaviruse/situation-reports/20200222-sitrep-33-covid-19.pdf  in previous runs\n",
      "already processed  https://www.who.int/docs/default-source/coronaviruse/situation-reports/20200221-sitrep-32-covid-19.pdf  in previous runs\n",
      "already processed  https://www.who.int/docs/default-source/coronaviruse/situation-reports/20200220-sitrep-31-covid-19.pdf  in previous runs\n",
      "already processed  https://www.who.int/docs/default-source/coronaviruse/situation-reports/20200219-sitrep-30-covid-19.pdf  in previous runs\n",
      "already processed  https://www.who.int/docs/default-source/coronaviruse/situation-reports/20200218-sitrep-29-covid-19.pdf  in previous runs\n",
      "already processed  https://www.who.int/docs/default-source/coronaviruse/situation-reports/20200217-sitrep-28-covid-19.pdf  in previous runs\n",
      "already processed  https://www.who.int/docs/default-source/coronaviruse/situation-reports/20200216-sitrep-27-covid-19.pdf  in previous runs\n",
      "already processed  https://www.who.int/docs/default-source/coronaviruse/situation-reports/20200215-sitrep-26-covid-19.pdf  in previous runs\n",
      "already processed  https://www.who.int/docs/default-source/coronaviruse/situation-reports/20200214-sitrep-25-covid-19.pdf  in previous runs\n",
      "already processed  https://www.who.int/docs/default-source/coronaviruse/situation-reports/20200213-sitrep-24-covid-19.pdf  in previous runs\n",
      "already processed  https://www.who.int/docs/default-source/coronaviruse/situation-reports/20200212-sitrep-23-ncov.pdf  in previous runs\n",
      "already processed  https://www.who.int/docs/default-source/coronaviruse/situation-reports/20200211-sitrep-22-ncov.pdf  in previous runs\n",
      "already processed  https://www.who.int/docs/default-source/coronaviruse/situation-reports/20200210-sitrep-21-ncov.pdf  in previous runs\n",
      "already processed  https://www.who.int/docs/default-source/coronaviruse/situation-reports/20200209-sitrep-20-ncov.pdf  in previous runs\n",
      "already processed  https://www.who.int/docs/default-source/coronaviruse/situation-reports/20200208-sitrep-19-ncov.pdf  in previous runs\n",
      "already processed  https://www.who.int/docs/default-source/coronaviruse/situation-reports/20200207-sitrep-18-ncov.pdf  in previous runs\n",
      "already processed  https://www.who.int/docs/default-source/coronaviruse/situation-reports/20200206-sitrep-17-ncov.pdf  in previous runs\n",
      "already processed  https://www.who.int/docs/default-source/coronaviruse/situation-reports/20200205-sitrep-16-ncov.pdf  in previous runs\n",
      "already processed  https://www.who.int/docs/default-source/coronaviruse/situation-reports/20200204-sitrep-15-ncov.pdf  in previous runs\n",
      "already processed  https://www.who.int/docs/default-source/coronaviruse/situation-reports/20200203-sitrep-14-ncov.pdf  in previous runs\n",
      "already processed  https://www.who.int/docs/default-source/coronaviruse/situation-reports/20200202-sitrep-13-ncov-v3.pdf  in previous runs\n",
      "already processed  https://www.who.int/docs/default-source/coronaviruse/situation-reports/20200201-sitrep-12-ncov.pdf  in previous runs\n",
      "already processed  https://www.who.int/docs/default-source/coronaviruse/situation-reports/20200131-sitrep-11-ncov.pdf  in previous runs\n",
      "already processed  https://www.who.int/docs/default-source/coronaviruse/situation-reports/20200130-sitrep-10-ncov.pdf  in previous runs\n",
      "already processed  https://www.who.int/docs/default-source/coronaviruse/situation-reports/20200129-sitrep-9-ncov-v2.pdf  in previous runs\n",
      "already processed  https://www.who.int/docs/default-source/coronaviruse/situation-reports/20200128-sitrep-8-ncov-cleared.pdf  in previous runs\n",
      "already processed  https://www.who.int/docs/default-source/coronaviruse/situation-reports/20200127-sitrep-7-2019--ncov.pdf  in previous runs\n"
     ]
    }
   ],
   "source": [
    "df = get_WHO_stats()"
   ]
  },
  {
   "cell_type": "code",
   "execution_count": 9,
   "metadata": {},
   "outputs": [
    {
     "data": {
      "text/html": [
       "<div>\n",
       "<style scoped>\n",
       "    .dataframe tbody tr th:only-of-type {\n",
       "        vertical-align: middle;\n",
       "    }\n",
       "\n",
       "    .dataframe tbody tr th {\n",
       "        vertical-align: top;\n",
       "    }\n",
       "\n",
       "    .dataframe thead th {\n",
       "        text-align: right;\n",
       "    }\n",
       "</style>\n",
       "<table border=\"1\" class=\"dataframe\">\n",
       "  <thead>\n",
       "    <tr style=\"text-align: right;\">\n",
       "      <th></th>\n",
       "      <th>date</th>\n",
       "      <th>global_cases</th>\n",
       "      <th>report_url</th>\n",
       "    </tr>\n",
       "  </thead>\n",
       "  <tbody>\n",
       "    <tr>\n",
       "      <th>0</th>\n",
       "      <td>2020-01-27</td>\n",
       "      <td>2798</td>\n",
       "      <td>https://www.who.int/docs/default-source/corona...</td>\n",
       "    </tr>\n",
       "    <tr>\n",
       "      <th>1</th>\n",
       "      <td>2020-01-28</td>\n",
       "      <td>4593</td>\n",
       "      <td>https://www.who.int/docs/default-source/corona...</td>\n",
       "    </tr>\n",
       "    <tr>\n",
       "      <th>2</th>\n",
       "      <td>2020-01-29</td>\n",
       "      <td>6065</td>\n",
       "      <td>https://www.who.int/docs/default-source/corona...</td>\n",
       "    </tr>\n",
       "    <tr>\n",
       "      <th>3</th>\n",
       "      <td>2020-01-30</td>\n",
       "      <td>7818</td>\n",
       "      <td>https://www.who.int/docs/default-source/corona...</td>\n",
       "    </tr>\n",
       "    <tr>\n",
       "      <th>4</th>\n",
       "      <td>2020-01-31</td>\n",
       "      <td>9826</td>\n",
       "      <td>https://www.who.int/docs/default-source/corona...</td>\n",
       "    </tr>\n",
       "    <tr>\n",
       "      <th>...</th>\n",
       "      <td>...</td>\n",
       "      <td>...</td>\n",
       "      <td>...</td>\n",
       "    </tr>\n",
       "    <tr>\n",
       "      <th>61</th>\n",
       "      <td>2020-03-25</td>\n",
       "      <td>414179</td>\n",
       "      <td>https://www.who.int/docs/default-source/corona...</td>\n",
       "    </tr>\n",
       "    <tr>\n",
       "      <th>62</th>\n",
       "      <td>2020-03-26</td>\n",
       "      <td>462684</td>\n",
       "      <td>https://www.who.int/docs/default-source/corona...</td>\n",
       "    </tr>\n",
       "    <tr>\n",
       "      <th>63</th>\n",
       "      <td>2020-03-27</td>\n",
       "      <td>509164</td>\n",
       "      <td>https://www.who.int/docs/default-source/corona...</td>\n",
       "    </tr>\n",
       "    <tr>\n",
       "      <th>64</th>\n",
       "      <td>2020-03-28</td>\n",
       "      <td>571678</td>\n",
       "      <td>https://www.who.int/docs/default-source/corona...</td>\n",
       "    </tr>\n",
       "    <tr>\n",
       "      <th>65</th>\n",
       "      <td>2020-03-29</td>\n",
       "      <td>634835</td>\n",
       "      <td>https://www.who.int/docs/default-source/corona...</td>\n",
       "    </tr>\n",
       "  </tbody>\n",
       "</table>\n",
       "<p>66 rows × 3 columns</p>\n",
       "</div>"
      ],
      "text/plain": [
       "          date  global_cases  \\\n",
       "0   2020-01-27          2798   \n",
       "1   2020-01-28          4593   \n",
       "2   2020-01-29          6065   \n",
       "3   2020-01-30          7818   \n",
       "4   2020-01-31          9826   \n",
       "..         ...           ...   \n",
       "61  2020-03-25        414179   \n",
       "62  2020-03-26        462684   \n",
       "63  2020-03-27        509164   \n",
       "64  2020-03-28        571678   \n",
       "65  2020-03-29        634835   \n",
       "\n",
       "                                           report_url  \n",
       "0   https://www.who.int/docs/default-source/corona...  \n",
       "1   https://www.who.int/docs/default-source/corona...  \n",
       "2   https://www.who.int/docs/default-source/corona...  \n",
       "3   https://www.who.int/docs/default-source/corona...  \n",
       "4   https://www.who.int/docs/default-source/corona...  \n",
       "..                                                ...  \n",
       "61  https://www.who.int/docs/default-source/corona...  \n",
       "62  https://www.who.int/docs/default-source/corona...  \n",
       "63  https://www.who.int/docs/default-source/corona...  \n",
       "64  https://www.who.int/docs/default-source/corona...  \n",
       "65  https://www.who.int/docs/default-source/corona...  \n",
       "\n",
       "[66 rows x 3 columns]"
      ]
     },
     "execution_count": 9,
     "metadata": {},
     "output_type": "execute_result"
    }
   ],
   "source": [
    "df"
   ]
  },
  {
   "cell_type": "markdown",
   "metadata": {},
   "source": [
    "### Plot graph and save to files"
   ]
  },
  {
   "cell_type": "code",
   "execution_count": 10,
   "metadata": {},
   "outputs": [],
   "source": [
    "import seaborn as sns\n",
    "from pathlib import Path"
   ]
  },
  {
   "cell_type": "code",
   "execution_count": 11,
   "metadata": {},
   "outputs": [],
   "source": [
    "df.sort_values(by=['date'], inplace=True)"
   ]
  },
  {
   "cell_type": "code",
   "execution_count": 12,
   "metadata": {},
   "outputs": [
    {
     "data": {
      "image/png": "[encoded data removed]",
      "text/plain": [
       "<Figure size 1152x612 with 1 Axes>"
      ]
     },
     "metadata": {},
     "output_type": "display_data"
    }
   ],
   "source": [
    "sns.set(rc={'figure.figsize':(16,8.5)})\n",
    "sns.set(style=\"whitegrid\")\n",
    "\n",
    "\n",
    "bar_chart = sns.barplot(x='date', y='global_cases', color='dodgerblue', data=df)\n",
    "bar_chart.tick_params(axis='x', labelrotation=70)\n"
   ]
  },
  {
   "cell_type": "code",
   "execution_count": 13,
   "metadata": {},
   "outputs": [],
   "source": [
    "bar_chart_fig = bar_chart.get_figure()\n"
   ]
  },
  {
   "cell_type": "code",
   "execution_count": 14,
   "metadata": {},
   "outputs": [],
   "source": [
    "df.to_csv(csv_file, index=False)\n",
    "bar_chart_fig.savefig(png_file)\n"
   ]
  },
  {
   "cell_type": "code",
   "execution_count": null,
   "metadata": {},
   "outputs": [],
   "source": []
  }
 ],
 "metadata": {
  "kernelspec": {
   "display_name": "Python 3",
   "language": "python",
   "name": "python3"
  },
  "language_info": {
   "codemirror_mode": {
    "name": "ipython",
    "version": 3
   },
   "file_extension": ".py",
   "mimetype": "text/x-python",
   "name": "python",
   "nbconvert_exporter": "python",
   "pygments_lexer": "ipython3",
   "version": "3.7.6"
  }
 },
 "nbformat": 4,
 "nbformat_minor": 2
}
