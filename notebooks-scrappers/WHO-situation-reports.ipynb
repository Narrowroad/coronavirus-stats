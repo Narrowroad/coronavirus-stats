{
 "cells": [
  {
   "cell_type": "code",
   "execution_count": 1,
   "metadata": {},
   "outputs": [],
   "source": [
    "import requests\n",
    "import re\n",
    "import io\n",
    "from bs4 import BeautifulSoup\n",
    "from urllib.parse import urljoin\n",
    "from datetime import datetime\n",
    "# from PyPDF2 import PdfFileReader\n",
    "from pdfminer.high_level import extract_text\n",
    "import logging\n",
    "import sys\n",
    "import pandas as pd\n",
    "\n",
    "\n",
    "logger = logging.getLogger() \n",
    "logger.handlers = [logging.StreamHandler()]\n",
    "logger.setLevel(logging.INFO)\n"
   ]
  },
  {
   "cell_type": "code",
   "execution_count": 2,
   "metadata": {},
   "outputs": [],
   "source": [
    "csv_file = '../data/who-global-cases.csv'\n",
    "png_file = '../images/who-global-cases.png'"
   ]
  },
  {
   "cell_type": "code",
   "execution_count": 3,
   "metadata": {},
   "outputs": [
    {
     "data": {
      "text/plain": [
       "datetime.datetime(2020, 3, 30, 19, 9, 44, 471322)"
      ]
     },
     "execution_count": 3,
     "metadata": {},
     "output_type": "execute_result"
    }
   ],
   "source": [
    "# display the last execute time\n",
    "datetime.now()"
   ]
  },
  {
   "cell_type": "markdown",
   "metadata": {},
   "source": [
    "### Scraping"
   ]
  },
  {
   "cell_type": "code",
   "execution_count": 4,
   "metadata": {},
   "outputs": [],
   "source": [
    "def analyze_report(url):\n",
    "    '''\n",
    "    Analyze a situation report url\n",
    "    '''\n",
    "    response = requests.get(url)\n",
    "    # approach using Py2PDF\n",
    "    #     f_obj = io.BytesIO(response.content)\n",
    "    #     pdf = PdfFileReader(f_obj)\n",
    "    #     page_zero = pdf.getPage(0)  \n",
    "    #     text  = page_zero.extractText()\n",
    "\n",
    "    # using pdfminer\n",
    "    filename=re.sub(\"[\\:\\s\\.]\", \"\", str(datetime.now()))\n",
    "    open(filename, \"wb\").write(response.content)\n",
    "    text = extract_text(filename)\n",
    "    \n",
    "    try:\n",
    "        # use regular expression to extract date\n",
    "        p_date = re.compile(\"Data as reported by .+ (\\d+ \\w+ 202\\d)\")\n",
    "        m_date = p_date.search(text)\n",
    "        print(m_date)\n",
    "        report_date_str = m_date.group(1).replace(\"\\n\",\"\")\n",
    "        print(report_date_str, m_date.group(1))\n",
    "        report_date = datetime.strptime(report_date_str, '%d %B %Y').strftime('%Y-%m-%d')\n",
    "        print(report_date)\n",
    "        # use regular expression to extract global cases\n",
    "        p_global = re.compile(\"Globally ([\\s\\n0-9]+)\", re.DOTALL)\n",
    "        m_global = p_global.search(text)\n",
    "        global_cases_str = re.sub(r'[\\n\\s]', '', m_global.group(1))\n",
    "\n",
    "        global_cases = int(global_cases_str)\n",
    "\n",
    "        return {\"date\":report_date, \"global_cases\": global_cases, \"report_url\": url}\n",
    "    except AttributeError as e:\n",
    "        logger.warning(f'Unable to extract from \"{url}\" : {e}\\n.')\n",
    "        raise e\n",
    "\n"
   ]
  },
  {
   "cell_type": "code",
   "execution_count": 5,
   "metadata": {},
   "outputs": [],
   "source": [
    "def get_reports_urls(home_url):\n",
    "    '''\n",
    "    Extract situation reports URL from WHO's page\n",
    "    '''\n",
    "    # unable to analyse these reports\n",
    "    skipped_urls = [\n",
    "        'https://www.who.int/docs/default-source/coronaviruse/situation-reports/20200126-sitrep-6-2019--ncov.pdf',\n",
    "        'https://www.who.int/docs/default-source/coronaviruse/situation-reports/20200125-sitrep-5-2019-ncov.pdf',\n",
    "        'https://www.who.int/docs/default-source/coronaviruse/situation-reports/20200124-sitrep-4-2019-ncov.pdf',\n",
    "        'https://www.who.int/docs/default-source/coronaviruse/situation-reports/20200123-sitrep-3-2019-ncov.pdf',\n",
    "        'https://www.who.int/docs/default-source/coronaviruse/situation-reports/20200122-sitrep-2-2019-ncov.pdf',\n",
    "        'https://www.who.int/docs/default-source/coronaviruse/situation-reports/20200121-sitrep-1-2019-ncov.pdf'\n",
    "    ]  \n",
    "    \n",
    "    urls = []\n",
    "    response = requests.get(home_url)\n",
    "    soup = BeautifulSoup(response.content, 'lxml')\n",
    "    tags = soup.find_all('a')\n",
    "    for tag in tags:\n",
    "        if len(tag.contents)>0:\n",
    "            content = str(tag.contents[0])\n",
    "            if \"Situation report - \" in content:\n",
    "                url = urljoin(home_url ,  tag.get('href')).split('?')[0]\n",
    "                \n",
    "                if url not in skipped_urls:\n",
    "                    urls.append(url)\n",
    "\n",
    "    return urls\n"
   ]
  },
  {
   "cell_type": "code",
   "execution_count": null,
   "metadata": {},
   "outputs": [],
   "source": []
  },
  {
   "cell_type": "code",
   "execution_count": 6,
   "metadata": {},
   "outputs": [],
   "source": [
    "def get_WHO_stats():\n",
    "    reports_home_url = 'https://www.who.int/emergencies/diseases/novel-coronavirus-2019/situation-reports/'\n",
    "    reports_urls = get_reports_urls(reports_home_url)\n",
    "    df = pd.read_csv(csv_file)\n",
    "    for url in reports_urls:\n",
    "        if df['report_url'].str.contains(url).any():\n",
    "            print('already processed ', url, ' in previous runs')\n",
    "            continue\n",
    "        stats = analyze_report(url)\n",
    "        df = df.append(stats, ignore_index = True)\n",
    "    return df"
   ]
  },
  {
   "cell_type": "code",
   "execution_count": 7,
   "metadata": {},
   "outputs": [
    {
     "name": "stdout",
     "output_type": "stream",
     "text": [
      "['https://www.who.int/docs/default-source/coronaviruse/situation-reports/20200330-sitrep-70-covid-19.pdf', 'https://www.who.int/docs/default-source/coronaviruse/situation-reports/20200329-sitrep-69-covid-19.pdf', 'https://www.who.int/docs/default-source/coronaviruse/situation-reports/20200328-sitrep-68-covid-19.pdf', 'https://www.who.int/docs/default-source/coronaviruse/situation-reports/20200327-sitrep-67-covid-19.pdf', 'https://www.who.int/docs/default-source/coronaviruse/situation-reports/20200326-sitrep-66-covid-19.pdf', 'https://www.who.int/docs/default-source/coronaviruse/situation-reports/20200325-sitrep-65-covid-19.pdf', 'https://www.who.int/docs/default-source/coronaviruse/situation-reports/20200324-sitrep-64-covid-19.pdf', 'https://www.who.int/docs/default-source/coronaviruse/situation-reports/20200323-sitrep-63-covid-19.pdf', 'https://www.who.int/docs/default-source/coronaviruse/situation-reports/20200322-sitrep-62-covid-19.pdf', 'https://www.who.int/docs/default-source/coronaviruse/situation-reports/20200321-sitrep-61-covid-19.pdf', 'https://www.who.int/docs/default-source/coronaviruse/situation-reports/20200320-sitrep-60-covid-19.pdf', 'https://www.who.int/docs/default-source/coronaviruse/situation-reports/20200319-sitrep-59-covid-19.pdf', 'https://www.who.int/docs/default-source/coronaviruse/situation-reports/20200318-sitrep-58-covid-19.pdf', 'https://www.who.int/docs/default-source/coronaviruse/situation-reports/20200317-sitrep-57-covid-19.pdf', 'https://www.who.int/docs/default-source/coronaviruse/situation-reports/20200316-sitrep-56-covid-19.pdf', 'https://www.who.int/docs/default-source/coronaviruse/situation-reports/20200315-sitrep-55-covid-19.pdf', 'https://www.who.int/docs/default-source/coronaviruse/situation-reports/20200314-sitrep-54-covid-19.pdf', 'https://www.who.int/docs/default-source/coronaviruse/situation-reports/20200313-sitrep-53-covid-19.pdf', 'https://www.who.int/docs/default-source/coronaviruse/situation-reports/20200312-sitrep-52-covid-19.pdf', 'https://www.who.int/docs/default-source/coronaviruse/situation-reports/20200311-sitrep-51-covid-19.pdf', 'https://www.who.int/docs/default-source/coronaviruse/situation-reports/20200310-sitrep-50-covid-19.pdf', 'https://www.who.int/docs/default-source/coronaviruse/situation-reports/20200309-sitrep-49-covid-19.pdf', 'https://www.who.int/docs/default-source/coronaviruse/situation-reports/20200308-sitrep-48-covid-19.pdf', 'https://www.who.int/docs/default-source/coronaviruse/situation-reports/20200307-sitrep-47-covid-19.pdf', 'https://www.who.int/docs/default-source/coronaviruse/situation-reports/20200306-sitrep-46-covid-19.pdf', 'https://www.who.int/docs/default-source/coronaviruse/situation-reports/20200305-sitrep-45-covid-19.pdf', 'https://www.who.int/docs/default-source/coronaviruse/situation-reports/20200304-sitrep-44-covid-19.pdf', 'https://www.who.int/docs/default-source/coronaviruse/situation-reports/20200303-sitrep-43-covid-19.pdf', 'https://www.who.int/docs/default-source/coronaviruse/situation-reports/20200302-sitrep-42-covid-19.pdf', 'https://www.who.int/docs/default-source/coronaviruse/situation-reports/20200301-sitrep-41-covid-19.pdf', 'https://www.who.int/docs/default-source/coronaviruse/situation-reports/20200229-sitrep-40-covid-19.pdf', 'https://www.who.int/docs/default-source/coronaviruse/situation-reports/20200228-sitrep-39-covid-19.pdf', 'https://www.who.int/docs/default-source/coronaviruse/situation-reports/20200227-sitrep-38-covid-19.pdf', 'https://www.who.int/docs/default-source/coronaviruse/situation-reports/20200226-sitrep-37-covid-19.pdf', 'https://www.who.int/docs/default-source/coronaviruse/situation-reports/20200225-sitrep-36-covid-19.pdf', 'https://www.who.int/docs/default-source/coronaviruse/situation-reports/20200224-sitrep-35-covid-19.pdf', 'https://www.who.int/docs/default-source/coronaviruse/situation-reports/20200223-sitrep-34-covid-19.pdf', 'https://www.who.int/docs/default-source/coronaviruse/situation-reports/20200222-sitrep-33-covid-19.pdf', 'https://www.who.int/docs/default-source/coronaviruse/situation-reports/20200221-sitrep-32-covid-19.pdf', 'https://www.who.int/docs/default-source/coronaviruse/situation-reports/20200220-sitrep-31-covid-19.pdf', 'https://www.who.int/docs/default-source/coronaviruse/situation-reports/20200219-sitrep-30-covid-19.pdf', 'https://www.who.int/docs/default-source/coronaviruse/situation-reports/20200218-sitrep-29-covid-19.pdf', 'https://www.who.int/docs/default-source/coronaviruse/situation-reports/20200217-sitrep-28-covid-19.pdf', 'https://www.who.int/docs/default-source/coronaviruse/situation-reports/20200216-sitrep-27-covid-19.pdf', 'https://www.who.int/docs/default-source/coronaviruse/situation-reports/20200215-sitrep-26-covid-19.pdf', 'https://www.who.int/docs/default-source/coronaviruse/situation-reports/20200214-sitrep-25-covid-19.pdf', 'https://www.who.int/docs/default-source/coronaviruse/situation-reports/20200213-sitrep-24-covid-19.pdf', 'https://www.who.int/docs/default-source/coronaviruse/situation-reports/20200212-sitrep-23-ncov.pdf', 'https://www.who.int/docs/default-source/coronaviruse/situation-reports/20200211-sitrep-22-ncov.pdf', 'https://www.who.int/docs/default-source/coronaviruse/situation-reports/20200210-sitrep-21-ncov.pdf', 'https://www.who.int/docs/default-source/coronaviruse/situation-reports/20200209-sitrep-20-ncov.pdf', 'https://www.who.int/docs/default-source/coronaviruse/situation-reports/20200208-sitrep-19-ncov.pdf', 'https://www.who.int/docs/default-source/coronaviruse/situation-reports/20200207-sitrep-18-ncov.pdf', 'https://www.who.int/docs/default-source/coronaviruse/situation-reports/20200206-sitrep-17-ncov.pdf', 'https://www.who.int/docs/default-source/coronaviruse/situation-reports/20200205-sitrep-16-ncov.pdf', 'https://www.who.int/docs/default-source/coronaviruse/situation-reports/20200204-sitrep-15-ncov.pdf', 'https://www.who.int/docs/default-source/coronaviruse/situation-reports/20200203-sitrep-14-ncov.pdf', 'https://www.who.int/docs/default-source/coronaviruse/situation-reports/20200202-sitrep-13-ncov-v3.pdf', 'https://www.who.int/docs/default-source/coronaviruse/situation-reports/20200201-sitrep-12-ncov.pdf', 'https://www.who.int/docs/default-source/coronaviruse/situation-reports/20200131-sitrep-11-ncov.pdf', 'https://www.who.int/docs/default-source/coronaviruse/situation-reports/20200130-sitrep-10-ncov.pdf', 'https://www.who.int/docs/default-source/coronaviruse/situation-reports/20200129-sitrep-9-ncov-v2.pdf', 'https://www.who.int/docs/default-source/coronaviruse/situation-reports/20200128-sitrep-8-ncov-cleared.pdf', 'https://www.who.int/docs/default-source/coronaviruse/situation-reports/20200127-sitrep-7-2019--ncov.pdf']\n",
      "0     https://www.who.int/docs/default-source/corona...\n",
      "1     https://www.who.int/docs/default-source/corona...\n",
      "2     https://www.who.int/docs/default-source/corona...\n",
      "3     https://www.who.int/docs/default-source/corona...\n",
      "4     https://www.who.int/docs/default-source/corona...\n",
      "                            ...                        \n",
      "61    https://www.who.int/docs/default-source/corona...\n",
      "62    https://www.who.int/docs/default-source/corona...\n",
      "63    https://www.who.int/docs/default-source/corona...\n",
      "64    https://www.who.int/docs/default-source/corona...\n",
      "65    https://www.who.int/docs/default-source/corona...\n",
      "Name: report_url, Length: 66, dtype: object\n"
     ]
    }
   ],
   "source": [
    "reports_urls = get_reports_urls('https://www.who.int/emergencies/diseases/novel-coronavirus-2019/situation-reports')\n",
    "df = pd.read_csv(csv_file)\n",
    "print(reports_urls)\n",
    "print(df['report_url'])"
   ]
  },
  {
   "cell_type": "code",
   "execution_count": 8,
   "metadata": {},
   "outputs": [
    {
     "name": "stderr",
     "output_type": "stream",
     "text": [
      "xref found: pos=b'1182833'\n",
      "read_xref_from: start=1182833, token=/b'xref'\n",
      "xref objects: {}\n",
      "trailer: {'Size': 3689, 'Root': <PDFObjRef:1>, 'Info': <PDFObjRef:95>, 'ID': [b'\\xc8\\xba\\x94.\\x00\\xf6%A\\xa3\\xe6\\x84\\xad1\\xf0\\xaa\\xb4', b'\\xc8\\xba\\x94.\\x00\\xf6%A\\xa3\\xe6\\x84\\xad1\\xf0\\xaa\\xb4'], 'Prev': 1108890, 'XRefStm': 1101784}\n",
      "read_xref_from: start=1101784, token=3688\n",
      "xref stream: objid=(0, 3688), fields=1,4,2\n",
      "trailer: {'Type': /'XRef', 'Size': 3688, 'W': [1, 4, 2], 'Root': <PDFObjRef:1>, 'Info': <PDFObjRef:95>, 'ID': [b'\\xc8\\xba\\x94.\\x00\\xf6%A\\xa3\\xe6\\x84\\xad1\\xf0\\xaa\\xb4', b'\\xc8\\xba\\x94.\\x00\\xf6%A\\xa3\\xe6\\x84\\xad1\\xf0\\xaa\\xb4'], 'Filter': /'FlateDecode', 'Length': 6900}\n",
      "read_xref_from: start=1108890, token=/b'xref'\n",
      "xref objects: {1: (None, 17, 0), 2: (None, 170, 0), 3: (None, 290, 0), 4: (None, 710, 0), 5: (None, 5688, 0), 6: (None, 5850, 0), 7: (None, 6076, 0), 8: (None, 6129, 0), 9: (None, 6182, 0), 10: (None, 6353, 0), 11: (None, 6595, 0), 12: (None, 6769, 0), 13: (None, 7006, 0), 14: (None, 7177, 0), 15: (None, 7413, 0), 16: (None, 7848, 0), 17: (None, 8140, 0), 18: (None, 8310, 0), 19: (None, 8542, 0), 20: (None, 8674, 0), 21: (None, 8704, 0), 22: (None, 8864, 0), 23: (None, 8938, 0), 24: (None, 9189, 0), 25: (None, 9317, 0), 26: (None, 9347, 0), 27: (None, 9503, 0), 28: (None, 9577, 0), 29: (None, 9811, 0), 30: (None, 10072, 0), 31: (None, 10334, 0), 32: (None, 10511, 0), 33: (None, 10758, 0), 34: (None, 141158, 0), 35: (None, 154772, 0), 36: (None, 163296, 0), 37: (None, 163598, 0), 38: (None, 179342, 0), 39: (None, 179481, 0), 40: (None, 179511, 0), 41: (None, 179678, 0), 42: (None, 179752, 0), 43: (None, 179999, 0), 44: (None, 180281, 0), 45: (None, 198392, 0), 46: (None, 198674, 0), 47: (None, 215510, 0), 48: (None, 215803, 0), 49: (None, 232911, 0), 50: (None, 233045, 0), 51: (None, 233075, 0), 52: (None, 233237, 0), 53: (None, 233311, 0), 54: (None, 233553, 0), 55: (None, 233892, 0), 56: (None, 247143, 0), 57: (None, 247393, 0), 58: (None, 247742, 0), 59: (None, 250511, 0), 60: (None, 330144, 0), 61: (None, 330573, 0), 62: (None, 337478, 0), 63: (None, 337605, 0), 64: (None, 337635, 0), 65: (None, 337790, 0), 66: (None, 337864, 0), 67: (None, 338110, 0), 68: (None, 338327, 0), 69: (None, 338524, 0), 70: (None, 338753, 0), 71: (None, 339052, 0), 72: (None, 339260, 0), 73: (None, 339467, 0), 74: (None, 339638, 0), 75: (None, 339829, 0), 76: (None, 340019, 0), 77: (None, 340200, 0), 78: (None, 340447, 0), 79: (None, 340685, 0), 80: (None, 340975, 0), 81: (None, 341263, 0), 82: (None, 341627, 0), 83: (None, 346682, 0), 84: (None, 346875, 0), 85: (None, 347091, 0), 86: (None, 347307, 0), 87: (None, 347522, 0), 88: (None, 347773, 0), 89: (None, 348009, 0), 90: (None, 348326, 0), 91: (None, 350382, 0), 92: (None, 350562, 0), 93: (None, 350813, 0), 94: (None, 351102, 0), 95: (None, 351390, 0), 122: (None, 357944, 0), 127: (None, 357995, 0), 3412: (None, 396959, 0), 3448: (None, 397011, 0), 3470: (None, 397063, 0), 3530: (None, 397115, 0), 3592: (None, 397169, 0), 3597: (None, 397227, 0), 3602: (None, 397285, 0), 3608: (None, 397343, 0), 3613: (None, 397401, 0), 3618: (None, 397459, 0), 3625: (None, 397517, 0), 3642: (None, 402384, 0), 3661: (None, 402439, 0), 3662: (None, 402742, 0), 3663: (None, 470317, 0), 3664: (None, 470391, 0), 3665: (None, 470450, 0), 3666: (None, 470970, 0), 3667: (None, 663322, 0), 3668: (None, 664043, 0), 3669: (None, 664626, 0), 3670: (None, 664655, 0), 3671: (None, 664684, 0), 3672: (None, 664985, 0), 3673: (None, 750742, 0), 3674: (None, 751076, 0), 3675: (None, 751387, 0), 3676: (None, 751690, 0), 3677: (None, 764845, 0), 3678: (None, 764890, 0), 3679: (None, 765195, 0), 3680: (None, 941633, 0), 3681: (None, 942198, 0), 3682: (None, 942613, 0), 3683: (None, 942642, 0), 3684: (None, 983989, 0), 3685: (None, 984226, 0), 3686: (None, 1098571, 0), 3687: (None, 1101737, 0), 3688: (None, 1101784, 0)}\n",
      "trailer: {'Size': 3689, 'Root': <PDFObjRef:1>, 'Info': <PDFObjRef:95>, 'ID': [b'\\xc8\\xba\\x94.\\x00\\xf6%A\\xa3\\xe6\\x84\\xad1\\xf0\\xaa\\xb4', b'\\xc8\\xba\\x94.\\x00\\xf6%A\\xa3\\xe6\\x84\\xad1\\xf0\\xaa\\xb4']}\n",
      "trailer: {'Size': 3689, 'Root': <PDFObjRef:1>, 'Info': <PDFObjRef:95>, 'ID': [b'\\xc8\\xba\\x94.\\x00\\xf6%A\\xa3\\xe6\\x84\\xad1\\xf0\\xaa\\xb4', b'\\xc8\\xba\\x94.\\x00\\xf6%A\\xa3\\xe6\\x84\\xad1\\xf0\\xaa\\xb4']}\n",
      "Pages: Kids=[<PDFObjRef:3>, <PDFObjRef:36>, <PDFObjRef:43>, <PDFObjRef:45>, <PDFObjRef:47>, <PDFObjRef:54>, <PDFObjRef:57>, <PDFObjRef:60>, <PDFObjRef:81>, <PDFObjRef:89>]\n",
      "Page: {'Type': /'Page', 'Parent': <PDFObjRef:2>, 'Resources': {'Font': {'F1': <PDFObjRef:5>, 'F2': <PDFObjRef:9>, 'F3': <PDFObjRef:11>, 'F4': <PDFObjRef:13>, 'F5': <PDFObjRef:17>, 'F6': <PDFObjRef:19>, 'F7': <PDFObjRef:24>, 'F8': <PDFObjRef:31>}, 'ExtGState': {'GS7': <PDFObjRef:7>, 'GS8': <PDFObjRef:8>}, 'XObject': {'Image15': <PDFObjRef:15>, 'Image33': <PDFObjRef:33>, 'Image34': <PDFObjRef:34>}, 'ProcSet': [/'PDF', /'Text', /'ImageB', /'ImageC', /'ImageI']}, 'Annots': [<PDFObjRef:29>, <PDFObjRef:30>], 'MediaBox': [0, 0, 595.56, 842.04], 'Contents': <PDFObjRef:4>, 'Group': {'Type': /'Group', 'S': /'Transparency', 'CS': /'DeviceRGB'}, 'Tabs': /'S', 'StructParents': 0}\n",
      "Processing page: <PDFPage: Resources={'Font': {'F1': <PDFObjRef:5>, 'F2': <PDFObjRef:9>, 'F3': <PDFObjRef:11>, 'F4': <PDFObjRef:13>, 'F5': <PDFObjRef:17>, 'F6': <PDFObjRef:19>, 'F7': <PDFObjRef:24>, 'F8': <PDFObjRef:31>}, 'ExtGState': {'GS7': <PDFObjRef:7>, 'GS8': <PDFObjRef:8>}, 'XObject': {'Image15': <PDFObjRef:15>, 'Image33': <PDFObjRef:33>, 'Image34': <PDFObjRef:34>}, 'ProcSet': [/'PDF', /'Text', /'ImageB', /'ImageC', /'ImageI']}, MediaBox=[0, 0, 595.56, 842.04]>\n",
      "render_contents: resources={'Font': {'F1': <PDFObjRef:5>, 'F2': <PDFObjRef:9>, 'F3': <PDFObjRef:11>, 'F4': <PDFObjRef:13>, 'F5': <PDFObjRef:17>, 'F6': <PDFObjRef:19>, 'F7': <PDFObjRef:24>, 'F8': <PDFObjRef:31>}, 'ExtGState': {'GS7': <PDFObjRef:7>, 'GS8': <PDFObjRef:8>}, 'XObject': {'Image15': <PDFObjRef:15>, 'Image33': <PDFObjRef:33>, 'Image34': <PDFObjRef:34>}, 'ProcSet': [/'PDF', /'Text', /'ImageB', /'ImageC', /'ImageI']}, streams=[<PDFStream(4): raw=4905, {'Filter': /'FlateDecode', 'Length': 4903}>], ctm=(1, 0, 0, 1, 0, 0)\n",
      "get_font: create: objid=5, spec={'Type': /'Font', 'Subtype': /'TrueType', 'Name': /'F1', 'BaseFont': /'ArialMT', 'Encoding': /'WinAnsiEncoding', 'FontDescriptor': <PDFObjRef:6>, 'FirstChar': 32, 'LastChar': 45, 'Widths': <PDFObjRef:3664>}\n",
      "get_font: create: objid=9, spec={'Type': /'Font', 'Subtype': /'TrueType', 'Name': /'F2', 'BaseFont': /'BCDEEE+Calibri', 'Encoding': /'WinAnsiEncoding', 'FontDescriptor': <PDFObjRef:10>, 'FirstChar': 32, 'LastChar': 233, 'Widths': <PDFObjRef:3668>}\n",
      "get_font: create: objid=11, spec={'Type': /'Font', 'Subtype': /'TrueType', 'Name': /'F3', 'BaseFont': /'TimesNewRomanPSMT', 'Encoding': /'WinAnsiEncoding', 'FontDescriptor': <PDFObjRef:12>, 'FirstChar': 32, 'LastChar': 32, 'Widths': <PDFObjRef:3669>}\n",
      "get_font: create: objid=13, spec={'Type': /'Font', 'Subtype': /'TrueType', 'Name': /'F4', 'BaseFont': /'Arial-ItalicMT', 'Encoding': /'WinAnsiEncoding', 'FontDescriptor': <PDFObjRef:14>, 'FirstChar': 32, 'LastChar': 32, 'Widths': <PDFObjRef:3670>}\n",
      "get_font: create: objid=17, spec={'Type': /'Font', 'Subtype': /'TrueType', 'Name': /'F5', 'BaseFont': /'Arial-BoldMT', 'Encoding': /'WinAnsiEncoding', 'FontDescriptor': <PDFObjRef:18>, 'FirstChar': 32, 'LastChar': 121, 'Widths': <PDFObjRef:3674>}\n",
      "get_font: create: objid=19, spec={'Type': /'Font', 'Subtype': /'Type0', 'BaseFont': /'Arial-BoldMT', 'Encoding': /'Identity-H', 'DescendantFonts': <PDFObjRef:20>, 'ToUnicode': <PDFObjRef:3671>}\n",
      "get_font: create: objid=None, spec={'BaseFont': /'Arial-BoldMT', 'Subtype': /'CIDFontType2', 'Type': /'Font', 'CIDToGIDMap': /'Identity', 'DW': 1000, 'CIDSystemInfo': <PDFObjRef:22>, 'FontDescriptor': <PDFObjRef:23>, 'W': <PDFObjRef:3673>, 'Encoding': /'Identity-H', 'ToUnicode': <PDFStream(3671): raw=226, {'Filter': /'FlateDecode', 'Length': 224}>}\n",
      "get_font: create: objid=24, spec={'Type': /'Font', 'Subtype': /'Type0', 'BaseFont': /'SymbolMT', 'Encoding': /'Identity-H', 'DescendantFonts': <PDFObjRef:25>, 'ToUnicode': <PDFObjRef:3675>}\n",
      "get_font: create: objid=None, spec={'BaseFont': /'SymbolMT', 'Subtype': /'CIDFontType2', 'Type': /'Font', 'CIDToGIDMap': /'Identity', 'DW': 1000, 'CIDSystemInfo': <PDFObjRef:27>, 'FontDescriptor': <PDFObjRef:28>, 'W': <PDFObjRef:3677>, 'Encoding': /'Identity-H', 'ToUnicode': <PDFStream(3675): raw=228, {'Filter': /'FlateDecode', 'Length': 226}>}\n",
      "get_font: create: objid=31, spec={'Type': /'Font', 'Subtype': /'TrueType', 'Name': /'F8', 'BaseFont': /'BCDFEE+Calibri-Bold', 'Encoding': /'WinAnsiEncoding', 'FontDescriptor': <PDFObjRef:32>, 'FirstChar': 32, 'LastChar': 167, 'Widths': <PDFObjRef:3681>}\n",
      "Processing xobj: <PDFStream(15): raw=243, {'Type': /'XObject', 'Subtype': /'Image', 'Width': 1566, 'Height': 48, 'ColorSpace': /'DeviceRGB', 'BitsPerComponent': 8, 'Interpolate': False, 'SMask': <PDFObjRef:16>, 'Filter': /'FlateDecode', 'Length': 241}>\n",
      "Processing xobj: <PDFStream(33): raw=130220, {'Type': /'XObject', 'Subtype': /'Image', 'Width': 1410, 'Height': 793, 'ColorSpace': /'DeviceRGB', 'BitsPerComponent': 8, 'Filter': /'DCTDecode', 'Interpolate': True, 'Length': 130218}>\n",
      "Processing xobj: <PDFStream(34): raw=13421, {'Type': /'XObject', 'Subtype': /'Image', 'Width': 276, 'Height': 84, 'ColorSpace': /'DeviceRGB', 'BitsPerComponent': 8, 'Interpolate': False, 'SMask': <PDFObjRef:35>, 'Filter': /'FlateDecode', 'Length': 13419}>\n",
      "Page: {'Type': /'Page', 'Parent': <PDFObjRef:2>, 'Resources': {'Font': {'F5': <PDFObjRef:17>, 'F8': <PDFObjRef:31>, 'F9': <PDFObjRef:38>, 'F2': <PDFObjRef:9>}, 'ExtGState': {'GS7': <PDFObjRef:7>, 'GS8': <PDFObjRef:8>}, 'ProcSet': [/'PDF', /'Text', /'ImageB', /'ImageC', /'ImageI']}, 'MediaBox': [0, 0, 595.56, 842.04], 'Contents': <PDFObjRef:37>, 'Group': {'Type': /'Group', 'S': /'Transparency', 'CS': /'DeviceRGB'}, 'Tabs': /'S', 'StructParents': 3}\n",
      "Processing page: <PDFPage: Resources={'Font': {'F5': <PDFObjRef:17>, 'F8': <PDFObjRef:31>, 'F9': <PDFObjRef:38>, 'F2': <PDFObjRef:9>}, 'ExtGState': {'GS7': <PDFObjRef:7>, 'GS8': <PDFObjRef:8>}, 'ProcSet': [/'PDF', /'Text', /'ImageB', /'ImageC', /'ImageI']}, MediaBox=[0, 0, 595.56, 842.04]>\n",
      "render_contents: resources={'Font': {'F5': <PDFObjRef:17>, 'F8': <PDFObjRef:31>, 'F9': <PDFObjRef:38>, 'F2': <PDFObjRef:9>}, 'ExtGState': {'GS7': <PDFObjRef:7>, 'GS8': <PDFObjRef:8>}, 'ProcSet': [/'PDF', /'Text', /'ImageB', /'ImageC', /'ImageI']}, streams=[<PDFStream(37): raw=15669, {'Filter': /'FlateDecode', 'Length': 15667}>], ctm=(1, 0, 0, 1, 0, 0)\n",
      "get_font: create: objid=38, spec={'Type': /'Font', 'Subtype': /'Type0', 'BaseFont': /'BCDGEE+Calibri-Bold', 'Encoding': /'Identity-H', 'DescendantFonts': <PDFObjRef:39>, 'ToUnicode': <PDFObjRef:3678>}\n",
      "get_font: create: objid=None, spec={'BaseFont': /'BCDGEE+Calibri-Bold', 'Subtype': /'CIDFontType2', 'Type': /'Font', 'CIDToGIDMap': /'Identity', 'DW': 1000, 'CIDSystemInfo': <PDFObjRef:41>, 'FontDescriptor': <PDFObjRef:42>, 'W': <PDFObjRef:3680>, 'Encoding': /'Identity-H', 'ToUnicode': <PDFStream(3678): raw=230, {'Filter': /'FlateDecode', 'Length': 228}>}\n",
      "Page: {'Type': /'Page', 'Parent': <PDFObjRef:2>, 'Resources': {'Font': {'F2': <PDFObjRef:9>, 'F8': <PDFObjRef:31>}, 'ExtGState': {'GS7': <PDFObjRef:7>, 'GS8': <PDFObjRef:8>}, 'ProcSet': [/'PDF', /'Text', /'ImageB', /'ImageC', /'ImageI']}, 'MediaBox': [0, 0, 595.56, 842.04], 'Contents': <PDFObjRef:44>, 'Group': {'Type': /'Group', 'S': /'Transparency', 'CS': /'DeviceRGB'}, 'Tabs': /'S', 'StructParents': 4}\n",
      "Processing page: <PDFPage: Resources={'Font': {'F2': <PDFObjRef:9>, 'F8': <PDFObjRef:31>}, 'ExtGState': {'GS7': <PDFObjRef:7>, 'GS8': <PDFObjRef:8>}, 'ProcSet': [/'PDF', /'Text', /'ImageB', /'ImageC', /'ImageI']}, MediaBox=[0, 0, 595.56, 842.04]>\n",
      "render_contents: resources={'Font': {'F2': <PDFObjRef:9>, 'F8': <PDFObjRef:31>}, 'ExtGState': {'GS7': <PDFObjRef:7>, 'GS8': <PDFObjRef:8>}, 'ProcSet': [/'PDF', /'Text', /'ImageB', /'ImageC', /'ImageI']}, streams=[<PDFStream(44): raw=18036, {'Filter': /'FlateDecode', 'Length': 18034}>], ctm=(1, 0, 0, 1, 0, 0)\n",
      "Page: {'Type': /'Page', 'Parent': <PDFObjRef:2>, 'Resources': {'ExtGState': {'GS7': <PDFObjRef:7>, 'GS8': <PDFObjRef:8>}, 'Font': {'F8': <PDFObjRef:31>, 'F2': <PDFObjRef:9>}, 'ProcSet': [/'PDF', /'Text', /'ImageB', /'ImageC', /'ImageI']}, 'MediaBox': [0, 0, 595.56, 842.04], 'Contents': <PDFObjRef:46>, 'Group': {'Type': /'Group', 'S': /'Transparency', 'CS': /'DeviceRGB'}, 'Tabs': /'S', 'StructParents': 5}\n",
      "Processing page: <PDFPage: Resources={'ExtGState': {'GS7': <PDFObjRef:7>, 'GS8': <PDFObjRef:8>}, 'Font': {'F8': <PDFObjRef:31>, 'F2': <PDFObjRef:9>}, 'ProcSet': [/'PDF', /'Text', /'ImageB', /'ImageC', /'ImageI']}, MediaBox=[0, 0, 595.56, 842.04]>\n",
      "render_contents: resources={'ExtGState': {'GS7': <PDFObjRef:7>, 'GS8': <PDFObjRef:8>}, 'Font': {'F8': <PDFObjRef:31>, 'F2': <PDFObjRef:9>}, 'ProcSet': [/'PDF', /'Text', /'ImageB', /'ImageC', /'ImageI']}, streams=[<PDFStream(46): raw=16761, {'Filter': /'FlateDecode', 'Length': 16759}>], ctm=(1, 0, 0, 1, 0, 0)\n",
      "Page: {'Type': /'Page', 'Parent': <PDFObjRef:2>, 'Resources': {'Font': {'F2': <PDFObjRef:9>, 'F8': <PDFObjRef:31>, 'F10': <PDFObjRef:49>}, 'ExtGState': {'GS7': <PDFObjRef:7>, 'GS8': <PDFObjRef:8>}, 'ProcSet': [/'PDF', /'Text', /'ImageB', /'ImageC', /'ImageI']}, 'MediaBox': [0, 0, 595.56, 842.04], 'Contents': <PDFObjRef:48>, 'Group': {'Type': /'Group', 'S': /'Transparency', 'CS': /'DeviceRGB'}, 'Tabs': /'S', 'StructParents': 6}\n",
      "Processing page: <PDFPage: Resources={'Font': {'F2': <PDFObjRef:9>, 'F8': <PDFObjRef:31>, 'F10': <PDFObjRef:49>}, 'ExtGState': {'GS7': <PDFObjRef:7>, 'GS8': <PDFObjRef:8>}, 'ProcSet': [/'PDF', /'Text', /'ImageB', /'ImageC', /'ImageI']}, MediaBox=[0, 0, 595.56, 842.04]>\n",
      "render_contents: resources={'Font': {'F2': <PDFObjRef:9>, 'F8': <PDFObjRef:31>, 'F10': <PDFObjRef:49>}, 'ExtGState': {'GS7': <PDFObjRef:7>, 'GS8': <PDFObjRef:8>}, 'ProcSet': [/'PDF', /'Text', /'ImageB', /'ImageC', /'ImageI']}, streams=[<PDFStream(48): raw=17033, {'Filter': /'FlateDecode', 'Length': 17031}>], ctm=(1, 0, 0, 1, 0, 0)\n",
      "get_font: create: objid=49, spec={'Type': /'Font', 'Subtype': /'Type0', 'BaseFont': /'BCDHEE+Calibri', 'Encoding': /'Identity-H', 'DescendantFonts': <PDFObjRef:50>, 'ToUnicode': <PDFObjRef:3665>}\n",
      "get_font: create: objid=None, spec={'BaseFont': /'BCDHEE+Calibri', 'Subtype': /'CIDFontType2', 'Type': /'Font', 'CIDToGIDMap': /'Identity', 'DW': 1000, 'CIDSystemInfo': <PDFObjRef:52>, 'FontDescriptor': <PDFObjRef:53>, 'W': <PDFObjRef:3667>, 'Encoding': /'Identity-H', 'ToUnicode': <PDFStream(3665): raw=445, {'Filter': /'FlateDecode', 'Length': 443}>}\n",
      "Page: {'Type': /'Page', 'Parent': <PDFObjRef:2>, 'Resources': {'Font': {'F2': <PDFObjRef:9>, 'F8': <PDFObjRef:31>, 'F1': <PDFObjRef:5>, 'F9': <PDFObjRef:38>, 'F5': <PDFObjRef:17>, 'F10': <PDFObjRef:49>}, 'ExtGState': {'GS7': <PDFObjRef:7>, 'GS8': <PDFObjRef:8>}, 'ProcSet': [/'PDF', /'Text', /'ImageB', /'ImageC', /'ImageI']}, 'Annots': [<PDFObjRef:56>], 'MediaBox': [0, 0, 595.56, 842.04], 'Contents': <PDFObjRef:55>, 'Group': {'Type': /'Group', 'S': /'Transparency', 'CS': /'DeviceRGB'}, 'Tabs': /'S', 'StructParents': 7}\n",
      "Processing page: <PDFPage: Resources={'Font': {'F2': <PDFObjRef:9>, 'F8': <PDFObjRef:31>, 'F1': <PDFObjRef:5>, 'F9': <PDFObjRef:38>, 'F5': <PDFObjRef:17>, 'F10': <PDFObjRef:49>}, 'ExtGState': {'GS7': <PDFObjRef:7>, 'GS8': <PDFObjRef:8>}, 'ProcSet': [/'PDF', /'Text', /'ImageB', /'ImageC', /'ImageI']}, MediaBox=[0, 0, 595.56, 842.04]>\n",
      "render_contents: resources={'Font': {'F2': <PDFObjRef:9>, 'F8': <PDFObjRef:31>, 'F1': <PDFObjRef:5>, 'F9': <PDFObjRef:38>, 'F5': <PDFObjRef:17>, 'F10': <PDFObjRef:49>}, 'ExtGState': {'GS7': <PDFObjRef:7>, 'GS8': <PDFObjRef:8>}, 'ProcSet': [/'PDF', /'Text', /'ImageB', /'ImageC', /'ImageI']}, streams=[<PDFStream(55): raw=13176, {'Filter': /'FlateDecode', 'Length': 13174}>], ctm=(1, 0, 0, 1, 0, 0)\n",
      "Page: {'Type': /'Page', 'Parent': <PDFObjRef:2>, 'Resources': {'Font': {'F8': <PDFObjRef:31>, 'F2': <PDFObjRef:9>, 'F1': <PDFObjRef:5>, 'F5': <PDFObjRef:17>, 'F10': <PDFObjRef:49>, 'F7': <PDFObjRef:24>}, 'ExtGState': {'GS7': <PDFObjRef:7>, 'GS8': <PDFObjRef:8>}, 'XObject': {'Image59': <PDFObjRef:59>}, 'ProcSet': [/'PDF', /'Text', /'ImageB', /'ImageC', /'ImageI']}, 'MediaBox': [0, 0, 595.56, 842.04], 'Contents': <PDFObjRef:58>, 'Group': {'Type': /'Group', 'S': /'Transparency', 'CS': /'DeviceRGB'}, 'Tabs': /'S', 'StructParents': 9}\n",
      "Processing page: <PDFPage: Resources={'Font': {'F8': <PDFObjRef:31>, 'F2': <PDFObjRef:9>, 'F1': <PDFObjRef:5>, 'F5': <PDFObjRef:17>, 'F10': <PDFObjRef:49>, 'F7': <PDFObjRef:24>}, 'ExtGState': {'GS7': <PDFObjRef:7>, 'GS8': <PDFObjRef:8>}, 'XObject': {'Image59': <PDFObjRef:59>}, 'ProcSet': [/'PDF', /'Text', /'ImageB', /'ImageC', /'ImageI']}, MediaBox=[0, 0, 595.56, 842.04]>\n",
      "render_contents: resources={'Font': {'F8': <PDFObjRef:31>, 'F2': <PDFObjRef:9>, 'F1': <PDFObjRef:5>, 'F5': <PDFObjRef:17>, 'F10': <PDFObjRef:49>, 'F7': <PDFObjRef:24>}, 'ExtGState': {'GS7': <PDFObjRef:7>, 'GS8': <PDFObjRef:8>}, 'XObject': {'Image59': <PDFObjRef:59>}, 'ProcSet': [/'PDF', /'Text', /'ImageB', /'ImageC', /'ImageI']}, streams=[<PDFStream(58): raw=2695, {'Filter': /'FlateDecode', 'Length': 2693}>], ctm=(1, 0, 0, 1, 0, 0)\n",
      "Processing xobj: <PDFStream(59): raw=79451, {'Type': /'XObject', 'Subtype': /'Image', 'Width': 1453, 'Height': 885, 'ColorSpace': /'DeviceRGB', 'BitsPerComponent': 8, 'Interpolate': False, 'Filter': /'FlateDecode', 'Length': 79449}>\n",
      "Page: {'Type': /'Page', 'Parent': <PDFObjRef:2>, 'Resources': {'Font': {'F5': <PDFObjRef:17>, 'F11': <PDFObjRef:62>, 'F1': <PDFObjRef:5>, 'F2': <PDFObjRef:9>, 'F12': <PDFObjRef:76>, 'F10': <PDFObjRef:49>, 'F8': <PDFObjRef:31>}, 'ExtGState': {'GS7': <PDFObjRef:7>, 'GS8': <PDFObjRef:8>}, 'ProcSet': [/'PDF', /'Text', /'ImageB', /'ImageC', /'ImageI']}, 'Annots': [<PDFObjRef:67>, <PDFObjRef:68>, <PDFObjRef:69>, <PDFObjRef:70>, <PDFObjRef:71>, <PDFObjRef:72>, <PDFObjRef:73>, <PDFObjRef:74>, <PDFObjRef:75>, <PDFObjRef:78>, <PDFObjRef:79>, <PDFObjRef:80>], 'MediaBox': [0, 0, 595.56, 842.04], 'Contents': <PDFObjRef:61>, 'Group': {'Type': /'Group', 'S': /'Transparency', 'CS': /'DeviceRGB'}, 'Tabs': /'S', 'StructParents': 10}\n",
      "Processing page: <PDFPage: Resources={'Font': {'F5': <PDFObjRef:17>, 'F11': <PDFObjRef:62>, 'F1': <PDFObjRef:5>, 'F2': <PDFObjRef:9>, 'F12': <PDFObjRef:76>, 'F10': <PDFObjRef:49>, 'F8': <PDFObjRef:31>}, 'ExtGState': {'GS7': <PDFObjRef:7>, 'GS8': <PDFObjRef:8>}, 'ProcSet': [/'PDF', /'Text', /'ImageB', /'ImageC', /'ImageI']}, MediaBox=[0, 0, 595.56, 842.04]>\n",
      "render_contents: resources={'Font': {'F5': <PDFObjRef:17>, 'F11': <PDFObjRef:62>, 'F1': <PDFObjRef:5>, 'F2': <PDFObjRef:9>, 'F12': <PDFObjRef:76>, 'F10': <PDFObjRef:49>, 'F8': <PDFObjRef:31>}, 'ExtGState': {'GS7': <PDFObjRef:7>, 'GS8': <PDFObjRef:8>}, 'ProcSet': [/'PDF', /'Text', /'ImageB', /'ImageC', /'ImageI']}, streams=[<PDFStream(61): raw=6831, {'Filter': /'FlateDecode', 'Length': 6829}>], ctm=(1, 0, 0, 1, 0, 0)\n",
      "get_font: create: objid=62, spec={'Type': /'Font', 'Subtype': /'Type0', 'BaseFont': /'ArialMT', 'Encoding': /'Identity-H', 'DescendantFonts': <PDFObjRef:63>, 'ToUnicode': <PDFObjRef:3661>}\n",
      "get_font: create: objid=None, spec={'BaseFont': /'ArialMT', 'Subtype': /'CIDFontType2', 'Type': /'Font', 'CIDToGIDMap': /'Identity', 'DW': 1000, 'CIDSystemInfo': <PDFObjRef:65>, 'FontDescriptor': <PDFObjRef:66>, 'W': <PDFObjRef:3663>, 'Encoding': /'Identity-H', 'ToUnicode': <PDFStream(3661): raw=228, {'Filter': /'FlateDecode', 'Length': 226}>}\n",
      "get_font: create: objid=76, spec={'Type': /'Font', 'Subtype': /'TrueType', 'Name': /'F12', 'BaseFont': /'BCDIEE+CourierNewPSMT', 'Encoding': /'WinAnsiEncoding', 'FontDescriptor': <PDFObjRef:77>, 'FirstChar': 111, 'LastChar': 111, 'Widths': <PDFObjRef:3682>}\n",
      "Page: {'Type': /'Page', 'Parent': <PDFObjRef:2>, 'Resources': {'Font': {'F5': <PDFObjRef:17>, 'F2': <PDFObjRef:9>, 'F8': <PDFObjRef:31>, 'F1': <PDFObjRef:5>, 'F7': <PDFObjRef:24>}, 'ExtGState': {'GS7': <PDFObjRef:7>, 'GS8': <PDFObjRef:8>}, 'ProcSet': [/'PDF', /'Text', /'ImageB', /'ImageC', /'ImageI']}, 'Annots': [<PDFObjRef:83>, <PDFObjRef:84>, <PDFObjRef:85>, <PDFObjRef:86>, <PDFObjRef:87>, <PDFObjRef:88>], 'MediaBox': [0, 0, 595.56, 842.04], 'Contents': <PDFObjRef:82>, 'Group': {'Type': /'Group', 'S': /'Transparency', 'CS': /'DeviceRGB'}, 'Tabs': /'S', 'StructParents': 23}\n",
      "Processing page: <PDFPage: Resources={'Font': {'F5': <PDFObjRef:17>, 'F2': <PDFObjRef:9>, 'F8': <PDFObjRef:31>, 'F1': <PDFObjRef:5>, 'F7': <PDFObjRef:24>}, 'ExtGState': {'GS7': <PDFObjRef:7>, 'GS8': <PDFObjRef:8>}, 'ProcSet': [/'PDF', /'Text', /'ImageB', /'ImageC', /'ImageI']}, MediaBox=[0, 0, 595.56, 842.04]>\n",
      "render_contents: resources={'Font': {'F5': <PDFObjRef:17>, 'F2': <PDFObjRef:9>, 'F8': <PDFObjRef:31>, 'F1': <PDFObjRef:5>, 'F7': <PDFObjRef:24>}, 'ExtGState': {'GS7': <PDFObjRef:7>, 'GS8': <PDFObjRef:8>}, 'ProcSet': [/'PDF', /'Text', /'ImageB', /'ImageC', /'ImageI']}, streams=[<PDFStream(82): raw=4981, {'Filter': /'FlateDecode', 'Length': 4979}>], ctm=(1, 0, 0, 1, 0, 0)\n",
      "Page: {'Type': /'Page', 'Parent': <PDFObjRef:2>, 'Resources': {'Font': {'F2': <PDFObjRef:9>, 'F1': <PDFObjRef:5>, 'F13': <PDFObjRef:91>}, 'ExtGState': {'GS7': <PDFObjRef:7>, 'GS8': <PDFObjRef:8>}, 'ProcSet': [/'PDF', /'Text', /'ImageB', /'ImageC', /'ImageI']}, 'Annots': [<PDFObjRef:93>, <PDFObjRef:94>], 'MediaBox': [0, 0, 595.56, 842.04], 'Contents': <PDFObjRef:90>, 'Group': {'Type': /'Group', 'S': /'Transparency', 'CS': /'DeviceRGB'}, 'Tabs': /'S', 'StructParents': 30}\n",
      "Processing page: <PDFPage: Resources={'Font': {'F2': <PDFObjRef:9>, 'F1': <PDFObjRef:5>, 'F13': <PDFObjRef:91>}, 'ExtGState': {'GS7': <PDFObjRef:7>, 'GS8': <PDFObjRef:8>}, 'ProcSet': [/'PDF', /'Text', /'ImageB', /'ImageC', /'ImageI']}, MediaBox=[0, 0, 595.56, 842.04]>\n",
      "render_contents: resources={'Font': {'F2': <PDFObjRef:9>, 'F1': <PDFObjRef:5>, 'F13': <PDFObjRef:91>}, 'ExtGState': {'GS7': <PDFObjRef:7>, 'GS8': <PDFObjRef:8>}, 'ProcSet': [/'PDF', /'Text', /'ImageB', /'ImageC', /'ImageI']}, streams=[<PDFStream(90): raw=1982, {'Filter': /'FlateDecode', 'Length': 1980}>], ctm=(1, 0, 0, 1, 0, 0)\n",
      "get_font: create: objid=91, spec={'Type': /'Font', 'Subtype': /'TrueType', 'Name': /'F13', 'BaseFont': /'BCDJEE+Calibri-Italic', 'Encoding': /'WinAnsiEncoding', 'FontDescriptor': <PDFObjRef:92>, 'FirstChar': 32, 'LastChar': 119, 'Widths': <PDFObjRef:3684>}\n"
     ]
    },
    {
     "name": "stdout",
     "output_type": "stream",
     "text": [
      "<re.Match object; span=(74, 141), match='Data as reported by national authorities by 10:00>\n",
      "30 March 2020 30 March 2020\n",
      "2020-03-30\n",
      "already processed  https://www.who.int/docs/default-source/coronaviruse/situation-reports/20200329-sitrep-69-covid-19.pdf  in previous runs\n",
      "already processed  https://www.who.int/docs/default-source/coronaviruse/situation-reports/20200328-sitrep-68-covid-19.pdf  in previous runs\n",
      "already processed  https://www.who.int/docs/default-source/coronaviruse/situation-reports/20200327-sitrep-67-covid-19.pdf  in previous runs\n",
      "already processed  https://www.who.int/docs/default-source/coronaviruse/situation-reports/20200326-sitrep-66-covid-19.pdf  in previous runs\n",
      "already processed  https://www.who.int/docs/default-source/coronaviruse/situation-reports/20200325-sitrep-65-covid-19.pdf  in previous runs\n",
      "already processed  https://www.who.int/docs/default-source/coronaviruse/situation-reports/20200324-sitrep-64-covid-19.pdf  in previous runs\n",
      "already processed  https://www.who.int/docs/default-source/coronaviruse/situation-reports/20200323-sitrep-63-covid-19.pdf  in previous runs\n",
      "already processed  https://www.who.int/docs/default-source/coronaviruse/situation-reports/20200322-sitrep-62-covid-19.pdf  in previous runs\n",
      "already processed  https://www.who.int/docs/default-source/coronaviruse/situation-reports/20200321-sitrep-61-covid-19.pdf  in previous runs\n",
      "already processed  https://www.who.int/docs/default-source/coronaviruse/situation-reports/20200320-sitrep-60-covid-19.pdf  in previous runs\n",
      "already processed  https://www.who.int/docs/default-source/coronaviruse/situation-reports/20200319-sitrep-59-covid-19.pdf  in previous runs\n",
      "already processed  https://www.who.int/docs/default-source/coronaviruse/situation-reports/20200318-sitrep-58-covid-19.pdf  in previous runs\n",
      "already processed  https://www.who.int/docs/default-source/coronaviruse/situation-reports/20200317-sitrep-57-covid-19.pdf  in previous runs\n",
      "already processed  https://www.who.int/docs/default-source/coronaviruse/situation-reports/20200316-sitrep-56-covid-19.pdf  in previous runs\n",
      "already processed  https://www.who.int/docs/default-source/coronaviruse/situation-reports/20200315-sitrep-55-covid-19.pdf  in previous runs\n",
      "already processed  https://www.who.int/docs/default-source/coronaviruse/situation-reports/20200314-sitrep-54-covid-19.pdf  in previous runs\n",
      "already processed  https://www.who.int/docs/default-source/coronaviruse/situation-reports/20200313-sitrep-53-covid-19.pdf  in previous runs\n",
      "already processed  https://www.who.int/docs/default-source/coronaviruse/situation-reports/20200312-sitrep-52-covid-19.pdf  in previous runs\n",
      "already processed  https://www.who.int/docs/default-source/coronaviruse/situation-reports/20200311-sitrep-51-covid-19.pdf  in previous runs\n",
      "already processed  https://www.who.int/docs/default-source/coronaviruse/situation-reports/20200310-sitrep-50-covid-19.pdf  in previous runs\n",
      "already processed  https://www.who.int/docs/default-source/coronaviruse/situation-reports/20200309-sitrep-49-covid-19.pdf  in previous runs\n",
      "already processed  https://www.who.int/docs/default-source/coronaviruse/situation-reports/20200308-sitrep-48-covid-19.pdf  in previous runs\n",
      "already processed  https://www.who.int/docs/default-source/coronaviruse/situation-reports/20200307-sitrep-47-covid-19.pdf  in previous runs\n",
      "already processed  https://www.who.int/docs/default-source/coronaviruse/situation-reports/20200306-sitrep-46-covid-19.pdf  in previous runs\n",
      "already processed  https://www.who.int/docs/default-source/coronaviruse/situation-reports/20200305-sitrep-45-covid-19.pdf  in previous runs\n",
      "already processed  https://www.who.int/docs/default-source/coronaviruse/situation-reports/20200304-sitrep-44-covid-19.pdf  in previous runs\n",
      "already processed  https://www.who.int/docs/default-source/coronaviruse/situation-reports/20200303-sitrep-43-covid-19.pdf  in previous runs\n",
      "already processed  https://www.who.int/docs/default-source/coronaviruse/situation-reports/20200302-sitrep-42-covid-19.pdf  in previous runs\n",
      "already processed  https://www.who.int/docs/default-source/coronaviruse/situation-reports/20200301-sitrep-41-covid-19.pdf  in previous runs\n",
      "already processed  https://www.who.int/docs/default-source/coronaviruse/situation-reports/20200229-sitrep-40-covid-19.pdf  in previous runs\n",
      "already processed  https://www.who.int/docs/default-source/coronaviruse/situation-reports/20200228-sitrep-39-covid-19.pdf  in previous runs\n",
      "already processed  https://www.who.int/docs/default-source/coronaviruse/situation-reports/20200227-sitrep-38-covid-19.pdf  in previous runs\n",
      "already processed  https://www.who.int/docs/default-source/coronaviruse/situation-reports/20200226-sitrep-37-covid-19.pdf  in previous runs\n",
      "already processed  https://www.who.int/docs/default-source/coronaviruse/situation-reports/20200225-sitrep-36-covid-19.pdf  in previous runs\n",
      "already processed  https://www.who.int/docs/default-source/coronaviruse/situation-reports/20200224-sitrep-35-covid-19.pdf  in previous runs\n",
      "already processed  https://www.who.int/docs/default-source/coronaviruse/situation-reports/20200223-sitrep-34-covid-19.pdf  in previous runs\n",
      "already processed  https://www.who.int/docs/default-source/coronaviruse/situation-reports/20200222-sitrep-33-covid-19.pdf  in previous runs\n",
      "already processed  https://www.who.int/docs/default-source/coronaviruse/situation-reports/20200221-sitrep-32-covid-19.pdf  in previous runs\n",
      "already processed  https://www.who.int/docs/default-source/coronaviruse/situation-reports/20200220-sitrep-31-covid-19.pdf  in previous runs\n",
      "already processed  https://www.who.int/docs/default-source/coronaviruse/situation-reports/20200219-sitrep-30-covid-19.pdf  in previous runs\n",
      "already processed  https://www.who.int/docs/default-source/coronaviruse/situation-reports/20200218-sitrep-29-covid-19.pdf  in previous runs\n",
      "already processed  https://www.who.int/docs/default-source/coronaviruse/situation-reports/20200217-sitrep-28-covid-19.pdf  in previous runs\n",
      "already processed  https://www.who.int/docs/default-source/coronaviruse/situation-reports/20200216-sitrep-27-covid-19.pdf  in previous runs\n",
      "already processed  https://www.who.int/docs/default-source/coronaviruse/situation-reports/20200215-sitrep-26-covid-19.pdf  in previous runs\n",
      "already processed  https://www.who.int/docs/default-source/coronaviruse/situation-reports/20200214-sitrep-25-covid-19.pdf  in previous runs\n",
      "already processed  https://www.who.int/docs/default-source/coronaviruse/situation-reports/20200213-sitrep-24-covid-19.pdf  in previous runs\n",
      "already processed  https://www.who.int/docs/default-source/coronaviruse/situation-reports/20200212-sitrep-23-ncov.pdf  in previous runs\n",
      "already processed  https://www.who.int/docs/default-source/coronaviruse/situation-reports/20200211-sitrep-22-ncov.pdf  in previous runs\n",
      "already processed  https://www.who.int/docs/default-source/coronaviruse/situation-reports/20200210-sitrep-21-ncov.pdf  in previous runs\n",
      "already processed  https://www.who.int/docs/default-source/coronaviruse/situation-reports/20200209-sitrep-20-ncov.pdf  in previous runs\n",
      "already processed  https://www.who.int/docs/default-source/coronaviruse/situation-reports/20200208-sitrep-19-ncov.pdf  in previous runs\n",
      "already processed  https://www.who.int/docs/default-source/coronaviruse/situation-reports/20200207-sitrep-18-ncov.pdf  in previous runs\n",
      "already processed  https://www.who.int/docs/default-source/coronaviruse/situation-reports/20200206-sitrep-17-ncov.pdf  in previous runs\n",
      "already processed  https://www.who.int/docs/default-source/coronaviruse/situation-reports/20200205-sitrep-16-ncov.pdf  in previous runs\n",
      "already processed  https://www.who.int/docs/default-source/coronaviruse/situation-reports/20200204-sitrep-15-ncov.pdf  in previous runs\n",
      "already processed  https://www.who.int/docs/default-source/coronaviruse/situation-reports/20200203-sitrep-14-ncov.pdf  in previous runs\n",
      "already processed  https://www.who.int/docs/default-source/coronaviruse/situation-reports/20200202-sitrep-13-ncov-v3.pdf  in previous runs\n",
      "already processed  https://www.who.int/docs/default-source/coronaviruse/situation-reports/20200201-sitrep-12-ncov.pdf  in previous runs\n",
      "already processed  https://www.who.int/docs/default-source/coronaviruse/situation-reports/20200131-sitrep-11-ncov.pdf  in previous runs\n",
      "already processed  https://www.who.int/docs/default-source/coronaviruse/situation-reports/20200130-sitrep-10-ncov.pdf  in previous runs\n",
      "already processed  https://www.who.int/docs/default-source/coronaviruse/situation-reports/20200129-sitrep-9-ncov-v2.pdf  in previous runs\n",
      "already processed  https://www.who.int/docs/default-source/coronaviruse/situation-reports/20200128-sitrep-8-ncov-cleared.pdf  in previous runs\n",
      "already processed  https://www.who.int/docs/default-source/coronaviruse/situation-reports/20200127-sitrep-7-2019--ncov.pdf  in previous runs\n"
     ]
    }
   ],
   "source": [
    "df = get_WHO_stats()"
   ]
  },
  {
   "cell_type": "code",
   "execution_count": 9,
   "metadata": {},
   "outputs": [
    {
     "data": {
      "text/html": [
       "<div>\n",
       "<style scoped>\n",
       "    .dataframe tbody tr th:only-of-type {\n",
       "        vertical-align: middle;\n",
       "    }\n",
       "\n",
       "    .dataframe tbody tr th {\n",
       "        vertical-align: top;\n",
       "    }\n",
       "\n",
       "    .dataframe thead th {\n",
       "        text-align: right;\n",
       "    }\n",
       "</style>\n",
       "<table border=\"1\" class=\"dataframe\">\n",
       "  <thead>\n",
       "    <tr style=\"text-align: right;\">\n",
       "      <th></th>\n",
       "      <th>date</th>\n",
       "      <th>global_cases</th>\n",
       "      <th>report_url</th>\n",
       "    </tr>\n",
       "  </thead>\n",
       "  <tbody>\n",
       "    <tr>\n",
       "      <th>0</th>\n",
       "      <td>2020-01-27</td>\n",
       "      <td>2798</td>\n",
       "      <td>https://www.who.int/docs/default-source/corona...</td>\n",
       "    </tr>\n",
       "    <tr>\n",
       "      <th>1</th>\n",
       "      <td>2020-01-28</td>\n",
       "      <td>4593</td>\n",
       "      <td>https://www.who.int/docs/default-source/corona...</td>\n",
       "    </tr>\n",
       "    <tr>\n",
       "      <th>2</th>\n",
       "      <td>2020-01-29</td>\n",
       "      <td>6065</td>\n",
       "      <td>https://www.who.int/docs/default-source/corona...</td>\n",
       "    </tr>\n",
       "    <tr>\n",
       "      <th>3</th>\n",
       "      <td>2020-01-30</td>\n",
       "      <td>7818</td>\n",
       "      <td>https://www.who.int/docs/default-source/corona...</td>\n",
       "    </tr>\n",
       "    <tr>\n",
       "      <th>4</th>\n",
       "      <td>2020-01-31</td>\n",
       "      <td>9826</td>\n",
       "      <td>https://www.who.int/docs/default-source/corona...</td>\n",
       "    </tr>\n",
       "    <tr>\n",
       "      <th>...</th>\n",
       "      <td>...</td>\n",
       "      <td>...</td>\n",
       "      <td>...</td>\n",
       "    </tr>\n",
       "    <tr>\n",
       "      <th>62</th>\n",
       "      <td>2020-03-26</td>\n",
       "      <td>462684</td>\n",
       "      <td>https://www.who.int/docs/default-source/corona...</td>\n",
       "    </tr>\n",
       "    <tr>\n",
       "      <th>63</th>\n",
       "      <td>2020-03-27</td>\n",
       "      <td>509164</td>\n",
       "      <td>https://www.who.int/docs/default-source/corona...</td>\n",
       "    </tr>\n",
       "    <tr>\n",
       "      <th>64</th>\n",
       "      <td>2020-03-28</td>\n",
       "      <td>571678</td>\n",
       "      <td>https://www.who.int/docs/default-source/corona...</td>\n",
       "    </tr>\n",
       "    <tr>\n",
       "      <th>65</th>\n",
       "      <td>2020-03-29</td>\n",
       "      <td>634835</td>\n",
       "      <td>https://www.who.int/docs/default-source/corona...</td>\n",
       "    </tr>\n",
       "    <tr>\n",
       "      <th>66</th>\n",
       "      <td>2020-03-30</td>\n",
       "      <td>693224</td>\n",
       "      <td>https://www.who.int/docs/default-source/corona...</td>\n",
       "    </tr>\n",
       "  </tbody>\n",
       "</table>\n",
       "<p>67 rows × 3 columns</p>\n",
       "</div>"
      ],
      "text/plain": [
       "          date  global_cases  \\\n",
       "0   2020-01-27          2798   \n",
       "1   2020-01-28          4593   \n",
       "2   2020-01-29          6065   \n",
       "3   2020-01-30          7818   \n",
       "4   2020-01-31          9826   \n",
       "..         ...           ...   \n",
       "62  2020-03-26        462684   \n",
       "63  2020-03-27        509164   \n",
       "64  2020-03-28        571678   \n",
       "65  2020-03-29        634835   \n",
       "66  2020-03-30        693224   \n",
       "\n",
       "                                           report_url  \n",
       "0   https://www.who.int/docs/default-source/corona...  \n",
       "1   https://www.who.int/docs/default-source/corona...  \n",
       "2   https://www.who.int/docs/default-source/corona...  \n",
       "3   https://www.who.int/docs/default-source/corona...  \n",
       "4   https://www.who.int/docs/default-source/corona...  \n",
       "..                                                ...  \n",
       "62  https://www.who.int/docs/default-source/corona...  \n",
       "63  https://www.who.int/docs/default-source/corona...  \n",
       "64  https://www.who.int/docs/default-source/corona...  \n",
       "65  https://www.who.int/docs/default-source/corona...  \n",
       "66  https://www.who.int/docs/default-source/corona...  \n",
       "\n",
       "[67 rows x 3 columns]"
      ]
     },
     "execution_count": 9,
     "metadata": {},
     "output_type": "execute_result"
    }
   ],
   "source": [
    "df"
   ]
  },
  {
   "cell_type": "markdown",
   "metadata": {},
   "source": [
    "### Plot graph and save to files"
   ]
  },
  {
   "cell_type": "code",
   "execution_count": 10,
   "metadata": {},
   "outputs": [],
   "source": [
    "import seaborn as sns\n",
    "from pathlib import Path"
   ]
  },
  {
   "cell_type": "code",
   "execution_count": 11,
   "metadata": {},
   "outputs": [],
   "source": [
    "df.sort_values(by=['date'], inplace=True)"
   ]
  },
  {
   "cell_type": "code",
   "execution_count": 12,
   "metadata": {},
   "outputs": [
    {
     "data": {
      "image/png": "[encoded data removed]",
      "text/plain": [
       "<Figure size 1152x612 with 1 Axes>"
      ]
     },
     "metadata": {},
     "output_type": "display_data"
    }
   ],
   "source": [
    "sns.set(rc={'figure.figsize':(16,8.5)})\n",
    "sns.set(style=\"whitegrid\")\n",
    "\n",
    "\n",
    "bar_chart = sns.barplot(x='date', y='global_cases', color='dodgerblue', data=df)\n",
    "bar_chart.tick_params(axis='x', labelrotation=70)\n"
   ]
  },
  {
   "cell_type": "code",
   "execution_count": 13,
   "metadata": {},
   "outputs": [],
   "source": [
    "bar_chart_fig = bar_chart.get_figure()\n"
   ]
  },
  {
   "cell_type": "code",
   "execution_count": 14,
   "metadata": {},
   "outputs": [],
   "source": [
    "df.to_csv(csv_file, index=False)\n",
    "bar_chart_fig.savefig(png_file)\n"
   ]
  },
  {
   "cell_type": "code",
   "execution_count": null,
   "metadata": {},
   "outputs": [],
   "source": []
  }
 ],
 "metadata": {
  "kernelspec": {
   "display_name": "Python 3",
   "language": "python",
   "name": "python3"
  },
  "language_info": {
   "codemirror_mode": {
    "name": "ipython",
    "version": 3
   },
   "file_extension": ".py",
   "mimetype": "text/x-python",
   "name": "python",
   "nbconvert_exporter": "python",
   "pygments_lexer": "ipython3",
   "version": "3.7.6"
  }
 },
 "nbformat": 4,
 "nbformat_minor": 2
}
