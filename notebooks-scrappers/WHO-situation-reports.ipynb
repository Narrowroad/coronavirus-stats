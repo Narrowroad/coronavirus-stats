{
 "cells": [
  {
   "cell_type": "code",
   "execution_count": 1,
   "metadata": {},
   "outputs": [],
   "source": [
    "import requests\n",
    "import re\n",
    "import io\n",
    "from bs4 import BeautifulSoup\n",
    "from urllib.parse import urljoin\n",
    "from datetime import datetime\n",
    "# from PyPDF2 import PdfFileReader\n",
    "from pdfminer.high_level import extract_text\n",
    "import logging\n",
    "import sys\n",
    "import pandas as pd\n",
    "\n",
    "\n",
    "logger = logging.getLogger() \n",
    "logger.handlers = [logging.StreamHandler()]\n",
    "logger.setLevel(logging.INFO)\n"
   ]
  },
  {
   "cell_type": "code",
   "execution_count": 2,
   "metadata": {},
   "outputs": [],
   "source": [
    "csv_file = '../data/who-global-cases.csv'\n",
    "png_file = '../images/who-global-cases.png'"
   ]
  },
  {
   "cell_type": "code",
   "execution_count": 3,
   "metadata": {},
   "outputs": [
    {
     "data": {
      "text/plain": [
       "datetime.datetime(2020, 3, 31, 9, 52, 32, 369450)"
      ]
     },
     "execution_count": 3,
     "metadata": {},
     "output_type": "execute_result"
    }
   ],
   "source": [
    "# display the last execute time\n",
    "datetime.now()"
   ]
  },
  {
   "cell_type": "markdown",
   "metadata": {},
   "source": [
    "### Scraping"
   ]
  },
  {
   "cell_type": "code",
   "execution_count": 4,
   "metadata": {},
   "outputs": [],
   "source": [
    "def analyze_report(url):\n",
    "    '''\n",
    "    Analyze a situation report url\n",
    "    '''\n",
    "    response = requests.get(url)\n",
    "    # approach using Py2PDF\n",
    "    #     f_obj = io.BytesIO(response.content)\n",
    "    #     pdf = PdfFileReader(f_obj)\n",
    "    #     page_zero = pdf.getPage(0)  \n",
    "    #     text  = page_zero.extractText()\n",
    "\n",
    "    # using pdfminer\n",
    "    filename=re.sub(\"[\\:\\s\\.]\", \"\", str(datetime.now()))\n",
    "    open(filename, \"wb\").write(response.content)\n",
    "    text = extract_text(filename)\n",
    "    \n",
    "    try:\n",
    "        # use regular expression to extract date\n",
    "        p_date = re.compile(\"Data as reported by .+ (\\d+ \\w+ 202\\d)\")\n",
    "        m_date = p_date.search(text)\n",
    "        print(m_date)\n",
    "        report_date_str = m_date.group(1).replace(\"\\n\",\"\")\n",
    "        print(report_date_str, m_date.group(1))\n",
    "        report_date = datetime.strptime(report_date_str, '%d %B %Y').strftime('%Y-%m-%d')\n",
    "        print(report_date)\n",
    "        # use regular expression to extract global cases\n",
    "        p_global = re.compile(\"Globally ([\\s\\n0-9]+)\", re.DOTALL)\n",
    "        m_global = p_global.search(text)\n",
    "        global_cases_str = re.sub(r'[\\n\\s]', '', m_global.group(1))\n",
    "\n",
    "        global_cases = int(global_cases_str)\n",
    "\n",
    "        return {\"date\":report_date, \"global_cases\": global_cases, \"report_url\": url}\n",
    "    except AttributeError as e:\n",
    "        logger.warning(f'Unable to extract from \"{url}\" : {e}\\n.')\n",
    "        raise e\n",
    "\n"
   ]
  },
  {
   "cell_type": "code",
   "execution_count": 5,
   "metadata": {},
   "outputs": [],
   "source": [
    "def get_reports_urls(home_url):\n",
    "    '''\n",
    "    Extract situation reports URL from WHO's page\n",
    "    '''\n",
    "    # unable to analyse these reports\n",
    "    skipped_urls = [\n",
    "        'https://www.who.int/docs/default-source/coronaviruse/situation-reports/20200126-sitrep-6-2019--ncov.pdf',\n",
    "        'https://www.who.int/docs/default-source/coronaviruse/situation-reports/20200125-sitrep-5-2019-ncov.pdf',\n",
    "        'https://www.who.int/docs/default-source/coronaviruse/situation-reports/20200124-sitrep-4-2019-ncov.pdf',\n",
    "        'https://www.who.int/docs/default-source/coronaviruse/situation-reports/20200123-sitrep-3-2019-ncov.pdf',\n",
    "        'https://www.who.int/docs/default-source/coronaviruse/situation-reports/20200122-sitrep-2-2019-ncov.pdf',\n",
    "        'https://www.who.int/docs/default-source/coronaviruse/situation-reports/20200121-sitrep-1-2019-ncov.pdf'\n",
    "    ]  \n",
    "    \n",
    "    urls = []\n",
    "    response = requests.get(home_url)\n",
    "    soup = BeautifulSoup(response.content, 'lxml')\n",
    "    tags = soup.find_all('a')\n",
    "    for tag in tags:\n",
    "        if len(tag.contents)>0:\n",
    "            content = str(tag.contents[0])\n",
    "            if \"Situation report - \" in content:\n",
    "                url = urljoin(home_url ,  tag.get('href')).split('?')[0]\n",
    "                \n",
    "                if url not in skipped_urls:\n",
    "                    urls.append(url)\n",
    "\n",
    "    return urls\n"
   ]
  },
  {
   "cell_type": "code",
   "execution_count": null,
   "metadata": {},
   "outputs": [],
   "source": []
  },
  {
   "cell_type": "code",
   "execution_count": 6,
   "metadata": {},
   "outputs": [],
   "source": [
    "def get_WHO_stats():\n",
    "    reports_home_url = 'https://www.who.int/emergencies/diseases/novel-coronavirus-2019/situation-reports/'\n",
    "    reports_urls = get_reports_urls(reports_home_url)\n",
    "    df = pd.read_csv(csv_file)\n",
    "    for url in reports_urls:\n",
    "        if df['report_url'].str.contains(url).any():\n",
    "            print('already processed ', url, ' in previous runs')\n",
    "            continue\n",
    "        stats = analyze_report(url)\n",
    "        df = df.append(stats, ignore_index = True)\n",
    "    return df"
   ]
  },
  {
   "cell_type": "code",
   "execution_count": 7,
   "metadata": {},
   "outputs": [
    {
     "name": "stdout",
     "output_type": "stream",
     "text": [
      "['https://www.who.int/docs/default-source/coronaviruse/situation-reports/20200330-sitrep-70-covid-19.pdf', 'https://www.who.int/docs/default-source/coronaviruse/situation-reports/20200329-sitrep-69-covid-19.pdf', 'https://www.who.int/docs/default-source/coronaviruse/situation-reports/20200328-sitrep-68-covid-19.pdf', 'https://www.who.int/docs/default-source/coronaviruse/situation-reports/20200327-sitrep-67-covid-19.pdf', 'https://www.who.int/docs/default-source/coronaviruse/situation-reports/20200326-sitrep-66-covid-19.pdf', 'https://www.who.int/docs/default-source/coronaviruse/situation-reports/20200325-sitrep-65-covid-19.pdf', 'https://www.who.int/docs/default-source/coronaviruse/situation-reports/20200324-sitrep-64-covid-19.pdf', 'https://www.who.int/docs/default-source/coronaviruse/situation-reports/20200323-sitrep-63-covid-19.pdf', 'https://www.who.int/docs/default-source/coronaviruse/situation-reports/20200322-sitrep-62-covid-19.pdf', 'https://www.who.int/docs/default-source/coronaviruse/situation-reports/20200321-sitrep-61-covid-19.pdf', 'https://www.who.int/docs/default-source/coronaviruse/situation-reports/20200320-sitrep-60-covid-19.pdf', 'https://www.who.int/docs/default-source/coronaviruse/situation-reports/20200319-sitrep-59-covid-19.pdf', 'https://www.who.int/docs/default-source/coronaviruse/situation-reports/20200318-sitrep-58-covid-19.pdf', 'https://www.who.int/docs/default-source/coronaviruse/situation-reports/20200317-sitrep-57-covid-19.pdf', 'https://www.who.int/docs/default-source/coronaviruse/situation-reports/20200316-sitrep-56-covid-19.pdf', 'https://www.who.int/docs/default-source/coronaviruse/situation-reports/20200315-sitrep-55-covid-19.pdf', 'https://www.who.int/docs/default-source/coronaviruse/situation-reports/20200314-sitrep-54-covid-19.pdf', 'https://www.who.int/docs/default-source/coronaviruse/situation-reports/20200313-sitrep-53-covid-19.pdf', 'https://www.who.int/docs/default-source/coronaviruse/situation-reports/20200312-sitrep-52-covid-19.pdf', 'https://www.who.int/docs/default-source/coronaviruse/situation-reports/20200311-sitrep-51-covid-19.pdf', 'https://www.who.int/docs/default-source/coronaviruse/situation-reports/20200310-sitrep-50-covid-19.pdf', 'https://www.who.int/docs/default-source/coronaviruse/situation-reports/20200309-sitrep-49-covid-19.pdf', 'https://www.who.int/docs/default-source/coronaviruse/situation-reports/20200308-sitrep-48-covid-19.pdf', 'https://www.who.int/docs/default-source/coronaviruse/situation-reports/20200307-sitrep-47-covid-19.pdf', 'https://www.who.int/docs/default-source/coronaviruse/situation-reports/20200306-sitrep-46-covid-19.pdf', 'https://www.who.int/docs/default-source/coronaviruse/situation-reports/20200305-sitrep-45-covid-19.pdf', 'https://www.who.int/docs/default-source/coronaviruse/situation-reports/20200304-sitrep-44-covid-19.pdf', 'https://www.who.int/docs/default-source/coronaviruse/situation-reports/20200303-sitrep-43-covid-19.pdf', 'https://www.who.int/docs/default-source/coronaviruse/situation-reports/20200302-sitrep-42-covid-19.pdf', 'https://www.who.int/docs/default-source/coronaviruse/situation-reports/20200301-sitrep-41-covid-19.pdf', 'https://www.who.int/docs/default-source/coronaviruse/situation-reports/20200229-sitrep-40-covid-19.pdf', 'https://www.who.int/docs/default-source/coronaviruse/situation-reports/20200228-sitrep-39-covid-19.pdf', 'https://www.who.int/docs/default-source/coronaviruse/situation-reports/20200227-sitrep-38-covid-19.pdf', 'https://www.who.int/docs/default-source/coronaviruse/situation-reports/20200226-sitrep-37-covid-19.pdf', 'https://www.who.int/docs/default-source/coronaviruse/situation-reports/20200225-sitrep-36-covid-19.pdf', 'https://www.who.int/docs/default-source/coronaviruse/situation-reports/20200224-sitrep-35-covid-19.pdf', 'https://www.who.int/docs/default-source/coronaviruse/situation-reports/20200223-sitrep-34-covid-19.pdf', 'https://www.who.int/docs/default-source/coronaviruse/situation-reports/20200222-sitrep-33-covid-19.pdf', 'https://www.who.int/docs/default-source/coronaviruse/situation-reports/20200221-sitrep-32-covid-19.pdf', 'https://www.who.int/docs/default-source/coronaviruse/situation-reports/20200220-sitrep-31-covid-19.pdf', 'https://www.who.int/docs/default-source/coronaviruse/situation-reports/20200219-sitrep-30-covid-19.pdf', 'https://www.who.int/docs/default-source/coronaviruse/situation-reports/20200218-sitrep-29-covid-19.pdf', 'https://www.who.int/docs/default-source/coronaviruse/situation-reports/20200217-sitrep-28-covid-19.pdf', 'https://www.who.int/docs/default-source/coronaviruse/situation-reports/20200216-sitrep-27-covid-19.pdf', 'https://www.who.int/docs/default-source/coronaviruse/situation-reports/20200215-sitrep-26-covid-19.pdf', 'https://www.who.int/docs/default-source/coronaviruse/situation-reports/20200214-sitrep-25-covid-19.pdf', 'https://www.who.int/docs/default-source/coronaviruse/situation-reports/20200213-sitrep-24-covid-19.pdf', 'https://www.who.int/docs/default-source/coronaviruse/situation-reports/20200212-sitrep-23-ncov.pdf', 'https://www.who.int/docs/default-source/coronaviruse/situation-reports/20200211-sitrep-22-ncov.pdf', 'https://www.who.int/docs/default-source/coronaviruse/situation-reports/20200210-sitrep-21-ncov.pdf', 'https://www.who.int/docs/default-source/coronaviruse/situation-reports/20200209-sitrep-20-ncov.pdf', 'https://www.who.int/docs/default-source/coronaviruse/situation-reports/20200208-sitrep-19-ncov.pdf', 'https://www.who.int/docs/default-source/coronaviruse/situation-reports/20200207-sitrep-18-ncov.pdf', 'https://www.who.int/docs/default-source/coronaviruse/situation-reports/20200206-sitrep-17-ncov.pdf', 'https://www.who.int/docs/default-source/coronaviruse/situation-reports/20200205-sitrep-16-ncov.pdf', 'https://www.who.int/docs/default-source/coronaviruse/situation-reports/20200204-sitrep-15-ncov.pdf', 'https://www.who.int/docs/default-source/coronaviruse/situation-reports/20200203-sitrep-14-ncov.pdf', 'https://www.who.int/docs/default-source/coronaviruse/situation-reports/20200202-sitrep-13-ncov-v3.pdf', 'https://www.who.int/docs/default-source/coronaviruse/situation-reports/20200201-sitrep-12-ncov.pdf', 'https://www.who.int/docs/default-source/coronaviruse/situation-reports/20200131-sitrep-11-ncov.pdf', 'https://www.who.int/docs/default-source/coronaviruse/situation-reports/20200130-sitrep-10-ncov.pdf', 'https://www.who.int/docs/default-source/coronaviruse/situation-reports/20200129-sitrep-9-ncov-v2.pdf', 'https://www.who.int/docs/default-source/coronaviruse/situation-reports/20200128-sitrep-8-ncov-cleared.pdf', 'https://www.who.int/docs/default-source/coronaviruse/situation-reports/20200127-sitrep-7-2019--ncov.pdf']\n",
      "0     https://www.who.int/docs/default-source/corona...\n",
      "1     https://www.who.int/docs/default-source/corona...\n",
      "2     https://www.who.int/docs/default-source/corona...\n",
      "3     https://www.who.int/docs/default-source/corona...\n",
      "4     https://www.who.int/docs/default-source/corona...\n",
      "                            ...                        \n",
      "62    https://www.who.int/docs/default-source/corona...\n",
      "63    https://www.who.int/docs/default-source/corona...\n",
      "64    https://www.who.int/docs/default-source/corona...\n",
      "65    https://www.who.int/docs/default-source/corona...\n",
      "66    https://www.who.int/docs/default-source/corona...\n",
      "Name: report_url, Length: 67, dtype: object\n"
     ]
    }
   ],
   "source": [
    "reports_urls = get_reports_urls('https://www.who.int/emergencies/diseases/novel-coronavirus-2019/situation-reports')\n",
    "df = pd.read_csv(csv_file)\n",
    "print(reports_urls)\n",
    "print(df['report_url'])"
   ]
  },
  {
   "cell_type": "code",
   "execution_count": 8,
   "metadata": {},
   "outputs": [
    {
     "name": "stdout",
     "output_type": "stream",
     "text": [
      "already processed  https://www.who.int/docs/default-source/coronaviruse/situation-reports/20200330-sitrep-70-covid-19.pdf  in previous runs\n",
      "already processed  https://www.who.int/docs/default-source/coronaviruse/situation-reports/20200329-sitrep-69-covid-19.pdf  in previous runs\n",
      "already processed  https://www.who.int/docs/default-source/coronaviruse/situation-reports/20200328-sitrep-68-covid-19.pdf  in previous runs\n",
      "already processed  https://www.who.int/docs/default-source/coronaviruse/situation-reports/20200327-sitrep-67-covid-19.pdf  in previous runs\n",
      "already processed  https://www.who.int/docs/default-source/coronaviruse/situation-reports/20200326-sitrep-66-covid-19.pdf  in previous runs\n",
      "already processed  https://www.who.int/docs/default-source/coronaviruse/situation-reports/20200325-sitrep-65-covid-19.pdf  in previous runs\n",
      "already processed  https://www.who.int/docs/default-source/coronaviruse/situation-reports/20200324-sitrep-64-covid-19.pdf  in previous runs\n",
      "already processed  https://www.who.int/docs/default-source/coronaviruse/situation-reports/20200323-sitrep-63-covid-19.pdf  in previous runs\n",
      "already processed  https://www.who.int/docs/default-source/coronaviruse/situation-reports/20200322-sitrep-62-covid-19.pdf  in previous runs\n",
      "already processed  https://www.who.int/docs/default-source/coronaviruse/situation-reports/20200321-sitrep-61-covid-19.pdf  in previous runs\n",
      "already processed  https://www.who.int/docs/default-source/coronaviruse/situation-reports/20200320-sitrep-60-covid-19.pdf  in previous runs\n",
      "already processed  https://www.who.int/docs/default-source/coronaviruse/situation-reports/20200319-sitrep-59-covid-19.pdf  in previous runs\n",
      "already processed  https://www.who.int/docs/default-source/coronaviruse/situation-reports/20200318-sitrep-58-covid-19.pdf  in previous runs\n",
      "already processed  https://www.who.int/docs/default-source/coronaviruse/situation-reports/20200317-sitrep-57-covid-19.pdf  in previous runs\n",
      "already processed  https://www.who.int/docs/default-source/coronaviruse/situation-reports/20200316-sitrep-56-covid-19.pdf  in previous runs\n",
      "already processed  https://www.who.int/docs/default-source/coronaviruse/situation-reports/20200315-sitrep-55-covid-19.pdf  in previous runs\n",
      "already processed  https://www.who.int/docs/default-source/coronaviruse/situation-reports/20200314-sitrep-54-covid-19.pdf  in previous runs\n",
      "already processed  https://www.who.int/docs/default-source/coronaviruse/situation-reports/20200313-sitrep-53-covid-19.pdf  in previous runs\n",
      "already processed  https://www.who.int/docs/default-source/coronaviruse/situation-reports/20200312-sitrep-52-covid-19.pdf  in previous runs\n",
      "already processed  https://www.who.int/docs/default-source/coronaviruse/situation-reports/20200311-sitrep-51-covid-19.pdf  in previous runs\n",
      "already processed  https://www.who.int/docs/default-source/coronaviruse/situation-reports/20200310-sitrep-50-covid-19.pdf  in previous runs\n",
      "already processed  https://www.who.int/docs/default-source/coronaviruse/situation-reports/20200309-sitrep-49-covid-19.pdf  in previous runs\n",
      "already processed  https://www.who.int/docs/default-source/coronaviruse/situation-reports/20200308-sitrep-48-covid-19.pdf  in previous runs\n",
      "already processed  https://www.who.int/docs/default-source/coronaviruse/situation-reports/20200307-sitrep-47-covid-19.pdf  in previous runs\n",
      "already processed  https://www.who.int/docs/default-source/coronaviruse/situation-reports/20200306-sitrep-46-covid-19.pdf  in previous runs\n",
      "already processed  https://www.who.int/docs/default-source/coronaviruse/situation-reports/20200305-sitrep-45-covid-19.pdf  in previous runs\n",
      "already processed  https://www.who.int/docs/default-source/coronaviruse/situation-reports/20200304-sitrep-44-covid-19.pdf  in previous runs\n",
      "already processed  https://www.who.int/docs/default-source/coronaviruse/situation-reports/20200303-sitrep-43-covid-19.pdf  in previous runs\n",
      "already processed  https://www.who.int/docs/default-source/coronaviruse/situation-reports/20200302-sitrep-42-covid-19.pdf  in previous runs\n",
      "already processed  https://www.who.int/docs/default-source/coronaviruse/situation-reports/20200301-sitrep-41-covid-19.pdf  in previous runs\n",
      "already processed  https://www.who.int/docs/default-source/coronaviruse/situation-reports/20200229-sitrep-40-covid-19.pdf  in previous runs\n",
      "already processed  https://www.who.int/docs/default-source/coronaviruse/situation-reports/20200228-sitrep-39-covid-19.pdf  in previous runs\n",
      "already processed  https://www.who.int/docs/default-source/coronaviruse/situation-reports/20200227-sitrep-38-covid-19.pdf  in previous runs\n",
      "already processed  https://www.who.int/docs/default-source/coronaviruse/situation-reports/20200226-sitrep-37-covid-19.pdf  in previous runs\n",
      "already processed  https://www.who.int/docs/default-source/coronaviruse/situation-reports/20200225-sitrep-36-covid-19.pdf  in previous runs\n",
      "already processed  https://www.who.int/docs/default-source/coronaviruse/situation-reports/20200224-sitrep-35-covid-19.pdf  in previous runs\n",
      "already processed  https://www.who.int/docs/default-source/coronaviruse/situation-reports/20200223-sitrep-34-covid-19.pdf  in previous runs\n",
      "already processed  https://www.who.int/docs/default-source/coronaviruse/situation-reports/20200222-sitrep-33-covid-19.pdf  in previous runs\n",
      "already processed  https://www.who.int/docs/default-source/coronaviruse/situation-reports/20200221-sitrep-32-covid-19.pdf  in previous runs\n",
      "already processed  https://www.who.int/docs/default-source/coronaviruse/situation-reports/20200220-sitrep-31-covid-19.pdf  in previous runs\n",
      "already processed  https://www.who.int/docs/default-source/coronaviruse/situation-reports/20200219-sitrep-30-covid-19.pdf  in previous runs\n",
      "already processed  https://www.who.int/docs/default-source/coronaviruse/situation-reports/20200218-sitrep-29-covid-19.pdf  in previous runs\n",
      "already processed  https://www.who.int/docs/default-source/coronaviruse/situation-reports/20200217-sitrep-28-covid-19.pdf  in previous runs\n",
      "already processed  https://www.who.int/docs/default-source/coronaviruse/situation-reports/20200216-sitrep-27-covid-19.pdf  in previous runs\n",
      "already processed  https://www.who.int/docs/default-source/coronaviruse/situation-reports/20200215-sitrep-26-covid-19.pdf  in previous runs\n",
      "already processed  https://www.who.int/docs/default-source/coronaviruse/situation-reports/20200214-sitrep-25-covid-19.pdf  in previous runs\n",
      "already processed  https://www.who.int/docs/default-source/coronaviruse/situation-reports/20200213-sitrep-24-covid-19.pdf  in previous runs\n",
      "already processed  https://www.who.int/docs/default-source/coronaviruse/situation-reports/20200212-sitrep-23-ncov.pdf  in previous runs\n",
      "already processed  https://www.who.int/docs/default-source/coronaviruse/situation-reports/20200211-sitrep-22-ncov.pdf  in previous runs\n",
      "already processed  https://www.who.int/docs/default-source/coronaviruse/situation-reports/20200210-sitrep-21-ncov.pdf  in previous runs\n",
      "already processed  https://www.who.int/docs/default-source/coronaviruse/situation-reports/20200209-sitrep-20-ncov.pdf  in previous runs\n",
      "already processed  https://www.who.int/docs/default-source/coronaviruse/situation-reports/20200208-sitrep-19-ncov.pdf  in previous runs\n",
      "already processed  https://www.who.int/docs/default-source/coronaviruse/situation-reports/20200207-sitrep-18-ncov.pdf  in previous runs\n",
      "already processed  https://www.who.int/docs/default-source/coronaviruse/situation-reports/20200206-sitrep-17-ncov.pdf  in previous runs\n",
      "already processed  https://www.who.int/docs/default-source/coronaviruse/situation-reports/20200205-sitrep-16-ncov.pdf  in previous runs\n",
      "already processed  https://www.who.int/docs/default-source/coronaviruse/situation-reports/20200204-sitrep-15-ncov.pdf  in previous runs\n",
      "already processed  https://www.who.int/docs/default-source/coronaviruse/situation-reports/20200203-sitrep-14-ncov.pdf  in previous runs\n",
      "already processed  https://www.who.int/docs/default-source/coronaviruse/situation-reports/20200202-sitrep-13-ncov-v3.pdf  in previous runs\n",
      "already processed  https://www.who.int/docs/default-source/coronaviruse/situation-reports/20200201-sitrep-12-ncov.pdf  in previous runs\n",
      "already processed  https://www.who.int/docs/default-source/coronaviruse/situation-reports/20200131-sitrep-11-ncov.pdf  in previous runs\n",
      "already processed  https://www.who.int/docs/default-source/coronaviruse/situation-reports/20200130-sitrep-10-ncov.pdf  in previous runs\n",
      "already processed  https://www.who.int/docs/default-source/coronaviruse/situation-reports/20200129-sitrep-9-ncov-v2.pdf  in previous runs\n",
      "already processed  https://www.who.int/docs/default-source/coronaviruse/situation-reports/20200128-sitrep-8-ncov-cleared.pdf  in previous runs\n",
      "already processed  https://www.who.int/docs/default-source/coronaviruse/situation-reports/20200127-sitrep-7-2019--ncov.pdf  in previous runs\n"
     ]
    }
   ],
   "source": [
    "df = get_WHO_stats()"
   ]
  },
  {
   "cell_type": "code",
   "execution_count": 9,
   "metadata": {},
   "outputs": [
    {
     "data": {
      "text/html": [
       "<div>\n",
       "<style scoped>\n",
       "    .dataframe tbody tr th:only-of-type {\n",
       "        vertical-align: middle;\n",
       "    }\n",
       "\n",
       "    .dataframe tbody tr th {\n",
       "        vertical-align: top;\n",
       "    }\n",
       "\n",
       "    .dataframe thead th {\n",
       "        text-align: right;\n",
       "    }\n",
       "</style>\n",
       "<table border=\"1\" class=\"dataframe\">\n",
       "  <thead>\n",
       "    <tr style=\"text-align: right;\">\n",
       "      <th></th>\n",
       "      <th>date</th>\n",
       "      <th>global_cases</th>\n",
       "      <th>report_url</th>\n",
       "    </tr>\n",
       "  </thead>\n",
       "  <tbody>\n",
       "    <tr>\n",
       "      <th>0</th>\n",
       "      <td>2020-01-27</td>\n",
       "      <td>2798</td>\n",
       "      <td>https://www.who.int/docs/default-source/corona...</td>\n",
       "    </tr>\n",
       "    <tr>\n",
       "      <th>1</th>\n",
       "      <td>2020-01-28</td>\n",
       "      <td>4593</td>\n",
       "      <td>https://www.who.int/docs/default-source/corona...</td>\n",
       "    </tr>\n",
       "    <tr>\n",
       "      <th>2</th>\n",
       "      <td>2020-01-29</td>\n",
       "      <td>6065</td>\n",
       "      <td>https://www.who.int/docs/default-source/corona...</td>\n",
       "    </tr>\n",
       "    <tr>\n",
       "      <th>3</th>\n",
       "      <td>2020-01-30</td>\n",
       "      <td>7818</td>\n",
       "      <td>https://www.who.int/docs/default-source/corona...</td>\n",
       "    </tr>\n",
       "    <tr>\n",
       "      <th>4</th>\n",
       "      <td>2020-01-31</td>\n",
       "      <td>9826</td>\n",
       "      <td>https://www.who.int/docs/default-source/corona...</td>\n",
       "    </tr>\n",
       "    <tr>\n",
       "      <th>...</th>\n",
       "      <td>...</td>\n",
       "      <td>...</td>\n",
       "      <td>...</td>\n",
       "    </tr>\n",
       "    <tr>\n",
       "      <th>62</th>\n",
       "      <td>2020-03-26</td>\n",
       "      <td>462684</td>\n",
       "      <td>https://www.who.int/docs/default-source/corona...</td>\n",
       "    </tr>\n",
       "    <tr>\n",
       "      <th>63</th>\n",
       "      <td>2020-03-27</td>\n",
       "      <td>509164</td>\n",
       "      <td>https://www.who.int/docs/default-source/corona...</td>\n",
       "    </tr>\n",
       "    <tr>\n",
       "      <th>64</th>\n",
       "      <td>2020-03-28</td>\n",
       "      <td>571678</td>\n",
       "      <td>https://www.who.int/docs/default-source/corona...</td>\n",
       "    </tr>\n",
       "    <tr>\n",
       "      <th>65</th>\n",
       "      <td>2020-03-29</td>\n",
       "      <td>634835</td>\n",
       "      <td>https://www.who.int/docs/default-source/corona...</td>\n",
       "    </tr>\n",
       "    <tr>\n",
       "      <th>66</th>\n",
       "      <td>2020-03-30</td>\n",
       "      <td>693224</td>\n",
       "      <td>https://www.who.int/docs/default-source/corona...</td>\n",
       "    </tr>\n",
       "  </tbody>\n",
       "</table>\n",
       "<p>67 rows × 3 columns</p>\n",
       "</div>"
      ],
      "text/plain": [
       "          date  global_cases  \\\n",
       "0   2020-01-27          2798   \n",
       "1   2020-01-28          4593   \n",
       "2   2020-01-29          6065   \n",
       "3   2020-01-30          7818   \n",
       "4   2020-01-31          9826   \n",
       "..         ...           ...   \n",
       "62  2020-03-26        462684   \n",
       "63  2020-03-27        509164   \n",
       "64  2020-03-28        571678   \n",
       "65  2020-03-29        634835   \n",
       "66  2020-03-30        693224   \n",
       "\n",
       "                                           report_url  \n",
       "0   https://www.who.int/docs/default-source/corona...  \n",
       "1   https://www.who.int/docs/default-source/corona...  \n",
       "2   https://www.who.int/docs/default-source/corona...  \n",
       "3   https://www.who.int/docs/default-source/corona...  \n",
       "4   https://www.who.int/docs/default-source/corona...  \n",
       "..                                                ...  \n",
       "62  https://www.who.int/docs/default-source/corona...  \n",
       "63  https://www.who.int/docs/default-source/corona...  \n",
       "64  https://www.who.int/docs/default-source/corona...  \n",
       "65  https://www.who.int/docs/default-source/corona...  \n",
       "66  https://www.who.int/docs/default-source/corona...  \n",
       "\n",
       "[67 rows x 3 columns]"
      ]
     },
     "execution_count": 9,
     "metadata": {},
     "output_type": "execute_result"
    }
   ],
   "source": [
    "df"
   ]
  },
  {
   "cell_type": "markdown",
   "metadata": {},
   "source": [
    "### Plot graph and save to files"
   ]
  },
  {
   "cell_type": "code",
   "execution_count": 10,
   "metadata": {},
   "outputs": [],
   "source": [
    "import seaborn as sns\n",
    "from pathlib import Path"
   ]
  },
  {
   "cell_type": "code",
   "execution_count": 11,
   "metadata": {},
   "outputs": [],
   "source": [
    "df.sort_values(by=['date'], inplace=True)"
   ]
  },
  {
   "cell_type": "code",
   "execution_count": 12,
   "metadata": {},
   "outputs": [
    {
     "data": {
      "image/png": "[encoded data removed]",
      "text/plain": [
       "<Figure size 1152x612 with 1 Axes>"
      ]
     },
     "metadata": {},
     "output_type": "display_data"
    }
   ],
   "source": [
    "sns.set(rc={'figure.figsize':(16,8.5)})\n",
    "sns.set(style=\"whitegrid\")\n",
    "\n",
    "\n",
    "bar_chart = sns.barplot(x='date', y='global_cases', color='dodgerblue', data=df)\n",
    "bar_chart.tick_params(axis='x', labelrotation=70)\n"
   ]
  },
  {
   "cell_type": "code",
   "execution_count": 13,
   "metadata": {},
   "outputs": [],
   "source": [
    "bar_chart_fig = bar_chart.get_figure()\n"
   ]
  },
  {
   "cell_type": "code",
   "execution_count": 14,
   "metadata": {},
   "outputs": [],
   "source": [
    "df.to_csv(csv_file, index=False)\n",
    "bar_chart_fig.savefig(png_file)\n"
   ]
  },
  {
   "cell_type": "code",
   "execution_count": null,
   "metadata": {},
   "outputs": [],
   "source": []
  }
 ],
 "metadata": {
  "kernelspec": {
   "display_name": "Python 3",
   "language": "python",
   "name": "python3"
  },
  "language_info": {
   "codemirror_mode": {
    "name": "ipython",
    "version": 3
   },
   "file_extension": ".py",
   "mimetype": "text/x-python",
   "name": "python",
   "nbconvert_exporter": "python",
   "pygments_lexer": "ipython3",
   "version": "3.7.6"
  }
 },
 "nbformat": 4,
 "nbformat_minor": 2
}
