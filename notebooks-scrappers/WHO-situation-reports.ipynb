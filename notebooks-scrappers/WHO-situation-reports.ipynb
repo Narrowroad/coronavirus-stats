{
 "cells": [
  {
   "cell_type": "code",
   "execution_count": 1,
   "metadata": {},
   "outputs": [],
   "source": [
    "import requests\n",
    "import re\n",
    "import io\n",
    "from bs4 import BeautifulSoup\n",
    "from urllib.parse import urljoin\n",
    "from datetime import datetime\n",
    "# from PyPDF2 import PdfFileReader\n",
    "from pdfminer.high_level import extract_text\n",
    "import logging\n",
    "import sys\n",
    "import pandas as pd\n",
    "\n",
    "\n",
    "logger = logging.getLogger() \n",
    "logger.handlers = [logging.StreamHandler()]\n",
    "logger.setLevel(logging.INFO)\n"
   ]
  },
  {
   "cell_type": "code",
   "execution_count": 2,
   "metadata": {},
   "outputs": [],
   "source": [
    "csv_file = '../data/who-global-cases.csv'\n",
    "png_file = '../images/who-global-cases.png'"
   ]
  },
  {
   "cell_type": "code",
   "execution_count": 3,
   "metadata": {},
   "outputs": [
    {
     "data": {
      "text/plain": [
       "datetime.datetime(2020, 4, 2, 21, 12, 52, 734465)"
      ]
     },
     "execution_count": 3,
     "metadata": {},
     "output_type": "execute_result"
    }
   ],
   "source": [
    "# display the last execute time\n",
    "datetime.now()"
   ]
  },
  {
   "cell_type": "markdown",
   "metadata": {},
   "source": [
    "### Scraping"
   ]
  },
  {
   "cell_type": "code",
   "execution_count": 4,
   "metadata": {},
   "outputs": [],
   "source": [
    "def analyze_report(url):\n",
    "    '''\n",
    "    Analyze a situation report url\n",
    "    '''\n",
    "    response = requests.get(url)\n",
    "    # approach using Py2PDF\n",
    "    #     f_obj = io.BytesIO(response.content)\n",
    "    #     pdf = PdfFileReader(f_obj)\n",
    "    #     page_zero = pdf.getPage(0)  \n",
    "    #     text  = page_zero.extractText()\n",
    "\n",
    "    # using pdfminer\n",
    "    filename=re.sub(\"[\\:\\s\\.]\", \"\", str(datetime.now()))\n",
    "    open(filename, \"wb\").write(response.content)\n",
    "    text = extract_text(filename)\n",
    "    \n",
    "    try:\n",
    "        # use regular expression to extract date\n",
    "        p_date = re.compile(\"Data as reported by .+ (\\d+ \\w+ 202\\d)\")\n",
    "        m_date = p_date.search(text)\n",
    "        print(m_date)\n",
    "        report_date_str = m_date.group(1).replace(\"\\n\",\"\")\n",
    "        print(report_date_str, m_date.group(1))\n",
    "        report_date = datetime.strptime(report_date_str, '%d %B %Y').strftime('%Y-%m-%d')\n",
    "        print(report_date)\n",
    "        # use regular expression to extract global cases\n",
    "        p_global = re.compile(\"Globally ([\\s\\n0-9]+)\", re.DOTALL)\n",
    "        m_global = p_global.search(text)\n",
    "        global_cases_str = re.sub(r'[\\n\\s]', '', m_global.group(1))\n",
    "\n",
    "        global_cases = int(global_cases_str)\n",
    "\n",
    "        return {\"date\":report_date, \"global_cases\": global_cases, \"report_url\": url}\n",
    "    except AttributeError as e:\n",
    "        logger.warning(f'Unable to extract from \"{url}\" : {e}\\n.')\n",
    "        raise e\n",
    "\n"
   ]
  },
  {
   "cell_type": "code",
   "execution_count": 5,
   "metadata": {},
   "outputs": [],
   "source": [
    "def get_reports_urls(home_url):\n",
    "    '''\n",
    "    Extract situation reports URL from WHO's page\n",
    "    '''\n",
    "    # unable to analyse these reports\n",
    "    skipped_urls = [\n",
    "        'https://www.who.int/docs/default-source/coronaviruse/situation-reports/20200126-sitrep-6-2019--ncov.pdf',\n",
    "        'https://www.who.int/docs/default-source/coronaviruse/situation-reports/20200125-sitrep-5-2019-ncov.pdf',\n",
    "        'https://www.who.int/docs/default-source/coronaviruse/situation-reports/20200124-sitrep-4-2019-ncov.pdf',\n",
    "        'https://www.who.int/docs/default-source/coronaviruse/situation-reports/20200123-sitrep-3-2019-ncov.pdf',\n",
    "        'https://www.who.int/docs/default-source/coronaviruse/situation-reports/20200122-sitrep-2-2019-ncov.pdf',\n",
    "        'https://www.who.int/docs/default-source/coronaviruse/situation-reports/20200121-sitrep-1-2019-ncov.pdf'\n",
    "    ]  \n",
    "    \n",
    "    urls = []\n",
    "    response = requests.get(home_url)\n",
    "    soup = BeautifulSoup(response.content, 'lxml')\n",
    "    tags = soup.find_all('a')\n",
    "    for tag in tags:\n",
    "        if len(tag.contents)>0:\n",
    "            content = str(tag.contents[0])\n",
    "            if \"Situation report - \" in content:\n",
    "                url = urljoin(home_url ,  tag.get('href')).split('?')[0]\n",
    "                \n",
    "                if url not in skipped_urls:\n",
    "                    urls.append(url)\n",
    "\n",
    "    return urls\n"
   ]
  },
  {
   "cell_type": "code",
   "execution_count": null,
   "metadata": {},
   "outputs": [],
   "source": []
  },
  {
   "cell_type": "code",
   "execution_count": 6,
   "metadata": {},
   "outputs": [],
   "source": [
    "def get_WHO_stats():\n",
    "    reports_home_url = 'https://www.who.int/emergencies/diseases/novel-coronavirus-2019/situation-reports/'\n",
    "    reports_urls = get_reports_urls(reports_home_url)\n",
    "    df = pd.read_csv(csv_file)\n",
    "    for url in reports_urls:\n",
    "        if df['report_url'].str.contains(url).any():\n",
    "            print('already processed ', url, ' in previous runs')\n",
    "            continue\n",
    "        stats = analyze_report(url)\n",
    "        df = df.append(stats, ignore_index = True)\n",
    "    return df"
   ]
  },
  {
   "cell_type": "code",
   "execution_count": 7,
   "metadata": {},
   "outputs": [
    {
     "name": "stdout",
     "output_type": "stream",
     "text": [
      "['https://www.who.int/docs/default-source/coronaviruse/situation-reports/20200402-sitrep-73-covid-19.pdf', 'https://www.who.int/docs/default-source/coronaviruse/situation-reports/20200401-sitrep-72-covid-19.pdf', 'https://www.who.int/docs/default-source/coronaviruse/situation-reports/20200330-sitrep-70-covid-19.pdf', 'https://www.who.int/docs/default-source/coronaviruse/situation-reports/20200329-sitrep-69-covid-19.pdf', 'https://www.who.int/docs/default-source/coronaviruse/situation-reports/20200328-sitrep-68-covid-19.pdf', 'https://www.who.int/docs/default-source/coronaviruse/situation-reports/20200327-sitrep-67-covid-19.pdf', 'https://www.who.int/docs/default-source/coronaviruse/situation-reports/20200326-sitrep-66-covid-19.pdf', 'https://www.who.int/docs/default-source/coronaviruse/situation-reports/20200325-sitrep-65-covid-19.pdf', 'https://www.who.int/docs/default-source/coronaviruse/situation-reports/20200324-sitrep-64-covid-19.pdf', 'https://www.who.int/docs/default-source/coronaviruse/situation-reports/20200323-sitrep-63-covid-19.pdf', 'https://www.who.int/docs/default-source/coronaviruse/situation-reports/20200322-sitrep-62-covid-19.pdf', 'https://www.who.int/docs/default-source/coronaviruse/situation-reports/20200321-sitrep-61-covid-19.pdf', 'https://www.who.int/docs/default-source/coronaviruse/situation-reports/20200320-sitrep-60-covid-19.pdf', 'https://www.who.int/docs/default-source/coronaviruse/situation-reports/20200319-sitrep-59-covid-19.pdf', 'https://www.who.int/docs/default-source/coronaviruse/situation-reports/20200318-sitrep-58-covid-19.pdf', 'https://www.who.int/docs/default-source/coronaviruse/situation-reports/20200317-sitrep-57-covid-19.pdf', 'https://www.who.int/docs/default-source/coronaviruse/situation-reports/20200316-sitrep-56-covid-19.pdf', 'https://www.who.int/docs/default-source/coronaviruse/situation-reports/20200315-sitrep-55-covid-19.pdf', 'https://www.who.int/docs/default-source/coronaviruse/situation-reports/20200314-sitrep-54-covid-19.pdf', 'https://www.who.int/docs/default-source/coronaviruse/situation-reports/20200313-sitrep-53-covid-19.pdf', 'https://www.who.int/docs/default-source/coronaviruse/situation-reports/20200312-sitrep-52-covid-19.pdf', 'https://www.who.int/docs/default-source/coronaviruse/situation-reports/20200311-sitrep-51-covid-19.pdf', 'https://www.who.int/docs/default-source/coronaviruse/situation-reports/20200310-sitrep-50-covid-19.pdf', 'https://www.who.int/docs/default-source/coronaviruse/situation-reports/20200309-sitrep-49-covid-19.pdf', 'https://www.who.int/docs/default-source/coronaviruse/situation-reports/20200308-sitrep-48-covid-19.pdf', 'https://www.who.int/docs/default-source/coronaviruse/situation-reports/20200307-sitrep-47-covid-19.pdf', 'https://www.who.int/docs/default-source/coronaviruse/situation-reports/20200306-sitrep-46-covid-19.pdf', 'https://www.who.int/docs/default-source/coronaviruse/situation-reports/20200305-sitrep-45-covid-19.pdf', 'https://www.who.int/docs/default-source/coronaviruse/situation-reports/20200304-sitrep-44-covid-19.pdf', 'https://www.who.int/docs/default-source/coronaviruse/situation-reports/20200303-sitrep-43-covid-19.pdf', 'https://www.who.int/docs/default-source/coronaviruse/situation-reports/20200302-sitrep-42-covid-19.pdf', 'https://www.who.int/docs/default-source/coronaviruse/situation-reports/20200301-sitrep-41-covid-19.pdf', 'https://www.who.int/docs/default-source/coronaviruse/situation-reports/20200229-sitrep-40-covid-19.pdf', 'https://www.who.int/docs/default-source/coronaviruse/situation-reports/20200228-sitrep-39-covid-19.pdf', 'https://www.who.int/docs/default-source/coronaviruse/situation-reports/20200227-sitrep-38-covid-19.pdf', 'https://www.who.int/docs/default-source/coronaviruse/situation-reports/20200226-sitrep-37-covid-19.pdf', 'https://www.who.int/docs/default-source/coronaviruse/situation-reports/20200225-sitrep-36-covid-19.pdf', 'https://www.who.int/docs/default-source/coronaviruse/situation-reports/20200224-sitrep-35-covid-19.pdf', 'https://www.who.int/docs/default-source/coronaviruse/situation-reports/20200223-sitrep-34-covid-19.pdf', 'https://www.who.int/docs/default-source/coronaviruse/situation-reports/20200222-sitrep-33-covid-19.pdf', 'https://www.who.int/docs/default-source/coronaviruse/situation-reports/20200221-sitrep-32-covid-19.pdf', 'https://www.who.int/docs/default-source/coronaviruse/situation-reports/20200220-sitrep-31-covid-19.pdf', 'https://www.who.int/docs/default-source/coronaviruse/situation-reports/20200219-sitrep-30-covid-19.pdf', 'https://www.who.int/docs/default-source/coronaviruse/situation-reports/20200218-sitrep-29-covid-19.pdf', 'https://www.who.int/docs/default-source/coronaviruse/situation-reports/20200217-sitrep-28-covid-19.pdf', 'https://www.who.int/docs/default-source/coronaviruse/situation-reports/20200216-sitrep-27-covid-19.pdf', 'https://www.who.int/docs/default-source/coronaviruse/situation-reports/20200215-sitrep-26-covid-19.pdf', 'https://www.who.int/docs/default-source/coronaviruse/situation-reports/20200214-sitrep-25-covid-19.pdf', 'https://www.who.int/docs/default-source/coronaviruse/situation-reports/20200213-sitrep-24-covid-19.pdf', 'https://www.who.int/docs/default-source/coronaviruse/situation-reports/20200212-sitrep-23-ncov.pdf', 'https://www.who.int/docs/default-source/coronaviruse/situation-reports/20200211-sitrep-22-ncov.pdf', 'https://www.who.int/docs/default-source/coronaviruse/situation-reports/20200210-sitrep-21-ncov.pdf', 'https://www.who.int/docs/default-source/coronaviruse/situation-reports/20200209-sitrep-20-ncov.pdf', 'https://www.who.int/docs/default-source/coronaviruse/situation-reports/20200208-sitrep-19-ncov.pdf', 'https://www.who.int/docs/default-source/coronaviruse/situation-reports/20200207-sitrep-18-ncov.pdf', 'https://www.who.int/docs/default-source/coronaviruse/situation-reports/20200206-sitrep-17-ncov.pdf', 'https://www.who.int/docs/default-source/coronaviruse/situation-reports/20200205-sitrep-16-ncov.pdf', 'https://www.who.int/docs/default-source/coronaviruse/situation-reports/20200204-sitrep-15-ncov.pdf', 'https://www.who.int/docs/default-source/coronaviruse/situation-reports/20200203-sitrep-14-ncov.pdf', 'https://www.who.int/docs/default-source/coronaviruse/situation-reports/20200202-sitrep-13-ncov-v3.pdf', 'https://www.who.int/docs/default-source/coronaviruse/situation-reports/20200201-sitrep-12-ncov.pdf', 'https://www.who.int/docs/default-source/coronaviruse/situation-reports/20200131-sitrep-11-ncov.pdf', 'https://www.who.int/docs/default-source/coronaviruse/situation-reports/20200130-sitrep-10-ncov.pdf', 'https://www.who.int/docs/default-source/coronaviruse/situation-reports/20200129-sitrep-9-ncov-v2.pdf', 'https://www.who.int/docs/default-source/coronaviruse/situation-reports/20200128-sitrep-8-ncov-cleared.pdf', 'https://www.who.int/docs/default-source/coronaviruse/situation-reports/20200127-sitrep-7-2019--ncov.pdf']\n",
      "0     https://www.who.int/docs/default-source/corona...\n",
      "1     https://www.who.int/docs/default-source/corona...\n",
      "2     https://www.who.int/docs/default-source/corona...\n",
      "3     https://www.who.int/docs/default-source/corona...\n",
      "4     https://www.who.int/docs/default-source/corona...\n",
      "                            ...                        \n",
      "64    https://www.who.int/docs/default-source/corona...\n",
      "65    https://www.who.int/docs/default-source/corona...\n",
      "66    https://www.who.int/docs/default-source/corona...\n",
      "67    https://www.who.int/docs/default-source/corona...\n",
      "68    https://www.who.int/docs/default-source/corona...\n",
      "Name: report_url, Length: 69, dtype: object\n"
     ]
    }
   ],
   "source": [
    "reports_urls = get_reports_urls('https://www.who.int/emergencies/diseases/novel-coronavirus-2019/situation-reports')\n",
    "df = pd.read_csv(csv_file)\n",
    "print(reports_urls)\n",
    "print(df['report_url'])"
   ]
  },
  {
   "cell_type": "code",
   "execution_count": 8,
   "metadata": {},
   "outputs": [
    {
     "name": "stderr",
     "output_type": "stream",
     "text": [
      "xref found: pos=b'1306137'\n",
      "read_xref_from: start=1306137, token=/b'xref'\n",
      "xref objects: {}\n",
      "trailer: {'Size': 3863, 'Root': <PDFObjRef:1>, 'Info': <PDFObjRef:106>, 'ID': [b'E!Who\\x84&M\\x87\\xbf\\x91\\x11s\\xee\\xab\\x85', b'E!Who\\x84&M\\x87\\xbf\\x91\\x11s\\xee\\xab\\x85'], 'Prev': 1228713, 'XRefStm': 1221280}\n",
      "read_xref_from: start=1221280, token=3862\n",
      "xref stream: objid=(0, 3862), fields=1,4,2\n",
      "trailer: {'Type': /'XRef', 'Size': 3862, 'W': [1, 4, 2], 'Root': <PDFObjRef:1>, 'Info': <PDFObjRef:106>, 'ID': [b'E!Who\\x84&M\\x87\\xbf\\x91\\x11s\\xee\\xab\\x85', b'E!Who\\x84&M\\x87\\xbf\\x91\\x11s\\xee\\xab\\x85'], 'Filter': /'FlateDecode', 'Length': 7226}\n",
      "read_xref_from: start=1228713, token=/b'xref'\n",
      "xref objects: {1: (None, 17, 0), 2: (None, 171, 0), 3: (None, 313, 0), 4: (None, 748, 0), 5: (None, 7668, 0), 6: (None, 7830, 0), 7: (None, 8056, 0), 8: (None, 8109, 0), 9: (None, 8162, 0), 10: (None, 8333, 0), 11: (None, 8575, 0), 12: (None, 8749, 0), 13: (None, 8986, 0), 14: (None, 9157, 0), 15: (None, 9393, 0), 16: (None, 9651, 0), 17: (None, 9883, 0), 18: (None, 10053, 0), 19: (None, 10285, 0), 20: (None, 10417, 0), 21: (None, 10447, 0), 22: (None, 10607, 0), 23: (None, 10681, 0), 24: (None, 10932, 0), 25: (None, 11060, 0), 26: (None, 11090, 0), 27: (None, 11246, 0), 28: (None, 11320, 0), 29: (None, 11554, 0), 30: (None, 11818, 0), 31: (None, 12031, 0), 32: (None, 12165, 0), 33: (None, 12195, 0), 34: (None, 12357, 0), 35: (None, 12431, 0), 36: (None, 12673, 0), 37: (None, 12960, 0), 38: (None, 13137, 0), 39: (None, 13384, 0), 40: (None, 144926, 0), 41: (None, 158540, 0), 42: (None, 167064, 0), 43: (None, 167384, 0), 44: (None, 173505, 0), 45: (None, 173685, 0), 46: (None, 173936, 0), 47: (None, 174291, 0), 48: (None, 179255, 0), 49: (None, 179496, 0), 50: (None, 179737, 0), 51: (None, 179920, 0), 52: (None, 180175, 0), 53: (None, 180476, 0), 54: (None, 194621, 0), 55: (None, 194760, 0), 56: (None, 194790, 0), 57: (None, 194957, 0), 58: (None, 195031, 0), 59: (None, 195278, 0), 60: (None, 195558, 0), 61: (None, 211530, 0), 62: (None, 211811, 0), 63: (None, 226648, 0), 64: (None, 226939, 0), 65: (None, 241633, 0), 66: (None, 241944, 0), 67: (None, 256513, 0), 68: (None, 256830, 0), 69: (None, 260597, 0), 70: (None, 260847, 0), 71: (None, 261194, 0), 72: (None, 263883, 0), 73: (None, 341018, 0), 74: (None, 341444, 0), 75: (None, 347758, 0), 76: (None, 347885, 0), 77: (None, 347915, 0), 78: (None, 348070, 0), 79: (None, 348144, 0), 80: (None, 348390, 0), 81: (None, 348607, 0), 82: (None, 348804, 0), 83: (None, 349033, 0), 84: (None, 349331, 0), 85: (None, 349539, 0), 86: (None, 349747, 0), 87: (None, 349918, 0), 88: (None, 350109, 0), 89: (None, 350299, 0), 90: (None, 350480, 0), 91: (None, 350727, 0), 92: (None, 350965, 0), 93: (None, 351255, 0), 94: (None, 351543, 0), 95: (None, 351907, 0), 96: (None, 356597, 0), 97: (None, 356790, 0), 98: (None, 357005, 0), 99: (None, 357221, 0), 100: (None, 357436, 0), 101: (None, 357688, 0), 102: (None, 357926, 0), 103: (None, 358245, 0), 104: (None, 360429, 0), 105: (None, 360719, 0), 106: (None, 361007, 0), 133: (None, 367187, 0), 305: (None, 367238, 0), 315: (None, 367292, 0), 3582: (None, 403616, 0), 3620: (None, 403668, 0), 3643: (None, 411503, 0), 3703: (None, 411555, 0), 3765: (None, 411609, 0), 3770: (None, 411667, 0), 3775: (None, 411725, 0), 3781: (None, 411783, 0), 3786: (None, 411841, 0), 3791: (None, 411899, 0), 3798: (None, 411957, 0), 3814: (None, 412009, 0), 3833: (None, 412064, 0), 3834: (None, 412367, 0), 3835: (None, 479942, 0), 3836: (None, 480016, 0), 3837: (None, 480075, 0), 3838: (None, 480656, 0), 3839: (None, 674818, 0), 3840: (None, 675580, 0), 3841: (None, 676189, 0), 3842: (None, 676218, 0), 3843: (None, 676247, 0), 3844: (None, 676548, 0), 3845: (None, 762579, 0), 3846: (None, 762917, 0), 3847: (None, 763230, 0), 3848: (None, 763533, 0), 3849: (None, 776688, 0), 3850: (None, 776733, 0), 3851: (None, 777038, 0), 3852: (None, 954569, 0), 3853: (None, 955130, 0), 3854: (None, 955547, 0), 3855: (None, 955816, 0), 3856: (None, 1078083, 0), 3857: (None, 1078112, 0), 3858: (None, 1176691, 0), 3859: (None, 1176720, 0), 3860: (None, 1218067, 0), 3861: (None, 1221233, 0), 3862: (None, 1221280, 0)}\n",
      "trailer: {'Size': 3863, 'Root': <PDFObjRef:1>, 'Info': <PDFObjRef:106>, 'ID': [b'E!Who\\x84&M\\x87\\xbf\\x91\\x11s\\xee\\xab\\x85', b'E!Who\\x84&M\\x87\\xbf\\x91\\x11s\\xee\\xab\\x85']}\n",
      "trailer: {'Size': 3863, 'Root': <PDFObjRef:1>, 'Info': <PDFObjRef:106>, 'ID': [b'E!Who\\x84&M\\x87\\xbf\\x91\\x11s\\xee\\xab\\x85', b'E!Who\\x84&M\\x87\\xbf\\x91\\x11s\\xee\\xab\\x85']}\n",
      "Pages: Kids=[<PDFObjRef:3>, <PDFObjRef:42>, <PDFObjRef:46>, <PDFObjRef:52>, <PDFObjRef:59>, <PDFObjRef:61>, <PDFObjRef:63>, <PDFObjRef:65>, <PDFObjRef:67>, <PDFObjRef:70>, <PDFObjRef:73>, <PDFObjRef:94>, <PDFObjRef:102>]\n",
      "Page: {'Type': /'Page', 'Parent': <PDFObjRef:2>, 'Resources': {'Font': {'F1': <PDFObjRef:5>, 'F2': <PDFObjRef:9>, 'F3': <PDFObjRef:11>, 'F4': <PDFObjRef:13>, 'F5': <PDFObjRef:17>, 'F6': <PDFObjRef:19>, 'F7': <PDFObjRef:24>, 'F8': <PDFObjRef:31>, 'F9': <PDFObjRef:37>}, 'ExtGState': {'GS7': <PDFObjRef:7>, 'GS8': <PDFObjRef:8>}, 'XObject': {'Image15': <PDFObjRef:15>, 'Image39': <PDFObjRef:39>, 'Image40': <PDFObjRef:40>}, 'ProcSet': [/'PDF', /'Text', /'ImageB', /'ImageC', /'ImageI']}, 'Annots': [<PDFObjRef:29>, <PDFObjRef:30>, <PDFObjRef:36>], 'MediaBox': [0, 0, 595.2, 842.4], 'Contents': <PDFObjRef:4>, 'Group': {'Type': /'Group', 'S': /'Transparency', 'CS': /'DeviceRGB'}, 'Tabs': /'S', 'StructParents': 0}\n",
      "Processing page: <PDFPage: Resources={'Font': {'F1': <PDFObjRef:5>, 'F2': <PDFObjRef:9>, 'F3': <PDFObjRef:11>, 'F4': <PDFObjRef:13>, 'F5': <PDFObjRef:17>, 'F6': <PDFObjRef:19>, 'F7': <PDFObjRef:24>, 'F8': <PDFObjRef:31>, 'F9': <PDFObjRef:37>}, 'ExtGState': {'GS7': <PDFObjRef:7>, 'GS8': <PDFObjRef:8>}, 'XObject': {'Image15': <PDFObjRef:15>, 'Image39': <PDFObjRef:39>, 'Image40': <PDFObjRef:40>}, 'ProcSet': [/'PDF', /'Text', /'ImageB', /'ImageC', /'ImageI']}, MediaBox=[0, 0, 595.2, 842.4]>\n",
      "render_contents: resources={'Font': {'F1': <PDFObjRef:5>, 'F2': <PDFObjRef:9>, 'F3': <PDFObjRef:11>, 'F4': <PDFObjRef:13>, 'F5': <PDFObjRef:17>, 'F6': <PDFObjRef:19>, 'F7': <PDFObjRef:24>, 'F8': <PDFObjRef:31>, 'F9': <PDFObjRef:37>}, 'ExtGState': {'GS7': <PDFObjRef:7>, 'GS8': <PDFObjRef:8>}, 'XObject': {'Image15': <PDFObjRef:15>, 'Image39': <PDFObjRef:39>, 'Image40': <PDFObjRef:40>}, 'ProcSet': [/'PDF', /'Text', /'ImageB', /'ImageC', /'ImageI']}, streams=[<PDFStream(4): raw=6847, {'Filter': /'FlateDecode', 'Length': 6845}>], ctm=(1, 0, 0, 1, 0, 0)\n",
      "get_font: create: objid=5, spec={'Type': /'Font', 'Subtype': /'TrueType', 'Name': /'F1', 'BaseFont': /'ArialMT', 'Encoding': /'WinAnsiEncoding', 'FontDescriptor': <PDFObjRef:6>, 'FirstChar': 32, 'LastChar': 45, 'Widths': <PDFObjRef:3836>}\n",
      "get_font: create: objid=9, spec={'Type': /'Font', 'Subtype': /'TrueType', 'Name': /'F2', 'BaseFont': /'BCDEEE+Calibri', 'Encoding': /'WinAnsiEncoding', 'FontDescriptor': <PDFObjRef:10>, 'FirstChar': 32, 'LastChar': 244, 'Widths': <PDFObjRef:3840>}\n",
      "get_font: create: objid=11, spec={'Type': /'Font', 'Subtype': /'TrueType', 'Name': /'F3', 'BaseFont': /'TimesNewRomanPSMT', 'Encoding': /'WinAnsiEncoding', 'FontDescriptor': <PDFObjRef:12>, 'FirstChar': 32, 'LastChar': 32, 'Widths': <PDFObjRef:3841>}\n",
      "get_font: create: objid=13, spec={'Type': /'Font', 'Subtype': /'TrueType', 'Name': /'F4', 'BaseFont': /'Arial-ItalicMT', 'Encoding': /'WinAnsiEncoding', 'FontDescriptor': <PDFObjRef:14>, 'FirstChar': 32, 'LastChar': 32, 'Widths': <PDFObjRef:3842>}\n",
      "get_font: create: objid=17, spec={'Type': /'Font', 'Subtype': /'TrueType', 'Name': /'F5', 'BaseFont': /'Arial-BoldMT', 'Encoding': /'WinAnsiEncoding', 'FontDescriptor': <PDFObjRef:18>, 'FirstChar': 32, 'LastChar': 121, 'Widths': <PDFObjRef:3846>}\n",
      "get_font: create: objid=19, spec={'Type': /'Font', 'Subtype': /'Type0', 'BaseFont': /'Arial-BoldMT', 'Encoding': /'Identity-H', 'DescendantFonts': <PDFObjRef:20>, 'ToUnicode': <PDFObjRef:3843>}\n",
      "get_font: create: objid=None, spec={'BaseFont': /'Arial-BoldMT', 'Subtype': /'CIDFontType2', 'Type': /'Font', 'CIDToGIDMap': /'Identity', 'DW': 1000, 'CIDSystemInfo': <PDFObjRef:22>, 'FontDescriptor': <PDFObjRef:23>, 'W': <PDFObjRef:3845>, 'Encoding': /'Identity-H', 'ToUnicode': <PDFStream(3843): raw=226, {'Filter': /'FlateDecode', 'Length': 224}>}\n",
      "get_font: create: objid=24, spec={'Type': /'Font', 'Subtype': /'Type0', 'BaseFont': /'SymbolMT', 'Encoding': /'Identity-H', 'DescendantFonts': <PDFObjRef:25>, 'ToUnicode': <PDFObjRef:3847>}\n",
      "get_font: create: objid=None, spec={'BaseFont': /'SymbolMT', 'Subtype': /'CIDFontType2', 'Type': /'Font', 'CIDToGIDMap': /'Identity', 'DW': 1000, 'CIDSystemInfo': <PDFObjRef:27>, 'FontDescriptor': <PDFObjRef:28>, 'W': <PDFObjRef:3849>, 'Encoding': /'Identity-H', 'ToUnicode': <PDFStream(3847): raw=228, {'Filter': /'FlateDecode', 'Length': 226}>}\n",
      "get_font: create: objid=31, spec={'Type': /'Font', 'Subtype': /'Type0', 'BaseFont': /'BCDFEE+Calibri', 'Encoding': /'Identity-H', 'DescendantFonts': <PDFObjRef:32>, 'ToUnicode': <PDFObjRef:3837>}\n",
      "get_font: create: objid=None, spec={'BaseFont': /'BCDFEE+Calibri', 'Subtype': /'CIDFontType2', 'Type': /'Font', 'CIDToGIDMap': /'Identity', 'DW': 1000, 'CIDSystemInfo': <PDFObjRef:34>, 'FontDescriptor': <PDFObjRef:35>, 'W': <PDFObjRef:3839>, 'Encoding': /'Identity-H', 'ToUnicode': <PDFStream(3837): raw=506, {'Filter': /'FlateDecode', 'Length': 504}>}\n",
      "get_font: create: objid=37, spec={'Type': /'Font', 'Subtype': /'TrueType', 'Name': /'F9', 'BaseFont': /'BCDGEE+Calibri-Bold', 'Encoding': /'WinAnsiEncoding', 'FontDescriptor': <PDFObjRef:38>, 'FirstChar': 32, 'LastChar': 167, 'Widths': <PDFObjRef:3853>}\n",
      "Processing xobj: <PDFStream(15): raw=68, {'Type': /'XObject', 'Subtype': /'Image', 'Width': 705, 'Height': 21, 'ColorSpace': /'DeviceRGB', 'BitsPerComponent': 8, 'Interpolate': False, 'SMask': <PDFObjRef:16>, 'Filter': /'FlateDecode', 'Length': 66}>\n",
      "Processing xobj: <PDFStream(39): raw=131362, {'Type': /'XObject', 'Subtype': /'Image', 'Width': 1410, 'Height': 793, 'ColorSpace': /'DeviceRGB', 'BitsPerComponent': 8, 'Filter': /'DCTDecode', 'Interpolate': True, 'Length': 131360}>\n",
      "Processing xobj: <PDFStream(40): raw=13421, {'Type': /'XObject', 'Subtype': /'Image', 'Width': 276, 'Height': 84, 'ColorSpace': /'DeviceRGB', 'BitsPerComponent': 8, 'Interpolate': False, 'SMask': <PDFObjRef:41>, 'Filter': /'FlateDecode', 'Length': 13419}>\n",
      "Page: {'Type': /'Page', 'Parent': <PDFObjRef:2>, 'Resources': {'Font': {'F5': <PDFObjRef:17>, 'F1': <PDFObjRef:5>, 'F2': <PDFObjRef:9>, 'F9': <PDFObjRef:37>, 'F8': <PDFObjRef:31>, 'F10': <PDFObjRef:44>}, 'ExtGState': {'GS7': <PDFObjRef:7>, 'GS8': <PDFObjRef:8>}, 'ProcSet': [/'PDF', /'Text', /'ImageB', /'ImageC', /'ImageI']}, 'MediaBox': [0, 0, 595.2, 842.4], 'Contents': <PDFObjRef:43>, 'Group': {'Type': /'Group', 'S': /'Transparency', 'CS': /'DeviceRGB'}, 'Tabs': /'S', 'StructParents': 4}\n",
      "Processing page: <PDFPage: Resources={'Font': {'F5': <PDFObjRef:17>, 'F1': <PDFObjRef:5>, 'F2': <PDFObjRef:9>, 'F9': <PDFObjRef:37>, 'F8': <PDFObjRef:31>, 'F10': <PDFObjRef:44>}, 'ExtGState': {'GS7': <PDFObjRef:7>, 'GS8': <PDFObjRef:8>}, 'ProcSet': [/'PDF', /'Text', /'ImageB', /'ImageC', /'ImageI']}, MediaBox=[0, 0, 595.2, 842.4]>\n",
      "render_contents: resources={'Font': {'F5': <PDFObjRef:17>, 'F1': <PDFObjRef:5>, 'F2': <PDFObjRef:9>, 'F9': <PDFObjRef:37>, 'F8': <PDFObjRef:31>, 'F10': <PDFObjRef:44>}, 'ExtGState': {'GS7': <PDFObjRef:7>, 'GS8': <PDFObjRef:8>}, 'ProcSet': [/'PDF', /'Text', /'ImageB', /'ImageC', /'ImageI']}, streams=[<PDFStream(43): raw=6047, {'Filter': /'FlateDecode', 'Length': 6045}>], ctm=(1, 0, 0, 1, 0, 0)\n",
      "get_font: create: objid=44, spec={'Type': /'Font', 'Subtype': /'TrueType', 'Name': /'F10', 'BaseFont': /'BCDHEE+Calibri-Italic', 'Encoding': /'WinAnsiEncoding', 'FontDescriptor': <PDFObjRef:45>, 'FirstChar': 32, 'LastChar': 121, 'Widths': <PDFObjRef:3854>}\n",
      "Page: {'Type': /'Page', 'Parent': <PDFObjRef:2>, 'Resources': {'Font': {'F2': <PDFObjRef:9>, 'F1': <PDFObjRef:5>, 'F8': <PDFObjRef:31>, 'F10': <PDFObjRef:44>, 'F11': <PDFObjRef:50>, 'F9': <PDFObjRef:37>, 'F5': <PDFObjRef:17>}, 'ExtGState': {'GS7': <PDFObjRef:7>, 'GS8': <PDFObjRef:8>}, 'ProcSet': [/'PDF', /'Text', /'ImageB', /'ImageC', /'ImageI']}, 'Annots': [<PDFObjRef:48>, <PDFObjRef:49>], 'MediaBox': [0, 0, 595.2, 842.4], 'Contents': <PDFObjRef:47>, 'Group': {'Type': /'Group', 'S': /'Transparency', 'CS': /'DeviceRGB'}, 'Tabs': /'S', 'StructParents': 5}\n",
      "Processing page: <PDFPage: Resources={'Font': {'F2': <PDFObjRef:9>, 'F1': <PDFObjRef:5>, 'F8': <PDFObjRef:31>, 'F10': <PDFObjRef:44>, 'F11': <PDFObjRef:50>, 'F9': <PDFObjRef:37>, 'F5': <PDFObjRef:17>}, 'ExtGState': {'GS7': <PDFObjRef:7>, 'GS8': <PDFObjRef:8>}, 'ProcSet': [/'PDF', /'Text', /'ImageB', /'ImageC', /'ImageI']}, MediaBox=[0, 0, 595.2, 842.4]>\n",
      "render_contents: resources={'Font': {'F2': <PDFObjRef:9>, 'F1': <PDFObjRef:5>, 'F8': <PDFObjRef:31>, 'F10': <PDFObjRef:44>, 'F11': <PDFObjRef:50>, 'F9': <PDFObjRef:37>, 'F5': <PDFObjRef:17>}, 'ExtGState': {'GS7': <PDFObjRef:7>, 'GS8': <PDFObjRef:8>}, 'ProcSet': [/'PDF', /'Text', /'ImageB', /'ImageC', /'ImageI']}, streams=[<PDFStream(47): raw=4890, {'Filter': /'FlateDecode', 'Length': 4888}>], ctm=(1, 0, 0, 1, 0, 0)\n",
      "get_font: create: objid=50, spec={'Type': /'Font', 'Subtype': /'TrueType', 'Name': /'F11', 'BaseFont': /'BCDIEE+Calibri-BoldItalic', 'Encoding': /'WinAnsiEncoding', 'FontDescriptor': <PDFObjRef:51>, 'FirstChar': 32, 'LastChar': 32, 'Widths': <PDFObjRef:3856>}\n",
      "Page: {'Type': /'Page', 'Parent': <PDFObjRef:2>, 'Resources': {'Font': {'F5': <PDFObjRef:17>, 'F9': <PDFObjRef:37>, 'F12': <PDFObjRef:54>, 'F2': <PDFObjRef:9>}, 'ExtGState': {'GS7': <PDFObjRef:7>, 'GS8': <PDFObjRef:8>}, 'ProcSet': [/'PDF', /'Text', /'ImageB', /'ImageC', /'ImageI']}, 'MediaBox': [0, 0, 595.2, 842.4], 'Contents': <PDFObjRef:53>, 'Group': {'Type': /'Group', 'S': /'Transparency', 'CS': /'DeviceRGB'}, 'Tabs': /'S', 'StructParents': 8}\n",
      "Processing page: <PDFPage: Resources={'Font': {'F5': <PDFObjRef:17>, 'F9': <PDFObjRef:37>, 'F12': <PDFObjRef:54>, 'F2': <PDFObjRef:9>}, 'ExtGState': {'GS7': <PDFObjRef:7>, 'GS8': <PDFObjRef:8>}, 'ProcSet': [/'PDF', /'Text', /'ImageB', /'ImageC', /'ImageI']}, MediaBox=[0, 0, 595.2, 842.4]>\n",
      "render_contents: resources={'Font': {'F5': <PDFObjRef:17>, 'F9': <PDFObjRef:37>, 'F12': <PDFObjRef:54>, 'F2': <PDFObjRef:9>}, 'ExtGState': {'GS7': <PDFObjRef:7>, 'GS8': <PDFObjRef:8>}, 'ProcSet': [/'PDF', /'Text', /'ImageB', /'ImageC', /'ImageI']}, streams=[<PDFStream(53): raw=14070, {'Filter': /'FlateDecode', 'Length': 14068}>], ctm=(1, 0, 0, 1, 0, 0)\n",
      "get_font: create: objid=54, spec={'Type': /'Font', 'Subtype': /'Type0', 'BaseFont': /'BCDJEE+Calibri-Bold', 'Encoding': /'Identity-H', 'DescendantFonts': <PDFObjRef:55>, 'ToUnicode': <PDFObjRef:3850>}\n",
      "get_font: create: objid=None, spec={'BaseFont': /'BCDJEE+Calibri-Bold', 'Subtype': /'CIDFontType2', 'Type': /'Font', 'CIDToGIDMap': /'Identity', 'DW': 1000, 'CIDSystemInfo': <PDFObjRef:57>, 'FontDescriptor': <PDFObjRef:58>, 'W': <PDFObjRef:3852>, 'Encoding': /'Identity-H', 'ToUnicode': <PDFStream(3850): raw=230, {'Filter': /'FlateDecode', 'Length': 228}>}\n",
      "Page: {'Type': /'Page', 'Parent': <PDFObjRef:2>, 'Resources': {'Font': {'F2': <PDFObjRef:9>, 'F9': <PDFObjRef:37>}, 'ExtGState': {'GS7': <PDFObjRef:7>, 'GS8': <PDFObjRef:8>}, 'ProcSet': [/'PDF', /'Text', /'ImageB', /'ImageC', /'ImageI']}, 'MediaBox': [0, 0, 595.2, 842.4], 'Contents': <PDFObjRef:60>, 'Group': {'Type': /'Group', 'S': /'Transparency', 'CS': /'DeviceRGB'}, 'Tabs': /'S', 'StructParents': 9}\n",
      "Processing page: <PDFPage: Resources={'Font': {'F2': <PDFObjRef:9>, 'F9': <PDFObjRef:37>}, 'ExtGState': {'GS7': <PDFObjRef:7>, 'GS8': <PDFObjRef:8>}, 'ProcSet': [/'PDF', /'Text', /'ImageB', /'ImageC', /'ImageI']}, MediaBox=[0, 0, 595.2, 842.4]>\n",
      "render_contents: resources={'Font': {'F2': <PDFObjRef:9>, 'F9': <PDFObjRef:37>}, 'ExtGState': {'GS7': <PDFObjRef:7>, 'GS8': <PDFObjRef:8>}, 'ProcSet': [/'PDF', /'Text', /'ImageB', /'ImageC', /'ImageI']}, streams=[<PDFStream(60): raw=15897, {'Filter': /'FlateDecode', 'Length': 15895}>], ctm=(1, 0, 0, 1, 0, 0)\n",
      "Page: {'Type': /'Page', 'Parent': <PDFObjRef:2>, 'Resources': {'Font': {'F2': <PDFObjRef:9>, 'F9': <PDFObjRef:37>}, 'ExtGState': {'GS7': <PDFObjRef:7>, 'GS8': <PDFObjRef:8>}, 'ProcSet': [/'PDF', /'Text', /'ImageB', /'ImageC', /'ImageI']}, 'MediaBox': [0, 0, 595.2, 842.4], 'Contents': <PDFObjRef:62>, 'Group': {'Type': /'Group', 'S': /'Transparency', 'CS': /'DeviceRGB'}, 'Tabs': /'S', 'StructParents': 10}\n",
      "Processing page: <PDFPage: Resources={'Font': {'F2': <PDFObjRef:9>, 'F9': <PDFObjRef:37>}, 'ExtGState': {'GS7': <PDFObjRef:7>, 'GS8': <PDFObjRef:8>}, 'ProcSet': [/'PDF', /'Text', /'ImageB', /'ImageC', /'ImageI']}, MediaBox=[0, 0, 595.2, 842.4]>\n",
      "render_contents: resources={'Font': {'F2': <PDFObjRef:9>, 'F9': <PDFObjRef:37>}, 'ExtGState': {'GS7': <PDFObjRef:7>, 'GS8': <PDFObjRef:8>}, 'ProcSet': [/'PDF', /'Text', /'ImageB', /'ImageC', /'ImageI']}, streams=[<PDFStream(62): raw=14762, {'Filter': /'FlateDecode', 'Length': 14760}>], ctm=(1, 0, 0, 1, 0, 0)\n",
      "Page: {'Type': /'Page', 'Parent': <PDFObjRef:2>, 'Resources': {'Font': {'F2': <PDFObjRef:9>, 'F9': <PDFObjRef:37>, 'F8': <PDFObjRef:31>}, 'ExtGState': {'GS7': <PDFObjRef:7>, 'GS8': <PDFObjRef:8>}, 'ProcSet': [/'PDF', /'Text', /'ImageB', /'ImageC', /'ImageI']}, 'MediaBox': [0, 0, 595.2, 842.4], 'Contents': <PDFObjRef:64>, 'Group': {'Type': /'Group', 'S': /'Transparency', 'CS': /'DeviceRGB'}, 'Tabs': /'S', 'StructParents': 11}\n",
      "Processing page: <PDFPage: Resources={'Font': {'F2': <PDFObjRef:9>, 'F9': <PDFObjRef:37>, 'F8': <PDFObjRef:31>}, 'ExtGState': {'GS7': <PDFObjRef:7>, 'GS8': <PDFObjRef:8>}, 'ProcSet': [/'PDF', /'Text', /'ImageB', /'ImageC', /'ImageI']}, MediaBox=[0, 0, 595.2, 842.4]>\n",
      "render_contents: resources={'Font': {'F2': <PDFObjRef:9>, 'F9': <PDFObjRef:37>, 'F8': <PDFObjRef:31>}, 'ExtGState': {'GS7': <PDFObjRef:7>, 'GS8': <PDFObjRef:8>}, 'ProcSet': [/'PDF', /'Text', /'ImageB', /'ImageC', /'ImageI']}, streams=[<PDFStream(64): raw=14619, {'Filter': /'FlateDecode', 'Length': 14617}>], ctm=(1, 0, 0, 1, 0, 0)\n",
      "Page: {'Type': /'Page', 'Parent': <PDFObjRef:2>, 'Resources': {'Font': {'F2': <PDFObjRef:9>, 'F9': <PDFObjRef:37>, 'F1': <PDFObjRef:5>, 'F12': <PDFObjRef:54>, 'F5': <PDFObjRef:17>}, 'ExtGState': {'GS7': <PDFObjRef:7>, 'GS8': <PDFObjRef:8>}, 'ProcSet': [/'PDF', /'Text', /'ImageB', /'ImageC', /'ImageI']}, 'MediaBox': [0, 0, 595.2, 842.4], 'Contents': <PDFObjRef:66>, 'Group': {'Type': /'Group', 'S': /'Transparency', 'CS': /'DeviceRGB'}, 'Tabs': /'S', 'StructParents': 12}\n",
      "Processing page: <PDFPage: Resources={'Font': {'F2': <PDFObjRef:9>, 'F9': <PDFObjRef:37>, 'F1': <PDFObjRef:5>, 'F12': <PDFObjRef:54>, 'F5': <PDFObjRef:17>}, 'ExtGState': {'GS7': <PDFObjRef:7>, 'GS8': <PDFObjRef:8>}, 'ProcSet': [/'PDF', /'Text', /'ImageB', /'ImageC', /'ImageI']}, MediaBox=[0, 0, 595.2, 842.4]>\n",
      "render_contents: resources={'Font': {'F2': <PDFObjRef:9>, 'F9': <PDFObjRef:37>, 'F1': <PDFObjRef:5>, 'F12': <PDFObjRef:54>, 'F5': <PDFObjRef:17>}, 'ExtGState': {'GS7': <PDFObjRef:7>, 'GS8': <PDFObjRef:8>}, 'ProcSet': [/'PDF', /'Text', /'ImageB', /'ImageC', /'ImageI']}, streams=[<PDFStream(66): raw=14494, {'Filter': /'FlateDecode', 'Length': 14492}>], ctm=(1, 0, 0, 1, 0, 0)\n",
      "Page: {'Type': /'Page', 'Parent': <PDFObjRef:2>, 'Resources': {'Font': {'F8': <PDFObjRef:31>, 'F2': <PDFObjRef:9>, 'F9': <PDFObjRef:37>, 'F1': <PDFObjRef:5>}, 'ExtGState': {'GS7': <PDFObjRef:7>, 'GS8': <PDFObjRef:8>}, 'ProcSet': [/'PDF', /'Text', /'ImageB', /'ImageC', /'ImageI']}, 'Annots': [<PDFObjRef:69>], 'MediaBox': [0, 0, 595.2, 842.4], 'Contents': <PDFObjRef:68>, 'Group': {'Type': /'Group', 'S': /'Transparency', 'CS': /'DeviceRGB'}, 'Tabs': /'S', 'StructParents': 13}\n",
      "Processing page: <PDFPage: Resources={'Font': {'F8': <PDFObjRef:31>, 'F2': <PDFObjRef:9>, 'F9': <PDFObjRef:37>, 'F1': <PDFObjRef:5>}, 'ExtGState': {'GS7': <PDFObjRef:7>, 'GS8': <PDFObjRef:8>}, 'ProcSet': [/'PDF', /'Text', /'ImageB', /'ImageC', /'ImageI']}, MediaBox=[0, 0, 595.2, 842.4]>\n",
      "render_contents: resources={'Font': {'F8': <PDFObjRef:31>, 'F2': <PDFObjRef:9>, 'F9': <PDFObjRef:37>, 'F1': <PDFObjRef:5>}, 'ExtGState': {'GS7': <PDFObjRef:7>, 'GS8': <PDFObjRef:8>}, 'ProcSet': [/'PDF', /'Text', /'ImageB', /'ImageC', /'ImageI']}, streams=[<PDFStream(68): raw=3693, {'Filter': /'FlateDecode', 'Length': 3691}>], ctm=(1, 0, 0, 1, 0, 0)\n",
      "Page: {'Type': /'Page', 'Parent': <PDFObjRef:2>, 'Resources': {'Font': {'F9': <PDFObjRef:37>, 'F2': <PDFObjRef:9>, 'F1': <PDFObjRef:5>, 'F5': <PDFObjRef:17>, 'F8': <PDFObjRef:31>, 'F7': <PDFObjRef:24>}, 'ExtGState': {'GS7': <PDFObjRef:7>, 'GS8': <PDFObjRef:8>}, 'XObject': {'Image72': <PDFObjRef:72>}, 'ProcSet': [/'PDF', /'Text', /'ImageB', /'ImageC', /'ImageI']}, 'MediaBox': [0, 0, 595.2, 842.4], 'Contents': <PDFObjRef:71>, 'Group': {'Type': /'Group', 'S': /'Transparency', 'CS': /'DeviceRGB'}, 'Tabs': /'S', 'StructParents': 15}\n",
      "Processing page: <PDFPage: Resources={'Font': {'F9': <PDFObjRef:37>, 'F2': <PDFObjRef:9>, 'F1': <PDFObjRef:5>, 'F5': <PDFObjRef:17>, 'F8': <PDFObjRef:31>, 'F7': <PDFObjRef:24>}, 'ExtGState': {'GS7': <PDFObjRef:7>, 'GS8': <PDFObjRef:8>}, 'XObject': {'Image72': <PDFObjRef:72>}, 'ProcSet': [/'PDF', /'Text', /'ImageB', /'ImageC', /'ImageI']}, MediaBox=[0, 0, 595.2, 842.4]>\n",
      "render_contents: resources={'Font': {'F9': <PDFObjRef:37>, 'F2': <PDFObjRef:9>, 'F1': <PDFObjRef:5>, 'F5': <PDFObjRef:17>, 'F8': <PDFObjRef:31>, 'F7': <PDFObjRef:24>}, 'ExtGState': {'GS7': <PDFObjRef:7>, 'GS8': <PDFObjRef:8>}, 'XObject': {'Image72': <PDFObjRef:72>}, 'ProcSet': [/'PDF', /'Text', /'ImageB', /'ImageC', /'ImageI']}, streams=[<PDFStream(71): raw=2615, {'Filter': /'FlateDecode', 'Length': 2613}>], ctm=(1, 0, 0, 1, 0, 0)\n",
      "Processing xobj: <PDFStream(72): raw=76956, {'Type': /'XObject', 'Subtype': /'Image', 'Width': 1454, 'Height': 887, 'ColorSpace': /'DeviceRGB', 'BitsPerComponent': 8, 'Filter': /'DCTDecode', 'Interpolate': True, 'Length': 76954}>\n",
      "Page: {'Type': /'Page', 'Parent': <PDFObjRef:2>, 'Resources': {'Font': {'F5': <PDFObjRef:17>, 'F13': <PDFObjRef:75>, 'F1': <PDFObjRef:5>, 'F2': <PDFObjRef:9>, 'F14': <PDFObjRef:89>, 'F8': <PDFObjRef:31>, 'F9': <PDFObjRef:37>}, 'ExtGState': {'GS7': <PDFObjRef:7>, 'GS8': <PDFObjRef:8>}, 'ProcSet': [/'PDF', /'Text', /'ImageB', /'ImageC', /'ImageI']}, 'Annots': [<PDFObjRef:80>, <PDFObjRef:81>, <PDFObjRef:82>, <PDFObjRef:83>, <PDFObjRef:84>, <PDFObjRef:85>, <PDFObjRef:86>, <PDFObjRef:87>, <PDFObjRef:88>, <PDFObjRef:91>, <PDFObjRef:92>, <PDFObjRef:93>], 'MediaBox': [0, 0, 595.2, 842.4], 'Contents': <PDFObjRef:74>, 'Group': {'Type': /'Group', 'S': /'Transparency', 'CS': /'DeviceRGB'}, 'Tabs': /'S', 'StructParents': 16}\n",
      "Processing page: <PDFPage: Resources={'Font': {'F5': <PDFObjRef:17>, 'F13': <PDFObjRef:75>, 'F1': <PDFObjRef:5>, 'F2': <PDFObjRef:9>, 'F14': <PDFObjRef:89>, 'F8': <PDFObjRef:31>, 'F9': <PDFObjRef:37>}, 'ExtGState': {'GS7': <PDFObjRef:7>, 'GS8': <PDFObjRef:8>}, 'ProcSet': [/'PDF', /'Text', /'ImageB', /'ImageC', /'ImageI']}, MediaBox=[0, 0, 595.2, 842.4]>\n",
      "render_contents: resources={'Font': {'F5': <PDFObjRef:17>, 'F13': <PDFObjRef:75>, 'F1': <PDFObjRef:5>, 'F2': <PDFObjRef:9>, 'F14': <PDFObjRef:89>, 'F8': <PDFObjRef:31>, 'F9': <PDFObjRef:37>}, 'ExtGState': {'GS7': <PDFObjRef:7>, 'GS8': <PDFObjRef:8>}, 'ProcSet': [/'PDF', /'Text', /'ImageB', /'ImageC', /'ImageI']}, streams=[<PDFStream(74): raw=6240, {'Filter': /'FlateDecode', 'Length': 6238}>], ctm=(1, 0, 0, 1, 0, 0)\n",
      "get_font: create: objid=75, spec={'Type': /'Font', 'Subtype': /'Type0', 'BaseFont': /'ArialMT', 'Encoding': /'Identity-H', 'DescendantFonts': <PDFObjRef:76>, 'ToUnicode': <PDFObjRef:3833>}\n",
      "get_font: create: objid=None, spec={'BaseFont': /'ArialMT', 'Subtype': /'CIDFontType2', 'Type': /'Font', 'CIDToGIDMap': /'Identity', 'DW': 1000, 'CIDSystemInfo': <PDFObjRef:78>, 'FontDescriptor': <PDFObjRef:79>, 'W': <PDFObjRef:3835>, 'Encoding': /'Identity-H', 'ToUnicode': <PDFStream(3833): raw=228, {'Filter': /'FlateDecode', 'Length': 226}>}\n",
      "get_font: create: objid=89, spec={'Type': /'Font', 'Subtype': /'TrueType', 'Name': /'F14', 'BaseFont': /'BCDKEE+CourierNewPSMT', 'Encoding': /'WinAnsiEncoding', 'FontDescriptor': <PDFObjRef:90>, 'FirstChar': 111, 'LastChar': 111, 'Widths': <PDFObjRef:3858>}\n",
      "Page: {'Type': /'Page', 'Parent': <PDFObjRef:2>, 'Resources': {'Font': {'F5': <PDFObjRef:17>, 'F2': <PDFObjRef:9>, 'F9': <PDFObjRef:37>, 'F1': <PDFObjRef:5>, 'F7': <PDFObjRef:24>}, 'ExtGState': {'GS7': <PDFObjRef:7>, 'GS8': <PDFObjRef:8>}, 'ProcSet': [/'PDF', /'Text', /'ImageB', /'ImageC', /'ImageI']}, 'Annots': [<PDFObjRef:96>, <PDFObjRef:97>, <PDFObjRef:98>, <PDFObjRef:99>, <PDFObjRef:100>, <PDFObjRef:101>], 'MediaBox': [0, 0, 595.2, 842.4], 'Contents': <PDFObjRef:95>, 'Group': {'Type': /'Group', 'S': /'Transparency', 'CS': /'DeviceRGB'}, 'Tabs': /'S', 'StructParents': 29}\n",
      "Processing page: <PDFPage: Resources={'Font': {'F5': <PDFObjRef:17>, 'F2': <PDFObjRef:9>, 'F9': <PDFObjRef:37>, 'F1': <PDFObjRef:5>, 'F7': <PDFObjRef:24>}, 'ExtGState': {'GS7': <PDFObjRef:7>, 'GS8': <PDFObjRef:8>}, 'ProcSet': [/'PDF', /'Text', /'ImageB', /'ImageC', /'ImageI']}, MediaBox=[0, 0, 595.2, 842.4]>\n",
      "render_contents: resources={'Font': {'F5': <PDFObjRef:17>, 'F2': <PDFObjRef:9>, 'F9': <PDFObjRef:37>, 'F1': <PDFObjRef:5>, 'F7': <PDFObjRef:24>}, 'ExtGState': {'GS7': <PDFObjRef:7>, 'GS8': <PDFObjRef:8>}, 'ProcSet': [/'PDF', /'Text', /'ImageB', /'ImageC', /'ImageI']}, streams=[<PDFStream(95): raw=4616, {'Filter': /'FlateDecode', 'Length': 4614}>], ctm=(1, 0, 0, 1, 0, 0)\n",
      "Page: {'Type': /'Page', 'Parent': <PDFObjRef:2>, 'Resources': {'Font': {'F2': <PDFObjRef:9>, 'F1': <PDFObjRef:5>, 'F10': <PDFObjRef:44>}, 'ExtGState': {'GS7': <PDFObjRef:7>, 'GS8': <PDFObjRef:8>}, 'ProcSet': [/'PDF', /'Text', /'ImageB', /'ImageC', /'ImageI']}, 'Annots': [<PDFObjRef:104>, <PDFObjRef:105>], 'MediaBox': [0, 0, 595.2, 842.4], 'Contents': <PDFObjRef:103>, 'Group': {'Type': /'Group', 'S': /'Transparency', 'CS': /'DeviceRGB'}, 'Tabs': /'S', 'StructParents': 36}\n",
      "Processing page: <PDFPage: Resources={'Font': {'F2': <PDFObjRef:9>, 'F1': <PDFObjRef:5>, 'F10': <PDFObjRef:44>}, 'ExtGState': {'GS7': <PDFObjRef:7>, 'GS8': <PDFObjRef:8>}, 'ProcSet': [/'PDF', /'Text', /'ImageB', /'ImageC', /'ImageI']}, MediaBox=[0, 0, 595.2, 842.4]>\n",
      "render_contents: resources={'Font': {'F2': <PDFObjRef:9>, 'F1': <PDFObjRef:5>, 'F10': <PDFObjRef:44>}, 'ExtGState': {'GS7': <PDFObjRef:7>, 'GS8': <PDFObjRef:8>}, 'ProcSet': [/'PDF', /'Text', /'ImageB', /'ImageC', /'ImageI']}, streams=[<PDFStream(103): raw=2109, {'Filter': /'FlateDecode', 'Length': 2107}>], ctm=(1, 0, 0, 1, 0, 0)\n"
     ]
    },
    {
     "name": "stdout",
     "output_type": "stream",
     "text": [
      "<re.Match object; span=(75, 142), match='Data as reported by national authorities by  10:0>\n",
      "2 April 2020 2 April 2020\n",
      "2020-04-02\n",
      "already processed  https://www.who.int/docs/default-source/coronaviruse/situation-reports/20200401-sitrep-72-covid-19.pdf  in previous runs\n",
      "already processed  https://www.who.int/docs/default-source/coronaviruse/situation-reports/20200330-sitrep-70-covid-19.pdf  in previous runs\n",
      "already processed  https://www.who.int/docs/default-source/coronaviruse/situation-reports/20200329-sitrep-69-covid-19.pdf  in previous runs\n",
      "already processed  https://www.who.int/docs/default-source/coronaviruse/situation-reports/20200328-sitrep-68-covid-19.pdf  in previous runs\n",
      "already processed  https://www.who.int/docs/default-source/coronaviruse/situation-reports/20200327-sitrep-67-covid-19.pdf  in previous runs\n",
      "already processed  https://www.who.int/docs/default-source/coronaviruse/situation-reports/20200326-sitrep-66-covid-19.pdf  in previous runs\n",
      "already processed  https://www.who.int/docs/default-source/coronaviruse/situation-reports/20200325-sitrep-65-covid-19.pdf  in previous runs\n",
      "already processed  https://www.who.int/docs/default-source/coronaviruse/situation-reports/20200324-sitrep-64-covid-19.pdf  in previous runs\n",
      "already processed  https://www.who.int/docs/default-source/coronaviruse/situation-reports/20200323-sitrep-63-covid-19.pdf  in previous runs\n",
      "already processed  https://www.who.int/docs/default-source/coronaviruse/situation-reports/20200322-sitrep-62-covid-19.pdf  in previous runs\n",
      "already processed  https://www.who.int/docs/default-source/coronaviruse/situation-reports/20200321-sitrep-61-covid-19.pdf  in previous runs\n",
      "already processed  https://www.who.int/docs/default-source/coronaviruse/situation-reports/20200320-sitrep-60-covid-19.pdf  in previous runs\n",
      "already processed  https://www.who.int/docs/default-source/coronaviruse/situation-reports/20200319-sitrep-59-covid-19.pdf  in previous runs\n",
      "already processed  https://www.who.int/docs/default-source/coronaviruse/situation-reports/20200318-sitrep-58-covid-19.pdf  in previous runs\n",
      "already processed  https://www.who.int/docs/default-source/coronaviruse/situation-reports/20200317-sitrep-57-covid-19.pdf  in previous runs\n",
      "already processed  https://www.who.int/docs/default-source/coronaviruse/situation-reports/20200316-sitrep-56-covid-19.pdf  in previous runs\n",
      "already processed  https://www.who.int/docs/default-source/coronaviruse/situation-reports/20200315-sitrep-55-covid-19.pdf  in previous runs\n",
      "already processed  https://www.who.int/docs/default-source/coronaviruse/situation-reports/20200314-sitrep-54-covid-19.pdf  in previous runs\n",
      "already processed  https://www.who.int/docs/default-source/coronaviruse/situation-reports/20200313-sitrep-53-covid-19.pdf  in previous runs\n",
      "already processed  https://www.who.int/docs/default-source/coronaviruse/situation-reports/20200312-sitrep-52-covid-19.pdf  in previous runs\n",
      "already processed  https://www.who.int/docs/default-source/coronaviruse/situation-reports/20200311-sitrep-51-covid-19.pdf  in previous runs\n",
      "already processed  https://www.who.int/docs/default-source/coronaviruse/situation-reports/20200310-sitrep-50-covid-19.pdf  in previous runs\n",
      "already processed  https://www.who.int/docs/default-source/coronaviruse/situation-reports/20200309-sitrep-49-covid-19.pdf  in previous runs\n",
      "already processed  https://www.who.int/docs/default-source/coronaviruse/situation-reports/20200308-sitrep-48-covid-19.pdf  in previous runs\n",
      "already processed  https://www.who.int/docs/default-source/coronaviruse/situation-reports/20200307-sitrep-47-covid-19.pdf  in previous runs\n",
      "already processed  https://www.who.int/docs/default-source/coronaviruse/situation-reports/20200306-sitrep-46-covid-19.pdf  in previous runs\n",
      "already processed  https://www.who.int/docs/default-source/coronaviruse/situation-reports/20200305-sitrep-45-covid-19.pdf  in previous runs\n",
      "already processed  https://www.who.int/docs/default-source/coronaviruse/situation-reports/20200304-sitrep-44-covid-19.pdf  in previous runs\n",
      "already processed  https://www.who.int/docs/default-source/coronaviruse/situation-reports/20200303-sitrep-43-covid-19.pdf  in previous runs\n",
      "already processed  https://www.who.int/docs/default-source/coronaviruse/situation-reports/20200302-sitrep-42-covid-19.pdf  in previous runs\n",
      "already processed  https://www.who.int/docs/default-source/coronaviruse/situation-reports/20200301-sitrep-41-covid-19.pdf  in previous runs\n",
      "already processed  https://www.who.int/docs/default-source/coronaviruse/situation-reports/20200229-sitrep-40-covid-19.pdf  in previous runs\n",
      "already processed  https://www.who.int/docs/default-source/coronaviruse/situation-reports/20200228-sitrep-39-covid-19.pdf  in previous runs\n",
      "already processed  https://www.who.int/docs/default-source/coronaviruse/situation-reports/20200227-sitrep-38-covid-19.pdf  in previous runs\n",
      "already processed  https://www.who.int/docs/default-source/coronaviruse/situation-reports/20200226-sitrep-37-covid-19.pdf  in previous runs\n",
      "already processed  https://www.who.int/docs/default-source/coronaviruse/situation-reports/20200225-sitrep-36-covid-19.pdf  in previous runs\n",
      "already processed  https://www.who.int/docs/default-source/coronaviruse/situation-reports/20200224-sitrep-35-covid-19.pdf  in previous runs\n",
      "already processed  https://www.who.int/docs/default-source/coronaviruse/situation-reports/20200223-sitrep-34-covid-19.pdf  in previous runs\n",
      "already processed  https://www.who.int/docs/default-source/coronaviruse/situation-reports/20200222-sitrep-33-covid-19.pdf  in previous runs\n",
      "already processed  https://www.who.int/docs/default-source/coronaviruse/situation-reports/20200221-sitrep-32-covid-19.pdf  in previous runs\n",
      "already processed  https://www.who.int/docs/default-source/coronaviruse/situation-reports/20200220-sitrep-31-covid-19.pdf  in previous runs\n",
      "already processed  https://www.who.int/docs/default-source/coronaviruse/situation-reports/20200219-sitrep-30-covid-19.pdf  in previous runs\n",
      "already processed  https://www.who.int/docs/default-source/coronaviruse/situation-reports/20200218-sitrep-29-covid-19.pdf  in previous runs\n",
      "already processed  https://www.who.int/docs/default-source/coronaviruse/situation-reports/20200217-sitrep-28-covid-19.pdf  in previous runs\n",
      "already processed  https://www.who.int/docs/default-source/coronaviruse/situation-reports/20200216-sitrep-27-covid-19.pdf  in previous runs\n",
      "already processed  https://www.who.int/docs/default-source/coronaviruse/situation-reports/20200215-sitrep-26-covid-19.pdf  in previous runs\n",
      "already processed  https://www.who.int/docs/default-source/coronaviruse/situation-reports/20200214-sitrep-25-covid-19.pdf  in previous runs\n",
      "already processed  https://www.who.int/docs/default-source/coronaviruse/situation-reports/20200213-sitrep-24-covid-19.pdf  in previous runs\n",
      "already processed  https://www.who.int/docs/default-source/coronaviruse/situation-reports/20200212-sitrep-23-ncov.pdf  in previous runs\n",
      "already processed  https://www.who.int/docs/default-source/coronaviruse/situation-reports/20200211-sitrep-22-ncov.pdf  in previous runs\n",
      "already processed  https://www.who.int/docs/default-source/coronaviruse/situation-reports/20200210-sitrep-21-ncov.pdf  in previous runs\n",
      "already processed  https://www.who.int/docs/default-source/coronaviruse/situation-reports/20200209-sitrep-20-ncov.pdf  in previous runs\n",
      "already processed  https://www.who.int/docs/default-source/coronaviruse/situation-reports/20200208-sitrep-19-ncov.pdf  in previous runs\n",
      "already processed  https://www.who.int/docs/default-source/coronaviruse/situation-reports/20200207-sitrep-18-ncov.pdf  in previous runs\n",
      "already processed  https://www.who.int/docs/default-source/coronaviruse/situation-reports/20200206-sitrep-17-ncov.pdf  in previous runs\n",
      "already processed  https://www.who.int/docs/default-source/coronaviruse/situation-reports/20200205-sitrep-16-ncov.pdf  in previous runs\n",
      "already processed  https://www.who.int/docs/default-source/coronaviruse/situation-reports/20200204-sitrep-15-ncov.pdf  in previous runs\n",
      "already processed  https://www.who.int/docs/default-source/coronaviruse/situation-reports/20200203-sitrep-14-ncov.pdf  in previous runs\n",
      "already processed  https://www.who.int/docs/default-source/coronaviruse/situation-reports/20200202-sitrep-13-ncov-v3.pdf  in previous runs\n",
      "already processed  https://www.who.int/docs/default-source/coronaviruse/situation-reports/20200201-sitrep-12-ncov.pdf  in previous runs\n",
      "already processed  https://www.who.int/docs/default-source/coronaviruse/situation-reports/20200131-sitrep-11-ncov.pdf  in previous runs\n",
      "already processed  https://www.who.int/docs/default-source/coronaviruse/situation-reports/20200130-sitrep-10-ncov.pdf  in previous runs\n",
      "already processed  https://www.who.int/docs/default-source/coronaviruse/situation-reports/20200129-sitrep-9-ncov-v2.pdf  in previous runs\n",
      "already processed  https://www.who.int/docs/default-source/coronaviruse/situation-reports/20200128-sitrep-8-ncov-cleared.pdf  in previous runs\n",
      "already processed  https://www.who.int/docs/default-source/coronaviruse/situation-reports/20200127-sitrep-7-2019--ncov.pdf  in previous runs\n"
     ]
    }
   ],
   "source": [
    "df = get_WHO_stats()"
   ]
  },
  {
   "cell_type": "code",
   "execution_count": 9,
   "metadata": {},
   "outputs": [
    {
     "data": {
      "text/html": [
       "<div>\n",
       "<style scoped>\n",
       "    .dataframe tbody tr th:only-of-type {\n",
       "        vertical-align: middle;\n",
       "    }\n",
       "\n",
       "    .dataframe tbody tr th {\n",
       "        vertical-align: top;\n",
       "    }\n",
       "\n",
       "    .dataframe thead th {\n",
       "        text-align: right;\n",
       "    }\n",
       "</style>\n",
       "<table border=\"1\" class=\"dataframe\">\n",
       "  <thead>\n",
       "    <tr style=\"text-align: right;\">\n",
       "      <th></th>\n",
       "      <th>date</th>\n",
       "      <th>global_cases</th>\n",
       "      <th>report_url</th>\n",
       "    </tr>\n",
       "  </thead>\n",
       "  <tbody>\n",
       "    <tr>\n",
       "      <th>0</th>\n",
       "      <td>2020-01-27</td>\n",
       "      <td>2798</td>\n",
       "      <td>https://www.who.int/docs/default-source/corona...</td>\n",
       "    </tr>\n",
       "    <tr>\n",
       "      <th>1</th>\n",
       "      <td>2020-01-28</td>\n",
       "      <td>4593</td>\n",
       "      <td>https://www.who.int/docs/default-source/corona...</td>\n",
       "    </tr>\n",
       "    <tr>\n",
       "      <th>2</th>\n",
       "      <td>2020-01-29</td>\n",
       "      <td>6065</td>\n",
       "      <td>https://www.who.int/docs/default-source/corona...</td>\n",
       "    </tr>\n",
       "    <tr>\n",
       "      <th>3</th>\n",
       "      <td>2020-01-30</td>\n",
       "      <td>7818</td>\n",
       "      <td>https://www.who.int/docs/default-source/corona...</td>\n",
       "    </tr>\n",
       "    <tr>\n",
       "      <th>4</th>\n",
       "      <td>2020-01-31</td>\n",
       "      <td>9826</td>\n",
       "      <td>https://www.who.int/docs/default-source/corona...</td>\n",
       "    </tr>\n",
       "    <tr>\n",
       "      <th>...</th>\n",
       "      <td>...</td>\n",
       "      <td>...</td>\n",
       "      <td>...</td>\n",
       "    </tr>\n",
       "    <tr>\n",
       "      <th>65</th>\n",
       "      <td>2020-03-29</td>\n",
       "      <td>634835</td>\n",
       "      <td>https://www.who.int/docs/default-source/corona...</td>\n",
       "    </tr>\n",
       "    <tr>\n",
       "      <th>66</th>\n",
       "      <td>2020-03-30</td>\n",
       "      <td>693224</td>\n",
       "      <td>https://www.who.int/docs/default-source/corona...</td>\n",
       "    </tr>\n",
       "    <tr>\n",
       "      <th>67</th>\n",
       "      <td>2020-03-31</td>\n",
       "      <td>750890</td>\n",
       "      <td>https://www.who.int/docs/default-source/corona...</td>\n",
       "    </tr>\n",
       "    <tr>\n",
       "      <th>68</th>\n",
       "      <td>2020-04-01</td>\n",
       "      <td>823626</td>\n",
       "      <td>https://www.who.int/docs/default-source/corona...</td>\n",
       "    </tr>\n",
       "    <tr>\n",
       "      <th>69</th>\n",
       "      <td>2020-04-02</td>\n",
       "      <td>896450</td>\n",
       "      <td>https://www.who.int/docs/default-source/corona...</td>\n",
       "    </tr>\n",
       "  </tbody>\n",
       "</table>\n",
       "<p>70 rows × 3 columns</p>\n",
       "</div>"
      ],
      "text/plain": [
       "          date  global_cases  \\\n",
       "0   2020-01-27          2798   \n",
       "1   2020-01-28          4593   \n",
       "2   2020-01-29          6065   \n",
       "3   2020-01-30          7818   \n",
       "4   2020-01-31          9826   \n",
       "..         ...           ...   \n",
       "65  2020-03-29        634835   \n",
       "66  2020-03-30        693224   \n",
       "67  2020-03-31        750890   \n",
       "68  2020-04-01        823626   \n",
       "69  2020-04-02        896450   \n",
       "\n",
       "                                           report_url  \n",
       "0   https://www.who.int/docs/default-source/corona...  \n",
       "1   https://www.who.int/docs/default-source/corona...  \n",
       "2   https://www.who.int/docs/default-source/corona...  \n",
       "3   https://www.who.int/docs/default-source/corona...  \n",
       "4   https://www.who.int/docs/default-source/corona...  \n",
       "..                                                ...  \n",
       "65  https://www.who.int/docs/default-source/corona...  \n",
       "66  https://www.who.int/docs/default-source/corona...  \n",
       "67  https://www.who.int/docs/default-source/corona...  \n",
       "68  https://www.who.int/docs/default-source/corona...  \n",
       "69  https://www.who.int/docs/default-source/corona...  \n",
       "\n",
       "[70 rows x 3 columns]"
      ]
     },
     "execution_count": 9,
     "metadata": {},
     "output_type": "execute_result"
    }
   ],
   "source": [
    "df"
   ]
  },
  {
   "cell_type": "markdown",
   "metadata": {},
   "source": [
    "### Plot graph and save to files"
   ]
  },
  {
   "cell_type": "code",
   "execution_count": 10,
   "metadata": {},
   "outputs": [],
   "source": [
    "import seaborn as sns\n",
    "from pathlib import Path"
   ]
  },
  {
   "cell_type": "code",
   "execution_count": 11,
   "metadata": {},
   "outputs": [],
   "source": [
    "df.sort_values(by=['date'], inplace=True)"
   ]
  },
  {
   "cell_type": "code",
   "execution_count": 12,
   "metadata": {},
   "outputs": [
    {
     "data": {
      "image/png": "[encoded data removed]",
      "text/plain": [
       "<Figure size 1152x612 with 1 Axes>"
      ]
     },
     "metadata": {},
     "output_type": "display_data"
    }
   ],
   "source": [
    "sns.set(rc={'figure.figsize':(16,8.5)})\n",
    "sns.set(style=\"whitegrid\")\n",
    "\n",
    "\n",
    "bar_chart = sns.barplot(x='date', y='global_cases', color='dodgerblue', data=df)\n",
    "bar_chart.tick_params(axis='x', labelrotation=70)\n"
   ]
  },
  {
   "cell_type": "code",
   "execution_count": 13,
   "metadata": {},
   "outputs": [],
   "source": [
    "bar_chart_fig = bar_chart.get_figure()\n"
   ]
  },
  {
   "cell_type": "code",
   "execution_count": 14,
   "metadata": {},
   "outputs": [],
   "source": [
    "df.to_csv(csv_file, index=False)\n",
    "bar_chart_fig.savefig(png_file)\n"
   ]
  },
  {
   "cell_type": "code",
   "execution_count": null,
   "metadata": {},
   "outputs": [],
   "source": []
  }
 ],
 "metadata": {
  "kernelspec": {
   "display_name": "Python 3",
   "language": "python",
   "name": "python3"
  },
  "language_info": {
   "codemirror_mode": {
    "name": "ipython",
    "version": 3
   },
   "file_extension": ".py",
   "mimetype": "text/x-python",
   "name": "python",
   "nbconvert_exporter": "python",
   "pygments_lexer": "ipython3",
   "version": "3.7.6"
  }
 },
 "nbformat": 4,
 "nbformat_minor": 2
}
