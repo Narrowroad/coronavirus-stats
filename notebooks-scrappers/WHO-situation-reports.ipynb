{
 "cells": [
  {
   "cell_type": "code",
   "execution_count": 1,
   "metadata": {},
   "outputs": [],
   "source": [
    "import requests\n",
    "import re\n",
    "import io\n",
    "from bs4 import BeautifulSoup\n",
    "from urllib.parse import urljoin\n",
    "from datetime import datetime\n",
    "# from PyPDF2 import PdfFileReader\n",
    "from pdfminer.high_level import extract_text\n",
    "import logging\n",
    "import sys\n",
    "import pandas as pd\n",
    "\n",
    "\n",
    "logger = logging.getLogger() \n",
    "logger.handlers = [logging.StreamHandler()]\n",
    "logger.setLevel(logging.INFO)\n"
   ]
  },
  {
   "cell_type": "code",
   "execution_count": 2,
   "metadata": {},
   "outputs": [],
   "source": [
    "csv_file = '../data/who-global-cases.csv'\n",
    "png_file = '../images/who-global-cases.png'"
   ]
  },
  {
   "cell_type": "code",
   "execution_count": 3,
   "metadata": {},
   "outputs": [
    {
     "data": {
      "text/plain": [
       "datetime.datetime(2020, 3, 25, 22, 18, 1, 590023)"
      ]
     },
     "execution_count": 3,
     "metadata": {},
     "output_type": "execute_result"
    }
   ],
   "source": [
    "# display the last execute time\n",
    "datetime.now()"
   ]
  },
  {
   "cell_type": "markdown",
   "metadata": {},
   "source": [
    "### Scraping"
   ]
  },
  {
   "cell_type": "code",
   "execution_count": 4,
   "metadata": {},
   "outputs": [],
   "source": [
    "def analyze_report(url):\n",
    "    '''\n",
    "    Analyze a situation report url\n",
    "    '''\n",
    "    response = requests.get(url)\n",
    "    # approach using Py2PDF\n",
    "    #     f_obj = io.BytesIO(response.content)\n",
    "    #     pdf = PdfFileReader(f_obj)\n",
    "    #     page_zero = pdf.getPage(0)  \n",
    "    #     text  = page_zero.extractText()\n",
    "\n",
    "    # using pdfminer\n",
    "    filename=re.sub(\"[\\:\\s\\.]\", \"\", str(datetime.now()))\n",
    "    open(filename, \"wb\").write(response.content)\n",
    "    text = extract_text(filename)\n",
    "    \n",
    "    try:\n",
    "        # use regular expression to extract date\n",
    "        p_date = re.compile(\"Data as reported by .+ (\\d+ \\w+ 202\\d)\")\n",
    "        m_date = p_date.search(text)\n",
    "        print(m_date)\n",
    "        report_date_str = m_date.group(1).replace(\"\\n\",\"\")\n",
    "        print(report_date_str, m_date.group(1))\n",
    "        report_date = datetime.strptime(report_date_str, '%d %B %Y').strftime('%Y-%m-%d')\n",
    "        print(report_date)\n",
    "        # use regular expression to extract global cases\n",
    "        p_global = re.compile(\"Globally ([\\s\\n0-9]+)\", re.DOTALL)\n",
    "        m_global = p_global.search(text)\n",
    "        global_cases_str = re.sub(r'[\\n\\s]', '', m_global.group(1))\n",
    "\n",
    "        global_cases = int(global_cases_str)\n",
    "\n",
    "        return {\"date\":report_date, \"global_cases\": global_cases, \"report_url\": url}\n",
    "    except AttributeError as e:\n",
    "        logger.warning(f'Unable to extract from \"{url}\" : {e}\\n.')\n",
    "        raise e\n",
    "\n"
   ]
  },
  {
   "cell_type": "code",
   "execution_count": 5,
   "metadata": {},
   "outputs": [],
   "source": [
    "def get_reports_urls(home_url):\n",
    "    '''\n",
    "    Extract situation reports URL from WHO's page\n",
    "    '''\n",
    "    # unable to analyse these reports\n",
    "    skipped_urls = [\n",
    "        'https://www.who.int/docs/default-source/coronaviruse/situation-reports/20200126-sitrep-6-2019--ncov.pdf',\n",
    "        'https://www.who.int/docs/default-source/coronaviruse/situation-reports/20200125-sitrep-5-2019-ncov.pdf',\n",
    "        'https://www.who.int/docs/default-source/coronaviruse/situation-reports/20200124-sitrep-4-2019-ncov.pdf',\n",
    "        'https://www.who.int/docs/default-source/coronaviruse/situation-reports/20200123-sitrep-3-2019-ncov.pdf',\n",
    "        'https://www.who.int/docs/default-source/coronaviruse/situation-reports/20200122-sitrep-2-2019-ncov.pdf',\n",
    "        'https://www.who.int/docs/default-source/coronaviruse/situation-reports/20200121-sitrep-1-2019-ncov.pdf'\n",
    "    ]  \n",
    "    \n",
    "    urls = []\n",
    "    response = requests.get(home_url)\n",
    "    soup = BeautifulSoup(response.content, 'lxml')\n",
    "    tags = soup.find_all('a')\n",
    "    for tag in tags:\n",
    "        if len(tag.contents)>0:\n",
    "            content = str(tag.contents[0])\n",
    "            if \"Situation report - \" in content:\n",
    "                url = urljoin(home_url ,  tag.get('href')).split('?')[0]\n",
    "                \n",
    "                if url not in skipped_urls:\n",
    "                    urls.append(url)\n",
    "\n",
    "    return urls\n"
   ]
  },
  {
   "cell_type": "code",
   "execution_count": null,
   "metadata": {},
   "outputs": [],
   "source": []
  },
  {
   "cell_type": "code",
   "execution_count": 6,
   "metadata": {},
   "outputs": [],
   "source": [
    "def get_WHO_stats():\n",
    "    reports_home_url = 'https://www.who.int/emergencies/diseases/novel-coronavirus-2019/situation-reports/'\n",
    "    reports_urls = get_reports_urls(reports_home_url)\n",
    "    df = pd.read_csv(csv_file)\n",
    "    for url in reports_urls:\n",
    "        if df['report_url'].str.contains(url).any():\n",
    "            print('already processed ', url, ' in previous runs')\n",
    "            continue\n",
    "        stats = analyze_report(url)\n",
    "        df = df.append(stats, ignore_index = True)\n",
    "    return df"
   ]
  },
  {
   "cell_type": "code",
   "execution_count": 7,
   "metadata": {},
   "outputs": [
    {
     "name": "stdout",
     "output_type": "stream",
     "text": [
      "['https://www.who.int/docs/default-source/coronaviruse/situation-reports/20200325-sitrep-65-covid-19.pdf', 'https://www.who.int/docs/default-source/coronaviruse/situation-reports/20200324-sitrep-64-covid-19.pdf', 'https://www.who.int/docs/default-source/coronaviruse/situation-reports/20200323-sitrep-63-covid-19.pdf', 'https://www.who.int/docs/default-source/coronaviruse/situation-reports/20200322-sitrep-62-covid-19.pdf', 'https://www.who.int/docs/default-source/coronaviruse/situation-reports/20200321-sitrep-61-covid-19.pdf', 'https://www.who.int/docs/default-source/coronaviruse/situation-reports/20200320-sitrep-60-covid-19.pdf', 'https://www.who.int/docs/default-source/coronaviruse/situation-reports/20200319-sitrep-59-covid-19.pdf', 'https://www.who.int/docs/default-source/coronaviruse/situation-reports/20200318-sitrep-58-covid-19.pdf', 'https://www.who.int/docs/default-source/coronaviruse/situation-reports/20200317-sitrep-57-covid-19.pdf', 'https://www.who.int/docs/default-source/coronaviruse/situation-reports/20200316-sitrep-56-covid-19.pdf', 'https://www.who.int/docs/default-source/coronaviruse/situation-reports/20200315-sitrep-55-covid-19.pdf', 'https://www.who.int/docs/default-source/coronaviruse/situation-reports/20200314-sitrep-54-covid-19.pdf', 'https://www.who.int/docs/default-source/coronaviruse/situation-reports/20200313-sitrep-53-covid-19.pdf', 'https://www.who.int/docs/default-source/coronaviruse/situation-reports/20200312-sitrep-52-covid-19.pdf', 'https://www.who.int/docs/default-source/coronaviruse/situation-reports/20200311-sitrep-51-covid-19.pdf', 'https://www.who.int/docs/default-source/coronaviruse/situation-reports/20200310-sitrep-50-covid-19.pdf', 'https://www.who.int/docs/default-source/coronaviruse/situation-reports/20200309-sitrep-49-covid-19.pdf', 'https://www.who.int/docs/default-source/coronaviruse/situation-reports/20200308-sitrep-48-covid-19.pdf', 'https://www.who.int/docs/default-source/coronaviruse/situation-reports/20200307-sitrep-47-covid-19.pdf', 'https://www.who.int/docs/default-source/coronaviruse/situation-reports/20200306-sitrep-46-covid-19.pdf', 'https://www.who.int/docs/default-source/coronaviruse/situation-reports/20200305-sitrep-45-covid-19.pdf', 'https://www.who.int/docs/default-source/coronaviruse/situation-reports/20200304-sitrep-44-covid-19.pdf', 'https://www.who.int/docs/default-source/coronaviruse/situation-reports/20200303-sitrep-43-covid-19.pdf', 'https://www.who.int/docs/default-source/coronaviruse/situation-reports/20200302-sitrep-42-covid-19.pdf', 'https://www.who.int/docs/default-source/coronaviruse/situation-reports/20200301-sitrep-41-covid-19.pdf', 'https://www.who.int/docs/default-source/coronaviruse/situation-reports/20200229-sitrep-40-covid-19.pdf', 'https://www.who.int/docs/default-source/coronaviruse/situation-reports/20200228-sitrep-39-covid-19.pdf', 'https://www.who.int/docs/default-source/coronaviruse/situation-reports/20200227-sitrep-38-covid-19.pdf', 'https://www.who.int/docs/default-source/coronaviruse/situation-reports/20200226-sitrep-37-covid-19.pdf', 'https://www.who.int/docs/default-source/coronaviruse/situation-reports/20200225-sitrep-36-covid-19.pdf', 'https://www.who.int/docs/default-source/coronaviruse/situation-reports/20200224-sitrep-35-covid-19.pdf', 'https://www.who.int/docs/default-source/coronaviruse/situation-reports/20200223-sitrep-34-covid-19.pdf', 'https://www.who.int/docs/default-source/coronaviruse/situation-reports/20200222-sitrep-33-covid-19.pdf', 'https://www.who.int/docs/default-source/coronaviruse/situation-reports/20200221-sitrep-32-covid-19.pdf', 'https://www.who.int/docs/default-source/coronaviruse/situation-reports/20200220-sitrep-31-covid-19.pdf', 'https://www.who.int/docs/default-source/coronaviruse/situation-reports/20200219-sitrep-30-covid-19.pdf', 'https://www.who.int/docs/default-source/coronaviruse/situation-reports/20200218-sitrep-29-covid-19.pdf', 'https://www.who.int/docs/default-source/coronaviruse/situation-reports/20200217-sitrep-28-covid-19.pdf', 'https://www.who.int/docs/default-source/coronaviruse/situation-reports/20200216-sitrep-27-covid-19.pdf', 'https://www.who.int/docs/default-source/coronaviruse/situation-reports/20200215-sitrep-26-covid-19.pdf', 'https://www.who.int/docs/default-source/coronaviruse/situation-reports/20200214-sitrep-25-covid-19.pdf', 'https://www.who.int/docs/default-source/coronaviruse/situation-reports/20200213-sitrep-24-covid-19.pdf', 'https://www.who.int/docs/default-source/coronaviruse/situation-reports/20200212-sitrep-23-ncov.pdf', 'https://www.who.int/docs/default-source/coronaviruse/situation-reports/20200211-sitrep-22-ncov.pdf', 'https://www.who.int/docs/default-source/coronaviruse/situation-reports/20200210-sitrep-21-ncov.pdf', 'https://www.who.int/docs/default-source/coronaviruse/situation-reports/20200209-sitrep-20-ncov.pdf', 'https://www.who.int/docs/default-source/coronaviruse/situation-reports/20200208-sitrep-19-ncov.pdf', 'https://www.who.int/docs/default-source/coronaviruse/situation-reports/20200207-sitrep-18-ncov.pdf', 'https://www.who.int/docs/default-source/coronaviruse/situation-reports/20200206-sitrep-17-ncov.pdf', 'https://www.who.int/docs/default-source/coronaviruse/situation-reports/20200205-sitrep-16-ncov.pdf', 'https://www.who.int/docs/default-source/coronaviruse/situation-reports/20200204-sitrep-15-ncov.pdf', 'https://www.who.int/docs/default-source/coronaviruse/situation-reports/20200203-sitrep-14-ncov.pdf', 'https://www.who.int/docs/default-source/coronaviruse/situation-reports/20200202-sitrep-13-ncov-v3.pdf', 'https://www.who.int/docs/default-source/coronaviruse/situation-reports/20200201-sitrep-12-ncov.pdf', 'https://www.who.int/docs/default-source/coronaviruse/situation-reports/20200131-sitrep-11-ncov.pdf', 'https://www.who.int/docs/default-source/coronaviruse/situation-reports/20200130-sitrep-10-ncov.pdf', 'https://www.who.int/docs/default-source/coronaviruse/situation-reports/20200129-sitrep-9-ncov-v2.pdf', 'https://www.who.int/docs/default-source/coronaviruse/situation-reports/20200128-sitrep-8-ncov-cleared.pdf', 'https://www.who.int/docs/default-source/coronaviruse/situation-reports/20200127-sitrep-7-2019--ncov.pdf']\n",
      "0     https://www.who.int/docs/default-source/corona...\n",
      "1     https://www.who.int/docs/default-source/corona...\n",
      "2     https://www.who.int/docs/default-source/corona...\n",
      "3     https://www.who.int/docs/default-source/corona...\n",
      "4     https://www.who.int/docs/default-source/corona...\n",
      "                            ...                        \n",
      "56    https://www.who.int/docs/default-source/corona...\n",
      "57    https://www.who.int/docs/default-source/corona...\n",
      "58    https://www.who.int/docs/default-source/corona...\n",
      "59    https://www.who.int/docs/default-source/corona...\n",
      "60    https://www.who.int/docs/default-source/corona...\n",
      "Name: report_url, Length: 61, dtype: object\n"
     ]
    }
   ],
   "source": [
    "reports_urls = get_reports_urls('https://www.who.int/emergencies/diseases/novel-coronavirus-2019/situation-reports')\n",
    "df = pd.read_csv(csv_file)\n",
    "print(reports_urls)\n",
    "print(df['report_url'])"
   ]
  },
  {
   "cell_type": "code",
   "execution_count": 8,
   "metadata": {},
   "outputs": [
    {
     "name": "stderr",
     "output_type": "stream",
     "text": [
      "xref found: pos=b'1421849'\n",
      "read_xref_from: start=1421849, token=/b'xref'\n",
      "xref objects: {}\n",
      "trailer: {'Size': 3715, 'Root': <PDFObjRef:1>, 'Info': <PDFObjRef:112>, 'ID': [b'\\xa45\\xedv\\xa1\\xf2QH\\xad\\x88\\xe8zE\\x1a7\\x87', b'\\xa45\\xedv\\xa1\\xf2QH\\xad\\x88\\xe8zE\\x1a7\\x87'], 'Prev': 1347385, 'XRefStm': 1340183}\n",
      "read_xref_from: start=1340183, token=3714\n",
      "xref stream: objid=(0, 3714), fields=1,4,2\n",
      "trailer: {'Type': /'XRef', 'Size': 3714, 'W': [1, 4, 2], 'Root': <PDFObjRef:1>, 'Info': <PDFObjRef:112>, 'ID': [b'\\xa45\\xedv\\xa1\\xf2QH\\xad\\x88\\xe8zE\\x1a7\\x87', b'\\xa45\\xedv\\xa1\\xf2QH\\xad\\x88\\xe8zE\\x1a7\\x87'], 'Filter': /'FlateDecode', 'Length': 6995}\n",
      "read_xref_from: start=1347385, token=/b'xref'\n",
      "xref objects: {1: (None, 17, 0), 2: (None, 171, 0), 3: (None, 307, 0), 4: (None, 769, 0), 5: (None, 6511, 0), 6: (None, 6673, 0), 7: (None, 6899, 0), 8: (None, 6952, 0), 9: (None, 7005, 0), 10: (None, 7176, 0), 11: (None, 7418, 0), 12: (None, 7592, 0), 13: (None, 7829, 0), 14: (None, 8000, 0), 15: (None, 8236, 0), 16: (None, 8671, 0), 17: (None, 8963, 0), 18: (None, 9133, 0), 19: (None, 9365, 0), 20: (None, 9497, 0), 21: (None, 9527, 0), 22: (None, 9687, 0), 23: (None, 9761, 0), 24: (None, 10012, 0), 25: (None, 10140, 0), 26: (None, 10170, 0), 27: (None, 10326, 0), 28: (None, 10400, 0), 29: (None, 10634, 0), 30: (None, 10833, 0), 31: (None, 11023, 0), 32: (None, 11309, 0), 33: (None, 11554, 0), 34: (None, 11688, 0), 35: (None, 11718, 0), 36: (None, 11880, 0), 37: (None, 11954, 0), 38: (None, 12196, 0), 39: (None, 12373, 0), 40: (None, 12552, 0), 41: (None, 12803, 0), 42: (None, 12981, 0), 43: (None, 13228, 0), 44: (None, 185581, 0), 45: (None, 199195, 0), 46: (None, 207719, 0), 47: (None, 208080, 0), 48: (None, 215431, 0), 49: (None, 215570, 0), 50: (None, 215600, 0), 51: (None, 215767, 0), 52: (None, 215841, 0), 53: (None, 216088, 0), 54: (None, 216248, 0), 55: (None, 216389, 0), 56: (None, 216419, 0), 57: (None, 216588, 0), 58: (None, 216662, 0), 59: (None, 216913, 0), 60: (None, 217247, 0), 61: (None, 220987, 0), 62: (None, 221164, 0), 63: (None, 221412, 0), 64: (None, 221584, 0), 65: (None, 221827, 0), 66: (None, 222131, 0), 67: (None, 238284, 0), 68: (None, 238568, 0), 69: (None, 254815, 0), 70: (None, 255099, 0), 71: (None, 270943, 0), 72: (None, 271237, 0), 73: (None, 286427, 0), 74: (None, 286768, 0), 75: (None, 296683, 0), 76: (None, 296934, 0), 77: (None, 297284, 0), 78: (None, 299974, 0), 79: (None, 359168, 0), 80: (None, 359597, 0), 81: (None, 366526, 0), 82: (None, 366653, 0), 83: (None, 366683, 0), 84: (None, 366838, 0), 85: (None, 366912, 0), 86: (None, 367158, 0), 87: (None, 367375, 0), 88: (None, 367572, 0), 89: (None, 367801, 0), 90: (None, 368100, 0), 91: (None, 368308, 0), 92: (None, 368515, 0), 93: (None, 368686, 0), 94: (None, 368877, 0), 95: (None, 369067, 0), 96: (None, 369248, 0), 97: (None, 369495, 0), 98: (None, 369733, 0), 99: (None, 370023, 0), 100: (None, 370311, 0), 101: (None, 370684, 0), 102: (None, 375775, 0), 103: (None, 375969, 0), 104: (None, 376186, 0), 105: (None, 376403, 0), 106: (None, 376619, 0), 107: (None, 376871, 0), 108: (None, 377108, 0), 109: (None, 377428, 0), 110: (None, 379518, 0), 111: (None, 379808, 0), 112: (None, 380097, 0), 139: (None, 386383, 0), 288: (None, 386434, 0), 315: (None, 386485, 0), 321: (None, 386536, 0), 340: (None, 386587, 0), 3431: (None, 422878, 0), 3468: (None, 422930, 0), 3490: (None, 422982, 0), 3550: (None, 423034, 0), 3612: (None, 423088, 0), 3617: (None, 423146, 0), 3622: (None, 423204, 0), 3628: (None, 423262, 0), 3633: (None, 423320, 0), 3638: (None, 423378, 0), 3645: (None, 423436, 0), 3662: (None, 428961, 0), 3681: (None, 429016, 0), 3682: (None, 429319, 0), 3683: (None, 496894, 0), 3684: (None, 496968, 0), 3685: (None, 497027, 0), 3686: (None, 497626, 0), 3687: (None, 691290, 0), 3688: (None, 692026, 0), 3689: (None, 692635, 0), 3690: (None, 692664, 0), 3691: (None, 692693, 0), 3692: (None, 692994, 0), 3693: (None, 778866, 0), 3694: (None, 779200, 0), 3695: (None, 779511, 0), 3696: (None, 779814, 0), 3697: (None, 792969, 0), 3698: (None, 793014, 0), 3699: (None, 793508, 0), 3700: (None, 923438, 0), 3701: (None, 923878, 0), 3702: (None, 924135, 0), 3703: (None, 924457, 0), 3704: (None, 1101216, 0), 3705: (None, 1101807, 0), 3706: (None, 1102226, 0), 3707: (None, 1102255, 0), 3708: (None, 1199650, 0), 3709: (None, 1199679, 0), 3710: (None, 1295594, 0), 3711: (None, 1295623, 0), 3712: (None, 1336970, 0), 3713: (None, 1340136, 0), 3714: (None, 1340183, 0)}\n",
      "trailer: {'Size': 3715, 'Root': <PDFObjRef:1>, 'Info': <PDFObjRef:112>, 'ID': [b'\\xa45\\xedv\\xa1\\xf2QH\\xad\\x88\\xe8zE\\x1a7\\x87', b'\\xa45\\xedv\\xa1\\xf2QH\\xad\\x88\\xe8zE\\x1a7\\x87']}\n",
      "trailer: {'Size': 3715, 'Root': <PDFObjRef:1>, 'Info': <PDFObjRef:112>, 'ID': [b'\\xa45\\xedv\\xa1\\xf2QH\\xad\\x88\\xe8zE\\x1a7\\x87', b'\\xa45\\xedv\\xa1\\xf2QH\\xad\\x88\\xe8zE\\x1a7\\x87']}\n",
      "Pages: Kids=[<PDFObjRef:3>, <PDFObjRef:46>, <PDFObjRef:59>, <PDFObjRef:65>, <PDFObjRef:67>, <PDFObjRef:69>, <PDFObjRef:71>, <PDFObjRef:73>, <PDFObjRef:76>, <PDFObjRef:79>, <PDFObjRef:100>, <PDFObjRef:108>]\n",
      "Page: {'Type': /'Page', 'Parent': <PDFObjRef:2>, 'Resources': {'Font': {'F1': <PDFObjRef:5>, 'F2': <PDFObjRef:9>, 'F3': <PDFObjRef:11>, 'F4': <PDFObjRef:13>, 'F5': <PDFObjRef:17>, 'F6': <PDFObjRef:19>, 'F7': <PDFObjRef:24>, 'F8': <PDFObjRef:33>, 'F9': <PDFObjRef:39>, 'F10': <PDFObjRef:41>}, 'ExtGState': {'GS7': <PDFObjRef:7>, 'GS8': <PDFObjRef:8>}, 'XObject': {'Image15': <PDFObjRef:15>, 'Image43': <PDFObjRef:43>, 'Image44': <PDFObjRef:44>}, 'ProcSet': [/'PDF', /'Text', /'ImageB', /'ImageC', /'ImageI']}, 'Annots': [<PDFObjRef:29>, <PDFObjRef:30>, <PDFObjRef:31>, <PDFObjRef:32>, <PDFObjRef:38>], 'MediaBox': [0, 0, 595.56, 842.04], 'Contents': <PDFObjRef:4>, 'Group': {'Type': /'Group', 'S': /'Transparency', 'CS': /'DeviceRGB'}, 'Tabs': /'S', 'StructParents': 0}\n",
      "Processing page: <PDFPage: Resources={'Font': {'F1': <PDFObjRef:5>, 'F2': <PDFObjRef:9>, 'F3': <PDFObjRef:11>, 'F4': <PDFObjRef:13>, 'F5': <PDFObjRef:17>, 'F6': <PDFObjRef:19>, 'F7': <PDFObjRef:24>, 'F8': <PDFObjRef:33>, 'F9': <PDFObjRef:39>, 'F10': <PDFObjRef:41>}, 'ExtGState': {'GS7': <PDFObjRef:7>, 'GS8': <PDFObjRef:8>}, 'XObject': {'Image15': <PDFObjRef:15>, 'Image43': <PDFObjRef:43>, 'Image44': <PDFObjRef:44>}, 'ProcSet': [/'PDF', /'Text', /'ImageB', /'ImageC', /'ImageI']}, MediaBox=[0, 0, 595.56, 842.04]>\n",
      "render_contents: resources={'Font': {'F1': <PDFObjRef:5>, 'F2': <PDFObjRef:9>, 'F3': <PDFObjRef:11>, 'F4': <PDFObjRef:13>, 'F5': <PDFObjRef:17>, 'F6': <PDFObjRef:19>, 'F7': <PDFObjRef:24>, 'F8': <PDFObjRef:33>, 'F9': <PDFObjRef:39>, 'F10': <PDFObjRef:41>}, 'ExtGState': {'GS7': <PDFObjRef:7>, 'GS8': <PDFObjRef:8>}, 'XObject': {'Image15': <PDFObjRef:15>, 'Image43': <PDFObjRef:43>, 'Image44': <PDFObjRef:44>}, 'ProcSet': [/'PDF', /'Text', /'ImageB', /'ImageC', /'ImageI']}, streams=[<PDFStream(4): raw=5669, {'Filter': /'FlateDecode', 'Length': 5667}>], ctm=(1, 0, 0, 1, 0, 0)\n",
      "get_font: create: objid=5, spec={'Type': /'Font', 'Subtype': /'TrueType', 'Name': /'F1', 'BaseFont': /'ArialMT', 'Encoding': /'WinAnsiEncoding', 'FontDescriptor': <PDFObjRef:6>, 'FirstChar': 32, 'LastChar': 45, 'Widths': <PDFObjRef:3684>}\n",
      "get_font: create: objid=9, spec={'Type': /'Font', 'Subtype': /'TrueType', 'Name': /'F2', 'BaseFont': /'BCDEEE+Calibri', 'Encoding': /'WinAnsiEncoding', 'FontDescriptor': <PDFObjRef:10>, 'FirstChar': 32, 'LastChar': 244, 'Widths': <PDFObjRef:3688>}\n",
      "get_font: create: objid=11, spec={'Type': /'Font', 'Subtype': /'TrueType', 'Name': /'F3', 'BaseFont': /'TimesNewRomanPSMT', 'Encoding': /'WinAnsiEncoding', 'FontDescriptor': <PDFObjRef:12>, 'FirstChar': 32, 'LastChar': 32, 'Widths': <PDFObjRef:3689>}\n",
      "get_font: create: objid=13, spec={'Type': /'Font', 'Subtype': /'TrueType', 'Name': /'F4', 'BaseFont': /'Arial-ItalicMT', 'Encoding': /'WinAnsiEncoding', 'FontDescriptor': <PDFObjRef:14>, 'FirstChar': 32, 'LastChar': 32, 'Widths': <PDFObjRef:3690>}\n",
      "get_font: create: objid=17, spec={'Type': /'Font', 'Subtype': /'TrueType', 'Name': /'F5', 'BaseFont': /'Arial-BoldMT', 'Encoding': /'WinAnsiEncoding', 'FontDescriptor': <PDFObjRef:18>, 'FirstChar': 32, 'LastChar': 121, 'Widths': <PDFObjRef:3694>}\n",
      "get_font: create: objid=19, spec={'Type': /'Font', 'Subtype': /'Type0', 'BaseFont': /'Arial-BoldMT', 'Encoding': /'Identity-H', 'DescendantFonts': <PDFObjRef:20>, 'ToUnicode': <PDFObjRef:3691>}\n",
      "get_font: create: objid=None, spec={'BaseFont': /'Arial-BoldMT', 'Subtype': /'CIDFontType2', 'Type': /'Font', 'CIDToGIDMap': /'Identity', 'DW': 1000, 'CIDSystemInfo': <PDFObjRef:22>, 'FontDescriptor': <PDFObjRef:23>, 'W': <PDFObjRef:3693>, 'Encoding': /'Identity-H', 'ToUnicode': <PDFStream(3691): raw=226, {'Filter': /'FlateDecode', 'Length': 224}>}\n",
      "get_font: create: objid=24, spec={'Type': /'Font', 'Subtype': /'Type0', 'BaseFont': /'SymbolMT', 'Encoding': /'Identity-H', 'DescendantFonts': <PDFObjRef:25>, 'ToUnicode': <PDFObjRef:3695>}\n",
      "get_font: create: objid=None, spec={'BaseFont': /'SymbolMT', 'Subtype': /'CIDFontType2', 'Type': /'Font', 'CIDToGIDMap': /'Identity', 'DW': 1000, 'CIDSystemInfo': <PDFObjRef:27>, 'FontDescriptor': <PDFObjRef:28>, 'W': <PDFObjRef:3697>, 'Encoding': /'Identity-H', 'ToUnicode': <PDFStream(3695): raw=228, {'Filter': /'FlateDecode', 'Length': 226}>}\n",
      "get_font: create: objid=33, spec={'Type': /'Font', 'Subtype': /'Type0', 'BaseFont': /'BCDFEE+Calibri', 'Encoding': /'Identity-H', 'DescendantFonts': <PDFObjRef:34>, 'ToUnicode': <PDFObjRef:3685>}\n",
      "get_font: create: objid=None, spec={'BaseFont': /'BCDFEE+Calibri', 'Subtype': /'CIDFontType2', 'Type': /'Font', 'CIDToGIDMap': /'Identity', 'DW': 1000, 'CIDSystemInfo': <PDFObjRef:36>, 'FontDescriptor': <PDFObjRef:37>, 'W': <PDFObjRef:3687>, 'Encoding': /'Identity-H', 'ToUnicode': <PDFStream(3685): raw=524, {'Filter': /'FlateDecode', 'Length': 522}>}\n",
      "get_font: create: objid=39, spec={'Type': /'Font', 'Subtype': /'TrueType', 'Name': /'F9', 'BaseFont': /'BCDGEE+Calibri-Italic', 'Encoding': /'WinAnsiEncoding', 'FontDescriptor': <PDFObjRef:40>, 'FirstChar': 32, 'LastChar': 121, 'Widths': <PDFObjRef:3701>}\n",
      "get_font: create: objid=41, spec={'Type': /'Font', 'Subtype': /'TrueType', 'Name': /'F10', 'BaseFont': /'BCDHEE+Calibri-Bold', 'Encoding': /'WinAnsiEncoding', 'FontDescriptor': <PDFObjRef:42>, 'FirstChar': 32, 'LastChar': 167, 'Widths': <PDFObjRef:3705>}\n",
      "Processing xobj: <PDFStream(15): raw=243, {'Type': /'XObject', 'Subtype': /'Image', 'Width': 1566, 'Height': 48, 'ColorSpace': /'DeviceRGB', 'BitsPerComponent': 8, 'Interpolate': False, 'SMask': <PDFObjRef:16>, 'Filter': /'FlateDecode', 'Length': 241}>\n",
      "Processing xobj: <PDFStream(43): raw=172173, {'Type': /'XObject', 'Subtype': /'Image', 'Width': 1410, 'Height': 793, 'ColorSpace': /'DeviceRGB', 'BitsPerComponent': 8, 'Filter': /'DCTDecode', 'Interpolate': True, 'Length': 172171}>\n",
      "Processing xobj: <PDFStream(44): raw=13421, {'Type': /'XObject', 'Subtype': /'Image', 'Width': 276, 'Height': 84, 'ColorSpace': /'DeviceRGB', 'BitsPerComponent': 8, 'Interpolate': False, 'SMask': <PDFObjRef:45>, 'Filter': /'FlateDecode', 'Length': 13419}>\n",
      "Page: {'Type': /'Page', 'Parent': <PDFObjRef:2>, 'Resources': {'Font': {'F10': <PDFObjRef:41>, 'F11': <PDFObjRef:48>, 'F2': <PDFObjRef:9>, 'F8': <PDFObjRef:33>, 'F7': <PDFObjRef:24>, 'F1': <PDFObjRef:5>, 'F12': <PDFObjRef:54>, 'F9': <PDFObjRef:39>}, 'ExtGState': {'GS7': <PDFObjRef:7>, 'GS8': <PDFObjRef:8>}, 'ProcSet': [/'PDF', /'Text', /'ImageB', /'ImageC', /'ImageI']}, 'Annots': [<PDFObjRef:53>], 'MediaBox': [0, 0, 595.56, 842.04], 'Contents': <PDFObjRef:47>, 'Group': {'Type': /'Group', 'S': /'Transparency', 'CS': /'DeviceRGB'}, 'Tabs': /'S', 'StructParents': 6}\n",
      "Processing page: <PDFPage: Resources={'Font': {'F10': <PDFObjRef:41>, 'F11': <PDFObjRef:48>, 'F2': <PDFObjRef:9>, 'F8': <PDFObjRef:33>, 'F7': <PDFObjRef:24>, 'F1': <PDFObjRef:5>, 'F12': <PDFObjRef:54>, 'F9': <PDFObjRef:39>}, 'ExtGState': {'GS7': <PDFObjRef:7>, 'GS8': <PDFObjRef:8>}, 'ProcSet': [/'PDF', /'Text', /'ImageB', /'ImageC', /'ImageI']}, MediaBox=[0, 0, 595.56, 842.04]>\n",
      "render_contents: resources={'Font': {'F10': <PDFObjRef:41>, 'F11': <PDFObjRef:48>, 'F2': <PDFObjRef:9>, 'F8': <PDFObjRef:33>, 'F7': <PDFObjRef:24>, 'F1': <PDFObjRef:5>, 'F12': <PDFObjRef:54>, 'F9': <PDFObjRef:39>}, 'ExtGState': {'GS7': <PDFObjRef:7>, 'GS8': <PDFObjRef:8>}, 'ProcSet': [/'PDF', /'Text', /'ImageB', /'ImageC', /'ImageI']}, streams=[<PDFStream(47): raw=7277, {'Filter': /'FlateDecode', 'Length': 7275}>], ctm=(1, 0, 0, 1, 0, 0)\n",
      "get_font: create: objid=48, spec={'Type': /'Font', 'Subtype': /'Type0', 'BaseFont': /'BCDIEE+Calibri-Bold', 'Encoding': /'Identity-H', 'DescendantFonts': <PDFObjRef:49>, 'ToUnicode': <PDFObjRef:3702>}\n",
      "get_font: create: objid=None, spec={'BaseFont': /'BCDIEE+Calibri-Bold', 'Subtype': /'CIDFontType2', 'Type': /'Font', 'CIDToGIDMap': /'Identity', 'DW': 1000, 'CIDSystemInfo': <PDFObjRef:51>, 'FontDescriptor': <PDFObjRef:52>, 'W': <PDFObjRef:3704>, 'Encoding': /'Identity-H', 'ToUnicode': <PDFStream(3702): raw=247, {'Filter': /'FlateDecode', 'Length': 245}>}\n",
      "get_font: create: objid=54, spec={'Type': /'Font', 'Subtype': /'Type0', 'BaseFont': /'BCDJEE+Calibri-Italic', 'Encoding': /'Identity-H', 'DescendantFonts': <PDFObjRef:55>, 'ToUnicode': <PDFObjRef:3698>}\n",
      "get_font: create: objid=None, spec={'BaseFont': /'BCDJEE+Calibri-Italic', 'Subtype': /'CIDFontType2', 'Type': /'Font', 'CIDToGIDMap': /'Identity', 'DW': 1000, 'CIDSystemInfo': <PDFObjRef:57>, 'FontDescriptor': <PDFObjRef:58>, 'W': <PDFObjRef:3700>, 'Encoding': /'Identity-H', 'ToUnicode': <PDFStream(3698): raw=419, {'Filter': /'FlateDecode', 'Length': 417}>}\n",
      "Page: {'Type': /'Page', 'Parent': <PDFObjRef:2>, 'Resources': {'Font': {'F7': <PDFObjRef:24>, 'F1': <PDFObjRef:5>, 'F2': <PDFObjRef:9>, 'F8': <PDFObjRef:33>, 'F10': <PDFObjRef:41>, 'F13': <PDFObjRef:61>, 'F14': <PDFObjRef:63>}, 'ExtGState': {'GS7': <PDFObjRef:7>, 'GS8': <PDFObjRef:8>}, 'ProcSet': [/'PDF', /'Text', /'ImageB', /'ImageC', /'ImageI']}, 'MediaBox': [0, 0, 595.56, 842.04], 'Contents': <PDFObjRef:60>, 'Group': {'Type': /'Group', 'S': /'Transparency', 'CS': /'DeviceRGB'}, 'Tabs': /'S', 'StructParents': 8}\n",
      "Processing page: <PDFPage: Resources={'Font': {'F7': <PDFObjRef:24>, 'F1': <PDFObjRef:5>, 'F2': <PDFObjRef:9>, 'F8': <PDFObjRef:33>, 'F10': <PDFObjRef:41>, 'F13': <PDFObjRef:61>, 'F14': <PDFObjRef:63>}, 'ExtGState': {'GS7': <PDFObjRef:7>, 'GS8': <PDFObjRef:8>}, 'ProcSet': [/'PDF', /'Text', /'ImageB', /'ImageC', /'ImageI']}, MediaBox=[0, 0, 595.56, 842.04]>\n",
      "render_contents: resources={'Font': {'F7': <PDFObjRef:24>, 'F1': <PDFObjRef:5>, 'F2': <PDFObjRef:9>, 'F8': <PDFObjRef:33>, 'F10': <PDFObjRef:41>, 'F13': <PDFObjRef:61>, 'F14': <PDFObjRef:63>}, 'ExtGState': {'GS7': <PDFObjRef:7>, 'GS8': <PDFObjRef:8>}, 'ProcSet': [/'PDF', /'Text', /'ImageB', /'ImageC', /'ImageI']}, streams=[<PDFStream(60): raw=3666, {'Filter': /'FlateDecode', 'Length': 3664}>], ctm=(1, 0, 0, 1, 0, 0)\n",
      "get_font: create: objid=61, spec={'Type': /'Font', 'Subtype': /'TrueType', 'Name': /'F13', 'BaseFont': /'BCDKEE+Cambria-Bold', 'Encoding': /'WinAnsiEncoding', 'FontDescriptor': <PDFObjRef:62>, 'FirstChar': 32, 'LastChar': 32, 'Widths': <PDFObjRef:3706>}\n",
      "get_font: create: objid=63, spec={'Type': /'Font', 'Subtype': /'TrueType', 'Name': /'F14', 'BaseFont': /'BCDLEE+Cambria', 'Encoding': /'WinAnsiEncoding', 'FontDescriptor': <PDFObjRef:64>, 'FirstChar': 32, 'LastChar': 32, 'Widths': <PDFObjRef:3708>}\n",
      "Page: {'Type': /'Page', 'Parent': <PDFObjRef:2>, 'Resources': {'Font': {'F5': <PDFObjRef:17>, 'F10': <PDFObjRef:41>, 'F11': <PDFObjRef:48>, 'F2': <PDFObjRef:9>}, 'ExtGState': {'GS7': <PDFObjRef:7>, 'GS8': <PDFObjRef:8>}, 'ProcSet': [/'PDF', /'Text', /'ImageB', /'ImageC', /'ImageI']}, 'MediaBox': [0, 0, 595.56, 842.04], 'Contents': <PDFObjRef:66>, 'Group': {'Type': /'Group', 'S': /'Transparency', 'CS': /'DeviceRGB'}, 'Tabs': /'S', 'StructParents': 9}\n",
      "Processing page: <PDFPage: Resources={'Font': {'F5': <PDFObjRef:17>, 'F10': <PDFObjRef:41>, 'F11': <PDFObjRef:48>, 'F2': <PDFObjRef:9>}, 'ExtGState': {'GS7': <PDFObjRef:7>, 'GS8': <PDFObjRef:8>}, 'ProcSet': [/'PDF', /'Text', /'ImageB', /'ImageC', /'ImageI']}, MediaBox=[0, 0, 595.56, 842.04]>\n",
      "render_contents: resources={'Font': {'F5': <PDFObjRef:17>, 'F10': <PDFObjRef:41>, 'F11': <PDFObjRef:48>, 'F2': <PDFObjRef:9>}, 'ExtGState': {'GS7': <PDFObjRef:7>, 'GS8': <PDFObjRef:8>}, 'ProcSet': [/'PDF', /'Text', /'ImageB', /'ImageC', /'ImageI']}, streams=[<PDFStream(66): raw=16078, {'Filter': /'FlateDecode', 'Length': 16076}>], ctm=(1, 0, 0, 1, 0, 0)\n",
      "Page: {'Type': /'Page', 'Parent': <PDFObjRef:2>, 'Resources': {'Font': {'F2': <PDFObjRef:9>, 'F10': <PDFObjRef:41>}, 'ExtGState': {'GS7': <PDFObjRef:7>, 'GS8': <PDFObjRef:8>}, 'ProcSet': [/'PDF', /'Text', /'ImageB', /'ImageC', /'ImageI']}, 'MediaBox': [0, 0, 595.56, 842.04], 'Contents': <PDFObjRef:68>, 'Group': {'Type': /'Group', 'S': /'Transparency', 'CS': /'DeviceRGB'}, 'Tabs': /'S', 'StructParents': 10}\n",
      "Processing page: <PDFPage: Resources={'Font': {'F2': <PDFObjRef:9>, 'F10': <PDFObjRef:41>}, 'ExtGState': {'GS7': <PDFObjRef:7>, 'GS8': <PDFObjRef:8>}, 'ProcSet': [/'PDF', /'Text', /'ImageB', /'ImageC', /'ImageI']}, MediaBox=[0, 0, 595.56, 842.04]>\n",
      "render_contents: resources={'Font': {'F2': <PDFObjRef:9>, 'F10': <PDFObjRef:41>}, 'ExtGState': {'GS7': <PDFObjRef:7>, 'GS8': <PDFObjRef:8>}, 'ProcSet': [/'PDF', /'Text', /'ImageB', /'ImageC', /'ImageI']}, streams=[<PDFStream(68): raw=16172, {'Filter': /'FlateDecode', 'Length': 16170}>], ctm=(1, 0, 0, 1, 0, 0)\n",
      "Page: {'Type': /'Page', 'Parent': <PDFObjRef:2>, 'Resources': {'Font': {'F2': <PDFObjRef:9>, 'F10': <PDFObjRef:41>}, 'ExtGState': {'GS7': <PDFObjRef:7>, 'GS8': <PDFObjRef:8>}, 'ProcSet': [/'PDF', /'Text', /'ImageB', /'ImageC', /'ImageI']}, 'MediaBox': [0, 0, 595.56, 842.04], 'Contents': <PDFObjRef:70>, 'Group': {'Type': /'Group', 'S': /'Transparency', 'CS': /'DeviceRGB'}, 'Tabs': /'S', 'StructParents': 11}\n",
      "Processing page: <PDFPage: Resources={'Font': {'F2': <PDFObjRef:9>, 'F10': <PDFObjRef:41>}, 'ExtGState': {'GS7': <PDFObjRef:7>, 'GS8': <PDFObjRef:8>}, 'ProcSet': [/'PDF', /'Text', /'ImageB', /'ImageC', /'ImageI']}, MediaBox=[0, 0, 595.56, 842.04]>\n",
      "render_contents: resources={'Font': {'F2': <PDFObjRef:9>, 'F10': <PDFObjRef:41>}, 'ExtGState': {'GS7': <PDFObjRef:7>, 'GS8': <PDFObjRef:8>}, 'ProcSet': [/'PDF', /'Text', /'ImageB', /'ImageC', /'ImageI']}, streams=[<PDFStream(70): raw=15769, {'Filter': /'FlateDecode', 'Length': 15767}>], ctm=(1, 0, 0, 1, 0, 0)\n",
      "Page: {'Type': /'Page', 'Parent': <PDFObjRef:2>, 'Resources': {'Font': {'F2': <PDFObjRef:9>, 'F10': <PDFObjRef:41>, 'F8': <PDFObjRef:33>}, 'ExtGState': {'GS7': <PDFObjRef:7>, 'GS8': <PDFObjRef:8>}, 'ProcSet': [/'PDF', /'Text', /'ImageB', /'ImageC', /'ImageI']}, 'MediaBox': [0, 0, 595.56, 842.04], 'Contents': <PDFObjRef:72>, 'Group': {'Type': /'Group', 'S': /'Transparency', 'CS': /'DeviceRGB'}, 'Tabs': /'S', 'StructParents': 12}\n",
      "Processing page: <PDFPage: Resources={'Font': {'F2': <PDFObjRef:9>, 'F10': <PDFObjRef:41>, 'F8': <PDFObjRef:33>}, 'ExtGState': {'GS7': <PDFObjRef:7>, 'GS8': <PDFObjRef:8>}, 'ProcSet': [/'PDF', /'Text', /'ImageB', /'ImageC', /'ImageI']}, MediaBox=[0, 0, 595.56, 842.04]>\n",
      "render_contents: resources={'Font': {'F2': <PDFObjRef:9>, 'F10': <PDFObjRef:41>, 'F8': <PDFObjRef:33>}, 'ExtGState': {'GS7': <PDFObjRef:7>, 'GS8': <PDFObjRef:8>}, 'ProcSet': [/'PDF', /'Text', /'ImageB', /'ImageC', /'ImageI']}, streams=[<PDFStream(72): raw=15115, {'Filter': /'FlateDecode', 'Length': 15113}>], ctm=(1, 0, 0, 1, 0, 0)\n",
      "Page: {'Type': /'Page', 'Parent': <PDFObjRef:2>, 'Resources': {'Font': {'F2': <PDFObjRef:9>, 'F10': <PDFObjRef:41>, 'F1': <PDFObjRef:5>, 'F11': <PDFObjRef:48>, 'F5': <PDFObjRef:17>, 'F8': <PDFObjRef:33>}, 'ExtGState': {'GS7': <PDFObjRef:7>, 'GS8': <PDFObjRef:8>}, 'ProcSet': [/'PDF', /'Text', /'ImageB', /'ImageC', /'ImageI']}, 'Annots': [<PDFObjRef:75>], 'MediaBox': [0, 0, 595.56, 842.04], 'Contents': <PDFObjRef:74>, 'Group': {'Type': /'Group', 'S': /'Transparency', 'CS': /'DeviceRGB'}, 'Tabs': /'S', 'StructParents': 13}\n",
      "Processing page: <PDFPage: Resources={'Font': {'F2': <PDFObjRef:9>, 'F10': <PDFObjRef:41>, 'F1': <PDFObjRef:5>, 'F11': <PDFObjRef:48>, 'F5': <PDFObjRef:17>, 'F8': <PDFObjRef:33>}, 'ExtGState': {'GS7': <PDFObjRef:7>, 'GS8': <PDFObjRef:8>}, 'ProcSet': [/'PDF', /'Text', /'ImageB', /'ImageC', /'ImageI']}, MediaBox=[0, 0, 595.56, 842.04]>\n",
      "render_contents: resources={'Font': {'F2': <PDFObjRef:9>, 'F10': <PDFObjRef:41>, 'F1': <PDFObjRef:5>, 'F11': <PDFObjRef:48>, 'F5': <PDFObjRef:17>, 'F8': <PDFObjRef:33>}, 'ExtGState': {'GS7': <PDFObjRef:7>, 'GS8': <PDFObjRef:8>}, 'ProcSet': [/'PDF', /'Text', /'ImageB', /'ImageC', /'ImageI']}, streams=[<PDFStream(74): raw=9841, {'Filter': /'FlateDecode', 'Length': 9839}>], ctm=(1, 0, 0, 1, 0, 0)\n",
      "Page: {'Type': /'Page', 'Parent': <PDFObjRef:2>, 'Resources': {'Font': {'F10': <PDFObjRef:41>, 'F2': <PDFObjRef:9>, 'F1': <PDFObjRef:5>, 'F5': <PDFObjRef:17>, 'F8': <PDFObjRef:33>, 'F7': <PDFObjRef:24>}, 'ExtGState': {'GS7': <PDFObjRef:7>, 'GS8': <PDFObjRef:8>}, 'XObject': {'Image78': <PDFObjRef:78>}, 'ProcSet': [/'PDF', /'Text', /'ImageB', /'ImageC', /'ImageI']}, 'MediaBox': [0, 0, 595.56, 842.04], 'Contents': <PDFObjRef:77>, 'Group': {'Type': /'Group', 'S': /'Transparency', 'CS': /'DeviceRGB'}, 'Tabs': /'S', 'StructParents': 15}\n",
      "Processing page: <PDFPage: Resources={'Font': {'F10': <PDFObjRef:41>, 'F2': <PDFObjRef:9>, 'F1': <PDFObjRef:5>, 'F5': <PDFObjRef:17>, 'F8': <PDFObjRef:33>, 'F7': <PDFObjRef:24>}, 'ExtGState': {'GS7': <PDFObjRef:7>, 'GS8': <PDFObjRef:8>}, 'XObject': {'Image78': <PDFObjRef:78>}, 'ProcSet': [/'PDF', /'Text', /'ImageB', /'ImageC', /'ImageI']}, MediaBox=[0, 0, 595.56, 842.04]>\n",
      "render_contents: resources={'Font': {'F10': <PDFObjRef:41>, 'F2': <PDFObjRef:9>, 'F1': <PDFObjRef:5>, 'F5': <PDFObjRef:17>, 'F8': <PDFObjRef:33>, 'F7': <PDFObjRef:24>}, 'ExtGState': {'GS7': <PDFObjRef:7>, 'GS8': <PDFObjRef:8>}, 'XObject': {'Image78': <PDFObjRef:78>}, 'ProcSet': [/'PDF', /'Text', /'ImageB', /'ImageC', /'ImageI']}, streams=[<PDFStream(77): raw=2616, {'Filter': /'FlateDecode', 'Length': 2614}>], ctm=(1, 0, 0, 1, 0, 0)\n",
      "Processing xobj: <PDFStream(78): raw=59012, {'Type': /'XObject', 'Subtype': /'Image', 'Width': 1453, 'Height': 885, 'ColorSpace': /'DeviceRGB', 'BitsPerComponent': 8, 'Interpolate': False, 'Filter': /'FlateDecode', 'Length': 59010}>\n",
      "Page: {'Type': /'Page', 'Parent': <PDFObjRef:2>, 'Resources': {'Font': {'F5': <PDFObjRef:17>, 'F15': <PDFObjRef:81>, 'F1': <PDFObjRef:5>, 'F2': <PDFObjRef:9>, 'F16': <PDFObjRef:95>, 'F8': <PDFObjRef:33>, 'F10': <PDFObjRef:41>}, 'ExtGState': {'GS7': <PDFObjRef:7>, 'GS8': <PDFObjRef:8>}, 'ProcSet': [/'PDF', /'Text', /'ImageB', /'ImageC', /'ImageI']}, 'Annots': [<PDFObjRef:86>, <PDFObjRef:87>, <PDFObjRef:88>, <PDFObjRef:89>, <PDFObjRef:90>, <PDFObjRef:91>, <PDFObjRef:92>, <PDFObjRef:93>, <PDFObjRef:94>, <PDFObjRef:97>, <PDFObjRef:98>, <PDFObjRef:99>], 'MediaBox': [0, 0, 595.56, 842.04], 'Contents': <PDFObjRef:80>, 'Group': {'Type': /'Group', 'S': /'Transparency', 'CS': /'DeviceRGB'}, 'Tabs': /'S', 'StructParents': 16}\n",
      "Processing page: <PDFPage: Resources={'Font': {'F5': <PDFObjRef:17>, 'F15': <PDFObjRef:81>, 'F1': <PDFObjRef:5>, 'F2': <PDFObjRef:9>, 'F16': <PDFObjRef:95>, 'F8': <PDFObjRef:33>, 'F10': <PDFObjRef:41>}, 'ExtGState': {'GS7': <PDFObjRef:7>, 'GS8': <PDFObjRef:8>}, 'ProcSet': [/'PDF', /'Text', /'ImageB', /'ImageC', /'ImageI']}, MediaBox=[0, 0, 595.56, 842.04]>\n",
      "render_contents: resources={'Font': {'F5': <PDFObjRef:17>, 'F15': <PDFObjRef:81>, 'F1': <PDFObjRef:5>, 'F2': <PDFObjRef:9>, 'F16': <PDFObjRef:95>, 'F8': <PDFObjRef:33>, 'F10': <PDFObjRef:41>}, 'ExtGState': {'GS7': <PDFObjRef:7>, 'GS8': <PDFObjRef:8>}, 'ProcSet': [/'PDF', /'Text', /'ImageB', /'ImageC', /'ImageI']}, streams=[<PDFStream(80): raw=6855, {'Filter': /'FlateDecode', 'Length': 6853}>], ctm=(1, 0, 0, 1, 0, 0)\n",
      "get_font: create: objid=81, spec={'Type': /'Font', 'Subtype': /'Type0', 'BaseFont': /'ArialMT', 'Encoding': /'Identity-H', 'DescendantFonts': <PDFObjRef:82>, 'ToUnicode': <PDFObjRef:3681>}\n",
      "get_font: create: objid=None, spec={'BaseFont': /'ArialMT', 'Subtype': /'CIDFontType2', 'Type': /'Font', 'CIDToGIDMap': /'Identity', 'DW': 1000, 'CIDSystemInfo': <PDFObjRef:84>, 'FontDescriptor': <PDFObjRef:85>, 'W': <PDFObjRef:3683>, 'Encoding': /'Identity-H', 'ToUnicode': <PDFStream(3681): raw=228, {'Filter': /'FlateDecode', 'Length': 226}>}\n",
      "get_font: create: objid=95, spec={'Type': /'Font', 'Subtype': /'TrueType', 'Name': /'F16', 'BaseFont': /'BCDMEE+CourierNewPSMT', 'Encoding': /'WinAnsiEncoding', 'FontDescriptor': <PDFObjRef:96>, 'FirstChar': 111, 'LastChar': 111, 'Widths': <PDFObjRef:3710>}\n",
      "Page: {'Type': /'Page', 'Parent': <PDFObjRef:2>, 'Resources': {'Font': {'F5': <PDFObjRef:17>, 'F2': <PDFObjRef:9>, 'F10': <PDFObjRef:41>, 'F1': <PDFObjRef:5>, 'F7': <PDFObjRef:24>}, 'ExtGState': {'GS7': <PDFObjRef:7>, 'GS8': <PDFObjRef:8>}, 'ProcSet': [/'PDF', /'Text', /'ImageB', /'ImageC', /'ImageI']}, 'Annots': [<PDFObjRef:102>, <PDFObjRef:103>, <PDFObjRef:104>, <PDFObjRef:105>, <PDFObjRef:106>, <PDFObjRef:107>], 'MediaBox': [0, 0, 595.56, 842.04], 'Contents': <PDFObjRef:101>, 'Group': {'Type': /'Group', 'S': /'Transparency', 'CS': /'DeviceRGB'}, 'Tabs': /'S', 'StructParents': 29}\n",
      "Processing page: <PDFPage: Resources={'Font': {'F5': <PDFObjRef:17>, 'F2': <PDFObjRef:9>, 'F10': <PDFObjRef:41>, 'F1': <PDFObjRef:5>, 'F7': <PDFObjRef:24>}, 'ExtGState': {'GS7': <PDFObjRef:7>, 'GS8': <PDFObjRef:8>}, 'ProcSet': [/'PDF', /'Text', /'ImageB', /'ImageC', /'ImageI']}, MediaBox=[0, 0, 595.56, 842.04]>\n",
      "render_contents: resources={'Font': {'F5': <PDFObjRef:17>, 'F2': <PDFObjRef:9>, 'F10': <PDFObjRef:41>, 'F1': <PDFObjRef:5>, 'F7': <PDFObjRef:24>}, 'ExtGState': {'GS7': <PDFObjRef:7>, 'GS8': <PDFObjRef:8>}, 'ProcSet': [/'PDF', /'Text', /'ImageB', /'ImageC', /'ImageI']}, streams=[<PDFStream(101): raw=5016, {'Filter': /'FlateDecode', 'Length': 5014}>], ctm=(1, 0, 0, 1, 0, 0)\n",
      "Page: {'Type': /'Page', 'Parent': <PDFObjRef:2>, 'Resources': {'Font': {'F2': <PDFObjRef:9>, 'F1': <PDFObjRef:5>, 'F9': <PDFObjRef:39>}, 'ExtGState': {'GS7': <PDFObjRef:7>, 'GS8': <PDFObjRef:8>}, 'ProcSet': [/'PDF', /'Text', /'ImageB', /'ImageC', /'ImageI']}, 'Annots': [<PDFObjRef:110>, <PDFObjRef:111>], 'MediaBox': [0, 0, 595.56, 842.04], 'Contents': <PDFObjRef:109>, 'Group': {'Type': /'Group', 'S': /'Transparency', 'CS': /'DeviceRGB'}, 'Tabs': /'S', 'StructParents': 36}\n",
      "Processing page: <PDFPage: Resources={'Font': {'F2': <PDFObjRef:9>, 'F1': <PDFObjRef:5>, 'F9': <PDFObjRef:39>}, 'ExtGState': {'GS7': <PDFObjRef:7>, 'GS8': <PDFObjRef:8>}, 'ProcSet': [/'PDF', /'Text', /'ImageB', /'ImageC', /'ImageI']}, MediaBox=[0, 0, 595.56, 842.04]>\n",
      "render_contents: resources={'Font': {'F2': <PDFObjRef:9>, 'F1': <PDFObjRef:5>, 'F9': <PDFObjRef:39>}, 'ExtGState': {'GS7': <PDFObjRef:7>, 'GS8': <PDFObjRef:8>}, 'ProcSet': [/'PDF', /'Text', /'ImageB', /'ImageC', /'ImageI']}, streams=[<PDFStream(109): raw=2015, {'Filter': /'FlateDecode', 'Length': 2013}>], ctm=(1, 0, 0, 1, 0, 0)\n"
     ]
    },
    {
     "name": "stdout",
     "output_type": "stream",
     "text": [
      "<re.Match object; span=(80, 147), match='Data as reported by national authorities by 10:00>\n",
      "25 March 2020 25 March 2020\n",
      "2020-03-25\n",
      "already processed  https://www.who.int/docs/default-source/coronaviruse/situation-reports/20200324-sitrep-64-covid-19.pdf  in previous runs\n",
      "already processed  https://www.who.int/docs/default-source/coronaviruse/situation-reports/20200323-sitrep-63-covid-19.pdf  in previous runs\n",
      "already processed  https://www.who.int/docs/default-source/coronaviruse/situation-reports/20200322-sitrep-62-covid-19.pdf  in previous runs\n",
      "already processed  https://www.who.int/docs/default-source/coronaviruse/situation-reports/20200321-sitrep-61-covid-19.pdf  in previous runs\n",
      "already processed  https://www.who.int/docs/default-source/coronaviruse/situation-reports/20200320-sitrep-60-covid-19.pdf  in previous runs\n",
      "already processed  https://www.who.int/docs/default-source/coronaviruse/situation-reports/20200319-sitrep-59-covid-19.pdf  in previous runs\n",
      "already processed  https://www.who.int/docs/default-source/coronaviruse/situation-reports/20200318-sitrep-58-covid-19.pdf  in previous runs\n",
      "already processed  https://www.who.int/docs/default-source/coronaviruse/situation-reports/20200317-sitrep-57-covid-19.pdf  in previous runs\n",
      "already processed  https://www.who.int/docs/default-source/coronaviruse/situation-reports/20200316-sitrep-56-covid-19.pdf  in previous runs\n",
      "already processed  https://www.who.int/docs/default-source/coronaviruse/situation-reports/20200315-sitrep-55-covid-19.pdf  in previous runs\n",
      "already processed  https://www.who.int/docs/default-source/coronaviruse/situation-reports/20200314-sitrep-54-covid-19.pdf  in previous runs\n",
      "already processed  https://www.who.int/docs/default-source/coronaviruse/situation-reports/20200313-sitrep-53-covid-19.pdf  in previous runs\n",
      "already processed  https://www.who.int/docs/default-source/coronaviruse/situation-reports/20200312-sitrep-52-covid-19.pdf  in previous runs\n",
      "already processed  https://www.who.int/docs/default-source/coronaviruse/situation-reports/20200311-sitrep-51-covid-19.pdf  in previous runs\n",
      "already processed  https://www.who.int/docs/default-source/coronaviruse/situation-reports/20200310-sitrep-50-covid-19.pdf  in previous runs\n",
      "already processed  https://www.who.int/docs/default-source/coronaviruse/situation-reports/20200309-sitrep-49-covid-19.pdf  in previous runs\n",
      "already processed  https://www.who.int/docs/default-source/coronaviruse/situation-reports/20200308-sitrep-48-covid-19.pdf  in previous runs\n",
      "already processed  https://www.who.int/docs/default-source/coronaviruse/situation-reports/20200307-sitrep-47-covid-19.pdf  in previous runs\n",
      "already processed  https://www.who.int/docs/default-source/coronaviruse/situation-reports/20200306-sitrep-46-covid-19.pdf  in previous runs\n",
      "already processed  https://www.who.int/docs/default-source/coronaviruse/situation-reports/20200305-sitrep-45-covid-19.pdf  in previous runs\n",
      "already processed  https://www.who.int/docs/default-source/coronaviruse/situation-reports/20200304-sitrep-44-covid-19.pdf  in previous runs\n",
      "already processed  https://www.who.int/docs/default-source/coronaviruse/situation-reports/20200303-sitrep-43-covid-19.pdf  in previous runs\n",
      "already processed  https://www.who.int/docs/default-source/coronaviruse/situation-reports/20200302-sitrep-42-covid-19.pdf  in previous runs\n",
      "already processed  https://www.who.int/docs/default-source/coronaviruse/situation-reports/20200301-sitrep-41-covid-19.pdf  in previous runs\n",
      "already processed  https://www.who.int/docs/default-source/coronaviruse/situation-reports/20200229-sitrep-40-covid-19.pdf  in previous runs\n",
      "already processed  https://www.who.int/docs/default-source/coronaviruse/situation-reports/20200228-sitrep-39-covid-19.pdf  in previous runs\n",
      "already processed  https://www.who.int/docs/default-source/coronaviruse/situation-reports/20200227-sitrep-38-covid-19.pdf  in previous runs\n",
      "already processed  https://www.who.int/docs/default-source/coronaviruse/situation-reports/20200226-sitrep-37-covid-19.pdf  in previous runs\n",
      "already processed  https://www.who.int/docs/default-source/coronaviruse/situation-reports/20200225-sitrep-36-covid-19.pdf  in previous runs\n",
      "already processed  https://www.who.int/docs/default-source/coronaviruse/situation-reports/20200224-sitrep-35-covid-19.pdf  in previous runs\n",
      "already processed  https://www.who.int/docs/default-source/coronaviruse/situation-reports/20200223-sitrep-34-covid-19.pdf  in previous runs\n",
      "already processed  https://www.who.int/docs/default-source/coronaviruse/situation-reports/20200222-sitrep-33-covid-19.pdf  in previous runs\n",
      "already processed  https://www.who.int/docs/default-source/coronaviruse/situation-reports/20200221-sitrep-32-covid-19.pdf  in previous runs\n",
      "already processed  https://www.who.int/docs/default-source/coronaviruse/situation-reports/20200220-sitrep-31-covid-19.pdf  in previous runs\n",
      "already processed  https://www.who.int/docs/default-source/coronaviruse/situation-reports/20200219-sitrep-30-covid-19.pdf  in previous runs\n",
      "already processed  https://www.who.int/docs/default-source/coronaviruse/situation-reports/20200218-sitrep-29-covid-19.pdf  in previous runs\n",
      "already processed  https://www.who.int/docs/default-source/coronaviruse/situation-reports/20200217-sitrep-28-covid-19.pdf  in previous runs\n",
      "already processed  https://www.who.int/docs/default-source/coronaviruse/situation-reports/20200216-sitrep-27-covid-19.pdf  in previous runs\n",
      "already processed  https://www.who.int/docs/default-source/coronaviruse/situation-reports/20200215-sitrep-26-covid-19.pdf  in previous runs\n",
      "already processed  https://www.who.int/docs/default-source/coronaviruse/situation-reports/20200214-sitrep-25-covid-19.pdf  in previous runs\n",
      "already processed  https://www.who.int/docs/default-source/coronaviruse/situation-reports/20200213-sitrep-24-covid-19.pdf  in previous runs\n",
      "already processed  https://www.who.int/docs/default-source/coronaviruse/situation-reports/20200212-sitrep-23-ncov.pdf  in previous runs\n",
      "already processed  https://www.who.int/docs/default-source/coronaviruse/situation-reports/20200211-sitrep-22-ncov.pdf  in previous runs\n",
      "already processed  https://www.who.int/docs/default-source/coronaviruse/situation-reports/20200210-sitrep-21-ncov.pdf  in previous runs\n",
      "already processed  https://www.who.int/docs/default-source/coronaviruse/situation-reports/20200209-sitrep-20-ncov.pdf  in previous runs\n",
      "already processed  https://www.who.int/docs/default-source/coronaviruse/situation-reports/20200208-sitrep-19-ncov.pdf  in previous runs\n",
      "already processed  https://www.who.int/docs/default-source/coronaviruse/situation-reports/20200207-sitrep-18-ncov.pdf  in previous runs\n",
      "already processed  https://www.who.int/docs/default-source/coronaviruse/situation-reports/20200206-sitrep-17-ncov.pdf  in previous runs\n",
      "already processed  https://www.who.int/docs/default-source/coronaviruse/situation-reports/20200205-sitrep-16-ncov.pdf  in previous runs\n",
      "already processed  https://www.who.int/docs/default-source/coronaviruse/situation-reports/20200204-sitrep-15-ncov.pdf  in previous runs\n",
      "already processed  https://www.who.int/docs/default-source/coronaviruse/situation-reports/20200203-sitrep-14-ncov.pdf  in previous runs\n",
      "already processed  https://www.who.int/docs/default-source/coronaviruse/situation-reports/20200202-sitrep-13-ncov-v3.pdf  in previous runs\n",
      "already processed  https://www.who.int/docs/default-source/coronaviruse/situation-reports/20200201-sitrep-12-ncov.pdf  in previous runs\n",
      "already processed  https://www.who.int/docs/default-source/coronaviruse/situation-reports/20200131-sitrep-11-ncov.pdf  in previous runs\n",
      "already processed  https://www.who.int/docs/default-source/coronaviruse/situation-reports/20200130-sitrep-10-ncov.pdf  in previous runs\n",
      "already processed  https://www.who.int/docs/default-source/coronaviruse/situation-reports/20200129-sitrep-9-ncov-v2.pdf  in previous runs\n",
      "already processed  https://www.who.int/docs/default-source/coronaviruse/situation-reports/20200128-sitrep-8-ncov-cleared.pdf  in previous runs\n",
      "already processed  https://www.who.int/docs/default-source/coronaviruse/situation-reports/20200127-sitrep-7-2019--ncov.pdf  in previous runs\n"
     ]
    }
   ],
   "source": [
    "df = get_WHO_stats()"
   ]
  },
  {
   "cell_type": "code",
   "execution_count": 9,
   "metadata": {},
   "outputs": [
    {
     "data": {
      "text/html": [
       "<div>\n",
       "<style scoped>\n",
       "    .dataframe tbody tr th:only-of-type {\n",
       "        vertical-align: middle;\n",
       "    }\n",
       "\n",
       "    .dataframe tbody tr th {\n",
       "        vertical-align: top;\n",
       "    }\n",
       "\n",
       "    .dataframe thead th {\n",
       "        text-align: right;\n",
       "    }\n",
       "</style>\n",
       "<table border=\"1\" class=\"dataframe\">\n",
       "  <thead>\n",
       "    <tr style=\"text-align: right;\">\n",
       "      <th></th>\n",
       "      <th>date</th>\n",
       "      <th>global_cases</th>\n",
       "      <th>report_url</th>\n",
       "    </tr>\n",
       "  </thead>\n",
       "  <tbody>\n",
       "    <tr>\n",
       "      <th>0</th>\n",
       "      <td>2020-01-27</td>\n",
       "      <td>2798</td>\n",
       "      <td>https://www.who.int/docs/default-source/corona...</td>\n",
       "    </tr>\n",
       "    <tr>\n",
       "      <th>1</th>\n",
       "      <td>2020-01-28</td>\n",
       "      <td>4593</td>\n",
       "      <td>https://www.who.int/docs/default-source/corona...</td>\n",
       "    </tr>\n",
       "    <tr>\n",
       "      <th>2</th>\n",
       "      <td>2020-01-29</td>\n",
       "      <td>6065</td>\n",
       "      <td>https://www.who.int/docs/default-source/corona...</td>\n",
       "    </tr>\n",
       "    <tr>\n",
       "      <th>3</th>\n",
       "      <td>2020-01-30</td>\n",
       "      <td>7818</td>\n",
       "      <td>https://www.who.int/docs/default-source/corona...</td>\n",
       "    </tr>\n",
       "    <tr>\n",
       "      <th>4</th>\n",
       "      <td>2020-01-31</td>\n",
       "      <td>9826</td>\n",
       "      <td>https://www.who.int/docs/default-source/corona...</td>\n",
       "    </tr>\n",
       "    <tr>\n",
       "      <th>...</th>\n",
       "      <td>...</td>\n",
       "      <td>...</td>\n",
       "      <td>...</td>\n",
       "    </tr>\n",
       "    <tr>\n",
       "      <th>57</th>\n",
       "      <td>2020-03-20</td>\n",
       "      <td>266073</td>\n",
       "      <td>https://www.who.int/docs/default-source/corona...</td>\n",
       "    </tr>\n",
       "    <tr>\n",
       "      <th>58</th>\n",
       "      <td>2020-03-21</td>\n",
       "      <td>292142</td>\n",
       "      <td>https://www.who.int/docs/default-source/corona...</td>\n",
       "    </tr>\n",
       "    <tr>\n",
       "      <th>59</th>\n",
       "      <td>2020-03-23</td>\n",
       "      <td>332930</td>\n",
       "      <td>https://www.who.int/docs/default-source/corona...</td>\n",
       "    </tr>\n",
       "    <tr>\n",
       "      <th>60</th>\n",
       "      <td>2020-03-24</td>\n",
       "      <td>372757</td>\n",
       "      <td>https://www.who.int/docs/default-source/corona...</td>\n",
       "    </tr>\n",
       "    <tr>\n",
       "      <th>61</th>\n",
       "      <td>2020-03-25</td>\n",
       "      <td>414179</td>\n",
       "      <td>https://www.who.int/docs/default-source/corona...</td>\n",
       "    </tr>\n",
       "  </tbody>\n",
       "</table>\n",
       "<p>62 rows × 3 columns</p>\n",
       "</div>"
      ],
      "text/plain": [
       "          date  global_cases  \\\n",
       "0   2020-01-27          2798   \n",
       "1   2020-01-28          4593   \n",
       "2   2020-01-29          6065   \n",
       "3   2020-01-30          7818   \n",
       "4   2020-01-31          9826   \n",
       "..         ...           ...   \n",
       "57  2020-03-20        266073   \n",
       "58  2020-03-21        292142   \n",
       "59  2020-03-23        332930   \n",
       "60  2020-03-24        372757   \n",
       "61  2020-03-25        414179   \n",
       "\n",
       "                                           report_url  \n",
       "0   https://www.who.int/docs/default-source/corona...  \n",
       "1   https://www.who.int/docs/default-source/corona...  \n",
       "2   https://www.who.int/docs/default-source/corona...  \n",
       "3   https://www.who.int/docs/default-source/corona...  \n",
       "4   https://www.who.int/docs/default-source/corona...  \n",
       "..                                                ...  \n",
       "57  https://www.who.int/docs/default-source/corona...  \n",
       "58  https://www.who.int/docs/default-source/corona...  \n",
       "59  https://www.who.int/docs/default-source/corona...  \n",
       "60  https://www.who.int/docs/default-source/corona...  \n",
       "61  https://www.who.int/docs/default-source/corona...  \n",
       "\n",
       "[62 rows x 3 columns]"
      ]
     },
     "execution_count": 9,
     "metadata": {},
     "output_type": "execute_result"
    }
   ],
   "source": [
    "df"
   ]
  },
  {
   "cell_type": "markdown",
   "metadata": {},
   "source": [
    "### Plot graph and save to files"
   ]
  },
  {
   "cell_type": "code",
   "execution_count": 10,
   "metadata": {},
   "outputs": [],
   "source": [
    "import seaborn as sns\n",
    "from pathlib import Path"
   ]
  },
  {
   "cell_type": "code",
   "execution_count": 11,
   "metadata": {},
   "outputs": [],
   "source": [
    "df.sort_values(by=['date'], inplace=True)"
   ]
  },
  {
   "cell_type": "code",
   "execution_count": 12,
   "metadata": {},
   "outputs": [
    {
     "data": {
      "image/png": "[encoded data removed]",
      "text/plain": [
       "<Figure size 1152x612 with 1 Axes>"
      ]
     },
     "metadata": {},
     "output_type": "display_data"
    }
   ],
   "source": [
    "sns.set(rc={'figure.figsize':(16,8.5)})\n",
    "sns.set(style=\"whitegrid\")\n",
    "\n",
    "\n",
    "bar_chart = sns.barplot(x='date', y='global_cases', color='dodgerblue', data=df)\n",
    "bar_chart.tick_params(axis='x', labelrotation=70)\n"
   ]
  },
  {
   "cell_type": "code",
   "execution_count": 13,
   "metadata": {},
   "outputs": [],
   "source": [
    "bar_chart_fig = bar_chart.get_figure()\n"
   ]
  },
  {
   "cell_type": "code",
   "execution_count": 14,
   "metadata": {},
   "outputs": [],
   "source": [
    "df.to_csv(csv_file, index=False)\n",
    "bar_chart_fig.savefig(png_file)\n"
   ]
  },
  {
   "cell_type": "code",
   "execution_count": null,
   "metadata": {},
   "outputs": [],
   "source": []
  }
 ],
 "metadata": {
  "kernelspec": {
   "display_name": "Python 3",
   "language": "python",
   "name": "python3"
  },
  "language_info": {
   "codemirror_mode": {
    "name": "ipython",
    "version": 3
   },
   "file_extension": ".py",
   "mimetype": "text/x-python",
   "name": "python",
   "nbconvert_exporter": "python",
   "pygments_lexer": "ipython3",
   "version": "3.7.6"
  }
 },
 "nbformat": 4,
 "nbformat_minor": 2
}
